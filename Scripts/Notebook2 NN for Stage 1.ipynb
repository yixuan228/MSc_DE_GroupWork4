{
 "cells": [
  {
   "cell_type": "markdown",
   "metadata": {},
   "source": [
    "# Notebook2: Predicting CO2 emissions using Neural Networks"
   ]
  },
  {
   "cell_type": "markdown",
   "metadata": {},
   "source": [
    "Readme: In this notebook, NN models are constructed for CO2 Emission prediction, and the best model is selected and K-means validation is applied.\n",
    "\n",
    "- **Notebook content**:\n",
    "    - Design the architecture of NN and explore different model configuration\n",
    "\n",
    "    - Tune hyperparameters and select the best model\n",
    "\n",
    "- **Notebook Output**:\n",
    "\n",
    "    - Best model file\n",
    "\n",
    "    - The validation and test results of the best model"
   ]
  },
  {
   "cell_type": "code",
   "execution_count": 69,
   "metadata": {},
   "outputs": [],
   "source": [
    "# %pip install \"numpy<2\" torch torchvision scikit-learn\n",
    "# %pip install wandb"
   ]
  },
  {
   "cell_type": "code",
   "execution_count": 70,
   "metadata": {},
   "outputs": [
    {
     "name": "stdout",
     "output_type": "stream",
     "text": [
      "cuda\n"
     ]
    }
   ],
   "source": [
    "# Import libraries\n",
    "import numpy as np\n",
    "import pandas as pd\n",
    "import matplotlib.pyplot as plt\n",
    "import torch\n",
    "\n",
    "# Set device\n",
    "device = torch.device('cuda' if torch.cuda.is_available() else 'cpu')\n",
    "print(device)"
   ]
  },
  {
   "cell_type": "markdown",
   "metadata": {},
   "source": [
    "## 1 Define Functions"
   ]
  },
  {
   "cell_type": "code",
   "execution_count": 71,
   "metadata": {},
   "outputs": [],
   "source": [
    "# Define functions\n",
    "import seaborn as sns\n",
    "import torch\n",
    "\n",
    "# 1 plot related functions----------------\n",
    "# plot predict and true values on validation dataset\n",
    "def plot_pred_true(y_test, y_pred, ax):\n",
    "\n",
    "    data = pd.DataFrame({'y_obs': y_test, 'y_pred': y_pred})\n",
    "\n",
    "    # plt.figure(figsize=(5, 5))\n",
    "    sns.scatterplot(data=data, x='y_obs', y='y_pred', s=10, ax=ax)\n",
    "    ax.plot(y_test, y_test, color='red', label='y=x')          # plot the line y=x\n",
    "    ax.set_title('Observed vs Predicted values in Test Dataset')   # title\n",
    "    ax.set_xlabel('Observed values')       # label for the x-axis\n",
    "    ax.set_ylabel('Predicted values')      # label for the y-axis\n",
    "    ax.legend()\n",
    "    ax.grid(True)\n",
    "\n",
    "# plot the loss value on training and validation dataset\n",
    "def plot_train_val_loss(train_loss, val_loss, ax):\n",
    "    \n",
    "    # ax.figure(figsize=(5, 5))\n",
    "\n",
    "    ax.plot(train_loss, label='train loss')\n",
    "    ax.plot(val_loss, label='val loss')\n",
    "    ax.set_title('Train vs Validation Loss')\n",
    "    ax.set_xlabel('Epoch')\n",
    "    ax.set_ylabel('Loss')\n",
    "    ax.legend()\n",
    "    ax.grid(True)\n",
    "\n",
    "# 2 Other functions---------------------\n",
    "# get the prediction and true values\n",
    "def model_prediction(model, val_loader, device):\n",
    "\n",
    "    model.eval()\n",
    "    pred = []\n",
    "    target = []\n",
    "\n",
    "    with torch.no_grad():\n",
    "        for X, y in val_loader:\n",
    "            X, y = X.to(device), y.to(device)\n",
    "\n",
    "            y_pred = model(X)      # predicted value\n",
    "\n",
    "            pred.extend(y_pred.cpu().numpy())\n",
    "            target.extend(y.cpu().numpy())\n",
    "\n",
    "    # Merge all the predictions and targets\n",
    "    predictions = np.concatenate(pred, axis=0)\n",
    "    labels = np.concatenate(target, axis=0)\n",
    "    return predictions, labels"
   ]
  },
  {
   "cell_type": "markdown",
   "metadata": {},
   "source": [
    "## 2 Data Preparation"
   ]
  },
  {
   "cell_type": "code",
   "execution_count": 72,
   "metadata": {},
   "outputs": [],
   "source": [
    "import numpy as np\n",
    "import pandas as pd\n",
    "from sklearn.pipeline import Pipeline\n",
    "from sklearn.compose import ColumnTransformer\n",
    "from sklearn.preprocessing import StandardScaler, OneHotEncoder\n",
    "from sklearn.impute import SimpleImputer\n",
    "from sklearn.model_selection import train_test_split"
   ]
  },
  {
   "cell_type": "markdown",
   "metadata": {},
   "source": [
    "### Load and Divide Traning and Testing Data"
   ]
  },
  {
   "cell_type": "markdown",
   "metadata": {},
   "source": [
    "Load the test and train dataset"
   ]
  },
  {
   "cell_type": "code",
   "execution_count": null,
   "metadata": {},
   "outputs": [],
   "source": [
    "# Import data\n",
    "trainset_df = pd.read_csv('Dataset1_train.csv')\n",
    "testset_df = pd.read_csv('Dataset1_test.csv')\n"
   ]
  },
  {
   "cell_type": "code",
   "execution_count": 74,
   "metadata": {},
   "outputs": [
    {
     "data": {
      "text/html": [
       "<div>\n",
       "<style scoped>\n",
       "    .dataframe tbody tr th:only-of-type {\n",
       "        vertical-align: middle;\n",
       "    }\n",
       "\n",
       "    .dataframe tbody tr th {\n",
       "        vertical-align: top;\n",
       "    }\n",
       "\n",
       "    .dataframe thead th {\n",
       "        text-align: right;\n",
       "    }\n",
       "</style>\n",
       "<table border=\"1\" class=\"dataframe\">\n",
       "  <thead>\n",
       "    <tr style=\"text-align: right;\">\n",
       "      <th></th>\n",
       "      <th>Engine Size(L)</th>\n",
       "      <th>Cylinders</th>\n",
       "      <th>Gearbox_Type</th>\n",
       "      <th>Gearbox_Number</th>\n",
       "      <th>Fuel Consumption City (L/100 km)</th>\n",
       "      <th>Fuel Consumption Hwy (L/100 km)</th>\n",
       "      <th>Fuel Consumption Comb (L/100 km)</th>\n",
       "      <th>Fuel Consumption Comb (mpg)</th>\n",
       "      <th>Model Features_Flexible-fuel vehicle</th>\n",
       "      <th>Model Features_Four-wheel drive</th>\n",
       "      <th>...</th>\n",
       "      <th>Vehicle Class_SUV - SMALL</th>\n",
       "      <th>Vehicle Class_SUV - STANDARD</th>\n",
       "      <th>Vehicle Class_TWO-SEATER</th>\n",
       "      <th>Vehicle Class_VAN - CARGO</th>\n",
       "      <th>Vehicle Class_VAN - PASSENGER</th>\n",
       "      <th>Fuel Type_E</th>\n",
       "      <th>Fuel Type_X</th>\n",
       "      <th>Fuel Type_Z</th>\n",
       "      <th>Make</th>\n",
       "      <th>CO2 Emissions(g/km)</th>\n",
       "    </tr>\n",
       "  </thead>\n",
       "  <tbody>\n",
       "    <tr>\n",
       "      <th>0</th>\n",
       "      <td>4.0</td>\n",
       "      <td>6</td>\n",
       "      <td>1</td>\n",
       "      <td>5.000000</td>\n",
       "      <td>14.7</td>\n",
       "      <td>10.3</td>\n",
       "      <td>12.7</td>\n",
       "      <td>22</td>\n",
       "      <td>0</td>\n",
       "      <td>0</td>\n",
       "      <td>...</td>\n",
       "      <td>0</td>\n",
       "      <td>0</td>\n",
       "      <td>0</td>\n",
       "      <td>0</td>\n",
       "      <td>0</td>\n",
       "      <td>0</td>\n",
       "      <td>1</td>\n",
       "      <td>0</td>\n",
       "      <td>NISSAN</td>\n",
       "      <td>299</td>\n",
       "    </tr>\n",
       "    <tr>\n",
       "      <th>1</th>\n",
       "      <td>2.4</td>\n",
       "      <td>4</td>\n",
       "      <td>1</td>\n",
       "      <td>6.000000</td>\n",
       "      <td>9.8</td>\n",
       "      <td>6.7</td>\n",
       "      <td>8.4</td>\n",
       "      <td>34</td>\n",
       "      <td>0</td>\n",
       "      <td>0</td>\n",
       "      <td>...</td>\n",
       "      <td>0</td>\n",
       "      <td>0</td>\n",
       "      <td>0</td>\n",
       "      <td>0</td>\n",
       "      <td>0</td>\n",
       "      <td>0</td>\n",
       "      <td>1</td>\n",
       "      <td>0</td>\n",
       "      <td>HYUNDAI</td>\n",
       "      <td>193</td>\n",
       "    </tr>\n",
       "    <tr>\n",
       "      <th>2</th>\n",
       "      <td>2.0</td>\n",
       "      <td>4</td>\n",
       "      <td>1</td>\n",
       "      <td>8.000000</td>\n",
       "      <td>11.3</td>\n",
       "      <td>7.1</td>\n",
       "      <td>9.4</td>\n",
       "      <td>30</td>\n",
       "      <td>0</td>\n",
       "      <td>0</td>\n",
       "      <td>...</td>\n",
       "      <td>0</td>\n",
       "      <td>0</td>\n",
       "      <td>0</td>\n",
       "      <td>0</td>\n",
       "      <td>0</td>\n",
       "      <td>0</td>\n",
       "      <td>0</td>\n",
       "      <td>1</td>\n",
       "      <td>BMW</td>\n",
       "      <td>221</td>\n",
       "    </tr>\n",
       "    <tr>\n",
       "      <th>3</th>\n",
       "      <td>2.5</td>\n",
       "      <td>4</td>\n",
       "      <td>1</td>\n",
       "      <td>6.000000</td>\n",
       "      <td>10.1</td>\n",
       "      <td>7.7</td>\n",
       "      <td>9.0</td>\n",
       "      <td>31</td>\n",
       "      <td>0</td>\n",
       "      <td>0</td>\n",
       "      <td>...</td>\n",
       "      <td>1</td>\n",
       "      <td>0</td>\n",
       "      <td>0</td>\n",
       "      <td>0</td>\n",
       "      <td>0</td>\n",
       "      <td>0</td>\n",
       "      <td>1</td>\n",
       "      <td>0</td>\n",
       "      <td>TOYOTA</td>\n",
       "      <td>212</td>\n",
       "    </tr>\n",
       "    <tr>\n",
       "      <th>4</th>\n",
       "      <td>5.0</td>\n",
       "      <td>8</td>\n",
       "      <td>1</td>\n",
       "      <td>8.000000</td>\n",
       "      <td>15.8</td>\n",
       "      <td>10.3</td>\n",
       "      <td>13.3</td>\n",
       "      <td>21</td>\n",
       "      <td>0</td>\n",
       "      <td>0</td>\n",
       "      <td>...</td>\n",
       "      <td>0</td>\n",
       "      <td>0</td>\n",
       "      <td>0</td>\n",
       "      <td>0</td>\n",
       "      <td>0</td>\n",
       "      <td>0</td>\n",
       "      <td>0</td>\n",
       "      <td>1</td>\n",
       "      <td>JAGUAR</td>\n",
       "      <td>313</td>\n",
       "    </tr>\n",
       "    <tr>\n",
       "      <th>...</th>\n",
       "      <td>...</td>\n",
       "      <td>...</td>\n",
       "      <td>...</td>\n",
       "      <td>...</td>\n",
       "      <td>...</td>\n",
       "      <td>...</td>\n",
       "      <td>...</td>\n",
       "      <td>...</td>\n",
       "      <td>...</td>\n",
       "      <td>...</td>\n",
       "      <td>...</td>\n",
       "      <td>...</td>\n",
       "      <td>...</td>\n",
       "      <td>...</td>\n",
       "      <td>...</td>\n",
       "      <td>...</td>\n",
       "      <td>...</td>\n",
       "      <td>...</td>\n",
       "      <td>...</td>\n",
       "      <td>...</td>\n",
       "      <td>...</td>\n",
       "    </tr>\n",
       "    <tr>\n",
       "      <th>5902</th>\n",
       "      <td>2.0</td>\n",
       "      <td>4</td>\n",
       "      <td>1</td>\n",
       "      <td>6.000000</td>\n",
       "      <td>9.3</td>\n",
       "      <td>7.3</td>\n",
       "      <td>8.4</td>\n",
       "      <td>34</td>\n",
       "      <td>0</td>\n",
       "      <td>0</td>\n",
       "      <td>...</td>\n",
       "      <td>0</td>\n",
       "      <td>0</td>\n",
       "      <td>0</td>\n",
       "      <td>0</td>\n",
       "      <td>0</td>\n",
       "      <td>0</td>\n",
       "      <td>0</td>\n",
       "      <td>1</td>\n",
       "      <td>MINI</td>\n",
       "      <td>197</td>\n",
       "    </tr>\n",
       "    <tr>\n",
       "      <th>5903</th>\n",
       "      <td>5.6</td>\n",
       "      <td>8</td>\n",
       "      <td>1</td>\n",
       "      <td>7.000000</td>\n",
       "      <td>17.5</td>\n",
       "      <td>12.8</td>\n",
       "      <td>15.4</td>\n",
       "      <td>18</td>\n",
       "      <td>0</td>\n",
       "      <td>1</td>\n",
       "      <td>...</td>\n",
       "      <td>0</td>\n",
       "      <td>1</td>\n",
       "      <td>0</td>\n",
       "      <td>0</td>\n",
       "      <td>0</td>\n",
       "      <td>0</td>\n",
       "      <td>1</td>\n",
       "      <td>0</td>\n",
       "      <td>NISSAN</td>\n",
       "      <td>362</td>\n",
       "    </tr>\n",
       "    <tr>\n",
       "      <th>5904</th>\n",
       "      <td>3.5</td>\n",
       "      <td>6</td>\n",
       "      <td>1</td>\n",
       "      <td>6.000000</td>\n",
       "      <td>8.1</td>\n",
       "      <td>8.5</td>\n",
       "      <td>8.3</td>\n",
       "      <td>34</td>\n",
       "      <td>0</td>\n",
       "      <td>0</td>\n",
       "      <td>...</td>\n",
       "      <td>0</td>\n",
       "      <td>1</td>\n",
       "      <td>0</td>\n",
       "      <td>0</td>\n",
       "      <td>0</td>\n",
       "      <td>0</td>\n",
       "      <td>1</td>\n",
       "      <td>0</td>\n",
       "      <td>TOYOTA</td>\n",
       "      <td>193</td>\n",
       "    </tr>\n",
       "    <tr>\n",
       "      <th>5905</th>\n",
       "      <td>2.5</td>\n",
       "      <td>4</td>\n",
       "      <td>1</td>\n",
       "      <td>6.854093</td>\n",
       "      <td>9.5</td>\n",
       "      <td>7.4</td>\n",
       "      <td>8.6</td>\n",
       "      <td>33</td>\n",
       "      <td>0</td>\n",
       "      <td>0</td>\n",
       "      <td>...</td>\n",
       "      <td>1</td>\n",
       "      <td>0</td>\n",
       "      <td>0</td>\n",
       "      <td>0</td>\n",
       "      <td>0</td>\n",
       "      <td>0</td>\n",
       "      <td>1</td>\n",
       "      <td>0</td>\n",
       "      <td>NISSAN</td>\n",
       "      <td>198</td>\n",
       "    </tr>\n",
       "    <tr>\n",
       "      <th>5906</th>\n",
       "      <td>3.0</td>\n",
       "      <td>6</td>\n",
       "      <td>1</td>\n",
       "      <td>8.000000</td>\n",
       "      <td>10.5</td>\n",
       "      <td>7.3</td>\n",
       "      <td>9.0</td>\n",
       "      <td>31</td>\n",
       "      <td>0</td>\n",
       "      <td>0</td>\n",
       "      <td>...</td>\n",
       "      <td>0</td>\n",
       "      <td>0</td>\n",
       "      <td>0</td>\n",
       "      <td>0</td>\n",
       "      <td>0</td>\n",
       "      <td>0</td>\n",
       "      <td>0</td>\n",
       "      <td>0</td>\n",
       "      <td>RAM</td>\n",
       "      <td>243</td>\n",
       "    </tr>\n",
       "  </tbody>\n",
       "</table>\n",
       "<p>5907 rows × 32 columns</p>\n",
       "</div>"
      ],
      "text/plain": [
       "      Engine Size(L)  Cylinders  Gearbox_Type  Gearbox_Number  \\\n",
       "0                4.0          6             1        5.000000   \n",
       "1                2.4          4             1        6.000000   \n",
       "2                2.0          4             1        8.000000   \n",
       "3                2.5          4             1        6.000000   \n",
       "4                5.0          8             1        8.000000   \n",
       "...              ...        ...           ...             ...   \n",
       "5902             2.0          4             1        6.000000   \n",
       "5903             5.6          8             1        7.000000   \n",
       "5904             3.5          6             1        6.000000   \n",
       "5905             2.5          4             1        6.854093   \n",
       "5906             3.0          6             1        8.000000   \n",
       "\n",
       "      Fuel Consumption City (L/100 km)  Fuel Consumption Hwy (L/100 km)  \\\n",
       "0                                 14.7                             10.3   \n",
       "1                                  9.8                              6.7   \n",
       "2                                 11.3                              7.1   \n",
       "3                                 10.1                              7.7   \n",
       "4                                 15.8                             10.3   \n",
       "...                                ...                              ...   \n",
       "5902                               9.3                              7.3   \n",
       "5903                              17.5                             12.8   \n",
       "5904                               8.1                              8.5   \n",
       "5905                               9.5                              7.4   \n",
       "5906                              10.5                              7.3   \n",
       "\n",
       "      Fuel Consumption Comb (L/100 km)  Fuel Consumption Comb (mpg)  \\\n",
       "0                                 12.7                           22   \n",
       "1                                  8.4                           34   \n",
       "2                                  9.4                           30   \n",
       "3                                  9.0                           31   \n",
       "4                                 13.3                           21   \n",
       "...                                ...                          ...   \n",
       "5902                               8.4                           34   \n",
       "5903                              15.4                           18   \n",
       "5904                               8.3                           34   \n",
       "5905                               8.6                           33   \n",
       "5906                               9.0                           31   \n",
       "\n",
       "      Model Features_Flexible-fuel vehicle  Model Features_Four-wheel drive  \\\n",
       "0                                        0                                0   \n",
       "1                                        0                                0   \n",
       "2                                        0                                0   \n",
       "3                                        0                                0   \n",
       "4                                        0                                0   \n",
       "...                                    ...                              ...   \n",
       "5902                                     0                                0   \n",
       "5903                                     0                                1   \n",
       "5904                                     0                                0   \n",
       "5905                                     0                                0   \n",
       "5906                                     0                                0   \n",
       "\n",
       "      ...  Vehicle Class_SUV - SMALL  Vehicle Class_SUV - STANDARD  \\\n",
       "0     ...                          0                             0   \n",
       "1     ...                          0                             0   \n",
       "2     ...                          0                             0   \n",
       "3     ...                          1                             0   \n",
       "4     ...                          0                             0   \n",
       "...   ...                        ...                           ...   \n",
       "5902  ...                          0                             0   \n",
       "5903  ...                          0                             1   \n",
       "5904  ...                          0                             1   \n",
       "5905  ...                          1                             0   \n",
       "5906  ...                          0                             0   \n",
       "\n",
       "      Vehicle Class_TWO-SEATER  Vehicle Class_VAN - CARGO  \\\n",
       "0                            0                          0   \n",
       "1                            0                          0   \n",
       "2                            0                          0   \n",
       "3                            0                          0   \n",
       "4                            0                          0   \n",
       "...                        ...                        ...   \n",
       "5902                         0                          0   \n",
       "5903                         0                          0   \n",
       "5904                         0                          0   \n",
       "5905                         0                          0   \n",
       "5906                         0                          0   \n",
       "\n",
       "      Vehicle Class_VAN - PASSENGER  Fuel Type_E  Fuel Type_X  Fuel Type_Z  \\\n",
       "0                                 0            0            1            0   \n",
       "1                                 0            0            1            0   \n",
       "2                                 0            0            0            1   \n",
       "3                                 0            0            1            0   \n",
       "4                                 0            0            0            1   \n",
       "...                             ...          ...          ...          ...   \n",
       "5902                              0            0            0            1   \n",
       "5903                              0            0            1            0   \n",
       "5904                              0            0            1            0   \n",
       "5905                              0            0            1            0   \n",
       "5906                              0            0            0            0   \n",
       "\n",
       "         Make  CO2 Emissions(g/km)  \n",
       "0      NISSAN                  299  \n",
       "1     HYUNDAI                  193  \n",
       "2         BMW                  221  \n",
       "3      TOYOTA                  212  \n",
       "4      JAGUAR                  313  \n",
       "...       ...                  ...  \n",
       "5902     MINI                  197  \n",
       "5903   NISSAN                  362  \n",
       "5904   TOYOTA                  193  \n",
       "5905   NISSAN                  198  \n",
       "5906      RAM                  243  \n",
       "\n",
       "[5907 rows x 32 columns]"
      ]
     },
     "execution_count": 74,
     "metadata": {},
     "output_type": "execute_result"
    }
   ],
   "source": [
    "trainset_df"
   ]
  },
  {
   "cell_type": "code",
   "execution_count": 75,
   "metadata": {},
   "outputs": [],
   "source": [
    "X_train = trainset_df.drop(columns=['CO2 Emissions(g/km)', 'Make'])\n",
    "y_train = trainset_df['CO2 Emissions(g/km)']\n",
    "\n",
    "X_test = testset_df.drop(columns=['CO2 Emissions(g/km)', 'Make'])\n",
    "y_test = testset_df['CO2 Emissions(g/km)']"
   ]
  },
  {
   "cell_type": "code",
   "execution_count": 94,
   "metadata": {},
   "outputs": [
    {
     "data": {
      "text/html": [
       "<div>\n",
       "<style scoped>\n",
       "    .dataframe tbody tr th:only-of-type {\n",
       "        vertical-align: middle;\n",
       "    }\n",
       "\n",
       "    .dataframe tbody tr th {\n",
       "        vertical-align: top;\n",
       "    }\n",
       "\n",
       "    .dataframe thead th {\n",
       "        text-align: right;\n",
       "    }\n",
       "</style>\n",
       "<table border=\"1\" class=\"dataframe\">\n",
       "  <thead>\n",
       "    <tr style=\"text-align: right;\">\n",
       "      <th></th>\n",
       "      <th>Engine Size(L)</th>\n",
       "      <th>Cylinders</th>\n",
       "      <th>Gearbox_Type</th>\n",
       "      <th>Gearbox_Number</th>\n",
       "      <th>Fuel Consumption City (L/100 km)</th>\n",
       "      <th>Fuel Consumption Hwy (L/100 km)</th>\n",
       "      <th>Fuel Consumption Comb (L/100 km)</th>\n",
       "      <th>Fuel Consumption Comb (mpg)</th>\n",
       "      <th>Model Features_Flexible-fuel vehicle</th>\n",
       "      <th>Model Features_Four-wheel drive</th>\n",
       "      <th>...</th>\n",
       "      <th>Vehicle Class_STATION WAGON - SMALL</th>\n",
       "      <th>Vehicle Class_SUBCOMPACT</th>\n",
       "      <th>Vehicle Class_SUV - SMALL</th>\n",
       "      <th>Vehicle Class_SUV - STANDARD</th>\n",
       "      <th>Vehicle Class_TWO-SEATER</th>\n",
       "      <th>Vehicle Class_VAN - CARGO</th>\n",
       "      <th>Vehicle Class_VAN - PASSENGER</th>\n",
       "      <th>Fuel Type_E</th>\n",
       "      <th>Fuel Type_X</th>\n",
       "      <th>Fuel Type_Z</th>\n",
       "    </tr>\n",
       "  </thead>\n",
       "  <tbody>\n",
       "    <tr>\n",
       "      <th>0</th>\n",
       "      <td>4.0</td>\n",
       "      <td>6</td>\n",
       "      <td>1</td>\n",
       "      <td>5.000000</td>\n",
       "      <td>14.7</td>\n",
       "      <td>10.3</td>\n",
       "      <td>12.7</td>\n",
       "      <td>22</td>\n",
       "      <td>0</td>\n",
       "      <td>0</td>\n",
       "      <td>...</td>\n",
       "      <td>0</td>\n",
       "      <td>0</td>\n",
       "      <td>0</td>\n",
       "      <td>0</td>\n",
       "      <td>0</td>\n",
       "      <td>0</td>\n",
       "      <td>0</td>\n",
       "      <td>0</td>\n",
       "      <td>1</td>\n",
       "      <td>0</td>\n",
       "    </tr>\n",
       "    <tr>\n",
       "      <th>1</th>\n",
       "      <td>2.4</td>\n",
       "      <td>4</td>\n",
       "      <td>1</td>\n",
       "      <td>6.000000</td>\n",
       "      <td>9.8</td>\n",
       "      <td>6.7</td>\n",
       "      <td>8.4</td>\n",
       "      <td>34</td>\n",
       "      <td>0</td>\n",
       "      <td>0</td>\n",
       "      <td>...</td>\n",
       "      <td>0</td>\n",
       "      <td>0</td>\n",
       "      <td>0</td>\n",
       "      <td>0</td>\n",
       "      <td>0</td>\n",
       "      <td>0</td>\n",
       "      <td>0</td>\n",
       "      <td>0</td>\n",
       "      <td>1</td>\n",
       "      <td>0</td>\n",
       "    </tr>\n",
       "    <tr>\n",
       "      <th>2</th>\n",
       "      <td>2.0</td>\n",
       "      <td>4</td>\n",
       "      <td>1</td>\n",
       "      <td>8.000000</td>\n",
       "      <td>11.3</td>\n",
       "      <td>7.1</td>\n",
       "      <td>9.4</td>\n",
       "      <td>30</td>\n",
       "      <td>0</td>\n",
       "      <td>0</td>\n",
       "      <td>...</td>\n",
       "      <td>0</td>\n",
       "      <td>1</td>\n",
       "      <td>0</td>\n",
       "      <td>0</td>\n",
       "      <td>0</td>\n",
       "      <td>0</td>\n",
       "      <td>0</td>\n",
       "      <td>0</td>\n",
       "      <td>0</td>\n",
       "      <td>1</td>\n",
       "    </tr>\n",
       "    <tr>\n",
       "      <th>3</th>\n",
       "      <td>2.5</td>\n",
       "      <td>4</td>\n",
       "      <td>1</td>\n",
       "      <td>6.000000</td>\n",
       "      <td>10.1</td>\n",
       "      <td>7.7</td>\n",
       "      <td>9.0</td>\n",
       "      <td>31</td>\n",
       "      <td>0</td>\n",
       "      <td>0</td>\n",
       "      <td>...</td>\n",
       "      <td>0</td>\n",
       "      <td>0</td>\n",
       "      <td>1</td>\n",
       "      <td>0</td>\n",
       "      <td>0</td>\n",
       "      <td>0</td>\n",
       "      <td>0</td>\n",
       "      <td>0</td>\n",
       "      <td>1</td>\n",
       "      <td>0</td>\n",
       "    </tr>\n",
       "    <tr>\n",
       "      <th>4</th>\n",
       "      <td>5.0</td>\n",
       "      <td>8</td>\n",
       "      <td>1</td>\n",
       "      <td>8.000000</td>\n",
       "      <td>15.8</td>\n",
       "      <td>10.3</td>\n",
       "      <td>13.3</td>\n",
       "      <td>21</td>\n",
       "      <td>0</td>\n",
       "      <td>0</td>\n",
       "      <td>...</td>\n",
       "      <td>0</td>\n",
       "      <td>0</td>\n",
       "      <td>0</td>\n",
       "      <td>0</td>\n",
       "      <td>0</td>\n",
       "      <td>0</td>\n",
       "      <td>0</td>\n",
       "      <td>0</td>\n",
       "      <td>0</td>\n",
       "      <td>1</td>\n",
       "    </tr>\n",
       "    <tr>\n",
       "      <th>...</th>\n",
       "      <td>...</td>\n",
       "      <td>...</td>\n",
       "      <td>...</td>\n",
       "      <td>...</td>\n",
       "      <td>...</td>\n",
       "      <td>...</td>\n",
       "      <td>...</td>\n",
       "      <td>...</td>\n",
       "      <td>...</td>\n",
       "      <td>...</td>\n",
       "      <td>...</td>\n",
       "      <td>...</td>\n",
       "      <td>...</td>\n",
       "      <td>...</td>\n",
       "      <td>...</td>\n",
       "      <td>...</td>\n",
       "      <td>...</td>\n",
       "      <td>...</td>\n",
       "      <td>...</td>\n",
       "      <td>...</td>\n",
       "      <td>...</td>\n",
       "    </tr>\n",
       "    <tr>\n",
       "      <th>5902</th>\n",
       "      <td>2.0</td>\n",
       "      <td>4</td>\n",
       "      <td>1</td>\n",
       "      <td>6.000000</td>\n",
       "      <td>9.3</td>\n",
       "      <td>7.3</td>\n",
       "      <td>8.4</td>\n",
       "      <td>34</td>\n",
       "      <td>0</td>\n",
       "      <td>0</td>\n",
       "      <td>...</td>\n",
       "      <td>0</td>\n",
       "      <td>1</td>\n",
       "      <td>0</td>\n",
       "      <td>0</td>\n",
       "      <td>0</td>\n",
       "      <td>0</td>\n",
       "      <td>0</td>\n",
       "      <td>0</td>\n",
       "      <td>0</td>\n",
       "      <td>1</td>\n",
       "    </tr>\n",
       "    <tr>\n",
       "      <th>5903</th>\n",
       "      <td>5.6</td>\n",
       "      <td>8</td>\n",
       "      <td>1</td>\n",
       "      <td>7.000000</td>\n",
       "      <td>17.5</td>\n",
       "      <td>12.8</td>\n",
       "      <td>15.4</td>\n",
       "      <td>18</td>\n",
       "      <td>0</td>\n",
       "      <td>1</td>\n",
       "      <td>...</td>\n",
       "      <td>0</td>\n",
       "      <td>0</td>\n",
       "      <td>0</td>\n",
       "      <td>1</td>\n",
       "      <td>0</td>\n",
       "      <td>0</td>\n",
       "      <td>0</td>\n",
       "      <td>0</td>\n",
       "      <td>1</td>\n",
       "      <td>0</td>\n",
       "    </tr>\n",
       "    <tr>\n",
       "      <th>5904</th>\n",
       "      <td>3.5</td>\n",
       "      <td>6</td>\n",
       "      <td>1</td>\n",
       "      <td>6.000000</td>\n",
       "      <td>8.1</td>\n",
       "      <td>8.5</td>\n",
       "      <td>8.3</td>\n",
       "      <td>34</td>\n",
       "      <td>0</td>\n",
       "      <td>0</td>\n",
       "      <td>...</td>\n",
       "      <td>0</td>\n",
       "      <td>0</td>\n",
       "      <td>0</td>\n",
       "      <td>1</td>\n",
       "      <td>0</td>\n",
       "      <td>0</td>\n",
       "      <td>0</td>\n",
       "      <td>0</td>\n",
       "      <td>1</td>\n",
       "      <td>0</td>\n",
       "    </tr>\n",
       "    <tr>\n",
       "      <th>5905</th>\n",
       "      <td>2.5</td>\n",
       "      <td>4</td>\n",
       "      <td>1</td>\n",
       "      <td>6.854093</td>\n",
       "      <td>9.5</td>\n",
       "      <td>7.4</td>\n",
       "      <td>8.6</td>\n",
       "      <td>33</td>\n",
       "      <td>0</td>\n",
       "      <td>0</td>\n",
       "      <td>...</td>\n",
       "      <td>0</td>\n",
       "      <td>0</td>\n",
       "      <td>1</td>\n",
       "      <td>0</td>\n",
       "      <td>0</td>\n",
       "      <td>0</td>\n",
       "      <td>0</td>\n",
       "      <td>0</td>\n",
       "      <td>1</td>\n",
       "      <td>0</td>\n",
       "    </tr>\n",
       "    <tr>\n",
       "      <th>5906</th>\n",
       "      <td>3.0</td>\n",
       "      <td>6</td>\n",
       "      <td>1</td>\n",
       "      <td>8.000000</td>\n",
       "      <td>10.5</td>\n",
       "      <td>7.3</td>\n",
       "      <td>9.0</td>\n",
       "      <td>31</td>\n",
       "      <td>0</td>\n",
       "      <td>0</td>\n",
       "      <td>...</td>\n",
       "      <td>0</td>\n",
       "      <td>0</td>\n",
       "      <td>0</td>\n",
       "      <td>0</td>\n",
       "      <td>0</td>\n",
       "      <td>0</td>\n",
       "      <td>0</td>\n",
       "      <td>0</td>\n",
       "      <td>0</td>\n",
       "      <td>0</td>\n",
       "    </tr>\n",
       "  </tbody>\n",
       "</table>\n",
       "<p>5907 rows × 30 columns</p>\n",
       "</div>"
      ],
      "text/plain": [
       "      Engine Size(L)  Cylinders  Gearbox_Type  Gearbox_Number  \\\n",
       "0                4.0          6             1        5.000000   \n",
       "1                2.4          4             1        6.000000   \n",
       "2                2.0          4             1        8.000000   \n",
       "3                2.5          4             1        6.000000   \n",
       "4                5.0          8             1        8.000000   \n",
       "...              ...        ...           ...             ...   \n",
       "5902             2.0          4             1        6.000000   \n",
       "5903             5.6          8             1        7.000000   \n",
       "5904             3.5          6             1        6.000000   \n",
       "5905             2.5          4             1        6.854093   \n",
       "5906             3.0          6             1        8.000000   \n",
       "\n",
       "      Fuel Consumption City (L/100 km)  Fuel Consumption Hwy (L/100 km)  \\\n",
       "0                                 14.7                             10.3   \n",
       "1                                  9.8                              6.7   \n",
       "2                                 11.3                              7.1   \n",
       "3                                 10.1                              7.7   \n",
       "4                                 15.8                             10.3   \n",
       "...                                ...                              ...   \n",
       "5902                               9.3                              7.3   \n",
       "5903                              17.5                             12.8   \n",
       "5904                               8.1                              8.5   \n",
       "5905                               9.5                              7.4   \n",
       "5906                              10.5                              7.3   \n",
       "\n",
       "      Fuel Consumption Comb (L/100 km)  Fuel Consumption Comb (mpg)  \\\n",
       "0                                 12.7                           22   \n",
       "1                                  8.4                           34   \n",
       "2                                  9.4                           30   \n",
       "3                                  9.0                           31   \n",
       "4                                 13.3                           21   \n",
       "...                                ...                          ...   \n",
       "5902                               8.4                           34   \n",
       "5903                              15.4                           18   \n",
       "5904                               8.3                           34   \n",
       "5905                               8.6                           33   \n",
       "5906                               9.0                           31   \n",
       "\n",
       "      Model Features_Flexible-fuel vehicle  Model Features_Four-wheel drive  \\\n",
       "0                                        0                                0   \n",
       "1                                        0                                0   \n",
       "2                                        0                                0   \n",
       "3                                        0                                0   \n",
       "4                                        0                                0   \n",
       "...                                    ...                              ...   \n",
       "5902                                     0                                0   \n",
       "5903                                     0                                1   \n",
       "5904                                     0                                0   \n",
       "5905                                     0                                0   \n",
       "5906                                     0                                0   \n",
       "\n",
       "      ...  Vehicle Class_STATION WAGON - SMALL  Vehicle Class_SUBCOMPACT  \\\n",
       "0     ...                                    0                         0   \n",
       "1     ...                                    0                         0   \n",
       "2     ...                                    0                         1   \n",
       "3     ...                                    0                         0   \n",
       "4     ...                                    0                         0   \n",
       "...   ...                                  ...                       ...   \n",
       "5902  ...                                    0                         1   \n",
       "5903  ...                                    0                         0   \n",
       "5904  ...                                    0                         0   \n",
       "5905  ...                                    0                         0   \n",
       "5906  ...                                    0                         0   \n",
       "\n",
       "      Vehicle Class_SUV - SMALL  Vehicle Class_SUV - STANDARD  \\\n",
       "0                             0                             0   \n",
       "1                             0                             0   \n",
       "2                             0                             0   \n",
       "3                             1                             0   \n",
       "4                             0                             0   \n",
       "...                         ...                           ...   \n",
       "5902                          0                             0   \n",
       "5903                          0                             1   \n",
       "5904                          0                             1   \n",
       "5905                          1                             0   \n",
       "5906                          0                             0   \n",
       "\n",
       "      Vehicle Class_TWO-SEATER  Vehicle Class_VAN - CARGO  \\\n",
       "0                            0                          0   \n",
       "1                            0                          0   \n",
       "2                            0                          0   \n",
       "3                            0                          0   \n",
       "4                            0                          0   \n",
       "...                        ...                        ...   \n",
       "5902                         0                          0   \n",
       "5903                         0                          0   \n",
       "5904                         0                          0   \n",
       "5905                         0                          0   \n",
       "5906                         0                          0   \n",
       "\n",
       "      Vehicle Class_VAN - PASSENGER  Fuel Type_E  Fuel Type_X  Fuel Type_Z  \n",
       "0                                 0            0            1            0  \n",
       "1                                 0            0            1            0  \n",
       "2                                 0            0            0            1  \n",
       "3                                 0            0            1            0  \n",
       "4                                 0            0            0            1  \n",
       "...                             ...          ...          ...          ...  \n",
       "5902                              0            0            0            1  \n",
       "5903                              0            0            1            0  \n",
       "5904                              0            0            1            0  \n",
       "5905                              0            0            1            0  \n",
       "5906                              0            0            0            0  \n",
       "\n",
       "[5907 rows x 30 columns]"
      ]
     },
     "execution_count": 94,
     "metadata": {},
     "output_type": "execute_result"
    }
   ],
   "source": [
    "X_train"
   ]
  },
  {
   "cell_type": "markdown",
   "metadata": {},
   "source": [
    "### Setup pipline for Standardisation"
   ]
  },
  {
   "cell_type": "code",
   "execution_count": 77,
   "metadata": {},
   "outputs": [],
   "source": [
    "binary_columns = X_train.columns[X_train.nunique() == 2].tolist()  \n",
    "numerical_columns = [col for col in X_train.columns if col not in binary_columns]\n",
    "\n",
    "# ColumnTransformer\n",
    "preprocessor = ColumnTransformer(\n",
    "    transformers=[\n",
    "        ('num', StandardScaler(), numerical_columns)  # StandardScale\n",
    "    ], \n",
    "    remainder='passthrough'  # keep dummy variable\n",
    ")\n",
    "\n",
    "# Setup pipeline\n",
    "pipeline = Pipeline(steps=[\n",
    "    ('preprocessor', preprocessor)\n",
    "])"
   ]
  },
  {
   "cell_type": "code",
   "execution_count": 78,
   "metadata": {},
   "outputs": [],
   "source": [
    "X_train_processed = pipeline.fit_transform(X_train)\n",
    "X_test_processed = pipeline.transform(X_test)"
   ]
  },
  {
   "cell_type": "markdown",
   "metadata": {},
   "source": [
    "Inspect the processed data"
   ]
  },
  {
   "cell_type": "code",
   "execution_count": 79,
   "metadata": {},
   "outputs": [
    {
     "name": "stdout",
     "output_type": "stream",
     "text": [
      "Processed Train Dataset：\n",
      "   Engine Size(L)  Cylinders  Gearbox_Type  Gearbox_Number  \\\n",
      "0        0.612690   0.200638     -1.602571        0.606404   \n",
      "1       -0.567895  -0.889172     -0.750938       -0.792804   \n",
      "2       -0.863042  -0.889172      0.952329       -0.364475   \n",
      "3       -0.494109  -0.889172     -0.750938       -0.707138   \n",
      "4        1.350555   1.290448      0.952329        0.920512   \n",
      "\n",
      "   Fuel Consumption City (L/100 km)  Fuel Consumption Hwy (L/100 km)  \\\n",
      "0                          0.563352                         0.591736   \n",
      "1                         -1.064801                        -0.897681   \n",
      "2                         -0.883895                        -0.551305   \n",
      "3                         -0.612536                        -0.689855   \n",
      "4                          0.563352                         0.799561   \n",
      "\n",
      "   Fuel Consumption Comb (L/100 km)  Fuel Consumption Comb (mpg)  \\\n",
      "0                         -0.753140                          1.0   \n",
      "1                          0.910169                          1.0   \n",
      "2                          0.355733                          1.0   \n",
      "3                          0.494342                          1.0   \n",
      "4                         -0.891749                          1.0   \n",
      "\n",
      "   Model Features_Flexible-fuel vehicle  Model Features_Four-wheel drive  ...  \\\n",
      "0                                   0.0                              0.0  ...   \n",
      "1                                   0.0                              0.0  ...   \n",
      "2                                   0.0                              0.0  ...   \n",
      "3                                   0.0                              0.0  ...   \n",
      "4                                   0.0                              0.0  ...   \n",
      "\n",
      "   Vehicle Class_STATION WAGON - SMALL  Vehicle Class_SUBCOMPACT  \\\n",
      "0                                  0.0                       0.0   \n",
      "1                                  0.0                       0.0   \n",
      "2                                  0.0                       1.0   \n",
      "3                                  0.0                       0.0   \n",
      "4                                  0.0                       0.0   \n",
      "\n",
      "   Vehicle Class_SUV - SMALL  Vehicle Class_SUV - STANDARD  \\\n",
      "0                        0.0                           0.0   \n",
      "1                        0.0                           0.0   \n",
      "2                        0.0                           0.0   \n",
      "3                        1.0                           0.0   \n",
      "4                        0.0                           0.0   \n",
      "\n",
      "   Vehicle Class_TWO-SEATER  Vehicle Class_VAN - CARGO  \\\n",
      "0                       0.0                        0.0   \n",
      "1                       0.0                        0.0   \n",
      "2                       0.0                        0.0   \n",
      "3                       0.0                        0.0   \n",
      "4                       0.0                        0.0   \n",
      "\n",
      "   Vehicle Class_VAN - PASSENGER  Fuel Type_E  Fuel Type_X  Fuel Type_Z  \n",
      "0                            0.0          0.0          1.0          0.0  \n",
      "1                            0.0          0.0          1.0          0.0  \n",
      "2                            0.0          0.0          0.0          1.0  \n",
      "3                            0.0          0.0          1.0          0.0  \n",
      "4                            0.0          0.0          0.0          1.0  \n",
      "\n",
      "[5 rows x 30 columns]\n",
      "Processed Test Dataset：\n",
      "   Engine Size(L)  Cylinders  Gearbox_Type  Gearbox_Number  \\\n",
      "0        2.235994   1.290448      0.100696        1.605839   \n",
      "1        0.317543   0.200638     -0.750938        0.634960   \n",
      "2        0.760263   1.290448     -0.750938        2.262610   \n",
      "3       -0.863042  -0.889172      0.952329       -0.650028   \n",
      "4       -1.010615  -0.889172     -0.750938       -0.907025   \n",
      "\n",
      "   Fuel Consumption City (L/100 km)  Fuel Consumption Hwy (L/100 km)  \\\n",
      "0                          1.558334                         1.596226   \n",
      "1                          0.382446                         0.557098   \n",
      "2                          1.196522                         1.942602   \n",
      "3                         -0.702989                        -0.689855   \n",
      "4                         -1.019575                        -0.966956   \n",
      "\n",
      "   Fuel Consumption Comb (L/100 km)  Fuel Consumption Comb (mpg)  \\\n",
      "0                         -1.307576                          0.0   \n",
      "1                         -0.753140                          1.0   \n",
      "2                         -1.446185                          0.0   \n",
      "3                          0.494342                          1.0   \n",
      "4                          0.910169                          1.0   \n",
      "\n",
      "   Model Features_Flexible-fuel vehicle  Model Features_Four-wheel drive  ...  \\\n",
      "0                                   0.0                              0.0  ...   \n",
      "1                                   0.0                              0.0  ...   \n",
      "2                                   0.0                              0.0  ...   \n",
      "3                                   0.0                              0.0  ...   \n",
      "4                                   0.0                              0.0  ...   \n",
      "\n",
      "   Vehicle Class_STATION WAGON - SMALL  Vehicle Class_SUBCOMPACT  \\\n",
      "0                                  0.0                       0.0   \n",
      "1                                  0.0                       0.0   \n",
      "2                                  0.0                       0.0   \n",
      "3                                  0.0                       0.0   \n",
      "4                                  1.0                       0.0   \n",
      "\n",
      "   Vehicle Class_SUV - SMALL  Vehicle Class_SUV - STANDARD  \\\n",
      "0                        0.0                           0.0   \n",
      "1                        1.0                           0.0   \n",
      "2                        0.0                           0.0   \n",
      "3                        1.0                           0.0   \n",
      "4                        0.0                           0.0   \n",
      "\n",
      "   Vehicle Class_TWO-SEATER  Vehicle Class_VAN - CARGO  \\\n",
      "0                       1.0                        0.0   \n",
      "1                       0.0                        0.0   \n",
      "2                       1.0                        0.0   \n",
      "3                       0.0                        0.0   \n",
      "4                       0.0                        0.0   \n",
      "\n",
      "   Vehicle Class_VAN - PASSENGER  Fuel Type_E  Fuel Type_X  Fuel Type_Z  \n",
      "0                            0.0          0.0          0.0          1.0  \n",
      "1                            0.0          0.0          1.0          0.0  \n",
      "2                            0.0          0.0          0.0          1.0  \n",
      "3                            0.0          0.0          0.0          1.0  \n",
      "4                            0.0          0.0          1.0          0.0  \n",
      "\n",
      "[5 rows x 30 columns]\n"
     ]
    }
   ],
   "source": [
    "feature_names = list(X_train) \n",
    "X_train_df = pd.DataFrame(X_train_processed, columns=feature_names)\n",
    "\n",
    "X_test_df = pd.DataFrame(X_test_processed, columns=feature_names)\n",
    "\n",
    "print(\"Processed Train Dataset：\")\n",
    "print(X_train_df.head())\n",
    "\n",
    "print(\"Processed Test Dataset：\")\n",
    "print(X_test_df.head())\n"
   ]
  },
  {
   "cell_type": "code",
   "execution_count": 101,
   "metadata": {},
   "outputs": [],
   "source": [
    "# Prepare the Dataloader\n",
    "import torch\n",
    "import torch.nn as nn\n",
    "from torch.utils.data import DataLoader, TensorDataset\n",
    "\n",
    "# Convert data to Tensor\n",
    "X_train_tensor = torch.tensor(X_train_processed, dtype=torch.float32) \n",
    "y_train_tensor = torch.tensor(y_train.values, dtype=torch.float32).view(-1, 1)\n",
    "\n",
    "X_val_tensor = torch.tensor(X_test_processed, dtype=torch.float32)\n",
    "y_test_tensor = torch.tensor(y_test.values, dtype=torch.float32).view(-1, 1)\n",
    "\n",
    "# Load the training data and validation data\n",
    "train_dataset = TensorDataset(X_train_tensor, y_train_tensor)\n",
    "test_dataset = TensorDataset(X_val_tensor,y_test_tensor)\n",
    "\n",
    "# Set hyperparameters\n",
    "batch_size = 64  # batch size\n",
    "\n",
    "# Create data loader\n",
    "train_Loader = DataLoader(dataset=train_dataset, batch_size=batch_size, shuffle=True)\n",
    "test_Loader = DataLoader(dataset=test_dataset, batch_size=batch_size, shuffle=False)\n",
    "\n"
   ]
  },
  {
   "cell_type": "markdown",
   "metadata": {},
   "source": [
    "## 3 Best Models"
   ]
  },
  {
   "cell_type": "markdown",
   "metadata": {},
   "source": [
    "#### Pre: k-fold Import K-fold Cross-validation Method"
   ]
  },
  {
   "cell_type": "code",
   "execution_count": 95,
   "metadata": {},
   "outputs": [],
   "source": [
    "from sklearn.model_selection import KFold\n",
    "\n",
    "k_fold = KFold(n_splits=20, shuffle=True, random_state=42) # Set randon seed to make sure the results are reproducible"
   ]
  },
  {
   "cell_type": "markdown",
   "metadata": {},
   "source": [
    "Import metrics"
   ]
  },
  {
   "cell_type": "code",
   "execution_count": 96,
   "metadata": {},
   "outputs": [],
   "source": [
    "from sklearn.linear_model import LinearRegression\n",
    "from sklearn.metrics import mean_squared_error, r2_score, mean_absolute_error, mean_absolute_percentage_error"
   ]
  },
  {
   "cell_type": "markdown",
   "metadata": {},
   "source": [
    "### 3.1 Neural Network Model"
   ]
  },
  {
   "cell_type": "markdown",
   "metadata": {},
   "source": [
    "#### 3.1.1 Use W&B Grid Search to Find Best NN Parameter Set"
   ]
  },
  {
   "cell_type": "code",
   "execution_count": 81,
   "metadata": {},
   "outputs": [
    {
     "name": "stderr",
     "output_type": "stream",
     "text": [
      "wandb: WARNING Calling wandb.login() after wandb.init() has no effect.\n"
     ]
    },
    {
     "data": {
      "text/plain": [
       "True"
      ]
     },
     "execution_count": 81,
     "metadata": {},
     "output_type": "execute_result"
    }
   ],
   "source": [
    "import wandb\n",
    "\n",
    "wandb.login(key=\"47ea61c7ee69e2e0e1cc46ed5c31bd6168f9f9db\")"
   ]
  },
  {
   "cell_type": "markdown",
   "metadata": {},
   "source": [
    "Neural Network Structure"
   ]
  },
  {
   "cell_type": "code",
   "execution_count": 82,
   "metadata": {},
   "outputs": [],
   "source": [
    "class MultiLayerPerceptron(nn.Module):\n",
    "\n",
    "    def __init__(self, input_size, hidden_size, num_layers, output_size):\n",
    "        super(MultiLayerPerceptron, self).__init__()\n",
    "\n",
    "        # Initialise an empty list to hold layers\n",
    "        layers = []\n",
    "\n",
    "        # First layer: input to hidden\n",
    "        layers.append(nn.Linear(input_size, hidden_size))\n",
    "        layers.append(nn.ReLU())\n",
    "\n",
    "        # Additional hidden layers\n",
    "        for _ in range(num_layers - 1):\n",
    "            layers.append(nn.Linear(hidden_size, hidden_size))\n",
    "            layers.append(nn.ReLU())\n",
    "            \n",
    "        # Output layer: hidden to output\n",
    "        layers.append(nn.Linear(hidden_size, output_size))\n",
    "        self.model = nn.Sequential(*layers)\n",
    "\n",
    "    def forward(self, x):\n",
    "        return self.model(x)"
   ]
  },
  {
   "cell_type": "code",
   "execution_count": 83,
   "metadata": {},
   "outputs": [],
   "source": [
    "from torch.utils.data import random_split\n",
    "\n",
    "# Calculate the sizes for train and validation splits\n",
    "num_total = len(train_dataset)\n",
    "num_train = int(0.9 * num_total)\n",
    "num_val = num_total - num_train\n",
    "\n",
    "# Split the dataset\n",
    "train_subset, val_subset = random_split(train_dataset, [num_train, num_val])\n",
    "\n",
    "# Create DataLoaders for each subset\n",
    "train_Loader = DataLoader(train_subset, batch_size=64, shuffle=True)\n",
    "val_Loader = DataLoader(val_subset, batch_size=64, shuffle=False)"
   ]
  },
  {
   "cell_type": "code",
   "execution_count": 84,
   "metadata": {},
   "outputs": [],
   "source": [
    "# Hyperparameter grid\n",
    "hidden_units_options = [32, 64, 128]    # Numbers of neurons in each hidden layer\n",
    "hidden_layers_options = [2, 3, 4]       # Numbers of hidden layers\n",
    "learning_rates = [0.1, 0.01, 0.001]     # Learning rates\n",
    "\n",
    "max_epochs = 200  # Arbitrarily large; early stopping will likely stop earlier.\n",
    "patience = 5      # Early stopping patience\n",
    "\n",
    "input_size =  X_train_processed.shape[1]   # Input size \n",
    "output_size = 1             # Output size\n",
    "\n",
    "learning_rate = 0.02        # Learning rate\n",
    "n_epochs = 100 # Numebr of epochs\n",
    "\n",
    "# Define the loss function and the optimizer\n",
    "criterion = nn.MSELoss()    # Mean Squared Error for Linear Regression\n"
   ]
  },
  {
   "cell_type": "code",
   "execution_count": 85,
   "metadata": {},
   "outputs": [],
   "source": [
    "# Define helper functions\n",
    "# Train epoch function\n",
    "def train_epoch(model, train_loader, criterion, optimizer, device):\n",
    "    model.train()\n",
    "    running_loss = 0.0\n",
    "\n",
    "    # for features, target in tqdm(train_loader, desc=f\"Training Epoch {epoch+1}\"):\n",
    "    for features, target in train_loader:\n",
    "        features, target = features.to(device), target.to(device)\n",
    "\n",
    "        optimizer.zero_grad()\n",
    "        outputs = model(features) # Forward pass\n",
    "        loss = criterion(outputs, target)\n",
    "\n",
    "        loss.backward()  # Backward pass\n",
    "        optimizer.step() # Update the weights\n",
    "\n",
    "        running_loss += loss.item() * features.size(0)\n",
    "\n",
    "    return running_loss / len(train_loader.dataset)\n",
    "\n",
    "# Validation epoch function\n",
    "def val_epoch(model, val_loader, criterion, device):\n",
    "    model.eval()\n",
    "    val_loss = 0.0\n",
    "\n",
    "    with torch.no_grad():\n",
    "        for features, target in val_loader:\n",
    "            # print(featuresfeatures.size(0))\n",
    "            features, target = features.to(device), target.to(device)\n",
    "            # features = features.view(features.size(0), -1)\n",
    "\n",
    "            outputs = model(features)\n",
    "            loss = criterion(outputs, target)\n",
    "            val_loss += loss.item() * features.size(0)\n",
    "\n",
    "    return val_loss / len(val_loader.dataset)\n",
    "\n"
   ]
  },
  {
   "cell_type": "code",
   "execution_count": 86,
   "metadata": {},
   "outputs": [
    {
     "data": {
      "text/html": [],
      "text/plain": [
       "<IPython.core.display.HTML object>"
      ]
     },
     "metadata": {},
     "output_type": "display_data"
    },
    {
     "data": {
      "text/html": [
       " View run <strong style=\"color:#cdcd00\">absurd-armadillo-4</strong> at: <a href='https://wandb.ai/yixuan228-imperial-college-london/DE_Groupwork_G4_stage1/runs/j0c9xe6l' target=\"_blank\">https://wandb.ai/yixuan228-imperial-college-london/DE_Groupwork_G4_stage1/runs/j0c9xe6l</a><br> View project at: <a href='https://wandb.ai/yixuan228-imperial-college-london/DE_Groupwork_G4_stage1' target=\"_blank\">https://wandb.ai/yixuan228-imperial-college-london/DE_Groupwork_G4_stage1</a><br>Synced 5 W&B file(s), 0 media file(s), 0 artifact file(s) and 0 other file(s)"
      ],
      "text/plain": [
       "<IPython.core.display.HTML object>"
      ]
     },
     "metadata": {},
     "output_type": "display_data"
    },
    {
     "data": {
      "text/html": [
       "Find logs at: <code>.\\wandb\\run-20250320_154646-j0c9xe6l\\logs</code>"
      ],
      "text/plain": [
       "<IPython.core.display.HTML object>"
      ]
     },
     "metadata": {},
     "output_type": "display_data"
    },
    {
     "data": {
      "text/html": [
       "Tracking run with wandb version 0.19.7"
      ],
      "text/plain": [
       "<IPython.core.display.HTML object>"
      ]
     },
     "metadata": {},
     "output_type": "display_data"
    },
    {
     "data": {
      "text/html": [
       "Run data is saved locally in <code>d:\\Projects\\MSc_DE_GroupWork4\\Scripts\\wandb\\run-20250320_154723-58qphs2t</code>"
      ],
      "text/plain": [
       "<IPython.core.display.HTML object>"
      ]
     },
     "metadata": {},
     "output_type": "display_data"
    },
    {
     "data": {
      "text/html": [
       "Syncing run <strong><a href='https://wandb.ai/yixuan228-imperial-college-london/DE_Groupwork_G4_stage1/runs/58qphs2t' target=\"_blank\">laced-disco-5</a></strong> to <a href='https://wandb.ai/yixuan228-imperial-college-london/DE_Groupwork_G4_stage1' target=\"_blank\">Weights & Biases</a> (<a href='https://wandb.me/developer-guide' target=\"_blank\">docs</a>)<br>"
      ],
      "text/plain": [
       "<IPython.core.display.HTML object>"
      ]
     },
     "metadata": {},
     "output_type": "display_data"
    },
    {
     "data": {
      "text/html": [
       " View project at <a href='https://wandb.ai/yixuan228-imperial-college-london/DE_Groupwork_G4_stage1' target=\"_blank\">https://wandb.ai/yixuan228-imperial-college-london/DE_Groupwork_G4_stage1</a>"
      ],
      "text/plain": [
       "<IPython.core.display.HTML object>"
      ]
     },
     "metadata": {},
     "output_type": "display_data"
    },
    {
     "data": {
      "text/html": [
       " View run at <a href='https://wandb.ai/yixuan228-imperial-college-london/DE_Groupwork_G4_stage1/runs/58qphs2t' target=\"_blank\">https://wandb.ai/yixuan228-imperial-college-london/DE_Groupwork_G4_stage1/runs/58qphs2t</a>"
      ],
      "text/plain": [
       "<IPython.core.display.HTML object>"
      ]
     },
     "metadata": {},
     "output_type": "display_data"
    },
    {
     "name": "stdout",
     "output_type": "stream",
     "text": [
      "Epoch 001 | Train Loss: 5736.2725 | Val Loss: 401.4778\n",
      "Epoch 002 | Train Loss: 299.9161 | Val Loss: 208.8629\n",
      "Epoch 003 | Train Loss: 171.0818 | Val Loss: 161.9815\n",
      "Epoch 004 | Train Loss: 106.2717 | Val Loss: 108.5523\n",
      "Epoch 005 | Train Loss: 59.0310 | Val Loss: 43.0158\n",
      "Epoch 006 | Train Loss: 40.2494 | Val Loss: 48.8950\n",
      "Epoch 007 | Train Loss: 31.8922 | Val Loss: 31.3597\n",
      "Epoch 008 | Train Loss: 29.0785 | Val Loss: 41.7802\n",
      "Epoch 009 | Train Loss: 26.7499 | Val Loss: 25.5733\n",
      "Epoch 010 | Train Loss: 23.7020 | Val Loss: 54.2399\n",
      "Epoch 011 | Train Loss: 26.9061 | Val Loss: 95.7860\n",
      "Epoch 012 | Train Loss: 31.8346 | Val Loss: 31.9553\n",
      "Epoch 013 | Train Loss: 34.2691 | Val Loss: 19.8106\n",
      "Epoch 014 | Train Loss: 21.9776 | Val Loss: 59.0813\n",
      "Epoch 015 | Train Loss: 84.3434 | Val Loss: 30.0596\n",
      "Epoch 016 | Train Loss: 20.3167 | Val Loss: 17.7033\n",
      "Epoch 017 | Train Loss: 15.1420 | Val Loss: 19.3453\n",
      "Epoch 018 | Train Loss: 15.3518 | Val Loss: 29.9509\n",
      "Epoch 019 | Train Loss: 22.5299 | Val Loss: 96.6673\n",
      "Epoch 020 | Train Loss: 61.9628 | Val Loss: 47.6604\n",
      "Epoch 021 | Train Loss: 36.4464 | Val Loss: 181.2433\n",
      "Early stopping triggered at epoch 21\n"
     ]
    },
    {
     "data": {
      "text/html": [],
      "text/plain": [
       "<IPython.core.display.HTML object>"
      ]
     },
     "metadata": {},
     "output_type": "display_data"
    },
    {
     "data": {
      "text/html": [
       "<br>    <style><br>        .wandb-row {<br>            display: flex;<br>            flex-direction: row;<br>            flex-wrap: wrap;<br>            justify-content: flex-start;<br>            width: 100%;<br>        }<br>        .wandb-col {<br>            display: flex;<br>            flex-direction: column;<br>            flex-basis: 100%;<br>            flex: 1;<br>            padding: 10px;<br>        }<br>    </style><br><div class=\"wandb-row\"><div class=\"wandb-col\"><h3>Run history:</h3><br/><table class=\"wandb\"><tr><td>epoch</td><td>▁▁▂▂▂▃▃▃▄▄▅▅▅▆▆▆▇▇▇██</td></tr><tr><td>train_loss</td><td>█▁▁▁▁▁▁▁▁▁▁▁▁▁▁▁▁▁▁▁▁</td></tr><tr><td>val_loss</td><td>█▄▄▃▁▂▁▁▁▂▂▁▁▂▁▁▁▁▂▂▄</td></tr></table><br/></div><div class=\"wandb-col\"><h3>Run summary:</h3><br/><table class=\"wandb\"><tr><td>epoch</td><td>21</td></tr><tr><td>train_loss</td><td>36.44637</td></tr><tr><td>val_loss</td><td>181.24331</td></tr></table><br/></div></div>"
      ],
      "text/plain": [
       "<IPython.core.display.HTML object>"
      ]
     },
     "metadata": {},
     "output_type": "display_data"
    },
    {
     "data": {
      "text/html": [
       " View run <strong style=\"color:#cdcd00\">laced-disco-5</strong> at: <a href='https://wandb.ai/yixuan228-imperial-college-london/DE_Groupwork_G4_stage1/runs/58qphs2t' target=\"_blank\">https://wandb.ai/yixuan228-imperial-college-london/DE_Groupwork_G4_stage1/runs/58qphs2t</a><br> View project at: <a href='https://wandb.ai/yixuan228-imperial-college-london/DE_Groupwork_G4_stage1' target=\"_blank\">https://wandb.ai/yixuan228-imperial-college-london/DE_Groupwork_G4_stage1</a><br>Synced 5 W&B file(s), 0 media file(s), 0 artifact file(s) and 0 other file(s)"
      ],
      "text/plain": [
       "<IPython.core.display.HTML object>"
      ]
     },
     "metadata": {},
     "output_type": "display_data"
    },
    {
     "data": {
      "text/html": [
       "Find logs at: <code>.\\wandb\\run-20250320_154723-58qphs2t\\logs</code>"
      ],
      "text/plain": [
       "<IPython.core.display.HTML object>"
      ]
     },
     "metadata": {},
     "output_type": "display_data"
    },
    {
     "data": {
      "text/html": [
       "Tracking run with wandb version 0.19.7"
      ],
      "text/plain": [
       "<IPython.core.display.HTML object>"
      ]
     },
     "metadata": {},
     "output_type": "display_data"
    },
    {
     "data": {
      "text/html": [
       "Run data is saved locally in <code>d:\\Projects\\MSc_DE_GroupWork4\\Scripts\\wandb\\run-20250320_154733-7rpx86ti</code>"
      ],
      "text/plain": [
       "<IPython.core.display.HTML object>"
      ]
     },
     "metadata": {},
     "output_type": "display_data"
    },
    {
     "data": {
      "text/html": [
       "Syncing run <strong><a href='https://wandb.ai/yixuan228-imperial-college-london/DE_Groupwork_G4_stage1/runs/7rpx86ti' target=\"_blank\">amber-terrain-6</a></strong> to <a href='https://wandb.ai/yixuan228-imperial-college-london/DE_Groupwork_G4_stage1' target=\"_blank\">Weights & Biases</a> (<a href='https://wandb.me/developer-guide' target=\"_blank\">docs</a>)<br>"
      ],
      "text/plain": [
       "<IPython.core.display.HTML object>"
      ]
     },
     "metadata": {},
     "output_type": "display_data"
    },
    {
     "data": {
      "text/html": [
       " View project at <a href='https://wandb.ai/yixuan228-imperial-college-london/DE_Groupwork_G4_stage1' target=\"_blank\">https://wandb.ai/yixuan228-imperial-college-london/DE_Groupwork_G4_stage1</a>"
      ],
      "text/plain": [
       "<IPython.core.display.HTML object>"
      ]
     },
     "metadata": {},
     "output_type": "display_data"
    },
    {
     "data": {
      "text/html": [
       " View run at <a href='https://wandb.ai/yixuan228-imperial-college-london/DE_Groupwork_G4_stage1/runs/7rpx86ti' target=\"_blank\">https://wandb.ai/yixuan228-imperial-college-london/DE_Groupwork_G4_stage1/runs/7rpx86ti</a>"
      ],
      "text/plain": [
       "<IPython.core.display.HTML object>"
      ]
     },
     "metadata": {},
     "output_type": "display_data"
    },
    {
     "name": "stdout",
     "output_type": "stream",
     "text": [
      "Epoch 001 | Train Loss: 23627.1144 | Val Loss: 1193.1117\n",
      "Epoch 002 | Train Loss: 826.6204 | Val Loss: 621.2816\n",
      "Epoch 003 | Train Loss: 521.9689 | Val Loss: 426.6514\n",
      "Epoch 004 | Train Loss: 377.0386 | Val Loss: 319.0929\n",
      "Epoch 005 | Train Loss: 295.4602 | Val Loss: 261.8136\n",
      "Epoch 006 | Train Loss: 244.5339 | Val Loss: 210.2848\n",
      "Epoch 007 | Train Loss: 202.4530 | Val Loss: 169.4437\n",
      "Epoch 008 | Train Loss: 162.5343 | Val Loss: 134.3686\n",
      "Epoch 009 | Train Loss: 130.3419 | Val Loss: 106.8860\n",
      "Epoch 010 | Train Loss: 100.6803 | Val Loss: 82.2172\n",
      "Epoch 011 | Train Loss: 75.3091 | Val Loss: 62.6625\n",
      "Epoch 012 | Train Loss: 57.9835 | Val Loss: 49.3903\n",
      "Epoch 013 | Train Loss: 45.8558 | Val Loss: 36.7496\n",
      "Epoch 014 | Train Loss: 35.4255 | Val Loss: 44.0627\n",
      "Epoch 015 | Train Loss: 32.1437 | Val Loss: 28.8956\n",
      "Epoch 016 | Train Loss: 26.2342 | Val Loss: 24.9254\n",
      "Epoch 017 | Train Loss: 23.4851 | Val Loss: 24.3716\n",
      "Epoch 018 | Train Loss: 23.3513 | Val Loss: 21.5332\n",
      "Epoch 019 | Train Loss: 19.5961 | Val Loss: 18.7594\n",
      "Epoch 020 | Train Loss: 18.6369 | Val Loss: 22.9694\n",
      "Epoch 021 | Train Loss: 16.8936 | Val Loss: 16.5942\n",
      "Epoch 022 | Train Loss: 17.6237 | Val Loss: 19.6507\n",
      "Epoch 023 | Train Loss: 16.1965 | Val Loss: 15.9874\n",
      "Epoch 024 | Train Loss: 14.9740 | Val Loss: 14.0155\n",
      "Epoch 025 | Train Loss: 16.2183 | Val Loss: 15.4319\n",
      "Epoch 026 | Train Loss: 14.3047 | Val Loss: 12.6360\n",
      "Epoch 027 | Train Loss: 14.1770 | Val Loss: 17.5995\n",
      "Epoch 028 | Train Loss: 14.6974 | Val Loss: 19.2333\n",
      "Epoch 029 | Train Loss: 14.2565 | Val Loss: 12.4510\n",
      "Epoch 030 | Train Loss: 13.6944 | Val Loss: 15.2040\n",
      "Epoch 031 | Train Loss: 12.4624 | Val Loss: 11.5826\n",
      "Epoch 032 | Train Loss: 12.1303 | Val Loss: 22.6442\n",
      "Epoch 033 | Train Loss: 15.5484 | Val Loss: 14.5057\n",
      "Epoch 034 | Train Loss: 12.4705 | Val Loss: 17.1107\n",
      "Epoch 035 | Train Loss: 12.3600 | Val Loss: 11.5632\n",
      "Epoch 036 | Train Loss: 16.3470 | Val Loss: 18.6056\n",
      "Epoch 037 | Train Loss: 11.5428 | Val Loss: 10.5572\n",
      "Epoch 038 | Train Loss: 11.0822 | Val Loss: 10.4084\n",
      "Epoch 039 | Train Loss: 13.7764 | Val Loss: 15.4724\n",
      "Epoch 040 | Train Loss: 11.1964 | Val Loss: 9.7296\n",
      "Epoch 041 | Train Loss: 10.5330 | Val Loss: 10.1991\n",
      "Epoch 042 | Train Loss: 10.4486 | Val Loss: 25.0600\n",
      "Epoch 043 | Train Loss: 11.8352 | Val Loss: 13.1824\n",
      "Epoch 044 | Train Loss: 11.2457 | Val Loss: 23.8730\n",
      "Epoch 045 | Train Loss: 11.9304 | Val Loss: 8.8332\n",
      "Epoch 046 | Train Loss: 10.1390 | Val Loss: 10.2536\n",
      "Epoch 047 | Train Loss: 12.3173 | Val Loss: 12.7257\n",
      "Epoch 048 | Train Loss: 10.6501 | Val Loss: 10.6156\n",
      "Epoch 049 | Train Loss: 10.9456 | Val Loss: 13.2225\n",
      "Epoch 050 | Train Loss: 10.5712 | Val Loss: 28.4722\n",
      "Early stopping triggered at epoch 50\n"
     ]
    },
    {
     "data": {
      "text/html": [],
      "text/plain": [
       "<IPython.core.display.HTML object>"
      ]
     },
     "metadata": {},
     "output_type": "display_data"
    },
    {
     "data": {
      "text/html": [
       "<br>    <style><br>        .wandb-row {<br>            display: flex;<br>            flex-direction: row;<br>            flex-wrap: wrap;<br>            justify-content: flex-start;<br>            width: 100%;<br>        }<br>        .wandb-col {<br>            display: flex;<br>            flex-direction: column;<br>            flex-basis: 100%;<br>            flex: 1;<br>            padding: 10px;<br>        }<br>    </style><br><div class=\"wandb-row\"><div class=\"wandb-col\"><h3>Run history:</h3><br/><table class=\"wandb\"><tr><td>epoch</td><td>▁▁▁▁▂▂▂▂▂▂▃▃▃▃▃▄▄▄▄▄▅▅▅▅▅▅▆▆▆▆▆▆▇▇▇▇▇███</td></tr><tr><td>train_loss</td><td>█▁▁▁▁▁▁▁▁▁▁▁▁▁▁▁▁▁▁▁▁▁▁▁▁▁▁▁▁▁▁▁▁▁▁▁▁▁▁▁</td></tr><tr><td>val_loss</td><td>█▅▃▃▂▂▂▂▁▁▁▁▁▁▁▁▁▁▁▁▁▁▁▁▁▁▁▁▁▁▁▁▁▁▁▁▁▁▁▁</td></tr></table><br/></div><div class=\"wandb-col\"><h3>Run summary:</h3><br/><table class=\"wandb\"><tr><td>epoch</td><td>50</td></tr><tr><td>train_loss</td><td>10.57124</td></tr><tr><td>val_loss</td><td>28.47221</td></tr></table><br/></div></div>"
      ],
      "text/plain": [
       "<IPython.core.display.HTML object>"
      ]
     },
     "metadata": {},
     "output_type": "display_data"
    },
    {
     "data": {
      "text/html": [
       " View run <strong style=\"color:#cdcd00\">amber-terrain-6</strong> at: <a href='https://wandb.ai/yixuan228-imperial-college-london/DE_Groupwork_G4_stage1/runs/7rpx86ti' target=\"_blank\">https://wandb.ai/yixuan228-imperial-college-london/DE_Groupwork_G4_stage1/runs/7rpx86ti</a><br> View project at: <a href='https://wandb.ai/yixuan228-imperial-college-london/DE_Groupwork_G4_stage1' target=\"_blank\">https://wandb.ai/yixuan228-imperial-college-london/DE_Groupwork_G4_stage1</a><br>Synced 5 W&B file(s), 0 media file(s), 0 artifact file(s) and 0 other file(s)"
      ],
      "text/plain": [
       "<IPython.core.display.HTML object>"
      ]
     },
     "metadata": {},
     "output_type": "display_data"
    },
    {
     "data": {
      "text/html": [
       "Find logs at: <code>.\\wandb\\run-20250320_154733-7rpx86ti\\logs</code>"
      ],
      "text/plain": [
       "<IPython.core.display.HTML object>"
      ]
     },
     "metadata": {},
     "output_type": "display_data"
    },
    {
     "data": {
      "text/html": [
       "Tracking run with wandb version 0.19.7"
      ],
      "text/plain": [
       "<IPython.core.display.HTML object>"
      ]
     },
     "metadata": {},
     "output_type": "display_data"
    },
    {
     "data": {
      "text/html": [
       "Run data is saved locally in <code>d:\\Projects\\MSc_DE_GroupWork4\\Scripts\\wandb\\run-20250320_154744-rlw22mr4</code>"
      ],
      "text/plain": [
       "<IPython.core.display.HTML object>"
      ]
     },
     "metadata": {},
     "output_type": "display_data"
    },
    {
     "data": {
      "text/html": [
       "Syncing run <strong><a href='https://wandb.ai/yixuan228-imperial-college-london/DE_Groupwork_G4_stage1/runs/rlw22mr4' target=\"_blank\">jumping-voice-7</a></strong> to <a href='https://wandb.ai/yixuan228-imperial-college-london/DE_Groupwork_G4_stage1' target=\"_blank\">Weights & Biases</a> (<a href='https://wandb.me/developer-guide' target=\"_blank\">docs</a>)<br>"
      ],
      "text/plain": [
       "<IPython.core.display.HTML object>"
      ]
     },
     "metadata": {},
     "output_type": "display_data"
    },
    {
     "data": {
      "text/html": [
       " View project at <a href='https://wandb.ai/yixuan228-imperial-college-london/DE_Groupwork_G4_stage1' target=\"_blank\">https://wandb.ai/yixuan228-imperial-college-london/DE_Groupwork_G4_stage1</a>"
      ],
      "text/plain": [
       "<IPython.core.display.HTML object>"
      ]
     },
     "metadata": {},
     "output_type": "display_data"
    },
    {
     "data": {
      "text/html": [
       " View run at <a href='https://wandb.ai/yixuan228-imperial-college-london/DE_Groupwork_G4_stage1/runs/rlw22mr4' target=\"_blank\">https://wandb.ai/yixuan228-imperial-college-london/DE_Groupwork_G4_stage1/runs/rlw22mr4</a>"
      ],
      "text/plain": [
       "<IPython.core.display.HTML object>"
      ]
     },
     "metadata": {},
     "output_type": "display_data"
    },
    {
     "name": "stdout",
     "output_type": "stream",
     "text": [
      "Epoch 001 | Train Loss: 65715.7726 | Val Loss: 62448.7007\n",
      "Epoch 002 | Train Loss: 54173.0556 | Val Loss: 38336.9726\n",
      "Epoch 003 | Train Loss: 21416.3121 | Val Loss: 7833.7875\n",
      "Epoch 004 | Train Loss: 4445.8585 | Val Loss: 3099.3555\n",
      "Epoch 005 | Train Loss: 2416.9296 | Val Loss: 2060.2090\n",
      "Epoch 006 | Train Loss: 1689.6544 | Val Loss: 1502.2961\n",
      "Epoch 007 | Train Loss: 1283.7410 | Val Loss: 1186.8306\n",
      "Epoch 008 | Train Loss: 1056.3182 | Val Loss: 1000.7360\n",
      "Epoch 009 | Train Loss: 921.2820 | Val Loss: 883.8446\n",
      "Epoch 010 | Train Loss: 833.4293 | Val Loss: 801.3197\n",
      "Epoch 011 | Train Loss: 766.4641 | Val Loss: 737.3030\n",
      "Epoch 012 | Train Loss: 712.8664 | Val Loss: 687.0284\n",
      "Epoch 013 | Train Loss: 668.3830 | Val Loss: 641.3085\n",
      "Epoch 014 | Train Loss: 629.4793 | Val Loss: 600.7608\n",
      "Epoch 015 | Train Loss: 592.3136 | Val Loss: 564.1453\n",
      "Epoch 016 | Train Loss: 558.0345 | Val Loss: 531.5218\n",
      "Epoch 017 | Train Loss: 527.2644 | Val Loss: 498.6791\n",
      "Epoch 018 | Train Loss: 497.4787 | Val Loss: 471.8689\n",
      "Epoch 019 | Train Loss: 470.9978 | Val Loss: 445.9261\n",
      "Epoch 020 | Train Loss: 446.0882 | Val Loss: 419.9784\n",
      "Epoch 021 | Train Loss: 422.6653 | Val Loss: 398.1245\n",
      "Epoch 022 | Train Loss: 401.4012 | Val Loss: 377.2735\n",
      "Epoch 023 | Train Loss: 381.3515 | Val Loss: 358.1705\n",
      "Epoch 024 | Train Loss: 363.3705 | Val Loss: 338.2660\n",
      "Epoch 025 | Train Loss: 345.1384 | Val Loss: 322.8746\n",
      "Epoch 026 | Train Loss: 329.1176 | Val Loss: 306.7815\n",
      "Epoch 027 | Train Loss: 314.3377 | Val Loss: 292.5630\n",
      "Epoch 028 | Train Loss: 300.1736 | Val Loss: 280.9616\n",
      "Epoch 029 | Train Loss: 286.7735 | Val Loss: 267.8901\n",
      "Epoch 030 | Train Loss: 274.1729 | Val Loss: 256.8569\n",
      "Epoch 031 | Train Loss: 261.3511 | Val Loss: 245.5894\n",
      "Epoch 032 | Train Loss: 250.1709 | Val Loss: 233.8663\n",
      "Epoch 033 | Train Loss: 239.3339 | Val Loss: 222.7887\n",
      "Epoch 034 | Train Loss: 232.0842 | Val Loss: 212.7287\n",
      "Epoch 035 | Train Loss: 218.9345 | Val Loss: 203.5326\n",
      "Epoch 036 | Train Loss: 209.7248 | Val Loss: 194.3750\n",
      "Epoch 037 | Train Loss: 200.3897 | Val Loss: 187.7467\n",
      "Epoch 038 | Train Loss: 191.4257 | Val Loss: 178.1315\n",
      "Epoch 039 | Train Loss: 183.0107 | Val Loss: 168.8036\n",
      "Epoch 040 | Train Loss: 174.2412 | Val Loss: 162.9890\n",
      "Epoch 041 | Train Loss: 165.8379 | Val Loss: 152.8784\n",
      "Epoch 042 | Train Loss: 157.5724 | Val Loss: 145.3734\n",
      "Epoch 043 | Train Loss: 149.7316 | Val Loss: 138.9564\n",
      "Epoch 044 | Train Loss: 141.9878 | Val Loss: 131.7317\n",
      "Epoch 045 | Train Loss: 134.3786 | Val Loss: 123.0150\n",
      "Epoch 046 | Train Loss: 126.2181 | Val Loss: 115.8654\n",
      "Epoch 047 | Train Loss: 118.9028 | Val Loss: 109.4398\n",
      "Epoch 048 | Train Loss: 111.8124 | Val Loss: 103.6274\n",
      "Epoch 049 | Train Loss: 105.4846 | Val Loss: 98.5853\n",
      "Epoch 050 | Train Loss: 98.4741 | Val Loss: 91.0716\n",
      "Epoch 051 | Train Loss: 91.7413 | Val Loss: 85.1753\n",
      "Epoch 052 | Train Loss: 85.8609 | Val Loss: 79.2613\n",
      "Epoch 053 | Train Loss: 80.0140 | Val Loss: 74.6397\n",
      "Epoch 054 | Train Loss: 74.5560 | Val Loss: 68.7184\n",
      "Epoch 055 | Train Loss: 69.2400 | Val Loss: 63.7984\n",
      "Epoch 056 | Train Loss: 64.3461 | Val Loss: 60.7844\n",
      "Epoch 057 | Train Loss: 60.3508 | Val Loss: 56.6639\n",
      "Epoch 058 | Train Loss: 55.2678 | Val Loss: 53.1219\n",
      "Epoch 059 | Train Loss: 51.4695 | Val Loss: 47.3585\n",
      "Epoch 060 | Train Loss: 47.3957 | Val Loss: 44.8358\n",
      "Epoch 061 | Train Loss: 44.0802 | Val Loss: 42.1888\n",
      "Epoch 062 | Train Loss: 41.3430 | Val Loss: 39.4680\n",
      "Epoch 063 | Train Loss: 38.4744 | Val Loss: 36.3441\n",
      "Epoch 064 | Train Loss: 36.8287 | Val Loss: 35.0586\n",
      "Epoch 065 | Train Loss: 34.3431 | Val Loss: 32.7700\n",
      "Epoch 066 | Train Loss: 32.3465 | Val Loss: 29.9335\n",
      "Epoch 067 | Train Loss: 30.2323 | Val Loss: 28.4042\n",
      "Epoch 068 | Train Loss: 28.6368 | Val Loss: 27.4315\n",
      "Epoch 069 | Train Loss: 27.2481 | Val Loss: 27.0746\n",
      "Epoch 070 | Train Loss: 25.9043 | Val Loss: 25.6071\n",
      "Epoch 071 | Train Loss: 26.8155 | Val Loss: 23.8858\n",
      "Epoch 072 | Train Loss: 24.0785 | Val Loss: 23.5314\n",
      "Epoch 073 | Train Loss: 23.1744 | Val Loss: 22.9275\n",
      "Epoch 074 | Train Loss: 22.4584 | Val Loss: 22.0037\n",
      "Epoch 075 | Train Loss: 21.6268 | Val Loss: 21.6962\n",
      "Epoch 076 | Train Loss: 21.0147 | Val Loss: 20.6624\n",
      "Epoch 077 | Train Loss: 20.2625 | Val Loss: 20.0207\n",
      "Epoch 078 | Train Loss: 19.8643 | Val Loss: 19.1588\n",
      "Epoch 079 | Train Loss: 19.2875 | Val Loss: 19.4389\n",
      "Epoch 080 | Train Loss: 18.6844 | Val Loss: 19.9461\n",
      "Epoch 081 | Train Loss: 18.3420 | Val Loss: 17.8160\n",
      "Epoch 082 | Train Loss: 17.8446 | Val Loss: 17.2621\n",
      "Epoch 083 | Train Loss: 17.2984 | Val Loss: 17.4140\n",
      "Epoch 084 | Train Loss: 17.3936 | Val Loss: 16.6078\n",
      "Epoch 085 | Train Loss: 16.7879 | Val Loss: 16.2641\n",
      "Epoch 086 | Train Loss: 16.3637 | Val Loss: 15.6166\n",
      "Epoch 087 | Train Loss: 15.8838 | Val Loss: 15.5237\n",
      "Epoch 088 | Train Loss: 15.7509 | Val Loss: 16.0289\n",
      "Epoch 089 | Train Loss: 15.4987 | Val Loss: 15.8744\n",
      "Epoch 090 | Train Loss: 15.3386 | Val Loss: 15.2820\n",
      "Epoch 091 | Train Loss: 14.7568 | Val Loss: 14.7490\n",
      "Epoch 092 | Train Loss: 14.6041 | Val Loss: 14.7213\n",
      "Epoch 093 | Train Loss: 14.3524 | Val Loss: 17.2346\n",
      "Epoch 094 | Train Loss: 14.7745 | Val Loss: 13.8817\n",
      "Epoch 095 | Train Loss: 13.6682 | Val Loss: 13.8982\n",
      "Epoch 096 | Train Loss: 13.6471 | Val Loss: 13.6569\n",
      "Epoch 097 | Train Loss: 13.5467 | Val Loss: 13.3485\n",
      "Epoch 098 | Train Loss: 13.1555 | Val Loss: 14.0908\n",
      "Epoch 099 | Train Loss: 13.3306 | Val Loss: 13.0231\n",
      "Epoch 100 | Train Loss: 12.9234 | Val Loss: 12.7642\n",
      "Epoch 101 | Train Loss: 12.9451 | Val Loss: 12.9673\n",
      "Epoch 102 | Train Loss: 13.1973 | Val Loss: 12.3301\n",
      "Epoch 103 | Train Loss: 12.4792 | Val Loss: 12.3852\n",
      "Epoch 104 | Train Loss: 12.1690 | Val Loss: 12.8264\n",
      "Epoch 105 | Train Loss: 12.5316 | Val Loss: 11.9463\n",
      "Epoch 106 | Train Loss: 11.9609 | Val Loss: 11.7469\n",
      "Epoch 107 | Train Loss: 11.6112 | Val Loss: 11.8879\n",
      "Epoch 108 | Train Loss: 12.0919 | Val Loss: 11.2874\n",
      "Epoch 109 | Train Loss: 11.4214 | Val Loss: 11.7245\n",
      "Epoch 110 | Train Loss: 11.4298 | Val Loss: 11.0820\n",
      "Epoch 111 | Train Loss: 11.1764 | Val Loss: 12.7500\n",
      "Epoch 112 | Train Loss: 10.8864 | Val Loss: 10.7958\n",
      "Epoch 113 | Train Loss: 11.1281 | Val Loss: 10.3991\n",
      "Epoch 114 | Train Loss: 10.9287 | Val Loss: 10.7769\n",
      "Epoch 115 | Train Loss: 11.0090 | Val Loss: 13.7901\n",
      "Epoch 116 | Train Loss: 11.2660 | Val Loss: 10.9453\n",
      "Epoch 117 | Train Loss: 10.5316 | Val Loss: 10.5748\n",
      "Epoch 118 | Train Loss: 10.6709 | Val Loss: 10.2913\n",
      "Epoch 119 | Train Loss: 10.2252 | Val Loss: 10.6534\n",
      "Epoch 120 | Train Loss: 10.5133 | Val Loss: 10.4053\n",
      "Epoch 121 | Train Loss: 10.0065 | Val Loss: 10.6784\n",
      "Epoch 122 | Train Loss: 10.3222 | Val Loss: 9.9750\n",
      "Epoch 123 | Train Loss: 9.9368 | Val Loss: 10.2708\n",
      "Epoch 124 | Train Loss: 9.7115 | Val Loss: 9.7010\n",
      "Epoch 125 | Train Loss: 9.7405 | Val Loss: 10.2640\n",
      "Epoch 126 | Train Loss: 9.6605 | Val Loss: 10.6921\n",
      "Epoch 127 | Train Loss: 9.8602 | Val Loss: 9.6389\n",
      "Epoch 128 | Train Loss: 9.2687 | Val Loss: 9.8516\n",
      "Epoch 129 | Train Loss: 9.3281 | Val Loss: 9.4241\n",
      "Epoch 130 | Train Loss: 9.3752 | Val Loss: 9.3989\n",
      "Epoch 131 | Train Loss: 9.5185 | Val Loss: 9.5231\n",
      "Epoch 132 | Train Loss: 9.1758 | Val Loss: 10.1827\n",
      "Epoch 133 | Train Loss: 9.2862 | Val Loss: 9.0975\n",
      "Epoch 134 | Train Loss: 9.0934 | Val Loss: 9.4738\n",
      "Epoch 135 | Train Loss: 8.9386 | Val Loss: 9.8245\n",
      "Epoch 136 | Train Loss: 9.0698 | Val Loss: 9.0780\n",
      "Epoch 137 | Train Loss: 9.1889 | Val Loss: 12.4261\n",
      "Epoch 138 | Train Loss: 10.8607 | Val Loss: 8.8433\n",
      "Epoch 139 | Train Loss: 9.1679 | Val Loss: 9.8136\n",
      "Epoch 140 | Train Loss: 8.6894 | Val Loss: 8.5946\n",
      "Epoch 141 | Train Loss: 8.6069 | Val Loss: 8.7449\n",
      "Epoch 142 | Train Loss: 8.6319 | Val Loss: 8.6815\n",
      "Epoch 143 | Train Loss: 8.7522 | Val Loss: 9.0741\n",
      "Epoch 144 | Train Loss: 8.5570 | Val Loss: 10.5684\n",
      "Epoch 145 | Train Loss: 9.1905 | Val Loss: 9.7878\n",
      "Early stopping triggered at epoch 145\n"
     ]
    },
    {
     "data": {
      "text/html": [],
      "text/plain": [
       "<IPython.core.display.HTML object>"
      ]
     },
     "metadata": {},
     "output_type": "display_data"
    },
    {
     "data": {
      "text/html": [
       "<br>    <style><br>        .wandb-row {<br>            display: flex;<br>            flex-direction: row;<br>            flex-wrap: wrap;<br>            justify-content: flex-start;<br>            width: 100%;<br>        }<br>        .wandb-col {<br>            display: flex;<br>            flex-direction: column;<br>            flex-basis: 100%;<br>            flex: 1;<br>            padding: 10px;<br>        }<br>    </style><br><div class=\"wandb-row\"><div class=\"wandb-col\"><h3>Run history:</h3><br/><table class=\"wandb\"><tr><td>epoch</td><td>▁▁▁▁▁▂▂▂▂▂▂▃▃▃▃▄▄▄▄▄▄▄▄▄▅▅▅▅▆▆▆▆▆▆▆▇████</td></tr><tr><td>train_loss</td><td>█▁▁▁▁▁▁▁▁▁▁▁▁▁▁▁▁▁▁▁▁▁▁▁▁▁▁▁▁▁▁▁▁▁▁▁▁▁▁▁</td></tr><tr><td>val_loss</td><td>█▄▄▃▃▂▂▂▁▁▁▁▁▁▁▁▁▁▁▁▁▁▁▁▁▁▁▁▁▁▁▁▁▁▁▁▁▁▁▁</td></tr></table><br/></div><div class=\"wandb-col\"><h3>Run summary:</h3><br/><table class=\"wandb\"><tr><td>epoch</td><td>145</td></tr><tr><td>train_loss</td><td>9.19054</td></tr><tr><td>val_loss</td><td>9.78776</td></tr></table><br/></div></div>"
      ],
      "text/plain": [
       "<IPython.core.display.HTML object>"
      ]
     },
     "metadata": {},
     "output_type": "display_data"
    },
    {
     "data": {
      "text/html": [
       " View run <strong style=\"color:#cdcd00\">jumping-voice-7</strong> at: <a href='https://wandb.ai/yixuan228-imperial-college-london/DE_Groupwork_G4_stage1/runs/rlw22mr4' target=\"_blank\">https://wandb.ai/yixuan228-imperial-college-london/DE_Groupwork_G4_stage1/runs/rlw22mr4</a><br> View project at: <a href='https://wandb.ai/yixuan228-imperial-college-london/DE_Groupwork_G4_stage1' target=\"_blank\">https://wandb.ai/yixuan228-imperial-college-london/DE_Groupwork_G4_stage1</a><br>Synced 5 W&B file(s), 0 media file(s), 0 artifact file(s) and 0 other file(s)"
      ],
      "text/plain": [
       "<IPython.core.display.HTML object>"
      ]
     },
     "metadata": {},
     "output_type": "display_data"
    },
    {
     "data": {
      "text/html": [
       "Find logs at: <code>.\\wandb\\run-20250320_154744-rlw22mr4\\logs</code>"
      ],
      "text/plain": [
       "<IPython.core.display.HTML object>"
      ]
     },
     "metadata": {},
     "output_type": "display_data"
    },
    {
     "data": {
      "text/html": [
       "Tracking run with wandb version 0.19.7"
      ],
      "text/plain": [
       "<IPython.core.display.HTML object>"
      ]
     },
     "metadata": {},
     "output_type": "display_data"
    },
    {
     "data": {
      "text/html": [
       "Run data is saved locally in <code>d:\\Projects\\MSc_DE_GroupWork4\\Scripts\\wandb\\run-20250320_154810-l70u4ipk</code>"
      ],
      "text/plain": [
       "<IPython.core.display.HTML object>"
      ]
     },
     "metadata": {},
     "output_type": "display_data"
    },
    {
     "data": {
      "text/html": [
       "Syncing run <strong><a href='https://wandb.ai/yixuan228-imperial-college-london/DE_Groupwork_G4_stage1/runs/l70u4ipk' target=\"_blank\">dry-moon-8</a></strong> to <a href='https://wandb.ai/yixuan228-imperial-college-london/DE_Groupwork_G4_stage1' target=\"_blank\">Weights & Biases</a> (<a href='https://wandb.me/developer-guide' target=\"_blank\">docs</a>)<br>"
      ],
      "text/plain": [
       "<IPython.core.display.HTML object>"
      ]
     },
     "metadata": {},
     "output_type": "display_data"
    },
    {
     "data": {
      "text/html": [
       " View project at <a href='https://wandb.ai/yixuan228-imperial-college-london/DE_Groupwork_G4_stage1' target=\"_blank\">https://wandb.ai/yixuan228-imperial-college-london/DE_Groupwork_G4_stage1</a>"
      ],
      "text/plain": [
       "<IPython.core.display.HTML object>"
      ]
     },
     "metadata": {},
     "output_type": "display_data"
    },
    {
     "data": {
      "text/html": [
       " View run at <a href='https://wandb.ai/yixuan228-imperial-college-london/DE_Groupwork_G4_stage1/runs/l70u4ipk' target=\"_blank\">https://wandb.ai/yixuan228-imperial-college-london/DE_Groupwork_G4_stage1/runs/l70u4ipk</a>"
      ],
      "text/plain": [
       "<IPython.core.display.HTML object>"
      ]
     },
     "metadata": {},
     "output_type": "display_data"
    },
    {
     "name": "stdout",
     "output_type": "stream",
     "text": [
      "Epoch 001 | Train Loss: 5852.0848 | Val Loss: 364.0403\n",
      "Epoch 002 | Train Loss: 285.4555 | Val Loss: 202.0719\n",
      "Epoch 003 | Train Loss: 149.9115 | Val Loss: 114.0812\n",
      "Epoch 004 | Train Loss: 77.2144 | Val Loss: 45.9103\n",
      "Epoch 005 | Train Loss: 47.1911 | Val Loss: 97.9824\n",
      "Epoch 006 | Train Loss: 38.2631 | Val Loss: 54.6286\n",
      "Epoch 007 | Train Loss: 30.9423 | Val Loss: 25.7024\n",
      "Epoch 008 | Train Loss: 23.2032 | Val Loss: 104.5547\n",
      "Epoch 009 | Train Loss: 36.3651 | Val Loss: 168.7280\n",
      "Epoch 010 | Train Loss: 81.3090 | Val Loss: 21.9962\n",
      "Epoch 011 | Train Loss: 26.2842 | Val Loss: 42.6718\n",
      "Epoch 012 | Train Loss: 60.6857 | Val Loss: 140.6497\n",
      "Epoch 013 | Train Loss: 78.9398 | Val Loss: 17.6022\n",
      "Epoch 014 | Train Loss: 21.4647 | Val Loss: 27.8898\n",
      "Epoch 015 | Train Loss: 26.0312 | Val Loss: 27.4955\n",
      "Epoch 016 | Train Loss: 76.6385 | Val Loss: 114.3482\n",
      "Epoch 017 | Train Loss: 86.5373 | Val Loss: 133.8781\n",
      "Epoch 018 | Train Loss: 306.2026 | Val Loss: 27.2495\n",
      "Early stopping triggered at epoch 18\n"
     ]
    },
    {
     "data": {
      "text/html": [],
      "text/plain": [
       "<IPython.core.display.HTML object>"
      ]
     },
     "metadata": {},
     "output_type": "display_data"
    },
    {
     "data": {
      "text/html": [
       "<br>    <style><br>        .wandb-row {<br>            display: flex;<br>            flex-direction: row;<br>            flex-wrap: wrap;<br>            justify-content: flex-start;<br>            width: 100%;<br>        }<br>        .wandb-col {<br>            display: flex;<br>            flex-direction: column;<br>            flex-basis: 100%;<br>            flex: 1;<br>            padding: 10px;<br>        }<br>    </style><br><div class=\"wandb-row\"><div class=\"wandb-col\"><h3>Run history:</h3><br/><table class=\"wandb\"><tr><td>epoch</td><td>▁▁▂▂▃▃▃▄▄▅▅▆▆▆▇▇██</td></tr><tr><td>train_loss</td><td>█▁▁▁▁▁▁▁▁▁▁▁▁▁▁▁▁▁</td></tr><tr><td>val_loss</td><td>█▅▃▂▃▂▁▃▄▁▂▃▁▁▁▃▃▁</td></tr></table><br/></div><div class=\"wandb-col\"><h3>Run summary:</h3><br/><table class=\"wandb\"><tr><td>epoch</td><td>18</td></tr><tr><td>train_loss</td><td>306.20256</td></tr><tr><td>val_loss</td><td>27.24949</td></tr></table><br/></div></div>"
      ],
      "text/plain": [
       "<IPython.core.display.HTML object>"
      ]
     },
     "metadata": {},
     "output_type": "display_data"
    },
    {
     "data": {
      "text/html": [
       " View run <strong style=\"color:#cdcd00\">dry-moon-8</strong> at: <a href='https://wandb.ai/yixuan228-imperial-college-london/DE_Groupwork_G4_stage1/runs/l70u4ipk' target=\"_blank\">https://wandb.ai/yixuan228-imperial-college-london/DE_Groupwork_G4_stage1/runs/l70u4ipk</a><br> View project at: <a href='https://wandb.ai/yixuan228-imperial-college-london/DE_Groupwork_G4_stage1' target=\"_blank\">https://wandb.ai/yixuan228-imperial-college-london/DE_Groupwork_G4_stage1</a><br>Synced 5 W&B file(s), 0 media file(s), 0 artifact file(s) and 0 other file(s)"
      ],
      "text/plain": [
       "<IPython.core.display.HTML object>"
      ]
     },
     "metadata": {},
     "output_type": "display_data"
    },
    {
     "data": {
      "text/html": [
       "Find logs at: <code>.\\wandb\\run-20250320_154810-l70u4ipk\\logs</code>"
      ],
      "text/plain": [
       "<IPython.core.display.HTML object>"
      ]
     },
     "metadata": {},
     "output_type": "display_data"
    },
    {
     "data": {
      "text/html": [
       "Tracking run with wandb version 0.19.7"
      ],
      "text/plain": [
       "<IPython.core.display.HTML object>"
      ]
     },
     "metadata": {},
     "output_type": "display_data"
    },
    {
     "data": {
      "text/html": [
       "Run data is saved locally in <code>d:\\Projects\\MSc_DE_GroupWork4\\Scripts\\wandb\\run-20250320_154815-g8xwq3x0</code>"
      ],
      "text/plain": [
       "<IPython.core.display.HTML object>"
      ]
     },
     "metadata": {},
     "output_type": "display_data"
    },
    {
     "data": {
      "text/html": [
       "Syncing run <strong><a href='https://wandb.ai/yixuan228-imperial-college-london/DE_Groupwork_G4_stage1/runs/g8xwq3x0' target=\"_blank\">exalted-glitter-9</a></strong> to <a href='https://wandb.ai/yixuan228-imperial-college-london/DE_Groupwork_G4_stage1' target=\"_blank\">Weights & Biases</a> (<a href='https://wandb.me/developer-guide' target=\"_blank\">docs</a>)<br>"
      ],
      "text/plain": [
       "<IPython.core.display.HTML object>"
      ]
     },
     "metadata": {},
     "output_type": "display_data"
    },
    {
     "data": {
      "text/html": [
       " View project at <a href='https://wandb.ai/yixuan228-imperial-college-london/DE_Groupwork_G4_stage1' target=\"_blank\">https://wandb.ai/yixuan228-imperial-college-london/DE_Groupwork_G4_stage1</a>"
      ],
      "text/plain": [
       "<IPython.core.display.HTML object>"
      ]
     },
     "metadata": {},
     "output_type": "display_data"
    },
    {
     "data": {
      "text/html": [
       " View run at <a href='https://wandb.ai/yixuan228-imperial-college-london/DE_Groupwork_G4_stage1/runs/g8xwq3x0' target=\"_blank\">https://wandb.ai/yixuan228-imperial-college-london/DE_Groupwork_G4_stage1/runs/g8xwq3x0</a>"
      ],
      "text/plain": [
       "<IPython.core.display.HTML object>"
      ]
     },
     "metadata": {},
     "output_type": "display_data"
    },
    {
     "name": "stdout",
     "output_type": "stream",
     "text": [
      "Epoch 001 | Train Loss: 18743.3260 | Val Loss: 809.1360\n",
      "Epoch 002 | Train Loss: 565.0396 | Val Loss: 397.1127\n",
      "Epoch 003 | Train Loss: 337.9375 | Val Loss: 271.2774\n",
      "Epoch 004 | Train Loss: 237.5980 | Val Loss: 190.2078\n",
      "Epoch 005 | Train Loss: 171.1534 | Val Loss: 134.5624\n",
      "Epoch 006 | Train Loss: 120.3515 | Val Loss: 89.5623\n",
      "Epoch 007 | Train Loss: 76.9508 | Val Loss: 68.1265\n",
      "Epoch 008 | Train Loss: 48.5564 | Val Loss: 35.4400\n",
      "Epoch 009 | Train Loss: 31.7713 | Val Loss: 30.4337\n",
      "Epoch 010 | Train Loss: 24.2343 | Val Loss: 23.9942\n",
      "Epoch 011 | Train Loss: 21.5728 | Val Loss: 20.4917\n",
      "Epoch 012 | Train Loss: 17.9524 | Val Loss: 16.5679\n",
      "Epoch 013 | Train Loss: 16.7399 | Val Loss: 17.1017\n",
      "Epoch 014 | Train Loss: 15.0586 | Val Loss: 24.8035\n",
      "Epoch 015 | Train Loss: 15.4025 | Val Loss: 14.2257\n",
      "Epoch 016 | Train Loss: 13.9607 | Val Loss: 15.8519\n",
      "Epoch 017 | Train Loss: 14.4603 | Val Loss: 17.6581\n",
      "Epoch 018 | Train Loss: 14.4767 | Val Loss: 18.5115\n",
      "Epoch 019 | Train Loss: 14.1077 | Val Loss: 12.8643\n",
      "Epoch 020 | Train Loss: 12.4152 | Val Loss: 19.2562\n",
      "Epoch 021 | Train Loss: 13.0242 | Val Loss: 11.4153\n",
      "Epoch 022 | Train Loss: 12.3754 | Val Loss: 14.9077\n",
      "Epoch 023 | Train Loss: 11.8701 | Val Loss: 11.1244\n",
      "Epoch 024 | Train Loss: 11.2094 | Val Loss: 19.7888\n",
      "Epoch 025 | Train Loss: 12.7310 | Val Loss: 11.9528\n",
      "Epoch 026 | Train Loss: 11.3763 | Val Loss: 9.3027\n",
      "Epoch 027 | Train Loss: 13.1479 | Val Loss: 10.5614\n",
      "Epoch 028 | Train Loss: 11.0902 | Val Loss: 10.9807\n",
      "Epoch 029 | Train Loss: 10.3132 | Val Loss: 10.5386\n",
      "Epoch 030 | Train Loss: 11.8703 | Val Loss: 19.4922\n",
      "Epoch 031 | Train Loss: 15.2030 | Val Loss: 17.2755\n",
      "Early stopping triggered at epoch 31\n"
     ]
    },
    {
     "data": {
      "text/html": [],
      "text/plain": [
       "<IPython.core.display.HTML object>"
      ]
     },
     "metadata": {},
     "output_type": "display_data"
    },
    {
     "data": {
      "text/html": [
       "<br>    <style><br>        .wandb-row {<br>            display: flex;<br>            flex-direction: row;<br>            flex-wrap: wrap;<br>            justify-content: flex-start;<br>            width: 100%;<br>        }<br>        .wandb-col {<br>            display: flex;<br>            flex-direction: column;<br>            flex-basis: 100%;<br>            flex: 1;<br>            padding: 10px;<br>        }<br>    </style><br><div class=\"wandb-row\"><div class=\"wandb-col\"><h3>Run history:</h3><br/><table class=\"wandb\"><tr><td>epoch</td><td>▁▁▁▂▂▂▂▃▃▃▃▄▄▄▄▅▅▅▅▅▆▆▆▆▇▇▇▇███</td></tr><tr><td>train_loss</td><td>█▁▁▁▁▁▁▁▁▁▁▁▁▁▁▁▁▁▁▁▁▁▁▁▁▁▁▁▁▁▁</td></tr><tr><td>val_loss</td><td>█▄▃▃▂▂▂▁▁▁▁▁▁▁▁▁▁▁▁▁▁▁▁▁▁▁▁▁▁▁▁</td></tr></table><br/></div><div class=\"wandb-col\"><h3>Run summary:</h3><br/><table class=\"wandb\"><tr><td>epoch</td><td>31</td></tr><tr><td>train_loss</td><td>15.20301</td></tr><tr><td>val_loss</td><td>17.27552</td></tr></table><br/></div></div>"
      ],
      "text/plain": [
       "<IPython.core.display.HTML object>"
      ]
     },
     "metadata": {},
     "output_type": "display_data"
    },
    {
     "data": {
      "text/html": [
       " View run <strong style=\"color:#cdcd00\">exalted-glitter-9</strong> at: <a href='https://wandb.ai/yixuan228-imperial-college-london/DE_Groupwork_G4_stage1/runs/g8xwq3x0' target=\"_blank\">https://wandb.ai/yixuan228-imperial-college-london/DE_Groupwork_G4_stage1/runs/g8xwq3x0</a><br> View project at: <a href='https://wandb.ai/yixuan228-imperial-college-london/DE_Groupwork_G4_stage1' target=\"_blank\">https://wandb.ai/yixuan228-imperial-college-london/DE_Groupwork_G4_stage1</a><br>Synced 5 W&B file(s), 0 media file(s), 0 artifact file(s) and 0 other file(s)"
      ],
      "text/plain": [
       "<IPython.core.display.HTML object>"
      ]
     },
     "metadata": {},
     "output_type": "display_data"
    },
    {
     "data": {
      "text/html": [
       "Find logs at: <code>.\\wandb\\run-20250320_154815-g8xwq3x0\\logs</code>"
      ],
      "text/plain": [
       "<IPython.core.display.HTML object>"
      ]
     },
     "metadata": {},
     "output_type": "display_data"
    },
    {
     "data": {
      "text/html": [
       "Tracking run with wandb version 0.19.7"
      ],
      "text/plain": [
       "<IPython.core.display.HTML object>"
      ]
     },
     "metadata": {},
     "output_type": "display_data"
    },
    {
     "data": {
      "text/html": [
       "Run data is saved locally in <code>d:\\Projects\\MSc_DE_GroupWork4\\Scripts\\wandb\\run-20250320_154823-n3qzkw7e</code>"
      ],
      "text/plain": [
       "<IPython.core.display.HTML object>"
      ]
     },
     "metadata": {},
     "output_type": "display_data"
    },
    {
     "data": {
      "text/html": [
       "Syncing run <strong><a href='https://wandb.ai/yixuan228-imperial-college-london/DE_Groupwork_G4_stage1/runs/n3qzkw7e' target=\"_blank\">devoted-firebrand-10</a></strong> to <a href='https://wandb.ai/yixuan228-imperial-college-london/DE_Groupwork_G4_stage1' target=\"_blank\">Weights & Biases</a> (<a href='https://wandb.me/developer-guide' target=\"_blank\">docs</a>)<br>"
      ],
      "text/plain": [
       "<IPython.core.display.HTML object>"
      ]
     },
     "metadata": {},
     "output_type": "display_data"
    },
    {
     "data": {
      "text/html": [
       " View project at <a href='https://wandb.ai/yixuan228-imperial-college-london/DE_Groupwork_G4_stage1' target=\"_blank\">https://wandb.ai/yixuan228-imperial-college-london/DE_Groupwork_G4_stage1</a>"
      ],
      "text/plain": [
       "<IPython.core.display.HTML object>"
      ]
     },
     "metadata": {},
     "output_type": "display_data"
    },
    {
     "data": {
      "text/html": [
       " View run at <a href='https://wandb.ai/yixuan228-imperial-college-london/DE_Groupwork_G4_stage1/runs/n3qzkw7e' target=\"_blank\">https://wandb.ai/yixuan228-imperial-college-london/DE_Groupwork_G4_stage1/runs/n3qzkw7e</a>"
      ],
      "text/plain": [
       "<IPython.core.display.HTML object>"
      ]
     },
     "metadata": {},
     "output_type": "display_data"
    },
    {
     "name": "stdout",
     "output_type": "stream",
     "text": [
      "Epoch 001 | Train Loss: 65434.8751 | Val Loss: 59987.0517\n",
      "Epoch 002 | Train Loss: 32437.5414 | Val Loss: 4880.5081\n",
      "Epoch 003 | Train Loss: 3093.5283 | Val Loss: 2178.2344\n",
      "Epoch 004 | Train Loss: 1578.3507 | Val Loss: 1323.9712\n",
      "Epoch 005 | Train Loss: 1069.9991 | Val Loss: 995.7234\n",
      "Epoch 006 | Train Loss: 861.5873 | Val Loss: 834.3580\n",
      "Epoch 007 | Train Loss: 743.2907 | Val Loss: 718.1313\n",
      "Epoch 008 | Train Loss: 657.5500 | Val Loss: 642.8935\n",
      "Epoch 009 | Train Loss: 588.9413 | Val Loss: 572.3794\n",
      "Epoch 010 | Train Loss: 531.9032 | Val Loss: 515.5507\n",
      "Epoch 011 | Train Loss: 479.3882 | Val Loss: 466.5271\n",
      "Epoch 012 | Train Loss: 435.2010 | Val Loss: 427.2290\n",
      "Epoch 013 | Train Loss: 397.2964 | Val Loss: 396.3582\n",
      "Epoch 014 | Train Loss: 365.0672 | Val Loss: 361.6045\n",
      "Epoch 015 | Train Loss: 336.7013 | Val Loss: 334.5378\n",
      "Epoch 016 | Train Loss: 313.3494 | Val Loss: 308.1485\n",
      "Epoch 017 | Train Loss: 290.6283 | Val Loss: 286.4134\n",
      "Epoch 018 | Train Loss: 271.2918 | Val Loss: 267.3181\n",
      "Epoch 019 | Train Loss: 254.5918 | Val Loss: 251.1648\n",
      "Epoch 020 | Train Loss: 238.7764 | Val Loss: 237.1658\n",
      "Epoch 021 | Train Loss: 225.1716 | Val Loss: 225.4189\n",
      "Epoch 022 | Train Loss: 211.7276 | Val Loss: 208.6972\n",
      "Epoch 023 | Train Loss: 199.9023 | Val Loss: 194.1616\n",
      "Epoch 024 | Train Loss: 187.7960 | Val Loss: 182.8023\n",
      "Epoch 025 | Train Loss: 176.7824 | Val Loss: 174.2856\n",
      "Epoch 026 | Train Loss: 166.4035 | Val Loss: 164.2647\n",
      "Epoch 027 | Train Loss: 155.7254 | Val Loss: 154.8231\n",
      "Epoch 028 | Train Loss: 146.4062 | Val Loss: 139.9568\n",
      "Epoch 029 | Train Loss: 137.6813 | Val Loss: 133.0728\n",
      "Epoch 030 | Train Loss: 126.9700 | Val Loss: 122.1000\n",
      "Epoch 031 | Train Loss: 119.2401 | Val Loss: 113.9692\n",
      "Epoch 032 | Train Loss: 110.0192 | Val Loss: 104.5243\n",
      "Epoch 033 | Train Loss: 102.4143 | Val Loss: 97.0633\n",
      "Epoch 034 | Train Loss: 94.5619 | Val Loss: 90.4021\n",
      "Epoch 035 | Train Loss: 87.4232 | Val Loss: 85.2892\n",
      "Epoch 036 | Train Loss: 80.9823 | Val Loss: 75.8622\n",
      "Epoch 037 | Train Loss: 73.8728 | Val Loss: 70.8671\n",
      "Epoch 038 | Train Loss: 68.0919 | Val Loss: 64.4686\n",
      "Epoch 039 | Train Loss: 62.6962 | Val Loss: 61.1750\n",
      "Epoch 040 | Train Loss: 57.7061 | Val Loss: 55.9255\n",
      "Epoch 041 | Train Loss: 52.6617 | Val Loss: 50.7458\n",
      "Epoch 042 | Train Loss: 48.1251 | Val Loss: 46.6748\n",
      "Epoch 043 | Train Loss: 45.5832 | Val Loss: 43.5882\n",
      "Epoch 044 | Train Loss: 41.6485 | Val Loss: 39.7066\n",
      "Epoch 045 | Train Loss: 38.1762 | Val Loss: 37.5773\n",
      "Epoch 046 | Train Loss: 35.4484 | Val Loss: 34.8536\n",
      "Epoch 047 | Train Loss: 33.1918 | Val Loss: 34.9732\n",
      "Epoch 048 | Train Loss: 30.9179 | Val Loss: 31.3163\n",
      "Epoch 049 | Train Loss: 29.2201 | Val Loss: 29.5515\n",
      "Epoch 050 | Train Loss: 27.5733 | Val Loss: 27.2461\n",
      "Epoch 051 | Train Loss: 26.0196 | Val Loss: 26.9878\n",
      "Epoch 052 | Train Loss: 24.5795 | Val Loss: 25.8011\n",
      "Epoch 053 | Train Loss: 23.5561 | Val Loss: 24.4722\n",
      "Epoch 054 | Train Loss: 22.0190 | Val Loss: 22.9473\n",
      "Epoch 055 | Train Loss: 21.2435 | Val Loss: 22.7109\n",
      "Epoch 056 | Train Loss: 21.2658 | Val Loss: 20.8772\n",
      "Epoch 057 | Train Loss: 20.2260 | Val Loss: 20.8841\n",
      "Epoch 058 | Train Loss: 19.4988 | Val Loss: 19.6192\n",
      "Epoch 059 | Train Loss: 18.6439 | Val Loss: 21.3812\n",
      "Epoch 060 | Train Loss: 18.2253 | Val Loss: 19.4071\n",
      "Epoch 061 | Train Loss: 17.7443 | Val Loss: 18.0650\n",
      "Epoch 062 | Train Loss: 16.9079 | Val Loss: 17.9058\n",
      "Epoch 063 | Train Loss: 16.9717 | Val Loss: 17.8404\n",
      "Epoch 064 | Train Loss: 16.7124 | Val Loss: 16.7721\n",
      "Epoch 065 | Train Loss: 16.0259 | Val Loss: 17.4461\n",
      "Epoch 066 | Train Loss: 15.6528 | Val Loss: 16.7457\n",
      "Epoch 067 | Train Loss: 15.0193 | Val Loss: 17.1990\n",
      "Epoch 068 | Train Loss: 15.1509 | Val Loss: 15.9380\n",
      "Epoch 069 | Train Loss: 14.6269 | Val Loss: 15.1966\n",
      "Epoch 070 | Train Loss: 14.0789 | Val Loss: 15.3965\n",
      "Epoch 071 | Train Loss: 14.2069 | Val Loss: 15.5377\n",
      "Epoch 072 | Train Loss: 13.8535 | Val Loss: 14.2692\n",
      "Epoch 073 | Train Loss: 14.5061 | Val Loss: 14.2291\n",
      "Epoch 074 | Train Loss: 12.8952 | Val Loss: 15.0737\n",
      "Epoch 075 | Train Loss: 12.8913 | Val Loss: 13.3436\n",
      "Epoch 076 | Train Loss: 13.0037 | Val Loss: 16.8784\n",
      "Epoch 077 | Train Loss: 12.8724 | Val Loss: 12.9939\n",
      "Epoch 078 | Train Loss: 12.0875 | Val Loss: 13.2539\n",
      "Epoch 079 | Train Loss: 11.8024 | Val Loss: 12.9966\n",
      "Epoch 080 | Train Loss: 11.6018 | Val Loss: 13.0704\n",
      "Epoch 081 | Train Loss: 11.6825 | Val Loss: 13.4568\n",
      "Epoch 082 | Train Loss: 11.6262 | Val Loss: 11.9447\n",
      "Epoch 083 | Train Loss: 11.1477 | Val Loss: 13.5763\n",
      "Epoch 084 | Train Loss: 12.1461 | Val Loss: 12.8891\n",
      "Epoch 085 | Train Loss: 11.0468 | Val Loss: 12.8580\n",
      "Epoch 086 | Train Loss: 11.6812 | Val Loss: 11.0983\n",
      "Epoch 087 | Train Loss: 10.5591 | Val Loss: 19.5055\n",
      "Epoch 088 | Train Loss: 12.1120 | Val Loss: 10.6204\n",
      "Epoch 089 | Train Loss: 10.6272 | Val Loss: 10.4499\n",
      "Epoch 090 | Train Loss: 10.3785 | Val Loss: 10.3302\n",
      "Epoch 091 | Train Loss: 10.4732 | Val Loss: 11.8138\n",
      "Epoch 092 | Train Loss: 10.2020 | Val Loss: 10.6969\n",
      "Epoch 093 | Train Loss: 10.0115 | Val Loss: 10.9608\n",
      "Epoch 094 | Train Loss: 10.2192 | Val Loss: 10.4198\n",
      "Epoch 095 | Train Loss: 9.9333 | Val Loss: 11.9902\n",
      "Early stopping triggered at epoch 95\n"
     ]
    },
    {
     "data": {
      "text/html": [],
      "text/plain": [
       "<IPython.core.display.HTML object>"
      ]
     },
     "metadata": {},
     "output_type": "display_data"
    },
    {
     "data": {
      "text/html": [
       "<br>    <style><br>        .wandb-row {<br>            display: flex;<br>            flex-direction: row;<br>            flex-wrap: wrap;<br>            justify-content: flex-start;<br>            width: 100%;<br>        }<br>        .wandb-col {<br>            display: flex;<br>            flex-direction: column;<br>            flex-basis: 100%;<br>            flex: 1;<br>            padding: 10px;<br>        }<br>    </style><br><div class=\"wandb-row\"><div class=\"wandb-col\"><h3>Run history:</h3><br/><table class=\"wandb\"><tr><td>epoch</td><td>▁▁▂▂▂▂▂▂▂▃▃▃▄▄▄▄▄▄▄▅▅▅▅▅▅▅▆▆▆▆▆▆▇▇▇▇▇▇▇█</td></tr><tr><td>train_loss</td><td>█▁▁▁▁▁▁▁▁▁▁▁▁▁▁▁▁▁▁▁▁▁▁▁▁▁▁▁▁▁▁▁▁▁▁▁▁▁▁▁</td></tr><tr><td>val_loss</td><td>█▄▃▃▂▂▂▂▂▂▂▁▁▁▁▁▁▁▁▁▁▁▁▁▁▁▁▁▁▁▁▁▁▁▁▁▁▁▁▁</td></tr></table><br/></div><div class=\"wandb-col\"><h3>Run summary:</h3><br/><table class=\"wandb\"><tr><td>epoch</td><td>95</td></tr><tr><td>train_loss</td><td>9.93332</td></tr><tr><td>val_loss</td><td>11.99022</td></tr></table><br/></div></div>"
      ],
      "text/plain": [
       "<IPython.core.display.HTML object>"
      ]
     },
     "metadata": {},
     "output_type": "display_data"
    },
    {
     "data": {
      "text/html": [
       " View run <strong style=\"color:#cdcd00\">devoted-firebrand-10</strong> at: <a href='https://wandb.ai/yixuan228-imperial-college-london/DE_Groupwork_G4_stage1/runs/n3qzkw7e' target=\"_blank\">https://wandb.ai/yixuan228-imperial-college-london/DE_Groupwork_G4_stage1/runs/n3qzkw7e</a><br> View project at: <a href='https://wandb.ai/yixuan228-imperial-college-london/DE_Groupwork_G4_stage1' target=\"_blank\">https://wandb.ai/yixuan228-imperial-college-london/DE_Groupwork_G4_stage1</a><br>Synced 5 W&B file(s), 0 media file(s), 0 artifact file(s) and 0 other file(s)"
      ],
      "text/plain": [
       "<IPython.core.display.HTML object>"
      ]
     },
     "metadata": {},
     "output_type": "display_data"
    },
    {
     "data": {
      "text/html": [
       "Find logs at: <code>.\\wandb\\run-20250320_154823-n3qzkw7e\\logs</code>"
      ],
      "text/plain": [
       "<IPython.core.display.HTML object>"
      ]
     },
     "metadata": {},
     "output_type": "display_data"
    },
    {
     "data": {
      "text/html": [
       "Tracking run with wandb version 0.19.7"
      ],
      "text/plain": [
       "<IPython.core.display.HTML object>"
      ]
     },
     "metadata": {},
     "output_type": "display_data"
    },
    {
     "data": {
      "text/html": [
       "Run data is saved locally in <code>d:\\Projects\\MSc_DE_GroupWork4\\Scripts\\wandb\\run-20250320_154842-69vkyz8h</code>"
      ],
      "text/plain": [
       "<IPython.core.display.HTML object>"
      ]
     },
     "metadata": {},
     "output_type": "display_data"
    },
    {
     "data": {
      "text/html": [
       "Syncing run <strong><a href='https://wandb.ai/yixuan228-imperial-college-london/DE_Groupwork_G4_stage1/runs/69vkyz8h' target=\"_blank\">honest-shape-11</a></strong> to <a href='https://wandb.ai/yixuan228-imperial-college-london/DE_Groupwork_G4_stage1' target=\"_blank\">Weights & Biases</a> (<a href='https://wandb.me/developer-guide' target=\"_blank\">docs</a>)<br>"
      ],
      "text/plain": [
       "<IPython.core.display.HTML object>"
      ]
     },
     "metadata": {},
     "output_type": "display_data"
    },
    {
     "data": {
      "text/html": [
       " View project at <a href='https://wandb.ai/yixuan228-imperial-college-london/DE_Groupwork_G4_stage1' target=\"_blank\">https://wandb.ai/yixuan228-imperial-college-london/DE_Groupwork_G4_stage1</a>"
      ],
      "text/plain": [
       "<IPython.core.display.HTML object>"
      ]
     },
     "metadata": {},
     "output_type": "display_data"
    },
    {
     "data": {
      "text/html": [
       " View run at <a href='https://wandb.ai/yixuan228-imperial-college-london/DE_Groupwork_G4_stage1/runs/69vkyz8h' target=\"_blank\">https://wandb.ai/yixuan228-imperial-college-london/DE_Groupwork_G4_stage1/runs/69vkyz8h</a>"
      ],
      "text/plain": [
       "<IPython.core.display.HTML object>"
      ]
     },
     "metadata": {},
     "output_type": "display_data"
    },
    {
     "name": "stdout",
     "output_type": "stream",
     "text": [
      "Epoch 001 | Train Loss: 6435.2143 | Val Loss: 349.9972\n",
      "Epoch 002 | Train Loss: 244.9147 | Val Loss: 617.4024\n",
      "Epoch 003 | Train Loss: 226.9172 | Val Loss: 113.5900\n",
      "Epoch 004 | Train Loss: 82.9939 | Val Loss: 257.0768\n",
      "Epoch 005 | Train Loss: 86.2190 | Val Loss: 349.9179\n",
      "Epoch 006 | Train Loss: 80.1090 | Val Loss: 55.7584\n",
      "Epoch 007 | Train Loss: 43.2202 | Val Loss: 238.1735\n",
      "Epoch 008 | Train Loss: 35.2823 | Val Loss: 176.8162\n",
      "Epoch 009 | Train Loss: 37.5309 | Val Loss: 24.9922\n",
      "Epoch 010 | Train Loss: 65.3718 | Val Loss: 64.5454\n",
      "Epoch 011 | Train Loss: 76.2842 | Val Loss: 24.1425\n",
      "Epoch 012 | Train Loss: 28.7178 | Val Loss: 595.0157\n",
      "Epoch 013 | Train Loss: 742.3273 | Val Loss: 106.0248\n",
      "Epoch 014 | Train Loss: 43.9384 | Val Loss: 27.6324\n",
      "Epoch 015 | Train Loss: 31.2578 | Val Loss: 21.0604\n",
      "Epoch 016 | Train Loss: 21.5792 | Val Loss: 56.1031\n",
      "Epoch 017 | Train Loss: 25.1525 | Val Loss: 104.8192\n",
      "Epoch 018 | Train Loss: 30.3076 | Val Loss: 18.8448\n",
      "Epoch 019 | Train Loss: 33.8374 | Val Loss: 34.0515\n",
      "Epoch 020 | Train Loss: 53.3228 | Val Loss: 14.9010\n",
      "Epoch 021 | Train Loss: 33.6119 | Val Loss: 41.2376\n",
      "Epoch 022 | Train Loss: 21.1445 | Val Loss: 323.7401\n",
      "Epoch 023 | Train Loss: 59.0383 | Val Loss: 28.1251\n",
      "Epoch 024 | Train Loss: 43.1608 | Val Loss: 493.5354\n",
      "Epoch 025 | Train Loss: 83.1752 | Val Loss: 95.4388\n",
      "Early stopping triggered at epoch 25\n"
     ]
    },
    {
     "data": {
      "text/html": [],
      "text/plain": [
       "<IPython.core.display.HTML object>"
      ]
     },
     "metadata": {},
     "output_type": "display_data"
    },
    {
     "data": {
      "text/html": [
       "<br>    <style><br>        .wandb-row {<br>            display: flex;<br>            flex-direction: row;<br>            flex-wrap: wrap;<br>            justify-content: flex-start;<br>            width: 100%;<br>        }<br>        .wandb-col {<br>            display: flex;<br>            flex-direction: column;<br>            flex-basis: 100%;<br>            flex: 1;<br>            padding: 10px;<br>        }<br>    </style><br><div class=\"wandb-row\"><div class=\"wandb-col\"><h3>Run history:</h3><br/><table class=\"wandb\"><tr><td>epoch</td><td>▁▁▂▂▂▂▃▃▃▄▄▄▅▅▅▅▆▆▆▇▇▇▇██</td></tr><tr><td>train_loss</td><td>█▁▁▁▁▁▁▁▁▁▁▁▂▁▁▁▁▁▁▁▁▁▁▁▁</td></tr><tr><td>val_loss</td><td>▅█▂▄▅▁▄▃▁▂▁█▂▁▁▁▂▁▁▁▁▅▁▇▂</td></tr></table><br/></div><div class=\"wandb-col\"><h3>Run summary:</h3><br/><table class=\"wandb\"><tr><td>epoch</td><td>25</td></tr><tr><td>train_loss</td><td>83.1752</td></tr><tr><td>val_loss</td><td>95.43882</td></tr></table><br/></div></div>"
      ],
      "text/plain": [
       "<IPython.core.display.HTML object>"
      ]
     },
     "metadata": {},
     "output_type": "display_data"
    },
    {
     "data": {
      "text/html": [
       " View run <strong style=\"color:#cdcd00\">honest-shape-11</strong> at: <a href='https://wandb.ai/yixuan228-imperial-college-london/DE_Groupwork_G4_stage1/runs/69vkyz8h' target=\"_blank\">https://wandb.ai/yixuan228-imperial-college-london/DE_Groupwork_G4_stage1/runs/69vkyz8h</a><br> View project at: <a href='https://wandb.ai/yixuan228-imperial-college-london/DE_Groupwork_G4_stage1' target=\"_blank\">https://wandb.ai/yixuan228-imperial-college-london/DE_Groupwork_G4_stage1</a><br>Synced 5 W&B file(s), 0 media file(s), 0 artifact file(s) and 0 other file(s)"
      ],
      "text/plain": [
       "<IPython.core.display.HTML object>"
      ]
     },
     "metadata": {},
     "output_type": "display_data"
    },
    {
     "data": {
      "text/html": [
       "Find logs at: <code>.\\wandb\\run-20250320_154842-69vkyz8h\\logs</code>"
      ],
      "text/plain": [
       "<IPython.core.display.HTML object>"
      ]
     },
     "metadata": {},
     "output_type": "display_data"
    },
    {
     "data": {
      "text/html": [
       "Tracking run with wandb version 0.19.7"
      ],
      "text/plain": [
       "<IPython.core.display.HTML object>"
      ]
     },
     "metadata": {},
     "output_type": "display_data"
    },
    {
     "data": {
      "text/html": [
       "Run data is saved locally in <code>d:\\Projects\\MSc_DE_GroupWork4\\Scripts\\wandb\\run-20250320_154849-gxxre98z</code>"
      ],
      "text/plain": [
       "<IPython.core.display.HTML object>"
      ]
     },
     "metadata": {},
     "output_type": "display_data"
    },
    {
     "data": {
      "text/html": [
       "Syncing run <strong><a href='https://wandb.ai/yixuan228-imperial-college-london/DE_Groupwork_G4_stage1/runs/gxxre98z' target=\"_blank\">vital-paper-12</a></strong> to <a href='https://wandb.ai/yixuan228-imperial-college-london/DE_Groupwork_G4_stage1' target=\"_blank\">Weights & Biases</a> (<a href='https://wandb.me/developer-guide' target=\"_blank\">docs</a>)<br>"
      ],
      "text/plain": [
       "<IPython.core.display.HTML object>"
      ]
     },
     "metadata": {},
     "output_type": "display_data"
    },
    {
     "data": {
      "text/html": [
       " View project at <a href='https://wandb.ai/yixuan228-imperial-college-london/DE_Groupwork_G4_stage1' target=\"_blank\">https://wandb.ai/yixuan228-imperial-college-london/DE_Groupwork_G4_stage1</a>"
      ],
      "text/plain": [
       "<IPython.core.display.HTML object>"
      ]
     },
     "metadata": {},
     "output_type": "display_data"
    },
    {
     "data": {
      "text/html": [
       " View run at <a href='https://wandb.ai/yixuan228-imperial-college-london/DE_Groupwork_G4_stage1/runs/gxxre98z' target=\"_blank\">https://wandb.ai/yixuan228-imperial-college-london/DE_Groupwork_G4_stage1/runs/gxxre98z</a>"
      ],
      "text/plain": [
       "<IPython.core.display.HTML object>"
      ]
     },
     "metadata": {},
     "output_type": "display_data"
    },
    {
     "name": "stdout",
     "output_type": "stream",
     "text": [
      "Epoch 001 | Train Loss: 15954.7781 | Val Loss: 681.6633\n",
      "Epoch 002 | Train Loss: 472.8832 | Val Loss: 350.3400\n",
      "Epoch 003 | Train Loss: 285.3496 | Val Loss: 221.0999\n",
      "Epoch 004 | Train Loss: 196.2741 | Val Loss: 158.8600\n",
      "Epoch 005 | Train Loss: 142.4672 | Val Loss: 132.9104\n",
      "Epoch 006 | Train Loss: 98.6377 | Val Loss: 89.6200\n",
      "Epoch 007 | Train Loss: 64.3901 | Val Loss: 46.4995\n",
      "Epoch 008 | Train Loss: 39.1683 | Val Loss: 32.2095\n",
      "Epoch 009 | Train Loss: 27.8178 | Val Loss: 25.7599\n",
      "Epoch 010 | Train Loss: 22.1888 | Val Loss: 19.8598\n",
      "Epoch 011 | Train Loss: 19.9460 | Val Loss: 24.1580\n",
      "Epoch 012 | Train Loss: 19.3672 | Val Loss: 18.4538\n",
      "Epoch 013 | Train Loss: 15.6703 | Val Loss: 22.3499\n",
      "Epoch 014 | Train Loss: 18.0497 | Val Loss: 14.3055\n",
      "Epoch 015 | Train Loss: 15.8522 | Val Loss: 21.4439\n",
      "Epoch 016 | Train Loss: 17.3655 | Val Loss: 23.1426\n",
      "Epoch 017 | Train Loss: 13.2305 | Val Loss: 23.1850\n",
      "Epoch 018 | Train Loss: 16.6565 | Val Loss: 93.3630\n",
      "Epoch 019 | Train Loss: 23.2579 | Val Loss: 11.3707\n",
      "Epoch 020 | Train Loss: 14.6197 | Val Loss: 40.6454\n",
      "Epoch 021 | Train Loss: 15.5731 | Val Loss: 17.2655\n",
      "Epoch 022 | Train Loss: 12.8102 | Val Loss: 17.8294\n",
      "Epoch 023 | Train Loss: 13.7054 | Val Loss: 15.7852\n",
      "Epoch 024 | Train Loss: 12.6922 | Val Loss: 15.7872\n",
      "Early stopping triggered at epoch 24\n"
     ]
    },
    {
     "data": {
      "text/html": [],
      "text/plain": [
       "<IPython.core.display.HTML object>"
      ]
     },
     "metadata": {},
     "output_type": "display_data"
    },
    {
     "data": {
      "text/html": [
       "<br>    <style><br>        .wandb-row {<br>            display: flex;<br>            flex-direction: row;<br>            flex-wrap: wrap;<br>            justify-content: flex-start;<br>            width: 100%;<br>        }<br>        .wandb-col {<br>            display: flex;<br>            flex-direction: column;<br>            flex-basis: 100%;<br>            flex: 1;<br>            padding: 10px;<br>        }<br>    </style><br><div class=\"wandb-row\"><div class=\"wandb-col\"><h3>Run history:</h3><br/><table class=\"wandb\"><tr><td>epoch</td><td>▁▁▂▂▂▃▃▃▃▄▄▄▅▅▅▆▆▆▆▇▇▇██</td></tr><tr><td>train_loss</td><td>█▁▁▁▁▁▁▁▁▁▁▁▁▁▁▁▁▁▁▁▁▁▁▁</td></tr><tr><td>val_loss</td><td>█▅▃▃▂▂▁▁▁▁▁▁▁▁▁▁▁▂▁▁▁▁▁▁</td></tr></table><br/></div><div class=\"wandb-col\"><h3>Run summary:</h3><br/><table class=\"wandb\"><tr><td>epoch</td><td>24</td></tr><tr><td>train_loss</td><td>12.69224</td></tr><tr><td>val_loss</td><td>15.78724</td></tr></table><br/></div></div>"
      ],
      "text/plain": [
       "<IPython.core.display.HTML object>"
      ]
     },
     "metadata": {},
     "output_type": "display_data"
    },
    {
     "data": {
      "text/html": [
       " View run <strong style=\"color:#cdcd00\">vital-paper-12</strong> at: <a href='https://wandb.ai/yixuan228-imperial-college-london/DE_Groupwork_G4_stage1/runs/gxxre98z' target=\"_blank\">https://wandb.ai/yixuan228-imperial-college-london/DE_Groupwork_G4_stage1/runs/gxxre98z</a><br> View project at: <a href='https://wandb.ai/yixuan228-imperial-college-london/DE_Groupwork_G4_stage1' target=\"_blank\">https://wandb.ai/yixuan228-imperial-college-london/DE_Groupwork_G4_stage1</a><br>Synced 5 W&B file(s), 0 media file(s), 0 artifact file(s) and 0 other file(s)"
      ],
      "text/plain": [
       "<IPython.core.display.HTML object>"
      ]
     },
     "metadata": {},
     "output_type": "display_data"
    },
    {
     "data": {
      "text/html": [
       "Find logs at: <code>.\\wandb\\run-20250320_154849-gxxre98z\\logs</code>"
      ],
      "text/plain": [
       "<IPython.core.display.HTML object>"
      ]
     },
     "metadata": {},
     "output_type": "display_data"
    },
    {
     "data": {
      "text/html": [
       "Tracking run with wandb version 0.19.7"
      ],
      "text/plain": [
       "<IPython.core.display.HTML object>"
      ]
     },
     "metadata": {},
     "output_type": "display_data"
    },
    {
     "data": {
      "text/html": [
       "Run data is saved locally in <code>d:\\Projects\\MSc_DE_GroupWork4\\Scripts\\wandb\\run-20250320_154857-ztfbjtyh</code>"
      ],
      "text/plain": [
       "<IPython.core.display.HTML object>"
      ]
     },
     "metadata": {},
     "output_type": "display_data"
    },
    {
     "data": {
      "text/html": [
       "Syncing run <strong><a href='https://wandb.ai/yixuan228-imperial-college-london/DE_Groupwork_G4_stage1/runs/ztfbjtyh' target=\"_blank\">distinctive-firebrand-13</a></strong> to <a href='https://wandb.ai/yixuan228-imperial-college-london/DE_Groupwork_G4_stage1' target=\"_blank\">Weights & Biases</a> (<a href='https://wandb.me/developer-guide' target=\"_blank\">docs</a>)<br>"
      ],
      "text/plain": [
       "<IPython.core.display.HTML object>"
      ]
     },
     "metadata": {},
     "output_type": "display_data"
    },
    {
     "data": {
      "text/html": [
       " View project at <a href='https://wandb.ai/yixuan228-imperial-college-london/DE_Groupwork_G4_stage1' target=\"_blank\">https://wandb.ai/yixuan228-imperial-college-london/DE_Groupwork_G4_stage1</a>"
      ],
      "text/plain": [
       "<IPython.core.display.HTML object>"
      ]
     },
     "metadata": {},
     "output_type": "display_data"
    },
    {
     "data": {
      "text/html": [
       " View run at <a href='https://wandb.ai/yixuan228-imperial-college-london/DE_Groupwork_G4_stage1/runs/ztfbjtyh' target=\"_blank\">https://wandb.ai/yixuan228-imperial-college-london/DE_Groupwork_G4_stage1/runs/ztfbjtyh</a>"
      ],
      "text/plain": [
       "<IPython.core.display.HTML object>"
      ]
     },
     "metadata": {},
     "output_type": "display_data"
    },
    {
     "name": "stdout",
     "output_type": "stream",
     "text": [
      "Epoch 001 | Train Loss: 64950.7129 | Val Loss: 53818.7654\n",
      "Epoch 002 | Train Loss: 17149.9256 | Val Loss: 2653.7431\n",
      "Epoch 003 | Train Loss: 1766.8293 | Val Loss: 1301.7696\n",
      "Epoch 004 | Train Loss: 1002.1636 | Val Loss: 877.1566\n",
      "Epoch 005 | Train Loss: 742.9375 | Val Loss: 690.3981\n",
      "Epoch 006 | Train Loss: 605.7247 | Val Loss: 570.5916\n",
      "Epoch 007 | Train Loss: 515.0793 | Val Loss: 487.3515\n",
      "Epoch 008 | Train Loss: 445.9908 | Val Loss: 425.4663\n",
      "Epoch 009 | Train Loss: 393.9508 | Val Loss: 373.2357\n",
      "Epoch 010 | Train Loss: 350.2216 | Val Loss: 333.9542\n",
      "Epoch 011 | Train Loss: 315.3575 | Val Loss: 296.8270\n",
      "Epoch 012 | Train Loss: 285.0855 | Val Loss: 269.7433\n",
      "Epoch 013 | Train Loss: 259.7092 | Val Loss: 248.3750\n",
      "Epoch 014 | Train Loss: 239.0720 | Val Loss: 224.0642\n",
      "Epoch 015 | Train Loss: 218.0253 | Val Loss: 204.0232\n",
      "Epoch 016 | Train Loss: 200.7779 | Val Loss: 196.3565\n",
      "Epoch 017 | Train Loss: 185.0828 | Val Loss: 172.2183\n",
      "Epoch 018 | Train Loss: 171.1395 | Val Loss: 159.1278\n",
      "Epoch 019 | Train Loss: 158.1505 | Val Loss: 149.8367\n",
      "Epoch 020 | Train Loss: 146.3965 | Val Loss: 135.6259\n",
      "Epoch 021 | Train Loss: 133.7449 | Val Loss: 130.6835\n",
      "Epoch 022 | Train Loss: 123.2680 | Val Loss: 122.2652\n",
      "Epoch 023 | Train Loss: 114.4566 | Val Loss: 106.6663\n",
      "Epoch 024 | Train Loss: 104.5105 | Val Loss: 95.8925\n",
      "Epoch 025 | Train Loss: 94.2030 | Val Loss: 86.6557\n",
      "Epoch 026 | Train Loss: 85.4902 | Val Loss: 80.2347\n",
      "Epoch 027 | Train Loss: 77.4383 | Val Loss: 70.5724\n",
      "Epoch 028 | Train Loss: 70.2732 | Val Loss: 64.8710\n",
      "Epoch 029 | Train Loss: 64.0051 | Val Loss: 60.2028\n",
      "Epoch 030 | Train Loss: 57.8136 | Val Loss: 53.7474\n",
      "Epoch 031 | Train Loss: 52.6301 | Val Loss: 54.8078\n",
      "Epoch 032 | Train Loss: 47.2991 | Val Loss: 44.2364\n",
      "Epoch 033 | Train Loss: 42.6955 | Val Loss: 42.0847\n",
      "Epoch 034 | Train Loss: 38.7131 | Val Loss: 37.3967\n",
      "Epoch 035 | Train Loss: 35.0137 | Val Loss: 34.7721\n",
      "Epoch 036 | Train Loss: 32.8729 | Val Loss: 32.2823\n",
      "Epoch 037 | Train Loss: 30.1731 | Val Loss: 30.4668\n",
      "Epoch 038 | Train Loss: 28.0972 | Val Loss: 29.2724\n",
      "Epoch 039 | Train Loss: 26.6708 | Val Loss: 26.3526\n",
      "Epoch 040 | Train Loss: 24.6009 | Val Loss: 25.0929\n",
      "Epoch 041 | Train Loss: 23.9844 | Val Loss: 23.6451\n",
      "Epoch 042 | Train Loss: 22.2105 | Val Loss: 27.4455\n",
      "Epoch 043 | Train Loss: 21.8663 | Val Loss: 22.4383\n",
      "Epoch 044 | Train Loss: 20.4972 | Val Loss: 20.7380\n",
      "Epoch 045 | Train Loss: 19.3903 | Val Loss: 28.7084\n",
      "Epoch 046 | Train Loss: 22.4455 | Val Loss: 19.1758\n",
      "Epoch 047 | Train Loss: 18.6300 | Val Loss: 22.3401\n",
      "Epoch 048 | Train Loss: 17.9305 | Val Loss: 17.7605\n",
      "Epoch 049 | Train Loss: 17.5033 | Val Loss: 17.1818\n",
      "Epoch 050 | Train Loss: 16.3814 | Val Loss: 17.2567\n",
      "Epoch 051 | Train Loss: 16.1959 | Val Loss: 17.7340\n",
      "Epoch 052 | Train Loss: 16.4060 | Val Loss: 16.4028\n",
      "Epoch 053 | Train Loss: 15.1660 | Val Loss: 17.6096\n",
      "Epoch 054 | Train Loss: 14.7170 | Val Loss: 15.5518\n",
      "Epoch 055 | Train Loss: 14.6437 | Val Loss: 16.2279\n",
      "Epoch 056 | Train Loss: 14.2708 | Val Loss: 17.4887\n",
      "Epoch 057 | Train Loss: 15.0454 | Val Loss: 15.0081\n",
      "Epoch 058 | Train Loss: 13.5549 | Val Loss: 14.5111\n",
      "Epoch 059 | Train Loss: 13.5386 | Val Loss: 14.3450\n",
      "Epoch 060 | Train Loss: 13.4102 | Val Loss: 14.0792\n",
      "Epoch 061 | Train Loss: 14.7648 | Val Loss: 14.6200\n",
      "Epoch 062 | Train Loss: 12.9158 | Val Loss: 15.9625\n",
      "Epoch 063 | Train Loss: 12.7859 | Val Loss: 13.4612\n",
      "Epoch 064 | Train Loss: 13.0687 | Val Loss: 15.3784\n",
      "Epoch 065 | Train Loss: 12.7217 | Val Loss: 14.8460\n",
      "Epoch 066 | Train Loss: 14.0053 | Val Loss: 15.1933\n",
      "Epoch 067 | Train Loss: 14.2240 | Val Loss: 14.6926\n",
      "Epoch 068 | Train Loss: 13.4349 | Val Loss: 21.8730\n",
      "Early stopping triggered at epoch 68\n"
     ]
    },
    {
     "data": {
      "text/html": [],
      "text/plain": [
       "<IPython.core.display.HTML object>"
      ]
     },
     "metadata": {},
     "output_type": "display_data"
    },
    {
     "data": {
      "text/html": [
       "<br>    <style><br>        .wandb-row {<br>            display: flex;<br>            flex-direction: row;<br>            flex-wrap: wrap;<br>            justify-content: flex-start;<br>            width: 100%;<br>        }<br>        .wandb-col {<br>            display: flex;<br>            flex-direction: column;<br>            flex-basis: 100%;<br>            flex: 1;<br>            padding: 10px;<br>        }<br>    </style><br><div class=\"wandb-row\"><div class=\"wandb-col\"><h3>Run history:</h3><br/><table class=\"wandb\"><tr><td>epoch</td><td>▁▁▁▂▂▂▂▂▂▂▃▃▃▃▃▄▄▄▄▅▅▅▅▅▅▆▆▆▆▆▆▇▇▇▇▇▇███</td></tr><tr><td>train_loss</td><td>█▃▁▁▁▁▁▁▁▁▁▁▁▁▁▁▁▁▁▁▁▁▁▁▁▁▁▁▁▁▁▁▁▁▁▁▁▁▁▁</td></tr><tr><td>val_loss</td><td>█▁▁▁▁▁▁▁▁▁▁▁▁▁▁▁▁▁▁▁▁▁▁▁▁▁▁▁▁▁▁▁▁▁▁▁▁▁▁▁</td></tr></table><br/></div><div class=\"wandb-col\"><h3>Run summary:</h3><br/><table class=\"wandb\"><tr><td>epoch</td><td>68</td></tr><tr><td>train_loss</td><td>13.43486</td></tr><tr><td>val_loss</td><td>21.87302</td></tr></table><br/></div></div>"
      ],
      "text/plain": [
       "<IPython.core.display.HTML object>"
      ]
     },
     "metadata": {},
     "output_type": "display_data"
    },
    {
     "data": {
      "text/html": [
       " View run <strong style=\"color:#cdcd00\">distinctive-firebrand-13</strong> at: <a href='https://wandb.ai/yixuan228-imperial-college-london/DE_Groupwork_G4_stage1/runs/ztfbjtyh' target=\"_blank\">https://wandb.ai/yixuan228-imperial-college-london/DE_Groupwork_G4_stage1/runs/ztfbjtyh</a><br> View project at: <a href='https://wandb.ai/yixuan228-imperial-college-london/DE_Groupwork_G4_stage1' target=\"_blank\">https://wandb.ai/yixuan228-imperial-college-london/DE_Groupwork_G4_stage1</a><br>Synced 5 W&B file(s), 0 media file(s), 0 artifact file(s) and 0 other file(s)"
      ],
      "text/plain": [
       "<IPython.core.display.HTML object>"
      ]
     },
     "metadata": {},
     "output_type": "display_data"
    },
    {
     "data": {
      "text/html": [
       "Find logs at: <code>.\\wandb\\run-20250320_154857-ztfbjtyh\\logs</code>"
      ],
      "text/plain": [
       "<IPython.core.display.HTML object>"
      ]
     },
     "metadata": {},
     "output_type": "display_data"
    },
    {
     "data": {
      "text/html": [
       "Tracking run with wandb version 0.19.7"
      ],
      "text/plain": [
       "<IPython.core.display.HTML object>"
      ]
     },
     "metadata": {},
     "output_type": "display_data"
    },
    {
     "data": {
      "text/html": [
       "Run data is saved locally in <code>d:\\Projects\\MSc_DE_GroupWork4\\Scripts\\wandb\\run-20250320_154914-kfavqu9h</code>"
      ],
      "text/plain": [
       "<IPython.core.display.HTML object>"
      ]
     },
     "metadata": {},
     "output_type": "display_data"
    },
    {
     "data": {
      "text/html": [
       "Syncing run <strong><a href='https://wandb.ai/yixuan228-imperial-college-london/DE_Groupwork_G4_stage1/runs/kfavqu9h' target=\"_blank\">electric-silence-14</a></strong> to <a href='https://wandb.ai/yixuan228-imperial-college-london/DE_Groupwork_G4_stage1' target=\"_blank\">Weights & Biases</a> (<a href='https://wandb.me/developer-guide' target=\"_blank\">docs</a>)<br>"
      ],
      "text/plain": [
       "<IPython.core.display.HTML object>"
      ]
     },
     "metadata": {},
     "output_type": "display_data"
    },
    {
     "data": {
      "text/html": [
       " View project at <a href='https://wandb.ai/yixuan228-imperial-college-london/DE_Groupwork_G4_stage1' target=\"_blank\">https://wandb.ai/yixuan228-imperial-college-london/DE_Groupwork_G4_stage1</a>"
      ],
      "text/plain": [
       "<IPython.core.display.HTML object>"
      ]
     },
     "metadata": {},
     "output_type": "display_data"
    },
    {
     "data": {
      "text/html": [
       " View run at <a href='https://wandb.ai/yixuan228-imperial-college-london/DE_Groupwork_G4_stage1/runs/kfavqu9h' target=\"_blank\">https://wandb.ai/yixuan228-imperial-college-london/DE_Groupwork_G4_stage1/runs/kfavqu9h</a>"
      ],
      "text/plain": [
       "<IPython.core.display.HTML object>"
      ]
     },
     "metadata": {},
     "output_type": "display_data"
    },
    {
     "name": "stdout",
     "output_type": "stream",
     "text": [
      "Epoch 001 | Train Loss: 4404.8441 | Val Loss: 305.3609\n",
      "Epoch 002 | Train Loss: 219.7105 | Val Loss: 146.3948\n",
      "Epoch 003 | Train Loss: 99.8286 | Val Loss: 75.0530\n",
      "Epoch 004 | Train Loss: 54.3628 | Val Loss: 105.5980\n",
      "Epoch 005 | Train Loss: 58.9887 | Val Loss: 28.1181\n",
      "Epoch 006 | Train Loss: 29.8353 | Val Loss: 64.8544\n",
      "Epoch 007 | Train Loss: 32.6565 | Val Loss: 112.6188\n",
      "Epoch 008 | Train Loss: 43.1271 | Val Loss: 23.1127\n",
      "Epoch 009 | Train Loss: 23.4043 | Val Loss: 22.8984\n",
      "Epoch 010 | Train Loss: 31.6520 | Val Loss: 69.9883\n",
      "Epoch 011 | Train Loss: 80.8015 | Val Loss: 174.9753\n",
      "Epoch 012 | Train Loss: 82.2019 | Val Loss: 58.2317\n",
      "Epoch 013 | Train Loss: 121.0823 | Val Loss: 167.1238\n",
      "Epoch 014 | Train Loss: 54.7341 | Val Loss: 56.2165\n",
      "Early stopping triggered at epoch 14\n"
     ]
    },
    {
     "data": {
      "text/html": [],
      "text/plain": [
       "<IPython.core.display.HTML object>"
      ]
     },
     "metadata": {},
     "output_type": "display_data"
    },
    {
     "data": {
      "text/html": [
       "<br>    <style><br>        .wandb-row {<br>            display: flex;<br>            flex-direction: row;<br>            flex-wrap: wrap;<br>            justify-content: flex-start;<br>            width: 100%;<br>        }<br>        .wandb-col {<br>            display: flex;<br>            flex-direction: column;<br>            flex-basis: 100%;<br>            flex: 1;<br>            padding: 10px;<br>        }<br>    </style><br><div class=\"wandb-row\"><div class=\"wandb-col\"><h3>Run history:</h3><br/><table class=\"wandb\"><tr><td>epoch</td><td>▁▂▂▃▃▄▄▅▅▆▆▇▇█</td></tr><tr><td>train_loss</td><td>█▁▁▁▁▁▁▁▁▁▁▁▁▁</td></tr><tr><td>val_loss</td><td>█▄▂▃▁▂▃▁▁▂▅▂▅▂</td></tr></table><br/></div><div class=\"wandb-col\"><h3>Run summary:</h3><br/><table class=\"wandb\"><tr><td>epoch</td><td>14</td></tr><tr><td>train_loss</td><td>54.73411</td></tr><tr><td>val_loss</td><td>56.21652</td></tr></table><br/></div></div>"
      ],
      "text/plain": [
       "<IPython.core.display.HTML object>"
      ]
     },
     "metadata": {},
     "output_type": "display_data"
    },
    {
     "data": {
      "text/html": [
       " View run <strong style=\"color:#cdcd00\">electric-silence-14</strong> at: <a href='https://wandb.ai/yixuan228-imperial-college-london/DE_Groupwork_G4_stage1/runs/kfavqu9h' target=\"_blank\">https://wandb.ai/yixuan228-imperial-college-london/DE_Groupwork_G4_stage1/runs/kfavqu9h</a><br> View project at: <a href='https://wandb.ai/yixuan228-imperial-college-london/DE_Groupwork_G4_stage1' target=\"_blank\">https://wandb.ai/yixuan228-imperial-college-london/DE_Groupwork_G4_stage1</a><br>Synced 5 W&B file(s), 0 media file(s), 0 artifact file(s) and 0 other file(s)"
      ],
      "text/plain": [
       "<IPython.core.display.HTML object>"
      ]
     },
     "metadata": {},
     "output_type": "display_data"
    },
    {
     "data": {
      "text/html": [
       "Find logs at: <code>.\\wandb\\run-20250320_154914-kfavqu9h\\logs</code>"
      ],
      "text/plain": [
       "<IPython.core.display.HTML object>"
      ]
     },
     "metadata": {},
     "output_type": "display_data"
    },
    {
     "data": {
      "text/html": [
       "Tracking run with wandb version 0.19.7"
      ],
      "text/plain": [
       "<IPython.core.display.HTML object>"
      ]
     },
     "metadata": {},
     "output_type": "display_data"
    },
    {
     "data": {
      "text/html": [
       "Run data is saved locally in <code>d:\\Projects\\MSc_DE_GroupWork4\\Scripts\\wandb\\run-20250320_154920-txcbnx5f</code>"
      ],
      "text/plain": [
       "<IPython.core.display.HTML object>"
      ]
     },
     "metadata": {},
     "output_type": "display_data"
    },
    {
     "data": {
      "text/html": [
       "Syncing run <strong><a href='https://wandb.ai/yixuan228-imperial-college-london/DE_Groupwork_G4_stage1/runs/txcbnx5f' target=\"_blank\">curious-jazz-15</a></strong> to <a href='https://wandb.ai/yixuan228-imperial-college-london/DE_Groupwork_G4_stage1' target=\"_blank\">Weights & Biases</a> (<a href='https://wandb.me/developer-guide' target=\"_blank\">docs</a>)<br>"
      ],
      "text/plain": [
       "<IPython.core.display.HTML object>"
      ]
     },
     "metadata": {},
     "output_type": "display_data"
    },
    {
     "data": {
      "text/html": [
       " View project at <a href='https://wandb.ai/yixuan228-imperial-college-london/DE_Groupwork_G4_stage1' target=\"_blank\">https://wandb.ai/yixuan228-imperial-college-london/DE_Groupwork_G4_stage1</a>"
      ],
      "text/plain": [
       "<IPython.core.display.HTML object>"
      ]
     },
     "metadata": {},
     "output_type": "display_data"
    },
    {
     "data": {
      "text/html": [
       " View run at <a href='https://wandb.ai/yixuan228-imperial-college-london/DE_Groupwork_G4_stage1/runs/txcbnx5f' target=\"_blank\">https://wandb.ai/yixuan228-imperial-college-london/DE_Groupwork_G4_stage1/runs/txcbnx5f</a>"
      ],
      "text/plain": [
       "<IPython.core.display.HTML object>"
      ]
     },
     "metadata": {},
     "output_type": "display_data"
    },
    {
     "name": "stdout",
     "output_type": "stream",
     "text": [
      "Epoch 001 | Train Loss: 16967.8129 | Val Loss: 887.0163\n",
      "Epoch 002 | Train Loss: 620.7027 | Val Loss: 465.0048\n",
      "Epoch 003 | Train Loss: 384.5706 | Val Loss: 330.0507\n",
      "Epoch 004 | Train Loss: 282.0701 | Val Loss: 300.8909\n",
      "Epoch 005 | Train Loss: 230.2956 | Val Loss: 194.7047\n",
      "Epoch 006 | Train Loss: 170.6345 | Val Loss: 159.6165\n",
      "Epoch 007 | Train Loss: 133.1893 | Val Loss: 118.3916\n",
      "Epoch 008 | Train Loss: 100.7610 | Val Loss: 92.0955\n",
      "Epoch 009 | Train Loss: 76.7372 | Val Loss: 66.5018\n",
      "Epoch 010 | Train Loss: 55.8750 | Val Loss: 49.0895\n",
      "Epoch 011 | Train Loss: 41.7669 | Val Loss: 38.3987\n",
      "Epoch 012 | Train Loss: 33.1005 | Val Loss: 32.7120\n",
      "Epoch 013 | Train Loss: 27.4400 | Val Loss: 30.5064\n",
      "Epoch 014 | Train Loss: 24.1356 | Val Loss: 20.7787\n",
      "Epoch 015 | Train Loss: 21.1973 | Val Loss: 19.7677\n",
      "Epoch 016 | Train Loss: 19.0806 | Val Loss: 22.0921\n",
      "Epoch 017 | Train Loss: 19.5453 | Val Loss: 19.4705\n",
      "Epoch 018 | Train Loss: 21.6397 | Val Loss: 16.0757\n",
      "Epoch 019 | Train Loss: 15.8744 | Val Loss: 16.2676\n",
      "Epoch 020 | Train Loss: 15.2227 | Val Loss: 16.2010\n",
      "Epoch 021 | Train Loss: 15.2964 | Val Loss: 16.2522\n",
      "Epoch 022 | Train Loss: 15.3283 | Val Loss: 17.6910\n",
      "Epoch 023 | Train Loss: 14.8694 | Val Loss: 16.0871\n",
      "Early stopping triggered at epoch 23\n"
     ]
    },
    {
     "data": {
      "text/html": [],
      "text/plain": [
       "<IPython.core.display.HTML object>"
      ]
     },
     "metadata": {},
     "output_type": "display_data"
    },
    {
     "data": {
      "text/html": [
       "<br>    <style><br>        .wandb-row {<br>            display: flex;<br>            flex-direction: row;<br>            flex-wrap: wrap;<br>            justify-content: flex-start;<br>            width: 100%;<br>        }<br>        .wandb-col {<br>            display: flex;<br>            flex-direction: column;<br>            flex-basis: 100%;<br>            flex: 1;<br>            padding: 10px;<br>        }<br>    </style><br><div class=\"wandb-row\"><div class=\"wandb-col\"><h3>Run history:</h3><br/><table class=\"wandb\"><tr><td>epoch</td><td>▁▁▂▂▂▃▃▃▄▄▄▅▅▅▅▆▆▆▇▇▇██</td></tr><tr><td>train_loss</td><td>█▁▁▁▁▁▁▁▁▁▁▁▁▁▁▁▁▁▁▁▁▁▁</td></tr><tr><td>val_loss</td><td>█▅▄▃▂▂▂▂▁▁▁▁▁▁▁▁▁▁▁▁▁▁▁</td></tr></table><br/></div><div class=\"wandb-col\"><h3>Run summary:</h3><br/><table class=\"wandb\"><tr><td>epoch</td><td>23</td></tr><tr><td>train_loss</td><td>14.86941</td></tr><tr><td>val_loss</td><td>16.08714</td></tr></table><br/></div></div>"
      ],
      "text/plain": [
       "<IPython.core.display.HTML object>"
      ]
     },
     "metadata": {},
     "output_type": "display_data"
    },
    {
     "data": {
      "text/html": [
       " View run <strong style=\"color:#cdcd00\">curious-jazz-15</strong> at: <a href='https://wandb.ai/yixuan228-imperial-college-london/DE_Groupwork_G4_stage1/runs/txcbnx5f' target=\"_blank\">https://wandb.ai/yixuan228-imperial-college-london/DE_Groupwork_G4_stage1/runs/txcbnx5f</a><br> View project at: <a href='https://wandb.ai/yixuan228-imperial-college-london/DE_Groupwork_G4_stage1' target=\"_blank\">https://wandb.ai/yixuan228-imperial-college-london/DE_Groupwork_G4_stage1</a><br>Synced 5 W&B file(s), 0 media file(s), 0 artifact file(s) and 0 other file(s)"
      ],
      "text/plain": [
       "<IPython.core.display.HTML object>"
      ]
     },
     "metadata": {},
     "output_type": "display_data"
    },
    {
     "data": {
      "text/html": [
       "Find logs at: <code>.\\wandb\\run-20250320_154920-txcbnx5f\\logs</code>"
      ],
      "text/plain": [
       "<IPython.core.display.HTML object>"
      ]
     },
     "metadata": {},
     "output_type": "display_data"
    },
    {
     "data": {
      "text/html": [
       "Tracking run with wandb version 0.19.7"
      ],
      "text/plain": [
       "<IPython.core.display.HTML object>"
      ]
     },
     "metadata": {},
     "output_type": "display_data"
    },
    {
     "data": {
      "text/html": [
       "Run data is saved locally in <code>d:\\Projects\\MSc_DE_GroupWork4\\Scripts\\wandb\\run-20250320_154927-jjdvkisz</code>"
      ],
      "text/plain": [
       "<IPython.core.display.HTML object>"
      ]
     },
     "metadata": {},
     "output_type": "display_data"
    },
    {
     "data": {
      "text/html": [
       "Syncing run <strong><a href='https://wandb.ai/yixuan228-imperial-college-london/DE_Groupwork_G4_stage1/runs/jjdvkisz' target=\"_blank\">different-disco-16</a></strong> to <a href='https://wandb.ai/yixuan228-imperial-college-london/DE_Groupwork_G4_stage1' target=\"_blank\">Weights & Biases</a> (<a href='https://wandb.me/developer-guide' target=\"_blank\">docs</a>)<br>"
      ],
      "text/plain": [
       "<IPython.core.display.HTML object>"
      ]
     },
     "metadata": {},
     "output_type": "display_data"
    },
    {
     "data": {
      "text/html": [
       " View project at <a href='https://wandb.ai/yixuan228-imperial-college-london/DE_Groupwork_G4_stage1' target=\"_blank\">https://wandb.ai/yixuan228-imperial-college-london/DE_Groupwork_G4_stage1</a>"
      ],
      "text/plain": [
       "<IPython.core.display.HTML object>"
      ]
     },
     "metadata": {},
     "output_type": "display_data"
    },
    {
     "data": {
      "text/html": [
       " View run at <a href='https://wandb.ai/yixuan228-imperial-college-london/DE_Groupwork_G4_stage1/runs/jjdvkisz' target=\"_blank\">https://wandb.ai/yixuan228-imperial-college-london/DE_Groupwork_G4_stage1/runs/jjdvkisz</a>"
      ],
      "text/plain": [
       "<IPython.core.display.HTML object>"
      ]
     },
     "metadata": {},
     "output_type": "display_data"
    },
    {
     "name": "stdout",
     "output_type": "stream",
     "text": [
      "Epoch 001 | Train Loss: 63288.2333 | Val Loss: 52220.2918\n",
      "Epoch 002 | Train Loss: 27108.8734 | Val Loss: 6002.1610\n",
      "Epoch 003 | Train Loss: 3649.4556 | Val Loss: 2563.3087\n",
      "Epoch 004 | Train Loss: 1852.2306 | Val Loss: 1502.4972\n",
      "Epoch 005 | Train Loss: 1200.8430 | Val Loss: 1080.8883\n",
      "Epoch 006 | Train Loss: 936.1410 | Val Loss: 885.0033\n",
      "Epoch 007 | Train Loss: 802.2650 | Val Loss: 769.8627\n",
      "Epoch 008 | Train Loss: 714.8858 | Val Loss: 684.2688\n",
      "Epoch 009 | Train Loss: 642.7032 | Val Loss: 614.0128\n",
      "Epoch 010 | Train Loss: 583.7930 | Val Loss: 555.1145\n",
      "Epoch 011 | Train Loss: 532.1486 | Val Loss: 506.1492\n",
      "Epoch 012 | Train Loss: 486.5274 | Val Loss: 460.1429\n",
      "Epoch 013 | Train Loss: 446.4868 | Val Loss: 421.9746\n",
      "Epoch 014 | Train Loss: 411.9098 | Val Loss: 390.5941\n",
      "Epoch 015 | Train Loss: 381.0675 | Val Loss: 358.7892\n",
      "Epoch 016 | Train Loss: 352.8778 | Val Loss: 332.7339\n",
      "Epoch 017 | Train Loss: 328.5044 | Val Loss: 310.7297\n",
      "Epoch 018 | Train Loss: 307.1102 | Val Loss: 290.2332\n",
      "Epoch 019 | Train Loss: 287.6520 | Val Loss: 271.7855\n",
      "Epoch 020 | Train Loss: 270.9950 | Val Loss: 252.8897\n",
      "Epoch 021 | Train Loss: 254.8164 | Val Loss: 240.2049\n",
      "Epoch 022 | Train Loss: 240.5856 | Val Loss: 223.3599\n",
      "Epoch 023 | Train Loss: 227.4723 | Val Loss: 212.3595\n",
      "Epoch 024 | Train Loss: 215.0167 | Val Loss: 202.6462\n",
      "Epoch 025 | Train Loss: 204.1343 | Val Loss: 188.4277\n",
      "Epoch 026 | Train Loss: 193.0153 | Val Loss: 175.5178\n",
      "Epoch 027 | Train Loss: 181.9156 | Val Loss: 169.7990\n",
      "Epoch 028 | Train Loss: 171.0770 | Val Loss: 156.9826\n",
      "Epoch 029 | Train Loss: 160.7151 | Val Loss: 146.6876\n",
      "Epoch 030 | Train Loss: 152.2783 | Val Loss: 137.7600\n",
      "Epoch 031 | Train Loss: 141.7024 | Val Loss: 128.8281\n",
      "Epoch 032 | Train Loss: 133.1843 | Val Loss: 121.3028\n",
      "Epoch 033 | Train Loss: 124.3751 | Val Loss: 115.1021\n",
      "Epoch 034 | Train Loss: 115.9085 | Val Loss: 105.8854\n",
      "Epoch 035 | Train Loss: 108.0780 | Val Loss: 98.2578\n",
      "Epoch 036 | Train Loss: 100.6846 | Val Loss: 90.1238\n",
      "Epoch 037 | Train Loss: 93.2224 | Val Loss: 87.6444\n",
      "Epoch 038 | Train Loss: 86.0006 | Val Loss: 78.8190\n",
      "Epoch 039 | Train Loss: 79.6041 | Val Loss: 73.0421\n",
      "Epoch 040 | Train Loss: 73.6109 | Val Loss: 67.0188\n",
      "Epoch 041 | Train Loss: 68.3373 | Val Loss: 62.4107\n",
      "Epoch 042 | Train Loss: 62.4247 | Val Loss: 58.0916\n",
      "Epoch 043 | Train Loss: 58.0458 | Val Loss: 54.0930\n",
      "Epoch 044 | Train Loss: 54.0062 | Val Loss: 49.6213\n",
      "Epoch 045 | Train Loss: 49.7439 | Val Loss: 46.0891\n",
      "Epoch 046 | Train Loss: 45.4824 | Val Loss: 42.8481\n",
      "Epoch 047 | Train Loss: 43.4556 | Val Loss: 41.3125\n",
      "Epoch 048 | Train Loss: 40.2589 | Val Loss: 38.9823\n",
      "Epoch 049 | Train Loss: 36.6421 | Val Loss: 35.4771\n",
      "Epoch 050 | Train Loss: 34.4488 | Val Loss: 34.3110\n",
      "Epoch 051 | Train Loss: 32.6648 | Val Loss: 31.9221\n",
      "Epoch 052 | Train Loss: 30.9963 | Val Loss: 30.0203\n",
      "Epoch 053 | Train Loss: 29.2824 | Val Loss: 32.1075\n",
      "Epoch 054 | Train Loss: 28.6922 | Val Loss: 27.9065\n",
      "Epoch 055 | Train Loss: 26.7964 | Val Loss: 26.2318\n",
      "Epoch 056 | Train Loss: 25.5503 | Val Loss: 31.8420\n",
      "Epoch 057 | Train Loss: 24.7304 | Val Loss: 24.2509\n",
      "Epoch 058 | Train Loss: 23.2943 | Val Loss: 23.4363\n",
      "Epoch 059 | Train Loss: 22.3957 | Val Loss: 24.0413\n",
      "Epoch 060 | Train Loss: 21.4014 | Val Loss: 21.7012\n",
      "Epoch 061 | Train Loss: 20.8789 | Val Loss: 21.4725\n",
      "Epoch 062 | Train Loss: 20.3089 | Val Loss: 20.6120\n",
      "Epoch 063 | Train Loss: 19.2087 | Val Loss: 19.9464\n",
      "Epoch 064 | Train Loss: 18.6743 | Val Loss: 18.9926\n",
      "Epoch 065 | Train Loss: 18.2754 | Val Loss: 18.9857\n",
      "Epoch 066 | Train Loss: 17.4919 | Val Loss: 20.5401\n",
      "Epoch 067 | Train Loss: 17.2996 | Val Loss: 18.4861\n",
      "Epoch 068 | Train Loss: 16.7015 | Val Loss: 17.1464\n",
      "Epoch 069 | Train Loss: 16.4206 | Val Loss: 17.4220\n",
      "Epoch 070 | Train Loss: 15.7516 | Val Loss: 16.9013\n",
      "Epoch 071 | Train Loss: 15.7941 | Val Loss: 16.5408\n",
      "Epoch 072 | Train Loss: 15.3127 | Val Loss: 16.5604\n",
      "Epoch 073 | Train Loss: 14.8143 | Val Loss: 15.0423\n",
      "Epoch 074 | Train Loss: 14.1655 | Val Loss: 18.1145\n",
      "Epoch 075 | Train Loss: 14.1092 | Val Loss: 14.4070\n",
      "Epoch 076 | Train Loss: 13.4652 | Val Loss: 14.2120\n",
      "Epoch 077 | Train Loss: 13.3287 | Val Loss: 14.1620\n",
      "Epoch 078 | Train Loss: 13.0621 | Val Loss: 14.6193\n",
      "Epoch 079 | Train Loss: 12.8518 | Val Loss: 13.6495\n",
      "Epoch 080 | Train Loss: 12.7139 | Val Loss: 13.7661\n",
      "Epoch 081 | Train Loss: 12.5239 | Val Loss: 13.1132\n",
      "Epoch 082 | Train Loss: 12.6592 | Val Loss: 13.8370\n",
      "Epoch 083 | Train Loss: 12.0037 | Val Loss: 12.9177\n",
      "Epoch 084 | Train Loss: 12.1459 | Val Loss: 13.2415\n",
      "Epoch 085 | Train Loss: 11.9202 | Val Loss: 12.3348\n",
      "Epoch 086 | Train Loss: 11.4404 | Val Loss: 12.9107\n",
      "Epoch 087 | Train Loss: 11.3646 | Val Loss: 12.2965\n",
      "Epoch 088 | Train Loss: 11.2197 | Val Loss: 12.4395\n",
      "Epoch 089 | Train Loss: 11.2970 | Val Loss: 12.6683\n",
      "Epoch 090 | Train Loss: 11.1146 | Val Loss: 11.3838\n",
      "Epoch 091 | Train Loss: 11.4178 | Val Loss: 13.7351\n",
      "Epoch 092 | Train Loss: 11.3535 | Val Loss: 13.1052\n",
      "Epoch 093 | Train Loss: 10.4263 | Val Loss: 11.6804\n",
      "Epoch 094 | Train Loss: 10.2256 | Val Loss: 11.3688\n",
      "Epoch 095 | Train Loss: 10.3216 | Val Loss: 12.0827\n",
      "Epoch 096 | Train Loss: 10.7648 | Val Loss: 11.5220\n",
      "Epoch 097 | Train Loss: 10.1799 | Val Loss: 10.3943\n",
      "Epoch 098 | Train Loss: 9.8089 | Val Loss: 10.6213\n",
      "Epoch 099 | Train Loss: 9.6105 | Val Loss: 10.0739\n",
      "Epoch 100 | Train Loss: 10.0847 | Val Loss: 10.5863\n",
      "Epoch 101 | Train Loss: 9.9930 | Val Loss: 12.0195\n",
      "Epoch 102 | Train Loss: 9.8212 | Val Loss: 10.6177\n",
      "Epoch 103 | Train Loss: 9.9873 | Val Loss: 10.9052\n",
      "Epoch 104 | Train Loss: 9.5593 | Val Loss: 12.4067\n",
      "Early stopping triggered at epoch 104\n"
     ]
    },
    {
     "data": {
      "text/html": [],
      "text/plain": [
       "<IPython.core.display.HTML object>"
      ]
     },
     "metadata": {},
     "output_type": "display_data"
    },
    {
     "data": {
      "text/html": [
       "<br>    <style><br>        .wandb-row {<br>            display: flex;<br>            flex-direction: row;<br>            flex-wrap: wrap;<br>            justify-content: flex-start;<br>            width: 100%;<br>        }<br>        .wandb-col {<br>            display: flex;<br>            flex-direction: column;<br>            flex-basis: 100%;<br>            flex: 1;<br>            padding: 10px;<br>        }<br>    </style><br><div class=\"wandb-row\"><div class=\"wandb-col\"><h3>Run history:</h3><br/><table class=\"wandb\"><tr><td>epoch</td><td>▁▁▁▁▁▂▂▂▂▂▃▃▃▃▃▄▄▄▄▄▅▅▅▅▅▅▆▆▆▆▆▇▇▇▇▇▇▇▇█</td></tr><tr><td>train_loss</td><td>█▃▂▂▂▂▂▁▁▁▁▁▁▁▁▁▁▁▁▁▁▁▁▁▁▁▁▁▁▁▁▁▁▁▁▁▁▁▁▁</td></tr><tr><td>val_loss</td><td>█▃▂▂▂▂▁▁▁▁▁▁▁▁▁▁▁▁▁▁▁▁▁▁▁▁▁▁▁▁▁▁▁▁▁▁▁▁▁▁</td></tr></table><br/></div><div class=\"wandb-col\"><h3>Run summary:</h3><br/><table class=\"wandb\"><tr><td>epoch</td><td>104</td></tr><tr><td>train_loss</td><td>9.55928</td></tr><tr><td>val_loss</td><td>12.40669</td></tr></table><br/></div></div>"
      ],
      "text/plain": [
       "<IPython.core.display.HTML object>"
      ]
     },
     "metadata": {},
     "output_type": "display_data"
    },
    {
     "data": {
      "text/html": [
       " View run <strong style=\"color:#cdcd00\">different-disco-16</strong> at: <a href='https://wandb.ai/yixuan228-imperial-college-london/DE_Groupwork_G4_stage1/runs/jjdvkisz' target=\"_blank\">https://wandb.ai/yixuan228-imperial-college-london/DE_Groupwork_G4_stage1/runs/jjdvkisz</a><br> View project at: <a href='https://wandb.ai/yixuan228-imperial-college-london/DE_Groupwork_G4_stage1' target=\"_blank\">https://wandb.ai/yixuan228-imperial-college-london/DE_Groupwork_G4_stage1</a><br>Synced 5 W&B file(s), 0 media file(s), 0 artifact file(s) and 0 other file(s)"
      ],
      "text/plain": [
       "<IPython.core.display.HTML object>"
      ]
     },
     "metadata": {},
     "output_type": "display_data"
    },
    {
     "data": {
      "text/html": [
       "Find logs at: <code>.\\wandb\\run-20250320_154927-jjdvkisz\\logs</code>"
      ],
      "text/plain": [
       "<IPython.core.display.HTML object>"
      ]
     },
     "metadata": {},
     "output_type": "display_data"
    },
    {
     "data": {
      "text/html": [
       "Tracking run with wandb version 0.19.7"
      ],
      "text/plain": [
       "<IPython.core.display.HTML object>"
      ]
     },
     "metadata": {},
     "output_type": "display_data"
    },
    {
     "data": {
      "text/html": [
       "Run data is saved locally in <code>d:\\Projects\\MSc_DE_GroupWork4\\Scripts\\wandb\\run-20250320_154946-12zob4f7</code>"
      ],
      "text/plain": [
       "<IPython.core.display.HTML object>"
      ]
     },
     "metadata": {},
     "output_type": "display_data"
    },
    {
     "data": {
      "text/html": [
       "Syncing run <strong><a href='https://wandb.ai/yixuan228-imperial-college-london/DE_Groupwork_G4_stage1/runs/12zob4f7' target=\"_blank\">fearless-butterfly-17</a></strong> to <a href='https://wandb.ai/yixuan228-imperial-college-london/DE_Groupwork_G4_stage1' target=\"_blank\">Weights & Biases</a> (<a href='https://wandb.me/developer-guide' target=\"_blank\">docs</a>)<br>"
      ],
      "text/plain": [
       "<IPython.core.display.HTML object>"
      ]
     },
     "metadata": {},
     "output_type": "display_data"
    },
    {
     "data": {
      "text/html": [
       " View project at <a href='https://wandb.ai/yixuan228-imperial-college-london/DE_Groupwork_G4_stage1' target=\"_blank\">https://wandb.ai/yixuan228-imperial-college-london/DE_Groupwork_G4_stage1</a>"
      ],
      "text/plain": [
       "<IPython.core.display.HTML object>"
      ]
     },
     "metadata": {},
     "output_type": "display_data"
    },
    {
     "data": {
      "text/html": [
       " View run at <a href='https://wandb.ai/yixuan228-imperial-college-london/DE_Groupwork_G4_stage1/runs/12zob4f7' target=\"_blank\">https://wandb.ai/yixuan228-imperial-college-london/DE_Groupwork_G4_stage1/runs/12zob4f7</a>"
      ],
      "text/plain": [
       "<IPython.core.display.HTML object>"
      ]
     },
     "metadata": {},
     "output_type": "display_data"
    },
    {
     "name": "stdout",
     "output_type": "stream",
     "text": [
      "Epoch 001 | Train Loss: 12103.0464 | Val Loss: 328.1481\n",
      "Epoch 002 | Train Loss: 219.1019 | Val Loss: 149.4584\n",
      "Epoch 003 | Train Loss: 120.7419 | Val Loss: 101.6050\n",
      "Epoch 004 | Train Loss: 74.3701 | Val Loss: 77.0518\n",
      "Epoch 005 | Train Loss: 48.9107 | Val Loss: 41.4898\n",
      "Epoch 006 | Train Loss: 35.7444 | Val Loss: 77.2016\n",
      "Epoch 007 | Train Loss: 65.4428 | Val Loss: 60.5237\n",
      "Epoch 008 | Train Loss: 36.0499 | Val Loss: 48.5150\n",
      "Epoch 009 | Train Loss: 54.1734 | Val Loss: 62.5551\n",
      "Epoch 010 | Train Loss: 38.6494 | Val Loss: 80.4664\n",
      "Early stopping triggered at epoch 10\n"
     ]
    },
    {
     "data": {
      "text/html": [],
      "text/plain": [
       "<IPython.core.display.HTML object>"
      ]
     },
     "metadata": {},
     "output_type": "display_data"
    },
    {
     "data": {
      "text/html": [
       "<br>    <style><br>        .wandb-row {<br>            display: flex;<br>            flex-direction: row;<br>            flex-wrap: wrap;<br>            justify-content: flex-start;<br>            width: 100%;<br>        }<br>        .wandb-col {<br>            display: flex;<br>            flex-direction: column;<br>            flex-basis: 100%;<br>            flex: 1;<br>            padding: 10px;<br>        }<br>    </style><br><div class=\"wandb-row\"><div class=\"wandb-col\"><h3>Run history:</h3><br/><table class=\"wandb\"><tr><td>epoch</td><td>▁▂▃▃▄▅▆▆▇█</td></tr><tr><td>train_loss</td><td>█▁▁▁▁▁▁▁▁▁</td></tr><tr><td>val_loss</td><td>█▄▂▂▁▂▁▁▂▂</td></tr></table><br/></div><div class=\"wandb-col\"><h3>Run summary:</h3><br/><table class=\"wandb\"><tr><td>epoch</td><td>10</td></tr><tr><td>train_loss</td><td>38.64938</td></tr><tr><td>val_loss</td><td>80.46635</td></tr></table><br/></div></div>"
      ],
      "text/plain": [
       "<IPython.core.display.HTML object>"
      ]
     },
     "metadata": {},
     "output_type": "display_data"
    },
    {
     "data": {
      "text/html": [
       " View run <strong style=\"color:#cdcd00\">fearless-butterfly-17</strong> at: <a href='https://wandb.ai/yixuan228-imperial-college-london/DE_Groupwork_G4_stage1/runs/12zob4f7' target=\"_blank\">https://wandb.ai/yixuan228-imperial-college-london/DE_Groupwork_G4_stage1/runs/12zob4f7</a><br> View project at: <a href='https://wandb.ai/yixuan228-imperial-college-london/DE_Groupwork_G4_stage1' target=\"_blank\">https://wandb.ai/yixuan228-imperial-college-london/DE_Groupwork_G4_stage1</a><br>Synced 5 W&B file(s), 0 media file(s), 0 artifact file(s) and 0 other file(s)"
      ],
      "text/plain": [
       "<IPython.core.display.HTML object>"
      ]
     },
     "metadata": {},
     "output_type": "display_data"
    },
    {
     "data": {
      "text/html": [
       "Find logs at: <code>.\\wandb\\run-20250320_154946-12zob4f7\\logs</code>"
      ],
      "text/plain": [
       "<IPython.core.display.HTML object>"
      ]
     },
     "metadata": {},
     "output_type": "display_data"
    },
    {
     "data": {
      "text/html": [
       "Tracking run with wandb version 0.19.7"
      ],
      "text/plain": [
       "<IPython.core.display.HTML object>"
      ]
     },
     "metadata": {},
     "output_type": "display_data"
    },
    {
     "data": {
      "text/html": [
       "Run data is saved locally in <code>d:\\Projects\\MSc_DE_GroupWork4\\Scripts\\wandb\\run-20250320_154950-33m1fm42</code>"
      ],
      "text/plain": [
       "<IPython.core.display.HTML object>"
      ]
     },
     "metadata": {},
     "output_type": "display_data"
    },
    {
     "data": {
      "text/html": [
       "Syncing run <strong><a href='https://wandb.ai/yixuan228-imperial-college-london/DE_Groupwork_G4_stage1/runs/33m1fm42' target=\"_blank\">hardy-lion-18</a></strong> to <a href='https://wandb.ai/yixuan228-imperial-college-london/DE_Groupwork_G4_stage1' target=\"_blank\">Weights & Biases</a> (<a href='https://wandb.me/developer-guide' target=\"_blank\">docs</a>)<br>"
      ],
      "text/plain": [
       "<IPython.core.display.HTML object>"
      ]
     },
     "metadata": {},
     "output_type": "display_data"
    },
    {
     "data": {
      "text/html": [
       " View project at <a href='https://wandb.ai/yixuan228-imperial-college-london/DE_Groupwork_G4_stage1' target=\"_blank\">https://wandb.ai/yixuan228-imperial-college-london/DE_Groupwork_G4_stage1</a>"
      ],
      "text/plain": [
       "<IPython.core.display.HTML object>"
      ]
     },
     "metadata": {},
     "output_type": "display_data"
    },
    {
     "data": {
      "text/html": [
       " View run at <a href='https://wandb.ai/yixuan228-imperial-college-london/DE_Groupwork_G4_stage1/runs/33m1fm42' target=\"_blank\">https://wandb.ai/yixuan228-imperial-college-london/DE_Groupwork_G4_stage1/runs/33m1fm42</a>"
      ],
      "text/plain": [
       "<IPython.core.display.HTML object>"
      ]
     },
     "metadata": {},
     "output_type": "display_data"
    },
    {
     "name": "stdout",
     "output_type": "stream",
     "text": [
      "Epoch 001 | Train Loss: 11819.1310 | Val Loss: 596.3545\n",
      "Epoch 002 | Train Loss: 432.5968 | Val Loss: 312.7391\n",
      "Epoch 003 | Train Loss: 263.5413 | Val Loss: 223.1627\n",
      "Epoch 004 | Train Loss: 182.6918 | Val Loss: 153.4267\n",
      "Epoch 005 | Train Loss: 124.5691 | Val Loss: 105.1683\n",
      "Epoch 006 | Train Loss: 86.3267 | Val Loss: 69.5896\n",
      "Epoch 007 | Train Loss: 54.5663 | Val Loss: 59.1563\n",
      "Epoch 008 | Train Loss: 39.7816 | Val Loss: 30.1619\n",
      "Epoch 009 | Train Loss: 26.8383 | Val Loss: 36.2091\n",
      "Epoch 010 | Train Loss: 27.1521 | Val Loss: 24.7996\n",
      "Epoch 011 | Train Loss: 23.5491 | Val Loss: 25.8503\n",
      "Epoch 012 | Train Loss: 20.5741 | Val Loss: 32.4811\n",
      "Epoch 013 | Train Loss: 20.5160 | Val Loss: 29.0065\n",
      "Epoch 014 | Train Loss: 17.6041 | Val Loss: 21.5669\n",
      "Epoch 015 | Train Loss: 16.9081 | Val Loss: 29.8552\n",
      "Epoch 016 | Train Loss: 19.2627 | Val Loss: 14.4245\n",
      "Epoch 017 | Train Loss: 15.2962 | Val Loss: 12.9047\n",
      "Epoch 018 | Train Loss: 15.2606 | Val Loss: 49.2073\n",
      "Epoch 019 | Train Loss: 21.6358 | Val Loss: 18.9611\n",
      "Epoch 020 | Train Loss: 14.3826 | Val Loss: 17.5768\n",
      "Epoch 021 | Train Loss: 14.2219 | Val Loss: 17.2087\n",
      "Epoch 022 | Train Loss: 18.4831 | Val Loss: 16.3746\n",
      "Early stopping triggered at epoch 22\n"
     ]
    },
    {
     "data": {
      "text/html": [],
      "text/plain": [
       "<IPython.core.display.HTML object>"
      ]
     },
     "metadata": {},
     "output_type": "display_data"
    },
    {
     "data": {
      "text/html": [
       "<br>    <style><br>        .wandb-row {<br>            display: flex;<br>            flex-direction: row;<br>            flex-wrap: wrap;<br>            justify-content: flex-start;<br>            width: 100%;<br>        }<br>        .wandb-col {<br>            display: flex;<br>            flex-direction: column;<br>            flex-basis: 100%;<br>            flex: 1;<br>            padding: 10px;<br>        }<br>    </style><br><div class=\"wandb-row\"><div class=\"wandb-col\"><h3>Run history:</h3><br/><table class=\"wandb\"><tr><td>epoch</td><td>▁▁▂▂▂▃▃▃▄▄▄▅▅▅▆▆▆▇▇▇██</td></tr><tr><td>train_loss</td><td>█▁▁▁▁▁▁▁▁▁▁▁▁▁▁▁▁▁▁▁▁▁</td></tr><tr><td>val_loss</td><td>█▅▄▃▂▂▂▁▁▁▁▁▁▁▁▁▁▁▁▁▁▁</td></tr></table><br/></div><div class=\"wandb-col\"><h3>Run summary:</h3><br/><table class=\"wandb\"><tr><td>epoch</td><td>22</td></tr><tr><td>train_loss</td><td>18.48305</td></tr><tr><td>val_loss</td><td>16.3746</td></tr></table><br/></div></div>"
      ],
      "text/plain": [
       "<IPython.core.display.HTML object>"
      ]
     },
     "metadata": {},
     "output_type": "display_data"
    },
    {
     "data": {
      "text/html": [
       " View run <strong style=\"color:#cdcd00\">hardy-lion-18</strong> at: <a href='https://wandb.ai/yixuan228-imperial-college-london/DE_Groupwork_G4_stage1/runs/33m1fm42' target=\"_blank\">https://wandb.ai/yixuan228-imperial-college-london/DE_Groupwork_G4_stage1/runs/33m1fm42</a><br> View project at: <a href='https://wandb.ai/yixuan228-imperial-college-london/DE_Groupwork_G4_stage1' target=\"_blank\">https://wandb.ai/yixuan228-imperial-college-london/DE_Groupwork_G4_stage1</a><br>Synced 5 W&B file(s), 0 media file(s), 0 artifact file(s) and 0 other file(s)"
      ],
      "text/plain": [
       "<IPython.core.display.HTML object>"
      ]
     },
     "metadata": {},
     "output_type": "display_data"
    },
    {
     "data": {
      "text/html": [
       "Find logs at: <code>.\\wandb\\run-20250320_154950-33m1fm42\\logs</code>"
      ],
      "text/plain": [
       "<IPython.core.display.HTML object>"
      ]
     },
     "metadata": {},
     "output_type": "display_data"
    },
    {
     "data": {
      "text/html": [
       "Tracking run with wandb version 0.19.7"
      ],
      "text/plain": [
       "<IPython.core.display.HTML object>"
      ]
     },
     "metadata": {},
     "output_type": "display_data"
    },
    {
     "data": {
      "text/html": [
       "Run data is saved locally in <code>d:\\Projects\\MSc_DE_GroupWork4\\Scripts\\wandb\\run-20250320_154956-x7eognyh</code>"
      ],
      "text/plain": [
       "<IPython.core.display.HTML object>"
      ]
     },
     "metadata": {},
     "output_type": "display_data"
    },
    {
     "data": {
      "text/html": [
       "Syncing run <strong><a href='https://wandb.ai/yixuan228-imperial-college-london/DE_Groupwork_G4_stage1/runs/x7eognyh' target=\"_blank\">snowy-sky-19</a></strong> to <a href='https://wandb.ai/yixuan228-imperial-college-london/DE_Groupwork_G4_stage1' target=\"_blank\">Weights & Biases</a> (<a href='https://wandb.me/developer-guide' target=\"_blank\">docs</a>)<br>"
      ],
      "text/plain": [
       "<IPython.core.display.HTML object>"
      ]
     },
     "metadata": {},
     "output_type": "display_data"
    },
    {
     "data": {
      "text/html": [
       " View project at <a href='https://wandb.ai/yixuan228-imperial-college-london/DE_Groupwork_G4_stage1' target=\"_blank\">https://wandb.ai/yixuan228-imperial-college-london/DE_Groupwork_G4_stage1</a>"
      ],
      "text/plain": [
       "<IPython.core.display.HTML object>"
      ]
     },
     "metadata": {},
     "output_type": "display_data"
    },
    {
     "data": {
      "text/html": [
       " View run at <a href='https://wandb.ai/yixuan228-imperial-college-london/DE_Groupwork_G4_stage1/runs/x7eognyh' target=\"_blank\">https://wandb.ai/yixuan228-imperial-college-london/DE_Groupwork_G4_stage1/runs/x7eognyh</a>"
      ],
      "text/plain": [
       "<IPython.core.display.HTML object>"
      ]
     },
     "metadata": {},
     "output_type": "display_data"
    },
    {
     "name": "stdout",
     "output_type": "stream",
     "text": [
      "Epoch 001 | Train Loss: 57331.6972 | Val Loss: 19487.7483\n",
      "Epoch 002 | Train Loss: 4503.9366 | Val Loss: 1770.0293\n",
      "Epoch 003 | Train Loss: 1166.1079 | Val Loss: 936.2584\n",
      "Epoch 004 | Train Loss: 753.9272 | Val Loss: 696.3499\n",
      "Epoch 005 | Train Loss: 585.5392 | Val Loss: 554.1433\n",
      "Epoch 006 | Train Loss: 473.3668 | Val Loss: 441.8929\n",
      "Epoch 007 | Train Loss: 398.1933 | Val Loss: 370.1960\n",
      "Epoch 008 | Train Loss: 336.1033 | Val Loss: 317.4956\n",
      "Epoch 009 | Train Loss: 289.7413 | Val Loss: 273.5236\n",
      "Epoch 010 | Train Loss: 253.6122 | Val Loss: 236.8557\n",
      "Epoch 011 | Train Loss: 223.8789 | Val Loss: 208.2036\n",
      "Epoch 012 | Train Loss: 198.4887 | Val Loss: 182.8034\n",
      "Epoch 013 | Train Loss: 175.1500 | Val Loss: 162.5086\n",
      "Epoch 014 | Train Loss: 154.7797 | Val Loss: 143.4224\n",
      "Epoch 015 | Train Loss: 135.9993 | Val Loss: 128.6750\n",
      "Epoch 016 | Train Loss: 120.1644 | Val Loss: 112.8714\n",
      "Epoch 017 | Train Loss: 103.8848 | Val Loss: 97.5735\n",
      "Epoch 018 | Train Loss: 90.4624 | Val Loss: 87.4853\n",
      "Epoch 019 | Train Loss: 77.3899 | Val Loss: 71.7523\n",
      "Epoch 020 | Train Loss: 67.1433 | Val Loss: 70.8865\n",
      "Epoch 021 | Train Loss: 60.1463 | Val Loss: 57.3301\n",
      "Epoch 022 | Train Loss: 51.3652 | Val Loss: 50.9420\n",
      "Epoch 023 | Train Loss: 46.4978 | Val Loss: 45.0013\n",
      "Epoch 024 | Train Loss: 41.5945 | Val Loss: 42.9620\n",
      "Epoch 025 | Train Loss: 37.4843 | Val Loss: 37.7201\n",
      "Epoch 026 | Train Loss: 34.2974 | Val Loss: 34.4946\n",
      "Epoch 027 | Train Loss: 31.2746 | Val Loss: 32.3560\n",
      "Epoch 028 | Train Loss: 29.4446 | Val Loss: 30.5162\n",
      "Epoch 029 | Train Loss: 27.3564 | Val Loss: 30.8142\n",
      "Epoch 030 | Train Loss: 26.0308 | Val Loss: 27.6038\n",
      "Epoch 031 | Train Loss: 24.8802 | Val Loss: 26.6691\n",
      "Epoch 032 | Train Loss: 23.0786 | Val Loss: 24.0559\n",
      "Epoch 033 | Train Loss: 22.0281 | Val Loss: 24.5199\n",
      "Epoch 034 | Train Loss: 20.9175 | Val Loss: 22.1875\n",
      "Epoch 035 | Train Loss: 20.3037 | Val Loss: 20.7211\n",
      "Epoch 036 | Train Loss: 19.0854 | Val Loss: 20.2319\n",
      "Epoch 037 | Train Loss: 17.9983 | Val Loss: 19.9233\n",
      "Epoch 038 | Train Loss: 17.6597 | Val Loss: 19.7138\n",
      "Epoch 039 | Train Loss: 17.7149 | Val Loss: 18.8852\n",
      "Epoch 040 | Train Loss: 16.7863 | Val Loss: 18.2357\n",
      "Epoch 041 | Train Loss: 15.7442 | Val Loss: 20.4309\n",
      "Epoch 042 | Train Loss: 15.6399 | Val Loss: 15.3406\n",
      "Epoch 043 | Train Loss: 14.7373 | Val Loss: 16.1706\n",
      "Epoch 044 | Train Loss: 14.5079 | Val Loss: 14.7932\n",
      "Epoch 045 | Train Loss: 14.6567 | Val Loss: 16.7347\n",
      "Epoch 046 | Train Loss: 13.6434 | Val Loss: 15.7100\n",
      "Epoch 047 | Train Loss: 13.4082 | Val Loss: 14.5274\n",
      "Epoch 048 | Train Loss: 13.2556 | Val Loss: 14.9456\n",
      "Epoch 049 | Train Loss: 13.0446 | Val Loss: 13.0673\n",
      "Epoch 050 | Train Loss: 12.2659 | Val Loss: 12.9365\n",
      "Epoch 051 | Train Loss: 12.5160 | Val Loss: 12.2904\n",
      "Epoch 052 | Train Loss: 11.9453 | Val Loss: 15.8503\n",
      "Epoch 053 | Train Loss: 13.8477 | Val Loss: 16.4841\n",
      "Epoch 054 | Train Loss: 12.8304 | Val Loss: 13.6592\n",
      "Epoch 055 | Train Loss: 11.1410 | Val Loss: 12.0290\n",
      "Epoch 056 | Train Loss: 11.1710 | Val Loss: 11.4568\n",
      "Epoch 057 | Train Loss: 11.2164 | Val Loss: 12.0946\n",
      "Epoch 058 | Train Loss: 10.6966 | Val Loss: 13.2046\n",
      "Epoch 059 | Train Loss: 10.4096 | Val Loss: 11.5600\n",
      "Epoch 060 | Train Loss: 10.7230 | Val Loss: 16.2352\n",
      "Epoch 061 | Train Loss: 11.1081 | Val Loss: 10.4399\n",
      "Epoch 062 | Train Loss: 9.9359 | Val Loss: 9.8576\n",
      "Epoch 063 | Train Loss: 9.8691 | Val Loss: 13.1786\n",
      "Epoch 064 | Train Loss: 10.0921 | Val Loss: 11.0660\n",
      "Epoch 065 | Train Loss: 9.5254 | Val Loss: 9.8176\n",
      "Epoch 066 | Train Loss: 9.6847 | Val Loss: 11.1511\n",
      "Epoch 067 | Train Loss: 9.7047 | Val Loss: 10.4226\n",
      "Epoch 068 | Train Loss: 9.5384 | Val Loss: 9.8484\n",
      "Epoch 069 | Train Loss: 9.3306 | Val Loss: 11.5064\n",
      "Epoch 070 | Train Loss: 9.5163 | Val Loss: 14.3348\n",
      "Early stopping triggered at epoch 70\n"
     ]
    },
    {
     "data": {
      "text/html": [],
      "text/plain": [
       "<IPython.core.display.HTML object>"
      ]
     },
     "metadata": {},
     "output_type": "display_data"
    },
    {
     "data": {
      "text/html": [
       "<br>    <style><br>        .wandb-row {<br>            display: flex;<br>            flex-direction: row;<br>            flex-wrap: wrap;<br>            justify-content: flex-start;<br>            width: 100%;<br>        }<br>        .wandb-col {<br>            display: flex;<br>            flex-direction: column;<br>            flex-basis: 100%;<br>            flex: 1;<br>            padding: 10px;<br>        }<br>    </style><br><div class=\"wandb-row\"><div class=\"wandb-col\"><h3>Run history:</h3><br/><table class=\"wandb\"><tr><td>epoch</td><td>▁▁▁▁▁▂▂▂▂▂▂▂▃▃▃▃▃▄▄▄▄▅▅▅▅▅▅▆▆▆▆▇▇▇▇▇████</td></tr><tr><td>train_loss</td><td>█▂▁▁▁▁▁▁▁▁▁▁▁▁▁▁▁▁▁▁▁▁▁▁▁▁▁▁▁▁▁▁▁▁▁▁▁▁▁▁</td></tr><tr><td>val_loss</td><td>█▁▁▁▁▁▁▁▁▁▁▁▁▁▁▁▁▁▁▁▁▁▁▁▁▁▁▁▁▁▁▁▁▁▁▁▁▁▁▁</td></tr></table><br/></div><div class=\"wandb-col\"><h3>Run summary:</h3><br/><table class=\"wandb\"><tr><td>epoch</td><td>70</td></tr><tr><td>train_loss</td><td>9.51628</td></tr><tr><td>val_loss</td><td>14.33485</td></tr></table><br/></div></div>"
      ],
      "text/plain": [
       "<IPython.core.display.HTML object>"
      ]
     },
     "metadata": {},
     "output_type": "display_data"
    },
    {
     "data": {
      "text/html": [
       " View run <strong style=\"color:#cdcd00\">snowy-sky-19</strong> at: <a href='https://wandb.ai/yixuan228-imperial-college-london/DE_Groupwork_G4_stage1/runs/x7eognyh' target=\"_blank\">https://wandb.ai/yixuan228-imperial-college-london/DE_Groupwork_G4_stage1/runs/x7eognyh</a><br> View project at: <a href='https://wandb.ai/yixuan228-imperial-college-london/DE_Groupwork_G4_stage1' target=\"_blank\">https://wandb.ai/yixuan228-imperial-college-london/DE_Groupwork_G4_stage1</a><br>Synced 5 W&B file(s), 0 media file(s), 0 artifact file(s) and 0 other file(s)"
      ],
      "text/plain": [
       "<IPython.core.display.HTML object>"
      ]
     },
     "metadata": {},
     "output_type": "display_data"
    },
    {
     "data": {
      "text/html": [
       "Find logs at: <code>.\\wandb\\run-20250320_154956-x7eognyh\\logs</code>"
      ],
      "text/plain": [
       "<IPython.core.display.HTML object>"
      ]
     },
     "metadata": {},
     "output_type": "display_data"
    },
    {
     "data": {
      "text/html": [
       "Tracking run with wandb version 0.19.7"
      ],
      "text/plain": [
       "<IPython.core.display.HTML object>"
      ]
     },
     "metadata": {},
     "output_type": "display_data"
    },
    {
     "data": {
      "text/html": [
       "Run data is saved locally in <code>d:\\Projects\\MSc_DE_GroupWork4\\Scripts\\wandb\\run-20250320_155010-7i25gmxg</code>"
      ],
      "text/plain": [
       "<IPython.core.display.HTML object>"
      ]
     },
     "metadata": {},
     "output_type": "display_data"
    },
    {
     "data": {
      "text/html": [
       "Syncing run <strong><a href='https://wandb.ai/yixuan228-imperial-college-london/DE_Groupwork_G4_stage1/runs/7i25gmxg' target=\"_blank\">eager-donkey-20</a></strong> to <a href='https://wandb.ai/yixuan228-imperial-college-london/DE_Groupwork_G4_stage1' target=\"_blank\">Weights & Biases</a> (<a href='https://wandb.me/developer-guide' target=\"_blank\">docs</a>)<br>"
      ],
      "text/plain": [
       "<IPython.core.display.HTML object>"
      ]
     },
     "metadata": {},
     "output_type": "display_data"
    },
    {
     "data": {
      "text/html": [
       " View project at <a href='https://wandb.ai/yixuan228-imperial-college-london/DE_Groupwork_G4_stage1' target=\"_blank\">https://wandb.ai/yixuan228-imperial-college-london/DE_Groupwork_G4_stage1</a>"
      ],
      "text/plain": [
       "<IPython.core.display.HTML object>"
      ]
     },
     "metadata": {},
     "output_type": "display_data"
    },
    {
     "data": {
      "text/html": [
       " View run at <a href='https://wandb.ai/yixuan228-imperial-college-london/DE_Groupwork_G4_stage1/runs/7i25gmxg' target=\"_blank\">https://wandb.ai/yixuan228-imperial-college-london/DE_Groupwork_G4_stage1/runs/7i25gmxg</a>"
      ],
      "text/plain": [
       "<IPython.core.display.HTML object>"
      ]
     },
     "metadata": {},
     "output_type": "display_data"
    },
    {
     "name": "stdout",
     "output_type": "stream",
     "text": [
      "Epoch 001 | Train Loss: 28413.9712 | Val Loss: 969.8841\n",
      "Epoch 002 | Train Loss: 531.3295 | Val Loss: 301.8806\n",
      "Epoch 003 | Train Loss: 213.7902 | Val Loss: 129.2808\n",
      "Epoch 004 | Train Loss: 109.7074 | Val Loss: 80.0659\n",
      "Epoch 005 | Train Loss: 82.4906 | Val Loss: 71.6945\n",
      "Epoch 006 | Train Loss: 72.6362 | Val Loss: 102.8757\n",
      "Epoch 007 | Train Loss: 72.9809 | Val Loss: 77.1807\n",
      "Epoch 008 | Train Loss: 50.9512 | Val Loss: 37.0351\n",
      "Epoch 009 | Train Loss: 39.4417 | Val Loss: 51.8739\n",
      "Epoch 010 | Train Loss: 39.2458 | Val Loss: 39.1802\n",
      "Epoch 011 | Train Loss: 32.5733 | Val Loss: 32.1235\n",
      "Epoch 012 | Train Loss: 32.0041 | Val Loss: 26.9741\n",
      "Epoch 013 | Train Loss: 28.8851 | Val Loss: 50.8766\n",
      "Epoch 014 | Train Loss: 31.5485 | Val Loss: 34.3777\n",
      "Epoch 015 | Train Loss: 32.4564 | Val Loss: 31.7219\n",
      "Epoch 016 | Train Loss: 43.7954 | Val Loss: 38.2642\n",
      "Epoch 017 | Train Loss: 27.8784 | Val Loss: 22.4787\n",
      "Epoch 018 | Train Loss: 22.2420 | Val Loss: 26.3853\n",
      "Epoch 019 | Train Loss: 22.9156 | Val Loss: 25.1394\n",
      "Epoch 020 | Train Loss: 30.7536 | Val Loss: 48.7040\n",
      "Epoch 021 | Train Loss: 34.4576 | Val Loss: 64.2719\n",
      "Epoch 022 | Train Loss: 45.0579 | Val Loss: 60.3376\n",
      "Early stopping triggered at epoch 22\n"
     ]
    },
    {
     "data": {
      "text/html": [],
      "text/plain": [
       "<IPython.core.display.HTML object>"
      ]
     },
     "metadata": {},
     "output_type": "display_data"
    },
    {
     "data": {
      "text/html": [
       "<br>    <style><br>        .wandb-row {<br>            display: flex;<br>            flex-direction: row;<br>            flex-wrap: wrap;<br>            justify-content: flex-start;<br>            width: 100%;<br>        }<br>        .wandb-col {<br>            display: flex;<br>            flex-direction: column;<br>            flex-basis: 100%;<br>            flex: 1;<br>            padding: 10px;<br>        }<br>    </style><br><div class=\"wandb-row\"><div class=\"wandb-col\"><h3>Run history:</h3><br/><table class=\"wandb\"><tr><td>epoch</td><td>▁▁▂▂▂▃▃▃▄▄▄▅▅▅▆▆▆▇▇▇██</td></tr><tr><td>train_loss</td><td>█▁▁▁▁▁▁▁▁▁▁▁▁▁▁▁▁▁▁▁▁▁</td></tr><tr><td>val_loss</td><td>█▃▂▁▁▂▁▁▁▁▁▁▁▁▁▁▁▁▁▁▁▁</td></tr></table><br/></div><div class=\"wandb-col\"><h3>Run summary:</h3><br/><table class=\"wandb\"><tr><td>epoch</td><td>22</td></tr><tr><td>train_loss</td><td>45.05791</td></tr><tr><td>val_loss</td><td>60.33761</td></tr></table><br/></div></div>"
      ],
      "text/plain": [
       "<IPython.core.display.HTML object>"
      ]
     },
     "metadata": {},
     "output_type": "display_data"
    },
    {
     "data": {
      "text/html": [
       " View run <strong style=\"color:#cdcd00\">eager-donkey-20</strong> at: <a href='https://wandb.ai/yixuan228-imperial-college-london/DE_Groupwork_G4_stage1/runs/7i25gmxg' target=\"_blank\">https://wandb.ai/yixuan228-imperial-college-london/DE_Groupwork_G4_stage1/runs/7i25gmxg</a><br> View project at: <a href='https://wandb.ai/yixuan228-imperial-college-london/DE_Groupwork_G4_stage1' target=\"_blank\">https://wandb.ai/yixuan228-imperial-college-london/DE_Groupwork_G4_stage1</a><br>Synced 5 W&B file(s), 0 media file(s), 0 artifact file(s) and 0 other file(s)"
      ],
      "text/plain": [
       "<IPython.core.display.HTML object>"
      ]
     },
     "metadata": {},
     "output_type": "display_data"
    },
    {
     "data": {
      "text/html": [
       "Find logs at: <code>.\\wandb\\run-20250320_155010-7i25gmxg\\logs</code>"
      ],
      "text/plain": [
       "<IPython.core.display.HTML object>"
      ]
     },
     "metadata": {},
     "output_type": "display_data"
    },
    {
     "data": {
      "text/html": [],
      "text/plain": [
       "<IPython.core.display.HTML object>"
      ]
     },
     "metadata": {},
     "output_type": "display_data"
    },
    {
     "data": {
      "text/html": [
       "Tracking run with wandb version 0.19.7"
      ],
      "text/plain": [
       "<IPython.core.display.HTML object>"
      ]
     },
     "metadata": {},
     "output_type": "display_data"
    },
    {
     "data": {
      "text/html": [
       "Run data is saved locally in <code>d:\\Projects\\MSc_DE_GroupWork4\\Scripts\\wandb\\run-20250320_155017-i74bws54</code>"
      ],
      "text/plain": [
       "<IPython.core.display.HTML object>"
      ]
     },
     "metadata": {},
     "output_type": "display_data"
    },
    {
     "data": {
      "text/html": [
       "Syncing run <strong><a href='https://wandb.ai/yixuan228-imperial-college-london/DE_Groupwork_G4_stage1/runs/i74bws54' target=\"_blank\">glorious-wind-21</a></strong> to <a href='https://wandb.ai/yixuan228-imperial-college-london/DE_Groupwork_G4_stage1' target=\"_blank\">Weights & Biases</a> (<a href='https://wandb.me/developer-guide' target=\"_blank\">docs</a>)<br>"
      ],
      "text/plain": [
       "<IPython.core.display.HTML object>"
      ]
     },
     "metadata": {},
     "output_type": "display_data"
    },
    {
     "data": {
      "text/html": [
       " View project at <a href='https://wandb.ai/yixuan228-imperial-college-london/DE_Groupwork_G4_stage1' target=\"_blank\">https://wandb.ai/yixuan228-imperial-college-london/DE_Groupwork_G4_stage1</a>"
      ],
      "text/plain": [
       "<IPython.core.display.HTML object>"
      ]
     },
     "metadata": {},
     "output_type": "display_data"
    },
    {
     "data": {
      "text/html": [
       " View run at <a href='https://wandb.ai/yixuan228-imperial-college-london/DE_Groupwork_G4_stage1/runs/i74bws54' target=\"_blank\">https://wandb.ai/yixuan228-imperial-college-london/DE_Groupwork_G4_stage1/runs/i74bws54</a>"
      ],
      "text/plain": [
       "<IPython.core.display.HTML object>"
      ]
     },
     "metadata": {},
     "output_type": "display_data"
    },
    {
     "name": "stdout",
     "output_type": "stream",
     "text": [
      "Epoch 001 | Train Loss: 9511.0727 | Val Loss: 370.6814\n",
      "Epoch 002 | Train Loss: 255.6933 | Val Loss: 182.2059\n",
      "Epoch 003 | Train Loss: 145.3967 | Val Loss: 107.7100\n",
      "Epoch 004 | Train Loss: 83.5708 | Val Loss: 59.5637\n",
      "Epoch 005 | Train Loss: 51.3652 | Val Loss: 40.7056\n",
      "Epoch 006 | Train Loss: 36.1618 | Val Loss: 38.0239\n",
      "Epoch 007 | Train Loss: 33.3760 | Val Loss: 33.8890\n",
      "Epoch 008 | Train Loss: 27.5819 | Val Loss: 29.1680\n",
      "Epoch 009 | Train Loss: 24.7500 | Val Loss: 31.4088\n",
      "Epoch 010 | Train Loss: 29.6621 | Val Loss: 42.6667\n",
      "Epoch 011 | Train Loss: 25.3873 | Val Loss: 44.6793\n",
      "Epoch 012 | Train Loss: 22.2108 | Val Loss: 23.9418\n",
      "Epoch 013 | Train Loss: 19.1846 | Val Loss: 16.1969\n",
      "Epoch 014 | Train Loss: 15.5788 | Val Loss: 42.5633\n",
      "Epoch 015 | Train Loss: 24.1406 | Val Loss: 46.2560\n",
      "Epoch 016 | Train Loss: 18.5055 | Val Loss: 64.8167\n",
      "Epoch 017 | Train Loss: 22.9142 | Val Loss: 23.0582\n",
      "Epoch 018 | Train Loss: 16.1806 | Val Loss: 13.9441\n",
      "Epoch 019 | Train Loss: 22.1114 | Val Loss: 43.9389\n",
      "Epoch 020 | Train Loss: 18.7016 | Val Loss: 120.4568\n",
      "Epoch 021 | Train Loss: 23.5497 | Val Loss: 55.4086\n",
      "Epoch 022 | Train Loss: 25.3404 | Val Loss: 28.2213\n",
      "Epoch 023 | Train Loss: 22.9153 | Val Loss: 38.3353\n",
      "Early stopping triggered at epoch 23\n"
     ]
    },
    {
     "data": {
      "text/html": [],
      "text/plain": [
       "<IPython.core.display.HTML object>"
      ]
     },
     "metadata": {},
     "output_type": "display_data"
    },
    {
     "data": {
      "text/html": [
       "<br>    <style><br>        .wandb-row {<br>            display: flex;<br>            flex-direction: row;<br>            flex-wrap: wrap;<br>            justify-content: flex-start;<br>            width: 100%;<br>        }<br>        .wandb-col {<br>            display: flex;<br>            flex-direction: column;<br>            flex-basis: 100%;<br>            flex: 1;<br>            padding: 10px;<br>        }<br>    </style><br><div class=\"wandb-row\"><div class=\"wandb-col\"><h3>Run history:</h3><br/><table class=\"wandb\"><tr><td>epoch</td><td>▁▁▂▂▂▃▃▃▄▄▄▅▅▅▅▆▆▆▇▇▇██</td></tr><tr><td>train_loss</td><td>█▁▁▁▁▁▁▁▁▁▁▁▁▁▁▁▁▁▁▁▁▁▁</td></tr><tr><td>val_loss</td><td>█▄▃▂▂▁▁▁▁▂▂▁▁▂▂▂▁▁▂▃▂▁▁</td></tr></table><br/></div><div class=\"wandb-col\"><h3>Run summary:</h3><br/><table class=\"wandb\"><tr><td>epoch</td><td>23</td></tr><tr><td>train_loss</td><td>22.91526</td></tr><tr><td>val_loss</td><td>38.33534</td></tr></table><br/></div></div>"
      ],
      "text/plain": [
       "<IPython.core.display.HTML object>"
      ]
     },
     "metadata": {},
     "output_type": "display_data"
    },
    {
     "data": {
      "text/html": [
       " View run <strong style=\"color:#cdcd00\">glorious-wind-21</strong> at: <a href='https://wandb.ai/yixuan228-imperial-college-london/DE_Groupwork_G4_stage1/runs/i74bws54' target=\"_blank\">https://wandb.ai/yixuan228-imperial-college-london/DE_Groupwork_G4_stage1/runs/i74bws54</a><br> View project at: <a href='https://wandb.ai/yixuan228-imperial-college-london/DE_Groupwork_G4_stage1' target=\"_blank\">https://wandb.ai/yixuan228-imperial-college-london/DE_Groupwork_G4_stage1</a><br>Synced 5 W&B file(s), 0 media file(s), 0 artifact file(s) and 0 other file(s)"
      ],
      "text/plain": [
       "<IPython.core.display.HTML object>"
      ]
     },
     "metadata": {},
     "output_type": "display_data"
    },
    {
     "data": {
      "text/html": [
       "Find logs at: <code>.\\wandb\\run-20250320_155017-i74bws54\\logs</code>"
      ],
      "text/plain": [
       "<IPython.core.display.HTML object>"
      ]
     },
     "metadata": {},
     "output_type": "display_data"
    },
    {
     "data": {
      "text/html": [
       "Tracking run with wandb version 0.19.7"
      ],
      "text/plain": [
       "<IPython.core.display.HTML object>"
      ]
     },
     "metadata": {},
     "output_type": "display_data"
    },
    {
     "data": {
      "text/html": [
       "Run data is saved locally in <code>d:\\Projects\\MSc_DE_GroupWork4\\Scripts\\wandb\\run-20250320_155027-gd9ol71t</code>"
      ],
      "text/plain": [
       "<IPython.core.display.HTML object>"
      ]
     },
     "metadata": {},
     "output_type": "display_data"
    },
    {
     "data": {
      "text/html": [
       "Syncing run <strong><a href='https://wandb.ai/yixuan228-imperial-college-london/DE_Groupwork_G4_stage1/runs/gd9ol71t' target=\"_blank\">apricot-sunset-22</a></strong> to <a href='https://wandb.ai/yixuan228-imperial-college-london/DE_Groupwork_G4_stage1' target=\"_blank\">Weights & Biases</a> (<a href='https://wandb.me/developer-guide' target=\"_blank\">docs</a>)<br>"
      ],
      "text/plain": [
       "<IPython.core.display.HTML object>"
      ]
     },
     "metadata": {},
     "output_type": "display_data"
    },
    {
     "data": {
      "text/html": [
       " View project at <a href='https://wandb.ai/yixuan228-imperial-college-london/DE_Groupwork_G4_stage1' target=\"_blank\">https://wandb.ai/yixuan228-imperial-college-london/DE_Groupwork_G4_stage1</a>"
      ],
      "text/plain": [
       "<IPython.core.display.HTML object>"
      ]
     },
     "metadata": {},
     "output_type": "display_data"
    },
    {
     "data": {
      "text/html": [
       " View run at <a href='https://wandb.ai/yixuan228-imperial-college-london/DE_Groupwork_G4_stage1/runs/gd9ol71t' target=\"_blank\">https://wandb.ai/yixuan228-imperial-college-london/DE_Groupwork_G4_stage1/runs/gd9ol71t</a>"
      ],
      "text/plain": [
       "<IPython.core.display.HTML object>"
      ]
     },
     "metadata": {},
     "output_type": "display_data"
    },
    {
     "name": "stdout",
     "output_type": "stream",
     "text": [
      "Epoch 001 | Train Loss: 44831.2119 | Val Loss: 3945.4376\n",
      "Epoch 002 | Train Loss: 1954.4548 | Val Loss: 985.6170\n",
      "Epoch 003 | Train Loss: 695.7341 | Val Loss: 576.9063\n",
      "Epoch 004 | Train Loss: 471.8185 | Val Loss: 420.5670\n",
      "Epoch 005 | Train Loss: 358.7191 | Val Loss: 331.3912\n",
      "Epoch 006 | Train Loss: 287.5387 | Val Loss: 268.2123\n",
      "Epoch 007 | Train Loss: 233.8929 | Val Loss: 220.7261\n",
      "Epoch 008 | Train Loss: 195.2605 | Val Loss: 183.7991\n",
      "Epoch 009 | Train Loss: 166.3015 | Val Loss: 155.4611\n",
      "Epoch 010 | Train Loss: 142.6096 | Val Loss: 134.6939\n",
      "Epoch 011 | Train Loss: 123.1864 | Val Loss: 115.7430\n",
      "Epoch 012 | Train Loss: 106.2545 | Val Loss: 101.3712\n",
      "Epoch 013 | Train Loss: 92.6736 | Val Loss: 96.6750\n",
      "Epoch 014 | Train Loss: 79.3398 | Val Loss: 74.4166\n",
      "Epoch 015 | Train Loss: 67.3287 | Val Loss: 67.8115\n",
      "Epoch 016 | Train Loss: 58.2865 | Val Loss: 55.8473\n",
      "Epoch 017 | Train Loss: 51.1045 | Val Loss: 48.2580\n",
      "Epoch 018 | Train Loss: 44.1878 | Val Loss: 40.8880\n",
      "Epoch 019 | Train Loss: 39.3817 | Val Loss: 38.3250\n",
      "Epoch 020 | Train Loss: 35.2559 | Val Loss: 36.6929\n",
      "Epoch 021 | Train Loss: 31.0261 | Val Loss: 31.1083\n",
      "Epoch 022 | Train Loss: 28.3677 | Val Loss: 30.1758\n",
      "Epoch 023 | Train Loss: 26.4146 | Val Loss: 27.7654\n",
      "Epoch 024 | Train Loss: 24.8777 | Val Loss: 31.8519\n",
      "Epoch 025 | Train Loss: 23.8968 | Val Loss: 26.0742\n",
      "Epoch 026 | Train Loss: 22.7336 | Val Loss: 25.0044\n",
      "Epoch 027 | Train Loss: 21.3558 | Val Loss: 26.0713\n",
      "Epoch 028 | Train Loss: 20.4396 | Val Loss: 35.1015\n",
      "Epoch 029 | Train Loss: 21.3447 | Val Loss: 26.1598\n",
      "Epoch 030 | Train Loss: 19.5783 | Val Loss: 21.4476\n",
      "Epoch 031 | Train Loss: 18.7894 | Val Loss: 21.8374\n",
      "Epoch 032 | Train Loss: 17.5313 | Val Loss: 22.7031\n",
      "Epoch 033 | Train Loss: 16.4849 | Val Loss: 23.9444\n",
      "Epoch 034 | Train Loss: 16.6934 | Val Loss: 19.8996\n",
      "Epoch 035 | Train Loss: 16.6355 | Val Loss: 17.4084\n",
      "Epoch 036 | Train Loss: 15.0778 | Val Loss: 19.1021\n",
      "Epoch 037 | Train Loss: 15.3110 | Val Loss: 18.6597\n",
      "Epoch 038 | Train Loss: 14.7597 | Val Loss: 16.8748\n",
      "Epoch 039 | Train Loss: 14.1990 | Val Loss: 17.6318\n",
      "Epoch 040 | Train Loss: 14.2640 | Val Loss: 16.6082\n",
      "Epoch 041 | Train Loss: 13.0593 | Val Loss: 16.5008\n",
      "Epoch 042 | Train Loss: 12.7551 | Val Loss: 15.0485\n",
      "Epoch 043 | Train Loss: 12.4774 | Val Loss: 17.0607\n",
      "Epoch 044 | Train Loss: 12.2590 | Val Loss: 15.1406\n",
      "Epoch 045 | Train Loss: 12.2196 | Val Loss: 15.1772\n",
      "Epoch 046 | Train Loss: 12.3170 | Val Loss: 16.8019\n",
      "Epoch 047 | Train Loss: 11.9498 | Val Loss: 13.7799\n",
      "Epoch 048 | Train Loss: 12.0777 | Val Loss: 14.4485\n",
      "Epoch 049 | Train Loss: 11.3683 | Val Loss: 20.0026\n",
      "Epoch 050 | Train Loss: 11.4029 | Val Loss: 12.2029\n",
      "Epoch 051 | Train Loss: 11.6060 | Val Loss: 19.2485\n",
      "Epoch 052 | Train Loss: 11.6706 | Val Loss: 15.3472\n",
      "Epoch 053 | Train Loss: 11.3455 | Val Loss: 14.4035\n",
      "Epoch 054 | Train Loss: 11.1147 | Val Loss: 11.5903\n",
      "Epoch 055 | Train Loss: 11.3058 | Val Loss: 24.6864\n",
      "Epoch 056 | Train Loss: 11.0715 | Val Loss: 21.6208\n",
      "Epoch 057 | Train Loss: 10.5542 | Val Loss: 12.6119\n",
      "Epoch 058 | Train Loss: 10.5626 | Val Loss: 12.1606\n",
      "Epoch 059 | Train Loss: 10.9035 | Val Loss: 14.6894\n",
      "Early stopping triggered at epoch 59\n"
     ]
    },
    {
     "data": {
      "text/html": [],
      "text/plain": [
       "<IPython.core.display.HTML object>"
      ]
     },
     "metadata": {},
     "output_type": "display_data"
    },
    {
     "data": {
      "text/html": [
       "<br>    <style><br>        .wandb-row {<br>            display: flex;<br>            flex-direction: row;<br>            flex-wrap: wrap;<br>            justify-content: flex-start;<br>            width: 100%;<br>        }<br>        .wandb-col {<br>            display: flex;<br>            flex-direction: column;<br>            flex-basis: 100%;<br>            flex: 1;<br>            padding: 10px;<br>        }<br>    </style><br><div class=\"wandb-row\"><div class=\"wandb-col\"><h3>Run history:</h3><br/><table class=\"wandb\"><tr><td>epoch</td><td>▁▁▁▁▂▂▂▂▂▃▃▃▃▄▄▄▄▄▄▄▅▅▅▅▅▅▆▆▆▆▆▆▇▇▇▇▇███</td></tr><tr><td>train_loss</td><td>█▁▁▁▁▁▁▁▁▁▁▁▁▁▁▁▁▁▁▁▁▁▁▁▁▁▁▁▁▁▁▁▁▁▁▁▁▁▁▁</td></tr><tr><td>val_loss</td><td>█▆▅▅▃▃▂▂▂▂▁▁▁▁▁▁▁▁▁▁▁▁▁▁▁▁▁▁▁▁▁▁▁▁▁▁▁▁▁▁</td></tr></table><br/></div><div class=\"wandb-col\"><h3>Run summary:</h3><br/><table class=\"wandb\"><tr><td>epoch</td><td>59</td></tr><tr><td>train_loss</td><td>10.90355</td></tr><tr><td>val_loss</td><td>14.68937</td></tr></table><br/></div></div>"
      ],
      "text/plain": [
       "<IPython.core.display.HTML object>"
      ]
     },
     "metadata": {},
     "output_type": "display_data"
    },
    {
     "data": {
      "text/html": [
       " View run <strong style=\"color:#cdcd00\">apricot-sunset-22</strong> at: <a href='https://wandb.ai/yixuan228-imperial-college-london/DE_Groupwork_G4_stage1/runs/gd9ol71t' target=\"_blank\">https://wandb.ai/yixuan228-imperial-college-london/DE_Groupwork_G4_stage1/runs/gd9ol71t</a><br> View project at: <a href='https://wandb.ai/yixuan228-imperial-college-london/DE_Groupwork_G4_stage1' target=\"_blank\">https://wandb.ai/yixuan228-imperial-college-london/DE_Groupwork_G4_stage1</a><br>Synced 5 W&B file(s), 0 media file(s), 0 artifact file(s) and 0 other file(s)"
      ],
      "text/plain": [
       "<IPython.core.display.HTML object>"
      ]
     },
     "metadata": {},
     "output_type": "display_data"
    },
    {
     "data": {
      "text/html": [
       "Find logs at: <code>.\\wandb\\run-20250320_155027-gd9ol71t\\logs</code>"
      ],
      "text/plain": [
       "<IPython.core.display.HTML object>"
      ]
     },
     "metadata": {},
     "output_type": "display_data"
    },
    {
     "data": {
      "text/html": [
       "Tracking run with wandb version 0.19.7"
      ],
      "text/plain": [
       "<IPython.core.display.HTML object>"
      ]
     },
     "metadata": {},
     "output_type": "display_data"
    },
    {
     "data": {
      "text/html": [
       "Run data is saved locally in <code>d:\\Projects\\MSc_DE_GroupWork4\\Scripts\\wandb\\run-20250320_155043-kzbdkpdb</code>"
      ],
      "text/plain": [
       "<IPython.core.display.HTML object>"
      ]
     },
     "metadata": {},
     "output_type": "display_data"
    },
    {
     "data": {
      "text/html": [
       "Syncing run <strong><a href='https://wandb.ai/yixuan228-imperial-college-london/DE_Groupwork_G4_stage1/runs/kzbdkpdb' target=\"_blank\">stellar-bush-23</a></strong> to <a href='https://wandb.ai/yixuan228-imperial-college-london/DE_Groupwork_G4_stage1' target=\"_blank\">Weights & Biases</a> (<a href='https://wandb.me/developer-guide' target=\"_blank\">docs</a>)<br>"
      ],
      "text/plain": [
       "<IPython.core.display.HTML object>"
      ]
     },
     "metadata": {},
     "output_type": "display_data"
    },
    {
     "data": {
      "text/html": [
       " View project at <a href='https://wandb.ai/yixuan228-imperial-college-london/DE_Groupwork_G4_stage1' target=\"_blank\">https://wandb.ai/yixuan228-imperial-college-london/DE_Groupwork_G4_stage1</a>"
      ],
      "text/plain": [
       "<IPython.core.display.HTML object>"
      ]
     },
     "metadata": {},
     "output_type": "display_data"
    },
    {
     "data": {
      "text/html": [
       " View run at <a href='https://wandb.ai/yixuan228-imperial-college-london/DE_Groupwork_G4_stage1/runs/kzbdkpdb' target=\"_blank\">https://wandb.ai/yixuan228-imperial-college-london/DE_Groupwork_G4_stage1/runs/kzbdkpdb</a>"
      ],
      "text/plain": [
       "<IPython.core.display.HTML object>"
      ]
     },
     "metadata": {},
     "output_type": "display_data"
    },
    {
     "name": "stdout",
     "output_type": "stream",
     "text": [
      "Epoch 001 | Train Loss: 11915.9458 | Val Loss: 516.2879\n",
      "Epoch 002 | Train Loss: 366.1579 | Val Loss: 241.5944\n",
      "Epoch 003 | Train Loss: 195.2571 | Val Loss: 163.0596\n",
      "Epoch 004 | Train Loss: 136.6441 | Val Loss: 108.5120\n",
      "Epoch 005 | Train Loss: 71.9755 | Val Loss: 62.8878\n",
      "Epoch 006 | Train Loss: 44.5334 | Val Loss: 37.2460\n",
      "Epoch 007 | Train Loss: 41.0316 | Val Loss: 58.2101\n",
      "Epoch 008 | Train Loss: 41.0754 | Val Loss: 43.4901\n",
      "Epoch 009 | Train Loss: 26.9004 | Val Loss: 29.1095\n",
      "Epoch 010 | Train Loss: 25.9934 | Val Loss: 30.4913\n",
      "Epoch 011 | Train Loss: 26.9054 | Val Loss: 23.0919\n",
      "Epoch 012 | Train Loss: 24.0197 | Val Loss: 59.2707\n",
      "Epoch 013 | Train Loss: 40.2111 | Val Loss: 83.6776\n",
      "Epoch 014 | Train Loss: 53.1662 | Val Loss: 55.5057\n",
      "Epoch 015 | Train Loss: 24.3471 | Val Loss: 19.7937\n",
      "Epoch 016 | Train Loss: 22.1010 | Val Loss: 74.5520\n",
      "Epoch 017 | Train Loss: 27.5315 | Val Loss: 24.2510\n",
      "Epoch 018 | Train Loss: 21.4301 | Val Loss: 18.0505\n",
      "Epoch 019 | Train Loss: 23.8085 | Val Loss: 36.7245\n",
      "Epoch 020 | Train Loss: 31.8521 | Val Loss: 89.3683\n",
      "Epoch 021 | Train Loss: 147.5457 | Val Loss: 769.6406\n",
      "Epoch 022 | Train Loss: 89.1342 | Val Loss: 162.0598\n",
      "Epoch 023 | Train Loss: 47.2378 | Val Loss: 48.6332\n",
      "Early stopping triggered at epoch 23\n"
     ]
    },
    {
     "data": {
      "text/html": [],
      "text/plain": [
       "<IPython.core.display.HTML object>"
      ]
     },
     "metadata": {},
     "output_type": "display_data"
    },
    {
     "data": {
      "text/html": [
       "<br>    <style><br>        .wandb-row {<br>            display: flex;<br>            flex-direction: row;<br>            flex-wrap: wrap;<br>            justify-content: flex-start;<br>            width: 100%;<br>        }<br>        .wandb-col {<br>            display: flex;<br>            flex-direction: column;<br>            flex-basis: 100%;<br>            flex: 1;<br>            padding: 10px;<br>        }<br>    </style><br><div class=\"wandb-row\"><div class=\"wandb-col\"><h3>Run history:</h3><br/><table class=\"wandb\"><tr><td>epoch</td><td>▁▁▂▂▂▃▃▃▄▄▄▅▅▅▅▆▆▆▇▇▇██</td></tr><tr><td>train_loss</td><td>█▁▁▁▁▁▁▁▁▁▁▁▁▁▁▁▁▁▁▁▁▁▁</td></tr><tr><td>val_loss</td><td>▆▃▂▂▁▁▁▁▁▁▁▁▂▁▁▂▁▁▁▂█▂▁</td></tr></table><br/></div><div class=\"wandb-col\"><h3>Run summary:</h3><br/><table class=\"wandb\"><tr><td>epoch</td><td>23</td></tr><tr><td>train_loss</td><td>47.23776</td></tr><tr><td>val_loss</td><td>48.63317</td></tr></table><br/></div></div>"
      ],
      "text/plain": [
       "<IPython.core.display.HTML object>"
      ]
     },
     "metadata": {},
     "output_type": "display_data"
    },
    {
     "data": {
      "text/html": [
       " View run <strong style=\"color:#cdcd00\">stellar-bush-23</strong> at: <a href='https://wandb.ai/yixuan228-imperial-college-london/DE_Groupwork_G4_stage1/runs/kzbdkpdb' target=\"_blank\">https://wandb.ai/yixuan228-imperial-college-london/DE_Groupwork_G4_stage1/runs/kzbdkpdb</a><br> View project at: <a href='https://wandb.ai/yixuan228-imperial-college-london/DE_Groupwork_G4_stage1' target=\"_blank\">https://wandb.ai/yixuan228-imperial-college-london/DE_Groupwork_G4_stage1</a><br>Synced 5 W&B file(s), 0 media file(s), 0 artifact file(s) and 0 other file(s)"
      ],
      "text/plain": [
       "<IPython.core.display.HTML object>"
      ]
     },
     "metadata": {},
     "output_type": "display_data"
    },
    {
     "data": {
      "text/html": [
       "Find logs at: <code>.\\wandb\\run-20250320_155043-kzbdkpdb\\logs</code>"
      ],
      "text/plain": [
       "<IPython.core.display.HTML object>"
      ]
     },
     "metadata": {},
     "output_type": "display_data"
    },
    {
     "data": {
      "text/html": [
       "Tracking run with wandb version 0.19.7"
      ],
      "text/plain": [
       "<IPython.core.display.HTML object>"
      ]
     },
     "metadata": {},
     "output_type": "display_data"
    },
    {
     "data": {
      "text/html": [
       "Run data is saved locally in <code>d:\\Projects\\MSc_DE_GroupWork4\\Scripts\\wandb\\run-20250320_155050-oc0i00hk</code>"
      ],
      "text/plain": [
       "<IPython.core.display.HTML object>"
      ]
     },
     "metadata": {},
     "output_type": "display_data"
    },
    {
     "data": {
      "text/html": [
       "Syncing run <strong><a href='https://wandb.ai/yixuan228-imperial-college-london/DE_Groupwork_G4_stage1/runs/oc0i00hk' target=\"_blank\">robust-smoke-24</a></strong> to <a href='https://wandb.ai/yixuan228-imperial-college-london/DE_Groupwork_G4_stage1' target=\"_blank\">Weights & Biases</a> (<a href='https://wandb.me/developer-guide' target=\"_blank\">docs</a>)<br>"
      ],
      "text/plain": [
       "<IPython.core.display.HTML object>"
      ]
     },
     "metadata": {},
     "output_type": "display_data"
    },
    {
     "data": {
      "text/html": [
       " View project at <a href='https://wandb.ai/yixuan228-imperial-college-london/DE_Groupwork_G4_stage1' target=\"_blank\">https://wandb.ai/yixuan228-imperial-college-london/DE_Groupwork_G4_stage1</a>"
      ],
      "text/plain": [
       "<IPython.core.display.HTML object>"
      ]
     },
     "metadata": {},
     "output_type": "display_data"
    },
    {
     "data": {
      "text/html": [
       " View run at <a href='https://wandb.ai/yixuan228-imperial-college-london/DE_Groupwork_G4_stage1/runs/oc0i00hk' target=\"_blank\">https://wandb.ai/yixuan228-imperial-college-london/DE_Groupwork_G4_stage1/runs/oc0i00hk</a>"
      ],
      "text/plain": [
       "<IPython.core.display.HTML object>"
      ]
     },
     "metadata": {},
     "output_type": "display_data"
    },
    {
     "name": "stdout",
     "output_type": "stream",
     "text": [
      "Epoch 001 | Train Loss: 11571.5231 | Val Loss: 621.9906\n",
      "Epoch 002 | Train Loss: 455.2832 | Val Loss: 332.2674\n",
      "Epoch 003 | Train Loss: 272.0423 | Val Loss: 222.8516\n",
      "Epoch 004 | Train Loss: 192.4615 | Val Loss: 152.4340\n",
      "Epoch 005 | Train Loss: 134.4048 | Val Loss: 103.4868\n",
      "Epoch 006 | Train Loss: 88.8776 | Val Loss: 76.5167\n",
      "Epoch 007 | Train Loss: 60.3597 | Val Loss: 47.5224\n",
      "Epoch 008 | Train Loss: 44.4067 | Val Loss: 42.8598\n",
      "Epoch 009 | Train Loss: 34.4293 | Val Loss: 32.5281\n",
      "Epoch 010 | Train Loss: 32.4256 | Val Loss: 25.9507\n",
      "Epoch 011 | Train Loss: 26.2703 | Val Loss: 28.7200\n",
      "Epoch 012 | Train Loss: 22.2863 | Val Loss: 25.9061\n",
      "Epoch 013 | Train Loss: 22.1191 | Val Loss: 24.3136\n",
      "Epoch 014 | Train Loss: 18.8007 | Val Loss: 17.7082\n",
      "Epoch 015 | Train Loss: 17.0601 | Val Loss: 21.0469\n",
      "Epoch 016 | Train Loss: 17.4867 | Val Loss: 19.4454\n",
      "Epoch 017 | Train Loss: 17.5651 | Val Loss: 21.8066\n",
      "Epoch 018 | Train Loss: 15.5530 | Val Loss: 14.7833\n",
      "Epoch 019 | Train Loss: 14.7435 | Val Loss: 14.3202\n",
      "Epoch 020 | Train Loss: 15.6279 | Val Loss: 15.9417\n",
      "Epoch 021 | Train Loss: 13.8538 | Val Loss: 14.9613\n",
      "Epoch 022 | Train Loss: 13.3967 | Val Loss: 13.9393\n",
      "Epoch 023 | Train Loss: 13.9123 | Val Loss: 24.8850\n",
      "Epoch 024 | Train Loss: 14.8869 | Val Loss: 21.5492\n",
      "Epoch 025 | Train Loss: 16.6362 | Val Loss: 28.7571\n",
      "Epoch 026 | Train Loss: 19.8137 | Val Loss: 11.5724\n",
      "Epoch 027 | Train Loss: 14.6949 | Val Loss: 14.0157\n",
      "Epoch 028 | Train Loss: 14.9090 | Val Loss: 21.1315\n",
      "Epoch 029 | Train Loss: 12.5920 | Val Loss: 13.5182\n",
      "Epoch 030 | Train Loss: 14.8809 | Val Loss: 14.7489\n",
      "Epoch 031 | Train Loss: 16.4813 | Val Loss: 34.4962\n",
      "Early stopping triggered at epoch 31\n"
     ]
    },
    {
     "data": {
      "text/html": [],
      "text/plain": [
       "<IPython.core.display.HTML object>"
      ]
     },
     "metadata": {},
     "output_type": "display_data"
    },
    {
     "data": {
      "text/html": [
       "<br>    <style><br>        .wandb-row {<br>            display: flex;<br>            flex-direction: row;<br>            flex-wrap: wrap;<br>            justify-content: flex-start;<br>            width: 100%;<br>        }<br>        .wandb-col {<br>            display: flex;<br>            flex-direction: column;<br>            flex-basis: 100%;<br>            flex: 1;<br>            padding: 10px;<br>        }<br>    </style><br><div class=\"wandb-row\"><div class=\"wandb-col\"><h3>Run history:</h3><br/><table class=\"wandb\"><tr><td>epoch</td><td>▁▁▁▂▂▂▂▃▃▃▃▄▄▄▄▅▅▅▅▅▆▆▆▆▇▇▇▇███</td></tr><tr><td>train_loss</td><td>█▁▁▁▁▁▁▁▁▁▁▁▁▁▁▁▁▁▁▁▁▁▁▁▁▁▁▁▁▁▁</td></tr><tr><td>val_loss</td><td>█▅▃▃▂▂▁▁▁▁▁▁▁▁▁▁▁▁▁▁▁▁▁▁▁▁▁▁▁▁▁</td></tr></table><br/></div><div class=\"wandb-col\"><h3>Run summary:</h3><br/><table class=\"wandb\"><tr><td>epoch</td><td>31</td></tr><tr><td>train_loss</td><td>16.48129</td></tr><tr><td>val_loss</td><td>34.49617</td></tr></table><br/></div></div>"
      ],
      "text/plain": [
       "<IPython.core.display.HTML object>"
      ]
     },
     "metadata": {},
     "output_type": "display_data"
    },
    {
     "data": {
      "text/html": [
       " View run <strong style=\"color:#cdcd00\">robust-smoke-24</strong> at: <a href='https://wandb.ai/yixuan228-imperial-college-london/DE_Groupwork_G4_stage1/runs/oc0i00hk' target=\"_blank\">https://wandb.ai/yixuan228-imperial-college-london/DE_Groupwork_G4_stage1/runs/oc0i00hk</a><br> View project at: <a href='https://wandb.ai/yixuan228-imperial-college-london/DE_Groupwork_G4_stage1' target=\"_blank\">https://wandb.ai/yixuan228-imperial-college-london/DE_Groupwork_G4_stage1</a><br>Synced 5 W&B file(s), 0 media file(s), 0 artifact file(s) and 0 other file(s)"
      ],
      "text/plain": [
       "<IPython.core.display.HTML object>"
      ]
     },
     "metadata": {},
     "output_type": "display_data"
    },
    {
     "data": {
      "text/html": [
       "Find logs at: <code>.\\wandb\\run-20250320_155050-oc0i00hk\\logs</code>"
      ],
      "text/plain": [
       "<IPython.core.display.HTML object>"
      ]
     },
     "metadata": {},
     "output_type": "display_data"
    },
    {
     "data": {
      "text/html": [
       "Tracking run with wandb version 0.19.7"
      ],
      "text/plain": [
       "<IPython.core.display.HTML object>"
      ]
     },
     "metadata": {},
     "output_type": "display_data"
    },
    {
     "data": {
      "text/html": [
       "Run data is saved locally in <code>d:\\Projects\\MSc_DE_GroupWork4\\Scripts\\wandb\\run-20250320_155057-byxo0xgy</code>"
      ],
      "text/plain": [
       "<IPython.core.display.HTML object>"
      ]
     },
     "metadata": {},
     "output_type": "display_data"
    },
    {
     "data": {
      "text/html": [
       "Syncing run <strong><a href='https://wandb.ai/yixuan228-imperial-college-london/DE_Groupwork_G4_stage1/runs/byxo0xgy' target=\"_blank\">autumn-firebrand-25</a></strong> to <a href='https://wandb.ai/yixuan228-imperial-college-london/DE_Groupwork_G4_stage1' target=\"_blank\">Weights & Biases</a> (<a href='https://wandb.me/developer-guide' target=\"_blank\">docs</a>)<br>"
      ],
      "text/plain": [
       "<IPython.core.display.HTML object>"
      ]
     },
     "metadata": {},
     "output_type": "display_data"
    },
    {
     "data": {
      "text/html": [
       " View project at <a href='https://wandb.ai/yixuan228-imperial-college-london/DE_Groupwork_G4_stage1' target=\"_blank\">https://wandb.ai/yixuan228-imperial-college-london/DE_Groupwork_G4_stage1</a>"
      ],
      "text/plain": [
       "<IPython.core.display.HTML object>"
      ]
     },
     "metadata": {},
     "output_type": "display_data"
    },
    {
     "data": {
      "text/html": [
       " View run at <a href='https://wandb.ai/yixuan228-imperial-college-london/DE_Groupwork_G4_stage1/runs/byxo0xgy' target=\"_blank\">https://wandb.ai/yixuan228-imperial-college-london/DE_Groupwork_G4_stage1/runs/byxo0xgy</a>"
      ],
      "text/plain": [
       "<IPython.core.display.HTML object>"
      ]
     },
     "metadata": {},
     "output_type": "display_data"
    },
    {
     "name": "stdout",
     "output_type": "stream",
     "text": [
      "Epoch 001 | Train Loss: 56704.1676 | Val Loss: 27385.4206\n",
      "Epoch 002 | Train Loss: 7757.0998 | Val Loss: 2586.4255\n",
      "Epoch 003 | Train Loss: 1569.8031 | Val Loss: 1143.8592\n",
      "Epoch 004 | Train Loss: 880.9119 | Val Loss: 801.5762\n",
      "Epoch 005 | Train Loss: 688.3945 | Val Loss: 653.9869\n",
      "Epoch 006 | Train Loss: 580.7016 | Val Loss: 556.2467\n",
      "Epoch 007 | Train Loss: 504.8547 | Val Loss: 485.1976\n",
      "Epoch 008 | Train Loss: 446.2715 | Val Loss: 428.0901\n",
      "Epoch 009 | Train Loss: 398.0981 | Val Loss: 381.9879\n",
      "Epoch 010 | Train Loss: 357.2257 | Val Loss: 343.3214\n",
      "Epoch 011 | Train Loss: 324.0711 | Val Loss: 310.8590\n",
      "Epoch 012 | Train Loss: 295.5667 | Val Loss: 281.1334\n",
      "Epoch 013 | Train Loss: 271.9113 | Val Loss: 256.5889\n",
      "Epoch 014 | Train Loss: 249.9077 | Val Loss: 235.9859\n",
      "Epoch 015 | Train Loss: 231.0596 | Val Loss: 216.1806\n",
      "Epoch 016 | Train Loss: 212.2501 | Val Loss: 198.3176\n",
      "Epoch 017 | Train Loss: 197.5927 | Val Loss: 184.3834\n",
      "Epoch 018 | Train Loss: 182.4655 | Val Loss: 170.1560\n",
      "Epoch 019 | Train Loss: 168.5648 | Val Loss: 158.3053\n",
      "Epoch 020 | Train Loss: 155.7657 | Val Loss: 147.2547\n",
      "Epoch 021 | Train Loss: 144.4613 | Val Loss: 132.8104\n",
      "Epoch 022 | Train Loss: 131.9994 | Val Loss: 121.0419\n",
      "Epoch 023 | Train Loss: 122.1047 | Val Loss: 111.1781\n",
      "Epoch 024 | Train Loss: 111.3182 | Val Loss: 104.3035\n",
      "Epoch 025 | Train Loss: 102.1042 | Val Loss: 94.8820\n",
      "Epoch 026 | Train Loss: 92.1806 | Val Loss: 84.1906\n",
      "Epoch 027 | Train Loss: 83.6418 | Val Loss: 78.2764\n",
      "Epoch 028 | Train Loss: 75.6318 | Val Loss: 69.0272\n",
      "Epoch 029 | Train Loss: 68.2347 | Val Loss: 63.5973\n",
      "Epoch 030 | Train Loss: 62.8426 | Val Loss: 59.4944\n",
      "Epoch 031 | Train Loss: 56.0581 | Val Loss: 53.4760\n",
      "Epoch 032 | Train Loss: 50.4036 | Val Loss: 47.0539\n",
      "Epoch 033 | Train Loss: 46.6403 | Val Loss: 43.0254\n",
      "Epoch 034 | Train Loss: 41.9765 | Val Loss: 39.7803\n",
      "Epoch 035 | Train Loss: 38.4527 | Val Loss: 36.6102\n",
      "Epoch 036 | Train Loss: 35.0537 | Val Loss: 33.8570\n",
      "Epoch 037 | Train Loss: 32.7268 | Val Loss: 32.2603\n",
      "Epoch 038 | Train Loss: 30.2654 | Val Loss: 30.6084\n",
      "Epoch 039 | Train Loss: 28.2572 | Val Loss: 28.3204\n",
      "Epoch 040 | Train Loss: 26.2821 | Val Loss: 25.5533\n",
      "Epoch 041 | Train Loss: 24.6151 | Val Loss: 24.7332\n",
      "Epoch 042 | Train Loss: 23.2309 | Val Loss: 22.6976\n",
      "Epoch 043 | Train Loss: 21.7613 | Val Loss: 24.1636\n",
      "Epoch 044 | Train Loss: 21.4307 | Val Loss: 22.0723\n",
      "Epoch 045 | Train Loss: 20.2196 | Val Loss: 19.9984\n",
      "Epoch 046 | Train Loss: 19.2155 | Val Loss: 19.3124\n",
      "Epoch 047 | Train Loss: 18.7422 | Val Loss: 19.7304\n",
      "Epoch 048 | Train Loss: 17.6891 | Val Loss: 18.8420\n",
      "Epoch 049 | Train Loss: 16.6817 | Val Loss: 17.1247\n",
      "Epoch 050 | Train Loss: 16.2695 | Val Loss: 16.5189\n",
      "Epoch 051 | Train Loss: 15.6868 | Val Loss: 16.3991\n",
      "Epoch 052 | Train Loss: 15.2508 | Val Loss: 15.3320\n",
      "Epoch 053 | Train Loss: 14.8295 | Val Loss: 14.9100\n",
      "Epoch 054 | Train Loss: 14.5052 | Val Loss: 16.7145\n",
      "Epoch 055 | Train Loss: 15.0648 | Val Loss: 14.1021\n",
      "Epoch 056 | Train Loss: 13.4464 | Val Loss: 13.4759\n",
      "Epoch 057 | Train Loss: 13.3398 | Val Loss: 13.0353\n",
      "Epoch 058 | Train Loss: 12.9618 | Val Loss: 12.6349\n",
      "Epoch 059 | Train Loss: 12.6489 | Val Loss: 12.9315\n",
      "Epoch 060 | Train Loss: 12.1641 | Val Loss: 13.5917\n",
      "Epoch 061 | Train Loss: 12.4782 | Val Loss: 14.3982\n",
      "Epoch 062 | Train Loss: 11.8211 | Val Loss: 13.6663\n",
      "Epoch 063 | Train Loss: 11.5801 | Val Loss: 15.1436\n",
      "Early stopping triggered at epoch 63\n"
     ]
    },
    {
     "data": {
      "text/html": [],
      "text/plain": [
       "<IPython.core.display.HTML object>"
      ]
     },
     "metadata": {},
     "output_type": "display_data"
    },
    {
     "data": {
      "text/html": [
       "<br>    <style><br>        .wandb-row {<br>            display: flex;<br>            flex-direction: row;<br>            flex-wrap: wrap;<br>            justify-content: flex-start;<br>            width: 100%;<br>        }<br>        .wandb-col {<br>            display: flex;<br>            flex-direction: column;<br>            flex-basis: 100%;<br>            flex: 1;<br>            padding: 10px;<br>        }<br>    </style><br><div class=\"wandb-row\"><div class=\"wandb-col\"><h3>Run history:</h3><br/><table class=\"wandb\"><tr><td>epoch</td><td>▁▁▁▁▂▂▂▂▂▂▃▃▃▃▃▃▄▄▄▄▄▅▅▅▅▅▅▆▆▆▇▇▇▇▇▇████</td></tr><tr><td>train_loss</td><td>█▂▁▁▁▁▁▁▁▁▁▁▁▁▁▁▁▁▁▁▁▁▁▁▁▁▁▁▁▁▁▁▁▁▁▁▁▁▁▁</td></tr><tr><td>val_loss</td><td>█▂▁▁▁▁▁▁▁▁▁▁▁▁▁▁▁▁▁▁▁▁▁▁▁▁▁▁▁▁▁▁▁▁▁▁▁▁▁▁</td></tr></table><br/></div><div class=\"wandb-col\"><h3>Run summary:</h3><br/><table class=\"wandb\"><tr><td>epoch</td><td>63</td></tr><tr><td>train_loss</td><td>11.58006</td></tr><tr><td>val_loss</td><td>15.14363</td></tr></table><br/></div></div>"
      ],
      "text/plain": [
       "<IPython.core.display.HTML object>"
      ]
     },
     "metadata": {},
     "output_type": "display_data"
    },
    {
     "data": {
      "text/html": [
       " View run <strong style=\"color:#cdcd00\">autumn-firebrand-25</strong> at: <a href='https://wandb.ai/yixuan228-imperial-college-london/DE_Groupwork_G4_stage1/runs/byxo0xgy' target=\"_blank\">https://wandb.ai/yixuan228-imperial-college-london/DE_Groupwork_G4_stage1/runs/byxo0xgy</a><br> View project at: <a href='https://wandb.ai/yixuan228-imperial-college-london/DE_Groupwork_G4_stage1' target=\"_blank\">https://wandb.ai/yixuan228-imperial-college-london/DE_Groupwork_G4_stage1</a><br>Synced 5 W&B file(s), 0 media file(s), 0 artifact file(s) and 0 other file(s)"
      ],
      "text/plain": [
       "<IPython.core.display.HTML object>"
      ]
     },
     "metadata": {},
     "output_type": "display_data"
    },
    {
     "data": {
      "text/html": [
       "Find logs at: <code>.\\wandb\\run-20250320_155057-byxo0xgy\\logs</code>"
      ],
      "text/plain": [
       "<IPython.core.display.HTML object>"
      ]
     },
     "metadata": {},
     "output_type": "display_data"
    },
    {
     "data": {
      "text/html": [
       "Tracking run with wandb version 0.19.7"
      ],
      "text/plain": [
       "<IPython.core.display.HTML object>"
      ]
     },
     "metadata": {},
     "output_type": "display_data"
    },
    {
     "data": {
      "text/html": [
       "Run data is saved locally in <code>d:\\Projects\\MSc_DE_GroupWork4\\Scripts\\wandb\\run-20250320_155111-k6tulagt</code>"
      ],
      "text/plain": [
       "<IPython.core.display.HTML object>"
      ]
     },
     "metadata": {},
     "output_type": "display_data"
    },
    {
     "data": {
      "text/html": [
       "Syncing run <strong><a href='https://wandb.ai/yixuan228-imperial-college-london/DE_Groupwork_G4_stage1/runs/k6tulagt' target=\"_blank\">chocolate-haze-26</a></strong> to <a href='https://wandb.ai/yixuan228-imperial-college-london/DE_Groupwork_G4_stage1' target=\"_blank\">Weights & Biases</a> (<a href='https://wandb.me/developer-guide' target=\"_blank\">docs</a>)<br>"
      ],
      "text/plain": [
       "<IPython.core.display.HTML object>"
      ]
     },
     "metadata": {},
     "output_type": "display_data"
    },
    {
     "data": {
      "text/html": [
       " View project at <a href='https://wandb.ai/yixuan228-imperial-college-london/DE_Groupwork_G4_stage1' target=\"_blank\">https://wandb.ai/yixuan228-imperial-college-london/DE_Groupwork_G4_stage1</a>"
      ],
      "text/plain": [
       "<IPython.core.display.HTML object>"
      ]
     },
     "metadata": {},
     "output_type": "display_data"
    },
    {
     "data": {
      "text/html": [
       " View run at <a href='https://wandb.ai/yixuan228-imperial-college-london/DE_Groupwork_G4_stage1/runs/k6tulagt' target=\"_blank\">https://wandb.ai/yixuan228-imperial-college-london/DE_Groupwork_G4_stage1/runs/k6tulagt</a>"
      ],
      "text/plain": [
       "<IPython.core.display.HTML object>"
      ]
     },
     "metadata": {},
     "output_type": "display_data"
    },
    {
     "name": "stdout",
     "output_type": "stream",
     "text": [
      "Epoch 001 | Train Loss: 29645.1580 | Val Loss: 897.2804\n",
      "Epoch 002 | Train Loss: 412.7429 | Val Loss: 253.1709\n",
      "Epoch 003 | Train Loss: 191.3689 | Val Loss: 142.7849\n",
      "Epoch 004 | Train Loss: 122.2571 | Val Loss: 153.5129\n",
      "Epoch 005 | Train Loss: 101.8938 | Val Loss: 109.0277\n",
      "Epoch 006 | Train Loss: 91.9422 | Val Loss: 104.9173\n",
      "Epoch 007 | Train Loss: 71.9016 | Val Loss: 79.4464\n",
      "Epoch 008 | Train Loss: 61.0676 | Val Loss: 71.4300\n",
      "Epoch 009 | Train Loss: 55.8214 | Val Loss: 69.1583\n",
      "Epoch 010 | Train Loss: 67.8105 | Val Loss: 82.0943\n",
      "Epoch 011 | Train Loss: 46.9243 | Val Loss: 46.6602\n",
      "Epoch 012 | Train Loss: 37.6091 | Val Loss: 34.8369\n",
      "Epoch 013 | Train Loss: 35.6108 | Val Loss: 34.8455\n",
      "Epoch 014 | Train Loss: 30.5512 | Val Loss: 54.7270\n",
      "Epoch 015 | Train Loss: 44.7542 | Val Loss: 44.6947\n",
      "Epoch 016 | Train Loss: 38.0334 | Val Loss: 110.8209\n",
      "Epoch 017 | Train Loss: 34.8162 | Val Loss: 29.6231\n",
      "Epoch 018 | Train Loss: 27.1739 | Val Loss: 48.3667\n",
      "Epoch 019 | Train Loss: 28.9668 | Val Loss: 73.1030\n",
      "Epoch 020 | Train Loss: 28.3869 | Val Loss: 69.6469\n",
      "Epoch 021 | Train Loss: 26.1820 | Val Loss: 53.8724\n",
      "Epoch 022 | Train Loss: 38.5761 | Val Loss: 65.8838\n",
      "Early stopping triggered at epoch 22\n"
     ]
    },
    {
     "data": {
      "text/html": [],
      "text/plain": [
       "<IPython.core.display.HTML object>"
      ]
     },
     "metadata": {},
     "output_type": "display_data"
    },
    {
     "data": {
      "text/html": [
       "<br>    <style><br>        .wandb-row {<br>            display: flex;<br>            flex-direction: row;<br>            flex-wrap: wrap;<br>            justify-content: flex-start;<br>            width: 100%;<br>        }<br>        .wandb-col {<br>            display: flex;<br>            flex-direction: column;<br>            flex-basis: 100%;<br>            flex: 1;<br>            padding: 10px;<br>        }<br>    </style><br><div class=\"wandb-row\"><div class=\"wandb-col\"><h3>Run history:</h3><br/><table class=\"wandb\"><tr><td>epoch</td><td>▁▁▂▂▂▃▃▃▄▄▄▅▅▅▆▆▆▇▇▇██</td></tr><tr><td>train_loss</td><td>█▁▁▁▁▁▁▁▁▁▁▁▁▁▁▁▁▁▁▁▁▁</td></tr><tr><td>val_loss</td><td>█▃▂▂▂▂▁▁▁▁▁▁▁▁▁▂▁▁▁▁▁▁</td></tr></table><br/></div><div class=\"wandb-col\"><h3>Run summary:</h3><br/><table class=\"wandb\"><tr><td>epoch</td><td>22</td></tr><tr><td>train_loss</td><td>38.57605</td></tr><tr><td>val_loss</td><td>65.88383</td></tr></table><br/></div></div>"
      ],
      "text/plain": [
       "<IPython.core.display.HTML object>"
      ]
     },
     "metadata": {},
     "output_type": "display_data"
    },
    {
     "data": {
      "text/html": [
       " View run <strong style=\"color:#cdcd00\">chocolate-haze-26</strong> at: <a href='https://wandb.ai/yixuan228-imperial-college-london/DE_Groupwork_G4_stage1/runs/k6tulagt' target=\"_blank\">https://wandb.ai/yixuan228-imperial-college-london/DE_Groupwork_G4_stage1/runs/k6tulagt</a><br> View project at: <a href='https://wandb.ai/yixuan228-imperial-college-london/DE_Groupwork_G4_stage1' target=\"_blank\">https://wandb.ai/yixuan228-imperial-college-london/DE_Groupwork_G4_stage1</a><br>Synced 5 W&B file(s), 0 media file(s), 0 artifact file(s) and 0 other file(s)"
      ],
      "text/plain": [
       "<IPython.core.display.HTML object>"
      ]
     },
     "metadata": {},
     "output_type": "display_data"
    },
    {
     "data": {
      "text/html": [
       "Find logs at: <code>.\\wandb\\run-20250320_155111-k6tulagt\\logs</code>"
      ],
      "text/plain": [
       "<IPython.core.display.HTML object>"
      ]
     },
     "metadata": {},
     "output_type": "display_data"
    },
    {
     "data": {
      "text/html": [
       "Tracking run with wandb version 0.19.7"
      ],
      "text/plain": [
       "<IPython.core.display.HTML object>"
      ]
     },
     "metadata": {},
     "output_type": "display_data"
    },
    {
     "data": {
      "text/html": [
       "Run data is saved locally in <code>d:\\Projects\\MSc_DE_GroupWork4\\Scripts\\wandb\\run-20250320_155118-j5sfgzal</code>"
      ],
      "text/plain": [
       "<IPython.core.display.HTML object>"
      ]
     },
     "metadata": {},
     "output_type": "display_data"
    },
    {
     "data": {
      "text/html": [
       "Syncing run <strong><a href='https://wandb.ai/yixuan228-imperial-college-london/DE_Groupwork_G4_stage1/runs/j5sfgzal' target=\"_blank\">olive-monkey-27</a></strong> to <a href='https://wandb.ai/yixuan228-imperial-college-london/DE_Groupwork_G4_stage1' target=\"_blank\">Weights & Biases</a> (<a href='https://wandb.me/developer-guide' target=\"_blank\">docs</a>)<br>"
      ],
      "text/plain": [
       "<IPython.core.display.HTML object>"
      ]
     },
     "metadata": {},
     "output_type": "display_data"
    },
    {
     "data": {
      "text/html": [
       " View project at <a href='https://wandb.ai/yixuan228-imperial-college-london/DE_Groupwork_G4_stage1' target=\"_blank\">https://wandb.ai/yixuan228-imperial-college-london/DE_Groupwork_G4_stage1</a>"
      ],
      "text/plain": [
       "<IPython.core.display.HTML object>"
      ]
     },
     "metadata": {},
     "output_type": "display_data"
    },
    {
     "data": {
      "text/html": [
       " View run at <a href='https://wandb.ai/yixuan228-imperial-college-london/DE_Groupwork_G4_stage1/runs/j5sfgzal' target=\"_blank\">https://wandb.ai/yixuan228-imperial-college-london/DE_Groupwork_G4_stage1/runs/j5sfgzal</a>"
      ],
      "text/plain": [
       "<IPython.core.display.HTML object>"
      ]
     },
     "metadata": {},
     "output_type": "display_data"
    },
    {
     "name": "stdout",
     "output_type": "stream",
     "text": [
      "Epoch 001 | Train Loss: 8068.9233 | Val Loss: 416.2455\n",
      "Epoch 002 | Train Loss: 271.3057 | Val Loss: 190.5633\n",
      "Epoch 003 | Train Loss: 86.2461 | Val Loss: 49.3225\n",
      "Epoch 004 | Train Loss: 36.8383 | Val Loss: 31.1006\n",
      "Epoch 005 | Train Loss: 25.8281 | Val Loss: 35.0079\n",
      "Epoch 006 | Train Loss: 22.0082 | Val Loss: 36.4246\n",
      "Epoch 007 | Train Loss: 27.8460 | Val Loss: 19.0916\n",
      "Epoch 008 | Train Loss: 18.5439 | Val Loss: 23.1170\n",
      "Epoch 009 | Train Loss: 17.5801 | Val Loss: 19.4598\n",
      "Epoch 010 | Train Loss: 22.1314 | Val Loss: 16.9798\n",
      "Epoch 011 | Train Loss: 18.2360 | Val Loss: 42.2264\n",
      "Epoch 012 | Train Loss: 15.9131 | Val Loss: 20.2738\n",
      "Epoch 013 | Train Loss: 14.5809 | Val Loss: 19.5353\n",
      "Epoch 014 | Train Loss: 16.1997 | Val Loss: 18.9198\n",
      "Epoch 015 | Train Loss: 14.5376 | Val Loss: 20.5116\n",
      "Early stopping triggered at epoch 15\n"
     ]
    },
    {
     "data": {
      "text/html": [],
      "text/plain": [
       "<IPython.core.display.HTML object>"
      ]
     },
     "metadata": {},
     "output_type": "display_data"
    },
    {
     "data": {
      "text/html": [
       "<br>    <style><br>        .wandb-row {<br>            display: flex;<br>            flex-direction: row;<br>            flex-wrap: wrap;<br>            justify-content: flex-start;<br>            width: 100%;<br>        }<br>        .wandb-col {<br>            display: flex;<br>            flex-direction: column;<br>            flex-basis: 100%;<br>            flex: 1;<br>            padding: 10px;<br>        }<br>    </style><br><div class=\"wandb-row\"><div class=\"wandb-col\"><h3>Run history:</h3><br/><table class=\"wandb\"><tr><td>epoch</td><td>▁▁▂▃▃▃▄▅▅▅▆▇▇▇█</td></tr><tr><td>train_loss</td><td>█▁▁▁▁▁▁▁▁▁▁▁▁▁▁</td></tr><tr><td>val_loss</td><td>█▄▂▁▁▁▁▁▁▁▁▁▁▁▁</td></tr></table><br/></div><div class=\"wandb-col\"><h3>Run summary:</h3><br/><table class=\"wandb\"><tr><td>epoch</td><td>15</td></tr><tr><td>train_loss</td><td>14.53761</td></tr><tr><td>val_loss</td><td>20.51163</td></tr></table><br/></div></div>"
      ],
      "text/plain": [
       "<IPython.core.display.HTML object>"
      ]
     },
     "metadata": {},
     "output_type": "display_data"
    },
    {
     "data": {
      "text/html": [
       " View run <strong style=\"color:#cdcd00\">olive-monkey-27</strong> at: <a href='https://wandb.ai/yixuan228-imperial-college-london/DE_Groupwork_G4_stage1/runs/j5sfgzal' target=\"_blank\">https://wandb.ai/yixuan228-imperial-college-london/DE_Groupwork_G4_stage1/runs/j5sfgzal</a><br> View project at: <a href='https://wandb.ai/yixuan228-imperial-college-london/DE_Groupwork_G4_stage1' target=\"_blank\">https://wandb.ai/yixuan228-imperial-college-london/DE_Groupwork_G4_stage1</a><br>Synced 5 W&B file(s), 0 media file(s), 0 artifact file(s) and 0 other file(s)"
      ],
      "text/plain": [
       "<IPython.core.display.HTML object>"
      ]
     },
     "metadata": {},
     "output_type": "display_data"
    },
    {
     "data": {
      "text/html": [
       "Find logs at: <code>.\\wandb\\run-20250320_155118-j5sfgzal\\logs</code>"
      ],
      "text/plain": [
       "<IPython.core.display.HTML object>"
      ]
     },
     "metadata": {},
     "output_type": "display_data"
    },
    {
     "data": {
      "text/html": [
       "Tracking run with wandb version 0.19.7"
      ],
      "text/plain": [
       "<IPython.core.display.HTML object>"
      ]
     },
     "metadata": {},
     "output_type": "display_data"
    },
    {
     "data": {
      "text/html": [
       "Run data is saved locally in <code>d:\\Projects\\MSc_DE_GroupWork4\\Scripts\\wandb\\run-20250320_155124-ymway7hg</code>"
      ],
      "text/plain": [
       "<IPython.core.display.HTML object>"
      ]
     },
     "metadata": {},
     "output_type": "display_data"
    },
    {
     "data": {
      "text/html": [
       "Syncing run <strong><a href='https://wandb.ai/yixuan228-imperial-college-london/DE_Groupwork_G4_stage1/runs/ymway7hg' target=\"_blank\">soft-aardvark-28</a></strong> to <a href='https://wandb.ai/yixuan228-imperial-college-london/DE_Groupwork_G4_stage1' target=\"_blank\">Weights & Biases</a> (<a href='https://wandb.me/developer-guide' target=\"_blank\">docs</a>)<br>"
      ],
      "text/plain": [
       "<IPython.core.display.HTML object>"
      ]
     },
     "metadata": {},
     "output_type": "display_data"
    },
    {
     "data": {
      "text/html": [
       " View project at <a href='https://wandb.ai/yixuan228-imperial-college-london/DE_Groupwork_G4_stage1' target=\"_blank\">https://wandb.ai/yixuan228-imperial-college-london/DE_Groupwork_G4_stage1</a>"
      ],
      "text/plain": [
       "<IPython.core.display.HTML object>"
      ]
     },
     "metadata": {},
     "output_type": "display_data"
    },
    {
     "data": {
      "text/html": [
       " View run at <a href='https://wandb.ai/yixuan228-imperial-college-london/DE_Groupwork_G4_stage1/runs/ymway7hg' target=\"_blank\">https://wandb.ai/yixuan228-imperial-college-london/DE_Groupwork_G4_stage1/runs/ymway7hg</a>"
      ],
      "text/plain": [
       "<IPython.core.display.HTML object>"
      ]
     },
     "metadata": {},
     "output_type": "display_data"
    },
    {
     "name": "stdout",
     "output_type": "stream",
     "text": [
      "Epoch 001 | Train Loss: 39011.2165 | Val Loss: 3878.0270\n",
      "Epoch 002 | Train Loss: 1700.3865 | Val Loss: 911.2665\n",
      "Epoch 003 | Train Loss: 668.9609 | Val Loss: 560.1017\n",
      "Epoch 004 | Train Loss: 475.4844 | Val Loss: 429.0761\n",
      "Epoch 005 | Train Loss: 377.0377 | Val Loss: 343.9177\n",
      "Epoch 006 | Train Loss: 308.4385 | Val Loss: 281.5668\n",
      "Epoch 007 | Train Loss: 255.9992 | Val Loss: 236.6689\n",
      "Epoch 008 | Train Loss: 216.7141 | Val Loss: 197.8649\n",
      "Epoch 009 | Train Loss: 186.9025 | Val Loss: 190.8487\n",
      "Epoch 010 | Train Loss: 162.7926 | Val Loss: 147.5239\n",
      "Epoch 011 | Train Loss: 138.5440 | Val Loss: 132.8754\n",
      "Epoch 012 | Train Loss: 118.0816 | Val Loss: 112.1233\n",
      "Epoch 013 | Train Loss: 102.6573 | Val Loss: 94.6799\n",
      "Epoch 014 | Train Loss: 85.7955 | Val Loss: 82.9594\n",
      "Epoch 015 | Train Loss: 73.1546 | Val Loss: 68.9818\n",
      "Epoch 016 | Train Loss: 61.8511 | Val Loss: 58.3811\n",
      "Epoch 017 | Train Loss: 51.2494 | Val Loss: 52.7743\n",
      "Epoch 018 | Train Loss: 44.6434 | Val Loss: 42.4648\n",
      "Epoch 019 | Train Loss: 36.2557 | Val Loss: 35.6199\n",
      "Epoch 020 | Train Loss: 30.7516 | Val Loss: 31.5220\n",
      "Epoch 021 | Train Loss: 28.5074 | Val Loss: 28.4051\n",
      "Epoch 022 | Train Loss: 25.4977 | Val Loss: 31.2210\n",
      "Epoch 023 | Train Loss: 23.9008 | Val Loss: 26.3600\n",
      "Epoch 024 | Train Loss: 21.7995 | Val Loss: 23.9472\n",
      "Epoch 025 | Train Loss: 20.1965 | Val Loss: 25.1585\n",
      "Epoch 026 | Train Loss: 19.6117 | Val Loss: 24.2530\n",
      "Epoch 027 | Train Loss: 18.6041 | Val Loss: 19.4914\n",
      "Epoch 028 | Train Loss: 17.1851 | Val Loss: 20.3032\n",
      "Epoch 029 | Train Loss: 16.8936 | Val Loss: 20.4818\n",
      "Epoch 030 | Train Loss: 15.3423 | Val Loss: 17.3694\n",
      "Epoch 031 | Train Loss: 15.6948 | Val Loss: 18.0086\n",
      "Epoch 032 | Train Loss: 14.3380 | Val Loss: 19.1779\n",
      "Epoch 033 | Train Loss: 14.7978 | Val Loss: 16.5936\n",
      "Epoch 034 | Train Loss: 13.2858 | Val Loss: 15.6352\n",
      "Epoch 035 | Train Loss: 13.5972 | Val Loss: 16.5245\n",
      "Epoch 036 | Train Loss: 12.3699 | Val Loss: 13.6164\n",
      "Epoch 037 | Train Loss: 12.1166 | Val Loss: 15.7311\n",
      "Epoch 038 | Train Loss: 11.6916 | Val Loss: 14.2681\n",
      "Epoch 039 | Train Loss: 11.4004 | Val Loss: 17.9695\n",
      "Epoch 040 | Train Loss: 12.0399 | Val Loss: 14.8643\n",
      "Epoch 041 | Train Loss: 11.5662 | Val Loss: 14.3721\n",
      "Early stopping triggered at epoch 41\n"
     ]
    },
    {
     "data": {
      "text/html": [],
      "text/plain": [
       "<IPython.core.display.HTML object>"
      ]
     },
     "metadata": {},
     "output_type": "display_data"
    },
    {
     "data": {
      "text/html": [
       "<br>    <style><br>        .wandb-row {<br>            display: flex;<br>            flex-direction: row;<br>            flex-wrap: wrap;<br>            justify-content: flex-start;<br>            width: 100%;<br>        }<br>        .wandb-col {<br>            display: flex;<br>            flex-direction: column;<br>            flex-basis: 100%;<br>            flex: 1;<br>            padding: 10px;<br>        }<br>    </style><br><div class=\"wandb-row\"><div class=\"wandb-col\"><h3>Run history:</h3><br/><table class=\"wandb\"><tr><td>epoch</td><td>▁▁▁▂▂▂▂▂▂▃▃▃▃▃▃▄▄▄▄▄▅▅▅▅▅▅▆▆▆▆▆▆▇▇▇▇▇▇██</td></tr><tr><td>train_loss</td><td>█▁▁▁▁▁▁▁▁▁▁▁▁▁▁▁▁▁▁▁▁▁▁▁▁▁▁▁▁▁▁▁▁▁▁▁▁▁▁▁</td></tr><tr><td>val_loss</td><td>█▃▂▂▂▁▁▁▁▁▁▁▁▁▁▁▁▁▁▁▁▁▁▁▁▁▁▁▁▁▁▁▁▁▁▁▁▁▁▁</td></tr></table><br/></div><div class=\"wandb-col\"><h3>Run summary:</h3><br/><table class=\"wandb\"><tr><td>epoch</td><td>41</td></tr><tr><td>train_loss</td><td>11.56619</td></tr><tr><td>val_loss</td><td>14.37206</td></tr></table><br/></div></div>"
      ],
      "text/plain": [
       "<IPython.core.display.HTML object>"
      ]
     },
     "metadata": {},
     "output_type": "display_data"
    },
    {
     "data": {
      "text/html": [
       " View run <strong style=\"color:#cdcd00\">soft-aardvark-28</strong> at: <a href='https://wandb.ai/yixuan228-imperial-college-london/DE_Groupwork_G4_stage1/runs/ymway7hg' target=\"_blank\">https://wandb.ai/yixuan228-imperial-college-london/DE_Groupwork_G4_stage1/runs/ymway7hg</a><br> View project at: <a href='https://wandb.ai/yixuan228-imperial-college-london/DE_Groupwork_G4_stage1' target=\"_blank\">https://wandb.ai/yixuan228-imperial-college-london/DE_Groupwork_G4_stage1</a><br>Synced 5 W&B file(s), 0 media file(s), 0 artifact file(s) and 0 other file(s)"
      ],
      "text/plain": [
       "<IPython.core.display.HTML object>"
      ]
     },
     "metadata": {},
     "output_type": "display_data"
    },
    {
     "data": {
      "text/html": [
       "Find logs at: <code>.\\wandb\\run-20250320_155124-ymway7hg\\logs</code>"
      ],
      "text/plain": [
       "<IPython.core.display.HTML object>"
      ]
     },
     "metadata": {},
     "output_type": "display_data"
    },
    {
     "data": {
      "text/html": [
       "Tracking run with wandb version 0.19.7"
      ],
      "text/plain": [
       "<IPython.core.display.HTML object>"
      ]
     },
     "metadata": {},
     "output_type": "display_data"
    },
    {
     "data": {
      "text/html": [
       "Run data is saved locally in <code>d:\\Projects\\MSc_DE_GroupWork4\\Scripts\\wandb\\run-20250320_155133-31dp1opo</code>"
      ],
      "text/plain": [
       "<IPython.core.display.HTML object>"
      ]
     },
     "metadata": {},
     "output_type": "display_data"
    },
    {
     "data": {
      "text/html": [
       "Syncing run <strong><a href='https://wandb.ai/yixuan228-imperial-college-london/DE_Groupwork_G4_stage1/runs/31dp1opo' target=\"_blank\">apricot-shadow-29</a></strong> to <a href='https://wandb.ai/yixuan228-imperial-college-london/DE_Groupwork_G4_stage1' target=\"_blank\">Weights & Biases</a> (<a href='https://wandb.me/developer-guide' target=\"_blank\">docs</a>)<br>"
      ],
      "text/plain": [
       "<IPython.core.display.HTML object>"
      ]
     },
     "metadata": {},
     "output_type": "display_data"
    },
    {
     "data": {
      "text/html": [
       " View project at <a href='https://wandb.ai/yixuan228-imperial-college-london/DE_Groupwork_G4_stage1' target=\"_blank\">https://wandb.ai/yixuan228-imperial-college-london/DE_Groupwork_G4_stage1</a>"
      ],
      "text/plain": [
       "<IPython.core.display.HTML object>"
      ]
     },
     "metadata": {},
     "output_type": "display_data"
    },
    {
     "data": {
      "text/html": [
       " View run at <a href='https://wandb.ai/yixuan228-imperial-college-london/DE_Groupwork_G4_stage1/runs/31dp1opo' target=\"_blank\">https://wandb.ai/yixuan228-imperial-college-london/DE_Groupwork_G4_stage1/runs/31dp1opo</a>"
      ],
      "text/plain": [
       "<IPython.core.display.HTML object>"
      ]
     },
     "metadata": {},
     "output_type": "display_data"
    },
    {
     "name": "stdout",
     "output_type": "stream",
     "text": [
      "Epoch 001 | Train Loss: 15682.5270 | Val Loss: 1780.9605\n",
      "Epoch 002 | Train Loss: 471.8573 | Val Loss: 853.7950\n",
      "Epoch 003 | Train Loss: 252.2651 | Val Loss: 133.9292\n",
      "Epoch 004 | Train Loss: 104.5567 | Val Loss: 176.4656\n",
      "Epoch 005 | Train Loss: 88.4902 | Val Loss: 74.2405\n",
      "Epoch 006 | Train Loss: 54.8931 | Val Loss: 84.9621\n",
      "Epoch 007 | Train Loss: 254.6177 | Val Loss: 335.9977\n",
      "Epoch 008 | Train Loss: 168.3753 | Val Loss: 35.0218\n",
      "Epoch 009 | Train Loss: 31.5850 | Val Loss: 33.3559\n",
      "Epoch 010 | Train Loss: 35.9809 | Val Loss: 38.8464\n",
      "Epoch 011 | Train Loss: 37.8030 | Val Loss: 79.6495\n",
      "Epoch 012 | Train Loss: 38.3858 | Val Loss: 27.6533\n",
      "Epoch 013 | Train Loss: 33.4417 | Val Loss: 25.8147\n",
      "Epoch 014 | Train Loss: 30.2545 | Val Loss: 47.6540\n",
      "Epoch 015 | Train Loss: 47.8073 | Val Loss: 48.5489\n",
      "Epoch 016 | Train Loss: 26.7488 | Val Loss: 61.5566\n",
      "Epoch 017 | Train Loss: 67.9226 | Val Loss: 53.6597\n",
      "Epoch 018 | Train Loss: 44.6081 | Val Loss: 68.7126\n",
      "Early stopping triggered at epoch 18\n"
     ]
    },
    {
     "data": {
      "text/html": [],
      "text/plain": [
       "<IPython.core.display.HTML object>"
      ]
     },
     "metadata": {},
     "output_type": "display_data"
    },
    {
     "data": {
      "text/html": [
       "<br>    <style><br>        .wandb-row {<br>            display: flex;<br>            flex-direction: row;<br>            flex-wrap: wrap;<br>            justify-content: flex-start;<br>            width: 100%;<br>        }<br>        .wandb-col {<br>            display: flex;<br>            flex-direction: column;<br>            flex-basis: 100%;<br>            flex: 1;<br>            padding: 10px;<br>        }<br>    </style><br><div class=\"wandb-row\"><div class=\"wandb-col\"><h3>Run history:</h3><br/><table class=\"wandb\"><tr><td>epoch</td><td>▁▁▂▂▃▃▃▄▄▅▅▆▆▆▇▇██</td></tr><tr><td>train_loss</td><td>█▁▁▁▁▁▁▁▁▁▁▁▁▁▁▁▁▁</td></tr><tr><td>val_loss</td><td>█▄▁▂▁▁▂▁▁▁▁▁▁▁▁▁▁▁</td></tr></table><br/></div><div class=\"wandb-col\"><h3>Run summary:</h3><br/><table class=\"wandb\"><tr><td>epoch</td><td>18</td></tr><tr><td>train_loss</td><td>44.60812</td></tr><tr><td>val_loss</td><td>68.71261</td></tr></table><br/></div></div>"
      ],
      "text/plain": [
       "<IPython.core.display.HTML object>"
      ]
     },
     "metadata": {},
     "output_type": "display_data"
    },
    {
     "data": {
      "text/html": [
       " View run <strong style=\"color:#cdcd00\">apricot-shadow-29</strong> at: <a href='https://wandb.ai/yixuan228-imperial-college-london/DE_Groupwork_G4_stage1/runs/31dp1opo' target=\"_blank\">https://wandb.ai/yixuan228-imperial-college-london/DE_Groupwork_G4_stage1/runs/31dp1opo</a><br> View project at: <a href='https://wandb.ai/yixuan228-imperial-college-london/DE_Groupwork_G4_stage1' target=\"_blank\">https://wandb.ai/yixuan228-imperial-college-london/DE_Groupwork_G4_stage1</a><br>Synced 5 W&B file(s), 0 media file(s), 0 artifact file(s) and 0 other file(s)"
      ],
      "text/plain": [
       "<IPython.core.display.HTML object>"
      ]
     },
     "metadata": {},
     "output_type": "display_data"
    },
    {
     "data": {
      "text/html": [
       "Find logs at: <code>.\\wandb\\run-20250320_155133-31dp1opo\\logs</code>"
      ],
      "text/plain": [
       "<IPython.core.display.HTML object>"
      ]
     },
     "metadata": {},
     "output_type": "display_data"
    },
    {
     "data": {
      "text/html": [
       "Tracking run with wandb version 0.19.7"
      ],
      "text/plain": [
       "<IPython.core.display.HTML object>"
      ]
     },
     "metadata": {},
     "output_type": "display_data"
    },
    {
     "data": {
      "text/html": [
       "Run data is saved locally in <code>d:\\Projects\\MSc_DE_GroupWork4\\Scripts\\wandb\\run-20250320_155139-3gsh4wu9</code>"
      ],
      "text/plain": [
       "<IPython.core.display.HTML object>"
      ]
     },
     "metadata": {},
     "output_type": "display_data"
    },
    {
     "data": {
      "text/html": [
       "Syncing run <strong><a href='https://wandb.ai/yixuan228-imperial-college-london/DE_Groupwork_G4_stage1/runs/3gsh4wu9' target=\"_blank\">chocolate-night-30</a></strong> to <a href='https://wandb.ai/yixuan228-imperial-college-london/DE_Groupwork_G4_stage1' target=\"_blank\">Weights & Biases</a> (<a href='https://wandb.me/developer-guide' target=\"_blank\">docs</a>)<br>"
      ],
      "text/plain": [
       "<IPython.core.display.HTML object>"
      ]
     },
     "metadata": {},
     "output_type": "display_data"
    },
    {
     "data": {
      "text/html": [
       " View project at <a href='https://wandb.ai/yixuan228-imperial-college-london/DE_Groupwork_G4_stage1' target=\"_blank\">https://wandb.ai/yixuan228-imperial-college-london/DE_Groupwork_G4_stage1</a>"
      ],
      "text/plain": [
       "<IPython.core.display.HTML object>"
      ]
     },
     "metadata": {},
     "output_type": "display_data"
    },
    {
     "data": {
      "text/html": [
       " View run at <a href='https://wandb.ai/yixuan228-imperial-college-london/DE_Groupwork_G4_stage1/runs/3gsh4wu9' target=\"_blank\">https://wandb.ai/yixuan228-imperial-college-london/DE_Groupwork_G4_stage1/runs/3gsh4wu9</a>"
      ],
      "text/plain": [
       "<IPython.core.display.HTML object>"
      ]
     },
     "metadata": {},
     "output_type": "display_data"
    },
    {
     "name": "stdout",
     "output_type": "stream",
     "text": [
      "Epoch 001 | Train Loss: 8234.9684 | Val Loss: 428.4786\n",
      "Epoch 002 | Train Loss: 297.0443 | Val Loss: 196.1163\n",
      "Epoch 003 | Train Loss: 164.3210 | Val Loss: 106.3532\n",
      "Epoch 004 | Train Loss: 83.2055 | Val Loss: 56.9855\n",
      "Epoch 005 | Train Loss: 44.7844 | Val Loss: 32.0811\n",
      "Epoch 006 | Train Loss: 31.7145 | Val Loss: 33.1227\n",
      "Epoch 007 | Train Loss: 23.4414 | Val Loss: 32.9138\n",
      "Epoch 008 | Train Loss: 20.4603 | Val Loss: 15.9747\n",
      "Epoch 009 | Train Loss: 21.1156 | Val Loss: 38.1580\n",
      "Epoch 010 | Train Loss: 18.9895 | Val Loss: 23.7054\n",
      "Epoch 011 | Train Loss: 24.6408 | Val Loss: 38.5454\n",
      "Epoch 012 | Train Loss: 21.8355 | Val Loss: 19.0188\n",
      "Epoch 013 | Train Loss: 22.4028 | Val Loss: 14.1149\n",
      "Epoch 014 | Train Loss: 16.5725 | Val Loss: 85.5603\n",
      "Epoch 015 | Train Loss: 22.2176 | Val Loss: 184.3173\n",
      "Epoch 016 | Train Loss: 36.1908 | Val Loss: 141.7973\n",
      "Epoch 017 | Train Loss: 28.3073 | Val Loss: 28.2618\n",
      "Epoch 018 | Train Loss: 20.4518 | Val Loss: 70.3314\n",
      "Early stopping triggered at epoch 18\n"
     ]
    },
    {
     "data": {
      "text/html": [],
      "text/plain": [
       "<IPython.core.display.HTML object>"
      ]
     },
     "metadata": {},
     "output_type": "display_data"
    },
    {
     "data": {
      "text/html": [
       "<br>    <style><br>        .wandb-row {<br>            display: flex;<br>            flex-direction: row;<br>            flex-wrap: wrap;<br>            justify-content: flex-start;<br>            width: 100%;<br>        }<br>        .wandb-col {<br>            display: flex;<br>            flex-direction: column;<br>            flex-basis: 100%;<br>            flex: 1;<br>            padding: 10px;<br>        }<br>    </style><br><div class=\"wandb-row\"><div class=\"wandb-col\"><h3>Run history:</h3><br/><table class=\"wandb\"><tr><td>epoch</td><td>▁▁▂▂▃▃▃▄▄▅▅▆▆▆▇▇██</td></tr><tr><td>train_loss</td><td>█▁▁▁▁▁▁▁▁▁▁▁▁▁▁▁▁▁</td></tr><tr><td>val_loss</td><td>█▄▃▂▁▁▁▁▁▁▁▁▁▂▄▃▁▂</td></tr></table><br/></div><div class=\"wandb-col\"><h3>Run summary:</h3><br/><table class=\"wandb\"><tr><td>epoch</td><td>18</td></tr><tr><td>train_loss</td><td>20.45176</td></tr><tr><td>val_loss</td><td>70.33144</td></tr></table><br/></div></div>"
      ],
      "text/plain": [
       "<IPython.core.display.HTML object>"
      ]
     },
     "metadata": {},
     "output_type": "display_data"
    },
    {
     "data": {
      "text/html": [
       " View run <strong style=\"color:#cdcd00\">chocolate-night-30</strong> at: <a href='https://wandb.ai/yixuan228-imperial-college-london/DE_Groupwork_G4_stage1/runs/3gsh4wu9' target=\"_blank\">https://wandb.ai/yixuan228-imperial-college-london/DE_Groupwork_G4_stage1/runs/3gsh4wu9</a><br> View project at: <a href='https://wandb.ai/yixuan228-imperial-college-london/DE_Groupwork_G4_stage1' target=\"_blank\">https://wandb.ai/yixuan228-imperial-college-london/DE_Groupwork_G4_stage1</a><br>Synced 5 W&B file(s), 0 media file(s), 0 artifact file(s) and 0 other file(s)"
      ],
      "text/plain": [
       "<IPython.core.display.HTML object>"
      ]
     },
     "metadata": {},
     "output_type": "display_data"
    },
    {
     "data": {
      "text/html": [
       "Find logs at: <code>.\\wandb\\run-20250320_155139-3gsh4wu9\\logs</code>"
      ],
      "text/plain": [
       "<IPython.core.display.HTML object>"
      ]
     },
     "metadata": {},
     "output_type": "display_data"
    },
    {
     "data": {
      "text/html": [
       "Tracking run with wandb version 0.19.7"
      ],
      "text/plain": [
       "<IPython.core.display.HTML object>"
      ]
     },
     "metadata": {},
     "output_type": "display_data"
    },
    {
     "data": {
      "text/html": [
       "Run data is saved locally in <code>d:\\Projects\\MSc_DE_GroupWork4\\Scripts\\wandb\\run-20250320_155145-a57kcfoh</code>"
      ],
      "text/plain": [
       "<IPython.core.display.HTML object>"
      ]
     },
     "metadata": {},
     "output_type": "display_data"
    },
    {
     "data": {
      "text/html": [
       "Syncing run <strong><a href='https://wandb.ai/yixuan228-imperial-college-london/DE_Groupwork_G4_stage1/runs/a57kcfoh' target=\"_blank\">silver-water-31</a></strong> to <a href='https://wandb.ai/yixuan228-imperial-college-london/DE_Groupwork_G4_stage1' target=\"_blank\">Weights & Biases</a> (<a href='https://wandb.me/developer-guide' target=\"_blank\">docs</a>)<br>"
      ],
      "text/plain": [
       "<IPython.core.display.HTML object>"
      ]
     },
     "metadata": {},
     "output_type": "display_data"
    },
    {
     "data": {
      "text/html": [
       " View project at <a href='https://wandb.ai/yixuan228-imperial-college-london/DE_Groupwork_G4_stage1' target=\"_blank\">https://wandb.ai/yixuan228-imperial-college-london/DE_Groupwork_G4_stage1</a>"
      ],
      "text/plain": [
       "<IPython.core.display.HTML object>"
      ]
     },
     "metadata": {},
     "output_type": "display_data"
    },
    {
     "data": {
      "text/html": [
       " View run at <a href='https://wandb.ai/yixuan228-imperial-college-london/DE_Groupwork_G4_stage1/runs/a57kcfoh' target=\"_blank\">https://wandb.ai/yixuan228-imperial-college-london/DE_Groupwork_G4_stage1/runs/a57kcfoh</a>"
      ],
      "text/plain": [
       "<IPython.core.display.HTML object>"
      ]
     },
     "metadata": {},
     "output_type": "display_data"
    },
    {
     "name": "stdout",
     "output_type": "stream",
     "text": [
      "Epoch 001 | Train Loss: 30004.5715 | Val Loss: 1621.4597\n",
      "Epoch 002 | Train Loss: 829.0133 | Val Loss: 544.5474\n",
      "Epoch 003 | Train Loss: 421.4722 | Val Loss: 358.6281\n",
      "Epoch 004 | Train Loss: 306.7010 | Val Loss: 262.4022\n",
      "Epoch 005 | Train Loss: 233.6078 | Val Loss: 212.9773\n",
      "Epoch 006 | Train Loss: 187.3890 | Val Loss: 169.2568\n",
      "Epoch 007 | Train Loss: 153.2891 | Val Loss: 138.8839\n",
      "Epoch 008 | Train Loss: 123.6918 | Val Loss: 110.2185\n",
      "Epoch 009 | Train Loss: 99.6517 | Val Loss: 89.8973\n",
      "Epoch 010 | Train Loss: 80.2958 | Val Loss: 72.9211\n",
      "Epoch 011 | Train Loss: 63.3780 | Val Loss: 56.8253\n",
      "Epoch 012 | Train Loss: 51.0847 | Val Loss: 50.5883\n",
      "Epoch 013 | Train Loss: 43.4145 | Val Loss: 43.4394\n",
      "Epoch 014 | Train Loss: 35.3315 | Val Loss: 35.7782\n",
      "Epoch 015 | Train Loss: 31.8366 | Val Loss: 32.3338\n",
      "Epoch 016 | Train Loss: 28.5068 | Val Loss: 32.2049\n",
      "Epoch 017 | Train Loss: 25.7379 | Val Loss: 39.2358\n",
      "Epoch 018 | Train Loss: 27.6751 | Val Loss: 26.9153\n",
      "Epoch 019 | Train Loss: 22.2974 | Val Loss: 26.5230\n",
      "Epoch 020 | Train Loss: 21.0442 | Val Loss: 22.9016\n",
      "Epoch 021 | Train Loss: 19.3700 | Val Loss: 23.5321\n",
      "Epoch 022 | Train Loss: 18.7925 | Val Loss: 22.4067\n",
      "Epoch 023 | Train Loss: 17.2719 | Val Loss: 22.7908\n",
      "Epoch 024 | Train Loss: 16.5967 | Val Loss: 19.0576\n",
      "Epoch 025 | Train Loss: 15.8105 | Val Loss: 17.2258\n",
      "Epoch 026 | Train Loss: 14.5994 | Val Loss: 16.7991\n",
      "Epoch 027 | Train Loss: 14.3691 | Val Loss: 16.4959\n",
      "Epoch 028 | Train Loss: 14.5329 | Val Loss: 17.3842\n",
      "Epoch 029 | Train Loss: 13.4376 | Val Loss: 14.9385\n",
      "Epoch 030 | Train Loss: 12.8616 | Val Loss: 16.5158\n",
      "Epoch 031 | Train Loss: 12.5140 | Val Loss: 14.0398\n",
      "Epoch 032 | Train Loss: 12.8769 | Val Loss: 20.1224\n",
      "Epoch 033 | Train Loss: 12.5353 | Val Loss: 15.8332\n",
      "Epoch 034 | Train Loss: 12.2922 | Val Loss: 15.5851\n",
      "Epoch 035 | Train Loss: 12.6229 | Val Loss: 21.1003\n",
      "Epoch 036 | Train Loss: 11.0739 | Val Loss: 31.4544\n",
      "Early stopping triggered at epoch 36\n"
     ]
    },
    {
     "data": {
      "text/html": [],
      "text/plain": [
       "<IPython.core.display.HTML object>"
      ]
     },
     "metadata": {},
     "output_type": "display_data"
    },
    {
     "data": {
      "text/html": [
       "<br>    <style><br>        .wandb-row {<br>            display: flex;<br>            flex-direction: row;<br>            flex-wrap: wrap;<br>            justify-content: flex-start;<br>            width: 100%;<br>        }<br>        .wandb-col {<br>            display: flex;<br>            flex-direction: column;<br>            flex-basis: 100%;<br>            flex: 1;<br>            padding: 10px;<br>        }<br>    </style><br><div class=\"wandb-row\"><div class=\"wandb-col\"><h3>Run history:</h3><br/><table class=\"wandb\"><tr><td>epoch</td><td>▁▁▁▂▂▂▂▂▃▃▃▃▃▄▄▄▄▄▅▅▅▅▅▆▆▆▆▆▇▇▇▇▇███</td></tr><tr><td>train_loss</td><td>█▁▁▁▁▁▁▁▁▁▁▁▁▁▁▁▁▁▁▁▁▁▁▁▁▁▁▁▁▁▁▁▁▁▁▁</td></tr><tr><td>val_loss</td><td>█▃▃▂▂▂▂▁▁▁▁▁▁▁▁▁▁▁▁▁▁▁▁▁▁▁▁▁▁▁▁▁▁▁▁▁</td></tr></table><br/></div><div class=\"wandb-col\"><h3>Run summary:</h3><br/><table class=\"wandb\"><tr><td>epoch</td><td>36</td></tr><tr><td>train_loss</td><td>11.07388</td></tr><tr><td>val_loss</td><td>31.45436</td></tr></table><br/></div></div>"
      ],
      "text/plain": [
       "<IPython.core.display.HTML object>"
      ]
     },
     "metadata": {},
     "output_type": "display_data"
    },
    {
     "data": {
      "text/html": [
       " View run <strong style=\"color:#cdcd00\">silver-water-31</strong> at: <a href='https://wandb.ai/yixuan228-imperial-college-london/DE_Groupwork_G4_stage1/runs/a57kcfoh' target=\"_blank\">https://wandb.ai/yixuan228-imperial-college-london/DE_Groupwork_G4_stage1/runs/a57kcfoh</a><br> View project at: <a href='https://wandb.ai/yixuan228-imperial-college-london/DE_Groupwork_G4_stage1' target=\"_blank\">https://wandb.ai/yixuan228-imperial-college-london/DE_Groupwork_G4_stage1</a><br>Synced 5 W&B file(s), 0 media file(s), 0 artifact file(s) and 0 other file(s)"
      ],
      "text/plain": [
       "<IPython.core.display.HTML object>"
      ]
     },
     "metadata": {},
     "output_type": "display_data"
    },
    {
     "data": {
      "text/html": [
       "Find logs at: <code>.\\wandb\\run-20250320_155145-a57kcfoh\\logs</code>"
      ],
      "text/plain": [
       "<IPython.core.display.HTML object>"
      ]
     },
     "metadata": {},
     "output_type": "display_data"
    },
    {
     "name": "stdout",
     "output_type": "stream",
     "text": [
      "Training complete for all configurations.\n"
     ]
    }
   ],
   "source": [
    "from itertools import product\n",
    "import torch.optim as optim\n",
    "\n",
    "for hidden_units, hidden_layers, lr in product(hidden_units_options, hidden_layers_options, learning_rates):\n",
    "\n",
    "    # Configurations\n",
    "    config = {\n",
    "        \"hidden_units\": hidden_units,\n",
    "        \"hidden_layers\": hidden_layers,\n",
    "        \"learning_rate\": lr,\n",
    "        \"max_epochs\": max_epochs,\n",
    "        \"patience\": patience\n",
    "    }\n",
    "\n",
    "    # Start a new W&B run for each configuration\n",
    "    wandb.init(project='DE_Groupwork_G4_stage1', config=config, reinit=True)\n",
    "\n",
    "    model = MultiLayerPerceptron(input_size=input_size, \n",
    "                             hidden_size=config[\"hidden_units\"], \n",
    "                             num_layers=config[\"hidden_layers\"], \n",
    "                             output_size=1).to(device)\n",
    "\n",
    "\n",
    "    criterion = nn.MSELoss() \n",
    "    optimizer = optim.Adam(model.parameters(), lr=lr)\n",
    "\n",
    "    best_test_loss = float('inf')\n",
    "    epochs_without_improvement = 0\n",
    "        \n",
    "    for epoch in range(1, max_epochs + 1):\n",
    "        train_loss = train_epoch(model, train_Loader, criterion, optimizer, device)\n",
    "       \n",
    "        test_loss = val_epoch(model, test_Loader, criterion, device)\n",
    "\n",
    "        # Log metrics to W&B\n",
    "        wandb.log({\"epoch\": epoch, \"train_loss\": train_loss, \"val_loss\": test_loss})\n",
    "        \n",
    "        print(f\"Epoch {epoch:03d} | Train Loss: {train_loss:.4f} | Val Loss: {test_loss:.4f}\")\n",
    "        \n",
    "        # Early stopping check\n",
    "        if test_loss < best_test_loss:\n",
    "            best_test_loss = test_loss\n",
    "            epochs_without_improvement = 0\n",
    "        else:\n",
    "            epochs_without_improvement += 1\n",
    "            \n",
    "        if epochs_without_improvement >= patience:\n",
    "            print(f\"Early stopping triggered at epoch {epoch}\")\n",
    "            break\n",
    "\n",
    "    wandb.finish()\n",
    "\n",
    "print(\"Training complete for all configurations.\")\n"
   ]
  },
  {
   "cell_type": "markdown",
   "metadata": {},
   "source": [
    "#### 3.1.2 Summary and Select the Best Model"
   ]
  },
  {
   "cell_type": "markdown",
   "metadata": {},
   "source": [
    "Visualization of each Search"
   ]
  },
  {
   "cell_type": "code",
   "execution_count": 91,
   "metadata": {},
   "outputs": [
    {
     "data": {
      "image/png": "[encoded data removed]",
      "text/plain": [
       "<Figure size 1200x600 with 1 Axes>"
      ]
     },
     "metadata": {},
     "output_type": "display_data"
    }
   ],
   "source": [
    "import matplotlib.pyplot as plt\n",
    "import matplotlib.image as mpimg\n",
    "\n",
    "image_path = \"S1_NN_loss.png\"\n",
    "img = mpimg.imread(image_path)\n",
    "\n",
    "plt.figure(figsize=(12, 6))\n",
    "plt.imshow(img)\n",
    "plt.axis(\"off\")\n",
    "plt.show()"
   ]
  },
  {
   "cell_type": "markdown",
   "metadata": {},
   "source": [
    "Find the best model"
   ]
  },
  {
   "cell_type": "code",
   "execution_count": 88,
   "metadata": {},
   "outputs": [],
   "source": [
    "import wandb\n",
    "import os\n",
    "\n",
    "api = wandb.Api()\n",
    "\n",
    "project_path = \"yixuan228-imperial-college-london/DE_Groupwork G4\"\n",
    "runs = api.runs(project_path)  # Get all the runs\n",
    "\n",
    "# save_dir = \"wandb_artifacts\"\n",
    "# os.makedirs(save_dir, exist_ok=True)"
   ]
  },
  {
   "cell_type": "markdown",
   "metadata": {},
   "source": [
    "Save all the model config"
   ]
  },
  {
   "cell_type": "code",
   "execution_count": 89,
   "metadata": {},
   "outputs": [],
   "source": [
    "ls_summary, ls_config = [], []\n",
    "\n",
    "best_run = None\n",
    "best_val_loss = float('inf')\n",
    "\n",
    "ls_config = [run.config for run in runs]\n",
    "ls_summary = [run.summary._json_dict for run in runs]\n"
   ]
  },
  {
   "cell_type": "markdown",
   "metadata": {},
   "source": [
    "Select the best model"
   ]
  },
  {
   "cell_type": "code",
   "execution_count": 90,
   "metadata": {},
   "outputs": [
    {
     "name": "stdout",
     "output_type": "stream",
     "text": [
      "\n",
      "Best Model Found:\n",
      "Run ID: nbfzlfhc, Name: fearless-morning-12, State: finished\n",
      "Lowest Validation Loss: 8.600484386515094\n",
      "\n",
      "Best Model Hyperparameters (config):\n",
      "   patience: 5\n",
      "   max_epochs: 200\n",
      "   hidden_units: 64\n",
      "   hidden_layers: 2\n",
      "   learning_rate: 0.001\n",
      "\n",
      "Best Model Final Metrics (summary):\n",
      "   _runtime: 19.7579481\n",
      "   _step: 118\n",
      "   _timestamp: 1742462047.419305\n",
      "   _wandb: {'runtime': 19}\n",
      "   epoch: 119\n",
      "   train_loss: 8.823451982218003\n",
      "   val_loss: 8.600484386515094\n"
     ]
    }
   ],
   "source": [
    "best_run = None\n",
    "best_loss = float(\"inf\")  \n",
    "\n",
    "for run in runs:\n",
    "    # print(run.summary.keys())\n",
    "    if \"val_loss\" in run.summary:  \n",
    "        loss = run.summary[\"val_loss\"]\n",
    "        if loss < best_loss:  # best model with least loss\n",
    "            best_loss = loss\n",
    "            best_run = run\n",
    "\n",
    "# Best model hyparparameters\n",
    "if best_run:\n",
    "    print(\"\\nBest Model Found:\")\n",
    "    print(f\"Run ID: {best_run.id}, Name: {best_run.name}, State: {best_run.state}\")\n",
    "    print(f\"Lowest Validation Loss: {best_loss}\")\n",
    "\n",
    "    print(\"\\nBest Model Hyperparameters (config):\")\n",
    "    for key, value in best_run.config.items():\n",
    "        print(f\"   {key}: {value}\")\n",
    "\n",
    "    print(\"\\nBest Model Final Metrics (summary):\")\n",
    "    for key, value in best_run.summary.items():\n",
    "        print(f\"   {key}: {value}\")\n",
    "else:\n",
    "    print(\"No valid runs found with 'loss' metric.\")\n"
   ]
  },
  {
   "cell_type": "markdown",
   "metadata": {},
   "source": [
    "#### 3.1.4 Best NN Model Parameters"
   ]
  },
  {
   "cell_type": "markdown",
   "metadata": {},
   "source": [
    "Using Nueral Network Models is a good way to predict the CO2 emssions based on the features given. After using W&B to grid search the hyperparameters grid, the best model is chosen based on the metric of validation loss.\n",
    "\n",
    "The best model parameters are listed below:\n",
    "\n",
    "**Hyperparameter**:\\\n",
    "    patience: 5\\\n",
    "    max_epochs: 200\\\n",
    "    hidden_units: 64\\\n",
    "    hidden_layers: 2\\\n",
    "    learning_rate: 0.001\n",
    "\n",
    "**Running Performance:**\\\n",
    "    epoch: 119\\\n",
    "    Training loss: 8.823451982218003\\\n",
    "    Validation loss: 8.600484386515094\n",
    "\n",
    "\n"
   ]
  },
  {
   "cell_type": "markdown",
   "metadata": {},
   "source": [
    "#### 3.1.5 K-fold on Best NN Model "
   ]
  },
  {
   "cell_type": "markdown",
   "metadata": {},
   "source": [
    "Initialize NN model configuration, set hyperparameter grid."
   ]
  },
  {
   "cell_type": "code",
   "execution_count": 103,
   "metadata": {},
   "outputs": [],
   "source": [
    "# Hyperparameter grid\n",
    "hidden_size = 64    # Numbers of neurons in each hidden layer\n",
    "num_layer = 2       # Numbers of hidden layers\n",
    "learning_rate = 0.001     # Learning rates\n",
    "\n",
    "num_epochs = 200  # Arbitrarily large; early stopping will likely stop earlier.\n",
    "batch_size = 64\n",
    "patience = 5      # Early stopping patience\n",
    "\n",
    "input_size =  X_train_processed.shape[1]   # Input size \n",
    "output_size = 1             # Output size"
   ]
  },
  {
   "cell_type": "markdown",
   "metadata": {},
   "source": [
    "Output k-fold validation results"
   ]
  },
  {
   "cell_type": "code",
   "execution_count": 104,
   "metadata": {},
   "outputs": [
    {
     "name": "stdout",
     "output_type": "stream",
     "text": [
      "Best Neural Network Model:\n",
      "\n",
      "Fold 1 Validation Dataset MSE: 5.7054\n",
      "Fold 2 Validation Dataset MSE: 7.5513\n",
      "Fold 3 Validation Dataset MSE: 8.5964\n",
      "Fold 4 Validation Dataset MSE: 6.8910\n",
      "Fold 5 Validation Dataset MSE: 7.8641\n",
      "Fold 6 Validation Dataset MSE: 8.3933\n",
      "Fold 7 Validation Dataset MSE: 7.0964\n",
      "Fold 8 Validation Dataset MSE: 11.1679\n",
      "Fold 9 Validation Dataset MSE: 7.0397\n",
      "Fold 10 Validation Dataset MSE: 18.7081\n",
      "Fold 11 Validation Dataset MSE: 9.9586\n",
      "Fold 12 Validation Dataset MSE: 6.5334\n",
      "Fold 13 Validation Dataset MSE: 7.6948\n",
      "Fold 14 Validation Dataset MSE: 7.2341\n",
      "Fold 15 Validation Dataset MSE: 7.7137\n",
      "Fold 16 Validation Dataset MSE: 6.2179\n",
      "Fold 17 Validation Dataset MSE: 7.7282\n",
      "Fold 18 Validation Dataset MSE: 6.5246\n",
      "Fold 19 Validation Dataset MSE: 8.7707\n",
      "Fold 20 Validation Dataset MSE: 7.1306\n",
      "\n",
      "K-Fold Average MSE: 8.2260\n",
      "\n",
      "--------Finished training and validating the model!--------\n"
     ]
    }
   ],
   "source": [
    "from torch.utils.data import Subset\n",
    "from torch import optim\n",
    "\n",
    "# Save MSE and True/Predict Values---------------------------\n",
    "nn_k_fold_mse = []\n",
    "nn_k_fold_R2 = []\n",
    "nn_k_fold_mae = []\n",
    "nn_k_fold_mape = []   \n",
    "\n",
    "# Train and Evaluate the model----------------------------\n",
    "print(f'Best Neural Network Model:\\n')\n",
    "for fold, (train_index, val_index) in enumerate(k_fold.split(X_train_df)):\n",
    "\n",
    "    # get the training and validation data\n",
    "    train_subset  = Subset(train_dataset, train_index)\n",
    "    val_subset = Subset(train_dataset, val_index)\n",
    "\n",
    "    # Data loader\n",
    "    train_loader = DataLoader(dataset=train_subset , batch_size=batch_size, shuffle=True)\n",
    "    val_loader = DataLoader(dataset=val_subset, batch_size=batch_size, shuffle=False)\n",
    "\n",
    "    # Initialize and train the model\n",
    "    nn_model = MultiLayerPerceptron(input_size, hidden_size, num_layer, output_size).to(device)\n",
    "\n",
    "    criterion = nn.MSELoss()  # MSE as loss function\n",
    "    optimizer = optim.Adam(nn_model.parameters(), lr=learning_rate)  # Adam as optimizer\n",
    "\n",
    "    for epoch in range(num_epochs):\n",
    "        nn_model.train()\n",
    "        total_loss = 0\n",
    "        i = 0\n",
    "\n",
    "        for X_batch, y_batch in train_loader:\n",
    "\n",
    "            X_batch, y_batch = X_batch.to(device), y_batch.to(device)\n",
    "\n",
    "            optimizer.zero_grad()\n",
    "            y_pred = nn_model(X_batch)\n",
    "            loss = criterion(y_pred, y_batch)\n",
    "            loss.backward()\n",
    "            optimizer.step()\n",
    "\n",
    "            total_loss += loss.item()\n",
    "\n",
    "        # if (epoch+1) % 10 == 0:\n",
    "        #     print(f\"Epoch {epoch+1}, Loss: {total_loss/len(train_loader):.4f}\")\n",
    "\n",
    "    # Validate the model\n",
    "    nn_model.eval()\n",
    "\n",
    "    y_true_fold = []\n",
    "    y_pred_fold = []\n",
    "\n",
    "    val_loss = 0\n",
    "    with torch.no_grad():\n",
    "        for X_batch, y_batch in val_loader:\n",
    "\n",
    "            X_batch, y_batch = X_batch.to(device), y_batch.to(device)\n",
    "\n",
    "            y_pred = nn_model(X_batch)\n",
    "            loss = criterion(y_pred, y_batch)\n",
    "            val_loss += loss.item()\n",
    "\n",
    "            # y_true_fold.append(y_batch.cpu.numpy())     \n",
    "            # y_pred_fold.append(y_pred.cpu.numpy())      \n",
    "\n",
    "            y_true_fold.append(y_batch.cpu().detach().numpy())  # true value\n",
    "            y_pred_fold.append(y_pred.cpu().detach().numpy())   # predicted value\n",
    "\n",
    "    y_true_fold = np.concatenate(y_true_fold, axis=0).flatten()\n",
    "    y_pred_fold = np.concatenate(y_pred_fold, axis=0).flatten()\n",
    "\n",
    "    mse = mean_squared_error(y_true_fold, y_pred_fold)\n",
    "    r2 = r2_score(y_true_fold, y_pred_fold)\n",
    "    mae = mean_absolute_error(y_true_fold, y_pred_fold)\n",
    "    mape = mean_absolute_percentage_error(y_true_fold, y_pred_fold)\n",
    "\n",
    "    nn_k_fold_mse.append(mse)\n",
    "    nn_k_fold_R2.append(r2)\n",
    "    nn_k_fold_mae.append(mae)\n",
    "    nn_k_fold_mape.append(mape)\n",
    "    \n",
    "    print(f\"Fold {fold+1} Validation Dataset MSE: {mse:.4f}\")\n",
    "\n",
    "print(f\"\\nK-Fold Average MSE: {np.mean(nn_k_fold_mse):.4f}\")\n",
    "print(f\"\\n--------Finished training and validating the model!--------\")\n"
   ]
  },
  {
   "cell_type": "code",
   "execution_count": 106,
   "metadata": {},
   "outputs": [
    {
     "name": "stdout",
     "output_type": "stream",
     "text": [
      "Neural Network Model:\n",
      "    Test Dataset MSE: 7.8916\n",
      "    Test Dataset R2: 0.9977\n",
      "    Test Dataset MAE: 2.0766\n",
      "    Test Dataset MAPE: 0.0083\n"
     ]
    },
    {
     "data": {
      "text/plain": [
       "Text(0.5, 1.0, 'Neural Network Model: Observed vs Predicted values')"
      ]
     },
     "execution_count": 106,
     "metadata": {},
     "output_type": "execute_result"
    },
    {
     "data": {
      "image/png": "[encoded data removed]",
      "text/plain": [
       "<Figure size 600x500 with 1 Axes>"
      ]
     },
     "metadata": {},
     "output_type": "display_data"
    }
   ],
   "source": [
    "# Test the model on the test dataset------------------------   \n",
    "# Using MSE as the evaluation metrics: Mean Squared Error, R2, MAE, MAPE\n",
    "nn_model.eval()\n",
    "\n",
    "# Get the prediction and true values\n",
    "nn_test_true = []\n",
    "nn_test_pred = []\n",
    "\n",
    "val_loss = 0\n",
    "with torch.no_grad():\n",
    "    for X_batch, y_batch in test_Loader:\n",
    "\n",
    "        X_batch, y_batch = X_batch.to(device), y_batch.to(device)\n",
    "\n",
    "        y_pred = nn_model(X_batch)\n",
    "        loss = criterion(y_pred, y_batch)\n",
    "        val_loss += loss.item()\n",
    "\n",
    "        nn_test_true.append(y_batch.cpu().detach().numpy())     # true value\n",
    "        nn_test_pred.append(y_pred.cpu().detach().numpy())      # predicted value\n",
    "\n",
    "# concatenate the true and predicted values\n",
    "nn_test_true = np.concatenate(nn_test_true, axis=0).flatten()\n",
    "nn_test_pred = np.concatenate(nn_test_pred, axis=0).flatten()\n",
    "\n",
    "nn_test_r2 = r2_score(nn_test_pred, nn_test_true)\n",
    "nn_test_mse = mean_squared_error(nn_test_pred, nn_test_true)\n",
    "nn_test_mae = mean_absolute_error(nn_test_pred, nn_test_true)\n",
    "nn_test_mape = mean_absolute_percentage_error(nn_test_pred, nn_test_true)\n",
    "\n",
    "# Output\n",
    "print(f'Neural Network Model:')\n",
    "print(f\"    Test Dataset MSE: {nn_test_mse:.4f}\")\n",
    "print(f\"    Test Dataset R2: {nn_test_r2:.4f}\")\n",
    "print(f\"    Test Dataset MAE: {nn_test_mae:.4f}\")\n",
    "print(f\"    Test Dataset MAPE: {nn_test_mape:.4f}\")\n",
    "\n",
    "# Using plot\n",
    "fig, ax = plt.subplots(1, 1, figsize=(6, 5))\n",
    "plot_pred_true(nn_test_true, nn_test_pred, ax)\n",
    "plt.title('Neural Network Model: Observed vs Predicted values')"
   ]
  },
  {
   "cell_type": "code",
   "execution_count": 107,
   "metadata": {},
   "outputs": [
    {
     "name": "stdout",
     "output_type": "stream",
     "text": [
      "Test Dataset MSE: 7.8916\n",
      "Validation Dataset MSE: 8.2260\n"
     ]
    }
   ],
   "source": [
    "print(f\"Test Dataset MSE: {nn_test_mse:.4f}\")\n",
    "print(f\"Validation Dataset MSE: {np.mean(nn_k_fold_mse):.4f}\")"
   ]
  },
  {
   "cell_type": "markdown",
   "metadata": {},
   "source": [
    "### 3.1.6 Save the NN Model Performance"
   ]
  },
  {
   "cell_type": "markdown",
   "metadata": {},
   "source": [
    "Output of Best NN Model\n",
    "\n",
    "- Output will include two types of data: Validation values, and Test Values, and combine those into one dataframe.\n",
    "\n",
    "- Validation RSE:  1 x 20    Test RSE: 1 x 1\n",
    "\n",
    "- Validation R2:   1 x 20    Test R2:  1 x 1\n",
    "\n",
    "- Validation MAE:  1 x 20    Test MAE:  1 x 1\n",
    "\n",
    "- Validation MAPE: 1 x 20    Test MAPE:  1 x 1\n",
    "\n",
    "- So the output dataframe should include:\n",
    "\n",
    "    - **4 rows**: RSE, R2, MAE and MAPE \n",
    "    \n",
    "    - **21 cols**:  first 20 as validation metrics, with the last one being test metric"
   ]
  },
  {
   "cell_type": "code",
   "execution_count": 108,
   "metadata": {},
   "outputs": [],
   "source": [
    "# Save the output of Best NN Model \n",
    "nn_metrics = pd.DataFrame([nn_k_fold_mse, nn_k_fold_R2, nn_k_fold_mae, nn_k_fold_mape])\n",
    "\n",
    "# Add Test results\n",
    "nn_metrics[\"Test_results\"] = [nn_test_mse, nn_test_r2, nn_test_mae, nn_test_mape]\n"
   ]
  },
  {
   "cell_type": "code",
   "execution_count": 117,
   "metadata": {},
   "outputs": [],
   "source": [
    "nn_metrics.columns = [f\"fold_{i+1}\" for i in range(20)] + [\"Test\"]\n",
    "nn_metrics.index = ['MSE', 'R2', 'MAE', 'MAPE']\n"
   ]
  },
  {
   "cell_type": "code",
   "execution_count": 118,
   "metadata": {},
   "outputs": [
    {
     "data": {
      "text/html": [
       "<div>\n",
       "<style scoped>\n",
       "    .dataframe tbody tr th:only-of-type {\n",
       "        vertical-align: middle;\n",
       "    }\n",
       "\n",
       "    .dataframe tbody tr th {\n",
       "        vertical-align: top;\n",
       "    }\n",
       "\n",
       "    .dataframe thead th {\n",
       "        text-align: right;\n",
       "    }\n",
       "</style>\n",
       "<table border=\"1\" class=\"dataframe\">\n",
       "  <thead>\n",
       "    <tr style=\"text-align: right;\">\n",
       "      <th></th>\n",
       "      <th>fold_1</th>\n",
       "      <th>fold_2</th>\n",
       "      <th>fold_3</th>\n",
       "      <th>fold_4</th>\n",
       "      <th>fold_5</th>\n",
       "      <th>fold_6</th>\n",
       "      <th>fold_7</th>\n",
       "      <th>fold_8</th>\n",
       "      <th>fold_9</th>\n",
       "      <th>fold_10</th>\n",
       "      <th>...</th>\n",
       "      <th>fold_12</th>\n",
       "      <th>fold_13</th>\n",
       "      <th>fold_14</th>\n",
       "      <th>fold_15</th>\n",
       "      <th>fold_16</th>\n",
       "      <th>fold_17</th>\n",
       "      <th>fold_18</th>\n",
       "      <th>fold_19</th>\n",
       "      <th>fold_20</th>\n",
       "      <th>Test</th>\n",
       "    </tr>\n",
       "  </thead>\n",
       "  <tbody>\n",
       "    <tr>\n",
       "      <th>MSE</th>\n",
       "      <td>5.705410</td>\n",
       "      <td>7.551312</td>\n",
       "      <td>8.596402</td>\n",
       "      <td>6.891008</td>\n",
       "      <td>7.864084</td>\n",
       "      <td>8.393311</td>\n",
       "      <td>7.096413</td>\n",
       "      <td>11.167949</td>\n",
       "      <td>7.039723</td>\n",
       "      <td>18.708132</td>\n",
       "      <td>...</td>\n",
       "      <td>6.533398</td>\n",
       "      <td>7.694758</td>\n",
       "      <td>7.234126</td>\n",
       "      <td>7.713703</td>\n",
       "      <td>6.217944</td>\n",
       "      <td>7.728242</td>\n",
       "      <td>6.524597</td>\n",
       "      <td>8.770668</td>\n",
       "      <td>7.130594</td>\n",
       "      <td>7.891622</td>\n",
       "    </tr>\n",
       "    <tr>\n",
       "      <th>R2</th>\n",
       "      <td>0.998276</td>\n",
       "      <td>0.997998</td>\n",
       "      <td>0.997880</td>\n",
       "      <td>0.998047</td>\n",
       "      <td>0.997520</td>\n",
       "      <td>0.997697</td>\n",
       "      <td>0.997966</td>\n",
       "      <td>0.996300</td>\n",
       "      <td>0.997954</td>\n",
       "      <td>0.994699</td>\n",
       "      <td>...</td>\n",
       "      <td>0.998116</td>\n",
       "      <td>0.997630</td>\n",
       "      <td>0.997359</td>\n",
       "      <td>0.997739</td>\n",
       "      <td>0.998165</td>\n",
       "      <td>0.997640</td>\n",
       "      <td>0.998117</td>\n",
       "      <td>0.997101</td>\n",
       "      <td>0.998019</td>\n",
       "      <td>0.997746</td>\n",
       "    </tr>\n",
       "    <tr>\n",
       "      <th>MAE</th>\n",
       "      <td>1.917849</td>\n",
       "      <td>2.163414</td>\n",
       "      <td>2.138202</td>\n",
       "      <td>2.027597</td>\n",
       "      <td>2.208934</td>\n",
       "      <td>2.180449</td>\n",
       "      <td>1.929476</td>\n",
       "      <td>2.380876</td>\n",
       "      <td>2.201027</td>\n",
       "      <td>2.377823</td>\n",
       "      <td>...</td>\n",
       "      <td>2.076570</td>\n",
       "      <td>2.101847</td>\n",
       "      <td>2.036131</td>\n",
       "      <td>2.062179</td>\n",
       "      <td>2.054636</td>\n",
       "      <td>2.157667</td>\n",
       "      <td>2.013144</td>\n",
       "      <td>2.306645</td>\n",
       "      <td>2.039979</td>\n",
       "      <td>2.076640</td>\n",
       "    </tr>\n",
       "    <tr>\n",
       "      <th>MAPE</th>\n",
       "      <td>0.007895</td>\n",
       "      <td>0.008399</td>\n",
       "      <td>0.008332</td>\n",
       "      <td>0.008125</td>\n",
       "      <td>0.008775</td>\n",
       "      <td>0.008782</td>\n",
       "      <td>0.007917</td>\n",
       "      <td>0.009497</td>\n",
       "      <td>0.008653</td>\n",
       "      <td>0.010289</td>\n",
       "      <td>...</td>\n",
       "      <td>0.008518</td>\n",
       "      <td>0.008508</td>\n",
       "      <td>0.008199</td>\n",
       "      <td>0.008148</td>\n",
       "      <td>0.008239</td>\n",
       "      <td>0.008693</td>\n",
       "      <td>0.008017</td>\n",
       "      <td>0.009209</td>\n",
       "      <td>0.007996</td>\n",
       "      <td>0.008300</td>\n",
       "    </tr>\n",
       "  </tbody>\n",
       "</table>\n",
       "<p>4 rows × 21 columns</p>\n",
       "</div>"
      ],
      "text/plain": [
       "        fold_1    fold_2    fold_3    fold_4    fold_5    fold_6    fold_7  \\\n",
       "MSE   5.705410  7.551312  8.596402  6.891008  7.864084  8.393311  7.096413   \n",
       "R2    0.998276  0.997998  0.997880  0.998047  0.997520  0.997697  0.997966   \n",
       "MAE   1.917849  2.163414  2.138202  2.027597  2.208934  2.180449  1.929476   \n",
       "MAPE  0.007895  0.008399  0.008332  0.008125  0.008775  0.008782  0.007917   \n",
       "\n",
       "         fold_8    fold_9    fold_10  ...   fold_12   fold_13   fold_14  \\\n",
       "MSE   11.167949  7.039723  18.708132  ...  6.533398  7.694758  7.234126   \n",
       "R2     0.996300  0.997954   0.994699  ...  0.998116  0.997630  0.997359   \n",
       "MAE    2.380876  2.201027   2.377823  ...  2.076570  2.101847  2.036131   \n",
       "MAPE   0.009497  0.008653   0.010289  ...  0.008518  0.008508  0.008199   \n",
       "\n",
       "       fold_15   fold_16   fold_17   fold_18   fold_19   fold_20      Test  \n",
       "MSE   7.713703  6.217944  7.728242  6.524597  8.770668  7.130594  7.891622  \n",
       "R2    0.997739  0.998165  0.997640  0.998117  0.997101  0.998019  0.997746  \n",
       "MAE   2.062179  2.054636  2.157667  2.013144  2.306645  2.039979  2.076640  \n",
       "MAPE  0.008148  0.008239  0.008693  0.008017  0.009209  0.007996  0.008300  \n",
       "\n",
       "[4 rows x 21 columns]"
      ]
     },
     "execution_count": 118,
     "metadata": {},
     "output_type": "execute_result"
    }
   ],
   "source": [
    "nn_metrics"
   ]
  },
  {
   "cell_type": "code",
   "execution_count": 119,
   "metadata": {},
   "outputs": [],
   "source": [
    "nn_metrics.to_csv(\"Best_NN_Model_performance.csv\", index=True)"
   ]
  }
 ],
 "metadata": {
  "kernelspec": {
   "display_name": "de_w6_rl",
   "language": "python",
   "name": "python3"
  },
  "language_info": {
   "codemirror_mode": {
    "name": "ipython",
    "version": 3
   },
   "file_extension": ".py",
   "mimetype": "text/x-python",
   "name": "python",
   "nbconvert_exporter": "python",
   "pygments_lexer": "ipython3",
   "version": "3.12.9"
  }
 },
 "nbformat": 4,
 "nbformat_minor": 2
}
