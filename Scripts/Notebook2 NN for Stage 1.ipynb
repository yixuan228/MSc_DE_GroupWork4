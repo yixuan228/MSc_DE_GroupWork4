{
 "cells": [
  {
   "cell_type": "markdown",
   "metadata": {},
   "source": [
    "# Notebook2: Predicting CO2 emissions using Neural Networks"
   ]
  },
  {
   "cell_type": "markdown",
   "metadata": {},
   "source": [
    "Readme: In this notebook, NN models are constructed for CO2 Emission prediction, and the best model is selected and K-means validation is applied.\n",
    "\n",
    "- **Notebook content**:\n",
    "    - Design the architecture of NN and explore different model configuration\n",
    "\n",
    "    - Tune hyperparameters and select the best model\n",
    "\n",
    "- **Notebook Output**:\n",
    "\n",
    "    - Best model file\n",
    "\n",
    "    - The validation and test results of the best model"
   ]
  },
  {
   "cell_type": "code",
   "execution_count": 63,
   "metadata": {},
   "outputs": [],
   "source": [
    "# %pip install \"numpy<2\" torch torchvision scikit-learn\n",
    "# %pip install wandb"
   ]
  },
  {
   "cell_type": "code",
   "execution_count": 64,
   "metadata": {},
   "outputs": [
    {
     "name": "stdout",
     "output_type": "stream",
     "text": [
      "cuda\n"
     ]
    }
   ],
   "source": [
    "# Import libraries\n",
    "import numpy as np\n",
    "import pandas as pd\n",
    "import matplotlib.pyplot as plt\n",
    "import torch\n",
    "\n",
    "# Set device\n",
    "device = torch.device('cuda' if torch.cuda.is_available() else 'cpu')\n",
    "print(device)"
   ]
  },
  {
   "cell_type": "markdown",
   "metadata": {},
   "source": [
    "## 1 Define Plot Functions"
   ]
  },
  {
   "cell_type": "code",
   "execution_count": 65,
   "metadata": {},
   "outputs": [],
   "source": [
    "# Define functions\n",
    "import seaborn as sns\n",
    "import torch\n",
    "\n",
    "# 1 plot related functions----------------\n",
    "# plot predict and true values on validation dataset\n",
    "def plot_pred_true(y_test, y_pred, ax):\n",
    "\n",
    "    data = pd.DataFrame({'y_obs': y_test, 'y_pred': y_pred})\n",
    "\n",
    "    # plt.figure(figsize=(5, 5))\n",
    "    sns.scatterplot(data=data, x='y_obs', y='y_pred', s=10, ax=ax)\n",
    "    ax.plot(y_test, y_test, color='red', label='y=x')          # plot the line y=x\n",
    "    ax.set_title('Observed vs Predicted values in Test Dataset')   # title\n",
    "    ax.set_xlabel('Observed values')       # label for the x-axis\n",
    "    ax.set_ylabel('Predicted values')      # label for the y-axis\n",
    "    ax.legend()\n",
    "    ax.grid(True)\n",
    "\n",
    "# plot the loss value on training and validation dataset\n",
    "def plot_train_val_loss(train_loss, val_loss, ax):\n",
    "    \n",
    "    # ax.figure(figsize=(5, 5))\n",
    "\n",
    "    ax.plot(train_loss, label='train loss')\n",
    "    ax.plot(val_loss, label='val loss')\n",
    "    ax.set_title('Train vs Validation Loss')\n",
    "    ax.set_xlabel('Epoch')\n",
    "    ax.set_ylabel('Loss')\n",
    "    ax.legend()\n",
    "    ax.grid(True)\n",
    "\n",
    "# 2 Other functions---------------------\n",
    "# get the prediction and true values\n",
    "def model_prediction(model, val_loader, device):\n",
    "\n",
    "    model.eval()\n",
    "    pred = []\n",
    "    target = []\n",
    "\n",
    "    with torch.no_grad():\n",
    "        for X, y in val_loader:\n",
    "            X, y = X.to(device), y.to(device)\n",
    "\n",
    "            y_pred = model(X)      # predicted value\n",
    "\n",
    "            pred.extend(y_pred.cpu().numpy())\n",
    "            target.extend(y.cpu().numpy())\n",
    "\n",
    "    # Merge all the predictions and targets\n",
    "    predictions = np.concatenate(pred, axis=0)\n",
    "    labels = np.concatenate(target, axis=0)\n",
    "    return predictions, labels"
   ]
  },
  {
   "cell_type": "markdown",
   "metadata": {},
   "source": [
    "## 2 Data Preparation and Feature Selection"
   ]
  },
  {
   "cell_type": "code",
   "execution_count": 66,
   "metadata": {},
   "outputs": [],
   "source": [
    "import numpy as np\n",
    "import pandas as pd\n",
    "from sklearn.pipeline import Pipeline\n",
    "from sklearn.compose import ColumnTransformer\n",
    "from sklearn.preprocessing import StandardScaler, OneHotEncoder\n",
    "from sklearn.impute import SimpleImputer\n",
    "from sklearn.model_selection import train_test_split"
   ]
  },
  {
   "cell_type": "markdown",
   "metadata": {},
   "source": [
    "### Load and Divide Traning and Testing Data"
   ]
  },
  {
   "cell_type": "markdown",
   "metadata": {},
   "source": [
    "Load the test and train dataset"
   ]
  },
  {
   "cell_type": "code",
   "execution_count": null,
   "metadata": {},
   "outputs": [],
   "source": [
    "# Import data\n",
    "trainset_df = pd.read_csv('Dataset1_train.csv')\n",
    "testset_df = pd.read_csv('Dataset1_test.csv')\n",
    "\n",
    "X_train = trainset_df.drop(columns=['CO2 Emissions(g/km)', 'Make'])\n",
    "y_train = trainset_df['CO2 Emissions(g/km)']\n",
    "\n",
    "X_test = testset_df.drop(columns=['CO2 Emissions(g/km)', 'Make'])\n",
    "y_test = testset_df['CO2 Emissions(g/km)']\n",
    "\n"
   ]
  },
  {
   "cell_type": "code",
   "execution_count": 69,
   "metadata": {},
   "outputs": [
    {
     "data": {
      "text/html": [
       "<div>\n",
       "<style scoped>\n",
       "    .dataframe tbody tr th:only-of-type {\n",
       "        vertical-align: middle;\n",
       "    }\n",
       "\n",
       "    .dataframe tbody tr th {\n",
       "        vertical-align: top;\n",
       "    }\n",
       "\n",
       "    .dataframe thead th {\n",
       "        text-align: right;\n",
       "    }\n",
       "</style>\n",
       "<table border=\"1\" class=\"dataframe\">\n",
       "  <thead>\n",
       "    <tr style=\"text-align: right;\">\n",
       "      <th></th>\n",
       "      <th>Engine Size(L)</th>\n",
       "      <th>Cylinders</th>\n",
       "      <th>Gearbox_Type</th>\n",
       "      <th>Gearbox_Number</th>\n",
       "      <th>Fuel Consumption City (L/100 km)</th>\n",
       "      <th>Fuel Consumption Hwy (L/100 km)</th>\n",
       "      <th>Fuel Consumption Comb (L/100 km)</th>\n",
       "      <th>Fuel Consumption Comb (mpg)</th>\n",
       "      <th>Model Features_Flexible-fuel vehicle</th>\n",
       "      <th>Model Features_Four-wheel drive</th>\n",
       "      <th>...</th>\n",
       "      <th>Vehicle Class_SUBCOMPACT</th>\n",
       "      <th>Vehicle Class_SUV - SMALL</th>\n",
       "      <th>Vehicle Class_SUV - STANDARD</th>\n",
       "      <th>Vehicle Class_TWO-SEATER</th>\n",
       "      <th>Vehicle Class_VAN - CARGO</th>\n",
       "      <th>Vehicle Class_VAN - PASSENGER</th>\n",
       "      <th>Fuel Type_E</th>\n",
       "      <th>Fuel Type_N</th>\n",
       "      <th>Fuel Type_X</th>\n",
       "      <th>Fuel Type_Z</th>\n",
       "    </tr>\n",
       "  </thead>\n",
       "  <tbody>\n",
       "    <tr>\n",
       "      <th>0</th>\n",
       "      <td>3.0</td>\n",
       "      <td>6</td>\n",
       "      <td>0</td>\n",
       "      <td>8.0</td>\n",
       "      <td>12.4</td>\n",
       "      <td>9.0</td>\n",
       "      <td>10.9</td>\n",
       "      <td>26</td>\n",
       "      <td>0</td>\n",
       "      <td>0</td>\n",
       "      <td>...</td>\n",
       "      <td>0</td>\n",
       "      <td>0</td>\n",
       "      <td>0</td>\n",
       "      <td>0</td>\n",
       "      <td>0</td>\n",
       "      <td>0</td>\n",
       "      <td>0</td>\n",
       "      <td>0</td>\n",
       "      <td>0</td>\n",
       "      <td>1</td>\n",
       "    </tr>\n",
       "    <tr>\n",
       "      <th>1</th>\n",
       "      <td>4.4</td>\n",
       "      <td>8</td>\n",
       "      <td>0</td>\n",
       "      <td>7.0</td>\n",
       "      <td>17.3</td>\n",
       "      <td>11.6</td>\n",
       "      <td>14.7</td>\n",
       "      <td>19</td>\n",
       "      <td>0</td>\n",
       "      <td>0</td>\n",
       "      <td>...</td>\n",
       "      <td>1</td>\n",
       "      <td>0</td>\n",
       "      <td>0</td>\n",
       "      <td>0</td>\n",
       "      <td>0</td>\n",
       "      <td>0</td>\n",
       "      <td>0</td>\n",
       "      <td>0</td>\n",
       "      <td>0</td>\n",
       "      <td>1</td>\n",
       "    </tr>\n",
       "    <tr>\n",
       "      <th>2</th>\n",
       "      <td>6.2</td>\n",
       "      <td>8</td>\n",
       "      <td>1</td>\n",
       "      <td>8.0</td>\n",
       "      <td>16.1</td>\n",
       "      <td>11.4</td>\n",
       "      <td>14.0</td>\n",
       "      <td>20</td>\n",
       "      <td>0</td>\n",
       "      <td>0</td>\n",
       "      <td>...</td>\n",
       "      <td>0</td>\n",
       "      <td>0</td>\n",
       "      <td>0</td>\n",
       "      <td>0</td>\n",
       "      <td>0</td>\n",
       "      <td>0</td>\n",
       "      <td>0</td>\n",
       "      <td>0</td>\n",
       "      <td>0</td>\n",
       "      <td>1</td>\n",
       "    </tr>\n",
       "    <tr>\n",
       "      <th>3</th>\n",
       "      <td>5.3</td>\n",
       "      <td>8</td>\n",
       "      <td>1</td>\n",
       "      <td>6.0</td>\n",
       "      <td>14.6</td>\n",
       "      <td>10.3</td>\n",
       "      <td>12.7</td>\n",
       "      <td>22</td>\n",
       "      <td>0</td>\n",
       "      <td>0</td>\n",
       "      <td>...</td>\n",
       "      <td>0</td>\n",
       "      <td>0</td>\n",
       "      <td>0</td>\n",
       "      <td>0</td>\n",
       "      <td>0</td>\n",
       "      <td>0</td>\n",
       "      <td>0</td>\n",
       "      <td>0</td>\n",
       "      <td>1</td>\n",
       "      <td>0</td>\n",
       "    </tr>\n",
       "    <tr>\n",
       "      <th>4</th>\n",
       "      <td>4.0</td>\n",
       "      <td>6</td>\n",
       "      <td>1</td>\n",
       "      <td>5.0</td>\n",
       "      <td>14.3</td>\n",
       "      <td>11.9</td>\n",
       "      <td>13.2</td>\n",
       "      <td>21</td>\n",
       "      <td>0</td>\n",
       "      <td>1</td>\n",
       "      <td>...</td>\n",
       "      <td>0</td>\n",
       "      <td>0</td>\n",
       "      <td>1</td>\n",
       "      <td>0</td>\n",
       "      <td>0</td>\n",
       "      <td>0</td>\n",
       "      <td>0</td>\n",
       "      <td>0</td>\n",
       "      <td>1</td>\n",
       "      <td>0</td>\n",
       "    </tr>\n",
       "    <tr>\n",
       "      <th>...</th>\n",
       "      <td>...</td>\n",
       "      <td>...</td>\n",
       "      <td>...</td>\n",
       "      <td>...</td>\n",
       "      <td>...</td>\n",
       "      <td>...</td>\n",
       "      <td>...</td>\n",
       "      <td>...</td>\n",
       "      <td>...</td>\n",
       "      <td>...</td>\n",
       "      <td>...</td>\n",
       "      <td>...</td>\n",
       "      <td>...</td>\n",
       "      <td>...</td>\n",
       "      <td>...</td>\n",
       "      <td>...</td>\n",
       "      <td>...</td>\n",
       "      <td>...</td>\n",
       "      <td>...</td>\n",
       "      <td>...</td>\n",
       "      <td>...</td>\n",
       "    </tr>\n",
       "    <tr>\n",
       "      <th>1472</th>\n",
       "      <td>2.0</td>\n",
       "      <td>4</td>\n",
       "      <td>1</td>\n",
       "      <td>9.0</td>\n",
       "      <td>10.9</td>\n",
       "      <td>7.7</td>\n",
       "      <td>9.5</td>\n",
       "      <td>30</td>\n",
       "      <td>0</td>\n",
       "      <td>0</td>\n",
       "      <td>...</td>\n",
       "      <td>1</td>\n",
       "      <td>0</td>\n",
       "      <td>0</td>\n",
       "      <td>0</td>\n",
       "      <td>0</td>\n",
       "      <td>0</td>\n",
       "      <td>0</td>\n",
       "      <td>0</td>\n",
       "      <td>0</td>\n",
       "      <td>1</td>\n",
       "    </tr>\n",
       "    <tr>\n",
       "      <th>1473</th>\n",
       "      <td>2.0</td>\n",
       "      <td>4</td>\n",
       "      <td>1</td>\n",
       "      <td>6.0</td>\n",
       "      <td>12.6</td>\n",
       "      <td>9.7</td>\n",
       "      <td>11.3</td>\n",
       "      <td>25</td>\n",
       "      <td>0</td>\n",
       "      <td>0</td>\n",
       "      <td>...</td>\n",
       "      <td>0</td>\n",
       "      <td>1</td>\n",
       "      <td>0</td>\n",
       "      <td>0</td>\n",
       "      <td>0</td>\n",
       "      <td>0</td>\n",
       "      <td>0</td>\n",
       "      <td>0</td>\n",
       "      <td>1</td>\n",
       "      <td>0</td>\n",
       "    </tr>\n",
       "    <tr>\n",
       "      <th>1474</th>\n",
       "      <td>1.4</td>\n",
       "      <td>4</td>\n",
       "      <td>1</td>\n",
       "      <td>6.0</td>\n",
       "      <td>8.8</td>\n",
       "      <td>6.6</td>\n",
       "      <td>7.8</td>\n",
       "      <td>36</td>\n",
       "      <td>0</td>\n",
       "      <td>0</td>\n",
       "      <td>...</td>\n",
       "      <td>0</td>\n",
       "      <td>0</td>\n",
       "      <td>0</td>\n",
       "      <td>0</td>\n",
       "      <td>0</td>\n",
       "      <td>0</td>\n",
       "      <td>0</td>\n",
       "      <td>0</td>\n",
       "      <td>1</td>\n",
       "      <td>0</td>\n",
       "    </tr>\n",
       "    <tr>\n",
       "      <th>1475</th>\n",
       "      <td>3.5</td>\n",
       "      <td>6</td>\n",
       "      <td>1</td>\n",
       "      <td>7.0</td>\n",
       "      <td>11.9</td>\n",
       "      <td>8.2</td>\n",
       "      <td>10.2</td>\n",
       "      <td>28</td>\n",
       "      <td>0</td>\n",
       "      <td>0</td>\n",
       "      <td>...</td>\n",
       "      <td>0</td>\n",
       "      <td>0</td>\n",
       "      <td>0</td>\n",
       "      <td>0</td>\n",
       "      <td>0</td>\n",
       "      <td>0</td>\n",
       "      <td>0</td>\n",
       "      <td>0</td>\n",
       "      <td>0</td>\n",
       "      <td>1</td>\n",
       "    </tr>\n",
       "    <tr>\n",
       "      <th>1476</th>\n",
       "      <td>2.0</td>\n",
       "      <td>4</td>\n",
       "      <td>0</td>\n",
       "      <td>7.0</td>\n",
       "      <td>9.6</td>\n",
       "      <td>6.6</td>\n",
       "      <td>8.2</td>\n",
       "      <td>34</td>\n",
       "      <td>0</td>\n",
       "      <td>0</td>\n",
       "      <td>...</td>\n",
       "      <td>0</td>\n",
       "      <td>0</td>\n",
       "      <td>0</td>\n",
       "      <td>0</td>\n",
       "      <td>0</td>\n",
       "      <td>0</td>\n",
       "      <td>0</td>\n",
       "      <td>0</td>\n",
       "      <td>0</td>\n",
       "      <td>1</td>\n",
       "    </tr>\n",
       "  </tbody>\n",
       "</table>\n",
       "<p>1477 rows × 31 columns</p>\n",
       "</div>"
      ],
      "text/plain": [
       "      Engine Size(L)  Cylinders  Gearbox_Type  Gearbox_Number  \\\n",
       "0                3.0          6             0             8.0   \n",
       "1                4.4          8             0             7.0   \n",
       "2                6.2          8             1             8.0   \n",
       "3                5.3          8             1             6.0   \n",
       "4                4.0          6             1             5.0   \n",
       "...              ...        ...           ...             ...   \n",
       "1472             2.0          4             1             9.0   \n",
       "1473             2.0          4             1             6.0   \n",
       "1474             1.4          4             1             6.0   \n",
       "1475             3.5          6             1             7.0   \n",
       "1476             2.0          4             0             7.0   \n",
       "\n",
       "      Fuel Consumption City (L/100 km)  Fuel Consumption Hwy (L/100 km)  \\\n",
       "0                                 12.4                              9.0   \n",
       "1                                 17.3                             11.6   \n",
       "2                                 16.1                             11.4   \n",
       "3                                 14.6                             10.3   \n",
       "4                                 14.3                             11.9   \n",
       "...                                ...                              ...   \n",
       "1472                              10.9                              7.7   \n",
       "1473                              12.6                              9.7   \n",
       "1474                               8.8                              6.6   \n",
       "1475                              11.9                              8.2   \n",
       "1476                               9.6                              6.6   \n",
       "\n",
       "      Fuel Consumption Comb (L/100 km)  Fuel Consumption Comb (mpg)  \\\n",
       "0                                 10.9                           26   \n",
       "1                                 14.7                           19   \n",
       "2                                 14.0                           20   \n",
       "3                                 12.7                           22   \n",
       "4                                 13.2                           21   \n",
       "...                                ...                          ...   \n",
       "1472                               9.5                           30   \n",
       "1473                              11.3                           25   \n",
       "1474                               7.8                           36   \n",
       "1475                              10.2                           28   \n",
       "1476                               8.2                           34   \n",
       "\n",
       "      Model Features_Flexible-fuel vehicle  Model Features_Four-wheel drive  \\\n",
       "0                                        0                                0   \n",
       "1                                        0                                0   \n",
       "2                                        0                                0   \n",
       "3                                        0                                0   \n",
       "4                                        0                                1   \n",
       "...                                    ...                              ...   \n",
       "1472                                     0                                0   \n",
       "1473                                     0                                0   \n",
       "1474                                     0                                0   \n",
       "1475                                     0                                0   \n",
       "1476                                     0                                0   \n",
       "\n",
       "      ...  Vehicle Class_SUBCOMPACT  Vehicle Class_SUV - SMALL  \\\n",
       "0     ...                         0                          0   \n",
       "1     ...                         1                          0   \n",
       "2     ...                         0                          0   \n",
       "3     ...                         0                          0   \n",
       "4     ...                         0                          0   \n",
       "...   ...                       ...                        ...   \n",
       "1472  ...                         1                          0   \n",
       "1473  ...                         0                          1   \n",
       "1474  ...                         0                          0   \n",
       "1475  ...                         0                          0   \n",
       "1476  ...                         0                          0   \n",
       "\n",
       "      Vehicle Class_SUV - STANDARD  Vehicle Class_TWO-SEATER  \\\n",
       "0                                0                         0   \n",
       "1                                0                         0   \n",
       "2                                0                         0   \n",
       "3                                0                         0   \n",
       "4                                1                         0   \n",
       "...                            ...                       ...   \n",
       "1472                             0                         0   \n",
       "1473                             0                         0   \n",
       "1474                             0                         0   \n",
       "1475                             0                         0   \n",
       "1476                             0                         0   \n",
       "\n",
       "      Vehicle Class_VAN - CARGO  Vehicle Class_VAN - PASSENGER  Fuel Type_E  \\\n",
       "0                             0                              0            0   \n",
       "1                             0                              0            0   \n",
       "2                             0                              0            0   \n",
       "3                             0                              0            0   \n",
       "4                             0                              0            0   \n",
       "...                         ...                            ...          ...   \n",
       "1472                          0                              0            0   \n",
       "1473                          0                              0            0   \n",
       "1474                          0                              0            0   \n",
       "1475                          0                              0            0   \n",
       "1476                          0                              0            0   \n",
       "\n",
       "      Fuel Type_N  Fuel Type_X  Fuel Type_Z  \n",
       "0               0            0            1  \n",
       "1               0            0            1  \n",
       "2               0            0            1  \n",
       "3               0            1            0  \n",
       "4               0            1            0  \n",
       "...           ...          ...          ...  \n",
       "1472            0            0            1  \n",
       "1473            0            1            0  \n",
       "1474            0            1            0  \n",
       "1475            0            0            1  \n",
       "1476            0            0            1  \n",
       "\n",
       "[1477 rows x 31 columns]"
      ]
     },
     "execution_count": 69,
     "metadata": {},
     "output_type": "execute_result"
    }
   ],
   "source": [
    "X_test"
   ]
  },
  {
   "cell_type": "markdown",
   "metadata": {},
   "source": [
    "### Setup pipline for Standardisation"
   ]
  },
  {
   "cell_type": "code",
   "execution_count": null,
   "metadata": {},
   "outputs": [],
   "source": [
    "binary_columns = X_train.columns[X_train.nunique() == 2].tolist()  \n",
    "numerical_columns = [col for col in X_train.columns if col not in binary_columns]\n",
    "\n",
    "# ColumnTransformer\n",
    "preprocessor = ColumnTransformer(\n",
    "    transformers=[\n",
    "        ('num', StandardScaler(), numerical_columns)  # StandardScale\n",
    "    ], \n",
    "    remainder='passthrough'  # keep dummy variable\n",
    ")\n",
    "\n",
    "# Setup pipeline\n",
    "pipeline = Pipeline(steps=[\n",
    "    ('preprocessor', preprocessor)\n",
    "])"
   ]
  },
  {
   "cell_type": "code",
   "execution_count": 71,
   "metadata": {},
   "outputs": [],
   "source": [
    "X_train_processed = pipeline.fit_transform(X_train)\n",
    "X_test_processed = pipeline.transform(X_test)"
   ]
  },
  {
   "cell_type": "markdown",
   "metadata": {},
   "source": [
    "Inspect the processed data"
   ]
  },
  {
   "cell_type": "code",
   "execution_count": 72,
   "metadata": {},
   "outputs": [
    {
     "name": "stdout",
     "output_type": "stream",
     "text": [
      "Processed Train Dataset：\n",
      "   Engine Size(L)  Cylinders  Gearbox_Type  Gearbox_Number  \\\n",
      "0       -0.121493   0.205342      0.955277       -0.335091   \n",
      "1        0.614166   0.205342     -1.589744        0.607277   \n",
      "2       -0.121493   0.205342     -0.741404        0.350268   \n",
      "3        0.172770   0.205342      0.106937       -0.363647   \n",
      "4       -0.857153  -0.885139      0.955277       -0.706327   \n",
      "\n",
      "   Fuel Consumption City (L/100 km)  Fuel Consumption Hwy (L/100 km)  \\\n",
      "0                         -0.429379                        -0.376817   \n",
      "1                          0.564406                         0.592571   \n",
      "2                         -0.022831                         0.246361   \n",
      "3                         -0.519723                        -0.411438   \n",
      "4                         -0.926271                        -0.792268   \n",
      "\n",
      "   Fuel Consumption Comb (L/100 km)  Fuel Consumption Comb (mpg)  \\\n",
      "0                          0.217020                          0.0   \n",
      "1                         -0.756204                          0.0   \n",
      "2                         -0.478140                          0.0   \n",
      "3                          0.217020                          0.0   \n",
      "4                          0.634115                          0.0   \n",
      "\n",
      "   Model Features_Flexible-fuel vehicle  Model Features_Four-wheel drive  ...  \\\n",
      "0                                   1.0                              0.0  ...   \n",
      "1                                   1.0                              0.0  ...   \n",
      "2                                   0.0                              0.0  ...   \n",
      "3                                   0.0                              0.0  ...   \n",
      "4                                   1.0                              0.0  ...   \n",
      "\n",
      "   Vehicle Class_SUBCOMPACT  Vehicle Class_SUV - SMALL  \\\n",
      "0                       0.0                        1.0   \n",
      "1                       0.0                        0.0   \n",
      "2                       0.0                        0.0   \n",
      "3                       0.0                        0.0   \n",
      "4                       0.0                        0.0   \n",
      "\n",
      "   Vehicle Class_SUV - STANDARD  Vehicle Class_TWO-SEATER  \\\n",
      "0                           0.0                       0.0   \n",
      "1                           0.0                       0.0   \n",
      "2                           0.0                       0.0   \n",
      "3                           0.0                       0.0   \n",
      "4                           0.0                       0.0   \n",
      "\n",
      "   Vehicle Class_VAN - CARGO  Vehicle Class_VAN - PASSENGER  Fuel Type_E  \\\n",
      "0                        0.0                            0.0          0.0   \n",
      "1                        0.0                            0.0          0.0   \n",
      "2                        0.0                            0.0          0.0   \n",
      "3                        1.0                            0.0          0.0   \n",
      "4                        0.0                            0.0          0.0   \n",
      "\n",
      "   Fuel Type_N  Fuel Type_X  Fuel Type_Z  \n",
      "0          0.0          0.0          1.0  \n",
      "1          0.0          1.0          0.0  \n",
      "2          0.0          0.0          1.0  \n",
      "3          0.0          0.0          1.0  \n",
      "4          0.0          0.0          1.0  \n",
      "\n",
      "[5 rows x 31 columns]\n",
      "Processed Test Dataset：\n",
      "   Engine Size(L)  Cylinders  Gearbox_Type  Gearbox_Number  \\\n",
      "0       -0.121493   0.205342      0.955277       -0.049525   \n",
      "1        0.908430   1.295823      0.106937        1.349749   \n",
      "2        2.232618   1.295823      0.955277        1.007070   \n",
      "3        1.570524   1.295823     -0.741404        0.578721   \n",
      "4        0.614166   0.205342     -1.589744        0.493051   \n",
      "\n",
      "   Fuel Consumption City (L/100 km)  Fuel Consumption Hwy (L/100 km)  \\\n",
      "0                         -0.022831                        -0.030607   \n",
      "1                          1.151642                         1.284990   \n",
      "2                          1.061298                         1.042643   \n",
      "3                          0.564406                         0.592571   \n",
      "4                          1.287158                         0.765676   \n",
      "\n",
      "   Fuel Consumption Comb (L/100 km)  Fuel Consumption Comb (mpg)  \\\n",
      "0                         -0.200076                          0.0   \n",
      "1                         -1.173299                          0.0   \n",
      "2                         -1.034267                          0.0   \n",
      "3                         -0.756204                          0.0   \n",
      "4                         -0.895235                          0.0   \n",
      "\n",
      "   Model Features_Flexible-fuel vehicle  Model Features_Four-wheel drive  ...  \\\n",
      "0                                   0.0                              0.0  ...   \n",
      "1                                   0.0                              0.0  ...   \n",
      "2                                   1.0                              0.0  ...   \n",
      "3                                   1.0                              0.0  ...   \n",
      "4                                   1.0                              0.0  ...   \n",
      "\n",
      "   Vehicle Class_SUBCOMPACT  Vehicle Class_SUV - SMALL  \\\n",
      "0                       0.0                        0.0   \n",
      "1                       0.0                        1.0   \n",
      "2                       0.0                        0.0   \n",
      "3                       0.0                        0.0   \n",
      "4                       0.0                        0.0   \n",
      "\n",
      "   Vehicle Class_SUV - STANDARD  Vehicle Class_TWO-SEATER  \\\n",
      "0                           0.0                       0.0   \n",
      "1                           0.0                       0.0   \n",
      "2                           0.0                       0.0   \n",
      "3                           0.0                       0.0   \n",
      "4                           0.0                       1.0   \n",
      "\n",
      "   Vehicle Class_VAN - CARGO  Vehicle Class_VAN - PASSENGER  Fuel Type_E  \\\n",
      "0                        0.0                            0.0          0.0   \n",
      "1                        0.0                            0.0          0.0   \n",
      "2                        0.0                            0.0          0.0   \n",
      "3                        0.0                            0.0          0.0   \n",
      "4                        0.0                            0.0          0.0   \n",
      "\n",
      "   Fuel Type_N  Fuel Type_X  Fuel Type_Z  \n",
      "0          0.0          0.0          1.0  \n",
      "1          0.0          0.0          1.0  \n",
      "2          0.0          0.0          1.0  \n",
      "3          0.0          1.0          0.0  \n",
      "4          0.0          1.0          0.0  \n",
      "\n",
      "[5 rows x 31 columns]\n"
     ]
    }
   ],
   "source": [
    "feature_names = list(X_train) \n",
    "X_train_df = pd.DataFrame(X_train_processed, columns=feature_names)\n",
    "\n",
    "X_test_df = pd.DataFrame(X_test_processed, columns=feature_names)\n",
    "\n",
    "print(\"Processed Train Dataset：\")\n",
    "print(X_train_df.head())\n",
    "\n",
    "print(\"Processed Test Dataset：\")\n",
    "print(X_test_df.head())\n"
   ]
  },
  {
   "cell_type": "code",
   "execution_count": 73,
   "metadata": {},
   "outputs": [],
   "source": [
    "# Prepare the Dataloader\n",
    "import torch\n",
    "import torch.nn as nn\n",
    "from torch.utils.data import DataLoader, TensorDataset\n",
    "\n",
    "# Convert data to Tensor\n",
    "X_train_tensor = torch.tensor(X_train_processed, dtype=torch.float32) \n",
    "y_train_tensor = torch.tensor(y_train.values, dtype=torch.float32).view(-1, 1)\n",
    "\n",
    "X_val_tensor = torch.tensor(X_test_processed, dtype=torch.float32)\n",
    "y_val_tensor = torch.tensor(y_test.values, dtype=torch.float32).view(-1, 1)\n",
    "\n",
    "# Load the training data and validation data\n",
    "train_dataset = TensorDataset(X_train_tensor, y_train_tensor)\n",
    "val_dataset = TensorDataset(X_val_tensor,y_val_tensor)\n",
    "\n",
    "# Set hyperparameters\n",
    "batch_size = 64  # batch size\n",
    "\n",
    "# Create data loader\n",
    "train_Loader = DataLoader(dataset=train_dataset, batch_size=batch_size, shuffle=True)\n",
    "val_Loader = DataLoader(dataset=val_dataset, batch_size=batch_size, shuffle=False)\n",
    "\n"
   ]
  },
  {
   "cell_type": "markdown",
   "metadata": {},
   "source": [
    "## 3 Create Simple Neural Network"
   ]
  },
  {
   "cell_type": "markdown",
   "metadata": {},
   "source": [
    "### 3.1 Define Neural Network Architecture"
   ]
  },
  {
   "cell_type": "code",
   "execution_count": 74,
   "metadata": {},
   "outputs": [],
   "source": [
    "# Define the NN models\n",
    "# Simple Neural Network, activate funcion - ReLU\n",
    "\n",
    "class SimpleNeuralNetwork(nn.Module):\n",
    "    def __init__(self, input_size, hidden_size, output_size):\n",
    "        super(SimpleNeuralNetwork, self).__init__()\n",
    "\n",
    "        self.fc1 = nn.Linear(input_size, hidden_size)\n",
    "        self.activation = nn.ReLU()\n",
    "        self.fc2 = nn.Linear(hidden_size,output_size)\n",
    "        \n",
    "    def forward(self, x):\n",
    "        hidden = self.fc1(x)\n",
    "        hidden = self.activation(hidden)\n",
    "        out = self.fc2(hidden)\n",
    "        return out\n",
    "\n",
    "# Simple Neural Network, activate funcion - Tanh\n",
    "class Simple_tanh_NN(nn.Module):\n",
    "    def __init__(self, input_size, hidden_size, output_size):\n",
    "        super(Simple_tanh_NN, self).__init__()\n",
    "\n",
    "        self.fc1 = nn.Linear(input_size, hidden_size)\n",
    "        self.activation = nn.Tanh()\n",
    "        self.fc2 = nn.Linear(hidden_size,output_size)\n",
    "        \n",
    "    def forward(self, x):\n",
    "        hidden = self.fc1(x)\n",
    "        hidden = self.activation(hidden)\n",
    "        out = self.fc2(hidden)\n",
    "        return out"
   ]
  },
  {
   "cell_type": "markdown",
   "metadata": {},
   "source": [
    "### 3.2 Train and Evaluate the NN model "
   ]
  },
  {
   "cell_type": "code",
   "execution_count": 75,
   "metadata": {},
   "outputs": [],
   "source": [
    "# Define helper functions\n",
    "# Train epoch function\n",
    "def train_epoch(model, train_loader, criterion, optimizer, device):\n",
    "    model.train()\n",
    "    running_loss = 0.0\n",
    "\n",
    "    # for features, target in tqdm(train_loader, desc=f\"Training Epoch {epoch+1}\"):\n",
    "    for features, target in train_loader:\n",
    "        features, target = features.to(device), target.to(device)\n",
    "\n",
    "        optimizer.zero_grad()\n",
    "        outputs = model(features) # Forward pass\n",
    "        loss = criterion(outputs, target)\n",
    "\n",
    "        loss.backward()  # Backward pass\n",
    "        optimizer.step() # Update the weights\n",
    "\n",
    "        running_loss += loss.item() * features.size(0)\n",
    "\n",
    "    return running_loss / len(train_loader.dataset)\n",
    "\n",
    "# Validation epoch function\n",
    "def val_epoch(model, val_loader, criterion, device):\n",
    "    model.eval()\n",
    "    val_loss = 0.0\n",
    "\n",
    "    with torch.no_grad():\n",
    "        for features, target in val_loader:\n",
    "            # print(featuresfeatures.size(0))\n",
    "            features, target = features.to(device), target.to(device)\n",
    "            # features = features.view(features.size(0), -1)\n",
    "\n",
    "            outputs = model(features)\n",
    "            loss = criterion(outputs, target)\n",
    "            val_loss += loss.item() * features.size(0)\n",
    "\n",
    "    return val_loss / len(val_loader.dataset)\n",
    "\n"
   ]
  },
  {
   "cell_type": "markdown",
   "metadata": {},
   "source": [
    "### Hold-out Validation for SimpleNeuralNetwork"
   ]
  },
  {
   "cell_type": "markdown",
   "metadata": {},
   "source": [
    "#### Set Parameters"
   ]
  },
  {
   "cell_type": "code",
   "execution_count": 76,
   "metadata": {},
   "outputs": [],
   "source": [
    "import torch.optim as optim\n",
    "\n",
    "# Set  hyperparameters\n",
    "input_size =  X_train_processed.shape[1]   # Input size \n",
    "hidden_size = 20            # Hiddern size\n",
    "output_size = 1             # Output size\n",
    "\n",
    "learning_rate = 0.02        # Learning rate\n",
    "n_epochs = 100 # Numebr of epochs\n",
    "\n",
    "# Initialize the model\n",
    "nn_model = SimpleNeuralNetwork(input_size=input_size, hidden_size=hidden_size, output_size=output_size)\n",
    "nn_model.to(device)\n",
    "\n",
    "# Define the loss function and the optimizer\n",
    "criterion = nn.MSELoss()    # Mean Squared Error for Linear Regression\n",
    "optimizer = optim.Adam(nn_model.parameters(), lr=learning_rate)\n"
   ]
  },
  {
   "cell_type": "markdown",
   "metadata": {},
   "source": [
    "#### Train and Validate"
   ]
  },
  {
   "cell_type": "code",
   "execution_count": 77,
   "metadata": {},
   "outputs": [
    {
     "name": "stdout",
     "output_type": "stream",
     "text": [
      "Epoch 1/100, Train Loss: 31370.9969 | Validation Loss: 3049.5809\n",
      "Epoch 2/100, Train Loss: 1600.3623 | Validation Loss: 1025.7220\n",
      "Epoch 3/100, Train Loss: 856.3013 | Validation Loss: 778.0576\n",
      "Epoch 4/100, Train Loss: 653.4870 | Validation Loss: 623.5726\n",
      "Epoch 5/100, Train Loss: 512.6076 | Validation Loss: 509.7857\n",
      "Epoch 6/100, Train Loss: 412.4296 | Validation Loss: 421.7235\n",
      "Epoch 7/100, Train Loss: 341.4553 | Validation Loss: 356.7957\n",
      "Epoch 8/100, Train Loss: 294.1226 | Validation Loss: 315.3878\n",
      "Epoch 9/100, Train Loss: 257.9709 | Validation Loss: 278.6379\n",
      "Epoch 10/100, Train Loss: 227.7501 | Validation Loss: 247.2473\n",
      "Epoch 11/100, Train Loss: 201.3775 | Validation Loss: 216.9468\n",
      "Epoch 12/100, Train Loss: 178.0617 | Validation Loss: 193.5300\n",
      "Epoch 13/100, Train Loss: 156.6309 | Validation Loss: 165.4427\n",
      "Epoch 14/100, Train Loss: 138.4535 | Validation Loss: 145.2094\n",
      "Epoch 15/100, Train Loss: 120.4669 | Validation Loss: 123.4269\n",
      "Epoch 16/100, Train Loss: 104.4919 | Validation Loss: 105.7427\n",
      "Epoch 17/100, Train Loss: 90.2144 | Validation Loss: 89.1190\n",
      "Epoch 18/100, Train Loss: 78.4728 | Validation Loss: 76.4556\n",
      "Epoch 19/100, Train Loss: 68.2996 | Validation Loss: 67.1236\n",
      "Epoch 20/100, Train Loss: 59.3421 | Validation Loss: 56.2480\n",
      "Epoch 21/100, Train Loss: 51.2567 | Validation Loss: 49.4557\n",
      "Epoch 22/100, Train Loss: 45.9008 | Validation Loss: 44.3727\n",
      "Epoch 23/100, Train Loss: 41.0570 | Validation Loss: 40.8637\n",
      "Epoch 24/100, Train Loss: 35.9824 | Validation Loss: 35.8132\n",
      "Epoch 25/100, Train Loss: 33.1298 | Validation Loss: 33.5937\n",
      "Epoch 26/100, Train Loss: 30.6294 | Validation Loss: 31.0997\n",
      "Epoch 27/100, Train Loss: 27.9724 | Validation Loss: 29.7243\n",
      "Epoch 28/100, Train Loss: 25.6739 | Validation Loss: 28.2243\n",
      "Epoch 29/100, Train Loss: 25.1438 | Validation Loss: 27.1716\n",
      "Epoch 30/100, Train Loss: 23.5379 | Validation Loss: 26.5176\n",
      "Epoch 31/100, Train Loss: 22.1052 | Validation Loss: 25.7976\n",
      "Epoch 32/100, Train Loss: 21.2374 | Validation Loss: 26.1321\n",
      "Epoch 33/100, Train Loss: 19.9767 | Validation Loss: 24.7181\n",
      "Epoch 34/100, Train Loss: 18.9868 | Validation Loss: 23.8653\n",
      "Epoch 35/100, Train Loss: 18.5837 | Validation Loss: 24.4561\n",
      "Epoch 36/100, Train Loss: 18.2274 | Validation Loss: 22.9935\n",
      "Epoch 37/100, Train Loss: 17.0100 | Validation Loss: 22.5736\n",
      "Epoch 38/100, Train Loss: 16.5483 | Validation Loss: 22.4579\n",
      "Epoch 39/100, Train Loss: 16.3569 | Validation Loss: 22.1646\n",
      "Epoch 40/100, Train Loss: 15.1632 | Validation Loss: 21.9187\n",
      "Epoch 41/100, Train Loss: 15.1309 | Validation Loss: 22.7291\n",
      "Epoch 42/100, Train Loss: 14.7734 | Validation Loss: 22.8893\n",
      "Epoch 43/100, Train Loss: 14.0962 | Validation Loss: 20.5193\n",
      "Epoch 44/100, Train Loss: 13.5888 | Validation Loss: 20.5275\n",
      "Epoch 45/100, Train Loss: 15.0562 | Validation Loss: 20.7868\n",
      "Epoch 46/100, Train Loss: 13.2551 | Validation Loss: 21.0326\n",
      "Epoch 47/100, Train Loss: 13.0371 | Validation Loss: 20.9639\n",
      "Epoch 48/100, Train Loss: 12.8048 | Validation Loss: 21.4135\n",
      "Epoch 49/100, Train Loss: 12.5770 | Validation Loss: 20.3471\n",
      "Epoch 50/100, Train Loss: 13.4335 | Validation Loss: 24.7468\n",
      "Epoch 51/100, Train Loss: 13.2883 | Validation Loss: 20.8581\n",
      "Epoch 52/100, Train Loss: 12.0660 | Validation Loss: 21.0305\n",
      "Epoch 53/100, Train Loss: 12.0160 | Validation Loss: 19.1637\n",
      "Epoch 54/100, Train Loss: 13.7194 | Validation Loss: 23.5993\n",
      "Epoch 55/100, Train Loss: 12.1129 | Validation Loss: 19.6186\n",
      "Epoch 56/100, Train Loss: 11.3187 | Validation Loss: 20.1346\n",
      "Epoch 57/100, Train Loss: 10.6874 | Validation Loss: 18.8532\n",
      "Epoch 58/100, Train Loss: 10.7357 | Validation Loss: 19.1634\n",
      "Epoch 59/100, Train Loss: 10.5912 | Validation Loss: 19.6168\n",
      "Epoch 60/100, Train Loss: 10.5445 | Validation Loss: 25.9592\n",
      "Epoch 61/100, Train Loss: 11.1731 | Validation Loss: 19.8771\n",
      "Epoch 62/100, Train Loss: 10.7026 | Validation Loss: 18.6485\n",
      "Epoch 63/100, Train Loss: 10.5645 | Validation Loss: 18.8180\n",
      "Epoch 64/100, Train Loss: 11.2985 | Validation Loss: 19.9888\n",
      "Epoch 65/100, Train Loss: 10.2233 | Validation Loss: 22.5238\n",
      "Epoch 66/100, Train Loss: 10.4429 | Validation Loss: 20.0275\n",
      "Epoch 67/100, Train Loss: 10.7319 | Validation Loss: 20.0621\n",
      "Epoch 68/100, Train Loss: 10.4201 | Validation Loss: 18.1206\n",
      "Epoch 69/100, Train Loss: 10.4281 | Validation Loss: 19.0430\n",
      "Epoch 70/100, Train Loss: 10.2481 | Validation Loss: 18.2545\n",
      "Epoch 71/100, Train Loss: 9.8889 | Validation Loss: 19.2141\n",
      "Epoch 72/100, Train Loss: 9.9829 | Validation Loss: 21.2391\n",
      "Epoch 73/100, Train Loss: 10.1217 | Validation Loss: 18.6517\n",
      "Epoch 74/100, Train Loss: 10.1018 | Validation Loss: 18.7063\n",
      "Epoch 75/100, Train Loss: 10.7830 | Validation Loss: 21.5585\n",
      "Epoch 76/100, Train Loss: 12.5361 | Validation Loss: 19.7238\n",
      "Epoch 77/100, Train Loss: 10.3502 | Validation Loss: 18.4312\n",
      "Epoch 78/100, Train Loss: 10.7383 | Validation Loss: 18.1221\n",
      "Epoch 79/100, Train Loss: 10.0077 | Validation Loss: 21.1916\n",
      "Epoch 80/100, Train Loss: 9.8894 | Validation Loss: 19.3615\n",
      "Epoch 81/100, Train Loss: 10.2388 | Validation Loss: 18.7319\n",
      "Epoch 82/100, Train Loss: 10.0847 | Validation Loss: 19.3157\n",
      "Epoch 83/100, Train Loss: 9.9138 | Validation Loss: 19.6191\n",
      "Epoch 84/100, Train Loss: 9.7724 | Validation Loss: 18.0445\n",
      "Epoch 85/100, Train Loss: 10.7323 | Validation Loss: 19.9931\n",
      "Epoch 86/100, Train Loss: 10.2200 | Validation Loss: 17.9154\n",
      "Epoch 87/100, Train Loss: 10.4241 | Validation Loss: 18.5082\n",
      "Epoch 88/100, Train Loss: 9.2812 | Validation Loss: 18.4484\n",
      "Epoch 89/100, Train Loss: 9.8383 | Validation Loss: 18.4701\n",
      "Epoch 90/100, Train Loss: 9.3422 | Validation Loss: 18.1773\n",
      "Epoch 91/100, Train Loss: 9.4595 | Validation Loss: 17.6943\n",
      "Epoch 92/100, Train Loss: 9.6372 | Validation Loss: 20.0503\n",
      "Epoch 93/100, Train Loss: 10.3974 | Validation Loss: 18.6943\n",
      "Epoch 94/100, Train Loss: 10.4108 | Validation Loss: 20.2354\n",
      "Epoch 95/100, Train Loss: 9.2005 | Validation Loss: 18.7961\n",
      "Epoch 96/100, Train Loss: 9.6776 | Validation Loss: 18.4175\n",
      "Epoch 97/100, Train Loss: 9.6294 | Validation Loss: 19.6136\n",
      "Epoch 98/100, Train Loss: 9.6855 | Validation Loss: 18.6364\n",
      "Epoch 99/100, Train Loss: 9.3568 | Validation Loss: 17.7044\n",
      "Epoch 100/100, Train Loss: 9.5480 | Validation Loss: 19.0126\n",
      "Training complete.\n"
     ]
    }
   ],
   "source": [
    "# Train & Evaluate the model\n",
    "train_loss_hist = []\n",
    "val_loss_hist = []\n",
    "\n",
    "# Train the model\n",
    "for epoch in range(n_epochs):  # n_epochs\n",
    "    train_loss = train_epoch(nn_model, train_Loader, criterion, optimizer, device)\n",
    "    val_loss = val_epoch(nn_model, val_Loader, criterion, device)\n",
    "\n",
    "    train_loss_hist.append(train_loss)\n",
    "    val_loss_hist.append(val_loss)\n",
    "\n",
    "    print(f'Epoch {epoch+1}/{n_epochs}, Train Loss: {train_loss:.4f} | Validation Loss: {val_loss:.4f}')\n",
    "\n",
    "print(\"Training complete.\")"
   ]
  },
  {
   "cell_type": "markdown",
   "metadata": {},
   "source": [
    "#### Evaluate Using Validation Loss and Visualization"
   ]
  },
  {
   "cell_type": "code",
   "execution_count": 78,
   "metadata": {},
   "outputs": [
    {
     "name": "stdout",
     "output_type": "stream",
     "text": [
      "Validation Loss: 19.0126\n"
     ]
    },
    {
     "data": {
      "image/png": "[encoded data removed]",
      "text/plain": [
       "<Figure size 1200x500 with 2 Axes>"
      ]
     },
     "metadata": {},
     "output_type": "display_data"
    }
   ],
   "source": [
    "y_pred, y_label = model_prediction(nn_model, val_Loader, device)\n",
    "\n",
    "# Evaluate model - Using Validation Loss-------------------\n",
    "Val_loss = val_loss_hist[-1] # Use the last value of the validation loss as the final loss\n",
    "\n",
    "print(f'Validation Loss: {Val_loss:.4f}')\n",
    "\n",
    "# Evaluate model - Using plot--------------------\n",
    "fig, ax = plt.subplots(1, 2, figsize=(12, 5))\n",
    "\n",
    "# Plot of Observed and Predicted Values\n",
    "plot_pred_true(y_label, y_pred, ax[0])      \n",
    "\n",
    "# Plot of Loss values & Epoch\n",
    "plot_train_val_loss(train_loss_hist, val_loss_hist, ax[1])\n"
   ]
  },
  {
   "cell_type": "markdown",
   "metadata": {},
   "source": [
    "### K-fold Cross-Validation"
   ]
  },
  {
   "cell_type": "code",
   "execution_count": 79,
   "metadata": {},
   "outputs": [
    {
     "name": "stdout",
     "output_type": "stream",
     "text": [
      "Cross Validation for Small Single Model\n",
      "Overall Small Single Model - Train Loss: 39.4367 | Validation Loss: 32.2452\n",
      "Cross Validation for Large Single Model\n",
      "Overall Large Single Model - Train Loss: 42.4672 | Validation Loss: 25.3715\n",
      "Cross Validation for Small S_tanh Model\n",
      "Overall Small S_tanh Model - Train Loss: 83.5136 | Validation Loss: 91.9788\n",
      "Cross Validation for Large S_tanh Model\n",
      "Overall Large S_tanh Model - Train Loss: 42.5891 | Validation Loss: 53.6551\n",
      "Cross-validation complete.\n"
     ]
    }
   ],
   "source": [
    "from torch.utils.data import DataLoader, Subset\n",
    "from sklearn.model_selection import KFold\n",
    "\n",
    "# Define the two model architectures using lambdas to easily reinitialize per fold\n",
    "models = {\n",
    "    \"Small Single Model\": lambda: SimpleNeuralNetwork(input_size=input_size, hidden_size=16, output_size=1),\n",
    "    \"Large Single Model\": lambda: SimpleNeuralNetwork(input_size=input_size, hidden_size=32, output_size=1),\n",
    "    \"Small S_tanh Model\": lambda: Simple_tanh_NN(input_size=input_size, hidden_size=16, output_size=1),\n",
    "    \"Large S_tanh Model\": lambda: Simple_tanh_NN(input_size=input_size, hidden_size=32, output_size=1)\n",
    "}\n",
    "\n",
    "# Set hyperparameters\n",
    "k_folds = 5         # k=5 fold\n",
    "num_epochs = 20     # Number of epochs per fold\n",
    "\n",
    "# Set up K-Fold Cross Validation (K=5)\n",
    "kfold = KFold(n_splits=k_folds, shuffle=True)\n",
    "\n",
    "for model_name, model_fn in models.items():\n",
    "    print(f\"Cross Validation for {model_name}\")\n",
    "    \n",
    "    fold_train_losses = []\n",
    "    fold_val_losses = []\n",
    "    fold_number = 1\n",
    "    \n",
    "    for train_idx, val_idx in kfold.split(range(len(train_dataset))):     # Generate the idex of training and testing dataset # len(train_dataset) # 5908 \n",
    "        # print(f\"Fold {fold_number}\")\n",
    "        # Create subsets for training and validation data for this fold\n",
    "        train_subset = Subset(train_dataset, train_idx)\n",
    "        val_subset = Subset(train_dataset, val_idx)\n",
    "        \n",
    "        trainloader = DataLoader(train_subset, batch_size=64, shuffle=True)\n",
    "        valloader = DataLoader(val_subset, batch_size=64, shuffle=False)\n",
    "        \n",
    "        # Initialize model, loss function, and optimizer for this fold\n",
    "        model = model_fn().to(device)\n",
    "        criterion = nn.MSELoss()\n",
    "        optimizer = optim.SGD(model.parameters(), lr=0.001)\n",
    "        \n",
    "        # Train for the specified number of epochs and evaluate after each epoch\n",
    "        for epoch in range(num_epochs):\n",
    "            train_loss = train_epoch(model, trainloader, criterion, optimizer, device)\n",
    "            val_loss = val_epoch(model, valloader, criterion, device)\n",
    "            # print(f\" Epoch {epoch+1}/{num_epochs} - Train Loss: {train_loss:.4f} | Validation Loss: {val_loss:.4f}\")\n",
    "        \n",
    "        fold_train_losses.append(train_loss)\n",
    "        fold_val_losses.append(val_loss)\n",
    "        fold_number += 1\n",
    "        \n",
    "    overall_train_loss = sum(fold_train_losses) / k_folds\n",
    "    overall_val_loss = sum(fold_val_losses) / k_folds\n",
    "    print(f\"Overall {model_name} - Train Loss: {overall_train_loss:.4f} | Validation Loss: {overall_val_loss:.4f}\")\n",
    "\n",
    "print(\"Cross-validation complete.\")\n"
   ]
  },
  {
   "cell_type": "markdown",
   "metadata": {},
   "source": [
    "#### Set and Train the Model"
   ]
  },
  {
   "cell_type": "markdown",
   "metadata": {},
   "source": [
    "Select the best model in the K-fold validation, which is the model with activate function tanh, hidden layer size = 32."
   ]
  },
  {
   "cell_type": "code",
   "execution_count": 80,
   "metadata": {},
   "outputs": [
    {
     "name": "stdout",
     "output_type": "stream",
     "text": [
      "Epoch 1/100, Train Loss: 56616.0330 | Validation Loss: 45920.0199\n",
      "Epoch 2/100, Train Loss: 39254.1379 | Validation Loss: 31901.0747\n",
      "Epoch 3/100, Train Loss: 27281.0727 | Validation Loss: 21995.5223\n",
      "Epoch 4/100, Train Loss: 18829.9049 | Validation Loss: 15117.8448\n",
      "Epoch 5/100, Train Loss: 12991.8331 | Validation Loss: 10450.9249\n",
      "Epoch 6/100, Train Loss: 9111.7307 | Validation Loss: 7453.6277\n",
      "Epoch 7/100, Train Loss: 6630.2953 | Validation Loss: 5438.1514\n",
      "Epoch 8/100, Train Loss: 4829.8047 | Validation Loss: 4016.3312\n",
      "Epoch 9/100, Train Loss: 3625.9498 | Validation Loss: 3075.4539\n",
      "Epoch 10/100, Train Loss: 2808.4901 | Validation Loss: 2430.7093\n",
      "Epoch 11/100, Train Loss: 2244.5930 | Validation Loss: 1983.4567\n",
      "Epoch 12/100, Train Loss: 1835.4781 | Validation Loss: 1612.2286\n",
      "Epoch 13/100, Train Loss: 1500.2962 | Validation Loss: 1349.8069\n",
      "Epoch 14/100, Train Loss: 1261.9286 | Validation Loss: 1151.0585\n",
      "Epoch 15/100, Train Loss: 1085.9487 | Validation Loss: 1003.8110\n",
      "Epoch 16/100, Train Loss: 952.4802 | Validation Loss: 887.6658\n",
      "Epoch 17/100, Train Loss: 840.3503 | Validation Loss: 773.5983\n",
      "Epoch 18/100, Train Loss: 709.3721 | Validation Loss: 650.8183\n",
      "Epoch 19/100, Train Loss: 623.1643 | Validation Loss: 578.9559\n",
      "Epoch 20/100, Train Loss: 553.5319 | Validation Loss: 504.8105\n",
      "Epoch 21/100, Train Loss: 487.7329 | Validation Loss: 450.6801\n",
      "Epoch 22/100, Train Loss: 439.8684 | Validation Loss: 410.3203\n",
      "Epoch 23/100, Train Loss: 400.8731 | Validation Loss: 376.5756\n",
      "Epoch 24/100, Train Loss: 368.2198 | Validation Loss: 348.2346\n",
      "Epoch 25/100, Train Loss: 340.4001 | Validation Loss: 321.5983\n",
      "Epoch 26/100, Train Loss: 313.9641 | Validation Loss: 293.1348\n",
      "Epoch 27/100, Train Loss: 289.8843 | Validation Loss: 273.0057\n",
      "Epoch 28/100, Train Loss: 270.9692 | Validation Loss: 256.4441\n",
      "Epoch 29/100, Train Loss: 255.1952 | Validation Loss: 242.6780\n",
      "Epoch 30/100, Train Loss: 240.8779 | Validation Loss: 229.7348\n",
      "Epoch 31/100, Train Loss: 227.9335 | Validation Loss: 216.7140\n",
      "Epoch 32/100, Train Loss: 202.2662 | Validation Loss: 166.0327\n",
      "Epoch 33/100, Train Loss: 173.1417 | Validation Loss: 153.3429\n",
      "Epoch 34/100, Train Loss: 160.1051 | Validation Loss: 141.3107\n",
      "Epoch 35/100, Train Loss: 149.4342 | Validation Loss: 133.9196\n",
      "Epoch 36/100, Train Loss: 140.4447 | Validation Loss: 124.6389\n",
      "Epoch 37/100, Train Loss: 131.6381 | Validation Loss: 116.6591\n",
      "Epoch 38/100, Train Loss: 125.2497 | Validation Loss: 110.1051\n",
      "Epoch 39/100, Train Loss: 117.6591 | Validation Loss: 105.7827\n",
      "Epoch 40/100, Train Loss: 110.8826 | Validation Loss: 98.8144\n",
      "Epoch 41/100, Train Loss: 105.3948 | Validation Loss: 95.2631\n",
      "Epoch 42/100, Train Loss: 100.1450 | Validation Loss: 89.3803\n",
      "Epoch 43/100, Train Loss: 95.9507 | Validation Loss: 85.7915\n",
      "Epoch 44/100, Train Loss: 90.9231 | Validation Loss: 81.3869\n",
      "Epoch 45/100, Train Loss: 86.0856 | Validation Loss: 78.7613\n",
      "Epoch 46/100, Train Loss: 83.2949 | Validation Loss: 77.7147\n",
      "Epoch 47/100, Train Loss: 79.3664 | Validation Loss: 74.5241\n",
      "Epoch 48/100, Train Loss: 75.6713 | Validation Loss: 69.6422\n",
      "Epoch 49/100, Train Loss: 72.2964 | Validation Loss: 66.5559\n",
      "Epoch 50/100, Train Loss: 64.5371 | Validation Loss: 52.7905\n",
      "Epoch 51/100, Train Loss: 57.9494 | Validation Loss: 50.8905\n",
      "Epoch 52/100, Train Loss: 53.7410 | Validation Loss: 47.8306\n",
      "Epoch 53/100, Train Loss: 50.8998 | Validation Loss: 47.1456\n",
      "Epoch 54/100, Train Loss: 48.8927 | Validation Loss: 45.0849\n",
      "Epoch 55/100, Train Loss: 46.6114 | Validation Loss: 42.4303\n",
      "Epoch 56/100, Train Loss: 44.4943 | Validation Loss: 40.8155\n",
      "Epoch 57/100, Train Loss: 41.9463 | Validation Loss: 39.8430\n",
      "Epoch 58/100, Train Loss: 39.8956 | Validation Loss: 38.0808\n",
      "Epoch 59/100, Train Loss: 38.3210 | Validation Loss: 36.1821\n",
      "Epoch 60/100, Train Loss: 36.5589 | Validation Loss: 35.8957\n",
      "Epoch 61/100, Train Loss: 35.3777 | Validation Loss: 34.8083\n",
      "Epoch 62/100, Train Loss: 34.3374 | Validation Loss: 33.0645\n",
      "Epoch 63/100, Train Loss: 31.9081 | Validation Loss: 30.8972\n",
      "Epoch 64/100, Train Loss: 30.6503 | Validation Loss: 32.7737\n",
      "Epoch 65/100, Train Loss: 29.1648 | Validation Loss: 30.4055\n",
      "Epoch 66/100, Train Loss: 27.9592 | Validation Loss: 30.4100\n",
      "Epoch 67/100, Train Loss: 27.6513 | Validation Loss: 30.3297\n",
      "Epoch 68/100, Train Loss: 26.9198 | Validation Loss: 28.4619\n",
      "Epoch 69/100, Train Loss: 26.2586 | Validation Loss: 28.7731\n",
      "Epoch 70/100, Train Loss: 24.4025 | Validation Loss: 26.8649\n",
      "Epoch 71/100, Train Loss: 24.6491 | Validation Loss: 27.4908\n",
      "Epoch 72/100, Train Loss: 23.5812 | Validation Loss: 28.3377\n",
      "Epoch 73/100, Train Loss: 23.0457 | Validation Loss: 27.6529\n",
      "Epoch 74/100, Train Loss: 22.1715 | Validation Loss: 27.4924\n",
      "Epoch 75/100, Train Loss: 21.4516 | Validation Loss: 26.6816\n",
      "Epoch 76/100, Train Loss: 22.0630 | Validation Loss: 26.6318\n",
      "Epoch 77/100, Train Loss: 20.7085 | Validation Loss: 26.2157\n",
      "Epoch 78/100, Train Loss: 19.9394 | Validation Loss: 25.3761\n",
      "Epoch 79/100, Train Loss: 20.0050 | Validation Loss: 25.0982\n",
      "Epoch 80/100, Train Loss: 19.2901 | Validation Loss: 25.3983\n",
      "Epoch 81/100, Train Loss: 19.0993 | Validation Loss: 26.2309\n",
      "Epoch 82/100, Train Loss: 18.7452 | Validation Loss: 25.6033\n",
      "Epoch 83/100, Train Loss: 17.8951 | Validation Loss: 26.2136\n",
      "Epoch 84/100, Train Loss: 17.9491 | Validation Loss: 23.9537\n",
      "Epoch 85/100, Train Loss: 17.2199 | Validation Loss: 24.3827\n",
      "Epoch 86/100, Train Loss: 17.1224 | Validation Loss: 24.2843\n",
      "Epoch 87/100, Train Loss: 17.9399 | Validation Loss: 26.8724\n",
      "Epoch 88/100, Train Loss: 16.1792 | Validation Loss: 27.1131\n",
      "Epoch 89/100, Train Loss: 17.0352 | Validation Loss: 26.2842\n",
      "Epoch 90/100, Train Loss: 15.6956 | Validation Loss: 25.3508\n",
      "Epoch 91/100, Train Loss: 15.5225 | Validation Loss: 24.2450\n",
      "Epoch 92/100, Train Loss: 14.7289 | Validation Loss: 23.8135\n",
      "Epoch 93/100, Train Loss: 14.2054 | Validation Loss: 24.6392\n",
      "Epoch 94/100, Train Loss: 14.2720 | Validation Loss: 23.7232\n",
      "Epoch 95/100, Train Loss: 14.1923 | Validation Loss: 26.0711\n",
      "Epoch 96/100, Train Loss: 14.0484 | Validation Loss: 23.8146\n",
      "Epoch 97/100, Train Loss: 16.3621 | Validation Loss: 25.2909\n",
      "Epoch 98/100, Train Loss: 13.9068 | Validation Loss: 23.6616\n",
      "Epoch 99/100, Train Loss: 13.3576 | Validation Loss: 24.7102\n",
      "Epoch 100/100, Train Loss: 12.5147 | Validation Loss: 23.6829\n",
      "Training complete.\n"
     ]
    }
   ],
   "source": [
    "# Initialize the model\n",
    "sth_nn_model = Simple_tanh_NN(input_size=input_size, hidden_size=hidden_size, output_size=output_size)\n",
    "sth_nn_model.to(device)\n",
    "\n",
    "# Define the loss function and the optimizer\n",
    "criterion = nn.MSELoss()    # Mean Squared Error for Linear Regression\n",
    "optimizer = optim.Adam(sth_nn_model.parameters(), lr=0.02)\n",
    "\n",
    "# Train & Evaluate the model\n",
    "train_loss_hist = []\n",
    "val_loss_hist = []\n",
    "n_epochs = 100\n",
    "\n",
    "# Train the model\n",
    "for epoch in range(n_epochs):  # n_epochs\n",
    "    train_loss = train_epoch(sth_nn_model, train_Loader, criterion, optimizer, device)\n",
    "    val_loss = val_epoch(sth_nn_model, val_Loader, criterion, device)\n",
    "\n",
    "    train_loss_hist.append(train_loss)\n",
    "    val_loss_hist.append(val_loss)\n",
    "\n",
    "    print(f'Epoch {epoch+1}/{n_epochs}, Train Loss: {train_loss:.4f} | Validation Loss: {val_loss:.4f}')\n",
    "\n",
    "print(\"Training complete.\")\n"
   ]
  },
  {
   "cell_type": "markdown",
   "metadata": {},
   "source": [
    "#### Using Validation Loss and Visualization to evaluate"
   ]
  },
  {
   "cell_type": "code",
   "execution_count": 81,
   "metadata": {},
   "outputs": [
    {
     "name": "stdout",
     "output_type": "stream",
     "text": [
      "Validation Loss: 23.6829\n"
     ]
    },
    {
     "data": {
      "image/png": "[encoded data removed]",
      "text/plain": [
       "<Figure size 1200x500 with 2 Axes>"
      ]
     },
     "metadata": {},
     "output_type": "display_data"
    }
   ],
   "source": [
    "y_pred, y_label = model_prediction(sth_nn_model, val_Loader, device)\n",
    "\n",
    "# Evaluate model - Using Validation Loss-------------------\n",
    "Val_loss = val_loss_hist[-1] # Use the last value of the validation loss as the final loss\n",
    "\n",
    "print(f'Validation Loss: {Val_loss:.4f}')\n",
    "\n",
    "# Evaluate model - Using plot--------------------\n",
    "fig, ax = plt.subplots(1, 2, figsize=(12, 5))\n",
    "\n",
    "# Plot of Observed and Predicted Values\n",
    "plot_pred_true(y_label, y_pred, ax[0])      \n",
    "\n",
    "# Plot of Loss values & Epoch\n",
    "plot_train_val_loss(train_loss_hist, val_loss_hist, ax[1])"
   ]
  },
  {
   "cell_type": "markdown",
   "metadata": {},
   "source": [
    "## 4 Using W&B"
   ]
  },
  {
   "cell_type": "code",
   "execution_count": 82,
   "metadata": {},
   "outputs": [
    {
     "name": "stderr",
     "output_type": "stream",
     "text": [
      "wandb: WARNING If you're specifying your api key in code, ensure this code is not shared publicly.\n",
      "wandb: WARNING Consider setting the WANDB_API_KEY environment variable, or running `wandb login` from the command line.\n",
      "wandb: Appending key for api.wandb.ai to your netrc file: C:\\Users\\87383\\_netrc\n"
     ]
    },
    {
     "data": {
      "text/plain": [
       "True"
      ]
     },
     "execution_count": 82,
     "metadata": {},
     "output_type": "execute_result"
    }
   ],
   "source": [
    "import wandb\n",
    "\n",
    "wandb.login(key=\"47ea61c7ee69e2e0e1cc46ed5c31bd6168f9f9db\")"
   ]
  },
  {
   "cell_type": "code",
   "execution_count": 83,
   "metadata": {},
   "outputs": [],
   "source": [
    "class MultiLayerPerceptron(nn.Module):\n",
    "\n",
    "    def __init__(self, input_size, hidden_size, num_layers, output_size):\n",
    "        super(MultiLayerPerceptron, self).__init__()\n",
    "\n",
    "        # Initialise an empty list to hold layers\n",
    "        layers = []\n",
    "\n",
    "        # First layer: input to hidden\n",
    "        layers.append(nn.Linear(input_size, hidden_size))\n",
    "        layers.append(nn.ReLU())\n",
    "\n",
    "        # Additional hidden layers\n",
    "        for _ in range(num_layers - 1):\n",
    "            layers.append(nn.Linear(hidden_size, hidden_size))\n",
    "            layers.append(nn.ReLU())\n",
    "            \n",
    "        # Output layer: hidden to output\n",
    "        layers.append(nn.Linear(hidden_size, output_size))\n",
    "        self.model = nn.Sequential(*layers)\n",
    "\n",
    "    def forward(self, x):\n",
    "        return self.model(x)"
   ]
  },
  {
   "cell_type": "code",
   "execution_count": 84,
   "metadata": {},
   "outputs": [],
   "source": [
    "from torch.utils.data import random_split\n",
    "\n",
    "# Calculate the sizes for train and validation splits\n",
    "num_total = len(train_dataset)\n",
    "num_train = int(0.9 * num_total)\n",
    "num_val = num_total - num_train\n",
    "\n",
    "# Split the dataset\n",
    "train_subset, val_subset = random_split(train_dataset, [num_train, num_val])\n",
    "\n",
    "# Create DataLoaders for each subset\n",
    "train_Loader = DataLoader(train_subset, batch_size=64, shuffle=True)\n",
    "val_Loader = DataLoader(val_subset, batch_size=64, shuffle=False)"
   ]
  },
  {
   "cell_type": "code",
   "execution_count": 85,
   "metadata": {},
   "outputs": [],
   "source": [
    "# Hyperparameter grid\n",
    "hidden_units_options = [32, 64, 128]    # Numbers of neurons in each hidden layer\n",
    "hidden_layers_options = [2, 3, 4]       # Numbers of hidden layers\n",
    "learning_rates = [0.1, 0.01, 0.001]     # Learning rates\n",
    "\n",
    "max_epochs = 200  # Arbitrarily large; early stopping will likely stop earlier.\n",
    "patience = 5      # Early stopping patience\n"
   ]
  },
  {
   "cell_type": "code",
   "execution_count": 86,
   "metadata": {},
   "outputs": [
    {
     "data": {
      "text/html": [
       "Tracking run with wandb version 0.19.7"
      ],
      "text/plain": [
       "<IPython.core.display.HTML object>"
      ]
     },
     "metadata": {},
     "output_type": "display_data"
    },
    {
     "data": {
      "text/html": [
       "Run data is saved locally in <code>d:\\Projects\\MSc_DE_GroupWork4\\Scripts\\wandb\\run-20250320_091159-1l7qpzvm</code>"
      ],
      "text/plain": [
       "<IPython.core.display.HTML object>"
      ]
     },
     "metadata": {},
     "output_type": "display_data"
    },
    {
     "data": {
      "text/html": [
       "Syncing run <strong><a href='https://wandb.ai/yixuan228-imperial-college-london/DE_Groupwork%20G4/runs/1l7qpzvm' target=\"_blank\">crisp-star-1</a></strong> to <a href='https://wandb.ai/yixuan228-imperial-college-london/DE_Groupwork%20G4' target=\"_blank\">Weights & Biases</a> (<a href='https://wandb.me/developer-guide' target=\"_blank\">docs</a>)<br>"
      ],
      "text/plain": [
       "<IPython.core.display.HTML object>"
      ]
     },
     "metadata": {},
     "output_type": "display_data"
    },
    {
     "data": {
      "text/html": [
       " View project at <a href='https://wandb.ai/yixuan228-imperial-college-london/DE_Groupwork%20G4' target=\"_blank\">https://wandb.ai/yixuan228-imperial-college-london/DE_Groupwork%20G4</a>"
      ],
      "text/plain": [
       "<IPython.core.display.HTML object>"
      ]
     },
     "metadata": {},
     "output_type": "display_data"
    },
    {
     "data": {
      "text/html": [
       " View run at <a href='https://wandb.ai/yixuan228-imperial-college-london/DE_Groupwork%20G4/runs/1l7qpzvm' target=\"_blank\">https://wandb.ai/yixuan228-imperial-college-london/DE_Groupwork%20G4/runs/1l7qpzvm</a>"
      ],
      "text/plain": [
       "<IPython.core.display.HTML object>"
      ]
     },
     "metadata": {},
     "output_type": "display_data"
    },
    {
     "name": "stdout",
     "output_type": "stream",
     "text": [
      "Epoch 001 | Train Loss: 5755.1667 | Val Loss: 475.3046\n",
      "Epoch 002 | Train Loss: 296.1576 | Val Loss: 214.3189\n",
      "Epoch 003 | Train Loss: 169.7315 | Val Loss: 158.8454\n",
      "Epoch 004 | Train Loss: 84.7168 | Val Loss: 75.6446\n",
      "Epoch 005 | Train Loss: 46.4241 | Val Loss: 80.8806\n",
      "Epoch 006 | Train Loss: 38.9939 | Val Loss: 21.4513\n",
      "Epoch 007 | Train Loss: 37.7788 | Val Loss: 88.3731\n",
      "Epoch 008 | Train Loss: 28.0677 | Val Loss: 16.8753\n",
      "Epoch 009 | Train Loss: 19.0801 | Val Loss: 90.1482\n",
      "Epoch 010 | Train Loss: 39.4213 | Val Loss: 33.4028\n",
      "Epoch 011 | Train Loss: 50.3325 | Val Loss: 41.3445\n",
      "Epoch 012 | Train Loss: 48.2155 | Val Loss: 54.5857\n",
      "Epoch 013 | Train Loss: 45.8562 | Val Loss: 176.6494\n",
      "Early stopping triggered at epoch 13\n"
     ]
    },
    {
     "data": {
      "text/html": [],
      "text/plain": [
       "<IPython.core.display.HTML object>"
      ]
     },
     "metadata": {},
     "output_type": "display_data"
    },
    {
     "data": {
      "text/html": [
       "<br>    <style><br>        .wandb-row {<br>            display: flex;<br>            flex-direction: row;<br>            flex-wrap: wrap;<br>            justify-content: flex-start;<br>            width: 100%;<br>        }<br>        .wandb-col {<br>            display: flex;<br>            flex-direction: column;<br>            flex-basis: 100%;<br>            flex: 1;<br>            padding: 10px;<br>        }<br>    </style><br><div class=\"wandb-row\"><div class=\"wandb-col\"><h3>Run history:</h3><br/><table class=\"wandb\"><tr><td>epoch</td><td>▁▂▂▃▃▄▅▅▆▆▇▇█</td></tr><tr><td>train_loss</td><td>█▁▁▁▁▁▁▁▁▁▁▁▁</td></tr><tr><td>val_loss</td><td>█▄▃▂▂▁▂▁▂▁▁▂▃</td></tr></table><br/></div><div class=\"wandb-col\"><h3>Run summary:</h3><br/><table class=\"wandb\"><tr><td>epoch</td><td>13</td></tr><tr><td>train_loss</td><td>45.85624</td></tr><tr><td>val_loss</td><td>176.64945</td></tr></table><br/></div></div>"
      ],
      "text/plain": [
       "<IPython.core.display.HTML object>"
      ]
     },
     "metadata": {},
     "output_type": "display_data"
    },
    {
     "data": {
      "text/html": [
       " View run <strong style=\"color:#cdcd00\">crisp-star-1</strong> at: <a href='https://wandb.ai/yixuan228-imperial-college-london/DE_Groupwork%20G4/runs/1l7qpzvm' target=\"_blank\">https://wandb.ai/yixuan228-imperial-college-london/DE_Groupwork%20G4/runs/1l7qpzvm</a><br> View project at: <a href='https://wandb.ai/yixuan228-imperial-college-london/DE_Groupwork%20G4' target=\"_blank\">https://wandb.ai/yixuan228-imperial-college-london/DE_Groupwork%20G4</a><br>Synced 5 W&B file(s), 0 media file(s), 0 artifact file(s) and 0 other file(s)"
      ],
      "text/plain": [
       "<IPython.core.display.HTML object>"
      ]
     },
     "metadata": {},
     "output_type": "display_data"
    },
    {
     "data": {
      "text/html": [
       "Find logs at: <code>.\\wandb\\run-20250320_091159-1l7qpzvm\\logs</code>"
      ],
      "text/plain": [
       "<IPython.core.display.HTML object>"
      ]
     },
     "metadata": {},
     "output_type": "display_data"
    },
    {
     "data": {
      "text/html": [
       "Tracking run with wandb version 0.19.7"
      ],
      "text/plain": [
       "<IPython.core.display.HTML object>"
      ]
     },
     "metadata": {},
     "output_type": "display_data"
    },
    {
     "data": {
      "text/html": [
       "Run data is saved locally in <code>d:\\Projects\\MSc_DE_GroupWork4\\Scripts\\wandb\\run-20250320_091204-yh7k5kn2</code>"
      ],
      "text/plain": [
       "<IPython.core.display.HTML object>"
      ]
     },
     "metadata": {},
     "output_type": "display_data"
    },
    {
     "data": {
      "text/html": [
       "Syncing run <strong><a href='https://wandb.ai/yixuan228-imperial-college-london/DE_Groupwork%20G4/runs/yh7k5kn2' target=\"_blank\">comfy-fire-2</a></strong> to <a href='https://wandb.ai/yixuan228-imperial-college-london/DE_Groupwork%20G4' target=\"_blank\">Weights & Biases</a> (<a href='https://wandb.me/developer-guide' target=\"_blank\">docs</a>)<br>"
      ],
      "text/plain": [
       "<IPython.core.display.HTML object>"
      ]
     },
     "metadata": {},
     "output_type": "display_data"
    },
    {
     "data": {
      "text/html": [
       " View project at <a href='https://wandb.ai/yixuan228-imperial-college-london/DE_Groupwork%20G4' target=\"_blank\">https://wandb.ai/yixuan228-imperial-college-london/DE_Groupwork%20G4</a>"
      ],
      "text/plain": [
       "<IPython.core.display.HTML object>"
      ]
     },
     "metadata": {},
     "output_type": "display_data"
    },
    {
     "data": {
      "text/html": [
       " View run at <a href='https://wandb.ai/yixuan228-imperial-college-london/DE_Groupwork%20G4/runs/yh7k5kn2' target=\"_blank\">https://wandb.ai/yixuan228-imperial-college-london/DE_Groupwork%20G4/runs/yh7k5kn2</a>"
      ],
      "text/plain": [
       "<IPython.core.display.HTML object>"
      ]
     },
     "metadata": {},
     "output_type": "display_data"
    },
    {
     "name": "stdout",
     "output_type": "stream",
     "text": [
      "Epoch 001 | Train Loss: 25727.6832 | Val Loss: 1438.1609\n",
      "Epoch 002 | Train Loss: 905.1476 | Val Loss: 687.0062\n",
      "Epoch 003 | Train Loss: 523.0031 | Val Loss: 449.0701\n",
      "Epoch 004 | Train Loss: 335.9465 | Val Loss: 326.3245\n",
      "Epoch 005 | Train Loss: 245.6130 | Val Loss: 250.8901\n",
      "Epoch 006 | Train Loss: 194.1621 | Val Loss: 201.3530\n",
      "Epoch 007 | Train Loss: 158.9533 | Val Loss: 161.8649\n",
      "Epoch 008 | Train Loss: 132.1753 | Val Loss: 141.2452\n",
      "Epoch 009 | Train Loss: 108.2684 | Val Loss: 111.1743\n",
      "Epoch 010 | Train Loss: 89.5339 | Val Loss: 90.5126\n",
      "Epoch 011 | Train Loss: 69.4916 | Val Loss: 68.4712\n",
      "Epoch 012 | Train Loss: 54.2281 | Val Loss: 54.3191\n",
      "Epoch 013 | Train Loss: 44.1602 | Val Loss: 44.9049\n",
      "Epoch 014 | Train Loss: 36.6070 | Val Loss: 43.4298\n",
      "Epoch 015 | Train Loss: 32.1585 | Val Loss: 31.0291\n",
      "Epoch 016 | Train Loss: 27.1528 | Val Loss: 26.5661\n",
      "Epoch 017 | Train Loss: 24.7425 | Val Loss: 25.5465\n",
      "Epoch 018 | Train Loss: 22.5369 | Val Loss: 22.1124\n",
      "Epoch 019 | Train Loss: 21.4854 | Val Loss: 23.8503\n",
      "Epoch 020 | Train Loss: 19.4953 | Val Loss: 22.9719\n",
      "Epoch 021 | Train Loss: 17.7405 | Val Loss: 17.2335\n",
      "Epoch 022 | Train Loss: 16.9800 | Val Loss: 25.2682\n",
      "Epoch 023 | Train Loss: 22.4616 | Val Loss: 16.1956\n",
      "Epoch 024 | Train Loss: 14.8436 | Val Loss: 14.4144\n",
      "Epoch 025 | Train Loss: 14.7231 | Val Loss: 12.3574\n",
      "Epoch 026 | Train Loss: 13.4163 | Val Loss: 13.1352\n",
      "Epoch 027 | Train Loss: 14.0272 | Val Loss: 16.8711\n",
      "Epoch 028 | Train Loss: 14.5859 | Val Loss: 12.7712\n",
      "Epoch 029 | Train Loss: 12.2455 | Val Loss: 11.1350\n",
      "Epoch 030 | Train Loss: 12.2596 | Val Loss: 15.0441\n",
      "Epoch 031 | Train Loss: 12.9600 | Val Loss: 13.3527\n",
      "Epoch 032 | Train Loss: 11.6042 | Val Loss: 9.5605\n",
      "Epoch 033 | Train Loss: 13.0813 | Val Loss: 11.3225\n",
      "Epoch 034 | Train Loss: 12.6824 | Val Loss: 11.4057\n",
      "Epoch 035 | Train Loss: 11.4233 | Val Loss: 11.2890\n",
      "Epoch 036 | Train Loss: 11.2140 | Val Loss: 11.1122\n",
      "Epoch 037 | Train Loss: 11.4633 | Val Loss: 11.7340\n",
      "Early stopping triggered at epoch 37\n"
     ]
    },
    {
     "data": {
      "text/html": [],
      "text/plain": [
       "<IPython.core.display.HTML object>"
      ]
     },
     "metadata": {},
     "output_type": "display_data"
    },
    {
     "data": {
      "text/html": [
       "<br>    <style><br>        .wandb-row {<br>            display: flex;<br>            flex-direction: row;<br>            flex-wrap: wrap;<br>            justify-content: flex-start;<br>            width: 100%;<br>        }<br>        .wandb-col {<br>            display: flex;<br>            flex-direction: column;<br>            flex-basis: 100%;<br>            flex: 1;<br>            padding: 10px;<br>        }<br>    </style><br><div class=\"wandb-row\"><div class=\"wandb-col\"><h3>Run history:</h3><br/><table class=\"wandb\"><tr><td>epoch</td><td>▁▁▁▂▂▂▂▂▃▃▃▃▃▄▄▄▄▄▅▅▅▅▅▅▆▆▆▆▆▇▇▇▇▇███</td></tr><tr><td>train_loss</td><td>█▁▁▁▁▁▁▁▁▁▁▁▁▁▁▁▁▁▁▁▁▁▁▁▁▁▁▁▁▁▁▁▁▁▁▁▁</td></tr><tr><td>val_loss</td><td>█▄▃▃▂▂▂▂▁▁▁▁▁▁▁▁▁▁▁▁▁▁▁▁▁▁▁▁▁▁▁▁▁▁▁▁▁</td></tr></table><br/></div><div class=\"wandb-col\"><h3>Run summary:</h3><br/><table class=\"wandb\"><tr><td>epoch</td><td>37</td></tr><tr><td>train_loss</td><td>11.46327</td></tr><tr><td>val_loss</td><td>11.734</td></tr></table><br/></div></div>"
      ],
      "text/plain": [
       "<IPython.core.display.HTML object>"
      ]
     },
     "metadata": {},
     "output_type": "display_data"
    },
    {
     "data": {
      "text/html": [
       " View run <strong style=\"color:#cdcd00\">comfy-fire-2</strong> at: <a href='https://wandb.ai/yixuan228-imperial-college-london/DE_Groupwork%20G4/runs/yh7k5kn2' target=\"_blank\">https://wandb.ai/yixuan228-imperial-college-london/DE_Groupwork%20G4/runs/yh7k5kn2</a><br> View project at: <a href='https://wandb.ai/yixuan228-imperial-college-london/DE_Groupwork%20G4' target=\"_blank\">https://wandb.ai/yixuan228-imperial-college-london/DE_Groupwork%20G4</a><br>Synced 5 W&B file(s), 0 media file(s), 0 artifact file(s) and 0 other file(s)"
      ],
      "text/plain": [
       "<IPython.core.display.HTML object>"
      ]
     },
     "metadata": {},
     "output_type": "display_data"
    },
    {
     "data": {
      "text/html": [
       "Find logs at: <code>.\\wandb\\run-20250320_091204-yh7k5kn2\\logs</code>"
      ],
      "text/plain": [
       "<IPython.core.display.HTML object>"
      ]
     },
     "metadata": {},
     "output_type": "display_data"
    },
    {
     "data": {
      "text/html": [
       "Tracking run with wandb version 0.19.7"
      ],
      "text/plain": [
       "<IPython.core.display.HTML object>"
      ]
     },
     "metadata": {},
     "output_type": "display_data"
    },
    {
     "data": {
      "text/html": [
       "Run data is saved locally in <code>d:\\Projects\\MSc_DE_GroupWork4\\Scripts\\wandb\\run-20250320_091212-ahkrr2ds</code>"
      ],
      "text/plain": [
       "<IPython.core.display.HTML object>"
      ]
     },
     "metadata": {},
     "output_type": "display_data"
    },
    {
     "data": {
      "text/html": [
       "Syncing run <strong><a href='https://wandb.ai/yixuan228-imperial-college-london/DE_Groupwork%20G4/runs/ahkrr2ds' target=\"_blank\">super-energy-3</a></strong> to <a href='https://wandb.ai/yixuan228-imperial-college-london/DE_Groupwork%20G4' target=\"_blank\">Weights & Biases</a> (<a href='https://wandb.me/developer-guide' target=\"_blank\">docs</a>)<br>"
      ],
      "text/plain": [
       "<IPython.core.display.HTML object>"
      ]
     },
     "metadata": {},
     "output_type": "display_data"
    },
    {
     "data": {
      "text/html": [
       " View project at <a href='https://wandb.ai/yixuan228-imperial-college-london/DE_Groupwork%20G4' target=\"_blank\">https://wandb.ai/yixuan228-imperial-college-london/DE_Groupwork%20G4</a>"
      ],
      "text/plain": [
       "<IPython.core.display.HTML object>"
      ]
     },
     "metadata": {},
     "output_type": "display_data"
    },
    {
     "data": {
      "text/html": [
       " View run at <a href='https://wandb.ai/yixuan228-imperial-college-london/DE_Groupwork%20G4/runs/ahkrr2ds' target=\"_blank\">https://wandb.ai/yixuan228-imperial-college-london/DE_Groupwork%20G4/runs/ahkrr2ds</a>"
      ],
      "text/plain": [
       "<IPython.core.display.HTML object>"
      ]
     },
     "metadata": {},
     "output_type": "display_data"
    },
    {
     "name": "stdout",
     "output_type": "stream",
     "text": [
      "Epoch 001 | Train Loss: 65440.1877 | Val Loss: 60751.5998\n",
      "Epoch 002 | Train Loss: 50908.1185 | Val Loss: 32829.1198\n",
      "Epoch 003 | Train Loss: 16810.6464 | Val Loss: 5734.5379\n",
      "Epoch 004 | Train Loss: 3648.9196 | Val Loss: 2770.2766\n",
      "Epoch 005 | Train Loss: 2194.3257 | Val Loss: 1861.3722\n",
      "Epoch 006 | Train Loss: 1530.9390 | Val Loss: 1381.0566\n",
      "Epoch 007 | Train Loss: 1181.5073 | Val Loss: 1119.4762\n",
      "Epoch 008 | Train Loss: 987.7287 | Val Loss: 972.4165\n",
      "Epoch 009 | Train Loss: 870.8102 | Val Loss: 874.8122\n",
      "Epoch 010 | Train Loss: 790.2271 | Val Loss: 803.9286\n",
      "Epoch 011 | Train Loss: 726.5494 | Val Loss: 747.1788\n",
      "Epoch 012 | Train Loss: 673.6937 | Val Loss: 697.6532\n",
      "Epoch 013 | Train Loss: 626.8244 | Val Loss: 656.2189\n",
      "Epoch 014 | Train Loss: 585.7708 | Val Loss: 622.0438\n",
      "Epoch 015 | Train Loss: 548.8191 | Val Loss: 583.6665\n",
      "Epoch 016 | Train Loss: 516.4083 | Val Loss: 552.1851\n",
      "Epoch 017 | Train Loss: 485.3021 | Val Loss: 522.7752\n",
      "Epoch 018 | Train Loss: 456.9394 | Val Loss: 497.8522\n",
      "Epoch 019 | Train Loss: 431.5532 | Val Loss: 470.6554\n",
      "Epoch 020 | Train Loss: 408.4758 | Val Loss: 449.6060\n",
      "Epoch 021 | Train Loss: 386.0840 | Val Loss: 425.8668\n",
      "Epoch 022 | Train Loss: 367.2477 | Val Loss: 406.9142\n",
      "Epoch 023 | Train Loss: 348.3039 | Val Loss: 387.0782\n",
      "Epoch 024 | Train Loss: 330.8664 | Val Loss: 369.1499\n",
      "Epoch 025 | Train Loss: 316.5344 | Val Loss: 354.0213\n",
      "Epoch 026 | Train Loss: 301.3414 | Val Loss: 338.1783\n",
      "Epoch 027 | Train Loss: 287.8255 | Val Loss: 325.7025\n",
      "Epoch 028 | Train Loss: 275.7911 | Val Loss: 310.8513\n",
      "Epoch 029 | Train Loss: 263.8420 | Val Loss: 297.7340\n",
      "Epoch 030 | Train Loss: 252.9674 | Val Loss: 286.1367\n",
      "Epoch 031 | Train Loss: 242.7797 | Val Loss: 273.5492\n",
      "Epoch 032 | Train Loss: 232.2183 | Val Loss: 261.7827\n",
      "Epoch 033 | Train Loss: 222.5756 | Val Loss: 251.3162\n",
      "Epoch 034 | Train Loss: 213.6659 | Val Loss: 240.2174\n",
      "Epoch 035 | Train Loss: 205.5707 | Val Loss: 231.5438\n",
      "Epoch 036 | Train Loss: 196.8222 | Val Loss: 220.8955\n",
      "Epoch 037 | Train Loss: 188.3921 | Val Loss: 211.7185\n",
      "Epoch 038 | Train Loss: 180.3872 | Val Loss: 202.2569\n",
      "Epoch 039 | Train Loss: 172.8641 | Val Loss: 192.8579\n",
      "Epoch 040 | Train Loss: 165.4759 | Val Loss: 183.5265\n",
      "Epoch 041 | Train Loss: 157.5217 | Val Loss: 174.6316\n",
      "Epoch 042 | Train Loss: 150.0287 | Val Loss: 166.9369\n",
      "Epoch 043 | Train Loss: 142.7935 | Val Loss: 158.3290\n",
      "Epoch 044 | Train Loss: 135.2621 | Val Loss: 150.3262\n",
      "Epoch 045 | Train Loss: 128.9115 | Val Loss: 142.0122\n",
      "Epoch 046 | Train Loss: 121.7802 | Val Loss: 134.3985\n",
      "Epoch 047 | Train Loss: 115.3266 | Val Loss: 126.2556\n",
      "Epoch 048 | Train Loss: 108.7815 | Val Loss: 118.7658\n",
      "Epoch 049 | Train Loss: 102.1850 | Val Loss: 112.1766\n",
      "Epoch 050 | Train Loss: 96.0543 | Val Loss: 105.5064\n",
      "Epoch 051 | Train Loss: 90.1966 | Val Loss: 98.8490\n",
      "Epoch 052 | Train Loss: 84.7982 | Val Loss: 92.3072\n",
      "Epoch 053 | Train Loss: 79.2092 | Val Loss: 85.5421\n",
      "Epoch 054 | Train Loss: 74.2446 | Val Loss: 80.1037\n",
      "Epoch 055 | Train Loss: 69.4918 | Val Loss: 74.4127\n",
      "Epoch 056 | Train Loss: 64.6342 | Val Loss: 70.3298\n",
      "Epoch 057 | Train Loss: 60.2031 | Val Loss: 64.7438\n",
      "Epoch 058 | Train Loss: 56.1573 | Val Loss: 60.7904\n",
      "Epoch 059 | Train Loss: 52.4117 | Val Loss: 55.3476\n",
      "Epoch 060 | Train Loss: 48.7632 | Val Loss: 53.2436\n",
      "Epoch 061 | Train Loss: 45.5707 | Val Loss: 48.8033\n",
      "Epoch 062 | Train Loss: 43.1751 | Val Loss: 45.1875\n",
      "Epoch 063 | Train Loss: 39.9108 | Val Loss: 42.3622\n",
      "Epoch 064 | Train Loss: 37.4516 | Val Loss: 39.1579\n",
      "Epoch 065 | Train Loss: 35.3633 | Val Loss: 36.9947\n",
      "Epoch 066 | Train Loss: 33.4980 | Val Loss: 35.3345\n",
      "Epoch 067 | Train Loss: 31.6107 | Val Loss: 33.3782\n",
      "Epoch 068 | Train Loss: 29.7681 | Val Loss: 32.2980\n",
      "Epoch 069 | Train Loss: 28.6159 | Val Loss: 29.9257\n",
      "Epoch 070 | Train Loss: 27.2132 | Val Loss: 29.3590\n",
      "Epoch 071 | Train Loss: 25.9846 | Val Loss: 27.0543\n",
      "Epoch 072 | Train Loss: 25.1053 | Val Loss: 26.0474\n",
      "Epoch 073 | Train Loss: 24.2079 | Val Loss: 24.6033\n",
      "Epoch 074 | Train Loss: 23.0199 | Val Loss: 25.2408\n",
      "Epoch 075 | Train Loss: 22.5210 | Val Loss: 23.9487\n",
      "Epoch 076 | Train Loss: 21.6110 | Val Loss: 23.8600\n",
      "Epoch 077 | Train Loss: 20.5788 | Val Loss: 22.1550\n",
      "Epoch 078 | Train Loss: 20.0685 | Val Loss: 20.2530\n",
      "Epoch 079 | Train Loss: 19.6667 | Val Loss: 19.4038\n",
      "Epoch 080 | Train Loss: 18.6838 | Val Loss: 19.7120\n",
      "Epoch 081 | Train Loss: 18.2965 | Val Loss: 18.2811\n",
      "Epoch 082 | Train Loss: 17.7476 | Val Loss: 18.3609\n",
      "Epoch 083 | Train Loss: 17.3019 | Val Loss: 17.2541\n",
      "Epoch 084 | Train Loss: 17.0489 | Val Loss: 18.5895\n",
      "Epoch 085 | Train Loss: 16.4067 | Val Loss: 16.2201\n",
      "Epoch 086 | Train Loss: 16.1965 | Val Loss: 15.9490\n",
      "Epoch 087 | Train Loss: 15.6487 | Val Loss: 16.3318\n",
      "Epoch 088 | Train Loss: 15.7688 | Val Loss: 15.4135\n",
      "Epoch 089 | Train Loss: 15.1829 | Val Loss: 14.8313\n",
      "Epoch 090 | Train Loss: 14.8943 | Val Loss: 14.3067\n",
      "Epoch 091 | Train Loss: 14.5920 | Val Loss: 14.3030\n",
      "Epoch 092 | Train Loss: 14.7403 | Val Loss: 14.0851\n",
      "Epoch 093 | Train Loss: 15.0478 | Val Loss: 13.7038\n",
      "Epoch 094 | Train Loss: 13.8958 | Val Loss: 15.0588\n",
      "Epoch 095 | Train Loss: 14.0332 | Val Loss: 13.1041\n",
      "Epoch 096 | Train Loss: 13.5667 | Val Loss: 13.1440\n",
      "Epoch 097 | Train Loss: 13.4756 | Val Loss: 12.6977\n",
      "Epoch 098 | Train Loss: 13.1637 | Val Loss: 15.0818\n",
      "Epoch 099 | Train Loss: 13.0374 | Val Loss: 13.2910\n",
      "Epoch 100 | Train Loss: 12.9122 | Val Loss: 12.4823\n",
      "Epoch 101 | Train Loss: 12.6940 | Val Loss: 13.5260\n",
      "Epoch 102 | Train Loss: 12.9882 | Val Loss: 13.2852\n",
      "Epoch 103 | Train Loss: 12.5888 | Val Loss: 12.9125\n",
      "Epoch 104 | Train Loss: 12.9666 | Val Loss: 12.0237\n",
      "Epoch 105 | Train Loss: 12.6812 | Val Loss: 12.2204\n",
      "Epoch 106 | Train Loss: 12.1527 | Val Loss: 11.5383\n",
      "Epoch 107 | Train Loss: 11.8017 | Val Loss: 12.2073\n",
      "Epoch 108 | Train Loss: 11.8959 | Val Loss: 11.0994\n",
      "Epoch 109 | Train Loss: 11.7109 | Val Loss: 11.1781\n",
      "Epoch 110 | Train Loss: 12.0279 | Val Loss: 10.9880\n",
      "Epoch 111 | Train Loss: 11.4325 | Val Loss: 10.9683\n",
      "Epoch 112 | Train Loss: 11.4444 | Val Loss: 11.3083\n",
      "Epoch 113 | Train Loss: 11.5880 | Val Loss: 13.4429\n",
      "Epoch 114 | Train Loss: 11.2656 | Val Loss: 10.8784\n",
      "Epoch 115 | Train Loss: 11.0926 | Val Loss: 10.8133\n",
      "Epoch 116 | Train Loss: 11.0376 | Val Loss: 10.2346\n",
      "Epoch 117 | Train Loss: 10.8544 | Val Loss: 10.3857\n",
      "Epoch 118 | Train Loss: 10.8038 | Val Loss: 10.2444\n",
      "Epoch 119 | Train Loss: 10.7196 | Val Loss: 10.2955\n",
      "Epoch 120 | Train Loss: 10.6586 | Val Loss: 9.7622\n",
      "Epoch 121 | Train Loss: 10.6698 | Val Loss: 10.9120\n",
      "Epoch 122 | Train Loss: 10.5699 | Val Loss: 9.6680\n",
      "Epoch 123 | Train Loss: 10.4390 | Val Loss: 10.1463\n",
      "Epoch 124 | Train Loss: 10.3256 | Val Loss: 10.4141\n",
      "Epoch 125 | Train Loss: 10.3158 | Val Loss: 10.5963\n",
      "Epoch 126 | Train Loss: 10.7520 | Val Loss: 9.9140\n",
      "Epoch 127 | Train Loss: 9.9711 | Val Loss: 9.4219\n",
      "Epoch 128 | Train Loss: 10.1526 | Val Loss: 10.2511\n",
      "Epoch 129 | Train Loss: 10.2616 | Val Loss: 9.4352\n",
      "Epoch 130 | Train Loss: 9.7995 | Val Loss: 9.6387\n",
      "Epoch 131 | Train Loss: 9.9489 | Val Loss: 10.3186\n",
      "Epoch 132 | Train Loss: 9.9295 | Val Loss: 10.2971\n",
      "Early stopping triggered at epoch 132\n"
     ]
    },
    {
     "data": {
      "text/html": [],
      "text/plain": [
       "<IPython.core.display.HTML object>"
      ]
     },
     "metadata": {},
     "output_type": "display_data"
    },
    {
     "data": {
      "text/html": [
       "<br>    <style><br>        .wandb-row {<br>            display: flex;<br>            flex-direction: row;<br>            flex-wrap: wrap;<br>            justify-content: flex-start;<br>            width: 100%;<br>        }<br>        .wandb-col {<br>            display: flex;<br>            flex-direction: column;<br>            flex-basis: 100%;<br>            flex: 1;<br>            padding: 10px;<br>        }<br>    </style><br><div class=\"wandb-row\"><div class=\"wandb-col\"><h3>Run history:</h3><br/><table class=\"wandb\"><tr><td>epoch</td><td>▁▁▁▁▁▂▂▂▂▂▃▃▃▃▃▃▃▄▄▄▄▄▄▄▅▅▅▅▅▆▆▇▇▇▇▇▇███</td></tr><tr><td>train_loss</td><td>█▃▁▁▁▁▁▁▁▁▁▁▁▁▁▁▁▁▁▁▁▁▁▁▁▁▁▁▁▁▁▁▁▁▁▁▁▁▁▁</td></tr><tr><td>val_loss</td><td>█▄▃▃▂▂▂▂▁▁▁▁▁▁▁▁▁▁▁▁▁▁▁▁▁▁▁▁▁▁▁▁▁▁▁▁▁▁▁▁</td></tr></table><br/></div><div class=\"wandb-col\"><h3>Run summary:</h3><br/><table class=\"wandb\"><tr><td>epoch</td><td>132</td></tr><tr><td>train_loss</td><td>9.92948</td></tr><tr><td>val_loss</td><td>10.29714</td></tr></table><br/></div></div>"
      ],
      "text/plain": [
       "<IPython.core.display.HTML object>"
      ]
     },
     "metadata": {},
     "output_type": "display_data"
    },
    {
     "data": {
      "text/html": [
       " View run <strong style=\"color:#cdcd00\">super-energy-3</strong> at: <a href='https://wandb.ai/yixuan228-imperial-college-london/DE_Groupwork%20G4/runs/ahkrr2ds' target=\"_blank\">https://wandb.ai/yixuan228-imperial-college-london/DE_Groupwork%20G4/runs/ahkrr2ds</a><br> View project at: <a href='https://wandb.ai/yixuan228-imperial-college-london/DE_Groupwork%20G4' target=\"_blank\">https://wandb.ai/yixuan228-imperial-college-london/DE_Groupwork%20G4</a><br>Synced 5 W&B file(s), 0 media file(s), 0 artifact file(s) and 0 other file(s)"
      ],
      "text/plain": [
       "<IPython.core.display.HTML object>"
      ]
     },
     "metadata": {},
     "output_type": "display_data"
    },
    {
     "data": {
      "text/html": [
       "Find logs at: <code>.\\wandb\\run-20250320_091212-ahkrr2ds\\logs</code>"
      ],
      "text/plain": [
       "<IPython.core.display.HTML object>"
      ]
     },
     "metadata": {},
     "output_type": "display_data"
    },
    {
     "data": {
      "text/html": [
       "Tracking run with wandb version 0.19.7"
      ],
      "text/plain": [
       "<IPython.core.display.HTML object>"
      ]
     },
     "metadata": {},
     "output_type": "display_data"
    },
    {
     "data": {
      "text/html": [
       "Run data is saved locally in <code>d:\\Projects\\MSc_DE_GroupWork4\\Scripts\\wandb\\run-20250320_091237-qszyxb2y</code>"
      ],
      "text/plain": [
       "<IPython.core.display.HTML object>"
      ]
     },
     "metadata": {},
     "output_type": "display_data"
    },
    {
     "data": {
      "text/html": [
       "Syncing run <strong><a href='https://wandb.ai/yixuan228-imperial-college-london/DE_Groupwork%20G4/runs/qszyxb2y' target=\"_blank\">fresh-bird-4</a></strong> to <a href='https://wandb.ai/yixuan228-imperial-college-london/DE_Groupwork%20G4' target=\"_blank\">Weights & Biases</a> (<a href='https://wandb.me/developer-guide' target=\"_blank\">docs</a>)<br>"
      ],
      "text/plain": [
       "<IPython.core.display.HTML object>"
      ]
     },
     "metadata": {},
     "output_type": "display_data"
    },
    {
     "data": {
      "text/html": [
       " View project at <a href='https://wandb.ai/yixuan228-imperial-college-london/DE_Groupwork%20G4' target=\"_blank\">https://wandb.ai/yixuan228-imperial-college-london/DE_Groupwork%20G4</a>"
      ],
      "text/plain": [
       "<IPython.core.display.HTML object>"
      ]
     },
     "metadata": {},
     "output_type": "display_data"
    },
    {
     "data": {
      "text/html": [
       " View run at <a href='https://wandb.ai/yixuan228-imperial-college-london/DE_Groupwork%20G4/runs/qszyxb2y' target=\"_blank\">https://wandb.ai/yixuan228-imperial-college-london/DE_Groupwork%20G4/runs/qszyxb2y</a>"
      ],
      "text/plain": [
       "<IPython.core.display.HTML object>"
      ]
     },
     "metadata": {},
     "output_type": "display_data"
    },
    {
     "name": "stdout",
     "output_type": "stream",
     "text": [
      "Epoch 001 | Train Loss: 5099.9332 | Val Loss: 417.4772\n",
      "Epoch 002 | Train Loss: 245.7234 | Val Loss: 310.0649\n",
      "Epoch 003 | Train Loss: 159.3754 | Val Loss: 136.9104\n",
      "Epoch 004 | Train Loss: 74.1295 | Val Loss: 64.3673\n",
      "Epoch 005 | Train Loss: 55.9809 | Val Loss: 63.0909\n",
      "Epoch 006 | Train Loss: 31.1754 | Val Loss: 25.7921\n",
      "Epoch 007 | Train Loss: 44.9315 | Val Loss: 131.1459\n",
      "Epoch 008 | Train Loss: 34.7636 | Val Loss: 26.0216\n",
      "Epoch 009 | Train Loss: 27.9119 | Val Loss: 23.5582\n",
      "Epoch 010 | Train Loss: 26.5405 | Val Loss: 45.4283\n",
      "Epoch 011 | Train Loss: 82.7113 | Val Loss: 227.5278\n",
      "Epoch 012 | Train Loss: 83.8171 | Val Loss: 391.9054\n",
      "Epoch 013 | Train Loss: 80.1995 | Val Loss: 161.0709\n",
      "Epoch 014 | Train Loss: 123.5877 | Val Loss: 160.2784\n",
      "Early stopping triggered at epoch 14\n"
     ]
    },
    {
     "data": {
      "text/html": [],
      "text/plain": [
       "<IPython.core.display.HTML object>"
      ]
     },
     "metadata": {},
     "output_type": "display_data"
    },
    {
     "data": {
      "text/html": [
       "<br>    <style><br>        .wandb-row {<br>            display: flex;<br>            flex-direction: row;<br>            flex-wrap: wrap;<br>            justify-content: flex-start;<br>            width: 100%;<br>        }<br>        .wandb-col {<br>            display: flex;<br>            flex-direction: column;<br>            flex-basis: 100%;<br>            flex: 1;<br>            padding: 10px;<br>        }<br>    </style><br><div class=\"wandb-row\"><div class=\"wandb-col\"><h3>Run history:</h3><br/><table class=\"wandb\"><tr><td>epoch</td><td>▁▂▂▃▃▄▄▅▅▆▆▇▇█</td></tr><tr><td>train_loss</td><td>█▁▁▁▁▁▁▁▁▁▁▁▁▁</td></tr><tr><td>val_loss</td><td>█▆▃▂▂▁▃▁▁▁▅█▃▃</td></tr></table><br/></div><div class=\"wandb-col\"><h3>Run summary:</h3><br/><table class=\"wandb\"><tr><td>epoch</td><td>14</td></tr><tr><td>train_loss</td><td>123.58768</td></tr><tr><td>val_loss</td><td>160.27842</td></tr></table><br/></div></div>"
      ],
      "text/plain": [
       "<IPython.core.display.HTML object>"
      ]
     },
     "metadata": {},
     "output_type": "display_data"
    },
    {
     "data": {
      "text/html": [
       " View run <strong style=\"color:#cdcd00\">fresh-bird-4</strong> at: <a href='https://wandb.ai/yixuan228-imperial-college-london/DE_Groupwork%20G4/runs/qszyxb2y' target=\"_blank\">https://wandb.ai/yixuan228-imperial-college-london/DE_Groupwork%20G4/runs/qszyxb2y</a><br> View project at: <a href='https://wandb.ai/yixuan228-imperial-college-london/DE_Groupwork%20G4' target=\"_blank\">https://wandb.ai/yixuan228-imperial-college-london/DE_Groupwork%20G4</a><br>Synced 5 W&B file(s), 0 media file(s), 0 artifact file(s) and 0 other file(s)"
      ],
      "text/plain": [
       "<IPython.core.display.HTML object>"
      ]
     },
     "metadata": {},
     "output_type": "display_data"
    },
    {
     "data": {
      "text/html": [
       "Find logs at: <code>.\\wandb\\run-20250320_091237-qszyxb2y\\logs</code>"
      ],
      "text/plain": [
       "<IPython.core.display.HTML object>"
      ]
     },
     "metadata": {},
     "output_type": "display_data"
    },
    {
     "data": {
      "text/html": [
       "Tracking run with wandb version 0.19.7"
      ],
      "text/plain": [
       "<IPython.core.display.HTML object>"
      ]
     },
     "metadata": {},
     "output_type": "display_data"
    },
    {
     "data": {
      "text/html": [
       "Run data is saved locally in <code>d:\\Projects\\MSc_DE_GroupWork4\\Scripts\\wandb\\run-20250320_091242-hysfy7q1</code>"
      ],
      "text/plain": [
       "<IPython.core.display.HTML object>"
      ]
     },
     "metadata": {},
     "output_type": "display_data"
    },
    {
     "data": {
      "text/html": [
       "Syncing run <strong><a href='https://wandb.ai/yixuan228-imperial-college-london/DE_Groupwork%20G4/runs/hysfy7q1' target=\"_blank\">happy-breeze-5</a></strong> to <a href='https://wandb.ai/yixuan228-imperial-college-london/DE_Groupwork%20G4' target=\"_blank\">Weights & Biases</a> (<a href='https://wandb.me/developer-guide' target=\"_blank\">docs</a>)<br>"
      ],
      "text/plain": [
       "<IPython.core.display.HTML object>"
      ]
     },
     "metadata": {},
     "output_type": "display_data"
    },
    {
     "data": {
      "text/html": [
       " View project at <a href='https://wandb.ai/yixuan228-imperial-college-london/DE_Groupwork%20G4' target=\"_blank\">https://wandb.ai/yixuan228-imperial-college-london/DE_Groupwork%20G4</a>"
      ],
      "text/plain": [
       "<IPython.core.display.HTML object>"
      ]
     },
     "metadata": {},
     "output_type": "display_data"
    },
    {
     "data": {
      "text/html": [
       " View run at <a href='https://wandb.ai/yixuan228-imperial-college-london/DE_Groupwork%20G4/runs/hysfy7q1' target=\"_blank\">https://wandb.ai/yixuan228-imperial-college-london/DE_Groupwork%20G4/runs/hysfy7q1</a>"
      ],
      "text/plain": [
       "<IPython.core.display.HTML object>"
      ]
     },
     "metadata": {},
     "output_type": "display_data"
    },
    {
     "name": "stdout",
     "output_type": "stream",
     "text": [
      "Epoch 001 | Train Loss: 18149.8210 | Val Loss: 804.0435\n",
      "Epoch 002 | Train Loss: 552.4987 | Val Loss: 444.9446\n",
      "Epoch 003 | Train Loss: 341.4959 | Val Loss: 317.2649\n",
      "Epoch 004 | Train Loss: 242.1503 | Val Loss: 224.0320\n",
      "Epoch 005 | Train Loss: 182.2580 | Val Loss: 169.2749\n",
      "Epoch 006 | Train Loss: 134.5874 | Val Loss: 126.4938\n",
      "Epoch 007 | Train Loss: 98.8484 | Val Loss: 83.2489\n",
      "Epoch 008 | Train Loss: 64.8457 | Val Loss: 56.8177\n",
      "Epoch 009 | Train Loss: 48.6123 | Val Loss: 42.7301\n",
      "Epoch 010 | Train Loss: 35.1056 | Val Loss: 30.3605\n",
      "Epoch 011 | Train Loss: 29.4985 | Val Loss: 33.0009\n",
      "Epoch 012 | Train Loss: 27.2567 | Val Loss: 21.9548\n",
      "Epoch 013 | Train Loss: 21.6909 | Val Loss: 19.9651\n",
      "Epoch 014 | Train Loss: 19.5781 | Val Loss: 17.9410\n",
      "Epoch 015 | Train Loss: 17.7037 | Val Loss: 21.7990\n",
      "Epoch 016 | Train Loss: 18.5354 | Val Loss: 18.4289\n",
      "Epoch 017 | Train Loss: 16.9022 | Val Loss: 14.2847\n",
      "Epoch 018 | Train Loss: 16.5368 | Val Loss: 13.3478\n",
      "Epoch 019 | Train Loss: 15.0018 | Val Loss: 21.4195\n",
      "Epoch 020 | Train Loss: 15.0084 | Val Loss: 27.1423\n",
      "Epoch 021 | Train Loss: 19.0090 | Val Loss: 16.7138\n",
      "Epoch 022 | Train Loss: 14.7362 | Val Loss: 26.3859\n",
      "Epoch 023 | Train Loss: 16.5712 | Val Loss: 24.8837\n",
      "Early stopping triggered at epoch 23\n"
     ]
    },
    {
     "data": {
      "text/html": [],
      "text/plain": [
       "<IPython.core.display.HTML object>"
      ]
     },
     "metadata": {},
     "output_type": "display_data"
    },
    {
     "data": {
      "text/html": [
       "<br>    <style><br>        .wandb-row {<br>            display: flex;<br>            flex-direction: row;<br>            flex-wrap: wrap;<br>            justify-content: flex-start;<br>            width: 100%;<br>        }<br>        .wandb-col {<br>            display: flex;<br>            flex-direction: column;<br>            flex-basis: 100%;<br>            flex: 1;<br>            padding: 10px;<br>        }<br>    </style><br><div class=\"wandb-row\"><div class=\"wandb-col\"><h3>Run history:</h3><br/><table class=\"wandb\"><tr><td>epoch</td><td>▁▁▂▂▂▃▃▃▄▄▄▅▅▅▅▆▆▆▇▇▇██</td></tr><tr><td>train_loss</td><td>█▁▁▁▁▁▁▁▁▁▁▁▁▁▁▁▁▁▁▁▁▁▁</td></tr><tr><td>val_loss</td><td>█▅▄▃▂▂▂▁▁▁▁▁▁▁▁▁▁▁▁▁▁▁▁</td></tr></table><br/></div><div class=\"wandb-col\"><h3>Run summary:</h3><br/><table class=\"wandb\"><tr><td>epoch</td><td>23</td></tr><tr><td>train_loss</td><td>16.57125</td></tr><tr><td>val_loss</td><td>24.88373</td></tr></table><br/></div></div>"
      ],
      "text/plain": [
       "<IPython.core.display.HTML object>"
      ]
     },
     "metadata": {},
     "output_type": "display_data"
    },
    {
     "data": {
      "text/html": [
       " View run <strong style=\"color:#cdcd00\">happy-breeze-5</strong> at: <a href='https://wandb.ai/yixuan228-imperial-college-london/DE_Groupwork%20G4/runs/hysfy7q1' target=\"_blank\">https://wandb.ai/yixuan228-imperial-college-london/DE_Groupwork%20G4/runs/hysfy7q1</a><br> View project at: <a href='https://wandb.ai/yixuan228-imperial-college-london/DE_Groupwork%20G4' target=\"_blank\">https://wandb.ai/yixuan228-imperial-college-london/DE_Groupwork%20G4</a><br>Synced 5 W&B file(s), 0 media file(s), 0 artifact file(s) and 0 other file(s)"
      ],
      "text/plain": [
       "<IPython.core.display.HTML object>"
      ]
     },
     "metadata": {},
     "output_type": "display_data"
    },
    {
     "data": {
      "text/html": [
       "Find logs at: <code>.\\wandb\\run-20250320_091242-hysfy7q1\\logs</code>"
      ],
      "text/plain": [
       "<IPython.core.display.HTML object>"
      ]
     },
     "metadata": {},
     "output_type": "display_data"
    },
    {
     "data": {
      "text/html": [
       "Tracking run with wandb version 0.19.7"
      ],
      "text/plain": [
       "<IPython.core.display.HTML object>"
      ]
     },
     "metadata": {},
     "output_type": "display_data"
    },
    {
     "data": {
      "text/html": [
       "Run data is saved locally in <code>d:\\Projects\\MSc_DE_GroupWork4\\Scripts\\wandb\\run-20250320_091249-3dbydd0k</code>"
      ],
      "text/plain": [
       "<IPython.core.display.HTML object>"
      ]
     },
     "metadata": {},
     "output_type": "display_data"
    },
    {
     "data": {
      "text/html": [
       "Syncing run <strong><a href='https://wandb.ai/yixuan228-imperial-college-london/DE_Groupwork%20G4/runs/3dbydd0k' target=\"_blank\">neat-wave-6</a></strong> to <a href='https://wandb.ai/yixuan228-imperial-college-london/DE_Groupwork%20G4' target=\"_blank\">Weights & Biases</a> (<a href='https://wandb.me/developer-guide' target=\"_blank\">docs</a>)<br>"
      ],
      "text/plain": [
       "<IPython.core.display.HTML object>"
      ]
     },
     "metadata": {},
     "output_type": "display_data"
    },
    {
     "data": {
      "text/html": [
       " View project at <a href='https://wandb.ai/yixuan228-imperial-college-london/DE_Groupwork%20G4' target=\"_blank\">https://wandb.ai/yixuan228-imperial-college-london/DE_Groupwork%20G4</a>"
      ],
      "text/plain": [
       "<IPython.core.display.HTML object>"
      ]
     },
     "metadata": {},
     "output_type": "display_data"
    },
    {
     "data": {
      "text/html": [
       " View run at <a href='https://wandb.ai/yixuan228-imperial-college-london/DE_Groupwork%20G4/runs/3dbydd0k' target=\"_blank\">https://wandb.ai/yixuan228-imperial-college-london/DE_Groupwork%20G4/runs/3dbydd0k</a>"
      ],
      "text/plain": [
       "<IPython.core.display.HTML object>"
      ]
     },
     "metadata": {},
     "output_type": "display_data"
    },
    {
     "name": "stdout",
     "output_type": "stream",
     "text": [
      "Epoch 001 | Train Loss: 65041.7668 | Val Loss: 56896.2493\n",
      "Epoch 002 | Train Loss: 26428.3938 | Val Loss: 4294.6462\n",
      "Epoch 003 | Train Loss: 2658.5773 | Val Loss: 1810.6785\n",
      "Epoch 004 | Train Loss: 1335.8724 | Val Loss: 1127.0448\n",
      "Epoch 005 | Train Loss: 926.4436 | Val Loss: 883.8576\n",
      "Epoch 006 | Train Loss: 747.5397 | Val Loss: 733.0386\n",
      "Epoch 007 | Train Loss: 629.1078 | Val Loss: 629.1309\n",
      "Epoch 008 | Train Loss: 540.2475 | Val Loss: 551.8532\n",
      "Epoch 009 | Train Loss: 465.1961 | Val Loss: 483.1121\n",
      "Epoch 010 | Train Loss: 405.0144 | Val Loss: 428.9437\n",
      "Epoch 011 | Train Loss: 354.4956 | Val Loss: 383.2632\n",
      "Epoch 012 | Train Loss: 312.6279 | Val Loss: 342.7978\n",
      "Epoch 013 | Train Loss: 278.3395 | Val Loss: 304.6086\n",
      "Epoch 014 | Train Loss: 249.0451 | Val Loss: 274.1144\n",
      "Epoch 015 | Train Loss: 221.4235 | Val Loss: 252.4464\n",
      "Epoch 016 | Train Loss: 199.0024 | Val Loss: 220.7181\n",
      "Epoch 017 | Train Loss: 178.1425 | Val Loss: 196.4282\n",
      "Epoch 018 | Train Loss: 159.6451 | Val Loss: 175.3473\n",
      "Epoch 019 | Train Loss: 142.5120 | Val Loss: 159.8676\n",
      "Epoch 020 | Train Loss: 127.6250 | Val Loss: 141.3813\n",
      "Epoch 021 | Train Loss: 114.3357 | Val Loss: 131.9982\n",
      "Epoch 022 | Train Loss: 103.9923 | Val Loss: 116.1277\n",
      "Epoch 023 | Train Loss: 92.7940 | Val Loss: 101.5944\n",
      "Epoch 024 | Train Loss: 82.8913 | Val Loss: 91.1664\n",
      "Epoch 025 | Train Loss: 75.3339 | Val Loss: 83.3571\n",
      "Epoch 026 | Train Loss: 69.0026 | Val Loss: 76.1137\n",
      "Epoch 027 | Train Loss: 62.8121 | Val Loss: 69.7006\n",
      "Epoch 028 | Train Loss: 58.0787 | Val Loss: 63.8191\n",
      "Epoch 029 | Train Loss: 53.8424 | Val Loss: 58.6332\n",
      "Epoch 030 | Train Loss: 49.8814 | Val Loss: 56.2065\n",
      "Epoch 031 | Train Loss: 46.9609 | Val Loss: 51.0481\n",
      "Epoch 032 | Train Loss: 44.4243 | Val Loss: 47.7442\n",
      "Epoch 033 | Train Loss: 41.4358 | Val Loss: 45.0408\n",
      "Epoch 034 | Train Loss: 38.5889 | Val Loss: 43.4971\n",
      "Epoch 035 | Train Loss: 36.3233 | Val Loss: 40.3307\n",
      "Epoch 036 | Train Loss: 34.1568 | Val Loss: 37.0325\n",
      "Epoch 037 | Train Loss: 31.7746 | Val Loss: 34.2386\n",
      "Epoch 038 | Train Loss: 30.1966 | Val Loss: 31.9900\n",
      "Epoch 039 | Train Loss: 28.9233 | Val Loss: 30.8031\n",
      "Epoch 040 | Train Loss: 27.1203 | Val Loss: 27.4229\n",
      "Epoch 041 | Train Loss: 26.0232 | Val Loss: 31.3384\n",
      "Epoch 042 | Train Loss: 25.4445 | Val Loss: 24.7775\n",
      "Epoch 043 | Train Loss: 23.6100 | Val Loss: 23.0361\n",
      "Epoch 044 | Train Loss: 22.0775 | Val Loss: 21.9071\n",
      "Epoch 045 | Train Loss: 21.5345 | Val Loss: 20.8321\n",
      "Epoch 046 | Train Loss: 20.1250 | Val Loss: 19.5535\n",
      "Epoch 047 | Train Loss: 19.0339 | Val Loss: 18.8352\n",
      "Epoch 048 | Train Loss: 18.2736 | Val Loss: 18.1722\n",
      "Epoch 049 | Train Loss: 18.0885 | Val Loss: 18.0875\n",
      "Epoch 050 | Train Loss: 17.1851 | Val Loss: 17.0956\n",
      "Epoch 051 | Train Loss: 16.8222 | Val Loss: 16.9787\n",
      "Epoch 052 | Train Loss: 16.0506 | Val Loss: 16.0862\n",
      "Epoch 053 | Train Loss: 15.8583 | Val Loss: 16.0417\n",
      "Epoch 054 | Train Loss: 15.2635 | Val Loss: 14.9454\n",
      "Epoch 055 | Train Loss: 14.7917 | Val Loss: 15.4568\n",
      "Epoch 056 | Train Loss: 14.4852 | Val Loss: 16.3397\n",
      "Epoch 057 | Train Loss: 14.5853 | Val Loss: 14.9058\n",
      "Epoch 058 | Train Loss: 13.8668 | Val Loss: 14.2187\n",
      "Epoch 059 | Train Loss: 13.5284 | Val Loss: 13.6028\n",
      "Epoch 060 | Train Loss: 13.2751 | Val Loss: 14.7482\n",
      "Epoch 061 | Train Loss: 13.3129 | Val Loss: 13.7945\n",
      "Epoch 062 | Train Loss: 12.8896 | Val Loss: 13.3175\n",
      "Epoch 063 | Train Loss: 12.7685 | Val Loss: 13.3181\n",
      "Epoch 064 | Train Loss: 12.4222 | Val Loss: 13.9766\n",
      "Epoch 065 | Train Loss: 12.3284 | Val Loss: 12.4049\n",
      "Epoch 066 | Train Loss: 12.1241 | Val Loss: 13.2736\n",
      "Epoch 067 | Train Loss: 12.2410 | Val Loss: 13.2271\n",
      "Epoch 068 | Train Loss: 12.3490 | Val Loss: 12.3726\n",
      "Epoch 069 | Train Loss: 11.6747 | Val Loss: 12.7450\n",
      "Epoch 070 | Train Loss: 11.9460 | Val Loss: 13.1490\n",
      "Epoch 071 | Train Loss: 11.4600 | Val Loss: 14.3003\n",
      "Epoch 072 | Train Loss: 11.9426 | Val Loss: 11.4436\n",
      "Epoch 073 | Train Loss: 11.7400 | Val Loss: 12.7956\n",
      "Epoch 074 | Train Loss: 11.9225 | Val Loss: 16.0644\n",
      "Epoch 075 | Train Loss: 11.2391 | Val Loss: 11.9387\n",
      "Epoch 076 | Train Loss: 10.9692 | Val Loss: 11.6065\n",
      "Epoch 077 | Train Loss: 11.0634 | Val Loss: 13.3673\n",
      "Early stopping triggered at epoch 77\n"
     ]
    },
    {
     "data": {
      "text/html": [],
      "text/plain": [
       "<IPython.core.display.HTML object>"
      ]
     },
     "metadata": {},
     "output_type": "display_data"
    },
    {
     "data": {
      "text/html": [
       "<br>    <style><br>        .wandb-row {<br>            display: flex;<br>            flex-direction: row;<br>            flex-wrap: wrap;<br>            justify-content: flex-start;<br>            width: 100%;<br>        }<br>        .wandb-col {<br>            display: flex;<br>            flex-direction: column;<br>            flex-basis: 100%;<br>            flex: 1;<br>            padding: 10px;<br>        }<br>    </style><br><div class=\"wandb-row\"><div class=\"wandb-col\"><h3>Run history:</h3><br/><table class=\"wandb\"><tr><td>epoch</td><td>▁▁▁▁▁▂▂▂▃▃▃▃▃▄▄▄▄▄▄▅▅▅▅▅▅▆▆▆▆▇▇▇▇▇▇▇▇███</td></tr><tr><td>train_loss</td><td>█▅▃▃▂▂▁▁▁▁▁▁▁▁▁▁▁▁▁▁▁▁▁▁▁▁▁▁▁▁▁▁▁▁▁▁▁▁▁▁</td></tr><tr><td>val_loss</td><td>█▄▃▃▃▂▂▂▂▂▁▁▁▁▁▁▁▁▁▁▁▁▁▁▁▁▁▁▁▁▁▁▁▁▁▁▁▁▁▁</td></tr></table><br/></div><div class=\"wandb-col\"><h3>Run summary:</h3><br/><table class=\"wandb\"><tr><td>epoch</td><td>77</td></tr><tr><td>train_loss</td><td>11.0634</td></tr><tr><td>val_loss</td><td>13.36732</td></tr></table><br/></div></div>"
      ],
      "text/plain": [
       "<IPython.core.display.HTML object>"
      ]
     },
     "metadata": {},
     "output_type": "display_data"
    },
    {
     "data": {
      "text/html": [
       " View run <strong style=\"color:#cdcd00\">neat-wave-6</strong> at: <a href='https://wandb.ai/yixuan228-imperial-college-london/DE_Groupwork%20G4/runs/3dbydd0k' target=\"_blank\">https://wandb.ai/yixuan228-imperial-college-london/DE_Groupwork%20G4/runs/3dbydd0k</a><br> View project at: <a href='https://wandb.ai/yixuan228-imperial-college-london/DE_Groupwork%20G4' target=\"_blank\">https://wandb.ai/yixuan228-imperial-college-london/DE_Groupwork%20G4</a><br>Synced 5 W&B file(s), 0 media file(s), 0 artifact file(s) and 0 other file(s)"
      ],
      "text/plain": [
       "<IPython.core.display.HTML object>"
      ]
     },
     "metadata": {},
     "output_type": "display_data"
    },
    {
     "data": {
      "text/html": [
       "Find logs at: <code>.\\wandb\\run-20250320_091249-3dbydd0k\\logs</code>"
      ],
      "text/plain": [
       "<IPython.core.display.HTML object>"
      ]
     },
     "metadata": {},
     "output_type": "display_data"
    },
    {
     "data": {
      "text/html": [
       "Tracking run with wandb version 0.19.7"
      ],
      "text/plain": [
       "<IPython.core.display.HTML object>"
      ]
     },
     "metadata": {},
     "output_type": "display_data"
    },
    {
     "data": {
      "text/html": [
       "Run data is saved locally in <code>d:\\Projects\\MSc_DE_GroupWork4\\Scripts\\wandb\\run-20250320_091306-4xsk1rl9</code>"
      ],
      "text/plain": [
       "<IPython.core.display.HTML object>"
      ]
     },
     "metadata": {},
     "output_type": "display_data"
    },
    {
     "data": {
      "text/html": [
       "Syncing run <strong><a href='https://wandb.ai/yixuan228-imperial-college-london/DE_Groupwork%20G4/runs/4xsk1rl9' target=\"_blank\">gentle-sky-7</a></strong> to <a href='https://wandb.ai/yixuan228-imperial-college-london/DE_Groupwork%20G4' target=\"_blank\">Weights & Biases</a> (<a href='https://wandb.me/developer-guide' target=\"_blank\">docs</a>)<br>"
      ],
      "text/plain": [
       "<IPython.core.display.HTML object>"
      ]
     },
     "metadata": {},
     "output_type": "display_data"
    },
    {
     "data": {
      "text/html": [
       " View project at <a href='https://wandb.ai/yixuan228-imperial-college-london/DE_Groupwork%20G4' target=\"_blank\">https://wandb.ai/yixuan228-imperial-college-london/DE_Groupwork%20G4</a>"
      ],
      "text/plain": [
       "<IPython.core.display.HTML object>"
      ]
     },
     "metadata": {},
     "output_type": "display_data"
    },
    {
     "data": {
      "text/html": [
       " View run at <a href='https://wandb.ai/yixuan228-imperial-college-london/DE_Groupwork%20G4/runs/4xsk1rl9' target=\"_blank\">https://wandb.ai/yixuan228-imperial-college-london/DE_Groupwork%20G4/runs/4xsk1rl9</a>"
      ],
      "text/plain": [
       "<IPython.core.display.HTML object>"
      ]
     },
     "metadata": {},
     "output_type": "display_data"
    },
    {
     "name": "stdout",
     "output_type": "stream",
     "text": [
      "Epoch 001 | Train Loss: 4150.7476 | Val Loss: 423.9538\n",
      "Epoch 002 | Train Loss: 225.5042 | Val Loss: 145.6901\n",
      "Epoch 003 | Train Loss: 96.2538 | Val Loss: 117.2358\n",
      "Epoch 004 | Train Loss: 90.7955 | Val Loss: 470.0978\n",
      "Epoch 005 | Train Loss: 158.6285 | Val Loss: 35.6425\n",
      "Epoch 006 | Train Loss: 32.2538 | Val Loss: 433.4558\n",
      "Epoch 007 | Train Loss: 109.2767 | Val Loss: 55.1308\n",
      "Epoch 008 | Train Loss: 36.0930 | Val Loss: 16.1150\n",
      "Epoch 009 | Train Loss: 115.9659 | Val Loss: 93.9150\n",
      "Epoch 010 | Train Loss: 3320.7165 | Val Loss: 666.1261\n",
      "Epoch 011 | Train Loss: 216.2241 | Val Loss: 114.6888\n",
      "Epoch 012 | Train Loss: 81.4851 | Val Loss: 54.6069\n",
      "Epoch 013 | Train Loss: 52.3151 | Val Loss: 69.9829\n",
      "Early stopping triggered at epoch 13\n"
     ]
    },
    {
     "data": {
      "text/html": [],
      "text/plain": [
       "<IPython.core.display.HTML object>"
      ]
     },
     "metadata": {},
     "output_type": "display_data"
    },
    {
     "data": {
      "text/html": [
       "<br>    <style><br>        .wandb-row {<br>            display: flex;<br>            flex-direction: row;<br>            flex-wrap: wrap;<br>            justify-content: flex-start;<br>            width: 100%;<br>        }<br>        .wandb-col {<br>            display: flex;<br>            flex-direction: column;<br>            flex-basis: 100%;<br>            flex: 1;<br>            padding: 10px;<br>        }<br>    </style><br><div class=\"wandb-row\"><div class=\"wandb-col\"><h3>Run history:</h3><br/><table class=\"wandb\"><tr><td>epoch</td><td>▁▂▂▃▃▄▅▅▆▆▇▇█</td></tr><tr><td>train_loss</td><td>█▁▁▁▁▁▁▁▁▇▁▁▁</td></tr><tr><td>val_loss</td><td>▅▂▂▆▁▅▁▁▂█▂▁▂</td></tr></table><br/></div><div class=\"wandb-col\"><h3>Run summary:</h3><br/><table class=\"wandb\"><tr><td>epoch</td><td>13</td></tr><tr><td>train_loss</td><td>52.31512</td></tr><tr><td>val_loss</td><td>69.9829</td></tr></table><br/></div></div>"
      ],
      "text/plain": [
       "<IPython.core.display.HTML object>"
      ]
     },
     "metadata": {},
     "output_type": "display_data"
    },
    {
     "data": {
      "text/html": [
       " View run <strong style=\"color:#cdcd00\">gentle-sky-7</strong> at: <a href='https://wandb.ai/yixuan228-imperial-college-london/DE_Groupwork%20G4/runs/4xsk1rl9' target=\"_blank\">https://wandb.ai/yixuan228-imperial-college-london/DE_Groupwork%20G4/runs/4xsk1rl9</a><br> View project at: <a href='https://wandb.ai/yixuan228-imperial-college-london/DE_Groupwork%20G4' target=\"_blank\">https://wandb.ai/yixuan228-imperial-college-london/DE_Groupwork%20G4</a><br>Synced 5 W&B file(s), 0 media file(s), 0 artifact file(s) and 0 other file(s)"
      ],
      "text/plain": [
       "<IPython.core.display.HTML object>"
      ]
     },
     "metadata": {},
     "output_type": "display_data"
    },
    {
     "data": {
      "text/html": [
       "Find logs at: <code>.\\wandb\\run-20250320_091306-4xsk1rl9\\logs</code>"
      ],
      "text/plain": [
       "<IPython.core.display.HTML object>"
      ]
     },
     "metadata": {},
     "output_type": "display_data"
    },
    {
     "data": {
      "text/html": [
       "Tracking run with wandb version 0.19.7"
      ],
      "text/plain": [
       "<IPython.core.display.HTML object>"
      ]
     },
     "metadata": {},
     "output_type": "display_data"
    },
    {
     "data": {
      "text/html": [
       "Run data is saved locally in <code>d:\\Projects\\MSc_DE_GroupWork4\\Scripts\\wandb\\run-20250320_091311-4r22rj5e</code>"
      ],
      "text/plain": [
       "<IPython.core.display.HTML object>"
      ]
     },
     "metadata": {},
     "output_type": "display_data"
    },
    {
     "data": {
      "text/html": [
       "Syncing run <strong><a href='https://wandb.ai/yixuan228-imperial-college-london/DE_Groupwork%20G4/runs/4r22rj5e' target=\"_blank\">iconic-waterfall-8</a></strong> to <a href='https://wandb.ai/yixuan228-imperial-college-london/DE_Groupwork%20G4' target=\"_blank\">Weights & Biases</a> (<a href='https://wandb.me/developer-guide' target=\"_blank\">docs</a>)<br>"
      ],
      "text/plain": [
       "<IPython.core.display.HTML object>"
      ]
     },
     "metadata": {},
     "output_type": "display_data"
    },
    {
     "data": {
      "text/html": [
       " View project at <a href='https://wandb.ai/yixuan228-imperial-college-london/DE_Groupwork%20G4' target=\"_blank\">https://wandb.ai/yixuan228-imperial-college-london/DE_Groupwork%20G4</a>"
      ],
      "text/plain": [
       "<IPython.core.display.HTML object>"
      ]
     },
     "metadata": {},
     "output_type": "display_data"
    },
    {
     "data": {
      "text/html": [
       " View run at <a href='https://wandb.ai/yixuan228-imperial-college-london/DE_Groupwork%20G4/runs/4r22rj5e' target=\"_blank\">https://wandb.ai/yixuan228-imperial-college-london/DE_Groupwork%20G4/runs/4r22rj5e</a>"
      ],
      "text/plain": [
       "<IPython.core.display.HTML object>"
      ]
     },
     "metadata": {},
     "output_type": "display_data"
    },
    {
     "name": "stdout",
     "output_type": "stream",
     "text": [
      "Epoch 001 | Train Loss: 14568.2336 | Val Loss: 749.4435\n",
      "Epoch 002 | Train Loss: 513.4824 | Val Loss: 387.8628\n",
      "Epoch 003 | Train Loss: 286.6382 | Val Loss: 275.4873\n",
      "Epoch 004 | Train Loss: 209.3208 | Val Loss: 189.8021\n",
      "Epoch 005 | Train Loss: 151.8311 | Val Loss: 156.2719\n",
      "Epoch 006 | Train Loss: 116.3945 | Val Loss: 102.0252\n",
      "Epoch 007 | Train Loss: 76.2231 | Val Loss: 73.6797\n",
      "Epoch 008 | Train Loss: 51.0695 | Val Loss: 54.4226\n",
      "Epoch 009 | Train Loss: 35.4196 | Val Loss: 32.8411\n",
      "Epoch 010 | Train Loss: 27.7807 | Val Loss: 23.1437\n",
      "Epoch 011 | Train Loss: 25.1354 | Val Loss: 34.5469\n",
      "Epoch 012 | Train Loss: 20.8793 | Val Loss: 16.8985\n",
      "Epoch 013 | Train Loss: 18.2827 | Val Loss: 16.4794\n",
      "Epoch 014 | Train Loss: 16.0925 | Val Loss: 19.0434\n",
      "Epoch 015 | Train Loss: 15.5031 | Val Loss: 14.2710\n",
      "Epoch 016 | Train Loss: 15.4355 | Val Loss: 14.8407\n",
      "Epoch 017 | Train Loss: 14.9453 | Val Loss: 14.1000\n",
      "Epoch 018 | Train Loss: 15.7153 | Val Loss: 23.6058\n",
      "Epoch 019 | Train Loss: 16.0551 | Val Loss: 15.4658\n",
      "Epoch 020 | Train Loss: 14.0053 | Val Loss: 13.4323\n",
      "Epoch 021 | Train Loss: 13.5288 | Val Loss: 11.6766\n",
      "Epoch 022 | Train Loss: 14.2553 | Val Loss: 12.2212\n",
      "Epoch 023 | Train Loss: 15.0788 | Val Loss: 13.3192\n",
      "Epoch 024 | Train Loss: 14.3798 | Val Loss: 18.6565\n",
      "Epoch 025 | Train Loss: 14.7594 | Val Loss: 14.0328\n",
      "Epoch 026 | Train Loss: 12.2444 | Val Loss: 11.7695\n",
      "Early stopping triggered at epoch 26\n"
     ]
    },
    {
     "data": {
      "text/html": [],
      "text/plain": [
       "<IPython.core.display.HTML object>"
      ]
     },
     "metadata": {},
     "output_type": "display_data"
    },
    {
     "data": {
      "text/html": [
       "<br>    <style><br>        .wandb-row {<br>            display: flex;<br>            flex-direction: row;<br>            flex-wrap: wrap;<br>            justify-content: flex-start;<br>            width: 100%;<br>        }<br>        .wandb-col {<br>            display: flex;<br>            flex-direction: column;<br>            flex-basis: 100%;<br>            flex: 1;<br>            padding: 10px;<br>        }<br>    </style><br><div class=\"wandb-row\"><div class=\"wandb-col\"><h3>Run history:</h3><br/><table class=\"wandb\"><tr><td>epoch</td><td>▁▁▂▂▂▂▃▃▃▄▄▄▄▅▅▅▅▆▆▆▇▇▇▇██</td></tr><tr><td>train_loss</td><td>█▁▁▁▁▁▁▁▁▁▁▁▁▁▁▁▁▁▁▁▁▁▁▁▁▁</td></tr><tr><td>val_loss</td><td>█▅▄▃▂▂▂▁▁▁▁▁▁▁▁▁▁▁▁▁▁▁▁▁▁▁</td></tr></table><br/></div><div class=\"wandb-col\"><h3>Run summary:</h3><br/><table class=\"wandb\"><tr><td>epoch</td><td>26</td></tr><tr><td>train_loss</td><td>12.24437</td></tr><tr><td>val_loss</td><td>11.76949</td></tr></table><br/></div></div>"
      ],
      "text/plain": [
       "<IPython.core.display.HTML object>"
      ]
     },
     "metadata": {},
     "output_type": "display_data"
    },
    {
     "data": {
      "text/html": [
       " View run <strong style=\"color:#cdcd00\">iconic-waterfall-8</strong> at: <a href='https://wandb.ai/yixuan228-imperial-college-london/DE_Groupwork%20G4/runs/4r22rj5e' target=\"_blank\">https://wandb.ai/yixuan228-imperial-college-london/DE_Groupwork%20G4/runs/4r22rj5e</a><br> View project at: <a href='https://wandb.ai/yixuan228-imperial-college-london/DE_Groupwork%20G4' target=\"_blank\">https://wandb.ai/yixuan228-imperial-college-london/DE_Groupwork%20G4</a><br>Synced 5 W&B file(s), 0 media file(s), 0 artifact file(s) and 0 other file(s)"
      ],
      "text/plain": [
       "<IPython.core.display.HTML object>"
      ]
     },
     "metadata": {},
     "output_type": "display_data"
    },
    {
     "data": {
      "text/html": [
       "Find logs at: <code>.\\wandb\\run-20250320_091311-4r22rj5e\\logs</code>"
      ],
      "text/plain": [
       "<IPython.core.display.HTML object>"
      ]
     },
     "metadata": {},
     "output_type": "display_data"
    },
    {
     "data": {
      "text/html": [
       "Tracking run with wandb version 0.19.7"
      ],
      "text/plain": [
       "<IPython.core.display.HTML object>"
      ]
     },
     "metadata": {},
     "output_type": "display_data"
    },
    {
     "data": {
      "text/html": [
       "Run data is saved locally in <code>d:\\Projects\\MSc_DE_GroupWork4\\Scripts\\wandb\\run-20250320_091318-525oin8x</code>"
      ],
      "text/plain": [
       "<IPython.core.display.HTML object>"
      ]
     },
     "metadata": {},
     "output_type": "display_data"
    },
    {
     "data": {
      "text/html": [
       "Syncing run <strong><a href='https://wandb.ai/yixuan228-imperial-college-london/DE_Groupwork%20G4/runs/525oin8x' target=\"_blank\">icy-water-9</a></strong> to <a href='https://wandb.ai/yixuan228-imperial-college-london/DE_Groupwork%20G4' target=\"_blank\">Weights & Biases</a> (<a href='https://wandb.me/developer-guide' target=\"_blank\">docs</a>)<br>"
      ],
      "text/plain": [
       "<IPython.core.display.HTML object>"
      ]
     },
     "metadata": {},
     "output_type": "display_data"
    },
    {
     "data": {
      "text/html": [
       " View project at <a href='https://wandb.ai/yixuan228-imperial-college-london/DE_Groupwork%20G4' target=\"_blank\">https://wandb.ai/yixuan228-imperial-college-london/DE_Groupwork%20G4</a>"
      ],
      "text/plain": [
       "<IPython.core.display.HTML object>"
      ]
     },
     "metadata": {},
     "output_type": "display_data"
    },
    {
     "data": {
      "text/html": [
       " View run at <a href='https://wandb.ai/yixuan228-imperial-college-london/DE_Groupwork%20G4/runs/525oin8x' target=\"_blank\">https://wandb.ai/yixuan228-imperial-college-london/DE_Groupwork%20G4/runs/525oin8x</a>"
      ],
      "text/plain": [
       "<IPython.core.display.HTML object>"
      ]
     },
     "metadata": {},
     "output_type": "display_data"
    },
    {
     "name": "stdout",
     "output_type": "stream",
     "text": [
      "Epoch 001 | Train Loss: 63465.4923 | Val Loss: 43988.8035\n",
      "Epoch 002 | Train Loss: 10333.7793 | Val Loss: 2234.3794\n",
      "Epoch 003 | Train Loss: 1504.1220 | Val Loss: 1119.9754\n",
      "Epoch 004 | Train Loss: 888.9924 | Val Loss: 773.4976\n",
      "Epoch 005 | Train Loss: 658.7300 | Val Loss: 610.1914\n",
      "Epoch 006 | Train Loss: 521.2367 | Val Loss: 502.7043\n",
      "Epoch 007 | Train Loss: 430.0104 | Val Loss: 425.7953\n",
      "Epoch 008 | Train Loss: 363.1494 | Val Loss: 373.3463\n",
      "Epoch 009 | Train Loss: 316.5484 | Val Loss: 328.0149\n",
      "Epoch 010 | Train Loss: 280.0814 | Val Loss: 295.5734\n",
      "Epoch 011 | Train Loss: 251.9353 | Val Loss: 267.7888\n",
      "Epoch 012 | Train Loss: 230.0275 | Val Loss: 242.7524\n",
      "Epoch 013 | Train Loss: 209.5102 | Val Loss: 224.9370\n",
      "Epoch 014 | Train Loss: 192.5945 | Val Loss: 202.8320\n",
      "Epoch 015 | Train Loss: 175.3031 | Val Loss: 184.4434\n",
      "Epoch 016 | Train Loss: 161.0177 | Val Loss: 167.2969\n",
      "Epoch 017 | Train Loss: 149.2015 | Val Loss: 152.3935\n",
      "Epoch 018 | Train Loss: 135.2023 | Val Loss: 138.9132\n",
      "Epoch 019 | Train Loss: 122.5812 | Val Loss: 125.7444\n",
      "Epoch 020 | Train Loss: 112.5221 | Val Loss: 114.3171\n",
      "Epoch 021 | Train Loss: 100.9521 | Val Loss: 102.9098\n",
      "Epoch 022 | Train Loss: 91.6564 | Val Loss: 91.4944\n",
      "Epoch 023 | Train Loss: 82.5026 | Val Loss: 81.2251\n",
      "Epoch 024 | Train Loss: 72.9062 | Val Loss: 73.9214\n",
      "Epoch 025 | Train Loss: 64.6237 | Val Loss: 63.8001\n",
      "Epoch 026 | Train Loss: 58.1933 | Val Loss: 57.0428\n",
      "Epoch 027 | Train Loss: 52.1938 | Val Loss: 49.5493\n",
      "Epoch 028 | Train Loss: 44.4371 | Val Loss: 44.0079\n",
      "Epoch 029 | Train Loss: 39.6262 | Val Loss: 37.7075\n",
      "Epoch 030 | Train Loss: 35.6271 | Val Loss: 34.2014\n",
      "Epoch 031 | Train Loss: 32.0643 | Val Loss: 29.7915\n",
      "Epoch 032 | Train Loss: 27.7640 | Val Loss: 27.8440\n",
      "Epoch 033 | Train Loss: 25.6295 | Val Loss: 25.3431\n",
      "Epoch 034 | Train Loss: 23.8447 | Val Loss: 23.4074\n",
      "Epoch 035 | Train Loss: 21.5002 | Val Loss: 21.5322\n",
      "Epoch 036 | Train Loss: 20.0914 | Val Loss: 18.7295\n",
      "Epoch 037 | Train Loss: 18.9557 | Val Loss: 17.7520\n",
      "Epoch 038 | Train Loss: 18.0081 | Val Loss: 16.4767\n",
      "Epoch 039 | Train Loss: 17.1554 | Val Loss: 24.3184\n",
      "Epoch 040 | Train Loss: 19.2768 | Val Loss: 14.9419\n",
      "Epoch 041 | Train Loss: 16.0082 | Val Loss: 16.9825\n",
      "Epoch 042 | Train Loss: 15.0708 | Val Loss: 14.5438\n",
      "Epoch 043 | Train Loss: 15.3636 | Val Loss: 13.6161\n",
      "Epoch 044 | Train Loss: 14.0668 | Val Loss: 12.9971\n",
      "Epoch 045 | Train Loss: 14.0766 | Val Loss: 12.8150\n",
      "Epoch 046 | Train Loss: 13.2536 | Val Loss: 15.9602\n",
      "Epoch 047 | Train Loss: 13.9442 | Val Loss: 15.6046\n",
      "Epoch 048 | Train Loss: 13.2175 | Val Loss: 13.2372\n",
      "Epoch 049 | Train Loss: 12.7442 | Val Loss: 12.0378\n",
      "Epoch 050 | Train Loss: 12.8951 | Val Loss: 12.5625\n",
      "Epoch 051 | Train Loss: 13.2702 | Val Loss: 13.4973\n",
      "Epoch 052 | Train Loss: 12.3183 | Val Loss: 13.0404\n",
      "Epoch 053 | Train Loss: 12.8064 | Val Loss: 16.3531\n",
      "Epoch 054 | Train Loss: 12.2611 | Val Loss: 11.7793\n",
      "Epoch 055 | Train Loss: 11.5833 | Val Loss: 13.5420\n",
      "Epoch 056 | Train Loss: 11.4244 | Val Loss: 10.2999\n",
      "Epoch 057 | Train Loss: 10.9303 | Val Loss: 11.9053\n",
      "Epoch 058 | Train Loss: 11.2146 | Val Loss: 10.3016\n",
      "Epoch 059 | Train Loss: 11.1710 | Val Loss: 9.8785\n",
      "Epoch 060 | Train Loss: 10.8502 | Val Loss: 11.3657\n",
      "Epoch 061 | Train Loss: 10.8229 | Val Loss: 9.8368\n",
      "Epoch 062 | Train Loss: 10.6650 | Val Loss: 11.0542\n",
      "Epoch 063 | Train Loss: 11.0612 | Val Loss: 10.0225\n",
      "Epoch 064 | Train Loss: 10.0947 | Val Loss: 11.0536\n",
      "Epoch 065 | Train Loss: 10.6648 | Val Loss: 11.8631\n",
      "Epoch 066 | Train Loss: 9.9581 | Val Loss: 14.5330\n",
      "Early stopping triggered at epoch 66\n"
     ]
    },
    {
     "data": {
      "text/html": [],
      "text/plain": [
       "<IPython.core.display.HTML object>"
      ]
     },
     "metadata": {},
     "output_type": "display_data"
    },
    {
     "data": {
      "text/html": [
       "<br>    <style><br>        .wandb-row {<br>            display: flex;<br>            flex-direction: row;<br>            flex-wrap: wrap;<br>            justify-content: flex-start;<br>            width: 100%;<br>        }<br>        .wandb-col {<br>            display: flex;<br>            flex-direction: column;<br>            flex-basis: 100%;<br>            flex: 1;<br>            padding: 10px;<br>        }<br>    </style><br><div class=\"wandb-row\"><div class=\"wandb-col\"><h3>Run history:</h3><br/><table class=\"wandb\"><tr><td>epoch</td><td>▁▁▁▁▁▂▂▂▂▂▃▃▃▄▄▄▄▄▅▅▅▅▅▆▆▆▆▆▆▆▆▇▇▇▇▇████</td></tr><tr><td>train_loss</td><td>█▂▁▁▁▁▁▁▁▁▁▁▁▁▁▁▁▁▁▁▁▁▁▁▁▁▁▁▁▁▁▁▁▁▁▁▁▁▁▁</td></tr><tr><td>val_loss</td><td>█▁▁▁▁▁▁▁▁▁▁▁▁▁▁▁▁▁▁▁▁▁▁▁▁▁▁▁▁▁▁▁▁▁▁▁▁▁▁▁</td></tr></table><br/></div><div class=\"wandb-col\"><h3>Run summary:</h3><br/><table class=\"wandb\"><tr><td>epoch</td><td>66</td></tr><tr><td>train_loss</td><td>9.9581</td></tr><tr><td>val_loss</td><td>14.53296</td></tr></table><br/></div></div>"
      ],
      "text/plain": [
       "<IPython.core.display.HTML object>"
      ]
     },
     "metadata": {},
     "output_type": "display_data"
    },
    {
     "data": {
      "text/html": [
       " View run <strong style=\"color:#cdcd00\">icy-water-9</strong> at: <a href='https://wandb.ai/yixuan228-imperial-college-london/DE_Groupwork%20G4/runs/525oin8x' target=\"_blank\">https://wandb.ai/yixuan228-imperial-college-london/DE_Groupwork%20G4/runs/525oin8x</a><br> View project at: <a href='https://wandb.ai/yixuan228-imperial-college-london/DE_Groupwork%20G4' target=\"_blank\">https://wandb.ai/yixuan228-imperial-college-london/DE_Groupwork%20G4</a><br>Synced 5 W&B file(s), 0 media file(s), 0 artifact file(s) and 0 other file(s)"
      ],
      "text/plain": [
       "<IPython.core.display.HTML object>"
      ]
     },
     "metadata": {},
     "output_type": "display_data"
    },
    {
     "data": {
      "text/html": [
       "Find logs at: <code>.\\wandb\\run-20250320_091318-525oin8x\\logs</code>"
      ],
      "text/plain": [
       "<IPython.core.display.HTML object>"
      ]
     },
     "metadata": {},
     "output_type": "display_data"
    },
    {
     "data": {
      "text/html": [
       "Tracking run with wandb version 0.19.7"
      ],
      "text/plain": [
       "<IPython.core.display.HTML object>"
      ]
     },
     "metadata": {},
     "output_type": "display_data"
    },
    {
     "data": {
      "text/html": [
       "Run data is saved locally in <code>d:\\Projects\\MSc_DE_GroupWork4\\Scripts\\wandb\\run-20250320_091334-n86nluqq</code>"
      ],
      "text/plain": [
       "<IPython.core.display.HTML object>"
      ]
     },
     "metadata": {},
     "output_type": "display_data"
    },
    {
     "data": {
      "text/html": [
       "Syncing run <strong><a href='https://wandb.ai/yixuan228-imperial-college-london/DE_Groupwork%20G4/runs/n86nluqq' target=\"_blank\">desert-shape-10</a></strong> to <a href='https://wandb.ai/yixuan228-imperial-college-london/DE_Groupwork%20G4' target=\"_blank\">Weights & Biases</a> (<a href='https://wandb.me/developer-guide' target=\"_blank\">docs</a>)<br>"
      ],
      "text/plain": [
       "<IPython.core.display.HTML object>"
      ]
     },
     "metadata": {},
     "output_type": "display_data"
    },
    {
     "data": {
      "text/html": [
       " View project at <a href='https://wandb.ai/yixuan228-imperial-college-london/DE_Groupwork%20G4' target=\"_blank\">https://wandb.ai/yixuan228-imperial-college-london/DE_Groupwork%20G4</a>"
      ],
      "text/plain": [
       "<IPython.core.display.HTML object>"
      ]
     },
     "metadata": {},
     "output_type": "display_data"
    },
    {
     "data": {
      "text/html": [
       " View run at <a href='https://wandb.ai/yixuan228-imperial-college-london/DE_Groupwork%20G4/runs/n86nluqq' target=\"_blank\">https://wandb.ai/yixuan228-imperial-college-london/DE_Groupwork%20G4/runs/n86nluqq</a>"
      ],
      "text/plain": [
       "<IPython.core.display.HTML object>"
      ]
     },
     "metadata": {},
     "output_type": "display_data"
    },
    {
     "name": "stdout",
     "output_type": "stream",
     "text": [
      "Epoch 001 | Train Loss: 4159.5333 | Val Loss: 326.0117\n",
      "Epoch 002 | Train Loss: 244.6358 | Val Loss: 191.6026\n",
      "Epoch 003 | Train Loss: 122.3177 | Val Loss: 58.7128\n",
      "Epoch 004 | Train Loss: 48.6403 | Val Loss: 63.6457\n",
      "Epoch 005 | Train Loss: 50.0521 | Val Loss: 58.0092\n",
      "Epoch 006 | Train Loss: 50.5816 | Val Loss: 92.6127\n",
      "Epoch 007 | Train Loss: 76.5453 | Val Loss: 56.3411\n",
      "Epoch 008 | Train Loss: 49.9257 | Val Loss: 36.6017\n",
      "Epoch 009 | Train Loss: 46.2590 | Val Loss: 66.1668\n",
      "Epoch 010 | Train Loss: 72.7361 | Val Loss: 171.0668\n",
      "Epoch 011 | Train Loss: 133.3160 | Val Loss: 22.0113\n",
      "Epoch 012 | Train Loss: 38.4230 | Val Loss: 164.1436\n",
      "Epoch 013 | Train Loss: 28.1293 | Val Loss: 22.7397\n",
      "Epoch 014 | Train Loss: 65.7328 | Val Loss: 277.8694\n",
      "Epoch 015 | Train Loss: 68.8774 | Val Loss: 58.5315\n",
      "Epoch 016 | Train Loss: 37.9511 | Val Loss: 29.9240\n",
      "Early stopping triggered at epoch 16\n"
     ]
    },
    {
     "data": {
      "text/html": [],
      "text/plain": [
       "<IPython.core.display.HTML object>"
      ]
     },
     "metadata": {},
     "output_type": "display_data"
    },
    {
     "data": {
      "text/html": [
       "<br>    <style><br>        .wandb-row {<br>            display: flex;<br>            flex-direction: row;<br>            flex-wrap: wrap;<br>            justify-content: flex-start;<br>            width: 100%;<br>        }<br>        .wandb-col {<br>            display: flex;<br>            flex-direction: column;<br>            flex-basis: 100%;<br>            flex: 1;<br>            padding: 10px;<br>        }<br>    </style><br><div class=\"wandb-row\"><div class=\"wandb-col\"><h3>Run history:</h3><br/><table class=\"wandb\"><tr><td>epoch</td><td>▁▁▂▂▃▃▄▄▅▅▆▆▇▇██</td></tr><tr><td>train_loss</td><td>█▁▁▁▁▁▁▁▁▁▁▁▁▁▁▁</td></tr><tr><td>val_loss</td><td>█▅▂▂▂▃▂▁▂▄▁▄▁▇▂▁</td></tr></table><br/></div><div class=\"wandb-col\"><h3>Run summary:</h3><br/><table class=\"wandb\"><tr><td>epoch</td><td>16</td></tr><tr><td>train_loss</td><td>37.95112</td></tr><tr><td>val_loss</td><td>29.92397</td></tr></table><br/></div></div>"
      ],
      "text/plain": [
       "<IPython.core.display.HTML object>"
      ]
     },
     "metadata": {},
     "output_type": "display_data"
    },
    {
     "data": {
      "text/html": [
       " View run <strong style=\"color:#cdcd00\">desert-shape-10</strong> at: <a href='https://wandb.ai/yixuan228-imperial-college-london/DE_Groupwork%20G4/runs/n86nluqq' target=\"_blank\">https://wandb.ai/yixuan228-imperial-college-london/DE_Groupwork%20G4/runs/n86nluqq</a><br> View project at: <a href='https://wandb.ai/yixuan228-imperial-college-london/DE_Groupwork%20G4' target=\"_blank\">https://wandb.ai/yixuan228-imperial-college-london/DE_Groupwork%20G4</a><br>Synced 5 W&B file(s), 0 media file(s), 0 artifact file(s) and 0 other file(s)"
      ],
      "text/plain": [
       "<IPython.core.display.HTML object>"
      ]
     },
     "metadata": {},
     "output_type": "display_data"
    },
    {
     "data": {
      "text/html": [
       "Find logs at: <code>.\\wandb\\run-20250320_091334-n86nluqq\\logs</code>"
      ],
      "text/plain": [
       "<IPython.core.display.HTML object>"
      ]
     },
     "metadata": {},
     "output_type": "display_data"
    },
    {
     "data": {
      "text/html": [
       "Tracking run with wandb version 0.19.7"
      ],
      "text/plain": [
       "<IPython.core.display.HTML object>"
      ]
     },
     "metadata": {},
     "output_type": "display_data"
    },
    {
     "data": {
      "text/html": [
       "Run data is saved locally in <code>d:\\Projects\\MSc_DE_GroupWork4\\Scripts\\wandb\\run-20250320_091339-s7tnuf8f</code>"
      ],
      "text/plain": [
       "<IPython.core.display.HTML object>"
      ]
     },
     "metadata": {},
     "output_type": "display_data"
    },
    {
     "data": {
      "text/html": [
       "Syncing run <strong><a href='https://wandb.ai/yixuan228-imperial-college-london/DE_Groupwork%20G4/runs/s7tnuf8f' target=\"_blank\">vivid-spaceship-11</a></strong> to <a href='https://wandb.ai/yixuan228-imperial-college-london/DE_Groupwork%20G4' target=\"_blank\">Weights & Biases</a> (<a href='https://wandb.me/developer-guide' target=\"_blank\">docs</a>)<br>"
      ],
      "text/plain": [
       "<IPython.core.display.HTML object>"
      ]
     },
     "metadata": {},
     "output_type": "display_data"
    },
    {
     "data": {
      "text/html": [
       " View project at <a href='https://wandb.ai/yixuan228-imperial-college-london/DE_Groupwork%20G4' target=\"_blank\">https://wandb.ai/yixuan228-imperial-college-london/DE_Groupwork%20G4</a>"
      ],
      "text/plain": [
       "<IPython.core.display.HTML object>"
      ]
     },
     "metadata": {},
     "output_type": "display_data"
    },
    {
     "data": {
      "text/html": [
       " View run at <a href='https://wandb.ai/yixuan228-imperial-college-london/DE_Groupwork%20G4/runs/s7tnuf8f' target=\"_blank\">https://wandb.ai/yixuan228-imperial-college-london/DE_Groupwork%20G4/runs/s7tnuf8f</a>"
      ],
      "text/plain": [
       "<IPython.core.display.HTML object>"
      ]
     },
     "metadata": {},
     "output_type": "display_data"
    },
    {
     "name": "stdout",
     "output_type": "stream",
     "text": [
      "Epoch 001 | Train Loss: 16806.3476 | Val Loss: 844.8270\n",
      "Epoch 002 | Train Loss: 597.2754 | Val Loss: 497.0017\n",
      "Epoch 003 | Train Loss: 369.7763 | Val Loss: 356.7122\n",
      "Epoch 004 | Train Loss: 271.3100 | Val Loss: 271.9874\n",
      "Epoch 005 | Train Loss: 208.8713 | Val Loss: 209.1034\n",
      "Epoch 006 | Train Loss: 161.7576 | Val Loss: 157.4304\n",
      "Epoch 007 | Train Loss: 124.5126 | Val Loss: 122.2102\n",
      "Epoch 008 | Train Loss: 91.7082 | Val Loss: 82.8831\n",
      "Epoch 009 | Train Loss: 64.5151 | Val Loss: 61.5794\n",
      "Epoch 010 | Train Loss: 47.1956 | Val Loss: 46.6039\n",
      "Epoch 011 | Train Loss: 34.6103 | Val Loss: 32.7009\n",
      "Epoch 012 | Train Loss: 28.8246 | Val Loss: 26.7159\n",
      "Epoch 013 | Train Loss: 24.0553 | Val Loss: 23.0614\n",
      "Epoch 014 | Train Loss: 21.4303 | Val Loss: 19.5845\n",
      "Epoch 015 | Train Loss: 20.0849 | Val Loss: 23.7976\n",
      "Epoch 016 | Train Loss: 19.5478 | Val Loss: 24.4100\n",
      "Epoch 017 | Train Loss: 18.8466 | Val Loss: 14.8416\n",
      "Epoch 018 | Train Loss: 16.3573 | Val Loss: 21.3700\n",
      "Epoch 019 | Train Loss: 17.3817 | Val Loss: 16.5224\n",
      "Epoch 020 | Train Loss: 15.8359 | Val Loss: 24.2992\n",
      "Epoch 021 | Train Loss: 18.5606 | Val Loss: 11.9139\n",
      "Epoch 022 | Train Loss: 13.7602 | Val Loss: 15.7597\n",
      "Epoch 023 | Train Loss: 13.9401 | Val Loss: 15.8961\n",
      "Epoch 024 | Train Loss: 13.3012 | Val Loss: 17.1093\n",
      "Epoch 025 | Train Loss: 12.6727 | Val Loss: 11.3276\n",
      "Epoch 026 | Train Loss: 12.7140 | Val Loss: 18.9528\n",
      "Epoch 027 | Train Loss: 14.1889 | Val Loss: 11.3413\n",
      "Epoch 028 | Train Loss: 13.6043 | Val Loss: 12.6941\n",
      "Epoch 029 | Train Loss: 15.3916 | Val Loss: 22.4139\n",
      "Epoch 030 | Train Loss: 12.9090 | Val Loss: 8.3296\n",
      "Epoch 031 | Train Loss: 12.7784 | Val Loss: 16.8429\n",
      "Epoch 032 | Train Loss: 13.1269 | Val Loss: 13.7196\n",
      "Epoch 033 | Train Loss: 16.4525 | Val Loss: 12.0416\n",
      "Epoch 034 | Train Loss: 13.5181 | Val Loss: 11.3539\n",
      "Epoch 035 | Train Loss: 11.4858 | Val Loss: 14.7935\n",
      "Early stopping triggered at epoch 35\n"
     ]
    },
    {
     "data": {
      "text/html": [],
      "text/plain": [
       "<IPython.core.display.HTML object>"
      ]
     },
     "metadata": {},
     "output_type": "display_data"
    },
    {
     "data": {
      "text/html": [
       "<br>    <style><br>        .wandb-row {<br>            display: flex;<br>            flex-direction: row;<br>            flex-wrap: wrap;<br>            justify-content: flex-start;<br>            width: 100%;<br>        }<br>        .wandb-col {<br>            display: flex;<br>            flex-direction: column;<br>            flex-basis: 100%;<br>            flex: 1;<br>            padding: 10px;<br>        }<br>    </style><br><div class=\"wandb-row\"><div class=\"wandb-col\"><h3>Run history:</h3><br/><table class=\"wandb\"><tr><td>epoch</td><td>▁▁▁▂▂▂▂▂▃▃▃▃▃▄▄▄▄▅▅▅▅▅▆▆▆▆▆▇▇▇▇▇███</td></tr><tr><td>train_loss</td><td>█▁▁▁▁▁▁▁▁▁▁▁▁▁▁▁▁▁▁▁▁▁▁▁▁▁▁▁▁▁▁▁▁▁▁</td></tr><tr><td>val_loss</td><td>█▅▄▃▃▂▂▂▁▁▁▁▁▁▁▁▁▁▁▁▁▁▁▁▁▁▁▁▁▁▁▁▁▁▁</td></tr></table><br/></div><div class=\"wandb-col\"><h3>Run summary:</h3><br/><table class=\"wandb\"><tr><td>epoch</td><td>35</td></tr><tr><td>train_loss</td><td>11.48582</td></tr><tr><td>val_loss</td><td>14.79355</td></tr></table><br/></div></div>"
      ],
      "text/plain": [
       "<IPython.core.display.HTML object>"
      ]
     },
     "metadata": {},
     "output_type": "display_data"
    },
    {
     "data": {
      "text/html": [
       " View run <strong style=\"color:#cdcd00\">vivid-spaceship-11</strong> at: <a href='https://wandb.ai/yixuan228-imperial-college-london/DE_Groupwork%20G4/runs/s7tnuf8f' target=\"_blank\">https://wandb.ai/yixuan228-imperial-college-london/DE_Groupwork%20G4/runs/s7tnuf8f</a><br> View project at: <a href='https://wandb.ai/yixuan228-imperial-college-london/DE_Groupwork%20G4' target=\"_blank\">https://wandb.ai/yixuan228-imperial-college-london/DE_Groupwork%20G4</a><br>Synced 5 W&B file(s), 0 media file(s), 0 artifact file(s) and 0 other file(s)"
      ],
      "text/plain": [
       "<IPython.core.display.HTML object>"
      ]
     },
     "metadata": {},
     "output_type": "display_data"
    },
    {
     "data": {
      "text/html": [
       "Find logs at: <code>.\\wandb\\run-20250320_091339-s7tnuf8f\\logs</code>"
      ],
      "text/plain": [
       "<IPython.core.display.HTML object>"
      ]
     },
     "metadata": {},
     "output_type": "display_data"
    },
    {
     "data": {
      "text/html": [
       "Tracking run with wandb version 0.19.7"
      ],
      "text/plain": [
       "<IPython.core.display.HTML object>"
      ]
     },
     "metadata": {},
     "output_type": "display_data"
    },
    {
     "data": {
      "text/html": [
       "Run data is saved locally in <code>d:\\Projects\\MSc_DE_GroupWork4\\Scripts\\wandb\\run-20250320_091347-nbfzlfhc</code>"
      ],
      "text/plain": [
       "<IPython.core.display.HTML object>"
      ]
     },
     "metadata": {},
     "output_type": "display_data"
    },
    {
     "data": {
      "text/html": [
       "Syncing run <strong><a href='https://wandb.ai/yixuan228-imperial-college-london/DE_Groupwork%20G4/runs/nbfzlfhc' target=\"_blank\">fearless-morning-12</a></strong> to <a href='https://wandb.ai/yixuan228-imperial-college-london/DE_Groupwork%20G4' target=\"_blank\">Weights & Biases</a> (<a href='https://wandb.me/developer-guide' target=\"_blank\">docs</a>)<br>"
      ],
      "text/plain": [
       "<IPython.core.display.HTML object>"
      ]
     },
     "metadata": {},
     "output_type": "display_data"
    },
    {
     "data": {
      "text/html": [
       " View project at <a href='https://wandb.ai/yixuan228-imperial-college-london/DE_Groupwork%20G4' target=\"_blank\">https://wandb.ai/yixuan228-imperial-college-london/DE_Groupwork%20G4</a>"
      ],
      "text/plain": [
       "<IPython.core.display.HTML object>"
      ]
     },
     "metadata": {},
     "output_type": "display_data"
    },
    {
     "data": {
      "text/html": [
       " View run at <a href='https://wandb.ai/yixuan228-imperial-college-london/DE_Groupwork%20G4/runs/nbfzlfhc' target=\"_blank\">https://wandb.ai/yixuan228-imperial-college-london/DE_Groupwork%20G4/runs/nbfzlfhc</a>"
      ],
      "text/plain": [
       "<IPython.core.display.HTML object>"
      ]
     },
     "metadata": {},
     "output_type": "display_data"
    },
    {
     "name": "stdout",
     "output_type": "stream",
     "text": [
      "Epoch 001 | Train Loss: 63531.6999 | Val Loss: 52989.2961\n",
      "Epoch 002 | Train Loss: 29485.8449 | Val Loss: 7804.5818\n",
      "Epoch 003 | Train Loss: 4237.4414 | Val Loss: 2815.6782\n",
      "Epoch 004 | Train Loss: 1985.0144 | Val Loss: 1609.4894\n",
      "Epoch 005 | Train Loss: 1270.7559 | Val Loss: 1150.8603\n",
      "Epoch 006 | Train Loss: 983.3341 | Val Loss: 947.0905\n",
      "Epoch 007 | Train Loss: 836.0015 | Val Loss: 824.6728\n",
      "Epoch 008 | Train Loss: 743.1459 | Val Loss: 744.6441\n",
      "Epoch 009 | Train Loss: 670.5056 | Val Loss: 682.4151\n",
      "Epoch 010 | Train Loss: 609.8387 | Val Loss: 626.6578\n",
      "Epoch 011 | Train Loss: 556.5514 | Val Loss: 579.4258\n",
      "Epoch 012 | Train Loss: 511.0463 | Val Loss: 534.5595\n",
      "Epoch 013 | Train Loss: 470.7794 | Val Loss: 496.5877\n",
      "Epoch 014 | Train Loss: 434.9398 | Val Loss: 462.7176\n",
      "Epoch 015 | Train Loss: 403.7638 | Val Loss: 434.5674\n",
      "Epoch 016 | Train Loss: 376.1617 | Val Loss: 404.8803\n",
      "Epoch 017 | Train Loss: 351.5209 | Val Loss: 381.5610\n",
      "Epoch 018 | Train Loss: 329.6340 | Val Loss: 361.7249\n",
      "Epoch 019 | Train Loss: 310.7534 | Val Loss: 339.5300\n",
      "Epoch 020 | Train Loss: 292.8211 | Val Loss: 320.1890\n",
      "Epoch 021 | Train Loss: 277.8905 | Val Loss: 304.5992\n",
      "Epoch 022 | Train Loss: 263.3715 | Val Loss: 290.0819\n",
      "Epoch 023 | Train Loss: 250.5236 | Val Loss: 275.4545\n",
      "Epoch 024 | Train Loss: 239.3061 | Val Loss: 264.4059\n",
      "Epoch 025 | Train Loss: 227.4525 | Val Loss: 249.2861\n",
      "Epoch 026 | Train Loss: 215.9901 | Val Loss: 237.5809\n",
      "Epoch 027 | Train Loss: 205.8270 | Val Loss: 224.8346\n",
      "Epoch 028 | Train Loss: 195.2695 | Val Loss: 216.4012\n",
      "Epoch 029 | Train Loss: 185.3079 | Val Loss: 202.6573\n",
      "Epoch 030 | Train Loss: 174.9550 | Val Loss: 192.7029\n",
      "Epoch 031 | Train Loss: 166.5583 | Val Loss: 180.8355\n",
      "Epoch 032 | Train Loss: 156.5528 | Val Loss: 169.9763\n",
      "Epoch 033 | Train Loss: 147.5323 | Val Loss: 160.6637\n",
      "Epoch 034 | Train Loss: 138.9888 | Val Loss: 151.1239\n",
      "Epoch 035 | Train Loss: 130.7289 | Val Loss: 142.5361\n",
      "Epoch 036 | Train Loss: 122.5484 | Val Loss: 133.4548\n",
      "Epoch 037 | Train Loss: 114.7109 | Val Loss: 127.0095\n",
      "Epoch 038 | Train Loss: 107.4958 | Val Loss: 115.4989\n",
      "Epoch 039 | Train Loss: 99.0845 | Val Loss: 107.6009\n",
      "Epoch 040 | Train Loss: 92.7399 | Val Loss: 99.4817\n",
      "Epoch 041 | Train Loss: 85.6064 | Val Loss: 93.4816\n",
      "Epoch 042 | Train Loss: 79.3109 | Val Loss: 85.3384\n",
      "Epoch 043 | Train Loss: 72.5753 | Val Loss: 79.4956\n",
      "Epoch 044 | Train Loss: 67.3192 | Val Loss: 71.7657\n",
      "Epoch 045 | Train Loss: 62.0264 | Val Loss: 66.4069\n",
      "Epoch 046 | Train Loss: 56.8702 | Val Loss: 64.4534\n",
      "Epoch 047 | Train Loss: 53.0577 | Val Loss: 55.4246\n",
      "Epoch 048 | Train Loss: 47.8616 | Val Loss: 52.2465\n",
      "Epoch 049 | Train Loss: 44.4314 | Val Loss: 46.9376\n",
      "Epoch 050 | Train Loss: 40.5878 | Val Loss: 42.8709\n",
      "Epoch 051 | Train Loss: 37.6814 | Val Loss: 39.4616\n",
      "Epoch 052 | Train Loss: 34.8128 | Val Loss: 35.5689\n",
      "Epoch 053 | Train Loss: 33.6850 | Val Loss: 32.9123\n",
      "Epoch 054 | Train Loss: 30.4022 | Val Loss: 31.2286\n",
      "Epoch 055 | Train Loss: 28.6636 | Val Loss: 29.0525\n",
      "Epoch 056 | Train Loss: 26.8736 | Val Loss: 28.3460\n",
      "Epoch 057 | Train Loss: 25.8237 | Val Loss: 25.0923\n",
      "Epoch 058 | Train Loss: 24.7662 | Val Loss: 24.3649\n",
      "Epoch 059 | Train Loss: 23.0759 | Val Loss: 22.3096\n",
      "Epoch 060 | Train Loss: 23.1637 | Val Loss: 22.6758\n",
      "Epoch 061 | Train Loss: 21.1919 | Val Loss: 20.8535\n",
      "Epoch 062 | Train Loss: 20.6631 | Val Loss: 19.4632\n",
      "Epoch 063 | Train Loss: 19.6965 | Val Loss: 18.9914\n",
      "Epoch 064 | Train Loss: 19.5700 | Val Loss: 18.9411\n",
      "Epoch 065 | Train Loss: 18.7361 | Val Loss: 18.1271\n",
      "Epoch 066 | Train Loss: 17.8016 | Val Loss: 17.0802\n",
      "Epoch 067 | Train Loss: 17.8671 | Val Loss: 17.7827\n",
      "Epoch 068 | Train Loss: 16.9399 | Val Loss: 15.6292\n",
      "Epoch 069 | Train Loss: 16.5481 | Val Loss: 15.2403\n",
      "Epoch 070 | Train Loss: 16.4386 | Val Loss: 16.2947\n",
      "Epoch 071 | Train Loss: 15.8694 | Val Loss: 15.8349\n",
      "Epoch 072 | Train Loss: 15.5298 | Val Loss: 19.0385\n",
      "Epoch 073 | Train Loss: 15.6275 | Val Loss: 14.3887\n",
      "Epoch 074 | Train Loss: 14.8215 | Val Loss: 13.5699\n",
      "Epoch 075 | Train Loss: 14.5711 | Val Loss: 14.1015\n",
      "Epoch 076 | Train Loss: 14.0648 | Val Loss: 13.1150\n",
      "Epoch 077 | Train Loss: 13.6357 | Val Loss: 12.5900\n",
      "Epoch 078 | Train Loss: 13.7217 | Val Loss: 13.0482\n",
      "Epoch 079 | Train Loss: 13.5970 | Val Loss: 12.8104\n",
      "Epoch 080 | Train Loss: 13.4159 | Val Loss: 16.5587\n",
      "Epoch 081 | Train Loss: 13.5642 | Val Loss: 11.7835\n",
      "Epoch 082 | Train Loss: 12.8098 | Val Loss: 12.3472\n",
      "Epoch 083 | Train Loss: 12.4300 | Val Loss: 12.7986\n",
      "Epoch 084 | Train Loss: 12.3619 | Val Loss: 10.8008\n",
      "Epoch 085 | Train Loss: 12.2497 | Val Loss: 12.9737\n",
      "Epoch 086 | Train Loss: 11.9691 | Val Loss: 12.5007\n",
      "Epoch 087 | Train Loss: 11.9223 | Val Loss: 10.6096\n",
      "Epoch 088 | Train Loss: 11.3191 | Val Loss: 10.3186\n",
      "Epoch 089 | Train Loss: 11.4397 | Val Loss: 10.1168\n",
      "Epoch 090 | Train Loss: 11.0277 | Val Loss: 10.5692\n",
      "Epoch 091 | Train Loss: 12.1313 | Val Loss: 9.9043\n",
      "Epoch 092 | Train Loss: 11.2486 | Val Loss: 10.4152\n",
      "Epoch 093 | Train Loss: 10.8870 | Val Loss: 9.1411\n",
      "Epoch 094 | Train Loss: 10.6446 | Val Loss: 9.7925\n",
      "Epoch 095 | Train Loss: 10.6697 | Val Loss: 10.8936\n",
      "Epoch 096 | Train Loss: 10.6762 | Val Loss: 9.6053\n",
      "Epoch 097 | Train Loss: 10.5648 | Val Loss: 9.4551\n",
      "Epoch 098 | Train Loss: 10.1429 | Val Loss: 8.9503\n",
      "Epoch 099 | Train Loss: 10.1719 | Val Loss: 10.8623\n",
      "Epoch 100 | Train Loss: 10.0975 | Val Loss: 8.7746\n",
      "Epoch 101 | Train Loss: 10.0793 | Val Loss: 8.7473\n",
      "Epoch 102 | Train Loss: 9.8314 | Val Loss: 10.4154\n",
      "Epoch 103 | Train Loss: 10.1684 | Val Loss: 8.6123\n",
      "Epoch 104 | Train Loss: 9.7799 | Val Loss: 8.9751\n",
      "Epoch 105 | Train Loss: 9.7724 | Val Loss: 8.5708\n",
      "Epoch 106 | Train Loss: 9.9862 | Val Loss: 8.5559\n",
      "Epoch 107 | Train Loss: 9.7740 | Val Loss: 9.0254\n",
      "Epoch 108 | Train Loss: 9.6274 | Val Loss: 8.8526\n",
      "Epoch 109 | Train Loss: 9.4810 | Val Loss: 10.4335\n",
      "Epoch 110 | Train Loss: 9.2947 | Val Loss: 8.9666\n",
      "Epoch 111 | Train Loss: 9.0662 | Val Loss: 8.4994\n",
      "Epoch 112 | Train Loss: 9.2802 | Val Loss: 9.1950\n",
      "Epoch 113 | Train Loss: 9.2904 | Val Loss: 8.4944\n",
      "Epoch 114 | Train Loss: 9.1898 | Val Loss: 7.7622\n",
      "Epoch 115 | Train Loss: 9.2792 | Val Loss: 11.2849\n",
      "Epoch 116 | Train Loss: 9.4341 | Val Loss: 7.8820\n",
      "Epoch 117 | Train Loss: 8.8626 | Val Loss: 9.1024\n",
      "Epoch 118 | Train Loss: 8.9531 | Val Loss: 9.0853\n",
      "Epoch 119 | Train Loss: 8.8235 | Val Loss: 8.6005\n",
      "Early stopping triggered at epoch 119\n"
     ]
    },
    {
     "data": {
      "text/html": [],
      "text/plain": [
       "<IPython.core.display.HTML object>"
      ]
     },
     "metadata": {},
     "output_type": "display_data"
    },
    {
     "data": {
      "text/html": [
       "<br>    <style><br>        .wandb-row {<br>            display: flex;<br>            flex-direction: row;<br>            flex-wrap: wrap;<br>            justify-content: flex-start;<br>            width: 100%;<br>        }<br>        .wandb-col {<br>            display: flex;<br>            flex-direction: column;<br>            flex-basis: 100%;<br>            flex: 1;<br>            padding: 10px;<br>        }<br>    </style><br><div class=\"wandb-row\"><div class=\"wandb-col\"><h3>Run history:</h3><br/><table class=\"wandb\"><tr><td>epoch</td><td>▁▁▂▂▂▂▂▂▃▃▃▃▃▃▃▄▄▄▄▄▅▅▅▅▅▆▆▆▆▆▇▇▇▇▇▇████</td></tr><tr><td>train_loss</td><td>█▆▅▄▄▂▂▂▂▂▁▁▁▁▁▁▁▁▁▁▁▁▁▁▁▁▁▁▁▁▁▁▁▁▁▁▁▁▁▁</td></tr><tr><td>val_loss</td><td>█▃▂▂▂▂▂▂▂▂▁▁▁▁▁▁▁▁▁▁▁▁▁▁▁▁▁▁▁▁▁▁▁▁▁▁▁▁▁▁</td></tr></table><br/></div><div class=\"wandb-col\"><h3>Run summary:</h3><br/><table class=\"wandb\"><tr><td>epoch</td><td>119</td></tr><tr><td>train_loss</td><td>8.82345</td></tr><tr><td>val_loss</td><td>8.60048</td></tr></table><br/></div></div>"
      ],
      "text/plain": [
       "<IPython.core.display.HTML object>"
      ]
     },
     "metadata": {},
     "output_type": "display_data"
    },
    {
     "data": {
      "text/html": [
       " View run <strong style=\"color:#cdcd00\">fearless-morning-12</strong> at: <a href='https://wandb.ai/yixuan228-imperial-college-london/DE_Groupwork%20G4/runs/nbfzlfhc' target=\"_blank\">https://wandb.ai/yixuan228-imperial-college-london/DE_Groupwork%20G4/runs/nbfzlfhc</a><br> View project at: <a href='https://wandb.ai/yixuan228-imperial-college-london/DE_Groupwork%20G4' target=\"_blank\">https://wandb.ai/yixuan228-imperial-college-london/DE_Groupwork%20G4</a><br>Synced 5 W&B file(s), 0 media file(s), 0 artifact file(s) and 0 other file(s)"
      ],
      "text/plain": [
       "<IPython.core.display.HTML object>"
      ]
     },
     "metadata": {},
     "output_type": "display_data"
    },
    {
     "data": {
      "text/html": [
       "Find logs at: <code>.\\wandb\\run-20250320_091347-nbfzlfhc\\logs</code>"
      ],
      "text/plain": [
       "<IPython.core.display.HTML object>"
      ]
     },
     "metadata": {},
     "output_type": "display_data"
    },
    {
     "data": {
      "text/html": [
       "Tracking run with wandb version 0.19.7"
      ],
      "text/plain": [
       "<IPython.core.display.HTML object>"
      ]
     },
     "metadata": {},
     "output_type": "display_data"
    },
    {
     "data": {
      "text/html": [
       "Run data is saved locally in <code>d:\\Projects\\MSc_DE_GroupWork4\\Scripts\\wandb\\run-20250320_091409-hfvm9xzz</code>"
      ],
      "text/plain": [
       "<IPython.core.display.HTML object>"
      ]
     },
     "metadata": {},
     "output_type": "display_data"
    },
    {
     "data": {
      "text/html": [
       "Syncing run <strong><a href='https://wandb.ai/yixuan228-imperial-college-london/DE_Groupwork%20G4/runs/hfvm9xzz' target=\"_blank\">royal-wave-13</a></strong> to <a href='https://wandb.ai/yixuan228-imperial-college-london/DE_Groupwork%20G4' target=\"_blank\">Weights & Biases</a> (<a href='https://wandb.me/developer-guide' target=\"_blank\">docs</a>)<br>"
      ],
      "text/plain": [
       "<IPython.core.display.HTML object>"
      ]
     },
     "metadata": {},
     "output_type": "display_data"
    },
    {
     "data": {
      "text/html": [
       " View project at <a href='https://wandb.ai/yixuan228-imperial-college-london/DE_Groupwork%20G4' target=\"_blank\">https://wandb.ai/yixuan228-imperial-college-london/DE_Groupwork%20G4</a>"
      ],
      "text/plain": [
       "<IPython.core.display.HTML object>"
      ]
     },
     "metadata": {},
     "output_type": "display_data"
    },
    {
     "data": {
      "text/html": [
       " View run at <a href='https://wandb.ai/yixuan228-imperial-college-london/DE_Groupwork%20G4/runs/hfvm9xzz' target=\"_blank\">https://wandb.ai/yixuan228-imperial-college-london/DE_Groupwork%20G4/runs/hfvm9xzz</a>"
      ],
      "text/plain": [
       "<IPython.core.display.HTML object>"
      ]
     },
     "metadata": {},
     "output_type": "display_data"
    },
    {
     "name": "stdout",
     "output_type": "stream",
     "text": [
      "Epoch 001 | Train Loss: 4013.3878 | Val Loss: 339.3529\n",
      "Epoch 002 | Train Loss: 272.7142 | Val Loss: 192.3919\n",
      "Epoch 003 | Train Loss: 133.1508 | Val Loss: 68.4257\n",
      "Epoch 004 | Train Loss: 124.4393 | Val Loss: 42.9526\n",
      "Epoch 005 | Train Loss: 107.1195 | Val Loss: 46.8622\n",
      "Epoch 006 | Train Loss: 140.6895 | Val Loss: 955.2951\n",
      "Epoch 007 | Train Loss: 1082.2223 | Val Loss: 107.7919\n",
      "Epoch 008 | Train Loss: 46.5713 | Val Loss: 27.2504\n",
      "Epoch 009 | Train Loss: 28.3408 | Val Loss: 22.0557\n",
      "Epoch 010 | Train Loss: 20.1166 | Val Loss: 23.1794\n",
      "Epoch 011 | Train Loss: 27.4638 | Val Loss: 43.0200\n",
      "Epoch 012 | Train Loss: 27.0630 | Val Loss: 59.5567\n",
      "Epoch 013 | Train Loss: 37.3398 | Val Loss: 21.2830\n",
      "Epoch 014 | Train Loss: 39.6811 | Val Loss: 40.5471\n",
      "Epoch 015 | Train Loss: 34.7090 | Val Loss: 36.0053\n",
      "Epoch 016 | Train Loss: 107.4258 | Val Loss: 226.5948\n",
      "Epoch 017 | Train Loss: 126.6880 | Val Loss: 18.3895\n",
      "Epoch 018 | Train Loss: 53.1740 | Val Loss: 38.4104\n",
      "Epoch 019 | Train Loss: 73.2187 | Val Loss: 17.7604\n",
      "Epoch 020 | Train Loss: 369.8418 | Val Loss: 266.3484\n",
      "Epoch 021 | Train Loss: 55.0094 | Val Loss: 36.0344\n",
      "Epoch 022 | Train Loss: 17.5320 | Val Loss: 16.1662\n",
      "Epoch 023 | Train Loss: 15.8066 | Val Loss: 26.5612\n",
      "Epoch 024 | Train Loss: 15.6983 | Val Loss: 15.4209\n",
      "Epoch 025 | Train Loss: 17.8830 | Val Loss: 28.6473\n",
      "Epoch 026 | Train Loss: 19.8574 | Val Loss: 10.8281\n",
      "Epoch 027 | Train Loss: 17.9109 | Val Loss: 21.1581\n",
      "Epoch 028 | Train Loss: 19.9150 | Val Loss: 9.4374\n",
      "Epoch 029 | Train Loss: 21.2089 | Val Loss: 27.7522\n",
      "Epoch 030 | Train Loss: 32.3849 | Val Loss: 71.2761\n",
      "Epoch 031 | Train Loss: 260.4112 | Val Loss: 186.0464\n",
      "Epoch 032 | Train Loss: 55.8251 | Val Loss: 24.1511\n",
      "Epoch 033 | Train Loss: 23.9803 | Val Loss: 26.2573\n",
      "Early stopping triggered at epoch 33\n"
     ]
    },
    {
     "data": {
      "text/html": [],
      "text/plain": [
       "<IPython.core.display.HTML object>"
      ]
     },
     "metadata": {},
     "output_type": "display_data"
    },
    {
     "data": {
      "text/html": [
       "<br>    <style><br>        .wandb-row {<br>            display: flex;<br>            flex-direction: row;<br>            flex-wrap: wrap;<br>            justify-content: flex-start;<br>            width: 100%;<br>        }<br>        .wandb-col {<br>            display: flex;<br>            flex-direction: column;<br>            flex-basis: 100%;<br>            flex: 1;<br>            padding: 10px;<br>        }<br>    </style><br><div class=\"wandb-row\"><div class=\"wandb-col\"><h3>Run history:</h3><br/><table class=\"wandb\"><tr><td>epoch</td><td>▁▁▁▂▂▂▂▃▃▃▃▃▄▄▄▄▅▅▅▅▅▆▆▆▆▆▇▇▇▇███</td></tr><tr><td>train_loss</td><td>█▁▁▁▁▁▃▁▁▁▁▁▁▁▁▁▁▁▁▂▁▁▁▁▁▁▁▁▁▁▁▁▁</td></tr><tr><td>val_loss</td><td>▃▂▁▁▁█▂▁▁▁▁▁▁▁▁▃▁▁▁▃▁▁▁▁▁▁▁▁▁▁▂▁▁</td></tr></table><br/></div><div class=\"wandb-col\"><h3>Run summary:</h3><br/><table class=\"wandb\"><tr><td>epoch</td><td>33</td></tr><tr><td>train_loss</td><td>23.98026</td></tr><tr><td>val_loss</td><td>26.25729</td></tr></table><br/></div></div>"
      ],
      "text/plain": [
       "<IPython.core.display.HTML object>"
      ]
     },
     "metadata": {},
     "output_type": "display_data"
    },
    {
     "data": {
      "text/html": [
       " View run <strong style=\"color:#cdcd00\">royal-wave-13</strong> at: <a href='https://wandb.ai/yixuan228-imperial-college-london/DE_Groupwork%20G4/runs/hfvm9xzz' target=\"_blank\">https://wandb.ai/yixuan228-imperial-college-london/DE_Groupwork%20G4/runs/hfvm9xzz</a><br> View project at: <a href='https://wandb.ai/yixuan228-imperial-college-london/DE_Groupwork%20G4' target=\"_blank\">https://wandb.ai/yixuan228-imperial-college-london/DE_Groupwork%20G4</a><br>Synced 5 W&B file(s), 0 media file(s), 0 artifact file(s) and 0 other file(s)"
      ],
      "text/plain": [
       "<IPython.core.display.HTML object>"
      ]
     },
     "metadata": {},
     "output_type": "display_data"
    },
    {
     "data": {
      "text/html": [
       "Find logs at: <code>.\\wandb\\run-20250320_091409-hfvm9xzz\\logs</code>"
      ],
      "text/plain": [
       "<IPython.core.display.HTML object>"
      ]
     },
     "metadata": {},
     "output_type": "display_data"
    },
    {
     "data": {
      "text/html": [
       "Tracking run with wandb version 0.19.7"
      ],
      "text/plain": [
       "<IPython.core.display.HTML object>"
      ]
     },
     "metadata": {},
     "output_type": "display_data"
    },
    {
     "data": {
      "text/html": [
       "Run data is saved locally in <code>d:\\Projects\\MSc_DE_GroupWork4\\Scripts\\wandb\\run-20250320_091417-duginbko</code>"
      ],
      "text/plain": [
       "<IPython.core.display.HTML object>"
      ]
     },
     "metadata": {},
     "output_type": "display_data"
    },
    {
     "data": {
      "text/html": [
       "Syncing run <strong><a href='https://wandb.ai/yixuan228-imperial-college-london/DE_Groupwork%20G4/runs/duginbko' target=\"_blank\">cosmic-rain-14</a></strong> to <a href='https://wandb.ai/yixuan228-imperial-college-london/DE_Groupwork%20G4' target=\"_blank\">Weights & Biases</a> (<a href='https://wandb.me/developer-guide' target=\"_blank\">docs</a>)<br>"
      ],
      "text/plain": [
       "<IPython.core.display.HTML object>"
      ]
     },
     "metadata": {},
     "output_type": "display_data"
    },
    {
     "data": {
      "text/html": [
       " View project at <a href='https://wandb.ai/yixuan228-imperial-college-london/DE_Groupwork%20G4' target=\"_blank\">https://wandb.ai/yixuan228-imperial-college-london/DE_Groupwork%20G4</a>"
      ],
      "text/plain": [
       "<IPython.core.display.HTML object>"
      ]
     },
     "metadata": {},
     "output_type": "display_data"
    },
    {
     "data": {
      "text/html": [
       " View run at <a href='https://wandb.ai/yixuan228-imperial-college-london/DE_Groupwork%20G4/runs/duginbko' target=\"_blank\">https://wandb.ai/yixuan228-imperial-college-london/DE_Groupwork%20G4/runs/duginbko</a>"
      ],
      "text/plain": [
       "<IPython.core.display.HTML object>"
      ]
     },
     "metadata": {},
     "output_type": "display_data"
    },
    {
     "name": "stdout",
     "output_type": "stream",
     "text": [
      "Epoch 001 | Train Loss: 11765.6220 | Val Loss: 590.4697\n",
      "Epoch 002 | Train Loss: 370.2418 | Val Loss: 313.3015\n",
      "Epoch 003 | Train Loss: 226.8872 | Val Loss: 215.6715\n",
      "Epoch 004 | Train Loss: 163.6159 | Val Loss: 141.1259\n",
      "Epoch 005 | Train Loss: 103.7665 | Val Loss: 82.8504\n",
      "Epoch 006 | Train Loss: 62.8238 | Val Loss: 61.7177\n",
      "Epoch 007 | Train Loss: 41.1540 | Val Loss: 49.9533\n",
      "Epoch 008 | Train Loss: 36.9434 | Val Loss: 28.2494\n",
      "Epoch 009 | Train Loss: 24.7202 | Val Loss: 30.3270\n",
      "Epoch 010 | Train Loss: 22.5126 | Val Loss: 19.1938\n",
      "Epoch 011 | Train Loss: 20.5580 | Val Loss: 16.3141\n",
      "Epoch 012 | Train Loss: 17.4784 | Val Loss: 21.0191\n",
      "Epoch 013 | Train Loss: 18.1400 | Val Loss: 13.1887\n",
      "Epoch 014 | Train Loss: 17.6562 | Val Loss: 17.7515\n",
      "Epoch 015 | Train Loss: 16.3177 | Val Loss: 18.7904\n",
      "Epoch 016 | Train Loss: 20.5482 | Val Loss: 14.5842\n",
      "Epoch 017 | Train Loss: 15.4009 | Val Loss: 16.1844\n",
      "Epoch 018 | Train Loss: 15.8837 | Val Loss: 32.4994\n",
      "Early stopping triggered at epoch 18\n"
     ]
    },
    {
     "data": {
      "text/html": [],
      "text/plain": [
       "<IPython.core.display.HTML object>"
      ]
     },
     "metadata": {},
     "output_type": "display_data"
    },
    {
     "data": {
      "text/html": [
       "<br>    <style><br>        .wandb-row {<br>            display: flex;<br>            flex-direction: row;<br>            flex-wrap: wrap;<br>            justify-content: flex-start;<br>            width: 100%;<br>        }<br>        .wandb-col {<br>            display: flex;<br>            flex-direction: column;<br>            flex-basis: 100%;<br>            flex: 1;<br>            padding: 10px;<br>        }<br>    </style><br><div class=\"wandb-row\"><div class=\"wandb-col\"><h3>Run history:</h3><br/><table class=\"wandb\"><tr><td>epoch</td><td>▁▁▂▂▃▃▃▄▄▅▅▆▆▆▇▇██</td></tr><tr><td>train_loss</td><td>█▁▁▁▁▁▁▁▁▁▁▁▁▁▁▁▁▁</td></tr><tr><td>val_loss</td><td>█▅▃▃▂▂▁▁▁▁▁▁▁▁▁▁▁▁</td></tr></table><br/></div><div class=\"wandb-col\"><h3>Run summary:</h3><br/><table class=\"wandb\"><tr><td>epoch</td><td>18</td></tr><tr><td>train_loss</td><td>15.88365</td></tr><tr><td>val_loss</td><td>32.49935</td></tr></table><br/></div></div>"
      ],
      "text/plain": [
       "<IPython.core.display.HTML object>"
      ]
     },
     "metadata": {},
     "output_type": "display_data"
    },
    {
     "data": {
      "text/html": [
       " View run <strong style=\"color:#cdcd00\">cosmic-rain-14</strong> at: <a href='https://wandb.ai/yixuan228-imperial-college-london/DE_Groupwork%20G4/runs/duginbko' target=\"_blank\">https://wandb.ai/yixuan228-imperial-college-london/DE_Groupwork%20G4/runs/duginbko</a><br> View project at: <a href='https://wandb.ai/yixuan228-imperial-college-london/DE_Groupwork%20G4' target=\"_blank\">https://wandb.ai/yixuan228-imperial-college-london/DE_Groupwork%20G4</a><br>Synced 5 W&B file(s), 0 media file(s), 0 artifact file(s) and 0 other file(s)"
      ],
      "text/plain": [
       "<IPython.core.display.HTML object>"
      ]
     },
     "metadata": {},
     "output_type": "display_data"
    },
    {
     "data": {
      "text/html": [
       "Find logs at: <code>.\\wandb\\run-20250320_091417-duginbko\\logs</code>"
      ],
      "text/plain": [
       "<IPython.core.display.HTML object>"
      ]
     },
     "metadata": {},
     "output_type": "display_data"
    },
    {
     "data": {
      "text/html": [
       "Tracking run with wandb version 0.19.7"
      ],
      "text/plain": [
       "<IPython.core.display.HTML object>"
      ]
     },
     "metadata": {},
     "output_type": "display_data"
    },
    {
     "data": {
      "text/html": [
       "Run data is saved locally in <code>d:\\Projects\\MSc_DE_GroupWork4\\Scripts\\wandb\\run-20250320_091423-tlo40o5h</code>"
      ],
      "text/plain": [
       "<IPython.core.display.HTML object>"
      ]
     },
     "metadata": {},
     "output_type": "display_data"
    },
    {
     "data": {
      "text/html": [
       "Syncing run <strong><a href='https://wandb.ai/yixuan228-imperial-college-london/DE_Groupwork%20G4/runs/tlo40o5h' target=\"_blank\">graceful-sun-15</a></strong> to <a href='https://wandb.ai/yixuan228-imperial-college-london/DE_Groupwork%20G4' target=\"_blank\">Weights & Biases</a> (<a href='https://wandb.me/developer-guide' target=\"_blank\">docs</a>)<br>"
      ],
      "text/plain": [
       "<IPython.core.display.HTML object>"
      ]
     },
     "metadata": {},
     "output_type": "display_data"
    },
    {
     "data": {
      "text/html": [
       " View project at <a href='https://wandb.ai/yixuan228-imperial-college-london/DE_Groupwork%20G4' target=\"_blank\">https://wandb.ai/yixuan228-imperial-college-london/DE_Groupwork%20G4</a>"
      ],
      "text/plain": [
       "<IPython.core.display.HTML object>"
      ]
     },
     "metadata": {},
     "output_type": "display_data"
    },
    {
     "data": {
      "text/html": [
       " View run at <a href='https://wandb.ai/yixuan228-imperial-college-london/DE_Groupwork%20G4/runs/tlo40o5h' target=\"_blank\">https://wandb.ai/yixuan228-imperial-college-london/DE_Groupwork%20G4/runs/tlo40o5h</a>"
      ],
      "text/plain": [
       "<IPython.core.display.HTML object>"
      ]
     },
     "metadata": {},
     "output_type": "display_data"
    },
    {
     "name": "stdout",
     "output_type": "stream",
     "text": [
      "Epoch 001 | Train Loss: 57824.3685 | Val Loss: 21195.8467\n",
      "Epoch 002 | Train Loss: 5213.3907 | Val Loss: 2061.6527\n",
      "Epoch 003 | Train Loss: 1325.5234 | Val Loss: 1006.1215\n",
      "Epoch 004 | Train Loss: 812.0498 | Val Loss: 728.8470\n",
      "Epoch 005 | Train Loss: 622.3067 | Val Loss: 595.0953\n",
      "Epoch 006 | Train Loss: 505.7649 | Val Loss: 496.7093\n",
      "Epoch 007 | Train Loss: 424.9513 | Val Loss: 429.8438\n",
      "Epoch 008 | Train Loss: 362.5624 | Val Loss: 373.3750\n",
      "Epoch 009 | Train Loss: 316.9835 | Val Loss: 336.1019\n",
      "Epoch 010 | Train Loss: 280.6810 | Val Loss: 302.5887\n",
      "Epoch 011 | Train Loss: 252.8434 | Val Loss: 264.4995\n",
      "Epoch 012 | Train Loss: 225.8199 | Val Loss: 235.5130\n",
      "Epoch 013 | Train Loss: 203.5511 | Val Loss: 216.0209\n",
      "Epoch 014 | Train Loss: 183.2006 | Val Loss: 185.7576\n",
      "Epoch 015 | Train Loss: 163.8093 | Val Loss: 166.7886\n",
      "Epoch 016 | Train Loss: 145.5758 | Val Loss: 145.0903\n",
      "Epoch 017 | Train Loss: 127.3354 | Val Loss: 127.3306\n",
      "Epoch 018 | Train Loss: 111.9528 | Val Loss: 115.7298\n",
      "Epoch 019 | Train Loss: 99.1625 | Val Loss: 97.1173\n",
      "Epoch 020 | Train Loss: 84.9659 | Val Loss: 82.7776\n",
      "Epoch 021 | Train Loss: 72.3724 | Val Loss: 70.6705\n",
      "Epoch 022 | Train Loss: 62.7365 | Val Loss: 60.5921\n",
      "Epoch 023 | Train Loss: 54.0314 | Val Loss: 52.4461\n",
      "Epoch 024 | Train Loss: 48.0461 | Val Loss: 46.0841\n",
      "Epoch 025 | Train Loss: 41.2634 | Val Loss: 43.4163\n",
      "Epoch 026 | Train Loss: 38.6258 | Val Loss: 34.6050\n",
      "Epoch 027 | Train Loss: 32.9800 | Val Loss: 30.5140\n",
      "Epoch 028 | Train Loss: 29.8439 | Val Loss: 29.8536\n",
      "Epoch 029 | Train Loss: 27.4845 | Val Loss: 26.6485\n",
      "Epoch 030 | Train Loss: 25.5977 | Val Loss: 24.3450\n",
      "Epoch 031 | Train Loss: 23.8849 | Val Loss: 23.2303\n",
      "Epoch 032 | Train Loss: 22.7649 | Val Loss: 21.4311\n",
      "Epoch 033 | Train Loss: 21.2813 | Val Loss: 21.7732\n",
      "Epoch 034 | Train Loss: 20.5227 | Val Loss: 19.4742\n",
      "Epoch 035 | Train Loss: 19.6645 | Val Loss: 18.7184\n",
      "Epoch 036 | Train Loss: 18.8448 | Val Loss: 20.5972\n",
      "Epoch 037 | Train Loss: 18.1036 | Val Loss: 18.0004\n",
      "Epoch 038 | Train Loss: 17.3057 | Val Loss: 16.6435\n",
      "Epoch 039 | Train Loss: 16.7457 | Val Loss: 16.1557\n",
      "Epoch 040 | Train Loss: 16.1883 | Val Loss: 16.3833\n",
      "Epoch 041 | Train Loss: 15.7203 | Val Loss: 14.6512\n",
      "Epoch 042 | Train Loss: 16.3864 | Val Loss: 14.2556\n",
      "Epoch 043 | Train Loss: 14.9013 | Val Loss: 14.9117\n",
      "Epoch 044 | Train Loss: 14.7298 | Val Loss: 13.5523\n",
      "Epoch 045 | Train Loss: 14.3776 | Val Loss: 13.8195\n",
      "Epoch 046 | Train Loss: 13.9904 | Val Loss: 13.0597\n",
      "Epoch 047 | Train Loss: 13.4477 | Val Loss: 14.5095\n",
      "Epoch 048 | Train Loss: 13.3010 | Val Loss: 13.1516\n",
      "Epoch 049 | Train Loss: 13.0418 | Val Loss: 13.0084\n",
      "Epoch 050 | Train Loss: 12.6898 | Val Loss: 12.6200\n",
      "Epoch 051 | Train Loss: 12.6405 | Val Loss: 11.5868\n",
      "Epoch 052 | Train Loss: 13.0452 | Val Loss: 11.9882\n",
      "Epoch 053 | Train Loss: 12.1148 | Val Loss: 11.4171\n",
      "Epoch 054 | Train Loss: 11.8755 | Val Loss: 11.4366\n",
      "Epoch 055 | Train Loss: 12.1497 | Val Loss: 11.1150\n",
      "Epoch 056 | Train Loss: 11.8808 | Val Loss: 13.3996\n",
      "Epoch 057 | Train Loss: 11.4611 | Val Loss: 11.2944\n",
      "Epoch 058 | Train Loss: 11.7199 | Val Loss: 10.7453\n",
      "Epoch 059 | Train Loss: 11.3650 | Val Loss: 10.5071\n",
      "Epoch 060 | Train Loss: 11.0349 | Val Loss: 10.7962\n",
      "Epoch 061 | Train Loss: 10.7685 | Val Loss: 10.7504\n",
      "Epoch 062 | Train Loss: 10.5764 | Val Loss: 11.6900\n",
      "Epoch 063 | Train Loss: 10.5492 | Val Loss: 9.8942\n",
      "Epoch 064 | Train Loss: 10.5669 | Val Loss: 10.9953\n",
      "Epoch 065 | Train Loss: 10.6678 | Val Loss: 11.8986\n",
      "Epoch 066 | Train Loss: 11.4624 | Val Loss: 9.7237\n",
      "Epoch 067 | Train Loss: 10.2960 | Val Loss: 12.3637\n",
      "Epoch 068 | Train Loss: 11.2398 | Val Loss: 13.0884\n",
      "Epoch 069 | Train Loss: 10.1365 | Val Loss: 9.6397\n",
      "Epoch 070 | Train Loss: 10.0385 | Val Loss: 10.0298\n",
      "Epoch 071 | Train Loss: 9.8255 | Val Loss: 10.7268\n",
      "Epoch 072 | Train Loss: 9.6904 | Val Loss: 13.5526\n",
      "Epoch 073 | Train Loss: 10.0711 | Val Loss: 11.9262\n",
      "Epoch 074 | Train Loss: 10.5872 | Val Loss: 12.5111\n",
      "Early stopping triggered at epoch 74\n"
     ]
    },
    {
     "data": {
      "text/html": [],
      "text/plain": [
       "<IPython.core.display.HTML object>"
      ]
     },
     "metadata": {},
     "output_type": "display_data"
    },
    {
     "data": {
      "text/html": [
       "<br>    <style><br>        .wandb-row {<br>            display: flex;<br>            flex-direction: row;<br>            flex-wrap: wrap;<br>            justify-content: flex-start;<br>            width: 100%;<br>        }<br>        .wandb-col {<br>            display: flex;<br>            flex-direction: column;<br>            flex-basis: 100%;<br>            flex: 1;<br>            padding: 10px;<br>        }<br>    </style><br><div class=\"wandb-row\"><div class=\"wandb-col\"><h3>Run history:</h3><br/><table class=\"wandb\"><tr><td>epoch</td><td>▁▁▁▂▂▂▂▂▂▃▃▃▃▃▄▄▄▄▄▄▅▅▅▅▅▆▆▆▆▇▇▇▇▇▇▇████</td></tr><tr><td>train_loss</td><td>█▂▁▁▁▁▁▁▁▁▁▁▁▁▁▁▁▁▁▁▁▁▁▁▁▁▁▁▁▁▁▁▁▁▁▁▁▁▁▁</td></tr><tr><td>val_loss</td><td>█▁▁▁▁▁▁▁▁▁▁▁▁▁▁▁▁▁▁▁▁▁▁▁▁▁▁▁▁▁▁▁▁▁▁▁▁▁▁▁</td></tr></table><br/></div><div class=\"wandb-col\"><h3>Run summary:</h3><br/><table class=\"wandb\"><tr><td>epoch</td><td>74</td></tr><tr><td>train_loss</td><td>10.58722</td></tr><tr><td>val_loss</td><td>12.51107</td></tr></table><br/></div></div>"
      ],
      "text/plain": [
       "<IPython.core.display.HTML object>"
      ]
     },
     "metadata": {},
     "output_type": "display_data"
    },
    {
     "data": {
      "text/html": [
       " View run <strong style=\"color:#cdcd00\">graceful-sun-15</strong> at: <a href='https://wandb.ai/yixuan228-imperial-college-london/DE_Groupwork%20G4/runs/tlo40o5h' target=\"_blank\">https://wandb.ai/yixuan228-imperial-college-london/DE_Groupwork%20G4/runs/tlo40o5h</a><br> View project at: <a href='https://wandb.ai/yixuan228-imperial-college-london/DE_Groupwork%20G4' target=\"_blank\">https://wandb.ai/yixuan228-imperial-college-london/DE_Groupwork%20G4</a><br>Synced 5 W&B file(s), 0 media file(s), 0 artifact file(s) and 0 other file(s)"
      ],
      "text/plain": [
       "<IPython.core.display.HTML object>"
      ]
     },
     "metadata": {},
     "output_type": "display_data"
    },
    {
     "data": {
      "text/html": [
       "Find logs at: <code>.\\wandb\\run-20250320_091423-tlo40o5h\\logs</code>"
      ],
      "text/plain": [
       "<IPython.core.display.HTML object>"
      ]
     },
     "metadata": {},
     "output_type": "display_data"
    },
    {
     "data": {
      "text/html": [
       "Tracking run with wandb version 0.19.7"
      ],
      "text/plain": [
       "<IPython.core.display.HTML object>"
      ]
     },
     "metadata": {},
     "output_type": "display_data"
    },
    {
     "data": {
      "text/html": [
       "Run data is saved locally in <code>d:\\Projects\\MSc_DE_GroupWork4\\Scripts\\wandb\\run-20250320_091438-foc5r4ml</code>"
      ],
      "text/plain": [
       "<IPython.core.display.HTML object>"
      ]
     },
     "metadata": {},
     "output_type": "display_data"
    },
    {
     "data": {
      "text/html": [
       "Syncing run <strong><a href='https://wandb.ai/yixuan228-imperial-college-london/DE_Groupwork%20G4/runs/foc5r4ml' target=\"_blank\">stellar-dream-16</a></strong> to <a href='https://wandb.ai/yixuan228-imperial-college-london/DE_Groupwork%20G4' target=\"_blank\">Weights & Biases</a> (<a href='https://wandb.me/developer-guide' target=\"_blank\">docs</a>)<br>"
      ],
      "text/plain": [
       "<IPython.core.display.HTML object>"
      ]
     },
     "metadata": {},
     "output_type": "display_data"
    },
    {
     "data": {
      "text/html": [
       " View project at <a href='https://wandb.ai/yixuan228-imperial-college-london/DE_Groupwork%20G4' target=\"_blank\">https://wandb.ai/yixuan228-imperial-college-london/DE_Groupwork%20G4</a>"
      ],
      "text/plain": [
       "<IPython.core.display.HTML object>"
      ]
     },
     "metadata": {},
     "output_type": "display_data"
    },
    {
     "data": {
      "text/html": [
       " View run at <a href='https://wandb.ai/yixuan228-imperial-college-london/DE_Groupwork%20G4/runs/foc5r4ml' target=\"_blank\">https://wandb.ai/yixuan228-imperial-college-london/DE_Groupwork%20G4/runs/foc5r4ml</a>"
      ],
      "text/plain": [
       "<IPython.core.display.HTML object>"
      ]
     },
     "metadata": {},
     "output_type": "display_data"
    },
    {
     "name": "stdout",
     "output_type": "stream",
     "text": [
      "Epoch 001 | Train Loss: 22593.0815 | Val Loss: 682.0289\n",
      "Epoch 002 | Train Loss: 495.5683 | Val Loss: 359.0798\n",
      "Epoch 003 | Train Loss: 240.3910 | Val Loss: 171.9528\n",
      "Epoch 004 | Train Loss: 174.1558 | Val Loss: 478.4596\n",
      "Epoch 005 | Train Loss: 284.7962 | Val Loss: 224.9861\n",
      "Epoch 006 | Train Loss: 158.6267 | Val Loss: 751.6557\n",
      "Epoch 007 | Train Loss: 230.6269 | Val Loss: 128.2203\n",
      "Epoch 008 | Train Loss: 96.9380 | Val Loss: 52.8222\n",
      "Epoch 009 | Train Loss: 70.4091 | Val Loss: 84.5092\n",
      "Epoch 010 | Train Loss: 71.9085 | Val Loss: 207.6078\n",
      "Epoch 011 | Train Loss: 142.5457 | Val Loss: 42.0048\n",
      "Epoch 012 | Train Loss: 42.5822 | Val Loss: 47.7823\n",
      "Epoch 013 | Train Loss: 74.4651 | Val Loss: 60.8459\n",
      "Epoch 014 | Train Loss: 46.6313 | Val Loss: 400.4543\n",
      "Epoch 015 | Train Loss: 65.9219 | Val Loss: 41.4847\n",
      "Epoch 016 | Train Loss: 45.4087 | Val Loss: 32.8495\n",
      "Epoch 017 | Train Loss: 43.0065 | Val Loss: 245.7033\n",
      "Epoch 018 | Train Loss: 105.8988 | Val Loss: 296.9592\n",
      "Epoch 019 | Train Loss: 3953.1098 | Val Loss: 216.4016\n",
      "Epoch 020 | Train Loss: 95.4695 | Val Loss: 54.8551\n",
      "Epoch 021 | Train Loss: 40.4370 | Val Loss: 27.2055\n",
      "Epoch 022 | Train Loss: 26.0878 | Val Loss: 23.6983\n",
      "Epoch 023 | Train Loss: 23.0523 | Val Loss: 18.1991\n",
      "Epoch 024 | Train Loss: 18.3339 | Val Loss: 19.5285\n",
      "Epoch 025 | Train Loss: 18.9747 | Val Loss: 18.1440\n",
      "Epoch 026 | Train Loss: 20.1336 | Val Loss: 15.6222\n",
      "Epoch 027 | Train Loss: 15.9224 | Val Loss: 12.6500\n",
      "Epoch 028 | Train Loss: 14.6057 | Val Loss: 14.3873\n",
      "Epoch 029 | Train Loss: 15.7416 | Val Loss: 14.7711\n",
      "Epoch 030 | Train Loss: 16.3626 | Val Loss: 17.5465\n",
      "Epoch 031 | Train Loss: 15.6361 | Val Loss: 15.9458\n",
      "Epoch 032 | Train Loss: 15.3521 | Val Loss: 14.7212\n",
      "Early stopping triggered at epoch 32\n"
     ]
    },
    {
     "data": {
      "text/html": [],
      "text/plain": [
       "<IPython.core.display.HTML object>"
      ]
     },
     "metadata": {},
     "output_type": "display_data"
    },
    {
     "data": {
      "text/html": [
       "<br>    <style><br>        .wandb-row {<br>            display: flex;<br>            flex-direction: row;<br>            flex-wrap: wrap;<br>            justify-content: flex-start;<br>            width: 100%;<br>        }<br>        .wandb-col {<br>            display: flex;<br>            flex-direction: column;<br>            flex-basis: 100%;<br>            flex: 1;<br>            padding: 10px;<br>        }<br>    </style><br><div class=\"wandb-row\"><div class=\"wandb-col\"><h3>Run history:</h3><br/><table class=\"wandb\"><tr><td>epoch</td><td>▁▁▁▂▂▂▂▃▃▃▃▃▄▄▄▄▅▅▅▅▆▆▆▆▆▇▇▇▇███</td></tr><tr><td>train_loss</td><td>█▁▁▁▁▁▁▁▁▁▁▁▁▁▁▁▁▁▂▁▁▁▁▁▁▁▁▁▁▁▁▁</td></tr><tr><td>val_loss</td><td>▇▄▃▅▃█▂▁▂▃▁▁▁▅▁▁▃▄▃▁▁▁▁▁▁▁▁▁▁▁▁▁</td></tr></table><br/></div><div class=\"wandb-col\"><h3>Run summary:</h3><br/><table class=\"wandb\"><tr><td>epoch</td><td>32</td></tr><tr><td>train_loss</td><td>15.35213</td></tr><tr><td>val_loss</td><td>14.72122</td></tr></table><br/></div></div>"
      ],
      "text/plain": [
       "<IPython.core.display.HTML object>"
      ]
     },
     "metadata": {},
     "output_type": "display_data"
    },
    {
     "data": {
      "text/html": [
       " View run <strong style=\"color:#cdcd00\">stellar-dream-16</strong> at: <a href='https://wandb.ai/yixuan228-imperial-college-london/DE_Groupwork%20G4/runs/foc5r4ml' target=\"_blank\">https://wandb.ai/yixuan228-imperial-college-london/DE_Groupwork%20G4/runs/foc5r4ml</a><br> View project at: <a href='https://wandb.ai/yixuan228-imperial-college-london/DE_Groupwork%20G4' target=\"_blank\">https://wandb.ai/yixuan228-imperial-college-london/DE_Groupwork%20G4</a><br>Synced 5 W&B file(s), 0 media file(s), 0 artifact file(s) and 0 other file(s)"
      ],
      "text/plain": [
       "<IPython.core.display.HTML object>"
      ]
     },
     "metadata": {},
     "output_type": "display_data"
    },
    {
     "data": {
      "text/html": [
       "Find logs at: <code>.\\wandb\\run-20250320_091438-foc5r4ml\\logs</code>"
      ],
      "text/plain": [
       "<IPython.core.display.HTML object>"
      ]
     },
     "metadata": {},
     "output_type": "display_data"
    },
    {
     "data": {
      "text/html": [
       "Tracking run with wandb version 0.19.7"
      ],
      "text/plain": [
       "<IPython.core.display.HTML object>"
      ]
     },
     "metadata": {},
     "output_type": "display_data"
    },
    {
     "data": {
      "text/html": [
       "Run data is saved locally in <code>d:\\Projects\\MSc_DE_GroupWork4\\Scripts\\wandb\\run-20250320_091447-tzk8lyae</code>"
      ],
      "text/plain": [
       "<IPython.core.display.HTML object>"
      ]
     },
     "metadata": {},
     "output_type": "display_data"
    },
    {
     "data": {
      "text/html": [
       "Syncing run <strong><a href='https://wandb.ai/yixuan228-imperial-college-london/DE_Groupwork%20G4/runs/tzk8lyae' target=\"_blank\">sparkling-field-17</a></strong> to <a href='https://wandb.ai/yixuan228-imperial-college-london/DE_Groupwork%20G4' target=\"_blank\">Weights & Biases</a> (<a href='https://wandb.me/developer-guide' target=\"_blank\">docs</a>)<br>"
      ],
      "text/plain": [
       "<IPython.core.display.HTML object>"
      ]
     },
     "metadata": {},
     "output_type": "display_data"
    },
    {
     "data": {
      "text/html": [
       " View project at <a href='https://wandb.ai/yixuan228-imperial-college-london/DE_Groupwork%20G4' target=\"_blank\">https://wandb.ai/yixuan228-imperial-college-london/DE_Groupwork%20G4</a>"
      ],
      "text/plain": [
       "<IPython.core.display.HTML object>"
      ]
     },
     "metadata": {},
     "output_type": "display_data"
    },
    {
     "data": {
      "text/html": [
       " View run at <a href='https://wandb.ai/yixuan228-imperial-college-london/DE_Groupwork%20G4/runs/tzk8lyae' target=\"_blank\">https://wandb.ai/yixuan228-imperial-college-london/DE_Groupwork%20G4/runs/tzk8lyae</a>"
      ],
      "text/plain": [
       "<IPython.core.display.HTML object>"
      ]
     },
     "metadata": {},
     "output_type": "display_data"
    },
    {
     "name": "stdout",
     "output_type": "stream",
     "text": [
      "Epoch 001 | Train Loss: 9763.2508 | Val Loss: 436.0948\n",
      "Epoch 002 | Train Loss: 289.5379 | Val Loss: 232.7423\n",
      "Epoch 003 | Train Loss: 172.3680 | Val Loss: 149.3391\n",
      "Epoch 004 | Train Loss: 113.4185 | Val Loss: 88.3863\n",
      "Epoch 005 | Train Loss: 67.9341 | Val Loss: 50.5100\n",
      "Epoch 006 | Train Loss: 39.1254 | Val Loss: 59.8055\n",
      "Epoch 007 | Train Loss: 34.8625 | Val Loss: 47.4802\n",
      "Epoch 008 | Train Loss: 29.9730 | Val Loss: 26.0933\n",
      "Epoch 009 | Train Loss: 20.3136 | Val Loss: 21.1052\n",
      "Epoch 010 | Train Loss: 28.0883 | Val Loss: 16.9439\n",
      "Epoch 011 | Train Loss: 18.2314 | Val Loss: 40.6415\n",
      "Epoch 012 | Train Loss: 39.5072 | Val Loss: 66.0950\n",
      "Epoch 013 | Train Loss: 29.2500 | Val Loss: 15.1899\n",
      "Epoch 014 | Train Loss: 20.6972 | Val Loss: 29.5931\n",
      "Epoch 015 | Train Loss: 23.5441 | Val Loss: 13.2849\n",
      "Epoch 016 | Train Loss: 17.0177 | Val Loss: 28.0947\n",
      "Epoch 017 | Train Loss: 17.6925 | Val Loss: 11.7147\n",
      "Epoch 018 | Train Loss: 17.3237 | Val Loss: 11.6806\n",
      "Epoch 019 | Train Loss: 19.0024 | Val Loss: 20.3321\n",
      "Epoch 020 | Train Loss: 23.7996 | Val Loss: 18.2113\n",
      "Epoch 021 | Train Loss: 29.0613 | Val Loss: 16.9837\n",
      "Epoch 022 | Train Loss: 17.5157 | Val Loss: 32.0912\n",
      "Epoch 023 | Train Loss: 20.0913 | Val Loss: 59.6580\n",
      "Early stopping triggered at epoch 23\n"
     ]
    },
    {
     "data": {
      "text/html": [],
      "text/plain": [
       "<IPython.core.display.HTML object>"
      ]
     },
     "metadata": {},
     "output_type": "display_data"
    },
    {
     "data": {
      "text/html": [
       "<br>    <style><br>        .wandb-row {<br>            display: flex;<br>            flex-direction: row;<br>            flex-wrap: wrap;<br>            justify-content: flex-start;<br>            width: 100%;<br>        }<br>        .wandb-col {<br>            display: flex;<br>            flex-direction: column;<br>            flex-basis: 100%;<br>            flex: 1;<br>            padding: 10px;<br>        }<br>    </style><br><div class=\"wandb-row\"><div class=\"wandb-col\"><h3>Run history:</h3><br/><table class=\"wandb\"><tr><td>epoch</td><td>▁▁▂▂▂▃▃▃▄▄▄▅▅▅▅▆▆▆▇▇▇██</td></tr><tr><td>train_loss</td><td>█▁▁▁▁▁▁▁▁▁▁▁▁▁▁▁▁▁▁▁▁▁▁</td></tr><tr><td>val_loss</td><td>█▅▃▂▂▂▂▁▁▁▁▂▁▁▁▁▁▁▁▁▁▁▂</td></tr></table><br/></div><div class=\"wandb-col\"><h3>Run summary:</h3><br/><table class=\"wandb\"><tr><td>epoch</td><td>23</td></tr><tr><td>train_loss</td><td>20.09134</td></tr><tr><td>val_loss</td><td>59.658</td></tr></table><br/></div></div>"
      ],
      "text/plain": [
       "<IPython.core.display.HTML object>"
      ]
     },
     "metadata": {},
     "output_type": "display_data"
    },
    {
     "data": {
      "text/html": [
       " View run <strong style=\"color:#cdcd00\">sparkling-field-17</strong> at: <a href='https://wandb.ai/yixuan228-imperial-college-london/DE_Groupwork%20G4/runs/tzk8lyae' target=\"_blank\">https://wandb.ai/yixuan228-imperial-college-london/DE_Groupwork%20G4/runs/tzk8lyae</a><br> View project at: <a href='https://wandb.ai/yixuan228-imperial-college-london/DE_Groupwork%20G4' target=\"_blank\">https://wandb.ai/yixuan228-imperial-college-london/DE_Groupwork%20G4</a><br>Synced 5 W&B file(s), 0 media file(s), 0 artifact file(s) and 0 other file(s)"
      ],
      "text/plain": [
       "<IPython.core.display.HTML object>"
      ]
     },
     "metadata": {},
     "output_type": "display_data"
    },
    {
     "data": {
      "text/html": [
       "Find logs at: <code>.\\wandb\\run-20250320_091447-tzk8lyae\\logs</code>"
      ],
      "text/plain": [
       "<IPython.core.display.HTML object>"
      ]
     },
     "metadata": {},
     "output_type": "display_data"
    },
    {
     "data": {
      "text/html": [
       "Tracking run with wandb version 0.19.7"
      ],
      "text/plain": [
       "<IPython.core.display.HTML object>"
      ]
     },
     "metadata": {},
     "output_type": "display_data"
    },
    {
     "data": {
      "text/html": [
       "Run data is saved locally in <code>d:\\Projects\\MSc_DE_GroupWork4\\Scripts\\wandb\\run-20250320_091454-tzh5pxmx</code>"
      ],
      "text/plain": [
       "<IPython.core.display.HTML object>"
      ]
     },
     "metadata": {},
     "output_type": "display_data"
    },
    {
     "data": {
      "text/html": [
       "Syncing run <strong><a href='https://wandb.ai/yixuan228-imperial-college-london/DE_Groupwork%20G4/runs/tzh5pxmx' target=\"_blank\">youthful-puddle-18</a></strong> to <a href='https://wandb.ai/yixuan228-imperial-college-london/DE_Groupwork%20G4' target=\"_blank\">Weights & Biases</a> (<a href='https://wandb.me/developer-guide' target=\"_blank\">docs</a>)<br>"
      ],
      "text/plain": [
       "<IPython.core.display.HTML object>"
      ]
     },
     "metadata": {},
     "output_type": "display_data"
    },
    {
     "data": {
      "text/html": [
       " View project at <a href='https://wandb.ai/yixuan228-imperial-college-london/DE_Groupwork%20G4' target=\"_blank\">https://wandb.ai/yixuan228-imperial-college-london/DE_Groupwork%20G4</a>"
      ],
      "text/plain": [
       "<IPython.core.display.HTML object>"
      ]
     },
     "metadata": {},
     "output_type": "display_data"
    },
    {
     "data": {
      "text/html": [
       " View run at <a href='https://wandb.ai/yixuan228-imperial-college-london/DE_Groupwork%20G4/runs/tzh5pxmx' target=\"_blank\">https://wandb.ai/yixuan228-imperial-college-london/DE_Groupwork%20G4/runs/tzh5pxmx</a>"
      ],
      "text/plain": [
       "<IPython.core.display.HTML object>"
      ]
     },
     "metadata": {},
     "output_type": "display_data"
    },
    {
     "name": "stdout",
     "output_type": "stream",
     "text": [
      "Epoch 001 | Train Loss: 49111.3818 | Val Loss: 7266.3776\n",
      "Epoch 002 | Train Loss: 2418.8860 | Val Loss: 1096.5771\n",
      "Epoch 003 | Train Loss: 753.3475 | Val Loss: 610.3975\n",
      "Epoch 004 | Train Loss: 481.0101 | Val Loss: 439.8553\n",
      "Epoch 005 | Train Loss: 358.4765 | Val Loss: 350.2346\n",
      "Epoch 006 | Train Loss: 286.3678 | Val Loss: 298.4692\n",
      "Epoch 007 | Train Loss: 239.3473 | Val Loss: 245.7331\n",
      "Epoch 008 | Train Loss: 202.2340 | Val Loss: 211.3087\n",
      "Epoch 009 | Train Loss: 174.8704 | Val Loss: 184.0883\n",
      "Epoch 010 | Train Loss: 154.6795 | Val Loss: 164.0100\n",
      "Epoch 011 | Train Loss: 135.5188 | Val Loss: 144.6194\n",
      "Epoch 012 | Train Loss: 122.9163 | Val Loss: 128.8802\n",
      "Epoch 013 | Train Loss: 107.8692 | Val Loss: 111.7712\n",
      "Epoch 014 | Train Loss: 95.2278 | Val Loss: 99.5646\n",
      "Epoch 015 | Train Loss: 84.5868 | Val Loss: 88.5890\n",
      "Epoch 016 | Train Loss: 74.4023 | Val Loss: 77.3058\n",
      "Epoch 017 | Train Loss: 65.4114 | Val Loss: 66.9114\n",
      "Epoch 018 | Train Loss: 56.8302 | Val Loss: 58.9734\n",
      "Epoch 019 | Train Loss: 51.1640 | Val Loss: 54.3048\n",
      "Epoch 020 | Train Loss: 44.7051 | Val Loss: 46.1653\n",
      "Epoch 021 | Train Loss: 39.5175 | Val Loss: 40.9332\n",
      "Epoch 022 | Train Loss: 35.4597 | Val Loss: 37.6201\n",
      "Epoch 023 | Train Loss: 32.0455 | Val Loss: 34.5368\n",
      "Epoch 024 | Train Loss: 29.8753 | Val Loss: 29.2037\n",
      "Epoch 025 | Train Loss: 27.7062 | Val Loss: 28.5666\n",
      "Epoch 026 | Train Loss: 25.4414 | Val Loss: 24.6742\n",
      "Epoch 027 | Train Loss: 22.8185 | Val Loss: 29.0150\n",
      "Epoch 028 | Train Loss: 22.1027 | Val Loss: 24.2816\n",
      "Epoch 029 | Train Loss: 20.1175 | Val Loss: 19.6979\n",
      "Epoch 030 | Train Loss: 18.8246 | Val Loss: 20.1424\n",
      "Epoch 031 | Train Loss: 18.4108 | Val Loss: 23.2274\n",
      "Epoch 032 | Train Loss: 17.5318 | Val Loss: 18.3909\n",
      "Epoch 033 | Train Loss: 16.8863 | Val Loss: 17.4513\n",
      "Epoch 034 | Train Loss: 17.5970 | Val Loss: 17.0084\n",
      "Epoch 035 | Train Loss: 16.1390 | Val Loss: 15.3451\n",
      "Epoch 036 | Train Loss: 15.2376 | Val Loss: 18.3894\n",
      "Epoch 037 | Train Loss: 15.8006 | Val Loss: 16.0841\n",
      "Epoch 038 | Train Loss: 14.5663 | Val Loss: 14.2502\n",
      "Epoch 039 | Train Loss: 14.7424 | Val Loss: 14.1665\n",
      "Epoch 040 | Train Loss: 14.4277 | Val Loss: 14.1610\n",
      "Epoch 041 | Train Loss: 13.3748 | Val Loss: 12.9424\n",
      "Epoch 042 | Train Loss: 12.8874 | Val Loss: 16.8061\n",
      "Epoch 043 | Train Loss: 12.5178 | Val Loss: 12.2064\n",
      "Epoch 044 | Train Loss: 12.8105 | Val Loss: 13.0242\n",
      "Epoch 045 | Train Loss: 12.3837 | Val Loss: 14.2206\n",
      "Epoch 046 | Train Loss: 13.3204 | Val Loss: 12.5516\n",
      "Epoch 047 | Train Loss: 12.0495 | Val Loss: 12.2477\n",
      "Epoch 048 | Train Loss: 12.0892 | Val Loss: 24.8794\n",
      "Early stopping triggered at epoch 48\n"
     ]
    },
    {
     "data": {
      "text/html": [],
      "text/plain": [
       "<IPython.core.display.HTML object>"
      ]
     },
     "metadata": {},
     "output_type": "display_data"
    },
    {
     "data": {
      "text/html": [
       "<br>    <style><br>        .wandb-row {<br>            display: flex;<br>            flex-direction: row;<br>            flex-wrap: wrap;<br>            justify-content: flex-start;<br>            width: 100%;<br>        }<br>        .wandb-col {<br>            display: flex;<br>            flex-direction: column;<br>            flex-basis: 100%;<br>            flex: 1;<br>            padding: 10px;<br>        }<br>    </style><br><div class=\"wandb-row\"><div class=\"wandb-col\"><h3>Run history:</h3><br/><table class=\"wandb\"><tr><td>epoch</td><td>▁▁▁▁▂▂▂▂▂▂▃▃▃▃▃▄▄▄▄▄▅▅▅▅▅▅▆▆▆▆▆▇▇▇▇▇▇███</td></tr><tr><td>train_loss</td><td>█▁▁▁▁▁▁▁▁▁▁▁▁▁▁▁▁▁▁▁▁▁▁▁▁▁▁▁▁▁▁▁▁▁▁▁▁▁▁▁</td></tr><tr><td>val_loss</td><td>█▂▂▁▁▁▁▁▁▁▁▁▁▁▁▁▁▁▁▁▁▁▁▁▁▁▁▁▁▁▁▁▁▁▁▁▁▁▁▁</td></tr></table><br/></div><div class=\"wandb-col\"><h3>Run summary:</h3><br/><table class=\"wandb\"><tr><td>epoch</td><td>48</td></tr><tr><td>train_loss</td><td>12.0892</td></tr><tr><td>val_loss</td><td>24.87945</td></tr></table><br/></div></div>"
      ],
      "text/plain": [
       "<IPython.core.display.HTML object>"
      ]
     },
     "metadata": {},
     "output_type": "display_data"
    },
    {
     "data": {
      "text/html": [
       " View run <strong style=\"color:#cdcd00\">youthful-puddle-18</strong> at: <a href='https://wandb.ai/yixuan228-imperial-college-london/DE_Groupwork%20G4/runs/tzh5pxmx' target=\"_blank\">https://wandb.ai/yixuan228-imperial-college-london/DE_Groupwork%20G4/runs/tzh5pxmx</a><br> View project at: <a href='https://wandb.ai/yixuan228-imperial-college-london/DE_Groupwork%20G4' target=\"_blank\">https://wandb.ai/yixuan228-imperial-college-london/DE_Groupwork%20G4</a><br>Synced 5 W&B file(s), 0 media file(s), 0 artifact file(s) and 0 other file(s)"
      ],
      "text/plain": [
       "<IPython.core.display.HTML object>"
      ]
     },
     "metadata": {},
     "output_type": "display_data"
    },
    {
     "data": {
      "text/html": [
       "Find logs at: <code>.\\wandb\\run-20250320_091454-tzh5pxmx\\logs</code>"
      ],
      "text/plain": [
       "<IPython.core.display.HTML object>"
      ]
     },
     "metadata": {},
     "output_type": "display_data"
    },
    {
     "data": {
      "text/html": [
       "Tracking run with wandb version 0.19.7"
      ],
      "text/plain": [
       "<IPython.core.display.HTML object>"
      ]
     },
     "metadata": {},
     "output_type": "display_data"
    },
    {
     "data": {
      "text/html": [
       "Run data is saved locally in <code>d:\\Projects\\MSc_DE_GroupWork4\\Scripts\\wandb\\run-20250320_091506-gjbzkymt</code>"
      ],
      "text/plain": [
       "<IPython.core.display.HTML object>"
      ]
     },
     "metadata": {},
     "output_type": "display_data"
    },
    {
     "data": {
      "text/html": [
       "Syncing run <strong><a href='https://wandb.ai/yixuan228-imperial-college-london/DE_Groupwork%20G4/runs/gjbzkymt' target=\"_blank\">comic-firefly-19</a></strong> to <a href='https://wandb.ai/yixuan228-imperial-college-london/DE_Groupwork%20G4' target=\"_blank\">Weights & Biases</a> (<a href='https://wandb.me/developer-guide' target=\"_blank\">docs</a>)<br>"
      ],
      "text/plain": [
       "<IPython.core.display.HTML object>"
      ]
     },
     "metadata": {},
     "output_type": "display_data"
    },
    {
     "data": {
      "text/html": [
       " View project at <a href='https://wandb.ai/yixuan228-imperial-college-london/DE_Groupwork%20G4' target=\"_blank\">https://wandb.ai/yixuan228-imperial-college-london/DE_Groupwork%20G4</a>"
      ],
      "text/plain": [
       "<IPython.core.display.HTML object>"
      ]
     },
     "metadata": {},
     "output_type": "display_data"
    },
    {
     "data": {
      "text/html": [
       " View run at <a href='https://wandb.ai/yixuan228-imperial-college-london/DE_Groupwork%20G4/runs/gjbzkymt' target=\"_blank\">https://wandb.ai/yixuan228-imperial-college-london/DE_Groupwork%20G4/runs/gjbzkymt</a>"
      ],
      "text/plain": [
       "<IPython.core.display.HTML object>"
      ]
     },
     "metadata": {},
     "output_type": "display_data"
    },
    {
     "name": "stdout",
     "output_type": "stream",
     "text": [
      "Epoch 001 | Train Loss: 12227.6263 | Val Loss: 499.7431\n",
      "Epoch 002 | Train Loss: 322.2107 | Val Loss: 278.8039\n",
      "Epoch 003 | Train Loss: 169.4481 | Val Loss: 150.2505\n",
      "Epoch 004 | Train Loss: 69.3991 | Val Loss: 40.5596\n",
      "Epoch 005 | Train Loss: 38.0722 | Val Loss: 48.4696\n",
      "Epoch 006 | Train Loss: 34.2081 | Val Loss: 29.6376\n",
      "Epoch 007 | Train Loss: 29.4689 | Val Loss: 24.5691\n",
      "Epoch 008 | Train Loss: 26.1999 | Val Loss: 30.7175\n",
      "Epoch 009 | Train Loss: 36.7946 | Val Loss: 34.0902\n",
      "Epoch 010 | Train Loss: 27.4697 | Val Loss: 43.4406\n",
      "Epoch 011 | Train Loss: 33.1243 | Val Loss: 320.6629\n",
      "Epoch 012 | Train Loss: 65.4011 | Val Loss: 48.4197\n",
      "Early stopping triggered at epoch 12\n"
     ]
    },
    {
     "data": {
      "text/html": [],
      "text/plain": [
       "<IPython.core.display.HTML object>"
      ]
     },
     "metadata": {},
     "output_type": "display_data"
    },
    {
     "data": {
      "text/html": [
       "<br>    <style><br>        .wandb-row {<br>            display: flex;<br>            flex-direction: row;<br>            flex-wrap: wrap;<br>            justify-content: flex-start;<br>            width: 100%;<br>        }<br>        .wandb-col {<br>            display: flex;<br>            flex-direction: column;<br>            flex-basis: 100%;<br>            flex: 1;<br>            padding: 10px;<br>        }<br>    </style><br><div class=\"wandb-row\"><div class=\"wandb-col\"><h3>Run history:</h3><br/><table class=\"wandb\"><tr><td>epoch</td><td>▁▂▂▃▄▄▅▅▆▇▇█</td></tr><tr><td>train_loss</td><td>█▁▁▁▁▁▁▁▁▁▁▁</td></tr><tr><td>val_loss</td><td>█▅▃▁▁▁▁▁▁▁▅▁</td></tr></table><br/></div><div class=\"wandb-col\"><h3>Run summary:</h3><br/><table class=\"wandb\"><tr><td>epoch</td><td>12</td></tr><tr><td>train_loss</td><td>65.40114</td></tr><tr><td>val_loss</td><td>48.41966</td></tr></table><br/></div></div>"
      ],
      "text/plain": [
       "<IPython.core.display.HTML object>"
      ]
     },
     "metadata": {},
     "output_type": "display_data"
    },
    {
     "data": {
      "text/html": [
       " View run <strong style=\"color:#cdcd00\">comic-firefly-19</strong> at: <a href='https://wandb.ai/yixuan228-imperial-college-london/DE_Groupwork%20G4/runs/gjbzkymt' target=\"_blank\">https://wandb.ai/yixuan228-imperial-college-london/DE_Groupwork%20G4/runs/gjbzkymt</a><br> View project at: <a href='https://wandb.ai/yixuan228-imperial-college-london/DE_Groupwork%20G4' target=\"_blank\">https://wandb.ai/yixuan228-imperial-college-london/DE_Groupwork%20G4</a><br>Synced 5 W&B file(s), 0 media file(s), 0 artifact file(s) and 0 other file(s)"
      ],
      "text/plain": [
       "<IPython.core.display.HTML object>"
      ]
     },
     "metadata": {},
     "output_type": "display_data"
    },
    {
     "data": {
      "text/html": [
       "Find logs at: <code>.\\wandb\\run-20250320_091506-gjbzkymt\\logs</code>"
      ],
      "text/plain": [
       "<IPython.core.display.HTML object>"
      ]
     },
     "metadata": {},
     "output_type": "display_data"
    },
    {
     "data": {
      "text/html": [
       "Tracking run with wandb version 0.19.7"
      ],
      "text/plain": [
       "<IPython.core.display.HTML object>"
      ]
     },
     "metadata": {},
     "output_type": "display_data"
    },
    {
     "data": {
      "text/html": [
       "Run data is saved locally in <code>d:\\Projects\\MSc_DE_GroupWork4\\Scripts\\wandb\\run-20250320_091510-3gawrj7a</code>"
      ],
      "text/plain": [
       "<IPython.core.display.HTML object>"
      ]
     },
     "metadata": {},
     "output_type": "display_data"
    },
    {
     "data": {
      "text/html": [
       "Syncing run <strong><a href='https://wandb.ai/yixuan228-imperial-college-london/DE_Groupwork%20G4/runs/3gawrj7a' target=\"_blank\">deep-grass-20</a></strong> to <a href='https://wandb.ai/yixuan228-imperial-college-london/DE_Groupwork%20G4' target=\"_blank\">Weights & Biases</a> (<a href='https://wandb.me/developer-guide' target=\"_blank\">docs</a>)<br>"
      ],
      "text/plain": [
       "<IPython.core.display.HTML object>"
      ]
     },
     "metadata": {},
     "output_type": "display_data"
    },
    {
     "data": {
      "text/html": [
       " View project at <a href='https://wandb.ai/yixuan228-imperial-college-london/DE_Groupwork%20G4' target=\"_blank\">https://wandb.ai/yixuan228-imperial-college-london/DE_Groupwork%20G4</a>"
      ],
      "text/plain": [
       "<IPython.core.display.HTML object>"
      ]
     },
     "metadata": {},
     "output_type": "display_data"
    },
    {
     "data": {
      "text/html": [
       " View run at <a href='https://wandb.ai/yixuan228-imperial-college-london/DE_Groupwork%20G4/runs/3gawrj7a' target=\"_blank\">https://wandb.ai/yixuan228-imperial-college-london/DE_Groupwork%20G4/runs/3gawrj7a</a>"
      ],
      "text/plain": [
       "<IPython.core.display.HTML object>"
      ]
     },
     "metadata": {},
     "output_type": "display_data"
    },
    {
     "name": "stdout",
     "output_type": "stream",
     "text": [
      "Epoch 001 | Train Loss: 12224.9449 | Val Loss: 692.4849\n",
      "Epoch 002 | Train Loss: 488.2334 | Val Loss: 409.3462\n",
      "Epoch 003 | Train Loss: 304.6133 | Val Loss: 283.4939\n",
      "Epoch 004 | Train Loss: 216.6339 | Val Loss: 200.8066\n",
      "Epoch 005 | Train Loss: 160.5215 | Val Loss: 152.1879\n",
      "Epoch 006 | Train Loss: 115.7467 | Val Loss: 121.2122\n",
      "Epoch 007 | Train Loss: 78.2552 | Val Loss: 68.4942\n",
      "Epoch 008 | Train Loss: 52.5021 | Val Loss: 46.4135\n",
      "Epoch 009 | Train Loss: 38.7241 | Val Loss: 31.9834\n",
      "Epoch 010 | Train Loss: 28.5940 | Val Loss: 26.0801\n",
      "Epoch 011 | Train Loss: 23.7532 | Val Loss: 20.5801\n",
      "Epoch 012 | Train Loss: 20.6220 | Val Loss: 18.1140\n",
      "Epoch 013 | Train Loss: 20.1560 | Val Loss: 18.7981\n",
      "Epoch 014 | Train Loss: 17.9183 | Val Loss: 19.3939\n",
      "Epoch 015 | Train Loss: 17.1099 | Val Loss: 17.5915\n",
      "Epoch 016 | Train Loss: 14.8493 | Val Loss: 13.6296\n",
      "Epoch 017 | Train Loss: 15.0361 | Val Loss: 12.8572\n",
      "Epoch 018 | Train Loss: 14.1645 | Val Loss: 28.1823\n",
      "Epoch 019 | Train Loss: 18.4014 | Val Loss: 17.7919\n",
      "Epoch 020 | Train Loss: 14.2576 | Val Loss: 15.8468\n",
      "Epoch 021 | Train Loss: 13.5386 | Val Loss: 11.4000\n",
      "Epoch 022 | Train Loss: 13.5193 | Val Loss: 14.5828\n",
      "Epoch 023 | Train Loss: 15.6785 | Val Loss: 10.7730\n",
      "Epoch 024 | Train Loss: 11.7825 | Val Loss: 19.6319\n",
      "Epoch 025 | Train Loss: 12.2320 | Val Loss: 20.2187\n",
      "Epoch 026 | Train Loss: 14.3208 | Val Loss: 12.8467\n",
      "Epoch 027 | Train Loss: 17.9987 | Val Loss: 34.0616\n",
      "Epoch 028 | Train Loss: 17.9792 | Val Loss: 11.9244\n",
      "Early stopping triggered at epoch 28\n"
     ]
    },
    {
     "data": {
      "text/html": [],
      "text/plain": [
       "<IPython.core.display.HTML object>"
      ]
     },
     "metadata": {},
     "output_type": "display_data"
    },
    {
     "data": {
      "text/html": [
       "<br>    <style><br>        .wandb-row {<br>            display: flex;<br>            flex-direction: row;<br>            flex-wrap: wrap;<br>            justify-content: flex-start;<br>            width: 100%;<br>        }<br>        .wandb-col {<br>            display: flex;<br>            flex-direction: column;<br>            flex-basis: 100%;<br>            flex: 1;<br>            padding: 10px;<br>        }<br>    </style><br><div class=\"wandb-row\"><div class=\"wandb-col\"><h3>Run history:</h3><br/><table class=\"wandb\"><tr><td>epoch</td><td>▁▁▂▂▂▂▃▃▃▃▄▄▄▄▅▅▅▅▆▆▆▆▇▇▇▇██</td></tr><tr><td>train_loss</td><td>█▁▁▁▁▁▁▁▁▁▁▁▁▁▁▁▁▁▁▁▁▁▁▁▁▁▁▁</td></tr><tr><td>val_loss</td><td>█▅▄▃▂▂▂▁▁▁▁▁▁▁▁▁▁▁▁▁▁▁▁▁▁▁▁▁</td></tr></table><br/></div><div class=\"wandb-col\"><h3>Run summary:</h3><br/><table class=\"wandb\"><tr><td>epoch</td><td>28</td></tr><tr><td>train_loss</td><td>17.97919</td></tr><tr><td>val_loss</td><td>11.92445</td></tr></table><br/></div></div>"
      ],
      "text/plain": [
       "<IPython.core.display.HTML object>"
      ]
     },
     "metadata": {},
     "output_type": "display_data"
    },
    {
     "data": {
      "text/html": [
       " View run <strong style=\"color:#cdcd00\">deep-grass-20</strong> at: <a href='https://wandb.ai/yixuan228-imperial-college-london/DE_Groupwork%20G4/runs/3gawrj7a' target=\"_blank\">https://wandb.ai/yixuan228-imperial-college-london/DE_Groupwork%20G4/runs/3gawrj7a</a><br> View project at: <a href='https://wandb.ai/yixuan228-imperial-college-london/DE_Groupwork%20G4' target=\"_blank\">https://wandb.ai/yixuan228-imperial-college-london/DE_Groupwork%20G4</a><br>Synced 5 W&B file(s), 0 media file(s), 0 artifact file(s) and 0 other file(s)"
      ],
      "text/plain": [
       "<IPython.core.display.HTML object>"
      ]
     },
     "metadata": {},
     "output_type": "display_data"
    },
    {
     "data": {
      "text/html": [
       "Find logs at: <code>.\\wandb\\run-20250320_091510-3gawrj7a\\logs</code>"
      ],
      "text/plain": [
       "<IPython.core.display.HTML object>"
      ]
     },
     "metadata": {},
     "output_type": "display_data"
    },
    {
     "data": {
      "text/html": [
       "Tracking run with wandb version 0.19.7"
      ],
      "text/plain": [
       "<IPython.core.display.HTML object>"
      ]
     },
     "metadata": {},
     "output_type": "display_data"
    },
    {
     "data": {
      "text/html": [
       "Run data is saved locally in <code>d:\\Projects\\MSc_DE_GroupWork4\\Scripts\\wandb\\run-20250320_091518-baaz560a</code>"
      ],
      "text/plain": [
       "<IPython.core.display.HTML object>"
      ]
     },
     "metadata": {},
     "output_type": "display_data"
    },
    {
     "data": {
      "text/html": [
       "Syncing run <strong><a href='https://wandb.ai/yixuan228-imperial-college-london/DE_Groupwork%20G4/runs/baaz560a' target=\"_blank\">driven-valley-21</a></strong> to <a href='https://wandb.ai/yixuan228-imperial-college-london/DE_Groupwork%20G4' target=\"_blank\">Weights & Biases</a> (<a href='https://wandb.me/developer-guide' target=\"_blank\">docs</a>)<br>"
      ],
      "text/plain": [
       "<IPython.core.display.HTML object>"
      ]
     },
     "metadata": {},
     "output_type": "display_data"
    },
    {
     "data": {
      "text/html": [
       " View project at <a href='https://wandb.ai/yixuan228-imperial-college-london/DE_Groupwork%20G4' target=\"_blank\">https://wandb.ai/yixuan228-imperial-college-london/DE_Groupwork%20G4</a>"
      ],
      "text/plain": [
       "<IPython.core.display.HTML object>"
      ]
     },
     "metadata": {},
     "output_type": "display_data"
    },
    {
     "data": {
      "text/html": [
       " View run at <a href='https://wandb.ai/yixuan228-imperial-college-london/DE_Groupwork%20G4/runs/baaz560a' target=\"_blank\">https://wandb.ai/yixuan228-imperial-college-london/DE_Groupwork%20G4/runs/baaz560a</a>"
      ],
      "text/plain": [
       "<IPython.core.display.HTML object>"
      ]
     },
     "metadata": {},
     "output_type": "display_data"
    },
    {
     "name": "stdout",
     "output_type": "stream",
     "text": [
      "Epoch 001 | Train Loss: 57942.5063 | Val Loss: 31399.5658\n",
      "Epoch 002 | Train Loss: 9121.8266 | Val Loss: 2911.3682\n",
      "Epoch 003 | Train Loss: 1855.9901 | Val Loss: 1358.6682\n",
      "Epoch 004 | Train Loss: 1048.8312 | Val Loss: 945.0791\n",
      "Epoch 005 | Train Loss: 795.4101 | Val Loss: 768.4747\n",
      "Epoch 006 | Train Loss: 664.2106 | Val Loss: 664.0561\n",
      "Epoch 007 | Train Loss: 574.5004 | Val Loss: 586.8342\n",
      "Epoch 008 | Train Loss: 503.4738 | Val Loss: 517.5471\n",
      "Epoch 009 | Train Loss: 442.4874 | Val Loss: 468.9319\n",
      "Epoch 010 | Train Loss: 394.9073 | Val Loss: 422.1971\n",
      "Epoch 011 | Train Loss: 356.3674 | Val Loss: 382.4133\n",
      "Epoch 012 | Train Loss: 322.3820 | Val Loss: 350.4510\n",
      "Epoch 013 | Train Loss: 294.8370 | Val Loss: 320.3246\n",
      "Epoch 014 | Train Loss: 270.6302 | Val Loss: 295.3568\n",
      "Epoch 015 | Train Loss: 252.6236 | Val Loss: 272.7853\n",
      "Epoch 016 | Train Loss: 231.6933 | Val Loss: 250.1145\n",
      "Epoch 017 | Train Loss: 215.4982 | Val Loss: 232.2984\n",
      "Epoch 018 | Train Loss: 199.7574 | Val Loss: 215.6686\n",
      "Epoch 019 | Train Loss: 185.8249 | Val Loss: 200.4066\n",
      "Epoch 020 | Train Loss: 172.6688 | Val Loss: 186.0351\n",
      "Epoch 021 | Train Loss: 160.5565 | Val Loss: 172.9905\n",
      "Epoch 022 | Train Loss: 149.4131 | Val Loss: 159.2309\n",
      "Epoch 023 | Train Loss: 138.0845 | Val Loss: 150.2110\n",
      "Epoch 024 | Train Loss: 128.2550 | Val Loss: 137.3809\n",
      "Epoch 025 | Train Loss: 118.7330 | Val Loss: 126.6453\n",
      "Epoch 026 | Train Loss: 108.8888 | Val Loss: 115.1677\n",
      "Epoch 027 | Train Loss: 99.9657 | Val Loss: 105.1464\n",
      "Epoch 028 | Train Loss: 91.7985 | Val Loss: 97.3619\n",
      "Epoch 029 | Train Loss: 84.5264 | Val Loss: 88.3867\n",
      "Epoch 030 | Train Loss: 76.8978 | Val Loss: 82.5196\n",
      "Epoch 031 | Train Loss: 70.7848 | Val Loss: 74.5040\n",
      "Epoch 032 | Train Loss: 63.8124 | Val Loss: 68.4254\n",
      "Epoch 033 | Train Loss: 57.8034 | Val Loss: 61.2081\n",
      "Epoch 034 | Train Loss: 52.3298 | Val Loss: 54.3910\n",
      "Epoch 035 | Train Loss: 47.4492 | Val Loss: 50.2525\n",
      "Epoch 036 | Train Loss: 44.0947 | Val Loss: 45.7099\n",
      "Epoch 037 | Train Loss: 39.8210 | Val Loss: 41.3157\n",
      "Epoch 038 | Train Loss: 37.2500 | Val Loss: 37.7675\n",
      "Epoch 039 | Train Loss: 33.9838 | Val Loss: 35.1653\n",
      "Epoch 040 | Train Loss: 32.0850 | Val Loss: 32.6585\n",
      "Epoch 041 | Train Loss: 29.7528 | Val Loss: 31.8383\n",
      "Epoch 042 | Train Loss: 28.3442 | Val Loss: 28.2141\n",
      "Epoch 043 | Train Loss: 26.6178 | Val Loss: 27.3171\n",
      "Epoch 044 | Train Loss: 24.7579 | Val Loss: 24.6218\n",
      "Epoch 045 | Train Loss: 23.5297 | Val Loss: 23.5322\n",
      "Epoch 046 | Train Loss: 22.3660 | Val Loss: 22.4307\n",
      "Epoch 047 | Train Loss: 21.3647 | Val Loss: 21.3261\n",
      "Epoch 048 | Train Loss: 20.5499 | Val Loss: 20.4023\n",
      "Epoch 049 | Train Loss: 19.6129 | Val Loss: 21.0492\n",
      "Epoch 050 | Train Loss: 19.5438 | Val Loss: 18.9341\n",
      "Epoch 051 | Train Loss: 18.3762 | Val Loss: 18.2197\n",
      "Epoch 052 | Train Loss: 17.6468 | Val Loss: 16.9605\n",
      "Epoch 053 | Train Loss: 16.9301 | Val Loss: 16.8107\n",
      "Epoch 054 | Train Loss: 16.6916 | Val Loss: 16.6487\n",
      "Epoch 055 | Train Loss: 16.4482 | Val Loss: 17.5055\n",
      "Epoch 056 | Train Loss: 17.4419 | Val Loss: 15.6131\n",
      "Epoch 057 | Train Loss: 15.2775 | Val Loss: 14.9530\n",
      "Epoch 058 | Train Loss: 15.2775 | Val Loss: 14.1177\n",
      "Epoch 059 | Train Loss: 14.0248 | Val Loss: 13.9793\n",
      "Epoch 060 | Train Loss: 13.8542 | Val Loss: 13.1252\n",
      "Epoch 061 | Train Loss: 13.4238 | Val Loss: 15.0669\n",
      "Epoch 062 | Train Loss: 13.3213 | Val Loss: 13.2828\n",
      "Epoch 063 | Train Loss: 12.9327 | Val Loss: 12.7350\n",
      "Epoch 064 | Train Loss: 12.7525 | Val Loss: 12.0232\n",
      "Epoch 065 | Train Loss: 12.2947 | Val Loss: 12.5185\n",
      "Epoch 066 | Train Loss: 12.0841 | Val Loss: 12.3645\n",
      "Epoch 067 | Train Loss: 11.7319 | Val Loss: 11.3231\n",
      "Epoch 068 | Train Loss: 11.7634 | Val Loss: 12.1863\n",
      "Epoch 069 | Train Loss: 12.9832 | Val Loss: 12.9520\n",
      "Epoch 070 | Train Loss: 12.1877 | Val Loss: 10.7527\n",
      "Epoch 071 | Train Loss: 11.3504 | Val Loss: 11.0743\n",
      "Epoch 072 | Train Loss: 11.7404 | Val Loss: 11.2148\n",
      "Epoch 073 | Train Loss: 10.7368 | Val Loss: 10.9308\n",
      "Epoch 074 | Train Loss: 10.6632 | Val Loss: 12.1134\n",
      "Epoch 075 | Train Loss: 10.7189 | Val Loss: 12.1701\n",
      "Early stopping triggered at epoch 75\n"
     ]
    },
    {
     "data": {
      "text/html": [],
      "text/plain": [
       "<IPython.core.display.HTML object>"
      ]
     },
     "metadata": {},
     "output_type": "display_data"
    },
    {
     "data": {
      "text/html": [
       "<br>    <style><br>        .wandb-row {<br>            display: flex;<br>            flex-direction: row;<br>            flex-wrap: wrap;<br>            justify-content: flex-start;<br>            width: 100%;<br>        }<br>        .wandb-col {<br>            display: flex;<br>            flex-direction: column;<br>            flex-basis: 100%;<br>            flex: 1;<br>            padding: 10px;<br>        }<br>    </style><br><div class=\"wandb-row\"><div class=\"wandb-col\"><h3>Run history:</h3><br/><table class=\"wandb\"><tr><td>epoch</td><td>▁▁▁▁▁▂▂▂▂▂▃▃▃▃▃▃▄▄▄▄▅▅▅▅▅▆▆▆▆▆▆▇▇▇▇▇▇███</td></tr><tr><td>train_loss</td><td>█▂▁▁▁▁▁▁▁▁▁▁▁▁▁▁▁▁▁▁▁▁▁▁▁▁▁▁▁▁▁▁▁▁▁▁▁▁▁▁</td></tr><tr><td>val_loss</td><td>█▄▃▃▂▂▂▂▂▂▁▁▁▁▁▁▁▁▁▁▁▁▁▁▁▁▁▁▁▁▁▁▁▁▁▁▁▁▁▁</td></tr></table><br/></div><div class=\"wandb-col\"><h3>Run summary:</h3><br/><table class=\"wandb\"><tr><td>epoch</td><td>75</td></tr><tr><td>train_loss</td><td>10.71887</td></tr><tr><td>val_loss</td><td>12.17005</td></tr></table><br/></div></div>"
      ],
      "text/plain": [
       "<IPython.core.display.HTML object>"
      ]
     },
     "metadata": {},
     "output_type": "display_data"
    },
    {
     "data": {
      "text/html": [
       " View run <strong style=\"color:#cdcd00\">driven-valley-21</strong> at: <a href='https://wandb.ai/yixuan228-imperial-college-london/DE_Groupwork%20G4/runs/baaz560a' target=\"_blank\">https://wandb.ai/yixuan228-imperial-college-london/DE_Groupwork%20G4/runs/baaz560a</a><br> View project at: <a href='https://wandb.ai/yixuan228-imperial-college-london/DE_Groupwork%20G4' target=\"_blank\">https://wandb.ai/yixuan228-imperial-college-london/DE_Groupwork%20G4</a><br>Synced 5 W&B file(s), 0 media file(s), 0 artifact file(s) and 0 other file(s)"
      ],
      "text/plain": [
       "<IPython.core.display.HTML object>"
      ]
     },
     "metadata": {},
     "output_type": "display_data"
    },
    {
     "data": {
      "text/html": [
       "Find logs at: <code>.\\wandb\\run-20250320_091518-baaz560a\\logs</code>"
      ],
      "text/plain": [
       "<IPython.core.display.HTML object>"
      ]
     },
     "metadata": {},
     "output_type": "display_data"
    },
    {
     "data": {
      "text/html": [
       "Tracking run with wandb version 0.19.7"
      ],
      "text/plain": [
       "<IPython.core.display.HTML object>"
      ]
     },
     "metadata": {},
     "output_type": "display_data"
    },
    {
     "data": {
      "text/html": [
       "Run data is saved locally in <code>d:\\Projects\\MSc_DE_GroupWork4\\Scripts\\wandb\\run-20250320_091534-cl0qaa1m</code>"
      ],
      "text/plain": [
       "<IPython.core.display.HTML object>"
      ]
     },
     "metadata": {},
     "output_type": "display_data"
    },
    {
     "data": {
      "text/html": [
       "Syncing run <strong><a href='https://wandb.ai/yixuan228-imperial-college-london/DE_Groupwork%20G4/runs/cl0qaa1m' target=\"_blank\">efficient-snowflake-22</a></strong> to <a href='https://wandb.ai/yixuan228-imperial-college-london/DE_Groupwork%20G4' target=\"_blank\">Weights & Biases</a> (<a href='https://wandb.me/developer-guide' target=\"_blank\">docs</a>)<br>"
      ],
      "text/plain": [
       "<IPython.core.display.HTML object>"
      ]
     },
     "metadata": {},
     "output_type": "display_data"
    },
    {
     "data": {
      "text/html": [
       " View project at <a href='https://wandb.ai/yixuan228-imperial-college-london/DE_Groupwork%20G4' target=\"_blank\">https://wandb.ai/yixuan228-imperial-college-london/DE_Groupwork%20G4</a>"
      ],
      "text/plain": [
       "<IPython.core.display.HTML object>"
      ]
     },
     "metadata": {},
     "output_type": "display_data"
    },
    {
     "data": {
      "text/html": [
       " View run at <a href='https://wandb.ai/yixuan228-imperial-college-london/DE_Groupwork%20G4/runs/cl0qaa1m' target=\"_blank\">https://wandb.ai/yixuan228-imperial-college-london/DE_Groupwork%20G4/runs/cl0qaa1m</a>"
      ],
      "text/plain": [
       "<IPython.core.display.HTML object>"
      ]
     },
     "metadata": {},
     "output_type": "display_data"
    },
    {
     "name": "stdout",
     "output_type": "stream",
     "text": [
      "Epoch 001 | Train Loss: 12556.6864 | Val Loss: 1159.6875\n",
      "Epoch 002 | Train Loss: 358.5714 | Val Loss: 142.3724\n",
      "Epoch 003 | Train Loss: 95.4227 | Val Loss: 75.5630\n",
      "Epoch 004 | Train Loss: 59.2816 | Val Loss: 53.3830\n",
      "Epoch 005 | Train Loss: 33.7335 | Val Loss: 35.5286\n",
      "Epoch 006 | Train Loss: 39.2041 | Val Loss: 194.8900\n",
      "Epoch 007 | Train Loss: 58.1660 | Val Loss: 56.0432\n",
      "Epoch 008 | Train Loss: 38.2331 | Val Loss: 19.8850\n",
      "Epoch 009 | Train Loss: 45.3136 | Val Loss: 42.4114\n",
      "Epoch 010 | Train Loss: 36.7326 | Val Loss: 21.2786\n",
      "Epoch 011 | Train Loss: 59.1652 | Val Loss: 80.9892\n",
      "Epoch 012 | Train Loss: 700.1780 | Val Loss: 108.8521\n",
      "Epoch 013 | Train Loss: 43.6958 | Val Loss: 27.8880\n",
      "Early stopping triggered at epoch 13\n"
     ]
    },
    {
     "data": {
      "text/html": [],
      "text/plain": [
       "<IPython.core.display.HTML object>"
      ]
     },
     "metadata": {},
     "output_type": "display_data"
    },
    {
     "data": {
      "text/html": [
       "<br>    <style><br>        .wandb-row {<br>            display: flex;<br>            flex-direction: row;<br>            flex-wrap: wrap;<br>            justify-content: flex-start;<br>            width: 100%;<br>        }<br>        .wandb-col {<br>            display: flex;<br>            flex-direction: column;<br>            flex-basis: 100%;<br>            flex: 1;<br>            padding: 10px;<br>        }<br>    </style><br><div class=\"wandb-row\"><div class=\"wandb-col\"><h3>Run history:</h3><br/><table class=\"wandb\"><tr><td>epoch</td><td>▁▂▂▃▃▄▅▅▆▆▇▇█</td></tr><tr><td>train_loss</td><td>█▁▁▁▁▁▁▁▁▁▁▁▁</td></tr><tr><td>val_loss</td><td>█▂▁▁▁▂▁▁▁▁▁▂▁</td></tr></table><br/></div><div class=\"wandb-col\"><h3>Run summary:</h3><br/><table class=\"wandb\"><tr><td>epoch</td><td>13</td></tr><tr><td>train_loss</td><td>43.69579</td></tr><tr><td>val_loss</td><td>27.88796</td></tr></table><br/></div></div>"
      ],
      "text/plain": [
       "<IPython.core.display.HTML object>"
      ]
     },
     "metadata": {},
     "output_type": "display_data"
    },
    {
     "data": {
      "text/html": [
       " View run <strong style=\"color:#cdcd00\">efficient-snowflake-22</strong> at: <a href='https://wandb.ai/yixuan228-imperial-college-london/DE_Groupwork%20G4/runs/cl0qaa1m' target=\"_blank\">https://wandb.ai/yixuan228-imperial-college-london/DE_Groupwork%20G4/runs/cl0qaa1m</a><br> View project at: <a href='https://wandb.ai/yixuan228-imperial-college-london/DE_Groupwork%20G4' target=\"_blank\">https://wandb.ai/yixuan228-imperial-college-london/DE_Groupwork%20G4</a><br>Synced 5 W&B file(s), 0 media file(s), 0 artifact file(s) and 0 other file(s)"
      ],
      "text/plain": [
       "<IPython.core.display.HTML object>"
      ]
     },
     "metadata": {},
     "output_type": "display_data"
    },
    {
     "data": {
      "text/html": [
       "Find logs at: <code>.\\wandb\\run-20250320_091534-cl0qaa1m\\logs</code>"
      ],
      "text/plain": [
       "<IPython.core.display.HTML object>"
      ]
     },
     "metadata": {},
     "output_type": "display_data"
    },
    {
     "data": {
      "text/html": [
       "Tracking run with wandb version 0.19.7"
      ],
      "text/plain": [
       "<IPython.core.display.HTML object>"
      ]
     },
     "metadata": {},
     "output_type": "display_data"
    },
    {
     "data": {
      "text/html": [
       "Run data is saved locally in <code>d:\\Projects\\MSc_DE_GroupWork4\\Scripts\\wandb\\run-20250320_091539-1cyzcarl</code>"
      ],
      "text/plain": [
       "<IPython.core.display.HTML object>"
      ]
     },
     "metadata": {},
     "output_type": "display_data"
    },
    {
     "data": {
      "text/html": [
       "Syncing run <strong><a href='https://wandb.ai/yixuan228-imperial-college-london/DE_Groupwork%20G4/runs/1cyzcarl' target=\"_blank\">breezy-blaze-23</a></strong> to <a href='https://wandb.ai/yixuan228-imperial-college-london/DE_Groupwork%20G4' target=\"_blank\">Weights & Biases</a> (<a href='https://wandb.me/developer-guide' target=\"_blank\">docs</a>)<br>"
      ],
      "text/plain": [
       "<IPython.core.display.HTML object>"
      ]
     },
     "metadata": {},
     "output_type": "display_data"
    },
    {
     "data": {
      "text/html": [
       " View project at <a href='https://wandb.ai/yixuan228-imperial-college-london/DE_Groupwork%20G4' target=\"_blank\">https://wandb.ai/yixuan228-imperial-college-london/DE_Groupwork%20G4</a>"
      ],
      "text/plain": [
       "<IPython.core.display.HTML object>"
      ]
     },
     "metadata": {},
     "output_type": "display_data"
    },
    {
     "data": {
      "text/html": [
       " View run at <a href='https://wandb.ai/yixuan228-imperial-college-london/DE_Groupwork%20G4/runs/1cyzcarl' target=\"_blank\">https://wandb.ai/yixuan228-imperial-college-london/DE_Groupwork%20G4/runs/1cyzcarl</a>"
      ],
      "text/plain": [
       "<IPython.core.display.HTML object>"
      ]
     },
     "metadata": {},
     "output_type": "display_data"
    },
    {
     "name": "stdout",
     "output_type": "stream",
     "text": [
      "Epoch 001 | Train Loss: 8162.0151 | Val Loss: 522.6636\n",
      "Epoch 002 | Train Loss: 298.5969 | Val Loss: 227.9459\n",
      "Epoch 003 | Train Loss: 155.0312 | Val Loss: 102.8398\n",
      "Epoch 004 | Train Loss: 50.1554 | Val Loss: 30.1131\n",
      "Epoch 005 | Train Loss: 26.6124 | Val Loss: 22.8014\n",
      "Epoch 006 | Train Loss: 24.1100 | Val Loss: 45.3048\n",
      "Epoch 007 | Train Loss: 24.4370 | Val Loss: 21.6762\n",
      "Epoch 008 | Train Loss: 18.8060 | Val Loss: 17.4285\n",
      "Epoch 009 | Train Loss: 18.6532 | Val Loss: 16.5763\n",
      "Epoch 010 | Train Loss: 21.1056 | Val Loss: 12.6245\n",
      "Epoch 011 | Train Loss: 15.6627 | Val Loss: 26.1072\n",
      "Epoch 012 | Train Loss: 18.0293 | Val Loss: 22.2630\n",
      "Epoch 013 | Train Loss: 17.9412 | Val Loss: 42.8516\n",
      "Epoch 014 | Train Loss: 20.4325 | Val Loss: 28.4812\n",
      "Epoch 015 | Train Loss: 15.0352 | Val Loss: 102.1132\n",
      "Early stopping triggered at epoch 15\n"
     ]
    },
    {
     "data": {
      "text/html": [],
      "text/plain": [
       "<IPython.core.display.HTML object>"
      ]
     },
     "metadata": {},
     "output_type": "display_data"
    },
    {
     "data": {
      "text/html": [
       "<br>    <style><br>        .wandb-row {<br>            display: flex;<br>            flex-direction: row;<br>            flex-wrap: wrap;<br>            justify-content: flex-start;<br>            width: 100%;<br>        }<br>        .wandb-col {<br>            display: flex;<br>            flex-direction: column;<br>            flex-basis: 100%;<br>            flex: 1;<br>            padding: 10px;<br>        }<br>    </style><br><div class=\"wandb-row\"><div class=\"wandb-col\"><h3>Run history:</h3><br/><table class=\"wandb\"><tr><td>epoch</td><td>▁▁▂▃▃▃▄▅▅▅▆▇▇▇█</td></tr><tr><td>train_loss</td><td>█▁▁▁▁▁▁▁▁▁▁▁▁▁▁</td></tr><tr><td>val_loss</td><td>█▄▂▁▁▁▁▁▁▁▁▁▁▁▂</td></tr></table><br/></div><div class=\"wandb-col\"><h3>Run summary:</h3><br/><table class=\"wandb\"><tr><td>epoch</td><td>15</td></tr><tr><td>train_loss</td><td>15.03516</td></tr><tr><td>val_loss</td><td>102.11323</td></tr></table><br/></div></div>"
      ],
      "text/plain": [
       "<IPython.core.display.HTML object>"
      ]
     },
     "metadata": {},
     "output_type": "display_data"
    },
    {
     "data": {
      "text/html": [
       " View run <strong style=\"color:#cdcd00\">breezy-blaze-23</strong> at: <a href='https://wandb.ai/yixuan228-imperial-college-london/DE_Groupwork%20G4/runs/1cyzcarl' target=\"_blank\">https://wandb.ai/yixuan228-imperial-college-london/DE_Groupwork%20G4/runs/1cyzcarl</a><br> View project at: <a href='https://wandb.ai/yixuan228-imperial-college-london/DE_Groupwork%20G4' target=\"_blank\">https://wandb.ai/yixuan228-imperial-college-london/DE_Groupwork%20G4</a><br>Synced 5 W&B file(s), 0 media file(s), 0 artifact file(s) and 0 other file(s)"
      ],
      "text/plain": [
       "<IPython.core.display.HTML object>"
      ]
     },
     "metadata": {},
     "output_type": "display_data"
    },
    {
     "data": {
      "text/html": [
       "Find logs at: <code>.\\wandb\\run-20250320_091539-1cyzcarl\\logs</code>"
      ],
      "text/plain": [
       "<IPython.core.display.HTML object>"
      ]
     },
     "metadata": {},
     "output_type": "display_data"
    },
    {
     "data": {
      "text/html": [
       "Tracking run with wandb version 0.19.7"
      ],
      "text/plain": [
       "<IPython.core.display.HTML object>"
      ]
     },
     "metadata": {},
     "output_type": "display_data"
    },
    {
     "data": {
      "text/html": [
       "Run data is saved locally in <code>d:\\Projects\\MSc_DE_GroupWork4\\Scripts\\wandb\\run-20250320_091544-l8rwmqt8</code>"
      ],
      "text/plain": [
       "<IPython.core.display.HTML object>"
      ]
     },
     "metadata": {},
     "output_type": "display_data"
    },
    {
     "data": {
      "text/html": [
       "Syncing run <strong><a href='https://wandb.ai/yixuan228-imperial-college-london/DE_Groupwork%20G4/runs/l8rwmqt8' target=\"_blank\">young-morning-24</a></strong> to <a href='https://wandb.ai/yixuan228-imperial-college-london/DE_Groupwork%20G4' target=\"_blank\">Weights & Biases</a> (<a href='https://wandb.me/developer-guide' target=\"_blank\">docs</a>)<br>"
      ],
      "text/plain": [
       "<IPython.core.display.HTML object>"
      ]
     },
     "metadata": {},
     "output_type": "display_data"
    },
    {
     "data": {
      "text/html": [
       " View project at <a href='https://wandb.ai/yixuan228-imperial-college-london/DE_Groupwork%20G4' target=\"_blank\">https://wandb.ai/yixuan228-imperial-college-london/DE_Groupwork%20G4</a>"
      ],
      "text/plain": [
       "<IPython.core.display.HTML object>"
      ]
     },
     "metadata": {},
     "output_type": "display_data"
    },
    {
     "data": {
      "text/html": [
       " View run at <a href='https://wandb.ai/yixuan228-imperial-college-london/DE_Groupwork%20G4/runs/l8rwmqt8' target=\"_blank\">https://wandb.ai/yixuan228-imperial-college-london/DE_Groupwork%20G4/runs/l8rwmqt8</a>"
      ],
      "text/plain": [
       "<IPython.core.display.HTML object>"
      ]
     },
     "metadata": {},
     "output_type": "display_data"
    },
    {
     "name": "stdout",
     "output_type": "stream",
     "text": [
      "Epoch 001 | Train Loss: 42701.4898 | Val Loss: 4923.8656\n",
      "Epoch 002 | Train Loss: 2071.6335 | Val Loss: 1022.3576\n",
      "Epoch 003 | Train Loss: 717.3724 | Val Loss: 605.8854\n",
      "Epoch 004 | Train Loss: 489.2274 | Val Loss: 457.9884\n",
      "Epoch 005 | Train Loss: 381.0312 | Val Loss: 371.0811\n",
      "Epoch 006 | Train Loss: 306.2308 | Val Loss: 306.2297\n",
      "Epoch 007 | Train Loss: 254.2322 | Val Loss: 263.3917\n",
      "Epoch 008 | Train Loss: 218.5267 | Val Loss: 219.7883\n",
      "Epoch 009 | Train Loss: 189.6802 | Val Loss: 192.7862\n",
      "Epoch 010 | Train Loss: 163.5710 | Val Loss: 167.6754\n",
      "Epoch 011 | Train Loss: 142.8248 | Val Loss: 149.8406\n",
      "Epoch 012 | Train Loss: 127.1375 | Val Loss: 127.3762\n",
      "Epoch 013 | Train Loss: 108.1734 | Val Loss: 109.0855\n",
      "Epoch 014 | Train Loss: 92.8262 | Val Loss: 94.1983\n",
      "Epoch 015 | Train Loss: 80.0413 | Val Loss: 81.9775\n",
      "Epoch 016 | Train Loss: 68.6069 | Val Loss: 70.4555\n",
      "Epoch 017 | Train Loss: 57.3475 | Val Loss: 58.2608\n",
      "Epoch 018 | Train Loss: 50.3914 | Val Loss: 48.1615\n",
      "Epoch 019 | Train Loss: 41.2505 | Val Loss: 43.5624\n",
      "Epoch 020 | Train Loss: 35.5554 | Val Loss: 37.6499\n",
      "Epoch 021 | Train Loss: 31.3834 | Val Loss: 29.7402\n",
      "Epoch 022 | Train Loss: 28.0095 | Val Loss: 36.1668\n",
      "Epoch 023 | Train Loss: 26.5367 | Val Loss: 24.5202\n",
      "Epoch 024 | Train Loss: 23.3462 | Val Loss: 22.8475\n",
      "Epoch 025 | Train Loss: 22.9134 | Val Loss: 21.8851\n",
      "Epoch 026 | Train Loss: 20.8274 | Val Loss: 21.9856\n",
      "Epoch 027 | Train Loss: 19.7209 | Val Loss: 17.4414\n",
      "Epoch 028 | Train Loss: 18.3356 | Val Loss: 18.3769\n",
      "Epoch 029 | Train Loss: 17.1527 | Val Loss: 16.0048\n",
      "Epoch 030 | Train Loss: 16.5434 | Val Loss: 15.0010\n",
      "Epoch 031 | Train Loss: 15.5067 | Val Loss: 13.8170\n",
      "Epoch 032 | Train Loss: 15.2301 | Val Loss: 16.1964\n",
      "Epoch 033 | Train Loss: 14.6988 | Val Loss: 13.6262\n",
      "Epoch 034 | Train Loss: 14.2493 | Val Loss: 11.9412\n",
      "Epoch 035 | Train Loss: 13.2330 | Val Loss: 13.4541\n",
      "Epoch 036 | Train Loss: 13.3920 | Val Loss: 11.5601\n",
      "Epoch 037 | Train Loss: 13.0230 | Val Loss: 11.1296\n",
      "Epoch 038 | Train Loss: 12.0562 | Val Loss: 10.8303\n",
      "Epoch 039 | Train Loss: 11.5633 | Val Loss: 10.5099\n",
      "Epoch 040 | Train Loss: 11.8706 | Val Loss: 13.4580\n",
      "Epoch 041 | Train Loss: 12.2701 | Val Loss: 9.6893\n",
      "Epoch 042 | Train Loss: 10.6128 | Val Loss: 12.0267\n",
      "Epoch 043 | Train Loss: 10.6170 | Val Loss: 9.9658\n",
      "Epoch 044 | Train Loss: 10.5521 | Val Loss: 9.9908\n",
      "Epoch 045 | Train Loss: 11.0622 | Val Loss: 10.2053\n",
      "Epoch 046 | Train Loss: 11.4109 | Val Loss: 11.7146\n",
      "Early stopping triggered at epoch 46\n"
     ]
    },
    {
     "data": {
      "text/html": [],
      "text/plain": [
       "<IPython.core.display.HTML object>"
      ]
     },
     "metadata": {},
     "output_type": "display_data"
    },
    {
     "data": {
      "text/html": [
       "<br>    <style><br>        .wandb-row {<br>            display: flex;<br>            flex-direction: row;<br>            flex-wrap: wrap;<br>            justify-content: flex-start;<br>            width: 100%;<br>        }<br>        .wandb-col {<br>            display: flex;<br>            flex-direction: column;<br>            flex-basis: 100%;<br>            flex: 1;<br>            padding: 10px;<br>        }<br>    </style><br><div class=\"wandb-row\"><div class=\"wandb-col\"><h3>Run history:</h3><br/><table class=\"wandb\"><tr><td>epoch</td><td>▁▁▁▁▂▂▂▂▂▃▃▃▃▃▄▄▄▄▄▄▅▅▅▅▅▅▆▆▆▆▆▇▇▇▇▇████</td></tr><tr><td>train_loss</td><td>█▁▁▁▁▁▁▁▁▁▁▁▁▁▁▁▁▁▁▁▁▁▁▁▁▁▁▁▁▁▁▁▁▁▁▁▁▁▁▁</td></tr><tr><td>val_loss</td><td>█▂▂▂▂▁▁▁▁▁▁▁▁▁▁▁▁▁▁▁▁▁▁▁▁▁▁▁▁▁▁▁▁▁▁▁▁▁▁▁</td></tr></table><br/></div><div class=\"wandb-col\"><h3>Run summary:</h3><br/><table class=\"wandb\"><tr><td>epoch</td><td>46</td></tr><tr><td>train_loss</td><td>11.41095</td></tr><tr><td>val_loss</td><td>11.71457</td></tr></table><br/></div></div>"
      ],
      "text/plain": [
       "<IPython.core.display.HTML object>"
      ]
     },
     "metadata": {},
     "output_type": "display_data"
    },
    {
     "data": {
      "text/html": [
       " View run <strong style=\"color:#cdcd00\">young-morning-24</strong> at: <a href='https://wandb.ai/yixuan228-imperial-college-london/DE_Groupwork%20G4/runs/l8rwmqt8' target=\"_blank\">https://wandb.ai/yixuan228-imperial-college-london/DE_Groupwork%20G4/runs/l8rwmqt8</a><br> View project at: <a href='https://wandb.ai/yixuan228-imperial-college-london/DE_Groupwork%20G4' target=\"_blank\">https://wandb.ai/yixuan228-imperial-college-london/DE_Groupwork%20G4</a><br>Synced 5 W&B file(s), 0 media file(s), 0 artifact file(s) and 0 other file(s)"
      ],
      "text/plain": [
       "<IPython.core.display.HTML object>"
      ]
     },
     "metadata": {},
     "output_type": "display_data"
    },
    {
     "data": {
      "text/html": [
       "Find logs at: <code>.\\wandb\\run-20250320_091544-l8rwmqt8\\logs</code>"
      ],
      "text/plain": [
       "<IPython.core.display.HTML object>"
      ]
     },
     "metadata": {},
     "output_type": "display_data"
    },
    {
     "data": {
      "text/html": [
       "Tracking run with wandb version 0.19.7"
      ],
      "text/plain": [
       "<IPython.core.display.HTML object>"
      ]
     },
     "metadata": {},
     "output_type": "display_data"
    },
    {
     "data": {
      "text/html": [
       "Run data is saved locally in <code>d:\\Projects\\MSc_DE_GroupWork4\\Scripts\\wandb\\run-20250320_091555-g5jdnsm6</code>"
      ],
      "text/plain": [
       "<IPython.core.display.HTML object>"
      ]
     },
     "metadata": {},
     "output_type": "display_data"
    },
    {
     "data": {
      "text/html": [
       "Syncing run <strong><a href='https://wandb.ai/yixuan228-imperial-college-london/DE_Groupwork%20G4/runs/g5jdnsm6' target=\"_blank\">balmy-cloud-25</a></strong> to <a href='https://wandb.ai/yixuan228-imperial-college-london/DE_Groupwork%20G4' target=\"_blank\">Weights & Biases</a> (<a href='https://wandb.me/developer-guide' target=\"_blank\">docs</a>)<br>"
      ],
      "text/plain": [
       "<IPython.core.display.HTML object>"
      ]
     },
     "metadata": {},
     "output_type": "display_data"
    },
    {
     "data": {
      "text/html": [
       " View project at <a href='https://wandb.ai/yixuan228-imperial-college-london/DE_Groupwork%20G4' target=\"_blank\">https://wandb.ai/yixuan228-imperial-college-london/DE_Groupwork%20G4</a>"
      ],
      "text/plain": [
       "<IPython.core.display.HTML object>"
      ]
     },
     "metadata": {},
     "output_type": "display_data"
    },
    {
     "data": {
      "text/html": [
       " View run at <a href='https://wandb.ai/yixuan228-imperial-college-london/DE_Groupwork%20G4/runs/g5jdnsm6' target=\"_blank\">https://wandb.ai/yixuan228-imperial-college-london/DE_Groupwork%20G4/runs/g5jdnsm6</a>"
      ],
      "text/plain": [
       "<IPython.core.display.HTML object>"
      ]
     },
     "metadata": {},
     "output_type": "display_data"
    },
    {
     "name": "stdout",
     "output_type": "stream",
     "text": [
      "Epoch 001 | Train Loss: 12432.7634 | Val Loss: 397.4182\n",
      "Epoch 002 | Train Loss: 298.2828 | Val Loss: 210.7088\n",
      "Epoch 003 | Train Loss: 215.0723 | Val Loss: 311.2463\n",
      "Epoch 004 | Train Loss: 119.5213 | Val Loss: 186.4510\n",
      "Epoch 005 | Train Loss: 85.6787 | Val Loss: 41.8303\n",
      "Epoch 006 | Train Loss: 48.3709 | Val Loss: 61.1277\n",
      "Epoch 007 | Train Loss: 55.3571 | Val Loss: 36.7469\n",
      "Epoch 008 | Train Loss: 1637.9935 | Val Loss: 89.7271\n",
      "Epoch 009 | Train Loss: 166.9500 | Val Loss: 32.7107\n",
      "Epoch 010 | Train Loss: 25.9752 | Val Loss: 23.9373\n",
      "Epoch 011 | Train Loss: 26.7249 | Val Loss: 71.4902\n",
      "Epoch 012 | Train Loss: 28.9267 | Val Loss: 16.2897\n",
      "Epoch 013 | Train Loss: 18.4952 | Val Loss: 35.1287\n",
      "Epoch 014 | Train Loss: 32.6652 | Val Loss: 20.5653\n",
      "Epoch 015 | Train Loss: 27.2692 | Val Loss: 15.3172\n",
      "Epoch 016 | Train Loss: 19.5707 | Val Loss: 76.1362\n",
      "Epoch 017 | Train Loss: 24.4952 | Val Loss: 11.5495\n",
      "Epoch 018 | Train Loss: 22.1575 | Val Loss: 13.1975\n",
      "Epoch 019 | Train Loss: 26.6525 | Val Loss: 16.0736\n",
      "Epoch 020 | Train Loss: 20.4405 | Val Loss: 9.7439\n",
      "Epoch 021 | Train Loss: 17.2888 | Val Loss: 57.1809\n",
      "Epoch 022 | Train Loss: 28.2848 | Val Loss: 79.5331\n",
      "Epoch 023 | Train Loss: 42.7002 | Val Loss: 21.8941\n",
      "Epoch 024 | Train Loss: 54.1380 | Val Loss: 162.7738\n",
      "Epoch 025 | Train Loss: 51.9725 | Val Loss: 23.0464\n",
      "Early stopping triggered at epoch 25\n"
     ]
    },
    {
     "data": {
      "text/html": [],
      "text/plain": [
       "<IPython.core.display.HTML object>"
      ]
     },
     "metadata": {},
     "output_type": "display_data"
    },
    {
     "data": {
      "text/html": [
       "<br>    <style><br>        .wandb-row {<br>            display: flex;<br>            flex-direction: row;<br>            flex-wrap: wrap;<br>            justify-content: flex-start;<br>            width: 100%;<br>        }<br>        .wandb-col {<br>            display: flex;<br>            flex-direction: column;<br>            flex-basis: 100%;<br>            flex: 1;<br>            padding: 10px;<br>        }<br>    </style><br><div class=\"wandb-row\"><div class=\"wandb-col\"><h3>Run history:</h3><br/><table class=\"wandb\"><tr><td>epoch</td><td>▁▁▂▂▂▂▃▃▃▄▄▄▅▅▅▅▆▆▆▇▇▇▇██</td></tr><tr><td>train_loss</td><td>█▁▁▁▁▁▁▂▁▁▁▁▁▁▁▁▁▁▁▁▁▁▁▁▁</td></tr><tr><td>val_loss</td><td>█▅▆▄▂▂▁▂▁▁▂▁▁▁▁▂▁▁▁▁▂▂▁▄▁</td></tr></table><br/></div><div class=\"wandb-col\"><h3>Run summary:</h3><br/><table class=\"wandb\"><tr><td>epoch</td><td>25</td></tr><tr><td>train_loss</td><td>51.97251</td></tr><tr><td>val_loss</td><td>23.04641</td></tr></table><br/></div></div>"
      ],
      "text/plain": [
       "<IPython.core.display.HTML object>"
      ]
     },
     "metadata": {},
     "output_type": "display_data"
    },
    {
     "data": {
      "text/html": [
       " View run <strong style=\"color:#cdcd00\">balmy-cloud-25</strong> at: <a href='https://wandb.ai/yixuan228-imperial-college-london/DE_Groupwork%20G4/runs/g5jdnsm6' target=\"_blank\">https://wandb.ai/yixuan228-imperial-college-london/DE_Groupwork%20G4/runs/g5jdnsm6</a><br> View project at: <a href='https://wandb.ai/yixuan228-imperial-college-london/DE_Groupwork%20G4' target=\"_blank\">https://wandb.ai/yixuan228-imperial-college-london/DE_Groupwork%20G4</a><br>Synced 5 W&B file(s), 0 media file(s), 0 artifact file(s) and 0 other file(s)"
      ],
      "text/plain": [
       "<IPython.core.display.HTML object>"
      ]
     },
     "metadata": {},
     "output_type": "display_data"
    },
    {
     "data": {
      "text/html": [
       "Find logs at: <code>.\\wandb\\run-20250320_091555-g5jdnsm6\\logs</code>"
      ],
      "text/plain": [
       "<IPython.core.display.HTML object>"
      ]
     },
     "metadata": {},
     "output_type": "display_data"
    },
    {
     "data": {
      "text/html": [
       "Tracking run with wandb version 0.19.7"
      ],
      "text/plain": [
       "<IPython.core.display.HTML object>"
      ]
     },
     "metadata": {},
     "output_type": "display_data"
    },
    {
     "data": {
      "text/html": [
       "Run data is saved locally in <code>d:\\Projects\\MSc_DE_GroupWork4\\Scripts\\wandb\\run-20250320_091603-9yv7cgl2</code>"
      ],
      "text/plain": [
       "<IPython.core.display.HTML object>"
      ]
     },
     "metadata": {},
     "output_type": "display_data"
    },
    {
     "data": {
      "text/html": [
       "Syncing run <strong><a href='https://wandb.ai/yixuan228-imperial-college-london/DE_Groupwork%20G4/runs/9yv7cgl2' target=\"_blank\">pleasant-yogurt-26</a></strong> to <a href='https://wandb.ai/yixuan228-imperial-college-london/DE_Groupwork%20G4' target=\"_blank\">Weights & Biases</a> (<a href='https://wandb.me/developer-guide' target=\"_blank\">docs</a>)<br>"
      ],
      "text/plain": [
       "<IPython.core.display.HTML object>"
      ]
     },
     "metadata": {},
     "output_type": "display_data"
    },
    {
     "data": {
      "text/html": [
       " View project at <a href='https://wandb.ai/yixuan228-imperial-college-london/DE_Groupwork%20G4' target=\"_blank\">https://wandb.ai/yixuan228-imperial-college-london/DE_Groupwork%20G4</a>"
      ],
      "text/plain": [
       "<IPython.core.display.HTML object>"
      ]
     },
     "metadata": {},
     "output_type": "display_data"
    },
    {
     "data": {
      "text/html": [
       " View run at <a href='https://wandb.ai/yixuan228-imperial-college-london/DE_Groupwork%20G4/runs/9yv7cgl2' target=\"_blank\">https://wandb.ai/yixuan228-imperial-college-london/DE_Groupwork%20G4/runs/9yv7cgl2</a>"
      ],
      "text/plain": [
       "<IPython.core.display.HTML object>"
      ]
     },
     "metadata": {},
     "output_type": "display_data"
    },
    {
     "name": "stdout",
     "output_type": "stream",
     "text": [
      "Epoch 001 | Train Loss: 6404.4409 | Val Loss: 329.2349\n",
      "Epoch 002 | Train Loss: 156.8621 | Val Loss: 77.0483\n",
      "Epoch 003 | Train Loss: 57.4532 | Val Loss: 78.2551\n",
      "Epoch 004 | Train Loss: 47.2389 | Val Loss: 23.2700\n",
      "Epoch 005 | Train Loss: 24.8485 | Val Loss: 31.5004\n",
      "Epoch 006 | Train Loss: 25.5631 | Val Loss: 68.4962\n",
      "Epoch 007 | Train Loss: 25.2582 | Val Loss: 28.5424\n",
      "Epoch 008 | Train Loss: 20.4839 | Val Loss: 43.9589\n",
      "Epoch 009 | Train Loss: 37.8421 | Val Loss: 19.4662\n",
      "Epoch 010 | Train Loss: 21.3971 | Val Loss: 23.6350\n",
      "Epoch 011 | Train Loss: 18.7182 | Val Loss: 31.1603\n",
      "Epoch 012 | Train Loss: 25.6543 | Val Loss: 82.8546\n",
      "Epoch 013 | Train Loss: 32.8677 | Val Loss: 194.9007\n",
      "Epoch 014 | Train Loss: 26.5414 | Val Loss: 160.6627\n",
      "Early stopping triggered at epoch 14\n"
     ]
    },
    {
     "data": {
      "text/html": [],
      "text/plain": [
       "<IPython.core.display.HTML object>"
      ]
     },
     "metadata": {},
     "output_type": "display_data"
    },
    {
     "data": {
      "text/html": [
       "<br>    <style><br>        .wandb-row {<br>            display: flex;<br>            flex-direction: row;<br>            flex-wrap: wrap;<br>            justify-content: flex-start;<br>            width: 100%;<br>        }<br>        .wandb-col {<br>            display: flex;<br>            flex-direction: column;<br>            flex-basis: 100%;<br>            flex: 1;<br>            padding: 10px;<br>        }<br>    </style><br><div class=\"wandb-row\"><div class=\"wandb-col\"><h3>Run history:</h3><br/><table class=\"wandb\"><tr><td>epoch</td><td>▁▂▂▃▃▄▄▅▅▆▆▇▇█</td></tr><tr><td>train_loss</td><td>█▁▁▁▁▁▁▁▁▁▁▁▁▁</td></tr><tr><td>val_loss</td><td>█▂▂▁▁▂▁▂▁▁▁▂▅▄</td></tr></table><br/></div><div class=\"wandb-col\"><h3>Run summary:</h3><br/><table class=\"wandb\"><tr><td>epoch</td><td>14</td></tr><tr><td>train_loss</td><td>26.54137</td></tr><tr><td>val_loss</td><td>160.66274</td></tr></table><br/></div></div>"
      ],
      "text/plain": [
       "<IPython.core.display.HTML object>"
      ]
     },
     "metadata": {},
     "output_type": "display_data"
    },
    {
     "data": {
      "text/html": [
       " View run <strong style=\"color:#cdcd00\">pleasant-yogurt-26</strong> at: <a href='https://wandb.ai/yixuan228-imperial-college-london/DE_Groupwork%20G4/runs/9yv7cgl2' target=\"_blank\">https://wandb.ai/yixuan228-imperial-college-london/DE_Groupwork%20G4/runs/9yv7cgl2</a><br> View project at: <a href='https://wandb.ai/yixuan228-imperial-college-london/DE_Groupwork%20G4' target=\"_blank\">https://wandb.ai/yixuan228-imperial-college-london/DE_Groupwork%20G4</a><br>Synced 5 W&B file(s), 0 media file(s), 0 artifact file(s) and 0 other file(s)"
      ],
      "text/plain": [
       "<IPython.core.display.HTML object>"
      ]
     },
     "metadata": {},
     "output_type": "display_data"
    },
    {
     "data": {
      "text/html": [
       "Find logs at: <code>.\\wandb\\run-20250320_091603-9yv7cgl2\\logs</code>"
      ],
      "text/plain": [
       "<IPython.core.display.HTML object>"
      ]
     },
     "metadata": {},
     "output_type": "display_data"
    },
    {
     "data": {
      "text/html": [
       "Tracking run with wandb version 0.19.7"
      ],
      "text/plain": [
       "<IPython.core.display.HTML object>"
      ]
     },
     "metadata": {},
     "output_type": "display_data"
    },
    {
     "data": {
      "text/html": [
       "Run data is saved locally in <code>d:\\Projects\\MSc_DE_GroupWork4\\Scripts\\wandb\\run-20250320_091608-96u98ici</code>"
      ],
      "text/plain": [
       "<IPython.core.display.HTML object>"
      ]
     },
     "metadata": {},
     "output_type": "display_data"
    },
    {
     "data": {
      "text/html": [
       "Syncing run <strong><a href='https://wandb.ai/yixuan228-imperial-college-london/DE_Groupwork%20G4/runs/96u98ici' target=\"_blank\">young-lion-27</a></strong> to <a href='https://wandb.ai/yixuan228-imperial-college-london/DE_Groupwork%20G4' target=\"_blank\">Weights & Biases</a> (<a href='https://wandb.me/developer-guide' target=\"_blank\">docs</a>)<br>"
      ],
      "text/plain": [
       "<IPython.core.display.HTML object>"
      ]
     },
     "metadata": {},
     "output_type": "display_data"
    },
    {
     "data": {
      "text/html": [
       " View project at <a href='https://wandb.ai/yixuan228-imperial-college-london/DE_Groupwork%20G4' target=\"_blank\">https://wandb.ai/yixuan228-imperial-college-london/DE_Groupwork%20G4</a>"
      ],
      "text/plain": [
       "<IPython.core.display.HTML object>"
      ]
     },
     "metadata": {},
     "output_type": "display_data"
    },
    {
     "data": {
      "text/html": [
       " View run at <a href='https://wandb.ai/yixuan228-imperial-college-london/DE_Groupwork%20G4/runs/96u98ici' target=\"_blank\">https://wandb.ai/yixuan228-imperial-college-london/DE_Groupwork%20G4/runs/96u98ici</a>"
      ],
      "text/plain": [
       "<IPython.core.display.HTML object>"
      ]
     },
     "metadata": {},
     "output_type": "display_data"
    },
    {
     "name": "stdout",
     "output_type": "stream",
     "text": [
      "Epoch 001 | Train Loss: 32061.3103 | Val Loss: 2203.1193\n",
      "Epoch 002 | Train Loss: 979.2600 | Val Loss: 636.8414\n",
      "Epoch 003 | Train Loss: 483.5630 | Val Loss: 430.3545\n",
      "Epoch 004 | Train Loss: 345.7237 | Val Loss: 326.8046\n",
      "Epoch 005 | Train Loss: 264.3847 | Val Loss: 261.5913\n",
      "Epoch 006 | Train Loss: 213.8131 | Val Loss: 212.6558\n",
      "Epoch 007 | Train Loss: 174.6811 | Val Loss: 171.2264\n",
      "Epoch 008 | Train Loss: 144.7669 | Val Loss: 138.6613\n",
      "Epoch 009 | Train Loss: 117.2822 | Val Loss: 110.3685\n",
      "Epoch 010 | Train Loss: 91.5370 | Val Loss: 87.8928\n",
      "Epoch 011 | Train Loss: 71.9496 | Val Loss: 68.1665\n",
      "Epoch 012 | Train Loss: 55.4151 | Val Loss: 49.7317\n",
      "Epoch 013 | Train Loss: 44.5863 | Val Loss: 40.2237\n",
      "Epoch 014 | Train Loss: 36.5253 | Val Loss: 34.1219\n",
      "Epoch 015 | Train Loss: 32.0921 | Val Loss: 29.8272\n",
      "Epoch 016 | Train Loss: 28.7783 | Val Loss: 26.5137\n",
      "Epoch 017 | Train Loss: 25.7465 | Val Loss: 24.5830\n",
      "Epoch 018 | Train Loss: 23.9251 | Val Loss: 22.2965\n",
      "Epoch 019 | Train Loss: 21.7577 | Val Loss: 27.1958\n",
      "Epoch 020 | Train Loss: 20.1618 | Val Loss: 20.3220\n",
      "Epoch 021 | Train Loss: 19.0957 | Val Loss: 17.3202\n",
      "Epoch 022 | Train Loss: 17.9558 | Val Loss: 18.4159\n",
      "Epoch 023 | Train Loss: 17.5998 | Val Loss: 15.8331\n",
      "Epoch 024 | Train Loss: 16.3555 | Val Loss: 14.6957\n",
      "Epoch 025 | Train Loss: 15.3503 | Val Loss: 15.6729\n",
      "Epoch 026 | Train Loss: 14.6110 | Val Loss: 14.1611\n",
      "Epoch 027 | Train Loss: 14.2366 | Val Loss: 15.6015\n",
      "Epoch 028 | Train Loss: 14.1634 | Val Loss: 12.8784\n",
      "Epoch 029 | Train Loss: 13.1556 | Val Loss: 19.2289\n",
      "Epoch 030 | Train Loss: 13.1228 | Val Loss: 13.2500\n",
      "Epoch 031 | Train Loss: 12.4731 | Val Loss: 12.2039\n",
      "Epoch 032 | Train Loss: 13.9201 | Val Loss: 15.1665\n",
      "Epoch 033 | Train Loss: 13.4883 | Val Loss: 21.1030\n",
      "Epoch 034 | Train Loss: 13.2576 | Val Loss: 12.5648\n",
      "Epoch 035 | Train Loss: 11.1910 | Val Loss: 10.9952\n",
      "Epoch 036 | Train Loss: 10.7923 | Val Loss: 15.3418\n",
      "Epoch 037 | Train Loss: 12.5603 | Val Loss: 12.2519\n",
      "Epoch 038 | Train Loss: 11.8414 | Val Loss: 11.6136\n",
      "Epoch 039 | Train Loss: 10.8213 | Val Loss: 13.5968\n",
      "Epoch 040 | Train Loss: 10.1878 | Val Loss: 15.7184\n",
      "Early stopping triggered at epoch 40\n"
     ]
    },
    {
     "data": {
      "text/html": [],
      "text/plain": [
       "<IPython.core.display.HTML object>"
      ]
     },
     "metadata": {},
     "output_type": "display_data"
    },
    {
     "data": {
      "text/html": [
       "<br>    <style><br>        .wandb-row {<br>            display: flex;<br>            flex-direction: row;<br>            flex-wrap: wrap;<br>            justify-content: flex-start;<br>            width: 100%;<br>        }<br>        .wandb-col {<br>            display: flex;<br>            flex-direction: column;<br>            flex-basis: 100%;<br>            flex: 1;<br>            padding: 10px;<br>        }<br>    </style><br><div class=\"wandb-row\"><div class=\"wandb-col\"><h3>Run history:</h3><br/><table class=\"wandb\"><tr><td>epoch</td><td>▁▁▁▂▂▂▂▂▂▃▃▃▃▃▄▄▄▄▄▄▅▅▅▅▅▅▆▆▆▆▆▇▇▇▇▇▇███</td></tr><tr><td>train_loss</td><td>█▁▁▁▁▁▁▁▁▁▁▁▁▁▁▁▁▁▁▁▁▁▁▁▁▁▁▁▁▁▁▁▁▁▁▁▁▁▁▁</td></tr><tr><td>val_loss</td><td>█▃▂▂▂▂▂▁▁▁▁▁▁▁▁▁▁▁▁▁▁▁▁▁▁▁▁▁▁▁▁▁▁▁▁▁▁▁▁▁</td></tr></table><br/></div><div class=\"wandb-col\"><h3>Run summary:</h3><br/><table class=\"wandb\"><tr><td>epoch</td><td>40</td></tr><tr><td>train_loss</td><td>10.18783</td></tr><tr><td>val_loss</td><td>15.71841</td></tr></table><br/></div></div>"
      ],
      "text/plain": [
       "<IPython.core.display.HTML object>"
      ]
     },
     "metadata": {},
     "output_type": "display_data"
    },
    {
     "data": {
      "text/html": [
       " View run <strong style=\"color:#cdcd00\">young-lion-27</strong> at: <a href='https://wandb.ai/yixuan228-imperial-college-london/DE_Groupwork%20G4/runs/96u98ici' target=\"_blank\">https://wandb.ai/yixuan228-imperial-college-london/DE_Groupwork%20G4/runs/96u98ici</a><br> View project at: <a href='https://wandb.ai/yixuan228-imperial-college-london/DE_Groupwork%20G4' target=\"_blank\">https://wandb.ai/yixuan228-imperial-college-london/DE_Groupwork%20G4</a><br>Synced 5 W&B file(s), 0 media file(s), 0 artifact file(s) and 0 other file(s)"
      ],
      "text/plain": [
       "<IPython.core.display.HTML object>"
      ]
     },
     "metadata": {},
     "output_type": "display_data"
    },
    {
     "data": {
      "text/html": [
       "Find logs at: <code>.\\wandb\\run-20250320_091608-96u98ici\\logs</code>"
      ],
      "text/plain": [
       "<IPython.core.display.HTML object>"
      ]
     },
     "metadata": {},
     "output_type": "display_data"
    },
    {
     "name": "stdout",
     "output_type": "stream",
     "text": [
      "Training complete for all configurations.\n"
     ]
    }
   ],
   "source": [
    "from itertools import product\n",
    "\n",
    "for hidden_units, hidden_layers, lr in product(hidden_units_options, hidden_layers_options, learning_rates):\n",
    "\n",
    "    # Configurations\n",
    "    config = {\n",
    "        \"hidden_units\": hidden_units,\n",
    "        \"hidden_layers\": hidden_layers,\n",
    "        \"learning_rate\": lr,\n",
    "        \"max_epochs\": max_epochs,\n",
    "        \"patience\": patience\n",
    "    }\n",
    "\n",
    "    # Start a new W&B run for each configuration\n",
    "    wandb.init(project='DE_Groupwork G4', config=config, reinit=True)\n",
    "\n",
    "    model = MultiLayerPerceptron(input_size=input_size, \n",
    "                             hidden_size=config[\"hidden_units\"], \n",
    "                             num_layers=config[\"hidden_layers\"], \n",
    "                             output_size=1).to(device)\n",
    "\n",
    "\n",
    "    criterion = nn.MSELoss() \n",
    "    optimizer = optim.Adam(model.parameters(), lr=lr)\n",
    "\n",
    "    best_val_loss = float('inf')\n",
    "    epochs_without_improvement = 0\n",
    "        \n",
    "    for epoch in range(1, max_epochs + 1):\n",
    "        train_loss = train_epoch(model, train_Loader, criterion, optimizer, device)\n",
    "       \n",
    "        val_loss = val_epoch(model, val_Loader, criterion, device)\n",
    "\n",
    "        # Log metrics to W&B\n",
    "        wandb.log({\"epoch\": epoch, \"train_loss\": train_loss, \"val_loss\": val_loss})\n",
    "        \n",
    "        print(f\"Epoch {epoch:03d} | Train Loss: {train_loss:.4f} | Val Loss: {val_loss:.4f}\")\n",
    "        \n",
    "        # Early stopping check\n",
    "        if val_loss < best_val_loss:\n",
    "            best_val_loss = val_loss\n",
    "            epochs_without_improvement = 0\n",
    "        else:\n",
    "            epochs_without_improvement += 1\n",
    "            \n",
    "        if epochs_without_improvement >= patience:\n",
    "            print(f\"Early stopping triggered at epoch {epoch}\")\n",
    "            break\n",
    "\n",
    "    wandb.finish()\n",
    "\n",
    "print(\"Training complete for all configurations.\")\n"
   ]
  },
  {
   "cell_type": "markdown",
   "metadata": {},
   "source": [
    "Visualization of each Search"
   ]
  },
  {
   "cell_type": "code",
   "execution_count": 90,
   "metadata": {},
   "outputs": [
    {
     "data": {
      "image/png": "[encoded data removed]",
      "text/plain": [
       "<Figure size 1200x600 with 1 Axes>"
      ]
     },
     "metadata": {},
     "output_type": "display_data"
    }
   ],
   "source": [
    "import matplotlib.pyplot as plt\n",
    "import matplotlib.image as mpimg\n",
    "\n",
    "image_path = \"S1_NN_loss.png\"\n",
    "img = mpimg.imread(image_path)\n",
    "\n",
    "plt.figure(figsize=(12, 6))\n",
    "plt.imshow(img)\n",
    "plt.axis(\"off\")\n",
    "plt.show()"
   ]
  },
  {
   "cell_type": "code",
   "execution_count": 91,
   "metadata": {},
   "outputs": [],
   "source": [
    "import wandb\n",
    "import os\n",
    "\n",
    "api = wandb.Api()\n",
    "\n",
    "project_path = \"yixuan228-imperial-college-london/DE_Groupwork G4\"\n",
    "runs = api.runs(project_path)  # Get all the runs\n",
    "\n",
    "# save_dir = \"wandb_artifacts\"\n",
    "# os.makedirs(save_dir, exist_ok=True)"
   ]
  },
  {
   "cell_type": "markdown",
   "metadata": {},
   "source": [
    "### Save all the model config"
   ]
  },
  {
   "cell_type": "code",
   "execution_count": 92,
   "metadata": {},
   "outputs": [],
   "source": [
    "ls_summary, ls_config = [], []\n",
    "\n",
    "best_run = None\n",
    "best_val_loss = float('inf')\n",
    "\n",
    "ls_config = [run.config for run in runs]\n",
    "ls_summary = [run.summary._json_dict for run in runs]\n"
   ]
  },
  {
   "cell_type": "markdown",
   "metadata": {},
   "source": [
    "### Select the best model"
   ]
  },
  {
   "cell_type": "code",
   "execution_count": 93,
   "metadata": {},
   "outputs": [
    {
     "name": "stdout",
     "output_type": "stream",
     "text": [
      "\n",
      "Best Model Found:\n",
      "Run ID: nbfzlfhc, Name: fearless-morning-12, State: finished\n",
      "Lowest Validation Loss: 8.600484386515094\n",
      "\n",
      "Best Model Hyperparameters (config):\n",
      "   patience: 5\n",
      "   max_epochs: 200\n",
      "   hidden_units: 64\n",
      "   hidden_layers: 2\n",
      "   learning_rate: 0.001\n",
      "\n",
      "Best Model Final Metrics (summary):\n",
      "   _runtime: 19.7579481\n",
      "   _step: 118\n",
      "   _timestamp: 1742462047.419305\n",
      "   _wandb: {'runtime': 19}\n",
      "   epoch: 119\n",
      "   train_loss: 8.823451982218003\n",
      "   val_loss: 8.600484386515094\n"
     ]
    }
   ],
   "source": [
    "best_run = None\n",
    "best_loss = float(\"inf\")  \n",
    "\n",
    "for run in runs:\n",
    "    # print(run.summary.keys())\n",
    "    if \"val_loss\" in run.summary:  \n",
    "        loss = run.summary[\"val_loss\"]\n",
    "        if loss < best_loss:  # best model with least loss\n",
    "            best_loss = loss\n",
    "            best_run = run\n",
    "\n",
    "# Best model hyparparameters\n",
    "if best_run:\n",
    "    print(\"\\nBest Model Found:\")\n",
    "    print(f\"Run ID: {best_run.id}, Name: {best_run.name}, State: {best_run.state}\")\n",
    "    print(f\"Lowest Validation Loss: {best_loss}\")\n",
    "\n",
    "    print(\"\\nBest Model Hyperparameters (config):\")\n",
    "    for key, value in best_run.config.items():\n",
    "        print(f\"   {key}: {value}\")\n",
    "\n",
    "    print(\"\\nBest Model Final Metrics (summary):\")\n",
    "    for key, value in best_run.summary.items():\n",
    "        print(f\"   {key}: {value}\")\n",
    "else:\n",
    "    print(\"No valid runs found with 'loss' metric.\")\n"
   ]
  },
  {
   "cell_type": "markdown",
   "metadata": {},
   "source": [
    "## Conclusion"
   ]
  },
  {
   "cell_type": "markdown",
   "metadata": {},
   "source": [
    "Using Nueral Network Models is a good way to predict the CO2 emssions based on the features given. After using W&B to grid search the hyperparameters grid, the best model is chosen based on the metric of validation loss.\n",
    "\n",
    "The best model parameters are listed below:\n",
    "\n",
    "**Hyperparameter**:\\\n",
    "    patience: 5\\\n",
    "    max_epochs: 200\\\n",
    "    hidden_units: 64\\\n",
    "    hidden_layers: 2\\\n",
    "    learning_rate: 0.001\n",
    "\n",
    "**Running Performance:**\\\n",
    "    epoch: 118\\\n",
    "    Training loss: 8.823451982218003\\\n",
    "    Validation loss: 8.600484386515094\n",
    "\n",
    "\n"
   ]
  }
 ],
 "metadata": {
  "kernelspec": {
   "display_name": "de_w6_rl",
   "language": "python",
   "name": "python3"
  },
  "language_info": {
   "codemirror_mode": {
    "name": "ipython",
    "version": 3
   },
   "file_extension": ".py",
   "mimetype": "text/x-python",
   "name": "python",
   "nbconvert_exporter": "python",
   "pygments_lexer": "ipython3",
   "version": "3.12.9"
  }
 },
 "nbformat": 4,
 "nbformat_minor": 2
}
