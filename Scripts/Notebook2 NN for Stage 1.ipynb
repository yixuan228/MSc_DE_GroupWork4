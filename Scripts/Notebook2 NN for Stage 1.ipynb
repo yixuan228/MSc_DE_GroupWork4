{
 "cells": [
  {
   "cell_type": "markdown",
   "metadata": {},
   "source": [
    "# Notebook2: Predicting CO2 emissions using Neural Networks"
   ]
  },
  {
   "cell_type": "markdown",
   "metadata": {},
   "source": [
    "Readme: In this notebook, NN models are constructed for CO2 Emission prediction, and the best model is selected and K-means validation is applied.\n",
    "\n",
    "- **Notebook content**:\n",
    "    - Design the architecture of NN and explore different model configuration\n",
    "\n",
    "    - Tune hyperparameters and select the best model\n",
    "\n",
    "- **Notebook Output**:\n",
    "\n",
    "    - Best model file\n",
    "\n",
    "    - The validation and test results of the best model"
   ]
  },
  {
   "cell_type": "code",
   "execution_count": 30,
   "metadata": {},
   "outputs": [],
   "source": [
    "# %pip install \"numpy<2\" torch torchvision scikit-learn\n",
    "# %pip install wandb"
   ]
  },
  {
   "cell_type": "code",
   "execution_count": 31,
   "metadata": {},
   "outputs": [
    {
     "name": "stdout",
     "output_type": "stream",
     "text": [
      "cuda\n"
     ]
    }
   ],
   "source": [
    "# Import libraries\n",
    "import numpy as np\n",
    "import pandas as pd\n",
    "import matplotlib.pyplot as plt\n",
    "import torch\n",
    "\n",
    "# Set device\n",
    "device = torch.device('cuda' if torch.cuda.is_available() else 'cpu')\n",
    "print(device)"
   ]
  },
  {
   "cell_type": "markdown",
   "metadata": {},
   "source": [
    "## 1 Define Functions"
   ]
  },
  {
   "cell_type": "code",
   "execution_count": 32,
   "metadata": {},
   "outputs": [],
   "source": [
    "# Define functions\n",
    "import seaborn as sns\n",
    "import torch\n",
    "\n",
    "# 1 plot related functions----------------\n",
    "# plot predict and true values on validation dataset\n",
    "def plot_pred_true(y_test, y_pred, ax):\n",
    "\n",
    "    data = pd.DataFrame({'y_obs': y_test, 'y_pred': y_pred})\n",
    "\n",
    "    # plt.figure(figsize=(5, 5))\n",
    "    sns.scatterplot(data=data, x='y_obs', y='y_pred', s=10, ax=ax)\n",
    "    ax.plot(y_test, y_test, color='red', label='y=x')          # plot the line y=x\n",
    "    ax.set_title('Observed vs Predicted values in Test Dataset')   # title\n",
    "    ax.set_xlabel('Observed values')       # label for the x-axis\n",
    "    ax.set_ylabel('Predicted values')      # label for the y-axis\n",
    "    ax.legend()\n",
    "    ax.grid(True)\n",
    "\n",
    "# plot the loss value on training and validation dataset\n",
    "def plot_train_val_loss(train_loss, val_loss, ax):\n",
    "    \n",
    "    # ax.figure(figsize=(5, 5))\n",
    "\n",
    "    ax.plot(train_loss, label='train loss')\n",
    "    ax.plot(val_loss, label='val loss')\n",
    "    ax.set_title('Train vs Validation Loss')\n",
    "    ax.set_xlabel('Epoch')\n",
    "    ax.set_ylabel('Loss')\n",
    "    ax.legend()\n",
    "    ax.grid(True)\n",
    "\n",
    "# 2 Other functions---------------------\n",
    "# get the prediction and true values\n",
    "def model_prediction(model, val_loader, device):\n",
    "\n",
    "    model.eval()\n",
    "    pred = []\n",
    "    target = []\n",
    "\n",
    "    with torch.no_grad():\n",
    "        for X, y in val_loader:\n",
    "            X, y = X.to(device), y.to(device)\n",
    "\n",
    "            y_pred = model(X)      # predicted value\n",
    "\n",
    "            pred.extend(y_pred.cpu().numpy())\n",
    "            target.extend(y.cpu().numpy())\n",
    "\n",
    "    # Merge all the predictions and targets\n",
    "    predictions = np.concatenate(pred, axis=0)\n",
    "    labels = np.concatenate(target, axis=0)\n",
    "    return predictions, labels"
   ]
  },
  {
   "cell_type": "markdown",
   "metadata": {},
   "source": [
    "## 2 Data Preparation"
   ]
  },
  {
   "cell_type": "code",
   "execution_count": 33,
   "metadata": {},
   "outputs": [],
   "source": [
    "import numpy as np\n",
    "import pandas as pd\n",
    "from sklearn.pipeline import Pipeline\n",
    "from sklearn.compose import ColumnTransformer\n",
    "from sklearn.preprocessing import StandardScaler, OneHotEncoder\n",
    "from sklearn.impute import SimpleImputer\n",
    "from sklearn.model_selection import train_test_split"
   ]
  },
  {
   "cell_type": "markdown",
   "metadata": {},
   "source": [
    "### Load and Divide Traning and Testing Data"
   ]
  },
  {
   "cell_type": "markdown",
   "metadata": {},
   "source": [
    "Load the test and train dataset"
   ]
  },
  {
   "cell_type": "code",
   "execution_count": 34,
   "metadata": {},
   "outputs": [],
   "source": [
    "# Import data\n",
    "trainset_df = pd.read_csv('Dataset1_train.csv')\n",
    "testset_df = pd.read_csv('Dataset1_test.csv')\n"
   ]
  },
  {
   "cell_type": "code",
   "execution_count": 35,
   "metadata": {},
   "outputs": [
    {
     "data": {
      "text/html": [
       "<div>\n",
       "<style scoped>\n",
       "    .dataframe tbody tr th:only-of-type {\n",
       "        vertical-align: middle;\n",
       "    }\n",
       "\n",
       "    .dataframe tbody tr th {\n",
       "        vertical-align: top;\n",
       "    }\n",
       "\n",
       "    .dataframe thead th {\n",
       "        text-align: right;\n",
       "    }\n",
       "</style>\n",
       "<table border=\"1\" class=\"dataframe\">\n",
       "  <thead>\n",
       "    <tr style=\"text-align: right;\">\n",
       "      <th></th>\n",
       "      <th>Engine Size(L)</th>\n",
       "      <th>Cylinders</th>\n",
       "      <th>Gearbox_Type</th>\n",
       "      <th>Gearbox_Number</th>\n",
       "      <th>Fuel Consumption City (L/100 km)</th>\n",
       "      <th>Fuel Consumption Hwy (L/100 km)</th>\n",
       "      <th>Fuel Consumption Comb (L/100 km)</th>\n",
       "      <th>Fuel Consumption Comb (mpg)</th>\n",
       "      <th>Model Features_Flexible-fuel vehicle</th>\n",
       "      <th>Model Features_Four-wheel drive</th>\n",
       "      <th>...</th>\n",
       "      <th>Vehicle Class_SUV - SMALL</th>\n",
       "      <th>Vehicle Class_SUV - STANDARD</th>\n",
       "      <th>Vehicle Class_TWO-SEATER</th>\n",
       "      <th>Vehicle Class_VAN - CARGO</th>\n",
       "      <th>Vehicle Class_VAN - PASSENGER</th>\n",
       "      <th>Fuel Type_E</th>\n",
       "      <th>Fuel Type_X</th>\n",
       "      <th>Fuel Type_Z</th>\n",
       "      <th>Make</th>\n",
       "      <th>CO2 Emissions(g/km)</th>\n",
       "    </tr>\n",
       "  </thead>\n",
       "  <tbody>\n",
       "    <tr>\n",
       "      <th>0</th>\n",
       "      <td>4.0</td>\n",
       "      <td>6</td>\n",
       "      <td>1</td>\n",
       "      <td>5.000000</td>\n",
       "      <td>14.7</td>\n",
       "      <td>10.3</td>\n",
       "      <td>12.7</td>\n",
       "      <td>22</td>\n",
       "      <td>0</td>\n",
       "      <td>0</td>\n",
       "      <td>...</td>\n",
       "      <td>0</td>\n",
       "      <td>0</td>\n",
       "      <td>0</td>\n",
       "      <td>0</td>\n",
       "      <td>0</td>\n",
       "      <td>0</td>\n",
       "      <td>1</td>\n",
       "      <td>0</td>\n",
       "      <td>NISSAN</td>\n",
       "      <td>299</td>\n",
       "    </tr>\n",
       "    <tr>\n",
       "      <th>1</th>\n",
       "      <td>2.4</td>\n",
       "      <td>4</td>\n",
       "      <td>1</td>\n",
       "      <td>6.000000</td>\n",
       "      <td>9.8</td>\n",
       "      <td>6.7</td>\n",
       "      <td>8.4</td>\n",
       "      <td>34</td>\n",
       "      <td>0</td>\n",
       "      <td>0</td>\n",
       "      <td>...</td>\n",
       "      <td>0</td>\n",
       "      <td>0</td>\n",
       "      <td>0</td>\n",
       "      <td>0</td>\n",
       "      <td>0</td>\n",
       "      <td>0</td>\n",
       "      <td>1</td>\n",
       "      <td>0</td>\n",
       "      <td>HYUNDAI</td>\n",
       "      <td>193</td>\n",
       "    </tr>\n",
       "    <tr>\n",
       "      <th>2</th>\n",
       "      <td>2.0</td>\n",
       "      <td>4</td>\n",
       "      <td>1</td>\n",
       "      <td>8.000000</td>\n",
       "      <td>11.3</td>\n",
       "      <td>7.1</td>\n",
       "      <td>9.4</td>\n",
       "      <td>30</td>\n",
       "      <td>0</td>\n",
       "      <td>0</td>\n",
       "      <td>...</td>\n",
       "      <td>0</td>\n",
       "      <td>0</td>\n",
       "      <td>0</td>\n",
       "      <td>0</td>\n",
       "      <td>0</td>\n",
       "      <td>0</td>\n",
       "      <td>0</td>\n",
       "      <td>1</td>\n",
       "      <td>BMW</td>\n",
       "      <td>221</td>\n",
       "    </tr>\n",
       "    <tr>\n",
       "      <th>3</th>\n",
       "      <td>2.5</td>\n",
       "      <td>4</td>\n",
       "      <td>1</td>\n",
       "      <td>6.000000</td>\n",
       "      <td>10.1</td>\n",
       "      <td>7.7</td>\n",
       "      <td>9.0</td>\n",
       "      <td>31</td>\n",
       "      <td>0</td>\n",
       "      <td>0</td>\n",
       "      <td>...</td>\n",
       "      <td>1</td>\n",
       "      <td>0</td>\n",
       "      <td>0</td>\n",
       "      <td>0</td>\n",
       "      <td>0</td>\n",
       "      <td>0</td>\n",
       "      <td>1</td>\n",
       "      <td>0</td>\n",
       "      <td>TOYOTA</td>\n",
       "      <td>212</td>\n",
       "    </tr>\n",
       "    <tr>\n",
       "      <th>4</th>\n",
       "      <td>5.0</td>\n",
       "      <td>8</td>\n",
       "      <td>1</td>\n",
       "      <td>8.000000</td>\n",
       "      <td>15.8</td>\n",
       "      <td>10.3</td>\n",
       "      <td>13.3</td>\n",
       "      <td>21</td>\n",
       "      <td>0</td>\n",
       "      <td>0</td>\n",
       "      <td>...</td>\n",
       "      <td>0</td>\n",
       "      <td>0</td>\n",
       "      <td>0</td>\n",
       "      <td>0</td>\n",
       "      <td>0</td>\n",
       "      <td>0</td>\n",
       "      <td>0</td>\n",
       "      <td>1</td>\n",
       "      <td>JAGUAR</td>\n",
       "      <td>313</td>\n",
       "    </tr>\n",
       "    <tr>\n",
       "      <th>...</th>\n",
       "      <td>...</td>\n",
       "      <td>...</td>\n",
       "      <td>...</td>\n",
       "      <td>...</td>\n",
       "      <td>...</td>\n",
       "      <td>...</td>\n",
       "      <td>...</td>\n",
       "      <td>...</td>\n",
       "      <td>...</td>\n",
       "      <td>...</td>\n",
       "      <td>...</td>\n",
       "      <td>...</td>\n",
       "      <td>...</td>\n",
       "      <td>...</td>\n",
       "      <td>...</td>\n",
       "      <td>...</td>\n",
       "      <td>...</td>\n",
       "      <td>...</td>\n",
       "      <td>...</td>\n",
       "      <td>...</td>\n",
       "      <td>...</td>\n",
       "    </tr>\n",
       "    <tr>\n",
       "      <th>5902</th>\n",
       "      <td>2.0</td>\n",
       "      <td>4</td>\n",
       "      <td>1</td>\n",
       "      <td>6.000000</td>\n",
       "      <td>9.3</td>\n",
       "      <td>7.3</td>\n",
       "      <td>8.4</td>\n",
       "      <td>34</td>\n",
       "      <td>0</td>\n",
       "      <td>0</td>\n",
       "      <td>...</td>\n",
       "      <td>0</td>\n",
       "      <td>0</td>\n",
       "      <td>0</td>\n",
       "      <td>0</td>\n",
       "      <td>0</td>\n",
       "      <td>0</td>\n",
       "      <td>0</td>\n",
       "      <td>1</td>\n",
       "      <td>MINI</td>\n",
       "      <td>197</td>\n",
       "    </tr>\n",
       "    <tr>\n",
       "      <th>5903</th>\n",
       "      <td>5.6</td>\n",
       "      <td>8</td>\n",
       "      <td>1</td>\n",
       "      <td>7.000000</td>\n",
       "      <td>17.5</td>\n",
       "      <td>12.8</td>\n",
       "      <td>15.4</td>\n",
       "      <td>18</td>\n",
       "      <td>0</td>\n",
       "      <td>1</td>\n",
       "      <td>...</td>\n",
       "      <td>0</td>\n",
       "      <td>1</td>\n",
       "      <td>0</td>\n",
       "      <td>0</td>\n",
       "      <td>0</td>\n",
       "      <td>0</td>\n",
       "      <td>1</td>\n",
       "      <td>0</td>\n",
       "      <td>NISSAN</td>\n",
       "      <td>362</td>\n",
       "    </tr>\n",
       "    <tr>\n",
       "      <th>5904</th>\n",
       "      <td>3.5</td>\n",
       "      <td>6</td>\n",
       "      <td>1</td>\n",
       "      <td>6.000000</td>\n",
       "      <td>8.1</td>\n",
       "      <td>8.5</td>\n",
       "      <td>8.3</td>\n",
       "      <td>34</td>\n",
       "      <td>0</td>\n",
       "      <td>0</td>\n",
       "      <td>...</td>\n",
       "      <td>0</td>\n",
       "      <td>1</td>\n",
       "      <td>0</td>\n",
       "      <td>0</td>\n",
       "      <td>0</td>\n",
       "      <td>0</td>\n",
       "      <td>1</td>\n",
       "      <td>0</td>\n",
       "      <td>TOYOTA</td>\n",
       "      <td>193</td>\n",
       "    </tr>\n",
       "    <tr>\n",
       "      <th>5905</th>\n",
       "      <td>2.5</td>\n",
       "      <td>4</td>\n",
       "      <td>1</td>\n",
       "      <td>6.854093</td>\n",
       "      <td>9.5</td>\n",
       "      <td>7.4</td>\n",
       "      <td>8.6</td>\n",
       "      <td>33</td>\n",
       "      <td>0</td>\n",
       "      <td>0</td>\n",
       "      <td>...</td>\n",
       "      <td>1</td>\n",
       "      <td>0</td>\n",
       "      <td>0</td>\n",
       "      <td>0</td>\n",
       "      <td>0</td>\n",
       "      <td>0</td>\n",
       "      <td>1</td>\n",
       "      <td>0</td>\n",
       "      <td>NISSAN</td>\n",
       "      <td>198</td>\n",
       "    </tr>\n",
       "    <tr>\n",
       "      <th>5906</th>\n",
       "      <td>3.0</td>\n",
       "      <td>6</td>\n",
       "      <td>1</td>\n",
       "      <td>8.000000</td>\n",
       "      <td>10.5</td>\n",
       "      <td>7.3</td>\n",
       "      <td>9.0</td>\n",
       "      <td>31</td>\n",
       "      <td>0</td>\n",
       "      <td>0</td>\n",
       "      <td>...</td>\n",
       "      <td>0</td>\n",
       "      <td>0</td>\n",
       "      <td>0</td>\n",
       "      <td>0</td>\n",
       "      <td>0</td>\n",
       "      <td>0</td>\n",
       "      <td>0</td>\n",
       "      <td>0</td>\n",
       "      <td>RAM</td>\n",
       "      <td>243</td>\n",
       "    </tr>\n",
       "  </tbody>\n",
       "</table>\n",
       "<p>5907 rows × 32 columns</p>\n",
       "</div>"
      ],
      "text/plain": [
       "      Engine Size(L)  Cylinders  Gearbox_Type  Gearbox_Number  \\\n",
       "0                4.0          6             1        5.000000   \n",
       "1                2.4          4             1        6.000000   \n",
       "2                2.0          4             1        8.000000   \n",
       "3                2.5          4             1        6.000000   \n",
       "4                5.0          8             1        8.000000   \n",
       "...              ...        ...           ...             ...   \n",
       "5902             2.0          4             1        6.000000   \n",
       "5903             5.6          8             1        7.000000   \n",
       "5904             3.5          6             1        6.000000   \n",
       "5905             2.5          4             1        6.854093   \n",
       "5906             3.0          6             1        8.000000   \n",
       "\n",
       "      Fuel Consumption City (L/100 km)  Fuel Consumption Hwy (L/100 km)  \\\n",
       "0                                 14.7                             10.3   \n",
       "1                                  9.8                              6.7   \n",
       "2                                 11.3                              7.1   \n",
       "3                                 10.1                              7.7   \n",
       "4                                 15.8                             10.3   \n",
       "...                                ...                              ...   \n",
       "5902                               9.3                              7.3   \n",
       "5903                              17.5                             12.8   \n",
       "5904                               8.1                              8.5   \n",
       "5905                               9.5                              7.4   \n",
       "5906                              10.5                              7.3   \n",
       "\n",
       "      Fuel Consumption Comb (L/100 km)  Fuel Consumption Comb (mpg)  \\\n",
       "0                                 12.7                           22   \n",
       "1                                  8.4                           34   \n",
       "2                                  9.4                           30   \n",
       "3                                  9.0                           31   \n",
       "4                                 13.3                           21   \n",
       "...                                ...                          ...   \n",
       "5902                               8.4                           34   \n",
       "5903                              15.4                           18   \n",
       "5904                               8.3                           34   \n",
       "5905                               8.6                           33   \n",
       "5906                               9.0                           31   \n",
       "\n",
       "      Model Features_Flexible-fuel vehicle  Model Features_Four-wheel drive  \\\n",
       "0                                        0                                0   \n",
       "1                                        0                                0   \n",
       "2                                        0                                0   \n",
       "3                                        0                                0   \n",
       "4                                        0                                0   \n",
       "...                                    ...                              ...   \n",
       "5902                                     0                                0   \n",
       "5903                                     0                                1   \n",
       "5904                                     0                                0   \n",
       "5905                                     0                                0   \n",
       "5906                                     0                                0   \n",
       "\n",
       "      ...  Vehicle Class_SUV - SMALL  Vehicle Class_SUV - STANDARD  \\\n",
       "0     ...                          0                             0   \n",
       "1     ...                          0                             0   \n",
       "2     ...                          0                             0   \n",
       "3     ...                          1                             0   \n",
       "4     ...                          0                             0   \n",
       "...   ...                        ...                           ...   \n",
       "5902  ...                          0                             0   \n",
       "5903  ...                          0                             1   \n",
       "5904  ...                          0                             1   \n",
       "5905  ...                          1                             0   \n",
       "5906  ...                          0                             0   \n",
       "\n",
       "      Vehicle Class_TWO-SEATER  Vehicle Class_VAN - CARGO  \\\n",
       "0                            0                          0   \n",
       "1                            0                          0   \n",
       "2                            0                          0   \n",
       "3                            0                          0   \n",
       "4                            0                          0   \n",
       "...                        ...                        ...   \n",
       "5902                         0                          0   \n",
       "5903                         0                          0   \n",
       "5904                         0                          0   \n",
       "5905                         0                          0   \n",
       "5906                         0                          0   \n",
       "\n",
       "      Vehicle Class_VAN - PASSENGER  Fuel Type_E  Fuel Type_X  Fuel Type_Z  \\\n",
       "0                                 0            0            1            0   \n",
       "1                                 0            0            1            0   \n",
       "2                                 0            0            0            1   \n",
       "3                                 0            0            1            0   \n",
       "4                                 0            0            0            1   \n",
       "...                             ...          ...          ...          ...   \n",
       "5902                              0            0            0            1   \n",
       "5903                              0            0            1            0   \n",
       "5904                              0            0            1            0   \n",
       "5905                              0            0            1            0   \n",
       "5906                              0            0            0            0   \n",
       "\n",
       "         Make  CO2 Emissions(g/km)  \n",
       "0      NISSAN                  299  \n",
       "1     HYUNDAI                  193  \n",
       "2         BMW                  221  \n",
       "3      TOYOTA                  212  \n",
       "4      JAGUAR                  313  \n",
       "...       ...                  ...  \n",
       "5902     MINI                  197  \n",
       "5903   NISSAN                  362  \n",
       "5904   TOYOTA                  193  \n",
       "5905   NISSAN                  198  \n",
       "5906      RAM                  243  \n",
       "\n",
       "[5907 rows x 32 columns]"
      ]
     },
     "execution_count": 35,
     "metadata": {},
     "output_type": "execute_result"
    }
   ],
   "source": [
    "trainset_df"
   ]
  },
  {
   "cell_type": "code",
   "execution_count": 36,
   "metadata": {},
   "outputs": [],
   "source": [
    "X_train = trainset_df.drop(columns=['CO2 Emissions(g/km)', 'Make'])\n",
    "y_train = trainset_df['CO2 Emissions(g/km)']\n",
    "\n",
    "X_test = testset_df.drop(columns=['CO2 Emissions(g/km)', 'Make'])\n",
    "y_test = testset_df['CO2 Emissions(g/km)']"
   ]
  },
  {
   "cell_type": "code",
   "execution_count": 37,
   "metadata": {},
   "outputs": [
    {
     "data": {
      "text/html": [
       "<div>\n",
       "<style scoped>\n",
       "    .dataframe tbody tr th:only-of-type {\n",
       "        vertical-align: middle;\n",
       "    }\n",
       "\n",
       "    .dataframe tbody tr th {\n",
       "        vertical-align: top;\n",
       "    }\n",
       "\n",
       "    .dataframe thead th {\n",
       "        text-align: right;\n",
       "    }\n",
       "</style>\n",
       "<table border=\"1\" class=\"dataframe\">\n",
       "  <thead>\n",
       "    <tr style=\"text-align: right;\">\n",
       "      <th></th>\n",
       "      <th>Engine Size(L)</th>\n",
       "      <th>Cylinders</th>\n",
       "      <th>Gearbox_Type</th>\n",
       "      <th>Gearbox_Number</th>\n",
       "      <th>Fuel Consumption City (L/100 km)</th>\n",
       "      <th>Fuel Consumption Hwy (L/100 km)</th>\n",
       "      <th>Fuel Consumption Comb (L/100 km)</th>\n",
       "      <th>Fuel Consumption Comb (mpg)</th>\n",
       "      <th>Model Features_Flexible-fuel vehicle</th>\n",
       "      <th>Model Features_Four-wheel drive</th>\n",
       "      <th>...</th>\n",
       "      <th>Vehicle Class_STATION WAGON - SMALL</th>\n",
       "      <th>Vehicle Class_SUBCOMPACT</th>\n",
       "      <th>Vehicle Class_SUV - SMALL</th>\n",
       "      <th>Vehicle Class_SUV - STANDARD</th>\n",
       "      <th>Vehicle Class_TWO-SEATER</th>\n",
       "      <th>Vehicle Class_VAN - CARGO</th>\n",
       "      <th>Vehicle Class_VAN - PASSENGER</th>\n",
       "      <th>Fuel Type_E</th>\n",
       "      <th>Fuel Type_X</th>\n",
       "      <th>Fuel Type_Z</th>\n",
       "    </tr>\n",
       "  </thead>\n",
       "  <tbody>\n",
       "    <tr>\n",
       "      <th>0</th>\n",
       "      <td>4.0</td>\n",
       "      <td>6</td>\n",
       "      <td>1</td>\n",
       "      <td>5.000000</td>\n",
       "      <td>14.7</td>\n",
       "      <td>10.3</td>\n",
       "      <td>12.7</td>\n",
       "      <td>22</td>\n",
       "      <td>0</td>\n",
       "      <td>0</td>\n",
       "      <td>...</td>\n",
       "      <td>0</td>\n",
       "      <td>0</td>\n",
       "      <td>0</td>\n",
       "      <td>0</td>\n",
       "      <td>0</td>\n",
       "      <td>0</td>\n",
       "      <td>0</td>\n",
       "      <td>0</td>\n",
       "      <td>1</td>\n",
       "      <td>0</td>\n",
       "    </tr>\n",
       "    <tr>\n",
       "      <th>1</th>\n",
       "      <td>2.4</td>\n",
       "      <td>4</td>\n",
       "      <td>1</td>\n",
       "      <td>6.000000</td>\n",
       "      <td>9.8</td>\n",
       "      <td>6.7</td>\n",
       "      <td>8.4</td>\n",
       "      <td>34</td>\n",
       "      <td>0</td>\n",
       "      <td>0</td>\n",
       "      <td>...</td>\n",
       "      <td>0</td>\n",
       "      <td>0</td>\n",
       "      <td>0</td>\n",
       "      <td>0</td>\n",
       "      <td>0</td>\n",
       "      <td>0</td>\n",
       "      <td>0</td>\n",
       "      <td>0</td>\n",
       "      <td>1</td>\n",
       "      <td>0</td>\n",
       "    </tr>\n",
       "    <tr>\n",
       "      <th>2</th>\n",
       "      <td>2.0</td>\n",
       "      <td>4</td>\n",
       "      <td>1</td>\n",
       "      <td>8.000000</td>\n",
       "      <td>11.3</td>\n",
       "      <td>7.1</td>\n",
       "      <td>9.4</td>\n",
       "      <td>30</td>\n",
       "      <td>0</td>\n",
       "      <td>0</td>\n",
       "      <td>...</td>\n",
       "      <td>0</td>\n",
       "      <td>1</td>\n",
       "      <td>0</td>\n",
       "      <td>0</td>\n",
       "      <td>0</td>\n",
       "      <td>0</td>\n",
       "      <td>0</td>\n",
       "      <td>0</td>\n",
       "      <td>0</td>\n",
       "      <td>1</td>\n",
       "    </tr>\n",
       "    <tr>\n",
       "      <th>3</th>\n",
       "      <td>2.5</td>\n",
       "      <td>4</td>\n",
       "      <td>1</td>\n",
       "      <td>6.000000</td>\n",
       "      <td>10.1</td>\n",
       "      <td>7.7</td>\n",
       "      <td>9.0</td>\n",
       "      <td>31</td>\n",
       "      <td>0</td>\n",
       "      <td>0</td>\n",
       "      <td>...</td>\n",
       "      <td>0</td>\n",
       "      <td>0</td>\n",
       "      <td>1</td>\n",
       "      <td>0</td>\n",
       "      <td>0</td>\n",
       "      <td>0</td>\n",
       "      <td>0</td>\n",
       "      <td>0</td>\n",
       "      <td>1</td>\n",
       "      <td>0</td>\n",
       "    </tr>\n",
       "    <tr>\n",
       "      <th>4</th>\n",
       "      <td>5.0</td>\n",
       "      <td>8</td>\n",
       "      <td>1</td>\n",
       "      <td>8.000000</td>\n",
       "      <td>15.8</td>\n",
       "      <td>10.3</td>\n",
       "      <td>13.3</td>\n",
       "      <td>21</td>\n",
       "      <td>0</td>\n",
       "      <td>0</td>\n",
       "      <td>...</td>\n",
       "      <td>0</td>\n",
       "      <td>0</td>\n",
       "      <td>0</td>\n",
       "      <td>0</td>\n",
       "      <td>0</td>\n",
       "      <td>0</td>\n",
       "      <td>0</td>\n",
       "      <td>0</td>\n",
       "      <td>0</td>\n",
       "      <td>1</td>\n",
       "    </tr>\n",
       "    <tr>\n",
       "      <th>...</th>\n",
       "      <td>...</td>\n",
       "      <td>...</td>\n",
       "      <td>...</td>\n",
       "      <td>...</td>\n",
       "      <td>...</td>\n",
       "      <td>...</td>\n",
       "      <td>...</td>\n",
       "      <td>...</td>\n",
       "      <td>...</td>\n",
       "      <td>...</td>\n",
       "      <td>...</td>\n",
       "      <td>...</td>\n",
       "      <td>...</td>\n",
       "      <td>...</td>\n",
       "      <td>...</td>\n",
       "      <td>...</td>\n",
       "      <td>...</td>\n",
       "      <td>...</td>\n",
       "      <td>...</td>\n",
       "      <td>...</td>\n",
       "      <td>...</td>\n",
       "    </tr>\n",
       "    <tr>\n",
       "      <th>5902</th>\n",
       "      <td>2.0</td>\n",
       "      <td>4</td>\n",
       "      <td>1</td>\n",
       "      <td>6.000000</td>\n",
       "      <td>9.3</td>\n",
       "      <td>7.3</td>\n",
       "      <td>8.4</td>\n",
       "      <td>34</td>\n",
       "      <td>0</td>\n",
       "      <td>0</td>\n",
       "      <td>...</td>\n",
       "      <td>0</td>\n",
       "      <td>1</td>\n",
       "      <td>0</td>\n",
       "      <td>0</td>\n",
       "      <td>0</td>\n",
       "      <td>0</td>\n",
       "      <td>0</td>\n",
       "      <td>0</td>\n",
       "      <td>0</td>\n",
       "      <td>1</td>\n",
       "    </tr>\n",
       "    <tr>\n",
       "      <th>5903</th>\n",
       "      <td>5.6</td>\n",
       "      <td>8</td>\n",
       "      <td>1</td>\n",
       "      <td>7.000000</td>\n",
       "      <td>17.5</td>\n",
       "      <td>12.8</td>\n",
       "      <td>15.4</td>\n",
       "      <td>18</td>\n",
       "      <td>0</td>\n",
       "      <td>1</td>\n",
       "      <td>...</td>\n",
       "      <td>0</td>\n",
       "      <td>0</td>\n",
       "      <td>0</td>\n",
       "      <td>1</td>\n",
       "      <td>0</td>\n",
       "      <td>0</td>\n",
       "      <td>0</td>\n",
       "      <td>0</td>\n",
       "      <td>1</td>\n",
       "      <td>0</td>\n",
       "    </tr>\n",
       "    <tr>\n",
       "      <th>5904</th>\n",
       "      <td>3.5</td>\n",
       "      <td>6</td>\n",
       "      <td>1</td>\n",
       "      <td>6.000000</td>\n",
       "      <td>8.1</td>\n",
       "      <td>8.5</td>\n",
       "      <td>8.3</td>\n",
       "      <td>34</td>\n",
       "      <td>0</td>\n",
       "      <td>0</td>\n",
       "      <td>...</td>\n",
       "      <td>0</td>\n",
       "      <td>0</td>\n",
       "      <td>0</td>\n",
       "      <td>1</td>\n",
       "      <td>0</td>\n",
       "      <td>0</td>\n",
       "      <td>0</td>\n",
       "      <td>0</td>\n",
       "      <td>1</td>\n",
       "      <td>0</td>\n",
       "    </tr>\n",
       "    <tr>\n",
       "      <th>5905</th>\n",
       "      <td>2.5</td>\n",
       "      <td>4</td>\n",
       "      <td>1</td>\n",
       "      <td>6.854093</td>\n",
       "      <td>9.5</td>\n",
       "      <td>7.4</td>\n",
       "      <td>8.6</td>\n",
       "      <td>33</td>\n",
       "      <td>0</td>\n",
       "      <td>0</td>\n",
       "      <td>...</td>\n",
       "      <td>0</td>\n",
       "      <td>0</td>\n",
       "      <td>1</td>\n",
       "      <td>0</td>\n",
       "      <td>0</td>\n",
       "      <td>0</td>\n",
       "      <td>0</td>\n",
       "      <td>0</td>\n",
       "      <td>1</td>\n",
       "      <td>0</td>\n",
       "    </tr>\n",
       "    <tr>\n",
       "      <th>5906</th>\n",
       "      <td>3.0</td>\n",
       "      <td>6</td>\n",
       "      <td>1</td>\n",
       "      <td>8.000000</td>\n",
       "      <td>10.5</td>\n",
       "      <td>7.3</td>\n",
       "      <td>9.0</td>\n",
       "      <td>31</td>\n",
       "      <td>0</td>\n",
       "      <td>0</td>\n",
       "      <td>...</td>\n",
       "      <td>0</td>\n",
       "      <td>0</td>\n",
       "      <td>0</td>\n",
       "      <td>0</td>\n",
       "      <td>0</td>\n",
       "      <td>0</td>\n",
       "      <td>0</td>\n",
       "      <td>0</td>\n",
       "      <td>0</td>\n",
       "      <td>0</td>\n",
       "    </tr>\n",
       "  </tbody>\n",
       "</table>\n",
       "<p>5907 rows × 30 columns</p>\n",
       "</div>"
      ],
      "text/plain": [
       "      Engine Size(L)  Cylinders  Gearbox_Type  Gearbox_Number  \\\n",
       "0                4.0          6             1        5.000000   \n",
       "1                2.4          4             1        6.000000   \n",
       "2                2.0          4             1        8.000000   \n",
       "3                2.5          4             1        6.000000   \n",
       "4                5.0          8             1        8.000000   \n",
       "...              ...        ...           ...             ...   \n",
       "5902             2.0          4             1        6.000000   \n",
       "5903             5.6          8             1        7.000000   \n",
       "5904             3.5          6             1        6.000000   \n",
       "5905             2.5          4             1        6.854093   \n",
       "5906             3.0          6             1        8.000000   \n",
       "\n",
       "      Fuel Consumption City (L/100 km)  Fuel Consumption Hwy (L/100 km)  \\\n",
       "0                                 14.7                             10.3   \n",
       "1                                  9.8                              6.7   \n",
       "2                                 11.3                              7.1   \n",
       "3                                 10.1                              7.7   \n",
       "4                                 15.8                             10.3   \n",
       "...                                ...                              ...   \n",
       "5902                               9.3                              7.3   \n",
       "5903                              17.5                             12.8   \n",
       "5904                               8.1                              8.5   \n",
       "5905                               9.5                              7.4   \n",
       "5906                              10.5                              7.3   \n",
       "\n",
       "      Fuel Consumption Comb (L/100 km)  Fuel Consumption Comb (mpg)  \\\n",
       "0                                 12.7                           22   \n",
       "1                                  8.4                           34   \n",
       "2                                  9.4                           30   \n",
       "3                                  9.0                           31   \n",
       "4                                 13.3                           21   \n",
       "...                                ...                          ...   \n",
       "5902                               8.4                           34   \n",
       "5903                              15.4                           18   \n",
       "5904                               8.3                           34   \n",
       "5905                               8.6                           33   \n",
       "5906                               9.0                           31   \n",
       "\n",
       "      Model Features_Flexible-fuel vehicle  Model Features_Four-wheel drive  \\\n",
       "0                                        0                                0   \n",
       "1                                        0                                0   \n",
       "2                                        0                                0   \n",
       "3                                        0                                0   \n",
       "4                                        0                                0   \n",
       "...                                    ...                              ...   \n",
       "5902                                     0                                0   \n",
       "5903                                     0                                1   \n",
       "5904                                     0                                0   \n",
       "5905                                     0                                0   \n",
       "5906                                     0                                0   \n",
       "\n",
       "      ...  Vehicle Class_STATION WAGON - SMALL  Vehicle Class_SUBCOMPACT  \\\n",
       "0     ...                                    0                         0   \n",
       "1     ...                                    0                         0   \n",
       "2     ...                                    0                         1   \n",
       "3     ...                                    0                         0   \n",
       "4     ...                                    0                         0   \n",
       "...   ...                                  ...                       ...   \n",
       "5902  ...                                    0                         1   \n",
       "5903  ...                                    0                         0   \n",
       "5904  ...                                    0                         0   \n",
       "5905  ...                                    0                         0   \n",
       "5906  ...                                    0                         0   \n",
       "\n",
       "      Vehicle Class_SUV - SMALL  Vehicle Class_SUV - STANDARD  \\\n",
       "0                             0                             0   \n",
       "1                             0                             0   \n",
       "2                             0                             0   \n",
       "3                             1                             0   \n",
       "4                             0                             0   \n",
       "...                         ...                           ...   \n",
       "5902                          0                             0   \n",
       "5903                          0                             1   \n",
       "5904                          0                             1   \n",
       "5905                          1                             0   \n",
       "5906                          0                             0   \n",
       "\n",
       "      Vehicle Class_TWO-SEATER  Vehicle Class_VAN - CARGO  \\\n",
       "0                            0                          0   \n",
       "1                            0                          0   \n",
       "2                            0                          0   \n",
       "3                            0                          0   \n",
       "4                            0                          0   \n",
       "...                        ...                        ...   \n",
       "5902                         0                          0   \n",
       "5903                         0                          0   \n",
       "5904                         0                          0   \n",
       "5905                         0                          0   \n",
       "5906                         0                          0   \n",
       "\n",
       "      Vehicle Class_VAN - PASSENGER  Fuel Type_E  Fuel Type_X  Fuel Type_Z  \n",
       "0                                 0            0            1            0  \n",
       "1                                 0            0            1            0  \n",
       "2                                 0            0            0            1  \n",
       "3                                 0            0            1            0  \n",
       "4                                 0            0            0            1  \n",
       "...                             ...          ...          ...          ...  \n",
       "5902                              0            0            0            1  \n",
       "5903                              0            0            1            0  \n",
       "5904                              0            0            1            0  \n",
       "5905                              0            0            1            0  \n",
       "5906                              0            0            0            0  \n",
       "\n",
       "[5907 rows x 30 columns]"
      ]
     },
     "execution_count": 37,
     "metadata": {},
     "output_type": "execute_result"
    }
   ],
   "source": [
    "X_train"
   ]
  },
  {
   "cell_type": "markdown",
   "metadata": {},
   "source": [
    "### Setup pipline for Standardisation"
   ]
  },
  {
   "cell_type": "code",
   "execution_count": 38,
   "metadata": {},
   "outputs": [],
   "source": [
    "binary_columns = X_train.columns[X_train.nunique() == 2].tolist()  \n",
    "numerical_columns = [col for col in X_train.columns if col not in binary_columns]\n",
    "\n",
    "# ColumnTransformer\n",
    "preprocessor = ColumnTransformer(\n",
    "    transformers=[\n",
    "        ('num', StandardScaler(), numerical_columns)  # StandardScale\n",
    "    ], \n",
    "    remainder='passthrough'  # keep dummy variable\n",
    ")\n",
    "\n",
    "# Setup pipeline\n",
    "pipeline = Pipeline(steps=[\n",
    "    ('preprocessor', preprocessor)\n",
    "])"
   ]
  },
  {
   "cell_type": "code",
   "execution_count": 39,
   "metadata": {},
   "outputs": [],
   "source": [
    "X_train_processed = pipeline.fit_transform(X_train)\n",
    "X_test_processed = pipeline.transform(X_test)"
   ]
  },
  {
   "cell_type": "markdown",
   "metadata": {},
   "source": [
    "Inspect the processed data"
   ]
  },
  {
   "cell_type": "code",
   "execution_count": 40,
   "metadata": {},
   "outputs": [
    {
     "name": "stdout",
     "output_type": "stream",
     "text": [
      "Processed Train Dataset：\n",
      "   Engine Size(L)  Cylinders  Gearbox_Type  Gearbox_Number  \\\n",
      "0        0.612690   0.200638     -1.602571        0.606404   \n",
      "1       -0.567895  -0.889172     -0.750938       -0.792804   \n",
      "2       -0.863042  -0.889172      0.952329       -0.364475   \n",
      "3       -0.494109  -0.889172     -0.750938       -0.707138   \n",
      "4        1.350555   1.290448      0.952329        0.920512   \n",
      "\n",
      "   Fuel Consumption City (L/100 km)  Fuel Consumption Hwy (L/100 km)  \\\n",
      "0                          0.563352                         0.591736   \n",
      "1                         -1.064801                        -0.897681   \n",
      "2                         -0.883895                        -0.551305   \n",
      "3                         -0.612536                        -0.689855   \n",
      "4                          0.563352                         0.799561   \n",
      "\n",
      "   Fuel Consumption Comb (L/100 km)  Fuel Consumption Comb (mpg)  \\\n",
      "0                         -0.753140                          1.0   \n",
      "1                          0.910169                          1.0   \n",
      "2                          0.355733                          1.0   \n",
      "3                          0.494342                          1.0   \n",
      "4                         -0.891749                          1.0   \n",
      "\n",
      "   Model Features_Flexible-fuel vehicle  Model Features_Four-wheel drive  ...  \\\n",
      "0                                   0.0                              0.0  ...   \n",
      "1                                   0.0                              0.0  ...   \n",
      "2                                   0.0                              0.0  ...   \n",
      "3                                   0.0                              0.0  ...   \n",
      "4                                   0.0                              0.0  ...   \n",
      "\n",
      "   Vehicle Class_STATION WAGON - SMALL  Vehicle Class_SUBCOMPACT  \\\n",
      "0                                  0.0                       0.0   \n",
      "1                                  0.0                       0.0   \n",
      "2                                  0.0                       1.0   \n",
      "3                                  0.0                       0.0   \n",
      "4                                  0.0                       0.0   \n",
      "\n",
      "   Vehicle Class_SUV - SMALL  Vehicle Class_SUV - STANDARD  \\\n",
      "0                        0.0                           0.0   \n",
      "1                        0.0                           0.0   \n",
      "2                        0.0                           0.0   \n",
      "3                        1.0                           0.0   \n",
      "4                        0.0                           0.0   \n",
      "\n",
      "   Vehicle Class_TWO-SEATER  Vehicle Class_VAN - CARGO  \\\n",
      "0                       0.0                        0.0   \n",
      "1                       0.0                        0.0   \n",
      "2                       0.0                        0.0   \n",
      "3                       0.0                        0.0   \n",
      "4                       0.0                        0.0   \n",
      "\n",
      "   Vehicle Class_VAN - PASSENGER  Fuel Type_E  Fuel Type_X  Fuel Type_Z  \n",
      "0                            0.0          0.0          1.0          0.0  \n",
      "1                            0.0          0.0          1.0          0.0  \n",
      "2                            0.0          0.0          0.0          1.0  \n",
      "3                            0.0          0.0          1.0          0.0  \n",
      "4                            0.0          0.0          0.0          1.0  \n",
      "\n",
      "[5 rows x 30 columns]\n",
      "Processed Test Dataset：\n",
      "   Engine Size(L)  Cylinders  Gearbox_Type  Gearbox_Number  \\\n",
      "0        2.235994   1.290448      0.100696        1.605839   \n",
      "1        0.317543   0.200638     -0.750938        0.634960   \n",
      "2        0.760263   1.290448     -0.750938        2.262610   \n",
      "3       -0.863042  -0.889172      0.952329       -0.650028   \n",
      "4       -1.010615  -0.889172     -0.750938       -0.907025   \n",
      "\n",
      "   Fuel Consumption City (L/100 km)  Fuel Consumption Hwy (L/100 km)  \\\n",
      "0                          1.558334                         1.596226   \n",
      "1                          0.382446                         0.557098   \n",
      "2                          1.196522                         1.942602   \n",
      "3                         -0.702989                        -0.689855   \n",
      "4                         -1.019575                        -0.966956   \n",
      "\n",
      "   Fuel Consumption Comb (L/100 km)  Fuel Consumption Comb (mpg)  \\\n",
      "0                         -1.307576                          0.0   \n",
      "1                         -0.753140                          1.0   \n",
      "2                         -1.446185                          0.0   \n",
      "3                          0.494342                          1.0   \n",
      "4                          0.910169                          1.0   \n",
      "\n",
      "   Model Features_Flexible-fuel vehicle  Model Features_Four-wheel drive  ...  \\\n",
      "0                                   0.0                              0.0  ...   \n",
      "1                                   0.0                              0.0  ...   \n",
      "2                                   0.0                              0.0  ...   \n",
      "3                                   0.0                              0.0  ...   \n",
      "4                                   0.0                              0.0  ...   \n",
      "\n",
      "   Vehicle Class_STATION WAGON - SMALL  Vehicle Class_SUBCOMPACT  \\\n",
      "0                                  0.0                       0.0   \n",
      "1                                  0.0                       0.0   \n",
      "2                                  0.0                       0.0   \n",
      "3                                  0.0                       0.0   \n",
      "4                                  1.0                       0.0   \n",
      "\n",
      "   Vehicle Class_SUV - SMALL  Vehicle Class_SUV - STANDARD  \\\n",
      "0                        0.0                           0.0   \n",
      "1                        1.0                           0.0   \n",
      "2                        0.0                           0.0   \n",
      "3                        1.0                           0.0   \n",
      "4                        0.0                           0.0   \n",
      "\n",
      "   Vehicle Class_TWO-SEATER  Vehicle Class_VAN - CARGO  \\\n",
      "0                       1.0                        0.0   \n",
      "1                       0.0                        0.0   \n",
      "2                       1.0                        0.0   \n",
      "3                       0.0                        0.0   \n",
      "4                       0.0                        0.0   \n",
      "\n",
      "   Vehicle Class_VAN - PASSENGER  Fuel Type_E  Fuel Type_X  Fuel Type_Z  \n",
      "0                            0.0          0.0          0.0          1.0  \n",
      "1                            0.0          0.0          1.0          0.0  \n",
      "2                            0.0          0.0          0.0          1.0  \n",
      "3                            0.0          0.0          0.0          1.0  \n",
      "4                            0.0          0.0          1.0          0.0  \n",
      "\n",
      "[5 rows x 30 columns]\n"
     ]
    }
   ],
   "source": [
    "feature_names = list(X_train) \n",
    "X_train_df = pd.DataFrame(X_train_processed, columns=feature_names)\n",
    "\n",
    "X_test_df = pd.DataFrame(X_test_processed, columns=feature_names)\n",
    "\n",
    "print(\"Processed Train Dataset：\")\n",
    "print(X_train_df.head())\n",
    "\n",
    "print(\"Processed Test Dataset：\")\n",
    "print(X_test_df.head())\n"
   ]
  },
  {
   "cell_type": "code",
   "execution_count": 41,
   "metadata": {},
   "outputs": [],
   "source": [
    "# Prepare the Dataloader\n",
    "import torch\n",
    "import torch.nn as nn\n",
    "from torch.utils.data import DataLoader, TensorDataset\n",
    "\n",
    "# Convert data to Tensor\n",
    "X_train_tensor = torch.tensor(X_train_processed, dtype=torch.float32) \n",
    "y_train_tensor = torch.tensor(y_train.values, dtype=torch.float32).view(-1, 1)\n",
    "\n",
    "X_val_tensor = torch.tensor(X_test_processed, dtype=torch.float32)\n",
    "y_test_tensor = torch.tensor(y_test.values, dtype=torch.float32).view(-1, 1)\n",
    "\n",
    "# Load the training data and validation data\n",
    "train_dataset = TensorDataset(X_train_tensor, y_train_tensor)\n",
    "test_dataset = TensorDataset(X_val_tensor,y_test_tensor)\n",
    "\n",
    "# Set hyperparameters\n",
    "batch_size = 64  # batch size\n",
    "\n",
    "# Create data loader\n",
    "train_Loader = DataLoader(dataset=train_dataset, batch_size=batch_size, shuffle=True)\n",
    "test_Loader = DataLoader(dataset=test_dataset, batch_size=batch_size, shuffle=False)\n",
    "\n"
   ]
  },
  {
   "cell_type": "markdown",
   "metadata": {},
   "source": [
    "## 3 Best Models"
   ]
  },
  {
   "cell_type": "markdown",
   "metadata": {},
   "source": [
    "#### Pre: k-fold Import K-fold Cross-validation Method"
   ]
  },
  {
   "cell_type": "code",
   "execution_count": 42,
   "metadata": {},
   "outputs": [],
   "source": [
    "from sklearn.model_selection import KFold\n",
    "\n",
    "k_fold = KFold(n_splits=20, shuffle=True, random_state=42) # Set randon seed to make sure the results are reproducible"
   ]
  },
  {
   "cell_type": "markdown",
   "metadata": {},
   "source": [
    "Import metrics"
   ]
  },
  {
   "cell_type": "code",
   "execution_count": 43,
   "metadata": {},
   "outputs": [],
   "source": [
    "from sklearn.linear_model import LinearRegression\n",
    "from sklearn.metrics import mean_squared_error, r2_score, mean_absolute_error, mean_absolute_percentage_error"
   ]
  },
  {
   "cell_type": "markdown",
   "metadata": {},
   "source": [
    "### 3.1 Neural Network Model"
   ]
  },
  {
   "cell_type": "markdown",
   "metadata": {},
   "source": [
    "#### 3.1.1 Use W&B Grid Search to Find Best NN Parameter Set"
   ]
  },
  {
   "cell_type": "code",
   "execution_count": 44,
   "metadata": {},
   "outputs": [
    {
     "name": "stderr",
     "output_type": "stream",
     "text": [
      "wandb: WARNING If you're specifying your api key in code, ensure this code is not shared publicly.\n",
      "wandb: WARNING Consider setting the WANDB_API_KEY environment variable, or running `wandb login` from the command line.\n",
      "wandb: Appending key for api.wandb.ai to your netrc file: C:\\Users\\87383\\_netrc\n"
     ]
    },
    {
     "data": {
      "text/plain": [
       "True"
      ]
     },
     "execution_count": 44,
     "metadata": {},
     "output_type": "execute_result"
    }
   ],
   "source": [
    "import wandb\n",
    "\n",
    "wandb.login(key=\"47ea61c7ee69e2e0e1cc46ed5c31bd6168f9f9db\")"
   ]
  },
  {
   "cell_type": "markdown",
   "metadata": {},
   "source": [
    "Neural Network Structure"
   ]
  },
  {
   "cell_type": "code",
   "execution_count": 45,
   "metadata": {},
   "outputs": [],
   "source": [
    "class MultiLayerPerceptron(nn.Module):\n",
    "\n",
    "    def __init__(self, input_size, hidden_size, num_layers, output_size):\n",
    "        super(MultiLayerPerceptron, self).__init__()\n",
    "\n",
    "        # Initialise an empty list to hold layers\n",
    "        layers = []\n",
    "\n",
    "        # First layer: input to hidden\n",
    "        layers.append(nn.Linear(input_size, hidden_size))\n",
    "        layers.append(nn.ReLU())\n",
    "\n",
    "        # Additional hidden layers\n",
    "        for _ in range(num_layers - 1):\n",
    "            layers.append(nn.Linear(hidden_size, hidden_size))\n",
    "            layers.append(nn.ReLU())\n",
    "            \n",
    "        # Output layer: hidden to output\n",
    "        layers.append(nn.Linear(hidden_size, output_size))\n",
    "        self.model = nn.Sequential(*layers)\n",
    "\n",
    "    def forward(self, x):\n",
    "        return self.model(x)"
   ]
  },
  {
   "cell_type": "code",
   "execution_count": 46,
   "metadata": {},
   "outputs": [],
   "source": [
    "from torch.utils.data import random_split\n",
    "\n",
    "# Calculate the sizes for train and validation splits\n",
    "num_total = len(train_dataset)\n",
    "num_train = int(0.9 * num_total)\n",
    "num_val = num_total - num_train\n",
    "\n",
    "# Split the dataset\n",
    "train_subset, val_subset = random_split(train_dataset, [num_train, num_val])\n",
    "\n",
    "# Create DataLoaders for each subset\n",
    "train_Loader = DataLoader(train_subset, batch_size=64, shuffle=True)\n",
    "val_Loader = DataLoader(val_subset, batch_size=64, shuffle=False)"
   ]
  },
  {
   "cell_type": "code",
   "execution_count": 47,
   "metadata": {},
   "outputs": [],
   "source": [
    "# Hyperparameter grid\n",
    "hidden_units_options = [32, 64, 128]    # Numbers of neurons in each hidden layer\n",
    "hidden_layers_options = [2, 3, 4]       # Numbers of hidden layers\n",
    "learning_rates = [0.1, 0.01, 0.001]     # Learning rates\n",
    "\n",
    "max_epochs = 200  # Arbitrarily large; early stopping will likely stop earlier.\n",
    "patience = 5      # Early stopping patience\n",
    "\n",
    "input_size =  X_train_processed.shape[1]   # Input size \n",
    "output_size = 1             # Output size\n",
    "\n",
    "learning_rate = 0.02        # Learning rate\n",
    "n_epochs = 100 # Numebr of epochs\n",
    "\n",
    "# Define the loss function and the optimizer\n",
    "criterion = nn.MSELoss()    # Mean Squared Error for Linear Regression\n"
   ]
  },
  {
   "cell_type": "code",
   "execution_count": 48,
   "metadata": {},
   "outputs": [],
   "source": [
    "# Define helper functions\n",
    "# Train epoch function\n",
    "def train_epoch(model, train_loader, criterion, optimizer, device):\n",
    "    model.train()\n",
    "    running_loss = 0.0\n",
    "\n",
    "    # for features, target in tqdm(train_loader, desc=f\"Training Epoch {epoch+1}\"):\n",
    "    for features, target in train_loader:\n",
    "        features, target = features.to(device), target.to(device)\n",
    "\n",
    "        optimizer.zero_grad()\n",
    "        outputs = model(features) # Forward pass\n",
    "        loss = criterion(outputs, target)\n",
    "\n",
    "        loss.backward()  # Backward pass\n",
    "        optimizer.step() # Update the weights\n",
    "\n",
    "        running_loss += loss.item() * features.size(0)\n",
    "\n",
    "    return running_loss / len(train_loader.dataset)\n",
    "\n",
    "# Validation epoch function\n",
    "def val_epoch(model, val_loader, criterion, device):\n",
    "    model.eval()\n",
    "    val_loss = 0.0\n",
    "\n",
    "    with torch.no_grad():\n",
    "        for features, target in val_loader:\n",
    "            # print(featuresfeatures.size(0))\n",
    "            features, target = features.to(device), target.to(device)\n",
    "            # features = features.view(features.size(0), -1)\n",
    "\n",
    "            outputs = model(features)\n",
    "            loss = criterion(outputs, target)\n",
    "            val_loss += loss.item() * features.size(0)\n",
    "\n",
    "    return val_loss / len(val_loader.dataset)\n",
    "\n"
   ]
  },
  {
   "cell_type": "code",
   "execution_count": 49,
   "metadata": {},
   "outputs": [
    {
     "data": {
      "text/html": [
       "Tracking run with wandb version 0.19.7"
      ],
      "text/plain": [
       "<IPython.core.display.HTML object>"
      ]
     },
     "metadata": {},
     "output_type": "display_data"
    },
    {
     "data": {
      "text/html": [
       "Run data is saved locally in <code>d:\\Projects\\MSc_DE_GroupWork4\\Scripts\\wandb\\run-20250321_004849-gkcrx8vv</code>"
      ],
      "text/plain": [
       "<IPython.core.display.HTML object>"
      ]
     },
     "metadata": {},
     "output_type": "display_data"
    },
    {
     "data": {
      "text/html": [
       "Syncing run <strong><a href='https://wandb.ai/yixuan228-imperial-college-london/DE_Groupwork_G4_stage1/runs/gkcrx8vv' target=\"_blank\">faithful-terrain-32</a></strong> to <a href='https://wandb.ai/yixuan228-imperial-college-london/DE_Groupwork_G4_stage1' target=\"_blank\">Weights & Biases</a> (<a href='https://wandb.me/developer-guide' target=\"_blank\">docs</a>)<br>"
      ],
      "text/plain": [
       "<IPython.core.display.HTML object>"
      ]
     },
     "metadata": {},
     "output_type": "display_data"
    },
    {
     "data": {
      "text/html": [
       " View project at <a href='https://wandb.ai/yixuan228-imperial-college-london/DE_Groupwork_G4_stage1' target=\"_blank\">https://wandb.ai/yixuan228-imperial-college-london/DE_Groupwork_G4_stage1</a>"
      ],
      "text/plain": [
       "<IPython.core.display.HTML object>"
      ]
     },
     "metadata": {},
     "output_type": "display_data"
    },
    {
     "data": {
      "text/html": [
       " View run at <a href='https://wandb.ai/yixuan228-imperial-college-london/DE_Groupwork_G4_stage1/runs/gkcrx8vv' target=\"_blank\">https://wandb.ai/yixuan228-imperial-college-london/DE_Groupwork_G4_stage1/runs/gkcrx8vv</a>"
      ],
      "text/plain": [
       "<IPython.core.display.HTML object>"
      ]
     },
     "metadata": {},
     "output_type": "display_data"
    },
    {
     "name": "stdout",
     "output_type": "stream",
     "text": [
      "Epoch 001 | Train Loss: 5717.5943 | Val Loss: 666.1507\n",
      "Epoch 002 | Train Loss: 363.3433 | Val Loss: 232.0713\n",
      "Epoch 003 | Train Loss: 173.5053 | Val Loss: 149.3998\n",
      "Epoch 004 | Train Loss: 92.4356 | Val Loss: 69.7635\n",
      "Epoch 005 | Train Loss: 53.7239 | Val Loss: 49.0899\n",
      "Epoch 006 | Train Loss: 36.8657 | Val Loss: 40.1078\n",
      "Epoch 007 | Train Loss: 27.9894 | Val Loss: 42.0073\n",
      "Epoch 008 | Train Loss: 22.8708 | Val Loss: 33.0574\n",
      "Epoch 009 | Train Loss: 26.5218 | Val Loss: 35.4833\n",
      "Epoch 010 | Train Loss: 28.7553 | Val Loss: 23.3411\n",
      "Epoch 011 | Train Loss: 19.5701 | Val Loss: 30.4865\n",
      "Epoch 012 | Train Loss: 27.2840 | Val Loss: 32.6825\n",
      "Epoch 013 | Train Loss: 40.7054 | Val Loss: 28.1647\n",
      "Epoch 014 | Train Loss: 23.0123 | Val Loss: 17.3588\n",
      "Epoch 015 | Train Loss: 32.1450 | Val Loss: 37.3869\n",
      "Epoch 016 | Train Loss: 32.1743 | Val Loss: 43.4468\n",
      "Epoch 017 | Train Loss: 20.3542 | Val Loss: 20.9850\n",
      "Epoch 018 | Train Loss: 57.2386 | Val Loss: 42.4950\n",
      "Epoch 019 | Train Loss: 28.2720 | Val Loss: 21.8686\n",
      "Early stopping triggered at epoch 19\n"
     ]
    },
    {
     "data": {
      "text/html": [],
      "text/plain": [
       "<IPython.core.display.HTML object>"
      ]
     },
     "metadata": {},
     "output_type": "display_data"
    },
    {
     "data": {
      "text/html": [
       "<br>    <style><br>        .wandb-row {<br>            display: flex;<br>            flex-direction: row;<br>            flex-wrap: wrap;<br>            justify-content: flex-start;<br>            width: 100%;<br>        }<br>        .wandb-col {<br>            display: flex;<br>            flex-direction: column;<br>            flex-basis: 100%;<br>            flex: 1;<br>            padding: 10px;<br>        }<br>    </style><br><div class=\"wandb-row\"><div class=\"wandb-col\"><h3>Run history:</h3><br/><table class=\"wandb\"><tr><td>epoch</td><td>▁▁▂▂▃▃▃▄▄▅▅▅▆▆▆▇▇██</td></tr><tr><td>train_loss</td><td>█▁▁▁▁▁▁▁▁▁▁▁▁▁▁▁▁▁▁</td></tr><tr><td>val_loss</td><td>█▃▂▂▁▁▁▁▁▁▁▁▁▁▁▁▁▁▁</td></tr></table><br/></div><div class=\"wandb-col\"><h3>Run summary:</h3><br/><table class=\"wandb\"><tr><td>epoch</td><td>19</td></tr><tr><td>train_loss</td><td>28.27202</td></tr><tr><td>val_loss</td><td>21.86862</td></tr></table><br/></div></div>"
      ],
      "text/plain": [
       "<IPython.core.display.HTML object>"
      ]
     },
     "metadata": {},
     "output_type": "display_data"
    },
    {
     "data": {
      "text/html": [
       " View run <strong style=\"color:#cdcd00\">faithful-terrain-32</strong> at: <a href='https://wandb.ai/yixuan228-imperial-college-london/DE_Groupwork_G4_stage1/runs/gkcrx8vv' target=\"_blank\">https://wandb.ai/yixuan228-imperial-college-london/DE_Groupwork_G4_stage1/runs/gkcrx8vv</a><br> View project at: <a href='https://wandb.ai/yixuan228-imperial-college-london/DE_Groupwork_G4_stage1' target=\"_blank\">https://wandb.ai/yixuan228-imperial-college-london/DE_Groupwork_G4_stage1</a><br>Synced 5 W&B file(s), 0 media file(s), 0 artifact file(s) and 0 other file(s)"
      ],
      "text/plain": [
       "<IPython.core.display.HTML object>"
      ]
     },
     "metadata": {},
     "output_type": "display_data"
    },
    {
     "data": {
      "text/html": [
       "Find logs at: <code>.\\wandb\\run-20250321_004849-gkcrx8vv\\logs</code>"
      ],
      "text/plain": [
       "<IPython.core.display.HTML object>"
      ]
     },
     "metadata": {},
     "output_type": "display_data"
    },
    {
     "data": {
      "text/html": [
       "Tracking run with wandb version 0.19.7"
      ],
      "text/plain": [
       "<IPython.core.display.HTML object>"
      ]
     },
     "metadata": {},
     "output_type": "display_data"
    },
    {
     "data": {
      "text/html": [
       "Run data is saved locally in <code>d:\\Projects\\MSc_DE_GroupWork4\\Scripts\\wandb\\run-20250321_004859-7g13898x</code>"
      ],
      "text/plain": [
       "<IPython.core.display.HTML object>"
      ]
     },
     "metadata": {},
     "output_type": "display_data"
    },
    {
     "data": {
      "text/html": [
       "Syncing run <strong><a href='https://wandb.ai/yixuan228-imperial-college-london/DE_Groupwork_G4_stage1/runs/7g13898x' target=\"_blank\">swift-resonance-33</a></strong> to <a href='https://wandb.ai/yixuan228-imperial-college-london/DE_Groupwork_G4_stage1' target=\"_blank\">Weights & Biases</a> (<a href='https://wandb.me/developer-guide' target=\"_blank\">docs</a>)<br>"
      ],
      "text/plain": [
       "<IPython.core.display.HTML object>"
      ]
     },
     "metadata": {},
     "output_type": "display_data"
    },
    {
     "data": {
      "text/html": [
       " View project at <a href='https://wandb.ai/yixuan228-imperial-college-london/DE_Groupwork_G4_stage1' target=\"_blank\">https://wandb.ai/yixuan228-imperial-college-london/DE_Groupwork_G4_stage1</a>"
      ],
      "text/plain": [
       "<IPython.core.display.HTML object>"
      ]
     },
     "metadata": {},
     "output_type": "display_data"
    },
    {
     "data": {
      "text/html": [
       " View run at <a href='https://wandb.ai/yixuan228-imperial-college-london/DE_Groupwork_G4_stage1/runs/7g13898x' target=\"_blank\">https://wandb.ai/yixuan228-imperial-college-london/DE_Groupwork_G4_stage1/runs/7g13898x</a>"
      ],
      "text/plain": [
       "<IPython.core.display.HTML object>"
      ]
     },
     "metadata": {},
     "output_type": "display_data"
    },
    {
     "name": "stdout",
     "output_type": "stream",
     "text": [
      "Epoch 001 | Train Loss: 25316.9573 | Val Loss: 1291.3895\n",
      "Epoch 002 | Train Loss: 850.8184 | Val Loss: 664.7035\n",
      "Epoch 003 | Train Loss: 519.2616 | Val Loss: 462.3500\n",
      "Epoch 004 | Train Loss: 369.8000 | Val Loss: 346.1611\n",
      "Epoch 005 | Train Loss: 281.4095 | Val Loss: 276.6102\n",
      "Epoch 006 | Train Loss: 223.6443 | Val Loss: 229.4348\n",
      "Epoch 007 | Train Loss: 180.9367 | Val Loss: 183.1165\n",
      "Epoch 008 | Train Loss: 141.9296 | Val Loss: 144.6184\n",
      "Epoch 009 | Train Loss: 114.0673 | Val Loss: 118.9416\n",
      "Epoch 010 | Train Loss: 90.2023 | Val Loss: 89.9267\n",
      "Epoch 011 | Train Loss: 70.9391 | Val Loss: 75.8518\n",
      "Epoch 012 | Train Loss: 57.1542 | Val Loss: 58.4642\n",
      "Epoch 013 | Train Loss: 46.7473 | Val Loss: 49.7587\n",
      "Epoch 014 | Train Loss: 39.1981 | Val Loss: 59.0036\n",
      "Epoch 015 | Train Loss: 39.1452 | Val Loss: 33.3568\n",
      "Epoch 016 | Train Loss: 28.6720 | Val Loss: 28.9635\n",
      "Epoch 017 | Train Loss: 25.7903 | Val Loss: 29.3893\n",
      "Epoch 018 | Train Loss: 23.8429 | Val Loss: 24.2738\n",
      "Epoch 019 | Train Loss: 21.8064 | Val Loss: 22.4561\n",
      "Epoch 020 | Train Loss: 21.0704 | Val Loss: 26.0686\n",
      "Epoch 021 | Train Loss: 20.5319 | Val Loss: 20.3384\n",
      "Epoch 022 | Train Loss: 18.7994 | Val Loss: 21.7687\n",
      "Epoch 023 | Train Loss: 16.9094 | Val Loss: 19.1379\n",
      "Epoch 024 | Train Loss: 17.6159 | Val Loss: 17.2518\n",
      "Epoch 025 | Train Loss: 15.7504 | Val Loss: 18.5264\n",
      "Epoch 026 | Train Loss: 15.7674 | Val Loss: 31.6477\n",
      "Epoch 027 | Train Loss: 18.5128 | Val Loss: 15.7990\n",
      "Epoch 028 | Train Loss: 14.3695 | Val Loss: 13.2354\n",
      "Epoch 029 | Train Loss: 12.9304 | Val Loss: 30.3497\n",
      "Epoch 030 | Train Loss: 16.8273 | Val Loss: 17.1222\n",
      "Epoch 031 | Train Loss: 12.9629 | Val Loss: 14.7397\n",
      "Epoch 032 | Train Loss: 13.2893 | Val Loss: 12.4985\n",
      "Epoch 033 | Train Loss: 12.5149 | Val Loss: 12.5286\n",
      "Epoch 034 | Train Loss: 12.1318 | Val Loss: 16.8468\n",
      "Epoch 035 | Train Loss: 12.0169 | Val Loss: 11.0632\n",
      "Epoch 036 | Train Loss: 12.4051 | Val Loss: 11.3624\n",
      "Epoch 037 | Train Loss: 12.8185 | Val Loss: 20.2710\n",
      "Epoch 038 | Train Loss: 14.1216 | Val Loss: 17.3052\n",
      "Epoch 039 | Train Loss: 12.6178 | Val Loss: 12.3216\n",
      "Epoch 040 | Train Loss: 10.9993 | Val Loss: 21.5248\n",
      "Early stopping triggered at epoch 40\n"
     ]
    },
    {
     "data": {
      "text/html": [],
      "text/plain": [
       "<IPython.core.display.HTML object>"
      ]
     },
     "metadata": {},
     "output_type": "display_data"
    },
    {
     "data": {
      "text/html": [
       "<br>    <style><br>        .wandb-row {<br>            display: flex;<br>            flex-direction: row;<br>            flex-wrap: wrap;<br>            justify-content: flex-start;<br>            width: 100%;<br>        }<br>        .wandb-col {<br>            display: flex;<br>            flex-direction: column;<br>            flex-basis: 100%;<br>            flex: 1;<br>            padding: 10px;<br>        }<br>    </style><br><div class=\"wandb-row\"><div class=\"wandb-col\"><h3>Run history:</h3><br/><table class=\"wandb\"><tr><td>epoch</td><td>▁▁▁▂▂▂▂▂▂▃▃▃▃▃▄▄▄▄▄▄▅▅▅▅▅▅▆▆▆▆▆▇▇▇▇▇▇███</td></tr><tr><td>train_loss</td><td>█▁▁▁▁▁▁▁▁▁▁▁▁▁▁▁▁▁▁▁▁▁▁▁▁▁▁▁▁▁▁▁▁▁▁▁▁▁▁▁</td></tr><tr><td>val_loss</td><td>█▅▃▃▂▂▂▂▂▁▁▁▁▁▁▁▁▁▁▁▁▁▁▁▁▁▁▁▁▁▁▁▁▁▁▁▁▁▁▁</td></tr></table><br/></div><div class=\"wandb-col\"><h3>Run summary:</h3><br/><table class=\"wandb\"><tr><td>epoch</td><td>40</td></tr><tr><td>train_loss</td><td>10.99931</td></tr><tr><td>val_loss</td><td>21.52483</td></tr></table><br/></div></div>"
      ],
      "text/plain": [
       "<IPython.core.display.HTML object>"
      ]
     },
     "metadata": {},
     "output_type": "display_data"
    },
    {
     "data": {
      "text/html": [
       " View run <strong style=\"color:#cdcd00\">swift-resonance-33</strong> at: <a href='https://wandb.ai/yixuan228-imperial-college-london/DE_Groupwork_G4_stage1/runs/7g13898x' target=\"_blank\">https://wandb.ai/yixuan228-imperial-college-london/DE_Groupwork_G4_stage1/runs/7g13898x</a><br> View project at: <a href='https://wandb.ai/yixuan228-imperial-college-london/DE_Groupwork_G4_stage1' target=\"_blank\">https://wandb.ai/yixuan228-imperial-college-london/DE_Groupwork_G4_stage1</a><br>Synced 5 W&B file(s), 0 media file(s), 0 artifact file(s) and 0 other file(s)"
      ],
      "text/plain": [
       "<IPython.core.display.HTML object>"
      ]
     },
     "metadata": {},
     "output_type": "display_data"
    },
    {
     "data": {
      "text/html": [
       "Find logs at: <code>.\\wandb\\run-20250321_004859-7g13898x\\logs</code>"
      ],
      "text/plain": [
       "<IPython.core.display.HTML object>"
      ]
     },
     "metadata": {},
     "output_type": "display_data"
    },
    {
     "data": {
      "text/html": [
       "Tracking run with wandb version 0.19.7"
      ],
      "text/plain": [
       "<IPython.core.display.HTML object>"
      ]
     },
     "metadata": {},
     "output_type": "display_data"
    },
    {
     "data": {
      "text/html": [
       "Run data is saved locally in <code>d:\\Projects\\MSc_DE_GroupWork4\\Scripts\\wandb\\run-20250321_004909-rnqgfo22</code>"
      ],
      "text/plain": [
       "<IPython.core.display.HTML object>"
      ]
     },
     "metadata": {},
     "output_type": "display_data"
    },
    {
     "data": {
      "text/html": [
       "Syncing run <strong><a href='https://wandb.ai/yixuan228-imperial-college-london/DE_Groupwork_G4_stage1/runs/rnqgfo22' target=\"_blank\">usual-fog-34</a></strong> to <a href='https://wandb.ai/yixuan228-imperial-college-london/DE_Groupwork_G4_stage1' target=\"_blank\">Weights & Biases</a> (<a href='https://wandb.me/developer-guide' target=\"_blank\">docs</a>)<br>"
      ],
      "text/plain": [
       "<IPython.core.display.HTML object>"
      ]
     },
     "metadata": {},
     "output_type": "display_data"
    },
    {
     "data": {
      "text/html": [
       " View project at <a href='https://wandb.ai/yixuan228-imperial-college-london/DE_Groupwork_G4_stage1' target=\"_blank\">https://wandb.ai/yixuan228-imperial-college-london/DE_Groupwork_G4_stage1</a>"
      ],
      "text/plain": [
       "<IPython.core.display.HTML object>"
      ]
     },
     "metadata": {},
     "output_type": "display_data"
    },
    {
     "data": {
      "text/html": [
       " View run at <a href='https://wandb.ai/yixuan228-imperial-college-london/DE_Groupwork_G4_stage1/runs/rnqgfo22' target=\"_blank\">https://wandb.ai/yixuan228-imperial-college-london/DE_Groupwork_G4_stage1/runs/rnqgfo22</a>"
      ],
      "text/plain": [
       "<IPython.core.display.HTML object>"
      ]
     },
     "metadata": {},
     "output_type": "display_data"
    },
    {
     "name": "stdout",
     "output_type": "stream",
     "text": [
      "Epoch 001 | Train Loss: 65647.0014 | Val Loss: 62616.8588\n",
      "Epoch 002 | Train Loss: 56103.3447 | Val Loss: 43250.7862\n",
      "Epoch 003 | Train Loss: 27538.5564 | Val Loss: 12236.6826\n",
      "Epoch 004 | Train Loss: 6786.2004 | Val Loss: 4045.8423\n",
      "Epoch 005 | Train Loss: 3250.6157 | Val Loss: 2581.3177\n",
      "Epoch 006 | Train Loss: 2187.2391 | Val Loss: 1879.6112\n",
      "Epoch 007 | Train Loss: 1623.0232 | Val Loss: 1485.7050\n",
      "Epoch 008 | Train Loss: 1297.2686 | Val Loss: 1254.9352\n",
      "Epoch 009 | Train Loss: 1101.2140 | Val Loss: 1104.9292\n",
      "Epoch 010 | Train Loss: 980.4970 | Val Loss: 1008.1260\n",
      "Epoch 011 | Train Loss: 893.9860 | Val Loss: 930.9896\n",
      "Epoch 012 | Train Loss: 828.7006 | Val Loss: 868.9976\n",
      "Epoch 013 | Train Loss: 774.9180 | Val Loss: 815.1266\n",
      "Epoch 014 | Train Loss: 728.0204 | Val Loss: 766.0793\n",
      "Epoch 015 | Train Loss: 685.9386 | Val Loss: 721.5221\n",
      "Epoch 016 | Train Loss: 646.4660 | Val Loss: 683.8562\n",
      "Epoch 017 | Train Loss: 610.7730 | Val Loss: 646.4223\n",
      "Epoch 018 | Train Loss: 577.5869 | Val Loss: 610.8192\n",
      "Epoch 019 | Train Loss: 547.1515 | Val Loss: 580.9139\n",
      "Epoch 020 | Train Loss: 519.0271 | Val Loss: 553.1222\n",
      "Epoch 021 | Train Loss: 492.4152 | Val Loss: 522.8706\n",
      "Epoch 022 | Train Loss: 466.9742 | Val Loss: 497.8945\n",
      "Epoch 023 | Train Loss: 442.5395 | Val Loss: 472.6270\n",
      "Epoch 024 | Train Loss: 421.4034 | Val Loss: 451.0876\n",
      "Epoch 025 | Train Loss: 401.0117 | Val Loss: 430.7194\n",
      "Epoch 026 | Train Loss: 382.5875 | Val Loss: 412.9496\n",
      "Epoch 027 | Train Loss: 365.9038 | Val Loss: 396.2679\n",
      "Epoch 028 | Train Loss: 349.5112 | Val Loss: 379.4247\n",
      "Epoch 029 | Train Loss: 334.4556 | Val Loss: 364.1265\n",
      "Epoch 030 | Train Loss: 320.8211 | Val Loss: 350.6782\n",
      "Epoch 031 | Train Loss: 307.8998 | Val Loss: 337.7093\n",
      "Epoch 032 | Train Loss: 295.5721 | Val Loss: 325.0995\n",
      "Epoch 033 | Train Loss: 284.5530 | Val Loss: 313.5823\n",
      "Epoch 034 | Train Loss: 273.5754 | Val Loss: 303.3355\n",
      "Epoch 035 | Train Loss: 263.9949 | Val Loss: 294.4730\n",
      "Epoch 036 | Train Loss: 254.2263 | Val Loss: 283.5872\n",
      "Epoch 037 | Train Loss: 244.8284 | Val Loss: 272.0436\n",
      "Epoch 038 | Train Loss: 235.8672 | Val Loss: 262.6133\n",
      "Epoch 039 | Train Loss: 227.2354 | Val Loss: 253.8860\n",
      "Epoch 040 | Train Loss: 219.3092 | Val Loss: 245.4598\n",
      "Epoch 041 | Train Loss: 210.8509 | Val Loss: 236.8378\n",
      "Epoch 042 | Train Loss: 203.5724 | Val Loss: 228.0030\n",
      "Epoch 043 | Train Loss: 196.0696 | Val Loss: 220.9360\n",
      "Epoch 044 | Train Loss: 189.1966 | Val Loss: 210.4558\n",
      "Epoch 045 | Train Loss: 180.2582 | Val Loss: 202.5431\n",
      "Epoch 046 | Train Loss: 173.1069 | Val Loss: 195.0164\n",
      "Epoch 047 | Train Loss: 165.9952 | Val Loss: 188.0618\n",
      "Epoch 048 | Train Loss: 159.5351 | Val Loss: 180.4352\n",
      "Epoch 049 | Train Loss: 152.5908 | Val Loss: 172.3181\n",
      "Epoch 050 | Train Loss: 145.8730 | Val Loss: 165.1570\n",
      "Epoch 051 | Train Loss: 139.7898 | Val Loss: 157.4533\n",
      "Epoch 052 | Train Loss: 133.4456 | Val Loss: 150.4779\n",
      "Epoch 053 | Train Loss: 126.9019 | Val Loss: 143.6064\n",
      "Epoch 054 | Train Loss: 121.0026 | Val Loss: 136.0179\n",
      "Epoch 055 | Train Loss: 115.4661 | Val Loss: 129.2714\n",
      "Epoch 056 | Train Loss: 109.5094 | Val Loss: 122.7038\n",
      "Epoch 057 | Train Loss: 103.5682 | Val Loss: 116.9139\n",
      "Epoch 058 | Train Loss: 98.3730 | Val Loss: 110.0096\n",
      "Epoch 059 | Train Loss: 93.2068 | Val Loss: 103.8405\n",
      "Epoch 060 | Train Loss: 88.2245 | Val Loss: 97.4145\n",
      "Epoch 061 | Train Loss: 82.5336 | Val Loss: 94.8774\n",
      "Epoch 062 | Train Loss: 77.8509 | Val Loss: 89.2831\n",
      "Epoch 063 | Train Loss: 73.6972 | Val Loss: 82.9457\n",
      "Epoch 064 | Train Loss: 69.3408 | Val Loss: 75.7621\n",
      "Epoch 065 | Train Loss: 64.7998 | Val Loss: 71.3698\n",
      "Epoch 066 | Train Loss: 61.0926 | Val Loss: 67.3554\n",
      "Epoch 067 | Train Loss: 57.6374 | Val Loss: 62.5760\n",
      "Epoch 068 | Train Loss: 54.1132 | Val Loss: 59.3265\n",
      "Epoch 069 | Train Loss: 50.9318 | Val Loss: 55.5552\n",
      "Epoch 070 | Train Loss: 47.7762 | Val Loss: 51.4715\n",
      "Epoch 071 | Train Loss: 45.1374 | Val Loss: 48.5340\n",
      "Epoch 072 | Train Loss: 42.4974 | Val Loss: 45.3742\n",
      "Epoch 073 | Train Loss: 40.0272 | Val Loss: 44.0899\n",
      "Epoch 074 | Train Loss: 38.0790 | Val Loss: 40.4740\n",
      "Epoch 075 | Train Loss: 35.9467 | Val Loss: 37.4350\n",
      "Epoch 076 | Train Loss: 33.8166 | Val Loss: 37.2656\n",
      "Epoch 077 | Train Loss: 32.7420 | Val Loss: 34.2599\n",
      "Epoch 078 | Train Loss: 31.7869 | Val Loss: 31.7970\n",
      "Epoch 079 | Train Loss: 29.4474 | Val Loss: 30.4504\n",
      "Epoch 080 | Train Loss: 28.4403 | Val Loss: 28.7113\n",
      "Epoch 081 | Train Loss: 26.8900 | Val Loss: 27.8546\n",
      "Epoch 082 | Train Loss: 25.9694 | Val Loss: 26.3080\n",
      "Epoch 083 | Train Loss: 24.8958 | Val Loss: 25.6881\n",
      "Epoch 084 | Train Loss: 24.0164 | Val Loss: 24.3530\n",
      "Epoch 085 | Train Loss: 23.0075 | Val Loss: 22.9135\n",
      "Epoch 086 | Train Loss: 22.5331 | Val Loss: 22.4103\n",
      "Epoch 087 | Train Loss: 21.5050 | Val Loss: 21.3152\n",
      "Epoch 088 | Train Loss: 20.7124 | Val Loss: 21.1053\n",
      "Epoch 089 | Train Loss: 20.3118 | Val Loss: 20.3016\n",
      "Epoch 090 | Train Loss: 19.5871 | Val Loss: 19.5876\n",
      "Epoch 091 | Train Loss: 19.1689 | Val Loss: 19.0605\n",
      "Epoch 092 | Train Loss: 18.6153 | Val Loss: 18.3321\n",
      "Epoch 093 | Train Loss: 18.0896 | Val Loss: 17.7236\n",
      "Epoch 094 | Train Loss: 17.8917 | Val Loss: 18.7375\n",
      "Epoch 095 | Train Loss: 17.3441 | Val Loss: 17.2533\n",
      "Epoch 096 | Train Loss: 16.8202 | Val Loss: 16.7271\n",
      "Epoch 097 | Train Loss: 16.6738 | Val Loss: 16.8021\n",
      "Epoch 098 | Train Loss: 16.2829 | Val Loss: 16.1490\n",
      "Epoch 099 | Train Loss: 15.8738 | Val Loss: 15.7367\n",
      "Epoch 100 | Train Loss: 15.6773 | Val Loss: 15.2629\n",
      "Epoch 101 | Train Loss: 15.2119 | Val Loss: 15.6834\n",
      "Epoch 102 | Train Loss: 14.9968 | Val Loss: 14.8575\n",
      "Epoch 103 | Train Loss: 14.7976 | Val Loss: 14.4236\n",
      "Epoch 104 | Train Loss: 14.6375 | Val Loss: 15.2237\n",
      "Epoch 105 | Train Loss: 14.1602 | Val Loss: 13.8899\n",
      "Epoch 106 | Train Loss: 13.7306 | Val Loss: 13.8819\n",
      "Epoch 107 | Train Loss: 13.6864 | Val Loss: 13.5910\n",
      "Epoch 108 | Train Loss: 13.5203 | Val Loss: 13.4587\n",
      "Epoch 109 | Train Loss: 13.2495 | Val Loss: 13.4950\n",
      "Epoch 110 | Train Loss: 13.1003 | Val Loss: 14.3271\n",
      "Epoch 111 | Train Loss: 13.0922 | Val Loss: 12.8475\n",
      "Epoch 112 | Train Loss: 12.7936 | Val Loss: 12.3103\n",
      "Epoch 113 | Train Loss: 12.3021 | Val Loss: 12.9742\n",
      "Epoch 114 | Train Loss: 12.2072 | Val Loss: 12.6134\n",
      "Epoch 115 | Train Loss: 11.9915 | Val Loss: 12.8169\n",
      "Epoch 116 | Train Loss: 11.8603 | Val Loss: 11.8461\n",
      "Epoch 117 | Train Loss: 11.6160 | Val Loss: 13.5935\n",
      "Epoch 118 | Train Loss: 11.9147 | Val Loss: 14.6998\n",
      "Epoch 119 | Train Loss: 12.9123 | Val Loss: 13.1908\n",
      "Epoch 120 | Train Loss: 11.3815 | Val Loss: 11.4593\n",
      "Epoch 121 | Train Loss: 11.1947 | Val Loss: 11.0584\n",
      "Epoch 122 | Train Loss: 11.0085 | Val Loss: 11.5600\n",
      "Epoch 123 | Train Loss: 10.9177 | Val Loss: 12.0730\n",
      "Epoch 124 | Train Loss: 11.1656 | Val Loss: 12.3083\n",
      "Epoch 125 | Train Loss: 10.6127 | Val Loss: 10.9326\n",
      "Epoch 126 | Train Loss: 10.4229 | Val Loss: 10.9477\n",
      "Epoch 127 | Train Loss: 10.6851 | Val Loss: 11.1773\n",
      "Epoch 128 | Train Loss: 10.5711 | Val Loss: 11.1084\n",
      "Epoch 129 | Train Loss: 10.2643 | Val Loss: 10.5090\n",
      "Epoch 130 | Train Loss: 10.3694 | Val Loss: 12.0480\n",
      "Epoch 131 | Train Loss: 10.1961 | Val Loss: 10.4520\n",
      "Epoch 132 | Train Loss: 10.2235 | Val Loss: 10.4800\n",
      "Epoch 133 | Train Loss: 9.8844 | Val Loss: 10.6480\n",
      "Epoch 134 | Train Loss: 10.3324 | Val Loss: 10.0350\n",
      "Epoch 135 | Train Loss: 9.6987 | Val Loss: 9.9028\n",
      "Epoch 136 | Train Loss: 9.5125 | Val Loss: 9.7308\n",
      "Epoch 137 | Train Loss: 9.4031 | Val Loss: 12.6585\n",
      "Epoch 138 | Train Loss: 10.5793 | Val Loss: 11.2761\n",
      "Epoch 139 | Train Loss: 9.6889 | Val Loss: 9.7141\n",
      "Epoch 140 | Train Loss: 9.3401 | Val Loss: 9.5261\n",
      "Epoch 141 | Train Loss: 9.1653 | Val Loss: 14.0784\n",
      "Epoch 142 | Train Loss: 9.5719 | Val Loss: 9.6275\n",
      "Epoch 143 | Train Loss: 9.0198 | Val Loss: 9.7727\n",
      "Epoch 144 | Train Loss: 9.1719 | Val Loss: 9.3795\n",
      "Epoch 145 | Train Loss: 8.8852 | Val Loss: 10.4027\n",
      "Epoch 146 | Train Loss: 9.0562 | Val Loss: 9.4538\n",
      "Epoch 147 | Train Loss: 9.0429 | Val Loss: 9.1744\n",
      "Epoch 148 | Train Loss: 8.9032 | Val Loss: 9.8089\n",
      "Epoch 149 | Train Loss: 8.8478 | Val Loss: 10.6061\n",
      "Epoch 150 | Train Loss: 8.7880 | Val Loss: 9.9774\n",
      "Epoch 151 | Train Loss: 8.8138 | Val Loss: 9.2312\n",
      "Epoch 152 | Train Loss: 8.5096 | Val Loss: 9.4653\n",
      "Early stopping triggered at epoch 152\n"
     ]
    },
    {
     "data": {
      "text/html": [],
      "text/plain": [
       "<IPython.core.display.HTML object>"
      ]
     },
     "metadata": {},
     "output_type": "display_data"
    },
    {
     "data": {
      "text/html": [
       "<br>    <style><br>        .wandb-row {<br>            display: flex;<br>            flex-direction: row;<br>            flex-wrap: wrap;<br>            justify-content: flex-start;<br>            width: 100%;<br>        }<br>        .wandb-col {<br>            display: flex;<br>            flex-direction: column;<br>            flex-basis: 100%;<br>            flex: 1;<br>            padding: 10px;<br>        }<br>    </style><br><div class=\"wandb-row\"><div class=\"wandb-col\"><h3>Run history:</h3><br/><table class=\"wandb\"><tr><td>epoch</td><td>▁▁▁▂▂▂▂▂▃▃▃▃▃▃▃▄▄▄▄▄▄▄▄▅▅▅▅▆▆▆▇▇▇▇▇▇████</td></tr><tr><td>train_loss</td><td>█▁▁▁▁▁▁▁▁▁▁▁▁▁▁▁▁▁▁▁▁▁▁▁▁▁▁▁▁▁▁▁▁▁▁▁▁▁▁▁</td></tr><tr><td>val_loss</td><td>█▄▄▃▃▂▂▂▂▂▁▁▁▁▁▁▁▁▁▁▁▁▁▁▁▁▁▁▁▁▁▁▁▁▁▁▁▁▁▁</td></tr></table><br/></div><div class=\"wandb-col\"><h3>Run summary:</h3><br/><table class=\"wandb\"><tr><td>epoch</td><td>152</td></tr><tr><td>train_loss</td><td>8.50956</td></tr><tr><td>val_loss</td><td>9.46526</td></tr></table><br/></div></div>"
      ],
      "text/plain": [
       "<IPython.core.display.HTML object>"
      ]
     },
     "metadata": {},
     "output_type": "display_data"
    },
    {
     "data": {
      "text/html": [
       " View run <strong style=\"color:#cdcd00\">usual-fog-34</strong> at: <a href='https://wandb.ai/yixuan228-imperial-college-london/DE_Groupwork_G4_stage1/runs/rnqgfo22' target=\"_blank\">https://wandb.ai/yixuan228-imperial-college-london/DE_Groupwork_G4_stage1/runs/rnqgfo22</a><br> View project at: <a href='https://wandb.ai/yixuan228-imperial-college-london/DE_Groupwork_G4_stage1' target=\"_blank\">https://wandb.ai/yixuan228-imperial-college-london/DE_Groupwork_G4_stage1</a><br>Synced 5 W&B file(s), 0 media file(s), 0 artifact file(s) and 0 other file(s)"
      ],
      "text/plain": [
       "<IPython.core.display.HTML object>"
      ]
     },
     "metadata": {},
     "output_type": "display_data"
    },
    {
     "data": {
      "text/html": [
       "Find logs at: <code>.\\wandb\\run-20250321_004909-rnqgfo22\\logs</code>"
      ],
      "text/plain": [
       "<IPython.core.display.HTML object>"
      ]
     },
     "metadata": {},
     "output_type": "display_data"
    },
    {
     "data": {
      "text/html": [
       "Tracking run with wandb version 0.19.7"
      ],
      "text/plain": [
       "<IPython.core.display.HTML object>"
      ]
     },
     "metadata": {},
     "output_type": "display_data"
    },
    {
     "data": {
      "text/html": [
       "Run data is saved locally in <code>d:\\Projects\\MSc_DE_GroupWork4\\Scripts\\wandb\\run-20250321_004937-fxx08lzn</code>"
      ],
      "text/plain": [
       "<IPython.core.display.HTML object>"
      ]
     },
     "metadata": {},
     "output_type": "display_data"
    },
    {
     "data": {
      "text/html": [
       "Syncing run <strong><a href='https://wandb.ai/yixuan228-imperial-college-london/DE_Groupwork_G4_stage1/runs/fxx08lzn' target=\"_blank\">pleasant-breeze-35</a></strong> to <a href='https://wandb.ai/yixuan228-imperial-college-london/DE_Groupwork_G4_stage1' target=\"_blank\">Weights & Biases</a> (<a href='https://wandb.me/developer-guide' target=\"_blank\">docs</a>)<br>"
      ],
      "text/plain": [
       "<IPython.core.display.HTML object>"
      ]
     },
     "metadata": {},
     "output_type": "display_data"
    },
    {
     "data": {
      "text/html": [
       " View project at <a href='https://wandb.ai/yixuan228-imperial-college-london/DE_Groupwork_G4_stage1' target=\"_blank\">https://wandb.ai/yixuan228-imperial-college-london/DE_Groupwork_G4_stage1</a>"
      ],
      "text/plain": [
       "<IPython.core.display.HTML object>"
      ]
     },
     "metadata": {},
     "output_type": "display_data"
    },
    {
     "data": {
      "text/html": [
       " View run at <a href='https://wandb.ai/yixuan228-imperial-college-london/DE_Groupwork_G4_stage1/runs/fxx08lzn' target=\"_blank\">https://wandb.ai/yixuan228-imperial-college-london/DE_Groupwork_G4_stage1/runs/fxx08lzn</a>"
      ],
      "text/plain": [
       "<IPython.core.display.HTML object>"
      ]
     },
     "metadata": {},
     "output_type": "display_data"
    },
    {
     "name": "stdout",
     "output_type": "stream",
     "text": [
      "Epoch 001 | Train Loss: 9899.3538 | Val Loss: 628.3049\n",
      "Epoch 002 | Train Loss: 413.2805 | Val Loss: 335.9003\n",
      "Epoch 003 | Train Loss: 243.8844 | Val Loss: 199.0719\n",
      "Epoch 004 | Train Loss: 152.9539 | Val Loss: 122.6484\n",
      "Epoch 005 | Train Loss: 97.8045 | Val Loss: 290.4352\n",
      "Epoch 006 | Train Loss: 97.3576 | Val Loss: 49.1234\n",
      "Epoch 007 | Train Loss: 48.5313 | Val Loss: 73.5997\n",
      "Epoch 008 | Train Loss: 48.7643 | Val Loss: 37.2394\n",
      "Epoch 009 | Train Loss: 41.2107 | Val Loss: 154.9949\n",
      "Epoch 010 | Train Loss: 54.5367 | Val Loss: 48.2737\n",
      "Epoch 011 | Train Loss: 35.7325 | Val Loss: 110.3574\n",
      "Epoch 012 | Train Loss: 38.0098 | Val Loss: 28.4317\n",
      "Epoch 013 | Train Loss: 30.0403 | Val Loss: 40.7690\n",
      "Epoch 014 | Train Loss: 27.3259 | Val Loss: 44.3389\n",
      "Epoch 015 | Train Loss: 29.8282 | Val Loss: 33.3400\n",
      "Epoch 016 | Train Loss: 28.4751 | Val Loss: 44.8349\n",
      "Epoch 017 | Train Loss: 49.3916 | Val Loss: 143.3532\n",
      "Early stopping triggered at epoch 17\n"
     ]
    },
    {
     "data": {
      "text/html": [],
      "text/plain": [
       "<IPython.core.display.HTML object>"
      ]
     },
     "metadata": {},
     "output_type": "display_data"
    },
    {
     "data": {
      "text/html": [
       "<br>    <style><br>        .wandb-row {<br>            display: flex;<br>            flex-direction: row;<br>            flex-wrap: wrap;<br>            justify-content: flex-start;<br>            width: 100%;<br>        }<br>        .wandb-col {<br>            display: flex;<br>            flex-direction: column;<br>            flex-basis: 100%;<br>            flex: 1;<br>            padding: 10px;<br>        }<br>    </style><br><div class=\"wandb-row\"><div class=\"wandb-col\"><h3>Run history:</h3><br/><table class=\"wandb\"><tr><td>epoch</td><td>▁▁▂▂▃▃▄▄▅▅▅▆▆▇▇██</td></tr><tr><td>train_loss</td><td>█▁▁▁▁▁▁▁▁▁▁▁▁▁▁▁▁</td></tr><tr><td>val_loss</td><td>█▅▃▂▄▁▂▁▂▁▂▁▁▁▁▁▂</td></tr></table><br/></div><div class=\"wandb-col\"><h3>Run summary:</h3><br/><table class=\"wandb\"><tr><td>epoch</td><td>17</td></tr><tr><td>train_loss</td><td>49.39161</td></tr><tr><td>val_loss</td><td>143.35324</td></tr></table><br/></div></div>"
      ],
      "text/plain": [
       "<IPython.core.display.HTML object>"
      ]
     },
     "metadata": {},
     "output_type": "display_data"
    },
    {
     "data": {
      "text/html": [
       " View run <strong style=\"color:#cdcd00\">pleasant-breeze-35</strong> at: <a href='https://wandb.ai/yixuan228-imperial-college-london/DE_Groupwork_G4_stage1/runs/fxx08lzn' target=\"_blank\">https://wandb.ai/yixuan228-imperial-college-london/DE_Groupwork_G4_stage1/runs/fxx08lzn</a><br> View project at: <a href='https://wandb.ai/yixuan228-imperial-college-london/DE_Groupwork_G4_stage1' target=\"_blank\">https://wandb.ai/yixuan228-imperial-college-london/DE_Groupwork_G4_stage1</a><br>Synced 5 W&B file(s), 0 media file(s), 0 artifact file(s) and 0 other file(s)"
      ],
      "text/plain": [
       "<IPython.core.display.HTML object>"
      ]
     },
     "metadata": {},
     "output_type": "display_data"
    },
    {
     "data": {
      "text/html": [
       "Find logs at: <code>.\\wandb\\run-20250321_004937-fxx08lzn\\logs</code>"
      ],
      "text/plain": [
       "<IPython.core.display.HTML object>"
      ]
     },
     "metadata": {},
     "output_type": "display_data"
    },
    {
     "data": {
      "text/html": [
       "Tracking run with wandb version 0.19.7"
      ],
      "text/plain": [
       "<IPython.core.display.HTML object>"
      ]
     },
     "metadata": {},
     "output_type": "display_data"
    },
    {
     "data": {
      "text/html": [
       "Run data is saved locally in <code>d:\\Projects\\MSc_DE_GroupWork4\\Scripts\\wandb\\run-20250321_004943-40vfxhym</code>"
      ],
      "text/plain": [
       "<IPython.core.display.HTML object>"
      ]
     },
     "metadata": {},
     "output_type": "display_data"
    },
    {
     "data": {
      "text/html": [
       "Syncing run <strong><a href='https://wandb.ai/yixuan228-imperial-college-london/DE_Groupwork_G4_stage1/runs/40vfxhym' target=\"_blank\">chocolate-bush-36</a></strong> to <a href='https://wandb.ai/yixuan228-imperial-college-london/DE_Groupwork_G4_stage1' target=\"_blank\">Weights & Biases</a> (<a href='https://wandb.me/developer-guide' target=\"_blank\">docs</a>)<br>"
      ],
      "text/plain": [
       "<IPython.core.display.HTML object>"
      ]
     },
     "metadata": {},
     "output_type": "display_data"
    },
    {
     "data": {
      "text/html": [
       " View project at <a href='https://wandb.ai/yixuan228-imperial-college-london/DE_Groupwork_G4_stage1' target=\"_blank\">https://wandb.ai/yixuan228-imperial-college-london/DE_Groupwork_G4_stage1</a>"
      ],
      "text/plain": [
       "<IPython.core.display.HTML object>"
      ]
     },
     "metadata": {},
     "output_type": "display_data"
    },
    {
     "data": {
      "text/html": [
       " View run at <a href='https://wandb.ai/yixuan228-imperial-college-london/DE_Groupwork_G4_stage1/runs/40vfxhym' target=\"_blank\">https://wandb.ai/yixuan228-imperial-college-london/DE_Groupwork_G4_stage1/runs/40vfxhym</a>"
      ],
      "text/plain": [
       "<IPython.core.display.HTML object>"
      ]
     },
     "metadata": {},
     "output_type": "display_data"
    },
    {
     "name": "stdout",
     "output_type": "stream",
     "text": [
      "Epoch 001 | Train Loss: 17803.3696 | Val Loss: 761.9773\n",
      "Epoch 002 | Train Loss: 499.9060 | Val Loss: 385.6631\n",
      "Epoch 003 | Train Loss: 295.2925 | Val Loss: 272.2727\n",
      "Epoch 004 | Train Loss: 213.1559 | Val Loss: 203.7825\n",
      "Epoch 005 | Train Loss: 157.3619 | Val Loss: 149.3154\n",
      "Epoch 006 | Train Loss: 112.2195 | Val Loss: 103.6933\n",
      "Epoch 007 | Train Loss: 74.6813 | Val Loss: 65.3903\n",
      "Epoch 008 | Train Loss: 51.0523 | Val Loss: 46.1457\n",
      "Epoch 009 | Train Loss: 35.8754 | Val Loss: 29.5069\n",
      "Epoch 010 | Train Loss: 27.6323 | Val Loss: 24.1347\n",
      "Epoch 011 | Train Loss: 24.5384 | Val Loss: 31.3685\n",
      "Epoch 012 | Train Loss: 21.5918 | Val Loss: 22.1023\n",
      "Epoch 013 | Train Loss: 21.3816 | Val Loss: 16.7954\n",
      "Epoch 014 | Train Loss: 18.0918 | Val Loss: 20.3643\n",
      "Epoch 015 | Train Loss: 17.5532 | Val Loss: 15.8090\n",
      "Epoch 016 | Train Loss: 16.8668 | Val Loss: 13.9166\n",
      "Epoch 017 | Train Loss: 15.8262 | Val Loss: 14.8373\n",
      "Epoch 018 | Train Loss: 14.5712 | Val Loss: 14.9932\n",
      "Epoch 019 | Train Loss: 13.8234 | Val Loss: 21.8707\n",
      "Epoch 020 | Train Loss: 14.2322 | Val Loss: 15.4438\n",
      "Epoch 021 | Train Loss: 12.7654 | Val Loss: 13.9719\n",
      "Early stopping triggered at epoch 21\n"
     ]
    },
    {
     "data": {
      "text/html": [],
      "text/plain": [
       "<IPython.core.display.HTML object>"
      ]
     },
     "metadata": {},
     "output_type": "display_data"
    },
    {
     "data": {
      "text/html": [
       "<br>    <style><br>        .wandb-row {<br>            display: flex;<br>            flex-direction: row;<br>            flex-wrap: wrap;<br>            justify-content: flex-start;<br>            width: 100%;<br>        }<br>        .wandb-col {<br>            display: flex;<br>            flex-direction: column;<br>            flex-basis: 100%;<br>            flex: 1;<br>            padding: 10px;<br>        }<br>    </style><br><div class=\"wandb-row\"><div class=\"wandb-col\"><h3>Run history:</h3><br/><table class=\"wandb\"><tr><td>epoch</td><td>▁▁▂▂▂▃▃▃▄▄▅▅▅▆▆▆▇▇▇██</td></tr><tr><td>train_loss</td><td>█▁▁▁▁▁▁▁▁▁▁▁▁▁▁▁▁▁▁▁▁</td></tr><tr><td>val_loss</td><td>█▄▃▃▂▂▁▁▁▁▁▁▁▁▁▁▁▁▁▁▁</td></tr></table><br/></div><div class=\"wandb-col\"><h3>Run summary:</h3><br/><table class=\"wandb\"><tr><td>epoch</td><td>21</td></tr><tr><td>train_loss</td><td>12.76536</td></tr><tr><td>val_loss</td><td>13.97186</td></tr></table><br/></div></div>"
      ],
      "text/plain": [
       "<IPython.core.display.HTML object>"
      ]
     },
     "metadata": {},
     "output_type": "display_data"
    },
    {
     "data": {
      "text/html": [
       " View run <strong style=\"color:#cdcd00\">chocolate-bush-36</strong> at: <a href='https://wandb.ai/yixuan228-imperial-college-london/DE_Groupwork_G4_stage1/runs/40vfxhym' target=\"_blank\">https://wandb.ai/yixuan228-imperial-college-london/DE_Groupwork_G4_stage1/runs/40vfxhym</a><br> View project at: <a href='https://wandb.ai/yixuan228-imperial-college-london/DE_Groupwork_G4_stage1' target=\"_blank\">https://wandb.ai/yixuan228-imperial-college-london/DE_Groupwork_G4_stage1</a><br>Synced 5 W&B file(s), 0 media file(s), 0 artifact file(s) and 0 other file(s)"
      ],
      "text/plain": [
       "<IPython.core.display.HTML object>"
      ]
     },
     "metadata": {},
     "output_type": "display_data"
    },
    {
     "data": {
      "text/html": [
       "Find logs at: <code>.\\wandb\\run-20250321_004943-40vfxhym\\logs</code>"
      ],
      "text/plain": [
       "<IPython.core.display.HTML object>"
      ]
     },
     "metadata": {},
     "output_type": "display_data"
    },
    {
     "data": {
      "text/html": [
       "Tracking run with wandb version 0.19.7"
      ],
      "text/plain": [
       "<IPython.core.display.HTML object>"
      ]
     },
     "metadata": {},
     "output_type": "display_data"
    },
    {
     "data": {
      "text/html": [
       "Run data is saved locally in <code>d:\\Projects\\MSc_DE_GroupWork4\\Scripts\\wandb\\run-20250321_004949-szh74vne</code>"
      ],
      "text/plain": [
       "<IPython.core.display.HTML object>"
      ]
     },
     "metadata": {},
     "output_type": "display_data"
    },
    {
     "data": {
      "text/html": [
       "Syncing run <strong><a href='https://wandb.ai/yixuan228-imperial-college-london/DE_Groupwork_G4_stage1/runs/szh74vne' target=\"_blank\">good-frog-37</a></strong> to <a href='https://wandb.ai/yixuan228-imperial-college-london/DE_Groupwork_G4_stage1' target=\"_blank\">Weights & Biases</a> (<a href='https://wandb.me/developer-guide' target=\"_blank\">docs</a>)<br>"
      ],
      "text/plain": [
       "<IPython.core.display.HTML object>"
      ]
     },
     "metadata": {},
     "output_type": "display_data"
    },
    {
     "data": {
      "text/html": [
       " View project at <a href='https://wandb.ai/yixuan228-imperial-college-london/DE_Groupwork_G4_stage1' target=\"_blank\">https://wandb.ai/yixuan228-imperial-college-london/DE_Groupwork_G4_stage1</a>"
      ],
      "text/plain": [
       "<IPython.core.display.HTML object>"
      ]
     },
     "metadata": {},
     "output_type": "display_data"
    },
    {
     "data": {
      "text/html": [
       " View run at <a href='https://wandb.ai/yixuan228-imperial-college-london/DE_Groupwork_G4_stage1/runs/szh74vne' target=\"_blank\">https://wandb.ai/yixuan228-imperial-college-london/DE_Groupwork_G4_stage1/runs/szh74vne</a>"
      ],
      "text/plain": [
       "<IPython.core.display.HTML object>"
      ]
     },
     "metadata": {},
     "output_type": "display_data"
    },
    {
     "name": "stdout",
     "output_type": "stream",
     "text": [
      "Epoch 001 | Train Loss: 64912.9399 | Val Loss: 56991.5523\n",
      "Epoch 002 | Train Loss: 25437.6424 | Val Loss: 4237.1677\n",
      "Epoch 003 | Train Loss: 2630.1420 | Val Loss: 1617.1250\n",
      "Epoch 004 | Train Loss: 1201.9653 | Val Loss: 997.8393\n",
      "Epoch 005 | Train Loss: 812.1183 | Val Loss: 762.7403\n",
      "Epoch 006 | Train Loss: 643.9585 | Val Loss: 624.8088\n",
      "Epoch 007 | Train Loss: 520.8142 | Val Loss: 510.6599\n",
      "Epoch 008 | Train Loss: 424.4776 | Val Loss: 424.2105\n",
      "Epoch 009 | Train Loss: 352.3101 | Val Loss: 361.6612\n",
      "Epoch 010 | Train Loss: 302.2848 | Val Loss: 314.5185\n",
      "Epoch 011 | Train Loss: 265.5283 | Val Loss: 283.1181\n",
      "Epoch 012 | Train Loss: 238.2056 | Val Loss: 255.6383\n",
      "Epoch 013 | Train Loss: 214.6689 | Val Loss: 233.1230\n",
      "Epoch 014 | Train Loss: 197.8841 | Val Loss: 215.2018\n",
      "Epoch 015 | Train Loss: 179.8849 | Val Loss: 200.3475\n",
      "Epoch 016 | Train Loss: 165.5631 | Val Loss: 183.1826\n",
      "Epoch 017 | Train Loss: 151.9249 | Val Loss: 166.5428\n",
      "Epoch 018 | Train Loss: 138.4459 | Val Loss: 152.5039\n",
      "Epoch 019 | Train Loss: 125.7143 | Val Loss: 139.6456\n",
      "Epoch 020 | Train Loss: 114.5280 | Val Loss: 127.6885\n",
      "Epoch 021 | Train Loss: 104.2644 | Val Loss: 114.2448\n",
      "Epoch 022 | Train Loss: 93.2157 | Val Loss: 105.3628\n",
      "Epoch 023 | Train Loss: 84.3071 | Val Loss: 91.8664\n",
      "Epoch 024 | Train Loss: 75.7333 | Val Loss: 84.5792\n",
      "Epoch 025 | Train Loss: 67.1648 | Val Loss: 74.0684\n",
      "Epoch 026 | Train Loss: 60.2120 | Val Loss: 66.6661\n",
      "Epoch 027 | Train Loss: 53.9569 | Val Loss: 60.5980\n",
      "Epoch 028 | Train Loss: 48.9455 | Val Loss: 53.4748\n",
      "Epoch 029 | Train Loss: 43.9715 | Val Loss: 49.8508\n",
      "Epoch 030 | Train Loss: 40.0710 | Val Loss: 43.4964\n",
      "Epoch 031 | Train Loss: 36.0773 | Val Loss: 39.3273\n",
      "Epoch 032 | Train Loss: 32.9866 | Val Loss: 36.2921\n",
      "Epoch 033 | Train Loss: 31.2058 | Val Loss: 34.8816\n",
      "Epoch 034 | Train Loss: 28.7276 | Val Loss: 31.9484\n",
      "Epoch 035 | Train Loss: 27.4988 | Val Loss: 30.3485\n",
      "Epoch 036 | Train Loss: 25.7626 | Val Loss: 27.9848\n",
      "Epoch 037 | Train Loss: 24.9774 | Val Loss: 27.4306\n",
      "Epoch 038 | Train Loss: 23.4360 | Val Loss: 25.1345\n",
      "Epoch 039 | Train Loss: 23.1706 | Val Loss: 26.1812\n",
      "Epoch 040 | Train Loss: 21.8906 | Val Loss: 23.6414\n",
      "Epoch 041 | Train Loss: 20.7233 | Val Loss: 23.2381\n",
      "Epoch 042 | Train Loss: 19.8581 | Val Loss: 22.1202\n",
      "Epoch 043 | Train Loss: 19.2201 | Val Loss: 21.2730\n",
      "Epoch 044 | Train Loss: 19.1945 | Val Loss: 19.7308\n",
      "Epoch 045 | Train Loss: 18.0613 | Val Loss: 18.9057\n",
      "Epoch 046 | Train Loss: 17.7755 | Val Loss: 17.8136\n",
      "Epoch 047 | Train Loss: 16.9735 | Val Loss: 17.9547\n",
      "Epoch 048 | Train Loss: 16.1308 | Val Loss: 20.2876\n",
      "Epoch 049 | Train Loss: 16.3096 | Val Loss: 17.2058\n",
      "Epoch 050 | Train Loss: 15.6594 | Val Loss: 16.2345\n",
      "Epoch 051 | Train Loss: 14.7158 | Val Loss: 16.0909\n",
      "Epoch 052 | Train Loss: 14.5476 | Val Loss: 15.6628\n",
      "Epoch 053 | Train Loss: 14.0432 | Val Loss: 15.2265\n",
      "Epoch 054 | Train Loss: 13.4986 | Val Loss: 15.6093\n",
      "Epoch 055 | Train Loss: 14.1162 | Val Loss: 14.0634\n",
      "Epoch 056 | Train Loss: 12.9761 | Val Loss: 13.7827\n",
      "Epoch 057 | Train Loss: 13.1220 | Val Loss: 13.5824\n",
      "Epoch 058 | Train Loss: 12.4972 | Val Loss: 13.0035\n",
      "Epoch 059 | Train Loss: 12.5607 | Val Loss: 14.0842\n",
      "Epoch 060 | Train Loss: 12.1807 | Val Loss: 14.0568\n",
      "Epoch 061 | Train Loss: 11.8645 | Val Loss: 13.3831\n",
      "Epoch 062 | Train Loss: 11.6538 | Val Loss: 14.3900\n",
      "Epoch 063 | Train Loss: 11.4987 | Val Loss: 13.3687\n",
      "Early stopping triggered at epoch 63\n"
     ]
    },
    {
     "data": {
      "text/html": [],
      "text/plain": [
       "<IPython.core.display.HTML object>"
      ]
     },
     "metadata": {},
     "output_type": "display_data"
    },
    {
     "data": {
      "text/html": [
       "<br>    <style><br>        .wandb-row {<br>            display: flex;<br>            flex-direction: row;<br>            flex-wrap: wrap;<br>            justify-content: flex-start;<br>            width: 100%;<br>        }<br>        .wandb-col {<br>            display: flex;<br>            flex-direction: column;<br>            flex-basis: 100%;<br>            flex: 1;<br>            padding: 10px;<br>        }<br>    </style><br><div class=\"wandb-row\"><div class=\"wandb-col\"><h3>Run history:</h3><br/><table class=\"wandb\"><tr><td>epoch</td><td>▁▁▁▁▂▂▂▂▂▂▃▃▃▃▃▄▄▄▄▄▄▅▅▅▅▅▆▆▆▆▇▇▇▇▇▇████</td></tr><tr><td>train_loss</td><td>█▄▁▁▁▁▁▁▁▁▁▁▁▁▁▁▁▁▁▁▁▁▁▁▁▁▁▁▁▁▁▁▁▁▁▁▁▁▁▁</td></tr><tr><td>val_loss</td><td>█▂▁▁▁▁▁▁▁▁▁▁▁▁▁▁▁▁▁▁▁▁▁▁▁▁▁▁▁▁▁▁▁▁▁▁▁▁▁▁</td></tr></table><br/></div><div class=\"wandb-col\"><h3>Run summary:</h3><br/><table class=\"wandb\"><tr><td>epoch</td><td>63</td></tr><tr><td>train_loss</td><td>11.49873</td></tr><tr><td>val_loss</td><td>13.36866</td></tr></table><br/></div></div>"
      ],
      "text/plain": [
       "<IPython.core.display.HTML object>"
      ]
     },
     "metadata": {},
     "output_type": "display_data"
    },
    {
     "data": {
      "text/html": [
       " View run <strong style=\"color:#cdcd00\">good-frog-37</strong> at: <a href='https://wandb.ai/yixuan228-imperial-college-london/DE_Groupwork_G4_stage1/runs/szh74vne' target=\"_blank\">https://wandb.ai/yixuan228-imperial-college-london/DE_Groupwork_G4_stage1/runs/szh74vne</a><br> View project at: <a href='https://wandb.ai/yixuan228-imperial-college-london/DE_Groupwork_G4_stage1' target=\"_blank\">https://wandb.ai/yixuan228-imperial-college-london/DE_Groupwork_G4_stage1</a><br>Synced 5 W&B file(s), 0 media file(s), 0 artifact file(s) and 0 other file(s)"
      ],
      "text/plain": [
       "<IPython.core.display.HTML object>"
      ]
     },
     "metadata": {},
     "output_type": "display_data"
    },
    {
     "data": {
      "text/html": [
       "Find logs at: <code>.\\wandb\\run-20250321_004949-szh74vne\\logs</code>"
      ],
      "text/plain": [
       "<IPython.core.display.HTML object>"
      ]
     },
     "metadata": {},
     "output_type": "display_data"
    },
    {
     "data": {
      "text/html": [
       "Tracking run with wandb version 0.19.7"
      ],
      "text/plain": [
       "<IPython.core.display.HTML object>"
      ]
     },
     "metadata": {},
     "output_type": "display_data"
    },
    {
     "data": {
      "text/html": [
       "Run data is saved locally in <code>d:\\Projects\\MSc_DE_GroupWork4\\Scripts\\wandb\\run-20250321_005003-scgk6l0a</code>"
      ],
      "text/plain": [
       "<IPython.core.display.HTML object>"
      ]
     },
     "metadata": {},
     "output_type": "display_data"
    },
    {
     "data": {
      "text/html": [
       "Syncing run <strong><a href='https://wandb.ai/yixuan228-imperial-college-london/DE_Groupwork_G4_stage1/runs/scgk6l0a' target=\"_blank\">lucky-glade-38</a></strong> to <a href='https://wandb.ai/yixuan228-imperial-college-london/DE_Groupwork_G4_stage1' target=\"_blank\">Weights & Biases</a> (<a href='https://wandb.me/developer-guide' target=\"_blank\">docs</a>)<br>"
      ],
      "text/plain": [
       "<IPython.core.display.HTML object>"
      ]
     },
     "metadata": {},
     "output_type": "display_data"
    },
    {
     "data": {
      "text/html": [
       " View project at <a href='https://wandb.ai/yixuan228-imperial-college-london/DE_Groupwork_G4_stage1' target=\"_blank\">https://wandb.ai/yixuan228-imperial-college-london/DE_Groupwork_G4_stage1</a>"
      ],
      "text/plain": [
       "<IPython.core.display.HTML object>"
      ]
     },
     "metadata": {},
     "output_type": "display_data"
    },
    {
     "data": {
      "text/html": [
       " View run at <a href='https://wandb.ai/yixuan228-imperial-college-london/DE_Groupwork_G4_stage1/runs/scgk6l0a' target=\"_blank\">https://wandb.ai/yixuan228-imperial-college-london/DE_Groupwork_G4_stage1/runs/scgk6l0a</a>"
      ],
      "text/plain": [
       "<IPython.core.display.HTML object>"
      ]
     },
     "metadata": {},
     "output_type": "display_data"
    },
    {
     "name": "stdout",
     "output_type": "stream",
     "text": [
      "Epoch 001 | Train Loss: 69195.9006 | Val Loss: 62037.1402\n",
      "Epoch 002 | Train Loss: 61084.0368 | Val Loss: 58164.5816\n",
      "Epoch 003 | Train Loss: 57267.8944 | Val Loss: 54473.1564\n",
      "Epoch 004 | Train Loss: 53636.0276 | Val Loss: 50972.6031\n",
      "Epoch 005 | Train Loss: 50188.3909 | Val Loss: 47639.8924\n",
      "Epoch 006 | Train Loss: 46903.9259 | Val Loss: 44480.0766\n",
      "Epoch 007 | Train Loss: 43797.5705 | Val Loss: 41489.0324\n",
      "Epoch 008 | Train Loss: 40848.0853 | Val Loss: 38654.8899\n",
      "Epoch 009 | Train Loss: 38063.4402 | Val Loss: 35984.7453\n",
      "Epoch 010 | Train Loss: 35432.7261 | Val Loss: 33460.2442\n",
      "Epoch 011 | Train Loss: 32957.0006 | Val Loss: 31087.1442\n",
      "Epoch 012 | Train Loss: 30616.3724 | Val Loss: 28845.3469\n",
      "Epoch 013 | Train Loss: 28417.8482 | Val Loss: 26745.3660\n",
      "Epoch 014 | Train Loss: 26350.0130 | Val Loss: 24774.1208\n",
      "Epoch 015 | Train Loss: 24409.4898 | Val Loss: 22917.2947\n",
      "Epoch 016 | Train Loss: 22587.3904 | Val Loss: 21186.4329\n",
      "Epoch 017 | Train Loss: 20886.2406 | Val Loss: 19567.0545\n",
      "Epoch 018 | Train Loss: 19298.2805 | Val Loss: 18062.9140\n",
      "Epoch 019 | Train Loss: 17818.9389 | Val Loss: 16661.7150\n",
      "Epoch 020 | Train Loss: 16439.1973 | Val Loss: 15358.8620\n",
      "Epoch 021 | Train Loss: 15162.4140 | Val Loss: 14151.9481\n",
      "Epoch 022 | Train Loss: 13978.4350 | Val Loss: 13039.6017\n",
      "Epoch 023 | Train Loss: 12881.3522 | Val Loss: 12013.0607\n",
      "Epoch 024 | Train Loss: 11874.6427 | Val Loss: 11069.1261\n",
      "Epoch 025 | Train Loss: 10945.5439 | Val Loss: 10202.6247\n",
      "Epoch 026 | Train Loss: 10093.1055 | Val Loss: 9409.7116\n",
      "Epoch 027 | Train Loss: 9318.8623 | Val Loss: 8692.3402\n",
      "Epoch 028 | Train Loss: 8610.6947 | Val Loss: 8035.3892\n",
      "Epoch 029 | Train Loss: 7967.4285 | Val Loss: 7444.8867\n",
      "Epoch 030 | Train Loss: 7386.1287 | Val Loss: 6912.4808\n",
      "Epoch 031 | Train Loss: 6863.2205 | Val Loss: 6434.6184\n",
      "Epoch 032 | Train Loss: 6396.2608 | Val Loss: 6012.8755\n",
      "Epoch 033 | Train Loss: 5979.5830 | Val Loss: 5638.0940\n",
      "Epoch 034 | Train Loss: 5607.4956 | Val Loss: 5301.7925\n",
      "Epoch 035 | Train Loss: 5281.2611 | Val Loss: 5013.0100\n",
      "Epoch 036 | Train Loss: 4995.4752 | Val Loss: 4759.5821\n",
      "Epoch 037 | Train Loss: 4743.7523 | Val Loss: 4538.9579\n",
      "Epoch 038 | Train Loss: 4527.1923 | Val Loss: 4350.9675\n",
      "Epoch 039 | Train Loss: 4338.3503 | Val Loss: 4187.9696\n",
      "Epoch 040 | Train Loss: 4175.4762 | Val Loss: 4049.7807\n",
      "Epoch 041 | Train Loss: 4036.5866 | Val Loss: 3933.0415\n",
      "Epoch 042 | Train Loss: 3918.2409 | Val Loss: 3835.6372\n",
      "Epoch 043 | Train Loss: 3821.6061 | Val Loss: 3757.1975\n",
      "Epoch 044 | Train Loss: 3738.7672 | Val Loss: 3691.0747\n",
      "Epoch 045 | Train Loss: 3669.8687 | Val Loss: 3637.3288\n",
      "Epoch 046 | Train Loss: 3614.3489 | Val Loss: 3594.6377\n",
      "Epoch 047 | Train Loss: 3570.6207 | Val Loss: 3561.9210\n",
      "Epoch 048 | Train Loss: 3536.0859 | Val Loss: 3537.4028\n",
      "Epoch 049 | Train Loss: 3508.8653 | Val Loss: 3519.2228\n",
      "Epoch 050 | Train Loss: 3488.1873 | Val Loss: 3505.6387\n",
      "Epoch 051 | Train Loss: 3469.9822 | Val Loss: 3494.9825\n",
      "Epoch 052 | Train Loss: 3456.6522 | Val Loss: 3487.6164\n",
      "Epoch 053 | Train Loss: 3446.6039 | Val Loss: 3482.3876\n",
      "Epoch 054 | Train Loss: 3438.5159 | Val Loss: 3479.0912\n",
      "Epoch 055 | Train Loss: 3433.9320 | Val Loss: 3477.5912\n",
      "Epoch 056 | Train Loss: 3430.5313 | Val Loss: 3476.7301\n",
      "Epoch 057 | Train Loss: 3427.9718 | Val Loss: 3476.4264\n",
      "Epoch 058 | Train Loss: 3425.9565 | Val Loss: 3476.4626\n",
      "Epoch 059 | Train Loss: 3424.2623 | Val Loss: 3476.8966\n",
      "Epoch 060 | Train Loss: 3423.1893 | Val Loss: 3477.2883\n",
      "Epoch 061 | Train Loss: 3422.4914 | Val Loss: 3477.9064\n",
      "Epoch 062 | Train Loss: 3422.0389 | Val Loss: 3478.4951\n",
      "Early stopping triggered at epoch 62\n"
     ]
    },
    {
     "data": {
      "text/html": [],
      "text/plain": [
       "<IPython.core.display.HTML object>"
      ]
     },
     "metadata": {},
     "output_type": "display_data"
    },
    {
     "data": {
      "text/html": [
       "<br>    <style><br>        .wandb-row {<br>            display: flex;<br>            flex-direction: row;<br>            flex-wrap: wrap;<br>            justify-content: flex-start;<br>            width: 100%;<br>        }<br>        .wandb-col {<br>            display: flex;<br>            flex-direction: column;<br>            flex-basis: 100%;<br>            flex: 1;<br>            padding: 10px;<br>        }<br>    </style><br><div class=\"wandb-row\"><div class=\"wandb-col\"><h3>Run history:</h3><br/><table class=\"wandb\"><tr><td>epoch</td><td>▁▁▁▁▁▂▂▂▂▃▃▃▃▃▄▄▄▄▄▄▅▅▅▅▅▅▅▆▆▆▇▇▇▇▇▇████</td></tr><tr><td>train_loss</td><td>█▇▇▆▆▅▅▅▄▄▃▃▃▂▂▂▂▂▂▁▁▁▁▁▁▁▁▁▁▁▁▁▁▁▁▁▁▁▁▁</td></tr><tr><td>val_loss</td><td>█▇▇▆▆▄▄▃▃▃▂▂▂▂▂▂▂▂▁▁▁▁▁▁▁▁▁▁▁▁▁▁▁▁▁▁▁▁▁▁</td></tr></table><br/></div><div class=\"wandb-col\"><h3>Run summary:</h3><br/><table class=\"wandb\"><tr><td>epoch</td><td>62</td></tr><tr><td>train_loss</td><td>3422.03893</td></tr><tr><td>val_loss</td><td>3478.49513</td></tr></table><br/></div></div>"
      ],
      "text/plain": [
       "<IPython.core.display.HTML object>"
      ]
     },
     "metadata": {},
     "output_type": "display_data"
    },
    {
     "data": {
      "text/html": [
       " View run <strong style=\"color:#cdcd00\">lucky-glade-38</strong> at: <a href='https://wandb.ai/yixuan228-imperial-college-london/DE_Groupwork_G4_stage1/runs/scgk6l0a' target=\"_blank\">https://wandb.ai/yixuan228-imperial-college-london/DE_Groupwork_G4_stage1/runs/scgk6l0a</a><br> View project at: <a href='https://wandb.ai/yixuan228-imperial-college-london/DE_Groupwork_G4_stage1' target=\"_blank\">https://wandb.ai/yixuan228-imperial-college-london/DE_Groupwork_G4_stage1</a><br>Synced 5 W&B file(s), 0 media file(s), 0 artifact file(s) and 0 other file(s)"
      ],
      "text/plain": [
       "<IPython.core.display.HTML object>"
      ]
     },
     "metadata": {},
     "output_type": "display_data"
    },
    {
     "data": {
      "text/html": [
       "Find logs at: <code>.\\wandb\\run-20250321_005003-scgk6l0a\\logs</code>"
      ],
      "text/plain": [
       "<IPython.core.display.HTML object>"
      ]
     },
     "metadata": {},
     "output_type": "display_data"
    },
    {
     "data": {
      "text/html": [
       "Tracking run with wandb version 0.19.7"
      ],
      "text/plain": [
       "<IPython.core.display.HTML object>"
      ]
     },
     "metadata": {},
     "output_type": "display_data"
    },
    {
     "data": {
      "text/html": [
       "Run data is saved locally in <code>d:\\Projects\\MSc_DE_GroupWork4\\Scripts\\wandb\\run-20250321_005017-ohdt2x6m</code>"
      ],
      "text/plain": [
       "<IPython.core.display.HTML object>"
      ]
     },
     "metadata": {},
     "output_type": "display_data"
    },
    {
     "data": {
      "text/html": [
       "Syncing run <strong><a href='https://wandb.ai/yixuan228-imperial-college-london/DE_Groupwork_G4_stage1/runs/ohdt2x6m' target=\"_blank\">hopeful-totem-39</a></strong> to <a href='https://wandb.ai/yixuan228-imperial-college-london/DE_Groupwork_G4_stage1' target=\"_blank\">Weights & Biases</a> (<a href='https://wandb.me/developer-guide' target=\"_blank\">docs</a>)<br>"
      ],
      "text/plain": [
       "<IPython.core.display.HTML object>"
      ]
     },
     "metadata": {},
     "output_type": "display_data"
    },
    {
     "data": {
      "text/html": [
       " View project at <a href='https://wandb.ai/yixuan228-imperial-college-london/DE_Groupwork_G4_stage1' target=\"_blank\">https://wandb.ai/yixuan228-imperial-college-london/DE_Groupwork_G4_stage1</a>"
      ],
      "text/plain": [
       "<IPython.core.display.HTML object>"
      ]
     },
     "metadata": {},
     "output_type": "display_data"
    },
    {
     "data": {
      "text/html": [
       " View run at <a href='https://wandb.ai/yixuan228-imperial-college-london/DE_Groupwork_G4_stage1/runs/ohdt2x6m' target=\"_blank\">https://wandb.ai/yixuan228-imperial-college-london/DE_Groupwork_G4_stage1/runs/ohdt2x6m</a>"
      ],
      "text/plain": [
       "<IPython.core.display.HTML object>"
      ]
     },
     "metadata": {},
     "output_type": "display_data"
    },
    {
     "name": "stdout",
     "output_type": "stream",
     "text": [
      "Epoch 001 | Train Loss: 15558.0906 | Val Loss: 664.0970\n",
      "Epoch 002 | Train Loss: 421.0222 | Val Loss: 343.2390\n",
      "Epoch 003 | Train Loss: 244.9498 | Val Loss: 220.8558\n",
      "Epoch 004 | Train Loss: 160.6232 | Val Loss: 142.9436\n",
      "Epoch 005 | Train Loss: 107.2486 | Val Loss: 99.8338\n",
      "Epoch 006 | Train Loss: 71.0943 | Val Loss: 53.6563\n",
      "Epoch 007 | Train Loss: 41.4081 | Val Loss: 43.5716\n",
      "Epoch 008 | Train Loss: 32.1820 | Val Loss: 34.4623\n",
      "Epoch 009 | Train Loss: 28.8888 | Val Loss: 23.7862\n",
      "Epoch 010 | Train Loss: 23.0077 | Val Loss: 35.8355\n",
      "Epoch 011 | Train Loss: 25.8595 | Val Loss: 17.5984\n",
      "Epoch 012 | Train Loss: 21.4834 | Val Loss: 19.2807\n",
      "Epoch 013 | Train Loss: 19.0335 | Val Loss: 22.9111\n",
      "Epoch 014 | Train Loss: 15.7014 | Val Loss: 23.9344\n",
      "Epoch 015 | Train Loss: 15.3719 | Val Loss: 16.2468\n",
      "Epoch 016 | Train Loss: 14.8465 | Val Loss: 17.1540\n",
      "Epoch 017 | Train Loss: 14.3468 | Val Loss: 16.3460\n",
      "Epoch 018 | Train Loss: 14.9268 | Val Loss: 66.6642\n",
      "Epoch 019 | Train Loss: 18.0886 | Val Loss: 13.0200\n",
      "Epoch 020 | Train Loss: 14.1827 | Val Loss: 27.1905\n",
      "Epoch 021 | Train Loss: 18.0319 | Val Loss: 16.3618\n",
      "Epoch 022 | Train Loss: 13.8977 | Val Loss: 22.6337\n",
      "Epoch 023 | Train Loss: 18.5908 | Val Loss: 12.0365\n",
      "Epoch 024 | Train Loss: 13.4823 | Val Loss: 16.7166\n",
      "Epoch 025 | Train Loss: 15.7968 | Val Loss: 39.3563\n",
      "Epoch 026 | Train Loss: 18.3241 | Val Loss: 24.5547\n",
      "Epoch 027 | Train Loss: 18.4915 | Val Loss: 23.1951\n",
      "Epoch 028 | Train Loss: 15.2202 | Val Loss: 53.0547\n",
      "Early stopping triggered at epoch 28\n"
     ]
    },
    {
     "data": {
      "text/html": [],
      "text/plain": [
       "<IPython.core.display.HTML object>"
      ]
     },
     "metadata": {},
     "output_type": "display_data"
    },
    {
     "data": {
      "text/html": [
       "<br>    <style><br>        .wandb-row {<br>            display: flex;<br>            flex-direction: row;<br>            flex-wrap: wrap;<br>            justify-content: flex-start;<br>            width: 100%;<br>        }<br>        .wandb-col {<br>            display: flex;<br>            flex-direction: column;<br>            flex-basis: 100%;<br>            flex: 1;<br>            padding: 10px;<br>        }<br>    </style><br><div class=\"wandb-row\"><div class=\"wandb-col\"><h3>Run history:</h3><br/><table class=\"wandb\"><tr><td>epoch</td><td>▁▁▂▂▂▂▃▃▃▃▄▄▄▄▅▅▅▅▆▆▆▆▇▇▇▇██</td></tr><tr><td>train_loss</td><td>█▁▁▁▁▁▁▁▁▁▁▁▁▁▁▁▁▁▁▁▁▁▁▁▁▁▁▁</td></tr><tr><td>val_loss</td><td>█▅▃▂▂▁▁▁▁▁▁▁▁▁▁▁▁▂▁▁▁▁▁▁▁▁▁▁</td></tr></table><br/></div><div class=\"wandb-col\"><h3>Run summary:</h3><br/><table class=\"wandb\"><tr><td>epoch</td><td>28</td></tr><tr><td>train_loss</td><td>15.22017</td></tr><tr><td>val_loss</td><td>53.05472</td></tr></table><br/></div></div>"
      ],
      "text/plain": [
       "<IPython.core.display.HTML object>"
      ]
     },
     "metadata": {},
     "output_type": "display_data"
    },
    {
     "data": {
      "text/html": [
       " View run <strong style=\"color:#cdcd00\">hopeful-totem-39</strong> at: <a href='https://wandb.ai/yixuan228-imperial-college-london/DE_Groupwork_G4_stage1/runs/ohdt2x6m' target=\"_blank\">https://wandb.ai/yixuan228-imperial-college-london/DE_Groupwork_G4_stage1/runs/ohdt2x6m</a><br> View project at: <a href='https://wandb.ai/yixuan228-imperial-college-london/DE_Groupwork_G4_stage1' target=\"_blank\">https://wandb.ai/yixuan228-imperial-college-london/DE_Groupwork_G4_stage1</a><br>Synced 5 W&B file(s), 0 media file(s), 0 artifact file(s) and 0 other file(s)"
      ],
      "text/plain": [
       "<IPython.core.display.HTML object>"
      ]
     },
     "metadata": {},
     "output_type": "display_data"
    },
    {
     "data": {
      "text/html": [
       "Find logs at: <code>.\\wandb\\run-20250321_005017-ohdt2x6m\\logs</code>"
      ],
      "text/plain": [
       "<IPython.core.display.HTML object>"
      ]
     },
     "metadata": {},
     "output_type": "display_data"
    },
    {
     "data": {
      "text/html": [
       "Tracking run with wandb version 0.19.7"
      ],
      "text/plain": [
       "<IPython.core.display.HTML object>"
      ]
     },
     "metadata": {},
     "output_type": "display_data"
    },
    {
     "data": {
      "text/html": [
       "Run data is saved locally in <code>d:\\Projects\\MSc_DE_GroupWork4\\Scripts\\wandb\\run-20250321_005025-jcqp6czr</code>"
      ],
      "text/plain": [
       "<IPython.core.display.HTML object>"
      ]
     },
     "metadata": {},
     "output_type": "display_data"
    },
    {
     "data": {
      "text/html": [
       "Syncing run <strong><a href='https://wandb.ai/yixuan228-imperial-college-london/DE_Groupwork_G4_stage1/runs/jcqp6czr' target=\"_blank\">gallant-plant-40</a></strong> to <a href='https://wandb.ai/yixuan228-imperial-college-london/DE_Groupwork_G4_stage1' target=\"_blank\">Weights & Biases</a> (<a href='https://wandb.me/developer-guide' target=\"_blank\">docs</a>)<br>"
      ],
      "text/plain": [
       "<IPython.core.display.HTML object>"
      ]
     },
     "metadata": {},
     "output_type": "display_data"
    },
    {
     "data": {
      "text/html": [
       " View project at <a href='https://wandb.ai/yixuan228-imperial-college-london/DE_Groupwork_G4_stage1' target=\"_blank\">https://wandb.ai/yixuan228-imperial-college-london/DE_Groupwork_G4_stage1</a>"
      ],
      "text/plain": [
       "<IPython.core.display.HTML object>"
      ]
     },
     "metadata": {},
     "output_type": "display_data"
    },
    {
     "data": {
      "text/html": [
       " View run at <a href='https://wandb.ai/yixuan228-imperial-college-london/DE_Groupwork_G4_stage1/runs/jcqp6czr' target=\"_blank\">https://wandb.ai/yixuan228-imperial-college-london/DE_Groupwork_G4_stage1/runs/jcqp6czr</a>"
      ],
      "text/plain": [
       "<IPython.core.display.HTML object>"
      ]
     },
     "metadata": {},
     "output_type": "display_data"
    },
    {
     "name": "stdout",
     "output_type": "stream",
     "text": [
      "Epoch 001 | Train Loss: 65002.9990 | Val Loss: 54949.2965\n",
      "Epoch 002 | Train Loss: 17007.6990 | Val Loss: 2569.8600\n",
      "Epoch 003 | Train Loss: 1723.1537 | Val Loss: 1169.6260\n",
      "Epoch 004 | Train Loss: 929.5668 | Val Loss: 811.9976\n",
      "Epoch 005 | Train Loss: 685.0251 | Val Loss: 648.8168\n",
      "Epoch 006 | Train Loss: 561.2855 | Val Loss: 543.1513\n",
      "Epoch 007 | Train Loss: 474.4724 | Val Loss: 469.7671\n",
      "Epoch 008 | Train Loss: 406.1066 | Val Loss: 408.8059\n",
      "Epoch 009 | Train Loss: 353.9983 | Val Loss: 361.1040\n",
      "Epoch 010 | Train Loss: 312.6304 | Val Loss: 325.4957\n",
      "Epoch 011 | Train Loss: 277.9530 | Val Loss: 294.6558\n",
      "Epoch 012 | Train Loss: 250.1419 | Val Loss: 268.7345\n",
      "Epoch 013 | Train Loss: 227.0401 | Val Loss: 246.4814\n",
      "Epoch 014 | Train Loss: 207.7954 | Val Loss: 226.9779\n",
      "Epoch 015 | Train Loss: 192.7140 | Val Loss: 208.7338\n",
      "Epoch 016 | Train Loss: 176.3265 | Val Loss: 193.6987\n",
      "Epoch 017 | Train Loss: 163.0415 | Val Loss: 181.0163\n",
      "Epoch 018 | Train Loss: 150.6663 | Val Loss: 163.6914\n",
      "Epoch 019 | Train Loss: 137.8984 | Val Loss: 149.4353\n",
      "Epoch 020 | Train Loss: 126.4501 | Val Loss: 136.9739\n",
      "Epoch 021 | Train Loss: 116.1509 | Val Loss: 125.2573\n",
      "Epoch 022 | Train Loss: 106.6224 | Val Loss: 114.9637\n",
      "Epoch 023 | Train Loss: 97.7744 | Val Loss: 103.6736\n",
      "Epoch 024 | Train Loss: 89.6259 | Val Loss: 94.2914\n",
      "Epoch 025 | Train Loss: 80.8443 | Val Loss: 87.1808\n",
      "Epoch 026 | Train Loss: 73.5252 | Val Loss: 78.6604\n",
      "Epoch 027 | Train Loss: 67.6284 | Val Loss: 70.9342\n",
      "Epoch 028 | Train Loss: 60.6941 | Val Loss: 63.0080\n",
      "Epoch 029 | Train Loss: 55.4625 | Val Loss: 56.9526\n",
      "Epoch 030 | Train Loss: 49.7077 | Val Loss: 49.8278\n",
      "Epoch 031 | Train Loss: 44.8102 | Val Loss: 45.4822\n",
      "Epoch 032 | Train Loss: 41.0792 | Val Loss: 41.1689\n",
      "Epoch 033 | Train Loss: 37.8627 | Val Loss: 39.3659\n",
      "Epoch 034 | Train Loss: 35.1025 | Val Loss: 36.5884\n",
      "Epoch 035 | Train Loss: 33.4643 | Val Loss: 33.3360\n",
      "Epoch 036 | Train Loss: 30.6268 | Val Loss: 29.3174\n",
      "Epoch 037 | Train Loss: 29.5280 | Val Loss: 28.5364\n",
      "Epoch 038 | Train Loss: 26.7991 | Val Loss: 28.2643\n",
      "Epoch 039 | Train Loss: 25.9350 | Val Loss: 25.7768\n",
      "Epoch 040 | Train Loss: 25.2839 | Val Loss: 24.3104\n",
      "Epoch 041 | Train Loss: 23.5720 | Val Loss: 22.5747\n",
      "Epoch 042 | Train Loss: 22.3658 | Val Loss: 24.0418\n",
      "Epoch 043 | Train Loss: 22.4585 | Val Loss: 20.8708\n",
      "Epoch 044 | Train Loss: 22.3938 | Val Loss: 19.9815\n",
      "Epoch 045 | Train Loss: 20.5386 | Val Loss: 19.6730\n",
      "Epoch 046 | Train Loss: 19.8852 | Val Loss: 20.2953\n",
      "Epoch 047 | Train Loss: 18.9775 | Val Loss: 20.2505\n",
      "Epoch 048 | Train Loss: 18.6575 | Val Loss: 17.8316\n",
      "Epoch 049 | Train Loss: 18.1075 | Val Loss: 18.8099\n",
      "Epoch 050 | Train Loss: 17.2919 | Val Loss: 18.6162\n",
      "Epoch 051 | Train Loss: 17.0409 | Val Loss: 17.3269\n",
      "Epoch 052 | Train Loss: 16.4709 | Val Loss: 16.6316\n",
      "Epoch 053 | Train Loss: 16.5831 | Val Loss: 20.4334\n",
      "Epoch 054 | Train Loss: 16.2445 | Val Loss: 16.5836\n",
      "Epoch 055 | Train Loss: 15.5087 | Val Loss: 18.6822\n",
      "Epoch 056 | Train Loss: 16.8291 | Val Loss: 16.3764\n",
      "Epoch 057 | Train Loss: 14.8907 | Val Loss: 15.7268\n",
      "Epoch 058 | Train Loss: 14.7247 | Val Loss: 15.4404\n",
      "Epoch 059 | Train Loss: 14.6834 | Val Loss: 14.8188\n",
      "Epoch 060 | Train Loss: 14.0837 | Val Loss: 14.8008\n",
      "Epoch 061 | Train Loss: 13.9553 | Val Loss: 14.5008\n",
      "Epoch 062 | Train Loss: 13.9081 | Val Loss: 13.9801\n",
      "Epoch 063 | Train Loss: 13.4451 | Val Loss: 13.6202\n",
      "Epoch 064 | Train Loss: 13.1485 | Val Loss: 12.6090\n",
      "Epoch 065 | Train Loss: 12.8726 | Val Loss: 13.3069\n",
      "Epoch 066 | Train Loss: 12.9343 | Val Loss: 13.2196\n",
      "Epoch 067 | Train Loss: 12.7414 | Val Loss: 13.0637\n",
      "Epoch 068 | Train Loss: 12.0017 | Val Loss: 13.2915\n",
      "Epoch 069 | Train Loss: 12.8163 | Val Loss: 14.9662\n",
      "Early stopping triggered at epoch 69\n"
     ]
    },
    {
     "data": {
      "text/html": [],
      "text/plain": [
       "<IPython.core.display.HTML object>"
      ]
     },
     "metadata": {},
     "output_type": "display_data"
    },
    {
     "data": {
      "text/html": [
       "<br>    <style><br>        .wandb-row {<br>            display: flex;<br>            flex-direction: row;<br>            flex-wrap: wrap;<br>            justify-content: flex-start;<br>            width: 100%;<br>        }<br>        .wandb-col {<br>            display: flex;<br>            flex-direction: column;<br>            flex-basis: 100%;<br>            flex: 1;<br>            padding: 10px;<br>        }<br>    </style><br><div class=\"wandb-row\"><div class=\"wandb-col\"><h3>Run history:</h3><br/><table class=\"wandb\"><tr><td>epoch</td><td>▁▁▁▁▂▂▂▂▃▃▃▃▃▄▄▄▄▄▄▄▅▅▅▅▅▅▆▆▆▆▆▇▇▇▇▇████</td></tr><tr><td>train_loss</td><td>█▃▁▁▁▁▁▁▁▁▁▁▁▁▁▁▁▁▁▁▁▁▁▁▁▁▁▁▁▁▁▁▁▁▁▁▁▁▁▁</td></tr><tr><td>val_loss</td><td>█▁▁▁▁▁▁▁▁▁▁▁▁▁▁▁▁▁▁▁▁▁▁▁▁▁▁▁▁▁▁▁▁▁▁▁▁▁▁▁</td></tr></table><br/></div><div class=\"wandb-col\"><h3>Run summary:</h3><br/><table class=\"wandb\"><tr><td>epoch</td><td>69</td></tr><tr><td>train_loss</td><td>12.8163</td></tr><tr><td>val_loss</td><td>14.96617</td></tr></table><br/></div></div>"
      ],
      "text/plain": [
       "<IPython.core.display.HTML object>"
      ]
     },
     "metadata": {},
     "output_type": "display_data"
    },
    {
     "data": {
      "text/html": [
       " View run <strong style=\"color:#cdcd00\">gallant-plant-40</strong> at: <a href='https://wandb.ai/yixuan228-imperial-college-london/DE_Groupwork_G4_stage1/runs/jcqp6czr' target=\"_blank\">https://wandb.ai/yixuan228-imperial-college-london/DE_Groupwork_G4_stage1/runs/jcqp6czr</a><br> View project at: <a href='https://wandb.ai/yixuan228-imperial-college-london/DE_Groupwork_G4_stage1' target=\"_blank\">https://wandb.ai/yixuan228-imperial-college-london/DE_Groupwork_G4_stage1</a><br>Synced 5 W&B file(s), 0 media file(s), 0 artifact file(s) and 0 other file(s)"
      ],
      "text/plain": [
       "<IPython.core.display.HTML object>"
      ]
     },
     "metadata": {},
     "output_type": "display_data"
    },
    {
     "data": {
      "text/html": [
       "Find logs at: <code>.\\wandb\\run-20250321_005025-jcqp6czr\\logs</code>"
      ],
      "text/plain": [
       "<IPython.core.display.HTML object>"
      ]
     },
     "metadata": {},
     "output_type": "display_data"
    },
    {
     "data": {
      "text/html": [
       "Tracking run with wandb version 0.19.7"
      ],
      "text/plain": [
       "<IPython.core.display.HTML object>"
      ]
     },
     "metadata": {},
     "output_type": "display_data"
    },
    {
     "data": {
      "text/html": [
       "Run data is saved locally in <code>d:\\Projects\\MSc_DE_GroupWork4\\Scripts\\wandb\\run-20250321_005040-lkd4cjoi</code>"
      ],
      "text/plain": [
       "<IPython.core.display.HTML object>"
      ]
     },
     "metadata": {},
     "output_type": "display_data"
    },
    {
     "data": {
      "text/html": [
       "Syncing run <strong><a href='https://wandb.ai/yixuan228-imperial-college-london/DE_Groupwork_G4_stage1/runs/lkd4cjoi' target=\"_blank\">desert-darkness-41</a></strong> to <a href='https://wandb.ai/yixuan228-imperial-college-london/DE_Groupwork_G4_stage1' target=\"_blank\">Weights & Biases</a> (<a href='https://wandb.me/developer-guide' target=\"_blank\">docs</a>)<br>"
      ],
      "text/plain": [
       "<IPython.core.display.HTML object>"
      ]
     },
     "metadata": {},
     "output_type": "display_data"
    },
    {
     "data": {
      "text/html": [
       " View project at <a href='https://wandb.ai/yixuan228-imperial-college-london/DE_Groupwork_G4_stage1' target=\"_blank\">https://wandb.ai/yixuan228-imperial-college-london/DE_Groupwork_G4_stage1</a>"
      ],
      "text/plain": [
       "<IPython.core.display.HTML object>"
      ]
     },
     "metadata": {},
     "output_type": "display_data"
    },
    {
     "data": {
      "text/html": [
       " View run at <a href='https://wandb.ai/yixuan228-imperial-college-london/DE_Groupwork_G4_stage1/runs/lkd4cjoi' target=\"_blank\">https://wandb.ai/yixuan228-imperial-college-london/DE_Groupwork_G4_stage1/runs/lkd4cjoi</a>"
      ],
      "text/plain": [
       "<IPython.core.display.HTML object>"
      ]
     },
     "metadata": {},
     "output_type": "display_data"
    },
    {
     "name": "stdout",
     "output_type": "stream",
     "text": [
      "Epoch 001 | Train Loss: 4187.6556 | Val Loss: 440.3182\n",
      "Epoch 002 | Train Loss: 256.9139 | Val Loss: 275.5912\n",
      "Epoch 003 | Train Loss: 135.3305 | Val Loss: 121.0522\n",
      "Epoch 004 | Train Loss: 64.8838 | Val Loss: 57.2850\n",
      "Epoch 005 | Train Loss: 43.9783 | Val Loss: 222.4493\n",
      "Epoch 006 | Train Loss: 89.9906 | Val Loss: 52.5543\n",
      "Epoch 007 | Train Loss: 38.2591 | Val Loss: 29.3400\n",
      "Epoch 008 | Train Loss: 22.4734 | Val Loss: 46.3498\n",
      "Epoch 009 | Train Loss: 48.5891 | Val Loss: 53.0536\n",
      "Epoch 010 | Train Loss: 60.9865 | Val Loss: 107.2485\n",
      "Epoch 011 | Train Loss: 47.3441 | Val Loss: 96.2116\n",
      "Epoch 012 | Train Loss: 54.1715 | Val Loss: 27.5434\n",
      "Epoch 013 | Train Loss: 64.1908 | Val Loss: 97.2295\n",
      "Epoch 014 | Train Loss: 43.8920 | Val Loss: 60.5818\n",
      "Epoch 015 | Train Loss: 414.3060 | Val Loss: 33.7101\n",
      "Epoch 016 | Train Loss: 28.3996 | Val Loss: 64.0294\n",
      "Epoch 017 | Train Loss: 25.0434 | Val Loss: 14.1069\n",
      "Epoch 018 | Train Loss: 18.5471 | Val Loss: 213.9721\n",
      "Epoch 019 | Train Loss: 70.8366 | Val Loss: 13.2770\n",
      "Epoch 020 | Train Loss: 19.1997 | Val Loss: 24.5575\n",
      "Epoch 021 | Train Loss: 22.4229 | Val Loss: 23.1606\n",
      "Epoch 022 | Train Loss: 33.2724 | Val Loss: 116.7495\n",
      "Epoch 023 | Train Loss: 38.4528 | Val Loss: 44.2906\n",
      "Epoch 024 | Train Loss: 48.2531 | Val Loss: 282.1516\n",
      "Early stopping triggered at epoch 24\n"
     ]
    },
    {
     "data": {
      "text/html": [],
      "text/plain": [
       "<IPython.core.display.HTML object>"
      ]
     },
     "metadata": {},
     "output_type": "display_data"
    },
    {
     "data": {
      "text/html": [
       "<br>    <style><br>        .wandb-row {<br>            display: flex;<br>            flex-direction: row;<br>            flex-wrap: wrap;<br>            justify-content: flex-start;<br>            width: 100%;<br>        }<br>        .wandb-col {<br>            display: flex;<br>            flex-direction: column;<br>            flex-basis: 100%;<br>            flex: 1;<br>            padding: 10px;<br>        }<br>    </style><br><div class=\"wandb-row\"><div class=\"wandb-col\"><h3>Run history:</h3><br/><table class=\"wandb\"><tr><td>epoch</td><td>▁▁▂▂▂▃▃▃▃▄▄▄▅▅▅▆▆▆▆▇▇▇██</td></tr><tr><td>train_loss</td><td>█▁▁▁▁▁▁▁▁▁▁▁▁▁▂▁▁▁▁▁▁▁▁▁</td></tr><tr><td>val_loss</td><td>█▅▃▂▄▂▁▂▂▃▂▁▂▂▁▂▁▄▁▁▁▃▂▅</td></tr></table><br/></div><div class=\"wandb-col\"><h3>Run summary:</h3><br/><table class=\"wandb\"><tr><td>epoch</td><td>24</td></tr><tr><td>train_loss</td><td>48.25307</td></tr><tr><td>val_loss</td><td>282.15157</td></tr></table><br/></div></div>"
      ],
      "text/plain": [
       "<IPython.core.display.HTML object>"
      ]
     },
     "metadata": {},
     "output_type": "display_data"
    },
    {
     "data": {
      "text/html": [
       " View run <strong style=\"color:#cdcd00\">desert-darkness-41</strong> at: <a href='https://wandb.ai/yixuan228-imperial-college-london/DE_Groupwork_G4_stage1/runs/lkd4cjoi' target=\"_blank\">https://wandb.ai/yixuan228-imperial-college-london/DE_Groupwork_G4_stage1/runs/lkd4cjoi</a><br> View project at: <a href='https://wandb.ai/yixuan228-imperial-college-london/DE_Groupwork_G4_stage1' target=\"_blank\">https://wandb.ai/yixuan228-imperial-college-london/DE_Groupwork_G4_stage1</a><br>Synced 5 W&B file(s), 0 media file(s), 0 artifact file(s) and 0 other file(s)"
      ],
      "text/plain": [
       "<IPython.core.display.HTML object>"
      ]
     },
     "metadata": {},
     "output_type": "display_data"
    },
    {
     "data": {
      "text/html": [
       "Find logs at: <code>.\\wandb\\run-20250321_005040-lkd4cjoi\\logs</code>"
      ],
      "text/plain": [
       "<IPython.core.display.HTML object>"
      ]
     },
     "metadata": {},
     "output_type": "display_data"
    },
    {
     "data": {
      "text/html": [
       "Tracking run with wandb version 0.19.7"
      ],
      "text/plain": [
       "<IPython.core.display.HTML object>"
      ]
     },
     "metadata": {},
     "output_type": "display_data"
    },
    {
     "data": {
      "text/html": [
       "Run data is saved locally in <code>d:\\Projects\\MSc_DE_GroupWork4\\Scripts\\wandb\\run-20250321_005047-4p8hpc64</code>"
      ],
      "text/plain": [
       "<IPython.core.display.HTML object>"
      ]
     },
     "metadata": {},
     "output_type": "display_data"
    },
    {
     "data": {
      "text/html": [
       "Syncing run <strong><a href='https://wandb.ai/yixuan228-imperial-college-london/DE_Groupwork_G4_stage1/runs/4p8hpc64' target=\"_blank\">dauntless-leaf-42</a></strong> to <a href='https://wandb.ai/yixuan228-imperial-college-london/DE_Groupwork_G4_stage1' target=\"_blank\">Weights & Biases</a> (<a href='https://wandb.me/developer-guide' target=\"_blank\">docs</a>)<br>"
      ],
      "text/plain": [
       "<IPython.core.display.HTML object>"
      ]
     },
     "metadata": {},
     "output_type": "display_data"
    },
    {
     "data": {
      "text/html": [
       " View project at <a href='https://wandb.ai/yixuan228-imperial-college-london/DE_Groupwork_G4_stage1' target=\"_blank\">https://wandb.ai/yixuan228-imperial-college-london/DE_Groupwork_G4_stage1</a>"
      ],
      "text/plain": [
       "<IPython.core.display.HTML object>"
      ]
     },
     "metadata": {},
     "output_type": "display_data"
    },
    {
     "data": {
      "text/html": [
       " View run at <a href='https://wandb.ai/yixuan228-imperial-college-london/DE_Groupwork_G4_stage1/runs/4p8hpc64' target=\"_blank\">https://wandb.ai/yixuan228-imperial-college-london/DE_Groupwork_G4_stage1/runs/4p8hpc64</a>"
      ],
      "text/plain": [
       "<IPython.core.display.HTML object>"
      ]
     },
     "metadata": {},
     "output_type": "display_data"
    },
    {
     "name": "stdout",
     "output_type": "stream",
     "text": [
      "Epoch 001 | Train Loss: 17598.1623 | Val Loss: 823.3966\n",
      "Epoch 002 | Train Loss: 583.8914 | Val Loss: 461.6001\n",
      "Epoch 003 | Train Loss: 359.5473 | Val Loss: 337.2674\n",
      "Epoch 004 | Train Loss: 259.4081 | Val Loss: 255.9220\n",
      "Epoch 005 | Train Loss: 195.3547 | Val Loss: 203.8070\n",
      "Epoch 006 | Train Loss: 152.7178 | Val Loss: 144.7426\n",
      "Epoch 007 | Train Loss: 108.6150 | Val Loss: 102.9485\n",
      "Epoch 008 | Train Loss: 80.0868 | Val Loss: 81.3044\n",
      "Epoch 009 | Train Loss: 58.0282 | Val Loss: 53.8664\n",
      "Epoch 010 | Train Loss: 44.2115 | Val Loss: 42.4221\n",
      "Epoch 011 | Train Loss: 36.3708 | Val Loss: 32.5775\n",
      "Epoch 012 | Train Loss: 28.7135 | Val Loss: 27.8407\n",
      "Epoch 013 | Train Loss: 25.4113 | Val Loss: 24.5321\n",
      "Epoch 014 | Train Loss: 24.2823 | Val Loss: 27.0630\n",
      "Epoch 015 | Train Loss: 21.3605 | Val Loss: 18.9260\n",
      "Epoch 016 | Train Loss: 22.1375 | Val Loss: 20.6842\n",
      "Epoch 017 | Train Loss: 19.0863 | Val Loss: 19.0613\n",
      "Epoch 018 | Train Loss: 17.3222 | Val Loss: 15.9064\n",
      "Epoch 019 | Train Loss: 16.8616 | Val Loss: 20.0437\n",
      "Epoch 020 | Train Loss: 16.3546 | Val Loss: 15.1516\n",
      "Epoch 021 | Train Loss: 14.5981 | Val Loss: 14.0442\n",
      "Epoch 022 | Train Loss: 13.8570 | Val Loss: 20.1297\n",
      "Epoch 023 | Train Loss: 20.3161 | Val Loss: 19.1143\n",
      "Epoch 024 | Train Loss: 14.6089 | Val Loss: 12.9000\n",
      "Epoch 025 | Train Loss: 14.6928 | Val Loss: 13.0627\n",
      "Epoch 026 | Train Loss: 13.1511 | Val Loss: 14.3222\n",
      "Epoch 027 | Train Loss: 12.8672 | Val Loss: 15.1149\n",
      "Epoch 028 | Train Loss: 13.4660 | Val Loss: 14.3027\n",
      "Epoch 029 | Train Loss: 13.3613 | Val Loss: 17.2641\n",
      "Early stopping triggered at epoch 29\n"
     ]
    },
    {
     "data": {
      "text/html": [],
      "text/plain": [
       "<IPython.core.display.HTML object>"
      ]
     },
     "metadata": {},
     "output_type": "display_data"
    },
    {
     "data": {
      "text/html": [
       "<br>    <style><br>        .wandb-row {<br>            display: flex;<br>            flex-direction: row;<br>            flex-wrap: wrap;<br>            justify-content: flex-start;<br>            width: 100%;<br>        }<br>        .wandb-col {<br>            display: flex;<br>            flex-direction: column;<br>            flex-basis: 100%;<br>            flex: 1;<br>            padding: 10px;<br>        }<br>    </style><br><div class=\"wandb-row\"><div class=\"wandb-col\"><h3>Run history:</h3><br/><table class=\"wandb\"><tr><td>epoch</td><td>▁▁▁▂▂▂▃▃▃▃▃▄▄▄▅▅▅▅▅▆▆▆▇▇▇▇▇██</td></tr><tr><td>train_loss</td><td>█▁▁▁▁▁▁▁▁▁▁▁▁▁▁▁▁▁▁▁▁▁▁▁▁▁▁▁▁</td></tr><tr><td>val_loss</td><td>█▅▄▃▃▂▂▂▁▁▁▁▁▁▁▁▁▁▁▁▁▁▁▁▁▁▁▁▁</td></tr></table><br/></div><div class=\"wandb-col\"><h3>Run summary:</h3><br/><table class=\"wandb\"><tr><td>epoch</td><td>29</td></tr><tr><td>train_loss</td><td>13.36129</td></tr><tr><td>val_loss</td><td>17.26414</td></tr></table><br/></div></div>"
      ],
      "text/plain": [
       "<IPython.core.display.HTML object>"
      ]
     },
     "metadata": {},
     "output_type": "display_data"
    },
    {
     "data": {
      "text/html": [
       " View run <strong style=\"color:#cdcd00\">dauntless-leaf-42</strong> at: <a href='https://wandb.ai/yixuan228-imperial-college-london/DE_Groupwork_G4_stage1/runs/4p8hpc64' target=\"_blank\">https://wandb.ai/yixuan228-imperial-college-london/DE_Groupwork_G4_stage1/runs/4p8hpc64</a><br> View project at: <a href='https://wandb.ai/yixuan228-imperial-college-london/DE_Groupwork_G4_stage1' target=\"_blank\">https://wandb.ai/yixuan228-imperial-college-london/DE_Groupwork_G4_stage1</a><br>Synced 5 W&B file(s), 0 media file(s), 0 artifact file(s) and 0 other file(s)"
      ],
      "text/plain": [
       "<IPython.core.display.HTML object>"
      ]
     },
     "metadata": {},
     "output_type": "display_data"
    },
    {
     "data": {
      "text/html": [
       "Find logs at: <code>.\\wandb\\run-20250321_005047-4p8hpc64\\logs</code>"
      ],
      "text/plain": [
       "<IPython.core.display.HTML object>"
      ]
     },
     "metadata": {},
     "output_type": "display_data"
    },
    {
     "data": {
      "text/html": [
       "Tracking run with wandb version 0.19.7"
      ],
      "text/plain": [
       "<IPython.core.display.HTML object>"
      ]
     },
     "metadata": {},
     "output_type": "display_data"
    },
    {
     "data": {
      "text/html": [
       "Run data is saved locally in <code>d:\\Projects\\MSc_DE_GroupWork4\\Scripts\\wandb\\run-20250321_005053-m727ueqw</code>"
      ],
      "text/plain": [
       "<IPython.core.display.HTML object>"
      ]
     },
     "metadata": {},
     "output_type": "display_data"
    },
    {
     "data": {
      "text/html": [
       "Syncing run <strong><a href='https://wandb.ai/yixuan228-imperial-college-london/DE_Groupwork_G4_stage1/runs/m727ueqw' target=\"_blank\">fancy-flower-43</a></strong> to <a href='https://wandb.ai/yixuan228-imperial-college-london/DE_Groupwork_G4_stage1' target=\"_blank\">Weights & Biases</a> (<a href='https://wandb.me/developer-guide' target=\"_blank\">docs</a>)<br>"
      ],
      "text/plain": [
       "<IPython.core.display.HTML object>"
      ]
     },
     "metadata": {},
     "output_type": "display_data"
    },
    {
     "data": {
      "text/html": [
       " View project at <a href='https://wandb.ai/yixuan228-imperial-college-london/DE_Groupwork_G4_stage1' target=\"_blank\">https://wandb.ai/yixuan228-imperial-college-london/DE_Groupwork_G4_stage1</a>"
      ],
      "text/plain": [
       "<IPython.core.display.HTML object>"
      ]
     },
     "metadata": {},
     "output_type": "display_data"
    },
    {
     "data": {
      "text/html": [
       " View run at <a href='https://wandb.ai/yixuan228-imperial-college-london/DE_Groupwork_G4_stage1/runs/m727ueqw' target=\"_blank\">https://wandb.ai/yixuan228-imperial-college-london/DE_Groupwork_G4_stage1/runs/m727ueqw</a>"
      ],
      "text/plain": [
       "<IPython.core.display.HTML object>"
      ]
     },
     "metadata": {},
     "output_type": "display_data"
    },
    {
     "name": "stdout",
     "output_type": "stream",
     "text": [
      "Epoch 001 | Train Loss: 64129.0856 | Val Loss: 55658.6832\n",
      "Epoch 002 | Train Loss: 33266.3709 | Val Loss: 8907.4755\n",
      "Epoch 003 | Train Loss: 4739.4426 | Val Loss: 2936.7116\n",
      "Epoch 004 | Train Loss: 2226.9835 | Val Loss: 1699.9350\n",
      "Epoch 005 | Train Loss: 1378.6497 | Val Loss: 1222.0035\n",
      "Epoch 006 | Train Loss: 1040.8051 | Val Loss: 1003.1344\n",
      "Epoch 007 | Train Loss: 876.4765 | Val Loss: 879.1721\n",
      "Epoch 008 | Train Loss: 776.6243 | Val Loss: 790.5191\n",
      "Epoch 009 | Train Loss: 702.2983 | Val Loss: 724.4271\n",
      "Epoch 010 | Train Loss: 642.4874 | Val Loss: 661.1915\n",
      "Epoch 011 | Train Loss: 590.2325 | Val Loss: 608.7389\n",
      "Epoch 012 | Train Loss: 542.9448 | Val Loss: 565.9718\n",
      "Epoch 013 | Train Loss: 503.3270 | Val Loss: 524.2650\n",
      "Epoch 014 | Train Loss: 466.2617 | Val Loss: 489.6802\n",
      "Epoch 015 | Train Loss: 432.9167 | Val Loss: 457.3368\n",
      "Epoch 016 | Train Loss: 404.0803 | Val Loss: 426.2305\n",
      "Epoch 017 | Train Loss: 377.0178 | Val Loss: 400.8085\n",
      "Epoch 018 | Train Loss: 353.5473 | Val Loss: 378.6406\n",
      "Epoch 019 | Train Loss: 332.5998 | Val Loss: 357.5923\n",
      "Epoch 020 | Train Loss: 312.6333 | Val Loss: 340.1918\n",
      "Epoch 021 | Train Loss: 295.3389 | Val Loss: 320.5330\n",
      "Epoch 022 | Train Loss: 279.1050 | Val Loss: 305.1961\n",
      "Epoch 023 | Train Loss: 264.8882 | Val Loss: 291.0043\n",
      "Epoch 024 | Train Loss: 251.5722 | Val Loss: 277.3634\n",
      "Epoch 025 | Train Loss: 238.6352 | Val Loss: 263.9186\n",
      "Epoch 026 | Train Loss: 227.5944 | Val Loss: 251.4793\n",
      "Epoch 027 | Train Loss: 215.0955 | Val Loss: 241.9012\n",
      "Epoch 028 | Train Loss: 205.0554 | Val Loss: 231.6140\n",
      "Epoch 029 | Train Loss: 195.0518 | Val Loss: 219.5048\n",
      "Epoch 030 | Train Loss: 185.4688 | Val Loss: 207.0272\n",
      "Epoch 031 | Train Loss: 174.8612 | Val Loss: 196.8088\n",
      "Epoch 032 | Train Loss: 166.4034 | Val Loss: 186.7969\n",
      "Epoch 033 | Train Loss: 157.5316 | Val Loss: 175.7690\n",
      "Epoch 034 | Train Loss: 147.9396 | Val Loss: 167.0934\n",
      "Epoch 035 | Train Loss: 139.5667 | Val Loss: 157.0612\n",
      "Epoch 036 | Train Loss: 130.7686 | Val Loss: 147.3223\n",
      "Epoch 037 | Train Loss: 122.3386 | Val Loss: 137.3315\n",
      "Epoch 038 | Train Loss: 114.0223 | Val Loss: 128.4889\n",
      "Epoch 039 | Train Loss: 106.5854 | Val Loss: 119.7659\n",
      "Epoch 040 | Train Loss: 99.5754 | Val Loss: 111.9796\n",
      "Epoch 041 | Train Loss: 92.5910 | Val Loss: 105.1955\n",
      "Epoch 042 | Train Loss: 86.5749 | Val Loss: 97.0166\n",
      "Epoch 043 | Train Loss: 79.7605 | Val Loss: 89.1330\n",
      "Epoch 044 | Train Loss: 73.5448 | Val Loss: 81.9628\n",
      "Epoch 045 | Train Loss: 67.8441 | Val Loss: 75.3264\n",
      "Epoch 046 | Train Loss: 63.1491 | Val Loss: 70.0336\n",
      "Epoch 047 | Train Loss: 57.8384 | Val Loss: 64.2950\n",
      "Epoch 048 | Train Loss: 53.4831 | Val Loss: 60.4454\n",
      "Epoch 049 | Train Loss: 49.6312 | Val Loss: 56.6671\n",
      "Epoch 050 | Train Loss: 46.4407 | Val Loss: 53.0230\n",
      "Epoch 051 | Train Loss: 42.5691 | Val Loss: 46.9140\n",
      "Epoch 052 | Train Loss: 39.4420 | Val Loss: 43.0663\n",
      "Epoch 053 | Train Loss: 37.3037 | Val Loss: 39.6359\n",
      "Epoch 054 | Train Loss: 34.3192 | Val Loss: 37.6301\n",
      "Epoch 055 | Train Loss: 31.9638 | Val Loss: 34.4362\n",
      "Epoch 056 | Train Loss: 30.0130 | Val Loss: 32.4086\n",
      "Epoch 057 | Train Loss: 28.4346 | Val Loss: 30.1073\n",
      "Epoch 058 | Train Loss: 26.7044 | Val Loss: 28.2207\n",
      "Epoch 059 | Train Loss: 25.4191 | Val Loss: 26.9460\n",
      "Epoch 060 | Train Loss: 24.4359 | Val Loss: 25.6169\n",
      "Epoch 061 | Train Loss: 23.0142 | Val Loss: 24.4034\n",
      "Epoch 062 | Train Loss: 21.7502 | Val Loss: 23.0491\n",
      "Epoch 063 | Train Loss: 21.3580 | Val Loss: 22.9274\n",
      "Epoch 064 | Train Loss: 20.2221 | Val Loss: 20.9220\n",
      "Epoch 065 | Train Loss: 19.5917 | Val Loss: 20.0069\n",
      "Epoch 066 | Train Loss: 18.8132 | Val Loss: 19.8689\n",
      "Epoch 067 | Train Loss: 18.5152 | Val Loss: 19.0903\n",
      "Epoch 068 | Train Loss: 17.4950 | Val Loss: 17.8942\n",
      "Epoch 069 | Train Loss: 16.8723 | Val Loss: 17.5150\n",
      "Epoch 070 | Train Loss: 16.3032 | Val Loss: 16.9261\n",
      "Epoch 071 | Train Loss: 16.0721 | Val Loss: 16.6614\n",
      "Epoch 072 | Train Loss: 15.4159 | Val Loss: 16.3889\n",
      "Epoch 073 | Train Loss: 15.1816 | Val Loss: 16.1186\n",
      "Epoch 074 | Train Loss: 14.8686 | Val Loss: 15.6011\n",
      "Epoch 075 | Train Loss: 14.4745 | Val Loss: 16.3218\n",
      "Epoch 076 | Train Loss: 14.9664 | Val Loss: 14.7975\n",
      "Epoch 077 | Train Loss: 13.9401 | Val Loss: 14.9533\n",
      "Epoch 078 | Train Loss: 13.4536 | Val Loss: 14.8273\n",
      "Epoch 079 | Train Loss: 13.5467 | Val Loss: 15.4769\n",
      "Epoch 080 | Train Loss: 13.1851 | Val Loss: 14.9372\n",
      "Epoch 081 | Train Loss: 14.2024 | Val Loss: 13.2381\n",
      "Epoch 082 | Train Loss: 12.9623 | Val Loss: 14.4155\n",
      "Epoch 083 | Train Loss: 12.3791 | Val Loss: 12.9281\n",
      "Epoch 084 | Train Loss: 12.7759 | Val Loss: 13.3971\n",
      "Epoch 085 | Train Loss: 11.9603 | Val Loss: 12.3433\n",
      "Epoch 086 | Train Loss: 12.0410 | Val Loss: 12.9513\n",
      "Epoch 087 | Train Loss: 11.6608 | Val Loss: 11.9754\n",
      "Epoch 088 | Train Loss: 12.1152 | Val Loss: 11.8694\n",
      "Epoch 089 | Train Loss: 11.4933 | Val Loss: 12.7542\n",
      "Epoch 090 | Train Loss: 11.3446 | Val Loss: 12.0398\n",
      "Epoch 091 | Train Loss: 11.1208 | Val Loss: 12.3496\n",
      "Epoch 092 | Train Loss: 11.2700 | Val Loss: 12.0630\n",
      "Epoch 093 | Train Loss: 10.7603 | Val Loss: 11.6875\n",
      "Epoch 094 | Train Loss: 11.0343 | Val Loss: 11.0527\n",
      "Epoch 095 | Train Loss: 10.4655 | Val Loss: 11.2268\n",
      "Epoch 096 | Train Loss: 10.6630 | Val Loss: 10.7152\n",
      "Epoch 097 | Train Loss: 10.7221 | Val Loss: 12.9075\n",
      "Epoch 098 | Train Loss: 10.3592 | Val Loss: 10.8766\n",
      "Epoch 099 | Train Loss: 10.3232 | Val Loss: 11.8777\n",
      "Epoch 100 | Train Loss: 10.0055 | Val Loss: 11.4378\n",
      "Epoch 101 | Train Loss: 10.2015 | Val Loss: 11.0446\n",
      "Early stopping triggered at epoch 101\n"
     ]
    },
    {
     "data": {
      "text/html": [],
      "text/plain": [
       "<IPython.core.display.HTML object>"
      ]
     },
     "metadata": {},
     "output_type": "display_data"
    },
    {
     "data": {
      "text/html": [
       "<br>    <style><br>        .wandb-row {<br>            display: flex;<br>            flex-direction: row;<br>            flex-wrap: wrap;<br>            justify-content: flex-start;<br>            width: 100%;<br>        }<br>        .wandb-col {<br>            display: flex;<br>            flex-direction: column;<br>            flex-basis: 100%;<br>            flex: 1;<br>            padding: 10px;<br>        }<br>    </style><br><div class=\"wandb-row\"><div class=\"wandb-col\"><h3>Run history:</h3><br/><table class=\"wandb\"><tr><td>epoch</td><td>▁▁▁▁▂▂▂▂▃▃▃▃▃▄▄▄▄▄▅▅▅▅▅▅▅▅▆▆▆▆▆▆▆▇▇█████</td></tr><tr><td>train_loss</td><td>█▄▃▂▂▂▂▂▂▁▁▁▁▁▁▁▁▁▁▁▁▁▁▁▁▁▁▁▁▁▁▁▁▁▁▁▁▁▁▁</td></tr><tr><td>val_loss</td><td>█▂▁▁▁▁▁▁▁▁▁▁▁▁▁▁▁▁▁▁▁▁▁▁▁▁▁▁▁▁▁▁▁▁▁▁▁▁▁▁</td></tr></table><br/></div><div class=\"wandb-col\"><h3>Run summary:</h3><br/><table class=\"wandb\"><tr><td>epoch</td><td>101</td></tr><tr><td>train_loss</td><td>10.2015</td></tr><tr><td>val_loss</td><td>11.04463</td></tr></table><br/></div></div>"
      ],
      "text/plain": [
       "<IPython.core.display.HTML object>"
      ]
     },
     "metadata": {},
     "output_type": "display_data"
    },
    {
     "data": {
      "text/html": [
       " View run <strong style=\"color:#cdcd00\">fancy-flower-43</strong> at: <a href='https://wandb.ai/yixuan228-imperial-college-london/DE_Groupwork_G4_stage1/runs/m727ueqw' target=\"_blank\">https://wandb.ai/yixuan228-imperial-college-london/DE_Groupwork_G4_stage1/runs/m727ueqw</a><br> View project at: <a href='https://wandb.ai/yixuan228-imperial-college-london/DE_Groupwork_G4_stage1' target=\"_blank\">https://wandb.ai/yixuan228-imperial-college-london/DE_Groupwork_G4_stage1</a><br>Synced 5 W&B file(s), 0 media file(s), 0 artifact file(s) and 0 other file(s)"
      ],
      "text/plain": [
       "<IPython.core.display.HTML object>"
      ]
     },
     "metadata": {},
     "output_type": "display_data"
    },
    {
     "data": {
      "text/html": [
       "Find logs at: <code>.\\wandb\\run-20250321_005053-m727ueqw\\logs</code>"
      ],
      "text/plain": [
       "<IPython.core.display.HTML object>"
      ]
     },
     "metadata": {},
     "output_type": "display_data"
    },
    {
     "data": {
      "text/html": [
       "Tracking run with wandb version 0.19.7"
      ],
      "text/plain": [
       "<IPython.core.display.HTML object>"
      ]
     },
     "metadata": {},
     "output_type": "display_data"
    },
    {
     "data": {
      "text/html": [
       "Run data is saved locally in <code>d:\\Projects\\MSc_DE_GroupWork4\\Scripts\\wandb\\run-20250321_005113-d5rma2c6</code>"
      ],
      "text/plain": [
       "<IPython.core.display.HTML object>"
      ]
     },
     "metadata": {},
     "output_type": "display_data"
    },
    {
     "data": {
      "text/html": [
       "Syncing run <strong><a href='https://wandb.ai/yixuan228-imperial-college-london/DE_Groupwork_G4_stage1/runs/d5rma2c6' target=\"_blank\">likely-totem-44</a></strong> to <a href='https://wandb.ai/yixuan228-imperial-college-london/DE_Groupwork_G4_stage1' target=\"_blank\">Weights & Biases</a> (<a href='https://wandb.me/developer-guide' target=\"_blank\">docs</a>)<br>"
      ],
      "text/plain": [
       "<IPython.core.display.HTML object>"
      ]
     },
     "metadata": {},
     "output_type": "display_data"
    },
    {
     "data": {
      "text/html": [
       " View project at <a href='https://wandb.ai/yixuan228-imperial-college-london/DE_Groupwork_G4_stage1' target=\"_blank\">https://wandb.ai/yixuan228-imperial-college-london/DE_Groupwork_G4_stage1</a>"
      ],
      "text/plain": [
       "<IPython.core.display.HTML object>"
      ]
     },
     "metadata": {},
     "output_type": "display_data"
    },
    {
     "data": {
      "text/html": [
       " View run at <a href='https://wandb.ai/yixuan228-imperial-college-london/DE_Groupwork_G4_stage1/runs/d5rma2c6' target=\"_blank\">https://wandb.ai/yixuan228-imperial-college-london/DE_Groupwork_G4_stage1/runs/d5rma2c6</a>"
      ],
      "text/plain": [
       "<IPython.core.display.HTML object>"
      ]
     },
     "metadata": {},
     "output_type": "display_data"
    },
    {
     "name": "stdout",
     "output_type": "stream",
     "text": [
      "Epoch 001 | Train Loss: 20831.9501 | Val Loss: 594.3744\n",
      "Epoch 002 | Train Loss: 383.1675 | Val Loss: 296.0490\n",
      "Epoch 003 | Train Loss: 218.7905 | Val Loss: 249.1873\n",
      "Epoch 004 | Train Loss: 172.0590 | Val Loss: 118.5808\n",
      "Epoch 005 | Train Loss: 97.3325 | Val Loss: 89.1121\n",
      "Epoch 006 | Train Loss: 89.3063 | Val Loss: 94.2993\n",
      "Epoch 007 | Train Loss: 67.0969 | Val Loss: 110.2943\n",
      "Epoch 008 | Train Loss: 64.4974 | Val Loss: 63.5031\n",
      "Epoch 009 | Train Loss: 45.9476 | Val Loss: 274.7471\n",
      "Epoch 010 | Train Loss: 84.7849 | Val Loss: 79.4640\n",
      "Epoch 011 | Train Loss: 42.6812 | Val Loss: 100.4448\n",
      "Epoch 012 | Train Loss: 35.0330 | Val Loss: 66.0305\n",
      "Epoch 013 | Train Loss: 47.3753 | Val Loss: 44.2408\n",
      "Epoch 014 | Train Loss: 33.0544 | Val Loss: 20.9786\n",
      "Epoch 015 | Train Loss: 35.9519 | Val Loss: 28.6132\n",
      "Epoch 016 | Train Loss: 25.1082 | Val Loss: 56.7448\n",
      "Epoch 017 | Train Loss: 28.4636 | Val Loss: 99.7289\n",
      "Epoch 018 | Train Loss: 51.1479 | Val Loss: 23.9373\n",
      "Epoch 019 | Train Loss: 34.9107 | Val Loss: 23.8639\n",
      "Early stopping triggered at epoch 19\n"
     ]
    },
    {
     "data": {
      "text/html": [],
      "text/plain": [
       "<IPython.core.display.HTML object>"
      ]
     },
     "metadata": {},
     "output_type": "display_data"
    },
    {
     "data": {
      "text/html": [
       "<br>    <style><br>        .wandb-row {<br>            display: flex;<br>            flex-direction: row;<br>            flex-wrap: wrap;<br>            justify-content: flex-start;<br>            width: 100%;<br>        }<br>        .wandb-col {<br>            display: flex;<br>            flex-direction: column;<br>            flex-basis: 100%;<br>            flex: 1;<br>            padding: 10px;<br>        }<br>    </style><br><div class=\"wandb-row\"><div class=\"wandb-col\"><h3>Run history:</h3><br/><table class=\"wandb\"><tr><td>epoch</td><td>▁▁▂▂▃▃▃▄▄▅▅▅▆▆▆▇▇██</td></tr><tr><td>train_loss</td><td>█▁▁▁▁▁▁▁▁▁▁▁▁▁▁▁▁▁▁</td></tr><tr><td>val_loss</td><td>█▄▄▂▂▂▂▂▄▂▂▂▁▁▁▁▂▁▁</td></tr></table><br/></div><div class=\"wandb-col\"><h3>Run summary:</h3><br/><table class=\"wandb\"><tr><td>epoch</td><td>19</td></tr><tr><td>train_loss</td><td>34.91073</td></tr><tr><td>val_loss</td><td>23.86391</td></tr></table><br/></div></div>"
      ],
      "text/plain": [
       "<IPython.core.display.HTML object>"
      ]
     },
     "metadata": {},
     "output_type": "display_data"
    },
    {
     "data": {
      "text/html": [
       " View run <strong style=\"color:#cdcd00\">likely-totem-44</strong> at: <a href='https://wandb.ai/yixuan228-imperial-college-london/DE_Groupwork_G4_stage1/runs/d5rma2c6' target=\"_blank\">https://wandb.ai/yixuan228-imperial-college-london/DE_Groupwork_G4_stage1/runs/d5rma2c6</a><br> View project at: <a href='https://wandb.ai/yixuan228-imperial-college-london/DE_Groupwork_G4_stage1' target=\"_blank\">https://wandb.ai/yixuan228-imperial-college-london/DE_Groupwork_G4_stage1</a><br>Synced 5 W&B file(s), 0 media file(s), 0 artifact file(s) and 0 other file(s)"
      ],
      "text/plain": [
       "<IPython.core.display.HTML object>"
      ]
     },
     "metadata": {},
     "output_type": "display_data"
    },
    {
     "data": {
      "text/html": [
       "Find logs at: <code>.\\wandb\\run-20250321_005113-d5rma2c6\\logs</code>"
      ],
      "text/plain": [
       "<IPython.core.display.HTML object>"
      ]
     },
     "metadata": {},
     "output_type": "display_data"
    },
    {
     "data": {
      "text/html": [
       "Tracking run with wandb version 0.19.7"
      ],
      "text/plain": [
       "<IPython.core.display.HTML object>"
      ]
     },
     "metadata": {},
     "output_type": "display_data"
    },
    {
     "data": {
      "text/html": [
       "Run data is saved locally in <code>d:\\Projects\\MSc_DE_GroupWork4\\Scripts\\wandb\\run-20250321_005119-77x1ksas</code>"
      ],
      "text/plain": [
       "<IPython.core.display.HTML object>"
      ]
     },
     "metadata": {},
     "output_type": "display_data"
    },
    {
     "data": {
      "text/html": [
       "Syncing run <strong><a href='https://wandb.ai/yixuan228-imperial-college-london/DE_Groupwork_G4_stage1/runs/77x1ksas' target=\"_blank\">rare-dragon-45</a></strong> to <a href='https://wandb.ai/yixuan228-imperial-college-london/DE_Groupwork_G4_stage1' target=\"_blank\">Weights & Biases</a> (<a href='https://wandb.me/developer-guide' target=\"_blank\">docs</a>)<br>"
      ],
      "text/plain": [
       "<IPython.core.display.HTML object>"
      ]
     },
     "metadata": {},
     "output_type": "display_data"
    },
    {
     "data": {
      "text/html": [
       " View project at <a href='https://wandb.ai/yixuan228-imperial-college-london/DE_Groupwork_G4_stage1' target=\"_blank\">https://wandb.ai/yixuan228-imperial-college-london/DE_Groupwork_G4_stage1</a>"
      ],
      "text/plain": [
       "<IPython.core.display.HTML object>"
      ]
     },
     "metadata": {},
     "output_type": "display_data"
    },
    {
     "data": {
      "text/html": [
       " View run at <a href='https://wandb.ai/yixuan228-imperial-college-london/DE_Groupwork_G4_stage1/runs/77x1ksas' target=\"_blank\">https://wandb.ai/yixuan228-imperial-college-london/DE_Groupwork_G4_stage1/runs/77x1ksas</a>"
      ],
      "text/plain": [
       "<IPython.core.display.HTML object>"
      ]
     },
     "metadata": {},
     "output_type": "display_data"
    },
    {
     "name": "stdout",
     "output_type": "stream",
     "text": [
      "Epoch 001 | Train Loss: 11600.0596 | Val Loss: 633.5897\n",
      "Epoch 002 | Train Loss: 399.8350 | Val Loss: 317.4954\n",
      "Epoch 003 | Train Loss: 235.7894 | Val Loss: 227.4374\n",
      "Epoch 004 | Train Loss: 161.0755 | Val Loss: 150.6790\n",
      "Epoch 005 | Train Loss: 104.4472 | Val Loss: 98.4318\n",
      "Epoch 006 | Train Loss: 61.9415 | Val Loss: 61.0464\n",
      "Epoch 007 | Train Loss: 41.9011 | Val Loss: 32.7850\n",
      "Epoch 008 | Train Loss: 31.3148 | Val Loss: 29.8961\n",
      "Epoch 009 | Train Loss: 25.4821 | Val Loss: 27.8618\n",
      "Epoch 010 | Train Loss: 22.6058 | Val Loss: 29.3318\n",
      "Epoch 011 | Train Loss: 21.7863 | Val Loss: 22.4006\n",
      "Epoch 012 | Train Loss: 23.8772 | Val Loss: 19.1042\n",
      "Epoch 013 | Train Loss: 17.4949 | Val Loss: 16.9492\n",
      "Epoch 014 | Train Loss: 15.3620 | Val Loss: 23.6102\n",
      "Epoch 015 | Train Loss: 20.8910 | Val Loss: 21.1847\n",
      "Epoch 016 | Train Loss: 21.4655 | Val Loss: 18.3398\n",
      "Epoch 017 | Train Loss: 15.2780 | Val Loss: 73.8261\n",
      "Epoch 018 | Train Loss: 33.9530 | Val Loss: 27.7695\n",
      "Early stopping triggered at epoch 18\n"
     ]
    },
    {
     "data": {
      "text/html": [],
      "text/plain": [
       "<IPython.core.display.HTML object>"
      ]
     },
     "metadata": {},
     "output_type": "display_data"
    },
    {
     "data": {
      "text/html": [
       "<br>    <style><br>        .wandb-row {<br>            display: flex;<br>            flex-direction: row;<br>            flex-wrap: wrap;<br>            justify-content: flex-start;<br>            width: 100%;<br>        }<br>        .wandb-col {<br>            display: flex;<br>            flex-direction: column;<br>            flex-basis: 100%;<br>            flex: 1;<br>            padding: 10px;<br>        }<br>    </style><br><div class=\"wandb-row\"><div class=\"wandb-col\"><h3>Run history:</h3><br/><table class=\"wandb\"><tr><td>epoch</td><td>▁▁▂▂▃▃▃▄▄▅▅▆▆▆▇▇██</td></tr><tr><td>train_loss</td><td>█▁▁▁▁▁▁▁▁▁▁▁▁▁▁▁▁▁</td></tr><tr><td>val_loss</td><td>█▄▃▃▂▂▁▁▁▁▁▁▁▁▁▁▂▁</td></tr></table><br/></div><div class=\"wandb-col\"><h3>Run summary:</h3><br/><table class=\"wandb\"><tr><td>epoch</td><td>18</td></tr><tr><td>train_loss</td><td>33.953</td></tr><tr><td>val_loss</td><td>27.76949</td></tr></table><br/></div></div>"
      ],
      "text/plain": [
       "<IPython.core.display.HTML object>"
      ]
     },
     "metadata": {},
     "output_type": "display_data"
    },
    {
     "data": {
      "text/html": [
       " View run <strong style=\"color:#cdcd00\">rare-dragon-45</strong> at: <a href='https://wandb.ai/yixuan228-imperial-college-london/DE_Groupwork_G4_stage1/runs/77x1ksas' target=\"_blank\">https://wandb.ai/yixuan228-imperial-college-london/DE_Groupwork_G4_stage1/runs/77x1ksas</a><br> View project at: <a href='https://wandb.ai/yixuan228-imperial-college-london/DE_Groupwork_G4_stage1' target=\"_blank\">https://wandb.ai/yixuan228-imperial-college-london/DE_Groupwork_G4_stage1</a><br>Synced 5 W&B file(s), 0 media file(s), 0 artifact file(s) and 0 other file(s)"
      ],
      "text/plain": [
       "<IPython.core.display.HTML object>"
      ]
     },
     "metadata": {},
     "output_type": "display_data"
    },
    {
     "data": {
      "text/html": [
       "Find logs at: <code>.\\wandb\\run-20250321_005119-77x1ksas\\logs</code>"
      ],
      "text/plain": [
       "<IPython.core.display.HTML object>"
      ]
     },
     "metadata": {},
     "output_type": "display_data"
    },
    {
     "data": {
      "text/html": [
       "Tracking run with wandb version 0.19.7"
      ],
      "text/plain": [
       "<IPython.core.display.HTML object>"
      ]
     },
     "metadata": {},
     "output_type": "display_data"
    },
    {
     "data": {
      "text/html": [
       "Run data is saved locally in <code>d:\\Projects\\MSc_DE_GroupWork4\\Scripts\\wandb\\run-20250321_005125-dk6dtfn7</code>"
      ],
      "text/plain": [
       "<IPython.core.display.HTML object>"
      ]
     },
     "metadata": {},
     "output_type": "display_data"
    },
    {
     "data": {
      "text/html": [
       "Syncing run <strong><a href='https://wandb.ai/yixuan228-imperial-college-london/DE_Groupwork_G4_stage1/runs/dk6dtfn7' target=\"_blank\">pretty-rain-46</a></strong> to <a href='https://wandb.ai/yixuan228-imperial-college-london/DE_Groupwork_G4_stage1' target=\"_blank\">Weights & Biases</a> (<a href='https://wandb.me/developer-guide' target=\"_blank\">docs</a>)<br>"
      ],
      "text/plain": [
       "<IPython.core.display.HTML object>"
      ]
     },
     "metadata": {},
     "output_type": "display_data"
    },
    {
     "data": {
      "text/html": [
       " View project at <a href='https://wandb.ai/yixuan228-imperial-college-london/DE_Groupwork_G4_stage1' target=\"_blank\">https://wandb.ai/yixuan228-imperial-college-london/DE_Groupwork_G4_stage1</a>"
      ],
      "text/plain": [
       "<IPython.core.display.HTML object>"
      ]
     },
     "metadata": {},
     "output_type": "display_data"
    },
    {
     "data": {
      "text/html": [
       " View run at <a href='https://wandb.ai/yixuan228-imperial-college-london/DE_Groupwork_G4_stage1/runs/dk6dtfn7' target=\"_blank\">https://wandb.ai/yixuan228-imperial-college-london/DE_Groupwork_G4_stage1/runs/dk6dtfn7</a>"
      ],
      "text/plain": [
       "<IPython.core.display.HTML object>"
      ]
     },
     "metadata": {},
     "output_type": "display_data"
    },
    {
     "name": "stdout",
     "output_type": "stream",
     "text": [
      "Epoch 001 | Train Loss: 61485.6923 | Val Loss: 36564.8841\n",
      "Epoch 002 | Train Loss: 8780.6011 | Val Loss: 2173.8472\n",
      "Epoch 003 | Train Loss: 1427.6905 | Val Loss: 1012.4125\n",
      "Epoch 004 | Train Loss: 802.8422 | Val Loss: 740.4796\n",
      "Epoch 005 | Train Loss: 620.5356 | Val Loss: 612.2392\n",
      "Epoch 006 | Train Loss: 517.9040 | Val Loss: 525.5651\n",
      "Epoch 007 | Train Loss: 446.8132 | Val Loss: 457.2884\n",
      "Epoch 008 | Train Loss: 391.1197 | Val Loss: 404.4314\n",
      "Epoch 009 | Train Loss: 346.7102 | Val Loss: 362.0123\n",
      "Epoch 010 | Train Loss: 309.6108 | Val Loss: 330.5559\n",
      "Epoch 011 | Train Loss: 280.3354 | Val Loss: 300.0504\n",
      "Epoch 012 | Train Loss: 254.5201 | Val Loss: 278.0857\n",
      "Epoch 013 | Train Loss: 230.7168 | Val Loss: 255.3855\n",
      "Epoch 014 | Train Loss: 213.1495 | Val Loss: 236.3320\n",
      "Epoch 015 | Train Loss: 195.5800 | Val Loss: 217.2995\n",
      "Epoch 016 | Train Loss: 180.6910 | Val Loss: 201.7822\n",
      "Epoch 017 | Train Loss: 165.9349 | Val Loss: 185.9583\n",
      "Epoch 018 | Train Loss: 152.4848 | Val Loss: 171.4936\n",
      "Epoch 019 | Train Loss: 140.2951 | Val Loss: 157.4260\n",
      "Epoch 020 | Train Loss: 129.2593 | Val Loss: 144.6251\n",
      "Epoch 021 | Train Loss: 117.7235 | Val Loss: 133.0452\n",
      "Epoch 022 | Train Loss: 109.1761 | Val Loss: 121.0252\n",
      "Epoch 023 | Train Loss: 98.0819 | Val Loss: 109.6640\n",
      "Epoch 024 | Train Loss: 88.5827 | Val Loss: 99.6085\n",
      "Epoch 025 | Train Loss: 80.4057 | Val Loss: 91.9214\n",
      "Epoch 026 | Train Loss: 73.4563 | Val Loss: 79.8458\n",
      "Epoch 027 | Train Loss: 66.1319 | Val Loss: 71.5050\n",
      "Epoch 028 | Train Loss: 58.8546 | Val Loss: 65.5426\n",
      "Epoch 029 | Train Loss: 53.4197 | Val Loss: 60.4276\n",
      "Epoch 030 | Train Loss: 48.0151 | Val Loss: 53.1478\n",
      "Epoch 031 | Train Loss: 43.1670 | Val Loss: 48.4323\n",
      "Epoch 032 | Train Loss: 39.4799 | Val Loss: 42.8598\n",
      "Epoch 033 | Train Loss: 35.8130 | Val Loss: 38.1543\n",
      "Epoch 034 | Train Loss: 33.1884 | Val Loss: 34.4704\n",
      "Epoch 035 | Train Loss: 30.1867 | Val Loss: 32.4151\n",
      "Epoch 036 | Train Loss: 27.9775 | Val Loss: 31.0340\n",
      "Epoch 037 | Train Loss: 26.4146 | Val Loss: 29.2758\n",
      "Epoch 038 | Train Loss: 24.4759 | Val Loss: 26.0565\n",
      "Epoch 039 | Train Loss: 23.4077 | Val Loss: 25.0335\n",
      "Epoch 040 | Train Loss: 22.0167 | Val Loss: 23.9553\n",
      "Epoch 041 | Train Loss: 20.8217 | Val Loss: 21.2750\n",
      "Epoch 042 | Train Loss: 19.7386 | Val Loss: 22.3533\n",
      "Epoch 043 | Train Loss: 20.0681 | Val Loss: 24.6803\n",
      "Epoch 044 | Train Loss: 18.8510 | Val Loss: 19.4232\n",
      "Epoch 045 | Train Loss: 18.5250 | Val Loss: 17.7616\n",
      "Epoch 046 | Train Loss: 16.8030 | Val Loss: 17.9168\n",
      "Epoch 047 | Train Loss: 16.7750 | Val Loss: 16.5473\n",
      "Epoch 048 | Train Loss: 16.0278 | Val Loss: 18.4414\n",
      "Epoch 049 | Train Loss: 15.7369 | Val Loss: 15.7836\n",
      "Epoch 050 | Train Loss: 14.8492 | Val Loss: 15.3526\n",
      "Epoch 051 | Train Loss: 14.4339 | Val Loss: 19.6397\n",
      "Epoch 052 | Train Loss: 15.1401 | Val Loss: 14.1948\n",
      "Epoch 053 | Train Loss: 13.5477 | Val Loss: 14.0529\n",
      "Epoch 054 | Train Loss: 13.6406 | Val Loss: 13.6567\n",
      "Epoch 055 | Train Loss: 12.9294 | Val Loss: 15.1554\n",
      "Epoch 056 | Train Loss: 13.1034 | Val Loss: 13.6942\n",
      "Epoch 057 | Train Loss: 12.8325 | Val Loss: 12.9955\n",
      "Epoch 058 | Train Loss: 12.5221 | Val Loss: 12.2038\n",
      "Epoch 059 | Train Loss: 11.9820 | Val Loss: 14.0258\n",
      "Epoch 060 | Train Loss: 12.2492 | Val Loss: 12.6867\n",
      "Epoch 061 | Train Loss: 11.4867 | Val Loss: 11.7585\n",
      "Epoch 062 | Train Loss: 11.8002 | Val Loss: 16.2322\n",
      "Epoch 063 | Train Loss: 12.0230 | Val Loss: 14.1055\n",
      "Epoch 064 | Train Loss: 11.5033 | Val Loss: 11.7446\n",
      "Epoch 065 | Train Loss: 11.0584 | Val Loss: 14.7211\n",
      "Epoch 066 | Train Loss: 11.7059 | Val Loss: 11.5294\n",
      "Epoch 067 | Train Loss: 10.9473 | Val Loss: 11.2584\n",
      "Epoch 068 | Train Loss: 11.2262 | Val Loss: 11.1509\n",
      "Epoch 069 | Train Loss: 10.4681 | Val Loss: 11.4232\n",
      "Epoch 070 | Train Loss: 10.9581 | Val Loss: 10.1339\n",
      "Epoch 071 | Train Loss: 10.0423 | Val Loss: 11.0058\n",
      "Epoch 072 | Train Loss: 10.2398 | Val Loss: 10.1638\n",
      "Epoch 073 | Train Loss: 9.9502 | Val Loss: 10.0607\n",
      "Epoch 074 | Train Loss: 10.3037 | Val Loss: 10.7213\n",
      "Epoch 075 | Train Loss: 10.1744 | Val Loss: 12.3307\n",
      "Epoch 076 | Train Loss: 10.1863 | Val Loss: 13.1550\n",
      "Epoch 077 | Train Loss: 9.8729 | Val Loss: 9.9321\n",
      "Epoch 078 | Train Loss: 10.5308 | Val Loss: 10.9964\n",
      "Epoch 079 | Train Loss: 9.5464 | Val Loss: 12.2302\n",
      "Epoch 080 | Train Loss: 9.7364 | Val Loss: 13.1791\n",
      "Epoch 081 | Train Loss: 9.5315 | Val Loss: 9.7943\n",
      "Epoch 082 | Train Loss: 9.4380 | Val Loss: 9.2228\n",
      "Epoch 083 | Train Loss: 9.3228 | Val Loss: 14.5713\n",
      "Epoch 084 | Train Loss: 9.9394 | Val Loss: 10.2222\n",
      "Epoch 085 | Train Loss: 9.4355 | Val Loss: 10.6002\n",
      "Epoch 086 | Train Loss: 8.9809 | Val Loss: 9.2879\n",
      "Epoch 087 | Train Loss: 8.8097 | Val Loss: 21.1395\n",
      "Early stopping triggered at epoch 87\n"
     ]
    },
    {
     "data": {
      "text/html": [],
      "text/plain": [
       "<IPython.core.display.HTML object>"
      ]
     },
     "metadata": {},
     "output_type": "display_data"
    },
    {
     "data": {
      "text/html": [
       "<br>    <style><br>        .wandb-row {<br>            display: flex;<br>            flex-direction: row;<br>            flex-wrap: wrap;<br>            justify-content: flex-start;<br>            width: 100%;<br>        }<br>        .wandb-col {<br>            display: flex;<br>            flex-direction: column;<br>            flex-basis: 100%;<br>            flex: 1;<br>            padding: 10px;<br>        }<br>    </style><br><div class=\"wandb-row\"><div class=\"wandb-col\"><h3>Run history:</h3><br/><table class=\"wandb\"><tr><td>epoch</td><td>▁▁▁▁▁▂▂▂▂▂▂▃▃▃▃▄▄▄▄▄▄▅▅▅▅▅▅▅▆▆▆▆▇▇▇▇▇███</td></tr><tr><td>train_loss</td><td>█▂▁▁▁▁▁▁▁▁▁▁▁▁▁▁▁▁▁▁▁▁▁▁▁▁▁▁▁▁▁▁▁▁▁▁▁▁▁▁</td></tr><tr><td>val_loss</td><td>█▆▅▄▃▃▂▂▂▂▂▁▁▁▁▁▁▁▁▁▁▁▁▁▁▁▁▁▁▁▁▁▁▁▁▁▁▁▁▁</td></tr></table><br/></div><div class=\"wandb-col\"><h3>Run summary:</h3><br/><table class=\"wandb\"><tr><td>epoch</td><td>87</td></tr><tr><td>train_loss</td><td>8.80972</td></tr><tr><td>val_loss</td><td>21.13951</td></tr></table><br/></div></div>"
      ],
      "text/plain": [
       "<IPython.core.display.HTML object>"
      ]
     },
     "metadata": {},
     "output_type": "display_data"
    },
    {
     "data": {
      "text/html": [
       " View run <strong style=\"color:#cdcd00\">pretty-rain-46</strong> at: <a href='https://wandb.ai/yixuan228-imperial-college-london/DE_Groupwork_G4_stage1/runs/dk6dtfn7' target=\"_blank\">https://wandb.ai/yixuan228-imperial-college-london/DE_Groupwork_G4_stage1/runs/dk6dtfn7</a><br> View project at: <a href='https://wandb.ai/yixuan228-imperial-college-london/DE_Groupwork_G4_stage1' target=\"_blank\">https://wandb.ai/yixuan228-imperial-college-london/DE_Groupwork_G4_stage1</a><br>Synced 5 W&B file(s), 0 media file(s), 0 artifact file(s) and 0 other file(s)"
      ],
      "text/plain": [
       "<IPython.core.display.HTML object>"
      ]
     },
     "metadata": {},
     "output_type": "display_data"
    },
    {
     "data": {
      "text/html": [
       "Find logs at: <code>.\\wandb\\run-20250321_005125-dk6dtfn7\\logs</code>"
      ],
      "text/plain": [
       "<IPython.core.display.HTML object>"
      ]
     },
     "metadata": {},
     "output_type": "display_data"
    },
    {
     "data": {
      "text/html": [
       "Tracking run with wandb version 0.19.7"
      ],
      "text/plain": [
       "<IPython.core.display.HTML object>"
      ]
     },
     "metadata": {},
     "output_type": "display_data"
    },
    {
     "data": {
      "text/html": [
       "Run data is saved locally in <code>d:\\Projects\\MSc_DE_GroupWork4\\Scripts\\wandb\\run-20250321_005143-1b73gwor</code>"
      ],
      "text/plain": [
       "<IPython.core.display.HTML object>"
      ]
     },
     "metadata": {},
     "output_type": "display_data"
    },
    {
     "data": {
      "text/html": [
       "Syncing run <strong><a href='https://wandb.ai/yixuan228-imperial-college-london/DE_Groupwork_G4_stage1/runs/1b73gwor' target=\"_blank\">dainty-totem-47</a></strong> to <a href='https://wandb.ai/yixuan228-imperial-college-london/DE_Groupwork_G4_stage1' target=\"_blank\">Weights & Biases</a> (<a href='https://wandb.me/developer-guide' target=\"_blank\">docs</a>)<br>"
      ],
      "text/plain": [
       "<IPython.core.display.HTML object>"
      ]
     },
     "metadata": {},
     "output_type": "display_data"
    },
    {
     "data": {
      "text/html": [
       " View project at <a href='https://wandb.ai/yixuan228-imperial-college-london/DE_Groupwork_G4_stage1' target=\"_blank\">https://wandb.ai/yixuan228-imperial-college-london/DE_Groupwork_G4_stage1</a>"
      ],
      "text/plain": [
       "<IPython.core.display.HTML object>"
      ]
     },
     "metadata": {},
     "output_type": "display_data"
    },
    {
     "data": {
      "text/html": [
       " View run at <a href='https://wandb.ai/yixuan228-imperial-college-london/DE_Groupwork_G4_stage1/runs/1b73gwor' target=\"_blank\">https://wandb.ai/yixuan228-imperial-college-london/DE_Groupwork_G4_stage1/runs/1b73gwor</a>"
      ],
      "text/plain": [
       "<IPython.core.display.HTML object>"
      ]
     },
     "metadata": {},
     "output_type": "display_data"
    },
    {
     "name": "stdout",
     "output_type": "stream",
     "text": [
      "Epoch 001 | Train Loss: 27623.1732 | Val Loss: 893.2814\n",
      "Epoch 002 | Train Loss: 324.0498 | Val Loss: 241.9794\n",
      "Epoch 003 | Train Loss: 162.4272 | Val Loss: 181.9820\n",
      "Epoch 004 | Train Loss: 134.2179 | Val Loss: 141.8725\n",
      "Epoch 005 | Train Loss: 90.6267 | Val Loss: 89.7517\n",
      "Epoch 006 | Train Loss: 64.7741 | Val Loss: 288.1720\n",
      "Epoch 007 | Train Loss: 90.7974 | Val Loss: 82.7215\n",
      "Epoch 008 | Train Loss: 49.8785 | Val Loss: 160.3755\n",
      "Epoch 009 | Train Loss: 50.0328 | Val Loss: 36.1025\n",
      "Epoch 010 | Train Loss: 36.5408 | Val Loss: 64.4482\n",
      "Epoch 011 | Train Loss: 55.6078 | Val Loss: 51.6056\n",
      "Epoch 012 | Train Loss: 39.5468 | Val Loss: 29.4383\n",
      "Epoch 013 | Train Loss: 41.4456 | Val Loss: 72.3724\n",
      "Epoch 014 | Train Loss: 51.9165 | Val Loss: 56.5278\n",
      "Epoch 015 | Train Loss: 34.7409 | Val Loss: 66.3686\n",
      "Epoch 016 | Train Loss: 29.9102 | Val Loss: 57.8277\n",
      "Epoch 017 | Train Loss: 45.0887 | Val Loss: 22.7954\n",
      "Epoch 018 | Train Loss: 41.3836 | Val Loss: 144.6386\n",
      "Epoch 019 | Train Loss: 150.3406 | Val Loss: 5570.6734\n",
      "Epoch 020 | Train Loss: 1062.9553 | Val Loss: 173.6119\n",
      "Epoch 021 | Train Loss: 60.5350 | Val Loss: 56.3708\n",
      "Epoch 022 | Train Loss: 29.2591 | Val Loss: 29.0543\n",
      "Early stopping triggered at epoch 22\n"
     ]
    },
    {
     "data": {
      "text/html": [],
      "text/plain": [
       "<IPython.core.display.HTML object>"
      ]
     },
     "metadata": {},
     "output_type": "display_data"
    },
    {
     "data": {
      "text/html": [
       "<br>    <style><br>        .wandb-row {<br>            display: flex;<br>            flex-direction: row;<br>            flex-wrap: wrap;<br>            justify-content: flex-start;<br>            width: 100%;<br>        }<br>        .wandb-col {<br>            display: flex;<br>            flex-direction: column;<br>            flex-basis: 100%;<br>            flex: 1;<br>            padding: 10px;<br>        }<br>    </style><br><div class=\"wandb-row\"><div class=\"wandb-col\"><h3>Run history:</h3><br/><table class=\"wandb\"><tr><td>epoch</td><td>▁▁▂▂▂▃▃▃▄▄▄▅▅▅▆▆▆▇▇▇██</td></tr><tr><td>train_loss</td><td>█▁▁▁▁▁▁▁▁▁▁▁▁▁▁▁▁▁▁▁▁▁</td></tr><tr><td>val_loss</td><td>▂▁▁▁▁▁▁▁▁▁▁▁▁▁▁▁▁▁█▁▁▁</td></tr></table><br/></div><div class=\"wandb-col\"><h3>Run summary:</h3><br/><table class=\"wandb\"><tr><td>epoch</td><td>22</td></tr><tr><td>train_loss</td><td>29.25908</td></tr><tr><td>val_loss</td><td>29.05427</td></tr></table><br/></div></div>"
      ],
      "text/plain": [
       "<IPython.core.display.HTML object>"
      ]
     },
     "metadata": {},
     "output_type": "display_data"
    },
    {
     "data": {
      "text/html": [
       " View run <strong style=\"color:#cdcd00\">dainty-totem-47</strong> at: <a href='https://wandb.ai/yixuan228-imperial-college-london/DE_Groupwork_G4_stage1/runs/1b73gwor' target=\"_blank\">https://wandb.ai/yixuan228-imperial-college-london/DE_Groupwork_G4_stage1/runs/1b73gwor</a><br> View project at: <a href='https://wandb.ai/yixuan228-imperial-college-london/DE_Groupwork_G4_stage1' target=\"_blank\">https://wandb.ai/yixuan228-imperial-college-london/DE_Groupwork_G4_stage1</a><br>Synced 5 W&B file(s), 0 media file(s), 0 artifact file(s) and 0 other file(s)"
      ],
      "text/plain": [
       "<IPython.core.display.HTML object>"
      ]
     },
     "metadata": {},
     "output_type": "display_data"
    },
    {
     "data": {
      "text/html": [
       "Find logs at: <code>.\\wandb\\run-20250321_005143-1b73gwor\\logs</code>"
      ],
      "text/plain": [
       "<IPython.core.display.HTML object>"
      ]
     },
     "metadata": {},
     "output_type": "display_data"
    },
    {
     "data": {
      "text/html": [
       "Tracking run with wandb version 0.19.7"
      ],
      "text/plain": [
       "<IPython.core.display.HTML object>"
      ]
     },
     "metadata": {},
     "output_type": "display_data"
    },
    {
     "data": {
      "text/html": [
       "Run data is saved locally in <code>d:\\Projects\\MSc_DE_GroupWork4\\Scripts\\wandb\\run-20250321_005150-oy4tlwy2</code>"
      ],
      "text/plain": [
       "<IPython.core.display.HTML object>"
      ]
     },
     "metadata": {},
     "output_type": "display_data"
    },
    {
     "data": {
      "text/html": [
       "Syncing run <strong><a href='https://wandb.ai/yixuan228-imperial-college-london/DE_Groupwork_G4_stage1/runs/oy4tlwy2' target=\"_blank\">colorful-music-48</a></strong> to <a href='https://wandb.ai/yixuan228-imperial-college-london/DE_Groupwork_G4_stage1' target=\"_blank\">Weights & Biases</a> (<a href='https://wandb.me/developer-guide' target=\"_blank\">docs</a>)<br>"
      ],
      "text/plain": [
       "<IPython.core.display.HTML object>"
      ]
     },
     "metadata": {},
     "output_type": "display_data"
    },
    {
     "data": {
      "text/html": [
       " View project at <a href='https://wandb.ai/yixuan228-imperial-college-london/DE_Groupwork_G4_stage1' target=\"_blank\">https://wandb.ai/yixuan228-imperial-college-london/DE_Groupwork_G4_stage1</a>"
      ],
      "text/plain": [
       "<IPython.core.display.HTML object>"
      ]
     },
     "metadata": {},
     "output_type": "display_data"
    },
    {
     "data": {
      "text/html": [
       " View run at <a href='https://wandb.ai/yixuan228-imperial-college-london/DE_Groupwork_G4_stage1/runs/oy4tlwy2' target=\"_blank\">https://wandb.ai/yixuan228-imperial-college-london/DE_Groupwork_G4_stage1/runs/oy4tlwy2</a>"
      ],
      "text/plain": [
       "<IPython.core.display.HTML object>"
      ]
     },
     "metadata": {},
     "output_type": "display_data"
    },
    {
     "name": "stdout",
     "output_type": "stream",
     "text": [
      "Epoch 001 | Train Loss: 11885.6455 | Val Loss: 548.4128\n",
      "Epoch 002 | Train Loss: 388.3209 | Val Loss: 318.2497\n",
      "Epoch 003 | Train Loss: 230.6717 | Val Loss: 203.9192\n",
      "Epoch 004 | Train Loss: 149.8901 | Val Loss: 146.0708\n",
      "Epoch 005 | Train Loss: 97.5598 | Val Loss: 81.3620\n",
      "Epoch 006 | Train Loss: 57.2056 | Val Loss: 46.9883\n",
      "Epoch 007 | Train Loss: 35.9697 | Val Loss: 32.7199\n",
      "Epoch 008 | Train Loss: 26.1571 | Val Loss: 24.8887\n",
      "Epoch 009 | Train Loss: 22.6280 | Val Loss: 24.2784\n",
      "Epoch 010 | Train Loss: 21.3490 | Val Loss: 24.5179\n",
      "Epoch 011 | Train Loss: 19.8620 | Val Loss: 22.1886\n",
      "Epoch 012 | Train Loss: 18.1390 | Val Loss: 27.6972\n",
      "Epoch 013 | Train Loss: 16.1457 | Val Loss: 23.3264\n",
      "Epoch 014 | Train Loss: 16.2518 | Val Loss: 37.2763\n",
      "Epoch 015 | Train Loss: 19.7769 | Val Loss: 13.2052\n",
      "Epoch 016 | Train Loss: 13.6343 | Val Loss: 15.4915\n",
      "Epoch 017 | Train Loss: 14.7213 | Val Loss: 25.6685\n",
      "Epoch 018 | Train Loss: 14.2354 | Val Loss: 119.6186\n",
      "Epoch 019 | Train Loss: 32.2189 | Val Loss: 21.3148\n",
      "Epoch 020 | Train Loss: 16.5570 | Val Loss: 37.8054\n",
      "Early stopping triggered at epoch 20\n"
     ]
    },
    {
     "data": {
      "text/html": [],
      "text/plain": [
       "<IPython.core.display.HTML object>"
      ]
     },
     "metadata": {},
     "output_type": "display_data"
    },
    {
     "data": {
      "text/html": [
       "<br>    <style><br>        .wandb-row {<br>            display: flex;<br>            flex-direction: row;<br>            flex-wrap: wrap;<br>            justify-content: flex-start;<br>            width: 100%;<br>        }<br>        .wandb-col {<br>            display: flex;<br>            flex-direction: column;<br>            flex-basis: 100%;<br>            flex: 1;<br>            padding: 10px;<br>        }<br>    </style><br><div class=\"wandb-row\"><div class=\"wandb-col\"><h3>Run history:</h3><br/><table class=\"wandb\"><tr><td>epoch</td><td>▁▁▂▂▂▃▃▄▄▄▅▅▅▆▆▇▇▇██</td></tr><tr><td>train_loss</td><td>█▁▁▁▁▁▁▁▁▁▁▁▁▁▁▁▁▁▁▁</td></tr><tr><td>val_loss</td><td>█▅▃▃▂▁▁▁▁▁▁▁▁▁▁▁▁▂▁▁</td></tr></table><br/></div><div class=\"wandb-col\"><h3>Run summary:</h3><br/><table class=\"wandb\"><tr><td>epoch</td><td>20</td></tr><tr><td>train_loss</td><td>16.55696</td></tr><tr><td>val_loss</td><td>37.80539</td></tr></table><br/></div></div>"
      ],
      "text/plain": [
       "<IPython.core.display.HTML object>"
      ]
     },
     "metadata": {},
     "output_type": "display_data"
    },
    {
     "data": {
      "text/html": [
       " View run <strong style=\"color:#cdcd00\">colorful-music-48</strong> at: <a href='https://wandb.ai/yixuan228-imperial-college-london/DE_Groupwork_G4_stage1/runs/oy4tlwy2' target=\"_blank\">https://wandb.ai/yixuan228-imperial-college-london/DE_Groupwork_G4_stage1/runs/oy4tlwy2</a><br> View project at: <a href='https://wandb.ai/yixuan228-imperial-college-london/DE_Groupwork_G4_stage1' target=\"_blank\">https://wandb.ai/yixuan228-imperial-college-london/DE_Groupwork_G4_stage1</a><br>Synced 5 W&B file(s), 0 media file(s), 0 artifact file(s) and 0 other file(s)"
      ],
      "text/plain": [
       "<IPython.core.display.HTML object>"
      ]
     },
     "metadata": {},
     "output_type": "display_data"
    },
    {
     "data": {
      "text/html": [
       "Find logs at: <code>.\\wandb\\run-20250321_005150-oy4tlwy2\\logs</code>"
      ],
      "text/plain": [
       "<IPython.core.display.HTML object>"
      ]
     },
     "metadata": {},
     "output_type": "display_data"
    },
    {
     "data": {
      "text/html": [
       "Tracking run with wandb version 0.19.7"
      ],
      "text/plain": [
       "<IPython.core.display.HTML object>"
      ]
     },
     "metadata": {},
     "output_type": "display_data"
    },
    {
     "data": {
      "text/html": [
       "Run data is saved locally in <code>d:\\Projects\\MSc_DE_GroupWork4\\Scripts\\wandb\\run-20250321_005157-deacr3is</code>"
      ],
      "text/plain": [
       "<IPython.core.display.HTML object>"
      ]
     },
     "metadata": {},
     "output_type": "display_data"
    },
    {
     "data": {
      "text/html": [
       "Syncing run <strong><a href='https://wandb.ai/yixuan228-imperial-college-london/DE_Groupwork_G4_stage1/runs/deacr3is' target=\"_blank\">twilight-meadow-49</a></strong> to <a href='https://wandb.ai/yixuan228-imperial-college-london/DE_Groupwork_G4_stage1' target=\"_blank\">Weights & Biases</a> (<a href='https://wandb.me/developer-guide' target=\"_blank\">docs</a>)<br>"
      ],
      "text/plain": [
       "<IPython.core.display.HTML object>"
      ]
     },
     "metadata": {},
     "output_type": "display_data"
    },
    {
     "data": {
      "text/html": [
       " View project at <a href='https://wandb.ai/yixuan228-imperial-college-london/DE_Groupwork_G4_stage1' target=\"_blank\">https://wandb.ai/yixuan228-imperial-college-london/DE_Groupwork_G4_stage1</a>"
      ],
      "text/plain": [
       "<IPython.core.display.HTML object>"
      ]
     },
     "metadata": {},
     "output_type": "display_data"
    },
    {
     "data": {
      "text/html": [
       " View run at <a href='https://wandb.ai/yixuan228-imperial-college-london/DE_Groupwork_G4_stage1/runs/deacr3is' target=\"_blank\">https://wandb.ai/yixuan228-imperial-college-london/DE_Groupwork_G4_stage1/runs/deacr3is</a>"
      ],
      "text/plain": [
       "<IPython.core.display.HTML object>"
      ]
     },
     "metadata": {},
     "output_type": "display_data"
    },
    {
     "name": "stdout",
     "output_type": "stream",
     "text": [
      "Epoch 001 | Train Loss: 46464.1987 | Val Loss: 5050.3280\n",
      "Epoch 002 | Train Loss: 2330.7538 | Val Loss: 1066.3031\n",
      "Epoch 003 | Train Loss: 763.3784 | Val Loss: 616.8492\n",
      "Epoch 004 | Train Loss: 503.0575 | Val Loss: 479.0662\n",
      "Epoch 005 | Train Loss: 392.1001 | Val Loss: 387.2916\n",
      "Epoch 006 | Train Loss: 320.4565 | Val Loss: 327.8699\n",
      "Epoch 007 | Train Loss: 270.3148 | Val Loss: 287.6192\n",
      "Epoch 008 | Train Loss: 235.9275 | Val Loss: 251.5934\n",
      "Epoch 009 | Train Loss: 206.9127 | Val Loss: 223.2245\n",
      "Epoch 010 | Train Loss: 180.3989 | Val Loss: 198.8242\n",
      "Epoch 011 | Train Loss: 161.8321 | Val Loss: 177.8518\n",
      "Epoch 012 | Train Loss: 143.5454 | Val Loss: 159.7261\n",
      "Epoch 013 | Train Loss: 125.8861 | Val Loss: 137.0074\n",
      "Epoch 014 | Train Loss: 107.1144 | Val Loss: 117.2024\n",
      "Epoch 015 | Train Loss: 91.0085 | Val Loss: 100.4057\n",
      "Epoch 016 | Train Loss: 79.4177 | Val Loss: 86.9291\n",
      "Epoch 017 | Train Loss: 63.6849 | Val Loss: 67.0086\n",
      "Epoch 018 | Train Loss: 53.2480 | Val Loss: 62.9866\n",
      "Epoch 019 | Train Loss: 45.3463 | Val Loss: 46.9868\n",
      "Epoch 020 | Train Loss: 38.3397 | Val Loss: 39.7198\n",
      "Epoch 021 | Train Loss: 32.0140 | Val Loss: 32.1241\n",
      "Epoch 022 | Train Loss: 27.9234 | Val Loss: 30.3137\n",
      "Epoch 023 | Train Loss: 25.3567 | Val Loss: 25.7933\n",
      "Epoch 024 | Train Loss: 23.5424 | Val Loss: 23.3549\n",
      "Epoch 025 | Train Loss: 21.4093 | Val Loss: 21.5197\n",
      "Epoch 026 | Train Loss: 19.5831 | Val Loss: 19.9297\n",
      "Epoch 027 | Train Loss: 19.5055 | Val Loss: 18.8638\n",
      "Epoch 028 | Train Loss: 17.9210 | Val Loss: 18.4514\n",
      "Epoch 029 | Train Loss: 17.0499 | Val Loss: 16.9765\n",
      "Epoch 030 | Train Loss: 17.3141 | Val Loss: 17.7408\n",
      "Epoch 031 | Train Loss: 15.6033 | Val Loss: 16.9411\n",
      "Epoch 032 | Train Loss: 15.3726 | Val Loss: 15.2622\n",
      "Epoch 033 | Train Loss: 14.2103 | Val Loss: 15.2073\n",
      "Epoch 034 | Train Loss: 14.3350 | Val Loss: 16.9666\n",
      "Epoch 035 | Train Loss: 14.9271 | Val Loss: 15.6641\n",
      "Epoch 036 | Train Loss: 13.3950 | Val Loss: 14.7210\n",
      "Epoch 037 | Train Loss: 14.2858 | Val Loss: 13.2753\n",
      "Epoch 038 | Train Loss: 12.5810 | Val Loss: 19.5082\n",
      "Epoch 039 | Train Loss: 13.1373 | Val Loss: 14.1877\n",
      "Epoch 040 | Train Loss: 11.9760 | Val Loss: 12.1576\n",
      "Epoch 041 | Train Loss: 12.4553 | Val Loss: 14.8136\n",
      "Epoch 042 | Train Loss: 11.6630 | Val Loss: 13.1423\n",
      "Epoch 043 | Train Loss: 12.5938 | Val Loss: 12.2297\n",
      "Epoch 044 | Train Loss: 10.9979 | Val Loss: 12.9313\n",
      "Epoch 045 | Train Loss: 11.0551 | Val Loss: 10.9973\n",
      "Epoch 046 | Train Loss: 10.7262 | Val Loss: 11.8955\n",
      "Epoch 047 | Train Loss: 10.7245 | Val Loss: 22.1753\n",
      "Epoch 048 | Train Loss: 11.0574 | Val Loss: 11.4250\n",
      "Epoch 049 | Train Loss: 12.1368 | Val Loss: 21.5880\n",
      "Epoch 050 | Train Loss: 11.3901 | Val Loss: 11.1717\n",
      "Early stopping triggered at epoch 50\n"
     ]
    },
    {
     "data": {
      "text/html": [],
      "text/plain": [
       "<IPython.core.display.HTML object>"
      ]
     },
     "metadata": {},
     "output_type": "display_data"
    },
    {
     "data": {
      "text/html": [
       "<br>    <style><br>        .wandb-row {<br>            display: flex;<br>            flex-direction: row;<br>            flex-wrap: wrap;<br>            justify-content: flex-start;<br>            width: 100%;<br>        }<br>        .wandb-col {<br>            display: flex;<br>            flex-direction: column;<br>            flex-basis: 100%;<br>            flex: 1;<br>            padding: 10px;<br>        }<br>    </style><br><div class=\"wandb-row\"><div class=\"wandb-col\"><h3>Run history:</h3><br/><table class=\"wandb\"><tr><td>epoch</td><td>▁▁▁▁▂▂▂▂▂▂▃▃▃▃▃▄▄▄▄▄▅▅▅▅▅▅▆▆▆▆▆▇▇▇▇▇▇███</td></tr><tr><td>train_loss</td><td>█▁▁▁▁▁▁▁▁▁▁▁▁▁▁▁▁▁▁▁▁▁▁▁▁▁▁▁▁▁▁▁▁▁▁▁▁▁▁▁</td></tr><tr><td>val_loss</td><td>█▂▂▂▂▁▁▁▁▁▁▁▁▁▁▁▁▁▁▁▁▁▁▁▁▁▁▁▁▁▁▁▁▁▁▁▁▁▁▁</td></tr></table><br/></div><div class=\"wandb-col\"><h3>Run summary:</h3><br/><table class=\"wandb\"><tr><td>epoch</td><td>50</td></tr><tr><td>train_loss</td><td>11.39008</td></tr><tr><td>val_loss</td><td>11.17175</td></tr></table><br/></div></div>"
      ],
      "text/plain": [
       "<IPython.core.display.HTML object>"
      ]
     },
     "metadata": {},
     "output_type": "display_data"
    },
    {
     "data": {
      "text/html": [
       " View run <strong style=\"color:#cdcd00\">twilight-meadow-49</strong> at: <a href='https://wandb.ai/yixuan228-imperial-college-london/DE_Groupwork_G4_stage1/runs/deacr3is' target=\"_blank\">https://wandb.ai/yixuan228-imperial-college-london/DE_Groupwork_G4_stage1/runs/deacr3is</a><br> View project at: <a href='https://wandb.ai/yixuan228-imperial-college-london/DE_Groupwork_G4_stage1' target=\"_blank\">https://wandb.ai/yixuan228-imperial-college-london/DE_Groupwork_G4_stage1</a><br>Synced 5 W&B file(s), 0 media file(s), 0 artifact file(s) and 0 other file(s)"
      ],
      "text/plain": [
       "<IPython.core.display.HTML object>"
      ]
     },
     "metadata": {},
     "output_type": "display_data"
    },
    {
     "data": {
      "text/html": [
       "Find logs at: <code>.\\wandb\\run-20250321_005157-deacr3is\\logs</code>"
      ],
      "text/plain": [
       "<IPython.core.display.HTML object>"
      ]
     },
     "metadata": {},
     "output_type": "display_data"
    },
    {
     "data": {
      "text/html": [
       "Tracking run with wandb version 0.19.7"
      ],
      "text/plain": [
       "<IPython.core.display.HTML object>"
      ]
     },
     "metadata": {},
     "output_type": "display_data"
    },
    {
     "data": {
      "text/html": [
       "Run data is saved locally in <code>d:\\Projects\\MSc_DE_GroupWork4\\Scripts\\wandb\\run-20250321_005210-v9szukub</code>"
      ],
      "text/plain": [
       "<IPython.core.display.HTML object>"
      ]
     },
     "metadata": {},
     "output_type": "display_data"
    },
    {
     "data": {
      "text/html": [
       "Syncing run <strong><a href='https://wandb.ai/yixuan228-imperial-college-london/DE_Groupwork_G4_stage1/runs/v9szukub' target=\"_blank\">valiant-lion-50</a></strong> to <a href='https://wandb.ai/yixuan228-imperial-college-london/DE_Groupwork_G4_stage1' target=\"_blank\">Weights & Biases</a> (<a href='https://wandb.me/developer-guide' target=\"_blank\">docs</a>)<br>"
      ],
      "text/plain": [
       "<IPython.core.display.HTML object>"
      ]
     },
     "metadata": {},
     "output_type": "display_data"
    },
    {
     "data": {
      "text/html": [
       " View project at <a href='https://wandb.ai/yixuan228-imperial-college-london/DE_Groupwork_G4_stage1' target=\"_blank\">https://wandb.ai/yixuan228-imperial-college-london/DE_Groupwork_G4_stage1</a>"
      ],
      "text/plain": [
       "<IPython.core.display.HTML object>"
      ]
     },
     "metadata": {},
     "output_type": "display_data"
    },
    {
     "data": {
      "text/html": [
       " View run at <a href='https://wandb.ai/yixuan228-imperial-college-london/DE_Groupwork_G4_stage1/runs/v9szukub' target=\"_blank\">https://wandb.ai/yixuan228-imperial-college-london/DE_Groupwork_G4_stage1/runs/v9szukub</a>"
      ],
      "text/plain": [
       "<IPython.core.display.HTML object>"
      ]
     },
     "metadata": {},
     "output_type": "display_data"
    },
    {
     "name": "stdout",
     "output_type": "stream",
     "text": [
      "Epoch 001 | Train Loss: 10231.0991 | Val Loss: 499.2174\n",
      "Epoch 002 | Train Loss: 328.1337 | Val Loss: 312.4330\n",
      "Epoch 003 | Train Loss: 190.8882 | Val Loss: 151.5523\n",
      "Epoch 004 | Train Loss: 102.1859 | Val Loss: 83.4423\n",
      "Epoch 005 | Train Loss: 63.1994 | Val Loss: 75.2912\n",
      "Epoch 006 | Train Loss: 57.7000 | Val Loss: 62.3364\n",
      "Epoch 007 | Train Loss: 34.4671 | Val Loss: 81.8713\n",
      "Epoch 008 | Train Loss: 50.2871 | Val Loss: 45.3024\n",
      "Epoch 009 | Train Loss: 36.1710 | Val Loss: 38.4446\n",
      "Epoch 010 | Train Loss: 24.7845 | Val Loss: 43.1100\n",
      "Epoch 011 | Train Loss: 26.4989 | Val Loss: 27.2867\n",
      "Epoch 012 | Train Loss: 35.2149 | Val Loss: 49.0132\n",
      "Epoch 013 | Train Loss: 38.6346 | Val Loss: 87.5252\n",
      "Epoch 014 | Train Loss: 47.6612 | Val Loss: 42.9471\n",
      "Epoch 015 | Train Loss: 27.0052 | Val Loss: 601.3166\n",
      "Epoch 016 | Train Loss: 146.8041 | Val Loss: 123.4397\n",
      "Early stopping triggered at epoch 16\n"
     ]
    },
    {
     "data": {
      "text/html": [],
      "text/plain": [
       "<IPython.core.display.HTML object>"
      ]
     },
     "metadata": {},
     "output_type": "display_data"
    },
    {
     "data": {
      "text/html": [
       "<br>    <style><br>        .wandb-row {<br>            display: flex;<br>            flex-direction: row;<br>            flex-wrap: wrap;<br>            justify-content: flex-start;<br>            width: 100%;<br>        }<br>        .wandb-col {<br>            display: flex;<br>            flex-direction: column;<br>            flex-basis: 100%;<br>            flex: 1;<br>            padding: 10px;<br>        }<br>    </style><br><div class=\"wandb-row\"><div class=\"wandb-col\"><h3>Run history:</h3><br/><table class=\"wandb\"><tr><td>epoch</td><td>▁▁▂▂▃▃▄▄▅▅▆▆▇▇██</td></tr><tr><td>train_loss</td><td>█▁▁▁▁▁▁▁▁▁▁▁▁▁▁▁</td></tr><tr><td>val_loss</td><td>▇▄▃▂▂▁▂▁▁▁▁▁▂▁█▂</td></tr></table><br/></div><div class=\"wandb-col\"><h3>Run summary:</h3><br/><table class=\"wandb\"><tr><td>epoch</td><td>16</td></tr><tr><td>train_loss</td><td>146.80406</td></tr><tr><td>val_loss</td><td>123.43968</td></tr></table><br/></div></div>"
      ],
      "text/plain": [
       "<IPython.core.display.HTML object>"
      ]
     },
     "metadata": {},
     "output_type": "display_data"
    },
    {
     "data": {
      "text/html": [
       " View run <strong style=\"color:#cdcd00\">valiant-lion-50</strong> at: <a href='https://wandb.ai/yixuan228-imperial-college-london/DE_Groupwork_G4_stage1/runs/v9szukub' target=\"_blank\">https://wandb.ai/yixuan228-imperial-college-london/DE_Groupwork_G4_stage1/runs/v9szukub</a><br> View project at: <a href='https://wandb.ai/yixuan228-imperial-college-london/DE_Groupwork_G4_stage1' target=\"_blank\">https://wandb.ai/yixuan228-imperial-college-london/DE_Groupwork_G4_stage1</a><br>Synced 5 W&B file(s), 0 media file(s), 0 artifact file(s) and 0 other file(s)"
      ],
      "text/plain": [
       "<IPython.core.display.HTML object>"
      ]
     },
     "metadata": {},
     "output_type": "display_data"
    },
    {
     "data": {
      "text/html": [
       "Find logs at: <code>.\\wandb\\run-20250321_005210-v9szukub\\logs</code>"
      ],
      "text/plain": [
       "<IPython.core.display.HTML object>"
      ]
     },
     "metadata": {},
     "output_type": "display_data"
    },
    {
     "data": {
      "text/html": [
       "Tracking run with wandb version 0.19.7"
      ],
      "text/plain": [
       "<IPython.core.display.HTML object>"
      ]
     },
     "metadata": {},
     "output_type": "display_data"
    },
    {
     "data": {
      "text/html": [
       "Run data is saved locally in <code>d:\\Projects\\MSc_DE_GroupWork4\\Scripts\\wandb\\run-20250321_005216-23fj9dq4</code>"
      ],
      "text/plain": [
       "<IPython.core.display.HTML object>"
      ]
     },
     "metadata": {},
     "output_type": "display_data"
    },
    {
     "data": {
      "text/html": [
       "Syncing run <strong><a href='https://wandb.ai/yixuan228-imperial-college-london/DE_Groupwork_G4_stage1/runs/23fj9dq4' target=\"_blank\">good-firefly-51</a></strong> to <a href='https://wandb.ai/yixuan228-imperial-college-london/DE_Groupwork_G4_stage1' target=\"_blank\">Weights & Biases</a> (<a href='https://wandb.me/developer-guide' target=\"_blank\">docs</a>)<br>"
      ],
      "text/plain": [
       "<IPython.core.display.HTML object>"
      ]
     },
     "metadata": {},
     "output_type": "display_data"
    },
    {
     "data": {
      "text/html": [
       " View project at <a href='https://wandb.ai/yixuan228-imperial-college-london/DE_Groupwork_G4_stage1' target=\"_blank\">https://wandb.ai/yixuan228-imperial-college-london/DE_Groupwork_G4_stage1</a>"
      ],
      "text/plain": [
       "<IPython.core.display.HTML object>"
      ]
     },
     "metadata": {},
     "output_type": "display_data"
    },
    {
     "data": {
      "text/html": [
       " View run at <a href='https://wandb.ai/yixuan228-imperial-college-london/DE_Groupwork_G4_stage1/runs/23fj9dq4' target=\"_blank\">https://wandb.ai/yixuan228-imperial-college-london/DE_Groupwork_G4_stage1/runs/23fj9dq4</a>"
      ],
      "text/plain": [
       "<IPython.core.display.HTML object>"
      ]
     },
     "metadata": {},
     "output_type": "display_data"
    },
    {
     "name": "stdout",
     "output_type": "stream",
     "text": [
      "Epoch 001 | Train Loss: 12563.6605 | Val Loss: 686.2958\n",
      "Epoch 002 | Train Loss: 467.4876 | Val Loss: 379.5508\n",
      "Epoch 003 | Train Loss: 286.0609 | Val Loss: 281.7680\n",
      "Epoch 004 | Train Loss: 205.8853 | Val Loss: 217.0164\n",
      "Epoch 005 | Train Loss: 151.7411 | Val Loss: 146.5584\n",
      "Epoch 006 | Train Loss: 107.0333 | Val Loss: 103.3613\n",
      "Epoch 007 | Train Loss: 73.0249 | Val Loss: 75.0134\n",
      "Epoch 008 | Train Loss: 51.7163 | Val Loss: 49.9416\n",
      "Epoch 009 | Train Loss: 36.7517 | Val Loss: 43.3750\n",
      "Epoch 010 | Train Loss: 27.6804 | Val Loss: 36.7540\n",
      "Epoch 011 | Train Loss: 24.7932 | Val Loss: 27.4259\n",
      "Epoch 012 | Train Loss: 20.6576 | Val Loss: 17.8797\n",
      "Epoch 013 | Train Loss: 19.1929 | Val Loss: 17.0894\n",
      "Epoch 014 | Train Loss: 17.8675 | Val Loss: 22.4751\n",
      "Epoch 015 | Train Loss: 21.2883 | Val Loss: 14.8985\n",
      "Epoch 016 | Train Loss: 16.3001 | Val Loss: 19.7020\n",
      "Epoch 017 | Train Loss: 16.9242 | Val Loss: 15.6440\n",
      "Epoch 018 | Train Loss: 14.6145 | Val Loss: 17.0224\n",
      "Epoch 019 | Train Loss: 14.3372 | Val Loss: 24.1383\n",
      "Epoch 020 | Train Loss: 14.4373 | Val Loss: 16.2347\n",
      "Early stopping triggered at epoch 20\n"
     ]
    },
    {
     "data": {
      "text/html": [],
      "text/plain": [
       "<IPython.core.display.HTML object>"
      ]
     },
     "metadata": {},
     "output_type": "display_data"
    },
    {
     "data": {
      "text/html": [
       "<br>    <style><br>        .wandb-row {<br>            display: flex;<br>            flex-direction: row;<br>            flex-wrap: wrap;<br>            justify-content: flex-start;<br>            width: 100%;<br>        }<br>        .wandb-col {<br>            display: flex;<br>            flex-direction: column;<br>            flex-basis: 100%;<br>            flex: 1;<br>            padding: 10px;<br>        }<br>    </style><br><div class=\"wandb-row\"><div class=\"wandb-col\"><h3>Run history:</h3><br/><table class=\"wandb\"><tr><td>epoch</td><td>▁▁▂▂▂▃▃▄▄▄▅▅▅▆▆▇▇▇██</td></tr><tr><td>train_loss</td><td>█▁▁▁▁▁▁▁▁▁▁▁▁▁▁▁▁▁▁▁</td></tr><tr><td>val_loss</td><td>█▅▄▃▂▂▂▁▁▁▁▁▁▁▁▁▁▁▁▁</td></tr></table><br/></div><div class=\"wandb-col\"><h3>Run summary:</h3><br/><table class=\"wandb\"><tr><td>epoch</td><td>20</td></tr><tr><td>train_loss</td><td>14.43727</td></tr><tr><td>val_loss</td><td>16.23474</td></tr></table><br/></div></div>"
      ],
      "text/plain": [
       "<IPython.core.display.HTML object>"
      ]
     },
     "metadata": {},
     "output_type": "display_data"
    },
    {
     "data": {
      "text/html": [
       " View run <strong style=\"color:#cdcd00\">good-firefly-51</strong> at: <a href='https://wandb.ai/yixuan228-imperial-college-london/DE_Groupwork_G4_stage1/runs/23fj9dq4' target=\"_blank\">https://wandb.ai/yixuan228-imperial-college-london/DE_Groupwork_G4_stage1/runs/23fj9dq4</a><br> View project at: <a href='https://wandb.ai/yixuan228-imperial-college-london/DE_Groupwork_G4_stage1' target=\"_blank\">https://wandb.ai/yixuan228-imperial-college-london/DE_Groupwork_G4_stage1</a><br>Synced 5 W&B file(s), 0 media file(s), 0 artifact file(s) and 0 other file(s)"
      ],
      "text/plain": [
       "<IPython.core.display.HTML object>"
      ]
     },
     "metadata": {},
     "output_type": "display_data"
    },
    {
     "data": {
      "text/html": [
       "Find logs at: <code>.\\wandb\\run-20250321_005216-23fj9dq4\\logs</code>"
      ],
      "text/plain": [
       "<IPython.core.display.HTML object>"
      ]
     },
     "metadata": {},
     "output_type": "display_data"
    },
    {
     "data": {
      "text/html": [
       "Tracking run with wandb version 0.19.7"
      ],
      "text/plain": [
       "<IPython.core.display.HTML object>"
      ]
     },
     "metadata": {},
     "output_type": "display_data"
    },
    {
     "data": {
      "text/html": [
       "Run data is saved locally in <code>d:\\Projects\\MSc_DE_GroupWork4\\Scripts\\wandb\\run-20250321_005222-thaamvba</code>"
      ],
      "text/plain": [
       "<IPython.core.display.HTML object>"
      ]
     },
     "metadata": {},
     "output_type": "display_data"
    },
    {
     "data": {
      "text/html": [
       "Syncing run <strong><a href='https://wandb.ai/yixuan228-imperial-college-london/DE_Groupwork_G4_stage1/runs/thaamvba' target=\"_blank\">dutiful-butterfly-52</a></strong> to <a href='https://wandb.ai/yixuan228-imperial-college-london/DE_Groupwork_G4_stage1' target=\"_blank\">Weights & Biases</a> (<a href='https://wandb.me/developer-guide' target=\"_blank\">docs</a>)<br>"
      ],
      "text/plain": [
       "<IPython.core.display.HTML object>"
      ]
     },
     "metadata": {},
     "output_type": "display_data"
    },
    {
     "data": {
      "text/html": [
       " View project at <a href='https://wandb.ai/yixuan228-imperial-college-london/DE_Groupwork_G4_stage1' target=\"_blank\">https://wandb.ai/yixuan228-imperial-college-london/DE_Groupwork_G4_stage1</a>"
      ],
      "text/plain": [
       "<IPython.core.display.HTML object>"
      ]
     },
     "metadata": {},
     "output_type": "display_data"
    },
    {
     "data": {
      "text/html": [
       " View run at <a href='https://wandb.ai/yixuan228-imperial-college-london/DE_Groupwork_G4_stage1/runs/thaamvba' target=\"_blank\">https://wandb.ai/yixuan228-imperial-college-london/DE_Groupwork_G4_stage1/runs/thaamvba</a>"
      ],
      "text/plain": [
       "<IPython.core.display.HTML object>"
      ]
     },
     "metadata": {},
     "output_type": "display_data"
    },
    {
     "name": "stdout",
     "output_type": "stream",
     "text": [
      "Epoch 001 | Train Loss: 57719.5908 | Val Loss: 31819.2674\n",
      "Epoch 002 | Train Loss: 9468.9492 | Val Loss: 2656.9485\n",
      "Epoch 003 | Train Loss: 1830.7863 | Val Loss: 1312.0033\n",
      "Epoch 004 | Train Loss: 1050.2241 | Val Loss: 942.8868\n",
      "Epoch 005 | Train Loss: 806.8395 | Val Loss: 789.0333\n",
      "Epoch 006 | Train Loss: 684.0044 | Val Loss: 679.7092\n",
      "Epoch 007 | Train Loss: 593.8284 | Val Loss: 598.3477\n",
      "Epoch 008 | Train Loss: 522.9638 | Val Loss: 538.4953\n",
      "Epoch 009 | Train Loss: 464.7954 | Val Loss: 478.5147\n",
      "Epoch 010 | Train Loss: 417.0462 | Val Loss: 435.0740\n",
      "Epoch 011 | Train Loss: 375.7448 | Val Loss: 396.7316\n",
      "Epoch 012 | Train Loss: 341.3802 | Val Loss: 366.7629\n",
      "Epoch 013 | Train Loss: 313.1228 | Val Loss: 338.9520\n",
      "Epoch 014 | Train Loss: 287.1099 | Val Loss: 315.8081\n",
      "Epoch 015 | Train Loss: 267.2188 | Val Loss: 295.9254\n",
      "Epoch 016 | Train Loss: 247.4772 | Val Loss: 275.4009\n",
      "Epoch 017 | Train Loss: 231.0745 | Val Loss: 258.4303\n",
      "Epoch 018 | Train Loss: 215.9157 | Val Loss: 243.1834\n",
      "Epoch 019 | Train Loss: 200.6696 | Val Loss: 227.7388\n",
      "Epoch 020 | Train Loss: 187.9737 | Val Loss: 211.7623\n",
      "Epoch 021 | Train Loss: 174.8014 | Val Loss: 198.0713\n",
      "Epoch 022 | Train Loss: 163.6068 | Val Loss: 185.8406\n",
      "Epoch 023 | Train Loss: 152.0814 | Val Loss: 169.5974\n",
      "Epoch 024 | Train Loss: 139.8900 | Val Loss: 158.2201\n",
      "Epoch 025 | Train Loss: 129.2003 | Val Loss: 145.1817\n",
      "Epoch 026 | Train Loss: 119.6978 | Val Loss: 133.6736\n",
      "Epoch 027 | Train Loss: 109.1999 | Val Loss: 123.9449\n",
      "Epoch 028 | Train Loss: 100.4250 | Val Loss: 112.3160\n",
      "Epoch 029 | Train Loss: 91.9444 | Val Loss: 103.2001\n",
      "Epoch 030 | Train Loss: 83.9265 | Val Loss: 92.6125\n",
      "Epoch 031 | Train Loss: 75.7773 | Val Loss: 84.2715\n",
      "Epoch 032 | Train Loss: 69.6959 | Val Loss: 76.5658\n",
      "Epoch 033 | Train Loss: 65.7635 | Val Loss: 68.9529\n",
      "Epoch 034 | Train Loss: 57.9494 | Val Loss: 62.6864\n",
      "Epoch 035 | Train Loss: 52.9917 | Val Loss: 56.2060\n",
      "Epoch 036 | Train Loss: 48.4469 | Val Loss: 51.8397\n",
      "Epoch 037 | Train Loss: 43.9559 | Val Loss: 46.8636\n",
      "Epoch 038 | Train Loss: 41.0384 | Val Loss: 42.3249\n",
      "Epoch 039 | Train Loss: 37.3635 | Val Loss: 38.5003\n",
      "Epoch 040 | Train Loss: 34.4504 | Val Loss: 35.4592\n",
      "Epoch 041 | Train Loss: 32.2937 | Val Loss: 33.1682\n",
      "Epoch 042 | Train Loss: 29.9863 | Val Loss: 31.9502\n",
      "Epoch 043 | Train Loss: 28.7548 | Val Loss: 29.4700\n",
      "Epoch 044 | Train Loss: 26.9506 | Val Loss: 27.3466\n",
      "Epoch 045 | Train Loss: 25.2113 | Val Loss: 26.7814\n",
      "Epoch 046 | Train Loss: 24.2150 | Val Loss: 24.1426\n",
      "Epoch 047 | Train Loss: 22.7248 | Val Loss: 23.3360\n",
      "Epoch 048 | Train Loss: 21.8766 | Val Loss: 22.5608\n",
      "Epoch 049 | Train Loss: 21.1941 | Val Loss: 22.4396\n",
      "Epoch 050 | Train Loss: 20.4650 | Val Loss: 20.4422\n",
      "Epoch 051 | Train Loss: 19.5834 | Val Loss: 21.6190\n",
      "Epoch 052 | Train Loss: 19.2752 | Val Loss: 19.6640\n",
      "Epoch 053 | Train Loss: 18.4771 | Val Loss: 20.4647\n",
      "Epoch 054 | Train Loss: 17.7188 | Val Loss: 20.1315\n",
      "Epoch 055 | Train Loss: 17.1457 | Val Loss: 19.0563\n",
      "Epoch 056 | Train Loss: 16.8006 | Val Loss: 17.8802\n",
      "Epoch 057 | Train Loss: 16.1301 | Val Loss: 20.6182\n",
      "Epoch 058 | Train Loss: 16.6923 | Val Loss: 16.4645\n",
      "Epoch 059 | Train Loss: 15.7831 | Val Loss: 15.3345\n",
      "Epoch 060 | Train Loss: 14.7692 | Val Loss: 15.3081\n",
      "Epoch 061 | Train Loss: 14.4374 | Val Loss: 14.7568\n",
      "Epoch 062 | Train Loss: 14.1482 | Val Loss: 19.0274\n",
      "Epoch 063 | Train Loss: 14.5754 | Val Loss: 15.5624\n",
      "Epoch 064 | Train Loss: 13.4484 | Val Loss: 13.8132\n",
      "Epoch 065 | Train Loss: 13.6988 | Val Loss: 15.8773\n",
      "Epoch 066 | Train Loss: 12.9533 | Val Loss: 13.6028\n",
      "Epoch 067 | Train Loss: 12.7564 | Val Loss: 13.1152\n",
      "Epoch 068 | Train Loss: 12.4145 | Val Loss: 13.0616\n",
      "Epoch 069 | Train Loss: 12.0425 | Val Loss: 12.5181\n",
      "Epoch 070 | Train Loss: 12.0262 | Val Loss: 13.0809\n",
      "Epoch 071 | Train Loss: 11.4303 | Val Loss: 16.0934\n",
      "Epoch 072 | Train Loss: 11.4886 | Val Loss: 13.5143\n",
      "Epoch 073 | Train Loss: 11.2025 | Val Loss: 13.6402\n",
      "Epoch 074 | Train Loss: 11.5111 | Val Loss: 12.0637\n",
      "Epoch 075 | Train Loss: 11.2314 | Val Loss: 12.5271\n",
      "Epoch 076 | Train Loss: 10.4632 | Val Loss: 11.1512\n",
      "Epoch 077 | Train Loss: 10.6378 | Val Loss: 11.5348\n",
      "Epoch 078 | Train Loss: 10.5174 | Val Loss: 12.7667\n",
      "Epoch 079 | Train Loss: 10.8667 | Val Loss: 12.0035\n",
      "Epoch 080 | Train Loss: 10.5426 | Val Loss: 10.7089\n",
      "Epoch 081 | Train Loss: 10.1302 | Val Loss: 12.0077\n",
      "Epoch 082 | Train Loss: 10.2225 | Val Loss: 11.0650\n",
      "Epoch 083 | Train Loss: 9.5711 | Val Loss: 10.4634\n",
      "Epoch 084 | Train Loss: 9.5585 | Val Loss: 13.1377\n",
      "Epoch 085 | Train Loss: 10.5594 | Val Loss: 10.4367\n",
      "Epoch 086 | Train Loss: 9.3352 | Val Loss: 10.1176\n",
      "Epoch 087 | Train Loss: 9.5592 | Val Loss: 11.5955\n",
      "Epoch 088 | Train Loss: 9.6160 | Val Loss: 13.5659\n",
      "Epoch 089 | Train Loss: 9.1606 | Val Loss: 13.2032\n",
      "Epoch 090 | Train Loss: 9.6841 | Val Loss: 10.9362\n",
      "Epoch 091 | Train Loss: 8.9775 | Val Loss: 12.0428\n",
      "Early stopping triggered at epoch 91\n"
     ]
    },
    {
     "data": {
      "text/html": [],
      "text/plain": [
       "<IPython.core.display.HTML object>"
      ]
     },
     "metadata": {},
     "output_type": "display_data"
    },
    {
     "data": {
      "text/html": [
       "<br>    <style><br>        .wandb-row {<br>            display: flex;<br>            flex-direction: row;<br>            flex-wrap: wrap;<br>            justify-content: flex-start;<br>            width: 100%;<br>        }<br>        .wandb-col {<br>            display: flex;<br>            flex-direction: column;<br>            flex-basis: 100%;<br>            flex: 1;<br>            padding: 10px;<br>        }<br>    </style><br><div class=\"wandb-row\"><div class=\"wandb-col\"><h3>Run history:</h3><br/><table class=\"wandb\"><tr><td>epoch</td><td>▁▁▁▁▁▂▂▂▂▂▂▃▃▃▃▃▃▃▄▄▄▄▅▅▅▅▅▅▆▆▆▇▇▇▇▇▇███</td></tr><tr><td>train_loss</td><td>█▁▁▁▁▁▁▁▁▁▁▁▁▁▁▁▁▁▁▁▁▁▁▁▁▁▁▁▁▁▁▁▁▁▁▁▁▁▁▁</td></tr><tr><td>val_loss</td><td>█▁▁▁▁▁▁▁▁▁▁▁▁▁▁▁▁▁▁▁▁▁▁▁▁▁▁▁▁▁▁▁▁▁▁▁▁▁▁▁</td></tr></table><br/></div><div class=\"wandb-col\"><h3>Run summary:</h3><br/><table class=\"wandb\"><tr><td>epoch</td><td>91</td></tr><tr><td>train_loss</td><td>8.97748</td></tr><tr><td>val_loss</td><td>12.04282</td></tr></table><br/></div></div>"
      ],
      "text/plain": [
       "<IPython.core.display.HTML object>"
      ]
     },
     "metadata": {},
     "output_type": "display_data"
    },
    {
     "data": {
      "text/html": [
       " View run <strong style=\"color:#cdcd00\">dutiful-butterfly-52</strong> at: <a href='https://wandb.ai/yixuan228-imperial-college-london/DE_Groupwork_G4_stage1/runs/thaamvba' target=\"_blank\">https://wandb.ai/yixuan228-imperial-college-london/DE_Groupwork_G4_stage1/runs/thaamvba</a><br> View project at: <a href='https://wandb.ai/yixuan228-imperial-college-london/DE_Groupwork_G4_stage1' target=\"_blank\">https://wandb.ai/yixuan228-imperial-college-london/DE_Groupwork_G4_stage1</a><br>Synced 5 W&B file(s), 0 media file(s), 0 artifact file(s) and 0 other file(s)"
      ],
      "text/plain": [
       "<IPython.core.display.HTML object>"
      ]
     },
     "metadata": {},
     "output_type": "display_data"
    },
    {
     "data": {
      "text/html": [
       "Find logs at: <code>.\\wandb\\run-20250321_005222-thaamvba\\logs</code>"
      ],
      "text/plain": [
       "<IPython.core.display.HTML object>"
      ]
     },
     "metadata": {},
     "output_type": "display_data"
    },
    {
     "data": {
      "text/html": [
       "Tracking run with wandb version 0.19.7"
      ],
      "text/plain": [
       "<IPython.core.display.HTML object>"
      ]
     },
     "metadata": {},
     "output_type": "display_data"
    },
    {
     "data": {
      "text/html": [
       "Run data is saved locally in <code>d:\\Projects\\MSc_DE_GroupWork4\\Scripts\\wandb\\run-20250321_005240-2axo4y48</code>"
      ],
      "text/plain": [
       "<IPython.core.display.HTML object>"
      ]
     },
     "metadata": {},
     "output_type": "display_data"
    },
    {
     "data": {
      "text/html": [
       "Syncing run <strong><a href='https://wandb.ai/yixuan228-imperial-college-london/DE_Groupwork_G4_stage1/runs/2axo4y48' target=\"_blank\">devoted-glade-53</a></strong> to <a href='https://wandb.ai/yixuan228-imperial-college-london/DE_Groupwork_G4_stage1' target=\"_blank\">Weights & Biases</a> (<a href='https://wandb.me/developer-guide' target=\"_blank\">docs</a>)<br>"
      ],
      "text/plain": [
       "<IPython.core.display.HTML object>"
      ]
     },
     "metadata": {},
     "output_type": "display_data"
    },
    {
     "data": {
      "text/html": [
       " View project at <a href='https://wandb.ai/yixuan228-imperial-college-london/DE_Groupwork_G4_stage1' target=\"_blank\">https://wandb.ai/yixuan228-imperial-college-london/DE_Groupwork_G4_stage1</a>"
      ],
      "text/plain": [
       "<IPython.core.display.HTML object>"
      ]
     },
     "metadata": {},
     "output_type": "display_data"
    },
    {
     "data": {
      "text/html": [
       " View run at <a href='https://wandb.ai/yixuan228-imperial-college-london/DE_Groupwork_G4_stage1/runs/2axo4y48' target=\"_blank\">https://wandb.ai/yixuan228-imperial-college-london/DE_Groupwork_G4_stage1/runs/2axo4y48</a>"
      ],
      "text/plain": [
       "<IPython.core.display.HTML object>"
      ]
     },
     "metadata": {},
     "output_type": "display_data"
    },
    {
     "name": "stdout",
     "output_type": "stream",
     "text": [
      "Epoch 001 | Train Loss: 32846.7535 | Val Loss: 638.2401\n",
      "Epoch 002 | Train Loss: 302.7240 | Val Loss: 190.4928\n",
      "Epoch 003 | Train Loss: 141.4324 | Val Loss: 123.2716\n",
      "Epoch 004 | Train Loss: 102.9270 | Val Loss: 94.4337\n",
      "Epoch 005 | Train Loss: 86.1156 | Val Loss: 84.5812\n",
      "Epoch 006 | Train Loss: 67.4241 | Val Loss: 70.6719\n",
      "Epoch 007 | Train Loss: 58.3880 | Val Loss: 94.6009\n",
      "Epoch 008 | Train Loss: 59.8513 | Val Loss: 66.1737\n",
      "Epoch 009 | Train Loss: 48.1419 | Val Loss: 47.5974\n",
      "Epoch 010 | Train Loss: 53.8375 | Val Loss: 635.8189\n",
      "Epoch 011 | Train Loss: 320.7371 | Val Loss: 68.5617\n",
      "Epoch 012 | Train Loss: 45.9428 | Val Loss: 48.7505\n",
      "Epoch 013 | Train Loss: 41.0859 | Val Loss: 39.7456\n",
      "Epoch 014 | Train Loss: 37.0141 | Val Loss: 87.3835\n",
      "Epoch 015 | Train Loss: 49.4858 | Val Loss: 36.7934\n",
      "Epoch 016 | Train Loss: 30.0337 | Val Loss: 28.1973\n",
      "Epoch 017 | Train Loss: 29.1790 | Val Loss: 30.0497\n",
      "Epoch 018 | Train Loss: 28.4970 | Val Loss: 221.9906\n",
      "Epoch 019 | Train Loss: 98.7216 | Val Loss: 32.7896\n",
      "Epoch 020 | Train Loss: 28.8008 | Val Loss: 35.1504\n",
      "Epoch 021 | Train Loss: 30.3984 | Val Loss: 39.7374\n",
      "Early stopping triggered at epoch 21\n"
     ]
    },
    {
     "data": {
      "text/html": [],
      "text/plain": [
       "<IPython.core.display.HTML object>"
      ]
     },
     "metadata": {},
     "output_type": "display_data"
    },
    {
     "data": {
      "text/html": [
       "<br>    <style><br>        .wandb-row {<br>            display: flex;<br>            flex-direction: row;<br>            flex-wrap: wrap;<br>            justify-content: flex-start;<br>            width: 100%;<br>        }<br>        .wandb-col {<br>            display: flex;<br>            flex-direction: column;<br>            flex-basis: 100%;<br>            flex: 1;<br>            padding: 10px;<br>        }<br>    </style><br><div class=\"wandb-row\"><div class=\"wandb-col\"><h3>Run history:</h3><br/><table class=\"wandb\"><tr><td>epoch</td><td>▁▁▂▂▂▃▃▃▄▄▅▅▅▆▆▆▇▇▇██</td></tr><tr><td>train_loss</td><td>█▁▁▁▁▁▁▁▁▁▁▁▁▁▁▁▁▁▁▁▁</td></tr><tr><td>val_loss</td><td>█▃▂▂▂▁▂▁▁█▁▁▁▂▁▁▁▃▁▁▁</td></tr></table><br/></div><div class=\"wandb-col\"><h3>Run summary:</h3><br/><table class=\"wandb\"><tr><td>epoch</td><td>21</td></tr><tr><td>train_loss</td><td>30.39844</td></tr><tr><td>val_loss</td><td>39.73742</td></tr></table><br/></div></div>"
      ],
      "text/plain": [
       "<IPython.core.display.HTML object>"
      ]
     },
     "metadata": {},
     "output_type": "display_data"
    },
    {
     "data": {
      "text/html": [
       " View run <strong style=\"color:#cdcd00\">devoted-glade-53</strong> at: <a href='https://wandb.ai/yixuan228-imperial-college-london/DE_Groupwork_G4_stage1/runs/2axo4y48' target=\"_blank\">https://wandb.ai/yixuan228-imperial-college-london/DE_Groupwork_G4_stage1/runs/2axo4y48</a><br> View project at: <a href='https://wandb.ai/yixuan228-imperial-college-london/DE_Groupwork_G4_stage1' target=\"_blank\">https://wandb.ai/yixuan228-imperial-college-london/DE_Groupwork_G4_stage1</a><br>Synced 5 W&B file(s), 0 media file(s), 0 artifact file(s) and 0 other file(s)"
      ],
      "text/plain": [
       "<IPython.core.display.HTML object>"
      ]
     },
     "metadata": {},
     "output_type": "display_data"
    },
    {
     "data": {
      "text/html": [
       "Find logs at: <code>.\\wandb\\run-20250321_005240-2axo4y48\\logs</code>"
      ],
      "text/plain": [
       "<IPython.core.display.HTML object>"
      ]
     },
     "metadata": {},
     "output_type": "display_data"
    },
    {
     "data": {
      "text/html": [
       "Tracking run with wandb version 0.19.7"
      ],
      "text/plain": [
       "<IPython.core.display.HTML object>"
      ]
     },
     "metadata": {},
     "output_type": "display_data"
    },
    {
     "data": {
      "text/html": [
       "Run data is saved locally in <code>d:\\Projects\\MSc_DE_GroupWork4\\Scripts\\wandb\\run-20250321_005246-ei92thtx</code>"
      ],
      "text/plain": [
       "<IPython.core.display.HTML object>"
      ]
     },
     "metadata": {},
     "output_type": "display_data"
    },
    {
     "data": {
      "text/html": [
       "Syncing run <strong><a href='https://wandb.ai/yixuan228-imperial-college-london/DE_Groupwork_G4_stage1/runs/ei92thtx' target=\"_blank\">dauntless-surf-54</a></strong> to <a href='https://wandb.ai/yixuan228-imperial-college-london/DE_Groupwork_G4_stage1' target=\"_blank\">Weights & Biases</a> (<a href='https://wandb.me/developer-guide' target=\"_blank\">docs</a>)<br>"
      ],
      "text/plain": [
       "<IPython.core.display.HTML object>"
      ]
     },
     "metadata": {},
     "output_type": "display_data"
    },
    {
     "data": {
      "text/html": [
       " View project at <a href='https://wandb.ai/yixuan228-imperial-college-london/DE_Groupwork_G4_stage1' target=\"_blank\">https://wandb.ai/yixuan228-imperial-college-london/DE_Groupwork_G4_stage1</a>"
      ],
      "text/plain": [
       "<IPython.core.display.HTML object>"
      ]
     },
     "metadata": {},
     "output_type": "display_data"
    },
    {
     "data": {
      "text/html": [
       " View run at <a href='https://wandb.ai/yixuan228-imperial-college-london/DE_Groupwork_G4_stage1/runs/ei92thtx' target=\"_blank\">https://wandb.ai/yixuan228-imperial-college-london/DE_Groupwork_G4_stage1/runs/ei92thtx</a>"
      ],
      "text/plain": [
       "<IPython.core.display.HTML object>"
      ]
     },
     "metadata": {},
     "output_type": "display_data"
    },
    {
     "name": "stdout",
     "output_type": "stream",
     "text": [
      "Epoch 001 | Train Loss: 8860.6798 | Val Loss: 484.6589\n",
      "Epoch 002 | Train Loss: 322.5511 | Val Loss: 255.0711\n",
      "Epoch 003 | Train Loss: 175.3148 | Val Loss: 185.9105\n",
      "Epoch 004 | Train Loss: 104.0856 | Val Loss: 84.3929\n",
      "Epoch 005 | Train Loss: 58.1954 | Val Loss: 48.0875\n",
      "Epoch 006 | Train Loss: 40.4636 | Val Loss: 30.2694\n",
      "Epoch 007 | Train Loss: 39.5800 | Val Loss: 61.3914\n",
      "Epoch 008 | Train Loss: 35.8798 | Val Loss: 26.5390\n",
      "Epoch 009 | Train Loss: 25.7912 | Val Loss: 25.2928\n",
      "Epoch 010 | Train Loss: 28.1006 | Val Loss: 22.0323\n",
      "Epoch 011 | Train Loss: 21.3522 | Val Loss: 34.2554\n",
      "Epoch 012 | Train Loss: 20.9658 | Val Loss: 17.5963\n",
      "Epoch 013 | Train Loss: 20.0518 | Val Loss: 27.7720\n",
      "Epoch 014 | Train Loss: 29.8025 | Val Loss: 16.3870\n",
      "Epoch 015 | Train Loss: 15.6294 | Val Loss: 15.7477\n",
      "Epoch 016 | Train Loss: 16.7209 | Val Loss: 18.5505\n",
      "Epoch 017 | Train Loss: 14.2245 | Val Loss: 16.6924\n",
      "Epoch 018 | Train Loss: 26.0129 | Val Loss: 211.0936\n",
      "Epoch 019 | Train Loss: 44.8953 | Val Loss: 86.7325\n",
      "Epoch 020 | Train Loss: 21.1903 | Val Loss: 23.2741\n",
      "Early stopping triggered at epoch 20\n"
     ]
    },
    {
     "data": {
      "text/html": [],
      "text/plain": [
       "<IPython.core.display.HTML object>"
      ]
     },
     "metadata": {},
     "output_type": "display_data"
    },
    {
     "data": {
      "text/html": [
       "<br>    <style><br>        .wandb-row {<br>            display: flex;<br>            flex-direction: row;<br>            flex-wrap: wrap;<br>            justify-content: flex-start;<br>            width: 100%;<br>        }<br>        .wandb-col {<br>            display: flex;<br>            flex-direction: column;<br>            flex-basis: 100%;<br>            flex: 1;<br>            padding: 10px;<br>        }<br>    </style><br><div class=\"wandb-row\"><div class=\"wandb-col\"><h3>Run history:</h3><br/><table class=\"wandb\"><tr><td>epoch</td><td>▁▁▂▂▂▃▃▄▄▄▅▅▅▆▆▇▇▇██</td></tr><tr><td>train_loss</td><td>█▁▁▁▁▁▁▁▁▁▁▁▁▁▁▁▁▁▁▁</td></tr><tr><td>val_loss</td><td>█▅▄▂▁▁▂▁▁▁▁▁▁▁▁▁▁▄▂▁</td></tr></table><br/></div><div class=\"wandb-col\"><h3>Run summary:</h3><br/><table class=\"wandb\"><tr><td>epoch</td><td>20</td></tr><tr><td>train_loss</td><td>21.19032</td></tr><tr><td>val_loss</td><td>23.27406</td></tr></table><br/></div></div>"
      ],
      "text/plain": [
       "<IPython.core.display.HTML object>"
      ]
     },
     "metadata": {},
     "output_type": "display_data"
    },
    {
     "data": {
      "text/html": [
       " View run <strong style=\"color:#cdcd00\">dauntless-surf-54</strong> at: <a href='https://wandb.ai/yixuan228-imperial-college-london/DE_Groupwork_G4_stage1/runs/ei92thtx' target=\"_blank\">https://wandb.ai/yixuan228-imperial-college-london/DE_Groupwork_G4_stage1/runs/ei92thtx</a><br> View project at: <a href='https://wandb.ai/yixuan228-imperial-college-london/DE_Groupwork_G4_stage1' target=\"_blank\">https://wandb.ai/yixuan228-imperial-college-london/DE_Groupwork_G4_stage1</a><br>Synced 5 W&B file(s), 0 media file(s), 0 artifact file(s) and 0 other file(s)"
      ],
      "text/plain": [
       "<IPython.core.display.HTML object>"
      ]
     },
     "metadata": {},
     "output_type": "display_data"
    },
    {
     "data": {
      "text/html": [
       "Find logs at: <code>.\\wandb\\run-20250321_005246-ei92thtx\\logs</code>"
      ],
      "text/plain": [
       "<IPython.core.display.HTML object>"
      ]
     },
     "metadata": {},
     "output_type": "display_data"
    },
    {
     "data": {
      "text/html": [
       "Tracking run with wandb version 0.19.7"
      ],
      "text/plain": [
       "<IPython.core.display.HTML object>"
      ]
     },
     "metadata": {},
     "output_type": "display_data"
    },
    {
     "data": {
      "text/html": [
       "Run data is saved locally in <code>d:\\Projects\\MSc_DE_GroupWork4\\Scripts\\wandb\\run-20250321_005253-0rb7i5m2</code>"
      ],
      "text/plain": [
       "<IPython.core.display.HTML object>"
      ]
     },
     "metadata": {},
     "output_type": "display_data"
    },
    {
     "data": {
      "text/html": [
       "Syncing run <strong><a href='https://wandb.ai/yixuan228-imperial-college-london/DE_Groupwork_G4_stage1/runs/0rb7i5m2' target=\"_blank\">bumbling-voice-55</a></strong> to <a href='https://wandb.ai/yixuan228-imperial-college-london/DE_Groupwork_G4_stage1' target=\"_blank\">Weights & Biases</a> (<a href='https://wandb.me/developer-guide' target=\"_blank\">docs</a>)<br>"
      ],
      "text/plain": [
       "<IPython.core.display.HTML object>"
      ]
     },
     "metadata": {},
     "output_type": "display_data"
    },
    {
     "data": {
      "text/html": [
       " View project at <a href='https://wandb.ai/yixuan228-imperial-college-london/DE_Groupwork_G4_stage1' target=\"_blank\">https://wandb.ai/yixuan228-imperial-college-london/DE_Groupwork_G4_stage1</a>"
      ],
      "text/plain": [
       "<IPython.core.display.HTML object>"
      ]
     },
     "metadata": {},
     "output_type": "display_data"
    },
    {
     "data": {
      "text/html": [
       " View run at <a href='https://wandb.ai/yixuan228-imperial-college-london/DE_Groupwork_G4_stage1/runs/0rb7i5m2' target=\"_blank\">https://wandb.ai/yixuan228-imperial-college-london/DE_Groupwork_G4_stage1/runs/0rb7i5m2</a>"
      ],
      "text/plain": [
       "<IPython.core.display.HTML object>"
      ]
     },
     "metadata": {},
     "output_type": "display_data"
    },
    {
     "name": "stdout",
     "output_type": "stream",
     "text": [
      "Epoch 001 | Train Loss: 38011.1263 | Val Loss: 3661.0388\n",
      "Epoch 002 | Train Loss: 1693.3878 | Val Loss: 875.2203\n",
      "Epoch 003 | Train Loss: 660.1275 | Val Loss: 574.0461\n",
      "Epoch 004 | Train Loss: 466.9219 | Val Loss: 443.3040\n",
      "Epoch 005 | Train Loss: 366.5235 | Val Loss: 368.4375\n",
      "Epoch 006 | Train Loss: 298.2496 | Val Loss: 310.8816\n",
      "Epoch 007 | Train Loss: 252.0473 | Val Loss: 269.5367\n",
      "Epoch 008 | Train Loss: 215.6843 | Val Loss: 228.9304\n",
      "Epoch 009 | Train Loss: 184.7281 | Val Loss: 200.2512\n",
      "Epoch 010 | Train Loss: 158.8129 | Val Loss: 173.5963\n",
      "Epoch 011 | Train Loss: 138.0034 | Val Loss: 150.8910\n",
      "Epoch 012 | Train Loss: 118.9502 | Val Loss: 128.4912\n",
      "Epoch 013 | Train Loss: 100.5238 | Val Loss: 109.9235\n",
      "Epoch 014 | Train Loss: 84.9787 | Val Loss: 98.1705\n",
      "Epoch 015 | Train Loss: 73.0466 | Val Loss: 73.3038\n",
      "Epoch 016 | Train Loss: 58.4714 | Val Loss: 60.2274\n",
      "Epoch 017 | Train Loss: 50.1885 | Val Loss: 51.5393\n",
      "Epoch 018 | Train Loss: 42.8239 | Val Loss: 43.9590\n",
      "Epoch 019 | Train Loss: 37.6837 | Val Loss: 38.1156\n",
      "Epoch 020 | Train Loss: 33.3915 | Val Loss: 33.3437\n",
      "Epoch 021 | Train Loss: 29.6135 | Val Loss: 30.4684\n",
      "Epoch 022 | Train Loss: 26.7550 | Val Loss: 27.9965\n",
      "Epoch 023 | Train Loss: 25.2106 | Val Loss: 26.5113\n",
      "Epoch 024 | Train Loss: 23.0290 | Val Loss: 25.7152\n",
      "Epoch 025 | Train Loss: 22.1888 | Val Loss: 21.7523\n",
      "Epoch 026 | Train Loss: 20.6342 | Val Loss: 21.2530\n",
      "Epoch 027 | Train Loss: 19.1436 | Val Loss: 19.0230\n",
      "Epoch 028 | Train Loss: 18.5543 | Val Loss: 20.9099\n",
      "Epoch 029 | Train Loss: 17.5194 | Val Loss: 18.8692\n",
      "Epoch 030 | Train Loss: 17.0419 | Val Loss: 19.1776\n",
      "Epoch 031 | Train Loss: 16.4047 | Val Loss: 22.1002\n",
      "Epoch 032 | Train Loss: 15.7024 | Val Loss: 15.3884\n",
      "Epoch 033 | Train Loss: 15.1395 | Val Loss: 14.5696\n",
      "Epoch 034 | Train Loss: 14.0841 | Val Loss: 14.4970\n",
      "Epoch 035 | Train Loss: 13.9753 | Val Loss: 14.5058\n",
      "Epoch 036 | Train Loss: 13.9518 | Val Loss: 14.4037\n",
      "Epoch 037 | Train Loss: 13.4944 | Val Loss: 13.6791\n",
      "Epoch 038 | Train Loss: 12.6490 | Val Loss: 16.2739\n",
      "Epoch 039 | Train Loss: 13.2403 | Val Loss: 14.0154\n",
      "Epoch 040 | Train Loss: 12.2313 | Val Loss: 13.3453\n",
      "Epoch 041 | Train Loss: 11.7026 | Val Loss: 13.0498\n",
      "Epoch 042 | Train Loss: 11.5852 | Val Loss: 13.1111\n",
      "Epoch 043 | Train Loss: 11.9435 | Val Loss: 12.2512\n",
      "Epoch 044 | Train Loss: 11.8671 | Val Loss: 11.6887\n",
      "Epoch 045 | Train Loss: 10.6510 | Val Loss: 11.1974\n",
      "Epoch 046 | Train Loss: 12.2385 | Val Loss: 12.6274\n",
      "Epoch 047 | Train Loss: 10.9885 | Val Loss: 17.5150\n",
      "Epoch 048 | Train Loss: 10.4494 | Val Loss: 10.7937\n",
      "Epoch 049 | Train Loss: 10.0180 | Val Loss: 11.0605\n",
      "Epoch 050 | Train Loss: 10.9319 | Val Loss: 11.6160\n",
      "Epoch 051 | Train Loss: 10.1981 | Val Loss: 17.8978\n",
      "Epoch 052 | Train Loss: 10.0532 | Val Loss: 10.5443\n",
      "Epoch 053 | Train Loss: 9.3426 | Val Loss: 9.9312\n",
      "Epoch 054 | Train Loss: 10.6383 | Val Loss: 19.5077\n",
      "Epoch 055 | Train Loss: 10.3500 | Val Loss: 13.8150\n",
      "Epoch 056 | Train Loss: 10.6029 | Val Loss: 11.1993\n",
      "Epoch 057 | Train Loss: 9.4090 | Val Loss: 18.9410\n",
      "Epoch 058 | Train Loss: 9.9549 | Val Loss: 12.6068\n",
      "Early stopping triggered at epoch 58\n"
     ]
    },
    {
     "data": {
      "text/html": [],
      "text/plain": [
       "<IPython.core.display.HTML object>"
      ]
     },
     "metadata": {},
     "output_type": "display_data"
    },
    {
     "data": {
      "text/html": [
       "<br>    <style><br>        .wandb-row {<br>            display: flex;<br>            flex-direction: row;<br>            flex-wrap: wrap;<br>            justify-content: flex-start;<br>            width: 100%;<br>        }<br>        .wandb-col {<br>            display: flex;<br>            flex-direction: column;<br>            flex-basis: 100%;<br>            flex: 1;<br>            padding: 10px;<br>        }<br>    </style><br><div class=\"wandb-row\"><div class=\"wandb-col\"><h3>Run history:</h3><br/><table class=\"wandb\"><tr><td>epoch</td><td>▁▁▁▁▁▂▂▂▂▂▃▃▃▃▃▃▄▄▄▄▄▄▅▅▅▅▅▆▆▆▆▆▆▇▇▇▇███</td></tr><tr><td>train_loss</td><td>█▁▁▁▁▁▁▁▁▁▁▁▁▁▁▁▁▁▁▁▁▁▁▁▁▁▁▁▁▁▁▁▁▁▁▁▁▁▁▁</td></tr><tr><td>val_loss</td><td>█▃▂▂▂▁▁▁▁▁▁▁▁▁▁▁▁▁▁▁▁▁▁▁▁▁▁▁▁▁▁▁▁▁▁▁▁▁▁▁</td></tr></table><br/></div><div class=\"wandb-col\"><h3>Run summary:</h3><br/><table class=\"wandb\"><tr><td>epoch</td><td>58</td></tr><tr><td>train_loss</td><td>9.95492</td></tr><tr><td>val_loss</td><td>12.60683</td></tr></table><br/></div></div>"
      ],
      "text/plain": [
       "<IPython.core.display.HTML object>"
      ]
     },
     "metadata": {},
     "output_type": "display_data"
    },
    {
     "data": {
      "text/html": [
       " View run <strong style=\"color:#cdcd00\">bumbling-voice-55</strong> at: <a href='https://wandb.ai/yixuan228-imperial-college-london/DE_Groupwork_G4_stage1/runs/0rb7i5m2' target=\"_blank\">https://wandb.ai/yixuan228-imperial-college-london/DE_Groupwork_G4_stage1/runs/0rb7i5m2</a><br> View project at: <a href='https://wandb.ai/yixuan228-imperial-college-london/DE_Groupwork_G4_stage1' target=\"_blank\">https://wandb.ai/yixuan228-imperial-college-london/DE_Groupwork_G4_stage1</a><br>Synced 5 W&B file(s), 0 media file(s), 0 artifact file(s) and 0 other file(s)"
      ],
      "text/plain": [
       "<IPython.core.display.HTML object>"
      ]
     },
     "metadata": {},
     "output_type": "display_data"
    },
    {
     "data": {
      "text/html": [
       "Find logs at: <code>.\\wandb\\run-20250321_005253-0rb7i5m2\\logs</code>"
      ],
      "text/plain": [
       "<IPython.core.display.HTML object>"
      ]
     },
     "metadata": {},
     "output_type": "display_data"
    },
    {
     "data": {
      "text/html": [
       "Tracking run with wandb version 0.19.7"
      ],
      "text/plain": [
       "<IPython.core.display.HTML object>"
      ]
     },
     "metadata": {},
     "output_type": "display_data"
    },
    {
     "data": {
      "text/html": [
       "Run data is saved locally in <code>d:\\Projects\\MSc_DE_GroupWork4\\Scripts\\wandb\\run-20250321_005306-vzad258w</code>"
      ],
      "text/plain": [
       "<IPython.core.display.HTML object>"
      ]
     },
     "metadata": {},
     "output_type": "display_data"
    },
    {
     "data": {
      "text/html": [
       "Syncing run <strong><a href='https://wandb.ai/yixuan228-imperial-college-london/DE_Groupwork_G4_stage1/runs/vzad258w' target=\"_blank\">toasty-salad-56</a></strong> to <a href='https://wandb.ai/yixuan228-imperial-college-london/DE_Groupwork_G4_stage1' target=\"_blank\">Weights & Biases</a> (<a href='https://wandb.me/developer-guide' target=\"_blank\">docs</a>)<br>"
      ],
      "text/plain": [
       "<IPython.core.display.HTML object>"
      ]
     },
     "metadata": {},
     "output_type": "display_data"
    },
    {
     "data": {
      "text/html": [
       " View project at <a href='https://wandb.ai/yixuan228-imperial-college-london/DE_Groupwork_G4_stage1' target=\"_blank\">https://wandb.ai/yixuan228-imperial-college-london/DE_Groupwork_G4_stage1</a>"
      ],
      "text/plain": [
       "<IPython.core.display.HTML object>"
      ]
     },
     "metadata": {},
     "output_type": "display_data"
    },
    {
     "data": {
      "text/html": [
       " View run at <a href='https://wandb.ai/yixuan228-imperial-college-london/DE_Groupwork_G4_stage1/runs/vzad258w' target=\"_blank\">https://wandb.ai/yixuan228-imperial-college-london/DE_Groupwork_G4_stage1/runs/vzad258w</a>"
      ],
      "text/plain": [
       "<IPython.core.display.HTML object>"
      ]
     },
     "metadata": {},
     "output_type": "display_data"
    },
    {
     "name": "stdout",
     "output_type": "stream",
     "text": [
      "Epoch 001 | Train Loss: 12864.3445 | Val Loss: 440.1628\n",
      "Epoch 002 | Train Loss: 341.3784 | Val Loss: 256.8739\n",
      "Epoch 003 | Train Loss: 245.2049 | Val Loss: 615.4346\n",
      "Epoch 004 | Train Loss: 207.9606 | Val Loss: 96.4129\n",
      "Epoch 005 | Train Loss: 82.0595 | Val Loss: 113.6404\n",
      "Epoch 006 | Train Loss: 58.9862 | Val Loss: 37.1227\n",
      "Epoch 007 | Train Loss: 32.7920 | Val Loss: 50.9038\n",
      "Epoch 008 | Train Loss: 126.8431 | Val Loss: 359.8502\n",
      "Epoch 009 | Train Loss: 1772.8619 | Val Loss: 129.6806\n",
      "Epoch 010 | Train Loss: 68.9553 | Val Loss: 143.1492\n",
      "Epoch 011 | Train Loss: 36.2554 | Val Loss: 25.3977\n",
      "Epoch 012 | Train Loss: 35.9563 | Val Loss: 27.8859\n",
      "Epoch 013 | Train Loss: 20.8001 | Val Loss: 14.0546\n",
      "Epoch 014 | Train Loss: 17.8886 | Val Loss: 19.4441\n",
      "Epoch 015 | Train Loss: 26.3139 | Val Loss: 54.7698\n",
      "Epoch 016 | Train Loss: 19.5105 | Val Loss: 33.3395\n",
      "Epoch 017 | Train Loss: 16.6018 | Val Loss: 22.3945\n",
      "Epoch 018 | Train Loss: 18.2731 | Val Loss: 15.0501\n",
      "Early stopping triggered at epoch 18\n"
     ]
    },
    {
     "data": {
      "text/html": [],
      "text/plain": [
       "<IPython.core.display.HTML object>"
      ]
     },
     "metadata": {},
     "output_type": "display_data"
    },
    {
     "data": {
      "text/html": [
       "<br>    <style><br>        .wandb-row {<br>            display: flex;<br>            flex-direction: row;<br>            flex-wrap: wrap;<br>            justify-content: flex-start;<br>            width: 100%;<br>        }<br>        .wandb-col {<br>            display: flex;<br>            flex-direction: column;<br>            flex-basis: 100%;<br>            flex: 1;<br>            padding: 10px;<br>        }<br>    </style><br><div class=\"wandb-row\"><div class=\"wandb-col\"><h3>Run history:</h3><br/><table class=\"wandb\"><tr><td>epoch</td><td>▁▁▂▂▃▃▃▄▄▅▅▆▆▆▇▇██</td></tr><tr><td>train_loss</td><td>█▁▁▁▁▁▁▁▂▁▁▁▁▁▁▁▁▁</td></tr><tr><td>val_loss</td><td>▆▄█▂▂▁▁▅▂▃▁▁▁▁▁▁▁▁</td></tr></table><br/></div><div class=\"wandb-col\"><h3>Run summary:</h3><br/><table class=\"wandb\"><tr><td>epoch</td><td>18</td></tr><tr><td>train_loss</td><td>18.27308</td></tr><tr><td>val_loss</td><td>15.05013</td></tr></table><br/></div></div>"
      ],
      "text/plain": [
       "<IPython.core.display.HTML object>"
      ]
     },
     "metadata": {},
     "output_type": "display_data"
    },
    {
     "data": {
      "text/html": [
       " View run <strong style=\"color:#cdcd00\">toasty-salad-56</strong> at: <a href='https://wandb.ai/yixuan228-imperial-college-london/DE_Groupwork_G4_stage1/runs/vzad258w' target=\"_blank\">https://wandb.ai/yixuan228-imperial-college-london/DE_Groupwork_G4_stage1/runs/vzad258w</a><br> View project at: <a href='https://wandb.ai/yixuan228-imperial-college-london/DE_Groupwork_G4_stage1' target=\"_blank\">https://wandb.ai/yixuan228-imperial-college-london/DE_Groupwork_G4_stage1</a><br>Synced 5 W&B file(s), 0 media file(s), 0 artifact file(s) and 0 other file(s)"
      ],
      "text/plain": [
       "<IPython.core.display.HTML object>"
      ]
     },
     "metadata": {},
     "output_type": "display_data"
    },
    {
     "data": {
      "text/html": [
       "Find logs at: <code>.\\wandb\\run-20250321_005306-vzad258w\\logs</code>"
      ],
      "text/plain": [
       "<IPython.core.display.HTML object>"
      ]
     },
     "metadata": {},
     "output_type": "display_data"
    },
    {
     "data": {
      "text/html": [
       "Tracking run with wandb version 0.19.7"
      ],
      "text/plain": [
       "<IPython.core.display.HTML object>"
      ]
     },
     "metadata": {},
     "output_type": "display_data"
    },
    {
     "data": {
      "text/html": [
       "Run data is saved locally in <code>d:\\Projects\\MSc_DE_GroupWork4\\Scripts\\wandb\\run-20250321_005313-8f31rwfn</code>"
      ],
      "text/plain": [
       "<IPython.core.display.HTML object>"
      ]
     },
     "metadata": {},
     "output_type": "display_data"
    },
    {
     "data": {
      "text/html": [
       "Syncing run <strong><a href='https://wandb.ai/yixuan228-imperial-college-london/DE_Groupwork_G4_stage1/runs/8f31rwfn' target=\"_blank\">crisp-frost-57</a></strong> to <a href='https://wandb.ai/yixuan228-imperial-college-london/DE_Groupwork_G4_stage1' target=\"_blank\">Weights & Biases</a> (<a href='https://wandb.me/developer-guide' target=\"_blank\">docs</a>)<br>"
      ],
      "text/plain": [
       "<IPython.core.display.HTML object>"
      ]
     },
     "metadata": {},
     "output_type": "display_data"
    },
    {
     "data": {
      "text/html": [
       " View project at <a href='https://wandb.ai/yixuan228-imperial-college-london/DE_Groupwork_G4_stage1' target=\"_blank\">https://wandb.ai/yixuan228-imperial-college-london/DE_Groupwork_G4_stage1</a>"
      ],
      "text/plain": [
       "<IPython.core.display.HTML object>"
      ]
     },
     "metadata": {},
     "output_type": "display_data"
    },
    {
     "data": {
      "text/html": [
       " View run at <a href='https://wandb.ai/yixuan228-imperial-college-london/DE_Groupwork_G4_stage1/runs/8f31rwfn' target=\"_blank\">https://wandb.ai/yixuan228-imperial-college-london/DE_Groupwork_G4_stage1/runs/8f31rwfn</a>"
      ],
      "text/plain": [
       "<IPython.core.display.HTML object>"
      ]
     },
     "metadata": {},
     "output_type": "display_data"
    },
    {
     "name": "stdout",
     "output_type": "stream",
     "text": [
      "Epoch 001 | Train Loss: 7588.6203 | Val Loss: 393.0167\n",
      "Epoch 002 | Train Loss: 254.4579 | Val Loss: 250.5191\n",
      "Epoch 003 | Train Loss: 135.8843 | Val Loss: 104.2163\n",
      "Epoch 004 | Train Loss: 67.6276 | Val Loss: 44.9843\n",
      "Epoch 005 | Train Loss: 36.9778 | Val Loss: 37.4117\n",
      "Epoch 006 | Train Loss: 36.9354 | Val Loss: 41.2466\n",
      "Epoch 007 | Train Loss: 27.7862 | Val Loss: 28.4933\n",
      "Epoch 008 | Train Loss: 24.6140 | Val Loss: 52.6953\n",
      "Epoch 009 | Train Loss: 26.1838 | Val Loss: 18.7647\n",
      "Epoch 010 | Train Loss: 25.0230 | Val Loss: 24.9231\n",
      "Epoch 011 | Train Loss: 28.9392 | Val Loss: 25.1009\n",
      "Epoch 012 | Train Loss: 24.5202 | Val Loss: 20.2092\n",
      "Epoch 013 | Train Loss: 22.5302 | Val Loss: 29.6296\n",
      "Epoch 014 | Train Loss: 22.6329 | Val Loss: 24.3282\n",
      "Early stopping triggered at epoch 14\n"
     ]
    },
    {
     "data": {
      "text/html": [],
      "text/plain": [
       "<IPython.core.display.HTML object>"
      ]
     },
     "metadata": {},
     "output_type": "display_data"
    },
    {
     "data": {
      "text/html": [
       "<br>    <style><br>        .wandb-row {<br>            display: flex;<br>            flex-direction: row;<br>            flex-wrap: wrap;<br>            justify-content: flex-start;<br>            width: 100%;<br>        }<br>        .wandb-col {<br>            display: flex;<br>            flex-direction: column;<br>            flex-basis: 100%;<br>            flex: 1;<br>            padding: 10px;<br>        }<br>    </style><br><div class=\"wandb-row\"><div class=\"wandb-col\"><h3>Run history:</h3><br/><table class=\"wandb\"><tr><td>epoch</td><td>▁▂▂▃▃▄▄▅▅▆▆▇▇█</td></tr><tr><td>train_loss</td><td>█▁▁▁▁▁▁▁▁▁▁▁▁▁</td></tr><tr><td>val_loss</td><td>█▅▃▁▁▁▁▂▁▁▁▁▁▁</td></tr></table><br/></div><div class=\"wandb-col\"><h3>Run summary:</h3><br/><table class=\"wandb\"><tr><td>epoch</td><td>14</td></tr><tr><td>train_loss</td><td>22.63293</td></tr><tr><td>val_loss</td><td>24.32818</td></tr></table><br/></div></div>"
      ],
      "text/plain": [
       "<IPython.core.display.HTML object>"
      ]
     },
     "metadata": {},
     "output_type": "display_data"
    },
    {
     "data": {
      "text/html": [
       " View run <strong style=\"color:#cdcd00\">crisp-frost-57</strong> at: <a href='https://wandb.ai/yixuan228-imperial-college-london/DE_Groupwork_G4_stage1/runs/8f31rwfn' target=\"_blank\">https://wandb.ai/yixuan228-imperial-college-london/DE_Groupwork_G4_stage1/runs/8f31rwfn</a><br> View project at: <a href='https://wandb.ai/yixuan228-imperial-college-london/DE_Groupwork_G4_stage1' target=\"_blank\">https://wandb.ai/yixuan228-imperial-college-london/DE_Groupwork_G4_stage1</a><br>Synced 5 W&B file(s), 0 media file(s), 0 artifact file(s) and 0 other file(s)"
      ],
      "text/plain": [
       "<IPython.core.display.HTML object>"
      ]
     },
     "metadata": {},
     "output_type": "display_data"
    },
    {
     "data": {
      "text/html": [
       "Find logs at: <code>.\\wandb\\run-20250321_005313-8f31rwfn\\logs</code>"
      ],
      "text/plain": [
       "<IPython.core.display.HTML object>"
      ]
     },
     "metadata": {},
     "output_type": "display_data"
    },
    {
     "data": {
      "text/html": [
       "Tracking run with wandb version 0.19.7"
      ],
      "text/plain": [
       "<IPython.core.display.HTML object>"
      ]
     },
     "metadata": {},
     "output_type": "display_data"
    },
    {
     "data": {
      "text/html": [
       "Run data is saved locally in <code>d:\\Projects\\MSc_DE_GroupWork4\\Scripts\\wandb\\run-20250321_005318-r9fazerd</code>"
      ],
      "text/plain": [
       "<IPython.core.display.HTML object>"
      ]
     },
     "metadata": {},
     "output_type": "display_data"
    },
    {
     "data": {
      "text/html": [
       "Syncing run <strong><a href='https://wandb.ai/yixuan228-imperial-college-london/DE_Groupwork_G4_stage1/runs/r9fazerd' target=\"_blank\">young-water-58</a></strong> to <a href='https://wandb.ai/yixuan228-imperial-college-london/DE_Groupwork_G4_stage1' target=\"_blank\">Weights & Biases</a> (<a href='https://wandb.me/developer-guide' target=\"_blank\">docs</a>)<br>"
      ],
      "text/plain": [
       "<IPython.core.display.HTML object>"
      ]
     },
     "metadata": {},
     "output_type": "display_data"
    },
    {
     "data": {
      "text/html": [
       " View project at <a href='https://wandb.ai/yixuan228-imperial-college-london/DE_Groupwork_G4_stage1' target=\"_blank\">https://wandb.ai/yixuan228-imperial-college-london/DE_Groupwork_G4_stage1</a>"
      ],
      "text/plain": [
       "<IPython.core.display.HTML object>"
      ]
     },
     "metadata": {},
     "output_type": "display_data"
    },
    {
     "data": {
      "text/html": [
       " View run at <a href='https://wandb.ai/yixuan228-imperial-college-london/DE_Groupwork_G4_stage1/runs/r9fazerd' target=\"_blank\">https://wandb.ai/yixuan228-imperial-college-london/DE_Groupwork_G4_stage1/runs/r9fazerd</a>"
      ],
      "text/plain": [
       "<IPython.core.display.HTML object>"
      ]
     },
     "metadata": {},
     "output_type": "display_data"
    },
    {
     "name": "stdout",
     "output_type": "stream",
     "text": [
      "Epoch 001 | Train Loss: 31277.2441 | Val Loss: 1821.3793\n",
      "Epoch 002 | Train Loss: 964.9269 | Val Loss: 635.7041\n",
      "Epoch 003 | Train Loss: 481.8637 | Val Loss: 439.8013\n",
      "Epoch 004 | Train Loss: 343.9890 | Val Loss: 337.9450\n",
      "Epoch 005 | Train Loss: 267.3700 | Val Loss: 272.9666\n",
      "Epoch 006 | Train Loss: 219.5535 | Val Loss: 230.4766\n",
      "Epoch 007 | Train Loss: 184.4077 | Val Loss: 198.5555\n",
      "Epoch 008 | Train Loss: 157.7657 | Val Loss: 172.6083\n",
      "Epoch 009 | Train Loss: 135.8844 | Val Loss: 146.0566\n",
      "Epoch 010 | Train Loss: 114.3843 | Val Loss: 121.8319\n",
      "Epoch 011 | Train Loss: 97.1477 | Val Loss: 99.0585\n",
      "Epoch 012 | Train Loss: 79.9697 | Val Loss: 80.8161\n",
      "Epoch 013 | Train Loss: 68.2696 | Val Loss: 65.4577\n",
      "Epoch 014 | Train Loss: 56.0884 | Val Loss: 56.4747\n",
      "Epoch 015 | Train Loss: 49.3325 | Val Loss: 48.4606\n",
      "Epoch 016 | Train Loss: 42.3566 | Val Loss: 44.7253\n",
      "Epoch 017 | Train Loss: 38.6050 | Val Loss: 34.9068\n",
      "Epoch 018 | Train Loss: 34.1117 | Val Loss: 33.1021\n",
      "Epoch 019 | Train Loss: 30.7074 | Val Loss: 30.2574\n",
      "Epoch 020 | Train Loss: 29.1093 | Val Loss: 26.1715\n",
      "Epoch 021 | Train Loss: 26.2247 | Val Loss: 41.3450\n",
      "Epoch 022 | Train Loss: 26.2416 | Val Loss: 24.1693\n",
      "Epoch 023 | Train Loss: 22.9814 | Val Loss: 21.8460\n",
      "Epoch 024 | Train Loss: 21.4927 | Val Loss: 22.1021\n",
      "Epoch 025 | Train Loss: 20.8393 | Val Loss: 21.5866\n",
      "Epoch 026 | Train Loss: 19.1390 | Val Loss: 18.0714\n",
      "Epoch 027 | Train Loss: 18.9211 | Val Loss: 17.6778\n",
      "Epoch 028 | Train Loss: 17.9951 | Val Loss: 19.8702\n",
      "Epoch 029 | Train Loss: 17.0216 | Val Loss: 16.0910\n",
      "Epoch 030 | Train Loss: 16.1619 | Val Loss: 16.9542\n",
      "Epoch 031 | Train Loss: 15.3486 | Val Loss: 18.9483\n",
      "Epoch 032 | Train Loss: 15.2881 | Val Loss: 18.0434\n",
      "Epoch 033 | Train Loss: 14.4059 | Val Loss: 15.2956\n",
      "Epoch 034 | Train Loss: 14.7065 | Val Loss: 15.8714\n",
      "Epoch 035 | Train Loss: 14.1045 | Val Loss: 13.8306\n",
      "Epoch 036 | Train Loss: 13.6297 | Val Loss: 14.2575\n",
      "Epoch 037 | Train Loss: 13.3962 | Val Loss: 14.2371\n",
      "Epoch 038 | Train Loss: 13.3230 | Val Loss: 14.4050\n",
      "Epoch 039 | Train Loss: 13.1438 | Val Loss: 16.0616\n",
      "Epoch 040 | Train Loss: 12.4022 | Val Loss: 12.9083\n",
      "Epoch 041 | Train Loss: 12.0898 | Val Loss: 13.0287\n",
      "Epoch 042 | Train Loss: 11.8312 | Val Loss: 19.1028\n",
      "Epoch 043 | Train Loss: 12.5493 | Val Loss: 12.1053\n",
      "Epoch 044 | Train Loss: 12.3533 | Val Loss: 14.0841\n",
      "Epoch 045 | Train Loss: 10.7800 | Val Loss: 13.7511\n",
      "Epoch 046 | Train Loss: 11.7598 | Val Loss: 14.1391\n",
      "Epoch 047 | Train Loss: 10.8198 | Val Loss: 17.8427\n",
      "Epoch 048 | Train Loss: 11.5261 | Val Loss: 11.0001\n",
      "Epoch 049 | Train Loss: 11.2542 | Val Loss: 10.6413\n",
      "Epoch 050 | Train Loss: 9.4754 | Val Loss: 15.4694\n",
      "Epoch 051 | Train Loss: 10.8077 | Val Loss: 17.7817\n",
      "Epoch 052 | Train Loss: 11.3707 | Val Loss: 10.8733\n",
      "Epoch 053 | Train Loss: 10.1032 | Val Loss: 10.4425\n",
      "Epoch 054 | Train Loss: 9.8272 | Val Loss: 15.0234\n",
      "Epoch 055 | Train Loss: 10.4509 | Val Loss: 9.7799\n",
      "Epoch 056 | Train Loss: 9.4384 | Val Loss: 10.9379\n",
      "Epoch 057 | Train Loss: 10.7970 | Val Loss: 43.5806\n",
      "Epoch 058 | Train Loss: 15.6481 | Val Loss: 9.3697\n",
      "Epoch 059 | Train Loss: 9.6049 | Val Loss: 33.6297\n",
      "Epoch 060 | Train Loss: 11.7484 | Val Loss: 24.8543\n",
      "Epoch 061 | Train Loss: 9.8625 | Val Loss: 21.5305\n",
      "Epoch 062 | Train Loss: 12.5206 | Val Loss: 9.5512\n",
      "Epoch 063 | Train Loss: 9.7941 | Val Loss: 11.0642\n",
      "Early stopping triggered at epoch 63\n"
     ]
    },
    {
     "data": {
      "text/html": [],
      "text/plain": [
       "<IPython.core.display.HTML object>"
      ]
     },
     "metadata": {},
     "output_type": "display_data"
    },
    {
     "data": {
      "text/html": [
       "<br>    <style><br>        .wandb-row {<br>            display: flex;<br>            flex-direction: row;<br>            flex-wrap: wrap;<br>            justify-content: flex-start;<br>            width: 100%;<br>        }<br>        .wandb-col {<br>            display: flex;<br>            flex-direction: column;<br>            flex-basis: 100%;<br>            flex: 1;<br>            padding: 10px;<br>        }<br>    </style><br><div class=\"wandb-row\"><div class=\"wandb-col\"><h3>Run history:</h3><br/><table class=\"wandb\"><tr><td>epoch</td><td>▁▁▁▂▂▂▂▂▂▃▃▃▃▃▃▃▄▄▄▄▄▄▅▅▅▅▅▆▆▆▆▆▇▇▇▇▇███</td></tr><tr><td>train_loss</td><td>█▁▁▁▁▁▁▁▁▁▁▁▁▁▁▁▁▁▁▁▁▁▁▁▁▁▁▁▁▁▁▁▁▁▁▁▁▁▁▁</td></tr><tr><td>val_loss</td><td>█▃▂▂▂▁▁▁▁▁▁▁▁▁▁▁▁▁▁▁▁▁▁▁▁▁▁▁▁▁▁▁▁▁▁▁▁▁▁▁</td></tr></table><br/></div><div class=\"wandb-col\"><h3>Run summary:</h3><br/><table class=\"wandb\"><tr><td>epoch</td><td>63</td></tr><tr><td>train_loss</td><td>9.7941</td></tr><tr><td>val_loss</td><td>11.06422</td></tr></table><br/></div></div>"
      ],
      "text/plain": [
       "<IPython.core.display.HTML object>"
      ]
     },
     "metadata": {},
     "output_type": "display_data"
    },
    {
     "data": {
      "text/html": [
       " View run <strong style=\"color:#cdcd00\">young-water-58</strong> at: <a href='https://wandb.ai/yixuan228-imperial-college-london/DE_Groupwork_G4_stage1/runs/r9fazerd' target=\"_blank\">https://wandb.ai/yixuan228-imperial-college-london/DE_Groupwork_G4_stage1/runs/r9fazerd</a><br> View project at: <a href='https://wandb.ai/yixuan228-imperial-college-london/DE_Groupwork_G4_stage1' target=\"_blank\">https://wandb.ai/yixuan228-imperial-college-london/DE_Groupwork_G4_stage1</a><br>Synced 5 W&B file(s), 0 media file(s), 0 artifact file(s) and 0 other file(s)"
      ],
      "text/plain": [
       "<IPython.core.display.HTML object>"
      ]
     },
     "metadata": {},
     "output_type": "display_data"
    },
    {
     "data": {
      "text/html": [
       "Find logs at: <code>.\\wandb\\run-20250321_005318-r9fazerd\\logs</code>"
      ],
      "text/plain": [
       "<IPython.core.display.HTML object>"
      ]
     },
     "metadata": {},
     "output_type": "display_data"
    },
    {
     "name": "stdout",
     "output_type": "stream",
     "text": [
      "Training complete for all configurations.\n"
     ]
    }
   ],
   "source": [
    "from itertools import product\n",
    "import torch.optim as optim\n",
    "\n",
    "for hidden_units, hidden_layers, lr in product(hidden_units_options, hidden_layers_options, learning_rates):\n",
    "\n",
    "    # Configurations\n",
    "    config = {\n",
    "        \"hidden_units\": hidden_units,\n",
    "        \"hidden_layers\": hidden_layers,\n",
    "        \"learning_rate\": lr,\n",
    "        \"max_epochs\": max_epochs,\n",
    "        \"patience\": patience\n",
    "    }\n",
    "\n",
    "    # Start a new W&B run for each configuration\n",
    "    wandb.init(project='DE_Groupwork_G4_stage1', config=config, reinit=True)\n",
    "\n",
    "    model = MultiLayerPerceptron(input_size=input_size, \n",
    "                             hidden_size=config[\"hidden_units\"], \n",
    "                             num_layers=config[\"hidden_layers\"], \n",
    "                             output_size=1).to(device)\n",
    "\n",
    "\n",
    "    criterion = nn.MSELoss() \n",
    "    optimizer = optim.Adam(model.parameters(), lr=lr)\n",
    "\n",
    "    best_test_loss = float('inf')\n",
    "    epochs_without_improvement = 0\n",
    "        \n",
    "    for epoch in range(1, max_epochs + 1):\n",
    "        train_loss = train_epoch(model, train_Loader, criterion, optimizer, device)\n",
    "       \n",
    "        test_loss = val_epoch(model, test_Loader, criterion, device)\n",
    "\n",
    "        # Log metrics to W&B\n",
    "        wandb.log({\"epoch\": epoch, \"train_loss\": train_loss, \"val_loss\": test_loss})\n",
    "        \n",
    "        print(f\"Epoch {epoch:03d} | Train Loss: {train_loss:.4f} | Val Loss: {test_loss:.4f}\")\n",
    "        \n",
    "        # Early stopping check\n",
    "        if test_loss < best_test_loss:\n",
    "            best_test_loss = test_loss\n",
    "            epochs_without_improvement = 0\n",
    "        else:\n",
    "            epochs_without_improvement += 1\n",
    "            \n",
    "        if epochs_without_improvement >= patience:\n",
    "            print(f\"Early stopping triggered at epoch {epoch}\")\n",
    "            break\n",
    "\n",
    "    wandb.finish()\n",
    "\n",
    "print(\"Training complete for all configurations.\")\n"
   ]
  },
  {
   "cell_type": "markdown",
   "metadata": {},
   "source": [
    "#### 3.1.2 Summary and Select the Best Model"
   ]
  },
  {
   "cell_type": "markdown",
   "metadata": {},
   "source": [
    "Visualization of each Search"
   ]
  },
  {
   "cell_type": "code",
   "execution_count": 50,
   "metadata": {},
   "outputs": [
    {
     "data": {
      "image/png": "[encoded data removed]",
      "text/plain": [
       "<Figure size 1200x600 with 1 Axes>"
      ]
     },
     "metadata": {},
     "output_type": "display_data"
    }
   ],
   "source": [
    "import matplotlib.pyplot as plt\n",
    "import matplotlib.image as mpimg\n",
    "\n",
    "image_path = \"S1_NN_loss.png\"\n",
    "img = mpimg.imread(image_path)\n",
    "\n",
    "plt.figure(figsize=(12, 6))\n",
    "plt.imshow(img)\n",
    "plt.axis(\"off\")\n",
    "plt.show()"
   ]
  },
  {
   "cell_type": "markdown",
   "metadata": {},
   "source": [
    "Find the best model"
   ]
  },
  {
   "cell_type": "code",
   "execution_count": 51,
   "metadata": {},
   "outputs": [],
   "source": [
    "import wandb\n",
    "import os\n",
    "\n",
    "api = wandb.Api()\n",
    "\n",
    "project_path = \"yixuan228-imperial-college-london/DE_Groupwork G4\"\n",
    "runs = api.runs(project_path)  # Get all the runs\n",
    "\n",
    "# save_dir = \"wandb_artifacts\"\n",
    "# os.makedirs(save_dir, exist_ok=True)"
   ]
  },
  {
   "cell_type": "markdown",
   "metadata": {},
   "source": [
    "Save all the model config"
   ]
  },
  {
   "cell_type": "code",
   "execution_count": 52,
   "metadata": {},
   "outputs": [],
   "source": [
    "ls_summary, ls_config = [], []\n",
    "\n",
    "best_run = None\n",
    "best_val_loss = float('inf')\n",
    "\n",
    "ls_config = [run.config for run in runs]\n",
    "ls_summary = [run.summary._json_dict for run in runs]\n"
   ]
  },
  {
   "cell_type": "markdown",
   "metadata": {},
   "source": [
    "Select the best model"
   ]
  },
  {
   "cell_type": "code",
   "execution_count": 53,
   "metadata": {},
   "outputs": [
    {
     "name": "stdout",
     "output_type": "stream",
     "text": [
      "\n",
      "Best Model Found:\n",
      "Run ID: nbfzlfhc, Name: fearless-morning-12, State: finished\n",
      "Lowest Validation Loss: 8.600484386515094\n",
      "\n",
      "Best Model Hyperparameters (config):\n",
      "   patience: 5\n",
      "   max_epochs: 200\n",
      "   hidden_units: 64\n",
      "   hidden_layers: 2\n",
      "   learning_rate: 0.001\n",
      "\n",
      "Best Model Final Metrics (summary):\n",
      "   _runtime: 19.7579481\n",
      "   _step: 118\n",
      "   _timestamp: 1742462047.419305\n",
      "   _wandb: {'runtime': 19}\n",
      "   epoch: 119\n",
      "   train_loss: 8.823451982218003\n",
      "   val_loss: 8.600484386515094\n"
     ]
    }
   ],
   "source": [
    "best_run = None\n",
    "best_loss = float(\"inf\")  \n",
    "\n",
    "for run in runs:\n",
    "    # print(run.summary.keys())\n",
    "    if \"val_loss\" in run.summary:  \n",
    "        loss = run.summary[\"val_loss\"]\n",
    "        if loss < best_loss:  # best model with least loss\n",
    "            best_loss = loss\n",
    "            best_run = run\n",
    "\n",
    "# Best model hyparparameters\n",
    "if best_run:\n",
    "    print(\"\\nBest Model Found:\")\n",
    "    print(f\"Run ID: {best_run.id}, Name: {best_run.name}, State: {best_run.state}\")\n",
    "    print(f\"Lowest Validation Loss: {best_loss}\")\n",
    "\n",
    "    print(\"\\nBest Model Hyperparameters (config):\")\n",
    "    for key, value in best_run.config.items():\n",
    "        print(f\"   {key}: {value}\")\n",
    "\n",
    "    print(\"\\nBest Model Final Metrics (summary):\")\n",
    "    for key, value in best_run.summary.items():\n",
    "        print(f\"   {key}: {value}\")\n",
    "else:\n",
    "    print(\"No valid runs found with 'loss' metric.\")\n"
   ]
  },
  {
   "cell_type": "markdown",
   "metadata": {},
   "source": [
    "#### 3.1.4 Best NN Model Parameters"
   ]
  },
  {
   "cell_type": "markdown",
   "metadata": {},
   "source": [
    "Using Nueral Network Models is a good way to predict the CO2 emssions based on the features given. After using W&B to grid search the hyperparameters grid, the best model is chosen based on the metric of validation loss.\n",
    "\n",
    "The best model parameters are listed below:\n",
    "\n",
    "**Hyperparameter**:\\\n",
    "    patience: 5\\\n",
    "    max_epochs: 200\\\n",
    "    hidden_units: 64\\\n",
    "    hidden_layers: 2\\\n",
    "    learning_rate: 0.001\n",
    "\n",
    "**Running Performance:**\\\n",
    "    epoch: 119\\\n",
    "    Training loss: 8.823451982218003\\\n",
    "    Validation loss: 8.600484386515094\n",
    "\n",
    "\n"
   ]
  },
  {
   "cell_type": "markdown",
   "metadata": {},
   "source": [
    "#### 3.1.5 K-fold on Best NN Model "
   ]
  },
  {
   "cell_type": "markdown",
   "metadata": {},
   "source": [
    "Initialize NN model configuration, set hyperparameter grid."
   ]
  },
  {
   "cell_type": "code",
   "execution_count": 54,
   "metadata": {},
   "outputs": [],
   "source": [
    "# Hyperparameter grid\n",
    "hidden_size = 64    # Numbers of neurons in each hidden layer\n",
    "num_layer = 2       # Numbers of hidden layers\n",
    "learning_rate = 0.001     # Learning rates\n",
    "\n",
    "num_epochs = 200  # Arbitrarily large; early stopping will likely stop earlier.\n",
    "batch_size = 64\n",
    "patience = 5      # Early stopping patience\n",
    "\n",
    "input_size =  X_train_processed.shape[1]   # Input size \n",
    "output_size = 1             # Output size"
   ]
  },
  {
   "cell_type": "markdown",
   "metadata": {},
   "source": [
    "Output k-fold validation results"
   ]
  },
  {
   "cell_type": "code",
   "execution_count": 55,
   "metadata": {},
   "outputs": [
    {
     "name": "stdout",
     "output_type": "stream",
     "text": [
      "Best Neural Network Model:\n",
      "\n",
      "Fold 1 Validation Dataset MSE: 5.8574\n",
      "Fold 2 Validation Dataset MSE: 6.7286\n",
      "Fold 3 Validation Dataset MSE: 9.0064\n",
      "Fold 4 Validation Dataset MSE: 7.8659\n",
      "Fold 5 Validation Dataset MSE: 8.1476\n",
      "Fold 6 Validation Dataset MSE: 7.5024\n",
      "Fold 7 Validation Dataset MSE: 7.7546\n",
      "Fold 8 Validation Dataset MSE: 10.0243\n",
      "Fold 9 Validation Dataset MSE: 6.0782\n",
      "Fold 10 Validation Dataset MSE: 18.0112\n",
      "Fold 11 Validation Dataset MSE: 11.5061\n",
      "Fold 12 Validation Dataset MSE: 6.1962\n",
      "Fold 13 Validation Dataset MSE: 7.1398\n",
      "Fold 14 Validation Dataset MSE: 7.7552\n",
      "Fold 15 Validation Dataset MSE: 7.7319\n",
      "Fold 16 Validation Dataset MSE: 5.5992\n",
      "Fold 17 Validation Dataset MSE: 7.4864\n",
      "Fold 18 Validation Dataset MSE: 6.8686\n",
      "Fold 19 Validation Dataset MSE: 7.7640\n",
      "Fold 20 Validation Dataset MSE: 7.0892\n",
      "\n",
      "K-Fold Average MSE: 8.1057\n",
      "\n",
      "--------Finished training and validating the model!--------\n"
     ]
    }
   ],
   "source": [
    "from torch.utils.data import Subset\n",
    "from torch import optim\n",
    "\n",
    "# Save MSE and True/Predict Values---------------------------\n",
    "nn_k_fold_mse = []\n",
    "nn_k_fold_R2 = []\n",
    "nn_k_fold_mae = []\n",
    "nn_k_fold_mape = []   \n",
    "\n",
    "# Train and Evaluate the model----------------------------\n",
    "print(f'Best Neural Network Model:\\n')\n",
    "for fold, (train_index, val_index) in enumerate(k_fold.split(X_train_df)):\n",
    "\n",
    "    # get the training and validation data\n",
    "    train_subset  = Subset(train_dataset, train_index)\n",
    "    val_subset = Subset(train_dataset, val_index)\n",
    "\n",
    "    # Data loader\n",
    "    train_loader = DataLoader(dataset=train_subset , batch_size=batch_size, shuffle=True)\n",
    "    val_loader = DataLoader(dataset=val_subset, batch_size=batch_size, shuffle=False)\n",
    "\n",
    "    # Initialize and train the model\n",
    "    nn_model = MultiLayerPerceptron(input_size, hidden_size, num_layer, output_size).to(device)\n",
    "\n",
    "    criterion = nn.MSELoss()  # MSE as loss function\n",
    "    optimizer = optim.Adam(nn_model.parameters(), lr=learning_rate)  # Adam as optimizer\n",
    "\n",
    "    for epoch in range(num_epochs):\n",
    "        nn_model.train()\n",
    "        total_loss = 0\n",
    "        i = 0\n",
    "\n",
    "        for X_batch, y_batch in train_loader:\n",
    "\n",
    "            X_batch, y_batch = X_batch.to(device), y_batch.to(device)\n",
    "\n",
    "            optimizer.zero_grad()\n",
    "            y_pred = nn_model(X_batch)\n",
    "            loss = criterion(y_pred, y_batch)\n",
    "            loss.backward()\n",
    "            optimizer.step()\n",
    "\n",
    "            total_loss += loss.item()\n",
    "\n",
    "        # if (epoch+1) % 10 == 0:\n",
    "        #     print(f\"Epoch {epoch+1}, Loss: {total_loss/len(train_loader):.4f}\")\n",
    "\n",
    "    # Validate the model\n",
    "    nn_model.eval()\n",
    "\n",
    "    y_true_fold = []\n",
    "    y_pred_fold = []\n",
    "\n",
    "    val_loss = 0\n",
    "    with torch.no_grad():\n",
    "        for X_batch, y_batch in val_loader:\n",
    "\n",
    "            X_batch, y_batch = X_batch.to(device), y_batch.to(device)\n",
    "\n",
    "            y_pred = nn_model(X_batch)\n",
    "            loss = criterion(y_pred, y_batch)\n",
    "            val_loss += loss.item()\n",
    "\n",
    "            # y_true_fold.append(y_batch.cpu.numpy())     \n",
    "            # y_pred_fold.append(y_pred.cpu.numpy())      \n",
    "\n",
    "            y_true_fold.append(y_batch.cpu().detach().numpy())  # true value\n",
    "            y_pred_fold.append(y_pred.cpu().detach().numpy())   # predicted value\n",
    "\n",
    "    y_true_fold = np.concatenate(y_true_fold, axis=0).flatten()\n",
    "    y_pred_fold = np.concatenate(y_pred_fold, axis=0).flatten()\n",
    "\n",
    "    mse = mean_squared_error(y_true_fold, y_pred_fold)\n",
    "    r2 = r2_score(y_true_fold, y_pred_fold)\n",
    "    mae = mean_absolute_error(y_true_fold, y_pred_fold)\n",
    "    mape = mean_absolute_percentage_error(y_true_fold, y_pred_fold)\n",
    "\n",
    "    nn_k_fold_mse.append(mse)\n",
    "    nn_k_fold_R2.append(r2)\n",
    "    nn_k_fold_mae.append(mae)\n",
    "    nn_k_fold_mape.append(mape)\n",
    "    \n",
    "    print(f\"Fold {fold+1} Validation Dataset MSE: {mse:.4f}\")\n",
    "\n",
    "print(f\"\\nK-Fold Average MSE: {np.mean(nn_k_fold_mse):.4f}\")\n",
    "print(f\"\\n--------Finished training and validating the model!--------\")\n"
   ]
  },
  {
   "cell_type": "code",
   "execution_count": 56,
   "metadata": {},
   "outputs": [
    {
     "name": "stdout",
     "output_type": "stream",
     "text": [
      "Neural Network Model:\n",
      "    Test Dataset MSE: 8.3357\n",
      "    Test Dataset R2: 0.9976\n",
      "    Test Dataset MAE: 2.2142\n",
      "    Test Dataset MAPE: 0.0089\n"
     ]
    },
    {
     "data": {
      "text/plain": [
       "Text(0.5, 1.0, 'Neural Network Model: Observed vs Predicted values')"
      ]
     },
     "execution_count": 56,
     "metadata": {},
     "output_type": "execute_result"
    },
    {
     "data": {
      "image/png": "[encoded data removed]",
      "text/plain": [
       "<Figure size 600x500 with 1 Axes>"
      ]
     },
     "metadata": {},
     "output_type": "display_data"
    }
   ],
   "source": [
    "# Test the model on the test dataset------------------------   \n",
    "# Using MSE as the evaluation metrics: Mean Squared Error, R2, MAE, MAPE\n",
    "nn_model.eval()\n",
    "\n",
    "# Get the prediction and true values\n",
    "nn_test_true = []\n",
    "nn_test_pred = []\n",
    "\n",
    "val_loss = 0\n",
    "with torch.no_grad():\n",
    "    for X_batch, y_batch in test_Loader:\n",
    "\n",
    "        X_batch, y_batch = X_batch.to(device), y_batch.to(device)\n",
    "\n",
    "        y_pred = nn_model(X_batch)\n",
    "        loss = criterion(y_pred, y_batch)\n",
    "        val_loss += loss.item()\n",
    "\n",
    "        nn_test_true.append(y_batch.cpu().detach().numpy())     # true value\n",
    "        nn_test_pred.append(y_pred.cpu().detach().numpy())      # predicted value\n",
    "\n",
    "# concatenate the true and predicted values\n",
    "nn_test_true = np.concatenate(nn_test_true, axis=0).flatten()\n",
    "nn_test_pred = np.concatenate(nn_test_pred, axis=0).flatten()\n",
    "\n",
    "nn_test_r2 = r2_score(nn_test_pred, nn_test_true)\n",
    "nn_test_mse = mean_squared_error(nn_test_pred, nn_test_true)\n",
    "nn_test_mae = mean_absolute_error(nn_test_pred, nn_test_true)\n",
    "nn_test_mape = mean_absolute_percentage_error(nn_test_pred, nn_test_true)\n",
    "\n",
    "# Output\n",
    "print(f'Neural Network Model:')\n",
    "print(f\"    Test Dataset MSE: {nn_test_mse:.4f}\")\n",
    "print(f\"    Test Dataset R2: {nn_test_r2:.4f}\")\n",
    "print(f\"    Test Dataset MAE: {nn_test_mae:.4f}\")\n",
    "print(f\"    Test Dataset MAPE: {nn_test_mape:.4f}\")\n",
    "\n",
    "# Using plot\n",
    "fig, ax = plt.subplots(1, 1, figsize=(6, 5))\n",
    "plot_pred_true(nn_test_true, nn_test_pred, ax)\n",
    "plt.title('Neural Network Model: Observed vs Predicted values')"
   ]
  },
  {
   "cell_type": "code",
   "execution_count": 57,
   "metadata": {},
   "outputs": [
    {
     "name": "stdout",
     "output_type": "stream",
     "text": [
      "Test Dataset MSE: 8.3357\n",
      "Validation Dataset MSE: 8.1057\n"
     ]
    }
   ],
   "source": [
    "print(f\"Test Dataset MSE: {nn_test_mse:.4f}\")\n",
    "print(f\"Validation Dataset MSE: {np.mean(nn_k_fold_mse):.4f}\")"
   ]
  },
  {
   "cell_type": "markdown",
   "metadata": {},
   "source": [
    "### 3.1.6 Save the NN Model Performance"
   ]
  },
  {
   "cell_type": "markdown",
   "metadata": {},
   "source": [
    "Output of Best NN Model\n",
    "\n",
    "- Output will include two types of data: Validation values, and Test Values, and combine those into one dataframe.\n",
    "\n",
    "- Validation RSE:  1 x 20    Test RSE: 1 x 1\n",
    "\n",
    "- Validation R2:   1 x 20    Test R2:  1 x 1\n",
    "\n",
    "- Validation MAE:  1 x 20    Test MAE:  1 x 1\n",
    "\n",
    "- Validation MAPE: 1 x 20    Test MAPE:  1 x 1\n",
    "\n",
    "- So the output dataframe should include:\n",
    "\n",
    "    - **4 rows**: RSE, R2, MAE and MAPE \n",
    "    \n",
    "    - **21 cols**:  first 20 as validation metrics, with the last one being test metric"
   ]
  },
  {
   "cell_type": "code",
   "execution_count": 58,
   "metadata": {},
   "outputs": [],
   "source": [
    "# Save the output of Best NN Model \n",
    "nn_metrics = pd.DataFrame([nn_k_fold_mse, nn_k_fold_R2, nn_k_fold_mae, nn_k_fold_mape])\n",
    "\n",
    "# Add Test results\n",
    "nn_metrics[\"Test_results\"] = [nn_test_mse, nn_test_r2, nn_test_mae, nn_test_mape]\n"
   ]
  },
  {
   "cell_type": "code",
   "execution_count": 59,
   "metadata": {},
   "outputs": [],
   "source": [
    "nn_metrics.columns = [f\"fold_{i+1}\" for i in range(20)] + [\"Test\"]\n",
    "nn_metrics.index = ['MSE', 'R2', 'MAE', 'MAPE']\n"
   ]
  },
  {
   "cell_type": "code",
   "execution_count": 60,
   "metadata": {},
   "outputs": [
    {
     "data": {
      "text/html": [
       "<div>\n",
       "<style scoped>\n",
       "    .dataframe tbody tr th:only-of-type {\n",
       "        vertical-align: middle;\n",
       "    }\n",
       "\n",
       "    .dataframe tbody tr th {\n",
       "        vertical-align: top;\n",
       "    }\n",
       "\n",
       "    .dataframe thead th {\n",
       "        text-align: right;\n",
       "    }\n",
       "</style>\n",
       "<table border=\"1\" class=\"dataframe\">\n",
       "  <thead>\n",
       "    <tr style=\"text-align: right;\">\n",
       "      <th></th>\n",
       "      <th>fold_1</th>\n",
       "      <th>fold_2</th>\n",
       "      <th>fold_3</th>\n",
       "      <th>fold_4</th>\n",
       "      <th>fold_5</th>\n",
       "      <th>fold_6</th>\n",
       "      <th>fold_7</th>\n",
       "      <th>fold_8</th>\n",
       "      <th>fold_9</th>\n",
       "      <th>fold_10</th>\n",
       "      <th>...</th>\n",
       "      <th>fold_12</th>\n",
       "      <th>fold_13</th>\n",
       "      <th>fold_14</th>\n",
       "      <th>fold_15</th>\n",
       "      <th>fold_16</th>\n",
       "      <th>fold_17</th>\n",
       "      <th>fold_18</th>\n",
       "      <th>fold_19</th>\n",
       "      <th>fold_20</th>\n",
       "      <th>Test</th>\n",
       "    </tr>\n",
       "  </thead>\n",
       "  <tbody>\n",
       "    <tr>\n",
       "      <th>MSE</th>\n",
       "      <td>5.857437</td>\n",
       "      <td>6.728559</td>\n",
       "      <td>9.006442</td>\n",
       "      <td>7.865871</td>\n",
       "      <td>8.147576</td>\n",
       "      <td>7.502366</td>\n",
       "      <td>7.754570</td>\n",
       "      <td>10.024302</td>\n",
       "      <td>6.078247</td>\n",
       "      <td>18.011175</td>\n",
       "      <td>...</td>\n",
       "      <td>6.196240</td>\n",
       "      <td>7.139805</td>\n",
       "      <td>7.755204</td>\n",
       "      <td>7.731935</td>\n",
       "      <td>5.599160</td>\n",
       "      <td>7.486383</td>\n",
       "      <td>6.868587</td>\n",
       "      <td>7.763961</td>\n",
       "      <td>7.089190</td>\n",
       "      <td>8.335684</td>\n",
       "    </tr>\n",
       "    <tr>\n",
       "      <th>R2</th>\n",
       "      <td>0.998230</td>\n",
       "      <td>0.998216</td>\n",
       "      <td>0.997778</td>\n",
       "      <td>0.997771</td>\n",
       "      <td>0.997430</td>\n",
       "      <td>0.997941</td>\n",
       "      <td>0.997778</td>\n",
       "      <td>0.996678</td>\n",
       "      <td>0.998234</td>\n",
       "      <td>0.994896</td>\n",
       "      <td>...</td>\n",
       "      <td>0.998213</td>\n",
       "      <td>0.997801</td>\n",
       "      <td>0.997169</td>\n",
       "      <td>0.997733</td>\n",
       "      <td>0.998348</td>\n",
       "      <td>0.997714</td>\n",
       "      <td>0.998017</td>\n",
       "      <td>0.997434</td>\n",
       "      <td>0.998030</td>\n",
       "      <td>0.997572</td>\n",
       "    </tr>\n",
       "    <tr>\n",
       "      <th>MAE</th>\n",
       "      <td>1.931306</td>\n",
       "      <td>1.980967</td>\n",
       "      <td>2.300202</td>\n",
       "      <td>2.120462</td>\n",
       "      <td>2.210552</td>\n",
       "      <td>2.142294</td>\n",
       "      <td>2.038177</td>\n",
       "      <td>2.355817</td>\n",
       "      <td>1.874738</td>\n",
       "      <td>2.161819</td>\n",
       "      <td>...</td>\n",
       "      <td>1.955013</td>\n",
       "      <td>2.031846</td>\n",
       "      <td>2.233384</td>\n",
       "      <td>2.176812</td>\n",
       "      <td>1.902452</td>\n",
       "      <td>2.132320</td>\n",
       "      <td>2.140041</td>\n",
       "      <td>2.034079</td>\n",
       "      <td>2.135943</td>\n",
       "      <td>2.214224</td>\n",
       "    </tr>\n",
       "    <tr>\n",
       "      <th>MAPE</th>\n",
       "      <td>0.008010</td>\n",
       "      <td>0.007858</td>\n",
       "      <td>0.008902</td>\n",
       "      <td>0.008478</td>\n",
       "      <td>0.008880</td>\n",
       "      <td>0.008750</td>\n",
       "      <td>0.008438</td>\n",
       "      <td>0.009592</td>\n",
       "      <td>0.007786</td>\n",
       "      <td>0.009594</td>\n",
       "      <td>...</td>\n",
       "      <td>0.007862</td>\n",
       "      <td>0.008277</td>\n",
       "      <td>0.009020</td>\n",
       "      <td>0.008711</td>\n",
       "      <td>0.007797</td>\n",
       "      <td>0.008616</td>\n",
       "      <td>0.008508</td>\n",
       "      <td>0.008250</td>\n",
       "      <td>0.008434</td>\n",
       "      <td>0.008907</td>\n",
       "    </tr>\n",
       "  </tbody>\n",
       "</table>\n",
       "<p>4 rows × 21 columns</p>\n",
       "</div>"
      ],
      "text/plain": [
       "        fold_1    fold_2    fold_3    fold_4    fold_5    fold_6    fold_7  \\\n",
       "MSE   5.857437  6.728559  9.006442  7.865871  8.147576  7.502366  7.754570   \n",
       "R2    0.998230  0.998216  0.997778  0.997771  0.997430  0.997941  0.997778   \n",
       "MAE   1.931306  1.980967  2.300202  2.120462  2.210552  2.142294  2.038177   \n",
       "MAPE  0.008010  0.007858  0.008902  0.008478  0.008880  0.008750  0.008438   \n",
       "\n",
       "         fold_8    fold_9    fold_10  ...   fold_12   fold_13   fold_14  \\\n",
       "MSE   10.024302  6.078247  18.011175  ...  6.196240  7.139805  7.755204   \n",
       "R2     0.996678  0.998234   0.994896  ...  0.998213  0.997801  0.997169   \n",
       "MAE    2.355817  1.874738   2.161819  ...  1.955013  2.031846  2.233384   \n",
       "MAPE   0.009592  0.007786   0.009594  ...  0.007862  0.008277  0.009020   \n",
       "\n",
       "       fold_15   fold_16   fold_17   fold_18   fold_19   fold_20      Test  \n",
       "MSE   7.731935  5.599160  7.486383  6.868587  7.763961  7.089190  8.335684  \n",
       "R2    0.997733  0.998348  0.997714  0.998017  0.997434  0.998030  0.997572  \n",
       "MAE   2.176812  1.902452  2.132320  2.140041  2.034079  2.135943  2.214224  \n",
       "MAPE  0.008711  0.007797  0.008616  0.008508  0.008250  0.008434  0.008907  \n",
       "\n",
       "[4 rows x 21 columns]"
      ]
     },
     "execution_count": 60,
     "metadata": {},
     "output_type": "execute_result"
    }
   ],
   "source": [
    "nn_metrics"
   ]
  },
  {
   "cell_type": "code",
   "execution_count": 61,
   "metadata": {},
   "outputs": [
    {
     "data": {
      "text/plain": [
       "array([360.49088, 292.63724, 381.6401 , ..., 344.32492, 192.3342 ,\n",
       "       177.06665], dtype=float32)"
      ]
     },
     "execution_count": 61,
     "metadata": {},
     "output_type": "execute_result"
    }
   ],
   "source": [
    "nn_test_pred"
   ]
  },
  {
   "cell_type": "code",
   "execution_count": 63,
   "metadata": {},
   "outputs": [],
   "source": [
    "nn_metrics.to_csv(\"Best_NN_Model_performance.csv\", index=True)"
   ]
  }
 ],
 "metadata": {
  "kernelspec": {
   "display_name": "de_w6_rl",
   "language": "python",
   "name": "python3"
  },
  "language_info": {
   "codemirror_mode": {
    "name": "ipython",
    "version": 3
   },
   "file_extension": ".py",
   "mimetype": "text/x-python",
   "name": "python",
   "nbconvert_exporter": "python",
   "pygments_lexer": "ipython3",
   "version": "3.12.9"
  }
 },
 "nbformat": 4,
 "nbformat_minor": 2
}
