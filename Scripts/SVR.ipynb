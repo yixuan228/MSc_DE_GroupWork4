{
 "cells": [
  {
   "cell_type": "code",
   "execution_count": 1,
   "metadata": {},
   "outputs": [
    {
     "name": "stderr",
     "output_type": "stream",
     "text": [
      "C:\\Users\\18611\\AppData\\Local\\Temp\\ipykernel_5012\\4156652716.py:37: FutureWarning: A value is trying to be set on a copy of a DataFrame or Series through chained assignment using an inplace method.\n",
      "The behavior will change in pandas 3.0. This inplace method will never work because the intermediate object on which we are setting values always behaves as a copy.\n",
      "\n",
      "For example, when doing 'df[col].method(value, inplace=True)', try using 'df.method({col: value}, inplace=True)' or df[col] = df[col].method(value) instead, to perform the operation inplace on the original object.\n",
      "\n",
      "\n",
      "  train_encoded_df[\"Make_encoded\"].fillna(train_df[target].mean(), inplace=True)\n",
      "C:\\Users\\18611\\AppData\\Local\\Temp\\ipykernel_5012\\4156652716.py:43: FutureWarning: A value is trying to be set on a copy of a DataFrame or Series through chained assignment using an inplace method.\n",
      "The behavior will change in pandas 3.0. This inplace method will never work because the intermediate object on which we are setting values always behaves as a copy.\n",
      "\n",
      "For example, when doing 'df[col].method(value, inplace=True)', try using 'df.method({col: value}, inplace=True)' or df[col] = df[col].method(value) instead, to perform the operation inplace on the original object.\n",
      "\n",
      "\n",
      "  test_encoded_df[\"Make_encoded\"].fillna(train_df[target].mean(), inplace=True)\n",
      "\u001b[34m\u001b[1mwandb\u001b[0m: Using wandb-core as the SDK backend.  Please refer to https://wandb.me/wandb-core for more information.\n",
      "\u001b[34m\u001b[1mwandb\u001b[0m: Currently logged in as: \u001b[33myhanluo22\u001b[0m (\u001b[33myhanluo22-imperial-college-london\u001b[0m) to \u001b[32mhttps://api.wandb.ai\u001b[0m. Use \u001b[1m`wandb login --relogin`\u001b[0m to force relogin\n"
     ]
    },
    {
     "data": {
      "text/html": [
       "Tracking run with wandb version 0.19.7"
      ],
      "text/plain": [
       "<IPython.core.display.HTML object>"
      ]
     },
     "metadata": {},
     "output_type": "display_data"
    },
    {
     "data": {
      "text/html": [
       "Run data is saved locally in <code>c:\\Users\\18611\\Desktop\\70122\\wandb\\run-20250321_055132-zflf06e4</code>"
      ],
      "text/plain": [
       "<IPython.core.display.HTML object>"
      ]
     },
     "metadata": {},
     "output_type": "display_data"
    },
    {
     "data": {
      "text/html": [
       "Syncing run <strong><a href='https://wandb.ai/yhanluo22-imperial-college-london/svr-hyperparameter-sweep/runs/zflf06e4' target=\"_blank\">morning-glade-11</a></strong> to <a href='https://wandb.ai/yhanluo22-imperial-college-london/svr-hyperparameter-sweep' target=\"_blank\">Weights & Biases</a> (<a href='https://wandb.me/developer-guide' target=\"_blank\">docs</a>)<br>"
      ],
      "text/plain": [
       "<IPython.core.display.HTML object>"
      ]
     },
     "metadata": {},
     "output_type": "display_data"
    },
    {
     "data": {
      "text/html": [
       " View project at <a href='https://wandb.ai/yhanluo22-imperial-college-london/svr-hyperparameter-sweep' target=\"_blank\">https://wandb.ai/yhanluo22-imperial-college-london/svr-hyperparameter-sweep</a>"
      ],
      "text/plain": [
       "<IPython.core.display.HTML object>"
      ]
     },
     "metadata": {},
     "output_type": "display_data"
    },
    {
     "data": {
      "text/html": [
       " View run at <a href='https://wandb.ai/yhanluo22-imperial-college-london/svr-hyperparameter-sweep/runs/zflf06e4' target=\"_blank\">https://wandb.ai/yhanluo22-imperial-college-london/svr-hyperparameter-sweep/runs/zflf06e4</a>"
      ],
      "text/plain": [
       "<IPython.core.display.HTML object>"
      ]
     },
     "metadata": {},
     "output_type": "display_data"
    },
    {
     "name": "stdout",
     "output_type": "stream",
     "text": [
      "\n",
      "=== Hyperparams: C=0.1, epsilon=0.01, kernel=rbf ===\n",
      "Validation MSE: 0.0231\n"
     ]
    },
    {
     "data": {
      "text/html": [],
      "text/plain": [
       "<IPython.core.display.HTML object>"
      ]
     },
     "metadata": {},
     "output_type": "display_data"
    },
    {
     "data": {
      "text/html": [
       "<br>    <style><br>        .wandb-row {<br>            display: flex;<br>            flex-direction: row;<br>            flex-wrap: wrap;<br>            justify-content: flex-start;<br>            width: 100%;<br>        }<br>        .wandb-col {<br>            display: flex;<br>            flex-direction: column;<br>            flex-basis: 100%;<br>            flex: 1;<br>            padding: 10px;<br>        }<br>    </style><br><div class=\"wandb-row\"><div class=\"wandb-col\"><h3>Run history:</h3><br/><table class=\"wandb\"><tr><td>val_mse</td><td>▁</td></tr></table><br/></div><div class=\"wandb-col\"><h3>Run summary:</h3><br/><table class=\"wandb\"><tr><td>val_mse</td><td>0.0231</td></tr></table><br/></div></div>"
      ],
      "text/plain": [
       "<IPython.core.display.HTML object>"
      ]
     },
     "metadata": {},
     "output_type": "display_data"
    },
    {
     "data": {
      "text/html": [
       " View run <strong style=\"color:#cdcd00\">morning-glade-11</strong> at: <a href='https://wandb.ai/yhanluo22-imperial-college-london/svr-hyperparameter-sweep/runs/zflf06e4' target=\"_blank\">https://wandb.ai/yhanluo22-imperial-college-london/svr-hyperparameter-sweep/runs/zflf06e4</a><br> View project at: <a href='https://wandb.ai/yhanluo22-imperial-college-london/svr-hyperparameter-sweep' target=\"_blank\">https://wandb.ai/yhanluo22-imperial-college-london/svr-hyperparameter-sweep</a><br>Synced 5 W&B file(s), 0 media file(s), 0 artifact file(s) and 0 other file(s)"
      ],
      "text/plain": [
       "<IPython.core.display.HTML object>"
      ]
     },
     "metadata": {},
     "output_type": "display_data"
    },
    {
     "data": {
      "text/html": [
       "Find logs at: <code>.\\wandb\\run-20250321_055132-zflf06e4\\logs</code>"
      ],
      "text/plain": [
       "<IPython.core.display.HTML object>"
      ]
     },
     "metadata": {},
     "output_type": "display_data"
    },
    {
     "data": {
      "text/html": [
       "Tracking run with wandb version 0.19.7"
      ],
      "text/plain": [
       "<IPython.core.display.HTML object>"
      ]
     },
     "metadata": {},
     "output_type": "display_data"
    },
    {
     "data": {
      "text/html": [
       "Run data is saved locally in <code>c:\\Users\\18611\\Desktop\\70122\\wandb\\run-20250321_055136-s0zbnlup</code>"
      ],
      "text/plain": [
       "<IPython.core.display.HTML object>"
      ]
     },
     "metadata": {},
     "output_type": "display_data"
    },
    {
     "data": {
      "text/html": [
       "Syncing run <strong><a href='https://wandb.ai/yhanluo22-imperial-college-london/svr-hyperparameter-sweep/runs/s0zbnlup' target=\"_blank\">sandy-darkness-12</a></strong> to <a href='https://wandb.ai/yhanluo22-imperial-college-london/svr-hyperparameter-sweep' target=\"_blank\">Weights & Biases</a> (<a href='https://wandb.me/developer-guide' target=\"_blank\">docs</a>)<br>"
      ],
      "text/plain": [
       "<IPython.core.display.HTML object>"
      ]
     },
     "metadata": {},
     "output_type": "display_data"
    },
    {
     "data": {
      "text/html": [
       " View project at <a href='https://wandb.ai/yhanluo22-imperial-college-london/svr-hyperparameter-sweep' target=\"_blank\">https://wandb.ai/yhanluo22-imperial-college-london/svr-hyperparameter-sweep</a>"
      ],
      "text/plain": [
       "<IPython.core.display.HTML object>"
      ]
     },
     "metadata": {},
     "output_type": "display_data"
    },
    {
     "data": {
      "text/html": [
       " View run at <a href='https://wandb.ai/yhanluo22-imperial-college-london/svr-hyperparameter-sweep/runs/s0zbnlup' target=\"_blank\">https://wandb.ai/yhanluo22-imperial-college-london/svr-hyperparameter-sweep/runs/s0zbnlup</a>"
      ],
      "text/plain": [
       "<IPython.core.display.HTML object>"
      ]
     },
     "metadata": {},
     "output_type": "display_data"
    },
    {
     "name": "stdout",
     "output_type": "stream",
     "text": [
      "\n",
      "=== Hyperparams: C=0.1, epsilon=0.1, kernel=rbf ===\n",
      "Validation MSE: 0.0258\n"
     ]
    },
    {
     "data": {
      "text/html": [],
      "text/plain": [
       "<IPython.core.display.HTML object>"
      ]
     },
     "metadata": {},
     "output_type": "display_data"
    },
    {
     "data": {
      "text/html": [
       "<br>    <style><br>        .wandb-row {<br>            display: flex;<br>            flex-direction: row;<br>            flex-wrap: wrap;<br>            justify-content: flex-start;<br>            width: 100%;<br>        }<br>        .wandb-col {<br>            display: flex;<br>            flex-direction: column;<br>            flex-basis: 100%;<br>            flex: 1;<br>            padding: 10px;<br>        }<br>    </style><br><div class=\"wandb-row\"><div class=\"wandb-col\"><h3>Run history:</h3><br/><table class=\"wandb\"><tr><td>val_mse</td><td>▁</td></tr></table><br/></div><div class=\"wandb-col\"><h3>Run summary:</h3><br/><table class=\"wandb\"><tr><td>val_mse</td><td>0.02584</td></tr></table><br/></div></div>"
      ],
      "text/plain": [
       "<IPython.core.display.HTML object>"
      ]
     },
     "metadata": {},
     "output_type": "display_data"
    },
    {
     "data": {
      "text/html": [
       " View run <strong style=\"color:#cdcd00\">sandy-darkness-12</strong> at: <a href='https://wandb.ai/yhanluo22-imperial-college-london/svr-hyperparameter-sweep/runs/s0zbnlup' target=\"_blank\">https://wandb.ai/yhanluo22-imperial-college-london/svr-hyperparameter-sweep/runs/s0zbnlup</a><br> View project at: <a href='https://wandb.ai/yhanluo22-imperial-college-london/svr-hyperparameter-sweep' target=\"_blank\">https://wandb.ai/yhanluo22-imperial-college-london/svr-hyperparameter-sweep</a><br>Synced 5 W&B file(s), 0 media file(s), 0 artifact file(s) and 0 other file(s)"
      ],
      "text/plain": [
       "<IPython.core.display.HTML object>"
      ]
     },
     "metadata": {},
     "output_type": "display_data"
    },
    {
     "data": {
      "text/html": [
       "Find logs at: <code>.\\wandb\\run-20250321_055136-s0zbnlup\\logs</code>"
      ],
      "text/plain": [
       "<IPython.core.display.HTML object>"
      ]
     },
     "metadata": {},
     "output_type": "display_data"
    },
    {
     "data": {
      "text/html": [
       "Tracking run with wandb version 0.19.7"
      ],
      "text/plain": [
       "<IPython.core.display.HTML object>"
      ]
     },
     "metadata": {},
     "output_type": "display_data"
    },
    {
     "data": {
      "text/html": [
       "Run data is saved locally in <code>c:\\Users\\18611\\Desktop\\70122\\wandb\\run-20250321_055139-bq51mha0</code>"
      ],
      "text/plain": [
       "<IPython.core.display.HTML object>"
      ]
     },
     "metadata": {},
     "output_type": "display_data"
    },
    {
     "data": {
      "text/html": [
       "Syncing run <strong><a href='https://wandb.ai/yhanluo22-imperial-college-london/svr-hyperparameter-sweep/runs/bq51mha0' target=\"_blank\">glorious-breeze-13</a></strong> to <a href='https://wandb.ai/yhanluo22-imperial-college-london/svr-hyperparameter-sweep' target=\"_blank\">Weights & Biases</a> (<a href='https://wandb.me/developer-guide' target=\"_blank\">docs</a>)<br>"
      ],
      "text/plain": [
       "<IPython.core.display.HTML object>"
      ]
     },
     "metadata": {},
     "output_type": "display_data"
    },
    {
     "data": {
      "text/html": [
       " View project at <a href='https://wandb.ai/yhanluo22-imperial-college-london/svr-hyperparameter-sweep' target=\"_blank\">https://wandb.ai/yhanluo22-imperial-college-london/svr-hyperparameter-sweep</a>"
      ],
      "text/plain": [
       "<IPython.core.display.HTML object>"
      ]
     },
     "metadata": {},
     "output_type": "display_data"
    },
    {
     "data": {
      "text/html": [
       " View run at <a href='https://wandb.ai/yhanluo22-imperial-college-london/svr-hyperparameter-sweep/runs/bq51mha0' target=\"_blank\">https://wandb.ai/yhanluo22-imperial-college-london/svr-hyperparameter-sweep/runs/bq51mha0</a>"
      ],
      "text/plain": [
       "<IPython.core.display.HTML object>"
      ]
     },
     "metadata": {},
     "output_type": "display_data"
    },
    {
     "name": "stdout",
     "output_type": "stream",
     "text": [
      "\n",
      "=== Hyperparams: C=0.1, epsilon=0.5, kernel=rbf ===\n",
      "Validation MSE: 0.0781\n"
     ]
    },
    {
     "data": {
      "text/html": [],
      "text/plain": [
       "<IPython.core.display.HTML object>"
      ]
     },
     "metadata": {},
     "output_type": "display_data"
    },
    {
     "data": {
      "text/html": [
       "<br>    <style><br>        .wandb-row {<br>            display: flex;<br>            flex-direction: row;<br>            flex-wrap: wrap;<br>            justify-content: flex-start;<br>            width: 100%;<br>        }<br>        .wandb-col {<br>            display: flex;<br>            flex-direction: column;<br>            flex-basis: 100%;<br>            flex: 1;<br>            padding: 10px;<br>        }<br>    </style><br><div class=\"wandb-row\"><div class=\"wandb-col\"><h3>Run history:</h3><br/><table class=\"wandb\"><tr><td>val_mse</td><td>▁</td></tr></table><br/></div><div class=\"wandb-col\"><h3>Run summary:</h3><br/><table class=\"wandb\"><tr><td>val_mse</td><td>0.07811</td></tr></table><br/></div></div>"
      ],
      "text/plain": [
       "<IPython.core.display.HTML object>"
      ]
     },
     "metadata": {},
     "output_type": "display_data"
    },
    {
     "data": {
      "text/html": [
       " View run <strong style=\"color:#cdcd00\">glorious-breeze-13</strong> at: <a href='https://wandb.ai/yhanluo22-imperial-college-london/svr-hyperparameter-sweep/runs/bq51mha0' target=\"_blank\">https://wandb.ai/yhanluo22-imperial-college-london/svr-hyperparameter-sweep/runs/bq51mha0</a><br> View project at: <a href='https://wandb.ai/yhanluo22-imperial-college-london/svr-hyperparameter-sweep' target=\"_blank\">https://wandb.ai/yhanluo22-imperial-college-london/svr-hyperparameter-sweep</a><br>Synced 5 W&B file(s), 0 media file(s), 0 artifact file(s) and 0 other file(s)"
      ],
      "text/plain": [
       "<IPython.core.display.HTML object>"
      ]
     },
     "metadata": {},
     "output_type": "display_data"
    },
    {
     "data": {
      "text/html": [
       "Find logs at: <code>.\\wandb\\run-20250321_055139-bq51mha0\\logs</code>"
      ],
      "text/plain": [
       "<IPython.core.display.HTML object>"
      ]
     },
     "metadata": {},
     "output_type": "display_data"
    },
    {
     "data": {
      "text/html": [
       "Tracking run with wandb version 0.19.7"
      ],
      "text/plain": [
       "<IPython.core.display.HTML object>"
      ]
     },
     "metadata": {},
     "output_type": "display_data"
    },
    {
     "data": {
      "text/html": [
       "Run data is saved locally in <code>c:\\Users\\18611\\Desktop\\70122\\wandb\\run-20250321_055142-3rkvzz25</code>"
      ],
      "text/plain": [
       "<IPython.core.display.HTML object>"
      ]
     },
     "metadata": {},
     "output_type": "display_data"
    },
    {
     "data": {
      "text/html": [
       "Syncing run <strong><a href='https://wandb.ai/yhanluo22-imperial-college-london/svr-hyperparameter-sweep/runs/3rkvzz25' target=\"_blank\">feasible-water-14</a></strong> to <a href='https://wandb.ai/yhanluo22-imperial-college-london/svr-hyperparameter-sweep' target=\"_blank\">Weights & Biases</a> (<a href='https://wandb.me/developer-guide' target=\"_blank\">docs</a>)<br>"
      ],
      "text/plain": [
       "<IPython.core.display.HTML object>"
      ]
     },
     "metadata": {},
     "output_type": "display_data"
    },
    {
     "data": {
      "text/html": [
       " View project at <a href='https://wandb.ai/yhanluo22-imperial-college-london/svr-hyperparameter-sweep' target=\"_blank\">https://wandb.ai/yhanluo22-imperial-college-london/svr-hyperparameter-sweep</a>"
      ],
      "text/plain": [
       "<IPython.core.display.HTML object>"
      ]
     },
     "metadata": {},
     "output_type": "display_data"
    },
    {
     "data": {
      "text/html": [
       " View run at <a href='https://wandb.ai/yhanluo22-imperial-college-london/svr-hyperparameter-sweep/runs/3rkvzz25' target=\"_blank\">https://wandb.ai/yhanluo22-imperial-college-london/svr-hyperparameter-sweep/runs/3rkvzz25</a>"
      ],
      "text/plain": [
       "<IPython.core.display.HTML object>"
      ]
     },
     "metadata": {},
     "output_type": "display_data"
    },
    {
     "name": "stdout",
     "output_type": "stream",
     "text": [
      "\n",
      "=== Hyperparams: C=1, epsilon=0.01, kernel=rbf ===\n",
      "Validation MSE: 0.0033\n"
     ]
    },
    {
     "data": {
      "text/html": [],
      "text/plain": [
       "<IPython.core.display.HTML object>"
      ]
     },
     "metadata": {},
     "output_type": "display_data"
    },
    {
     "data": {
      "text/html": [
       "<br>    <style><br>        .wandb-row {<br>            display: flex;<br>            flex-direction: row;<br>            flex-wrap: wrap;<br>            justify-content: flex-start;<br>            width: 100%;<br>        }<br>        .wandb-col {<br>            display: flex;<br>            flex-direction: column;<br>            flex-basis: 100%;<br>            flex: 1;<br>            padding: 10px;<br>        }<br>    </style><br><div class=\"wandb-row\"><div class=\"wandb-col\"><h3>Run history:</h3><br/><table class=\"wandb\"><tr><td>val_mse</td><td>▁</td></tr></table><br/></div><div class=\"wandb-col\"><h3>Run summary:</h3><br/><table class=\"wandb\"><tr><td>val_mse</td><td>0.00327</td></tr></table><br/></div></div>"
      ],
      "text/plain": [
       "<IPython.core.display.HTML object>"
      ]
     },
     "metadata": {},
     "output_type": "display_data"
    },
    {
     "data": {
      "text/html": [
       " View run <strong style=\"color:#cdcd00\">feasible-water-14</strong> at: <a href='https://wandb.ai/yhanluo22-imperial-college-london/svr-hyperparameter-sweep/runs/3rkvzz25' target=\"_blank\">https://wandb.ai/yhanluo22-imperial-college-london/svr-hyperparameter-sweep/runs/3rkvzz25</a><br> View project at: <a href='https://wandb.ai/yhanluo22-imperial-college-london/svr-hyperparameter-sweep' target=\"_blank\">https://wandb.ai/yhanluo22-imperial-college-london/svr-hyperparameter-sweep</a><br>Synced 5 W&B file(s), 0 media file(s), 0 artifact file(s) and 0 other file(s)"
      ],
      "text/plain": [
       "<IPython.core.display.HTML object>"
      ]
     },
     "metadata": {},
     "output_type": "display_data"
    },
    {
     "data": {
      "text/html": [
       "Find logs at: <code>.\\wandb\\run-20250321_055142-3rkvzz25\\logs</code>"
      ],
      "text/plain": [
       "<IPython.core.display.HTML object>"
      ]
     },
     "metadata": {},
     "output_type": "display_data"
    },
    {
     "data": {
      "text/html": [
       "Tracking run with wandb version 0.19.7"
      ],
      "text/plain": [
       "<IPython.core.display.HTML object>"
      ]
     },
     "metadata": {},
     "output_type": "display_data"
    },
    {
     "data": {
      "text/html": [
       "Run data is saved locally in <code>c:\\Users\\18611\\Desktop\\70122\\wandb\\run-20250321_055146-en7x4guc</code>"
      ],
      "text/plain": [
       "<IPython.core.display.HTML object>"
      ]
     },
     "metadata": {},
     "output_type": "display_data"
    },
    {
     "data": {
      "text/html": [
       "Syncing run <strong><a href='https://wandb.ai/yhanluo22-imperial-college-london/svr-hyperparameter-sweep/runs/en7x4guc' target=\"_blank\">brisk-bush-15</a></strong> to <a href='https://wandb.ai/yhanluo22-imperial-college-london/svr-hyperparameter-sweep' target=\"_blank\">Weights & Biases</a> (<a href='https://wandb.me/developer-guide' target=\"_blank\">docs</a>)<br>"
      ],
      "text/plain": [
       "<IPython.core.display.HTML object>"
      ]
     },
     "metadata": {},
     "output_type": "display_data"
    },
    {
     "data": {
      "text/html": [
       " View project at <a href='https://wandb.ai/yhanluo22-imperial-college-london/svr-hyperparameter-sweep' target=\"_blank\">https://wandb.ai/yhanluo22-imperial-college-london/svr-hyperparameter-sweep</a>"
      ],
      "text/plain": [
       "<IPython.core.display.HTML object>"
      ]
     },
     "metadata": {},
     "output_type": "display_data"
    },
    {
     "data": {
      "text/html": [
       " View run at <a href='https://wandb.ai/yhanluo22-imperial-college-london/svr-hyperparameter-sweep/runs/en7x4guc' target=\"_blank\">https://wandb.ai/yhanluo22-imperial-college-london/svr-hyperparameter-sweep/runs/en7x4guc</a>"
      ],
      "text/plain": [
       "<IPython.core.display.HTML object>"
      ]
     },
     "metadata": {},
     "output_type": "display_data"
    },
    {
     "name": "stdout",
     "output_type": "stream",
     "text": [
      "\n",
      "=== Hyperparams: C=1, epsilon=0.1, kernel=rbf ===\n",
      "Validation MSE: 0.0052\n"
     ]
    },
    {
     "data": {
      "text/html": [],
      "text/plain": [
       "<IPython.core.display.HTML object>"
      ]
     },
     "metadata": {},
     "output_type": "display_data"
    },
    {
     "data": {
      "text/html": [
       "<br>    <style><br>        .wandb-row {<br>            display: flex;<br>            flex-direction: row;<br>            flex-wrap: wrap;<br>            justify-content: flex-start;<br>            width: 100%;<br>        }<br>        .wandb-col {<br>            display: flex;<br>            flex-direction: column;<br>            flex-basis: 100%;<br>            flex: 1;<br>            padding: 10px;<br>        }<br>    </style><br><div class=\"wandb-row\"><div class=\"wandb-col\"><h3>Run history:</h3><br/><table class=\"wandb\"><tr><td>val_mse</td><td>▁</td></tr></table><br/></div><div class=\"wandb-col\"><h3>Run summary:</h3><br/><table class=\"wandb\"><tr><td>val_mse</td><td>0.00516</td></tr></table><br/></div></div>"
      ],
      "text/plain": [
       "<IPython.core.display.HTML object>"
      ]
     },
     "metadata": {},
     "output_type": "display_data"
    },
    {
     "data": {
      "text/html": [
       " View run <strong style=\"color:#cdcd00\">brisk-bush-15</strong> at: <a href='https://wandb.ai/yhanluo22-imperial-college-london/svr-hyperparameter-sweep/runs/en7x4guc' target=\"_blank\">https://wandb.ai/yhanluo22-imperial-college-london/svr-hyperparameter-sweep/runs/en7x4guc</a><br> View project at: <a href='https://wandb.ai/yhanluo22-imperial-college-london/svr-hyperparameter-sweep' target=\"_blank\">https://wandb.ai/yhanluo22-imperial-college-london/svr-hyperparameter-sweep</a><br>Synced 5 W&B file(s), 0 media file(s), 0 artifact file(s) and 0 other file(s)"
      ],
      "text/plain": [
       "<IPython.core.display.HTML object>"
      ]
     },
     "metadata": {},
     "output_type": "display_data"
    },
    {
     "data": {
      "text/html": [
       "Find logs at: <code>.\\wandb\\run-20250321_055146-en7x4guc\\logs</code>"
      ],
      "text/plain": [
       "<IPython.core.display.HTML object>"
      ]
     },
     "metadata": {},
     "output_type": "display_data"
    },
    {
     "data": {
      "text/html": [
       "Tracking run with wandb version 0.19.7"
      ],
      "text/plain": [
       "<IPython.core.display.HTML object>"
      ]
     },
     "metadata": {},
     "output_type": "display_data"
    },
    {
     "data": {
      "text/html": [
       "Run data is saved locally in <code>c:\\Users\\18611\\Desktop\\70122\\wandb\\run-20250321_055149-qzvlf1zs</code>"
      ],
      "text/plain": [
       "<IPython.core.display.HTML object>"
      ]
     },
     "metadata": {},
     "output_type": "display_data"
    },
    {
     "data": {
      "text/html": [
       "Syncing run <strong><a href='https://wandb.ai/yhanluo22-imperial-college-london/svr-hyperparameter-sweep/runs/qzvlf1zs' target=\"_blank\">elated-star-16</a></strong> to <a href='https://wandb.ai/yhanluo22-imperial-college-london/svr-hyperparameter-sweep' target=\"_blank\">Weights & Biases</a> (<a href='https://wandb.me/developer-guide' target=\"_blank\">docs</a>)<br>"
      ],
      "text/plain": [
       "<IPython.core.display.HTML object>"
      ]
     },
     "metadata": {},
     "output_type": "display_data"
    },
    {
     "data": {
      "text/html": [
       " View project at <a href='https://wandb.ai/yhanluo22-imperial-college-london/svr-hyperparameter-sweep' target=\"_blank\">https://wandb.ai/yhanluo22-imperial-college-london/svr-hyperparameter-sweep</a>"
      ],
      "text/plain": [
       "<IPython.core.display.HTML object>"
      ]
     },
     "metadata": {},
     "output_type": "display_data"
    },
    {
     "data": {
      "text/html": [
       " View run at <a href='https://wandb.ai/yhanluo22-imperial-college-london/svr-hyperparameter-sweep/runs/qzvlf1zs' target=\"_blank\">https://wandb.ai/yhanluo22-imperial-college-london/svr-hyperparameter-sweep/runs/qzvlf1zs</a>"
      ],
      "text/plain": [
       "<IPython.core.display.HTML object>"
      ]
     },
     "metadata": {},
     "output_type": "display_data"
    },
    {
     "name": "stdout",
     "output_type": "stream",
     "text": [
      "\n",
      "=== Hyperparams: C=1, epsilon=0.5, kernel=rbf ===\n",
      "Validation MSE: 0.0491\n"
     ]
    },
    {
     "data": {
      "text/html": [],
      "text/plain": [
       "<IPython.core.display.HTML object>"
      ]
     },
     "metadata": {},
     "output_type": "display_data"
    },
    {
     "data": {
      "text/html": [
       "<br>    <style><br>        .wandb-row {<br>            display: flex;<br>            flex-direction: row;<br>            flex-wrap: wrap;<br>            justify-content: flex-start;<br>            width: 100%;<br>        }<br>        .wandb-col {<br>            display: flex;<br>            flex-direction: column;<br>            flex-basis: 100%;<br>            flex: 1;<br>            padding: 10px;<br>        }<br>    </style><br><div class=\"wandb-row\"><div class=\"wandb-col\"><h3>Run history:</h3><br/><table class=\"wandb\"><tr><td>val_mse</td><td>▁</td></tr></table><br/></div><div class=\"wandb-col\"><h3>Run summary:</h3><br/><table class=\"wandb\"><tr><td>val_mse</td><td>0.04906</td></tr></table><br/></div></div>"
      ],
      "text/plain": [
       "<IPython.core.display.HTML object>"
      ]
     },
     "metadata": {},
     "output_type": "display_data"
    },
    {
     "data": {
      "text/html": [
       " View run <strong style=\"color:#cdcd00\">elated-star-16</strong> at: <a href='https://wandb.ai/yhanluo22-imperial-college-london/svr-hyperparameter-sweep/runs/qzvlf1zs' target=\"_blank\">https://wandb.ai/yhanluo22-imperial-college-london/svr-hyperparameter-sweep/runs/qzvlf1zs</a><br> View project at: <a href='https://wandb.ai/yhanluo22-imperial-college-london/svr-hyperparameter-sweep' target=\"_blank\">https://wandb.ai/yhanluo22-imperial-college-london/svr-hyperparameter-sweep</a><br>Synced 5 W&B file(s), 0 media file(s), 0 artifact file(s) and 0 other file(s)"
      ],
      "text/plain": [
       "<IPython.core.display.HTML object>"
      ]
     },
     "metadata": {},
     "output_type": "display_data"
    },
    {
     "data": {
      "text/html": [
       "Find logs at: <code>.\\wandb\\run-20250321_055149-qzvlf1zs\\logs</code>"
      ],
      "text/plain": [
       "<IPython.core.display.HTML object>"
      ]
     },
     "metadata": {},
     "output_type": "display_data"
    },
    {
     "data": {
      "text/html": [
       "Tracking run with wandb version 0.19.7"
      ],
      "text/plain": [
       "<IPython.core.display.HTML object>"
      ]
     },
     "metadata": {},
     "output_type": "display_data"
    },
    {
     "data": {
      "text/html": [
       "Run data is saved locally in <code>c:\\Users\\18611\\Desktop\\70122\\wandb\\run-20250321_055152-blugc723</code>"
      ],
      "text/plain": [
       "<IPython.core.display.HTML object>"
      ]
     },
     "metadata": {},
     "output_type": "display_data"
    },
    {
     "data": {
      "text/html": [
       "Syncing run <strong><a href='https://wandb.ai/yhanluo22-imperial-college-london/svr-hyperparameter-sweep/runs/blugc723' target=\"_blank\">ancient-bee-17</a></strong> to <a href='https://wandb.ai/yhanluo22-imperial-college-london/svr-hyperparameter-sweep' target=\"_blank\">Weights & Biases</a> (<a href='https://wandb.me/developer-guide' target=\"_blank\">docs</a>)<br>"
      ],
      "text/plain": [
       "<IPython.core.display.HTML object>"
      ]
     },
     "metadata": {},
     "output_type": "display_data"
    },
    {
     "data": {
      "text/html": [
       " View project at <a href='https://wandb.ai/yhanluo22-imperial-college-london/svr-hyperparameter-sweep' target=\"_blank\">https://wandb.ai/yhanluo22-imperial-college-london/svr-hyperparameter-sweep</a>"
      ],
      "text/plain": [
       "<IPython.core.display.HTML object>"
      ]
     },
     "metadata": {},
     "output_type": "display_data"
    },
    {
     "data": {
      "text/html": [
       " View run at <a href='https://wandb.ai/yhanluo22-imperial-college-london/svr-hyperparameter-sweep/runs/blugc723' target=\"_blank\">https://wandb.ai/yhanluo22-imperial-college-london/svr-hyperparameter-sweep/runs/blugc723</a>"
      ],
      "text/plain": [
       "<IPython.core.display.HTML object>"
      ]
     },
     "metadata": {},
     "output_type": "display_data"
    },
    {
     "name": "stdout",
     "output_type": "stream",
     "text": [
      "\n",
      "=== Hyperparams: C=10, epsilon=0.01, kernel=rbf ===\n",
      "Validation MSE: 0.0025\n"
     ]
    },
    {
     "data": {
      "text/html": [],
      "text/plain": [
       "<IPython.core.display.HTML object>"
      ]
     },
     "metadata": {},
     "output_type": "display_data"
    },
    {
     "data": {
      "text/html": [
       "<br>    <style><br>        .wandb-row {<br>            display: flex;<br>            flex-direction: row;<br>            flex-wrap: wrap;<br>            justify-content: flex-start;<br>            width: 100%;<br>        }<br>        .wandb-col {<br>            display: flex;<br>            flex-direction: column;<br>            flex-basis: 100%;<br>            flex: 1;<br>            padding: 10px;<br>        }<br>    </style><br><div class=\"wandb-row\"><div class=\"wandb-col\"><h3>Run history:</h3><br/><table class=\"wandb\"><tr><td>val_mse</td><td>▁</td></tr></table><br/></div><div class=\"wandb-col\"><h3>Run summary:</h3><br/><table class=\"wandb\"><tr><td>val_mse</td><td>0.00249</td></tr></table><br/></div></div>"
      ],
      "text/plain": [
       "<IPython.core.display.HTML object>"
      ]
     },
     "metadata": {},
     "output_type": "display_data"
    },
    {
     "data": {
      "text/html": [
       " View run <strong style=\"color:#cdcd00\">ancient-bee-17</strong> at: <a href='https://wandb.ai/yhanluo22-imperial-college-london/svr-hyperparameter-sweep/runs/blugc723' target=\"_blank\">https://wandb.ai/yhanluo22-imperial-college-london/svr-hyperparameter-sweep/runs/blugc723</a><br> View project at: <a href='https://wandb.ai/yhanluo22-imperial-college-london/svr-hyperparameter-sweep' target=\"_blank\">https://wandb.ai/yhanluo22-imperial-college-london/svr-hyperparameter-sweep</a><br>Synced 5 W&B file(s), 0 media file(s), 0 artifact file(s) and 0 other file(s)"
      ],
      "text/plain": [
       "<IPython.core.display.HTML object>"
      ]
     },
     "metadata": {},
     "output_type": "display_data"
    },
    {
     "data": {
      "text/html": [
       "Find logs at: <code>.\\wandb\\run-20250321_055152-blugc723\\logs</code>"
      ],
      "text/plain": [
       "<IPython.core.display.HTML object>"
      ]
     },
     "metadata": {},
     "output_type": "display_data"
    },
    {
     "data": {
      "text/html": [
       "Tracking run with wandb version 0.19.7"
      ],
      "text/plain": [
       "<IPython.core.display.HTML object>"
      ]
     },
     "metadata": {},
     "output_type": "display_data"
    },
    {
     "data": {
      "text/html": [
       "Run data is saved locally in <code>c:\\Users\\18611\\Desktop\\70122\\wandb\\run-20250321_055157-tvqodwc0</code>"
      ],
      "text/plain": [
       "<IPython.core.display.HTML object>"
      ]
     },
     "metadata": {},
     "output_type": "display_data"
    },
    {
     "data": {
      "text/html": [
       "Syncing run <strong><a href='https://wandb.ai/yhanluo22-imperial-college-london/svr-hyperparameter-sweep/runs/tvqodwc0' target=\"_blank\">silver-spaceship-18</a></strong> to <a href='https://wandb.ai/yhanluo22-imperial-college-london/svr-hyperparameter-sweep' target=\"_blank\">Weights & Biases</a> (<a href='https://wandb.me/developer-guide' target=\"_blank\">docs</a>)<br>"
      ],
      "text/plain": [
       "<IPython.core.display.HTML object>"
      ]
     },
     "metadata": {},
     "output_type": "display_data"
    },
    {
     "data": {
      "text/html": [
       " View project at <a href='https://wandb.ai/yhanluo22-imperial-college-london/svr-hyperparameter-sweep' target=\"_blank\">https://wandb.ai/yhanluo22-imperial-college-london/svr-hyperparameter-sweep</a>"
      ],
      "text/plain": [
       "<IPython.core.display.HTML object>"
      ]
     },
     "metadata": {},
     "output_type": "display_data"
    },
    {
     "data": {
      "text/html": [
       " View run at <a href='https://wandb.ai/yhanluo22-imperial-college-london/svr-hyperparameter-sweep/runs/tvqodwc0' target=\"_blank\">https://wandb.ai/yhanluo22-imperial-college-london/svr-hyperparameter-sweep/runs/tvqodwc0</a>"
      ],
      "text/plain": [
       "<IPython.core.display.HTML object>"
      ]
     },
     "metadata": {},
     "output_type": "display_data"
    },
    {
     "name": "stdout",
     "output_type": "stream",
     "text": [
      "\n",
      "=== Hyperparams: C=10, epsilon=0.1, kernel=rbf ===\n",
      "Validation MSE: 0.0045\n"
     ]
    },
    {
     "data": {
      "text/html": [],
      "text/plain": [
       "<IPython.core.display.HTML object>"
      ]
     },
     "metadata": {},
     "output_type": "display_data"
    },
    {
     "data": {
      "text/html": [
       "<br>    <style><br>        .wandb-row {<br>            display: flex;<br>            flex-direction: row;<br>            flex-wrap: wrap;<br>            justify-content: flex-start;<br>            width: 100%;<br>        }<br>        .wandb-col {<br>            display: flex;<br>            flex-direction: column;<br>            flex-basis: 100%;<br>            flex: 1;<br>            padding: 10px;<br>        }<br>    </style><br><div class=\"wandb-row\"><div class=\"wandb-col\"><h3>Run history:</h3><br/><table class=\"wandb\"><tr><td>val_mse</td><td>▁</td></tr></table><br/></div><div class=\"wandb-col\"><h3>Run summary:</h3><br/><table class=\"wandb\"><tr><td>val_mse</td><td>0.00446</td></tr></table><br/></div></div>"
      ],
      "text/plain": [
       "<IPython.core.display.HTML object>"
      ]
     },
     "metadata": {},
     "output_type": "display_data"
    },
    {
     "data": {
      "text/html": [
       " View run <strong style=\"color:#cdcd00\">silver-spaceship-18</strong> at: <a href='https://wandb.ai/yhanluo22-imperial-college-london/svr-hyperparameter-sweep/runs/tvqodwc0' target=\"_blank\">https://wandb.ai/yhanluo22-imperial-college-london/svr-hyperparameter-sweep/runs/tvqodwc0</a><br> View project at: <a href='https://wandb.ai/yhanluo22-imperial-college-london/svr-hyperparameter-sweep' target=\"_blank\">https://wandb.ai/yhanluo22-imperial-college-london/svr-hyperparameter-sweep</a><br>Synced 5 W&B file(s), 0 media file(s), 0 artifact file(s) and 0 other file(s)"
      ],
      "text/plain": [
       "<IPython.core.display.HTML object>"
      ]
     },
     "metadata": {},
     "output_type": "display_data"
    },
    {
     "data": {
      "text/html": [
       "Find logs at: <code>.\\wandb\\run-20250321_055157-tvqodwc0\\logs</code>"
      ],
      "text/plain": [
       "<IPython.core.display.HTML object>"
      ]
     },
     "metadata": {},
     "output_type": "display_data"
    },
    {
     "data": {
      "text/html": [
       "Tracking run with wandb version 0.19.7"
      ],
      "text/plain": [
       "<IPython.core.display.HTML object>"
      ]
     },
     "metadata": {},
     "output_type": "display_data"
    },
    {
     "data": {
      "text/html": [
       "Run data is saved locally in <code>c:\\Users\\18611\\Desktop\\70122\\wandb\\run-20250321_055200-vlhn8z4t</code>"
      ],
      "text/plain": [
       "<IPython.core.display.HTML object>"
      ]
     },
     "metadata": {},
     "output_type": "display_data"
    },
    {
     "data": {
      "text/html": [
       "Syncing run <strong><a href='https://wandb.ai/yhanluo22-imperial-college-london/svr-hyperparameter-sweep/runs/vlhn8z4t' target=\"_blank\">lyric-capybara-19</a></strong> to <a href='https://wandb.ai/yhanluo22-imperial-college-london/svr-hyperparameter-sweep' target=\"_blank\">Weights & Biases</a> (<a href='https://wandb.me/developer-guide' target=\"_blank\">docs</a>)<br>"
      ],
      "text/plain": [
       "<IPython.core.display.HTML object>"
      ]
     },
     "metadata": {},
     "output_type": "display_data"
    },
    {
     "data": {
      "text/html": [
       " View project at <a href='https://wandb.ai/yhanluo22-imperial-college-london/svr-hyperparameter-sweep' target=\"_blank\">https://wandb.ai/yhanluo22-imperial-college-london/svr-hyperparameter-sweep</a>"
      ],
      "text/plain": [
       "<IPython.core.display.HTML object>"
      ]
     },
     "metadata": {},
     "output_type": "display_data"
    },
    {
     "data": {
      "text/html": [
       " View run at <a href='https://wandb.ai/yhanluo22-imperial-college-london/svr-hyperparameter-sweep/runs/vlhn8z4t' target=\"_blank\">https://wandb.ai/yhanluo22-imperial-college-london/svr-hyperparameter-sweep/runs/vlhn8z4t</a>"
      ],
      "text/plain": [
       "<IPython.core.display.HTML object>"
      ]
     },
     "metadata": {},
     "output_type": "display_data"
    },
    {
     "name": "stdout",
     "output_type": "stream",
     "text": [
      "\n",
      "=== Hyperparams: C=10, epsilon=0.5, kernel=rbf ===\n",
      "Validation MSE: 0.0500\n"
     ]
    },
    {
     "data": {
      "text/html": [],
      "text/plain": [
       "<IPython.core.display.HTML object>"
      ]
     },
     "metadata": {},
     "output_type": "display_data"
    },
    {
     "data": {
      "text/html": [
       "<br>    <style><br>        .wandb-row {<br>            display: flex;<br>            flex-direction: row;<br>            flex-wrap: wrap;<br>            justify-content: flex-start;<br>            width: 100%;<br>        }<br>        .wandb-col {<br>            display: flex;<br>            flex-direction: column;<br>            flex-basis: 100%;<br>            flex: 1;<br>            padding: 10px;<br>        }<br>    </style><br><div class=\"wandb-row\"><div class=\"wandb-col\"><h3>Run history:</h3><br/><table class=\"wandb\"><tr><td>val_mse</td><td>▁</td></tr></table><br/></div><div class=\"wandb-col\"><h3>Run summary:</h3><br/><table class=\"wandb\"><tr><td>val_mse</td><td>0.04998</td></tr></table><br/></div></div>"
      ],
      "text/plain": [
       "<IPython.core.display.HTML object>"
      ]
     },
     "metadata": {},
     "output_type": "display_data"
    },
    {
     "data": {
      "text/html": [
       " View run <strong style=\"color:#cdcd00\">lyric-capybara-19</strong> at: <a href='https://wandb.ai/yhanluo22-imperial-college-london/svr-hyperparameter-sweep/runs/vlhn8z4t' target=\"_blank\">https://wandb.ai/yhanluo22-imperial-college-london/svr-hyperparameter-sweep/runs/vlhn8z4t</a><br> View project at: <a href='https://wandb.ai/yhanluo22-imperial-college-london/svr-hyperparameter-sweep' target=\"_blank\">https://wandb.ai/yhanluo22-imperial-college-london/svr-hyperparameter-sweep</a><br>Synced 5 W&B file(s), 0 media file(s), 0 artifact file(s) and 0 other file(s)"
      ],
      "text/plain": [
       "<IPython.core.display.HTML object>"
      ]
     },
     "metadata": {},
     "output_type": "display_data"
    },
    {
     "data": {
      "text/html": [
       "Find logs at: <code>.\\wandb\\run-20250321_055200-vlhn8z4t\\logs</code>"
      ],
      "text/plain": [
       "<IPython.core.display.HTML object>"
      ]
     },
     "metadata": {},
     "output_type": "display_data"
    },
    {
     "name": "stdout",
     "output_type": "stream",
     "text": [
      "\n",
      "Best hyperparams found: {'C': 10, 'epsilon': 0.01, 'kernel': 'rbf'}\n",
      "Best val MSE: 0.002490524827523123\n"
     ]
    },
    {
     "data": {
      "text/html": [
       "Tracking run with wandb version 0.19.7"
      ],
      "text/plain": [
       "<IPython.core.display.HTML object>"
      ]
     },
     "metadata": {},
     "output_type": "display_data"
    },
    {
     "data": {
      "text/html": [
       "Run data is saved locally in <code>c:\\Users\\18611\\Desktop\\70122\\wandb\\run-20250321_055203-hvby3yee</code>"
      ],
      "text/plain": [
       "<IPython.core.display.HTML object>"
      ]
     },
     "metadata": {},
     "output_type": "display_data"
    },
    {
     "data": {
      "text/html": [
       "Syncing run <strong><a href='https://wandb.ai/yhanluo22-imperial-college-london/svr-hyperparameter-sweep/runs/hvby3yee' target=\"_blank\">final_evaluation</a></strong> to <a href='https://wandb.ai/yhanluo22-imperial-college-london/svr-hyperparameter-sweep' target=\"_blank\">Weights & Biases</a> (<a href='https://wandb.me/developer-guide' target=\"_blank\">docs</a>)<br>"
      ],
      "text/plain": [
       "<IPython.core.display.HTML object>"
      ]
     },
     "metadata": {},
     "output_type": "display_data"
    },
    {
     "data": {
      "text/html": [
       " View project at <a href='https://wandb.ai/yhanluo22-imperial-college-london/svr-hyperparameter-sweep' target=\"_blank\">https://wandb.ai/yhanluo22-imperial-college-london/svr-hyperparameter-sweep</a>"
      ],
      "text/plain": [
       "<IPython.core.display.HTML object>"
      ]
     },
     "metadata": {},
     "output_type": "display_data"
    },
    {
     "data": {
      "text/html": [
       " View run at <a href='https://wandb.ai/yhanluo22-imperial-college-london/svr-hyperparameter-sweep/runs/hvby3yee' target=\"_blank\">https://wandb.ai/yhanluo22-imperial-college-london/svr-hyperparameter-sweep/runs/hvby3yee</a>"
      ],
      "text/plain": [
       "<IPython.core.display.HTML object>"
      ]
     },
     "metadata": {},
     "output_type": "display_data"
    },
    {
     "name": "stdout",
     "output_type": "stream",
     "text": [
      "Fold 1: Test MSE = 0.0061\n",
      "Fold 2: Test MSE = 0.0023\n",
      "Fold 3: Test MSE = 0.0013\n",
      "Fold 4: Test MSE = 0.0029\n",
      "Fold 5: Test MSE = 0.0031\n",
      "Fold 6: Test MSE = 0.0017\n",
      "Fold 7: Test MSE = 0.0018\n",
      "Fold 8: Test MSE = 0.0017\n",
      "Fold 9: Test MSE = 0.0022\n",
      "Fold 10: Test MSE = 0.0013\n",
      "Fold 11: Test MSE = 0.0043\n",
      "Fold 12: Test MSE = 0.0019\n",
      "Fold 13: Test MSE = 0.0026\n",
      "Fold 14: Test MSE = 0.0024\n",
      "Fold 15: Test MSE = 0.0016\n",
      "Fold 16: Test MSE = 0.0017\n",
      "Fold 17: Test MSE = 0.0026\n",
      "Fold 18: Test MSE = 0.0015\n",
      "Fold 19: Test MSE = 0.0051\n",
      "Fold 20: Test MSE = 0.0017\n",
      "\n",
      "Avg Test MSE across folds: 0.0025\n",
      "\n",
      "Final Test MSE: 8.4916\n",
      "Final Test R²: 0.9976\n",
      "Final Test MAE: 1.8821\n",
      "Final Test MAPE: 0.0075\n"
     ]
    },
    {
     "data": {
      "image/png": "[encoded data removed]",
      "text/plain": [
       "<Figure size 600x600 with 1 Axes>"
      ]
     },
     "metadata": {},
     "output_type": "display_data"
    }
   ],
   "source": [
    "import pandas as pd\n",
    "import numpy as np\n",
    "import matplotlib.pyplot as plt\n",
    "import seaborn as sns\n",
    "from sklearn.model_selection import train_test_split, GridSearchCV, KFold\n",
    "from sklearn.preprocessing import StandardScaler\n",
    "from sklearn.svm import SVR\n",
    "from sklearn.metrics import mean_squared_error, r2_score, mean_absolute_error, mean_absolute_percentage_error\n",
    "from itertools import product\n",
    "import wandb\n",
    "\n",
    "# Load dataset\n",
    "train_df = pd.read_csv(\"Dataset1_train.csv\")\n",
    "test_df = pd.read_csv(\"Dataset1_test.csv\")\n",
    "\n",
    "# Define numerical features and target variable\n",
    "numeric_features = [\n",
    "    \"Engine Size(L)\", \"Cylinders\", \"Gearbox_Number\",\n",
    "    \"Fuel Consumption City (L/100 km)\", \"Fuel Consumption Hwy (L/100 km)\",\n",
    "    \"Fuel Consumption Comb (L/100 km)\", \"Fuel Consumption Comb (mpg)\"\n",
    "]\n",
    "categorical_features = [\"Make\"]  # Only encoding `Make`\n",
    "target = \"CO2 Emissions(g/km)\"\n",
    "\n",
    "# -------- Step 1: K-Fold Target Encoding --------\n",
    "kf = KFold(n_splits=5, shuffle=True, random_state=42)\n",
    "train_encoded_df = train_df.copy()\n",
    "\n",
    "# Target encode Make\n",
    "train_encoded_df[\"Make_encoded\"] = np.nan\n",
    "for train_idx, val_idx in kf.split(train_df):\n",
    "    fold_train = train_df.iloc[train_idx]\n",
    "    target_mean = fold_train.groupby(\"Make\")[target].mean()\n",
    "    valid_idx = train_encoded_df.index.intersection(val_idx)\n",
    "    train_encoded_df.loc[valid_idx, \"Make_encoded\"] = train_df.loc[valid_idx, \"Make\"].map(target_mean)\n",
    "\n",
    "train_encoded_df[\"Make_encoded\"].fillna(train_df[target].mean(), inplace=True)\n",
    "\n",
    "# Process test set\n",
    "test_encoded_df = test_df.copy()\n",
    "overall_mapping = train_df.groupby(\"Make\")[target].mean()\n",
    "test_encoded_df[\"Make_encoded\"] = test_df[\"Make\"].map(overall_mapping)\n",
    "test_encoded_df[\"Make_encoded\"].fillna(train_df[target].mean(), inplace=True)\n",
    "\n",
    "# Drop original `Make` column\n",
    "train_encoded_df.drop(columns=[\"Make\"], inplace=True)\n",
    "test_encoded_df.drop(columns=[\"Make\"], inplace=True)\n",
    "\n",
    "# -------- Step 2: Standardization --------\n",
    "# Remove 'Gearbox_Number' if it is not in the dataset\n",
    "selected_features = [feature for feature in numeric_features if feature in train_encoded_df.columns] + [\"Make_encoded\"] + [\n",
    "    col for col in train_df.columns if col.startswith((\"Model Features_\", \"Vehicle Class_\", \"Fuel Type_\"))\n",
    "]\n",
    "\n",
    "scaler_X = StandardScaler()\n",
    "X_train = scaler_X.fit_transform(train_encoded_df[selected_features])\n",
    "X_test = scaler_X.transform(test_encoded_df[selected_features])\n",
    "\n",
    "scaler_y = StandardScaler()\n",
    "y_train = scaler_y.fit_transform(train_encoded_df[target].values.reshape(-1, 1)).ravel()\n",
    "y_test = scaler_y.transform(test_encoded_df[target].values.reshape(-1, 1)).ravel()\n",
    "\n",
    "# Output shapes of processed data\n",
    "X_train.shape, X_test.shape, y_train.shape, y_test.shape\n",
    "\n",
    "# -------- Step 3: Standardization --------\n",
    "scaler_X = StandardScaler()\n",
    "X_train = scaler_X.fit_transform(train_encoded_df[selected_features])\n",
    "X_test = scaler_X.transform(test_encoded_df[selected_features])\n",
    "\n",
    "scaler_y = StandardScaler()\n",
    "y_train = scaler_y.fit_transform(train_encoded_df[target].values.reshape(-1, 1)).ravel()\n",
    "y_test = scaler_y.transform(test_encoded_df[target].values.reshape(-1, 1)).ravel()\n",
    "\n",
    "# -------- Step 4: SVR Hyperparameter Tuning --------\n",
    "# Define hyperparameter grid\n",
    "C_values = [0.1, 1, 10]\n",
    "epsilon_values = [0.01, 0.1, 0.5]\n",
    "kernel_values = [\"rbf\"]\n",
    "\n",
    "best_val_loss = float('inf')\n",
    "best_hyperparams = None\n",
    "results = []\n",
    "\n",
    "# Perform grid search without K-Fold during training\n",
    "for (C_val, epsilon_val, kernel_val) in product(C_values, epsilon_values, kernel_values):\n",
    "    # Start a wandb run\n",
    "    run_id = wandb.util.generate_id()\n",
    "    wandb.init(\n",
    "        project=\"svr-hyperparameter-sweep\",\n",
    "        id=run_id,\n",
    "        config={\n",
    "            \"C\": C_val,\n",
    "            \"epsilon\": epsilon_val,\n",
    "            \"kernel\": kernel_val\n",
    "        },\n",
    "        reinit=True\n",
    "    )\n",
    "    \n",
    "    print(f\"\\n=== Hyperparams: C={C_val}, epsilon={epsilon_val}, kernel={kernel_val} ===\")\n",
    "    \n",
    "    # Train SVR model\n",
    "    model = SVR(C=C_val, epsilon=epsilon_val, kernel=kernel_val)\n",
    "    model.fit(X_train, y_train)\n",
    "    \n",
    "    # Predict on validation set\n",
    "    val_preds = model.predict(X_test)\n",
    "    val_mse = mean_squared_error(y_test, val_preds)\n",
    "    \n",
    "    # Log validation metrics\n",
    "    wandb.log({\"val_mse\": val_mse})\n",
    "    print(f\"Validation MSE: {val_mse:.4f}\")\n",
    "    \n",
    "    # Keep track of best hyperparameters\n",
    "    if val_mse < best_val_loss:\n",
    "        best_val_loss = val_mse\n",
    "        best_hyperparams = wandb.config\n",
    "    \n",
    "    results.append(((C_val, epsilon_val, kernel_val), val_mse))\n",
    "    wandb.finish()\n",
    "\n",
    "print(\"\\nBest hyperparams found:\", best_hyperparams)\n",
    "print(\"Best val MSE:\", best_val_loss)\n",
    "\n",
    "# Train final model with best hyperparameters\n",
    "wandb.init(project=\"svr-hyperparameter-sweep\", name=\"final_evaluation\",\n",
    "           config=best_hyperparams, reinit=True)\n",
    "\n",
    "final_C = best_hyperparams[\"C\"]\n",
    "final_epsilon = best_hyperparams[\"epsilon\"]\n",
    "final_kernel = best_hyperparams[\"kernel\"]\n",
    "\n",
    "best_svr = SVR(C=final_C, epsilon=final_epsilon, kernel=final_kernel)\n",
    "best_svr.fit(X_train, y_train)\n",
    "\n",
    "# -------- Step 5: Evaluate on Test Set with K-Fold --------\n",
    "k_folds = 20\n",
    "random_state = 42\n",
    "outer_kf = KFold(n_splits=k_folds, shuffle=True, random_state=random_state)\n",
    "\n",
    "fold_metrics = []\n",
    "for fold_idx, (train_idx, val_idx) in enumerate(outer_kf.split(X_test)):\n",
    "    X_test_fold = X_test[val_idx]\n",
    "    y_test_fold = y_test[val_idx]\n",
    "    \n",
    "    # Predict on test fold\n",
    "    fold_preds = best_svr.predict(X_test_fold)\n",
    "    fold_mse = mean_squared_error(y_test_fold, fold_preds)\n",
    "    fold_metrics.append(fold_mse)\n",
    "    \n",
    "    print(f\"Fold {fold_idx+1}: Test MSE = {fold_mse:.4f}\")\n",
    "\n",
    "# Average MSE across test folds\n",
    "avg_test_mse = np.mean(fold_metrics)\n",
    "print(f\"\\nAvg Test MSE across folds: {avg_test_mse:.4f}\")\n",
    "\n",
    "# Inverse transform predictions for final evaluation\n",
    "y_pred = best_svr.predict(X_test)\n",
    "y_pred_inv = scaler_y.inverse_transform(y_pred.reshape(-1, 1)).ravel()\n",
    "y_test_inv = scaler_y.inverse_transform(y_test.reshape(-1, 1)).ravel()\n",
    "\n",
    "mse = mean_squared_error(y_test_inv, y_pred_inv)\n",
    "r2 = r2_score(y_test_inv, y_pred_inv)\n",
    "mae = mean_absolute_error(y_test_inv, y_pred_inv)\n",
    "mape = mean_absolute_percentage_error(y_test_inv, y_pred_inv)\n",
    "\n",
    "print(f\"\\nFinal Test MSE: {mse:.4f}\")\n",
    "print(f\"Final Test R²: {r2:.4f}\")\n",
    "print(f\"Final Test MAE: {mae:.4f}\")\n",
    "print(f\"Final Test MAPE: {mape:.4f}\")\n",
    "\n",
    "wandb.log({\"Final Test MSE\": mse, \"Final Test R2\": r2})\n",
    "\n",
    "# -------- Step 6: Visualization of Predictions --------\n",
    "plt.figure(figsize=(6, 6))\n",
    "plt.scatter(y_test_inv, y_pred_inv, alpha=0.6)\n",
    "plt.xlabel(\"Actual CO2 Emissions\")\n",
    "plt.ylabel(\"Predicted CO2 Emissions\")\n",
    "plt.title(\"SVR: Predicted vs Actual\")\n",
    "plt.plot([y_test_inv.min(), y_test_inv.max()], [y_test_inv.min(), y_test_inv.max()], color=\"red\", linestyle=\"--\")\n",
    "plt.show()\n"
   ]
  },
  {
   "cell_type": "code",
   "execution_count": 11,
   "metadata": {},
   "outputs": [
    {
     "data": {
      "text/html": [
       "<div>\n",
       "<style scoped>\n",
       "    .dataframe tbody tr th:only-of-type {\n",
       "        vertical-align: middle;\n",
       "    }\n",
       "\n",
       "    .dataframe tbody tr th {\n",
       "        vertical-align: top;\n",
       "    }\n",
       "\n",
       "    .dataframe thead th {\n",
       "        text-align: right;\n",
       "    }\n",
       "</style>\n",
       "<table border=\"1\" class=\"dataframe\">\n",
       "  <thead>\n",
       "    <tr style=\"text-align: right;\">\n",
       "      <th></th>\n",
       "      <th>Metric</th>\n",
       "      <th>Fold_1</th>\n",
       "      <th>Fold_2</th>\n",
       "      <th>Fold_3</th>\n",
       "      <th>Fold_4</th>\n",
       "      <th>Fold_5</th>\n",
       "      <th>Fold_6</th>\n",
       "      <th>Fold_7</th>\n",
       "      <th>Fold_8</th>\n",
       "      <th>Fold_9</th>\n",
       "      <th>...</th>\n",
       "      <th>Fold_12</th>\n",
       "      <th>Fold_13</th>\n",
       "      <th>Fold_14</th>\n",
       "      <th>Fold_15</th>\n",
       "      <th>Fold_16</th>\n",
       "      <th>Fold_17</th>\n",
       "      <th>Fold_18</th>\n",
       "      <th>Fold_19</th>\n",
       "      <th>Fold_20</th>\n",
       "      <th>Test</th>\n",
       "    </tr>\n",
       "  </thead>\n",
       "  <tbody>\n",
       "    <tr>\n",
       "      <th>0</th>\n",
       "      <td>MSE</td>\n",
       "      <td>0.006122</td>\n",
       "      <td>0.002251</td>\n",
       "      <td>0.001307</td>\n",
       "      <td>0.002917</td>\n",
       "      <td>0.003124</td>\n",
       "      <td>0.001696</td>\n",
       "      <td>0.001832</td>\n",
       "      <td>0.001723</td>\n",
       "      <td>0.002208</td>\n",
       "      <td>...</td>\n",
       "      <td>0.001935</td>\n",
       "      <td>0.002560</td>\n",
       "      <td>0.002431</td>\n",
       "      <td>0.001583</td>\n",
       "      <td>0.001681</td>\n",
       "      <td>0.002564</td>\n",
       "      <td>0.001456</td>\n",
       "      <td>0.005106</td>\n",
       "      <td>0.001734</td>\n",
       "      <td>8.491580</td>\n",
       "    </tr>\n",
       "    <tr>\n",
       "      <th>1</th>\n",
       "      <td>R2</td>\n",
       "      <td>0.994621</td>\n",
       "      <td>0.998410</td>\n",
       "      <td>0.998882</td>\n",
       "      <td>0.997060</td>\n",
       "      <td>0.996747</td>\n",
       "      <td>0.998283</td>\n",
       "      <td>0.998285</td>\n",
       "      <td>0.998464</td>\n",
       "      <td>0.997248</td>\n",
       "      <td>...</td>\n",
       "      <td>0.998148</td>\n",
       "      <td>0.997245</td>\n",
       "      <td>0.997653</td>\n",
       "      <td>0.998469</td>\n",
       "      <td>0.998572</td>\n",
       "      <td>0.997656</td>\n",
       "      <td>0.998069</td>\n",
       "      <td>0.993174</td>\n",
       "      <td>0.998259</td>\n",
       "      <td>0.997557</td>\n",
       "    </tr>\n",
       "    <tr>\n",
       "      <th>2</th>\n",
       "      <td>MAE</td>\n",
       "      <td>0.042195</td>\n",
       "      <td>0.032779</td>\n",
       "      <td>0.027764</td>\n",
       "      <td>0.036216</td>\n",
       "      <td>0.038675</td>\n",
       "      <td>0.026660</td>\n",
       "      <td>0.030312</td>\n",
       "      <td>0.030443</td>\n",
       "      <td>0.032902</td>\n",
       "      <td>...</td>\n",
       "      <td>0.030354</td>\n",
       "      <td>0.035792</td>\n",
       "      <td>0.031355</td>\n",
       "      <td>0.029418</td>\n",
       "      <td>0.029807</td>\n",
       "      <td>0.031029</td>\n",
       "      <td>0.028355</td>\n",
       "      <td>0.037034</td>\n",
       "      <td>0.030578</td>\n",
       "      <td>1.882133</td>\n",
       "    </tr>\n",
       "    <tr>\n",
       "      <th>3</th>\n",
       "      <td>MAPE</td>\n",
       "      <td>3.155545</td>\n",
       "      <td>0.111977</td>\n",
       "      <td>0.533111</td>\n",
       "      <td>8.472747</td>\n",
       "      <td>2.690291</td>\n",
       "      <td>1.708983</td>\n",
       "      <td>3.659107</td>\n",
       "      <td>0.107292</td>\n",
       "      <td>0.163329</td>\n",
       "      <td>...</td>\n",
       "      <td>0.162184</td>\n",
       "      <td>0.107574</td>\n",
       "      <td>0.115811</td>\n",
       "      <td>0.119777</td>\n",
       "      <td>0.082094</td>\n",
       "      <td>0.539663</td>\n",
       "      <td>0.139636</td>\n",
       "      <td>4.268171</td>\n",
       "      <td>0.077726</td>\n",
       "      <td>0.007530</td>\n",
       "    </tr>\n",
       "  </tbody>\n",
       "</table>\n",
       "<p>4 rows × 22 columns</p>\n",
       "</div>"
      ],
      "text/plain": [
       "  Metric    Fold_1    Fold_2    Fold_3    Fold_4    Fold_5    Fold_6  \\\n",
       "0    MSE  0.006122  0.002251  0.001307  0.002917  0.003124  0.001696   \n",
       "1     R2  0.994621  0.998410  0.998882  0.997060  0.996747  0.998283   \n",
       "2    MAE  0.042195  0.032779  0.027764  0.036216  0.038675  0.026660   \n",
       "3   MAPE  3.155545  0.111977  0.533111  8.472747  2.690291  1.708983   \n",
       "\n",
       "     Fold_7    Fold_8    Fold_9  ...   Fold_12   Fold_13   Fold_14   Fold_15  \\\n",
       "0  0.001832  0.001723  0.002208  ...  0.001935  0.002560  0.002431  0.001583   \n",
       "1  0.998285  0.998464  0.997248  ...  0.998148  0.997245  0.997653  0.998469   \n",
       "2  0.030312  0.030443  0.032902  ...  0.030354  0.035792  0.031355  0.029418   \n",
       "3  3.659107  0.107292  0.163329  ...  0.162184  0.107574  0.115811  0.119777   \n",
       "\n",
       "    Fold_16   Fold_17   Fold_18   Fold_19   Fold_20      Test  \n",
       "0  0.001681  0.002564  0.001456  0.005106  0.001734  8.491580  \n",
       "1  0.998572  0.997656  0.998069  0.993174  0.998259  0.997557  \n",
       "2  0.029807  0.031029  0.028355  0.037034  0.030578  1.882133  \n",
       "3  0.082094  0.539663  0.139636  4.268171  0.077726  0.007530  \n",
       "\n",
       "[4 rows x 22 columns]"
      ]
     },
     "execution_count": 11,
     "metadata": {},
     "output_type": "execute_result"
    }
   ],
   "source": [
    "# Save the output of Best SVR Model \n",
    "metrics = pd.DataFrame({\n",
    "\t\"Metric\": ['MSE', 'R2', 'MAE', 'MAPE'],\n",
    "\t\"Test_results\": [mse, r2, mae, mape]\n",
    "})\n",
    "\n",
    "validation_metrics_table = pd.DataFrame({\n",
    "    \"Metric\": [\"MSE\", \"R2\", \"MAE\", \"MAPE\"],\n",
    "    **{f\"Fold_{i+1}\": [mean_squared_error(y_test[val_idx], best_svr.predict(X_test[val_idx])),\n",
    "                       r2_score(y_test[val_idx], best_svr.predict(X_test[val_idx])),\n",
    "                       mean_absolute_error(y_test[val_idx], best_svr.predict(X_test[val_idx])),\n",
    "                       mean_absolute_percentage_error(y_test[val_idx], best_svr.predict(X_test[val_idx]))]\n",
    "       for i, (train_idx, val_idx) in enumerate(outer_kf.split(X_test))}\n",
    "})\n",
    "\n",
    "combined_metrics_table = validation_metrics_table.copy()\n",
    "combined_metrics_table[\"Test\"] = metrics[\"Test_results\"]\n",
    "\n",
    "# Save the combined metrics table\n",
    "combined_metrics_table.to_csv(\"SVR_combined_metrics.csv\", index=False)\n",
    "combined_metrics_table"
   ]
  },
  {
   "cell_type": "code",
   "execution_count": null,
   "metadata": {},
   "outputs": [],
   "source": []
  }
 ],
 "metadata": {
  "kernelspec": {
   "display_name": ".conda",
   "language": "python",
   "name": "python3"
  },
  "language_info": {
   "codemirror_mode": {
    "name": "ipython",
    "version": 3
   },
   "file_extension": ".py",
   "mimetype": "text/x-python",
   "name": "python",
   "nbconvert_exporter": "python",
   "pygments_lexer": "ipython3",
   "version": "3.10.13"
  }
 },
 "nbformat": 4,
 "nbformat_minor": 2
}
