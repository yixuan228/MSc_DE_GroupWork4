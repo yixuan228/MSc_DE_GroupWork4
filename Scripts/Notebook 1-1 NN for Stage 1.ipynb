{
 "cells": [
  {
   "cell_type": "markdown",
   "metadata": {},
   "source": [
    "# Notebook 2-1: Predicting CO2 emissions using Neural Networks"
   ]
  },
  {
   "cell_type": "markdown",
   "metadata": {},
   "source": [
    "Readme: In this notebook, NN models are constructed for CO2 Emission prediction, and the best model is selected and K-means validation is applied.\n",
    "\n",
    "- **Notebook content**:\n",
    "    - Design the architecture of NN and explore different model configuration\n",
    "\n",
    "    - Tune hyperparameters and select the best model\n",
    "\n",
    "- **Notebook Output**:\n",
    "\n",
    "    - Best model file\n",
    "\n",
    "    - The validation and test results of the best Neural Netwrok model"
   ]
  },
  {
   "cell_type": "code",
   "execution_count": 3,
   "metadata": {},
   "outputs": [],
   "source": [
    "# %pip install \"numpy<2\" torch torchvision scikit-learn\n",
    "# %pip install wandb"
   ]
  },
  {
   "cell_type": "code",
   "execution_count": 4,
   "metadata": {},
   "outputs": [
    {
     "name": "stdout",
     "output_type": "stream",
     "text": [
      "cuda\n"
     ]
    }
   ],
   "source": [
    "# Import libraries\n",
    "import numpy as np\n",
    "import pandas as pd\n",
    "import matplotlib.pyplot as plt\n",
    "import torch\n",
    "\n",
    "# Set device\n",
    "device = torch.device('cuda' if torch.cuda.is_available() else 'cpu')\n",
    "print(device)"
   ]
  },
  {
   "cell_type": "markdown",
   "metadata": {},
   "source": [
    "## 1 Define Functions"
   ]
  },
  {
   "cell_type": "code",
   "execution_count": 5,
   "metadata": {},
   "outputs": [],
   "source": [
    "# Define functions\n",
    "import seaborn as sns\n",
    "import torch\n",
    "\n",
    "# 1 plot related functions----------------\n",
    "# plot predict and true values on validation dataset\n",
    "def plot_pred_true(y_test, y_pred, ax):\n",
    "\n",
    "    data = pd.DataFrame({'y_obs': y_test, 'y_pred': y_pred})\n",
    "\n",
    "    # plt.figure(figsize=(5, 5))\n",
    "    sns.scatterplot(data=data, x='y_obs', y='y_pred', s=10, ax=ax)\n",
    "    ax.plot(y_test, y_test, color='red', label='y=x')          # plot the line y=x\n",
    "    ax.set_title('Observed vs Predicted values in Test Dataset')   # title\n",
    "    ax.set_xlabel('Observed values')       # label for the x-axis\n",
    "    ax.set_ylabel('Predicted values')      # label for the y-axis\n",
    "    ax.legend()\n",
    "    ax.grid(True)\n",
    "\n",
    "# plot the loss value on training and validation dataset\n",
    "def plot_train_val_loss(train_loss, val_loss, ax):\n",
    "    \n",
    "    # ax.figure(figsize=(5, 5))\n",
    "\n",
    "    ax.plot(train_loss, label='train loss')\n",
    "    ax.plot(val_loss, label='val loss')\n",
    "    ax.set_title('Train vs Validation Loss')\n",
    "    ax.set_xlabel('Epoch')\n",
    "    ax.set_ylabel('Loss')\n",
    "    ax.legend()\n",
    "    ax.grid(True)\n",
    "\n",
    "# 2 Other functions---------------------\n",
    "# get the prediction and true values\n",
    "def model_prediction(model, val_loader, device):\n",
    "\n",
    "    model.eval()\n",
    "    pred = []\n",
    "    target = []\n",
    "\n",
    "    with torch.no_grad():\n",
    "        for X, y in val_loader:\n",
    "            X, y = X.to(device), y.to(device)\n",
    "\n",
    "            y_pred = model(X)      # predicted value\n",
    "\n",
    "            pred.extend(y_pred.cpu().numpy())\n",
    "            target.extend(y.cpu().numpy())\n",
    "\n",
    "    # Merge all the predictions and targets\n",
    "    predictions = np.concatenate(pred, axis=0)\n",
    "    labels = np.concatenate(target, axis=0)\n",
    "    return predictions, labels"
   ]
  },
  {
   "cell_type": "markdown",
   "metadata": {},
   "source": [
    "## 2 Data Preparation"
   ]
  },
  {
   "cell_type": "code",
   "execution_count": 6,
   "metadata": {},
   "outputs": [],
   "source": [
    "import numpy as np\n",
    "import pandas as pd\n",
    "from sklearn.pipeline import Pipeline\n",
    "from sklearn.compose import ColumnTransformer\n",
    "from sklearn.preprocessing import StandardScaler, OneHotEncoder\n",
    "from sklearn.impute import SimpleImputer\n",
    "from sklearn.model_selection import train_test_split"
   ]
  },
  {
   "cell_type": "markdown",
   "metadata": {},
   "source": [
    "### Load and Divide Traning and Testing Data"
   ]
  },
  {
   "cell_type": "markdown",
   "metadata": {},
   "source": [
    "Load the test and train dataset"
   ]
  },
  {
   "cell_type": "code",
   "execution_count": 7,
   "metadata": {},
   "outputs": [],
   "source": [
    "# Import data\n",
    "trainset_df = pd.read_csv('Dataset1_train.csv')\n",
    "testset_df = pd.read_csv('Dataset1_test.csv')\n"
   ]
  },
  {
   "cell_type": "code",
   "execution_count": 8,
   "metadata": {},
   "outputs": [
    {
     "data": {
      "text/html": [
       "<div>\n",
       "<style scoped>\n",
       "    .dataframe tbody tr th:only-of-type {\n",
       "        vertical-align: middle;\n",
       "    }\n",
       "\n",
       "    .dataframe tbody tr th {\n",
       "        vertical-align: top;\n",
       "    }\n",
       "\n",
       "    .dataframe thead th {\n",
       "        text-align: right;\n",
       "    }\n",
       "</style>\n",
       "<table border=\"1\" class=\"dataframe\">\n",
       "  <thead>\n",
       "    <tr style=\"text-align: right;\">\n",
       "      <th></th>\n",
       "      <th>Engine Size(L)</th>\n",
       "      <th>Cylinders</th>\n",
       "      <th>Gearbox_Type</th>\n",
       "      <th>Gearbox_Number</th>\n",
       "      <th>Fuel Consumption City (L/100 km)</th>\n",
       "      <th>Fuel Consumption Hwy (L/100 km)</th>\n",
       "      <th>Fuel Consumption Comb (L/100 km)</th>\n",
       "      <th>Fuel Consumption Comb (mpg)</th>\n",
       "      <th>Model Features_Flexible-fuel vehicle</th>\n",
       "      <th>Model Features_Four-wheel drive</th>\n",
       "      <th>...</th>\n",
       "      <th>Vehicle Class_SUV - SMALL</th>\n",
       "      <th>Vehicle Class_SUV - STANDARD</th>\n",
       "      <th>Vehicle Class_TWO-SEATER</th>\n",
       "      <th>Vehicle Class_VAN - CARGO</th>\n",
       "      <th>Vehicle Class_VAN - PASSENGER</th>\n",
       "      <th>Fuel Type_E</th>\n",
       "      <th>Fuel Type_X</th>\n",
       "      <th>Fuel Type_Z</th>\n",
       "      <th>Make</th>\n",
       "      <th>CO2 Emissions(g/km)</th>\n",
       "    </tr>\n",
       "  </thead>\n",
       "  <tbody>\n",
       "    <tr>\n",
       "      <th>0</th>\n",
       "      <td>4.0</td>\n",
       "      <td>6</td>\n",
       "      <td>1</td>\n",
       "      <td>5.000000</td>\n",
       "      <td>14.7</td>\n",
       "      <td>10.3</td>\n",
       "      <td>12.7</td>\n",
       "      <td>22</td>\n",
       "      <td>0</td>\n",
       "      <td>0</td>\n",
       "      <td>...</td>\n",
       "      <td>0</td>\n",
       "      <td>0</td>\n",
       "      <td>0</td>\n",
       "      <td>0</td>\n",
       "      <td>0</td>\n",
       "      <td>0</td>\n",
       "      <td>1</td>\n",
       "      <td>0</td>\n",
       "      <td>NISSAN</td>\n",
       "      <td>299</td>\n",
       "    </tr>\n",
       "    <tr>\n",
       "      <th>1</th>\n",
       "      <td>2.4</td>\n",
       "      <td>4</td>\n",
       "      <td>1</td>\n",
       "      <td>6.000000</td>\n",
       "      <td>9.8</td>\n",
       "      <td>6.7</td>\n",
       "      <td>8.4</td>\n",
       "      <td>34</td>\n",
       "      <td>0</td>\n",
       "      <td>0</td>\n",
       "      <td>...</td>\n",
       "      <td>0</td>\n",
       "      <td>0</td>\n",
       "      <td>0</td>\n",
       "      <td>0</td>\n",
       "      <td>0</td>\n",
       "      <td>0</td>\n",
       "      <td>1</td>\n",
       "      <td>0</td>\n",
       "      <td>HYUNDAI</td>\n",
       "      <td>193</td>\n",
       "    </tr>\n",
       "    <tr>\n",
       "      <th>2</th>\n",
       "      <td>2.0</td>\n",
       "      <td>4</td>\n",
       "      <td>1</td>\n",
       "      <td>8.000000</td>\n",
       "      <td>11.3</td>\n",
       "      <td>7.1</td>\n",
       "      <td>9.4</td>\n",
       "      <td>30</td>\n",
       "      <td>0</td>\n",
       "      <td>0</td>\n",
       "      <td>...</td>\n",
       "      <td>0</td>\n",
       "      <td>0</td>\n",
       "      <td>0</td>\n",
       "      <td>0</td>\n",
       "      <td>0</td>\n",
       "      <td>0</td>\n",
       "      <td>0</td>\n",
       "      <td>1</td>\n",
       "      <td>BMW</td>\n",
       "      <td>221</td>\n",
       "    </tr>\n",
       "    <tr>\n",
       "      <th>3</th>\n",
       "      <td>2.5</td>\n",
       "      <td>4</td>\n",
       "      <td>1</td>\n",
       "      <td>6.000000</td>\n",
       "      <td>10.1</td>\n",
       "      <td>7.7</td>\n",
       "      <td>9.0</td>\n",
       "      <td>31</td>\n",
       "      <td>0</td>\n",
       "      <td>0</td>\n",
       "      <td>...</td>\n",
       "      <td>1</td>\n",
       "      <td>0</td>\n",
       "      <td>0</td>\n",
       "      <td>0</td>\n",
       "      <td>0</td>\n",
       "      <td>0</td>\n",
       "      <td>1</td>\n",
       "      <td>0</td>\n",
       "      <td>TOYOTA</td>\n",
       "      <td>212</td>\n",
       "    </tr>\n",
       "    <tr>\n",
       "      <th>4</th>\n",
       "      <td>5.0</td>\n",
       "      <td>8</td>\n",
       "      <td>1</td>\n",
       "      <td>8.000000</td>\n",
       "      <td>15.8</td>\n",
       "      <td>10.3</td>\n",
       "      <td>13.3</td>\n",
       "      <td>21</td>\n",
       "      <td>0</td>\n",
       "      <td>0</td>\n",
       "      <td>...</td>\n",
       "      <td>0</td>\n",
       "      <td>0</td>\n",
       "      <td>0</td>\n",
       "      <td>0</td>\n",
       "      <td>0</td>\n",
       "      <td>0</td>\n",
       "      <td>0</td>\n",
       "      <td>1</td>\n",
       "      <td>JAGUAR</td>\n",
       "      <td>313</td>\n",
       "    </tr>\n",
       "    <tr>\n",
       "      <th>...</th>\n",
       "      <td>...</td>\n",
       "      <td>...</td>\n",
       "      <td>...</td>\n",
       "      <td>...</td>\n",
       "      <td>...</td>\n",
       "      <td>...</td>\n",
       "      <td>...</td>\n",
       "      <td>...</td>\n",
       "      <td>...</td>\n",
       "      <td>...</td>\n",
       "      <td>...</td>\n",
       "      <td>...</td>\n",
       "      <td>...</td>\n",
       "      <td>...</td>\n",
       "      <td>...</td>\n",
       "      <td>...</td>\n",
       "      <td>...</td>\n",
       "      <td>...</td>\n",
       "      <td>...</td>\n",
       "      <td>...</td>\n",
       "      <td>...</td>\n",
       "    </tr>\n",
       "    <tr>\n",
       "      <th>5902</th>\n",
       "      <td>2.0</td>\n",
       "      <td>4</td>\n",
       "      <td>1</td>\n",
       "      <td>6.000000</td>\n",
       "      <td>9.3</td>\n",
       "      <td>7.3</td>\n",
       "      <td>8.4</td>\n",
       "      <td>34</td>\n",
       "      <td>0</td>\n",
       "      <td>0</td>\n",
       "      <td>...</td>\n",
       "      <td>0</td>\n",
       "      <td>0</td>\n",
       "      <td>0</td>\n",
       "      <td>0</td>\n",
       "      <td>0</td>\n",
       "      <td>0</td>\n",
       "      <td>0</td>\n",
       "      <td>1</td>\n",
       "      <td>MINI</td>\n",
       "      <td>197</td>\n",
       "    </tr>\n",
       "    <tr>\n",
       "      <th>5903</th>\n",
       "      <td>5.6</td>\n",
       "      <td>8</td>\n",
       "      <td>1</td>\n",
       "      <td>7.000000</td>\n",
       "      <td>17.5</td>\n",
       "      <td>12.8</td>\n",
       "      <td>15.4</td>\n",
       "      <td>18</td>\n",
       "      <td>0</td>\n",
       "      <td>1</td>\n",
       "      <td>...</td>\n",
       "      <td>0</td>\n",
       "      <td>1</td>\n",
       "      <td>0</td>\n",
       "      <td>0</td>\n",
       "      <td>0</td>\n",
       "      <td>0</td>\n",
       "      <td>1</td>\n",
       "      <td>0</td>\n",
       "      <td>NISSAN</td>\n",
       "      <td>362</td>\n",
       "    </tr>\n",
       "    <tr>\n",
       "      <th>5904</th>\n",
       "      <td>3.5</td>\n",
       "      <td>6</td>\n",
       "      <td>1</td>\n",
       "      <td>6.000000</td>\n",
       "      <td>8.1</td>\n",
       "      <td>8.5</td>\n",
       "      <td>8.3</td>\n",
       "      <td>34</td>\n",
       "      <td>0</td>\n",
       "      <td>0</td>\n",
       "      <td>...</td>\n",
       "      <td>0</td>\n",
       "      <td>1</td>\n",
       "      <td>0</td>\n",
       "      <td>0</td>\n",
       "      <td>0</td>\n",
       "      <td>0</td>\n",
       "      <td>1</td>\n",
       "      <td>0</td>\n",
       "      <td>TOYOTA</td>\n",
       "      <td>193</td>\n",
       "    </tr>\n",
       "    <tr>\n",
       "      <th>5905</th>\n",
       "      <td>2.5</td>\n",
       "      <td>4</td>\n",
       "      <td>1</td>\n",
       "      <td>6.854093</td>\n",
       "      <td>9.5</td>\n",
       "      <td>7.4</td>\n",
       "      <td>8.6</td>\n",
       "      <td>33</td>\n",
       "      <td>0</td>\n",
       "      <td>0</td>\n",
       "      <td>...</td>\n",
       "      <td>1</td>\n",
       "      <td>0</td>\n",
       "      <td>0</td>\n",
       "      <td>0</td>\n",
       "      <td>0</td>\n",
       "      <td>0</td>\n",
       "      <td>1</td>\n",
       "      <td>0</td>\n",
       "      <td>NISSAN</td>\n",
       "      <td>198</td>\n",
       "    </tr>\n",
       "    <tr>\n",
       "      <th>5906</th>\n",
       "      <td>3.0</td>\n",
       "      <td>6</td>\n",
       "      <td>1</td>\n",
       "      <td>8.000000</td>\n",
       "      <td>10.5</td>\n",
       "      <td>7.3</td>\n",
       "      <td>9.0</td>\n",
       "      <td>31</td>\n",
       "      <td>0</td>\n",
       "      <td>0</td>\n",
       "      <td>...</td>\n",
       "      <td>0</td>\n",
       "      <td>0</td>\n",
       "      <td>0</td>\n",
       "      <td>0</td>\n",
       "      <td>0</td>\n",
       "      <td>0</td>\n",
       "      <td>0</td>\n",
       "      <td>0</td>\n",
       "      <td>RAM</td>\n",
       "      <td>243</td>\n",
       "    </tr>\n",
       "  </tbody>\n",
       "</table>\n",
       "<p>5907 rows × 32 columns</p>\n",
       "</div>"
      ],
      "text/plain": [
       "      Engine Size(L)  Cylinders  Gearbox_Type  Gearbox_Number  \\\n",
       "0                4.0          6             1        5.000000   \n",
       "1                2.4          4             1        6.000000   \n",
       "2                2.0          4             1        8.000000   \n",
       "3                2.5          4             1        6.000000   \n",
       "4                5.0          8             1        8.000000   \n",
       "...              ...        ...           ...             ...   \n",
       "5902             2.0          4             1        6.000000   \n",
       "5903             5.6          8             1        7.000000   \n",
       "5904             3.5          6             1        6.000000   \n",
       "5905             2.5          4             1        6.854093   \n",
       "5906             3.0          6             1        8.000000   \n",
       "\n",
       "      Fuel Consumption City (L/100 km)  Fuel Consumption Hwy (L/100 km)  \\\n",
       "0                                 14.7                             10.3   \n",
       "1                                  9.8                              6.7   \n",
       "2                                 11.3                              7.1   \n",
       "3                                 10.1                              7.7   \n",
       "4                                 15.8                             10.3   \n",
       "...                                ...                              ...   \n",
       "5902                               9.3                              7.3   \n",
       "5903                              17.5                             12.8   \n",
       "5904                               8.1                              8.5   \n",
       "5905                               9.5                              7.4   \n",
       "5906                              10.5                              7.3   \n",
       "\n",
       "      Fuel Consumption Comb (L/100 km)  Fuel Consumption Comb (mpg)  \\\n",
       "0                                 12.7                           22   \n",
       "1                                  8.4                           34   \n",
       "2                                  9.4                           30   \n",
       "3                                  9.0                           31   \n",
       "4                                 13.3                           21   \n",
       "...                                ...                          ...   \n",
       "5902                               8.4                           34   \n",
       "5903                              15.4                           18   \n",
       "5904                               8.3                           34   \n",
       "5905                               8.6                           33   \n",
       "5906                               9.0                           31   \n",
       "\n",
       "      Model Features_Flexible-fuel vehicle  Model Features_Four-wheel drive  \\\n",
       "0                                        0                                0   \n",
       "1                                        0                                0   \n",
       "2                                        0                                0   \n",
       "3                                        0                                0   \n",
       "4                                        0                                0   \n",
       "...                                    ...                              ...   \n",
       "5902                                     0                                0   \n",
       "5903                                     0                                1   \n",
       "5904                                     0                                0   \n",
       "5905                                     0                                0   \n",
       "5906                                     0                                0   \n",
       "\n",
       "      ...  Vehicle Class_SUV - SMALL  Vehicle Class_SUV - STANDARD  \\\n",
       "0     ...                          0                             0   \n",
       "1     ...                          0                             0   \n",
       "2     ...                          0                             0   \n",
       "3     ...                          1                             0   \n",
       "4     ...                          0                             0   \n",
       "...   ...                        ...                           ...   \n",
       "5902  ...                          0                             0   \n",
       "5903  ...                          0                             1   \n",
       "5904  ...                          0                             1   \n",
       "5905  ...                          1                             0   \n",
       "5906  ...                          0                             0   \n",
       "\n",
       "      Vehicle Class_TWO-SEATER  Vehicle Class_VAN - CARGO  \\\n",
       "0                            0                          0   \n",
       "1                            0                          0   \n",
       "2                            0                          0   \n",
       "3                            0                          0   \n",
       "4                            0                          0   \n",
       "...                        ...                        ...   \n",
       "5902                         0                          0   \n",
       "5903                         0                          0   \n",
       "5904                         0                          0   \n",
       "5905                         0                          0   \n",
       "5906                         0                          0   \n",
       "\n",
       "      Vehicle Class_VAN - PASSENGER  Fuel Type_E  Fuel Type_X  Fuel Type_Z  \\\n",
       "0                                 0            0            1            0   \n",
       "1                                 0            0            1            0   \n",
       "2                                 0            0            0            1   \n",
       "3                                 0            0            1            0   \n",
       "4                                 0            0            0            1   \n",
       "...                             ...          ...          ...          ...   \n",
       "5902                              0            0            0            1   \n",
       "5903                              0            0            1            0   \n",
       "5904                              0            0            1            0   \n",
       "5905                              0            0            1            0   \n",
       "5906                              0            0            0            0   \n",
       "\n",
       "         Make  CO2 Emissions(g/km)  \n",
       "0      NISSAN                  299  \n",
       "1     HYUNDAI                  193  \n",
       "2         BMW                  221  \n",
       "3      TOYOTA                  212  \n",
       "4      JAGUAR                  313  \n",
       "...       ...                  ...  \n",
       "5902     MINI                  197  \n",
       "5903   NISSAN                  362  \n",
       "5904   TOYOTA                  193  \n",
       "5905   NISSAN                  198  \n",
       "5906      RAM                  243  \n",
       "\n",
       "[5907 rows x 32 columns]"
      ]
     },
     "execution_count": 8,
     "metadata": {},
     "output_type": "execute_result"
    }
   ],
   "source": [
    "trainset_df"
   ]
  },
  {
   "cell_type": "code",
   "execution_count": 9,
   "metadata": {},
   "outputs": [],
   "source": [
    "X_train = trainset_df.drop(columns=['CO2 Emissions(g/km)', 'Make'])\n",
    "y_train = trainset_df['CO2 Emissions(g/km)']\n",
    "\n",
    "X_test = testset_df.drop(columns=['CO2 Emissions(g/km)', 'Make'])\n",
    "y_test = testset_df['CO2 Emissions(g/km)']"
   ]
  },
  {
   "cell_type": "code",
   "execution_count": 10,
   "metadata": {},
   "outputs": [
    {
     "data": {
      "text/html": [
       "<div>\n",
       "<style scoped>\n",
       "    .dataframe tbody tr th:only-of-type {\n",
       "        vertical-align: middle;\n",
       "    }\n",
       "\n",
       "    .dataframe tbody tr th {\n",
       "        vertical-align: top;\n",
       "    }\n",
       "\n",
       "    .dataframe thead th {\n",
       "        text-align: right;\n",
       "    }\n",
       "</style>\n",
       "<table border=\"1\" class=\"dataframe\">\n",
       "  <thead>\n",
       "    <tr style=\"text-align: right;\">\n",
       "      <th></th>\n",
       "      <th>Engine Size(L)</th>\n",
       "      <th>Cylinders</th>\n",
       "      <th>Gearbox_Type</th>\n",
       "      <th>Gearbox_Number</th>\n",
       "      <th>Fuel Consumption City (L/100 km)</th>\n",
       "      <th>Fuel Consumption Hwy (L/100 km)</th>\n",
       "      <th>Fuel Consumption Comb (L/100 km)</th>\n",
       "      <th>Fuel Consumption Comb (mpg)</th>\n",
       "      <th>Model Features_Flexible-fuel vehicle</th>\n",
       "      <th>Model Features_Four-wheel drive</th>\n",
       "      <th>...</th>\n",
       "      <th>Vehicle Class_STATION WAGON - SMALL</th>\n",
       "      <th>Vehicle Class_SUBCOMPACT</th>\n",
       "      <th>Vehicle Class_SUV - SMALL</th>\n",
       "      <th>Vehicle Class_SUV - STANDARD</th>\n",
       "      <th>Vehicle Class_TWO-SEATER</th>\n",
       "      <th>Vehicle Class_VAN - CARGO</th>\n",
       "      <th>Vehicle Class_VAN - PASSENGER</th>\n",
       "      <th>Fuel Type_E</th>\n",
       "      <th>Fuel Type_X</th>\n",
       "      <th>Fuel Type_Z</th>\n",
       "    </tr>\n",
       "  </thead>\n",
       "  <tbody>\n",
       "    <tr>\n",
       "      <th>0</th>\n",
       "      <td>4.0</td>\n",
       "      <td>6</td>\n",
       "      <td>1</td>\n",
       "      <td>5.000000</td>\n",
       "      <td>14.7</td>\n",
       "      <td>10.3</td>\n",
       "      <td>12.7</td>\n",
       "      <td>22</td>\n",
       "      <td>0</td>\n",
       "      <td>0</td>\n",
       "      <td>...</td>\n",
       "      <td>0</td>\n",
       "      <td>0</td>\n",
       "      <td>0</td>\n",
       "      <td>0</td>\n",
       "      <td>0</td>\n",
       "      <td>0</td>\n",
       "      <td>0</td>\n",
       "      <td>0</td>\n",
       "      <td>1</td>\n",
       "      <td>0</td>\n",
       "    </tr>\n",
       "    <tr>\n",
       "      <th>1</th>\n",
       "      <td>2.4</td>\n",
       "      <td>4</td>\n",
       "      <td>1</td>\n",
       "      <td>6.000000</td>\n",
       "      <td>9.8</td>\n",
       "      <td>6.7</td>\n",
       "      <td>8.4</td>\n",
       "      <td>34</td>\n",
       "      <td>0</td>\n",
       "      <td>0</td>\n",
       "      <td>...</td>\n",
       "      <td>0</td>\n",
       "      <td>0</td>\n",
       "      <td>0</td>\n",
       "      <td>0</td>\n",
       "      <td>0</td>\n",
       "      <td>0</td>\n",
       "      <td>0</td>\n",
       "      <td>0</td>\n",
       "      <td>1</td>\n",
       "      <td>0</td>\n",
       "    </tr>\n",
       "    <tr>\n",
       "      <th>2</th>\n",
       "      <td>2.0</td>\n",
       "      <td>4</td>\n",
       "      <td>1</td>\n",
       "      <td>8.000000</td>\n",
       "      <td>11.3</td>\n",
       "      <td>7.1</td>\n",
       "      <td>9.4</td>\n",
       "      <td>30</td>\n",
       "      <td>0</td>\n",
       "      <td>0</td>\n",
       "      <td>...</td>\n",
       "      <td>0</td>\n",
       "      <td>1</td>\n",
       "      <td>0</td>\n",
       "      <td>0</td>\n",
       "      <td>0</td>\n",
       "      <td>0</td>\n",
       "      <td>0</td>\n",
       "      <td>0</td>\n",
       "      <td>0</td>\n",
       "      <td>1</td>\n",
       "    </tr>\n",
       "    <tr>\n",
       "      <th>3</th>\n",
       "      <td>2.5</td>\n",
       "      <td>4</td>\n",
       "      <td>1</td>\n",
       "      <td>6.000000</td>\n",
       "      <td>10.1</td>\n",
       "      <td>7.7</td>\n",
       "      <td>9.0</td>\n",
       "      <td>31</td>\n",
       "      <td>0</td>\n",
       "      <td>0</td>\n",
       "      <td>...</td>\n",
       "      <td>0</td>\n",
       "      <td>0</td>\n",
       "      <td>1</td>\n",
       "      <td>0</td>\n",
       "      <td>0</td>\n",
       "      <td>0</td>\n",
       "      <td>0</td>\n",
       "      <td>0</td>\n",
       "      <td>1</td>\n",
       "      <td>0</td>\n",
       "    </tr>\n",
       "    <tr>\n",
       "      <th>4</th>\n",
       "      <td>5.0</td>\n",
       "      <td>8</td>\n",
       "      <td>1</td>\n",
       "      <td>8.000000</td>\n",
       "      <td>15.8</td>\n",
       "      <td>10.3</td>\n",
       "      <td>13.3</td>\n",
       "      <td>21</td>\n",
       "      <td>0</td>\n",
       "      <td>0</td>\n",
       "      <td>...</td>\n",
       "      <td>0</td>\n",
       "      <td>0</td>\n",
       "      <td>0</td>\n",
       "      <td>0</td>\n",
       "      <td>0</td>\n",
       "      <td>0</td>\n",
       "      <td>0</td>\n",
       "      <td>0</td>\n",
       "      <td>0</td>\n",
       "      <td>1</td>\n",
       "    </tr>\n",
       "    <tr>\n",
       "      <th>...</th>\n",
       "      <td>...</td>\n",
       "      <td>...</td>\n",
       "      <td>...</td>\n",
       "      <td>...</td>\n",
       "      <td>...</td>\n",
       "      <td>...</td>\n",
       "      <td>...</td>\n",
       "      <td>...</td>\n",
       "      <td>...</td>\n",
       "      <td>...</td>\n",
       "      <td>...</td>\n",
       "      <td>...</td>\n",
       "      <td>...</td>\n",
       "      <td>...</td>\n",
       "      <td>...</td>\n",
       "      <td>...</td>\n",
       "      <td>...</td>\n",
       "      <td>...</td>\n",
       "      <td>...</td>\n",
       "      <td>...</td>\n",
       "      <td>...</td>\n",
       "    </tr>\n",
       "    <tr>\n",
       "      <th>5902</th>\n",
       "      <td>2.0</td>\n",
       "      <td>4</td>\n",
       "      <td>1</td>\n",
       "      <td>6.000000</td>\n",
       "      <td>9.3</td>\n",
       "      <td>7.3</td>\n",
       "      <td>8.4</td>\n",
       "      <td>34</td>\n",
       "      <td>0</td>\n",
       "      <td>0</td>\n",
       "      <td>...</td>\n",
       "      <td>0</td>\n",
       "      <td>1</td>\n",
       "      <td>0</td>\n",
       "      <td>0</td>\n",
       "      <td>0</td>\n",
       "      <td>0</td>\n",
       "      <td>0</td>\n",
       "      <td>0</td>\n",
       "      <td>0</td>\n",
       "      <td>1</td>\n",
       "    </tr>\n",
       "    <tr>\n",
       "      <th>5903</th>\n",
       "      <td>5.6</td>\n",
       "      <td>8</td>\n",
       "      <td>1</td>\n",
       "      <td>7.000000</td>\n",
       "      <td>17.5</td>\n",
       "      <td>12.8</td>\n",
       "      <td>15.4</td>\n",
       "      <td>18</td>\n",
       "      <td>0</td>\n",
       "      <td>1</td>\n",
       "      <td>...</td>\n",
       "      <td>0</td>\n",
       "      <td>0</td>\n",
       "      <td>0</td>\n",
       "      <td>1</td>\n",
       "      <td>0</td>\n",
       "      <td>0</td>\n",
       "      <td>0</td>\n",
       "      <td>0</td>\n",
       "      <td>1</td>\n",
       "      <td>0</td>\n",
       "    </tr>\n",
       "    <tr>\n",
       "      <th>5904</th>\n",
       "      <td>3.5</td>\n",
       "      <td>6</td>\n",
       "      <td>1</td>\n",
       "      <td>6.000000</td>\n",
       "      <td>8.1</td>\n",
       "      <td>8.5</td>\n",
       "      <td>8.3</td>\n",
       "      <td>34</td>\n",
       "      <td>0</td>\n",
       "      <td>0</td>\n",
       "      <td>...</td>\n",
       "      <td>0</td>\n",
       "      <td>0</td>\n",
       "      <td>0</td>\n",
       "      <td>1</td>\n",
       "      <td>0</td>\n",
       "      <td>0</td>\n",
       "      <td>0</td>\n",
       "      <td>0</td>\n",
       "      <td>1</td>\n",
       "      <td>0</td>\n",
       "    </tr>\n",
       "    <tr>\n",
       "      <th>5905</th>\n",
       "      <td>2.5</td>\n",
       "      <td>4</td>\n",
       "      <td>1</td>\n",
       "      <td>6.854093</td>\n",
       "      <td>9.5</td>\n",
       "      <td>7.4</td>\n",
       "      <td>8.6</td>\n",
       "      <td>33</td>\n",
       "      <td>0</td>\n",
       "      <td>0</td>\n",
       "      <td>...</td>\n",
       "      <td>0</td>\n",
       "      <td>0</td>\n",
       "      <td>1</td>\n",
       "      <td>0</td>\n",
       "      <td>0</td>\n",
       "      <td>0</td>\n",
       "      <td>0</td>\n",
       "      <td>0</td>\n",
       "      <td>1</td>\n",
       "      <td>0</td>\n",
       "    </tr>\n",
       "    <tr>\n",
       "      <th>5906</th>\n",
       "      <td>3.0</td>\n",
       "      <td>6</td>\n",
       "      <td>1</td>\n",
       "      <td>8.000000</td>\n",
       "      <td>10.5</td>\n",
       "      <td>7.3</td>\n",
       "      <td>9.0</td>\n",
       "      <td>31</td>\n",
       "      <td>0</td>\n",
       "      <td>0</td>\n",
       "      <td>...</td>\n",
       "      <td>0</td>\n",
       "      <td>0</td>\n",
       "      <td>0</td>\n",
       "      <td>0</td>\n",
       "      <td>0</td>\n",
       "      <td>0</td>\n",
       "      <td>0</td>\n",
       "      <td>0</td>\n",
       "      <td>0</td>\n",
       "      <td>0</td>\n",
       "    </tr>\n",
       "  </tbody>\n",
       "</table>\n",
       "<p>5907 rows × 30 columns</p>\n",
       "</div>"
      ],
      "text/plain": [
       "      Engine Size(L)  Cylinders  Gearbox_Type  Gearbox_Number  \\\n",
       "0                4.0          6             1        5.000000   \n",
       "1                2.4          4             1        6.000000   \n",
       "2                2.0          4             1        8.000000   \n",
       "3                2.5          4             1        6.000000   \n",
       "4                5.0          8             1        8.000000   \n",
       "...              ...        ...           ...             ...   \n",
       "5902             2.0          4             1        6.000000   \n",
       "5903             5.6          8             1        7.000000   \n",
       "5904             3.5          6             1        6.000000   \n",
       "5905             2.5          4             1        6.854093   \n",
       "5906             3.0          6             1        8.000000   \n",
       "\n",
       "      Fuel Consumption City (L/100 km)  Fuel Consumption Hwy (L/100 km)  \\\n",
       "0                                 14.7                             10.3   \n",
       "1                                  9.8                              6.7   \n",
       "2                                 11.3                              7.1   \n",
       "3                                 10.1                              7.7   \n",
       "4                                 15.8                             10.3   \n",
       "...                                ...                              ...   \n",
       "5902                               9.3                              7.3   \n",
       "5903                              17.5                             12.8   \n",
       "5904                               8.1                              8.5   \n",
       "5905                               9.5                              7.4   \n",
       "5906                              10.5                              7.3   \n",
       "\n",
       "      Fuel Consumption Comb (L/100 km)  Fuel Consumption Comb (mpg)  \\\n",
       "0                                 12.7                           22   \n",
       "1                                  8.4                           34   \n",
       "2                                  9.4                           30   \n",
       "3                                  9.0                           31   \n",
       "4                                 13.3                           21   \n",
       "...                                ...                          ...   \n",
       "5902                               8.4                           34   \n",
       "5903                              15.4                           18   \n",
       "5904                               8.3                           34   \n",
       "5905                               8.6                           33   \n",
       "5906                               9.0                           31   \n",
       "\n",
       "      Model Features_Flexible-fuel vehicle  Model Features_Four-wheel drive  \\\n",
       "0                                        0                                0   \n",
       "1                                        0                                0   \n",
       "2                                        0                                0   \n",
       "3                                        0                                0   \n",
       "4                                        0                                0   \n",
       "...                                    ...                              ...   \n",
       "5902                                     0                                0   \n",
       "5903                                     0                                1   \n",
       "5904                                     0                                0   \n",
       "5905                                     0                                0   \n",
       "5906                                     0                                0   \n",
       "\n",
       "      ...  Vehicle Class_STATION WAGON - SMALL  Vehicle Class_SUBCOMPACT  \\\n",
       "0     ...                                    0                         0   \n",
       "1     ...                                    0                         0   \n",
       "2     ...                                    0                         1   \n",
       "3     ...                                    0                         0   \n",
       "4     ...                                    0                         0   \n",
       "...   ...                                  ...                       ...   \n",
       "5902  ...                                    0                         1   \n",
       "5903  ...                                    0                         0   \n",
       "5904  ...                                    0                         0   \n",
       "5905  ...                                    0                         0   \n",
       "5906  ...                                    0                         0   \n",
       "\n",
       "      Vehicle Class_SUV - SMALL  Vehicle Class_SUV - STANDARD  \\\n",
       "0                             0                             0   \n",
       "1                             0                             0   \n",
       "2                             0                             0   \n",
       "3                             1                             0   \n",
       "4                             0                             0   \n",
       "...                         ...                           ...   \n",
       "5902                          0                             0   \n",
       "5903                          0                             1   \n",
       "5904                          0                             1   \n",
       "5905                          1                             0   \n",
       "5906                          0                             0   \n",
       "\n",
       "      Vehicle Class_TWO-SEATER  Vehicle Class_VAN - CARGO  \\\n",
       "0                            0                          0   \n",
       "1                            0                          0   \n",
       "2                            0                          0   \n",
       "3                            0                          0   \n",
       "4                            0                          0   \n",
       "...                        ...                        ...   \n",
       "5902                         0                          0   \n",
       "5903                         0                          0   \n",
       "5904                         0                          0   \n",
       "5905                         0                          0   \n",
       "5906                         0                          0   \n",
       "\n",
       "      Vehicle Class_VAN - PASSENGER  Fuel Type_E  Fuel Type_X  Fuel Type_Z  \n",
       "0                                 0            0            1            0  \n",
       "1                                 0            0            1            0  \n",
       "2                                 0            0            0            1  \n",
       "3                                 0            0            1            0  \n",
       "4                                 0            0            0            1  \n",
       "...                             ...          ...          ...          ...  \n",
       "5902                              0            0            0            1  \n",
       "5903                              0            0            1            0  \n",
       "5904                              0            0            1            0  \n",
       "5905                              0            0            1            0  \n",
       "5906                              0            0            0            0  \n",
       "\n",
       "[5907 rows x 30 columns]"
      ]
     },
     "execution_count": 10,
     "metadata": {},
     "output_type": "execute_result"
    }
   ],
   "source": [
    "X_train"
   ]
  },
  {
   "cell_type": "markdown",
   "metadata": {},
   "source": [
    "### Setup pipline for Standardisation"
   ]
  },
  {
   "cell_type": "code",
   "execution_count": 11,
   "metadata": {},
   "outputs": [],
   "source": [
    "binary_columns = X_train.columns[X_train.nunique() == 2].tolist()  \n",
    "numerical_columns = [col for col in X_train.columns if col not in binary_columns]\n",
    "\n",
    "# ColumnTransformer\n",
    "preprocessor = ColumnTransformer(\n",
    "    transformers=[\n",
    "        ('num', StandardScaler(), numerical_columns)  # StandardScale\n",
    "    ], \n",
    "    remainder='passthrough'  # keep dummy variable\n",
    ")\n",
    "\n",
    "# Setup pipeline\n",
    "pipeline = Pipeline(steps=[\n",
    "    ('preprocessor', preprocessor)\n",
    "])"
   ]
  },
  {
   "cell_type": "code",
   "execution_count": 12,
   "metadata": {},
   "outputs": [],
   "source": [
    "X_train_processed = pipeline.fit_transform(X_train)\n",
    "X_test_processed = pipeline.transform(X_test)"
   ]
  },
  {
   "cell_type": "markdown",
   "metadata": {},
   "source": [
    "Inspect the processed data"
   ]
  },
  {
   "cell_type": "code",
   "execution_count": 13,
   "metadata": {},
   "outputs": [
    {
     "name": "stdout",
     "output_type": "stream",
     "text": [
      "Processed Train Dataset：\n",
      "   Engine Size(L)  Cylinders  Gearbox_Type  Gearbox_Number  \\\n",
      "0        0.612690   0.200638     -1.602571        0.606404   \n",
      "1       -0.567895  -0.889172     -0.750938       -0.792804   \n",
      "2       -0.863042  -0.889172      0.952329       -0.364475   \n",
      "3       -0.494109  -0.889172     -0.750938       -0.707138   \n",
      "4        1.350555   1.290448      0.952329        0.920512   \n",
      "\n",
      "   Fuel Consumption City (L/100 km)  Fuel Consumption Hwy (L/100 km)  \\\n",
      "0                          0.563352                         0.591736   \n",
      "1                         -1.064801                        -0.897681   \n",
      "2                         -0.883895                        -0.551305   \n",
      "3                         -0.612536                        -0.689855   \n",
      "4                          0.563352                         0.799561   \n",
      "\n",
      "   Fuel Consumption Comb (L/100 km)  Fuel Consumption Comb (mpg)  \\\n",
      "0                         -0.753140                          1.0   \n",
      "1                          0.910169                          1.0   \n",
      "2                          0.355733                          1.0   \n",
      "3                          0.494342                          1.0   \n",
      "4                         -0.891749                          1.0   \n",
      "\n",
      "   Model Features_Flexible-fuel vehicle  Model Features_Four-wheel drive  ...  \\\n",
      "0                                   0.0                              0.0  ...   \n",
      "1                                   0.0                              0.0  ...   \n",
      "2                                   0.0                              0.0  ...   \n",
      "3                                   0.0                              0.0  ...   \n",
      "4                                   0.0                              0.0  ...   \n",
      "\n",
      "   Vehicle Class_STATION WAGON - SMALL  Vehicle Class_SUBCOMPACT  \\\n",
      "0                                  0.0                       0.0   \n",
      "1                                  0.0                       0.0   \n",
      "2                                  0.0                       1.0   \n",
      "3                                  0.0                       0.0   \n",
      "4                                  0.0                       0.0   \n",
      "\n",
      "   Vehicle Class_SUV - SMALL  Vehicle Class_SUV - STANDARD  \\\n",
      "0                        0.0                           0.0   \n",
      "1                        0.0                           0.0   \n",
      "2                        0.0                           0.0   \n",
      "3                        1.0                           0.0   \n",
      "4                        0.0                           0.0   \n",
      "\n",
      "   Vehicle Class_TWO-SEATER  Vehicle Class_VAN - CARGO  \\\n",
      "0                       0.0                        0.0   \n",
      "1                       0.0                        0.0   \n",
      "2                       0.0                        0.0   \n",
      "3                       0.0                        0.0   \n",
      "4                       0.0                        0.0   \n",
      "\n",
      "   Vehicle Class_VAN - PASSENGER  Fuel Type_E  Fuel Type_X  Fuel Type_Z  \n",
      "0                            0.0          0.0          1.0          0.0  \n",
      "1                            0.0          0.0          1.0          0.0  \n",
      "2                            0.0          0.0          0.0          1.0  \n",
      "3                            0.0          0.0          1.0          0.0  \n",
      "4                            0.0          0.0          0.0          1.0  \n",
      "\n",
      "[5 rows x 30 columns]\n",
      "Processed Test Dataset：\n",
      "   Engine Size(L)  Cylinders  Gearbox_Type  Gearbox_Number  \\\n",
      "0        2.235994   1.290448      0.100696        1.605839   \n",
      "1        0.317543   0.200638     -0.750938        0.634960   \n",
      "2        0.760263   1.290448     -0.750938        2.262610   \n",
      "3       -0.863042  -0.889172      0.952329       -0.650028   \n",
      "4       -1.010615  -0.889172     -0.750938       -0.907025   \n",
      "\n",
      "   Fuel Consumption City (L/100 km)  Fuel Consumption Hwy (L/100 km)  \\\n",
      "0                          1.558334                         1.596226   \n",
      "1                          0.382446                         0.557098   \n",
      "2                          1.196522                         1.942602   \n",
      "3                         -0.702989                        -0.689855   \n",
      "4                         -1.019575                        -0.966956   \n",
      "\n",
      "   Fuel Consumption Comb (L/100 km)  Fuel Consumption Comb (mpg)  \\\n",
      "0                         -1.307576                          0.0   \n",
      "1                         -0.753140                          1.0   \n",
      "2                         -1.446185                          0.0   \n",
      "3                          0.494342                          1.0   \n",
      "4                          0.910169                          1.0   \n",
      "\n",
      "   Model Features_Flexible-fuel vehicle  Model Features_Four-wheel drive  ...  \\\n",
      "0                                   0.0                              0.0  ...   \n",
      "1                                   0.0                              0.0  ...   \n",
      "2                                   0.0                              0.0  ...   \n",
      "3                                   0.0                              0.0  ...   \n",
      "4                                   0.0                              0.0  ...   \n",
      "\n",
      "   Vehicle Class_STATION WAGON - SMALL  Vehicle Class_SUBCOMPACT  \\\n",
      "0                                  0.0                       0.0   \n",
      "1                                  0.0                       0.0   \n",
      "2                                  0.0                       0.0   \n",
      "3                                  0.0                       0.0   \n",
      "4                                  1.0                       0.0   \n",
      "\n",
      "   Vehicle Class_SUV - SMALL  Vehicle Class_SUV - STANDARD  \\\n",
      "0                        0.0                           0.0   \n",
      "1                        1.0                           0.0   \n",
      "2                        0.0                           0.0   \n",
      "3                        1.0                           0.0   \n",
      "4                        0.0                           0.0   \n",
      "\n",
      "   Vehicle Class_TWO-SEATER  Vehicle Class_VAN - CARGO  \\\n",
      "0                       1.0                        0.0   \n",
      "1                       0.0                        0.0   \n",
      "2                       1.0                        0.0   \n",
      "3                       0.0                        0.0   \n",
      "4                       0.0                        0.0   \n",
      "\n",
      "   Vehicle Class_VAN - PASSENGER  Fuel Type_E  Fuel Type_X  Fuel Type_Z  \n",
      "0                            0.0          0.0          0.0          1.0  \n",
      "1                            0.0          0.0          1.0          0.0  \n",
      "2                            0.0          0.0          0.0          1.0  \n",
      "3                            0.0          0.0          0.0          1.0  \n",
      "4                            0.0          0.0          1.0          0.0  \n",
      "\n",
      "[5 rows x 30 columns]\n"
     ]
    }
   ],
   "source": [
    "feature_names = list(X_train) \n",
    "X_train_df = pd.DataFrame(X_train_processed, columns=feature_names)\n",
    "\n",
    "X_test_df = pd.DataFrame(X_test_processed, columns=feature_names)\n",
    "\n",
    "print(\"Processed Train Dataset：\")\n",
    "print(X_train_df.head())\n",
    "\n",
    "print(\"Processed Test Dataset：\")\n",
    "print(X_test_df.head())\n"
   ]
  },
  {
   "cell_type": "code",
   "execution_count": 14,
   "metadata": {},
   "outputs": [],
   "source": [
    "# Prepare the Dataloader\n",
    "import torch\n",
    "import torch.nn as nn\n",
    "from torch.utils.data import DataLoader, TensorDataset\n",
    "\n",
    "# Convert data to Tensor\n",
    "X_train_tensor = torch.tensor(X_train_processed, dtype=torch.float32) \n",
    "y_train_tensor = torch.tensor(y_train.values, dtype=torch.float32).view(-1, 1)\n",
    "\n",
    "X_val_tensor = torch.tensor(X_test_processed, dtype=torch.float32)\n",
    "y_test_tensor = torch.tensor(y_test.values, dtype=torch.float32).view(-1, 1)\n",
    "\n",
    "# Load the training data and validation data\n",
    "train_dataset = TensorDataset(X_train_tensor, y_train_tensor)\n",
    "test_dataset = TensorDataset(X_val_tensor,y_test_tensor)\n",
    "\n",
    "# Set hyperparameters\n",
    "batch_size = 64  # batch size\n",
    "\n",
    "# Create data loader\n",
    "train_Loader = DataLoader(dataset=train_dataset, batch_size=batch_size, shuffle=True)\n",
    "test_Loader = DataLoader(dataset=test_dataset, batch_size=batch_size, shuffle=False)\n",
    "\n"
   ]
  },
  {
   "cell_type": "markdown",
   "metadata": {},
   "source": [
    "## 3 Best Models"
   ]
  },
  {
   "cell_type": "markdown",
   "metadata": {},
   "source": [
    "#### Pre: k-fold Import K-fold Cross-validation Method"
   ]
  },
  {
   "cell_type": "code",
   "execution_count": 15,
   "metadata": {},
   "outputs": [],
   "source": [
    "from sklearn.model_selection import KFold\n",
    "\n",
    "k_fold = KFold(n_splits=20, shuffle=True, random_state=42) # Set randon seed to make sure the results are reproducible"
   ]
  },
  {
   "cell_type": "markdown",
   "metadata": {},
   "source": [
    "Import metrics"
   ]
  },
  {
   "cell_type": "code",
   "execution_count": 16,
   "metadata": {},
   "outputs": [],
   "source": [
    "from sklearn.linear_model import LinearRegression\n",
    "from sklearn.metrics import mean_squared_error, r2_score, mean_absolute_error, mean_absolute_percentage_error"
   ]
  },
  {
   "cell_type": "markdown",
   "metadata": {},
   "source": [
    "### 3.1 Neural Network Model"
   ]
  },
  {
   "cell_type": "markdown",
   "metadata": {},
   "source": [
    "#### 3.1.1 Use W&B Grid Search to Find Best NN Parameter Set"
   ]
  },
  {
   "cell_type": "code",
   "execution_count": 17,
   "metadata": {},
   "outputs": [
    {
     "name": "stderr",
     "output_type": "stream",
     "text": [
      "Failed to detect the name of this notebook, you can set it manually with the WANDB_NOTEBOOK_NAME environment variable to enable code saving.\n",
      "wandb: Using wandb-core as the SDK backend.  Please refer to https://wandb.me/wandb-core for more information.\n",
      "wandb: WARNING If you're specifying your api key in code, ensure this code is not shared publicly.\n",
      "wandb: WARNING Consider setting the WANDB_API_KEY environment variable, or running `wandb login` from the command line.\n",
      "wandb: Appending key for api.wandb.ai to your netrc file: C:\\Users\\87383\\_netrc\n",
      "wandb: Currently logged in as: yixuan228 (yixuan228-imperial-college-london) to https://api.wandb.ai. Use `wandb login --relogin` to force relogin\n"
     ]
    },
    {
     "data": {
      "text/plain": [
       "True"
      ]
     },
     "execution_count": 17,
     "metadata": {},
     "output_type": "execute_result"
    }
   ],
   "source": [
    "import wandb\n",
    "\n",
    "wandb.login(key=\"47ea61c7ee69e2e0e1cc46ed5c31bd6168f9f9db\")"
   ]
  },
  {
   "cell_type": "markdown",
   "metadata": {},
   "source": [
    "Neural Network Structure"
   ]
  },
  {
   "cell_type": "code",
   "execution_count": 18,
   "metadata": {},
   "outputs": [],
   "source": [
    "class MultiLayerPerceptron(nn.Module):\n",
    "\n",
    "    def __init__(self, input_size, hidden_size, num_layers, output_size):\n",
    "        super(MultiLayerPerceptron, self).__init__()\n",
    "\n",
    "        # Initialise an empty list to hold layers\n",
    "        layers = []\n",
    "\n",
    "        # First layer: input to hidden\n",
    "        layers.append(nn.Linear(input_size, hidden_size))\n",
    "        layers.append(nn.ReLU())\n",
    "\n",
    "        # Additional hidden layers\n",
    "        for _ in range(num_layers - 1):\n",
    "            layers.append(nn.Linear(hidden_size, hidden_size))\n",
    "            layers.append(nn.ReLU())\n",
    "            \n",
    "        # Output layer: hidden to output\n",
    "        layers.append(nn.Linear(hidden_size, output_size))\n",
    "        self.model = nn.Sequential(*layers)\n",
    "\n",
    "    def forward(self, x):\n",
    "        return self.model(x)"
   ]
  },
  {
   "cell_type": "code",
   "execution_count": 19,
   "metadata": {},
   "outputs": [],
   "source": [
    "from torch.utils.data import random_split\n",
    "\n",
    "# Calculate the sizes for train and validation splits\n",
    "num_total = len(train_dataset)\n",
    "num_train = int(0.9 * num_total)\n",
    "num_val = num_total - num_train\n",
    "\n",
    "# Split the dataset\n",
    "train_subset, val_subset = random_split(train_dataset, [num_train, num_val])\n",
    "\n",
    "# Create DataLoaders for each subset\n",
    "train_Loader = DataLoader(train_subset, batch_size=64, shuffle=True)\n",
    "val_Loader = DataLoader(val_subset, batch_size=64, shuffle=False)"
   ]
  },
  {
   "cell_type": "code",
   "execution_count": null,
   "metadata": {},
   "outputs": [],
   "source": [
    "# Hyperparameter grid\n",
    "hidden_units_options = [32, 64, 128]    # Numbers of neurons in each hidden layer\n",
    "hidden_layers_options = [2, 3, 4]       # Numbers of hidden layers\n",
    "learning_rates = [0.1, 0.01, 0.001]     # Learning rates\n",
    "\n",
    "max_epochs = 200  # Arbitrarily large; early stopping will likely stop earlier.\n",
    "patience = 5      # Early stopping patience\n",
    "\n",
    "input_size =  X_train_processed.shape[1]   # Input size \n",
    "output_size = 1             # Output size\n",
    "\n",
    "learning_rate = 0.02        # Learning rate\n",
    "n_epochs = 100 # Numebr of epochs\n",
    "\n",
    "# Define the loss function and the optimizer\n",
    "criterion = nn.MSELoss()    # Mean Squared Error for Linear Regression\n"
   ]
  },
  {
   "cell_type": "code",
   "execution_count": 21,
   "metadata": {},
   "outputs": [],
   "source": [
    "# Define helper functions\n",
    "# Train epoch function\n",
    "def train_epoch(model, train_loader, criterion, optimizer, device):\n",
    "    model.train()\n",
    "    running_loss = 0.0\n",
    "\n",
    "    # for features, target in tqdm(train_loader, desc=f\"Training Epoch {epoch+1}\"):\n",
    "    for features, target in train_loader:\n",
    "        features, target = features.to(device), target.to(device)\n",
    "\n",
    "        optimizer.zero_grad()\n",
    "        outputs = model(features) # Forward pass\n",
    "        loss = criterion(outputs, target)\n",
    "\n",
    "        loss.backward()  # Backward pass\n",
    "        optimizer.step() # Update the weights\n",
    "\n",
    "        running_loss += loss.item() * features.size(0)\n",
    "\n",
    "    return running_loss / len(train_loader.dataset)\n",
    "\n",
    "# Validation epoch function\n",
    "def val_epoch(model, val_loader, criterion, device):\n",
    "    model.eval()\n",
    "    val_loss = 0.0\n",
    "\n",
    "    with torch.no_grad():\n",
    "        for features, target in val_loader:\n",
    "            # print(featuresfeatures.size(0))\n",
    "            features, target = features.to(device), target.to(device)\n",
    "            # features = features.view(features.size(0), -1)\n",
    "\n",
    "            outputs = model(features)\n",
    "            loss = criterion(outputs, target)\n",
    "            val_loss += loss.item() * features.size(0)\n",
    "\n",
    "    return val_loss / len(val_loader.dataset)\n",
    "\n"
   ]
  },
  {
   "cell_type": "code",
   "execution_count": 22,
   "metadata": {},
   "outputs": [
    {
     "data": {
      "text/html": [
       "Tracking run with wandb version 0.19.7"
      ],
      "text/plain": [
       "<IPython.core.display.HTML object>"
      ]
     },
     "metadata": {},
     "output_type": "display_data"
    },
    {
     "data": {
      "text/html": [
       "Run data is saved locally in <code>d:\\Projects\\MSc_DE_GroupWork4\\Scripts\\wandb\\run-20250321_040157-m4alzrw8</code>"
      ],
      "text/plain": [
       "<IPython.core.display.HTML object>"
      ]
     },
     "metadata": {},
     "output_type": "display_data"
    },
    {
     "data": {
      "text/html": [
       "Syncing run <strong><a href='https://wandb.ai/yixuan228-imperial-college-london/DE_Groupwork_G4_stage1/runs/m4alzrw8' target=\"_blank\">fearless-oath-59</a></strong> to <a href='https://wandb.ai/yixuan228-imperial-college-london/DE_Groupwork_G4_stage1' target=\"_blank\">Weights & Biases</a> (<a href='https://wandb.me/developer-guide' target=\"_blank\">docs</a>)<br>"
      ],
      "text/plain": [
       "<IPython.core.display.HTML object>"
      ]
     },
     "metadata": {},
     "output_type": "display_data"
    },
    {
     "data": {
      "text/html": [
       " View project at <a href='https://wandb.ai/yixuan228-imperial-college-london/DE_Groupwork_G4_stage1' target=\"_blank\">https://wandb.ai/yixuan228-imperial-college-london/DE_Groupwork_G4_stage1</a>"
      ],
      "text/plain": [
       "<IPython.core.display.HTML object>"
      ]
     },
     "metadata": {},
     "output_type": "display_data"
    },
    {
     "data": {
      "text/html": [
       " View run at <a href='https://wandb.ai/yixuan228-imperial-college-london/DE_Groupwork_G4_stage1/runs/m4alzrw8' target=\"_blank\">https://wandb.ai/yixuan228-imperial-college-london/DE_Groupwork_G4_stage1/runs/m4alzrw8</a>"
      ],
      "text/plain": [
       "<IPython.core.display.HTML object>"
      ]
     },
     "metadata": {},
     "output_type": "display_data"
    },
    {
     "name": "stdout",
     "output_type": "stream",
     "text": [
      "Epoch 001 | Train Loss: 5514.3652 | Val Loss: 440.5253\n",
      "Epoch 002 | Train Loss: 301.6506 | Val Loss: 291.4257\n",
      "Epoch 003 | Train Loss: 166.5759 | Val Loss: 127.7658\n",
      "Epoch 004 | Train Loss: 68.1235 | Val Loss: 35.9764\n",
      "Epoch 005 | Train Loss: 28.7847 | Val Loss: 45.6393\n",
      "Epoch 006 | Train Loss: 34.9599 | Val Loss: 57.6941\n",
      "Epoch 007 | Train Loss: 26.3130 | Val Loss: 17.1925\n",
      "Epoch 008 | Train Loss: 18.6134 | Val Loss: 30.7613\n",
      "Epoch 009 | Train Loss: 22.5218 | Val Loss: 34.4147\n",
      "Epoch 010 | Train Loss: 38.5950 | Val Loss: 16.7461\n",
      "Epoch 011 | Train Loss: 24.2420 | Val Loss: 23.8449\n",
      "Epoch 012 | Train Loss: 20.8000 | Val Loss: 53.2929\n",
      "Epoch 013 | Train Loss: 21.0842 | Val Loss: 22.8939\n",
      "Epoch 014 | Train Loss: 19.5026 | Val Loss: 22.3515\n",
      "Epoch 015 | Train Loss: 46.2849 | Val Loss: 72.0386\n",
      "Early stopping triggered at epoch 15\n"
     ]
    },
    {
     "data": {
      "text/html": [],
      "text/plain": [
       "<IPython.core.display.HTML object>"
      ]
     },
     "metadata": {},
     "output_type": "display_data"
    },
    {
     "data": {
      "text/html": [
       "<br>    <style><br>        .wandb-row {<br>            display: flex;<br>            flex-direction: row;<br>            flex-wrap: wrap;<br>            justify-content: flex-start;<br>            width: 100%;<br>        }<br>        .wandb-col {<br>            display: flex;<br>            flex-direction: column;<br>            flex-basis: 100%;<br>            flex: 1;<br>            padding: 10px;<br>        }<br>    </style><br><div class=\"wandb-row\"><div class=\"wandb-col\"><h3>Run history:</h3><br/><table class=\"wandb\"><tr><td>epoch</td><td>▁▁▂▃▃▃▄▅▅▅▆▇▇▇█</td></tr><tr><td>train_loss</td><td>█▁▁▁▁▁▁▁▁▁▁▁▁▁▁</td></tr><tr><td>val_loss</td><td>█▆▃▁▁▂▁▁▁▁▁▂▁▁▂</td></tr></table><br/></div><div class=\"wandb-col\"><h3>Run summary:</h3><br/><table class=\"wandb\"><tr><td>epoch</td><td>15</td></tr><tr><td>train_loss</td><td>46.28491</td></tr><tr><td>val_loss</td><td>72.03858</td></tr></table><br/></div></div>"
      ],
      "text/plain": [
       "<IPython.core.display.HTML object>"
      ]
     },
     "metadata": {},
     "output_type": "display_data"
    },
    {
     "data": {
      "text/html": [
       " View run <strong style=\"color:#cdcd00\">fearless-oath-59</strong> at: <a href='https://wandb.ai/yixuan228-imperial-college-london/DE_Groupwork_G4_stage1/runs/m4alzrw8' target=\"_blank\">https://wandb.ai/yixuan228-imperial-college-london/DE_Groupwork_G4_stage1/runs/m4alzrw8</a><br> View project at: <a href='https://wandb.ai/yixuan228-imperial-college-london/DE_Groupwork_G4_stage1' target=\"_blank\">https://wandb.ai/yixuan228-imperial-college-london/DE_Groupwork_G4_stage1</a><br>Synced 5 W&B file(s), 0 media file(s), 0 artifact file(s) and 0 other file(s)"
      ],
      "text/plain": [
       "<IPython.core.display.HTML object>"
      ]
     },
     "metadata": {},
     "output_type": "display_data"
    },
    {
     "data": {
      "text/html": [
       "Find logs at: <code>.\\wandb\\run-20250321_040157-m4alzrw8\\logs</code>"
      ],
      "text/plain": [
       "<IPython.core.display.HTML object>"
      ]
     },
     "metadata": {},
     "output_type": "display_data"
    },
    {
     "data": {
      "text/html": [
       "Tracking run with wandb version 0.19.7"
      ],
      "text/plain": [
       "<IPython.core.display.HTML object>"
      ]
     },
     "metadata": {},
     "output_type": "display_data"
    },
    {
     "data": {
      "text/html": [
       "Run data is saved locally in <code>d:\\Projects\\MSc_DE_GroupWork4\\Scripts\\wandb\\run-20250321_040206-kzccnjum</code>"
      ],
      "text/plain": [
       "<IPython.core.display.HTML object>"
      ]
     },
     "metadata": {},
     "output_type": "display_data"
    },
    {
     "data": {
      "text/html": [
       "Syncing run <strong><a href='https://wandb.ai/yixuan228-imperial-college-london/DE_Groupwork_G4_stage1/runs/kzccnjum' target=\"_blank\">swept-lake-60</a></strong> to <a href='https://wandb.ai/yixuan228-imperial-college-london/DE_Groupwork_G4_stage1' target=\"_blank\">Weights & Biases</a> (<a href='https://wandb.me/developer-guide' target=\"_blank\">docs</a>)<br>"
      ],
      "text/plain": [
       "<IPython.core.display.HTML object>"
      ]
     },
     "metadata": {},
     "output_type": "display_data"
    },
    {
     "data": {
      "text/html": [
       " View project at <a href='https://wandb.ai/yixuan228-imperial-college-london/DE_Groupwork_G4_stage1' target=\"_blank\">https://wandb.ai/yixuan228-imperial-college-london/DE_Groupwork_G4_stage1</a>"
      ],
      "text/plain": [
       "<IPython.core.display.HTML object>"
      ]
     },
     "metadata": {},
     "output_type": "display_data"
    },
    {
     "data": {
      "text/html": [
       " View run at <a href='https://wandb.ai/yixuan228-imperial-college-london/DE_Groupwork_G4_stage1/runs/kzccnjum' target=\"_blank\">https://wandb.ai/yixuan228-imperial-college-london/DE_Groupwork_G4_stage1/runs/kzccnjum</a>"
      ],
      "text/plain": [
       "<IPython.core.display.HTML object>"
      ]
     },
     "metadata": {},
     "output_type": "display_data"
    },
    {
     "name": "stdout",
     "output_type": "stream",
     "text": [
      "Epoch 001 | Train Loss: 23863.2434 | Val Loss: 1251.1614\n",
      "Epoch 002 | Train Loss: 825.5434 | Val Loss: 668.0640\n",
      "Epoch 003 | Train Loss: 527.7402 | Val Loss: 468.2074\n",
      "Epoch 004 | Train Loss: 377.9205 | Val Loss: 358.9596\n",
      "Epoch 005 | Train Loss: 288.5597 | Val Loss: 300.4213\n",
      "Epoch 006 | Train Loss: 240.6930 | Val Loss: 247.2153\n",
      "Epoch 007 | Train Loss: 195.1202 | Val Loss: 203.5134\n",
      "Epoch 008 | Train Loss: 162.2772 | Val Loss: 165.7341\n",
      "Epoch 009 | Train Loss: 130.5563 | Val Loss: 137.5243\n",
      "Epoch 010 | Train Loss: 104.9276 | Val Loss: 105.7664\n",
      "Epoch 011 | Train Loss: 82.3896 | Val Loss: 78.6683\n",
      "Epoch 012 | Train Loss: 65.2086 | Val Loss: 59.8034\n",
      "Epoch 013 | Train Loss: 49.8220 | Val Loss: 44.4299\n",
      "Epoch 014 | Train Loss: 38.2347 | Val Loss: 35.3417\n",
      "Epoch 015 | Train Loss: 30.3602 | Val Loss: 32.8647\n",
      "Epoch 016 | Train Loss: 25.6547 | Val Loss: 26.1879\n",
      "Epoch 017 | Train Loss: 23.1391 | Val Loss: 22.5498\n",
      "Epoch 018 | Train Loss: 20.5461 | Val Loss: 20.3826\n",
      "Epoch 019 | Train Loss: 18.2424 | Val Loss: 20.3140\n",
      "Epoch 020 | Train Loss: 18.6839 | Val Loss: 17.5401\n",
      "Epoch 021 | Train Loss: 16.1935 | Val Loss: 17.9510\n",
      "Epoch 022 | Train Loss: 15.9599 | Val Loss: 15.0072\n",
      "Epoch 023 | Train Loss: 14.6660 | Val Loss: 16.4566\n",
      "Epoch 024 | Train Loss: 14.2207 | Val Loss: 17.1129\n",
      "Epoch 025 | Train Loss: 15.1836 | Val Loss: 21.2393\n",
      "Epoch 026 | Train Loss: 14.4333 | Val Loss: 13.6548\n",
      "Epoch 027 | Train Loss: 12.7120 | Val Loss: 12.6544\n",
      "Epoch 028 | Train Loss: 12.7924 | Val Loss: 16.9933\n",
      "Epoch 029 | Train Loss: 12.5877 | Val Loss: 13.9913\n",
      "Epoch 030 | Train Loss: 14.5730 | Val Loss: 13.1080\n",
      "Epoch 031 | Train Loss: 13.4958 | Val Loss: 26.4048\n",
      "Epoch 032 | Train Loss: 13.6543 | Val Loss: 13.2294\n",
      "Early stopping triggered at epoch 32\n"
     ]
    },
    {
     "data": {
      "text/html": [],
      "text/plain": [
       "<IPython.core.display.HTML object>"
      ]
     },
     "metadata": {},
     "output_type": "display_data"
    },
    {
     "data": {
      "text/html": [
       "<br>    <style><br>        .wandb-row {<br>            display: flex;<br>            flex-direction: row;<br>            flex-wrap: wrap;<br>            justify-content: flex-start;<br>            width: 100%;<br>        }<br>        .wandb-col {<br>            display: flex;<br>            flex-direction: column;<br>            flex-basis: 100%;<br>            flex: 1;<br>            padding: 10px;<br>        }<br>    </style><br><div class=\"wandb-row\"><div class=\"wandb-col\"><h3>Run history:</h3><br/><table class=\"wandb\"><tr><td>epoch</td><td>▁▁▁▂▂▂▂▃▃▃▃▃▄▄▄▄▅▅▅▅▆▆▆▆▆▇▇▇▇███</td></tr><tr><td>train_loss</td><td>█▁▁▁▁▁▁▁▁▁▁▁▁▁▁▁▁▁▁▁▁▁▁▁▁▁▁▁▁▁▁▁</td></tr><tr><td>val_loss</td><td>█▅▄▃▃▂▂▂▂▂▁▁▁▁▁▁▁▁▁▁▁▁▁▁▁▁▁▁▁▁▁▁</td></tr></table><br/></div><div class=\"wandb-col\"><h3>Run summary:</h3><br/><table class=\"wandb\"><tr><td>epoch</td><td>32</td></tr><tr><td>train_loss</td><td>13.65431</td></tr><tr><td>val_loss</td><td>13.22943</td></tr></table><br/></div></div>"
      ],
      "text/plain": [
       "<IPython.core.display.HTML object>"
      ]
     },
     "metadata": {},
     "output_type": "display_data"
    },
    {
     "data": {
      "text/html": [
       " View run <strong style=\"color:#cdcd00\">swept-lake-60</strong> at: <a href='https://wandb.ai/yixuan228-imperial-college-london/DE_Groupwork_G4_stage1/runs/kzccnjum' target=\"_blank\">https://wandb.ai/yixuan228-imperial-college-london/DE_Groupwork_G4_stage1/runs/kzccnjum</a><br> View project at: <a href='https://wandb.ai/yixuan228-imperial-college-london/DE_Groupwork_G4_stage1' target=\"_blank\">https://wandb.ai/yixuan228-imperial-college-london/DE_Groupwork_G4_stage1</a><br>Synced 5 W&B file(s), 0 media file(s), 0 artifact file(s) and 0 other file(s)"
      ],
      "text/plain": [
       "<IPython.core.display.HTML object>"
      ]
     },
     "metadata": {},
     "output_type": "display_data"
    },
    {
     "data": {
      "text/html": [
       "Find logs at: <code>.\\wandb\\run-20250321_040206-kzccnjum\\logs</code>"
      ],
      "text/plain": [
       "<IPython.core.display.HTML object>"
      ]
     },
     "metadata": {},
     "output_type": "display_data"
    },
    {
     "data": {
      "text/html": [
       "Tracking run with wandb version 0.19.7"
      ],
      "text/plain": [
       "<IPython.core.display.HTML object>"
      ]
     },
     "metadata": {},
     "output_type": "display_data"
    },
    {
     "data": {
      "text/html": [
       "Run data is saved locally in <code>d:\\Projects\\MSc_DE_GroupWork4\\Scripts\\wandb\\run-20250321_040216-16t11u7z</code>"
      ],
      "text/plain": [
       "<IPython.core.display.HTML object>"
      ]
     },
     "metadata": {},
     "output_type": "display_data"
    },
    {
     "data": {
      "text/html": [
       "Syncing run <strong><a href='https://wandb.ai/yixuan228-imperial-college-london/DE_Groupwork_G4_stage1/runs/16t11u7z' target=\"_blank\">crimson-planet-61</a></strong> to <a href='https://wandb.ai/yixuan228-imperial-college-london/DE_Groupwork_G4_stage1' target=\"_blank\">Weights & Biases</a> (<a href='https://wandb.me/developer-guide' target=\"_blank\">docs</a>)<br>"
      ],
      "text/plain": [
       "<IPython.core.display.HTML object>"
      ]
     },
     "metadata": {},
     "output_type": "display_data"
    },
    {
     "data": {
      "text/html": [
       " View project at <a href='https://wandb.ai/yixuan228-imperial-college-london/DE_Groupwork_G4_stage1' target=\"_blank\">https://wandb.ai/yixuan228-imperial-college-london/DE_Groupwork_G4_stage1</a>"
      ],
      "text/plain": [
       "<IPython.core.display.HTML object>"
      ]
     },
     "metadata": {},
     "output_type": "display_data"
    },
    {
     "data": {
      "text/html": [
       " View run at <a href='https://wandb.ai/yixuan228-imperial-college-london/DE_Groupwork_G4_stage1/runs/16t11u7z' target=\"_blank\">https://wandb.ai/yixuan228-imperial-college-london/DE_Groupwork_G4_stage1/runs/16t11u7z</a>"
      ],
      "text/plain": [
       "<IPython.core.display.HTML object>"
      ]
     },
     "metadata": {},
     "output_type": "display_data"
    },
    {
     "name": "stdout",
     "output_type": "stream",
     "text": [
      "Epoch 001 | Train Loss: 65838.1324 | Val Loss: 62727.3800\n",
      "Epoch 002 | Train Loss: 54614.3244 | Val Loss: 38720.2052\n",
      "Epoch 003 | Train Loss: 21203.9080 | Val Loss: 7151.1598\n",
      "Epoch 004 | Train Loss: 4461.0233 | Val Loss: 3094.8117\n",
      "Epoch 005 | Train Loss: 2529.4209 | Val Loss: 2057.7328\n",
      "Epoch 006 | Train Loss: 1709.6475 | Val Loss: 1494.2635\n",
      "Epoch 007 | Train Loss: 1282.3153 | Val Loss: 1202.1818\n",
      "Epoch 008 | Train Loss: 1058.1871 | Val Loss: 1038.0748\n",
      "Epoch 009 | Train Loss: 929.7856 | Val Loss: 936.1142\n",
      "Epoch 010 | Train Loss: 839.8108 | Val Loss: 854.3498\n",
      "Epoch 011 | Train Loss: 764.8624 | Val Loss: 782.2968\n",
      "Epoch 012 | Train Loss: 700.0018 | Val Loss: 718.0412\n",
      "Epoch 013 | Train Loss: 641.4499 | Val Loss: 659.0711\n",
      "Epoch 014 | Train Loss: 588.0201 | Val Loss: 607.9185\n",
      "Epoch 015 | Train Loss: 537.9103 | Val Loss: 557.1420\n",
      "Epoch 016 | Train Loss: 491.2554 | Val Loss: 508.6399\n",
      "Epoch 017 | Train Loss: 451.1200 | Val Loss: 470.8725\n",
      "Epoch 018 | Train Loss: 416.7761 | Val Loss: 438.0512\n",
      "Epoch 019 | Train Loss: 387.0102 | Val Loss: 407.7188\n",
      "Epoch 020 | Train Loss: 360.3907 | Val Loss: 380.4473\n",
      "Epoch 021 | Train Loss: 336.1667 | Val Loss: 356.9548\n",
      "Epoch 022 | Train Loss: 315.8765 | Val Loss: 336.4977\n",
      "Epoch 023 | Train Loss: 296.7286 | Val Loss: 316.4579\n",
      "Epoch 024 | Train Loss: 280.3379 | Val Loss: 302.0483\n",
      "Epoch 025 | Train Loss: 265.4005 | Val Loss: 285.0111\n",
      "Epoch 026 | Train Loss: 251.5151 | Val Loss: 269.0256\n",
      "Epoch 027 | Train Loss: 237.8209 | Val Loss: 256.5053\n",
      "Epoch 028 | Train Loss: 225.9994 | Val Loss: 241.9604\n",
      "Epoch 029 | Train Loss: 214.1405 | Val Loss: 230.2176\n",
      "Epoch 030 | Train Loss: 203.6563 | Val Loss: 218.9526\n",
      "Epoch 031 | Train Loss: 192.3262 | Val Loss: 205.4341\n",
      "Epoch 032 | Train Loss: 181.8773 | Val Loss: 195.4411\n",
      "Epoch 033 | Train Loss: 172.2126 | Val Loss: 186.6834\n",
      "Epoch 034 | Train Loss: 163.8794 | Val Loss: 174.3868\n",
      "Epoch 035 | Train Loss: 153.3344 | Val Loss: 164.9014\n",
      "Epoch 036 | Train Loss: 144.6762 | Val Loss: 155.3617\n",
      "Epoch 037 | Train Loss: 135.9268 | Val Loss: 146.3519\n",
      "Epoch 038 | Train Loss: 128.3945 | Val Loss: 137.6518\n",
      "Epoch 039 | Train Loss: 121.0597 | Val Loss: 128.6441\n",
      "Epoch 040 | Train Loss: 114.0264 | Val Loss: 121.2224\n",
      "Epoch 041 | Train Loss: 105.9763 | Val Loss: 112.6809\n",
      "Epoch 042 | Train Loss: 100.2108 | Val Loss: 105.0333\n",
      "Epoch 043 | Train Loss: 92.7918 | Val Loss: 98.5190\n",
      "Epoch 044 | Train Loss: 86.9433 | Val Loss: 92.1226\n",
      "Epoch 045 | Train Loss: 81.1772 | Val Loss: 85.3484\n",
      "Epoch 046 | Train Loss: 75.0495 | Val Loss: 81.2389\n",
      "Epoch 047 | Train Loss: 69.9696 | Val Loss: 73.5222\n",
      "Epoch 048 | Train Loss: 65.4290 | Val Loss: 69.4755\n",
      "Epoch 049 | Train Loss: 61.2517 | Val Loss: 64.6244\n",
      "Epoch 050 | Train Loss: 56.9861 | Val Loss: 59.6537\n",
      "Epoch 051 | Train Loss: 53.3500 | Val Loss: 56.5518\n",
      "Epoch 052 | Train Loss: 49.7704 | Val Loss: 52.1876\n",
      "Epoch 053 | Train Loss: 46.8792 | Val Loss: 48.5843\n",
      "Epoch 054 | Train Loss: 44.0163 | Val Loss: 46.1941\n",
      "Epoch 055 | Train Loss: 41.0768 | Val Loss: 43.0469\n",
      "Epoch 056 | Train Loss: 38.9280 | Val Loss: 41.6085\n",
      "Epoch 057 | Train Loss: 37.0469 | Val Loss: 37.8790\n",
      "Epoch 058 | Train Loss: 34.9112 | Val Loss: 36.9900\n",
      "Epoch 059 | Train Loss: 33.6080 | Val Loss: 33.8758\n",
      "Epoch 060 | Train Loss: 31.5944 | Val Loss: 34.1183\n",
      "Epoch 061 | Train Loss: 30.4908 | Val Loss: 32.7856\n",
      "Epoch 062 | Train Loss: 28.6006 | Val Loss: 31.7382\n",
      "Epoch 063 | Train Loss: 28.2707 | Val Loss: 28.7400\n",
      "Epoch 064 | Train Loss: 26.6602 | Val Loss: 26.6934\n",
      "Epoch 065 | Train Loss: 25.8970 | Val Loss: 25.3077\n",
      "Epoch 066 | Train Loss: 24.6032 | Val Loss: 24.7352\n",
      "Epoch 067 | Train Loss: 23.8953 | Val Loss: 24.3178\n",
      "Epoch 068 | Train Loss: 22.4689 | Val Loss: 22.7802\n",
      "Epoch 069 | Train Loss: 21.9731 | Val Loss: 22.1378\n",
      "Epoch 070 | Train Loss: 21.3027 | Val Loss: 21.1104\n",
      "Epoch 071 | Train Loss: 20.7114 | Val Loss: 20.6560\n",
      "Epoch 072 | Train Loss: 19.9823 | Val Loss: 19.9431\n",
      "Epoch 073 | Train Loss: 19.1778 | Val Loss: 19.2258\n",
      "Epoch 074 | Train Loss: 18.9340 | Val Loss: 18.7988\n",
      "Epoch 075 | Train Loss: 18.3328 | Val Loss: 17.7831\n",
      "Epoch 076 | Train Loss: 17.8316 | Val Loss: 18.0541\n",
      "Epoch 077 | Train Loss: 17.1578 | Val Loss: 17.4078\n",
      "Epoch 078 | Train Loss: 16.8304 | Val Loss: 17.4533\n",
      "Epoch 079 | Train Loss: 16.3655 | Val Loss: 16.2617\n",
      "Epoch 080 | Train Loss: 15.9230 | Val Loss: 16.5566\n",
      "Epoch 081 | Train Loss: 15.5595 | Val Loss: 17.9213\n",
      "Epoch 082 | Train Loss: 15.8953 | Val Loss: 15.5753\n",
      "Epoch 083 | Train Loss: 14.9147 | Val Loss: 14.9186\n",
      "Epoch 084 | Train Loss: 15.0501 | Val Loss: 14.3162\n",
      "Epoch 085 | Train Loss: 14.3918 | Val Loss: 15.6583\n",
      "Epoch 086 | Train Loss: 14.4171 | Val Loss: 14.8190\n",
      "Epoch 087 | Train Loss: 13.9205 | Val Loss: 14.3777\n",
      "Epoch 088 | Train Loss: 13.7876 | Val Loss: 13.7082\n",
      "Epoch 089 | Train Loss: 13.4166 | Val Loss: 14.1107\n",
      "Epoch 090 | Train Loss: 13.4658 | Val Loss: 13.1365\n",
      "Epoch 091 | Train Loss: 12.9622 | Val Loss: 14.3898\n",
      "Epoch 092 | Train Loss: 12.7127 | Val Loss: 12.2933\n",
      "Epoch 093 | Train Loss: 12.4893 | Val Loss: 14.4344\n",
      "Epoch 094 | Train Loss: 12.5138 | Val Loss: 12.5426\n",
      "Epoch 095 | Train Loss: 12.4905 | Val Loss: 12.0933\n",
      "Epoch 096 | Train Loss: 12.1375 | Val Loss: 12.6694\n",
      "Epoch 097 | Train Loss: 12.1447 | Val Loss: 11.5234\n",
      "Epoch 098 | Train Loss: 11.6206 | Val Loss: 11.4355\n",
      "Epoch 099 | Train Loss: 11.7669 | Val Loss: 11.5927\n",
      "Epoch 100 | Train Loss: 11.4815 | Val Loss: 11.5849\n",
      "Epoch 101 | Train Loss: 11.3499 | Val Loss: 11.6473\n",
      "Epoch 102 | Train Loss: 11.4108 | Val Loss: 11.5587\n",
      "Epoch 103 | Train Loss: 11.2108 | Val Loss: 11.2325\n",
      "Epoch 104 | Train Loss: 10.9699 | Val Loss: 12.5571\n",
      "Epoch 105 | Train Loss: 11.0416 | Val Loss: 10.6522\n",
      "Epoch 106 | Train Loss: 10.7542 | Val Loss: 10.7953\n",
      "Epoch 107 | Train Loss: 10.6229 | Val Loss: 10.5810\n",
      "Epoch 108 | Train Loss: 10.4156 | Val Loss: 12.0597\n",
      "Epoch 109 | Train Loss: 10.7071 | Val Loss: 12.2722\n",
      "Epoch 110 | Train Loss: 10.5629 | Val Loss: 10.2900\n",
      "Epoch 111 | Train Loss: 10.2878 | Val Loss: 10.3300\n",
      "Epoch 112 | Train Loss: 10.1364 | Val Loss: 10.1202\n",
      "Epoch 113 | Train Loss: 10.1704 | Val Loss: 11.6121\n",
      "Epoch 114 | Train Loss: 10.1882 | Val Loss: 11.5185\n",
      "Epoch 115 | Train Loss: 9.8809 | Val Loss: 10.4207\n",
      "Epoch 116 | Train Loss: 10.1206 | Val Loss: 11.7897\n",
      "Epoch 117 | Train Loss: 10.3825 | Val Loss: 11.0870\n",
      "Early stopping triggered at epoch 117\n"
     ]
    },
    {
     "data": {
      "text/html": [],
      "text/plain": [
       "<IPython.core.display.HTML object>"
      ]
     },
     "metadata": {},
     "output_type": "display_data"
    },
    {
     "data": {
      "text/html": [
       "<br>    <style><br>        .wandb-row {<br>            display: flex;<br>            flex-direction: row;<br>            flex-wrap: wrap;<br>            justify-content: flex-start;<br>            width: 100%;<br>        }<br>        .wandb-col {<br>            display: flex;<br>            flex-direction: column;<br>            flex-basis: 100%;<br>            flex: 1;<br>            padding: 10px;<br>        }<br>    </style><br><div class=\"wandb-row\"><div class=\"wandb-col\"><h3>Run history:</h3><br/><table class=\"wandb\"><tr><td>epoch</td><td>▁▁▁▂▂▂▂▂▂▂▃▃▃▃▃▄▄▄▄▄▅▅▅▅▅▅▅▅▅▆▆▆▆▆▆▇▇▇▇█</td></tr><tr><td>train_loss</td><td>█▇▃▁▁▁▁▁▁▁▁▁▁▁▁▁▁▁▁▁▁▁▁▁▁▁▁▁▁▁▁▁▁▁▁▁▁▁▁▁</td></tr><tr><td>val_loss</td><td>█▆▄▃▃▂▂▂▂▂▂▂▁▁▁▁▁▁▁▁▁▁▁▁▁▁▁▁▁▁▁▁▁▁▁▁▁▁▁▁</td></tr></table><br/></div><div class=\"wandb-col\"><h3>Run summary:</h3><br/><table class=\"wandb\"><tr><td>epoch</td><td>117</td></tr><tr><td>train_loss</td><td>10.38248</td></tr><tr><td>val_loss</td><td>11.08701</td></tr></table><br/></div></div>"
      ],
      "text/plain": [
       "<IPython.core.display.HTML object>"
      ]
     },
     "metadata": {},
     "output_type": "display_data"
    },
    {
     "data": {
      "text/html": [
       " View run <strong style=\"color:#cdcd00\">crimson-planet-61</strong> at: <a href='https://wandb.ai/yixuan228-imperial-college-london/DE_Groupwork_G4_stage1/runs/16t11u7z' target=\"_blank\">https://wandb.ai/yixuan228-imperial-college-london/DE_Groupwork_G4_stage1/runs/16t11u7z</a><br> View project at: <a href='https://wandb.ai/yixuan228-imperial-college-london/DE_Groupwork_G4_stage1' target=\"_blank\">https://wandb.ai/yixuan228-imperial-college-london/DE_Groupwork_G4_stage1</a><br>Synced 5 W&B file(s), 0 media file(s), 0 artifact file(s) and 0 other file(s)"
      ],
      "text/plain": [
       "<IPython.core.display.HTML object>"
      ]
     },
     "metadata": {},
     "output_type": "display_data"
    },
    {
     "data": {
      "text/html": [
       "Find logs at: <code>.\\wandb\\run-20250321_040216-16t11u7z\\logs</code>"
      ],
      "text/plain": [
       "<IPython.core.display.HTML object>"
      ]
     },
     "metadata": {},
     "output_type": "display_data"
    },
    {
     "data": {
      "text/html": [
       "Tracking run with wandb version 0.19.7"
      ],
      "text/plain": [
       "<IPython.core.display.HTML object>"
      ]
     },
     "metadata": {},
     "output_type": "display_data"
    },
    {
     "data": {
      "text/html": [
       "Run data is saved locally in <code>d:\\Projects\\MSc_DE_GroupWork4\\Scripts\\wandb\\run-20250321_040240-mjt2g5f9</code>"
      ],
      "text/plain": [
       "<IPython.core.display.HTML object>"
      ]
     },
     "metadata": {},
     "output_type": "display_data"
    },
    {
     "data": {
      "text/html": [
       "Syncing run <strong><a href='https://wandb.ai/yixuan228-imperial-college-london/DE_Groupwork_G4_stage1/runs/mjt2g5f9' target=\"_blank\">rosy-capybara-62</a></strong> to <a href='https://wandb.ai/yixuan228-imperial-college-london/DE_Groupwork_G4_stage1' target=\"_blank\">Weights & Biases</a> (<a href='https://wandb.me/developer-guide' target=\"_blank\">docs</a>)<br>"
      ],
      "text/plain": [
       "<IPython.core.display.HTML object>"
      ]
     },
     "metadata": {},
     "output_type": "display_data"
    },
    {
     "data": {
      "text/html": [
       " View project at <a href='https://wandb.ai/yixuan228-imperial-college-london/DE_Groupwork_G4_stage1' target=\"_blank\">https://wandb.ai/yixuan228-imperial-college-london/DE_Groupwork_G4_stage1</a>"
      ],
      "text/plain": [
       "<IPython.core.display.HTML object>"
      ]
     },
     "metadata": {},
     "output_type": "display_data"
    },
    {
     "data": {
      "text/html": [
       " View run at <a href='https://wandb.ai/yixuan228-imperial-college-london/DE_Groupwork_G4_stage1/runs/mjt2g5f9' target=\"_blank\">https://wandb.ai/yixuan228-imperial-college-london/DE_Groupwork_G4_stage1/runs/mjt2g5f9</a>"
      ],
      "text/plain": [
       "<IPython.core.display.HTML object>"
      ]
     },
     "metadata": {},
     "output_type": "display_data"
    },
    {
     "name": "stdout",
     "output_type": "stream",
     "text": [
      "Epoch 001 | Train Loss: 11451.1374 | Val Loss: 557.7693\n",
      "Epoch 002 | Train Loss: 397.5960 | Val Loss: 313.9110\n",
      "Epoch 003 | Train Loss: 243.2129 | Val Loss: 1023.0517\n",
      "Epoch 004 | Train Loss: 228.8051 | Val Loss: 272.6789\n",
      "Epoch 005 | Train Loss: 120.3183 | Val Loss: 150.0033\n",
      "Epoch 006 | Train Loss: 87.3621 | Val Loss: 86.5757\n",
      "Epoch 007 | Train Loss: 58.2783 | Val Loss: 95.8038\n",
      "Epoch 008 | Train Loss: 42.2940 | Val Loss: 32.4085\n",
      "Epoch 009 | Train Loss: 37.1543 | Val Loss: 47.6369\n",
      "Epoch 010 | Train Loss: 37.7617 | Val Loss: 38.7426\n",
      "Epoch 011 | Train Loss: 30.5741 | Val Loss: 34.4765\n",
      "Epoch 012 | Train Loss: 30.7153 | Val Loss: 43.0984\n",
      "Epoch 013 | Train Loss: 34.6425 | Val Loss: 287.8606\n",
      "Early stopping triggered at epoch 13\n"
     ]
    },
    {
     "data": {
      "text/html": [],
      "text/plain": [
       "<IPython.core.display.HTML object>"
      ]
     },
     "metadata": {},
     "output_type": "display_data"
    },
    {
     "data": {
      "text/html": [
       "<br>    <style><br>        .wandb-row {<br>            display: flex;<br>            flex-direction: row;<br>            flex-wrap: wrap;<br>            justify-content: flex-start;<br>            width: 100%;<br>        }<br>        .wandb-col {<br>            display: flex;<br>            flex-direction: column;<br>            flex-basis: 100%;<br>            flex: 1;<br>            padding: 10px;<br>        }<br>    </style><br><div class=\"wandb-row\"><div class=\"wandb-col\"><h3>Run history:</h3><br/><table class=\"wandb\"><tr><td>epoch</td><td>▁▂▂▃▃▄▅▅▆▆▇▇█</td></tr><tr><td>train_loss</td><td>█▁▁▁▁▁▁▁▁▁▁▁▁</td></tr><tr><td>val_loss</td><td>▅▃█▃▂▁▁▁▁▁▁▁▃</td></tr></table><br/></div><div class=\"wandb-col\"><h3>Run summary:</h3><br/><table class=\"wandb\"><tr><td>epoch</td><td>13</td></tr><tr><td>train_loss</td><td>34.64252</td></tr><tr><td>val_loss</td><td>287.86059</td></tr></table><br/></div></div>"
      ],
      "text/plain": [
       "<IPython.core.display.HTML object>"
      ]
     },
     "metadata": {},
     "output_type": "display_data"
    },
    {
     "data": {
      "text/html": [
       " View run <strong style=\"color:#cdcd00\">rosy-capybara-62</strong> at: <a href='https://wandb.ai/yixuan228-imperial-college-london/DE_Groupwork_G4_stage1/runs/mjt2g5f9' target=\"_blank\">https://wandb.ai/yixuan228-imperial-college-london/DE_Groupwork_G4_stage1/runs/mjt2g5f9</a><br> View project at: <a href='https://wandb.ai/yixuan228-imperial-college-london/DE_Groupwork_G4_stage1' target=\"_blank\">https://wandb.ai/yixuan228-imperial-college-london/DE_Groupwork_G4_stage1</a><br>Synced 5 W&B file(s), 0 media file(s), 0 artifact file(s) and 0 other file(s)"
      ],
      "text/plain": [
       "<IPython.core.display.HTML object>"
      ]
     },
     "metadata": {},
     "output_type": "display_data"
    },
    {
     "data": {
      "text/html": [
       "Find logs at: <code>.\\wandb\\run-20250321_040240-mjt2g5f9\\logs</code>"
      ],
      "text/plain": [
       "<IPython.core.display.HTML object>"
      ]
     },
     "metadata": {},
     "output_type": "display_data"
    },
    {
     "data": {
      "text/html": [
       "Tracking run with wandb version 0.19.7"
      ],
      "text/plain": [
       "<IPython.core.display.HTML object>"
      ]
     },
     "metadata": {},
     "output_type": "display_data"
    },
    {
     "data": {
      "text/html": [
       "Run data is saved locally in <code>d:\\Projects\\MSc_DE_GroupWork4\\Scripts\\wandb\\run-20250321_040244-syot6r88</code>"
      ],
      "text/plain": [
       "<IPython.core.display.HTML object>"
      ]
     },
     "metadata": {},
     "output_type": "display_data"
    },
    {
     "data": {
      "text/html": [
       "Syncing run <strong><a href='https://wandb.ai/yixuan228-imperial-college-london/DE_Groupwork_G4_stage1/runs/syot6r88' target=\"_blank\">earthy-pine-63</a></strong> to <a href='https://wandb.ai/yixuan228-imperial-college-london/DE_Groupwork_G4_stage1' target=\"_blank\">Weights & Biases</a> (<a href='https://wandb.me/developer-guide' target=\"_blank\">docs</a>)<br>"
      ],
      "text/plain": [
       "<IPython.core.display.HTML object>"
      ]
     },
     "metadata": {},
     "output_type": "display_data"
    },
    {
     "data": {
      "text/html": [
       " View project at <a href='https://wandb.ai/yixuan228-imperial-college-london/DE_Groupwork_G4_stage1' target=\"_blank\">https://wandb.ai/yixuan228-imperial-college-london/DE_Groupwork_G4_stage1</a>"
      ],
      "text/plain": [
       "<IPython.core.display.HTML object>"
      ]
     },
     "metadata": {},
     "output_type": "display_data"
    },
    {
     "data": {
      "text/html": [
       " View run at <a href='https://wandb.ai/yixuan228-imperial-college-london/DE_Groupwork_G4_stage1/runs/syot6r88' target=\"_blank\">https://wandb.ai/yixuan228-imperial-college-london/DE_Groupwork_G4_stage1/runs/syot6r88</a>"
      ],
      "text/plain": [
       "<IPython.core.display.HTML object>"
      ]
     },
     "metadata": {},
     "output_type": "display_data"
    },
    {
     "name": "stdout",
     "output_type": "stream",
     "text": [
      "Epoch 001 | Train Loss: 18428.1494 | Val Loss: 870.7166\n",
      "Epoch 002 | Train Loss: 575.7267 | Val Loss: 450.8282\n",
      "Epoch 003 | Train Loss: 337.9658 | Val Loss: 317.2982\n",
      "Epoch 004 | Train Loss: 242.4845 | Val Loss: 242.5317\n",
      "Epoch 005 | Train Loss: 184.8894 | Val Loss: 183.3792\n",
      "Epoch 006 | Train Loss: 144.1145 | Val Loss: 150.2437\n",
      "Epoch 007 | Train Loss: 102.1989 | Val Loss: 104.8404\n",
      "Epoch 008 | Train Loss: 71.3942 | Val Loss: 69.3625\n",
      "Epoch 009 | Train Loss: 49.8376 | Val Loss: 46.8339\n",
      "Epoch 010 | Train Loss: 37.5472 | Val Loss: 47.7637\n",
      "Epoch 011 | Train Loss: 31.6554 | Val Loss: 33.1472\n",
      "Epoch 012 | Train Loss: 26.9610 | Val Loss: 23.2333\n",
      "Epoch 013 | Train Loss: 21.9018 | Val Loss: 29.4420\n",
      "Epoch 014 | Train Loss: 19.6159 | Val Loss: 25.2177\n",
      "Epoch 015 | Train Loss: 19.2451 | Val Loss: 17.7899\n",
      "Epoch 016 | Train Loss: 19.1624 | Val Loss: 28.6692\n",
      "Epoch 017 | Train Loss: 18.9880 | Val Loss: 27.6188\n",
      "Epoch 018 | Train Loss: 16.0129 | Val Loss: 15.4588\n",
      "Epoch 019 | Train Loss: 15.1535 | Val Loss: 15.2777\n",
      "Epoch 020 | Train Loss: 14.7868 | Val Loss: 15.3514\n",
      "Epoch 021 | Train Loss: 18.2774 | Val Loss: 18.1910\n",
      "Epoch 022 | Train Loss: 13.9821 | Val Loss: 14.2244\n",
      "Epoch 023 | Train Loss: 13.0412 | Val Loss: 20.2821\n",
      "Epoch 024 | Train Loss: 12.4556 | Val Loss: 15.4259\n",
      "Epoch 025 | Train Loss: 12.7338 | Val Loss: 23.4159\n",
      "Epoch 026 | Train Loss: 13.9029 | Val Loss: 11.9711\n",
      "Epoch 027 | Train Loss: 12.8712 | Val Loss: 17.3785\n",
      "Epoch 028 | Train Loss: 13.4823 | Val Loss: 15.6599\n",
      "Epoch 029 | Train Loss: 13.5942 | Val Loss: 15.9601\n",
      "Epoch 030 | Train Loss: 13.6982 | Val Loss: 21.9395\n",
      "Epoch 031 | Train Loss: 14.9963 | Val Loss: 14.8215\n",
      "Early stopping triggered at epoch 31\n"
     ]
    },
    {
     "data": {
      "text/html": [],
      "text/plain": [
       "<IPython.core.display.HTML object>"
      ]
     },
     "metadata": {},
     "output_type": "display_data"
    },
    {
     "data": {
      "text/html": [
       "<br>    <style><br>        .wandb-row {<br>            display: flex;<br>            flex-direction: row;<br>            flex-wrap: wrap;<br>            justify-content: flex-start;<br>            width: 100%;<br>        }<br>        .wandb-col {<br>            display: flex;<br>            flex-direction: column;<br>            flex-basis: 100%;<br>            flex: 1;<br>            padding: 10px;<br>        }<br>    </style><br><div class=\"wandb-row\"><div class=\"wandb-col\"><h3>Run history:</h3><br/><table class=\"wandb\"><tr><td>epoch</td><td>▁▁▁▂▂▂▂▃▃▃▃▄▄▄▄▅▅▅▅▅▆▆▆▆▇▇▇▇███</td></tr><tr><td>train_loss</td><td>█▁▁▁▁▁▁▁▁▁▁▁▁▁▁▁▁▁▁▁▁▁▁▁▁▁▁▁▁▁▁</td></tr><tr><td>val_loss</td><td>█▅▃▃▂▂▂▁▁▁▁▁▁▁▁▁▁▁▁▁▁▁▁▁▁▁▁▁▁▁▁</td></tr></table><br/></div><div class=\"wandb-col\"><h3>Run summary:</h3><br/><table class=\"wandb\"><tr><td>epoch</td><td>31</td></tr><tr><td>train_loss</td><td>14.99631</td></tr><tr><td>val_loss</td><td>14.82151</td></tr></table><br/></div></div>"
      ],
      "text/plain": [
       "<IPython.core.display.HTML object>"
      ]
     },
     "metadata": {},
     "output_type": "display_data"
    },
    {
     "data": {
      "text/html": [
       " View run <strong style=\"color:#cdcd00\">earthy-pine-63</strong> at: <a href='https://wandb.ai/yixuan228-imperial-college-london/DE_Groupwork_G4_stage1/runs/syot6r88' target=\"_blank\">https://wandb.ai/yixuan228-imperial-college-london/DE_Groupwork_G4_stage1/runs/syot6r88</a><br> View project at: <a href='https://wandb.ai/yixuan228-imperial-college-london/DE_Groupwork_G4_stage1' target=\"_blank\">https://wandb.ai/yixuan228-imperial-college-london/DE_Groupwork_G4_stage1</a><br>Synced 5 W&B file(s), 0 media file(s), 0 artifact file(s) and 0 other file(s)"
      ],
      "text/plain": [
       "<IPython.core.display.HTML object>"
      ]
     },
     "metadata": {},
     "output_type": "display_data"
    },
    {
     "data": {
      "text/html": [
       "Find logs at: <code>.\\wandb\\run-20250321_040244-syot6r88\\logs</code>"
      ],
      "text/plain": [
       "<IPython.core.display.HTML object>"
      ]
     },
     "metadata": {},
     "output_type": "display_data"
    },
    {
     "data": {
      "text/html": [
       "Tracking run with wandb version 0.19.7"
      ],
      "text/plain": [
       "<IPython.core.display.HTML object>"
      ]
     },
     "metadata": {},
     "output_type": "display_data"
    },
    {
     "data": {
      "text/html": [
       "Run data is saved locally in <code>d:\\Projects\\MSc_DE_GroupWork4\\Scripts\\wandb\\run-20250321_040253-1k480720</code>"
      ],
      "text/plain": [
       "<IPython.core.display.HTML object>"
      ]
     },
     "metadata": {},
     "output_type": "display_data"
    },
    {
     "data": {
      "text/html": [
       "Syncing run <strong><a href='https://wandb.ai/yixuan228-imperial-college-london/DE_Groupwork_G4_stage1/runs/1k480720' target=\"_blank\">stoic-water-64</a></strong> to <a href='https://wandb.ai/yixuan228-imperial-college-london/DE_Groupwork_G4_stage1' target=\"_blank\">Weights & Biases</a> (<a href='https://wandb.me/developer-guide' target=\"_blank\">docs</a>)<br>"
      ],
      "text/plain": [
       "<IPython.core.display.HTML object>"
      ]
     },
     "metadata": {},
     "output_type": "display_data"
    },
    {
     "data": {
      "text/html": [
       " View project at <a href='https://wandb.ai/yixuan228-imperial-college-london/DE_Groupwork_G4_stage1' target=\"_blank\">https://wandb.ai/yixuan228-imperial-college-london/DE_Groupwork_G4_stage1</a>"
      ],
      "text/plain": [
       "<IPython.core.display.HTML object>"
      ]
     },
     "metadata": {},
     "output_type": "display_data"
    },
    {
     "data": {
      "text/html": [
       " View run at <a href='https://wandb.ai/yixuan228-imperial-college-london/DE_Groupwork_G4_stage1/runs/1k480720' target=\"_blank\">https://wandb.ai/yixuan228-imperial-college-london/DE_Groupwork_G4_stage1/runs/1k480720</a>"
      ],
      "text/plain": [
       "<IPython.core.display.HTML object>"
      ]
     },
     "metadata": {},
     "output_type": "display_data"
    },
    {
     "name": "stdout",
     "output_type": "stream",
     "text": [
      "Epoch 001 | Train Loss: 64873.1669 | Val Loss: 56562.5864\n",
      "Epoch 002 | Train Loss: 24926.7226 | Val Loss: 3807.5320\n",
      "Epoch 003 | Train Loss: 2424.2887 | Val Loss: 1506.0025\n",
      "Epoch 004 | Train Loss: 1151.5091 | Val Loss: 941.4628\n",
      "Epoch 005 | Train Loss: 795.4116 | Val Loss: 746.2495\n",
      "Epoch 006 | Train Loss: 650.8445 | Val Loss: 636.9987\n",
      "Epoch 007 | Train Loss: 559.8196 | Val Loss: 560.6160\n",
      "Epoch 008 | Train Loss: 491.0100 | Val Loss: 497.1460\n",
      "Epoch 009 | Train Loss: 436.4030 | Val Loss: 442.8254\n",
      "Epoch 010 | Train Loss: 386.1083 | Val Loss: 398.8524\n",
      "Epoch 011 | Train Loss: 344.9536 | Val Loss: 361.3860\n",
      "Epoch 012 | Train Loss: 309.9154 | Val Loss: 326.2331\n",
      "Epoch 013 | Train Loss: 282.9582 | Val Loss: 297.7430\n",
      "Epoch 014 | Train Loss: 254.3004 | Val Loss: 273.2639\n",
      "Epoch 015 | Train Loss: 231.8024 | Val Loss: 254.1740\n",
      "Epoch 016 | Train Loss: 212.6839 | Val Loss: 232.4560\n",
      "Epoch 017 | Train Loss: 196.5894 | Val Loss: 218.1047\n",
      "Epoch 018 | Train Loss: 179.9133 | Val Loss: 197.8944\n",
      "Epoch 019 | Train Loss: 166.8399 | Val Loss: 183.6945\n",
      "Epoch 020 | Train Loss: 153.4791 | Val Loss: 167.1353\n",
      "Epoch 021 | Train Loss: 140.4995 | Val Loss: 155.2455\n",
      "Epoch 022 | Train Loss: 128.1598 | Val Loss: 139.3411\n",
      "Epoch 023 | Train Loss: 117.4657 | Val Loss: 126.7726\n",
      "Epoch 024 | Train Loss: 105.4317 | Val Loss: 113.2208\n",
      "Epoch 025 | Train Loss: 95.0696 | Val Loss: 105.4509\n",
      "Epoch 026 | Train Loss: 84.3809 | Val Loss: 89.3379\n",
      "Epoch 027 | Train Loss: 74.6047 | Val Loss: 78.0366\n",
      "Epoch 028 | Train Loss: 64.5502 | Val Loss: 68.4433\n",
      "Epoch 029 | Train Loss: 56.6155 | Val Loss: 60.0206\n",
      "Epoch 030 | Train Loss: 49.4467 | Val Loss: 50.4646\n",
      "Epoch 031 | Train Loss: 43.5855 | Val Loss: 42.5265\n",
      "Epoch 032 | Train Loss: 37.9638 | Val Loss: 37.0821\n",
      "Epoch 033 | Train Loss: 34.1027 | Val Loss: 34.1950\n",
      "Epoch 034 | Train Loss: 30.1021 | Val Loss: 29.5225\n",
      "Epoch 035 | Train Loss: 27.4533 | Val Loss: 27.9448\n",
      "Epoch 036 | Train Loss: 25.0275 | Val Loss: 24.3316\n",
      "Epoch 037 | Train Loss: 22.9764 | Val Loss: 22.5477\n",
      "Epoch 038 | Train Loss: 21.9410 | Val Loss: 23.0145\n",
      "Epoch 039 | Train Loss: 21.2635 | Val Loss: 20.1220\n",
      "Epoch 040 | Train Loss: 19.3117 | Val Loss: 23.4037\n",
      "Epoch 041 | Train Loss: 18.7733 | Val Loss: 18.7791\n",
      "Epoch 042 | Train Loss: 17.6238 | Val Loss: 18.3276\n",
      "Epoch 043 | Train Loss: 16.8454 | Val Loss: 17.5351\n",
      "Epoch 044 | Train Loss: 16.9880 | Val Loss: 16.1997\n",
      "Epoch 045 | Train Loss: 15.5428 | Val Loss: 15.5108\n",
      "Epoch 046 | Train Loss: 15.3060 | Val Loss: 15.2438\n",
      "Epoch 047 | Train Loss: 14.7670 | Val Loss: 15.1623\n",
      "Epoch 048 | Train Loss: 14.2991 | Val Loss: 15.4887\n",
      "Epoch 049 | Train Loss: 13.9010 | Val Loss: 14.1713\n",
      "Epoch 050 | Train Loss: 13.6550 | Val Loss: 14.0513\n",
      "Epoch 051 | Train Loss: 13.4583 | Val Loss: 14.2950\n",
      "Epoch 052 | Train Loss: 12.9766 | Val Loss: 13.2718\n",
      "Epoch 053 | Train Loss: 13.5589 | Val Loss: 18.8411\n",
      "Epoch 054 | Train Loss: 14.4070 | Val Loss: 16.0909\n",
      "Epoch 055 | Train Loss: 12.8758 | Val Loss: 13.0432\n",
      "Epoch 056 | Train Loss: 12.2354 | Val Loss: 12.7810\n",
      "Epoch 057 | Train Loss: 11.8807 | Val Loss: 14.2246\n",
      "Epoch 058 | Train Loss: 11.8677 | Val Loss: 12.4261\n",
      "Epoch 059 | Train Loss: 11.3681 | Val Loss: 13.3070\n",
      "Epoch 060 | Train Loss: 12.5336 | Val Loss: 13.2779\n",
      "Epoch 061 | Train Loss: 11.4080 | Val Loss: 12.7613\n",
      "Epoch 062 | Train Loss: 11.5524 | Val Loss: 13.0758\n",
      "Epoch 063 | Train Loss: 11.8207 | Val Loss: 16.3096\n",
      "Early stopping triggered at epoch 63\n"
     ]
    },
    {
     "data": {
      "text/html": [],
      "text/plain": [
       "<IPython.core.display.HTML object>"
      ]
     },
     "metadata": {},
     "output_type": "display_data"
    },
    {
     "data": {
      "text/html": [
       "<br>    <style><br>        .wandb-row {<br>            display: flex;<br>            flex-direction: row;<br>            flex-wrap: wrap;<br>            justify-content: flex-start;<br>            width: 100%;<br>        }<br>        .wandb-col {<br>            display: flex;<br>            flex-direction: column;<br>            flex-basis: 100%;<br>            flex: 1;<br>            padding: 10px;<br>        }<br>    </style><br><div class=\"wandb-row\"><div class=\"wandb-col\"><h3>Run history:</h3><br/><table class=\"wandb\"><tr><td>epoch</td><td>▁▁▁▁▁▂▂▂▂▃▃▃▃▃▃▄▄▄▄▄▅▅▅▅▅▅▆▆▆▆▆▇▇▇▇▇▇███</td></tr><tr><td>train_loss</td><td>█▂▁▁▁▁▁▁▁▁▁▁▁▁▁▁▁▁▁▁▁▁▁▁▁▁▁▁▁▁▁▁▁▁▁▁▁▁▁▁</td></tr><tr><td>val_loss</td><td>█▁▁▁▁▁▁▁▁▁▁▁▁▁▁▁▁▁▁▁▁▁▁▁▁▁▁▁▁▁▁▁▁▁▁▁▁▁▁▁</td></tr></table><br/></div><div class=\"wandb-col\"><h3>Run summary:</h3><br/><table class=\"wandb\"><tr><td>epoch</td><td>63</td></tr><tr><td>train_loss</td><td>11.8207</td></tr><tr><td>val_loss</td><td>16.3096</td></tr></table><br/></div></div>"
      ],
      "text/plain": [
       "<IPython.core.display.HTML object>"
      ]
     },
     "metadata": {},
     "output_type": "display_data"
    },
    {
     "data": {
      "text/html": [
       " View run <strong style=\"color:#cdcd00\">stoic-water-64</strong> at: <a href='https://wandb.ai/yixuan228-imperial-college-london/DE_Groupwork_G4_stage1/runs/1k480720' target=\"_blank\">https://wandb.ai/yixuan228-imperial-college-london/DE_Groupwork_G4_stage1/runs/1k480720</a><br> View project at: <a href='https://wandb.ai/yixuan228-imperial-college-london/DE_Groupwork_G4_stage1' target=\"_blank\">https://wandb.ai/yixuan228-imperial-college-london/DE_Groupwork_G4_stage1</a><br>Synced 5 W&B file(s), 0 media file(s), 0 artifact file(s) and 0 other file(s)"
      ],
      "text/plain": [
       "<IPython.core.display.HTML object>"
      ]
     },
     "metadata": {},
     "output_type": "display_data"
    },
    {
     "data": {
      "text/html": [
       "Find logs at: <code>.\\wandb\\run-20250321_040253-1k480720\\logs</code>"
      ],
      "text/plain": [
       "<IPython.core.display.HTML object>"
      ]
     },
     "metadata": {},
     "output_type": "display_data"
    },
    {
     "data": {
      "text/html": [
       "Tracking run with wandb version 0.19.7"
      ],
      "text/plain": [
       "<IPython.core.display.HTML object>"
      ]
     },
     "metadata": {},
     "output_type": "display_data"
    },
    {
     "data": {
      "text/html": [
       "Run data is saved locally in <code>d:\\Projects\\MSc_DE_GroupWork4\\Scripts\\wandb\\run-20250321_040307-kromvjd7</code>"
      ],
      "text/plain": [
       "<IPython.core.display.HTML object>"
      ]
     },
     "metadata": {},
     "output_type": "display_data"
    },
    {
     "data": {
      "text/html": [
       "Syncing run <strong><a href='https://wandb.ai/yixuan228-imperial-college-london/DE_Groupwork_G4_stage1/runs/kromvjd7' target=\"_blank\">polished-tree-65</a></strong> to <a href='https://wandb.ai/yixuan228-imperial-college-london/DE_Groupwork_G4_stage1' target=\"_blank\">Weights & Biases</a> (<a href='https://wandb.me/developer-guide' target=\"_blank\">docs</a>)<br>"
      ],
      "text/plain": [
       "<IPython.core.display.HTML object>"
      ]
     },
     "metadata": {},
     "output_type": "display_data"
    },
    {
     "data": {
      "text/html": [
       " View project at <a href='https://wandb.ai/yixuan228-imperial-college-london/DE_Groupwork_G4_stage1' target=\"_blank\">https://wandb.ai/yixuan228-imperial-college-london/DE_Groupwork_G4_stage1</a>"
      ],
      "text/plain": [
       "<IPython.core.display.HTML object>"
      ]
     },
     "metadata": {},
     "output_type": "display_data"
    },
    {
     "data": {
      "text/html": [
       " View run at <a href='https://wandb.ai/yixuan228-imperial-college-london/DE_Groupwork_G4_stage1/runs/kromvjd7' target=\"_blank\">https://wandb.ai/yixuan228-imperial-college-london/DE_Groupwork_G4_stage1/runs/kromvjd7</a>"
      ],
      "text/plain": [
       "<IPython.core.display.HTML object>"
      ]
     },
     "metadata": {},
     "output_type": "display_data"
    },
    {
     "name": "stdout",
     "output_type": "stream",
     "text": [
      "Epoch 001 | Train Loss: 26766.4467 | Val Loss: 644.9441\n",
      "Epoch 002 | Train Loss: 442.3205 | Val Loss: 401.9757\n",
      "Epoch 003 | Train Loss: 241.9671 | Val Loss: 228.6630\n",
      "Epoch 004 | Train Loss: 165.9512 | Val Loss: 136.9690\n",
      "Epoch 005 | Train Loss: 100.0234 | Val Loss: 187.7434\n",
      "Epoch 006 | Train Loss: 67.9932 | Val Loss: 71.4314\n",
      "Epoch 007 | Train Loss: 63.9938 | Val Loss: 77.2814\n",
      "Epoch 008 | Train Loss: 56.3210 | Val Loss: 33.3553\n",
      "Epoch 009 | Train Loss: 44.3994 | Val Loss: 160.8195\n",
      "Epoch 010 | Train Loss: 44.9753 | Val Loss: 28.0618\n",
      "Epoch 011 | Train Loss: 40.5712 | Val Loss: 45.7108\n",
      "Epoch 012 | Train Loss: 32.9449 | Val Loss: 29.8781\n",
      "Epoch 013 | Train Loss: 41.8035 | Val Loss: 180.1188\n",
      "Epoch 014 | Train Loss: 70.7855 | Val Loss: 41.5247\n",
      "Epoch 015 | Train Loss: 38.3057 | Val Loss: 203.8273\n",
      "Early stopping triggered at epoch 15\n"
     ]
    },
    {
     "data": {
      "text/html": [],
      "text/plain": [
       "<IPython.core.display.HTML object>"
      ]
     },
     "metadata": {},
     "output_type": "display_data"
    },
    {
     "data": {
      "text/html": [
       "<br>    <style><br>        .wandb-row {<br>            display: flex;<br>            flex-direction: row;<br>            flex-wrap: wrap;<br>            justify-content: flex-start;<br>            width: 100%;<br>        }<br>        .wandb-col {<br>            display: flex;<br>            flex-direction: column;<br>            flex-basis: 100%;<br>            flex: 1;<br>            padding: 10px;<br>        }<br>    </style><br><div class=\"wandb-row\"><div class=\"wandb-col\"><h3>Run history:</h3><br/><table class=\"wandb\"><tr><td>epoch</td><td>▁▁▂▃▃▃▄▅▅▅▆▇▇▇█</td></tr><tr><td>train_loss</td><td>█▁▁▁▁▁▁▁▁▁▁▁▁▁▁</td></tr><tr><td>val_loss</td><td>█▅▃▂▃▁▂▁▃▁▁▁▃▁▃</td></tr></table><br/></div><div class=\"wandb-col\"><h3>Run summary:</h3><br/><table class=\"wandb\"><tr><td>epoch</td><td>15</td></tr><tr><td>train_loss</td><td>38.30572</td></tr><tr><td>val_loss</td><td>203.82733</td></tr></table><br/></div></div>"
      ],
      "text/plain": [
       "<IPython.core.display.HTML object>"
      ]
     },
     "metadata": {},
     "output_type": "display_data"
    },
    {
     "data": {
      "text/html": [
       " View run <strong style=\"color:#cdcd00\">polished-tree-65</strong> at: <a href='https://wandb.ai/yixuan228-imperial-college-london/DE_Groupwork_G4_stage1/runs/kromvjd7' target=\"_blank\">https://wandb.ai/yixuan228-imperial-college-london/DE_Groupwork_G4_stage1/runs/kromvjd7</a><br> View project at: <a href='https://wandb.ai/yixuan228-imperial-college-london/DE_Groupwork_G4_stage1' target=\"_blank\">https://wandb.ai/yixuan228-imperial-college-london/DE_Groupwork_G4_stage1</a><br>Synced 5 W&B file(s), 0 media file(s), 0 artifact file(s) and 0 other file(s)"
      ],
      "text/plain": [
       "<IPython.core.display.HTML object>"
      ]
     },
     "metadata": {},
     "output_type": "display_data"
    },
    {
     "data": {
      "text/html": [
       "Find logs at: <code>.\\wandb\\run-20250321_040307-kromvjd7\\logs</code>"
      ],
      "text/plain": [
       "<IPython.core.display.HTML object>"
      ]
     },
     "metadata": {},
     "output_type": "display_data"
    },
    {
     "data": {
      "text/html": [
       "Tracking run with wandb version 0.19.7"
      ],
      "text/plain": [
       "<IPython.core.display.HTML object>"
      ]
     },
     "metadata": {},
     "output_type": "display_data"
    },
    {
     "data": {
      "text/html": [
       "Run data is saved locally in <code>d:\\Projects\\MSc_DE_GroupWork4\\Scripts\\wandb\\run-20250321_040314-optjdxwt</code>"
      ],
      "text/plain": [
       "<IPython.core.display.HTML object>"
      ]
     },
     "metadata": {},
     "output_type": "display_data"
    },
    {
     "data": {
      "text/html": [
       "Syncing run <strong><a href='https://wandb.ai/yixuan228-imperial-college-london/DE_Groupwork_G4_stage1/runs/optjdxwt' target=\"_blank\">laced-hill-66</a></strong> to <a href='https://wandb.ai/yixuan228-imperial-college-london/DE_Groupwork_G4_stage1' target=\"_blank\">Weights & Biases</a> (<a href='https://wandb.me/developer-guide' target=\"_blank\">docs</a>)<br>"
      ],
      "text/plain": [
       "<IPython.core.display.HTML object>"
      ]
     },
     "metadata": {},
     "output_type": "display_data"
    },
    {
     "data": {
      "text/html": [
       " View project at <a href='https://wandb.ai/yixuan228-imperial-college-london/DE_Groupwork_G4_stage1' target=\"_blank\">https://wandb.ai/yixuan228-imperial-college-london/DE_Groupwork_G4_stage1</a>"
      ],
      "text/plain": [
       "<IPython.core.display.HTML object>"
      ]
     },
     "metadata": {},
     "output_type": "display_data"
    },
    {
     "data": {
      "text/html": [
       " View run at <a href='https://wandb.ai/yixuan228-imperial-college-london/DE_Groupwork_G4_stage1/runs/optjdxwt' target=\"_blank\">https://wandb.ai/yixuan228-imperial-college-london/DE_Groupwork_G4_stage1/runs/optjdxwt</a>"
      ],
      "text/plain": [
       "<IPython.core.display.HTML object>"
      ]
     },
     "metadata": {},
     "output_type": "display_data"
    },
    {
     "name": "stdout",
     "output_type": "stream",
     "text": [
      "Epoch 001 | Train Loss: 15914.4994 | Val Loss: 719.5684\n",
      "Epoch 002 | Train Loss: 468.5913 | Val Loss: 374.5527\n",
      "Epoch 003 | Train Loss: 282.8233 | Val Loss: 271.0773\n",
      "Epoch 004 | Train Loss: 207.6701 | Val Loss: 193.7281\n",
      "Epoch 005 | Train Loss: 146.9252 | Val Loss: 144.5925\n",
      "Epoch 006 | Train Loss: 109.1775 | Val Loss: 106.1711\n",
      "Epoch 007 | Train Loss: 84.9477 | Val Loss: 82.4004\n",
      "Epoch 008 | Train Loss: 57.9822 | Val Loss: 54.2627\n",
      "Epoch 009 | Train Loss: 44.6477 | Val Loss: 36.0968\n",
      "Epoch 010 | Train Loss: 31.9844 | Val Loss: 31.6744\n",
      "Epoch 011 | Train Loss: 28.6559 | Val Loss: 27.7706\n",
      "Epoch 012 | Train Loss: 24.4294 | Val Loss: 22.1053\n",
      "Epoch 013 | Train Loss: 21.8609 | Val Loss: 24.3923\n",
      "Epoch 014 | Train Loss: 19.3540 | Val Loss: 23.3959\n",
      "Epoch 015 | Train Loss: 18.6029 | Val Loss: 16.0286\n",
      "Epoch 016 | Train Loss: 16.2239 | Val Loss: 16.7123\n",
      "Epoch 017 | Train Loss: 15.9016 | Val Loss: 17.4880\n",
      "Epoch 018 | Train Loss: 18.7476 | Val Loss: 23.3171\n",
      "Epoch 019 | Train Loss: 16.1545 | Val Loss: 13.0797\n",
      "Epoch 020 | Train Loss: 14.8052 | Val Loss: 14.7262\n",
      "Epoch 021 | Train Loss: 14.8894 | Val Loss: 17.7229\n",
      "Epoch 022 | Train Loss: 15.1646 | Val Loss: 16.4847\n",
      "Epoch 023 | Train Loss: 16.4335 | Val Loss: 25.2309\n",
      "Epoch 024 | Train Loss: 15.8657 | Val Loss: 14.5372\n",
      "Early stopping triggered at epoch 24\n"
     ]
    },
    {
     "data": {
      "text/html": [],
      "text/plain": [
       "<IPython.core.display.HTML object>"
      ]
     },
     "metadata": {},
     "output_type": "display_data"
    },
    {
     "data": {
      "text/html": [
       "<br>    <style><br>        .wandb-row {<br>            display: flex;<br>            flex-direction: row;<br>            flex-wrap: wrap;<br>            justify-content: flex-start;<br>            width: 100%;<br>        }<br>        .wandb-col {<br>            display: flex;<br>            flex-direction: column;<br>            flex-basis: 100%;<br>            flex: 1;<br>            padding: 10px;<br>        }<br>    </style><br><div class=\"wandb-row\"><div class=\"wandb-col\"><h3>Run history:</h3><br/><table class=\"wandb\"><tr><td>epoch</td><td>▁▁▂▂▂▃▃▃▃▄▄▄▅▅▅▆▆▆▆▇▇▇██</td></tr><tr><td>train_loss</td><td>█▁▁▁▁▁▁▁▁▁▁▁▁▁▁▁▁▁▁▁▁▁▁▁</td></tr><tr><td>val_loss</td><td>█▅▄▃▂▂▂▁▁▁▁▁▁▁▁▁▁▁▁▁▁▁▁▁</td></tr></table><br/></div><div class=\"wandb-col\"><h3>Run summary:</h3><br/><table class=\"wandb\"><tr><td>epoch</td><td>24</td></tr><tr><td>train_loss</td><td>15.86571</td></tr><tr><td>val_loss</td><td>14.53719</td></tr></table><br/></div></div>"
      ],
      "text/plain": [
       "<IPython.core.display.HTML object>"
      ]
     },
     "metadata": {},
     "output_type": "display_data"
    },
    {
     "data": {
      "text/html": [
       " View run <strong style=\"color:#cdcd00\">laced-hill-66</strong> at: <a href='https://wandb.ai/yixuan228-imperial-college-london/DE_Groupwork_G4_stage1/runs/optjdxwt' target=\"_blank\">https://wandb.ai/yixuan228-imperial-college-london/DE_Groupwork_G4_stage1/runs/optjdxwt</a><br> View project at: <a href='https://wandb.ai/yixuan228-imperial-college-london/DE_Groupwork_G4_stage1' target=\"_blank\">https://wandb.ai/yixuan228-imperial-college-london/DE_Groupwork_G4_stage1</a><br>Synced 5 W&B file(s), 0 media file(s), 0 artifact file(s) and 0 other file(s)"
      ],
      "text/plain": [
       "<IPython.core.display.HTML object>"
      ]
     },
     "metadata": {},
     "output_type": "display_data"
    },
    {
     "data": {
      "text/html": [
       "Find logs at: <code>.\\wandb\\run-20250321_040314-optjdxwt\\logs</code>"
      ],
      "text/plain": [
       "<IPython.core.display.HTML object>"
      ]
     },
     "metadata": {},
     "output_type": "display_data"
    },
    {
     "data": {
      "text/html": [
       "Tracking run with wandb version 0.19.7"
      ],
      "text/plain": [
       "<IPython.core.display.HTML object>"
      ]
     },
     "metadata": {},
     "output_type": "display_data"
    },
    {
     "data": {
      "text/html": [
       "Run data is saved locally in <code>d:\\Projects\\MSc_DE_GroupWork4\\Scripts\\wandb\\run-20250321_040322-trnt5sn0</code>"
      ],
      "text/plain": [
       "<IPython.core.display.HTML object>"
      ]
     },
     "metadata": {},
     "output_type": "display_data"
    },
    {
     "data": {
      "text/html": [
       "Syncing run <strong><a href='https://wandb.ai/yixuan228-imperial-college-london/DE_Groupwork_G4_stage1/runs/trnt5sn0' target=\"_blank\">good-plant-67</a></strong> to <a href='https://wandb.ai/yixuan228-imperial-college-london/DE_Groupwork_G4_stage1' target=\"_blank\">Weights & Biases</a> (<a href='https://wandb.me/developer-guide' target=\"_blank\">docs</a>)<br>"
      ],
      "text/plain": [
       "<IPython.core.display.HTML object>"
      ]
     },
     "metadata": {},
     "output_type": "display_data"
    },
    {
     "data": {
      "text/html": [
       " View project at <a href='https://wandb.ai/yixuan228-imperial-college-london/DE_Groupwork_G4_stage1' target=\"_blank\">https://wandb.ai/yixuan228-imperial-college-london/DE_Groupwork_G4_stage1</a>"
      ],
      "text/plain": [
       "<IPython.core.display.HTML object>"
      ]
     },
     "metadata": {},
     "output_type": "display_data"
    },
    {
     "data": {
      "text/html": [
       " View run at <a href='https://wandb.ai/yixuan228-imperial-college-london/DE_Groupwork_G4_stage1/runs/trnt5sn0' target=\"_blank\">https://wandb.ai/yixuan228-imperial-college-london/DE_Groupwork_G4_stage1/runs/trnt5sn0</a>"
      ],
      "text/plain": [
       "<IPython.core.display.HTML object>"
      ]
     },
     "metadata": {},
     "output_type": "display_data"
    },
    {
     "name": "stdout",
     "output_type": "stream",
     "text": [
      "Epoch 001 | Train Loss: 64286.1857 | Val Loss: 49727.7806\n",
      "Epoch 002 | Train Loss: 12736.5169 | Val Loss: 2302.1208\n",
      "Epoch 003 | Train Loss: 1457.5832 | Val Loss: 991.1661\n",
      "Epoch 004 | Train Loss: 769.7400 | Val Loss: 689.0896\n",
      "Epoch 005 | Train Loss: 564.3495 | Val Loss: 544.3187\n",
      "Epoch 006 | Train Loss: 456.2097 | Val Loss: 458.8016\n",
      "Epoch 007 | Train Loss: 385.3409 | Val Loss: 397.1559\n",
      "Epoch 008 | Train Loss: 333.1901 | Val Loss: 352.7432\n",
      "Epoch 009 | Train Loss: 295.1640 | Val Loss: 315.9600\n",
      "Epoch 010 | Train Loss: 263.0311 | Val Loss: 285.8921\n",
      "Epoch 011 | Train Loss: 235.4585 | Val Loss: 257.2322\n",
      "Epoch 012 | Train Loss: 211.4513 | Val Loss: 233.7086\n",
      "Epoch 013 | Train Loss: 193.4883 | Val Loss: 217.1710\n",
      "Epoch 014 | Train Loss: 176.8994 | Val Loss: 199.6250\n",
      "Epoch 015 | Train Loss: 165.2853 | Val Loss: 185.7943\n",
      "Epoch 016 | Train Loss: 150.4003 | Val Loss: 169.5224\n",
      "Epoch 017 | Train Loss: 138.3580 | Val Loss: 155.7101\n",
      "Epoch 018 | Train Loss: 126.5505 | Val Loss: 143.0334\n",
      "Epoch 019 | Train Loss: 116.0069 | Val Loss: 130.9592\n",
      "Epoch 020 | Train Loss: 107.1971 | Val Loss: 117.7387\n",
      "Epoch 021 | Train Loss: 96.4028 | Val Loss: 107.2267\n",
      "Epoch 022 | Train Loss: 87.9219 | Val Loss: 98.3758\n",
      "Epoch 023 | Train Loss: 80.6643 | Val Loss: 90.3595\n",
      "Epoch 024 | Train Loss: 74.1727 | Val Loss: 82.1082\n",
      "Epoch 025 | Train Loss: 67.2038 | Val Loss: 76.2744\n",
      "Epoch 026 | Train Loss: 62.4538 | Val Loss: 67.1187\n",
      "Epoch 027 | Train Loss: 56.8205 | Val Loss: 61.2411\n",
      "Epoch 028 | Train Loss: 51.3800 | Val Loss: 55.5025\n",
      "Epoch 029 | Train Loss: 48.0798 | Val Loss: 51.7200\n",
      "Epoch 030 | Train Loss: 44.3278 | Val Loss: 46.0128\n",
      "Epoch 031 | Train Loss: 40.4361 | Val Loss: 42.7858\n",
      "Epoch 032 | Train Loss: 38.9019 | Val Loss: 39.1936\n",
      "Epoch 033 | Train Loss: 35.2371 | Val Loss: 35.9219\n",
      "Epoch 034 | Train Loss: 33.1418 | Val Loss: 33.9945\n",
      "Epoch 035 | Train Loss: 31.3361 | Val Loss: 31.4770\n",
      "Epoch 036 | Train Loss: 29.2144 | Val Loss: 29.3870\n",
      "Epoch 037 | Train Loss: 27.4421 | Val Loss: 29.0504\n",
      "Epoch 038 | Train Loss: 26.9961 | Val Loss: 27.2256\n",
      "Epoch 039 | Train Loss: 25.3832 | Val Loss: 27.5480\n",
      "Epoch 040 | Train Loss: 24.1509 | Val Loss: 24.4627\n",
      "Epoch 041 | Train Loss: 23.9502 | Val Loss: 23.8489\n",
      "Epoch 042 | Train Loss: 22.8338 | Val Loss: 26.2742\n",
      "Epoch 043 | Train Loss: 22.8401 | Val Loss: 22.5095\n",
      "Epoch 044 | Train Loss: 22.0388 | Val Loss: 21.8921\n",
      "Epoch 045 | Train Loss: 21.3387 | Val Loss: 29.4143\n",
      "Epoch 046 | Train Loss: 23.3964 | Val Loss: 20.8530\n",
      "Epoch 047 | Train Loss: 19.9332 | Val Loss: 20.5029\n",
      "Epoch 048 | Train Loss: 19.5015 | Val Loss: 19.8491\n",
      "Epoch 049 | Train Loss: 19.3953 | Val Loss: 19.7315\n",
      "Epoch 050 | Train Loss: 18.6060 | Val Loss: 18.4162\n",
      "Epoch 051 | Train Loss: 17.9565 | Val Loss: 17.8939\n",
      "Epoch 052 | Train Loss: 17.4577 | Val Loss: 17.9432\n",
      "Epoch 053 | Train Loss: 17.2932 | Val Loss: 19.5939\n",
      "Epoch 054 | Train Loss: 16.8684 | Val Loss: 18.0001\n",
      "Epoch 055 | Train Loss: 16.8022 | Val Loss: 16.4459\n",
      "Epoch 056 | Train Loss: 16.0109 | Val Loss: 16.6256\n",
      "Epoch 057 | Train Loss: 16.4599 | Val Loss: 18.1904\n",
      "Epoch 058 | Train Loss: 15.7561 | Val Loss: 15.8219\n",
      "Epoch 059 | Train Loss: 15.0703 | Val Loss: 16.4538\n",
      "Epoch 060 | Train Loss: 14.6807 | Val Loss: 14.6246\n",
      "Epoch 061 | Train Loss: 14.8100 | Val Loss: 16.5148\n",
      "Epoch 062 | Train Loss: 14.3349 | Val Loss: 17.7339\n",
      "Epoch 063 | Train Loss: 13.8768 | Val Loss: 14.3537\n",
      "Epoch 064 | Train Loss: 13.9508 | Val Loss: 15.0836\n",
      "Epoch 065 | Train Loss: 13.6178 | Val Loss: 14.3237\n",
      "Epoch 066 | Train Loss: 13.0661 | Val Loss: 14.6629\n",
      "Epoch 067 | Train Loss: 13.0240 | Val Loss: 15.2520\n",
      "Epoch 068 | Train Loss: 13.9228 | Val Loss: 18.1809\n",
      "Epoch 069 | Train Loss: 13.8217 | Val Loss: 16.9648\n",
      "Epoch 070 | Train Loss: 12.9737 | Val Loss: 12.9885\n",
      "Epoch 071 | Train Loss: 12.5971 | Val Loss: 12.9532\n",
      "Epoch 072 | Train Loss: 12.1959 | Val Loss: 14.9116\n",
      "Epoch 073 | Train Loss: 12.2149 | Val Loss: 12.3923\n",
      "Epoch 074 | Train Loss: 11.7402 | Val Loss: 21.1870\n",
      "Epoch 075 | Train Loss: 12.9187 | Val Loss: 15.6456\n",
      "Epoch 076 | Train Loss: 11.8985 | Val Loss: 11.7429\n",
      "Epoch 077 | Train Loss: 11.4015 | Val Loss: 12.1337\n",
      "Epoch 078 | Train Loss: 13.2064 | Val Loss: 11.6807\n",
      "Epoch 079 | Train Loss: 10.8146 | Val Loss: 13.1564\n",
      "Epoch 080 | Train Loss: 11.1767 | Val Loss: 14.2152\n",
      "Epoch 081 | Train Loss: 10.8934 | Val Loss: 12.0145\n",
      "Epoch 082 | Train Loss: 11.0239 | Val Loss: 14.6444\n",
      "Epoch 083 | Train Loss: 11.2630 | Val Loss: 16.2785\n",
      "Early stopping triggered at epoch 83\n"
     ]
    },
    {
     "data": {
      "text/html": [],
      "text/plain": [
       "<IPython.core.display.HTML object>"
      ]
     },
     "metadata": {},
     "output_type": "display_data"
    },
    {
     "data": {
      "text/html": [
       "<br>    <style><br>        .wandb-row {<br>            display: flex;<br>            flex-direction: row;<br>            flex-wrap: wrap;<br>            justify-content: flex-start;<br>            width: 100%;<br>        }<br>        .wandb-col {<br>            display: flex;<br>            flex-direction: column;<br>            flex-basis: 100%;<br>            flex: 1;<br>            padding: 10px;<br>        }<br>    </style><br><div class=\"wandb-row\"><div class=\"wandb-col\"><h3>Run history:</h3><br/><table class=\"wandb\"><tr><td>epoch</td><td>▁▁▁▂▂▂▂▂▃▃▃▃▃▃▃▄▄▄▄▄▄▄▅▅▅▅▅▅▆▆▆▆▆▇▇▇▇███</td></tr><tr><td>train_loss</td><td>█▂▁▁▁▁▁▁▁▁▁▁▁▁▁▁▁▁▁▁▁▁▁▁▁▁▁▁▁▁▁▁▁▁▁▁▁▁▁▁</td></tr><tr><td>val_loss</td><td>█▁▁▁▁▁▁▁▁▁▁▁▁▁▁▁▁▁▁▁▁▁▁▁▁▁▁▁▁▁▁▁▁▁▁▁▁▁▁▁</td></tr></table><br/></div><div class=\"wandb-col\"><h3>Run summary:</h3><br/><table class=\"wandb\"><tr><td>epoch</td><td>83</td></tr><tr><td>train_loss</td><td>11.26295</td></tr><tr><td>val_loss</td><td>16.27845</td></tr></table><br/></div></div>"
      ],
      "text/plain": [
       "<IPython.core.display.HTML object>"
      ]
     },
     "metadata": {},
     "output_type": "display_data"
    },
    {
     "data": {
      "text/html": [
       " View run <strong style=\"color:#cdcd00\">good-plant-67</strong> at: <a href='https://wandb.ai/yixuan228-imperial-college-london/DE_Groupwork_G4_stage1/runs/trnt5sn0' target=\"_blank\">https://wandb.ai/yixuan228-imperial-college-london/DE_Groupwork_G4_stage1/runs/trnt5sn0</a><br> View project at: <a href='https://wandb.ai/yixuan228-imperial-college-london/DE_Groupwork_G4_stage1' target=\"_blank\">https://wandb.ai/yixuan228-imperial-college-london/DE_Groupwork_G4_stage1</a><br>Synced 5 W&B file(s), 0 media file(s), 0 artifact file(s) and 0 other file(s)"
      ],
      "text/plain": [
       "<IPython.core.display.HTML object>"
      ]
     },
     "metadata": {},
     "output_type": "display_data"
    },
    {
     "data": {
      "text/html": [
       "Find logs at: <code>.\\wandb\\run-20250321_040322-trnt5sn0\\logs</code>"
      ],
      "text/plain": [
       "<IPython.core.display.HTML object>"
      ]
     },
     "metadata": {},
     "output_type": "display_data"
    },
    {
     "data": {
      "text/html": [
       "Tracking run with wandb version 0.19.7"
      ],
      "text/plain": [
       "<IPython.core.display.HTML object>"
      ]
     },
     "metadata": {},
     "output_type": "display_data"
    },
    {
     "data": {
      "text/html": [
       "Run data is saved locally in <code>d:\\Projects\\MSc_DE_GroupWork4\\Scripts\\wandb\\run-20250321_040340-mg86wwb2</code>"
      ],
      "text/plain": [
       "<IPython.core.display.HTML object>"
      ]
     },
     "metadata": {},
     "output_type": "display_data"
    },
    {
     "data": {
      "text/html": [
       "Syncing run <strong><a href='https://wandb.ai/yixuan228-imperial-college-london/DE_Groupwork_G4_stage1/runs/mg86wwb2' target=\"_blank\">fragrant-energy-68</a></strong> to <a href='https://wandb.ai/yixuan228-imperial-college-london/DE_Groupwork_G4_stage1' target=\"_blank\">Weights & Biases</a> (<a href='https://wandb.me/developer-guide' target=\"_blank\">docs</a>)<br>"
      ],
      "text/plain": [
       "<IPython.core.display.HTML object>"
      ]
     },
     "metadata": {},
     "output_type": "display_data"
    },
    {
     "data": {
      "text/html": [
       " View project at <a href='https://wandb.ai/yixuan228-imperial-college-london/DE_Groupwork_G4_stage1' target=\"_blank\">https://wandb.ai/yixuan228-imperial-college-london/DE_Groupwork_G4_stage1</a>"
      ],
      "text/plain": [
       "<IPython.core.display.HTML object>"
      ]
     },
     "metadata": {},
     "output_type": "display_data"
    },
    {
     "data": {
      "text/html": [
       " View run at <a href='https://wandb.ai/yixuan228-imperial-college-london/DE_Groupwork_G4_stage1/runs/mg86wwb2' target=\"_blank\">https://wandb.ai/yixuan228-imperial-college-london/DE_Groupwork_G4_stage1/runs/mg86wwb2</a>"
      ],
      "text/plain": [
       "<IPython.core.display.HTML object>"
      ]
     },
     "metadata": {},
     "output_type": "display_data"
    },
    {
     "name": "stdout",
     "output_type": "stream",
     "text": [
      "Epoch 001 | Train Loss: 4081.7235 | Val Loss: 324.9527\n",
      "Epoch 002 | Train Loss: 223.2913 | Val Loss: 202.4638\n",
      "Epoch 003 | Train Loss: 135.0953 | Val Loss: 96.4624\n",
      "Epoch 004 | Train Loss: 46.7280 | Val Loss: 37.7374\n",
      "Epoch 005 | Train Loss: 37.1548 | Val Loss: 62.4236\n",
      "Epoch 006 | Train Loss: 34.3235 | Val Loss: 287.2881\n",
      "Epoch 007 | Train Loss: 131.2291 | Val Loss: 73.8424\n",
      "Epoch 008 | Train Loss: 49.2942 | Val Loss: 120.6454\n",
      "Epoch 009 | Train Loss: 31.5865 | Val Loss: 33.2805\n",
      "Epoch 010 | Train Loss: 35.7304 | Val Loss: 86.4624\n",
      "Epoch 011 | Train Loss: 34.2364 | Val Loss: 277.5478\n",
      "Epoch 012 | Train Loss: 172.2996 | Val Loss: 26.4838\n",
      "Epoch 013 | Train Loss: 39.0475 | Val Loss: 41.0160\n",
      "Epoch 014 | Train Loss: 33.7832 | Val Loss: 34.3450\n",
      "Epoch 015 | Train Loss: 62.4275 | Val Loss: 88.5084\n",
      "Epoch 016 | Train Loss: 94.0782 | Val Loss: 64.0572\n",
      "Epoch 017 | Train Loss: 43.5610 | Val Loss: 146.5342\n",
      "Early stopping triggered at epoch 17\n"
     ]
    },
    {
     "data": {
      "text/html": [],
      "text/plain": [
       "<IPython.core.display.HTML object>"
      ]
     },
     "metadata": {},
     "output_type": "display_data"
    },
    {
     "data": {
      "text/html": [
       "<br>    <style><br>        .wandb-row {<br>            display: flex;<br>            flex-direction: row;<br>            flex-wrap: wrap;<br>            justify-content: flex-start;<br>            width: 100%;<br>        }<br>        .wandb-col {<br>            display: flex;<br>            flex-direction: column;<br>            flex-basis: 100%;<br>            flex: 1;<br>            padding: 10px;<br>        }<br>    </style><br><div class=\"wandb-row\"><div class=\"wandb-col\"><h3>Run history:</h3><br/><table class=\"wandb\"><tr><td>epoch</td><td>▁▁▂▂▃▃▄▄▅▅▅▆▆▇▇██</td></tr><tr><td>train_loss</td><td>█▁▁▁▁▁▁▁▁▁▁▁▁▁▁▁▁</td></tr><tr><td>val_loss</td><td>█▅▃▁▂▇▂▃▁▂▇▁▁▁▂▂▄</td></tr></table><br/></div><div class=\"wandb-col\"><h3>Run summary:</h3><br/><table class=\"wandb\"><tr><td>epoch</td><td>17</td></tr><tr><td>train_loss</td><td>43.56098</td></tr><tr><td>val_loss</td><td>146.53417</td></tr></table><br/></div></div>"
      ],
      "text/plain": [
       "<IPython.core.display.HTML object>"
      ]
     },
     "metadata": {},
     "output_type": "display_data"
    },
    {
     "data": {
      "text/html": [
       " View run <strong style=\"color:#cdcd00\">fragrant-energy-68</strong> at: <a href='https://wandb.ai/yixuan228-imperial-college-london/DE_Groupwork_G4_stage1/runs/mg86wwb2' target=\"_blank\">https://wandb.ai/yixuan228-imperial-college-london/DE_Groupwork_G4_stage1/runs/mg86wwb2</a><br> View project at: <a href='https://wandb.ai/yixuan228-imperial-college-london/DE_Groupwork_G4_stage1' target=\"_blank\">https://wandb.ai/yixuan228-imperial-college-london/DE_Groupwork_G4_stage1</a><br>Synced 5 W&B file(s), 0 media file(s), 0 artifact file(s) and 0 other file(s)"
      ],
      "text/plain": [
       "<IPython.core.display.HTML object>"
      ]
     },
     "metadata": {},
     "output_type": "display_data"
    },
    {
     "data": {
      "text/html": [
       "Find logs at: <code>.\\wandb\\run-20250321_040340-mg86wwb2\\logs</code>"
      ],
      "text/plain": [
       "<IPython.core.display.HTML object>"
      ]
     },
     "metadata": {},
     "output_type": "display_data"
    },
    {
     "data": {
      "text/html": [
       "Tracking run with wandb version 0.19.7"
      ],
      "text/plain": [
       "<IPython.core.display.HTML object>"
      ]
     },
     "metadata": {},
     "output_type": "display_data"
    },
    {
     "data": {
      "text/html": [
       "Run data is saved locally in <code>d:\\Projects\\MSc_DE_GroupWork4\\Scripts\\wandb\\run-20250321_040346-8yzr3tit</code>"
      ],
      "text/plain": [
       "<IPython.core.display.HTML object>"
      ]
     },
     "metadata": {},
     "output_type": "display_data"
    },
    {
     "data": {
      "text/html": [
       "Syncing run <strong><a href='https://wandb.ai/yixuan228-imperial-college-london/DE_Groupwork_G4_stage1/runs/8yzr3tit' target=\"_blank\">legendary-flower-69</a></strong> to <a href='https://wandb.ai/yixuan228-imperial-college-london/DE_Groupwork_G4_stage1' target=\"_blank\">Weights & Biases</a> (<a href='https://wandb.me/developer-guide' target=\"_blank\">docs</a>)<br>"
      ],
      "text/plain": [
       "<IPython.core.display.HTML object>"
      ]
     },
     "metadata": {},
     "output_type": "display_data"
    },
    {
     "data": {
      "text/html": [
       " View project at <a href='https://wandb.ai/yixuan228-imperial-college-london/DE_Groupwork_G4_stage1' target=\"_blank\">https://wandb.ai/yixuan228-imperial-college-london/DE_Groupwork_G4_stage1</a>"
      ],
      "text/plain": [
       "<IPython.core.display.HTML object>"
      ]
     },
     "metadata": {},
     "output_type": "display_data"
    },
    {
     "data": {
      "text/html": [
       " View run at <a href='https://wandb.ai/yixuan228-imperial-college-london/DE_Groupwork_G4_stage1/runs/8yzr3tit' target=\"_blank\">https://wandb.ai/yixuan228-imperial-college-london/DE_Groupwork_G4_stage1/runs/8yzr3tit</a>"
      ],
      "text/plain": [
       "<IPython.core.display.HTML object>"
      ]
     },
     "metadata": {},
     "output_type": "display_data"
    },
    {
     "name": "stdout",
     "output_type": "stream",
     "text": [
      "Epoch 001 | Train Loss: 16426.4087 | Val Loss: 926.5649\n",
      "Epoch 002 | Train Loss: 609.6639 | Val Loss: 484.6788\n",
      "Epoch 003 | Train Loss: 365.8155 | Val Loss: 327.6488\n",
      "Epoch 004 | Train Loss: 262.3564 | Val Loss: 247.7678\n",
      "Epoch 005 | Train Loss: 200.1812 | Val Loss: 196.9179\n",
      "Epoch 006 | Train Loss: 152.2671 | Val Loss: 163.5936\n",
      "Epoch 007 | Train Loss: 119.1730 | Val Loss: 114.0712\n",
      "Epoch 008 | Train Loss: 84.8473 | Val Loss: 82.5549\n",
      "Epoch 009 | Train Loss: 60.6927 | Val Loss: 54.0426\n",
      "Epoch 010 | Train Loss: 43.3781 | Val Loss: 42.7554\n",
      "Epoch 011 | Train Loss: 35.2136 | Val Loss: 33.5125\n",
      "Epoch 012 | Train Loss: 29.6980 | Val Loss: 27.7967\n",
      "Epoch 013 | Train Loss: 24.3891 | Val Loss: 25.6638\n",
      "Epoch 014 | Train Loss: 20.5537 | Val Loss: 25.5027\n",
      "Epoch 015 | Train Loss: 22.7101 | Val Loss: 18.1397\n",
      "Epoch 016 | Train Loss: 18.4347 | Val Loss: 17.4455\n",
      "Epoch 017 | Train Loss: 17.6126 | Val Loss: 20.6706\n",
      "Epoch 018 | Train Loss: 17.7241 | Val Loss: 17.3693\n",
      "Epoch 019 | Train Loss: 14.7780 | Val Loss: 13.6719\n",
      "Epoch 020 | Train Loss: 14.9431 | Val Loss: 16.2749\n",
      "Epoch 021 | Train Loss: 14.1489 | Val Loss: 23.2027\n",
      "Epoch 022 | Train Loss: 13.6839 | Val Loss: 13.4612\n",
      "Epoch 023 | Train Loss: 14.3683 | Val Loss: 23.2042\n",
      "Epoch 024 | Train Loss: 13.3670 | Val Loss: 19.6367\n",
      "Epoch 025 | Train Loss: 12.4043 | Val Loss: 12.5338\n",
      "Epoch 026 | Train Loss: 12.3722 | Val Loss: 12.1888\n",
      "Epoch 027 | Train Loss: 12.8909 | Val Loss: 14.0083\n",
      "Epoch 028 | Train Loss: 14.3233 | Val Loss: 15.3667\n",
      "Epoch 029 | Train Loss: 11.5757 | Val Loss: 25.7059\n",
      "Epoch 030 | Train Loss: 14.4090 | Val Loss: 16.5269\n",
      "Epoch 031 | Train Loss: 14.3207 | Val Loss: 12.4944\n",
      "Early stopping triggered at epoch 31\n"
     ]
    },
    {
     "data": {
      "text/html": [],
      "text/plain": [
       "<IPython.core.display.HTML object>"
      ]
     },
     "metadata": {},
     "output_type": "display_data"
    },
    {
     "data": {
      "text/html": [
       "<br>    <style><br>        .wandb-row {<br>            display: flex;<br>            flex-direction: row;<br>            flex-wrap: wrap;<br>            justify-content: flex-start;<br>            width: 100%;<br>        }<br>        .wandb-col {<br>            display: flex;<br>            flex-direction: column;<br>            flex-basis: 100%;<br>            flex: 1;<br>            padding: 10px;<br>        }<br>    </style><br><div class=\"wandb-row\"><div class=\"wandb-col\"><h3>Run history:</h3><br/><table class=\"wandb\"><tr><td>epoch</td><td>▁▁▁▂▂▂▂▃▃▃▃▄▄▄▄▅▅▅▅▅▆▆▆▆▇▇▇▇███</td></tr><tr><td>train_loss</td><td>█▁▁▁▁▁▁▁▁▁▁▁▁▁▁▁▁▁▁▁▁▁▁▁▁▁▁▁▁▁▁</td></tr><tr><td>val_loss</td><td>█▅▃▃▂▂▂▂▁▁▁▁▁▁▁▁▁▁▁▁▁▁▁▁▁▁▁▁▁▁▁</td></tr></table><br/></div><div class=\"wandb-col\"><h3>Run summary:</h3><br/><table class=\"wandb\"><tr><td>epoch</td><td>31</td></tr><tr><td>train_loss</td><td>14.32073</td></tr><tr><td>val_loss</td><td>12.49437</td></tr></table><br/></div></div>"
      ],
      "text/plain": [
       "<IPython.core.display.HTML object>"
      ]
     },
     "metadata": {},
     "output_type": "display_data"
    },
    {
     "data": {
      "text/html": [
       " View run <strong style=\"color:#cdcd00\">legendary-flower-69</strong> at: <a href='https://wandb.ai/yixuan228-imperial-college-london/DE_Groupwork_G4_stage1/runs/8yzr3tit' target=\"_blank\">https://wandb.ai/yixuan228-imperial-college-london/DE_Groupwork_G4_stage1/runs/8yzr3tit</a><br> View project at: <a href='https://wandb.ai/yixuan228-imperial-college-london/DE_Groupwork_G4_stage1' target=\"_blank\">https://wandb.ai/yixuan228-imperial-college-london/DE_Groupwork_G4_stage1</a><br>Synced 5 W&B file(s), 0 media file(s), 0 artifact file(s) and 0 other file(s)"
      ],
      "text/plain": [
       "<IPython.core.display.HTML object>"
      ]
     },
     "metadata": {},
     "output_type": "display_data"
    },
    {
     "data": {
      "text/html": [
       "Find logs at: <code>.\\wandb\\run-20250321_040346-8yzr3tit\\logs</code>"
      ],
      "text/plain": [
       "<IPython.core.display.HTML object>"
      ]
     },
     "metadata": {},
     "output_type": "display_data"
    },
    {
     "data": {
      "text/html": [
       "Tracking run with wandb version 0.19.7"
      ],
      "text/plain": [
       "<IPython.core.display.HTML object>"
      ]
     },
     "metadata": {},
     "output_type": "display_data"
    },
    {
     "data": {
      "text/html": [
       "Run data is saved locally in <code>d:\\Projects\\MSc_DE_GroupWork4\\Scripts\\wandb\\run-20250321_040356-eoc12wzr</code>"
      ],
      "text/plain": [
       "<IPython.core.display.HTML object>"
      ]
     },
     "metadata": {},
     "output_type": "display_data"
    },
    {
     "data": {
      "text/html": [
       "Syncing run <strong><a href='https://wandb.ai/yixuan228-imperial-college-london/DE_Groupwork_G4_stage1/runs/eoc12wzr' target=\"_blank\">unique-puddle-70</a></strong> to <a href='https://wandb.ai/yixuan228-imperial-college-london/DE_Groupwork_G4_stage1' target=\"_blank\">Weights & Biases</a> (<a href='https://wandb.me/developer-guide' target=\"_blank\">docs</a>)<br>"
      ],
      "text/plain": [
       "<IPython.core.display.HTML object>"
      ]
     },
     "metadata": {},
     "output_type": "display_data"
    },
    {
     "data": {
      "text/html": [
       " View project at <a href='https://wandb.ai/yixuan228-imperial-college-london/DE_Groupwork_G4_stage1' target=\"_blank\">https://wandb.ai/yixuan228-imperial-college-london/DE_Groupwork_G4_stage1</a>"
      ],
      "text/plain": [
       "<IPython.core.display.HTML object>"
      ]
     },
     "metadata": {},
     "output_type": "display_data"
    },
    {
     "data": {
      "text/html": [
       " View run at <a href='https://wandb.ai/yixuan228-imperial-college-london/DE_Groupwork_G4_stage1/runs/eoc12wzr' target=\"_blank\">https://wandb.ai/yixuan228-imperial-college-london/DE_Groupwork_G4_stage1/runs/eoc12wzr</a>"
      ],
      "text/plain": [
       "<IPython.core.display.HTML object>"
      ]
     },
     "metadata": {},
     "output_type": "display_data"
    },
    {
     "name": "stdout",
     "output_type": "stream",
     "text": [
      "Epoch 001 | Train Loss: 64038.5590 | Val Loss: 54789.3547\n",
      "Epoch 002 | Train Loss: 30864.9801 | Val Loss: 7901.5013\n",
      "Epoch 003 | Train Loss: 4053.3358 | Val Loss: 2345.1438\n",
      "Epoch 004 | Train Loss: 1811.8089 | Val Loss: 1420.9658\n",
      "Epoch 005 | Train Loss: 1182.5176 | Val Loss: 1052.7913\n",
      "Epoch 006 | Train Loss: 916.0443 | Val Loss: 879.1197\n",
      "Epoch 007 | Train Loss: 777.1222 | Val Loss: 770.0482\n",
      "Epoch 008 | Train Loss: 686.3726 | Val Loss: 693.2808\n",
      "Epoch 009 | Train Loss: 616.7143 | Val Loss: 625.2774\n",
      "Epoch 010 | Train Loss: 558.5850 | Val Loss: 571.6644\n",
      "Epoch 011 | Train Loss: 508.1049 | Val Loss: 521.3971\n",
      "Epoch 012 | Train Loss: 464.8270 | Val Loss: 479.9233\n",
      "Epoch 013 | Train Loss: 425.1897 | Val Loss: 442.3012\n",
      "Epoch 014 | Train Loss: 392.1687 | Val Loss: 412.4030\n",
      "Epoch 015 | Train Loss: 363.1973 | Val Loss: 383.6280\n",
      "Epoch 016 | Train Loss: 337.8790 | Val Loss: 359.4900\n",
      "Epoch 017 | Train Loss: 315.6288 | Val Loss: 337.9199\n",
      "Epoch 018 | Train Loss: 295.9137 | Val Loss: 320.6513\n",
      "Epoch 019 | Train Loss: 279.1210 | Val Loss: 301.9520\n",
      "Epoch 020 | Train Loss: 262.7945 | Val Loss: 288.9946\n",
      "Epoch 021 | Train Loss: 248.0366 | Val Loss: 273.5326\n",
      "Epoch 022 | Train Loss: 235.0841 | Val Loss: 258.3738\n",
      "Epoch 023 | Train Loss: 222.7179 | Val Loss: 245.9191\n",
      "Epoch 024 | Train Loss: 211.4857 | Val Loss: 233.8823\n",
      "Epoch 025 | Train Loss: 199.9690 | Val Loss: 222.2041\n",
      "Epoch 026 | Train Loss: 190.8658 | Val Loss: 212.0352\n",
      "Epoch 027 | Train Loss: 181.9214 | Val Loss: 201.7608\n",
      "Epoch 028 | Train Loss: 171.3440 | Val Loss: 191.6907\n",
      "Epoch 029 | Train Loss: 162.7020 | Val Loss: 181.1537\n",
      "Epoch 030 | Train Loss: 154.0309 | Val Loss: 172.1809\n",
      "Epoch 031 | Train Loss: 145.9901 | Val Loss: 162.3334\n",
      "Epoch 032 | Train Loss: 138.6344 | Val Loss: 152.8736\n",
      "Epoch 033 | Train Loss: 130.0133 | Val Loss: 143.3547\n",
      "Epoch 034 | Train Loss: 122.5237 | Val Loss: 135.8773\n",
      "Epoch 035 | Train Loss: 115.1751 | Val Loss: 128.6173\n",
      "Epoch 036 | Train Loss: 109.0835 | Val Loss: 120.1526\n",
      "Epoch 037 | Train Loss: 103.2492 | Val Loss: 112.1472\n",
      "Epoch 038 | Train Loss: 95.9200 | Val Loss: 104.2051\n",
      "Epoch 039 | Train Loss: 89.0909 | Val Loss: 97.3127\n",
      "Epoch 040 | Train Loss: 83.1075 | Val Loss: 91.7665\n",
      "Epoch 041 | Train Loss: 78.2144 | Val Loss: 85.5485\n",
      "Epoch 042 | Train Loss: 73.1070 | Val Loss: 78.5317\n",
      "Epoch 043 | Train Loss: 68.2664 | Val Loss: 73.2140\n",
      "Epoch 044 | Train Loss: 63.4385 | Val Loss: 67.7964\n",
      "Epoch 045 | Train Loss: 59.2236 | Val Loss: 62.7892\n",
      "Epoch 046 | Train Loss: 55.2676 | Val Loss: 58.1405\n",
      "Epoch 047 | Train Loss: 51.8216 | Val Loss: 54.9577\n",
      "Epoch 048 | Train Loss: 48.2638 | Val Loss: 50.7003\n",
      "Epoch 049 | Train Loss: 46.3892 | Val Loss: 47.4869\n",
      "Epoch 050 | Train Loss: 41.7992 | Val Loss: 43.9789\n",
      "Epoch 051 | Train Loss: 39.6314 | Val Loss: 39.9297\n",
      "Epoch 052 | Train Loss: 37.3693 | Val Loss: 37.0345\n",
      "Epoch 053 | Train Loss: 35.0226 | Val Loss: 35.0254\n",
      "Epoch 054 | Train Loss: 33.4233 | Val Loss: 33.6508\n",
      "Epoch 055 | Train Loss: 31.7696 | Val Loss: 31.3681\n",
      "Epoch 056 | Train Loss: 29.8756 | Val Loss: 29.0871\n",
      "Epoch 057 | Train Loss: 28.0836 | Val Loss: 27.4045\n",
      "Epoch 058 | Train Loss: 26.7741 | Val Loss: 26.6748\n",
      "Epoch 059 | Train Loss: 25.7254 | Val Loss: 25.8654\n",
      "Epoch 060 | Train Loss: 24.6613 | Val Loss: 24.1727\n",
      "Epoch 061 | Train Loss: 23.8444 | Val Loss: 23.6787\n",
      "Epoch 062 | Train Loss: 23.2604 | Val Loss: 22.5592\n",
      "Epoch 063 | Train Loss: 21.9118 | Val Loss: 22.5161\n",
      "Epoch 064 | Train Loss: 21.6879 | Val Loss: 20.9319\n",
      "Epoch 065 | Train Loss: 20.9519 | Val Loss: 21.3391\n",
      "Epoch 066 | Train Loss: 20.5431 | Val Loss: 21.7971\n",
      "Epoch 067 | Train Loss: 19.8983 | Val Loss: 20.5468\n",
      "Epoch 068 | Train Loss: 19.4658 | Val Loss: 19.1528\n",
      "Epoch 069 | Train Loss: 18.5225 | Val Loss: 17.7120\n",
      "Epoch 070 | Train Loss: 17.8747 | Val Loss: 17.8212\n",
      "Epoch 071 | Train Loss: 17.5511 | Val Loss: 18.1380\n",
      "Epoch 072 | Train Loss: 16.9685 | Val Loss: 16.5198\n",
      "Epoch 073 | Train Loss: 16.5307 | Val Loss: 16.5755\n",
      "Epoch 074 | Train Loss: 16.2682 | Val Loss: 16.5867\n",
      "Epoch 075 | Train Loss: 17.6502 | Val Loss: 15.6121\n",
      "Epoch 076 | Train Loss: 15.3007 | Val Loss: 15.3093\n",
      "Epoch 077 | Train Loss: 14.9582 | Val Loss: 17.1168\n",
      "Epoch 078 | Train Loss: 15.0904 | Val Loss: 15.9986\n",
      "Epoch 079 | Train Loss: 14.3810 | Val Loss: 14.0666\n",
      "Epoch 080 | Train Loss: 14.2454 | Val Loss: 14.1762\n",
      "Epoch 081 | Train Loss: 13.9683 | Val Loss: 14.7089\n",
      "Epoch 082 | Train Loss: 14.5818 | Val Loss: 13.9199\n",
      "Epoch 083 | Train Loss: 13.5442 | Val Loss: 13.7632\n",
      "Epoch 084 | Train Loss: 13.3066 | Val Loss: 13.3389\n",
      "Epoch 085 | Train Loss: 13.0097 | Val Loss: 15.9758\n",
      "Epoch 086 | Train Loss: 14.4464 | Val Loss: 12.5869\n",
      "Epoch 087 | Train Loss: 12.9724 | Val Loss: 14.9517\n",
      "Epoch 088 | Train Loss: 12.7190 | Val Loss: 13.0217\n",
      "Epoch 089 | Train Loss: 12.0611 | Val Loss: 12.5732\n",
      "Epoch 090 | Train Loss: 12.0316 | Val Loss: 12.0164\n",
      "Epoch 091 | Train Loss: 11.8633 | Val Loss: 12.0027\n",
      "Epoch 092 | Train Loss: 11.8833 | Val Loss: 12.5284\n",
      "Epoch 093 | Train Loss: 12.1179 | Val Loss: 11.7207\n",
      "Epoch 094 | Train Loss: 11.5947 | Val Loss: 11.9854\n",
      "Epoch 095 | Train Loss: 11.2985 | Val Loss: 11.5191\n",
      "Epoch 096 | Train Loss: 11.2540 | Val Loss: 11.8232\n",
      "Epoch 097 | Train Loss: 11.3400 | Val Loss: 11.5598\n",
      "Epoch 098 | Train Loss: 11.4733 | Val Loss: 12.3086\n",
      "Epoch 099 | Train Loss: 10.9581 | Val Loss: 11.6501\n",
      "Epoch 100 | Train Loss: 11.2132 | Val Loss: 11.9415\n",
      "Early stopping triggered at epoch 100\n"
     ]
    },
    {
     "data": {
      "text/html": [],
      "text/plain": [
       "<IPython.core.display.HTML object>"
      ]
     },
     "metadata": {},
     "output_type": "display_data"
    },
    {
     "data": {
      "text/html": [
       "<br>    <style><br>        .wandb-row {<br>            display: flex;<br>            flex-direction: row;<br>            flex-wrap: wrap;<br>            justify-content: flex-start;<br>            width: 100%;<br>        }<br>        .wandb-col {<br>            display: flex;<br>            flex-direction: column;<br>            flex-basis: 100%;<br>            flex: 1;<br>            padding: 10px;<br>        }<br>    </style><br><div class=\"wandb-row\"><div class=\"wandb-col\"><h3>Run history:</h3><br/><table class=\"wandb\"><tr><td>epoch</td><td>▁▁▁▂▂▂▂▂▂▂▃▃▃▃▃▃▄▄▄▄▅▅▅▅▅▅▅▅▅▆▆▆▆▆▇▇▇▇▇█</td></tr><tr><td>train_loss</td><td>█▄▂▂▂▂▂▂▁▁▁▁▁▁▁▁▁▁▁▁▁▁▁▁▁▁▁▁▁▁▁▁▁▁▁▁▁▁▁▁</td></tr><tr><td>val_loss</td><td>█▂▂▁▁▁▁▁▁▁▁▁▁▁▁▁▁▁▁▁▁▁▁▁▁▁▁▁▁▁▁▁▁▁▁▁▁▁▁▁</td></tr></table><br/></div><div class=\"wandb-col\"><h3>Run summary:</h3><br/><table class=\"wandb\"><tr><td>epoch</td><td>100</td></tr><tr><td>train_loss</td><td>11.21322</td></tr><tr><td>val_loss</td><td>11.94151</td></tr></table><br/></div></div>"
      ],
      "text/plain": [
       "<IPython.core.display.HTML object>"
      ]
     },
     "metadata": {},
     "output_type": "display_data"
    },
    {
     "data": {
      "text/html": [
       " View run <strong style=\"color:#cdcd00\">unique-puddle-70</strong> at: <a href='https://wandb.ai/yixuan228-imperial-college-london/DE_Groupwork_G4_stage1/runs/eoc12wzr' target=\"_blank\">https://wandb.ai/yixuan228-imperial-college-london/DE_Groupwork_G4_stage1/runs/eoc12wzr</a><br> View project at: <a href='https://wandb.ai/yixuan228-imperial-college-london/DE_Groupwork_G4_stage1' target=\"_blank\">https://wandb.ai/yixuan228-imperial-college-london/DE_Groupwork_G4_stage1</a><br>Synced 5 W&B file(s), 0 media file(s), 0 artifact file(s) and 0 other file(s)"
      ],
      "text/plain": [
       "<IPython.core.display.HTML object>"
      ]
     },
     "metadata": {},
     "output_type": "display_data"
    },
    {
     "data": {
      "text/html": [
       "Find logs at: <code>.\\wandb\\run-20250321_040356-eoc12wzr\\logs</code>"
      ],
      "text/plain": [
       "<IPython.core.display.HTML object>"
      ]
     },
     "metadata": {},
     "output_type": "display_data"
    },
    {
     "data": {
      "text/html": [
       "Tracking run with wandb version 0.19.7"
      ],
      "text/plain": [
       "<IPython.core.display.HTML object>"
      ]
     },
     "metadata": {},
     "output_type": "display_data"
    },
    {
     "data": {
      "text/html": [
       "Run data is saved locally in <code>d:\\Projects\\MSc_DE_GroupWork4\\Scripts\\wandb\\run-20250321_040416-d3ony2uh</code>"
      ],
      "text/plain": [
       "<IPython.core.display.HTML object>"
      ]
     },
     "metadata": {},
     "output_type": "display_data"
    },
    {
     "data": {
      "text/html": [
       "Syncing run <strong><a href='https://wandb.ai/yixuan228-imperial-college-london/DE_Groupwork_G4_stage1/runs/d3ony2uh' target=\"_blank\">dashing-vortex-71</a></strong> to <a href='https://wandb.ai/yixuan228-imperial-college-london/DE_Groupwork_G4_stage1' target=\"_blank\">Weights & Biases</a> (<a href='https://wandb.me/developer-guide' target=\"_blank\">docs</a>)<br>"
      ],
      "text/plain": [
       "<IPython.core.display.HTML object>"
      ]
     },
     "metadata": {},
     "output_type": "display_data"
    },
    {
     "data": {
      "text/html": [
       " View project at <a href='https://wandb.ai/yixuan228-imperial-college-london/DE_Groupwork_G4_stage1' target=\"_blank\">https://wandb.ai/yixuan228-imperial-college-london/DE_Groupwork_G4_stage1</a>"
      ],
      "text/plain": [
       "<IPython.core.display.HTML object>"
      ]
     },
     "metadata": {},
     "output_type": "display_data"
    },
    {
     "data": {
      "text/html": [
       " View run at <a href='https://wandb.ai/yixuan228-imperial-college-london/DE_Groupwork_G4_stage1/runs/d3ony2uh' target=\"_blank\">https://wandb.ai/yixuan228-imperial-college-london/DE_Groupwork_G4_stage1/runs/d3ony2uh</a>"
      ],
      "text/plain": [
       "<IPython.core.display.HTML object>"
      ]
     },
     "metadata": {},
     "output_type": "display_data"
    },
    {
     "name": "stdout",
     "output_type": "stream",
     "text": [
      "Epoch 001 | Train Loss: 14498.0853 | Val Loss: 437.0465\n",
      "Epoch 002 | Train Loss: 265.1527 | Val Loss: 194.1292\n",
      "Epoch 003 | Train Loss: 170.0533 | Val Loss: 120.4431\n",
      "Epoch 004 | Train Loss: 66.4976 | Val Loss: 44.6717\n",
      "Epoch 005 | Train Loss: 33.4636 | Val Loss: 32.1230\n",
      "Epoch 006 | Train Loss: 26.8316 | Val Loss: 24.5479\n",
      "Epoch 007 | Train Loss: 30.1686 | Val Loss: 54.8428\n",
      "Epoch 008 | Train Loss: 23.7307 | Val Loss: 67.4293\n",
      "Epoch 009 | Train Loss: 41.7017 | Val Loss: 118.4428\n",
      "Epoch 010 | Train Loss: 28.8099 | Val Loss: 20.8390\n",
      "Epoch 011 | Train Loss: 30.9645 | Val Loss: 16.9793\n",
      "Epoch 012 | Train Loss: 76.9468 | Val Loss: 1392.3565\n",
      "Epoch 013 | Train Loss: 205.7230 | Val Loss: 120.5839\n",
      "Epoch 014 | Train Loss: 25.2394 | Val Loss: 27.6312\n",
      "Epoch 015 | Train Loss: 21.1553 | Val Loss: 24.7531\n",
      "Epoch 016 | Train Loss: 24.8605 | Val Loss: 144.4918\n",
      "Early stopping triggered at epoch 16\n"
     ]
    },
    {
     "data": {
      "text/html": [],
      "text/plain": [
       "<IPython.core.display.HTML object>"
      ]
     },
     "metadata": {},
     "output_type": "display_data"
    },
    {
     "data": {
      "text/html": [
       "<br>    <style><br>        .wandb-row {<br>            display: flex;<br>            flex-direction: row;<br>            flex-wrap: wrap;<br>            justify-content: flex-start;<br>            width: 100%;<br>        }<br>        .wandb-col {<br>            display: flex;<br>            flex-direction: column;<br>            flex-basis: 100%;<br>            flex: 1;<br>            padding: 10px;<br>        }<br>    </style><br><div class=\"wandb-row\"><div class=\"wandb-col\"><h3>Run history:</h3><br/><table class=\"wandb\"><tr><td>epoch</td><td>▁▁▂▂▃▃▄▄▅▅▆▆▇▇██</td></tr><tr><td>train_loss</td><td>█▁▁▁▁▁▁▁▁▁▁▁▁▁▁▁</td></tr><tr><td>val_loss</td><td>▃▂▂▁▁▁▁▁▂▁▁█▂▁▁▂</td></tr></table><br/></div><div class=\"wandb-col\"><h3>Run summary:</h3><br/><table class=\"wandb\"><tr><td>epoch</td><td>16</td></tr><tr><td>train_loss</td><td>24.86053</td></tr><tr><td>val_loss</td><td>144.49181</td></tr></table><br/></div></div>"
      ],
      "text/plain": [
       "<IPython.core.display.HTML object>"
      ]
     },
     "metadata": {},
     "output_type": "display_data"
    },
    {
     "data": {
      "text/html": [
       " View run <strong style=\"color:#cdcd00\">dashing-vortex-71</strong> at: <a href='https://wandb.ai/yixuan228-imperial-college-london/DE_Groupwork_G4_stage1/runs/d3ony2uh' target=\"_blank\">https://wandb.ai/yixuan228-imperial-college-london/DE_Groupwork_G4_stage1/runs/d3ony2uh</a><br> View project at: <a href='https://wandb.ai/yixuan228-imperial-college-london/DE_Groupwork_G4_stage1' target=\"_blank\">https://wandb.ai/yixuan228-imperial-college-london/DE_Groupwork_G4_stage1</a><br>Synced 5 W&B file(s), 0 media file(s), 0 artifact file(s) and 0 other file(s)"
      ],
      "text/plain": [
       "<IPython.core.display.HTML object>"
      ]
     },
     "metadata": {},
     "output_type": "display_data"
    },
    {
     "data": {
      "text/html": [
       "Find logs at: <code>.\\wandb\\run-20250321_040416-d3ony2uh\\logs</code>"
      ],
      "text/plain": [
       "<IPython.core.display.HTML object>"
      ]
     },
     "metadata": {},
     "output_type": "display_data"
    },
    {
     "data": {
      "text/html": [
       "Tracking run with wandb version 0.19.7"
      ],
      "text/plain": [
       "<IPython.core.display.HTML object>"
      ]
     },
     "metadata": {},
     "output_type": "display_data"
    },
    {
     "data": {
      "text/html": [
       "Run data is saved locally in <code>d:\\Projects\\MSc_DE_GroupWork4\\Scripts\\wandb\\run-20250321_040421-74zmjti1</code>"
      ],
      "text/plain": [
       "<IPython.core.display.HTML object>"
      ]
     },
     "metadata": {},
     "output_type": "display_data"
    },
    {
     "data": {
      "text/html": [
       "Syncing run <strong><a href='https://wandb.ai/yixuan228-imperial-college-london/DE_Groupwork_G4_stage1/runs/74zmjti1' target=\"_blank\">lilac-dew-72</a></strong> to <a href='https://wandb.ai/yixuan228-imperial-college-london/DE_Groupwork_G4_stage1' target=\"_blank\">Weights & Biases</a> (<a href='https://wandb.me/developer-guide' target=\"_blank\">docs</a>)<br>"
      ],
      "text/plain": [
       "<IPython.core.display.HTML object>"
      ]
     },
     "metadata": {},
     "output_type": "display_data"
    },
    {
     "data": {
      "text/html": [
       " View project at <a href='https://wandb.ai/yixuan228-imperial-college-london/DE_Groupwork_G4_stage1' target=\"_blank\">https://wandb.ai/yixuan228-imperial-college-london/DE_Groupwork_G4_stage1</a>"
      ],
      "text/plain": [
       "<IPython.core.display.HTML object>"
      ]
     },
     "metadata": {},
     "output_type": "display_data"
    },
    {
     "data": {
      "text/html": [
       " View run at <a href='https://wandb.ai/yixuan228-imperial-college-london/DE_Groupwork_G4_stage1/runs/74zmjti1' target=\"_blank\">https://wandb.ai/yixuan228-imperial-college-london/DE_Groupwork_G4_stage1/runs/74zmjti1</a>"
      ],
      "text/plain": [
       "<IPython.core.display.HTML object>"
      ]
     },
     "metadata": {},
     "output_type": "display_data"
    },
    {
     "name": "stdout",
     "output_type": "stream",
     "text": [
      "Epoch 001 | Train Loss: 12035.5480 | Val Loss: 639.5969\n",
      "Epoch 002 | Train Loss: 413.2300 | Val Loss: 321.9858\n",
      "Epoch 003 | Train Loss: 242.2758 | Val Loss: 241.0149\n",
      "Epoch 004 | Train Loss: 172.3488 | Val Loss: 171.5314\n",
      "Epoch 005 | Train Loss: 125.1811 | Val Loss: 129.0765\n",
      "Epoch 006 | Train Loss: 84.3778 | Val Loss: 73.2005\n",
      "Epoch 007 | Train Loss: 57.3311 | Val Loss: 52.0454\n",
      "Epoch 008 | Train Loss: 40.1986 | Val Loss: 57.5954\n",
      "Epoch 009 | Train Loss: 36.1160 | Val Loss: 27.2764\n",
      "Epoch 010 | Train Loss: 25.3341 | Val Loss: 43.1873\n",
      "Epoch 011 | Train Loss: 24.0862 | Val Loss: 24.1306\n",
      "Epoch 012 | Train Loss: 19.4208 | Val Loss: 16.7895\n",
      "Epoch 013 | Train Loss: 16.7412 | Val Loss: 17.4114\n",
      "Epoch 014 | Train Loss: 19.1695 | Val Loss: 21.9859\n",
      "Epoch 015 | Train Loss: 16.2558 | Val Loss: 13.9083\n",
      "Epoch 016 | Train Loss: 14.0104 | Val Loss: 16.2543\n",
      "Epoch 017 | Train Loss: 15.4513 | Val Loss: 14.4879\n",
      "Epoch 018 | Train Loss: 14.3979 | Val Loss: 18.0776\n",
      "Epoch 019 | Train Loss: 12.8064 | Val Loss: 18.3921\n",
      "Epoch 020 | Train Loss: 14.9024 | Val Loss: 17.3327\n",
      "Early stopping triggered at epoch 20\n"
     ]
    },
    {
     "data": {
      "text/html": [],
      "text/plain": [
       "<IPython.core.display.HTML object>"
      ]
     },
     "metadata": {},
     "output_type": "display_data"
    },
    {
     "data": {
      "text/html": [
       "<br>    <style><br>        .wandb-row {<br>            display: flex;<br>            flex-direction: row;<br>            flex-wrap: wrap;<br>            justify-content: flex-start;<br>            width: 100%;<br>        }<br>        .wandb-col {<br>            display: flex;<br>            flex-direction: column;<br>            flex-basis: 100%;<br>            flex: 1;<br>            padding: 10px;<br>        }<br>    </style><br><div class=\"wandb-row\"><div class=\"wandb-col\"><h3>Run history:</h3><br/><table class=\"wandb\"><tr><td>epoch</td><td>▁▁▂▂▂▃▃▄▄▄▅▅▅▆▆▇▇▇██</td></tr><tr><td>train_loss</td><td>█▁▁▁▁▁▁▁▁▁▁▁▁▁▁▁▁▁▁▁</td></tr><tr><td>val_loss</td><td>█▄▄▃▂▂▁▁▁▁▁▁▁▁▁▁▁▁▁▁</td></tr></table><br/></div><div class=\"wandb-col\"><h3>Run summary:</h3><br/><table class=\"wandb\"><tr><td>epoch</td><td>20</td></tr><tr><td>train_loss</td><td>14.90239</td></tr><tr><td>val_loss</td><td>17.33268</td></tr></table><br/></div></div>"
      ],
      "text/plain": [
       "<IPython.core.display.HTML object>"
      ]
     },
     "metadata": {},
     "output_type": "display_data"
    },
    {
     "data": {
      "text/html": [
       " View run <strong style=\"color:#cdcd00\">lilac-dew-72</strong> at: <a href='https://wandb.ai/yixuan228-imperial-college-london/DE_Groupwork_G4_stage1/runs/74zmjti1' target=\"_blank\">https://wandb.ai/yixuan228-imperial-college-london/DE_Groupwork_G4_stage1/runs/74zmjti1</a><br> View project at: <a href='https://wandb.ai/yixuan228-imperial-college-london/DE_Groupwork_G4_stage1' target=\"_blank\">https://wandb.ai/yixuan228-imperial-college-london/DE_Groupwork_G4_stage1</a><br>Synced 5 W&B file(s), 0 media file(s), 0 artifact file(s) and 0 other file(s)"
      ],
      "text/plain": [
       "<IPython.core.display.HTML object>"
      ]
     },
     "metadata": {},
     "output_type": "display_data"
    },
    {
     "data": {
      "text/html": [
       "Find logs at: <code>.\\wandb\\run-20250321_040421-74zmjti1\\logs</code>"
      ],
      "text/plain": [
       "<IPython.core.display.HTML object>"
      ]
     },
     "metadata": {},
     "output_type": "display_data"
    },
    {
     "data": {
      "text/html": [
       "Tracking run with wandb version 0.19.7"
      ],
      "text/plain": [
       "<IPython.core.display.HTML object>"
      ]
     },
     "metadata": {},
     "output_type": "display_data"
    },
    {
     "data": {
      "text/html": [
       "Run data is saved locally in <code>d:\\Projects\\MSc_DE_GroupWork4\\Scripts\\wandb\\run-20250321_040428-vc65c4pq</code>"
      ],
      "text/plain": [
       "<IPython.core.display.HTML object>"
      ]
     },
     "metadata": {},
     "output_type": "display_data"
    },
    {
     "data": {
      "text/html": [
       "Syncing run <strong><a href='https://wandb.ai/yixuan228-imperial-college-london/DE_Groupwork_G4_stage1/runs/vc65c4pq' target=\"_blank\">brisk-tree-73</a></strong> to <a href='https://wandb.ai/yixuan228-imperial-college-london/DE_Groupwork_G4_stage1' target=\"_blank\">Weights & Biases</a> (<a href='https://wandb.me/developer-guide' target=\"_blank\">docs</a>)<br>"
      ],
      "text/plain": [
       "<IPython.core.display.HTML object>"
      ]
     },
     "metadata": {},
     "output_type": "display_data"
    },
    {
     "data": {
      "text/html": [
       " View project at <a href='https://wandb.ai/yixuan228-imperial-college-london/DE_Groupwork_G4_stage1' target=\"_blank\">https://wandb.ai/yixuan228-imperial-college-london/DE_Groupwork_G4_stage1</a>"
      ],
      "text/plain": [
       "<IPython.core.display.HTML object>"
      ]
     },
     "metadata": {},
     "output_type": "display_data"
    },
    {
     "data": {
      "text/html": [
       " View run at <a href='https://wandb.ai/yixuan228-imperial-college-london/DE_Groupwork_G4_stage1/runs/vc65c4pq' target=\"_blank\">https://wandb.ai/yixuan228-imperial-college-london/DE_Groupwork_G4_stage1/runs/vc65c4pq</a>"
      ],
      "text/plain": [
       "<IPython.core.display.HTML object>"
      ]
     },
     "metadata": {},
     "output_type": "display_data"
    },
    {
     "name": "stdout",
     "output_type": "stream",
     "text": [
      "Epoch 001 | Train Loss: 58064.5980 | Val Loss: 20118.4387\n",
      "Epoch 002 | Train Loss: 4880.8320 | Val Loss: 1678.3166\n",
      "Epoch 003 | Train Loss: 1109.8066 | Val Loss: 822.6045\n",
      "Epoch 004 | Train Loss: 668.2898 | Val Loss: 606.1995\n",
      "Epoch 005 | Train Loss: 511.0096 | Val Loss: 490.8734\n",
      "Epoch 006 | Train Loss: 415.8076 | Val Loss: 419.0868\n",
      "Epoch 007 | Train Loss: 353.4051 | Val Loss: 361.4068\n",
      "Epoch 008 | Train Loss: 307.6305 | Val Loss: 319.9461\n",
      "Epoch 009 | Train Loss: 274.3115 | Val Loss: 288.3260\n",
      "Epoch 010 | Train Loss: 246.2263 | Val Loss: 261.9623\n",
      "Epoch 011 | Train Loss: 223.0122 | Val Loss: 240.7456\n",
      "Epoch 012 | Train Loss: 203.3477 | Val Loss: 222.3556\n",
      "Epoch 013 | Train Loss: 185.0739 | Val Loss: 201.5178\n",
      "Epoch 014 | Train Loss: 168.6433 | Val Loss: 184.5136\n",
      "Epoch 015 | Train Loss: 154.7841 | Val Loss: 167.8809\n",
      "Epoch 016 | Train Loss: 141.0033 | Val Loss: 153.2869\n",
      "Epoch 017 | Train Loss: 128.5535 | Val Loss: 140.0423\n",
      "Epoch 018 | Train Loss: 117.3434 | Val Loss: 125.5856\n",
      "Epoch 019 | Train Loss: 105.7688 | Val Loss: 115.1512\n",
      "Epoch 020 | Train Loss: 97.3077 | Val Loss: 104.9577\n",
      "Epoch 021 | Train Loss: 86.8442 | Val Loss: 93.0822\n",
      "Epoch 022 | Train Loss: 79.2886 | Val Loss: 80.1962\n",
      "Epoch 023 | Train Loss: 69.0973 | Val Loss: 71.0160\n",
      "Epoch 024 | Train Loss: 61.6075 | Val Loss: 63.5808\n",
      "Epoch 025 | Train Loss: 54.9028 | Val Loss: 56.9096\n",
      "Epoch 026 | Train Loss: 49.8881 | Val Loss: 50.6192\n",
      "Epoch 027 | Train Loss: 45.0851 | Val Loss: 45.4776\n",
      "Epoch 028 | Train Loss: 40.9316 | Val Loss: 41.2394\n",
      "Epoch 029 | Train Loss: 36.9350 | Val Loss: 37.5065\n",
      "Epoch 030 | Train Loss: 33.8958 | Val Loss: 33.7267\n",
      "Epoch 031 | Train Loss: 31.6799 | Val Loss: 30.8772\n",
      "Epoch 032 | Train Loss: 28.8251 | Val Loss: 28.3935\n",
      "Epoch 033 | Train Loss: 26.8853 | Val Loss: 26.2503\n",
      "Epoch 034 | Train Loss: 25.2737 | Val Loss: 24.4388\n",
      "Epoch 035 | Train Loss: 23.6281 | Val Loss: 23.0724\n",
      "Epoch 036 | Train Loss: 22.3794 | Val Loss: 22.3431\n",
      "Epoch 037 | Train Loss: 20.7976 | Val Loss: 20.7653\n",
      "Epoch 038 | Train Loss: 20.0939 | Val Loss: 20.2722\n",
      "Epoch 039 | Train Loss: 18.8352 | Val Loss: 18.9863\n",
      "Epoch 040 | Train Loss: 18.1592 | Val Loss: 19.9787\n",
      "Epoch 041 | Train Loss: 17.4968 | Val Loss: 16.9202\n",
      "Epoch 042 | Train Loss: 16.7750 | Val Loss: 17.1547\n",
      "Epoch 043 | Train Loss: 16.4261 | Val Loss: 16.6347\n",
      "Epoch 044 | Train Loss: 15.4879 | Val Loss: 16.7052\n",
      "Epoch 045 | Train Loss: 15.4348 | Val Loss: 15.4293\n",
      "Epoch 046 | Train Loss: 14.8699 | Val Loss: 14.8113\n",
      "Epoch 047 | Train Loss: 14.2123 | Val Loss: 14.2633\n",
      "Epoch 048 | Train Loss: 13.7370 | Val Loss: 15.3176\n",
      "Epoch 049 | Train Loss: 14.4120 | Val Loss: 13.5693\n",
      "Epoch 050 | Train Loss: 13.7507 | Val Loss: 18.2670\n",
      "Epoch 051 | Train Loss: 14.0456 | Val Loss: 13.6221\n",
      "Epoch 052 | Train Loss: 12.5318 | Val Loss: 13.7332\n",
      "Epoch 053 | Train Loss: 12.5004 | Val Loss: 12.6783\n",
      "Epoch 054 | Train Loss: 12.1413 | Val Loss: 12.4796\n",
      "Epoch 055 | Train Loss: 12.0144 | Val Loss: 13.1150\n",
      "Epoch 056 | Train Loss: 12.0917 | Val Loss: 12.6616\n",
      "Epoch 057 | Train Loss: 11.2805 | Val Loss: 12.3067\n",
      "Epoch 058 | Train Loss: 11.4966 | Val Loss: 12.3053\n",
      "Epoch 059 | Train Loss: 11.3242 | Val Loss: 12.4880\n",
      "Epoch 060 | Train Loss: 12.0143 | Val Loss: 13.8830\n",
      "Epoch 061 | Train Loss: 11.4292 | Val Loss: 12.2810\n",
      "Epoch 062 | Train Loss: 10.7298 | Val Loss: 12.3671\n",
      "Epoch 063 | Train Loss: 10.9389 | Val Loss: 12.8544\n",
      "Epoch 064 | Train Loss: 11.1537 | Val Loss: 15.4771\n",
      "Epoch 065 | Train Loss: 12.4506 | Val Loss: 10.6036\n",
      "Epoch 066 | Train Loss: 10.0648 | Val Loss: 11.0133\n",
      "Epoch 067 | Train Loss: 10.0248 | Val Loss: 11.7899\n",
      "Epoch 068 | Train Loss: 10.4976 | Val Loss: 13.8466\n",
      "Epoch 069 | Train Loss: 10.0858 | Val Loss: 14.0722\n",
      "Epoch 070 | Train Loss: 10.1925 | Val Loss: 17.1013\n",
      "Early stopping triggered at epoch 70\n"
     ]
    },
    {
     "data": {
      "text/html": [],
      "text/plain": [
       "<IPython.core.display.HTML object>"
      ]
     },
     "metadata": {},
     "output_type": "display_data"
    },
    {
     "data": {
      "text/html": [
       "<br>    <style><br>        .wandb-row {<br>            display: flex;<br>            flex-direction: row;<br>            flex-wrap: wrap;<br>            justify-content: flex-start;<br>            width: 100%;<br>        }<br>        .wandb-col {<br>            display: flex;<br>            flex-direction: column;<br>            flex-basis: 100%;<br>            flex: 1;<br>            padding: 10px;<br>        }<br>    </style><br><div class=\"wandb-row\"><div class=\"wandb-col\"><h3>Run history:</h3><br/><table class=\"wandb\"><tr><td>epoch</td><td>▁▁▁▁▂▂▂▂▂▃▃▃▃▄▄▄▄▄▄▄▅▅▅▅▅▅▆▆▆▆▆▆▇▇▇▇▇▇██</td></tr><tr><td>train_loss</td><td>█▂▁▁▁▁▁▁▁▁▁▁▁▁▁▁▁▁▁▁▁▁▁▁▁▁▁▁▁▁▁▁▁▁▁▁▁▁▁▁</td></tr><tr><td>val_loss</td><td>█▂▁▁▁▁▁▁▁▁▁▁▁▁▁▁▁▁▁▁▁▁▁▁▁▁▁▁▁▁▁▁▁▁▁▁▁▁▁▁</td></tr></table><br/></div><div class=\"wandb-col\"><h3>Run summary:</h3><br/><table class=\"wandb\"><tr><td>epoch</td><td>70</td></tr><tr><td>train_loss</td><td>10.19247</td></tr><tr><td>val_loss</td><td>17.10132</td></tr></table><br/></div></div>"
      ],
      "text/plain": [
       "<IPython.core.display.HTML object>"
      ]
     },
     "metadata": {},
     "output_type": "display_data"
    },
    {
     "data": {
      "text/html": [
       " View run <strong style=\"color:#cdcd00\">brisk-tree-73</strong> at: <a href='https://wandb.ai/yixuan228-imperial-college-london/DE_Groupwork_G4_stage1/runs/vc65c4pq' target=\"_blank\">https://wandb.ai/yixuan228-imperial-college-london/DE_Groupwork_G4_stage1/runs/vc65c4pq</a><br> View project at: <a href='https://wandb.ai/yixuan228-imperial-college-london/DE_Groupwork_G4_stage1' target=\"_blank\">https://wandb.ai/yixuan228-imperial-college-london/DE_Groupwork_G4_stage1</a><br>Synced 5 W&B file(s), 0 media file(s), 0 artifact file(s) and 0 other file(s)"
      ],
      "text/plain": [
       "<IPython.core.display.HTML object>"
      ]
     },
     "metadata": {},
     "output_type": "display_data"
    },
    {
     "data": {
      "text/html": [
       "Find logs at: <code>.\\wandb\\run-20250321_040428-vc65c4pq\\logs</code>"
      ],
      "text/plain": [
       "<IPython.core.display.HTML object>"
      ]
     },
     "metadata": {},
     "output_type": "display_data"
    },
    {
     "data": {
      "text/html": [
       "Tracking run with wandb version 0.19.7"
      ],
      "text/plain": [
       "<IPython.core.display.HTML object>"
      ]
     },
     "metadata": {},
     "output_type": "display_data"
    },
    {
     "data": {
      "text/html": [
       "Run data is saved locally in <code>d:\\Projects\\MSc_DE_GroupWork4\\Scripts\\wandb\\run-20250321_040444-t529qsk8</code>"
      ],
      "text/plain": [
       "<IPython.core.display.HTML object>"
      ]
     },
     "metadata": {},
     "output_type": "display_data"
    },
    {
     "data": {
      "text/html": [
       "Syncing run <strong><a href='https://wandb.ai/yixuan228-imperial-college-london/DE_Groupwork_G4_stage1/runs/t529qsk8' target=\"_blank\">cool-dust-74</a></strong> to <a href='https://wandb.ai/yixuan228-imperial-college-london/DE_Groupwork_G4_stage1' target=\"_blank\">Weights & Biases</a> (<a href='https://wandb.me/developer-guide' target=\"_blank\">docs</a>)<br>"
      ],
      "text/plain": [
       "<IPython.core.display.HTML object>"
      ]
     },
     "metadata": {},
     "output_type": "display_data"
    },
    {
     "data": {
      "text/html": [
       " View project at <a href='https://wandb.ai/yixuan228-imperial-college-london/DE_Groupwork_G4_stage1' target=\"_blank\">https://wandb.ai/yixuan228-imperial-college-london/DE_Groupwork_G4_stage1</a>"
      ],
      "text/plain": [
       "<IPython.core.display.HTML object>"
      ]
     },
     "metadata": {},
     "output_type": "display_data"
    },
    {
     "data": {
      "text/html": [
       " View run at <a href='https://wandb.ai/yixuan228-imperial-college-london/DE_Groupwork_G4_stage1/runs/t529qsk8' target=\"_blank\">https://wandb.ai/yixuan228-imperial-college-london/DE_Groupwork_G4_stage1/runs/t529qsk8</a>"
      ],
      "text/plain": [
       "<IPython.core.display.HTML object>"
      ]
     },
     "metadata": {},
     "output_type": "display_data"
    },
    {
     "name": "stdout",
     "output_type": "stream",
     "text": [
      "Epoch 001 | Train Loss: 27645.2191 | Val Loss: 738.8490\n",
      "Epoch 002 | Train Loss: 307.3912 | Val Loss: 190.4916\n",
      "Epoch 003 | Train Loss: 136.1665 | Val Loss: 114.7243\n",
      "Epoch 004 | Train Loss: 116.8345 | Val Loss: 104.5000\n",
      "Epoch 005 | Train Loss: 96.3963 | Val Loss: 77.0142\n",
      "Epoch 006 | Train Loss: 68.7797 | Val Loss: 112.9627\n",
      "Epoch 007 | Train Loss: 89.8804 | Val Loss: 147.9661\n",
      "Epoch 008 | Train Loss: 74.5024 | Val Loss: 60.0612\n",
      "Epoch 009 | Train Loss: 44.5362 | Val Loss: 327.5592\n",
      "Epoch 010 | Train Loss: 210.4219 | Val Loss: 89.2575\n",
      "Epoch 011 | Train Loss: 65.2261 | Val Loss: 48.3378\n",
      "Epoch 012 | Train Loss: 52.2403 | Val Loss: 38.7121\n",
      "Epoch 013 | Train Loss: 37.8653 | Val Loss: 53.4965\n",
      "Epoch 014 | Train Loss: 48.6280 | Val Loss: 37.0953\n",
      "Epoch 015 | Train Loss: 31.2745 | Val Loss: 46.1610\n",
      "Epoch 016 | Train Loss: 62.7916 | Val Loss: 54.2764\n",
      "Epoch 017 | Train Loss: 46.4342 | Val Loss: 42.5636\n",
      "Epoch 018 | Train Loss: 59.2951 | Val Loss: 41.9036\n",
      "Epoch 019 | Train Loss: 78.0941 | Val Loss: 72.7365\n",
      "Early stopping triggered at epoch 19\n"
     ]
    },
    {
     "data": {
      "text/html": [],
      "text/plain": [
       "<IPython.core.display.HTML object>"
      ]
     },
     "metadata": {},
     "output_type": "display_data"
    },
    {
     "data": {
      "text/html": [
       "<br>    <style><br>        .wandb-row {<br>            display: flex;<br>            flex-direction: row;<br>            flex-wrap: wrap;<br>            justify-content: flex-start;<br>            width: 100%;<br>        }<br>        .wandb-col {<br>            display: flex;<br>            flex-direction: column;<br>            flex-basis: 100%;<br>            flex: 1;<br>            padding: 10px;<br>        }<br>    </style><br><div class=\"wandb-row\"><div class=\"wandb-col\"><h3>Run history:</h3><br/><table class=\"wandb\"><tr><td>epoch</td><td>▁▁▂▂▃▃▃▄▄▅▅▅▆▆▆▇▇██</td></tr><tr><td>train_loss</td><td>█▁▁▁▁▁▁▁▁▁▁▁▁▁▁▁▁▁▁</td></tr><tr><td>val_loss</td><td>█▃▂▂▁▂▂▁▄▂▁▁▁▁▁▁▁▁▁</td></tr></table><br/></div><div class=\"wandb-col\"><h3>Run summary:</h3><br/><table class=\"wandb\"><tr><td>epoch</td><td>19</td></tr><tr><td>train_loss</td><td>78.09415</td></tr><tr><td>val_loss</td><td>72.73648</td></tr></table><br/></div></div>"
      ],
      "text/plain": [
       "<IPython.core.display.HTML object>"
      ]
     },
     "metadata": {},
     "output_type": "display_data"
    },
    {
     "data": {
      "text/html": [
       " View run <strong style=\"color:#cdcd00\">cool-dust-74</strong> at: <a href='https://wandb.ai/yixuan228-imperial-college-london/DE_Groupwork_G4_stage1/runs/t529qsk8' target=\"_blank\">https://wandb.ai/yixuan228-imperial-college-london/DE_Groupwork_G4_stage1/runs/t529qsk8</a><br> View project at: <a href='https://wandb.ai/yixuan228-imperial-college-london/DE_Groupwork_G4_stage1' target=\"_blank\">https://wandb.ai/yixuan228-imperial-college-london/DE_Groupwork_G4_stage1</a><br>Synced 5 W&B file(s), 0 media file(s), 0 artifact file(s) and 0 other file(s)"
      ],
      "text/plain": [
       "<IPython.core.display.HTML object>"
      ]
     },
     "metadata": {},
     "output_type": "display_data"
    },
    {
     "data": {
      "text/html": [
       "Find logs at: <code>.\\wandb\\run-20250321_040444-t529qsk8\\logs</code>"
      ],
      "text/plain": [
       "<IPython.core.display.HTML object>"
      ]
     },
     "metadata": {},
     "output_type": "display_data"
    },
    {
     "data": {
      "text/html": [
       "Tracking run with wandb version 0.19.7"
      ],
      "text/plain": [
       "<IPython.core.display.HTML object>"
      ]
     },
     "metadata": {},
     "output_type": "display_data"
    },
    {
     "data": {
      "text/html": [
       "Run data is saved locally in <code>d:\\Projects\\MSc_DE_GroupWork4\\Scripts\\wandb\\run-20250321_040450-smdncrgf</code>"
      ],
      "text/plain": [
       "<IPython.core.display.HTML object>"
      ]
     },
     "metadata": {},
     "output_type": "display_data"
    },
    {
     "data": {
      "text/html": [
       "Syncing run <strong><a href='https://wandb.ai/yixuan228-imperial-college-london/DE_Groupwork_G4_stage1/runs/smdncrgf' target=\"_blank\">amber-glade-75</a></strong> to <a href='https://wandb.ai/yixuan228-imperial-college-london/DE_Groupwork_G4_stage1' target=\"_blank\">Weights & Biases</a> (<a href='https://wandb.me/developer-guide' target=\"_blank\">docs</a>)<br>"
      ],
      "text/plain": [
       "<IPython.core.display.HTML object>"
      ]
     },
     "metadata": {},
     "output_type": "display_data"
    },
    {
     "data": {
      "text/html": [
       " View project at <a href='https://wandb.ai/yixuan228-imperial-college-london/DE_Groupwork_G4_stage1' target=\"_blank\">https://wandb.ai/yixuan228-imperial-college-london/DE_Groupwork_G4_stage1</a>"
      ],
      "text/plain": [
       "<IPython.core.display.HTML object>"
      ]
     },
     "metadata": {},
     "output_type": "display_data"
    },
    {
     "data": {
      "text/html": [
       " View run at <a href='https://wandb.ai/yixuan228-imperial-college-london/DE_Groupwork_G4_stage1/runs/smdncrgf' target=\"_blank\">https://wandb.ai/yixuan228-imperial-college-london/DE_Groupwork_G4_stage1/runs/smdncrgf</a>"
      ],
      "text/plain": [
       "<IPython.core.display.HTML object>"
      ]
     },
     "metadata": {},
     "output_type": "display_data"
    },
    {
     "name": "stdout",
     "output_type": "stream",
     "text": [
      "Epoch 001 | Train Loss: 9828.4867 | Val Loss: 494.5310\n",
      "Epoch 002 | Train Loss: 321.8850 | Val Loss: 244.7830\n",
      "Epoch 003 | Train Loss: 165.6653 | Val Loss: 129.0958\n",
      "Epoch 004 | Train Loss: 90.6768 | Val Loss: 60.9858\n",
      "Epoch 005 | Train Loss: 47.4943 | Val Loss: 65.1745\n",
      "Epoch 006 | Train Loss: 33.0747 | Val Loss: 30.6398\n",
      "Epoch 007 | Train Loss: 24.4760 | Val Loss: 36.7010\n",
      "Epoch 008 | Train Loss: 25.3513 | Val Loss: 20.2072\n",
      "Epoch 009 | Train Loss: 22.6068 | Val Loss: 35.4606\n",
      "Epoch 010 | Train Loss: 20.1462 | Val Loss: 23.6680\n",
      "Epoch 011 | Train Loss: 20.1573 | Val Loss: 20.7633\n",
      "Epoch 012 | Train Loss: 18.9669 | Val Loss: 23.2102\n",
      "Epoch 013 | Train Loss: 17.2760 | Val Loss: 24.3302\n",
      "Early stopping triggered at epoch 13\n"
     ]
    },
    {
     "data": {
      "text/html": [],
      "text/plain": [
       "<IPython.core.display.HTML object>"
      ]
     },
     "metadata": {},
     "output_type": "display_data"
    },
    {
     "data": {
      "text/html": [
       "<br>    <style><br>        .wandb-row {<br>            display: flex;<br>            flex-direction: row;<br>            flex-wrap: wrap;<br>            justify-content: flex-start;<br>            width: 100%;<br>        }<br>        .wandb-col {<br>            display: flex;<br>            flex-direction: column;<br>            flex-basis: 100%;<br>            flex: 1;<br>            padding: 10px;<br>        }<br>    </style><br><div class=\"wandb-row\"><div class=\"wandb-col\"><h3>Run history:</h3><br/><table class=\"wandb\"><tr><td>epoch</td><td>▁▂▂▃▃▄▅▅▆▆▇▇█</td></tr><tr><td>train_loss</td><td>█▁▁▁▁▁▁▁▁▁▁▁▁</td></tr><tr><td>val_loss</td><td>█▄▃▂▂▁▁▁▁▁▁▁▁</td></tr></table><br/></div><div class=\"wandb-col\"><h3>Run summary:</h3><br/><table class=\"wandb\"><tr><td>epoch</td><td>13</td></tr><tr><td>train_loss</td><td>17.27602</td></tr><tr><td>val_loss</td><td>24.33017</td></tr></table><br/></div></div>"
      ],
      "text/plain": [
       "<IPython.core.display.HTML object>"
      ]
     },
     "metadata": {},
     "output_type": "display_data"
    },
    {
     "data": {
      "text/html": [
       " View run <strong style=\"color:#cdcd00\">amber-glade-75</strong> at: <a href='https://wandb.ai/yixuan228-imperial-college-london/DE_Groupwork_G4_stage1/runs/smdncrgf' target=\"_blank\">https://wandb.ai/yixuan228-imperial-college-london/DE_Groupwork_G4_stage1/runs/smdncrgf</a><br> View project at: <a href='https://wandb.ai/yixuan228-imperial-college-london/DE_Groupwork_G4_stage1' target=\"_blank\">https://wandb.ai/yixuan228-imperial-college-london/DE_Groupwork_G4_stage1</a><br>Synced 5 W&B file(s), 0 media file(s), 0 artifact file(s) and 0 other file(s)"
      ],
      "text/plain": [
       "<IPython.core.display.HTML object>"
      ]
     },
     "metadata": {},
     "output_type": "display_data"
    },
    {
     "data": {
      "text/html": [
       "Find logs at: <code>.\\wandb\\run-20250321_040450-smdncrgf\\logs</code>"
      ],
      "text/plain": [
       "<IPython.core.display.HTML object>"
      ]
     },
     "metadata": {},
     "output_type": "display_data"
    },
    {
     "data": {
      "text/html": [
       "Tracking run with wandb version 0.19.7"
      ],
      "text/plain": [
       "<IPython.core.display.HTML object>"
      ]
     },
     "metadata": {},
     "output_type": "display_data"
    },
    {
     "data": {
      "text/html": [
       "Run data is saved locally in <code>d:\\Projects\\MSc_DE_GroupWork4\\Scripts\\wandb\\run-20250321_040455-2ddgpdq1</code>"
      ],
      "text/plain": [
       "<IPython.core.display.HTML object>"
      ]
     },
     "metadata": {},
     "output_type": "display_data"
    },
    {
     "data": {
      "text/html": [
       "Syncing run <strong><a href='https://wandb.ai/yixuan228-imperial-college-london/DE_Groupwork_G4_stage1/runs/2ddgpdq1' target=\"_blank\">comic-butterfly-76</a></strong> to <a href='https://wandb.ai/yixuan228-imperial-college-london/DE_Groupwork_G4_stage1' target=\"_blank\">Weights & Biases</a> (<a href='https://wandb.me/developer-guide' target=\"_blank\">docs</a>)<br>"
      ],
      "text/plain": [
       "<IPython.core.display.HTML object>"
      ]
     },
     "metadata": {},
     "output_type": "display_data"
    },
    {
     "data": {
      "text/html": [
       " View project at <a href='https://wandb.ai/yixuan228-imperial-college-london/DE_Groupwork_G4_stage1' target=\"_blank\">https://wandb.ai/yixuan228-imperial-college-london/DE_Groupwork_G4_stage1</a>"
      ],
      "text/plain": [
       "<IPython.core.display.HTML object>"
      ]
     },
     "metadata": {},
     "output_type": "display_data"
    },
    {
     "data": {
      "text/html": [
       " View run at <a href='https://wandb.ai/yixuan228-imperial-college-london/DE_Groupwork_G4_stage1/runs/2ddgpdq1' target=\"_blank\">https://wandb.ai/yixuan228-imperial-college-london/DE_Groupwork_G4_stage1/runs/2ddgpdq1</a>"
      ],
      "text/plain": [
       "<IPython.core.display.HTML object>"
      ]
     },
     "metadata": {},
     "output_type": "display_data"
    },
    {
     "name": "stdout",
     "output_type": "stream",
     "text": [
      "Epoch 001 | Train Loss: 47955.2158 | Val Loss: 5230.4181\n",
      "Epoch 002 | Train Loss: 2211.5318 | Val Loss: 1052.8981\n",
      "Epoch 003 | Train Loss: 761.7933 | Val Loss: 622.0302\n",
      "Epoch 004 | Train Loss: 505.2678 | Val Loss: 471.0472\n",
      "Epoch 005 | Train Loss: 381.5253 | Val Loss: 370.8693\n",
      "Epoch 006 | Train Loss: 303.9520 | Val Loss: 309.8407\n",
      "Epoch 007 | Train Loss: 250.7753 | Val Loss: 262.1220\n",
      "Epoch 008 | Train Loss: 210.9573 | Val Loss: 230.5648\n",
      "Epoch 009 | Train Loss: 182.3139 | Val Loss: 198.4552\n",
      "Epoch 010 | Train Loss: 157.5779 | Val Loss: 171.9949\n",
      "Epoch 011 | Train Loss: 137.8244 | Val Loss: 151.1699\n",
      "Epoch 012 | Train Loss: 120.1354 | Val Loss: 132.5551\n",
      "Epoch 013 | Train Loss: 106.4800 | Val Loss: 113.0224\n",
      "Epoch 014 | Train Loss: 91.5815 | Val Loss: 96.9168\n",
      "Epoch 015 | Train Loss: 79.1497 | Val Loss: 83.0857\n",
      "Epoch 016 | Train Loss: 68.1714 | Val Loss: 70.5911\n",
      "Epoch 017 | Train Loss: 57.7563 | Val Loss: 58.7241\n",
      "Epoch 018 | Train Loss: 50.4668 | Val Loss: 50.9186\n",
      "Epoch 019 | Train Loss: 44.2850 | Val Loss: 43.3450\n",
      "Epoch 020 | Train Loss: 39.6200 | Val Loss: 39.3637\n",
      "Epoch 021 | Train Loss: 34.5236 | Val Loss: 34.7043\n",
      "Epoch 022 | Train Loss: 31.4921 | Val Loss: 31.2357\n",
      "Epoch 023 | Train Loss: 28.6853 | Val Loss: 29.8358\n",
      "Epoch 024 | Train Loss: 26.6550 | Val Loss: 25.7202\n",
      "Epoch 025 | Train Loss: 25.0822 | Val Loss: 24.9044\n",
      "Epoch 026 | Train Loss: 24.0530 | Val Loss: 23.2084\n",
      "Epoch 027 | Train Loss: 22.8172 | Val Loss: 24.5195\n",
      "Epoch 028 | Train Loss: 21.6140 | Val Loss: 22.7893\n",
      "Epoch 029 | Train Loss: 20.5391 | Val Loss: 21.8597\n",
      "Epoch 030 | Train Loss: 20.6702 | Val Loss: 21.2486\n",
      "Epoch 031 | Train Loss: 21.1330 | Val Loss: 20.9316\n",
      "Epoch 032 | Train Loss: 19.3635 | Val Loss: 18.0473\n",
      "Epoch 033 | Train Loss: 18.5560 | Val Loss: 17.7577\n",
      "Epoch 034 | Train Loss: 17.7562 | Val Loss: 17.5705\n",
      "Epoch 035 | Train Loss: 16.6621 | Val Loss: 17.9773\n",
      "Epoch 036 | Train Loss: 16.4364 | Val Loss: 18.1966\n",
      "Epoch 037 | Train Loss: 16.3808 | Val Loss: 15.4976\n",
      "Epoch 038 | Train Loss: 15.4674 | Val Loss: 14.8396\n",
      "Epoch 039 | Train Loss: 15.7882 | Val Loss: 16.8960\n",
      "Epoch 040 | Train Loss: 14.7919 | Val Loss: 17.8618\n",
      "Epoch 041 | Train Loss: 15.5080 | Val Loss: 14.1356\n",
      "Epoch 042 | Train Loss: 13.8567 | Val Loss: 14.7073\n",
      "Epoch 043 | Train Loss: 13.7897 | Val Loss: 13.6002\n",
      "Epoch 044 | Train Loss: 13.5949 | Val Loss: 13.5537\n",
      "Epoch 045 | Train Loss: 12.9372 | Val Loss: 14.2759\n",
      "Epoch 046 | Train Loss: 13.8766 | Val Loss: 14.5773\n",
      "Epoch 047 | Train Loss: 12.1886 | Val Loss: 13.9747\n",
      "Epoch 048 | Train Loss: 12.1976 | Val Loss: 19.9532\n",
      "Epoch 049 | Train Loss: 11.7357 | Val Loss: 12.7395\n",
      "Epoch 050 | Train Loss: 11.3578 | Val Loss: 12.2071\n",
      "Epoch 051 | Train Loss: 11.1497 | Val Loss: 13.1232\n",
      "Epoch 052 | Train Loss: 11.1473 | Val Loss: 12.6558\n",
      "Epoch 053 | Train Loss: 11.1053 | Val Loss: 13.3050\n",
      "Epoch 054 | Train Loss: 11.6684 | Val Loss: 21.8719\n",
      "Epoch 055 | Train Loss: 14.2450 | Val Loss: 12.1281\n",
      "Epoch 056 | Train Loss: 10.6328 | Val Loss: 22.9550\n",
      "Epoch 057 | Train Loss: 10.8235 | Val Loss: 11.4239\n",
      "Epoch 058 | Train Loss: 10.5222 | Val Loss: 12.1241\n",
      "Epoch 059 | Train Loss: 11.4079 | Val Loss: 15.0210\n",
      "Epoch 060 | Train Loss: 10.8608 | Val Loss: 16.5603\n",
      "Epoch 061 | Train Loss: 10.6222 | Val Loss: 13.1388\n",
      "Epoch 062 | Train Loss: 10.4155 | Val Loss: 20.4940\n",
      "Early stopping triggered at epoch 62\n"
     ]
    },
    {
     "data": {
      "text/html": [],
      "text/plain": [
       "<IPython.core.display.HTML object>"
      ]
     },
     "metadata": {},
     "output_type": "display_data"
    },
    {
     "data": {
      "text/html": [
       "<br>    <style><br>        .wandb-row {<br>            display: flex;<br>            flex-direction: row;<br>            flex-wrap: wrap;<br>            justify-content: flex-start;<br>            width: 100%;<br>        }<br>        .wandb-col {<br>            display: flex;<br>            flex-direction: column;<br>            flex-basis: 100%;<br>            flex: 1;<br>            padding: 10px;<br>        }<br>    </style><br><div class=\"wandb-row\"><div class=\"wandb-col\"><h3>Run history:</h3><br/><table class=\"wandb\"><tr><td>epoch</td><td>▁▁▁▁▁▂▂▂▂▃▃▃▃▃▄▄▄▄▄▄▅▅▅▅▅▅▆▆▆▆▇▇▇▇▇▇▇▇██</td></tr><tr><td>train_loss</td><td>█▁▁▁▁▁▁▁▁▁▁▁▁▁▁▁▁▁▁▁▁▁▁▁▁▁▁▁▁▁▁▁▁▁▁▁▁▁▁▁</td></tr><tr><td>val_loss</td><td>█▅▄▃▂▂▂▂▂▂▁▁▁▁▁▁▁▁▁▁▁▁▁▁▁▁▁▁▁▁▁▁▁▁▁▁▁▁▁▁</td></tr></table><br/></div><div class=\"wandb-col\"><h3>Run summary:</h3><br/><table class=\"wandb\"><tr><td>epoch</td><td>62</td></tr><tr><td>train_loss</td><td>10.41554</td></tr><tr><td>val_loss</td><td>20.49401</td></tr></table><br/></div></div>"
      ],
      "text/plain": [
       "<IPython.core.display.HTML object>"
      ]
     },
     "metadata": {},
     "output_type": "display_data"
    },
    {
     "data": {
      "text/html": [
       " View run <strong style=\"color:#cdcd00\">comic-butterfly-76</strong> at: <a href='https://wandb.ai/yixuan228-imperial-college-london/DE_Groupwork_G4_stage1/runs/2ddgpdq1' target=\"_blank\">https://wandb.ai/yixuan228-imperial-college-london/DE_Groupwork_G4_stage1/runs/2ddgpdq1</a><br> View project at: <a href='https://wandb.ai/yixuan228-imperial-college-london/DE_Groupwork_G4_stage1' target=\"_blank\">https://wandb.ai/yixuan228-imperial-college-london/DE_Groupwork_G4_stage1</a><br>Synced 5 W&B file(s), 0 media file(s), 0 artifact file(s) and 0 other file(s)"
      ],
      "text/plain": [
       "<IPython.core.display.HTML object>"
      ]
     },
     "metadata": {},
     "output_type": "display_data"
    },
    {
     "data": {
      "text/html": [
       "Find logs at: <code>.\\wandb\\run-20250321_040455-2ddgpdq1\\logs</code>"
      ],
      "text/plain": [
       "<IPython.core.display.HTML object>"
      ]
     },
     "metadata": {},
     "output_type": "display_data"
    },
    {
     "data": {
      "text/html": [
       "Tracking run with wandb version 0.19.7"
      ],
      "text/plain": [
       "<IPython.core.display.HTML object>"
      ]
     },
     "metadata": {},
     "output_type": "display_data"
    },
    {
     "data": {
      "text/html": [
       "Run data is saved locally in <code>d:\\Projects\\MSc_DE_GroupWork4\\Scripts\\wandb\\run-20250321_040510-l3thoiak</code>"
      ],
      "text/plain": [
       "<IPython.core.display.HTML object>"
      ]
     },
     "metadata": {},
     "output_type": "display_data"
    },
    {
     "data": {
      "text/html": [
       "Syncing run <strong><a href='https://wandb.ai/yixuan228-imperial-college-london/DE_Groupwork_G4_stage1/runs/l3thoiak' target=\"_blank\">cerulean-donkey-77</a></strong> to <a href='https://wandb.ai/yixuan228-imperial-college-london/DE_Groupwork_G4_stage1' target=\"_blank\">Weights & Biases</a> (<a href='https://wandb.me/developer-guide' target=\"_blank\">docs</a>)<br>"
      ],
      "text/plain": [
       "<IPython.core.display.HTML object>"
      ]
     },
     "metadata": {},
     "output_type": "display_data"
    },
    {
     "data": {
      "text/html": [
       " View project at <a href='https://wandb.ai/yixuan228-imperial-college-london/DE_Groupwork_G4_stage1' target=\"_blank\">https://wandb.ai/yixuan228-imperial-college-london/DE_Groupwork_G4_stage1</a>"
      ],
      "text/plain": [
       "<IPython.core.display.HTML object>"
      ]
     },
     "metadata": {},
     "output_type": "display_data"
    },
    {
     "data": {
      "text/html": [
       " View run at <a href='https://wandb.ai/yixuan228-imperial-college-london/DE_Groupwork_G4_stage1/runs/l3thoiak' target=\"_blank\">https://wandb.ai/yixuan228-imperial-college-london/DE_Groupwork_G4_stage1/runs/l3thoiak</a>"
      ],
      "text/plain": [
       "<IPython.core.display.HTML object>"
      ]
     },
     "metadata": {},
     "output_type": "display_data"
    },
    {
     "name": "stdout",
     "output_type": "stream",
     "text": [
      "Epoch 001 | Train Loss: 7661.2803 | Val Loss: 421.1960\n",
      "Epoch 002 | Train Loss: 252.5941 | Val Loss: 200.5984\n",
      "Epoch 003 | Train Loss: 104.9987 | Val Loss: 72.7669\n",
      "Epoch 004 | Train Loss: 50.5032 | Val Loss: 72.7586\n",
      "Epoch 005 | Train Loss: 46.0355 | Val Loss: 58.8911\n",
      "Epoch 006 | Train Loss: 44.4041 | Val Loss: 33.8628\n",
      "Epoch 007 | Train Loss: 32.1146 | Val Loss: 59.7563\n",
      "Epoch 008 | Train Loss: 31.5634 | Val Loss: 56.1780\n",
      "Epoch 009 | Train Loss: 36.1599 | Val Loss: 47.0769\n",
      "Epoch 010 | Train Loss: 49.5418 | Val Loss: 50.3529\n",
      "Epoch 011 | Train Loss: 76.2849 | Val Loss: 44.4816\n",
      "Early stopping triggered at epoch 11\n"
     ]
    },
    {
     "data": {
      "text/html": [],
      "text/plain": [
       "<IPython.core.display.HTML object>"
      ]
     },
     "metadata": {},
     "output_type": "display_data"
    },
    {
     "data": {
      "text/html": [
       "<br>    <style><br>        .wandb-row {<br>            display: flex;<br>            flex-direction: row;<br>            flex-wrap: wrap;<br>            justify-content: flex-start;<br>            width: 100%;<br>        }<br>        .wandb-col {<br>            display: flex;<br>            flex-direction: column;<br>            flex-basis: 100%;<br>            flex: 1;<br>            padding: 10px;<br>        }<br>    </style><br><div class=\"wandb-row\"><div class=\"wandb-col\"><h3>Run history:</h3><br/><table class=\"wandb\"><tr><td>epoch</td><td>▁▂▂▃▄▅▅▆▇▇█</td></tr><tr><td>train_loss</td><td>█▁▁▁▁▁▁▁▁▁▁</td></tr><tr><td>val_loss</td><td>█▄▂▂▁▁▁▁▁▁▁</td></tr></table><br/></div><div class=\"wandb-col\"><h3>Run summary:</h3><br/><table class=\"wandb\"><tr><td>epoch</td><td>11</td></tr><tr><td>train_loss</td><td>76.28493</td></tr><tr><td>val_loss</td><td>44.48161</td></tr></table><br/></div></div>"
      ],
      "text/plain": [
       "<IPython.core.display.HTML object>"
      ]
     },
     "metadata": {},
     "output_type": "display_data"
    },
    {
     "data": {
      "text/html": [
       " View run <strong style=\"color:#cdcd00\">cerulean-donkey-77</strong> at: <a href='https://wandb.ai/yixuan228-imperial-college-london/DE_Groupwork_G4_stage1/runs/l3thoiak' target=\"_blank\">https://wandb.ai/yixuan228-imperial-college-london/DE_Groupwork_G4_stage1/runs/l3thoiak</a><br> View project at: <a href='https://wandb.ai/yixuan228-imperial-college-london/DE_Groupwork_G4_stage1' target=\"_blank\">https://wandb.ai/yixuan228-imperial-college-london/DE_Groupwork_G4_stage1</a><br>Synced 5 W&B file(s), 0 media file(s), 0 artifact file(s) and 0 other file(s)"
      ],
      "text/plain": [
       "<IPython.core.display.HTML object>"
      ]
     },
     "metadata": {},
     "output_type": "display_data"
    },
    {
     "data": {
      "text/html": [
       "Find logs at: <code>.\\wandb\\run-20250321_040510-l3thoiak\\logs</code>"
      ],
      "text/plain": [
       "<IPython.core.display.HTML object>"
      ]
     },
     "metadata": {},
     "output_type": "display_data"
    },
    {
     "data": {
      "text/html": [
       "Tracking run with wandb version 0.19.7"
      ],
      "text/plain": [
       "<IPython.core.display.HTML object>"
      ]
     },
     "metadata": {},
     "output_type": "display_data"
    },
    {
     "data": {
      "text/html": [
       "Run data is saved locally in <code>d:\\Projects\\MSc_DE_GroupWork4\\Scripts\\wandb\\run-20250321_040514-5qx3yw93</code>"
      ],
      "text/plain": [
       "<IPython.core.display.HTML object>"
      ]
     },
     "metadata": {},
     "output_type": "display_data"
    },
    {
     "data": {
      "text/html": [
       "Syncing run <strong><a href='https://wandb.ai/yixuan228-imperial-college-london/DE_Groupwork_G4_stage1/runs/5qx3yw93' target=\"_blank\">fresh-planet-78</a></strong> to <a href='https://wandb.ai/yixuan228-imperial-college-london/DE_Groupwork_G4_stage1' target=\"_blank\">Weights & Biases</a> (<a href='https://wandb.me/developer-guide' target=\"_blank\">docs</a>)<br>"
      ],
      "text/plain": [
       "<IPython.core.display.HTML object>"
      ]
     },
     "metadata": {},
     "output_type": "display_data"
    },
    {
     "data": {
      "text/html": [
       " View project at <a href='https://wandb.ai/yixuan228-imperial-college-london/DE_Groupwork_G4_stage1' target=\"_blank\">https://wandb.ai/yixuan228-imperial-college-london/DE_Groupwork_G4_stage1</a>"
      ],
      "text/plain": [
       "<IPython.core.display.HTML object>"
      ]
     },
     "metadata": {},
     "output_type": "display_data"
    },
    {
     "data": {
      "text/html": [
       " View run at <a href='https://wandb.ai/yixuan228-imperial-college-london/DE_Groupwork_G4_stage1/runs/5qx3yw93' target=\"_blank\">https://wandb.ai/yixuan228-imperial-college-london/DE_Groupwork_G4_stage1/runs/5qx3yw93</a>"
      ],
      "text/plain": [
       "<IPython.core.display.HTML object>"
      ]
     },
     "metadata": {},
     "output_type": "display_data"
    },
    {
     "name": "stdout",
     "output_type": "stream",
     "text": [
      "Epoch 001 | Train Loss: 12187.4689 | Val Loss: 674.4194\n",
      "Epoch 002 | Train Loss: 474.1312 | Val Loss: 372.8130\n",
      "Epoch 003 | Train Loss: 282.3317 | Val Loss: 281.8990\n",
      "Epoch 004 | Train Loss: 196.2906 | Val Loss: 189.3943\n",
      "Epoch 005 | Train Loss: 141.3212 | Val Loss: 133.2135\n",
      "Epoch 006 | Train Loss: 100.6472 | Val Loss: 100.2555\n",
      "Epoch 007 | Train Loss: 69.2712 | Val Loss: 64.0301\n",
      "Epoch 008 | Train Loss: 46.9524 | Val Loss: 50.6763\n",
      "Epoch 009 | Train Loss: 38.3723 | Val Loss: 42.2905\n",
      "Epoch 010 | Train Loss: 28.0512 | Val Loss: 26.2330\n",
      "Epoch 011 | Train Loss: 23.0932 | Val Loss: 24.0002\n",
      "Epoch 012 | Train Loss: 21.0854 | Val Loss: 20.8053\n",
      "Epoch 013 | Train Loss: 19.4498 | Val Loss: 18.2279\n",
      "Epoch 014 | Train Loss: 18.0664 | Val Loss: 18.1469\n",
      "Epoch 015 | Train Loss: 18.1209 | Val Loss: 15.7392\n",
      "Epoch 016 | Train Loss: 16.2625 | Val Loss: 78.0135\n",
      "Epoch 017 | Train Loss: 23.2985 | Val Loss: 15.4960\n",
      "Epoch 018 | Train Loss: 17.2167 | Val Loss: 16.7810\n",
      "Epoch 019 | Train Loss: 18.9798 | Val Loss: 14.9692\n",
      "Epoch 020 | Train Loss: 14.8576 | Val Loss: 15.5449\n",
      "Epoch 021 | Train Loss: 14.5221 | Val Loss: 12.9144\n",
      "Epoch 022 | Train Loss: 12.4516 | Val Loss: 14.6254\n",
      "Epoch 023 | Train Loss: 12.5983 | Val Loss: 12.3875\n",
      "Epoch 024 | Train Loss: 12.7541 | Val Loss: 15.7166\n",
      "Epoch 025 | Train Loss: 13.9640 | Val Loss: 16.4820\n",
      "Epoch 026 | Train Loss: 13.8774 | Val Loss: 13.0599\n",
      "Epoch 027 | Train Loss: 11.3167 | Val Loss: 17.4232\n",
      "Epoch 028 | Train Loss: 14.1162 | Val Loss: 15.8806\n",
      "Early stopping triggered at epoch 28\n"
     ]
    },
    {
     "data": {
      "text/html": [],
      "text/plain": [
       "<IPython.core.display.HTML object>"
      ]
     },
     "metadata": {},
     "output_type": "display_data"
    },
    {
     "data": {
      "text/html": [
       "<br>    <style><br>        .wandb-row {<br>            display: flex;<br>            flex-direction: row;<br>            flex-wrap: wrap;<br>            justify-content: flex-start;<br>            width: 100%;<br>        }<br>        .wandb-col {<br>            display: flex;<br>            flex-direction: column;<br>            flex-basis: 100%;<br>            flex: 1;<br>            padding: 10px;<br>        }<br>    </style><br><div class=\"wandb-row\"><div class=\"wandb-col\"><h3>Run history:</h3><br/><table class=\"wandb\"><tr><td>epoch</td><td>▁▁▂▂▂▂▃▃▃▃▄▄▄▄▅▅▅▅▆▆▆▆▇▇▇▇██</td></tr><tr><td>train_loss</td><td>█▁▁▁▁▁▁▁▁▁▁▁▁▁▁▁▁▁▁▁▁▁▁▁▁▁▁▁</td></tr><tr><td>val_loss</td><td>█▅▄▃▂▂▂▁▁▁▁▁▁▁▁▂▁▁▁▁▁▁▁▁▁▁▁▁</td></tr></table><br/></div><div class=\"wandb-col\"><h3>Run summary:</h3><br/><table class=\"wandb\"><tr><td>epoch</td><td>28</td></tr><tr><td>train_loss</td><td>14.11619</td></tr><tr><td>val_loss</td><td>15.8806</td></tr></table><br/></div></div>"
      ],
      "text/plain": [
       "<IPython.core.display.HTML object>"
      ]
     },
     "metadata": {},
     "output_type": "display_data"
    },
    {
     "data": {
      "text/html": [
       " View run <strong style=\"color:#cdcd00\">fresh-planet-78</strong> at: <a href='https://wandb.ai/yixuan228-imperial-college-london/DE_Groupwork_G4_stage1/runs/5qx3yw93' target=\"_blank\">https://wandb.ai/yixuan228-imperial-college-london/DE_Groupwork_G4_stage1/runs/5qx3yw93</a><br> View project at: <a href='https://wandb.ai/yixuan228-imperial-college-london/DE_Groupwork_G4_stage1' target=\"_blank\">https://wandb.ai/yixuan228-imperial-college-london/DE_Groupwork_G4_stage1</a><br>Synced 5 W&B file(s), 0 media file(s), 0 artifact file(s) and 0 other file(s)"
      ],
      "text/plain": [
       "<IPython.core.display.HTML object>"
      ]
     },
     "metadata": {},
     "output_type": "display_data"
    },
    {
     "data": {
      "text/html": [
       "Find logs at: <code>.\\wandb\\run-20250321_040514-5qx3yw93\\logs</code>"
      ],
      "text/plain": [
       "<IPython.core.display.HTML object>"
      ]
     },
     "metadata": {},
     "output_type": "display_data"
    },
    {
     "data": {
      "text/html": [
       "Tracking run with wandb version 0.19.7"
      ],
      "text/plain": [
       "<IPython.core.display.HTML object>"
      ]
     },
     "metadata": {},
     "output_type": "display_data"
    },
    {
     "data": {
      "text/html": [
       "Run data is saved locally in <code>d:\\Projects\\MSc_DE_GroupWork4\\Scripts\\wandb\\run-20250321_040522-1qdp7x15</code>"
      ],
      "text/plain": [
       "<IPython.core.display.HTML object>"
      ]
     },
     "metadata": {},
     "output_type": "display_data"
    },
    {
     "data": {
      "text/html": [
       "Syncing run <strong><a href='https://wandb.ai/yixuan228-imperial-college-london/DE_Groupwork_G4_stage1/runs/1qdp7x15' target=\"_blank\">warm-sunset-79</a></strong> to <a href='https://wandb.ai/yixuan228-imperial-college-london/DE_Groupwork_G4_stage1' target=\"_blank\">Weights & Biases</a> (<a href='https://wandb.me/developer-guide' target=\"_blank\">docs</a>)<br>"
      ],
      "text/plain": [
       "<IPython.core.display.HTML object>"
      ]
     },
     "metadata": {},
     "output_type": "display_data"
    },
    {
     "data": {
      "text/html": [
       " View project at <a href='https://wandb.ai/yixuan228-imperial-college-london/DE_Groupwork_G4_stage1' target=\"_blank\">https://wandb.ai/yixuan228-imperial-college-london/DE_Groupwork_G4_stage1</a>"
      ],
      "text/plain": [
       "<IPython.core.display.HTML object>"
      ]
     },
     "metadata": {},
     "output_type": "display_data"
    },
    {
     "data": {
      "text/html": [
       " View run at <a href='https://wandb.ai/yixuan228-imperial-college-london/DE_Groupwork_G4_stage1/runs/1qdp7x15' target=\"_blank\">https://wandb.ai/yixuan228-imperial-college-london/DE_Groupwork_G4_stage1/runs/1qdp7x15</a>"
      ],
      "text/plain": [
       "<IPython.core.display.HTML object>"
      ]
     },
     "metadata": {},
     "output_type": "display_data"
    },
    {
     "name": "stdout",
     "output_type": "stream",
     "text": [
      "Epoch 001 | Train Loss: 56944.0814 | Val Loss: 28872.8298\n",
      "Epoch 002 | Train Loss: 8493.1504 | Val Loss: 2550.2704\n",
      "Epoch 003 | Train Loss: 1706.8615 | Val Loss: 1205.9758\n",
      "Epoch 004 | Train Loss: 969.8284 | Val Loss: 864.9006\n",
      "Epoch 005 | Train Loss: 745.4855 | Val Loss: 713.2249\n",
      "Epoch 006 | Train Loss: 624.2452 | Val Loss: 616.3795\n",
      "Epoch 007 | Train Loss: 539.0249 | Val Loss: 543.2368\n",
      "Epoch 008 | Train Loss: 473.0601 | Val Loss: 481.3310\n",
      "Epoch 009 | Train Loss: 418.9061 | Val Loss: 431.0381\n",
      "Epoch 010 | Train Loss: 373.6372 | Val Loss: 389.6543\n",
      "Epoch 011 | Train Loss: 335.4556 | Val Loss: 357.5191\n",
      "Epoch 012 | Train Loss: 303.6810 | Val Loss: 323.6261\n",
      "Epoch 013 | Train Loss: 278.8826 | Val Loss: 298.0927\n",
      "Epoch 014 | Train Loss: 253.9339 | Val Loss: 275.2085\n",
      "Epoch 015 | Train Loss: 235.4255 | Val Loss: 255.3752\n",
      "Epoch 016 | Train Loss: 214.5693 | Val Loss: 236.4063\n",
      "Epoch 017 | Train Loss: 198.3442 | Val Loss: 217.1999\n",
      "Epoch 018 | Train Loss: 183.5721 | Val Loss: 201.2355\n",
      "Epoch 019 | Train Loss: 169.7761 | Val Loss: 185.3857\n",
      "Epoch 020 | Train Loss: 156.7551 | Val Loss: 175.1038\n",
      "Epoch 021 | Train Loss: 143.9429 | Val Loss: 157.8673\n",
      "Epoch 022 | Train Loss: 133.5560 | Val Loss: 144.8843\n",
      "Epoch 023 | Train Loss: 122.0012 | Val Loss: 134.5753\n",
      "Epoch 024 | Train Loss: 111.5817 | Val Loss: 120.2734\n",
      "Epoch 025 | Train Loss: 101.1790 | Val Loss: 110.4474\n",
      "Epoch 026 | Train Loss: 92.9366 | Val Loss: 98.9593\n",
      "Epoch 027 | Train Loss: 83.6741 | Val Loss: 88.8363\n",
      "Epoch 028 | Train Loss: 75.8077 | Val Loss: 80.3075\n",
      "Epoch 029 | Train Loss: 68.1241 | Val Loss: 71.6706\n",
      "Epoch 030 | Train Loss: 61.4797 | Val Loss: 63.5664\n",
      "Epoch 031 | Train Loss: 55.3652 | Val Loss: 57.0162\n",
      "Epoch 032 | Train Loss: 50.2096 | Val Loss: 54.0338\n",
      "Epoch 033 | Train Loss: 45.3149 | Val Loss: 45.8292\n",
      "Epoch 034 | Train Loss: 41.5303 | Val Loss: 41.3076\n",
      "Epoch 035 | Train Loss: 37.3062 | Val Loss: 36.9688\n",
      "Epoch 036 | Train Loss: 34.4712 | Val Loss: 33.8129\n",
      "Epoch 037 | Train Loss: 31.9010 | Val Loss: 31.6829\n",
      "Epoch 038 | Train Loss: 29.5421 | Val Loss: 28.8352\n",
      "Epoch 039 | Train Loss: 27.5972 | Val Loss: 28.1335\n",
      "Epoch 040 | Train Loss: 26.0467 | Val Loss: 25.1886\n",
      "Epoch 041 | Train Loss: 24.9278 | Val Loss: 24.5528\n",
      "Epoch 042 | Train Loss: 23.5975 | Val Loss: 22.9949\n",
      "Epoch 043 | Train Loss: 22.4790 | Val Loss: 21.6560\n",
      "Epoch 044 | Train Loss: 22.0383 | Val Loss: 20.8946\n",
      "Epoch 045 | Train Loss: 20.8248 | Val Loss: 21.4669\n",
      "Epoch 046 | Train Loss: 19.9690 | Val Loss: 21.7783\n",
      "Epoch 047 | Train Loss: 20.5198 | Val Loss: 18.3761\n",
      "Epoch 048 | Train Loss: 18.2851 | Val Loss: 17.9834\n",
      "Epoch 049 | Train Loss: 18.2980 | Val Loss: 17.2288\n",
      "Epoch 050 | Train Loss: 18.1737 | Val Loss: 16.5949\n",
      "Epoch 051 | Train Loss: 16.7687 | Val Loss: 18.9948\n",
      "Epoch 052 | Train Loss: 16.6832 | Val Loss: 17.0857\n",
      "Epoch 053 | Train Loss: 16.3881 | Val Loss: 15.5140\n",
      "Epoch 054 | Train Loss: 15.9143 | Val Loss: 15.1129\n",
      "Epoch 055 | Train Loss: 14.7939 | Val Loss: 15.5341\n",
      "Epoch 056 | Train Loss: 14.4971 | Val Loss: 15.3269\n",
      "Epoch 057 | Train Loss: 14.0735 | Val Loss: 15.6421\n",
      "Epoch 058 | Train Loss: 14.2586 | Val Loss: 22.4420\n",
      "Epoch 059 | Train Loss: 17.5193 | Val Loss: 13.9716\n",
      "Epoch 060 | Train Loss: 13.1654 | Val Loss: 15.9286\n",
      "Epoch 061 | Train Loss: 13.1016 | Val Loss: 14.0503\n",
      "Epoch 062 | Train Loss: 12.8725 | Val Loss: 16.2475\n",
      "Epoch 063 | Train Loss: 12.9669 | Val Loss: 13.4942\n",
      "Epoch 064 | Train Loss: 12.7655 | Val Loss: 13.2192\n",
      "Epoch 065 | Train Loss: 12.0198 | Val Loss: 15.1228\n",
      "Epoch 066 | Train Loss: 12.5187 | Val Loss: 12.1348\n",
      "Epoch 067 | Train Loss: 11.6124 | Val Loss: 14.5746\n",
      "Epoch 068 | Train Loss: 11.6257 | Val Loss: 11.8437\n",
      "Epoch 069 | Train Loss: 11.2113 | Val Loss: 12.3435\n",
      "Epoch 070 | Train Loss: 11.2830 | Val Loss: 11.6360\n",
      "Epoch 071 | Train Loss: 10.7443 | Val Loss: 14.6722\n",
      "Epoch 072 | Train Loss: 12.0309 | Val Loss: 11.5442\n",
      "Epoch 073 | Train Loss: 10.7147 | Val Loss: 11.3644\n",
      "Epoch 074 | Train Loss: 10.1424 | Val Loss: 11.4522\n",
      "Epoch 075 | Train Loss: 10.3445 | Val Loss: 16.2516\n",
      "Epoch 076 | Train Loss: 10.6952 | Val Loss: 10.8590\n",
      "Epoch 077 | Train Loss: 9.9097 | Val Loss: 11.1730\n",
      "Epoch 078 | Train Loss: 9.9427 | Val Loss: 10.9142\n",
      "Epoch 079 | Train Loss: 9.6159 | Val Loss: 10.3753\n",
      "Epoch 080 | Train Loss: 9.3042 | Val Loss: 10.1623\n",
      "Epoch 081 | Train Loss: 9.5974 | Val Loss: 10.5395\n",
      "Epoch 082 | Train Loss: 9.5643 | Val Loss: 10.0493\n",
      "Epoch 083 | Train Loss: 9.4573 | Val Loss: 9.8060\n",
      "Epoch 084 | Train Loss: 9.0306 | Val Loss: 12.0145\n",
      "Epoch 085 | Train Loss: 9.6821 | Val Loss: 10.4214\n",
      "Epoch 086 | Train Loss: 8.6843 | Val Loss: 10.8014\n",
      "Epoch 087 | Train Loss: 9.2165 | Val Loss: 11.7083\n",
      "Epoch 088 | Train Loss: 9.4435 | Val Loss: 10.2412\n",
      "Early stopping triggered at epoch 88\n"
     ]
    },
    {
     "data": {
      "text/html": [],
      "text/plain": [
       "<IPython.core.display.HTML object>"
      ]
     },
     "metadata": {},
     "output_type": "display_data"
    },
    {
     "data": {
      "text/html": [
       "<br>    <style><br>        .wandb-row {<br>            display: flex;<br>            flex-direction: row;<br>            flex-wrap: wrap;<br>            justify-content: flex-start;<br>            width: 100%;<br>        }<br>        .wandb-col {<br>            display: flex;<br>            flex-direction: column;<br>            flex-basis: 100%;<br>            flex: 1;<br>            padding: 10px;<br>        }<br>    </style><br><div class=\"wandb-row\"><div class=\"wandb-col\"><h3>Run history:</h3><br/><table class=\"wandb\"><tr><td>epoch</td><td>▁▁▁▁▂▂▂▂▂▃▃▃▃▃▄▄▄▄▄▄▅▅▅▅▅▅▆▆▆▆▇▇▇▇▇▇▇▇██</td></tr><tr><td>train_loss</td><td>█▅▃▃▂▂▂▂▂▂▁▁▁▁▁▁▁▁▁▁▁▁▁▁▁▁▁▁▁▁▁▁▁▁▁▁▁▁▁▁</td></tr><tr><td>val_loss</td><td>█▂▁▁▁▁▁▁▁▁▁▁▁▁▁▁▁▁▁▁▁▁▁▁▁▁▁▁▁▁▁▁▁▁▁▁▁▁▁▁</td></tr></table><br/></div><div class=\"wandb-col\"><h3>Run summary:</h3><br/><table class=\"wandb\"><tr><td>epoch</td><td>88</td></tr><tr><td>train_loss</td><td>9.4435</td></tr><tr><td>val_loss</td><td>10.24125</td></tr></table><br/></div></div>"
      ],
      "text/plain": [
       "<IPython.core.display.HTML object>"
      ]
     },
     "metadata": {},
     "output_type": "display_data"
    },
    {
     "data": {
      "text/html": [
       " View run <strong style=\"color:#cdcd00\">warm-sunset-79</strong> at: <a href='https://wandb.ai/yixuan228-imperial-college-london/DE_Groupwork_G4_stage1/runs/1qdp7x15' target=\"_blank\">https://wandb.ai/yixuan228-imperial-college-london/DE_Groupwork_G4_stage1/runs/1qdp7x15</a><br> View project at: <a href='https://wandb.ai/yixuan228-imperial-college-london/DE_Groupwork_G4_stage1' target=\"_blank\">https://wandb.ai/yixuan228-imperial-college-london/DE_Groupwork_G4_stage1</a><br>Synced 5 W&B file(s), 0 media file(s), 0 artifact file(s) and 0 other file(s)"
      ],
      "text/plain": [
       "<IPython.core.display.HTML object>"
      ]
     },
     "metadata": {},
     "output_type": "display_data"
    },
    {
     "data": {
      "text/html": [
       "Find logs at: <code>.\\wandb\\run-20250321_040522-1qdp7x15\\logs</code>"
      ],
      "text/plain": [
       "<IPython.core.display.HTML object>"
      ]
     },
     "metadata": {},
     "output_type": "display_data"
    },
    {
     "data": {
      "text/html": [
       "Tracking run with wandb version 0.19.7"
      ],
      "text/plain": [
       "<IPython.core.display.HTML object>"
      ]
     },
     "metadata": {},
     "output_type": "display_data"
    },
    {
     "data": {
      "text/html": [
       "Run data is saved locally in <code>d:\\Projects\\MSc_DE_GroupWork4\\Scripts\\wandb\\run-20250321_040539-udfy95rv</code>"
      ],
      "text/plain": [
       "<IPython.core.display.HTML object>"
      ]
     },
     "metadata": {},
     "output_type": "display_data"
    },
    {
     "data": {
      "text/html": [
       "Syncing run <strong><a href='https://wandb.ai/yixuan228-imperial-college-london/DE_Groupwork_G4_stage1/runs/udfy95rv' target=\"_blank\">drawn-flower-80</a></strong> to <a href='https://wandb.ai/yixuan228-imperial-college-london/DE_Groupwork_G4_stage1' target=\"_blank\">Weights & Biases</a> (<a href='https://wandb.me/developer-guide' target=\"_blank\">docs</a>)<br>"
      ],
      "text/plain": [
       "<IPython.core.display.HTML object>"
      ]
     },
     "metadata": {},
     "output_type": "display_data"
    },
    {
     "data": {
      "text/html": [
       " View project at <a href='https://wandb.ai/yixuan228-imperial-college-london/DE_Groupwork_G4_stage1' target=\"_blank\">https://wandb.ai/yixuan228-imperial-college-london/DE_Groupwork_G4_stage1</a>"
      ],
      "text/plain": [
       "<IPython.core.display.HTML object>"
      ]
     },
     "metadata": {},
     "output_type": "display_data"
    },
    {
     "data": {
      "text/html": [
       " View run at <a href='https://wandb.ai/yixuan228-imperial-college-london/DE_Groupwork_G4_stage1/runs/udfy95rv' target=\"_blank\">https://wandb.ai/yixuan228-imperial-college-london/DE_Groupwork_G4_stage1/runs/udfy95rv</a>"
      ],
      "text/plain": [
       "<IPython.core.display.HTML object>"
      ]
     },
     "metadata": {},
     "output_type": "display_data"
    },
    {
     "name": "stdout",
     "output_type": "stream",
     "text": [
      "Epoch 001 | Train Loss: 46655.4079 | Val Loss: 3516.6560\n",
      "Epoch 002 | Train Loss: 1199.5471 | Val Loss: 310.2234\n",
      "Epoch 003 | Train Loss: 218.1894 | Val Loss: 526.3041\n",
      "Epoch 004 | Train Loss: 302.8110 | Val Loss: 210.5799\n",
      "Epoch 005 | Train Loss: 190.9613 | Val Loss: 359.2078\n",
      "Epoch 006 | Train Loss: 166.8070 | Val Loss: 206.8296\n",
      "Epoch 007 | Train Loss: 171.2676 | Val Loss: 195.2377\n",
      "Epoch 008 | Train Loss: 193.3165 | Val Loss: 209.7175\n",
      "Epoch 009 | Train Loss: 172.9283 | Val Loss: 166.5449\n",
      "Epoch 010 | Train Loss: 140.8659 | Val Loss: 124.2826\n",
      "Epoch 011 | Train Loss: 107.8280 | Val Loss: 117.1254\n",
      "Epoch 012 | Train Loss: 81.1414 | Val Loss: 87.1326\n",
      "Epoch 013 | Train Loss: 74.2389 | Val Loss: 94.6534\n",
      "Epoch 014 | Train Loss: 83.9930 | Val Loss: 93.2621\n",
      "Epoch 015 | Train Loss: 149.7106 | Val Loss: 58.8364\n",
      "Epoch 016 | Train Loss: 62.7769 | Val Loss: 140.7675\n",
      "Epoch 017 | Train Loss: 88.5535 | Val Loss: 66.2970\n",
      "Epoch 018 | Train Loss: 53.6821 | Val Loss: 38.5333\n",
      "Epoch 019 | Train Loss: 32.2403 | Val Loss: 69.6508\n",
      "Epoch 020 | Train Loss: 122.3004 | Val Loss: 168.6978\n",
      "Epoch 021 | Train Loss: 53.8532 | Val Loss: 41.4060\n",
      "Epoch 022 | Train Loss: 40.7830 | Val Loss: 32.7240\n",
      "Epoch 023 | Train Loss: 32.2663 | Val Loss: 101.1670\n",
      "Epoch 024 | Train Loss: 32.5226 | Val Loss: 26.8476\n",
      "Epoch 025 | Train Loss: 47.5238 | Val Loss: 85.1971\n",
      "Epoch 026 | Train Loss: 47.5640 | Val Loss: 26.3713\n",
      "Epoch 027 | Train Loss: 41.6228 | Val Loss: 323.3823\n",
      "Epoch 028 | Train Loss: 77.7190 | Val Loss: 23.3112\n",
      "Epoch 029 | Train Loss: 23.3157 | Val Loss: 18.1237\n",
      "Epoch 030 | Train Loss: 28.7208 | Val Loss: 87.6809\n",
      "Epoch 031 | Train Loss: 26.2794 | Val Loss: 20.3955\n",
      "Epoch 032 | Train Loss: 23.2710 | Val Loss: 17.8937\n",
      "Epoch 033 | Train Loss: 27.3258 | Val Loss: 53.5427\n",
      "Epoch 034 | Train Loss: 24.4858 | Val Loss: 42.9536\n",
      "Epoch 035 | Train Loss: 22.4316 | Val Loss: 25.4963\n",
      "Epoch 036 | Train Loss: 42.9968 | Val Loss: 76.0531\n",
      "Epoch 037 | Train Loss: 20.5622 | Val Loss: 22.7668\n",
      "Early stopping triggered at epoch 37\n"
     ]
    },
    {
     "data": {
      "text/html": [],
      "text/plain": [
       "<IPython.core.display.HTML object>"
      ]
     },
     "metadata": {},
     "output_type": "display_data"
    },
    {
     "data": {
      "text/html": [
       "<br>    <style><br>        .wandb-row {<br>            display: flex;<br>            flex-direction: row;<br>            flex-wrap: wrap;<br>            justify-content: flex-start;<br>            width: 100%;<br>        }<br>        .wandb-col {<br>            display: flex;<br>            flex-direction: column;<br>            flex-basis: 100%;<br>            flex: 1;<br>            padding: 10px;<br>        }<br>    </style><br><div class=\"wandb-row\"><div class=\"wandb-col\"><h3>Run history:</h3><br/><table class=\"wandb\"><tr><td>epoch</td><td>▁▁▁▂▂▂▂▂▃▃▃▃▃▄▄▄▄▄▅▅▅▅▅▅▆▆▆▆▆▇▇▇▇▇███</td></tr><tr><td>train_loss</td><td>█▁▁▁▁▁▁▁▁▁▁▁▁▁▁▁▁▁▁▁▁▁▁▁▁▁▁▁▁▁▁▁▁▁▁▁▁</td></tr><tr><td>val_loss</td><td>█▂▂▁▂▁▁▁▁▁▁▁▁▁▁▁▁▁▁▁▁▁▁▁▁▁▂▁▁▁▁▁▁▁▁▁▁</td></tr></table><br/></div><div class=\"wandb-col\"><h3>Run summary:</h3><br/><table class=\"wandb\"><tr><td>epoch</td><td>37</td></tr><tr><td>train_loss</td><td>20.56222</td></tr><tr><td>val_loss</td><td>22.76683</td></tr></table><br/></div></div>"
      ],
      "text/plain": [
       "<IPython.core.display.HTML object>"
      ]
     },
     "metadata": {},
     "output_type": "display_data"
    },
    {
     "data": {
      "text/html": [
       " View run <strong style=\"color:#cdcd00\">drawn-flower-80</strong> at: <a href='https://wandb.ai/yixuan228-imperial-college-london/DE_Groupwork_G4_stage1/runs/udfy95rv' target=\"_blank\">https://wandb.ai/yixuan228-imperial-college-london/DE_Groupwork_G4_stage1/runs/udfy95rv</a><br> View project at: <a href='https://wandb.ai/yixuan228-imperial-college-london/DE_Groupwork_G4_stage1' target=\"_blank\">https://wandb.ai/yixuan228-imperial-college-london/DE_Groupwork_G4_stage1</a><br>Synced 5 W&B file(s), 0 media file(s), 0 artifact file(s) and 0 other file(s)"
      ],
      "text/plain": [
       "<IPython.core.display.HTML object>"
      ]
     },
     "metadata": {},
     "output_type": "display_data"
    },
    {
     "data": {
      "text/html": [
       "Find logs at: <code>.\\wandb\\run-20250321_040539-udfy95rv\\logs</code>"
      ],
      "text/plain": [
       "<IPython.core.display.HTML object>"
      ]
     },
     "metadata": {},
     "output_type": "display_data"
    },
    {
     "data": {
      "text/html": [
       "Tracking run with wandb version 0.19.7"
      ],
      "text/plain": [
       "<IPython.core.display.HTML object>"
      ]
     },
     "metadata": {},
     "output_type": "display_data"
    },
    {
     "data": {
      "text/html": [
       "Run data is saved locally in <code>d:\\Projects\\MSc_DE_GroupWork4\\Scripts\\wandb\\run-20250321_040549-53olz4ny</code>"
      ],
      "text/plain": [
       "<IPython.core.display.HTML object>"
      ]
     },
     "metadata": {},
     "output_type": "display_data"
    },
    {
     "data": {
      "text/html": [
       "Syncing run <strong><a href='https://wandb.ai/yixuan228-imperial-college-london/DE_Groupwork_G4_stage1/runs/53olz4ny' target=\"_blank\">devout-totem-81</a></strong> to <a href='https://wandb.ai/yixuan228-imperial-college-london/DE_Groupwork_G4_stage1' target=\"_blank\">Weights & Biases</a> (<a href='https://wandb.me/developer-guide' target=\"_blank\">docs</a>)<br>"
      ],
      "text/plain": [
       "<IPython.core.display.HTML object>"
      ]
     },
     "metadata": {},
     "output_type": "display_data"
    },
    {
     "data": {
      "text/html": [
       " View project at <a href='https://wandb.ai/yixuan228-imperial-college-london/DE_Groupwork_G4_stage1' target=\"_blank\">https://wandb.ai/yixuan228-imperial-college-london/DE_Groupwork_G4_stage1</a>"
      ],
      "text/plain": [
       "<IPython.core.display.HTML object>"
      ]
     },
     "metadata": {},
     "output_type": "display_data"
    },
    {
     "data": {
      "text/html": [
       " View run at <a href='https://wandb.ai/yixuan228-imperial-college-london/DE_Groupwork_G4_stage1/runs/53olz4ny' target=\"_blank\">https://wandb.ai/yixuan228-imperial-college-london/DE_Groupwork_G4_stage1/runs/53olz4ny</a>"
      ],
      "text/plain": [
       "<IPython.core.display.HTML object>"
      ]
     },
     "metadata": {},
     "output_type": "display_data"
    },
    {
     "name": "stdout",
     "output_type": "stream",
     "text": [
      "Epoch 001 | Train Loss: 7478.6936 | Val Loss: 421.0609\n",
      "Epoch 002 | Train Loss: 267.5025 | Val Loss: 226.9743\n",
      "Epoch 003 | Train Loss: 148.3500 | Val Loss: 289.7506\n",
      "Epoch 004 | Train Loss: 113.3220 | Val Loss: 56.3070\n",
      "Epoch 005 | Train Loss: 45.7014 | Val Loss: 32.3726\n",
      "Epoch 006 | Train Loss: 30.7956 | Val Loss: 39.3034\n",
      "Epoch 007 | Train Loss: 28.3445 | Val Loss: 28.7739\n",
      "Epoch 008 | Train Loss: 22.6096 | Val Loss: 17.5219\n",
      "Epoch 009 | Train Loss: 19.7765 | Val Loss: 20.2938\n",
      "Epoch 010 | Train Loss: 18.9674 | Val Loss: 33.2114\n",
      "Epoch 011 | Train Loss: 23.6931 | Val Loss: 22.9942\n",
      "Epoch 012 | Train Loss: 17.3209 | Val Loss: 33.8416\n",
      "Epoch 013 | Train Loss: 20.3829 | Val Loss: 20.5565\n",
      "Early stopping triggered at epoch 13\n"
     ]
    },
    {
     "data": {
      "text/html": [],
      "text/plain": [
       "<IPython.core.display.HTML object>"
      ]
     },
     "metadata": {},
     "output_type": "display_data"
    },
    {
     "data": {
      "text/html": [
       "<br>    <style><br>        .wandb-row {<br>            display: flex;<br>            flex-direction: row;<br>            flex-wrap: wrap;<br>            justify-content: flex-start;<br>            width: 100%;<br>        }<br>        .wandb-col {<br>            display: flex;<br>            flex-direction: column;<br>            flex-basis: 100%;<br>            flex: 1;<br>            padding: 10px;<br>        }<br>    </style><br><div class=\"wandb-row\"><div class=\"wandb-col\"><h3>Run history:</h3><br/><table class=\"wandb\"><tr><td>epoch</td><td>▁▂▂▃▃▄▅▅▆▆▇▇█</td></tr><tr><td>train_loss</td><td>█▁▁▁▁▁▁▁▁▁▁▁▁</td></tr><tr><td>val_loss</td><td>█▅▆▂▁▁▁▁▁▁▁▁▁</td></tr></table><br/></div><div class=\"wandb-col\"><h3>Run summary:</h3><br/><table class=\"wandb\"><tr><td>epoch</td><td>13</td></tr><tr><td>train_loss</td><td>20.38286</td></tr><tr><td>val_loss</td><td>20.55649</td></tr></table><br/></div></div>"
      ],
      "text/plain": [
       "<IPython.core.display.HTML object>"
      ]
     },
     "metadata": {},
     "output_type": "display_data"
    },
    {
     "data": {
      "text/html": [
       " View run <strong style=\"color:#cdcd00\">devout-totem-81</strong> at: <a href='https://wandb.ai/yixuan228-imperial-college-london/DE_Groupwork_G4_stage1/runs/53olz4ny' target=\"_blank\">https://wandb.ai/yixuan228-imperial-college-london/DE_Groupwork_G4_stage1/runs/53olz4ny</a><br> View project at: <a href='https://wandb.ai/yixuan228-imperial-college-london/DE_Groupwork_G4_stage1' target=\"_blank\">https://wandb.ai/yixuan228-imperial-college-london/DE_Groupwork_G4_stage1</a><br>Synced 5 W&B file(s), 0 media file(s), 0 artifact file(s) and 0 other file(s)"
      ],
      "text/plain": [
       "<IPython.core.display.HTML object>"
      ]
     },
     "metadata": {},
     "output_type": "display_data"
    },
    {
     "data": {
      "text/html": [
       "Find logs at: <code>.\\wandb\\run-20250321_040549-53olz4ny\\logs</code>"
      ],
      "text/plain": [
       "<IPython.core.display.HTML object>"
      ]
     },
     "metadata": {},
     "output_type": "display_data"
    },
    {
     "data": {
      "text/html": [
       "Tracking run with wandb version 0.19.7"
      ],
      "text/plain": [
       "<IPython.core.display.HTML object>"
      ]
     },
     "metadata": {},
     "output_type": "display_data"
    },
    {
     "data": {
      "text/html": [
       "Run data is saved locally in <code>d:\\Projects\\MSc_DE_GroupWork4\\Scripts\\wandb\\run-20250321_040553-syld8f5m</code>"
      ],
      "text/plain": [
       "<IPython.core.display.HTML object>"
      ]
     },
     "metadata": {},
     "output_type": "display_data"
    },
    {
     "data": {
      "text/html": [
       "Syncing run <strong><a href='https://wandb.ai/yixuan228-imperial-college-london/DE_Groupwork_G4_stage1/runs/syld8f5m' target=\"_blank\">earnest-firebrand-82</a></strong> to <a href='https://wandb.ai/yixuan228-imperial-college-london/DE_Groupwork_G4_stage1' target=\"_blank\">Weights & Biases</a> (<a href='https://wandb.me/developer-guide' target=\"_blank\">docs</a>)<br>"
      ],
      "text/plain": [
       "<IPython.core.display.HTML object>"
      ]
     },
     "metadata": {},
     "output_type": "display_data"
    },
    {
     "data": {
      "text/html": [
       " View project at <a href='https://wandb.ai/yixuan228-imperial-college-london/DE_Groupwork_G4_stage1' target=\"_blank\">https://wandb.ai/yixuan228-imperial-college-london/DE_Groupwork_G4_stage1</a>"
      ],
      "text/plain": [
       "<IPython.core.display.HTML object>"
      ]
     },
     "metadata": {},
     "output_type": "display_data"
    },
    {
     "data": {
      "text/html": [
       " View run at <a href='https://wandb.ai/yixuan228-imperial-college-london/DE_Groupwork_G4_stage1/runs/syld8f5m' target=\"_blank\">https://wandb.ai/yixuan228-imperial-college-london/DE_Groupwork_G4_stage1/runs/syld8f5m</a>"
      ],
      "text/plain": [
       "<IPython.core.display.HTML object>"
      ]
     },
     "metadata": {},
     "output_type": "display_data"
    },
    {
     "name": "stdout",
     "output_type": "stream",
     "text": [
      "Epoch 001 | Train Loss: 37939.1887 | Val Loss: 3429.4034\n",
      "Epoch 002 | Train Loss: 1588.3125 | Val Loss: 800.2387\n",
      "Epoch 003 | Train Loss: 599.6315 | Val Loss: 524.0913\n",
      "Epoch 004 | Train Loss: 421.5960 | Val Loss: 409.0153\n",
      "Epoch 005 | Train Loss: 333.6252 | Val Loss: 331.0509\n",
      "Epoch 006 | Train Loss: 270.8779 | Val Loss: 279.3471\n",
      "Epoch 007 | Train Loss: 227.5858 | Val Loss: 236.2168\n",
      "Epoch 008 | Train Loss: 193.3677 | Val Loss: 202.5065\n",
      "Epoch 009 | Train Loss: 166.6554 | Val Loss: 176.2466\n",
      "Epoch 010 | Train Loss: 143.5818 | Val Loss: 153.7396\n",
      "Epoch 011 | Train Loss: 124.5130 | Val Loss: 130.0958\n",
      "Epoch 012 | Train Loss: 106.1955 | Val Loss: 111.3487\n",
      "Epoch 013 | Train Loss: 89.4500 | Val Loss: 95.3780\n",
      "Epoch 014 | Train Loss: 75.9803 | Val Loss: 77.8224\n",
      "Epoch 015 | Train Loss: 64.2514 | Val Loss: 65.7782\n",
      "Epoch 016 | Train Loss: 54.9455 | Val Loss: 54.7826\n",
      "Epoch 017 | Train Loss: 45.4643 | Val Loss: 45.1521\n",
      "Epoch 018 | Train Loss: 39.1461 | Val Loss: 37.8729\n",
      "Epoch 019 | Train Loss: 34.0671 | Val Loss: 32.8546\n",
      "Epoch 020 | Train Loss: 29.5110 | Val Loss: 28.8255\n",
      "Epoch 021 | Train Loss: 26.2161 | Val Loss: 26.2056\n",
      "Epoch 022 | Train Loss: 24.2921 | Val Loss: 25.2967\n",
      "Epoch 023 | Train Loss: 22.0658 | Val Loss: 21.4529\n",
      "Epoch 024 | Train Loss: 20.9201 | Val Loss: 19.4681\n",
      "Epoch 025 | Train Loss: 18.7609 | Val Loss: 19.2829\n",
      "Epoch 026 | Train Loss: 19.5330 | Val Loss: 19.6951\n",
      "Epoch 027 | Train Loss: 17.3657 | Val Loss: 17.2681\n",
      "Epoch 028 | Train Loss: 16.1056 | Val Loss: 19.6786\n",
      "Epoch 029 | Train Loss: 15.3594 | Val Loss: 17.9342\n",
      "Epoch 030 | Train Loss: 16.9573 | Val Loss: 17.1513\n",
      "Epoch 031 | Train Loss: 14.0237 | Val Loss: 16.9405\n",
      "Epoch 032 | Train Loss: 14.3080 | Val Loss: 14.1924\n",
      "Epoch 033 | Train Loss: 13.2469 | Val Loss: 13.7737\n",
      "Epoch 034 | Train Loss: 12.8965 | Val Loss: 13.3049\n",
      "Epoch 035 | Train Loss: 12.5470 | Val Loss: 14.0404\n",
      "Epoch 036 | Train Loss: 12.5898 | Val Loss: 12.5916\n",
      "Epoch 037 | Train Loss: 12.0628 | Val Loss: 14.4296\n",
      "Epoch 038 | Train Loss: 11.5987 | Val Loss: 12.1809\n",
      "Epoch 039 | Train Loss: 10.8729 | Val Loss: 11.8820\n",
      "Epoch 040 | Train Loss: 10.8891 | Val Loss: 13.2863\n",
      "Epoch 041 | Train Loss: 10.6359 | Val Loss: 12.2215\n",
      "Epoch 042 | Train Loss: 10.5605 | Val Loss: 13.1123\n",
      "Epoch 043 | Train Loss: 10.1283 | Val Loss: 11.3448\n",
      "Epoch 044 | Train Loss: 10.0856 | Val Loss: 10.7224\n",
      "Epoch 045 | Train Loss: 9.5497 | Val Loss: 11.1270\n",
      "Epoch 046 | Train Loss: 10.0387 | Val Loss: 11.4498\n",
      "Epoch 047 | Train Loss: 9.4383 | Val Loss: 10.2936\n",
      "Epoch 048 | Train Loss: 9.5849 | Val Loss: 11.6902\n",
      "Epoch 049 | Train Loss: 9.0927 | Val Loss: 11.1283\n",
      "Epoch 050 | Train Loss: 9.2946 | Val Loss: 11.1039\n",
      "Epoch 051 | Train Loss: 9.5944 | Val Loss: 22.7400\n",
      "Epoch 052 | Train Loss: 10.8170 | Val Loss: 17.1311\n",
      "Early stopping triggered at epoch 52\n"
     ]
    },
    {
     "data": {
      "text/html": [],
      "text/plain": [
       "<IPython.core.display.HTML object>"
      ]
     },
     "metadata": {},
     "output_type": "display_data"
    },
    {
     "data": {
      "text/html": [
       "<br>    <style><br>        .wandb-row {<br>            display: flex;<br>            flex-direction: row;<br>            flex-wrap: wrap;<br>            justify-content: flex-start;<br>            width: 100%;<br>        }<br>        .wandb-col {<br>            display: flex;<br>            flex-direction: column;<br>            flex-basis: 100%;<br>            flex: 1;<br>            padding: 10px;<br>        }<br>    </style><br><div class=\"wandb-row\"><div class=\"wandb-col\"><h3>Run history:</h3><br/><table class=\"wandb\"><tr><td>epoch</td><td>▁▁▁▁▂▂▂▂▂▃▃▃▃▃▃▄▄▄▄▄▅▅▅▅▅▆▆▆▆▆▆▇▇▇▇▇▇███</td></tr><tr><td>train_loss</td><td>█▁▁▁▁▁▁▁▁▁▁▁▁▁▁▁▁▁▁▁▁▁▁▁▁▁▁▁▁▁▁▁▁▁▁▁▁▁▁▁</td></tr><tr><td>val_loss</td><td>█▃▂▂▂▁▁▁▁▁▁▁▁▁▁▁▁▁▁▁▁▁▁▁▁▁▁▁▁▁▁▁▁▁▁▁▁▁▁▁</td></tr></table><br/></div><div class=\"wandb-col\"><h3>Run summary:</h3><br/><table class=\"wandb\"><tr><td>epoch</td><td>52</td></tr><tr><td>train_loss</td><td>10.81704</td></tr><tr><td>val_loss</td><td>17.13113</td></tr></table><br/></div></div>"
      ],
      "text/plain": [
       "<IPython.core.display.HTML object>"
      ]
     },
     "metadata": {},
     "output_type": "display_data"
    },
    {
     "data": {
      "text/html": [
       " View run <strong style=\"color:#cdcd00\">earnest-firebrand-82</strong> at: <a href='https://wandb.ai/yixuan228-imperial-college-london/DE_Groupwork_G4_stage1/runs/syld8f5m' target=\"_blank\">https://wandb.ai/yixuan228-imperial-college-london/DE_Groupwork_G4_stage1/runs/syld8f5m</a><br> View project at: <a href='https://wandb.ai/yixuan228-imperial-college-london/DE_Groupwork_G4_stage1' target=\"_blank\">https://wandb.ai/yixuan228-imperial-college-london/DE_Groupwork_G4_stage1</a><br>Synced 5 W&B file(s), 0 media file(s), 0 artifact file(s) and 0 other file(s)"
      ],
      "text/plain": [
       "<IPython.core.display.HTML object>"
      ]
     },
     "metadata": {},
     "output_type": "display_data"
    },
    {
     "data": {
      "text/html": [
       "Find logs at: <code>.\\wandb\\run-20250321_040553-syld8f5m\\logs</code>"
      ],
      "text/plain": [
       "<IPython.core.display.HTML object>"
      ]
     },
     "metadata": {},
     "output_type": "display_data"
    },
    {
     "data": {
      "text/html": [
       "Tracking run with wandb version 0.19.7"
      ],
      "text/plain": [
       "<IPython.core.display.HTML object>"
      ]
     },
     "metadata": {},
     "output_type": "display_data"
    },
    {
     "data": {
      "text/html": [
       "Run data is saved locally in <code>d:\\Projects\\MSc_DE_GroupWork4\\Scripts\\wandb\\run-20250321_040607-oa3wgeuu</code>"
      ],
      "text/plain": [
       "<IPython.core.display.HTML object>"
      ]
     },
     "metadata": {},
     "output_type": "display_data"
    },
    {
     "data": {
      "text/html": [
       "Syncing run <strong><a href='https://wandb.ai/yixuan228-imperial-college-london/DE_Groupwork_G4_stage1/runs/oa3wgeuu' target=\"_blank\">whole-grass-83</a></strong> to <a href='https://wandb.ai/yixuan228-imperial-college-london/DE_Groupwork_G4_stage1' target=\"_blank\">Weights & Biases</a> (<a href='https://wandb.me/developer-guide' target=\"_blank\">docs</a>)<br>"
      ],
      "text/plain": [
       "<IPython.core.display.HTML object>"
      ]
     },
     "metadata": {},
     "output_type": "display_data"
    },
    {
     "data": {
      "text/html": [
       " View project at <a href='https://wandb.ai/yixuan228-imperial-college-london/DE_Groupwork_G4_stage1' target=\"_blank\">https://wandb.ai/yixuan228-imperial-college-london/DE_Groupwork_G4_stage1</a>"
      ],
      "text/plain": [
       "<IPython.core.display.HTML object>"
      ]
     },
     "metadata": {},
     "output_type": "display_data"
    },
    {
     "data": {
      "text/html": [
       " View run at <a href='https://wandb.ai/yixuan228-imperial-college-london/DE_Groupwork_G4_stage1/runs/oa3wgeuu' target=\"_blank\">https://wandb.ai/yixuan228-imperial-college-london/DE_Groupwork_G4_stage1/runs/oa3wgeuu</a>"
      ],
      "text/plain": [
       "<IPython.core.display.HTML object>"
      ]
     },
     "metadata": {},
     "output_type": "display_data"
    },
    {
     "name": "stdout",
     "output_type": "stream",
     "text": [
      "Epoch 001 | Train Loss: 18349.5465 | Val Loss: 399.7730\n",
      "Epoch 002 | Train Loss: 272.9598 | Val Loss: 201.5876\n",
      "Epoch 003 | Train Loss: 134.5579 | Val Loss: 188.9082\n",
      "Epoch 004 | Train Loss: 119.4572 | Val Loss: 119.4780\n",
      "Epoch 005 | Train Loss: 86.1266 | Val Loss: 81.1998\n",
      "Epoch 006 | Train Loss: 71.1889 | Val Loss: 74.9723\n",
      "Epoch 007 | Train Loss: 75.6804 | Val Loss: 101.5720\n",
      "Epoch 008 | Train Loss: 176.7984 | Val Loss: 181.9443\n",
      "Epoch 009 | Train Loss: 101.5459 | Val Loss: 45.9893\n",
      "Epoch 010 | Train Loss: 32.0839 | Val Loss: 68.1700\n",
      "Epoch 011 | Train Loss: 27.6846 | Val Loss: 52.6942\n",
      "Epoch 012 | Train Loss: 22.0306 | Val Loss: 25.1261\n",
      "Epoch 013 | Train Loss: 18.6797 | Val Loss: 27.0949\n",
      "Epoch 014 | Train Loss: 15.2703 | Val Loss: 16.7157\n",
      "Epoch 015 | Train Loss: 27.0898 | Val Loss: 17.3938\n",
      "Epoch 016 | Train Loss: 15.7190 | Val Loss: 16.1513\n",
      "Epoch 017 | Train Loss: 18.6741 | Val Loss: 14.1582\n",
      "Epoch 018 | Train Loss: 22.9797 | Val Loss: 24.7896\n",
      "Epoch 019 | Train Loss: 18.9079 | Val Loss: 16.0613\n",
      "Epoch 020 | Train Loss: 25.2143 | Val Loss: 155.6632\n",
      "Epoch 021 | Train Loss: 37.0030 | Val Loss: 21.1104\n",
      "Epoch 022 | Train Loss: 24.5927 | Val Loss: 38.2117\n",
      "Early stopping triggered at epoch 22\n"
     ]
    },
    {
     "data": {
      "text/html": [],
      "text/plain": [
       "<IPython.core.display.HTML object>"
      ]
     },
     "metadata": {},
     "output_type": "display_data"
    },
    {
     "data": {
      "text/html": [
       "<br>    <style><br>        .wandb-row {<br>            display: flex;<br>            flex-direction: row;<br>            flex-wrap: wrap;<br>            justify-content: flex-start;<br>            width: 100%;<br>        }<br>        .wandb-col {<br>            display: flex;<br>            flex-direction: column;<br>            flex-basis: 100%;<br>            flex: 1;<br>            padding: 10px;<br>        }<br>    </style><br><div class=\"wandb-row\"><div class=\"wandb-col\"><h3>Run history:</h3><br/><table class=\"wandb\"><tr><td>epoch</td><td>▁▁▂▂▂▃▃▃▄▄▄▅▅▅▆▆▆▇▇▇██</td></tr><tr><td>train_loss</td><td>█▁▁▁▁▁▁▁▁▁▁▁▁▁▁▁▁▁▁▁▁▁</td></tr><tr><td>val_loss</td><td>█▄▄▃▂▂▃▄▂▂▂▁▁▁▁▁▁▁▁▄▁▁</td></tr></table><br/></div><div class=\"wandb-col\"><h3>Run summary:</h3><br/><table class=\"wandb\"><tr><td>epoch</td><td>22</td></tr><tr><td>train_loss</td><td>24.59271</td></tr><tr><td>val_loss</td><td>38.21169</td></tr></table><br/></div></div>"
      ],
      "text/plain": [
       "<IPython.core.display.HTML object>"
      ]
     },
     "metadata": {},
     "output_type": "display_data"
    },
    {
     "data": {
      "text/html": [
       " View run <strong style=\"color:#cdcd00\">whole-grass-83</strong> at: <a href='https://wandb.ai/yixuan228-imperial-college-london/DE_Groupwork_G4_stage1/runs/oa3wgeuu' target=\"_blank\">https://wandb.ai/yixuan228-imperial-college-london/DE_Groupwork_G4_stage1/runs/oa3wgeuu</a><br> View project at: <a href='https://wandb.ai/yixuan228-imperial-college-london/DE_Groupwork_G4_stage1' target=\"_blank\">https://wandb.ai/yixuan228-imperial-college-london/DE_Groupwork_G4_stage1</a><br>Synced 5 W&B file(s), 0 media file(s), 0 artifact file(s) and 0 other file(s)"
      ],
      "text/plain": [
       "<IPython.core.display.HTML object>"
      ]
     },
     "metadata": {},
     "output_type": "display_data"
    },
    {
     "data": {
      "text/html": [
       "Find logs at: <code>.\\wandb\\run-20250321_040607-oa3wgeuu\\logs</code>"
      ],
      "text/plain": [
       "<IPython.core.display.HTML object>"
      ]
     },
     "metadata": {},
     "output_type": "display_data"
    },
    {
     "data": {
      "text/html": [
       "Tracking run with wandb version 0.19.7"
      ],
      "text/plain": [
       "<IPython.core.display.HTML object>"
      ]
     },
     "metadata": {},
     "output_type": "display_data"
    },
    {
     "data": {
      "text/html": [
       "Run data is saved locally in <code>d:\\Projects\\MSc_DE_GroupWork4\\Scripts\\wandb\\run-20250321_040614-sk98fc93</code>"
      ],
      "text/plain": [
       "<IPython.core.display.HTML object>"
      ]
     },
     "metadata": {},
     "output_type": "display_data"
    },
    {
     "data": {
      "text/html": [
       "Syncing run <strong><a href='https://wandb.ai/yixuan228-imperial-college-london/DE_Groupwork_G4_stage1/runs/sk98fc93' target=\"_blank\">glamorous-salad-84</a></strong> to <a href='https://wandb.ai/yixuan228-imperial-college-london/DE_Groupwork_G4_stage1' target=\"_blank\">Weights & Biases</a> (<a href='https://wandb.me/developer-guide' target=\"_blank\">docs</a>)<br>"
      ],
      "text/plain": [
       "<IPython.core.display.HTML object>"
      ]
     },
     "metadata": {},
     "output_type": "display_data"
    },
    {
     "data": {
      "text/html": [
       " View project at <a href='https://wandb.ai/yixuan228-imperial-college-london/DE_Groupwork_G4_stage1' target=\"_blank\">https://wandb.ai/yixuan228-imperial-college-london/DE_Groupwork_G4_stage1</a>"
      ],
      "text/plain": [
       "<IPython.core.display.HTML object>"
      ]
     },
     "metadata": {},
     "output_type": "display_data"
    },
    {
     "data": {
      "text/html": [
       " View run at <a href='https://wandb.ai/yixuan228-imperial-college-london/DE_Groupwork_G4_stage1/runs/sk98fc93' target=\"_blank\">https://wandb.ai/yixuan228-imperial-college-london/DE_Groupwork_G4_stage1/runs/sk98fc93</a>"
      ],
      "text/plain": [
       "<IPython.core.display.HTML object>"
      ]
     },
     "metadata": {},
     "output_type": "display_data"
    },
    {
     "name": "stdout",
     "output_type": "stream",
     "text": [
      "Epoch 001 | Train Loss: 7777.5253 | Val Loss: 348.5289\n",
      "Epoch 002 | Train Loss: 241.6180 | Val Loss: 191.1314\n",
      "Epoch 003 | Train Loss: 141.0696 | Val Loss: 120.9724\n",
      "Epoch 004 | Train Loss: 90.4950 | Val Loss: 51.4887\n",
      "Epoch 005 | Train Loss: 52.7402 | Val Loss: 37.7969\n",
      "Epoch 006 | Train Loss: 34.2378 | Val Loss: 30.5396\n",
      "Epoch 007 | Train Loss: 31.3329 | Val Loss: 26.3960\n",
      "Epoch 008 | Train Loss: 23.5312 | Val Loss: 32.2800\n",
      "Epoch 009 | Train Loss: 29.0096 | Val Loss: 49.8454\n",
      "Epoch 010 | Train Loss: 21.4545 | Val Loss: 71.0656\n",
      "Epoch 011 | Train Loss: 33.0167 | Val Loss: 18.9274\n",
      "Epoch 012 | Train Loss: 21.7429 | Val Loss: 88.0274\n",
      "Epoch 013 | Train Loss: 37.3158 | Val Loss: 22.8911\n",
      "Epoch 014 | Train Loss: 22.5360 | Val Loss: 25.1440\n",
      "Epoch 015 | Train Loss: 38.0290 | Val Loss: 60.5293\n",
      "Epoch 016 | Train Loss: 30.2304 | Val Loss: 17.6824\n",
      "Epoch 017 | Train Loss: 21.2669 | Val Loss: 15.6086\n",
      "Epoch 018 | Train Loss: 24.6935 | Val Loss: 14.7620\n",
      "Epoch 019 | Train Loss: 19.8980 | Val Loss: 54.9282\n",
      "Epoch 020 | Train Loss: 29.1109 | Val Loss: 21.5924\n",
      "Epoch 021 | Train Loss: 14.3390 | Val Loss: 26.4671\n",
      "Epoch 022 | Train Loss: 68.2202 | Val Loss: 241.1677\n",
      "Epoch 023 | Train Loss: 58.9786 | Val Loss: 16.2105\n",
      "Early stopping triggered at epoch 23\n"
     ]
    },
    {
     "data": {
      "text/html": [],
      "text/plain": [
       "<IPython.core.display.HTML object>"
      ]
     },
     "metadata": {},
     "output_type": "display_data"
    },
    {
     "data": {
      "text/html": [
       "<br>    <style><br>        .wandb-row {<br>            display: flex;<br>            flex-direction: row;<br>            flex-wrap: wrap;<br>            justify-content: flex-start;<br>            width: 100%;<br>        }<br>        .wandb-col {<br>            display: flex;<br>            flex-direction: column;<br>            flex-basis: 100%;<br>            flex: 1;<br>            padding: 10px;<br>        }<br>    </style><br><div class=\"wandb-row\"><div class=\"wandb-col\"><h3>Run history:</h3><br/><table class=\"wandb\"><tr><td>epoch</td><td>▁▁▂▂▂▃▃▃▄▄▄▅▅▅▅▆▆▆▇▇▇██</td></tr><tr><td>train_loss</td><td>█▁▁▁▁▁▁▁▁▁▁▁▁▁▁▁▁▁▁▁▁▁▁</td></tr><tr><td>val_loss</td><td>█▅▃▂▁▁▁▁▂▂▁▃▁▁▂▁▁▁▂▁▁▆▁</td></tr></table><br/></div><div class=\"wandb-col\"><h3>Run summary:</h3><br/><table class=\"wandb\"><tr><td>epoch</td><td>23</td></tr><tr><td>train_loss</td><td>58.97862</td></tr><tr><td>val_loss</td><td>16.2105</td></tr></table><br/></div></div>"
      ],
      "text/plain": [
       "<IPython.core.display.HTML object>"
      ]
     },
     "metadata": {},
     "output_type": "display_data"
    },
    {
     "data": {
      "text/html": [
       " View run <strong style=\"color:#cdcd00\">glamorous-salad-84</strong> at: <a href='https://wandb.ai/yixuan228-imperial-college-london/DE_Groupwork_G4_stage1/runs/sk98fc93' target=\"_blank\">https://wandb.ai/yixuan228-imperial-college-london/DE_Groupwork_G4_stage1/runs/sk98fc93</a><br> View project at: <a href='https://wandb.ai/yixuan228-imperial-college-london/DE_Groupwork_G4_stage1' target=\"_blank\">https://wandb.ai/yixuan228-imperial-college-london/DE_Groupwork_G4_stage1</a><br>Synced 5 W&B file(s), 0 media file(s), 0 artifact file(s) and 0 other file(s)"
      ],
      "text/plain": [
       "<IPython.core.display.HTML object>"
      ]
     },
     "metadata": {},
     "output_type": "display_data"
    },
    {
     "data": {
      "text/html": [
       "Find logs at: <code>.\\wandb\\run-20250321_040614-sk98fc93\\logs</code>"
      ],
      "text/plain": [
       "<IPython.core.display.HTML object>"
      ]
     },
     "metadata": {},
     "output_type": "display_data"
    },
    {
     "data": {
      "text/html": [
       "Tracking run with wandb version 0.19.7"
      ],
      "text/plain": [
       "<IPython.core.display.HTML object>"
      ]
     },
     "metadata": {},
     "output_type": "display_data"
    },
    {
     "data": {
      "text/html": [
       "Run data is saved locally in <code>d:\\Projects\\MSc_DE_GroupWork4\\Scripts\\wandb\\run-20250321_040622-s52a1wvn</code>"
      ],
      "text/plain": [
       "<IPython.core.display.HTML object>"
      ]
     },
     "metadata": {},
     "output_type": "display_data"
    },
    {
     "data": {
      "text/html": [
       "Syncing run <strong><a href='https://wandb.ai/yixuan228-imperial-college-london/DE_Groupwork_G4_stage1/runs/s52a1wvn' target=\"_blank\">azure-sun-85</a></strong> to <a href='https://wandb.ai/yixuan228-imperial-college-london/DE_Groupwork_G4_stage1' target=\"_blank\">Weights & Biases</a> (<a href='https://wandb.me/developer-guide' target=\"_blank\">docs</a>)<br>"
      ],
      "text/plain": [
       "<IPython.core.display.HTML object>"
      ]
     },
     "metadata": {},
     "output_type": "display_data"
    },
    {
     "data": {
      "text/html": [
       " View project at <a href='https://wandb.ai/yixuan228-imperial-college-london/DE_Groupwork_G4_stage1' target=\"_blank\">https://wandb.ai/yixuan228-imperial-college-london/DE_Groupwork_G4_stage1</a>"
      ],
      "text/plain": [
       "<IPython.core.display.HTML object>"
      ]
     },
     "metadata": {},
     "output_type": "display_data"
    },
    {
     "data": {
      "text/html": [
       " View run at <a href='https://wandb.ai/yixuan228-imperial-college-london/DE_Groupwork_G4_stage1/runs/s52a1wvn' target=\"_blank\">https://wandb.ai/yixuan228-imperial-college-london/DE_Groupwork_G4_stage1/runs/s52a1wvn</a>"
      ],
      "text/plain": [
       "<IPython.core.display.HTML object>"
      ]
     },
     "metadata": {},
     "output_type": "display_data"
    },
    {
     "name": "stdout",
     "output_type": "stream",
     "text": [
      "Epoch 001 | Train Loss: 29550.6683 | Val Loss: 1662.4428\n",
      "Epoch 002 | Train Loss: 940.2826 | Val Loss: 603.4905\n",
      "Epoch 003 | Train Loss: 459.3099 | Val Loss: 396.4870\n",
      "Epoch 004 | Train Loss: 304.9078 | Val Loss: 295.0705\n",
      "Epoch 005 | Train Loss: 226.2038 | Val Loss: 229.6294\n",
      "Epoch 006 | Train Loss: 178.9513 | Val Loss: 183.8452\n",
      "Epoch 007 | Train Loss: 144.7603 | Val Loss: 151.6833\n",
      "Epoch 008 | Train Loss: 115.3349 | Val Loss: 129.6034\n",
      "Epoch 009 | Train Loss: 94.1094 | Val Loss: 94.6690\n",
      "Epoch 010 | Train Loss: 74.0076 | Val Loss: 79.3813\n",
      "Epoch 011 | Train Loss: 59.8983 | Val Loss: 58.8840\n",
      "Epoch 012 | Train Loss: 48.3857 | Val Loss: 48.9261\n",
      "Epoch 013 | Train Loss: 40.2892 | Val Loss: 43.6975\n",
      "Epoch 014 | Train Loss: 34.4373 | Val Loss: 30.9503\n",
      "Epoch 015 | Train Loss: 29.9280 | Val Loss: 29.6542\n",
      "Epoch 016 | Train Loss: 26.6220 | Val Loss: 25.5688\n",
      "Epoch 017 | Train Loss: 24.6055 | Val Loss: 24.7773\n",
      "Epoch 018 | Train Loss: 22.8023 | Val Loss: 24.1412\n",
      "Epoch 019 | Train Loss: 22.2045 | Val Loss: 19.6550\n",
      "Epoch 020 | Train Loss: 19.6852 | Val Loss: 20.0160\n",
      "Epoch 021 | Train Loss: 18.5861 | Val Loss: 17.5210\n",
      "Epoch 022 | Train Loss: 18.1739 | Val Loss: 19.2309\n",
      "Epoch 023 | Train Loss: 17.4738 | Val Loss: 17.1151\n",
      "Epoch 024 | Train Loss: 15.9749 | Val Loss: 15.3373\n",
      "Epoch 025 | Train Loss: 16.7114 | Val Loss: 14.6020\n",
      "Epoch 026 | Train Loss: 15.9145 | Val Loss: 15.4056\n",
      "Epoch 027 | Train Loss: 14.9275 | Val Loss: 14.0241\n",
      "Epoch 028 | Train Loss: 14.7154 | Val Loss: 23.0082\n",
      "Epoch 029 | Train Loss: 14.0587 | Val Loss: 27.0933\n",
      "Epoch 030 | Train Loss: 15.3820 | Val Loss: 14.7484\n",
      "Epoch 031 | Train Loss: 12.5646 | Val Loss: 12.8445\n",
      "Epoch 032 | Train Loss: 12.6004 | Val Loss: 13.1466\n",
      "Epoch 033 | Train Loss: 12.6411 | Val Loss: 14.6397\n",
      "Epoch 034 | Train Loss: 12.8536 | Val Loss: 20.5144\n",
      "Epoch 035 | Train Loss: 12.9310 | Val Loss: 12.7400\n",
      "Epoch 036 | Train Loss: 11.2655 | Val Loss: 14.0000\n",
      "Epoch 037 | Train Loss: 11.0025 | Val Loss: 18.2679\n",
      "Epoch 038 | Train Loss: 11.3820 | Val Loss: 11.0659\n",
      "Epoch 039 | Train Loss: 10.5759 | Val Loss: 19.5477\n",
      "Epoch 040 | Train Loss: 10.9034 | Val Loss: 18.4078\n",
      "Epoch 041 | Train Loss: 10.6728 | Val Loss: 20.5269\n",
      "Epoch 042 | Train Loss: 12.6843 | Val Loss: 13.8315\n",
      "Epoch 043 | Train Loss: 11.0596 | Val Loss: 10.0626\n",
      "Epoch 044 | Train Loss: 10.1052 | Val Loss: 12.2937\n",
      "Epoch 045 | Train Loss: 12.1359 | Val Loss: 10.8971\n",
      "Epoch 046 | Train Loss: 9.7409 | Val Loss: 10.6569\n",
      "Epoch 047 | Train Loss: 9.7067 | Val Loss: 9.7235\n",
      "Epoch 048 | Train Loss: 10.3285 | Val Loss: 16.7860\n",
      "Epoch 049 | Train Loss: 9.6917 | Val Loss: 15.3530\n",
      "Epoch 050 | Train Loss: 9.9644 | Val Loss: 12.1615\n",
      "Epoch 051 | Train Loss: 13.5660 | Val Loss: 11.1680\n",
      "Epoch 052 | Train Loss: 9.6759 | Val Loss: 19.4042\n",
      "Early stopping triggered at epoch 52\n"
     ]
    },
    {
     "data": {
      "text/html": [],
      "text/plain": [
       "<IPython.core.display.HTML object>"
      ]
     },
     "metadata": {},
     "output_type": "display_data"
    },
    {
     "data": {
      "text/html": [
       "<br>    <style><br>        .wandb-row {<br>            display: flex;<br>            flex-direction: row;<br>            flex-wrap: wrap;<br>            justify-content: flex-start;<br>            width: 100%;<br>        }<br>        .wandb-col {<br>            display: flex;<br>            flex-direction: column;<br>            flex-basis: 100%;<br>            flex: 1;<br>            padding: 10px;<br>        }<br>    </style><br><div class=\"wandb-row\"><div class=\"wandb-col\"><h3>Run history:</h3><br/><table class=\"wandb\"><tr><td>epoch</td><td>▁▁▁▁▂▂▂▂▂▃▃▃▃▃▄▄▄▄▄▄▅▅▅▅▅▆▆▆▆▆▆▇▇▇▇▇▇███</td></tr><tr><td>train_loss</td><td>█▁▁▁▁▁▁▁▁▁▁▁▁▁▁▁▁▁▁▁▁▁▁▁▁▁▁▁▁▁▁▁▁▁▁▁▁▁▁▁</td></tr><tr><td>val_loss</td><td>█▄▃▂▂▂▂▁▁▁▁▁▁▁▁▁▁▁▁▁▁▁▁▁▁▁▁▁▁▁▁▁▁▁▁▁▁▁▁▁</td></tr></table><br/></div><div class=\"wandb-col\"><h3>Run summary:</h3><br/><table class=\"wandb\"><tr><td>epoch</td><td>52</td></tr><tr><td>train_loss</td><td>9.6759</td></tr><tr><td>val_loss</td><td>19.40424</td></tr></table><br/></div></div>"
      ],
      "text/plain": [
       "<IPython.core.display.HTML object>"
      ]
     },
     "metadata": {},
     "output_type": "display_data"
    },
    {
     "data": {
      "text/html": [
       " View run <strong style=\"color:#cdcd00\">azure-sun-85</strong> at: <a href='https://wandb.ai/yixuan228-imperial-college-london/DE_Groupwork_G4_stage1/runs/s52a1wvn' target=\"_blank\">https://wandb.ai/yixuan228-imperial-college-london/DE_Groupwork_G4_stage1/runs/s52a1wvn</a><br> View project at: <a href='https://wandb.ai/yixuan228-imperial-college-london/DE_Groupwork_G4_stage1' target=\"_blank\">https://wandb.ai/yixuan228-imperial-college-london/DE_Groupwork_G4_stage1</a><br>Synced 5 W&B file(s), 0 media file(s), 0 artifact file(s) and 0 other file(s)"
      ],
      "text/plain": [
       "<IPython.core.display.HTML object>"
      ]
     },
     "metadata": {},
     "output_type": "display_data"
    },
    {
     "data": {
      "text/html": [
       "Find logs at: <code>.\\wandb\\run-20250321_040622-s52a1wvn\\logs</code>"
      ],
      "text/plain": [
       "<IPython.core.display.HTML object>"
      ]
     },
     "metadata": {},
     "output_type": "display_data"
    },
    {
     "name": "stdout",
     "output_type": "stream",
     "text": [
      "Training complete for all configurations.\n"
     ]
    }
   ],
   "source": [
    "from itertools import product\n",
    "import torch.optim as optim\n",
    "\n",
    "for hidden_units, hidden_layers, lr in product(hidden_units_options, hidden_layers_options, learning_rates):\n",
    "\n",
    "    # Configurations\n",
    "    config = {\n",
    "        \"hidden_units\": hidden_units,\n",
    "        \"hidden_layers\": hidden_layers,\n",
    "        \"learning_rate\": lr,\n",
    "        \"max_epochs\": max_epochs,\n",
    "        \"patience\": patience\n",
    "    }\n",
    "\n",
    "    # Start a new W&B run for each configuration\n",
    "    wandb.init(project='DE_Groupwork_G4_stage1', config=config, reinit=True)\n",
    "\n",
    "    model = MultiLayerPerceptron(input_size=input_size, \n",
    "                             hidden_size=config[\"hidden_units\"], \n",
    "                             num_layers=config[\"hidden_layers\"], \n",
    "                             output_size=1).to(device)\n",
    "\n",
    "\n",
    "    criterion = nn.MSELoss() \n",
    "    optimizer = optim.Adam(model.parameters(), lr=lr)\n",
    "\n",
    "    best_test_loss = float('inf')\n",
    "    epochs_without_improvement = 0\n",
    "        \n",
    "    for epoch in range(1, max_epochs + 1):\n",
    "        train_loss = train_epoch(model, train_Loader, criterion, optimizer, device)\n",
    "       \n",
    "        test_loss = val_epoch(model, test_Loader, criterion, device)\n",
    "\n",
    "        # Log metrics to W&B\n",
    "        wandb.log({\"epoch\": epoch, \"train_loss\": train_loss, \"val_loss\": test_loss})\n",
    "        \n",
    "        print(f\"Epoch {epoch:03d} | Train Loss: {train_loss:.4f} | Val Loss: {test_loss:.4f}\")\n",
    "        \n",
    "        # Early stopping check\n",
    "        if test_loss < best_test_loss:\n",
    "            best_test_loss = test_loss\n",
    "            epochs_without_improvement = 0\n",
    "        else:\n",
    "            epochs_without_improvement += 1\n",
    "            \n",
    "        if epochs_without_improvement >= patience:\n",
    "            print(f\"Early stopping triggered at epoch {epoch}\")\n",
    "            break\n",
    "\n",
    "    wandb.finish()\n",
    "\n",
    "print(\"Training complete for all configurations.\")\n"
   ]
  },
  {
   "cell_type": "markdown",
   "metadata": {},
   "source": [
    "#### 3.1.2 Summary and Select the Best Model"
   ]
  },
  {
   "cell_type": "markdown",
   "metadata": {},
   "source": [
    "Visualization of each Search"
   ]
  },
  {
   "cell_type": "code",
   "execution_count": 23,
   "metadata": {},
   "outputs": [
    {
     "data": {
      "image/png": "[encoded data removed]",
      "text/plain": [
       "<Figure size 1200x600 with 1 Axes>"
      ]
     },
     "metadata": {},
     "output_type": "display_data"
    }
   ],
   "source": [
    "import matplotlib.pyplot as plt\n",
    "import matplotlib.image as mpimg\n",
    "\n",
    "image_path = \"S1_NN_loss.png\"\n",
    "img = mpimg.imread(image_path)\n",
    "\n",
    "plt.figure(figsize=(12, 6))\n",
    "plt.imshow(img)\n",
    "plt.axis(\"off\")\n",
    "plt.show()"
   ]
  },
  {
   "cell_type": "markdown",
   "metadata": {},
   "source": [
    "Find the best model"
   ]
  },
  {
   "cell_type": "code",
   "execution_count": 24,
   "metadata": {},
   "outputs": [],
   "source": [
    "import wandb\n",
    "import os\n",
    "\n",
    "api = wandb.Api()\n",
    "\n",
    "project_path = \"yixuan228-imperial-college-london/DE_Groupwork G4\"\n",
    "runs = api.runs(project_path)  # Get all the runs\n",
    "\n",
    "# save_dir = \"wandb_artifacts\"\n",
    "# os.makedirs(save_dir, exist_ok=True)"
   ]
  },
  {
   "cell_type": "markdown",
   "metadata": {},
   "source": [
    "Save all the model config"
   ]
  },
  {
   "cell_type": "code",
   "execution_count": 25,
   "metadata": {},
   "outputs": [],
   "source": [
    "ls_summary, ls_config = [], []\n",
    "\n",
    "best_run = None\n",
    "best_val_loss = float('inf')\n",
    "\n",
    "ls_config = [run.config for run in runs]\n",
    "ls_summary = [run.summary._json_dict for run in runs]\n"
   ]
  },
  {
   "cell_type": "markdown",
   "metadata": {},
   "source": [
    "Select the best model"
   ]
  },
  {
   "cell_type": "code",
   "execution_count": 26,
   "metadata": {},
   "outputs": [
    {
     "name": "stdout",
     "output_type": "stream",
     "text": [
      "\n",
      "Best Model Found:\n",
      "Run ID: nbfzlfhc, Name: fearless-morning-12, State: finished\n",
      "Lowest Validation Loss: 8.600484386515094\n",
      "\n",
      "Best Model Hyperparameters (config):\n",
      "   patience: 5\n",
      "   max_epochs: 200\n",
      "   hidden_units: 64\n",
      "   hidden_layers: 2\n",
      "   learning_rate: 0.001\n",
      "\n",
      "Best Model Final Metrics (summary):\n",
      "   _runtime: 19.7579481\n",
      "   _step: 118\n",
      "   _timestamp: 1742462047.419305\n",
      "   _wandb: {'runtime': 19}\n",
      "   epoch: 119\n",
      "   train_loss: 8.823451982218003\n",
      "   val_loss: 8.600484386515094\n"
     ]
    }
   ],
   "source": [
    "best_run = None\n",
    "best_loss = float(\"inf\")  \n",
    "\n",
    "for run in runs:\n",
    "    # print(run.summary.keys())\n",
    "    if \"val_loss\" in run.summary:  \n",
    "        loss = run.summary[\"val_loss\"]\n",
    "        if loss < best_loss:  # best model with least loss\n",
    "            best_loss = loss\n",
    "            best_run = run\n",
    "\n",
    "# Best model hyparparameters\n",
    "if best_run:\n",
    "    print(\"\\nBest Model Found:\")\n",
    "    print(f\"Run ID: {best_run.id}, Name: {best_run.name}, State: {best_run.state}\")\n",
    "    print(f\"Lowest Validation Loss: {best_loss}\")\n",
    "\n",
    "    print(\"\\nBest Model Hyperparameters (config):\")\n",
    "    for key, value in best_run.config.items():\n",
    "        print(f\"   {key}: {value}\")\n",
    "\n",
    "    print(\"\\nBest Model Final Metrics (summary):\")\n",
    "    for key, value in best_run.summary.items():\n",
    "        print(f\"   {key}: {value}\")\n",
    "else:\n",
    "    print(\"No valid runs found with 'loss' metric.\")\n"
   ]
  },
  {
   "cell_type": "markdown",
   "metadata": {},
   "source": [
    "#### 3.1.4 Best NN Model Parameters"
   ]
  },
  {
   "cell_type": "markdown",
   "metadata": {},
   "source": [
    "Using Nueral Network Models is a good way to predict the CO2 emssions based on the features given. After using W&B to grid search the hyperparameters grid, the best model is chosen based on the metric of validation loss.\n",
    "\n",
    "The best model parameters are listed below:\n",
    "\n",
    "**Hyperparameter**:\\\n",
    "    patience: 5\\\n",
    "    max_epochs: 200\\\n",
    "    hidden_units: 64\\\n",
    "    hidden_layers: 2\\\n",
    "    learning_rate: 0.001\n",
    "\n",
    "**Running Performance:**\\\n",
    "    epoch: 119\\\n",
    "    Training loss: 8.823451982218003\\\n",
    "    Validation loss: 8.600484386515094\n",
    "\n",
    "\n"
   ]
  },
  {
   "cell_type": "markdown",
   "metadata": {},
   "source": [
    "#### 3.1.5 K-fold on Best NN Model "
   ]
  },
  {
   "cell_type": "markdown",
   "metadata": {},
   "source": [
    "Initialize NN model configuration, set hyperparameter grid."
   ]
  },
  {
   "cell_type": "code",
   "execution_count": 27,
   "metadata": {},
   "outputs": [],
   "source": [
    "# Hyperparameter grid\n",
    "hidden_size = 64    # Numbers of neurons in each hidden layer\n",
    "num_layer = 2       # Numbers of hidden layers\n",
    "learning_rate = 0.001     # Learning rates\n",
    "\n",
    "num_epochs = 200  # Arbitrarily large; early stopping will likely stop earlier.\n",
    "batch_size = 64\n",
    "patience = 5      # Early stopping patience\n",
    "\n",
    "input_size =  X_train_processed.shape[1]   # Input size \n",
    "output_size = 1             # Output size"
   ]
  },
  {
   "cell_type": "markdown",
   "metadata": {},
   "source": [
    "Output k-fold validation results"
   ]
  },
  {
   "cell_type": "code",
   "execution_count": 28,
   "metadata": {},
   "outputs": [
    {
     "name": "stdout",
     "output_type": "stream",
     "text": [
      "Best Neural Network Model:\n",
      "\n",
      "Fold 1 Validation Dataset MSE: 5.7489\n",
      "Fold 2 Validation Dataset MSE: 6.7702\n",
      "Fold 3 Validation Dataset MSE: 8.6629\n",
      "Fold 4 Validation Dataset MSE: 6.9164\n",
      "Fold 5 Validation Dataset MSE: 7.5167\n",
      "Fold 6 Validation Dataset MSE: 9.4694\n",
      "Fold 7 Validation Dataset MSE: 10.9345\n",
      "Fold 8 Validation Dataset MSE: 9.4360\n",
      "Fold 9 Validation Dataset MSE: 7.4951\n",
      "Fold 10 Validation Dataset MSE: 18.7536\n",
      "Fold 11 Validation Dataset MSE: 9.9889\n",
      "Fold 12 Validation Dataset MSE: 5.6913\n",
      "Fold 13 Validation Dataset MSE: 8.8019\n",
      "Fold 14 Validation Dataset MSE: 7.5253\n",
      "Fold 15 Validation Dataset MSE: 7.3149\n",
      "Fold 16 Validation Dataset MSE: 8.0723\n",
      "Fold 17 Validation Dataset MSE: 8.8668\n",
      "Fold 18 Validation Dataset MSE: 5.7073\n",
      "Fold 19 Validation Dataset MSE: 7.2471\n",
      "Fold 20 Validation Dataset MSE: 6.8096\n",
      "\n",
      "K-Fold Average MSE: 8.3865\n",
      "\n",
      "--------Finished training and validating the model!--------\n"
     ]
    }
   ],
   "source": [
    "from torch.utils.data import Subset\n",
    "from torch import optim\n",
    "\n",
    "# Save MSE and True/Predict Values---------------------------\n",
    "nn_k_fold_mse = []\n",
    "nn_k_fold_R2 = []\n",
    "nn_k_fold_mae = []\n",
    "nn_k_fold_mape = []   \n",
    "\n",
    "# Train and Evaluate the model----------------------------\n",
    "print(f'Best Neural Network Model:\\n')\n",
    "for fold, (train_index, val_index) in enumerate(k_fold.split(X_train_df)):\n",
    "\n",
    "    # get the training and validation data\n",
    "    train_subset  = Subset(train_dataset, train_index)\n",
    "    val_subset = Subset(train_dataset, val_index)\n",
    "\n",
    "    # Data loader\n",
    "    train_loader = DataLoader(dataset=train_subset , batch_size=batch_size, shuffle=True)\n",
    "    val_loader = DataLoader(dataset=val_subset, batch_size=batch_size, shuffle=False)\n",
    "\n",
    "    # Initialize and train the model\n",
    "    nn_model = MultiLayerPerceptron(input_size, hidden_size, num_layer, output_size).to(device)\n",
    "\n",
    "    criterion = nn.MSELoss()  # MSE as loss function\n",
    "    optimizer = optim.Adam(nn_model.parameters(), lr=learning_rate)  # Adam as optimizer\n",
    "\n",
    "    for epoch in range(num_epochs):\n",
    "        nn_model.train()\n",
    "        total_loss = 0\n",
    "        i = 0\n",
    "\n",
    "        for X_batch, y_batch in train_loader:\n",
    "\n",
    "            X_batch, y_batch = X_batch.to(device), y_batch.to(device)\n",
    "\n",
    "            optimizer.zero_grad()\n",
    "            y_pred = nn_model(X_batch)\n",
    "            loss = criterion(y_pred, y_batch)\n",
    "            loss.backward()\n",
    "            optimizer.step()\n",
    "\n",
    "            total_loss += loss.item()\n",
    "\n",
    "        # if (epoch+1) % 10 == 0:\n",
    "        #     print(f\"Epoch {epoch+1}, Loss: {total_loss/len(train_loader):.4f}\")\n",
    "\n",
    "    # Validate the model\n",
    "    nn_model.eval()\n",
    "\n",
    "    y_true_fold = []\n",
    "    y_pred_fold = []\n",
    "\n",
    "    val_loss = 0\n",
    "    with torch.no_grad():\n",
    "        for X_batch, y_batch in val_loader:\n",
    "\n",
    "            X_batch, y_batch = X_batch.to(device), y_batch.to(device)\n",
    "\n",
    "            y_pred = nn_model(X_batch)\n",
    "            loss = criterion(y_pred, y_batch)\n",
    "            val_loss += loss.item()\n",
    "\n",
    "            # y_true_fold.append(y_batch.cpu.numpy())     \n",
    "            # y_pred_fold.append(y_pred.cpu.numpy())      \n",
    "\n",
    "            y_true_fold.append(y_batch.cpu().detach().numpy())  # true value\n",
    "            y_pred_fold.append(y_pred.cpu().detach().numpy())   # predicted value\n",
    "\n",
    "    y_true_fold = np.concatenate(y_true_fold, axis=0).flatten()\n",
    "    y_pred_fold = np.concatenate(y_pred_fold, axis=0).flatten()\n",
    "\n",
    "    mse = mean_squared_error(y_true_fold, y_pred_fold)\n",
    "    r2 = r2_score(y_true_fold, y_pred_fold)\n",
    "    mae = mean_absolute_error(y_true_fold, y_pred_fold)\n",
    "    mape = mean_absolute_percentage_error(y_true_fold, y_pred_fold)\n",
    "\n",
    "    nn_k_fold_mse.append(mse)\n",
    "    nn_k_fold_R2.append(r2)\n",
    "    nn_k_fold_mae.append(mae)\n",
    "    nn_k_fold_mape.append(mape)\n",
    "    \n",
    "    print(f\"Fold {fold+1} Validation Dataset MSE: {mse:.4f}\")\n",
    "\n",
    "print(f\"\\nK-Fold Average MSE: {np.mean(nn_k_fold_mse):.4f}\")\n",
    "print(f\"\\n--------Finished training and validating the model!--------\")\n"
   ]
  },
  {
   "cell_type": "code",
   "execution_count": 29,
   "metadata": {},
   "outputs": [
    {
     "name": "stdout",
     "output_type": "stream",
     "text": [
      "Neural Network Model:\n",
      "    Test Dataset MSE: 8.4037\n",
      "    Test Dataset R2: 0.9976\n",
      "    Test Dataset MAE: 2.0972\n",
      "    Test Dataset MAPE: 0.0083\n"
     ]
    },
    {
     "data": {
      "text/plain": [
       "Text(0.5, 1.0, 'Neural Network Model: Observed vs Predicted values')"
      ]
     },
     "execution_count": 29,
     "metadata": {},
     "output_type": "execute_result"
    },
    {
     "data": {
      "image/png": "[encoded data removed]",
      "text/plain": [
       "<Figure size 600x500 with 1 Axes>"
      ]
     },
     "metadata": {},
     "output_type": "display_data"
    }
   ],
   "source": [
    "# Test the model on the test dataset------------------------   \n",
    "# Using MSE as the evaluation metrics: Mean Squared Error, R2, MAE, MAPE\n",
    "nn_model.eval()\n",
    "\n",
    "# Get the prediction and true values\n",
    "nn_test_true = []\n",
    "nn_test_pred = []\n",
    "\n",
    "val_loss = 0\n",
    "with torch.no_grad():\n",
    "    for X_batch, y_batch in test_Loader:\n",
    "\n",
    "        X_batch, y_batch = X_batch.to(device), y_batch.to(device)\n",
    "\n",
    "        y_pred = nn_model(X_batch)\n",
    "        loss = criterion(y_pred, y_batch)\n",
    "        val_loss += loss.item()\n",
    "\n",
    "        nn_test_true.append(y_batch.cpu().detach().numpy())     # true value\n",
    "        nn_test_pred.append(y_pred.cpu().detach().numpy())      # predicted value\n",
    "\n",
    "# concatenate the true and predicted values\n",
    "nn_test_true = np.concatenate(nn_test_true, axis=0).flatten()\n",
    "nn_test_pred = np.concatenate(nn_test_pred, axis=0).flatten()\n",
    "\n",
    "nn_test_r2 = r2_score(nn_test_pred, nn_test_true)\n",
    "nn_test_mse = mean_squared_error(nn_test_pred, nn_test_true)\n",
    "nn_test_mae = mean_absolute_error(nn_test_pred, nn_test_true)\n",
    "nn_test_mape = mean_absolute_percentage_error(nn_test_pred, nn_test_true)\n",
    "\n",
    "# Output\n",
    "print(f'Neural Network Model:')\n",
    "print(f\"    Test Dataset MSE: {nn_test_mse:.4f}\")\n",
    "print(f\"    Test Dataset R2: {nn_test_r2:.4f}\")\n",
    "print(f\"    Test Dataset MAE: {nn_test_mae:.4f}\")\n",
    "print(f\"    Test Dataset MAPE: {nn_test_mape:.4f}\")\n",
    "\n",
    "# Using plot\n",
    "fig, ax = plt.subplots(1, 1, figsize=(6, 5))\n",
    "plot_pred_true(nn_test_true, nn_test_pred, ax)\n",
    "plt.title('Neural Network Model: Observed vs Predicted values')"
   ]
  },
  {
   "cell_type": "code",
   "execution_count": 30,
   "metadata": {},
   "outputs": [
    {
     "name": "stdout",
     "output_type": "stream",
     "text": [
      "Test Dataset MSE: 8.4037\n",
      "Validation Dataset MSE: 8.3865\n"
     ]
    }
   ],
   "source": [
    "print(f\"Test Dataset MSE: {nn_test_mse:.4f}\")\n",
    "print(f\"Validation Dataset MSE: {np.mean(nn_k_fold_mse):.4f}\")"
   ]
  },
  {
   "cell_type": "markdown",
   "metadata": {},
   "source": [
    "### 3.1.6 Save the NN Model Performance"
   ]
  },
  {
   "cell_type": "markdown",
   "metadata": {},
   "source": [
    "Output of Best NN Model\n",
    "\n",
    "- Output will include two types of data: Validation values, and Test Values, and combine those into one dataframe.\n",
    "\n",
    "- Validation RSE:  1 x 20    Test RSE: 1 x 1\n",
    "\n",
    "- Validation R2:   1 x 20    Test R2:  1 x 1\n",
    "\n",
    "- Validation MAE:  1 x 20    Test MAE:  1 x 1\n",
    "\n",
    "- Validation MAPE: 1 x 20    Test MAPE:  1 x 1\n",
    "\n",
    "- So the output dataframe should include:\n",
    "\n",
    "    - **4 rows**: RSE, R2, MAE and MAPE \n",
    "    \n",
    "    - **21 cols**:  first 20 as validation metrics, with the last one being test metric"
   ]
  },
  {
   "cell_type": "code",
   "execution_count": 31,
   "metadata": {},
   "outputs": [],
   "source": [
    "# Save the output of Best NN Model \n",
    "nn_metrics = pd.DataFrame([nn_k_fold_mse, nn_k_fold_R2, nn_k_fold_mae, nn_k_fold_mape])\n",
    "\n",
    "# Add Test results\n",
    "nn_metrics[\"Test_results\"] = [nn_test_mse, nn_test_r2, nn_test_mae, nn_test_mape]\n"
   ]
  },
  {
   "cell_type": "code",
   "execution_count": 32,
   "metadata": {},
   "outputs": [],
   "source": [
    "nn_metrics.columns = [f\"fold_{i+1}\" for i in range(20)] + [\"Test\"]\n",
    "nn_metrics.index = ['MSE', 'R2', 'MAE', 'MAPE']\n"
   ]
  },
  {
   "cell_type": "code",
   "execution_count": 33,
   "metadata": {},
   "outputs": [
    {
     "data": {
      "text/html": [
       "<div>\n",
       "<style scoped>\n",
       "    .dataframe tbody tr th:only-of-type {\n",
       "        vertical-align: middle;\n",
       "    }\n",
       "\n",
       "    .dataframe tbody tr th {\n",
       "        vertical-align: top;\n",
       "    }\n",
       "\n",
       "    .dataframe thead th {\n",
       "        text-align: right;\n",
       "    }\n",
       "</style>\n",
       "<table border=\"1\" class=\"dataframe\">\n",
       "  <thead>\n",
       "    <tr style=\"text-align: right;\">\n",
       "      <th></th>\n",
       "      <th>fold_1</th>\n",
       "      <th>fold_2</th>\n",
       "      <th>fold_3</th>\n",
       "      <th>fold_4</th>\n",
       "      <th>fold_5</th>\n",
       "      <th>fold_6</th>\n",
       "      <th>fold_7</th>\n",
       "      <th>fold_8</th>\n",
       "      <th>fold_9</th>\n",
       "      <th>fold_10</th>\n",
       "      <th>...</th>\n",
       "      <th>fold_12</th>\n",
       "      <th>fold_13</th>\n",
       "      <th>fold_14</th>\n",
       "      <th>fold_15</th>\n",
       "      <th>fold_16</th>\n",
       "      <th>fold_17</th>\n",
       "      <th>fold_18</th>\n",
       "      <th>fold_19</th>\n",
       "      <th>fold_20</th>\n",
       "      <th>Test</th>\n",
       "    </tr>\n",
       "  </thead>\n",
       "  <tbody>\n",
       "    <tr>\n",
       "      <th>MSE</th>\n",
       "      <td>5.748903</td>\n",
       "      <td>6.770223</td>\n",
       "      <td>8.662851</td>\n",
       "      <td>6.916399</td>\n",
       "      <td>7.516706</td>\n",
       "      <td>9.469388</td>\n",
       "      <td>10.934547</td>\n",
       "      <td>9.436038</td>\n",
       "      <td>7.495071</td>\n",
       "      <td>18.753593</td>\n",
       "      <td>...</td>\n",
       "      <td>5.691262</td>\n",
       "      <td>8.801867</td>\n",
       "      <td>7.525272</td>\n",
       "      <td>7.314851</td>\n",
       "      <td>8.072349</td>\n",
       "      <td>8.866827</td>\n",
       "      <td>5.707318</td>\n",
       "      <td>7.247093</td>\n",
       "      <td>6.809605</td>\n",
       "      <td>8.403743</td>\n",
       "    </tr>\n",
       "    <tr>\n",
       "      <th>R2</th>\n",
       "      <td>0.998263</td>\n",
       "      <td>0.998205</td>\n",
       "      <td>0.997863</td>\n",
       "      <td>0.998040</td>\n",
       "      <td>0.997629</td>\n",
       "      <td>0.997401</td>\n",
       "      <td>0.996867</td>\n",
       "      <td>0.996873</td>\n",
       "      <td>0.997822</td>\n",
       "      <td>0.994686</td>\n",
       "      <td>...</td>\n",
       "      <td>0.998359</td>\n",
       "      <td>0.997289</td>\n",
       "      <td>0.997253</td>\n",
       "      <td>0.997856</td>\n",
       "      <td>0.997618</td>\n",
       "      <td>0.997293</td>\n",
       "      <td>0.998352</td>\n",
       "      <td>0.997605</td>\n",
       "      <td>0.998108</td>\n",
       "      <td>0.997614</td>\n",
       "    </tr>\n",
       "    <tr>\n",
       "      <th>MAE</th>\n",
       "      <td>1.950637</td>\n",
       "      <td>1.937659</td>\n",
       "      <td>2.241559</td>\n",
       "      <td>2.121958</td>\n",
       "      <td>2.147535</td>\n",
       "      <td>2.442742</td>\n",
       "      <td>2.405281</td>\n",
       "      <td>2.262093</td>\n",
       "      <td>2.239348</td>\n",
       "      <td>2.170436</td>\n",
       "      <td>...</td>\n",
       "      <td>1.883480</td>\n",
       "      <td>2.222586</td>\n",
       "      <td>2.053818</td>\n",
       "      <td>2.052139</td>\n",
       "      <td>2.289795</td>\n",
       "      <td>2.235571</td>\n",
       "      <td>1.905614</td>\n",
       "      <td>2.116100</td>\n",
       "      <td>1.925600</td>\n",
       "      <td>2.097183</td>\n",
       "    </tr>\n",
       "    <tr>\n",
       "      <th>MAPE</th>\n",
       "      <td>0.008071</td>\n",
       "      <td>0.007745</td>\n",
       "      <td>0.008673</td>\n",
       "      <td>0.008329</td>\n",
       "      <td>0.008658</td>\n",
       "      <td>0.010233</td>\n",
       "      <td>0.009630</td>\n",
       "      <td>0.009022</td>\n",
       "      <td>0.009065</td>\n",
       "      <td>0.009719</td>\n",
       "      <td>...</td>\n",
       "      <td>0.007523</td>\n",
       "      <td>0.009167</td>\n",
       "      <td>0.008331</td>\n",
       "      <td>0.008223</td>\n",
       "      <td>0.009173</td>\n",
       "      <td>0.008975</td>\n",
       "      <td>0.007617</td>\n",
       "      <td>0.008544</td>\n",
       "      <td>0.007593</td>\n",
       "      <td>0.008333</td>\n",
       "    </tr>\n",
       "  </tbody>\n",
       "</table>\n",
       "<p>4 rows × 21 columns</p>\n",
       "</div>"
      ],
      "text/plain": [
       "        fold_1    fold_2    fold_3    fold_4    fold_5    fold_6     fold_7  \\\n",
       "MSE   5.748903  6.770223  8.662851  6.916399  7.516706  9.469388  10.934547   \n",
       "R2    0.998263  0.998205  0.997863  0.998040  0.997629  0.997401   0.996867   \n",
       "MAE   1.950637  1.937659  2.241559  2.121958  2.147535  2.442742   2.405281   \n",
       "MAPE  0.008071  0.007745  0.008673  0.008329  0.008658  0.010233   0.009630   \n",
       "\n",
       "        fold_8    fold_9    fold_10  ...   fold_12   fold_13   fold_14  \\\n",
       "MSE   9.436038  7.495071  18.753593  ...  5.691262  8.801867  7.525272   \n",
       "R2    0.996873  0.997822   0.994686  ...  0.998359  0.997289  0.997253   \n",
       "MAE   2.262093  2.239348   2.170436  ...  1.883480  2.222586  2.053818   \n",
       "MAPE  0.009022  0.009065   0.009719  ...  0.007523  0.009167  0.008331   \n",
       "\n",
       "       fold_15   fold_16   fold_17   fold_18   fold_19   fold_20      Test  \n",
       "MSE   7.314851  8.072349  8.866827  5.707318  7.247093  6.809605  8.403743  \n",
       "R2    0.997856  0.997618  0.997293  0.998352  0.997605  0.998108  0.997614  \n",
       "MAE   2.052139  2.289795  2.235571  1.905614  2.116100  1.925600  2.097183  \n",
       "MAPE  0.008223  0.009173  0.008975  0.007617  0.008544  0.007593  0.008333  \n",
       "\n",
       "[4 rows x 21 columns]"
      ]
     },
     "execution_count": 33,
     "metadata": {},
     "output_type": "execute_result"
    }
   ],
   "source": [
    "nn_metrics"
   ]
  },
  {
   "cell_type": "code",
   "execution_count": 35,
   "metadata": {},
   "outputs": [],
   "source": [
    "nn_test_pred_df = pd.DataFrame(nn_test_pred, columns=[\"y\"])\n",
    "nn_test_pred_df.to_csv(\"Workstream_1_ML_models/nn_test_pred.csv\", index=False)  "
   ]
  },
  {
   "cell_type": "code",
   "execution_count": null,
   "metadata": {},
   "outputs": [],
   "source": [
    "nn_metrics.to_csv(\"Best_NN_Model_performance.csv\", index=True)"
   ]
  }
 ],
 "metadata": {
  "kernelspec": {
   "display_name": "de_w6_rl",
   "language": "python",
   "name": "python3"
  },
  "language_info": {
   "codemirror_mode": {
    "name": "ipython",
    "version": 3
   },
   "file_extension": ".py",
   "mimetype": "text/x-python",
   "name": "python",
   "nbconvert_exporter": "python",
   "pygments_lexer": "ipython3",
   "version": "3.12.9"
  }
 },
 "nbformat": 4,
 "nbformat_minor": 2
}
