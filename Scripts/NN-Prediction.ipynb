{
 "cells": [
  {
   "cell_type": "markdown",
   "metadata": {},
   "source": [
    "# Notebook: Predicting CO2 emissions using Neural Networks"
   ]
  },
  {
   "cell_type": "markdown",
   "metadata": {},
   "source": [
    "Readme: In this notebook, NN models are constructed for CO2 Emission prediction, and the best model is selected and K-means validation is applied.\n",
    "\n",
    "- **Notebook content**:\n",
    "    - Design the architecture of NN and explore different model configuration\n",
    "\n",
    "    - Tune hyperparameters and select the best model\n",
    "\n",
    "- **Notebook Output**:\n",
    "\n",
    "    - Best model file\n",
    "\n",
    "    - The validation and test results of the best model"
   ]
  },
  {
   "cell_type": "code",
   "execution_count": 15,
   "metadata": {},
   "outputs": [],
   "source": [
    "# %pip install \"numpy<2\" torch torchvision scikit-learn\n",
    "# %pip install wandb"
   ]
  },
  {
   "cell_type": "code",
   "execution_count": 16,
   "metadata": {},
   "outputs": [
    {
     "name": "stdout",
     "output_type": "stream",
     "text": [
      "cuda\n"
     ]
    }
   ],
   "source": [
    "# Import libraries\n",
    "import numpy as np\n",
    "import pandas as pd\n",
    "import matplotlib.pyplot as plt\n",
    "import torch\n",
    "\n",
    "# Set device\n",
    "device = torch.device('cuda' if torch.cuda.is_available() else 'cpu')\n",
    "print(device)"
   ]
  },
  {
   "cell_type": "markdown",
   "metadata": {},
   "source": [
    "## 1 Define Plot Functions"
   ]
  },
  {
   "cell_type": "code",
   "execution_count": 17,
   "metadata": {},
   "outputs": [],
   "source": [
    "# Define functions\n",
    "import seaborn as sns\n",
    "import torch\n",
    "\n",
    "# 1 plot related functions----------------\n",
    "# plot predict and true values on validation dataset\n",
    "def plot_pred_true(y_test, y_pred, ax):\n",
    "\n",
    "    data = pd.DataFrame({'y_obs': y_test, 'y_pred': y_pred})\n",
    "\n",
    "    # plt.figure(figsize=(5, 5))\n",
    "    sns.scatterplot(data=data, x='y_obs', y='y_pred', s=10, ax=ax)\n",
    "    ax.plot(y_test, y_test, color='red', label='y=x')          # plot the line y=x\n",
    "    ax.set_title('Observed vs Predicted values in Test Dataset')   # title\n",
    "    ax.set_xlabel('Observed values')       # label for the x-axis\n",
    "    ax.set_ylabel('Predicted values')      # label for the y-axis\n",
    "    ax.legend()\n",
    "    ax.grid(True)\n",
    "\n",
    "# plot the loss value on training and validation dataset\n",
    "def plot_train_val_loss(train_loss, val_loss, ax):\n",
    "    \n",
    "    # ax.figure(figsize=(5, 5))\n",
    "\n",
    "    ax.plot(train_loss, label='train loss')\n",
    "    ax.plot(val_loss, label='val loss')\n",
    "    ax.set_title('Train vs Validation Loss')\n",
    "    ax.set_xlabel('Epoch')\n",
    "    ax.set_ylabel('Loss')\n",
    "    ax.legend()\n",
    "    ax.grid(True)\n",
    "\n",
    "# 2 Other functions---------------------\n",
    "# get the prediction and true values\n",
    "def model_prediction(model, val_loader, device):\n",
    "\n",
    "    model.eval()\n",
    "    pred = []\n",
    "    target = []\n",
    "\n",
    "    with torch.no_grad():\n",
    "        for X, y in val_loader:\n",
    "            X, y = X.to(device), y.to(device)\n",
    "\n",
    "            y_pred = model(X)      # predicted value\n",
    "\n",
    "            pred.extend(y_pred.cpu().numpy())\n",
    "            target.extend(y.cpu().numpy())\n",
    "\n",
    "    # Merge all the predictions and targets\n",
    "    predictions = np.concatenate(pred, axis=0)\n",
    "    labels = np.concatenate(target, axis=0)\n",
    "    return predictions, labels"
   ]
  },
  {
   "cell_type": "markdown",
   "metadata": {},
   "source": [
    "## 2 Data Preparation and Feature Selection"
   ]
  },
  {
   "cell_type": "code",
   "execution_count": 18,
   "metadata": {},
   "outputs": [],
   "source": [
    "import numpy as np\n",
    "import pandas as pd\n",
    "from sklearn.pipeline import Pipeline\n",
    "from sklearn.compose import ColumnTransformer\n",
    "from sklearn.preprocessing import StandardScaler, OneHotEncoder\n",
    "from sklearn.impute import SimpleImputer\n",
    "from sklearn.model_selection import train_test_split"
   ]
  },
  {
   "cell_type": "code",
   "execution_count": null,
   "metadata": {},
   "outputs": [],
   "source": []
  },
  {
   "cell_type": "markdown",
   "metadata": {},
   "source": [
    "### Load and Divide Traning and Testing Data"
   ]
  },
  {
   "cell_type": "markdown",
   "metadata": {},
   "source": [
    "Load the test and train dataset"
   ]
  },
  {
   "cell_type": "code",
   "execution_count": null,
   "metadata": {},
   "outputs": [],
   "source": [
    "# Import data\n",
    "trainset_df = pd.read_csv('Dataset1_train.csv')\n",
    "testset_df = pd.read_csv('Dataset1_test.csv')"
   ]
  },
  {
   "cell_type": "code",
   "execution_count": 24,
   "metadata": {},
   "outputs": [],
   "source": [
    "# Split the data into training and testing datasets\n",
    "X_train = trainset_df.drop(columns='CO2 Emissions(g/km)')"
   ]
  },
  {
   "cell_type": "code",
   "execution_count": 25,
   "metadata": {},
   "outputs": [
    {
     "data": {
      "text/html": [
       "<div>\n",
       "<style scoped>\n",
       "    .dataframe tbody tr th:only-of-type {\n",
       "        vertical-align: middle;\n",
       "    }\n",
       "\n",
       "    .dataframe tbody tr th {\n",
       "        vertical-align: top;\n",
       "    }\n",
       "\n",
       "    .dataframe thead th {\n",
       "        text-align: right;\n",
       "    }\n",
       "</style>\n",
       "<table border=\"1\" class=\"dataframe\">\n",
       "  <thead>\n",
       "    <tr style=\"text-align: right;\">\n",
       "      <th></th>\n",
       "      <th>Model Features</th>\n",
       "      <th>Vehicle Class</th>\n",
       "      <th>Engine Size(L)</th>\n",
       "      <th>Cylinders</th>\n",
       "      <th>Gearbox_Type</th>\n",
       "      <th>Gearbox_Number</th>\n",
       "      <th>Fuel Type</th>\n",
       "      <th>Fuel Consumption City (L/100 km)</th>\n",
       "      <th>Fuel Consumption Hwy (L/100 km)</th>\n",
       "      <th>Fuel Consumption Comb (L/100 km)</th>\n",
       "      <th>Fuel Consumption Comb (mpg)</th>\n",
       "    </tr>\n",
       "  </thead>\n",
       "  <tbody>\n",
       "    <tr>\n",
       "      <th>0</th>\n",
       "      <td>NaN</td>\n",
       "      <td>SUBCOMPACT</td>\n",
       "      <td>3.0</td>\n",
       "      <td>6</td>\n",
       "      <td>1</td>\n",
       "      <td>8.000000</td>\n",
       "      <td>Z</td>\n",
       "      <td>11.4</td>\n",
       "      <td>8.1</td>\n",
       "      <td>9.9</td>\n",
       "      <td>29</td>\n",
       "    </tr>\n",
       "    <tr>\n",
       "      <th>1</th>\n",
       "      <td>NaN</td>\n",
       "      <td>PICKUP TRUCK - SMALL</td>\n",
       "      <td>4.0</td>\n",
       "      <td>6</td>\n",
       "      <td>1</td>\n",
       "      <td>5.000000</td>\n",
       "      <td>X</td>\n",
       "      <td>14.7</td>\n",
       "      <td>10.3</td>\n",
       "      <td>12.7</td>\n",
       "      <td>22</td>\n",
       "    </tr>\n",
       "    <tr>\n",
       "      <th>2</th>\n",
       "      <td>NaN</td>\n",
       "      <td>COMPACT</td>\n",
       "      <td>3.0</td>\n",
       "      <td>6</td>\n",
       "      <td>0</td>\n",
       "      <td>6.000000</td>\n",
       "      <td>Z</td>\n",
       "      <td>13.8</td>\n",
       "      <td>9.0</td>\n",
       "      <td>11.7</td>\n",
       "      <td>24</td>\n",
       "    </tr>\n",
       "    <tr>\n",
       "      <th>3</th>\n",
       "      <td>NaN</td>\n",
       "      <td>TWO-SEATER</td>\n",
       "      <td>3.4</td>\n",
       "      <td>6</td>\n",
       "      <td>0</td>\n",
       "      <td>7.000000</td>\n",
       "      <td>Z</td>\n",
       "      <td>11.3</td>\n",
       "      <td>7.9</td>\n",
       "      <td>9.8</td>\n",
       "      <td>29</td>\n",
       "    </tr>\n",
       "    <tr>\n",
       "      <th>4</th>\n",
       "      <td>NaN</td>\n",
       "      <td>STATION WAGON - MID-SIZE</td>\n",
       "      <td>2.0</td>\n",
       "      <td>4</td>\n",
       "      <td>1</td>\n",
       "      <td>8.000000</td>\n",
       "      <td>Z</td>\n",
       "      <td>10.1</td>\n",
       "      <td>7.0</td>\n",
       "      <td>8.7</td>\n",
       "      <td>32</td>\n",
       "    </tr>\n",
       "    <tr>\n",
       "      <th>...</th>\n",
       "      <td>...</td>\n",
       "      <td>...</td>\n",
       "      <td>...</td>\n",
       "      <td>...</td>\n",
       "      <td>...</td>\n",
       "      <td>...</td>\n",
       "      <td>...</td>\n",
       "      <td>...</td>\n",
       "      <td>...</td>\n",
       "      <td>...</td>\n",
       "      <td>...</td>\n",
       "    </tr>\n",
       "    <tr>\n",
       "      <th>5903</th>\n",
       "      <td>NaN</td>\n",
       "      <td>SUBCOMPACT</td>\n",
       "      <td>2.0</td>\n",
       "      <td>4</td>\n",
       "      <td>0</td>\n",
       "      <td>6.000000</td>\n",
       "      <td>Z</td>\n",
       "      <td>10.3</td>\n",
       "      <td>7.4</td>\n",
       "      <td>9.0</td>\n",
       "      <td>31</td>\n",
       "    </tr>\n",
       "    <tr>\n",
       "      <th>5904</th>\n",
       "      <td>NaN</td>\n",
       "      <td>MID-SIZE</td>\n",
       "      <td>3.5</td>\n",
       "      <td>6</td>\n",
       "      <td>1</td>\n",
       "      <td>7.000000</td>\n",
       "      <td>X</td>\n",
       "      <td>10.6</td>\n",
       "      <td>7.3</td>\n",
       "      <td>9.1</td>\n",
       "      <td>31</td>\n",
       "    </tr>\n",
       "    <tr>\n",
       "      <th>5905</th>\n",
       "      <td>NaN</td>\n",
       "      <td>SUV - STANDARD</td>\n",
       "      <td>3.5</td>\n",
       "      <td>6</td>\n",
       "      <td>1</td>\n",
       "      <td>8.000000</td>\n",
       "      <td>X</td>\n",
       "      <td>11.7</td>\n",
       "      <td>8.8</td>\n",
       "      <td>10.4</td>\n",
       "      <td>27</td>\n",
       "    </tr>\n",
       "    <tr>\n",
       "      <th>5906</th>\n",
       "      <td>NaN</td>\n",
       "      <td>SUV - SMALL</td>\n",
       "      <td>2.5</td>\n",
       "      <td>4</td>\n",
       "      <td>1</td>\n",
       "      <td>6.854093</td>\n",
       "      <td>X</td>\n",
       "      <td>9.5</td>\n",
       "      <td>7.4</td>\n",
       "      <td>8.6</td>\n",
       "      <td>33</td>\n",
       "    </tr>\n",
       "    <tr>\n",
       "      <th>5907</th>\n",
       "      <td>NaN</td>\n",
       "      <td>FULL-SIZE</td>\n",
       "      <td>4.0</td>\n",
       "      <td>8</td>\n",
       "      <td>0</td>\n",
       "      <td>8.000000</td>\n",
       "      <td>Z</td>\n",
       "      <td>13.4</td>\n",
       "      <td>10.1</td>\n",
       "      <td>11.9</td>\n",
       "      <td>24</td>\n",
       "    </tr>\n",
       "  </tbody>\n",
       "</table>\n",
       "<p>5908 rows × 11 columns</p>\n",
       "</div>"
      ],
      "text/plain": [
       "     Model Features             Vehicle Class  Engine Size(L)  Cylinders  \\\n",
       "0               NaN                SUBCOMPACT             3.0          6   \n",
       "1               NaN      PICKUP TRUCK - SMALL             4.0          6   \n",
       "2               NaN                   COMPACT             3.0          6   \n",
       "3               NaN                TWO-SEATER             3.4          6   \n",
       "4               NaN  STATION WAGON - MID-SIZE             2.0          4   \n",
       "...             ...                       ...             ...        ...   \n",
       "5903            NaN                SUBCOMPACT             2.0          4   \n",
       "5904            NaN                  MID-SIZE             3.5          6   \n",
       "5905            NaN            SUV - STANDARD             3.5          6   \n",
       "5906            NaN               SUV - SMALL             2.5          4   \n",
       "5907            NaN                 FULL-SIZE             4.0          8   \n",
       "\n",
       "      Gearbox_Type  Gearbox_Number Fuel Type  \\\n",
       "0                1        8.000000         Z   \n",
       "1                1        5.000000         X   \n",
       "2                0        6.000000         Z   \n",
       "3                0        7.000000         Z   \n",
       "4                1        8.000000         Z   \n",
       "...            ...             ...       ...   \n",
       "5903             0        6.000000         Z   \n",
       "5904             1        7.000000         X   \n",
       "5905             1        8.000000         X   \n",
       "5906             1        6.854093         X   \n",
       "5907             0        8.000000         Z   \n",
       "\n",
       "      Fuel Consumption City (L/100 km)  Fuel Consumption Hwy (L/100 km)  \\\n",
       "0                                 11.4                              8.1   \n",
       "1                                 14.7                             10.3   \n",
       "2                                 13.8                              9.0   \n",
       "3                                 11.3                              7.9   \n",
       "4                                 10.1                              7.0   \n",
       "...                                ...                              ...   \n",
       "5903                              10.3                              7.4   \n",
       "5904                              10.6                              7.3   \n",
       "5905                              11.7                              8.8   \n",
       "5906                               9.5                              7.4   \n",
       "5907                              13.4                             10.1   \n",
       "\n",
       "      Fuel Consumption Comb (L/100 km)  Fuel Consumption Comb (mpg)  \n",
       "0                                  9.9                           29  \n",
       "1                                 12.7                           22  \n",
       "2                                 11.7                           24  \n",
       "3                                  9.8                           29  \n",
       "4                                  8.7                           32  \n",
       "...                                ...                          ...  \n",
       "5903                               9.0                           31  \n",
       "5904                               9.1                           31  \n",
       "5905                              10.4                           27  \n",
       "5906                               8.6                           33  \n",
       "5907                              11.9                           24  \n",
       "\n",
       "[5908 rows x 11 columns]"
      ]
     },
     "execution_count": 25,
     "metadata": {},
     "output_type": "execute_result"
    }
   ],
   "source": [
    "X_train"
   ]
  },
  {
   "cell_type": "code",
   "execution_count": 22,
   "metadata": {},
   "outputs": [
    {
     "data": {
      "text/plain": [
       "'Dataset1_train.csv'"
      ]
     },
     "execution_count": 22,
     "metadata": {},
     "output_type": "execute_result"
    }
   ],
   "source": [
    "train_data_file"
   ]
  },
  {
   "cell_type": "code",
   "execution_count": 23,
   "metadata": {},
   "outputs": [
    {
     "ename": "NameError",
     "evalue": "name 'df_emission' is not defined",
     "output_type": "error",
     "traceback": [
      "\u001b[1;31m---------------------------------------------------------------------------\u001b[0m",
      "\u001b[1;31mNameError\u001b[0m                                 Traceback (most recent call last)",
      "Cell \u001b[1;32mIn[23], line 2\u001b[0m\n\u001b[0;32m      1\u001b[0m \u001b[38;5;66;03m# Split feature and target variables\u001b[39;00m\n\u001b[1;32m----> 2\u001b[0m X \u001b[38;5;241m=\u001b[39m \u001b[43mdf_emission\u001b[49m[[\u001b[38;5;124m'\u001b[39m\u001b[38;5;124mVehicle Class\u001b[39m\u001b[38;5;124m'\u001b[39m, \u001b[38;5;124m'\u001b[39m\u001b[38;5;124mTransmission\u001b[39m\u001b[38;5;124m'\u001b[39m, \u001b[38;5;124m'\u001b[39m\u001b[38;5;124mFuel Type\u001b[39m\u001b[38;5;124m'\u001b[39m, \u001b[38;5;124m'\u001b[39m\u001b[38;5;124mEngine Size(L)\u001b[39m\u001b[38;5;124m'\u001b[39m, \u001b[38;5;124m'\u001b[39m\u001b[38;5;124mCylinders\u001b[39m\u001b[38;5;124m'\u001b[39m, \u001b[38;5;124m'\u001b[39m\u001b[38;5;124mFuel Consumption City (L/100 km)\u001b[39m\u001b[38;5;124m'\u001b[39m, \u001b[38;5;124m'\u001b[39m\u001b[38;5;124mFuel Consumption Hwy (L/100 km)\u001b[39m\u001b[38;5;124m'\u001b[39m, \u001b[38;5;124m'\u001b[39m\u001b[38;5;124mFuel Consumption Comb (L/100 km)\u001b[39m\u001b[38;5;124m'\u001b[39m]]\n\u001b[0;32m      3\u001b[0m y \u001b[38;5;241m=\u001b[39m df_emission[\u001b[38;5;124m'\u001b[39m\u001b[38;5;124mCO2 Emissions(g/km)\u001b[39m\u001b[38;5;124m'\u001b[39m]\n",
      "\u001b[1;31mNameError\u001b[0m: name 'df_emission' is not defined"
     ]
    }
   ],
   "source": [
    "\n",
    "\n",
    "# Split feature and target variables\n",
    "X = df_emission[['Vehicle Class', 'Transmission', 'Fuel Type', 'Engine Size(L)', 'Cylinders', 'Fuel Consumption City (L/100 km)', 'Fuel Consumption Hwy (L/100 km)', 'Fuel Consumption Comb (L/100 km)']]\n",
    "y = df_emission['CO2 Emissions(g/km)']"
   ]
  },
  {
   "cell_type": "markdown",
   "metadata": {},
   "source": [
    "Data Processing - Split dataset, Encode variables, Prepare dataloader"
   ]
  },
  {
   "cell_type": "code",
   "execution_count": null,
   "metadata": {},
   "outputs": [],
   "source": [
    "\n",
    "\n",
    "\n",
    "# Preprocessing - Numerical data & Categorical data\n",
    "\n",
    "# Divide the data into numerical and categorical data\n",
    "num_features = X.select_dtypes(include=['int64', 'float64', 'float32']).columns  # select numerical columns\n",
    "cat_features = X.select_dtypes(include=['object']).columns  # select categorical columns\n",
    "\n",
    "# numerical columns: 'Vehicle Class', 'Transmission', 'Fuel Type'  \n",
    "# 'Engine Size(L)', 'Cylinders', 'Fuel Consumption City (L/100 km)', 'Fuel Consumption Hwy (L/100 km)', 'Fuel Consumption Comb (L/100 km)'\n",
    "\n",
    "# Create a pipeline for numerical data\n",
    "num_pipeline = Pipeline([\n",
    "    ('imputer', SimpleImputer(strategy='median')),  # impute missing values with median\n",
    "    ('std_scaler', StandardScaler())   # standardize the data\n",
    "])\n",
    "\n",
    "# Create a pipeline for categorical data\n",
    "cat_pipeline = Pipeline([\n",
    "    ('onehot', OneHotEncoder(handle_unknown='ignore'))  # one-hot encode the data\n",
    "])\n",
    "\n",
    "# Combine the numerical and categorical pipeline\n",
    "preprocessor = ColumnTransformer([\n",
    "    ('num', num_pipeline, num_features),\n",
    "    ('cat', cat_pipeline, cat_features)\n",
    "])\n",
    "\n",
    "# Fit and transform the data on the training dataset\n",
    "X_train_processed = preprocessor.fit_transform(X_train)\n",
    "X_val_processed = preprocessor.transform(X_val)\n"
   ]
  },
  {
   "cell_type": "markdown",
   "metadata": {},
   "source": [
    "Inspect the processed data"
   ]
  },
  {
   "cell_type": "code",
   "execution_count": null,
   "metadata": {},
   "outputs": [
    {
     "name": "stdout",
     "output_type": "stream",
     "text": [
      "Processed Train Dataset：\n",
      "   Engine Size(L)  Cylinders  Fuel Consumption City (L/100 km)  \\\n",
      "0       -0.855137  -0.882323                         -0.698764   \n",
      "1        1.581199   1.303781                          2.029280   \n",
      "2       -0.485995  -0.882323                         -0.556678   \n",
      "3        0.916744   1.303781                          0.608424   \n",
      "4        0.178460   0.210729                         -0.045170   \n",
      "\n",
      "   Fuel Consumption Hwy (L/100 km)  Fuel Consumption Comb (L/100 km)  \\\n",
      "0                        -0.688304                         -0.713565   \n",
      "1                         2.173003                          2.106191   \n",
      "2                        -0.777720                         -0.644791   \n",
      "3                         0.295271                          0.524377   \n",
      "4                        -0.196517                         -0.094594   \n",
      "\n",
      "   Vehicle Class_COMPACT  Vehicle Class_FULL-SIZE  Vehicle Class_MID-SIZE  \\\n",
      "0                    0.0                      0.0                     0.0   \n",
      "1                    0.0                      0.0                     0.0   \n",
      "2                    1.0                      0.0                     0.0   \n",
      "3                    1.0                      0.0                     0.0   \n",
      "4                    0.0                      0.0                     0.0   \n",
      "\n",
      "   Vehicle Class_MINICOMPACT  Vehicle Class_MINIVAN  ...  Transmission_AV7  \\\n",
      "0                        0.0                    0.0  ...               0.0   \n",
      "1                        0.0                    0.0  ...               0.0   \n",
      "2                        0.0                    0.0  ...               0.0   \n",
      "3                        0.0                    0.0  ...               0.0   \n",
      "4                        1.0                    0.0  ...               0.0   \n",
      "\n",
      "   Transmission_AV8  Transmission_M5  Transmission_M6  Transmission_M7  \\\n",
      "0               0.0              0.0              0.0              0.0   \n",
      "1               0.0              0.0              0.0              0.0   \n",
      "2               0.0              0.0              0.0              0.0   \n",
      "3               0.0              0.0              0.0              0.0   \n",
      "4               0.0              0.0              0.0              1.0   \n",
      "\n",
      "   Fuel Type_D  Fuel Type_E  Fuel Type_N  Fuel Type_X  Fuel Type_Z  \n",
      "0          0.0          0.0          0.0          0.0          1.0  \n",
      "1          0.0          1.0          0.0          0.0          0.0  \n",
      "2          0.0          0.0          0.0          1.0          0.0  \n",
      "3          0.0          0.0          0.0          0.0          1.0  \n",
      "4          0.0          0.0          0.0          0.0          1.0  \n",
      "\n",
      "[5 rows x 53 columns]\n",
      "Processed Test Dataset：\n",
      "   Engine Size(L)  Cylinders  Fuel Consumption City (L/100 km)  \\\n",
      "0       -0.116853   0.210729                         -0.158839   \n",
      "1       -0.855137  -0.882323                         -0.954518   \n",
      "2        0.473774   0.210729                         -0.016753   \n",
      "3       -0.485995  -0.882323                         -1.068187   \n",
      "4       -0.116853   0.210729                         -0.443010   \n",
      "\n",
      "   Fuel Consumption Hwy (L/100 km)  Fuel Consumption Comb (L/100 km)  \\\n",
      "0                        -0.375348                         -0.232143   \n",
      "1                        -0.554180                         -0.851114   \n",
      "2                        -0.017685                          0.008568   \n",
      "3                        -1.135383                         -1.091825   \n",
      "4                        -0.241224                         -0.369692   \n",
      "\n",
      "   Vehicle Class_COMPACT  Vehicle Class_FULL-SIZE  Vehicle Class_MID-SIZE  \\\n",
      "0                    0.0                      0.0                     0.0   \n",
      "1                    0.0                      0.0                     0.0   \n",
      "2                    0.0                      0.0                     0.0   \n",
      "3                    0.0                      0.0                     1.0   \n",
      "4                    0.0                      0.0                     0.0   \n",
      "\n",
      "   Vehicle Class_MINICOMPACT  Vehicle Class_MINIVAN  ...  Transmission_AV7  \\\n",
      "0                        1.0                    0.0  ...               0.0   \n",
      "1                        0.0                    0.0  ...               0.0   \n",
      "2                        1.0                    0.0  ...               0.0   \n",
      "3                        0.0                    0.0  ...               1.0   \n",
      "4                        1.0                    0.0  ...               0.0   \n",
      "\n",
      "   Transmission_AV8  Transmission_M5  Transmission_M6  Transmission_M7  \\\n",
      "0               0.0              0.0              0.0              1.0   \n",
      "1               0.0              0.0              0.0              0.0   \n",
      "2               0.0              0.0              0.0              0.0   \n",
      "3               0.0              0.0              0.0              0.0   \n",
      "4               0.0              0.0              0.0              0.0   \n",
      "\n",
      "   Fuel Type_D  Fuel Type_E  Fuel Type_N  Fuel Type_X  Fuel Type_Z  \n",
      "0          0.0          0.0          0.0          0.0          1.0  \n",
      "1          1.0          0.0          0.0          0.0          0.0  \n",
      "2          0.0          0.0          0.0          0.0          1.0  \n",
      "3          0.0          0.0          0.0          1.0          0.0  \n",
      "4          0.0          0.0          0.0          0.0          1.0  \n",
      "\n",
      "[5 rows x 53 columns]\n"
     ]
    }
   ],
   "source": [
    "feature_names = list(num_features) + \\\n",
    "    list(preprocessor.named_transformers_['cat'].named_steps['onehot'].get_feature_names_out(cat_features))\n",
    "\n",
    "X_train_df = pd.DataFrame(X_train_processed.toarray(), columns=feature_names)\n",
    "\n",
    "X_val_df = pd.DataFrame(X_val_processed.toarray(), columns=feature_names)\n",
    "\n",
    "print(\"Processed Train Dataset：\")\n",
    "print(X_train_df.head())\n",
    "\n",
    "print(\"Processed Test Dataset：\")\n",
    "print(X_val_df.head())\n"
   ]
  },
  {
   "cell_type": "code",
   "execution_count": null,
   "metadata": {},
   "outputs": [],
   "source": [
    "# # Standerdize the data\n",
    "# from sklearn.preprocessing import StandardScaler\n",
    "# scaler = StandardScaler()\n",
    "\n",
    "# X_train_scaled = scaler.fit_transform(X_train)\n",
    "# X_val_scaled = scaler.transform(X_val)\n"
   ]
  },
  {
   "cell_type": "code",
   "execution_count": null,
   "metadata": {},
   "outputs": [],
   "source": [
    "# Prepare the Dataloader\n",
    "import torch\n",
    "import torch.nn as nn\n",
    "from torch.utils.data import DataLoader, TensorDataset\n",
    "\n",
    "# Convert data to Tensor\n",
    "X_train_tensor = torch.tensor(X_train_processed.toarray(), dtype=torch.float32) \n",
    "y_train_tensor = torch.tensor(y_train.values, dtype=torch.float32).view(-1, 1)\n",
    "\n",
    "X_val_tensor = torch.tensor(X_val_processed.toarray(), dtype=torch.float32)\n",
    "y_val_tensor = torch.tensor(y_val.values, dtype=torch.float32).view(-1, 1)\n",
    "\n",
    "# Load the training data and validation data\n",
    "train_dataset = TensorDataset(X_train_tensor, y_train_tensor)\n",
    "val_dataset = TensorDataset(X_val_tensor,y_val_tensor)\n",
    "\n",
    "# Set hyperparameters\n",
    "batch_size = 64  # batch size\n",
    "\n",
    "# Create data loader\n",
    "train_Loader = DataLoader(dataset=train_dataset, batch_size=batch_size, shuffle=True)\n",
    "val_Loader = DataLoader(dataset=val_dataset, batch_size=batch_size, shuffle=False)\n",
    "\n"
   ]
  },
  {
   "cell_type": "markdown",
   "metadata": {},
   "source": [
    "## 3 Create Simple Neural Network"
   ]
  },
  {
   "cell_type": "markdown",
   "metadata": {},
   "source": [
    "### 3.1 Define Neural Network Architecture"
   ]
  },
  {
   "cell_type": "code",
   "execution_count": null,
   "metadata": {},
   "outputs": [],
   "source": [
    "# Define the NN models\n",
    "# Simple Neural Network, activate funcion - ReLU\n",
    "\n",
    "class SimpleNeuralNetwork(nn.Module):\n",
    "    def __init__(self, input_size, hidden_size, output_size):\n",
    "        super(SimpleNeuralNetwork, self).__init__()\n",
    "\n",
    "        self.fc1 = nn.Linear(input_size, hidden_size)\n",
    "        self.activation = nn.ReLU()\n",
    "        self.fc2 = nn.Linear(hidden_size,output_size)\n",
    "        \n",
    "    def forward(self, x):\n",
    "        hidden = self.fc1(x)\n",
    "        hidden = self.activation(hidden)\n",
    "        out = self.fc2(hidden)\n",
    "        return out\n",
    "\n",
    "# Simple Neural Network, activate funcion - Tanh\n",
    "class Simple_tanh_NN(nn.Module):\n",
    "    def __init__(self, input_size, hidden_size, output_size):\n",
    "        super(Simple_tanh_NN, self).__init__()\n",
    "\n",
    "        self.fc1 = nn.Linear(input_size, hidden_size)\n",
    "        self.activation = nn.Tanh()\n",
    "        self.fc2 = nn.Linear(hidden_size,output_size)\n",
    "        \n",
    "    def forward(self, x):\n",
    "        hidden = self.fc1(x)\n",
    "        hidden = self.activation(hidden)\n",
    "        out = self.fc2(hidden)\n",
    "        return out"
   ]
  },
  {
   "cell_type": "markdown",
   "metadata": {},
   "source": [
    "### 3.2 Train and Evaluate the NN model "
   ]
  },
  {
   "cell_type": "code",
   "execution_count": null,
   "metadata": {},
   "outputs": [],
   "source": [
    "# Define helper functions\n",
    "# Train epoch function\n",
    "def train_epoch(model, train_loader, criterion, optimizer, device):\n",
    "    model.train()\n",
    "    running_loss = 0.0\n",
    "\n",
    "    # for features, target in tqdm(train_loader, desc=f\"Training Epoch {epoch+1}\"):\n",
    "    for features, target in train_loader:\n",
    "        features, target = features.to(device), target.to(device)\n",
    "\n",
    "        optimizer.zero_grad()\n",
    "        outputs = model(features) # Forward pass\n",
    "        loss = criterion(outputs, target)\n",
    "\n",
    "        loss.backward()  # Backward pass\n",
    "        optimizer.step() # Update the weights\n",
    "\n",
    "        running_loss += loss.item() * features.size(0)\n",
    "\n",
    "    return running_loss / len(train_loader.dataset)\n",
    "\n",
    "# Validation epoch function\n",
    "def val_epoch(model, val_loader, criterion, device):\n",
    "    model.eval()\n",
    "    val_loss = 0.0\n",
    "\n",
    "    with torch.no_grad():\n",
    "        for features, target in val_loader:\n",
    "            # print(featuresfeatures.size(0))\n",
    "            features, target = features.to(device), target.to(device)\n",
    "            # features = features.view(features.size(0), -1)\n",
    "\n",
    "            outputs = model(features)\n",
    "            loss = criterion(outputs, target)\n",
    "            val_loss += loss.item() * features.size(0)\n",
    "\n",
    "    return val_loss / len(val_loader.dataset)\n",
    "\n"
   ]
  },
  {
   "cell_type": "markdown",
   "metadata": {},
   "source": [
    "### Hold-out Validation for SimpleNeuralNetwork"
   ]
  },
  {
   "cell_type": "markdown",
   "metadata": {},
   "source": [
    "#### Set Parameters"
   ]
  },
  {
   "cell_type": "code",
   "execution_count": null,
   "metadata": {},
   "outputs": [],
   "source": [
    "import torch.optim as optim\n",
    "\n",
    "# Set  hyperparameters\n",
    "input_size =  X_train_processed.shape[1]   # Input size \n",
    "hidden_size = 20            # Hiddern size\n",
    "output_size = 1             # Output size\n",
    "\n",
    "learning_rate = 0.02        # Learning rate\n",
    "n_epochs = 100 # Numebr of epochs\n",
    "\n",
    "# Initialize the model\n",
    "nn_model = SimpleNeuralNetwork(input_size=input_size, hidden_size=hidden_size, output_size=output_size)\n",
    "nn_model.to(device)\n",
    "\n",
    "# Define the loss function and the optimizer\n",
    "criterion = nn.MSELoss()    # Mean Squared Error for Linear Regression\n",
    "optimizer = optim.Adam(nn_model.parameters(), lr=learning_rate)\n"
   ]
  },
  {
   "cell_type": "markdown",
   "metadata": {},
   "source": [
    "#### Train and Validate"
   ]
  },
  {
   "cell_type": "code",
   "execution_count": null,
   "metadata": {},
   "outputs": [
    {
     "name": "stdout",
     "output_type": "stream",
     "text": [
      "Epoch 1/100, Train Loss: 32362.8912 | Validation Loss: 1678.1346\n",
      "Epoch 2/100, Train Loss: 581.6206 | Validation Loss: 155.0283\n",
      "Epoch 3/100, Train Loss: 90.1562 | Validation Loss: 49.6140\n",
      "Epoch 4/100, Train Loss: 41.3743 | Validation Loss: 35.2165\n",
      "Epoch 5/100, Train Loss: 33.5655 | Validation Loss: 28.7034\n",
      "Epoch 6/100, Train Loss: 30.6513 | Validation Loss: 25.3183\n",
      "Epoch 7/100, Train Loss: 29.2911 | Validation Loss: 24.4954\n",
      "Epoch 8/100, Train Loss: 28.6345 | Validation Loss: 23.7372\n",
      "Epoch 9/100, Train Loss: 28.3204 | Validation Loss: 25.0673\n",
      "Epoch 10/100, Train Loss: 28.5891 | Validation Loss: 22.8485\n",
      "Epoch 11/100, Train Loss: 28.2125 | Validation Loss: 22.9436\n",
      "Epoch 12/100, Train Loss: 28.7348 | Validation Loss: 22.9173\n",
      "Epoch 13/100, Train Loss: 27.6134 | Validation Loss: 22.1877\n",
      "Epoch 14/100, Train Loss: 28.2889 | Validation Loss: 25.1020\n",
      "Epoch 15/100, Train Loss: 28.0502 | Validation Loss: 22.8128\n",
      "Epoch 16/100, Train Loss: 28.9138 | Validation Loss: 22.0327\n",
      "Epoch 17/100, Train Loss: 29.4398 | Validation Loss: 26.1892\n",
      "Epoch 18/100, Train Loss: 28.8689 | Validation Loss: 21.6398\n",
      "Epoch 19/100, Train Loss: 27.8052 | Validation Loss: 25.6714\n",
      "Epoch 20/100, Train Loss: 28.0029 | Validation Loss: 22.5331\n",
      "Epoch 21/100, Train Loss: 27.1831 | Validation Loss: 22.8939\n",
      "Epoch 22/100, Train Loss: 28.4470 | Validation Loss: 23.5639\n",
      "Epoch 23/100, Train Loss: 26.3923 | Validation Loss: 20.8259\n",
      "Epoch 24/100, Train Loss: 25.5901 | Validation Loss: 18.8891\n",
      "Epoch 25/100, Train Loss: 23.2356 | Validation Loss: 19.4191\n",
      "Epoch 26/100, Train Loss: 22.0161 | Validation Loss: 17.8714\n",
      "Epoch 27/100, Train Loss: 21.1886 | Validation Loss: 21.2942\n",
      "Epoch 28/100, Train Loss: 19.8829 | Validation Loss: 20.0601\n",
      "Epoch 29/100, Train Loss: 18.6113 | Validation Loss: 16.1803\n",
      "Epoch 30/100, Train Loss: 18.4250 | Validation Loss: 14.9892\n",
      "Epoch 31/100, Train Loss: 15.9785 | Validation Loss: 17.1074\n",
      "Epoch 32/100, Train Loss: 15.4078 | Validation Loss: 14.0807\n",
      "Epoch 33/100, Train Loss: 14.9811 | Validation Loss: 16.2051\n",
      "Epoch 34/100, Train Loss: 15.3833 | Validation Loss: 14.2064\n",
      "Epoch 35/100, Train Loss: 13.3643 | Validation Loss: 13.4928\n",
      "Epoch 36/100, Train Loss: 12.6283 | Validation Loss: 13.9575\n",
      "Epoch 37/100, Train Loss: 12.5301 | Validation Loss: 13.5285\n",
      "Epoch 38/100, Train Loss: 11.6628 | Validation Loss: 13.7696\n",
      "Epoch 39/100, Train Loss: 11.5071 | Validation Loss: 13.8319\n",
      "Epoch 40/100, Train Loss: 11.6349 | Validation Loss: 12.6261\n",
      "Epoch 41/100, Train Loss: 10.7244 | Validation Loss: 15.6378\n",
      "Epoch 42/100, Train Loss: 10.8719 | Validation Loss: 12.0235\n",
      "Epoch 43/100, Train Loss: 10.5511 | Validation Loss: 12.1674\n",
      "Epoch 44/100, Train Loss: 10.8196 | Validation Loss: 11.7928\n",
      "Epoch 45/100, Train Loss: 10.0212 | Validation Loss: 13.3042\n",
      "Epoch 46/100, Train Loss: 9.8602 | Validation Loss: 12.0825\n",
      "Epoch 47/100, Train Loss: 10.0408 | Validation Loss: 12.6396\n",
      "Epoch 48/100, Train Loss: 9.8639 | Validation Loss: 13.5127\n",
      "Epoch 49/100, Train Loss: 9.9296 | Validation Loss: 12.3239\n",
      "Epoch 50/100, Train Loss: 9.7567 | Validation Loss: 12.5457\n",
      "Epoch 51/100, Train Loss: 9.6077 | Validation Loss: 12.6273\n",
      "Epoch 52/100, Train Loss: 9.5666 | Validation Loss: 12.6172\n",
      "Epoch 53/100, Train Loss: 9.2888 | Validation Loss: 12.0000\n",
      "Epoch 54/100, Train Loss: 9.8957 | Validation Loss: 12.1416\n",
      "Epoch 55/100, Train Loss: 10.2003 | Validation Loss: 11.6779\n",
      "Epoch 56/100, Train Loss: 9.4458 | Validation Loss: 12.5367\n",
      "Epoch 57/100, Train Loss: 9.8041 | Validation Loss: 14.0389\n",
      "Epoch 58/100, Train Loss: 9.6824 | Validation Loss: 13.2283\n",
      "Epoch 59/100, Train Loss: 9.4251 | Validation Loss: 12.6085\n",
      "Epoch 60/100, Train Loss: 9.9072 | Validation Loss: 12.1351\n",
      "Epoch 61/100, Train Loss: 9.1926 | Validation Loss: 12.7335\n",
      "Epoch 62/100, Train Loss: 9.5324 | Validation Loss: 13.3427\n",
      "Epoch 63/100, Train Loss: 9.5252 | Validation Loss: 12.0276\n",
      "Epoch 64/100, Train Loss: 9.1488 | Validation Loss: 13.3279\n",
      "Epoch 65/100, Train Loss: 9.5168 | Validation Loss: 12.8649\n",
      "Epoch 66/100, Train Loss: 10.1877 | Validation Loss: 11.7555\n",
      "Epoch 67/100, Train Loss: 9.2791 | Validation Loss: 13.0779\n",
      "Epoch 68/100, Train Loss: 9.4706 | Validation Loss: 11.8839\n",
      "Epoch 69/100, Train Loss: 9.4592 | Validation Loss: 12.7157\n",
      "Epoch 70/100, Train Loss: 9.4191 | Validation Loss: 12.6072\n",
      "Epoch 71/100, Train Loss: 9.1424 | Validation Loss: 11.7719\n",
      "Epoch 72/100, Train Loss: 9.7054 | Validation Loss: 13.2497\n",
      "Epoch 73/100, Train Loss: 9.4947 | Validation Loss: 11.8732\n",
      "Epoch 74/100, Train Loss: 9.0729 | Validation Loss: 12.7858\n",
      "Epoch 75/100, Train Loss: 9.5880 | Validation Loss: 12.2469\n",
      "Epoch 76/100, Train Loss: 9.3395 | Validation Loss: 14.5364\n",
      "Epoch 77/100, Train Loss: 9.6496 | Validation Loss: 13.4220\n",
      "Epoch 78/100, Train Loss: 10.2263 | Validation Loss: 14.5118\n",
      "Epoch 79/100, Train Loss: 9.7019 | Validation Loss: 12.4843\n",
      "Epoch 80/100, Train Loss: 9.5216 | Validation Loss: 14.9999\n",
      "Epoch 81/100, Train Loss: 9.8812 | Validation Loss: 12.4458\n",
      "Epoch 82/100, Train Loss: 9.1637 | Validation Loss: 12.3665\n",
      "Epoch 83/100, Train Loss: 10.3009 | Validation Loss: 12.6432\n",
      "Epoch 84/100, Train Loss: 9.2500 | Validation Loss: 12.4957\n",
      "Epoch 85/100, Train Loss: 9.5735 | Validation Loss: 12.0716\n",
      "Epoch 86/100, Train Loss: 9.1541 | Validation Loss: 11.7949\n",
      "Epoch 87/100, Train Loss: 9.7326 | Validation Loss: 12.7890\n",
      "Epoch 88/100, Train Loss: 9.9219 | Validation Loss: 14.0300\n",
      "Epoch 89/100, Train Loss: 9.6115 | Validation Loss: 13.6255\n",
      "Epoch 90/100, Train Loss: 9.6595 | Validation Loss: 12.0122\n",
      "Epoch 91/100, Train Loss: 10.0183 | Validation Loss: 12.5298\n",
      "Epoch 92/100, Train Loss: 9.2597 | Validation Loss: 12.7038\n",
      "Epoch 93/100, Train Loss: 9.8865 | Validation Loss: 12.8649\n",
      "Epoch 94/100, Train Loss: 9.4160 | Validation Loss: 12.5296\n",
      "Epoch 95/100, Train Loss: 10.1544 | Validation Loss: 15.0017\n",
      "Epoch 96/100, Train Loss: 10.1291 | Validation Loss: 13.1517\n",
      "Epoch 97/100, Train Loss: 10.3500 | Validation Loss: 12.8270\n",
      "Epoch 98/100, Train Loss: 9.2078 | Validation Loss: 12.6103\n",
      "Epoch 99/100, Train Loss: 9.3044 | Validation Loss: 12.1669\n",
      "Epoch 100/100, Train Loss: 9.3981 | Validation Loss: 12.1651\n",
      "Training complete.\n"
     ]
    }
   ],
   "source": [
    "# Train & Evaluate the model\n",
    "train_loss_hist = []\n",
    "val_loss_hist = []\n",
    "\n",
    "# Train the model\n",
    "for epoch in range(n_epochs):  # n_epochs\n",
    "    train_loss = train_epoch(nn_model, train_Loader, criterion, optimizer, device)\n",
    "    val_loss = val_epoch(nn_model, val_Loader, criterion, device)\n",
    "\n",
    "    train_loss_hist.append(train_loss)\n",
    "    val_loss_hist.append(val_loss)\n",
    "\n",
    "    print(f'Epoch {epoch+1}/{n_epochs}, Train Loss: {train_loss:.4f} | Validation Loss: {val_loss:.4f}')\n",
    "\n",
    "print(\"Training complete.\")"
   ]
  },
  {
   "cell_type": "markdown",
   "metadata": {},
   "source": [
    "#### Evaluate Using Validation Loss and Visualization"
   ]
  },
  {
   "cell_type": "code",
   "execution_count": null,
   "metadata": {},
   "outputs": [
    {
     "name": "stdout",
     "output_type": "stream",
     "text": [
      "Validation Loss: 12.1651\n"
     ]
    },
    {
     "data": {
      "image/png": "[encoded data removed]",
      "text/plain": [
       "<Figure size 1200x500 with 2 Axes>"
      ]
     },
     "metadata": {},
     "output_type": "display_data"
    }
   ],
   "source": [
    "y_pred, y_label = model_prediction(nn_model, val_Loader, device)\n",
    "\n",
    "# Evaluate model - Using Validation Loss-------------------\n",
    "Val_loss = val_loss_hist[-1] # Use the last value of the validation loss as the final loss\n",
    "\n",
    "print(f'Validation Loss: {Val_loss:.4f}')\n",
    "\n",
    "# Evaluate model - Using plot--------------------\n",
    "fig, ax = plt.subplots(1, 2, figsize=(12, 5))\n",
    "\n",
    "# Plot of Observed and Predicted Values\n",
    "plot_pred_true(y_label, y_pred, ax[0])      \n",
    "\n",
    "# Plot of Loss values & Epoch\n",
    "plot_train_val_loss(train_loss_hist, val_loss_hist, ax[1])\n"
   ]
  },
  {
   "cell_type": "markdown",
   "metadata": {},
   "source": [
    "### K-fold Cross-Validation"
   ]
  },
  {
   "cell_type": "code",
   "execution_count": null,
   "metadata": {},
   "outputs": [
    {
     "name": "stdout",
     "output_type": "stream",
     "text": [
      "Cross Validation for Small Single Model\n",
      "Overall Small Single Model - Train Loss: 34.5555 | Validation Loss: 28.7375\n",
      "Cross Validation for Large Single Model\n",
      "Overall Large Single Model - Train Loss: 38.3966 | Validation Loss: 31.1482\n",
      "Cross Validation for Small S_tanh Model\n",
      "Overall Small S_tanh Model - Train Loss: 64.6342 | Validation Loss: 67.1614\n",
      "Cross Validation for Large S_tanh Model\n",
      "Overall Large S_tanh Model - Train Loss: 34.3166 | Validation Loss: 34.6036\n",
      "Cross-validation complete.\n"
     ]
    }
   ],
   "source": [
    "from torch.utils.data import DataLoader, Subset\n",
    "from sklearn.model_selection import KFold\n",
    "\n",
    "# Define the two model architectures using lambdas to easily reinitialize per fold\n",
    "models = {\n",
    "    \"Small Single Model\": lambda: SimpleNeuralNetwork(input_size=input_size, hidden_size=16, output_size=1),\n",
    "    \"Large Single Model\": lambda: SimpleNeuralNetwork(input_size=input_size, hidden_size=32, output_size=1),\n",
    "    \"Small S_tanh Model\": lambda: Simple_tanh_NN(input_size=input_size, hidden_size=16, output_size=1),\n",
    "    \"Large S_tanh Model\": lambda: Simple_tanh_NN(input_size=input_size, hidden_size=32, output_size=1)\n",
    "}\n",
    "\n",
    "# Set hyperparameters\n",
    "k_folds = 5         # k=5 fold\n",
    "num_epochs = 20     # Number of epochs per fold\n",
    "\n",
    "# Set up K-Fold Cross Validation (K=5)\n",
    "kfold = KFold(n_splits=k_folds, shuffle=True)\n",
    "\n",
    "for model_name, model_fn in models.items():\n",
    "    print(f\"Cross Validation for {model_name}\")\n",
    "    \n",
    "    fold_train_losses = []\n",
    "    fold_val_losses = []\n",
    "    fold_number = 1\n",
    "    \n",
    "    for train_idx, val_idx in kfold.split(range(len(train_dataset))):     # Generate the idex of training and testing dataset # len(train_dataset) # 5908 \n",
    "        # print(f\"Fold {fold_number}\")\n",
    "        # Create subsets for training and validation data for this fold\n",
    "        train_subset = Subset(train_dataset, train_idx)\n",
    "        val_subset = Subset(train_dataset, val_idx)\n",
    "        \n",
    "        trainloader = DataLoader(train_subset, batch_size=64, shuffle=True)\n",
    "        valloader = DataLoader(val_subset, batch_size=64, shuffle=False)\n",
    "        \n",
    "        # Initialize model, loss function, and optimizer for this fold\n",
    "        model = model_fn().to(device)\n",
    "        criterion = nn.MSELoss()\n",
    "        optimizer = optim.SGD(model.parameters(), lr=0.001)\n",
    "        \n",
    "        # Train for the specified number of epochs and evaluate after each epoch\n",
    "        for epoch in range(num_epochs):\n",
    "            train_loss = train_epoch(model, trainloader, criterion, optimizer, device)\n",
    "            val_loss = val_epoch(model, valloader, criterion, device)\n",
    "            # print(f\" Epoch {epoch+1}/{num_epochs} - Train Loss: {train_loss:.4f} | Validation Loss: {val_loss:.4f}\")\n",
    "        \n",
    "        fold_train_losses.append(train_loss)\n",
    "        fold_val_losses.append(val_loss)\n",
    "        fold_number += 1\n",
    "        \n",
    "    overall_train_loss = sum(fold_train_losses) / k_folds\n",
    "    overall_val_loss = sum(fold_val_losses) / k_folds\n",
    "    print(f\"Overall {model_name} - Train Loss: {overall_train_loss:.4f} | Validation Loss: {overall_val_loss:.4f}\")\n",
    "\n",
    "print(\"Cross-validation complete.\")\n"
   ]
  },
  {
   "cell_type": "markdown",
   "metadata": {},
   "source": [
    "#### Set and Train the Model"
   ]
  },
  {
   "cell_type": "markdown",
   "metadata": {},
   "source": [
    "Select the best model in the K-fold validation, which is the model with activate function tanh, hidden layer size = 32."
   ]
  },
  {
   "cell_type": "code",
   "execution_count": null,
   "metadata": {},
   "outputs": [
    {
     "name": "stdout",
     "output_type": "stream",
     "text": [
      "Epoch 1/100, Train Loss: 56025.9444 | Validation Loss: 46480.5946\n",
      "Epoch 2/100, Train Loss: 39058.9320 | Validation Loss: 32540.7850\n",
      "Epoch 3/100, Train Loss: 27225.5814 | Validation Loss: 22590.6334\n",
      "Epoch 4/100, Train Loss: 18828.4189 | Validation Loss: 15591.0346\n",
      "Epoch 5/100, Train Loss: 13017.3093 | Validation Loss: 10846.8125\n",
      "Epoch 6/100, Train Loss: 9138.9570 | Validation Loss: 7753.0722\n",
      "Epoch 7/100, Train Loss: 6618.3975 | Validation Loss: 5594.6347\n",
      "Epoch 8/100, Train Loss: 4794.8214 | Validation Loss: 4121.8539\n",
      "Epoch 9/100, Train Loss: 3588.5358 | Validation Loss: 3126.7738\n",
      "Epoch 10/100, Train Loss: 2760.6024 | Validation Loss: 2430.9822\n",
      "Epoch 11/100, Train Loss: 2174.9971 | Validation Loss: 1936.1600\n",
      "Epoch 12/100, Train Loss: 1747.8420 | Validation Loss: 1569.6529\n",
      "Epoch 13/100, Train Loss: 1433.2494 | Validation Loss: 1296.4009\n",
      "Epoch 14/100, Train Loss: 1198.2873 | Validation Loss: 1082.2671\n",
      "Epoch 15/100, Train Loss: 1001.7613 | Validation Loss: 902.8560\n",
      "Epoch 16/100, Train Loss: 847.9656 | Validation Loss: 764.2304\n",
      "Epoch 17/100, Train Loss: 728.5094 | Validation Loss: 656.6147\n",
      "Epoch 18/100, Train Loss: 633.4900 | Validation Loss: 569.6865\n",
      "Epoch 19/100, Train Loss: 555.7741 | Validation Loss: 500.7652\n",
      "Epoch 20/100, Train Loss: 491.7496 | Validation Loss: 439.7069\n",
      "Epoch 21/100, Train Loss: 435.3802 | Validation Loss: 388.3137\n",
      "Epoch 22/100, Train Loss: 389.9831 | Validation Loss: 344.6498\n",
      "Epoch 23/100, Train Loss: 350.5066 | Validation Loss: 307.7530\n",
      "Epoch 24/100, Train Loss: 315.3277 | Validation Loss: 275.8356\n",
      "Epoch 25/100, Train Loss: 284.8832 | Validation Loss: 248.7662\n",
      "Epoch 26/100, Train Loss: 260.0440 | Validation Loss: 226.3082\n",
      "Epoch 27/100, Train Loss: 237.6527 | Validation Loss: 206.8669\n",
      "Epoch 28/100, Train Loss: 216.9693 | Validation Loss: 187.5073\n",
      "Epoch 29/100, Train Loss: 197.8688 | Validation Loss: 171.3597\n",
      "Epoch 30/100, Train Loss: 181.8767 | Validation Loss: 157.3377\n",
      "Epoch 31/100, Train Loss: 167.8274 | Validation Loss: 145.6918\n",
      "Epoch 32/100, Train Loss: 154.9451 | Validation Loss: 135.4850\n",
      "Epoch 33/100, Train Loss: 143.6465 | Validation Loss: 126.1901\n",
      "Epoch 34/100, Train Loss: 133.1042 | Validation Loss: 117.2505\n",
      "Epoch 35/100, Train Loss: 123.6162 | Validation Loss: 108.6668\n",
      "Epoch 36/100, Train Loss: 115.1222 | Validation Loss: 101.5828\n",
      "Epoch 37/100, Train Loss: 108.1369 | Validation Loss: 95.1416\n",
      "Epoch 38/100, Train Loss: 100.4590 | Validation Loss: 89.5883\n",
      "Epoch 39/100, Train Loss: 93.7651 | Validation Loss: 84.5515\n",
      "Epoch 40/100, Train Loss: 87.6157 | Validation Loss: 79.4389\n",
      "Epoch 41/100, Train Loss: 82.0707 | Validation Loss: 74.6783\n",
      "Epoch 42/100, Train Loss: 77.2850 | Validation Loss: 70.5138\n",
      "Epoch 43/100, Train Loss: 72.5216 | Validation Loss: 66.3289\n",
      "Epoch 44/100, Train Loss: 68.5432 | Validation Loss: 62.6028\n",
      "Epoch 45/100, Train Loss: 64.6828 | Validation Loss: 60.5430\n",
      "Epoch 46/100, Train Loss: 61.5328 | Validation Loss: 58.1180\n",
      "Epoch 47/100, Train Loss: 57.9727 | Validation Loss: 54.0339\n",
      "Epoch 48/100, Train Loss: 55.0616 | Validation Loss: 52.2223\n",
      "Epoch 49/100, Train Loss: 52.6112 | Validation Loss: 49.2229\n",
      "Epoch 50/100, Train Loss: 49.0512 | Validation Loss: 47.4534\n",
      "Epoch 51/100, Train Loss: 46.1916 | Validation Loss: 44.8482\n",
      "Epoch 52/100, Train Loss: 43.9989 | Validation Loss: 42.4848\n",
      "Epoch 53/100, Train Loss: 41.7289 | Validation Loss: 40.8482\n",
      "Epoch 54/100, Train Loss: 39.8245 | Validation Loss: 39.6872\n",
      "Epoch 55/100, Train Loss: 38.1328 | Validation Loss: 38.9339\n",
      "Epoch 56/100, Train Loss: 36.5940 | Validation Loss: 37.6134\n",
      "Epoch 57/100, Train Loss: 35.0063 | Validation Loss: 36.1907\n",
      "Epoch 58/100, Train Loss: 33.2483 | Validation Loss: 33.7633\n",
      "Epoch 59/100, Train Loss: 31.5320 | Validation Loss: 32.6772\n",
      "Epoch 60/100, Train Loss: 30.4218 | Validation Loss: 32.5478\n",
      "Epoch 61/100, Train Loss: 29.1498 | Validation Loss: 29.7073\n",
      "Epoch 62/100, Train Loss: 28.3181 | Validation Loss: 30.1009\n",
      "Epoch 63/100, Train Loss: 27.3737 | Validation Loss: 31.8788\n",
      "Epoch 64/100, Train Loss: 25.9086 | Validation Loss: 28.1474\n",
      "Epoch 65/100, Train Loss: 24.7269 | Validation Loss: 26.7067\n",
      "Epoch 66/100, Train Loss: 23.5910 | Validation Loss: 26.2785\n",
      "Epoch 67/100, Train Loss: 22.8198 | Validation Loss: 25.5219\n",
      "Epoch 68/100, Train Loss: 22.3633 | Validation Loss: 24.7436\n",
      "Epoch 69/100, Train Loss: 21.6747 | Validation Loss: 25.5816\n",
      "Epoch 70/100, Train Loss: 20.8550 | Validation Loss: 24.5689\n",
      "Epoch 71/100, Train Loss: 20.5089 | Validation Loss: 23.3712\n",
      "Epoch 72/100, Train Loss: 19.6781 | Validation Loss: 23.3927\n",
      "Epoch 73/100, Train Loss: 18.9312 | Validation Loss: 22.5700\n",
      "Epoch 74/100, Train Loss: 19.3194 | Validation Loss: 24.5029\n",
      "Epoch 75/100, Train Loss: 18.4270 | Validation Loss: 22.6813\n",
      "Epoch 76/100, Train Loss: 17.7819 | Validation Loss: 21.6115\n",
      "Epoch 77/100, Train Loss: 17.1676 | Validation Loss: 21.5228\n",
      "Epoch 78/100, Train Loss: 16.6935 | Validation Loss: 23.1087\n",
      "Epoch 79/100, Train Loss: 15.9764 | Validation Loss: 20.8486\n",
      "Epoch 80/100, Train Loss: 15.9912 | Validation Loss: 20.0090\n",
      "Epoch 81/100, Train Loss: 15.2443 | Validation Loss: 20.4821\n",
      "Epoch 82/100, Train Loss: 15.1500 | Validation Loss: 20.1439\n",
      "Epoch 83/100, Train Loss: 14.5069 | Validation Loss: 19.8129\n",
      "Epoch 84/100, Train Loss: 14.2338 | Validation Loss: 19.9347\n",
      "Epoch 85/100, Train Loss: 14.2523 | Validation Loss: 19.4728\n",
      "Epoch 86/100, Train Loss: 13.6531 | Validation Loss: 18.9637\n",
      "Epoch 87/100, Train Loss: 13.4581 | Validation Loss: 20.1744\n",
      "Epoch 88/100, Train Loss: 12.8838 | Validation Loss: 18.0775\n",
      "Epoch 89/100, Train Loss: 13.0674 | Validation Loss: 21.5907\n",
      "Epoch 90/100, Train Loss: 13.1826 | Validation Loss: 18.9721\n",
      "Epoch 91/100, Train Loss: 12.9816 | Validation Loss: 20.7919\n",
      "Epoch 92/100, Train Loss: 12.2860 | Validation Loss: 18.6118\n",
      "Epoch 93/100, Train Loss: 11.9989 | Validation Loss: 17.1478\n",
      "Epoch 94/100, Train Loss: 11.9087 | Validation Loss: 17.1691\n",
      "Epoch 95/100, Train Loss: 11.4953 | Validation Loss: 18.3177\n",
      "Epoch 96/100, Train Loss: 11.4978 | Validation Loss: 18.0066\n",
      "Epoch 97/100, Train Loss: 11.6097 | Validation Loss: 17.6544\n",
      "Epoch 98/100, Train Loss: 12.0752 | Validation Loss: 17.7560\n",
      "Epoch 99/100, Train Loss: 11.2805 | Validation Loss: 15.9960\n",
      "Epoch 100/100, Train Loss: 11.0507 | Validation Loss: 15.7775\n",
      "Training complete.\n"
     ]
    }
   ],
   "source": [
    "# Initialize the model\n",
    "sth_nn_model = Simple_tanh_NN(input_size=input_size, hidden_size=hidden_size, output_size=output_size)\n",
    "sth_nn_model.to(device)\n",
    "\n",
    "# Define the loss function and the optimizer\n",
    "criterion = nn.MSELoss()    # Mean Squared Error for Linear Regression\n",
    "optimizer = optim.Adam(sth_nn_model.parameters(), lr=0.02)\n",
    "\n",
    "# Train & Evaluate the model\n",
    "train_loss_hist = []\n",
    "val_loss_hist = []\n",
    "n_epochs = 100\n",
    "\n",
    "# Train the model\n",
    "for epoch in range(n_epochs):  # n_epochs\n",
    "    train_loss = train_epoch(sth_nn_model, train_Loader, criterion, optimizer, device)\n",
    "    val_loss = val_epoch(sth_nn_model, val_Loader, criterion, device)\n",
    "\n",
    "    train_loss_hist.append(train_loss)\n",
    "    val_loss_hist.append(val_loss)\n",
    "\n",
    "    print(f'Epoch {epoch+1}/{n_epochs}, Train Loss: {train_loss:.4f} | Validation Loss: {val_loss:.4f}')\n",
    "\n",
    "print(\"Training complete.\")\n"
   ]
  },
  {
   "cell_type": "markdown",
   "metadata": {},
   "source": [
    "#### Using Validation Loss and Visualization to evaluate"
   ]
  },
  {
   "cell_type": "code",
   "execution_count": null,
   "metadata": {},
   "outputs": [
    {
     "name": "stdout",
     "output_type": "stream",
     "text": [
      "Validation Loss: 15.7775\n"
     ]
    },
    {
     "data": {
      "image/png": "[encoded data removed]",
      "text/plain": [
       "<Figure size 1200x500 with 2 Axes>"
      ]
     },
     "metadata": {},
     "output_type": "display_data"
    }
   ],
   "source": [
    "y_pred, y_label = model_prediction(sth_nn_model, val_Loader, device)\n",
    "\n",
    "# Evaluate model - Using Validation Loss-------------------\n",
    "Val_loss = val_loss_hist[-1] # Use the last value of the validation loss as the final loss\n",
    "\n",
    "print(f'Validation Loss: {Val_loss:.4f}')\n",
    "\n",
    "# Evaluate model - Using plot--------------------\n",
    "fig, ax = plt.subplots(1, 2, figsize=(12, 5))\n",
    "\n",
    "# Plot of Observed and Predicted Values\n",
    "plot_pred_true(y_label, y_pred, ax[0])      \n",
    "\n",
    "# Plot of Loss values & Epoch\n",
    "plot_train_val_loss(train_loss_hist, val_loss_hist, ax[1])"
   ]
  },
  {
   "cell_type": "markdown",
   "metadata": {},
   "source": [
    "## 4 Using W&B"
   ]
  },
  {
   "cell_type": "code",
   "execution_count": null,
   "metadata": {},
   "outputs": [
    {
     "name": "stderr",
     "output_type": "stream",
     "text": [
      "\u001b[34m\u001b[1mwandb\u001b[0m: Using wandb-core as the SDK backend.  Please refer to https://wandb.me/wandb-core for more information.\n",
      "\u001b[34m\u001b[1mwandb\u001b[0m: \u001b[33mWARNING\u001b[0m If you're specifying your api key in code, ensure this code is not shared publicly.\n",
      "\u001b[34m\u001b[1mwandb\u001b[0m: \u001b[33mWARNING\u001b[0m Consider setting the WANDB_API_KEY environment variable, or running `wandb login` from the command line.\n",
      "\u001b[34m\u001b[1mwandb\u001b[0m: Appending key for api.wandb.ai to your netrc file: C:\\Users\\87383\\_netrc\n",
      "\u001b[34m\u001b[1mwandb\u001b[0m: Currently logged in as: \u001b[33myixuan228\u001b[0m (\u001b[33myixuan228-imperial-college-london\u001b[0m) to \u001b[32mhttps://api.wandb.ai\u001b[0m. Use \u001b[1m`wandb login --relogin`\u001b[0m to force relogin\n"
     ]
    },
    {
     "data": {
      "text/plain": [
       "True"
      ]
     },
     "execution_count": 19,
     "metadata": {},
     "output_type": "execute_result"
    }
   ],
   "source": [
    "import wandb\n",
    "\n",
    "wandb.login(key=\"47ea61c7ee69e2e0e1cc46ed5c31bd6168f9f9db\")"
   ]
  },
  {
   "cell_type": "code",
   "execution_count": null,
   "metadata": {},
   "outputs": [],
   "source": [
    "class MultiLayerPerceptron(nn.Module):\n",
    "\n",
    "    def __init__(self, input_size, hidden_size, num_layers, output_size):\n",
    "        super(MultiLayerPerceptron, self).__init__()\n",
    "\n",
    "        # Initialise an empty list to hold layers\n",
    "        layers = []\n",
    "\n",
    "        # First layer: input to hidden\n",
    "        layers.append(nn.Linear(input_size, hidden_size))\n",
    "        layers.append(nn.ReLU())\n",
    "\n",
    "        # Additional hidden layers\n",
    "        for _ in range(num_layers - 1):\n",
    "            layers.append(nn.Linear(hidden_size, hidden_size))\n",
    "            layers.append(nn.ReLU())\n",
    "            \n",
    "        # Output layer: hidden to output\n",
    "        layers.append(nn.Linear(hidden_size, output_size))\n",
    "        self.model = nn.Sequential(*layers)\n",
    "\n",
    "    def forward(self, x):\n",
    "        return self.model(x)"
   ]
  },
  {
   "cell_type": "code",
   "execution_count": null,
   "metadata": {},
   "outputs": [],
   "source": [
    "from torch.utils.data import random_split\n",
    "\n",
    "# Calculate the sizes for train and validation splits\n",
    "num_total = len(train_dataset)\n",
    "num_train = int(0.9 * num_total)\n",
    "num_val = num_total - num_train\n",
    "\n",
    "# Split the dataset\n",
    "train_subset, val_subset = random_split(train_dataset, [num_train, num_val])\n",
    "\n",
    "# Create DataLoaders for each subset\n",
    "train_Loader = DataLoader(train_subset, batch_size=64, shuffle=True)\n",
    "val_Loader = DataLoader(val_subset, batch_size=64, shuffle=False)"
   ]
  },
  {
   "cell_type": "code",
   "execution_count": null,
   "metadata": {},
   "outputs": [],
   "source": [
    "# Hyperparameter grid\n",
    "hidden_units_options = [32, 64, 128]    # Numbers of neurons in each hidden layer\n",
    "hidden_layers_options = [2, 3, 4]       # Numbers of hidden layers\n",
    "learning_rates = [0.1, 0.01, 0.001]     # Learning rates\n",
    "\n",
    "max_epochs = 200  # Arbitrarily large; early stopping will likely stop earlier.\n",
    "patience = 5      # Early stopping patience\n"
   ]
  },
  {
   "cell_type": "code",
   "execution_count": null,
   "metadata": {},
   "outputs": [
    {
     "data": {
      "text/html": [
       "Tracking run with wandb version 0.19.7"
      ],
      "text/plain": [
       "<IPython.core.display.HTML object>"
      ]
     },
     "metadata": {},
     "output_type": "display_data"
    },
    {
     "data": {
      "text/html": [
       "Run data is saved locally in <code>d:\\Projects\\MSc_DE_GroupWork4\\Scripts\\wandb\\run-20250307_074217-0syytbok</code>"
      ],
      "text/plain": [
       "<IPython.core.display.HTML object>"
      ]
     },
     "metadata": {},
     "output_type": "display_data"
    },
    {
     "data": {
      "text/html": [
       "Syncing run <strong><a href='https://wandb.ai/yixuan228-imperial-college-london/nn-hyperparameter-finetune/runs/0syytbok' target=\"_blank\">vague-pond-281</a></strong> to <a href='https://wandb.ai/yixuan228-imperial-college-london/nn-hyperparameter-finetune' target=\"_blank\">Weights & Biases</a> (<a href='https://wandb.me/developer-guide' target=\"_blank\">docs</a>)<br>"
      ],
      "text/plain": [
       "<IPython.core.display.HTML object>"
      ]
     },
     "metadata": {},
     "output_type": "display_data"
    },
    {
     "data": {
      "text/html": [
       " View project at <a href='https://wandb.ai/yixuan228-imperial-college-london/nn-hyperparameter-finetune' target=\"_blank\">https://wandb.ai/yixuan228-imperial-college-london/nn-hyperparameter-finetune</a>"
      ],
      "text/plain": [
       "<IPython.core.display.HTML object>"
      ]
     },
     "metadata": {},
     "output_type": "display_data"
    },
    {
     "data": {
      "text/html": [
       " View run at <a href='https://wandb.ai/yixuan228-imperial-college-london/nn-hyperparameter-finetune/runs/0syytbok' target=\"_blank\">https://wandb.ai/yixuan228-imperial-college-london/nn-hyperparameter-finetune/runs/0syytbok</a>"
      ],
      "text/plain": [
       "<IPython.core.display.HTML object>"
      ]
     },
     "metadata": {},
     "output_type": "display_data"
    },
    {
     "name": "stdout",
     "output_type": "stream",
     "text": [
      "Epoch 001 | Train Loss: 5496.9579 | Val Loss: 40.4507\n",
      "Epoch 002 | Train Loss: 26.3683 | Val Loss: 42.8964\n",
      "Epoch 003 | Train Loss: 20.6274 | Val Loss: 17.8683\n",
      "Epoch 004 | Train Loss: 13.6654 | Val Loss: 31.7879\n",
      "Epoch 005 | Train Loss: 16.9273 | Val Loss: 12.6617\n",
      "Epoch 006 | Train Loss: 13.6149 | Val Loss: 16.3754\n",
      "Epoch 007 | Train Loss: 12.6998 | Val Loss: 14.0926\n",
      "Epoch 008 | Train Loss: 13.0114 | Val Loss: 24.6959\n",
      "Epoch 009 | Train Loss: 19.2468 | Val Loss: 21.5161\n",
      "Epoch 010 | Train Loss: 21.8907 | Val Loss: 21.6076\n",
      "Early stopping triggered at epoch 10\n"
     ]
    },
    {
     "data": {
      "text/html": [],
      "text/plain": [
       "<IPython.core.display.HTML object>"
      ]
     },
     "metadata": {},
     "output_type": "display_data"
    },
    {
     "data": {
      "text/html": [
       "<br>    <style><br>        .wandb-row {<br>            display: flex;<br>            flex-direction: row;<br>            flex-wrap: wrap;<br>            justify-content: flex-start;<br>            width: 100%;<br>        }<br>        .wandb-col {<br>            display: flex;<br>            flex-direction: column;<br>            flex-basis: 100%;<br>            flex: 1;<br>            padding: 10px;<br>        }<br>    </style><br><div class=\"wandb-row\"><div class=\"wandb-col\"><h3>Run history:</h3><br/><table class=\"wandb\"><tr><td>epoch</td><td>▁▂▃▃▄▅▆▆▇█</td></tr><tr><td>train_loss</td><td>█▁▁▁▁▁▁▁▁▁</td></tr><tr><td>val_loss</td><td>▇█▂▅▁▂▁▄▃▃</td></tr></table><br/></div><div class=\"wandb-col\"><h3>Run summary:</h3><br/><table class=\"wandb\"><tr><td>epoch</td><td>10</td></tr><tr><td>train_loss</td><td>21.89067</td></tr><tr><td>val_loss</td><td>21.60755</td></tr></table><br/></div></div>"
      ],
      "text/plain": [
       "<IPython.core.display.HTML object>"
      ]
     },
     "metadata": {},
     "output_type": "display_data"
    },
    {
     "data": {
      "text/html": [
       " View run <strong style=\"color:#cdcd00\">vague-pond-281</strong> at: <a href='https://wandb.ai/yixuan228-imperial-college-london/nn-hyperparameter-finetune/runs/0syytbok' target=\"_blank\">https://wandb.ai/yixuan228-imperial-college-london/nn-hyperparameter-finetune/runs/0syytbok</a><br> View project at: <a href='https://wandb.ai/yixuan228-imperial-college-london/nn-hyperparameter-finetune' target=\"_blank\">https://wandb.ai/yixuan228-imperial-college-london/nn-hyperparameter-finetune</a><br>Synced 5 W&B file(s), 0 media file(s), 0 artifact file(s) and 0 other file(s)"
      ],
      "text/plain": [
       "<IPython.core.display.HTML object>"
      ]
     },
     "metadata": {},
     "output_type": "display_data"
    },
    {
     "data": {
      "text/html": [
       "Find logs at: <code>.\\wandb\\run-20250307_074217-0syytbok\\logs</code>"
      ],
      "text/plain": [
       "<IPython.core.display.HTML object>"
      ]
     },
     "metadata": {},
     "output_type": "display_data"
    },
    {
     "data": {
      "text/html": [
       "Tracking run with wandb version 0.19.7"
      ],
      "text/plain": [
       "<IPython.core.display.HTML object>"
      ]
     },
     "metadata": {},
     "output_type": "display_data"
    },
    {
     "data": {
      "text/html": [
       "Run data is saved locally in <code>d:\\Projects\\MSc_DE_GroupWork4\\Scripts\\wandb\\run-20250307_074223-6jaankx1</code>"
      ],
      "text/plain": [
       "<IPython.core.display.HTML object>"
      ]
     },
     "metadata": {},
     "output_type": "display_data"
    },
    {
     "data": {
      "text/html": [
       "Syncing run <strong><a href='https://wandb.ai/yixuan228-imperial-college-london/nn-hyperparameter-finetune/runs/6jaankx1' target=\"_blank\">amber-deluge-282</a></strong> to <a href='https://wandb.ai/yixuan228-imperial-college-london/nn-hyperparameter-finetune' target=\"_blank\">Weights & Biases</a> (<a href='https://wandb.me/developer-guide' target=\"_blank\">docs</a>)<br>"
      ],
      "text/plain": [
       "<IPython.core.display.HTML object>"
      ]
     },
     "metadata": {},
     "output_type": "display_data"
    },
    {
     "data": {
      "text/html": [
       " View project at <a href='https://wandb.ai/yixuan228-imperial-college-london/nn-hyperparameter-finetune' target=\"_blank\">https://wandb.ai/yixuan228-imperial-college-london/nn-hyperparameter-finetune</a>"
      ],
      "text/plain": [
       "<IPython.core.display.HTML object>"
      ]
     },
     "metadata": {},
     "output_type": "display_data"
    },
    {
     "data": {
      "text/html": [
       " View run at <a href='https://wandb.ai/yixuan228-imperial-college-london/nn-hyperparameter-finetune/runs/6jaankx1' target=\"_blank\">https://wandb.ai/yixuan228-imperial-college-london/nn-hyperparameter-finetune/runs/6jaankx1</a>"
      ],
      "text/plain": [
       "<IPython.core.display.HTML object>"
      ]
     },
     "metadata": {},
     "output_type": "display_data"
    },
    {
     "name": "stdout",
     "output_type": "stream",
     "text": [
      "Epoch 001 | Train Loss: 24918.1164 | Val Loss: 444.2190\n",
      "Epoch 002 | Train Loss: 169.1486 | Val Loss: 64.5466\n",
      "Epoch 003 | Train Loss: 45.4013 | Val Loss: 34.5666\n",
      "Epoch 004 | Train Loss: 33.6810 | Val Loss: 30.5017\n",
      "Epoch 005 | Train Loss: 30.1583 | Val Loss: 27.2325\n",
      "Epoch 006 | Train Loss: 30.3758 | Val Loss: 24.4544\n",
      "Epoch 007 | Train Loss: 29.8408 | Val Loss: 28.3156\n",
      "Epoch 008 | Train Loss: 27.4768 | Val Loss: 24.8988\n",
      "Epoch 009 | Train Loss: 26.6762 | Val Loss: 23.9906\n",
      "Epoch 010 | Train Loss: 24.9814 | Val Loss: 26.2291\n",
      "Epoch 011 | Train Loss: 25.3287 | Val Loss: 21.4203\n",
      "Epoch 012 | Train Loss: 21.9282 | Val Loss: 19.1362\n",
      "Epoch 013 | Train Loss: 20.1874 | Val Loss: 22.6266\n",
      "Epoch 014 | Train Loss: 18.8799 | Val Loss: 18.3578\n",
      "Epoch 015 | Train Loss: 17.3729 | Val Loss: 19.2808\n",
      "Epoch 016 | Train Loss: 16.3182 | Val Loss: 16.9383\n",
      "Epoch 017 | Train Loss: 16.3426 | Val Loss: 13.3958\n",
      "Epoch 018 | Train Loss: 13.6793 | Val Loss: 13.3167\n",
      "Epoch 019 | Train Loss: 12.7420 | Val Loss: 12.1269\n",
      "Epoch 020 | Train Loss: 12.6392 | Val Loss: 13.1009\n",
      "Epoch 021 | Train Loss: 12.0854 | Val Loss: 12.3294\n",
      "Epoch 022 | Train Loss: 11.9958 | Val Loss: 11.5722\n",
      "Epoch 023 | Train Loss: 11.3361 | Val Loss: 10.8926\n",
      "Epoch 024 | Train Loss: 11.4007 | Val Loss: 10.1851\n",
      "Epoch 025 | Train Loss: 11.0794 | Val Loss: 11.6505\n",
      "Epoch 026 | Train Loss: 10.4278 | Val Loss: 9.9326\n",
      "Epoch 027 | Train Loss: 10.3212 | Val Loss: 11.2455\n",
      "Epoch 028 | Train Loss: 10.2644 | Val Loss: 15.5957\n",
      "Epoch 029 | Train Loss: 10.3501 | Val Loss: 9.9695\n",
      "Epoch 030 | Train Loss: 10.3379 | Val Loss: 10.8656\n",
      "Epoch 031 | Train Loss: 10.4723 | Val Loss: 11.4483\n",
      "Early stopping triggered at epoch 31\n"
     ]
    },
    {
     "data": {
      "text/html": [],
      "text/plain": [
       "<IPython.core.display.HTML object>"
      ]
     },
     "metadata": {},
     "output_type": "display_data"
    },
    {
     "data": {
      "text/html": [
       "<br>    <style><br>        .wandb-row {<br>            display: flex;<br>            flex-direction: row;<br>            flex-wrap: wrap;<br>            justify-content: flex-start;<br>            width: 100%;<br>        }<br>        .wandb-col {<br>            display: flex;<br>            flex-direction: column;<br>            flex-basis: 100%;<br>            flex: 1;<br>            padding: 10px;<br>        }<br>    </style><br><div class=\"wandb-row\"><div class=\"wandb-col\"><h3>Run history:</h3><br/><table class=\"wandb\"><tr><td>epoch</td><td>▁▁▁▂▂▂▂▃▃▃▃▄▄▄▄▅▅▅▅▅▆▆▆▆▇▇▇▇███</td></tr><tr><td>train_loss</td><td>█▁▁▁▁▁▁▁▁▁▁▁▁▁▁▁▁▁▁▁▁▁▁▁▁▁▁▁▁▁▁</td></tr><tr><td>val_loss</td><td>█▂▁▁▁▁▁▁▁▁▁▁▁▁▁▁▁▁▁▁▁▁▁▁▁▁▁▁▁▁▁</td></tr></table><br/></div><div class=\"wandb-col\"><h3>Run summary:</h3><br/><table class=\"wandb\"><tr><td>epoch</td><td>31</td></tr><tr><td>train_loss</td><td>10.47233</td></tr><tr><td>val_loss</td><td>11.44828</td></tr></table><br/></div></div>"
      ],
      "text/plain": [
       "<IPython.core.display.HTML object>"
      ]
     },
     "metadata": {},
     "output_type": "display_data"
    },
    {
     "data": {
      "text/html": [
       " View run <strong style=\"color:#cdcd00\">amber-deluge-282</strong> at: <a href='https://wandb.ai/yixuan228-imperial-college-london/nn-hyperparameter-finetune/runs/6jaankx1' target=\"_blank\">https://wandb.ai/yixuan228-imperial-college-london/nn-hyperparameter-finetune/runs/6jaankx1</a><br> View project at: <a href='https://wandb.ai/yixuan228-imperial-college-london/nn-hyperparameter-finetune' target=\"_blank\">https://wandb.ai/yixuan228-imperial-college-london/nn-hyperparameter-finetune</a><br>Synced 5 W&B file(s), 0 media file(s), 0 artifact file(s) and 0 other file(s)"
      ],
      "text/plain": [
       "<IPython.core.display.HTML object>"
      ]
     },
     "metadata": {},
     "output_type": "display_data"
    },
    {
     "data": {
      "text/html": [
       "Find logs at: <code>.\\wandb\\run-20250307_074223-6jaankx1\\logs</code>"
      ],
      "text/plain": [
       "<IPython.core.display.HTML object>"
      ]
     },
     "metadata": {},
     "output_type": "display_data"
    },
    {
     "data": {
      "text/html": [
       "Tracking run with wandb version 0.19.7"
      ],
      "text/plain": [
       "<IPython.core.display.HTML object>"
      ]
     },
     "metadata": {},
     "output_type": "display_data"
    },
    {
     "data": {
      "text/html": [
       "Run data is saved locally in <code>d:\\Projects\\MSc_DE_GroupWork4\\Scripts\\wandb\\run-20250307_074230-3qudqnqc</code>"
      ],
      "text/plain": [
       "<IPython.core.display.HTML object>"
      ]
     },
     "metadata": {},
     "output_type": "display_data"
    },
    {
     "data": {
      "text/html": [
       "Syncing run <strong><a href='https://wandb.ai/yixuan228-imperial-college-london/nn-hyperparameter-finetune/runs/3qudqnqc' target=\"_blank\">vocal-brook-283</a></strong> to <a href='https://wandb.ai/yixuan228-imperial-college-london/nn-hyperparameter-finetune' target=\"_blank\">Weights & Biases</a> (<a href='https://wandb.me/developer-guide' target=\"_blank\">docs</a>)<br>"
      ],
      "text/plain": [
       "<IPython.core.display.HTML object>"
      ]
     },
     "metadata": {},
     "output_type": "display_data"
    },
    {
     "data": {
      "text/html": [
       " View project at <a href='https://wandb.ai/yixuan228-imperial-college-london/nn-hyperparameter-finetune' target=\"_blank\">https://wandb.ai/yixuan228-imperial-college-london/nn-hyperparameter-finetune</a>"
      ],
      "text/plain": [
       "<IPython.core.display.HTML object>"
      ]
     },
     "metadata": {},
     "output_type": "display_data"
    },
    {
     "data": {
      "text/html": [
       " View run at <a href='https://wandb.ai/yixuan228-imperial-college-london/nn-hyperparameter-finetune/runs/3qudqnqc' target=\"_blank\">https://wandb.ai/yixuan228-imperial-college-london/nn-hyperparameter-finetune/runs/3qudqnqc</a>"
      ],
      "text/plain": [
       "<IPython.core.display.HTML object>"
      ]
     },
     "metadata": {},
     "output_type": "display_data"
    },
    {
     "name": "stdout",
     "output_type": "stream",
     "text": [
      "Epoch 001 | Train Loss: 65523.0298 | Val Loss: 62409.2402\n",
      "Epoch 002 | Train Loss: 54655.3536 | Val Loss: 40398.5237\n",
      "Epoch 003 | Train Loss: 22569.7973 | Val Loss: 7767.2753\n",
      "Epoch 004 | Train Loss: 3419.1089 | Val Loss: 1664.0572\n",
      "Epoch 005 | Train Loss: 1315.0354 | Val Loss: 874.7610\n",
      "Epoch 006 | Train Loss: 735.1983 | Val Loss: 507.7625\n",
      "Epoch 007 | Train Loss: 445.7940 | Val Loss: 327.1740\n",
      "Epoch 008 | Train Loss: 293.7689 | Val Loss: 234.4194\n",
      "Epoch 009 | Train Loss: 206.0494 | Val Loss: 182.1738\n",
      "Epoch 010 | Train Loss: 153.5616 | Val Loss: 146.5418\n",
      "Epoch 011 | Train Loss: 119.1496 | Val Loss: 118.7064\n",
      "Epoch 012 | Train Loss: 94.5747 | Val Loss: 98.1766\n",
      "Epoch 013 | Train Loss: 76.2084 | Val Loss: 79.7702\n",
      "Epoch 014 | Train Loss: 62.9262 | Val Loss: 65.8091\n",
      "Epoch 015 | Train Loss: 52.3391 | Val Loss: 55.5022\n",
      "Epoch 016 | Train Loss: 44.9016 | Val Loss: 47.1346\n",
      "Epoch 017 | Train Loss: 39.8419 | Val Loss: 42.5322\n",
      "Epoch 018 | Train Loss: 36.0808 | Val Loss: 38.0470\n",
      "Epoch 019 | Train Loss: 33.4100 | Val Loss: 34.3611\n",
      "Epoch 020 | Train Loss: 31.7049 | Val Loss: 32.3465\n",
      "Epoch 021 | Train Loss: 30.7160 | Val Loss: 30.7929\n",
      "Epoch 022 | Train Loss: 29.5724 | Val Loss: 28.9903\n",
      "Epoch 023 | Train Loss: 29.2019 | Val Loss: 29.2589\n",
      "Epoch 024 | Train Loss: 28.9437 | Val Loss: 27.9882\n",
      "Epoch 025 | Train Loss: 28.6576 | Val Loss: 27.8207\n",
      "Epoch 026 | Train Loss: 28.1359 | Val Loss: 27.5417\n",
      "Epoch 027 | Train Loss: 28.0055 | Val Loss: 27.0563\n",
      "Epoch 028 | Train Loss: 28.2614 | Val Loss: 27.5103\n",
      "Epoch 029 | Train Loss: 27.7479 | Val Loss: 26.6873\n",
      "Epoch 030 | Train Loss: 27.5809 | Val Loss: 26.5608\n",
      "Epoch 031 | Train Loss: 27.4573 | Val Loss: 26.7815\n",
      "Epoch 032 | Train Loss: 27.3691 | Val Loss: 26.7341\n",
      "Epoch 033 | Train Loss: 27.3143 | Val Loss: 26.0734\n",
      "Epoch 034 | Train Loss: 26.9824 | Val Loss: 25.8734\n",
      "Epoch 035 | Train Loss: 26.8119 | Val Loss: 25.9301\n",
      "Epoch 036 | Train Loss: 26.9358 | Val Loss: 26.7007\n",
      "Epoch 037 | Train Loss: 26.8103 | Val Loss: 26.0226\n",
      "Epoch 038 | Train Loss: 26.5956 | Val Loss: 26.7100\n",
      "Epoch 039 | Train Loss: 26.5384 | Val Loss: 25.4040\n",
      "Epoch 040 | Train Loss: 26.6105 | Val Loss: 25.0221\n",
      "Epoch 041 | Train Loss: 26.4094 | Val Loss: 24.9442\n",
      "Epoch 042 | Train Loss: 26.4652 | Val Loss: 24.7905\n",
      "Epoch 043 | Train Loss: 26.2557 | Val Loss: 25.2008\n",
      "Epoch 044 | Train Loss: 26.2369 | Val Loss: 24.7802\n",
      "Epoch 045 | Train Loss: 26.0909 | Val Loss: 24.9298\n",
      "Epoch 046 | Train Loss: 26.1574 | Val Loss: 24.8894\n",
      "Epoch 047 | Train Loss: 26.3429 | Val Loss: 24.8220\n",
      "Epoch 048 | Train Loss: 25.9154 | Val Loss: 25.2469\n",
      "Epoch 049 | Train Loss: 25.9249 | Val Loss: 24.5109\n",
      "Epoch 050 | Train Loss: 25.5889 | Val Loss: 23.6745\n",
      "Epoch 051 | Train Loss: 24.5554 | Val Loss: 22.3959\n",
      "Epoch 052 | Train Loss: 24.3875 | Val Loss: 21.9497\n",
      "Epoch 053 | Train Loss: 23.9414 | Val Loss: 23.0775\n",
      "Epoch 054 | Train Loss: 23.2442 | Val Loss: 21.8575\n",
      "Epoch 055 | Train Loss: 23.0080 | Val Loss: 21.7090\n",
      "Epoch 056 | Train Loss: 22.7634 | Val Loss: 21.0929\n",
      "Epoch 057 | Train Loss: 22.1882 | Val Loss: 20.5184\n",
      "Epoch 058 | Train Loss: 21.8733 | Val Loss: 21.5937\n",
      "Epoch 059 | Train Loss: 21.2849 | Val Loss: 20.0521\n",
      "Epoch 060 | Train Loss: 20.8385 | Val Loss: 19.9333\n",
      "Epoch 061 | Train Loss: 20.8940 | Val Loss: 20.3993\n",
      "Epoch 062 | Train Loss: 20.1227 | Val Loss: 20.3114\n",
      "Epoch 063 | Train Loss: 19.7601 | Val Loss: 18.7552\n",
      "Epoch 064 | Train Loss: 19.4071 | Val Loss: 18.6067\n",
      "Epoch 065 | Train Loss: 19.1035 | Val Loss: 18.3833\n",
      "Epoch 066 | Train Loss: 18.9015 | Val Loss: 17.7201\n",
      "Epoch 067 | Train Loss: 18.5665 | Val Loss: 17.3711\n",
      "Epoch 068 | Train Loss: 17.8021 | Val Loss: 17.1390\n",
      "Epoch 069 | Train Loss: 17.3640 | Val Loss: 19.2968\n",
      "Epoch 070 | Train Loss: 17.0169 | Val Loss: 16.9896\n",
      "Epoch 071 | Train Loss: 16.5502 | Val Loss: 16.4274\n",
      "Epoch 072 | Train Loss: 16.1432 | Val Loss: 16.4086\n",
      "Epoch 073 | Train Loss: 15.5943 | Val Loss: 16.7809\n",
      "Epoch 074 | Train Loss: 15.3891 | Val Loss: 15.3924\n",
      "Epoch 075 | Train Loss: 14.7949 | Val Loss: 15.8917\n",
      "Epoch 076 | Train Loss: 14.5741 | Val Loss: 15.5960\n",
      "Epoch 077 | Train Loss: 14.4152 | Val Loss: 14.2021\n",
      "Epoch 078 | Train Loss: 13.6329 | Val Loss: 13.7457\n",
      "Epoch 079 | Train Loss: 13.8272 | Val Loss: 13.4576\n",
      "Epoch 080 | Train Loss: 13.0425 | Val Loss: 13.4675\n",
      "Epoch 081 | Train Loss: 13.3130 | Val Loss: 12.9007\n",
      "Epoch 082 | Train Loss: 12.3869 | Val Loss: 12.4447\n",
      "Epoch 083 | Train Loss: 12.2344 | Val Loss: 12.2415\n",
      "Epoch 084 | Train Loss: 12.0092 | Val Loss: 12.6568\n",
      "Epoch 085 | Train Loss: 11.7421 | Val Loss: 11.8831\n",
      "Epoch 086 | Train Loss: 11.6688 | Val Loss: 11.7768\n",
      "Epoch 087 | Train Loss: 11.2941 | Val Loss: 11.8961\n",
      "Epoch 088 | Train Loss: 10.9058 | Val Loss: 10.9931\n",
      "Epoch 089 | Train Loss: 11.0103 | Val Loss: 11.2125\n",
      "Epoch 090 | Train Loss: 11.8345 | Val Loss: 10.7794\n",
      "Epoch 091 | Train Loss: 10.7147 | Val Loss: 11.0961\n",
      "Epoch 092 | Train Loss: 10.6057 | Val Loss: 10.4163\n",
      "Epoch 093 | Train Loss: 10.4277 | Val Loss: 10.6391\n",
      "Epoch 094 | Train Loss: 10.0326 | Val Loss: 12.0334\n",
      "Epoch 095 | Train Loss: 9.7997 | Val Loss: 10.2203\n",
      "Epoch 096 | Train Loss: 10.0259 | Val Loss: 10.5666\n",
      "Epoch 097 | Train Loss: 9.4272 | Val Loss: 9.6298\n",
      "Epoch 098 | Train Loss: 9.4995 | Val Loss: 9.9850\n",
      "Epoch 099 | Train Loss: 9.3273 | Val Loss: 9.6614\n",
      "Epoch 100 | Train Loss: 9.2269 | Val Loss: 9.8132\n",
      "Epoch 101 | Train Loss: 9.2720 | Val Loss: 9.5321\n",
      "Epoch 102 | Train Loss: 9.0918 | Val Loss: 8.9162\n",
      "Epoch 103 | Train Loss: 9.3807 | Val Loss: 10.3124\n",
      "Epoch 104 | Train Loss: 9.0525 | Val Loss: 8.8487\n",
      "Epoch 105 | Train Loss: 8.7216 | Val Loss: 9.5875\n",
      "Epoch 106 | Train Loss: 8.7369 | Val Loss: 9.1224\n",
      "Epoch 107 | Train Loss: 8.9421 | Val Loss: 9.0184\n",
      "Epoch 108 | Train Loss: 8.5961 | Val Loss: 8.4932\n",
      "Epoch 109 | Train Loss: 8.6326 | Val Loss: 8.4079\n",
      "Epoch 110 | Train Loss: 8.5083 | Val Loss: 8.4433\n",
      "Epoch 111 | Train Loss: 8.3829 | Val Loss: 9.1456\n",
      "Epoch 112 | Train Loss: 8.2824 | Val Loss: 8.2697\n",
      "Epoch 113 | Train Loss: 8.5456 | Val Loss: 8.3664\n",
      "Epoch 114 | Train Loss: 8.6416 | Val Loss: 9.0523\n",
      "Epoch 115 | Train Loss: 8.4586 | Val Loss: 8.4419\n",
      "Epoch 116 | Train Loss: 8.5686 | Val Loss: 10.4852\n",
      "Epoch 117 | Train Loss: 8.3774 | Val Loss: 9.1618\n",
      "Early stopping triggered at epoch 117\n"
     ]
    },
    {
     "data": {
      "text/html": [],
      "text/plain": [
       "<IPython.core.display.HTML object>"
      ]
     },
     "metadata": {},
     "output_type": "display_data"
    },
    {
     "data": {
      "text/html": [
       "<br>    <style><br>        .wandb-row {<br>            display: flex;<br>            flex-direction: row;<br>            flex-wrap: wrap;<br>            justify-content: flex-start;<br>            width: 100%;<br>        }<br>        .wandb-col {<br>            display: flex;<br>            flex-direction: column;<br>            flex-basis: 100%;<br>            flex: 1;<br>            padding: 10px;<br>        }<br>    </style><br><div class=\"wandb-row\"><div class=\"wandb-col\"><h3>Run history:</h3><br/><table class=\"wandb\"><tr><td>epoch</td><td>▁▁▁▁▁▂▂▂▂▂▃▃▃▃▃▄▄▄▄▄▄▄▅▅▆▆▆▆▆▆▇▇▇▇▇▇████</td></tr><tr><td>train_loss</td><td>█▁▁▁▁▁▁▁▁▁▁▁▁▁▁▁▁▁▁▁▁▁▁▁▁▁▁▁▁▁▁▁▁▁▁▁▁▁▁▁</td></tr><tr><td>val_loss</td><td>█▂▁▁▁▁▁▁▁▁▁▁▁▁▁▁▁▁▁▁▁▁▁▁▁▁▁▁▁▁▁▁▁▁▁▁▁▁▁▁</td></tr></table><br/></div><div class=\"wandb-col\"><h3>Run summary:</h3><br/><table class=\"wandb\"><tr><td>epoch</td><td>117</td></tr><tr><td>train_loss</td><td>8.3774</td></tr><tr><td>val_loss</td><td>9.16177</td></tr></table><br/></div></div>"
      ],
      "text/plain": [
       "<IPython.core.display.HTML object>"
      ]
     },
     "metadata": {},
     "output_type": "display_data"
    },
    {
     "data": {
      "text/html": [
       " View run <strong style=\"color:#cdcd00\">vocal-brook-283</strong> at: <a href='https://wandb.ai/yixuan228-imperial-college-london/nn-hyperparameter-finetune/runs/3qudqnqc' target=\"_blank\">https://wandb.ai/yixuan228-imperial-college-london/nn-hyperparameter-finetune/runs/3qudqnqc</a><br> View project at: <a href='https://wandb.ai/yixuan228-imperial-college-london/nn-hyperparameter-finetune' target=\"_blank\">https://wandb.ai/yixuan228-imperial-college-london/nn-hyperparameter-finetune</a><br>Synced 5 W&B file(s), 0 media file(s), 0 artifact file(s) and 0 other file(s)"
      ],
      "text/plain": [
       "<IPython.core.display.HTML object>"
      ]
     },
     "metadata": {},
     "output_type": "display_data"
    },
    {
     "data": {
      "text/html": [
       "Find logs at: <code>.\\wandb\\run-20250307_074230-3qudqnqc\\logs</code>"
      ],
      "text/plain": [
       "<IPython.core.display.HTML object>"
      ]
     },
     "metadata": {},
     "output_type": "display_data"
    },
    {
     "data": {
      "text/html": [
       "Tracking run with wandb version 0.19.7"
      ],
      "text/plain": [
       "<IPython.core.display.HTML object>"
      ]
     },
     "metadata": {},
     "output_type": "display_data"
    },
    {
     "data": {
      "text/html": [
       "Run data is saved locally in <code>d:\\Projects\\MSc_DE_GroupWork4\\Scripts\\wandb\\run-20250307_074251-zupocmpc</code>"
      ],
      "text/plain": [
       "<IPython.core.display.HTML object>"
      ]
     },
     "metadata": {},
     "output_type": "display_data"
    },
    {
     "data": {
      "text/html": [
       "Syncing run <strong><a href='https://wandb.ai/yixuan228-imperial-college-london/nn-hyperparameter-finetune/runs/zupocmpc' target=\"_blank\">astral-rain-284</a></strong> to <a href='https://wandb.ai/yixuan228-imperial-college-london/nn-hyperparameter-finetune' target=\"_blank\">Weights & Biases</a> (<a href='https://wandb.me/developer-guide' target=\"_blank\">docs</a>)<br>"
      ],
      "text/plain": [
       "<IPython.core.display.HTML object>"
      ]
     },
     "metadata": {},
     "output_type": "display_data"
    },
    {
     "data": {
      "text/html": [
       " View project at <a href='https://wandb.ai/yixuan228-imperial-college-london/nn-hyperparameter-finetune' target=\"_blank\">https://wandb.ai/yixuan228-imperial-college-london/nn-hyperparameter-finetune</a>"
      ],
      "text/plain": [
       "<IPython.core.display.HTML object>"
      ]
     },
     "metadata": {},
     "output_type": "display_data"
    },
    {
     "data": {
      "text/html": [
       " View run at <a href='https://wandb.ai/yixuan228-imperial-college-london/nn-hyperparameter-finetune/runs/zupocmpc' target=\"_blank\">https://wandb.ai/yixuan228-imperial-college-london/nn-hyperparameter-finetune/runs/zupocmpc</a>"
      ],
      "text/plain": [
       "<IPython.core.display.HTML object>"
      ]
     },
     "metadata": {},
     "output_type": "display_data"
    },
    {
     "name": "stdout",
     "output_type": "stream",
     "text": [
      "Epoch 001 | Train Loss: 5234.3897 | Val Loss: 84.9958\n",
      "Epoch 002 | Train Loss: 48.6884 | Val Loss: 31.7796\n",
      "Epoch 003 | Train Loss: 33.5626 | Val Loss: 22.4491\n",
      "Epoch 004 | Train Loss: 31.9792 | Val Loss: 38.8732\n",
      "Epoch 005 | Train Loss: 24.0636 | Val Loss: 17.5774\n",
      "Epoch 006 | Train Loss: 14.4261 | Val Loss: 26.8513\n",
      "Epoch 007 | Train Loss: 18.7353 | Val Loss: 73.1470\n",
      "Epoch 008 | Train Loss: 37.2378 | Val Loss: 63.9719\n",
      "Epoch 009 | Train Loss: 42.4232 | Val Loss: 59.4629\n",
      "Epoch 010 | Train Loss: 39.4598 | Val Loss: 44.6706\n",
      "Early stopping triggered at epoch 10\n"
     ]
    },
    {
     "data": {
      "text/html": [],
      "text/plain": [
       "<IPython.core.display.HTML object>"
      ]
     },
     "metadata": {},
     "output_type": "display_data"
    },
    {
     "data": {
      "text/html": [
       "<br>    <style><br>        .wandb-row {<br>            display: flex;<br>            flex-direction: row;<br>            flex-wrap: wrap;<br>            justify-content: flex-start;<br>            width: 100%;<br>        }<br>        .wandb-col {<br>            display: flex;<br>            flex-direction: column;<br>            flex-basis: 100%;<br>            flex: 1;<br>            padding: 10px;<br>        }<br>    </style><br><div class=\"wandb-row\"><div class=\"wandb-col\"><h3>Run history:</h3><br/><table class=\"wandb\"><tr><td>epoch</td><td>▁▂▃▃▄▅▆▆▇█</td></tr><tr><td>train_loss</td><td>█▁▁▁▁▁▁▁▁▁</td></tr><tr><td>val_loss</td><td>█▂▂▃▁▂▇▆▅▄</td></tr></table><br/></div><div class=\"wandb-col\"><h3>Run summary:</h3><br/><table class=\"wandb\"><tr><td>epoch</td><td>10</td></tr><tr><td>train_loss</td><td>39.45983</td></tr><tr><td>val_loss</td><td>44.67062</td></tr></table><br/></div></div>"
      ],
      "text/plain": [
       "<IPython.core.display.HTML object>"
      ]
     },
     "metadata": {},
     "output_type": "display_data"
    },
    {
     "data": {
      "text/html": [
       " View run <strong style=\"color:#cdcd00\">astral-rain-284</strong> at: <a href='https://wandb.ai/yixuan228-imperial-college-london/nn-hyperparameter-finetune/runs/zupocmpc' target=\"_blank\">https://wandb.ai/yixuan228-imperial-college-london/nn-hyperparameter-finetune/runs/zupocmpc</a><br> View project at: <a href='https://wandb.ai/yixuan228-imperial-college-london/nn-hyperparameter-finetune' target=\"_blank\">https://wandb.ai/yixuan228-imperial-college-london/nn-hyperparameter-finetune</a><br>Synced 5 W&B file(s), 0 media file(s), 0 artifact file(s) and 0 other file(s)"
      ],
      "text/plain": [
       "<IPython.core.display.HTML object>"
      ]
     },
     "metadata": {},
     "output_type": "display_data"
    },
    {
     "data": {
      "text/html": [
       "Find logs at: <code>.\\wandb\\run-20250307_074251-zupocmpc\\logs</code>"
      ],
      "text/plain": [
       "<IPython.core.display.HTML object>"
      ]
     },
     "metadata": {},
     "output_type": "display_data"
    },
    {
     "data": {
      "text/html": [
       "Tracking run with wandb version 0.19.7"
      ],
      "text/plain": [
       "<IPython.core.display.HTML object>"
      ]
     },
     "metadata": {},
     "output_type": "display_data"
    },
    {
     "data": {
      "text/html": [
       "Run data is saved locally in <code>d:\\Projects\\MSc_DE_GroupWork4\\Scripts\\wandb\\run-20250307_074255-16lkhjue</code>"
      ],
      "text/plain": [
       "<IPython.core.display.HTML object>"
      ]
     },
     "metadata": {},
     "output_type": "display_data"
    },
    {
     "data": {
      "text/html": [
       "Syncing run <strong><a href='https://wandb.ai/yixuan228-imperial-college-london/nn-hyperparameter-finetune/runs/16lkhjue' target=\"_blank\">ethereal-spaceship-285</a></strong> to <a href='https://wandb.ai/yixuan228-imperial-college-london/nn-hyperparameter-finetune' target=\"_blank\">Weights & Biases</a> (<a href='https://wandb.me/developer-guide' target=\"_blank\">docs</a>)<br>"
      ],
      "text/plain": [
       "<IPython.core.display.HTML object>"
      ]
     },
     "metadata": {},
     "output_type": "display_data"
    },
    {
     "data": {
      "text/html": [
       " View project at <a href='https://wandb.ai/yixuan228-imperial-college-london/nn-hyperparameter-finetune' target=\"_blank\">https://wandb.ai/yixuan228-imperial-college-london/nn-hyperparameter-finetune</a>"
      ],
      "text/plain": [
       "<IPython.core.display.HTML object>"
      ]
     },
     "metadata": {},
     "output_type": "display_data"
    },
    {
     "data": {
      "text/html": [
       " View run at <a href='https://wandb.ai/yixuan228-imperial-college-london/nn-hyperparameter-finetune/runs/16lkhjue' target=\"_blank\">https://wandb.ai/yixuan228-imperial-college-london/nn-hyperparameter-finetune/runs/16lkhjue</a>"
      ],
      "text/plain": [
       "<IPython.core.display.HTML object>"
      ]
     },
     "metadata": {},
     "output_type": "display_data"
    },
    {
     "name": "stdout",
     "output_type": "stream",
     "text": [
      "Epoch 001 | Train Loss: 18730.3664 | Val Loss: 172.4391\n",
      "Epoch 002 | Train Loss: 74.3422 | Val Loss: 38.1041\n",
      "Epoch 003 | Train Loss: 32.7025 | Val Loss: 31.5197\n",
      "Epoch 004 | Train Loss: 27.1403 | Val Loss: 26.4821\n",
      "Epoch 005 | Train Loss: 22.3105 | Val Loss: 24.8034\n",
      "Epoch 006 | Train Loss: 17.7788 | Val Loss: 16.1934\n",
      "Epoch 007 | Train Loss: 14.4955 | Val Loss: 18.2264\n",
      "Epoch 008 | Train Loss: 13.2252 | Val Loss: 12.2165\n",
      "Epoch 009 | Train Loss: 10.9780 | Val Loss: 9.3620\n",
      "Epoch 010 | Train Loss: 9.8406 | Val Loss: 9.2286\n",
      "Epoch 011 | Train Loss: 9.4157 | Val Loss: 12.3883\n",
      "Epoch 012 | Train Loss: 9.9505 | Val Loss: 9.4034\n",
      "Epoch 013 | Train Loss: 9.9047 | Val Loss: 11.6751\n",
      "Epoch 014 | Train Loss: 9.9736 | Val Loss: 12.2701\n",
      "Epoch 015 | Train Loss: 9.4526 | Val Loss: 11.0871\n",
      "Early stopping triggered at epoch 15\n"
     ]
    },
    {
     "data": {
      "text/html": [],
      "text/plain": [
       "<IPython.core.display.HTML object>"
      ]
     },
     "metadata": {},
     "output_type": "display_data"
    },
    {
     "data": {
      "text/html": [
       "<br>    <style><br>        .wandb-row {<br>            display: flex;<br>            flex-direction: row;<br>            flex-wrap: wrap;<br>            justify-content: flex-start;<br>            width: 100%;<br>        }<br>        .wandb-col {<br>            display: flex;<br>            flex-direction: column;<br>            flex-basis: 100%;<br>            flex: 1;<br>            padding: 10px;<br>        }<br>    </style><br><div class=\"wandb-row\"><div class=\"wandb-col\"><h3>Run history:</h3><br/><table class=\"wandb\"><tr><td>epoch</td><td>▁▁▂▃▃▃▄▅▅▅▆▇▇▇█</td></tr><tr><td>train_loss</td><td>█▁▁▁▁▁▁▁▁▁▁▁▁▁▁</td></tr><tr><td>val_loss</td><td>█▂▂▂▂▁▁▁▁▁▁▁▁▁▁</td></tr></table><br/></div><div class=\"wandb-col\"><h3>Run summary:</h3><br/><table class=\"wandb\"><tr><td>epoch</td><td>15</td></tr><tr><td>train_loss</td><td>9.45262</td></tr><tr><td>val_loss</td><td>11.08709</td></tr></table><br/></div></div>"
      ],
      "text/plain": [
       "<IPython.core.display.HTML object>"
      ]
     },
     "metadata": {},
     "output_type": "display_data"
    },
    {
     "data": {
      "text/html": [
       " View run <strong style=\"color:#cdcd00\">ethereal-spaceship-285</strong> at: <a href='https://wandb.ai/yixuan228-imperial-college-london/nn-hyperparameter-finetune/runs/16lkhjue' target=\"_blank\">https://wandb.ai/yixuan228-imperial-college-london/nn-hyperparameter-finetune/runs/16lkhjue</a><br> View project at: <a href='https://wandb.ai/yixuan228-imperial-college-london/nn-hyperparameter-finetune' target=\"_blank\">https://wandb.ai/yixuan228-imperial-college-london/nn-hyperparameter-finetune</a><br>Synced 5 W&B file(s), 0 media file(s), 0 artifact file(s) and 0 other file(s)"
      ],
      "text/plain": [
       "<IPython.core.display.HTML object>"
      ]
     },
     "metadata": {},
     "output_type": "display_data"
    },
    {
     "data": {
      "text/html": [
       "Find logs at: <code>.\\wandb\\run-20250307_074255-16lkhjue\\logs</code>"
      ],
      "text/plain": [
       "<IPython.core.display.HTML object>"
      ]
     },
     "metadata": {},
     "output_type": "display_data"
    },
    {
     "data": {
      "text/html": [
       "Tracking run with wandb version 0.19.7"
      ],
      "text/plain": [
       "<IPython.core.display.HTML object>"
      ]
     },
     "metadata": {},
     "output_type": "display_data"
    },
    {
     "data": {
      "text/html": [
       "Run data is saved locally in <code>d:\\Projects\\MSc_DE_GroupWork4\\Scripts\\wandb\\run-20250307_074300-7ug7rj1l</code>"
      ],
      "text/plain": [
       "<IPython.core.display.HTML object>"
      ]
     },
     "metadata": {},
     "output_type": "display_data"
    },
    {
     "data": {
      "text/html": [
       "Syncing run <strong><a href='https://wandb.ai/yixuan228-imperial-college-london/nn-hyperparameter-finetune/runs/7ug7rj1l' target=\"_blank\">northern-gorge-286</a></strong> to <a href='https://wandb.ai/yixuan228-imperial-college-london/nn-hyperparameter-finetune' target=\"_blank\">Weights & Biases</a> (<a href='https://wandb.me/developer-guide' target=\"_blank\">docs</a>)<br>"
      ],
      "text/plain": [
       "<IPython.core.display.HTML object>"
      ]
     },
     "metadata": {},
     "output_type": "display_data"
    },
    {
     "data": {
      "text/html": [
       " View project at <a href='https://wandb.ai/yixuan228-imperial-college-london/nn-hyperparameter-finetune' target=\"_blank\">https://wandb.ai/yixuan228-imperial-college-london/nn-hyperparameter-finetune</a>"
      ],
      "text/plain": [
       "<IPython.core.display.HTML object>"
      ]
     },
     "metadata": {},
     "output_type": "display_data"
    },
    {
     "data": {
      "text/html": [
       " View run at <a href='https://wandb.ai/yixuan228-imperial-college-london/nn-hyperparameter-finetune/runs/7ug7rj1l' target=\"_blank\">https://wandb.ai/yixuan228-imperial-college-london/nn-hyperparameter-finetune/runs/7ug7rj1l</a>"
      ],
      "text/plain": [
       "<IPython.core.display.HTML object>"
      ]
     },
     "metadata": {},
     "output_type": "display_data"
    },
    {
     "name": "stdout",
     "output_type": "stream",
     "text": [
      "Epoch 001 | Train Loss: 65256.3792 | Val Loss: 59863.7527\n",
      "Epoch 002 | Train Loss: 31455.1771 | Val Loss: 2833.0566\n",
      "Epoch 003 | Train Loss: 1765.5939 | Val Loss: 832.5679\n",
      "Epoch 004 | Train Loss: 567.1551 | Val Loss: 331.8467\n",
      "Epoch 005 | Train Loss: 257.8671 | Val Loss: 197.4566\n",
      "Epoch 006 | Train Loss: 148.5815 | Val Loss: 125.4637\n",
      "Epoch 007 | Train Loss: 96.7510 | Val Loss: 86.4499\n",
      "Epoch 008 | Train Loss: 68.1653 | Val Loss: 63.3504\n",
      "Epoch 009 | Train Loss: 52.1074 | Val Loss: 50.1422\n",
      "Epoch 010 | Train Loss: 41.8337 | Val Loss: 41.2025\n",
      "Epoch 011 | Train Loss: 36.3727 | Val Loss: 36.6165\n",
      "Epoch 012 | Train Loss: 32.8587 | Val Loss: 32.5629\n",
      "Epoch 013 | Train Loss: 31.0466 | Val Loss: 29.7533\n",
      "Epoch 014 | Train Loss: 29.6818 | Val Loss: 28.1707\n",
      "Epoch 015 | Train Loss: 28.8838 | Val Loss: 27.6520\n",
      "Epoch 016 | Train Loss: 27.9703 | Val Loss: 28.4162\n",
      "Epoch 017 | Train Loss: 27.1134 | Val Loss: 26.2907\n",
      "Epoch 018 | Train Loss: 26.7348 | Val Loss: 25.3480\n",
      "Epoch 019 | Train Loss: 26.1466 | Val Loss: 24.7990\n",
      "Epoch 020 | Train Loss: 25.4507 | Val Loss: 24.1626\n",
      "Epoch 021 | Train Loss: 25.1976 | Val Loss: 23.6228\n",
      "Epoch 022 | Train Loss: 24.8727 | Val Loss: 23.4647\n",
      "Epoch 023 | Train Loss: 24.0415 | Val Loss: 23.4270\n",
      "Epoch 024 | Train Loss: 23.7476 | Val Loss: 25.4705\n",
      "Epoch 025 | Train Loss: 24.5490 | Val Loss: 21.5927\n",
      "Epoch 026 | Train Loss: 22.9242 | Val Loss: 21.4563\n",
      "Epoch 027 | Train Loss: 22.7488 | Val Loss: 22.0321\n",
      "Epoch 028 | Train Loss: 21.9984 | Val Loss: 22.4418\n",
      "Epoch 029 | Train Loss: 21.8242 | Val Loss: 20.5840\n",
      "Epoch 030 | Train Loss: 21.4103 | Val Loss: 23.3027\n",
      "Epoch 031 | Train Loss: 20.9954 | Val Loss: 19.4730\n",
      "Epoch 032 | Train Loss: 19.9209 | Val Loss: 19.4120\n",
      "Epoch 033 | Train Loss: 20.0779 | Val Loss: 19.6182\n",
      "Epoch 034 | Train Loss: 19.3604 | Val Loss: 18.9029\n",
      "Epoch 035 | Train Loss: 18.9035 | Val Loss: 17.6977\n",
      "Epoch 036 | Train Loss: 18.4689 | Val Loss: 17.5959\n",
      "Epoch 037 | Train Loss: 18.2156 | Val Loss: 17.3440\n",
      "Epoch 038 | Train Loss: 17.9671 | Val Loss: 17.7271\n",
      "Epoch 039 | Train Loss: 17.2368 | Val Loss: 16.8473\n",
      "Epoch 040 | Train Loss: 17.0055 | Val Loss: 16.4488\n",
      "Epoch 041 | Train Loss: 17.2214 | Val Loss: 15.8871\n",
      "Epoch 042 | Train Loss: 16.0789 | Val Loss: 18.3059\n",
      "Epoch 043 | Train Loss: 16.1144 | Val Loss: 17.4944\n",
      "Epoch 044 | Train Loss: 15.6748 | Val Loss: 15.4283\n",
      "Epoch 045 | Train Loss: 15.5521 | Val Loss: 17.5799\n",
      "Epoch 046 | Train Loss: 15.2442 | Val Loss: 14.6439\n",
      "Epoch 047 | Train Loss: 14.6094 | Val Loss: 14.9200\n",
      "Epoch 048 | Train Loss: 14.4958 | Val Loss: 14.5478\n",
      "Epoch 049 | Train Loss: 14.2725 | Val Loss: 14.8147\n",
      "Epoch 050 | Train Loss: 14.2524 | Val Loss: 13.5691\n",
      "Epoch 051 | Train Loss: 13.5185 | Val Loss: 14.3500\n",
      "Epoch 052 | Train Loss: 13.5451 | Val Loss: 13.0287\n",
      "Epoch 053 | Train Loss: 13.6287 | Val Loss: 13.5505\n",
      "Epoch 054 | Train Loss: 13.0715 | Val Loss: 13.4912\n",
      "Epoch 055 | Train Loss: 12.6473 | Val Loss: 12.7382\n",
      "Epoch 056 | Train Loss: 12.5979 | Val Loss: 14.0170\n",
      "Epoch 057 | Train Loss: 12.7194 | Val Loss: 12.8208\n",
      "Epoch 058 | Train Loss: 12.1917 | Val Loss: 12.6530\n",
      "Epoch 059 | Train Loss: 12.6775 | Val Loss: 12.1575\n",
      "Epoch 060 | Train Loss: 11.7817 | Val Loss: 11.5381\n",
      "Epoch 061 | Train Loss: 12.0812 | Val Loss: 11.9871\n",
      "Epoch 062 | Train Loss: 11.7450 | Val Loss: 11.3424\n",
      "Epoch 063 | Train Loss: 11.3471 | Val Loss: 11.6418\n",
      "Epoch 064 | Train Loss: 11.2246 | Val Loss: 11.7845\n",
      "Epoch 065 | Train Loss: 11.3434 | Val Loss: 11.0455\n",
      "Epoch 066 | Train Loss: 11.4826 | Val Loss: 11.4062\n",
      "Epoch 067 | Train Loss: 11.1943 | Val Loss: 11.5808\n",
      "Epoch 068 | Train Loss: 11.1456 | Val Loss: 10.3600\n",
      "Epoch 069 | Train Loss: 11.0164 | Val Loss: 11.6466\n",
      "Epoch 070 | Train Loss: 10.5966 | Val Loss: 10.1800\n",
      "Epoch 071 | Train Loss: 11.1912 | Val Loss: 9.9971\n",
      "Epoch 072 | Train Loss: 10.3400 | Val Loss: 10.4110\n",
      "Epoch 073 | Train Loss: 10.7634 | Val Loss: 10.0287\n",
      "Epoch 074 | Train Loss: 10.3485 | Val Loss: 10.1001\n",
      "Epoch 075 | Train Loss: 10.1510 | Val Loss: 10.7369\n",
      "Epoch 076 | Train Loss: 10.0536 | Val Loss: 9.7542\n",
      "Epoch 077 | Train Loss: 10.0793 | Val Loss: 10.0558\n",
      "Epoch 078 | Train Loss: 10.0459 | Val Loss: 9.6786\n",
      "Epoch 079 | Train Loss: 10.0267 | Val Loss: 12.2809\n",
      "Epoch 080 | Train Loss: 10.2256 | Val Loss: 10.0641\n",
      "Epoch 081 | Train Loss: 9.7403 | Val Loss: 9.6323\n",
      "Epoch 082 | Train Loss: 9.6548 | Val Loss: 9.2831\n",
      "Epoch 083 | Train Loss: 9.9163 | Val Loss: 10.1095\n",
      "Epoch 084 | Train Loss: 9.8960 | Val Loss: 11.9183\n",
      "Epoch 085 | Train Loss: 9.7647 | Val Loss: 9.4451\n",
      "Epoch 086 | Train Loss: 9.3161 | Val Loss: 9.6455\n",
      "Epoch 087 | Train Loss: 9.5425 | Val Loss: 10.7066\n",
      "Early stopping triggered at epoch 87\n"
     ]
    },
    {
     "data": {
      "text/html": [],
      "text/plain": [
       "<IPython.core.display.HTML object>"
      ]
     },
     "metadata": {},
     "output_type": "display_data"
    },
    {
     "data": {
      "text/html": [
       "<br>    <style><br>        .wandb-row {<br>            display: flex;<br>            flex-direction: row;<br>            flex-wrap: wrap;<br>            justify-content: flex-start;<br>            width: 100%;<br>        }<br>        .wandb-col {<br>            display: flex;<br>            flex-direction: column;<br>            flex-basis: 100%;<br>            flex: 1;<br>            padding: 10px;<br>        }<br>    </style><br><div class=\"wandb-row\"><div class=\"wandb-col\"><h3>Run history:</h3><br/><table class=\"wandb\"><tr><td>epoch</td><td>▁▁▁▂▂▂▂▂▃▃▃▃▃▃▄▄▄▄▄▄▄▄▅▅▅▅▅▅▆▆▆▆▆▆▇▇▇▇██</td></tr><tr><td>train_loss</td><td>█▁▁▁▁▁▁▁▁▁▁▁▁▁▁▁▁▁▁▁▁▁▁▁▁▁▁▁▁▁▁▁▁▁▁▁▁▁▁▁</td></tr><tr><td>val_loss</td><td>█▁▁▁▁▁▁▁▁▁▁▁▁▁▁▁▁▁▁▁▁▁▁▁▁▁▁▁▁▁▁▁▁▁▁▁▁▁▁▁</td></tr></table><br/></div><div class=\"wandb-col\"><h3>Run summary:</h3><br/><table class=\"wandb\"><tr><td>epoch</td><td>87</td></tr><tr><td>train_loss</td><td>9.54253</td></tr><tr><td>val_loss</td><td>10.7066</td></tr></table><br/></div></div>"
      ],
      "text/plain": [
       "<IPython.core.display.HTML object>"
      ]
     },
     "metadata": {},
     "output_type": "display_data"
    },
    {
     "data": {
      "text/html": [
       " View run <strong style=\"color:#cdcd00\">northern-gorge-286</strong> at: <a href='https://wandb.ai/yixuan228-imperial-college-london/nn-hyperparameter-finetune/runs/7ug7rj1l' target=\"_blank\">https://wandb.ai/yixuan228-imperial-college-london/nn-hyperparameter-finetune/runs/7ug7rj1l</a><br> View project at: <a href='https://wandb.ai/yixuan228-imperial-college-london/nn-hyperparameter-finetune' target=\"_blank\">https://wandb.ai/yixuan228-imperial-college-london/nn-hyperparameter-finetune</a><br>Synced 5 W&B file(s), 0 media file(s), 0 artifact file(s) and 0 other file(s)"
      ],
      "text/plain": [
       "<IPython.core.display.HTML object>"
      ]
     },
     "metadata": {},
     "output_type": "display_data"
    },
    {
     "data": {
      "text/html": [
       "Find logs at: <code>.\\wandb\\run-20250307_074300-7ug7rj1l\\logs</code>"
      ],
      "text/plain": [
       "<IPython.core.display.HTML object>"
      ]
     },
     "metadata": {},
     "output_type": "display_data"
    },
    {
     "data": {
      "text/html": [
       "Tracking run with wandb version 0.19.7"
      ],
      "text/plain": [
       "<IPython.core.display.HTML object>"
      ]
     },
     "metadata": {},
     "output_type": "display_data"
    },
    {
     "data": {
      "text/html": [
       "Run data is saved locally in <code>d:\\Projects\\MSc_DE_GroupWork4\\Scripts\\wandb\\run-20250307_074318-ozb8ieek</code>"
      ],
      "text/plain": [
       "<IPython.core.display.HTML object>"
      ]
     },
     "metadata": {},
     "output_type": "display_data"
    },
    {
     "data": {
      "text/html": [
       "Syncing run <strong><a href='https://wandb.ai/yixuan228-imperial-college-london/nn-hyperparameter-finetune/runs/ozb8ieek' target=\"_blank\">easy-donkey-287</a></strong> to <a href='https://wandb.ai/yixuan228-imperial-college-london/nn-hyperparameter-finetune' target=\"_blank\">Weights & Biases</a> (<a href='https://wandb.me/developer-guide' target=\"_blank\">docs</a>)<br>"
      ],
      "text/plain": [
       "<IPython.core.display.HTML object>"
      ]
     },
     "metadata": {},
     "output_type": "display_data"
    },
    {
     "data": {
      "text/html": [
       " View project at <a href='https://wandb.ai/yixuan228-imperial-college-london/nn-hyperparameter-finetune' target=\"_blank\">https://wandb.ai/yixuan228-imperial-college-london/nn-hyperparameter-finetune</a>"
      ],
      "text/plain": [
       "<IPython.core.display.HTML object>"
      ]
     },
     "metadata": {},
     "output_type": "display_data"
    },
    {
     "data": {
      "text/html": [
       " View run at <a href='https://wandb.ai/yixuan228-imperial-college-london/nn-hyperparameter-finetune/runs/ozb8ieek' target=\"_blank\">https://wandb.ai/yixuan228-imperial-college-london/nn-hyperparameter-finetune/runs/ozb8ieek</a>"
      ],
      "text/plain": [
       "<IPython.core.display.HTML object>"
      ]
     },
     "metadata": {},
     "output_type": "display_data"
    },
    {
     "name": "stdout",
     "output_type": "stream",
     "text": [
      "Epoch 001 | Train Loss: 26734.0477 | Val Loss: 376.1413\n",
      "Epoch 002 | Train Loss: 163.2790 | Val Loss: 47.8105\n",
      "Epoch 003 | Train Loss: 41.4808 | Val Loss: 49.5983\n",
      "Epoch 004 | Train Loss: 26.4487 | Val Loss: 18.2729\n",
      "Epoch 005 | Train Loss: 18.8635 | Val Loss: 18.3093\n",
      "Epoch 006 | Train Loss: 20.3838 | Val Loss: 29.5309\n",
      "Epoch 007 | Train Loss: 14.7302 | Val Loss: 19.3834\n",
      "Epoch 008 | Train Loss: 13.4371 | Val Loss: 23.2047\n",
      "Epoch 009 | Train Loss: 12.1810 | Val Loss: 12.8721\n",
      "Epoch 010 | Train Loss: 16.4963 | Val Loss: 19.1798\n",
      "Epoch 011 | Train Loss: 35.0928 | Val Loss: 12.8362\n",
      "Epoch 012 | Train Loss: 13.2777 | Val Loss: 12.3550\n",
      "Epoch 013 | Train Loss: 13.6035 | Val Loss: 17.8063\n",
      "Epoch 014 | Train Loss: 12.0171 | Val Loss: 31.3140\n",
      "Epoch 015 | Train Loss: 25.3304 | Val Loss: 18.9111\n",
      "Epoch 016 | Train Loss: 16.0689 | Val Loss: 11.1263\n",
      "Epoch 017 | Train Loss: 29.7901 | Val Loss: 22.5115\n",
      "Epoch 018 | Train Loss: 21.5902 | Val Loss: 115.8425\n",
      "Epoch 019 | Train Loss: 28.7767 | Val Loss: 18.0386\n",
      "Epoch 020 | Train Loss: 14.5499 | Val Loss: 13.7557\n",
      "Epoch 021 | Train Loss: 12.2703 | Val Loss: 16.5621\n",
      "Early stopping triggered at epoch 21\n"
     ]
    },
    {
     "data": {
      "text/html": [],
      "text/plain": [
       "<IPython.core.display.HTML object>"
      ]
     },
     "metadata": {},
     "output_type": "display_data"
    },
    {
     "data": {
      "text/html": [
       "<br>    <style><br>        .wandb-row {<br>            display: flex;<br>            flex-direction: row;<br>            flex-wrap: wrap;<br>            justify-content: flex-start;<br>            width: 100%;<br>        }<br>        .wandb-col {<br>            display: flex;<br>            flex-direction: column;<br>            flex-basis: 100%;<br>            flex: 1;<br>            padding: 10px;<br>        }<br>    </style><br><div class=\"wandb-row\"><div class=\"wandb-col\"><h3>Run history:</h3><br/><table class=\"wandb\"><tr><td>epoch</td><td>▁▁▂▂▂▃▃▃▄▄▅▅▅▆▆▆▇▇▇██</td></tr><tr><td>train_loss</td><td>█▁▁▁▁▁▁▁▁▁▁▁▁▁▁▁▁▁▁▁▁</td></tr><tr><td>val_loss</td><td>█▂▂▁▁▁▁▁▁▁▁▁▁▁▁▁▁▃▁▁▁</td></tr></table><br/></div><div class=\"wandb-col\"><h3>Run summary:</h3><br/><table class=\"wandb\"><tr><td>epoch</td><td>21</td></tr><tr><td>train_loss</td><td>12.27028</td></tr><tr><td>val_loss</td><td>16.56207</td></tr></table><br/></div></div>"
      ],
      "text/plain": [
       "<IPython.core.display.HTML object>"
      ]
     },
     "metadata": {},
     "output_type": "display_data"
    },
    {
     "data": {
      "text/html": [
       " View run <strong style=\"color:#cdcd00\">easy-donkey-287</strong> at: <a href='https://wandb.ai/yixuan228-imperial-college-london/nn-hyperparameter-finetune/runs/ozb8ieek' target=\"_blank\">https://wandb.ai/yixuan228-imperial-college-london/nn-hyperparameter-finetune/runs/ozb8ieek</a><br> View project at: <a href='https://wandb.ai/yixuan228-imperial-college-london/nn-hyperparameter-finetune' target=\"_blank\">https://wandb.ai/yixuan228-imperial-college-london/nn-hyperparameter-finetune</a><br>Synced 5 W&B file(s), 0 media file(s), 0 artifact file(s) and 0 other file(s)"
      ],
      "text/plain": [
       "<IPython.core.display.HTML object>"
      ]
     },
     "metadata": {},
     "output_type": "display_data"
    },
    {
     "data": {
      "text/html": [
       "Find logs at: <code>.\\wandb\\run-20250307_074318-ozb8ieek\\logs</code>"
      ],
      "text/plain": [
       "<IPython.core.display.HTML object>"
      ]
     },
     "metadata": {},
     "output_type": "display_data"
    },
    {
     "data": {
      "text/html": [
       "Tracking run with wandb version 0.19.7"
      ],
      "text/plain": [
       "<IPython.core.display.HTML object>"
      ]
     },
     "metadata": {},
     "output_type": "display_data"
    },
    {
     "data": {
      "text/html": [
       "Run data is saved locally in <code>d:\\Projects\\MSc_DE_GroupWork4\\Scripts\\wandb\\run-20250307_074324-n5af1mlo</code>"
      ],
      "text/plain": [
       "<IPython.core.display.HTML object>"
      ]
     },
     "metadata": {},
     "output_type": "display_data"
    },
    {
     "data": {
      "text/html": [
       "Syncing run <strong><a href='https://wandb.ai/yixuan228-imperial-college-london/nn-hyperparameter-finetune/runs/n5af1mlo' target=\"_blank\">peachy-feather-288</a></strong> to <a href='https://wandb.ai/yixuan228-imperial-college-london/nn-hyperparameter-finetune' target=\"_blank\">Weights & Biases</a> (<a href='https://wandb.me/developer-guide' target=\"_blank\">docs</a>)<br>"
      ],
      "text/plain": [
       "<IPython.core.display.HTML object>"
      ]
     },
     "metadata": {},
     "output_type": "display_data"
    },
    {
     "data": {
      "text/html": [
       " View project at <a href='https://wandb.ai/yixuan228-imperial-college-london/nn-hyperparameter-finetune' target=\"_blank\">https://wandb.ai/yixuan228-imperial-college-london/nn-hyperparameter-finetune</a>"
      ],
      "text/plain": [
       "<IPython.core.display.HTML object>"
      ]
     },
     "metadata": {},
     "output_type": "display_data"
    },
    {
     "data": {
      "text/html": [
       " View run at <a href='https://wandb.ai/yixuan228-imperial-college-london/nn-hyperparameter-finetune/runs/n5af1mlo' target=\"_blank\">https://wandb.ai/yixuan228-imperial-college-london/nn-hyperparameter-finetune/runs/n5af1mlo</a>"
      ],
      "text/plain": [
       "<IPython.core.display.HTML object>"
      ]
     },
     "metadata": {},
     "output_type": "display_data"
    },
    {
     "name": "stdout",
     "output_type": "stream",
     "text": [
      "Epoch 001 | Train Loss: 15248.7982 | Val Loss: 138.0378\n",
      "Epoch 002 | Train Loss: 53.8563 | Val Loss: 29.4766\n",
      "Epoch 003 | Train Loss: 30.3447 | Val Loss: 35.0026\n",
      "Epoch 004 | Train Loss: 27.8727 | Val Loss: 24.5687\n",
      "Epoch 005 | Train Loss: 24.6008 | Val Loss: 22.2301\n",
      "Epoch 006 | Train Loss: 21.4425 | Val Loss: 31.0307\n",
      "Epoch 007 | Train Loss: 25.0096 | Val Loss: 14.6657\n",
      "Epoch 008 | Train Loss: 17.8843 | Val Loss: 14.3946\n",
      "Epoch 009 | Train Loss: 15.9424 | Val Loss: 19.8499\n",
      "Epoch 010 | Train Loss: 14.3701 | Val Loss: 12.0578\n",
      "Epoch 011 | Train Loss: 13.8983 | Val Loss: 11.3868\n",
      "Epoch 012 | Train Loss: 11.7203 | Val Loss: 12.0775\n",
      "Epoch 013 | Train Loss: 11.8755 | Val Loss: 13.4453\n",
      "Epoch 014 | Train Loss: 11.4360 | Val Loss: 11.3509\n",
      "Epoch 015 | Train Loss: 11.4607 | Val Loss: 16.5043\n",
      "Epoch 016 | Train Loss: 13.4680 | Val Loss: 15.2713\n",
      "Epoch 017 | Train Loss: 11.8247 | Val Loss: 14.5366\n",
      "Epoch 018 | Train Loss: 11.2322 | Val Loss: 17.1232\n",
      "Epoch 019 | Train Loss: 11.2339 | Val Loss: 16.7295\n",
      "Early stopping triggered at epoch 19\n"
     ]
    },
    {
     "data": {
      "text/html": [],
      "text/plain": [
       "<IPython.core.display.HTML object>"
      ]
     },
     "metadata": {},
     "output_type": "display_data"
    },
    {
     "data": {
      "text/html": [
       "<br>    <style><br>        .wandb-row {<br>            display: flex;<br>            flex-direction: row;<br>            flex-wrap: wrap;<br>            justify-content: flex-start;<br>            width: 100%;<br>        }<br>        .wandb-col {<br>            display: flex;<br>            flex-direction: column;<br>            flex-basis: 100%;<br>            flex: 1;<br>            padding: 10px;<br>        }<br>    </style><br><div class=\"wandb-row\"><div class=\"wandb-col\"><h3>Run history:</h3><br/><table class=\"wandb\"><tr><td>epoch</td><td>▁▁▂▂▃▃▃▄▄▅▅▅▆▆▆▇▇██</td></tr><tr><td>train_loss</td><td>█▁▁▁▁▁▁▁▁▁▁▁▁▁▁▁▁▁▁</td></tr><tr><td>val_loss</td><td>█▂▂▂▂▂▁▁▁▁▁▁▁▁▁▁▁▁▁</td></tr></table><br/></div><div class=\"wandb-col\"><h3>Run summary:</h3><br/><table class=\"wandb\"><tr><td>epoch</td><td>19</td></tr><tr><td>train_loss</td><td>11.23393</td></tr><tr><td>val_loss</td><td>16.72951</td></tr></table><br/></div></div>"
      ],
      "text/plain": [
       "<IPython.core.display.HTML object>"
      ]
     },
     "metadata": {},
     "output_type": "display_data"
    },
    {
     "data": {
      "text/html": [
       " View run <strong style=\"color:#cdcd00\">peachy-feather-288</strong> at: <a href='https://wandb.ai/yixuan228-imperial-college-london/nn-hyperparameter-finetune/runs/n5af1mlo' target=\"_blank\">https://wandb.ai/yixuan228-imperial-college-london/nn-hyperparameter-finetune/runs/n5af1mlo</a><br> View project at: <a href='https://wandb.ai/yixuan228-imperial-college-london/nn-hyperparameter-finetune' target=\"_blank\">https://wandb.ai/yixuan228-imperial-college-london/nn-hyperparameter-finetune</a><br>Synced 5 W&B file(s), 0 media file(s), 0 artifact file(s) and 0 other file(s)"
      ],
      "text/plain": [
       "<IPython.core.display.HTML object>"
      ]
     },
     "metadata": {},
     "output_type": "display_data"
    },
    {
     "data": {
      "text/html": [
       "Find logs at: <code>.\\wandb\\run-20250307_074324-n5af1mlo\\logs</code>"
      ],
      "text/plain": [
       "<IPython.core.display.HTML object>"
      ]
     },
     "metadata": {},
     "output_type": "display_data"
    },
    {
     "data": {
      "text/html": [
       "Tracking run with wandb version 0.19.7"
      ],
      "text/plain": [
       "<IPython.core.display.HTML object>"
      ]
     },
     "metadata": {},
     "output_type": "display_data"
    },
    {
     "data": {
      "text/html": [
       "Run data is saved locally in <code>d:\\Projects\\MSc_DE_GroupWork4\\Scripts\\wandb\\run-20250307_074330-nwdrxjk3</code>"
      ],
      "text/plain": [
       "<IPython.core.display.HTML object>"
      ]
     },
     "metadata": {},
     "output_type": "display_data"
    },
    {
     "data": {
      "text/html": [
       "Syncing run <strong><a href='https://wandb.ai/yixuan228-imperial-college-london/nn-hyperparameter-finetune/runs/nwdrxjk3' target=\"_blank\">charmed-pyramid-289</a></strong> to <a href='https://wandb.ai/yixuan228-imperial-college-london/nn-hyperparameter-finetune' target=\"_blank\">Weights & Biases</a> (<a href='https://wandb.me/developer-guide' target=\"_blank\">docs</a>)<br>"
      ],
      "text/plain": [
       "<IPython.core.display.HTML object>"
      ]
     },
     "metadata": {},
     "output_type": "display_data"
    },
    {
     "data": {
      "text/html": [
       " View project at <a href='https://wandb.ai/yixuan228-imperial-college-london/nn-hyperparameter-finetune' target=\"_blank\">https://wandb.ai/yixuan228-imperial-college-london/nn-hyperparameter-finetune</a>"
      ],
      "text/plain": [
       "<IPython.core.display.HTML object>"
      ]
     },
     "metadata": {},
     "output_type": "display_data"
    },
    {
     "data": {
      "text/html": [
       " View run at <a href='https://wandb.ai/yixuan228-imperial-college-london/nn-hyperparameter-finetune/runs/nwdrxjk3' target=\"_blank\">https://wandb.ai/yixuan228-imperial-college-london/nn-hyperparameter-finetune/runs/nwdrxjk3</a>"
      ],
      "text/plain": [
       "<IPython.core.display.HTML object>"
      ]
     },
     "metadata": {},
     "output_type": "display_data"
    },
    {
     "name": "stdout",
     "output_type": "stream",
     "text": [
      "Epoch 001 | Train Loss: 63500.0699 | Val Loss: 45538.8224\n",
      "Epoch 002 | Train Loss: 9021.8936 | Val Loss: 859.7086\n",
      "Epoch 003 | Train Loss: 501.1615 | Val Loss: 251.5290\n",
      "Epoch 004 | Train Loss: 184.0501 | Val Loss: 136.8307\n",
      "Epoch 005 | Train Loss: 101.1796 | Val Loss: 84.0044\n",
      "Epoch 006 | Train Loss: 65.3093 | Val Loss: 56.1922\n",
      "Epoch 007 | Train Loss: 48.1658 | Val Loss: 43.3036\n",
      "Epoch 008 | Train Loss: 39.9908 | Val Loss: 36.1053\n",
      "Epoch 009 | Train Loss: 35.5445 | Val Loss: 33.0286\n",
      "Epoch 010 | Train Loss: 32.6521 | Val Loss: 29.5859\n",
      "Epoch 011 | Train Loss: 31.1748 | Val Loss: 29.1816\n",
      "Epoch 012 | Train Loss: 29.7605 | Val Loss: 27.5320\n",
      "Epoch 013 | Train Loss: 28.9509 | Val Loss: 29.2256\n",
      "Epoch 014 | Train Loss: 28.3746 | Val Loss: 26.4537\n",
      "Epoch 015 | Train Loss: 26.8465 | Val Loss: 24.1428\n",
      "Epoch 016 | Train Loss: 26.4575 | Val Loss: 24.3448\n",
      "Epoch 017 | Train Loss: 26.1146 | Val Loss: 23.4266\n",
      "Epoch 018 | Train Loss: 25.0195 | Val Loss: 24.1690\n",
      "Epoch 019 | Train Loss: 24.2111 | Val Loss: 23.3847\n",
      "Epoch 020 | Train Loss: 23.8002 | Val Loss: 24.9095\n",
      "Epoch 021 | Train Loss: 23.9457 | Val Loss: 21.3644\n",
      "Epoch 022 | Train Loss: 23.1228 | Val Loss: 22.2046\n",
      "Epoch 023 | Train Loss: 22.2455 | Val Loss: 21.5578\n",
      "Epoch 024 | Train Loss: 21.5443 | Val Loss: 24.3561\n",
      "Epoch 025 | Train Loss: 20.7262 | Val Loss: 19.4420\n",
      "Epoch 026 | Train Loss: 19.9067 | Val Loss: 19.1390\n",
      "Epoch 027 | Train Loss: 19.6355 | Val Loss: 23.0684\n",
      "Epoch 028 | Train Loss: 20.1649 | Val Loss: 17.3293\n",
      "Epoch 029 | Train Loss: 18.1469 | Val Loss: 19.3492\n",
      "Epoch 030 | Train Loss: 17.2000 | Val Loss: 16.9759\n",
      "Epoch 031 | Train Loss: 16.9800 | Val Loss: 15.8143\n",
      "Epoch 032 | Train Loss: 16.1732 | Val Loss: 15.6142\n",
      "Epoch 033 | Train Loss: 15.5355 | Val Loss: 15.5832\n",
      "Epoch 034 | Train Loss: 15.0832 | Val Loss: 14.7909\n",
      "Epoch 035 | Train Loss: 15.4799 | Val Loss: 17.2251\n",
      "Epoch 036 | Train Loss: 15.0091 | Val Loss: 14.4335\n",
      "Epoch 037 | Train Loss: 14.2976 | Val Loss: 13.9023\n",
      "Epoch 038 | Train Loss: 14.4968 | Val Loss: 13.7701\n",
      "Epoch 039 | Train Loss: 13.4561 | Val Loss: 12.8234\n",
      "Epoch 040 | Train Loss: 13.6488 | Val Loss: 12.9147\n",
      "Epoch 041 | Train Loss: 12.8664 | Val Loss: 12.4860\n",
      "Epoch 042 | Train Loss: 12.3810 | Val Loss: 12.5652\n",
      "Epoch 043 | Train Loss: 12.0067 | Val Loss: 12.8832\n",
      "Epoch 044 | Train Loss: 12.6592 | Val Loss: 11.7950\n",
      "Epoch 045 | Train Loss: 11.9630 | Val Loss: 11.8661\n",
      "Epoch 046 | Train Loss: 11.6044 | Val Loss: 11.3915\n",
      "Epoch 047 | Train Loss: 11.3454 | Val Loss: 11.4020\n",
      "Epoch 048 | Train Loss: 11.3506 | Val Loss: 11.0211\n",
      "Epoch 049 | Train Loss: 11.3423 | Val Loss: 11.4115\n",
      "Epoch 050 | Train Loss: 10.8550 | Val Loss: 10.8048\n",
      "Epoch 051 | Train Loss: 11.0226 | Val Loss: 12.7855\n",
      "Epoch 052 | Train Loss: 10.8943 | Val Loss: 11.2173\n",
      "Epoch 053 | Train Loss: 10.2675 | Val Loss: 10.1050\n",
      "Epoch 054 | Train Loss: 10.7514 | Val Loss: 11.0393\n",
      "Epoch 055 | Train Loss: 11.2252 | Val Loss: 13.1629\n",
      "Epoch 056 | Train Loss: 10.9740 | Val Loss: 15.2078\n",
      "Epoch 057 | Train Loss: 10.7130 | Val Loss: 9.5870\n",
      "Epoch 058 | Train Loss: 9.7317 | Val Loss: 9.8288\n",
      "Epoch 059 | Train Loss: 10.3642 | Val Loss: 10.9130\n",
      "Epoch 060 | Train Loss: 10.3759 | Val Loss: 12.2186\n",
      "Epoch 061 | Train Loss: 10.3503 | Val Loss: 13.4820\n",
      "Epoch 062 | Train Loss: 10.1353 | Val Loss: 9.2899\n",
      "Epoch 063 | Train Loss: 9.3966 | Val Loss: 13.5675\n",
      "Epoch 064 | Train Loss: 10.0944 | Val Loss: 11.4246\n",
      "Epoch 065 | Train Loss: 9.4642 | Val Loss: 8.9672\n",
      "Epoch 066 | Train Loss: 9.4625 | Val Loss: 9.4099\n",
      "Epoch 067 | Train Loss: 10.0431 | Val Loss: 9.5441\n",
      "Epoch 068 | Train Loss: 9.6553 | Val Loss: 8.9006\n",
      "Epoch 069 | Train Loss: 9.5247 | Val Loss: 9.8337\n",
      "Epoch 070 | Train Loss: 9.5374 | Val Loss: 10.0712\n",
      "Epoch 071 | Train Loss: 9.9688 | Val Loss: 9.2249\n",
      "Epoch 072 | Train Loss: 9.3013 | Val Loss: 9.8612\n",
      "Epoch 073 | Train Loss: 9.6946 | Val Loss: 10.6203\n",
      "Early stopping triggered at epoch 73\n"
     ]
    },
    {
     "data": {
      "text/html": [],
      "text/plain": [
       "<IPython.core.display.HTML object>"
      ]
     },
     "metadata": {},
     "output_type": "display_data"
    },
    {
     "data": {
      "text/html": [
       "<br>    <style><br>        .wandb-row {<br>            display: flex;<br>            flex-direction: row;<br>            flex-wrap: wrap;<br>            justify-content: flex-start;<br>            width: 100%;<br>        }<br>        .wandb-col {<br>            display: flex;<br>            flex-direction: column;<br>            flex-basis: 100%;<br>            flex: 1;<br>            padding: 10px;<br>        }<br>    </style><br><div class=\"wandb-row\"><div class=\"wandb-col\"><h3>Run history:</h3><br/><table class=\"wandb\"><tr><td>epoch</td><td>▁▁▁▁▁▂▂▂▂▂▃▃▃▃▃▃▃▄▄▄▄▄▅▅▅▅▅▆▆▆▆▆▇▇▇▇▇▇██</td></tr><tr><td>train_loss</td><td>█▁▁▁▁▁▁▁▁▁▁▁▁▁▁▁▁▁▁▁▁▁▁▁▁▁▁▁▁▁▁▁▁▁▁▁▁▁▁▁</td></tr><tr><td>val_loss</td><td>█▁▁▁▁▁▁▁▁▁▁▁▁▁▁▁▁▁▁▁▁▁▁▁▁▁▁▁▁▁▁▁▁▁▁▁▁▁▁▁</td></tr></table><br/></div><div class=\"wandb-col\"><h3>Run summary:</h3><br/><table class=\"wandb\"><tr><td>epoch</td><td>73</td></tr><tr><td>train_loss</td><td>9.6946</td></tr><tr><td>val_loss</td><td>10.62029</td></tr></table><br/></div></div>"
      ],
      "text/plain": [
       "<IPython.core.display.HTML object>"
      ]
     },
     "metadata": {},
     "output_type": "display_data"
    },
    {
     "data": {
      "text/html": [
       " View run <strong style=\"color:#cdcd00\">charmed-pyramid-289</strong> at: <a href='https://wandb.ai/yixuan228-imperial-college-london/nn-hyperparameter-finetune/runs/nwdrxjk3' target=\"_blank\">https://wandb.ai/yixuan228-imperial-college-london/nn-hyperparameter-finetune/runs/nwdrxjk3</a><br> View project at: <a href='https://wandb.ai/yixuan228-imperial-college-london/nn-hyperparameter-finetune' target=\"_blank\">https://wandb.ai/yixuan228-imperial-college-london/nn-hyperparameter-finetune</a><br>Synced 5 W&B file(s), 0 media file(s), 0 artifact file(s) and 0 other file(s)"
      ],
      "text/plain": [
       "<IPython.core.display.HTML object>"
      ]
     },
     "metadata": {},
     "output_type": "display_data"
    },
    {
     "data": {
      "text/html": [
       "Find logs at: <code>.\\wandb\\run-20250307_074330-nwdrxjk3\\logs</code>"
      ],
      "text/plain": [
       "<IPython.core.display.HTML object>"
      ]
     },
     "metadata": {},
     "output_type": "display_data"
    },
    {
     "data": {
      "text/html": [
       "Tracking run with wandb version 0.19.7"
      ],
      "text/plain": [
       "<IPython.core.display.HTML object>"
      ]
     },
     "metadata": {},
     "output_type": "display_data"
    },
    {
     "data": {
      "text/html": [
       "Run data is saved locally in <code>d:\\Projects\\MSc_DE_GroupWork4\\Scripts\\wandb\\run-20250307_074347-ljqq1o4a</code>"
      ],
      "text/plain": [
       "<IPython.core.display.HTML object>"
      ]
     },
     "metadata": {},
     "output_type": "display_data"
    },
    {
     "data": {
      "text/html": [
       "Syncing run <strong><a href='https://wandb.ai/yixuan228-imperial-college-london/nn-hyperparameter-finetune/runs/ljqq1o4a' target=\"_blank\">solar-planet-290</a></strong> to <a href='https://wandb.ai/yixuan228-imperial-college-london/nn-hyperparameter-finetune' target=\"_blank\">Weights & Biases</a> (<a href='https://wandb.me/developer-guide' target=\"_blank\">docs</a>)<br>"
      ],
      "text/plain": [
       "<IPython.core.display.HTML object>"
      ]
     },
     "metadata": {},
     "output_type": "display_data"
    },
    {
     "data": {
      "text/html": [
       " View project at <a href='https://wandb.ai/yixuan228-imperial-college-london/nn-hyperparameter-finetune' target=\"_blank\">https://wandb.ai/yixuan228-imperial-college-london/nn-hyperparameter-finetune</a>"
      ],
      "text/plain": [
       "<IPython.core.display.HTML object>"
      ]
     },
     "metadata": {},
     "output_type": "display_data"
    },
    {
     "data": {
      "text/html": [
       " View run at <a href='https://wandb.ai/yixuan228-imperial-college-london/nn-hyperparameter-finetune/runs/ljqq1o4a' target=\"_blank\">https://wandb.ai/yixuan228-imperial-college-london/nn-hyperparameter-finetune/runs/ljqq1o4a</a>"
      ],
      "text/plain": [
       "<IPython.core.display.HTML object>"
      ]
     },
     "metadata": {},
     "output_type": "display_data"
    },
    {
     "name": "stdout",
     "output_type": "stream",
     "text": [
      "Epoch 001 | Train Loss: 3598.4636 | Val Loss: 35.5829\n",
      "Epoch 002 | Train Loss: 25.8056 | Val Loss: 14.1161\n",
      "Epoch 003 | Train Loss: 16.9091 | Val Loss: 17.9933\n",
      "Epoch 004 | Train Loss: 16.5366 | Val Loss: 10.4582\n",
      "Epoch 005 | Train Loss: 15.8037 | Val Loss: 13.1231\n",
      "Epoch 006 | Train Loss: 30.1165 | Val Loss: 23.0766\n",
      "Epoch 007 | Train Loss: 30.0671 | Val Loss: 15.3021\n",
      "Epoch 008 | Train Loss: 28.9817 | Val Loss: 123.6965\n",
      "Epoch 009 | Train Loss: 115.9730 | Val Loss: 21.0444\n",
      "Early stopping triggered at epoch 9\n"
     ]
    },
    {
     "data": {
      "text/html": [],
      "text/plain": [
       "<IPython.core.display.HTML object>"
      ]
     },
     "metadata": {},
     "output_type": "display_data"
    },
    {
     "data": {
      "text/html": [
       "<br>    <style><br>        .wandb-row {<br>            display: flex;<br>            flex-direction: row;<br>            flex-wrap: wrap;<br>            justify-content: flex-start;<br>            width: 100%;<br>        }<br>        .wandb-col {<br>            display: flex;<br>            flex-direction: column;<br>            flex-basis: 100%;<br>            flex: 1;<br>            padding: 10px;<br>        }<br>    </style><br><div class=\"wandb-row\"><div class=\"wandb-col\"><h3>Run history:</h3><br/><table class=\"wandb\"><tr><td>epoch</td><td>▁▂▃▄▅▅▆▇█</td></tr><tr><td>train_loss</td><td>█▁▁▁▁▁▁▁▁</td></tr><tr><td>val_loss</td><td>▃▁▁▁▁▂▁█▂</td></tr></table><br/></div><div class=\"wandb-col\"><h3>Run summary:</h3><br/><table class=\"wandb\"><tr><td>epoch</td><td>9</td></tr><tr><td>train_loss</td><td>115.97295</td></tr><tr><td>val_loss</td><td>21.04442</td></tr></table><br/></div></div>"
      ],
      "text/plain": [
       "<IPython.core.display.HTML object>"
      ]
     },
     "metadata": {},
     "output_type": "display_data"
    },
    {
     "data": {
      "text/html": [
       " View run <strong style=\"color:#cdcd00\">solar-planet-290</strong> at: <a href='https://wandb.ai/yixuan228-imperial-college-london/nn-hyperparameter-finetune/runs/ljqq1o4a' target=\"_blank\">https://wandb.ai/yixuan228-imperial-college-london/nn-hyperparameter-finetune/runs/ljqq1o4a</a><br> View project at: <a href='https://wandb.ai/yixuan228-imperial-college-london/nn-hyperparameter-finetune' target=\"_blank\">https://wandb.ai/yixuan228-imperial-college-london/nn-hyperparameter-finetune</a><br>Synced 5 W&B file(s), 0 media file(s), 0 artifact file(s) and 0 other file(s)"
      ],
      "text/plain": [
       "<IPython.core.display.HTML object>"
      ]
     },
     "metadata": {},
     "output_type": "display_data"
    },
    {
     "data": {
      "text/html": [
       "Find logs at: <code>.\\wandb\\run-20250307_074347-ljqq1o4a\\logs</code>"
      ],
      "text/plain": [
       "<IPython.core.display.HTML object>"
      ]
     },
     "metadata": {},
     "output_type": "display_data"
    },
    {
     "data": {
      "text/html": [
       "Tracking run with wandb version 0.19.7"
      ],
      "text/plain": [
       "<IPython.core.display.HTML object>"
      ]
     },
     "metadata": {},
     "output_type": "display_data"
    },
    {
     "data": {
      "text/html": [
       "Run data is saved locally in <code>d:\\Projects\\MSc_DE_GroupWork4\\Scripts\\wandb\\run-20250307_074351-jobyw308</code>"
      ],
      "text/plain": [
       "<IPython.core.display.HTML object>"
      ]
     },
     "metadata": {},
     "output_type": "display_data"
    },
    {
     "data": {
      "text/html": [
       "Syncing run <strong><a href='https://wandb.ai/yixuan228-imperial-college-london/nn-hyperparameter-finetune/runs/jobyw308' target=\"_blank\">gallant-meadow-291</a></strong> to <a href='https://wandb.ai/yixuan228-imperial-college-london/nn-hyperparameter-finetune' target=\"_blank\">Weights & Biases</a> (<a href='https://wandb.me/developer-guide' target=\"_blank\">docs</a>)<br>"
      ],
      "text/plain": [
       "<IPython.core.display.HTML object>"
      ]
     },
     "metadata": {},
     "output_type": "display_data"
    },
    {
     "data": {
      "text/html": [
       " View project at <a href='https://wandb.ai/yixuan228-imperial-college-london/nn-hyperparameter-finetune' target=\"_blank\">https://wandb.ai/yixuan228-imperial-college-london/nn-hyperparameter-finetune</a>"
      ],
      "text/plain": [
       "<IPython.core.display.HTML object>"
      ]
     },
     "metadata": {},
     "output_type": "display_data"
    },
    {
     "data": {
      "text/html": [
       " View run at <a href='https://wandb.ai/yixuan228-imperial-college-london/nn-hyperparameter-finetune/runs/jobyw308' target=\"_blank\">https://wandb.ai/yixuan228-imperial-college-london/nn-hyperparameter-finetune/runs/jobyw308</a>"
      ],
      "text/plain": [
       "<IPython.core.display.HTML object>"
      ]
     },
     "metadata": {},
     "output_type": "display_data"
    },
    {
     "name": "stdout",
     "output_type": "stream",
     "text": [
      "Epoch 001 | Train Loss: 17695.1872 | Val Loss: 194.7251\n",
      "Epoch 002 | Train Loss: 83.4209 | Val Loss: 38.7754\n",
      "Epoch 003 | Train Loss: 36.3965 | Val Loss: 26.8262\n",
      "Epoch 004 | Train Loss: 31.1695 | Val Loss: 26.9810\n",
      "Epoch 005 | Train Loss: 30.3439 | Val Loss: 27.5874\n",
      "Epoch 006 | Train Loss: 29.0812 | Val Loss: 25.1213\n",
      "Epoch 007 | Train Loss: 28.4743 | Val Loss: 24.7252\n",
      "Epoch 008 | Train Loss: 28.2000 | Val Loss: 22.6176\n",
      "Epoch 009 | Train Loss: 26.0248 | Val Loss: 20.5884\n",
      "Epoch 010 | Train Loss: 23.3796 | Val Loss: 18.1427\n",
      "Epoch 011 | Train Loss: 22.7144 | Val Loss: 17.6605\n",
      "Epoch 012 | Train Loss: 18.6555 | Val Loss: 16.1749\n",
      "Epoch 013 | Train Loss: 16.5230 | Val Loss: 16.7752\n",
      "Epoch 014 | Train Loss: 15.3947 | Val Loss: 14.9431\n",
      "Epoch 015 | Train Loss: 15.8091 | Val Loss: 18.6773\n",
      "Epoch 016 | Train Loss: 13.5295 | Val Loss: 16.1736\n",
      "Epoch 017 | Train Loss: 13.3209 | Val Loss: 11.8584\n",
      "Epoch 018 | Train Loss: 12.0193 | Val Loss: 13.2630\n",
      "Epoch 019 | Train Loss: 12.9122 | Val Loss: 10.9966\n",
      "Epoch 020 | Train Loss: 10.8636 | Val Loss: 11.0682\n",
      "Epoch 021 | Train Loss: 10.7024 | Val Loss: 10.2888\n",
      "Epoch 022 | Train Loss: 12.1352 | Val Loss: 12.8921\n",
      "Epoch 023 | Train Loss: 11.7035 | Val Loss: 10.6546\n",
      "Epoch 024 | Train Loss: 11.5430 | Val Loss: 11.7894\n",
      "Epoch 025 | Train Loss: 11.2671 | Val Loss: 11.3262\n",
      "Epoch 026 | Train Loss: 11.3977 | Val Loss: 11.1106\n",
      "Early stopping triggered at epoch 26\n"
     ]
    },
    {
     "data": {
      "text/html": [],
      "text/plain": [
       "<IPython.core.display.HTML object>"
      ]
     },
     "metadata": {},
     "output_type": "display_data"
    },
    {
     "data": {
      "text/html": [
       "<br>    <style><br>        .wandb-row {<br>            display: flex;<br>            flex-direction: row;<br>            flex-wrap: wrap;<br>            justify-content: flex-start;<br>            width: 100%;<br>        }<br>        .wandb-col {<br>            display: flex;<br>            flex-direction: column;<br>            flex-basis: 100%;<br>            flex: 1;<br>            padding: 10px;<br>        }<br>    </style><br><div class=\"wandb-row\"><div class=\"wandb-col\"><h3>Run history:</h3><br/><table class=\"wandb\"><tr><td>epoch</td><td>▁▁▂▂▂▂▃▃▃▄▄▄▄▅▅▅▅▆▆▆▇▇▇▇██</td></tr><tr><td>train_loss</td><td>█▁▁▁▁▁▁▁▁▁▁▁▁▁▁▁▁▁▁▁▁▁▁▁▁▁</td></tr><tr><td>val_loss</td><td>█▂▂▂▂▂▂▁▁▁▁▁▁▁▁▁▁▁▁▁▁▁▁▁▁▁</td></tr></table><br/></div><div class=\"wandb-col\"><h3>Run summary:</h3><br/><table class=\"wandb\"><tr><td>epoch</td><td>26</td></tr><tr><td>train_loss</td><td>11.39769</td></tr><tr><td>val_loss</td><td>11.11055</td></tr></table><br/></div></div>"
      ],
      "text/plain": [
       "<IPython.core.display.HTML object>"
      ]
     },
     "metadata": {},
     "output_type": "display_data"
    },
    {
     "data": {
      "text/html": [
       " View run <strong style=\"color:#cdcd00\">gallant-meadow-291</strong> at: <a href='https://wandb.ai/yixuan228-imperial-college-london/nn-hyperparameter-finetune/runs/jobyw308' target=\"_blank\">https://wandb.ai/yixuan228-imperial-college-london/nn-hyperparameter-finetune/runs/jobyw308</a><br> View project at: <a href='https://wandb.ai/yixuan228-imperial-college-london/nn-hyperparameter-finetune' target=\"_blank\">https://wandb.ai/yixuan228-imperial-college-london/nn-hyperparameter-finetune</a><br>Synced 5 W&B file(s), 0 media file(s), 0 artifact file(s) and 0 other file(s)"
      ],
      "text/plain": [
       "<IPython.core.display.HTML object>"
      ]
     },
     "metadata": {},
     "output_type": "display_data"
    },
    {
     "data": {
      "text/html": [
       "Find logs at: <code>.\\wandb\\run-20250307_074351-jobyw308\\logs</code>"
      ],
      "text/plain": [
       "<IPython.core.display.HTML object>"
      ]
     },
     "metadata": {},
     "output_type": "display_data"
    },
    {
     "data": {
      "text/html": [
       "Tracking run with wandb version 0.19.7"
      ],
      "text/plain": [
       "<IPython.core.display.HTML object>"
      ]
     },
     "metadata": {},
     "output_type": "display_data"
    },
    {
     "data": {
      "text/html": [
       "Run data is saved locally in <code>d:\\Projects\\MSc_DE_GroupWork4\\Scripts\\wandb\\run-20250307_074358-v4b3i3jz</code>"
      ],
      "text/plain": [
       "<IPython.core.display.HTML object>"
      ]
     },
     "metadata": {},
     "output_type": "display_data"
    },
    {
     "data": {
      "text/html": [
       "Syncing run <strong><a href='https://wandb.ai/yixuan228-imperial-college-london/nn-hyperparameter-finetune/runs/v4b3i3jz' target=\"_blank\">peach-water-292</a></strong> to <a href='https://wandb.ai/yixuan228-imperial-college-london/nn-hyperparameter-finetune' target=\"_blank\">Weights & Biases</a> (<a href='https://wandb.me/developer-guide' target=\"_blank\">docs</a>)<br>"
      ],
      "text/plain": [
       "<IPython.core.display.HTML object>"
      ]
     },
     "metadata": {},
     "output_type": "display_data"
    },
    {
     "data": {
      "text/html": [
       " View project at <a href='https://wandb.ai/yixuan228-imperial-college-london/nn-hyperparameter-finetune' target=\"_blank\">https://wandb.ai/yixuan228-imperial-college-london/nn-hyperparameter-finetune</a>"
      ],
      "text/plain": [
       "<IPython.core.display.HTML object>"
      ]
     },
     "metadata": {},
     "output_type": "display_data"
    },
    {
     "data": {
      "text/html": [
       " View run at <a href='https://wandb.ai/yixuan228-imperial-college-london/nn-hyperparameter-finetune/runs/v4b3i3jz' target=\"_blank\">https://wandb.ai/yixuan228-imperial-college-london/nn-hyperparameter-finetune/runs/v4b3i3jz</a>"
      ],
      "text/plain": [
       "<IPython.core.display.HTML object>"
      ]
     },
     "metadata": {},
     "output_type": "display_data"
    },
    {
     "name": "stdout",
     "output_type": "stream",
     "text": [
      "Epoch 001 | Train Loss: 63305.8308 | Val Loss: 53471.9830\n",
      "Epoch 002 | Train Loss: 28517.1876 | Val Loss: 5952.4607\n",
      "Epoch 003 | Train Loss: 2244.3840 | Val Loss: 1076.2974\n",
      "Epoch 004 | Train Loss: 831.8601 | Val Loss: 540.9543\n",
      "Epoch 005 | Train Loss: 446.5547 | Val Loss: 312.9281\n",
      "Epoch 006 | Train Loss: 260.8304 | Val Loss: 207.9230\n",
      "Epoch 007 | Train Loss: 167.3580 | Val Loss: 146.6253\n",
      "Epoch 008 | Train Loss: 117.1055 | Val Loss: 108.8836\n",
      "Epoch 009 | Train Loss: 86.0078 | Val Loss: 83.3900\n",
      "Epoch 010 | Train Loss: 66.1885 | Val Loss: 64.9553\n",
      "Epoch 011 | Train Loss: 52.2301 | Val Loss: 52.5631\n",
      "Epoch 012 | Train Loss: 43.8934 | Val Loss: 45.1499\n",
      "Epoch 013 | Train Loss: 38.2976 | Val Loss: 39.6516\n",
      "Epoch 014 | Train Loss: 34.8882 | Val Loss: 35.0843\n",
      "Epoch 015 | Train Loss: 32.6809 | Val Loss: 32.9043\n",
      "Epoch 016 | Train Loss: 31.2065 | Val Loss: 31.0362\n",
      "Epoch 017 | Train Loss: 29.8672 | Val Loss: 29.7417\n",
      "Epoch 018 | Train Loss: 29.4112 | Val Loss: 29.0422\n",
      "Epoch 019 | Train Loss: 29.5584 | Val Loss: 28.4271\n",
      "Epoch 020 | Train Loss: 28.7049 | Val Loss: 28.1873\n",
      "Epoch 021 | Train Loss: 28.5732 | Val Loss: 27.7085\n",
      "Epoch 022 | Train Loss: 28.3231 | Val Loss: 27.2386\n",
      "Epoch 023 | Train Loss: 27.9669 | Val Loss: 27.8851\n",
      "Epoch 024 | Train Loss: 28.1470 | Val Loss: 29.0894\n",
      "Epoch 025 | Train Loss: 27.8120 | Val Loss: 26.4579\n",
      "Epoch 026 | Train Loss: 27.9745 | Val Loss: 26.4762\n",
      "Epoch 027 | Train Loss: 27.8187 | Val Loss: 26.5196\n",
      "Epoch 028 | Train Loss: 27.5799 | Val Loss: 26.5418\n",
      "Epoch 029 | Train Loss: 27.9073 | Val Loss: 26.4240\n",
      "Epoch 030 | Train Loss: 27.4757 | Val Loss: 26.6033\n",
      "Epoch 031 | Train Loss: 27.5343 | Val Loss: 26.2641\n",
      "Epoch 032 | Train Loss: 27.1730 | Val Loss: 28.8055\n",
      "Epoch 033 | Train Loss: 27.5120 | Val Loss: 25.7975\n",
      "Epoch 034 | Train Loss: 27.4787 | Val Loss: 26.3450\n",
      "Epoch 035 | Train Loss: 27.0377 | Val Loss: 24.8116\n",
      "Epoch 036 | Train Loss: 27.1605 | Val Loss: 24.6330\n",
      "Epoch 037 | Train Loss: 27.3883 | Val Loss: 25.0272\n",
      "Epoch 038 | Train Loss: 26.9695 | Val Loss: 25.1142\n",
      "Epoch 039 | Train Loss: 27.0970 | Val Loss: 25.2165\n",
      "Epoch 040 | Train Loss: 26.7483 | Val Loss: 24.6550\n",
      "Epoch 041 | Train Loss: 26.5067 | Val Loss: 28.2439\n",
      "Early stopping triggered at epoch 41\n"
     ]
    },
    {
     "data": {
      "text/html": [],
      "text/plain": [
       "<IPython.core.display.HTML object>"
      ]
     },
     "metadata": {},
     "output_type": "display_data"
    },
    {
     "data": {
      "text/html": [
       "<br>    <style><br>        .wandb-row {<br>            display: flex;<br>            flex-direction: row;<br>            flex-wrap: wrap;<br>            justify-content: flex-start;<br>            width: 100%;<br>        }<br>        .wandb-col {<br>            display: flex;<br>            flex-direction: column;<br>            flex-basis: 100%;<br>            flex: 1;<br>            padding: 10px;<br>        }<br>    </style><br><div class=\"wandb-row\"><div class=\"wandb-col\"><h3>Run history:</h3><br/><table class=\"wandb\"><tr><td>epoch</td><td>▁▁▁▂▂▂▂▂▂▃▃▃▃▃▃▄▄▄▄▄▅▅▅▅▅▅▆▆▆▆▆▆▇▇▇▇▇▇██</td></tr><tr><td>train_loss</td><td>█▄▁▁▁▁▁▁▁▁▁▁▁▁▁▁▁▁▁▁▁▁▁▁▁▁▁▁▁▁▁▁▁▁▁▁▁▁▁▁</td></tr><tr><td>val_loss</td><td>█▂▁▁▁▁▁▁▁▁▁▁▁▁▁▁▁▁▁▁▁▁▁▁▁▁▁▁▁▁▁▁▁▁▁▁▁▁▁▁</td></tr></table><br/></div><div class=\"wandb-col\"><h3>Run summary:</h3><br/><table class=\"wandb\"><tr><td>epoch</td><td>41</td></tr><tr><td>train_loss</td><td>26.50674</td></tr><tr><td>val_loss</td><td>28.24394</td></tr></table><br/></div></div>"
      ],
      "text/plain": [
       "<IPython.core.display.HTML object>"
      ]
     },
     "metadata": {},
     "output_type": "display_data"
    },
    {
     "data": {
      "text/html": [
       " View run <strong style=\"color:#cdcd00\">peach-water-292</strong> at: <a href='https://wandb.ai/yixuan228-imperial-college-london/nn-hyperparameter-finetune/runs/v4b3i3jz' target=\"_blank\">https://wandb.ai/yixuan228-imperial-college-london/nn-hyperparameter-finetune/runs/v4b3i3jz</a><br> View project at: <a href='https://wandb.ai/yixuan228-imperial-college-london/nn-hyperparameter-finetune' target=\"_blank\">https://wandb.ai/yixuan228-imperial-college-london/nn-hyperparameter-finetune</a><br>Synced 5 W&B file(s), 0 media file(s), 0 artifact file(s) and 0 other file(s)"
      ],
      "text/plain": [
       "<IPython.core.display.HTML object>"
      ]
     },
     "metadata": {},
     "output_type": "display_data"
    },
    {
     "data": {
      "text/html": [
       "Find logs at: <code>.\\wandb\\run-20250307_074358-v4b3i3jz\\logs</code>"
      ],
      "text/plain": [
       "<IPython.core.display.HTML object>"
      ]
     },
     "metadata": {},
     "output_type": "display_data"
    },
    {
     "data": {
      "text/html": [
       "Tracking run with wandb version 0.19.7"
      ],
      "text/plain": [
       "<IPython.core.display.HTML object>"
      ]
     },
     "metadata": {},
     "output_type": "display_data"
    },
    {
     "data": {
      "text/html": [
       "Run data is saved locally in <code>d:\\Projects\\MSc_DE_GroupWork4\\Scripts\\wandb\\run-20250307_074408-s30r8rba</code>"
      ],
      "text/plain": [
       "<IPython.core.display.HTML object>"
      ]
     },
     "metadata": {},
     "output_type": "display_data"
    },
    {
     "data": {
      "text/html": [
       "Syncing run <strong><a href='https://wandb.ai/yixuan228-imperial-college-london/nn-hyperparameter-finetune/runs/s30r8rba' target=\"_blank\">misunderstood-paper-293</a></strong> to <a href='https://wandb.ai/yixuan228-imperial-college-london/nn-hyperparameter-finetune' target=\"_blank\">Weights & Biases</a> (<a href='https://wandb.me/developer-guide' target=\"_blank\">docs</a>)<br>"
      ],
      "text/plain": [
       "<IPython.core.display.HTML object>"
      ]
     },
     "metadata": {},
     "output_type": "display_data"
    },
    {
     "data": {
      "text/html": [
       " View project at <a href='https://wandb.ai/yixuan228-imperial-college-london/nn-hyperparameter-finetune' target=\"_blank\">https://wandb.ai/yixuan228-imperial-college-london/nn-hyperparameter-finetune</a>"
      ],
      "text/plain": [
       "<IPython.core.display.HTML object>"
      ]
     },
     "metadata": {},
     "output_type": "display_data"
    },
    {
     "data": {
      "text/html": [
       " View run at <a href='https://wandb.ai/yixuan228-imperial-college-london/nn-hyperparameter-finetune/runs/s30r8rba' target=\"_blank\">https://wandb.ai/yixuan228-imperial-college-london/nn-hyperparameter-finetune/runs/s30r8rba</a>"
      ],
      "text/plain": [
       "<IPython.core.display.HTML object>"
      ]
     },
     "metadata": {},
     "output_type": "display_data"
    },
    {
     "name": "stdout",
     "output_type": "stream",
     "text": [
      "Epoch 001 | Train Loss: 34727.7059 | Val Loss: 510.5887\n",
      "Epoch 002 | Train Loss: 257.1549 | Val Loss: 66.0092\n",
      "Epoch 003 | Train Loss: 55.7063 | Val Loss: 48.0459\n",
      "Epoch 004 | Train Loss: 32.8490 | Val Loss: 29.2143\n",
      "Epoch 005 | Train Loss: 31.1810 | Val Loss: 20.8591\n",
      "Epoch 006 | Train Loss: 18.2406 | Val Loss: 13.9202\n",
      "Epoch 007 | Train Loss: 17.2820 | Val Loss: 79.6653\n",
      "Epoch 008 | Train Loss: 35.7591 | Val Loss: 27.5381\n",
      "Epoch 009 | Train Loss: 23.1969 | Val Loss: 14.0972\n",
      "Epoch 010 | Train Loss: 20.8376 | Val Loss: 22.4453\n",
      "Epoch 011 | Train Loss: 43.3244 | Val Loss: 22.0978\n",
      "Early stopping triggered at epoch 11\n"
     ]
    },
    {
     "data": {
      "text/html": [],
      "text/plain": [
       "<IPython.core.display.HTML object>"
      ]
     },
     "metadata": {},
     "output_type": "display_data"
    },
    {
     "data": {
      "text/html": [
       "<br>    <style><br>        .wandb-row {<br>            display: flex;<br>            flex-direction: row;<br>            flex-wrap: wrap;<br>            justify-content: flex-start;<br>            width: 100%;<br>        }<br>        .wandb-col {<br>            display: flex;<br>            flex-direction: column;<br>            flex-basis: 100%;<br>            flex: 1;<br>            padding: 10px;<br>        }<br>    </style><br><div class=\"wandb-row\"><div class=\"wandb-col\"><h3>Run history:</h3><br/><table class=\"wandb\"><tr><td>epoch</td><td>▁▂▂▃▄▅▅▆▇▇█</td></tr><tr><td>train_loss</td><td>█▁▁▁▁▁▁▁▁▁▁</td></tr><tr><td>val_loss</td><td>█▂▁▁▁▁▂▁▁▁▁</td></tr></table><br/></div><div class=\"wandb-col\"><h3>Run summary:</h3><br/><table class=\"wandb\"><tr><td>epoch</td><td>11</td></tr><tr><td>train_loss</td><td>43.32435</td></tr><tr><td>val_loss</td><td>22.09777</td></tr></table><br/></div></div>"
      ],
      "text/plain": [
       "<IPython.core.display.HTML object>"
      ]
     },
     "metadata": {},
     "output_type": "display_data"
    },
    {
     "data": {
      "text/html": [
       " View run <strong style=\"color:#cdcd00\">misunderstood-paper-293</strong> at: <a href='https://wandb.ai/yixuan228-imperial-college-london/nn-hyperparameter-finetune/runs/s30r8rba' target=\"_blank\">https://wandb.ai/yixuan228-imperial-college-london/nn-hyperparameter-finetune/runs/s30r8rba</a><br> View project at: <a href='https://wandb.ai/yixuan228-imperial-college-london/nn-hyperparameter-finetune' target=\"_blank\">https://wandb.ai/yixuan228-imperial-college-london/nn-hyperparameter-finetune</a><br>Synced 5 W&B file(s), 0 media file(s), 0 artifact file(s) and 0 other file(s)"
      ],
      "text/plain": [
       "<IPython.core.display.HTML object>"
      ]
     },
     "metadata": {},
     "output_type": "display_data"
    },
    {
     "data": {
      "text/html": [
       "Find logs at: <code>.\\wandb\\run-20250307_074408-s30r8rba\\logs</code>"
      ],
      "text/plain": [
       "<IPython.core.display.HTML object>"
      ]
     },
     "metadata": {},
     "output_type": "display_data"
    },
    {
     "data": {
      "text/html": [
       "Tracking run with wandb version 0.19.7"
      ],
      "text/plain": [
       "<IPython.core.display.HTML object>"
      ]
     },
     "metadata": {},
     "output_type": "display_data"
    },
    {
     "data": {
      "text/html": [
       "Run data is saved locally in <code>d:\\Projects\\MSc_DE_GroupWork4\\Scripts\\wandb\\run-20250307_074412-wtvd2k9f</code>"
      ],
      "text/plain": [
       "<IPython.core.display.HTML object>"
      ]
     },
     "metadata": {},
     "output_type": "display_data"
    },
    {
     "data": {
      "text/html": [
       "Syncing run <strong><a href='https://wandb.ai/yixuan228-imperial-college-london/nn-hyperparameter-finetune/runs/wtvd2k9f' target=\"_blank\">kind-resonance-294</a></strong> to <a href='https://wandb.ai/yixuan228-imperial-college-london/nn-hyperparameter-finetune' target=\"_blank\">Weights & Biases</a> (<a href='https://wandb.me/developer-guide' target=\"_blank\">docs</a>)<br>"
      ],
      "text/plain": [
       "<IPython.core.display.HTML object>"
      ]
     },
     "metadata": {},
     "output_type": "display_data"
    },
    {
     "data": {
      "text/html": [
       " View project at <a href='https://wandb.ai/yixuan228-imperial-college-london/nn-hyperparameter-finetune' target=\"_blank\">https://wandb.ai/yixuan228-imperial-college-london/nn-hyperparameter-finetune</a>"
      ],
      "text/plain": [
       "<IPython.core.display.HTML object>"
      ]
     },
     "metadata": {},
     "output_type": "display_data"
    },
    {
     "data": {
      "text/html": [
       " View run at <a href='https://wandb.ai/yixuan228-imperial-college-london/nn-hyperparameter-finetune/runs/wtvd2k9f' target=\"_blank\">https://wandb.ai/yixuan228-imperial-college-london/nn-hyperparameter-finetune/runs/wtvd2k9f</a>"
      ],
      "text/plain": [
       "<IPython.core.display.HTML object>"
      ]
     },
     "metadata": {},
     "output_type": "display_data"
    },
    {
     "name": "stdout",
     "output_type": "stream",
     "text": [
      "Epoch 001 | Train Loss: 12414.2518 | Val Loss: 85.9815\n",
      "Epoch 002 | Train Loss: 43.4670 | Val Loss: 37.6430\n",
      "Epoch 003 | Train Loss: 23.2031 | Val Loss: 23.9983\n",
      "Epoch 004 | Train Loss: 16.5232 | Val Loss: 19.2060\n",
      "Epoch 005 | Train Loss: 13.5412 | Val Loss: 12.2186\n",
      "Epoch 006 | Train Loss: 11.1065 | Val Loss: 10.6742\n",
      "Epoch 007 | Train Loss: 10.5197 | Val Loss: 12.3574\n",
      "Epoch 008 | Train Loss: 10.0865 | Val Loss: 9.9673\n",
      "Epoch 009 | Train Loss: 8.8666 | Val Loss: 10.4093\n",
      "Epoch 010 | Train Loss: 10.0186 | Val Loss: 9.4149\n",
      "Epoch 011 | Train Loss: 9.0391 | Val Loss: 9.4210\n",
      "Epoch 012 | Train Loss: 11.0020 | Val Loss: 8.4487\n",
      "Epoch 013 | Train Loss: 9.6346 | Val Loss: 9.6048\n",
      "Epoch 014 | Train Loss: 9.8583 | Val Loss: 19.5392\n",
      "Epoch 015 | Train Loss: 11.6507 | Val Loss: 21.5857\n",
      "Epoch 016 | Train Loss: 13.1611 | Val Loss: 10.4029\n",
      "Epoch 017 | Train Loss: 9.7243 | Val Loss: 9.6347\n",
      "Early stopping triggered at epoch 17\n"
     ]
    },
    {
     "data": {
      "text/html": [],
      "text/plain": [
       "<IPython.core.display.HTML object>"
      ]
     },
     "metadata": {},
     "output_type": "display_data"
    },
    {
     "data": {
      "text/html": [
       "<br>    <style><br>        .wandb-row {<br>            display: flex;<br>            flex-direction: row;<br>            flex-wrap: wrap;<br>            justify-content: flex-start;<br>            width: 100%;<br>        }<br>        .wandb-col {<br>            display: flex;<br>            flex-direction: column;<br>            flex-basis: 100%;<br>            flex: 1;<br>            padding: 10px;<br>        }<br>    </style><br><div class=\"wandb-row\"><div class=\"wandb-col\"><h3>Run history:</h3><br/><table class=\"wandb\"><tr><td>epoch</td><td>▁▁▂▂▃▃▄▄▅▅▅▆▆▇▇██</td></tr><tr><td>train_loss</td><td>█▁▁▁▁▁▁▁▁▁▁▁▁▁▁▁▁</td></tr><tr><td>val_loss</td><td>█▄▂▂▁▁▁▁▁▁▁▁▁▂▂▁▁</td></tr></table><br/></div><div class=\"wandb-col\"><h3>Run summary:</h3><br/><table class=\"wandb\"><tr><td>epoch</td><td>17</td></tr><tr><td>train_loss</td><td>9.7243</td></tr><tr><td>val_loss</td><td>9.63471</td></tr></table><br/></div></div>"
      ],
      "text/plain": [
       "<IPython.core.display.HTML object>"
      ]
     },
     "metadata": {},
     "output_type": "display_data"
    },
    {
     "data": {
      "text/html": [
       " View run <strong style=\"color:#cdcd00\">kind-resonance-294</strong> at: <a href='https://wandb.ai/yixuan228-imperial-college-london/nn-hyperparameter-finetune/runs/wtvd2k9f' target=\"_blank\">https://wandb.ai/yixuan228-imperial-college-london/nn-hyperparameter-finetune/runs/wtvd2k9f</a><br> View project at: <a href='https://wandb.ai/yixuan228-imperial-college-london/nn-hyperparameter-finetune' target=\"_blank\">https://wandb.ai/yixuan228-imperial-college-london/nn-hyperparameter-finetune</a><br>Synced 5 W&B file(s), 0 media file(s), 0 artifact file(s) and 0 other file(s)"
      ],
      "text/plain": [
       "<IPython.core.display.HTML object>"
      ]
     },
     "metadata": {},
     "output_type": "display_data"
    },
    {
     "data": {
      "text/html": [
       "Find logs at: <code>.\\wandb\\run-20250307_074412-wtvd2k9f\\logs</code>"
      ],
      "text/plain": [
       "<IPython.core.display.HTML object>"
      ]
     },
     "metadata": {},
     "output_type": "display_data"
    },
    {
     "data": {
      "text/html": [
       "Tracking run with wandb version 0.19.7"
      ],
      "text/plain": [
       "<IPython.core.display.HTML object>"
      ]
     },
     "metadata": {},
     "output_type": "display_data"
    },
    {
     "data": {
      "text/html": [
       "Run data is saved locally in <code>d:\\Projects\\MSc_DE_GroupWork4\\Scripts\\wandb\\run-20250307_074417-f4w810ia</code>"
      ],
      "text/plain": [
       "<IPython.core.display.HTML object>"
      ]
     },
     "metadata": {},
     "output_type": "display_data"
    },
    {
     "data": {
      "text/html": [
       "Syncing run <strong><a href='https://wandb.ai/yixuan228-imperial-college-london/nn-hyperparameter-finetune/runs/f4w810ia' target=\"_blank\">fresh-elevator-295</a></strong> to <a href='https://wandb.ai/yixuan228-imperial-college-london/nn-hyperparameter-finetune' target=\"_blank\">Weights & Biases</a> (<a href='https://wandb.me/developer-guide' target=\"_blank\">docs</a>)<br>"
      ],
      "text/plain": [
       "<IPython.core.display.HTML object>"
      ]
     },
     "metadata": {},
     "output_type": "display_data"
    },
    {
     "data": {
      "text/html": [
       " View project at <a href='https://wandb.ai/yixuan228-imperial-college-london/nn-hyperparameter-finetune' target=\"_blank\">https://wandb.ai/yixuan228-imperial-college-london/nn-hyperparameter-finetune</a>"
      ],
      "text/plain": [
       "<IPython.core.display.HTML object>"
      ]
     },
     "metadata": {},
     "output_type": "display_data"
    },
    {
     "data": {
      "text/html": [
       " View run at <a href='https://wandb.ai/yixuan228-imperial-college-london/nn-hyperparameter-finetune/runs/f4w810ia' target=\"_blank\">https://wandb.ai/yixuan228-imperial-college-london/nn-hyperparameter-finetune/runs/f4w810ia</a>"
      ],
      "text/plain": [
       "<IPython.core.display.HTML object>"
      ]
     },
     "metadata": {},
     "output_type": "display_data"
    },
    {
     "name": "stdout",
     "output_type": "stream",
     "text": [
      "Epoch 001 | Train Loss: 57787.8409 | Val Loss: 20667.7141\n",
      "Epoch 002 | Train Loss: 3532.1956 | Val Loss: 652.5188\n",
      "Epoch 003 | Train Loss: 407.2414 | Val Loss: 237.0060\n",
      "Epoch 004 | Train Loss: 169.6114 | Val Loss: 125.8575\n",
      "Epoch 005 | Train Loss: 93.7958 | Val Loss: 76.5411\n",
      "Epoch 006 | Train Loss: 59.6922 | Val Loss: 52.1159\n",
      "Epoch 007 | Train Loss: 44.1815 | Val Loss: 40.2884\n",
      "Epoch 008 | Train Loss: 36.3228 | Val Loss: 33.4227\n",
      "Epoch 009 | Train Loss: 32.5719 | Val Loss: 31.3422\n",
      "Epoch 010 | Train Loss: 30.5912 | Val Loss: 31.2860\n",
      "Epoch 011 | Train Loss: 28.4168 | Val Loss: 27.5924\n",
      "Epoch 012 | Train Loss: 28.4004 | Val Loss: 28.1050\n",
      "Epoch 013 | Train Loss: 27.0222 | Val Loss: 26.6351\n",
      "Epoch 014 | Train Loss: 26.2851 | Val Loss: 25.7956\n",
      "Epoch 015 | Train Loss: 25.7935 | Val Loss: 25.6698\n",
      "Epoch 016 | Train Loss: 24.1168 | Val Loss: 23.4349\n",
      "Epoch 017 | Train Loss: 23.4115 | Val Loss: 22.5399\n",
      "Epoch 018 | Train Loss: 22.2681 | Val Loss: 21.8059\n",
      "Epoch 019 | Train Loss: 21.8822 | Val Loss: 20.1384\n",
      "Epoch 020 | Train Loss: 20.1141 | Val Loss: 19.8312\n",
      "Epoch 021 | Train Loss: 19.0349 | Val Loss: 17.8177\n",
      "Epoch 022 | Train Loss: 17.8401 | Val Loss: 17.7776\n",
      "Epoch 023 | Train Loss: 17.0989 | Val Loss: 18.4303\n",
      "Epoch 024 | Train Loss: 16.2607 | Val Loss: 16.6156\n",
      "Epoch 025 | Train Loss: 15.3605 | Val Loss: 15.2119\n",
      "Epoch 026 | Train Loss: 14.1620 | Val Loss: 15.4178\n",
      "Epoch 027 | Train Loss: 13.5842 | Val Loss: 15.6963\n",
      "Epoch 028 | Train Loss: 13.3426 | Val Loss: 13.1136\n",
      "Epoch 029 | Train Loss: 12.4695 | Val Loss: 12.8329\n",
      "Epoch 030 | Train Loss: 11.9324 | Val Loss: 18.6448\n",
      "Epoch 031 | Train Loss: 14.2503 | Val Loss: 12.1010\n",
      "Epoch 032 | Train Loss: 11.0948 | Val Loss: 11.1309\n",
      "Epoch 033 | Train Loss: 11.3808 | Val Loss: 10.3916\n",
      "Epoch 034 | Train Loss: 10.6551 | Val Loss: 11.1280\n",
      "Epoch 035 | Train Loss: 10.2887 | Val Loss: 10.3804\n",
      "Epoch 036 | Train Loss: 10.2613 | Val Loss: 10.5219\n",
      "Epoch 037 | Train Loss: 9.8040 | Val Loss: 9.9805\n",
      "Epoch 038 | Train Loss: 9.7617 | Val Loss: 9.9829\n",
      "Epoch 039 | Train Loss: 9.3929 | Val Loss: 9.4389\n",
      "Epoch 040 | Train Loss: 10.3466 | Val Loss: 8.8425\n",
      "Epoch 041 | Train Loss: 9.3016 | Val Loss: 8.9337\n",
      "Epoch 042 | Train Loss: 9.1692 | Val Loss: 9.4430\n",
      "Epoch 043 | Train Loss: 8.9741 | Val Loss: 10.9598\n",
      "Epoch 044 | Train Loss: 9.5988 | Val Loss: 8.3585\n",
      "Epoch 045 | Train Loss: 8.4734 | Val Loss: 8.5969\n",
      "Epoch 046 | Train Loss: 8.5819 | Val Loss: 8.1147\n",
      "Epoch 047 | Train Loss: 8.6663 | Val Loss: 8.4848\n",
      "Epoch 048 | Train Loss: 8.5350 | Val Loss: 9.7323\n",
      "Epoch 049 | Train Loss: 8.4954 | Val Loss: 9.9277\n",
      "Epoch 050 | Train Loss: 8.6564 | Val Loss: 8.2766\n",
      "Epoch 051 | Train Loss: 8.7793 | Val Loss: 8.3761\n",
      "Early stopping triggered at epoch 51\n"
     ]
    },
    {
     "data": {
      "text/html": [],
      "text/plain": [
       "<IPython.core.display.HTML object>"
      ]
     },
     "metadata": {},
     "output_type": "display_data"
    },
    {
     "data": {
      "text/html": [
       "<br>    <style><br>        .wandb-row {<br>            display: flex;<br>            flex-direction: row;<br>            flex-wrap: wrap;<br>            justify-content: flex-start;<br>            width: 100%;<br>        }<br>        .wandb-col {<br>            display: flex;<br>            flex-direction: column;<br>            flex-basis: 100%;<br>            flex: 1;<br>            padding: 10px;<br>        }<br>    </style><br><div class=\"wandb-row\"><div class=\"wandb-col\"><h3>Run history:</h3><br/><table class=\"wandb\"><tr><td>epoch</td><td>▁▁▁▁▂▂▂▂▂▂▃▃▃▃▃▄▄▄▄▄▅▅▅▅▅▅▅▆▆▆▆▇▇▇▇▇▇███</td></tr><tr><td>train_loss</td><td>█▁▁▁▁▁▁▁▁▁▁▁▁▁▁▁▁▁▁▁▁▁▁▁▁▁▁▁▁▁▁▁▁▁▁▁▁▁▁▁</td></tr><tr><td>val_loss</td><td>█▃▂▂▁▁▁▁▁▁▁▁▁▁▁▁▁▁▁▁▁▁▁▁▁▁▁▁▁▁▁▁▁▁▁▁▁▁▁▁</td></tr></table><br/></div><div class=\"wandb-col\"><h3>Run summary:</h3><br/><table class=\"wandb\"><tr><td>epoch</td><td>51</td></tr><tr><td>train_loss</td><td>8.7793</td></tr><tr><td>val_loss</td><td>8.37608</td></tr></table><br/></div></div>"
      ],
      "text/plain": [
       "<IPython.core.display.HTML object>"
      ]
     },
     "metadata": {},
     "output_type": "display_data"
    },
    {
     "data": {
      "text/html": [
       " View run <strong style=\"color:#cdcd00\">fresh-elevator-295</strong> at: <a href='https://wandb.ai/yixuan228-imperial-college-london/nn-hyperparameter-finetune/runs/f4w810ia' target=\"_blank\">https://wandb.ai/yixuan228-imperial-college-london/nn-hyperparameter-finetune/runs/f4w810ia</a><br> View project at: <a href='https://wandb.ai/yixuan228-imperial-college-london/nn-hyperparameter-finetune' target=\"_blank\">https://wandb.ai/yixuan228-imperial-college-london/nn-hyperparameter-finetune</a><br>Synced 5 W&B file(s), 0 media file(s), 0 artifact file(s) and 0 other file(s)"
      ],
      "text/plain": [
       "<IPython.core.display.HTML object>"
      ]
     },
     "metadata": {},
     "output_type": "display_data"
    },
    {
     "data": {
      "text/html": [
       "Find logs at: <code>.\\wandb\\run-20250307_074417-f4w810ia\\logs</code>"
      ],
      "text/plain": [
       "<IPython.core.display.HTML object>"
      ]
     },
     "metadata": {},
     "output_type": "display_data"
    },
    {
     "data": {
      "text/html": [
       "Tracking run with wandb version 0.19.7"
      ],
      "text/plain": [
       "<IPython.core.display.HTML object>"
      ]
     },
     "metadata": {},
     "output_type": "display_data"
    },
    {
     "data": {
      "text/html": [
       "Run data is saved locally in <code>d:\\Projects\\MSc_DE_GroupWork4\\Scripts\\wandb\\run-20250307_074429-3wr54e9y</code>"
      ],
      "text/plain": [
       "<IPython.core.display.HTML object>"
      ]
     },
     "metadata": {},
     "output_type": "display_data"
    },
    {
     "data": {
      "text/html": [
       "Syncing run <strong><a href='https://wandb.ai/yixuan228-imperial-college-london/nn-hyperparameter-finetune/runs/3wr54e9y' target=\"_blank\">chocolate-salad-296</a></strong> to <a href='https://wandb.ai/yixuan228-imperial-college-london/nn-hyperparameter-finetune' target=\"_blank\">Weights & Biases</a> (<a href='https://wandb.me/developer-guide' target=\"_blank\">docs</a>)<br>"
      ],
      "text/plain": [
       "<IPython.core.display.HTML object>"
      ]
     },
     "metadata": {},
     "output_type": "display_data"
    },
    {
     "data": {
      "text/html": [
       " View project at <a href='https://wandb.ai/yixuan228-imperial-college-london/nn-hyperparameter-finetune' target=\"_blank\">https://wandb.ai/yixuan228-imperial-college-london/nn-hyperparameter-finetune</a>"
      ],
      "text/plain": [
       "<IPython.core.display.HTML object>"
      ]
     },
     "metadata": {},
     "output_type": "display_data"
    },
    {
     "data": {
      "text/html": [
       " View run at <a href='https://wandb.ai/yixuan228-imperial-college-london/nn-hyperparameter-finetune/runs/3wr54e9y' target=\"_blank\">https://wandb.ai/yixuan228-imperial-college-london/nn-hyperparameter-finetune/runs/3wr54e9y</a>"
      ],
      "text/plain": [
       "<IPython.core.display.HTML object>"
      ]
     },
     "metadata": {},
     "output_type": "display_data"
    },
    {
     "name": "stdout",
     "output_type": "stream",
     "text": [
      "Epoch 001 | Train Loss: 16702.9178 | Val Loss: 215.3401\n",
      "Epoch 002 | Train Loss: 70.5082 | Val Loss: 82.0205\n",
      "Epoch 003 | Train Loss: 32.4518 | Val Loss: 32.2607\n",
      "Epoch 004 | Train Loss: 25.7115 | Val Loss: 25.7371\n",
      "Epoch 005 | Train Loss: 18.6466 | Val Loss: 24.3466\n",
      "Epoch 006 | Train Loss: 17.1962 | Val Loss: 22.9128\n",
      "Epoch 007 | Train Loss: 16.6261 | Val Loss: 14.1304\n",
      "Epoch 008 | Train Loss: 16.1533 | Val Loss: 28.1533\n",
      "Epoch 009 | Train Loss: 18.3552 | Val Loss: 12.7103\n",
      "Epoch 010 | Train Loss: 16.6086 | Val Loss: 18.2588\n",
      "Epoch 011 | Train Loss: 23.9892 | Val Loss: 15.0860\n",
      "Epoch 012 | Train Loss: 18.6739 | Val Loss: 14.4130\n",
      "Epoch 013 | Train Loss: 10.9845 | Val Loss: 20.9771\n",
      "Epoch 014 | Train Loss: 20.9098 | Val Loss: 31.7509\n",
      "Early stopping triggered at epoch 14\n"
     ]
    },
    {
     "data": {
      "text/html": [],
      "text/plain": [
       "<IPython.core.display.HTML object>"
      ]
     },
     "metadata": {},
     "output_type": "display_data"
    },
    {
     "data": {
      "text/html": [
       "<br>    <style><br>        .wandb-row {<br>            display: flex;<br>            flex-direction: row;<br>            flex-wrap: wrap;<br>            justify-content: flex-start;<br>            width: 100%;<br>        }<br>        .wandb-col {<br>            display: flex;<br>            flex-direction: column;<br>            flex-basis: 100%;<br>            flex: 1;<br>            padding: 10px;<br>        }<br>    </style><br><div class=\"wandb-row\"><div class=\"wandb-col\"><h3>Run history:</h3><br/><table class=\"wandb\"><tr><td>epoch</td><td>▁▂▂▃▃▄▄▅▅▆▆▇▇█</td></tr><tr><td>train_loss</td><td>█▁▁▁▁▁▁▁▁▁▁▁▁▁</td></tr><tr><td>val_loss</td><td>█▃▂▁▁▁▁▂▁▁▁▁▁▂</td></tr></table><br/></div><div class=\"wandb-col\"><h3>Run summary:</h3><br/><table class=\"wandb\"><tr><td>epoch</td><td>14</td></tr><tr><td>train_loss</td><td>20.90981</td></tr><tr><td>val_loss</td><td>31.75094</td></tr></table><br/></div></div>"
      ],
      "text/plain": [
       "<IPython.core.display.HTML object>"
      ]
     },
     "metadata": {},
     "output_type": "display_data"
    },
    {
     "data": {
      "text/html": [
       " View run <strong style=\"color:#cdcd00\">chocolate-salad-296</strong> at: <a href='https://wandb.ai/yixuan228-imperial-college-london/nn-hyperparameter-finetune/runs/3wr54e9y' target=\"_blank\">https://wandb.ai/yixuan228-imperial-college-london/nn-hyperparameter-finetune/runs/3wr54e9y</a><br> View project at: <a href='https://wandb.ai/yixuan228-imperial-college-london/nn-hyperparameter-finetune' target=\"_blank\">https://wandb.ai/yixuan228-imperial-college-london/nn-hyperparameter-finetune</a><br>Synced 5 W&B file(s), 0 media file(s), 0 artifact file(s) and 0 other file(s)"
      ],
      "text/plain": [
       "<IPython.core.display.HTML object>"
      ]
     },
     "metadata": {},
     "output_type": "display_data"
    },
    {
     "data": {
      "text/html": [
       "Find logs at: <code>.\\wandb\\run-20250307_074429-3wr54e9y\\logs</code>"
      ],
      "text/plain": [
       "<IPython.core.display.HTML object>"
      ]
     },
     "metadata": {},
     "output_type": "display_data"
    },
    {
     "data": {
      "text/html": [
       "Tracking run with wandb version 0.19.7"
      ],
      "text/plain": [
       "<IPython.core.display.HTML object>"
      ]
     },
     "metadata": {},
     "output_type": "display_data"
    },
    {
     "data": {
      "text/html": [
       "Run data is saved locally in <code>d:\\Projects\\MSc_DE_GroupWork4\\Scripts\\wandb\\run-20250307_074434-vtbw354h</code>"
      ],
      "text/plain": [
       "<IPython.core.display.HTML object>"
      ]
     },
     "metadata": {},
     "output_type": "display_data"
    },
    {
     "data": {
      "text/html": [
       "Syncing run <strong><a href='https://wandb.ai/yixuan228-imperial-college-london/nn-hyperparameter-finetune/runs/vtbw354h' target=\"_blank\">tough-lake-297</a></strong> to <a href='https://wandb.ai/yixuan228-imperial-college-london/nn-hyperparameter-finetune' target=\"_blank\">Weights & Biases</a> (<a href='https://wandb.me/developer-guide' target=\"_blank\">docs</a>)<br>"
      ],
      "text/plain": [
       "<IPython.core.display.HTML object>"
      ]
     },
     "metadata": {},
     "output_type": "display_data"
    },
    {
     "data": {
      "text/html": [
       " View project at <a href='https://wandb.ai/yixuan228-imperial-college-london/nn-hyperparameter-finetune' target=\"_blank\">https://wandb.ai/yixuan228-imperial-college-london/nn-hyperparameter-finetune</a>"
      ],
      "text/plain": [
       "<IPython.core.display.HTML object>"
      ]
     },
     "metadata": {},
     "output_type": "display_data"
    },
    {
     "data": {
      "text/html": [
       " View run at <a href='https://wandb.ai/yixuan228-imperial-college-london/nn-hyperparameter-finetune/runs/vtbw354h' target=\"_blank\">https://wandb.ai/yixuan228-imperial-college-london/nn-hyperparameter-finetune/runs/vtbw354h</a>"
      ],
      "text/plain": [
       "<IPython.core.display.HTML object>"
      ]
     },
     "metadata": {},
     "output_type": "display_data"
    },
    {
     "name": "stdout",
     "output_type": "stream",
     "text": [
      "Epoch 001 | Train Loss: 10911.7335 | Val Loss: 58.2366\n",
      "Epoch 002 | Train Loss: 38.7100 | Val Loss: 29.4896\n",
      "Epoch 003 | Train Loss: 28.0473 | Val Loss: 22.6311\n",
      "Epoch 004 | Train Loss: 23.2589 | Val Loss: 19.9334\n",
      "Epoch 005 | Train Loss: 18.7845 | Val Loss: 15.9202\n",
      "Epoch 006 | Train Loss: 15.4095 | Val Loss: 12.1501\n",
      "Epoch 007 | Train Loss: 11.9041 | Val Loss: 13.8070\n",
      "Epoch 008 | Train Loss: 11.2309 | Val Loss: 12.5639\n",
      "Epoch 009 | Train Loss: 11.4641 | Val Loss: 21.4798\n",
      "Epoch 010 | Train Loss: 12.7773 | Val Loss: 9.2370\n",
      "Epoch 011 | Train Loss: 10.9854 | Val Loss: 10.0181\n",
      "Epoch 012 | Train Loss: 11.5683 | Val Loss: 9.0898\n",
      "Epoch 013 | Train Loss: 9.4844 | Val Loss: 12.4917\n",
      "Epoch 014 | Train Loss: 12.5867 | Val Loss: 14.9213\n",
      "Epoch 015 | Train Loss: 9.9178 | Val Loss: 10.1887\n",
      "Epoch 016 | Train Loss: 11.3680 | Val Loss: 10.3087\n",
      "Epoch 017 | Train Loss: 12.1249 | Val Loss: 8.7008\n",
      "Epoch 018 | Train Loss: 11.9123 | Val Loss: 29.8611\n",
      "Epoch 019 | Train Loss: 14.7668 | Val Loss: 25.3265\n",
      "Epoch 020 | Train Loss: 14.8592 | Val Loss: 14.4259\n",
      "Epoch 021 | Train Loss: 16.3474 | Val Loss: 8.6034\n",
      "Epoch 022 | Train Loss: 13.2407 | Val Loss: 112.7091\n",
      "Epoch 023 | Train Loss: 36.7348 | Val Loss: 19.3466\n",
      "Epoch 024 | Train Loss: 13.5144 | Val Loss: 8.7393\n",
      "Epoch 025 | Train Loss: 14.0969 | Val Loss: 13.7924\n",
      "Epoch 026 | Train Loss: 22.2758 | Val Loss: 35.4445\n",
      "Early stopping triggered at epoch 26\n"
     ]
    },
    {
     "data": {
      "text/html": [],
      "text/plain": [
       "<IPython.core.display.HTML object>"
      ]
     },
     "metadata": {},
     "output_type": "display_data"
    },
    {
     "data": {
      "text/html": [
       "<br>    <style><br>        .wandb-row {<br>            display: flex;<br>            flex-direction: row;<br>            flex-wrap: wrap;<br>            justify-content: flex-start;<br>            width: 100%;<br>        }<br>        .wandb-col {<br>            display: flex;<br>            flex-direction: column;<br>            flex-basis: 100%;<br>            flex: 1;<br>            padding: 10px;<br>        }<br>    </style><br><div class=\"wandb-row\"><div class=\"wandb-col\"><h3>Run history:</h3><br/><table class=\"wandb\"><tr><td>epoch</td><td>▁▁▂▂▂▂▃▃▃▄▄▄▄▅▅▅▅▆▆▆▇▇▇▇██</td></tr><tr><td>train_loss</td><td>█▁▁▁▁▁▁▁▁▁▁▁▁▁▁▁▁▁▁▁▁▁▁▁▁▁</td></tr><tr><td>val_loss</td><td>▄▂▂▂▁▁▁▁▂▁▁▁▁▁▁▁▁▂▂▁▁█▂▁▁▃</td></tr></table><br/></div><div class=\"wandb-col\"><h3>Run summary:</h3><br/><table class=\"wandb\"><tr><td>epoch</td><td>26</td></tr><tr><td>train_loss</td><td>22.27577</td></tr><tr><td>val_loss</td><td>35.44447</td></tr></table><br/></div></div>"
      ],
      "text/plain": [
       "<IPython.core.display.HTML object>"
      ]
     },
     "metadata": {},
     "output_type": "display_data"
    },
    {
     "data": {
      "text/html": [
       " View run <strong style=\"color:#cdcd00\">tough-lake-297</strong> at: <a href='https://wandb.ai/yixuan228-imperial-college-london/nn-hyperparameter-finetune/runs/vtbw354h' target=\"_blank\">https://wandb.ai/yixuan228-imperial-college-london/nn-hyperparameter-finetune/runs/vtbw354h</a><br> View project at: <a href='https://wandb.ai/yixuan228-imperial-college-london/nn-hyperparameter-finetune' target=\"_blank\">https://wandb.ai/yixuan228-imperial-college-london/nn-hyperparameter-finetune</a><br>Synced 5 W&B file(s), 0 media file(s), 0 artifact file(s) and 0 other file(s)"
      ],
      "text/plain": [
       "<IPython.core.display.HTML object>"
      ]
     },
     "metadata": {},
     "output_type": "display_data"
    },
    {
     "data": {
      "text/html": [
       "Find logs at: <code>.\\wandb\\run-20250307_074434-vtbw354h\\logs</code>"
      ],
      "text/plain": [
       "<IPython.core.display.HTML object>"
      ]
     },
     "metadata": {},
     "output_type": "display_data"
    },
    {
     "data": {
      "text/html": [
       "Tracking run with wandb version 0.19.7"
      ],
      "text/plain": [
       "<IPython.core.display.HTML object>"
      ]
     },
     "metadata": {},
     "output_type": "display_data"
    },
    {
     "data": {
      "text/html": [
       "Run data is saved locally in <code>d:\\Projects\\MSc_DE_GroupWork4\\Scripts\\wandb\\run-20250307_074442-e3m1pddv</code>"
      ],
      "text/plain": [
       "<IPython.core.display.HTML object>"
      ]
     },
     "metadata": {},
     "output_type": "display_data"
    },
    {
     "data": {
      "text/html": [
       "Syncing run <strong><a href='https://wandb.ai/yixuan228-imperial-college-london/nn-hyperparameter-finetune/runs/e3m1pddv' target=\"_blank\">dutiful-dust-298</a></strong> to <a href='https://wandb.ai/yixuan228-imperial-college-london/nn-hyperparameter-finetune' target=\"_blank\">Weights & Biases</a> (<a href='https://wandb.me/developer-guide' target=\"_blank\">docs</a>)<br>"
      ],
      "text/plain": [
       "<IPython.core.display.HTML object>"
      ]
     },
     "metadata": {},
     "output_type": "display_data"
    },
    {
     "data": {
      "text/html": [
       " View project at <a href='https://wandb.ai/yixuan228-imperial-college-london/nn-hyperparameter-finetune' target=\"_blank\">https://wandb.ai/yixuan228-imperial-college-london/nn-hyperparameter-finetune</a>"
      ],
      "text/plain": [
       "<IPython.core.display.HTML object>"
      ]
     },
     "metadata": {},
     "output_type": "display_data"
    },
    {
     "data": {
      "text/html": [
       " View run at <a href='https://wandb.ai/yixuan228-imperial-college-london/nn-hyperparameter-finetune/runs/e3m1pddv' target=\"_blank\">https://wandb.ai/yixuan228-imperial-college-london/nn-hyperparameter-finetune/runs/e3m1pddv</a>"
      ],
      "text/plain": [
       "<IPython.core.display.HTML object>"
      ]
     },
     "metadata": {},
     "output_type": "display_data"
    },
    {
     "name": "stdout",
     "output_type": "stream",
     "text": [
      "Epoch 001 | Train Loss: 51362.7477 | Val Loss: 5299.6386\n",
      "Epoch 002 | Train Loss: 1670.6013 | Val Loss: 405.5880\n",
      "Epoch 003 | Train Loss: 252.6002 | Val Loss: 157.3646\n",
      "Epoch 004 | Train Loss: 105.7476 | Val Loss: 86.7139\n",
      "Epoch 005 | Train Loss: 57.5469 | Val Loss: 50.4048\n",
      "Epoch 006 | Train Loss: 37.8107 | Val Loss: 36.2840\n",
      "Epoch 007 | Train Loss: 28.7188 | Val Loss: 27.0687\n",
      "Epoch 008 | Train Loss: 24.5765 | Val Loss: 23.5148\n",
      "Epoch 009 | Train Loss: 21.3520 | Val Loss: 21.0638\n",
      "Epoch 010 | Train Loss: 19.6368 | Val Loss: 19.4676\n",
      "Epoch 011 | Train Loss: 18.0527 | Val Loss: 17.9000\n",
      "Epoch 012 | Train Loss: 16.4588 | Val Loss: 17.4268\n",
      "Epoch 013 | Train Loss: 15.6756 | Val Loss: 15.6447\n",
      "Epoch 014 | Train Loss: 14.3719 | Val Loss: 14.5764\n",
      "Epoch 015 | Train Loss: 13.3366 | Val Loss: 15.6483\n",
      "Epoch 016 | Train Loss: 12.8362 | Val Loss: 14.3501\n",
      "Epoch 017 | Train Loss: 11.9635 | Val Loss: 14.4265\n",
      "Epoch 018 | Train Loss: 11.4843 | Val Loss: 11.8421\n",
      "Epoch 019 | Train Loss: 11.0987 | Val Loss: 11.5801\n",
      "Epoch 020 | Train Loss: 10.9593 | Val Loss: 10.6200\n",
      "Epoch 021 | Train Loss: 10.3282 | Val Loss: 10.1933\n",
      "Epoch 022 | Train Loss: 10.0279 | Val Loss: 11.1896\n",
      "Epoch 023 | Train Loss: 9.7029 | Val Loss: 9.4469\n",
      "Epoch 024 | Train Loss: 9.4099 | Val Loss: 9.1872\n",
      "Epoch 025 | Train Loss: 9.1683 | Val Loss: 9.7794\n",
      "Epoch 026 | Train Loss: 8.9197 | Val Loss: 8.5599\n",
      "Epoch 027 | Train Loss: 8.9120 | Val Loss: 9.0692\n",
      "Epoch 028 | Train Loss: 8.6243 | Val Loss: 10.1198\n",
      "Epoch 029 | Train Loss: 9.2311 | Val Loss: 8.0099\n",
      "Epoch 030 | Train Loss: 8.3285 | Val Loss: 8.1752\n",
      "Epoch 031 | Train Loss: 8.2226 | Val Loss: 9.1047\n",
      "Epoch 032 | Train Loss: 8.5785 | Val Loss: 7.8448\n",
      "Epoch 033 | Train Loss: 8.1333 | Val Loss: 8.2196\n",
      "Epoch 034 | Train Loss: 8.3171 | Val Loss: 11.9832\n",
      "Epoch 035 | Train Loss: 9.0171 | Val Loss: 10.0111\n",
      "Epoch 036 | Train Loss: 8.3020 | Val Loss: 7.7099\n",
      "Epoch 037 | Train Loss: 7.7832 | Val Loss: 8.2796\n",
      "Epoch 038 | Train Loss: 7.9315 | Val Loss: 7.2790\n",
      "Epoch 039 | Train Loss: 8.1186 | Val Loss: 8.4595\n",
      "Epoch 040 | Train Loss: 7.9786 | Val Loss: 7.5166\n",
      "Epoch 041 | Train Loss: 7.5117 | Val Loss: 9.5195\n",
      "Epoch 042 | Train Loss: 7.8023 | Val Loss: 9.2762\n",
      "Epoch 043 | Train Loss: 8.4561 | Val Loss: 7.5737\n",
      "Early stopping triggered at epoch 43\n"
     ]
    },
    {
     "data": {
      "text/html": [],
      "text/plain": [
       "<IPython.core.display.HTML object>"
      ]
     },
     "metadata": {},
     "output_type": "display_data"
    },
    {
     "data": {
      "text/html": [
       "<br>    <style><br>        .wandb-row {<br>            display: flex;<br>            flex-direction: row;<br>            flex-wrap: wrap;<br>            justify-content: flex-start;<br>            width: 100%;<br>        }<br>        .wandb-col {<br>            display: flex;<br>            flex-direction: column;<br>            flex-basis: 100%;<br>            flex: 1;<br>            padding: 10px;<br>        }<br>    </style><br><div class=\"wandb-row\"><div class=\"wandb-col\"><h3>Run history:</h3><br/><table class=\"wandb\"><tr><td>epoch</td><td>▁▁▁▁▂▂▂▂▂▃▃▃▃▃▃▄▄▄▄▄▅▅▅▅▅▅▆▆▆▆▆▇▇▇▇▇▇▇██</td></tr><tr><td>train_loss</td><td>█▁▁▁▁▁▁▁▁▁▁▁▁▁▁▁▁▁▁▁▁▁▁▁▁▁▁▁▁▁▁▁▁▁▁▁▁▁▁▁</td></tr><tr><td>val_loss</td><td>█▂▁▁▁▁▁▁▁▁▁▁▁▁▁▁▁▁▁▁▁▁▁▁▁▁▁▁▁▁▁▁▁▁▁▁▁▁▁▁</td></tr></table><br/></div><div class=\"wandb-col\"><h3>Run summary:</h3><br/><table class=\"wandb\"><tr><td>epoch</td><td>43</td></tr><tr><td>train_loss</td><td>8.45614</td></tr><tr><td>val_loss</td><td>7.57372</td></tr></table><br/></div></div>"
      ],
      "text/plain": [
       "<IPython.core.display.HTML object>"
      ]
     },
     "metadata": {},
     "output_type": "display_data"
    },
    {
     "data": {
      "text/html": [
       " View run <strong style=\"color:#cdcd00\">dutiful-dust-298</strong> at: <a href='https://wandb.ai/yixuan228-imperial-college-london/nn-hyperparameter-finetune/runs/e3m1pddv' target=\"_blank\">https://wandb.ai/yixuan228-imperial-college-london/nn-hyperparameter-finetune/runs/e3m1pddv</a><br> View project at: <a href='https://wandb.ai/yixuan228-imperial-college-london/nn-hyperparameter-finetune' target=\"_blank\">https://wandb.ai/yixuan228-imperial-college-london/nn-hyperparameter-finetune</a><br>Synced 5 W&B file(s), 0 media file(s), 0 artifact file(s) and 0 other file(s)"
      ],
      "text/plain": [
       "<IPython.core.display.HTML object>"
      ]
     },
     "metadata": {},
     "output_type": "display_data"
    },
    {
     "data": {
      "text/html": [
       "Find logs at: <code>.\\wandb\\run-20250307_074442-e3m1pddv\\logs</code>"
      ],
      "text/plain": [
       "<IPython.core.display.HTML object>"
      ]
     },
     "metadata": {},
     "output_type": "display_data"
    },
    {
     "data": {
      "text/html": [
       "Tracking run with wandb version 0.19.7"
      ],
      "text/plain": [
       "<IPython.core.display.HTML object>"
      ]
     },
     "metadata": {},
     "output_type": "display_data"
    },
    {
     "data": {
      "text/html": [
       "Run data is saved locally in <code>d:\\Projects\\MSc_DE_GroupWork4\\Scripts\\wandb\\run-20250307_074452-qo2a3zn0</code>"
      ],
      "text/plain": [
       "<IPython.core.display.HTML object>"
      ]
     },
     "metadata": {},
     "output_type": "display_data"
    },
    {
     "data": {
      "text/html": [
       "Syncing run <strong><a href='https://wandb.ai/yixuan228-imperial-college-london/nn-hyperparameter-finetune/runs/qo2a3zn0' target=\"_blank\">toasty-star-299</a></strong> to <a href='https://wandb.ai/yixuan228-imperial-college-london/nn-hyperparameter-finetune' target=\"_blank\">Weights & Biases</a> (<a href='https://wandb.me/developer-guide' target=\"_blank\">docs</a>)<br>"
      ],
      "text/plain": [
       "<IPython.core.display.HTML object>"
      ]
     },
     "metadata": {},
     "output_type": "display_data"
    },
    {
     "data": {
      "text/html": [
       " View project at <a href='https://wandb.ai/yixuan228-imperial-college-london/nn-hyperparameter-finetune' target=\"_blank\">https://wandb.ai/yixuan228-imperial-college-london/nn-hyperparameter-finetune</a>"
      ],
      "text/plain": [
       "<IPython.core.display.HTML object>"
      ]
     },
     "metadata": {},
     "output_type": "display_data"
    },
    {
     "data": {
      "text/html": [
       " View run at <a href='https://wandb.ai/yixuan228-imperial-college-london/nn-hyperparameter-finetune/runs/qo2a3zn0' target=\"_blank\">https://wandb.ai/yixuan228-imperial-college-london/nn-hyperparameter-finetune/runs/qo2a3zn0</a>"
      ],
      "text/plain": [
       "<IPython.core.display.HTML object>"
      ]
     },
     "metadata": {},
     "output_type": "display_data"
    },
    {
     "name": "stdout",
     "output_type": "stream",
     "text": [
      "Epoch 001 | Train Loss: 6560.9006 | Val Loss: 38.7572\n",
      "Epoch 002 | Train Loss: 26.6797 | Val Loss: 23.9516\n",
      "Epoch 003 | Train Loss: 18.2720 | Val Loss: 39.2433\n",
      "Epoch 004 | Train Loss: 17.0009 | Val Loss: 31.3367\n",
      "Epoch 005 | Train Loss: 18.0576 | Val Loss: 25.2318\n",
      "Epoch 006 | Train Loss: 15.1775 | Val Loss: 14.9132\n",
      "Epoch 007 | Train Loss: 15.6884 | Val Loss: 47.1772\n",
      "Epoch 008 | Train Loss: 15.7352 | Val Loss: 17.8802\n",
      "Epoch 009 | Train Loss: 19.6014 | Val Loss: 34.3420\n",
      "Epoch 010 | Train Loss: 27.7691 | Val Loss: 25.0868\n",
      "Epoch 011 | Train Loss: 25.4241 | Val Loss: 39.8014\n",
      "Early stopping triggered at epoch 11\n"
     ]
    },
    {
     "data": {
      "text/html": [],
      "text/plain": [
       "<IPython.core.display.HTML object>"
      ]
     },
     "metadata": {},
     "output_type": "display_data"
    },
    {
     "data": {
      "text/html": [
       "<br>    <style><br>        .wandb-row {<br>            display: flex;<br>            flex-direction: row;<br>            flex-wrap: wrap;<br>            justify-content: flex-start;<br>            width: 100%;<br>        }<br>        .wandb-col {<br>            display: flex;<br>            flex-direction: column;<br>            flex-basis: 100%;<br>            flex: 1;<br>            padding: 10px;<br>        }<br>    </style><br><div class=\"wandb-row\"><div class=\"wandb-col\"><h3>Run history:</h3><br/><table class=\"wandb\"><tr><td>epoch</td><td>▁▂▂▃▄▅▅▆▇▇█</td></tr><tr><td>train_loss</td><td>█▁▁▁▁▁▁▁▁▁▁</td></tr><tr><td>val_loss</td><td>▆▃▆▅▃▁█▂▅▃▆</td></tr></table><br/></div><div class=\"wandb-col\"><h3>Run summary:</h3><br/><table class=\"wandb\"><tr><td>epoch</td><td>11</td></tr><tr><td>train_loss</td><td>25.42407</td></tr><tr><td>val_loss</td><td>39.80137</td></tr></table><br/></div></div>"
      ],
      "text/plain": [
       "<IPython.core.display.HTML object>"
      ]
     },
     "metadata": {},
     "output_type": "display_data"
    },
    {
     "data": {
      "text/html": [
       " View run <strong style=\"color:#cdcd00\">toasty-star-299</strong> at: <a href='https://wandb.ai/yixuan228-imperial-college-london/nn-hyperparameter-finetune/runs/qo2a3zn0' target=\"_blank\">https://wandb.ai/yixuan228-imperial-college-london/nn-hyperparameter-finetune/runs/qo2a3zn0</a><br> View project at: <a href='https://wandb.ai/yixuan228-imperial-college-london/nn-hyperparameter-finetune' target=\"_blank\">https://wandb.ai/yixuan228-imperial-college-london/nn-hyperparameter-finetune</a><br>Synced 5 W&B file(s), 0 media file(s), 0 artifact file(s) and 0 other file(s)"
      ],
      "text/plain": [
       "<IPython.core.display.HTML object>"
      ]
     },
     "metadata": {},
     "output_type": "display_data"
    },
    {
     "data": {
      "text/html": [
       "Find logs at: <code>.\\wandb\\run-20250307_074452-qo2a3zn0\\logs</code>"
      ],
      "text/plain": [
       "<IPython.core.display.HTML object>"
      ]
     },
     "metadata": {},
     "output_type": "display_data"
    },
    {
     "data": {
      "text/html": [
       "Tracking run with wandb version 0.19.7"
      ],
      "text/plain": [
       "<IPython.core.display.HTML object>"
      ]
     },
     "metadata": {},
     "output_type": "display_data"
    },
    {
     "data": {
      "text/html": [
       "Run data is saved locally in <code>d:\\Projects\\MSc_DE_GroupWork4\\Scripts\\wandb\\run-20250307_074456-fg4v9eq2</code>"
      ],
      "text/plain": [
       "<IPython.core.display.HTML object>"
      ]
     },
     "metadata": {},
     "output_type": "display_data"
    },
    {
     "data": {
      "text/html": [
       "Syncing run <strong><a href='https://wandb.ai/yixuan228-imperial-college-london/nn-hyperparameter-finetune/runs/fg4v9eq2' target=\"_blank\">breezy-yogurt-300</a></strong> to <a href='https://wandb.ai/yixuan228-imperial-college-london/nn-hyperparameter-finetune' target=\"_blank\">Weights & Biases</a> (<a href='https://wandb.me/developer-guide' target=\"_blank\">docs</a>)<br>"
      ],
      "text/plain": [
       "<IPython.core.display.HTML object>"
      ]
     },
     "metadata": {},
     "output_type": "display_data"
    },
    {
     "data": {
      "text/html": [
       " View project at <a href='https://wandb.ai/yixuan228-imperial-college-london/nn-hyperparameter-finetune' target=\"_blank\">https://wandb.ai/yixuan228-imperial-college-london/nn-hyperparameter-finetune</a>"
      ],
      "text/plain": [
       "<IPython.core.display.HTML object>"
      ]
     },
     "metadata": {},
     "output_type": "display_data"
    },
    {
     "data": {
      "text/html": [
       " View run at <a href='https://wandb.ai/yixuan228-imperial-college-london/nn-hyperparameter-finetune/runs/fg4v9eq2' target=\"_blank\">https://wandb.ai/yixuan228-imperial-college-london/nn-hyperparameter-finetune/runs/fg4v9eq2</a>"
      ],
      "text/plain": [
       "<IPython.core.display.HTML object>"
      ]
     },
     "metadata": {},
     "output_type": "display_data"
    },
    {
     "name": "stdout",
     "output_type": "stream",
     "text": [
      "Epoch 001 | Train Loss: 11377.9255 | Val Loss: 84.6750\n",
      "Epoch 002 | Train Loss: 45.2733 | Val Loss: 29.6476\n",
      "Epoch 003 | Train Loss: 30.9748 | Val Loss: 27.3897\n",
      "Epoch 004 | Train Loss: 29.5306 | Val Loss: 24.4967\n",
      "Epoch 005 | Train Loss: 27.5903 | Val Loss: 25.7027\n",
      "Epoch 006 | Train Loss: 26.3798 | Val Loss: 21.2442\n",
      "Epoch 007 | Train Loss: 23.9616 | Val Loss: 19.0132\n",
      "Epoch 008 | Train Loss: 23.6936 | Val Loss: 20.9504\n",
      "Epoch 009 | Train Loss: 20.1131 | Val Loss: 17.8814\n",
      "Epoch 010 | Train Loss: 17.3920 | Val Loss: 15.5460\n",
      "Epoch 011 | Train Loss: 15.1272 | Val Loss: 13.7325\n",
      "Epoch 012 | Train Loss: 14.6801 | Val Loss: 13.7253\n",
      "Epoch 013 | Train Loss: 14.5166 | Val Loss: 13.7495\n",
      "Epoch 014 | Train Loss: 13.8850 | Val Loss: 15.6205\n",
      "Epoch 015 | Train Loss: 16.6628 | Val Loss: 15.4553\n",
      "Epoch 016 | Train Loss: 14.0149 | Val Loss: 10.9295\n",
      "Epoch 017 | Train Loss: 11.6217 | Val Loss: 20.4259\n",
      "Epoch 018 | Train Loss: 13.2984 | Val Loss: 13.0764\n",
      "Epoch 019 | Train Loss: 11.7796 | Val Loss: 14.1823\n",
      "Epoch 020 | Train Loss: 11.8329 | Val Loss: 14.1382\n",
      "Epoch 021 | Train Loss: 12.2828 | Val Loss: 10.4150\n",
      "Epoch 022 | Train Loss: 11.8927 | Val Loss: 14.3095\n",
      "Epoch 023 | Train Loss: 12.1136 | Val Loss: 10.4135\n",
      "Epoch 024 | Train Loss: 11.1297 | Val Loss: 13.1956\n",
      "Epoch 025 | Train Loss: 10.8965 | Val Loss: 12.6038\n",
      "Epoch 026 | Train Loss: 11.2193 | Val Loss: 10.1935\n",
      "Epoch 027 | Train Loss: 12.6102 | Val Loss: 13.7164\n",
      "Epoch 028 | Train Loss: 11.2933 | Val Loss: 14.5039\n",
      "Epoch 029 | Train Loss: 12.9383 | Val Loss: 15.9953\n",
      "Epoch 030 | Train Loss: 13.3248 | Val Loss: 33.5887\n",
      "Epoch 031 | Train Loss: 13.5038 | Val Loss: 16.9617\n",
      "Early stopping triggered at epoch 31\n"
     ]
    },
    {
     "data": {
      "text/html": [],
      "text/plain": [
       "<IPython.core.display.HTML object>"
      ]
     },
     "metadata": {},
     "output_type": "display_data"
    },
    {
     "data": {
      "text/html": [
       "<br>    <style><br>        .wandb-row {<br>            display: flex;<br>            flex-direction: row;<br>            flex-wrap: wrap;<br>            justify-content: flex-start;<br>            width: 100%;<br>        }<br>        .wandb-col {<br>            display: flex;<br>            flex-direction: column;<br>            flex-basis: 100%;<br>            flex: 1;<br>            padding: 10px;<br>        }<br>    </style><br><div class=\"wandb-row\"><div class=\"wandb-col\"><h3>Run history:</h3><br/><table class=\"wandb\"><tr><td>epoch</td><td>▁▁▁▂▂▂▂▃▃▃▃▄▄▄▄▅▅▅▅▅▆▆▆▆▇▇▇▇███</td></tr><tr><td>train_loss</td><td>█▁▁▁▁▁▁▁▁▁▁▁▁▁▁▁▁▁▁▁▁▁▁▁▁▁▁▁▁▁▁</td></tr><tr><td>val_loss</td><td>█▃▃▂▂▂▂▂▂▂▁▁▁▂▁▁▂▁▁▁▁▁▁▁▁▁▁▁▂▃▂</td></tr></table><br/></div><div class=\"wandb-col\"><h3>Run summary:</h3><br/><table class=\"wandb\"><tr><td>epoch</td><td>31</td></tr><tr><td>train_loss</td><td>13.5038</td></tr><tr><td>val_loss</td><td>16.96171</td></tr></table><br/></div></div>"
      ],
      "text/plain": [
       "<IPython.core.display.HTML object>"
      ]
     },
     "metadata": {},
     "output_type": "display_data"
    },
    {
     "data": {
      "text/html": [
       " View run <strong style=\"color:#cdcd00\">breezy-yogurt-300</strong> at: <a href='https://wandb.ai/yixuan228-imperial-college-london/nn-hyperparameter-finetune/runs/fg4v9eq2' target=\"_blank\">https://wandb.ai/yixuan228-imperial-college-london/nn-hyperparameter-finetune/runs/fg4v9eq2</a><br> View project at: <a href='https://wandb.ai/yixuan228-imperial-college-london/nn-hyperparameter-finetune' target=\"_blank\">https://wandb.ai/yixuan228-imperial-college-london/nn-hyperparameter-finetune</a><br>Synced 5 W&B file(s), 0 media file(s), 0 artifact file(s) and 0 other file(s)"
      ],
      "text/plain": [
       "<IPython.core.display.HTML object>"
      ]
     },
     "metadata": {},
     "output_type": "display_data"
    },
    {
     "data": {
      "text/html": [
       "Find logs at: <code>.\\wandb\\run-20250307_074456-fg4v9eq2\\logs</code>"
      ],
      "text/plain": [
       "<IPython.core.display.HTML object>"
      ]
     },
     "metadata": {},
     "output_type": "display_data"
    },
    {
     "data": {
      "text/html": [
       "Tracking run with wandb version 0.19.7"
      ],
      "text/plain": [
       "<IPython.core.display.HTML object>"
      ]
     },
     "metadata": {},
     "output_type": "display_data"
    },
    {
     "data": {
      "text/html": [
       "Run data is saved locally in <code>d:\\Projects\\MSc_DE_GroupWork4\\Scripts\\wandb\\run-20250307_074504-kfwsyj7d</code>"
      ],
      "text/plain": [
       "<IPython.core.display.HTML object>"
      ]
     },
     "metadata": {},
     "output_type": "display_data"
    },
    {
     "data": {
      "text/html": [
       "Syncing run <strong><a href='https://wandb.ai/yixuan228-imperial-college-london/nn-hyperparameter-finetune/runs/kfwsyj7d' target=\"_blank\">comic-tree-301</a></strong> to <a href='https://wandb.ai/yixuan228-imperial-college-london/nn-hyperparameter-finetune' target=\"_blank\">Weights & Biases</a> (<a href='https://wandb.me/developer-guide' target=\"_blank\">docs</a>)<br>"
      ],
      "text/plain": [
       "<IPython.core.display.HTML object>"
      ]
     },
     "metadata": {},
     "output_type": "display_data"
    },
    {
     "data": {
      "text/html": [
       " View project at <a href='https://wandb.ai/yixuan228-imperial-college-london/nn-hyperparameter-finetune' target=\"_blank\">https://wandb.ai/yixuan228-imperial-college-london/nn-hyperparameter-finetune</a>"
      ],
      "text/plain": [
       "<IPython.core.display.HTML object>"
      ]
     },
     "metadata": {},
     "output_type": "display_data"
    },
    {
     "data": {
      "text/html": [
       " View run at <a href='https://wandb.ai/yixuan228-imperial-college-london/nn-hyperparameter-finetune/runs/kfwsyj7d' target=\"_blank\">https://wandb.ai/yixuan228-imperial-college-london/nn-hyperparameter-finetune/runs/kfwsyj7d</a>"
      ],
      "text/plain": [
       "<IPython.core.display.HTML object>"
      ]
     },
     "metadata": {},
     "output_type": "display_data"
    },
    {
     "name": "stdout",
     "output_type": "stream",
     "text": [
      "Epoch 001 | Train Loss: 57718.6715 | Val Loss: 31638.6798\n",
      "Epoch 002 | Train Loss: 7769.4948 | Val Loss: 1286.5772\n",
      "Epoch 003 | Train Loss: 780.7412 | Val Loss: 388.1278\n",
      "Epoch 004 | Train Loss: 279.1049 | Val Loss: 186.9453\n",
      "Epoch 005 | Train Loss: 140.8020 | Val Loss: 111.0441\n",
      "Epoch 006 | Train Loss: 85.6015 | Val Loss: 73.0469\n",
      "Epoch 007 | Train Loss: 58.4191 | Val Loss: 53.0887\n",
      "Epoch 008 | Train Loss: 45.0966 | Val Loss: 42.1272\n",
      "Epoch 009 | Train Loss: 37.7576 | Val Loss: 36.2891\n",
      "Epoch 010 | Train Loss: 33.7018 | Val Loss: 34.7009\n",
      "Epoch 011 | Train Loss: 32.1686 | Val Loss: 30.0309\n",
      "Epoch 012 | Train Loss: 29.2821 | Val Loss: 28.8478\n",
      "Epoch 013 | Train Loss: 28.8651 | Val Loss: 27.4253\n",
      "Epoch 014 | Train Loss: 28.3147 | Val Loss: 28.9625\n",
      "Epoch 015 | Train Loss: 27.5289 | Val Loss: 27.0725\n",
      "Epoch 016 | Train Loss: 27.6007 | Val Loss: 26.1725\n",
      "Epoch 017 | Train Loss: 27.1753 | Val Loss: 26.3816\n",
      "Epoch 018 | Train Loss: 26.8194 | Val Loss: 26.0989\n",
      "Epoch 019 | Train Loss: 26.7886 | Val Loss: 25.5850\n",
      "Epoch 020 | Train Loss: 26.9716 | Val Loss: 25.5646\n",
      "Epoch 021 | Train Loss: 26.1816 | Val Loss: 25.3051\n",
      "Epoch 022 | Train Loss: 25.9067 | Val Loss: 25.8397\n",
      "Epoch 023 | Train Loss: 25.5908 | Val Loss: 24.5887\n",
      "Epoch 024 | Train Loss: 25.8059 | Val Loss: 24.9639\n",
      "Epoch 025 | Train Loss: 25.2320 | Val Loss: 23.2822\n",
      "Epoch 026 | Train Loss: 24.8877 | Val Loss: 23.0842\n",
      "Epoch 027 | Train Loss: 24.7103 | Val Loss: 22.7766\n",
      "Epoch 028 | Train Loss: 24.2231 | Val Loss: 24.0364\n",
      "Epoch 029 | Train Loss: 23.6411 | Val Loss: 22.4866\n",
      "Epoch 030 | Train Loss: 23.4890 | Val Loss: 23.5338\n",
      "Epoch 031 | Train Loss: 22.9959 | Val Loss: 21.6363\n",
      "Epoch 032 | Train Loss: 22.8294 | Val Loss: 21.6807\n",
      "Epoch 033 | Train Loss: 22.2634 | Val Loss: 20.5556\n",
      "Epoch 034 | Train Loss: 21.6179 | Val Loss: 20.5604\n",
      "Epoch 035 | Train Loss: 21.7816 | Val Loss: 20.1009\n",
      "Epoch 036 | Train Loss: 21.0448 | Val Loss: 21.4247\n",
      "Epoch 037 | Train Loss: 21.6497 | Val Loss: 21.0053\n",
      "Epoch 038 | Train Loss: 21.1669 | Val Loss: 19.4468\n",
      "Epoch 039 | Train Loss: 20.1552 | Val Loss: 18.9794\n",
      "Epoch 040 | Train Loss: 19.3745 | Val Loss: 18.6142\n",
      "Epoch 041 | Train Loss: 19.8031 | Val Loss: 18.8202\n",
      "Epoch 042 | Train Loss: 18.3304 | Val Loss: 19.0689\n",
      "Epoch 043 | Train Loss: 17.9766 | Val Loss: 17.9881\n",
      "Epoch 044 | Train Loss: 17.7860 | Val Loss: 21.1535\n",
      "Epoch 045 | Train Loss: 17.9064 | Val Loss: 17.0846\n",
      "Epoch 046 | Train Loss: 17.6726 | Val Loss: 16.4570\n",
      "Epoch 047 | Train Loss: 16.9377 | Val Loss: 17.3140\n",
      "Epoch 048 | Train Loss: 17.2833 | Val Loss: 16.5992\n",
      "Epoch 049 | Train Loss: 16.4876 | Val Loss: 15.7631\n",
      "Epoch 050 | Train Loss: 16.6561 | Val Loss: 17.0010\n",
      "Epoch 051 | Train Loss: 15.7509 | Val Loss: 17.2239\n",
      "Epoch 052 | Train Loss: 15.5158 | Val Loss: 17.2519\n",
      "Epoch 053 | Train Loss: 15.0993 | Val Loss: 14.0548\n",
      "Epoch 054 | Train Loss: 14.9524 | Val Loss: 13.6244\n",
      "Epoch 055 | Train Loss: 14.6655 | Val Loss: 14.6970\n",
      "Epoch 056 | Train Loss: 14.9698 | Val Loss: 14.4312\n",
      "Epoch 057 | Train Loss: 14.1890 | Val Loss: 13.6237\n",
      "Epoch 058 | Train Loss: 13.8135 | Val Loss: 13.3740\n",
      "Epoch 059 | Train Loss: 13.8526 | Val Loss: 12.6689\n",
      "Epoch 060 | Train Loss: 13.7578 | Val Loss: 12.7180\n",
      "Epoch 061 | Train Loss: 13.8439 | Val Loss: 13.4835\n",
      "Epoch 062 | Train Loss: 13.1747 | Val Loss: 13.0458\n",
      "Epoch 063 | Train Loss: 13.4611 | Val Loss: 13.4361\n",
      "Epoch 064 | Train Loss: 12.6575 | Val Loss: 12.5655\n",
      "Epoch 065 | Train Loss: 12.2291 | Val Loss: 11.8171\n",
      "Epoch 066 | Train Loss: 12.0651 | Val Loss: 12.3112\n",
      "Epoch 067 | Train Loss: 11.9006 | Val Loss: 12.9175\n",
      "Epoch 068 | Train Loss: 11.8982 | Val Loss: 11.9070\n",
      "Epoch 069 | Train Loss: 11.5580 | Val Loss: 13.4070\n",
      "Epoch 070 | Train Loss: 11.8358 | Val Loss: 10.8410\n",
      "Epoch 071 | Train Loss: 11.6272 | Val Loss: 10.8107\n",
      "Epoch 072 | Train Loss: 11.0206 | Val Loss: 10.4392\n",
      "Epoch 073 | Train Loss: 11.2487 | Val Loss: 11.1257\n",
      "Epoch 074 | Train Loss: 10.9894 | Val Loss: 10.8052\n",
      "Epoch 075 | Train Loss: 11.3398 | Val Loss: 10.6655\n",
      "Epoch 076 | Train Loss: 11.0373 | Val Loss: 11.9334\n",
      "Epoch 077 | Train Loss: 10.4754 | Val Loss: 11.2058\n",
      "Early stopping triggered at epoch 77\n"
     ]
    },
    {
     "data": {
      "text/html": [],
      "text/plain": [
       "<IPython.core.display.HTML object>"
      ]
     },
     "metadata": {},
     "output_type": "display_data"
    },
    {
     "data": {
      "text/html": [
       "<br>    <style><br>        .wandb-row {<br>            display: flex;<br>            flex-direction: row;<br>            flex-wrap: wrap;<br>            justify-content: flex-start;<br>            width: 100%;<br>        }<br>        .wandb-col {<br>            display: flex;<br>            flex-direction: column;<br>            flex-basis: 100%;<br>            flex: 1;<br>            padding: 10px;<br>        }<br>    </style><br><div class=\"wandb-row\"><div class=\"wandb-col\"><h3>Run history:</h3><br/><table class=\"wandb\"><tr><td>epoch</td><td>▁▁▁▁▁▂▂▂▂▂▂▃▃▃▃▃▃▃▃▄▄▄▄▄▅▅▅▅▅▅▆▆▆▆▆▇▇▇██</td></tr><tr><td>train_loss</td><td>█▂▁▁▁▁▁▁▁▁▁▁▁▁▁▁▁▁▁▁▁▁▁▁▁▁▁▁▁▁▁▁▁▁▁▁▁▁▁▁</td></tr><tr><td>val_loss</td><td>█▃▂▂▁▁▁▁▁▁▁▁▁▁▁▁▁▁▁▁▁▁▁▁▁▁▁▁▁▁▁▁▁▁▁▁▁▁▁▁</td></tr></table><br/></div><div class=\"wandb-col\"><h3>Run summary:</h3><br/><table class=\"wandb\"><tr><td>epoch</td><td>77</td></tr><tr><td>train_loss</td><td>10.47543</td></tr><tr><td>val_loss</td><td>11.20577</td></tr></table><br/></div></div>"
      ],
      "text/plain": [
       "<IPython.core.display.HTML object>"
      ]
     },
     "metadata": {},
     "output_type": "display_data"
    },
    {
     "data": {
      "text/html": [
       " View run <strong style=\"color:#cdcd00\">comic-tree-301</strong> at: <a href='https://wandb.ai/yixuan228-imperial-college-london/nn-hyperparameter-finetune/runs/kfwsyj7d' target=\"_blank\">https://wandb.ai/yixuan228-imperial-college-london/nn-hyperparameter-finetune/runs/kfwsyj7d</a><br> View project at: <a href='https://wandb.ai/yixuan228-imperial-college-london/nn-hyperparameter-finetune' target=\"_blank\">https://wandb.ai/yixuan228-imperial-college-london/nn-hyperparameter-finetune</a><br>Synced 5 W&B file(s), 0 media file(s), 0 artifact file(s) and 0 other file(s)"
      ],
      "text/plain": [
       "<IPython.core.display.HTML object>"
      ]
     },
     "metadata": {},
     "output_type": "display_data"
    },
    {
     "data": {
      "text/html": [
       "Find logs at: <code>.\\wandb\\run-20250307_074504-kfwsyj7d\\logs</code>"
      ],
      "text/plain": [
       "<IPython.core.display.HTML object>"
      ]
     },
     "metadata": {},
     "output_type": "display_data"
    },
    {
     "data": {
      "text/html": [
       "Tracking run with wandb version 0.19.7"
      ],
      "text/plain": [
       "<IPython.core.display.HTML object>"
      ]
     },
     "metadata": {},
     "output_type": "display_data"
    },
    {
     "data": {
      "text/html": [
       "Run data is saved locally in <code>d:\\Projects\\MSc_DE_GroupWork4\\Scripts\\wandb\\run-20250307_074518-cko24409</code>"
      ],
      "text/plain": [
       "<IPython.core.display.HTML object>"
      ]
     },
     "metadata": {},
     "output_type": "display_data"
    },
    {
     "data": {
      "text/html": [
       "Syncing run <strong><a href='https://wandb.ai/yixuan228-imperial-college-london/nn-hyperparameter-finetune/runs/cko24409' target=\"_blank\">proud-puddle-302</a></strong> to <a href='https://wandb.ai/yixuan228-imperial-college-london/nn-hyperparameter-finetune' target=\"_blank\">Weights & Biases</a> (<a href='https://wandb.me/developer-guide' target=\"_blank\">docs</a>)<br>"
      ],
      "text/plain": [
       "<IPython.core.display.HTML object>"
      ]
     },
     "metadata": {},
     "output_type": "display_data"
    },
    {
     "data": {
      "text/html": [
       " View project at <a href='https://wandb.ai/yixuan228-imperial-college-london/nn-hyperparameter-finetune' target=\"_blank\">https://wandb.ai/yixuan228-imperial-college-london/nn-hyperparameter-finetune</a>"
      ],
      "text/plain": [
       "<IPython.core.display.HTML object>"
      ]
     },
     "metadata": {},
     "output_type": "display_data"
    },
    {
     "data": {
      "text/html": [
       " View run at <a href='https://wandb.ai/yixuan228-imperial-college-london/nn-hyperparameter-finetune/runs/cko24409' target=\"_blank\">https://wandb.ai/yixuan228-imperial-college-london/nn-hyperparameter-finetune/runs/cko24409</a>"
      ],
      "text/plain": [
       "<IPython.core.display.HTML object>"
      ]
     },
     "metadata": {},
     "output_type": "display_data"
    },
    {
     "name": "stdout",
     "output_type": "stream",
     "text": [
      "Epoch 001 | Train Loss: 27483.6861 | Val Loss: 274.1655\n",
      "Epoch 002 | Train Loss: 104.5711 | Val Loss: 50.6944\n",
      "Epoch 003 | Train Loss: 47.7238 | Val Loss: 74.4460\n",
      "Epoch 004 | Train Loss: 40.7275 | Val Loss: 21.3252\n",
      "Epoch 005 | Train Loss: 29.4718 | Val Loss: 21.4335\n",
      "Epoch 006 | Train Loss: 29.6290 | Val Loss: 15.5345\n",
      "Epoch 007 | Train Loss: 24.9290 | Val Loss: 24.6608\n",
      "Epoch 008 | Train Loss: 28.9881 | Val Loss: 17.8410\n",
      "Epoch 009 | Train Loss: 41.4131 | Val Loss: 308.1643\n",
      "Epoch 010 | Train Loss: 78.3579 | Val Loss: 42.0394\n",
      "Epoch 011 | Train Loss: 32.0576 | Val Loss: 26.2115\n",
      "Early stopping triggered at epoch 11\n"
     ]
    },
    {
     "data": {
      "text/html": [],
      "text/plain": [
       "<IPython.core.display.HTML object>"
      ]
     },
     "metadata": {},
     "output_type": "display_data"
    },
    {
     "data": {
      "text/html": [
       "<br>    <style><br>        .wandb-row {<br>            display: flex;<br>            flex-direction: row;<br>            flex-wrap: wrap;<br>            justify-content: flex-start;<br>            width: 100%;<br>        }<br>        .wandb-col {<br>            display: flex;<br>            flex-direction: column;<br>            flex-basis: 100%;<br>            flex: 1;<br>            padding: 10px;<br>        }<br>    </style><br><div class=\"wandb-row\"><div class=\"wandb-col\"><h3>Run history:</h3><br/><table class=\"wandb\"><tr><td>epoch</td><td>▁▂▂▃▄▅▅▆▇▇█</td></tr><tr><td>train_loss</td><td>█▁▁▁▁▁▁▁▁▁▁</td></tr><tr><td>val_loss</td><td>▇▂▂▁▁▁▁▁█▂▁</td></tr></table><br/></div><div class=\"wandb-col\"><h3>Run summary:</h3><br/><table class=\"wandb\"><tr><td>epoch</td><td>11</td></tr><tr><td>train_loss</td><td>32.05761</td></tr><tr><td>val_loss</td><td>26.21151</td></tr></table><br/></div></div>"
      ],
      "text/plain": [
       "<IPython.core.display.HTML object>"
      ]
     },
     "metadata": {},
     "output_type": "display_data"
    },
    {
     "data": {
      "text/html": [
       " View run <strong style=\"color:#cdcd00\">proud-puddle-302</strong> at: <a href='https://wandb.ai/yixuan228-imperial-college-london/nn-hyperparameter-finetune/runs/cko24409' target=\"_blank\">https://wandb.ai/yixuan228-imperial-college-london/nn-hyperparameter-finetune/runs/cko24409</a><br> View project at: <a href='https://wandb.ai/yixuan228-imperial-college-london/nn-hyperparameter-finetune' target=\"_blank\">https://wandb.ai/yixuan228-imperial-college-london/nn-hyperparameter-finetune</a><br>Synced 5 W&B file(s), 0 media file(s), 0 artifact file(s) and 0 other file(s)"
      ],
      "text/plain": [
       "<IPython.core.display.HTML object>"
      ]
     },
     "metadata": {},
     "output_type": "display_data"
    },
    {
     "data": {
      "text/html": [
       "Find logs at: <code>.\\wandb\\run-20250307_074518-cko24409\\logs</code>"
      ],
      "text/plain": [
       "<IPython.core.display.HTML object>"
      ]
     },
     "metadata": {},
     "output_type": "display_data"
    },
    {
     "data": {
      "text/html": [
       "Tracking run with wandb version 0.19.7"
      ],
      "text/plain": [
       "<IPython.core.display.HTML object>"
      ]
     },
     "metadata": {},
     "output_type": "display_data"
    },
    {
     "data": {
      "text/html": [
       "Run data is saved locally in <code>d:\\Projects\\MSc_DE_GroupWork4\\Scripts\\wandb\\run-20250307_074523-llpld67l</code>"
      ],
      "text/plain": [
       "<IPython.core.display.HTML object>"
      ]
     },
     "metadata": {},
     "output_type": "display_data"
    },
    {
     "data": {
      "text/html": [
       "Syncing run <strong><a href='https://wandb.ai/yixuan228-imperial-college-london/nn-hyperparameter-finetune/runs/llpld67l' target=\"_blank\">wise-sea-303</a></strong> to <a href='https://wandb.ai/yixuan228-imperial-college-london/nn-hyperparameter-finetune' target=\"_blank\">Weights & Biases</a> (<a href='https://wandb.me/developer-guide' target=\"_blank\">docs</a>)<br>"
      ],
      "text/plain": [
       "<IPython.core.display.HTML object>"
      ]
     },
     "metadata": {},
     "output_type": "display_data"
    },
    {
     "data": {
      "text/html": [
       " View project at <a href='https://wandb.ai/yixuan228-imperial-college-london/nn-hyperparameter-finetune' target=\"_blank\">https://wandb.ai/yixuan228-imperial-college-london/nn-hyperparameter-finetune</a>"
      ],
      "text/plain": [
       "<IPython.core.display.HTML object>"
      ]
     },
     "metadata": {},
     "output_type": "display_data"
    },
    {
     "data": {
      "text/html": [
       " View run at <a href='https://wandb.ai/yixuan228-imperial-college-london/nn-hyperparameter-finetune/runs/llpld67l' target=\"_blank\">https://wandb.ai/yixuan228-imperial-college-london/nn-hyperparameter-finetune/runs/llpld67l</a>"
      ],
      "text/plain": [
       "<IPython.core.display.HTML object>"
      ]
     },
     "metadata": {},
     "output_type": "display_data"
    },
    {
     "name": "stdout",
     "output_type": "stream",
     "text": [
      "Epoch 001 | Train Loss: 8464.8321 | Val Loss: 79.6719\n",
      "Epoch 002 | Train Loss: 38.8606 | Val Loss: 27.0715\n",
      "Epoch 003 | Train Loss: 30.6169 | Val Loss: 39.3989\n",
      "Epoch 004 | Train Loss: 31.2091 | Val Loss: 22.5475\n",
      "Epoch 005 | Train Loss: 22.9022 | Val Loss: 27.3280\n",
      "Epoch 006 | Train Loss: 21.3497 | Val Loss: 19.0226\n",
      "Epoch 007 | Train Loss: 20.7765 | Val Loss: 15.5173\n",
      "Epoch 008 | Train Loss: 14.7349 | Val Loss: 16.5419\n",
      "Epoch 009 | Train Loss: 16.9717 | Val Loss: 19.3308\n",
      "Epoch 010 | Train Loss: 17.0689 | Val Loss: 16.6380\n",
      "Epoch 011 | Train Loss: 13.3575 | Val Loss: 15.5770\n",
      "Epoch 012 | Train Loss: 14.7927 | Val Loss: 11.6949\n",
      "Epoch 013 | Train Loss: 13.1233 | Val Loss: 13.8148\n",
      "Epoch 014 | Train Loss: 12.8515 | Val Loss: 20.3190\n",
      "Epoch 015 | Train Loss: 17.0160 | Val Loss: 27.4657\n",
      "Epoch 016 | Train Loss: 15.0881 | Val Loss: 13.5425\n",
      "Epoch 017 | Train Loss: 12.8546 | Val Loss: 11.3582\n",
      "Epoch 018 | Train Loss: 10.5893 | Val Loss: 15.5767\n",
      "Epoch 019 | Train Loss: 14.6785 | Val Loss: 17.2306\n",
      "Epoch 020 | Train Loss: 12.4837 | Val Loss: 10.5066\n",
      "Epoch 021 | Train Loss: 18.7880 | Val Loss: 46.8672\n",
      "Epoch 022 | Train Loss: 13.8691 | Val Loss: 10.4198\n",
      "Epoch 023 | Train Loss: 12.8957 | Val Loss: 10.7675\n",
      "Epoch 024 | Train Loss: 16.6873 | Val Loss: 10.9270\n",
      "Epoch 025 | Train Loss: 14.6732 | Val Loss: 98.3635\n",
      "Epoch 026 | Train Loss: 21.5987 | Val Loss: 29.9369\n",
      "Epoch 027 | Train Loss: 19.6075 | Val Loss: 18.7416\n",
      "Early stopping triggered at epoch 27\n"
     ]
    },
    {
     "data": {
      "text/html": [],
      "text/plain": [
       "<IPython.core.display.HTML object>"
      ]
     },
     "metadata": {},
     "output_type": "display_data"
    },
    {
     "data": {
      "text/html": [
       "<br>    <style><br>        .wandb-row {<br>            display: flex;<br>            flex-direction: row;<br>            flex-wrap: wrap;<br>            justify-content: flex-start;<br>            width: 100%;<br>        }<br>        .wandb-col {<br>            display: flex;<br>            flex-direction: column;<br>            flex-basis: 100%;<br>            flex: 1;<br>            padding: 10px;<br>        }<br>    </style><br><div class=\"wandb-row\"><div class=\"wandb-col\"><h3>Run history:</h3><br/><table class=\"wandb\"><tr><td>epoch</td><td>▁▁▂▂▂▂▃▃▃▃▄▄▄▅▅▅▅▆▆▆▆▇▇▇▇██</td></tr><tr><td>train_loss</td><td>█▁▁▁▁▁▁▁▁▁▁▁▁▁▁▁▁▁▁▁▁▁▁▁▁▁▁</td></tr><tr><td>val_loss</td><td>▇▂▃▂▂▂▁▁▂▁▁▁▁▂▂▁▁▁▂▁▄▁▁▁█▃▂</td></tr></table><br/></div><div class=\"wandb-col\"><h3>Run summary:</h3><br/><table class=\"wandb\"><tr><td>epoch</td><td>27</td></tr><tr><td>train_loss</td><td>19.60748</td></tr><tr><td>val_loss</td><td>18.74162</td></tr></table><br/></div></div>"
      ],
      "text/plain": [
       "<IPython.core.display.HTML object>"
      ]
     },
     "metadata": {},
     "output_type": "display_data"
    },
    {
     "data": {
      "text/html": [
       " View run <strong style=\"color:#cdcd00\">wise-sea-303</strong> at: <a href='https://wandb.ai/yixuan228-imperial-college-london/nn-hyperparameter-finetune/runs/llpld67l' target=\"_blank\">https://wandb.ai/yixuan228-imperial-college-london/nn-hyperparameter-finetune/runs/llpld67l</a><br> View project at: <a href='https://wandb.ai/yixuan228-imperial-college-london/nn-hyperparameter-finetune' target=\"_blank\">https://wandb.ai/yixuan228-imperial-college-london/nn-hyperparameter-finetune</a><br>Synced 5 W&B file(s), 0 media file(s), 0 artifact file(s) and 0 other file(s)"
      ],
      "text/plain": [
       "<IPython.core.display.HTML object>"
      ]
     },
     "metadata": {},
     "output_type": "display_data"
    },
    {
     "data": {
      "text/html": [
       "Find logs at: <code>.\\wandb\\run-20250307_074523-llpld67l\\logs</code>"
      ],
      "text/plain": [
       "<IPython.core.display.HTML object>"
      ]
     },
     "metadata": {},
     "output_type": "display_data"
    },
    {
     "data": {
      "text/html": [
       "Tracking run with wandb version 0.19.7"
      ],
      "text/plain": [
       "<IPython.core.display.HTML object>"
      ]
     },
     "metadata": {},
     "output_type": "display_data"
    },
    {
     "data": {
      "text/html": [
       "Run data is saved locally in <code>d:\\Projects\\MSc_DE_GroupWork4\\Scripts\\wandb\\run-20250307_074530-oaztplgb</code>"
      ],
      "text/plain": [
       "<IPython.core.display.HTML object>"
      ]
     },
     "metadata": {},
     "output_type": "display_data"
    },
    {
     "data": {
      "text/html": [
       "Syncing run <strong><a href='https://wandb.ai/yixuan228-imperial-college-london/nn-hyperparameter-finetune/runs/oaztplgb' target=\"_blank\">valiant-snowflake-304</a></strong> to <a href='https://wandb.ai/yixuan228-imperial-college-london/nn-hyperparameter-finetune' target=\"_blank\">Weights & Biases</a> (<a href='https://wandb.me/developer-guide' target=\"_blank\">docs</a>)<br>"
      ],
      "text/plain": [
       "<IPython.core.display.HTML object>"
      ]
     },
     "metadata": {},
     "output_type": "display_data"
    },
    {
     "data": {
      "text/html": [
       " View project at <a href='https://wandb.ai/yixuan228-imperial-college-london/nn-hyperparameter-finetune' target=\"_blank\">https://wandb.ai/yixuan228-imperial-college-london/nn-hyperparameter-finetune</a>"
      ],
      "text/plain": [
       "<IPython.core.display.HTML object>"
      ]
     },
     "metadata": {},
     "output_type": "display_data"
    },
    {
     "data": {
      "text/html": [
       " View run at <a href='https://wandb.ai/yixuan228-imperial-college-london/nn-hyperparameter-finetune/runs/oaztplgb' target=\"_blank\">https://wandb.ai/yixuan228-imperial-college-london/nn-hyperparameter-finetune/runs/oaztplgb</a>"
      ],
      "text/plain": [
       "<IPython.core.display.HTML object>"
      ]
     },
     "metadata": {},
     "output_type": "display_data"
    },
    {
     "name": "stdout",
     "output_type": "stream",
     "text": [
      "Epoch 001 | Train Loss: 40988.5228 | Val Loss: 2565.2813\n",
      "Epoch 002 | Train Loss: 1014.9051 | Val Loss: 336.2618\n",
      "Epoch 003 | Train Loss: 205.5071 | Val Loss: 138.3316\n",
      "Epoch 004 | Train Loss: 89.8990 | Val Loss: 74.5012\n",
      "Epoch 005 | Train Loss: 53.3180 | Val Loss: 50.5683\n",
      "Epoch 006 | Train Loss: 39.8787 | Val Loss: 38.7347\n",
      "Epoch 007 | Train Loss: 33.4798 | Val Loss: 32.7504\n",
      "Epoch 008 | Train Loss: 30.1261 | Val Loss: 30.0014\n",
      "Epoch 009 | Train Loss: 27.5212 | Val Loss: 28.2646\n",
      "Epoch 010 | Train Loss: 25.7735 | Val Loss: 25.6611\n",
      "Epoch 011 | Train Loss: 24.0300 | Val Loss: 23.4193\n",
      "Epoch 012 | Train Loss: 22.0625 | Val Loss: 23.7129\n",
      "Epoch 013 | Train Loss: 20.6493 | Val Loss: 20.9334\n",
      "Epoch 014 | Train Loss: 19.3192 | Val Loss: 19.3872\n",
      "Epoch 015 | Train Loss: 17.6107 | Val Loss: 17.6850\n",
      "Epoch 016 | Train Loss: 16.5890 | Val Loss: 17.7493\n",
      "Epoch 017 | Train Loss: 15.4564 | Val Loss: 16.0501\n",
      "Epoch 018 | Train Loss: 14.5192 | Val Loss: 17.9133\n",
      "Epoch 019 | Train Loss: 13.6776 | Val Loss: 13.7522\n",
      "Epoch 020 | Train Loss: 13.4503 | Val Loss: 13.8312\n",
      "Epoch 021 | Train Loss: 12.8585 | Val Loss: 12.5482\n",
      "Epoch 022 | Train Loss: 12.2252 | Val Loss: 12.6025\n",
      "Epoch 023 | Train Loss: 11.8464 | Val Loss: 12.6985\n",
      "Epoch 024 | Train Loss: 11.6871 | Val Loss: 11.9908\n",
      "Epoch 025 | Train Loss: 11.2694 | Val Loss: 13.3288\n",
      "Epoch 026 | Train Loss: 11.2493 | Val Loss: 11.5126\n",
      "Epoch 027 | Train Loss: 10.7242 | Val Loss: 11.3180\n",
      "Epoch 028 | Train Loss: 10.9364 | Val Loss: 10.1424\n",
      "Epoch 029 | Train Loss: 10.3156 | Val Loss: 10.8536\n",
      "Epoch 030 | Train Loss: 10.4239 | Val Loss: 13.7451\n",
      "Epoch 031 | Train Loss: 10.4242 | Val Loss: 10.5406\n",
      "Epoch 032 | Train Loss: 10.9066 | Val Loss: 10.2913\n",
      "Epoch 033 | Train Loss: 10.0279 | Val Loss: 9.8589\n",
      "Epoch 034 | Train Loss: 9.6135 | Val Loss: 10.0578\n",
      "Epoch 035 | Train Loss: 9.3851 | Val Loss: 9.5373\n",
      "Epoch 036 | Train Loss: 9.2306 | Val Loss: 10.2958\n",
      "Epoch 037 | Train Loss: 9.8940 | Val Loss: 9.5438\n",
      "Epoch 038 | Train Loss: 9.0993 | Val Loss: 9.2592\n",
      "Epoch 039 | Train Loss: 9.1532 | Val Loss: 10.2889\n",
      "Epoch 040 | Train Loss: 8.7710 | Val Loss: 11.3973\n",
      "Epoch 041 | Train Loss: 9.1047 | Val Loss: 10.0793\n",
      "Epoch 042 | Train Loss: 8.9172 | Val Loss: 9.7864\n",
      "Epoch 043 | Train Loss: 8.8287 | Val Loss: 9.8087\n",
      "Early stopping triggered at epoch 43\n"
     ]
    },
    {
     "data": {
      "text/html": [],
      "text/plain": [
       "<IPython.core.display.HTML object>"
      ]
     },
     "metadata": {},
     "output_type": "display_data"
    },
    {
     "data": {
      "text/html": [
       "<br>    <style><br>        .wandb-row {<br>            display: flex;<br>            flex-direction: row;<br>            flex-wrap: wrap;<br>            justify-content: flex-start;<br>            width: 100%;<br>        }<br>        .wandb-col {<br>            display: flex;<br>            flex-direction: column;<br>            flex-basis: 100%;<br>            flex: 1;<br>            padding: 10px;<br>        }<br>    </style><br><div class=\"wandb-row\"><div class=\"wandb-col\"><h3>Run history:</h3><br/><table class=\"wandb\"><tr><td>epoch</td><td>▁▁▁▁▂▂▂▂▂▃▃▃▃▃▃▄▄▄▄▄▅▅▅▅▅▅▆▆▆▆▆▇▇▇▇▇▇▇██</td></tr><tr><td>train_loss</td><td>█▁▁▁▁▁▁▁▁▁▁▁▁▁▁▁▁▁▁▁▁▁▁▁▁▁▁▁▁▁▁▁▁▁▁▁▁▁▁▁</td></tr><tr><td>val_loss</td><td>█▂▁▁▁▁▁▁▁▁▁▁▁▁▁▁▁▁▁▁▁▁▁▁▁▁▁▁▁▁▁▁▁▁▁▁▁▁▁▁</td></tr></table><br/></div><div class=\"wandb-col\"><h3>Run summary:</h3><br/><table class=\"wandb\"><tr><td>epoch</td><td>43</td></tr><tr><td>train_loss</td><td>8.82874</td></tr><tr><td>val_loss</td><td>9.80874</td></tr></table><br/></div></div>"
      ],
      "text/plain": [
       "<IPython.core.display.HTML object>"
      ]
     },
     "metadata": {},
     "output_type": "display_data"
    },
    {
     "data": {
      "text/html": [
       " View run <strong style=\"color:#cdcd00\">valiant-snowflake-304</strong> at: <a href='https://wandb.ai/yixuan228-imperial-college-london/nn-hyperparameter-finetune/runs/oaztplgb' target=\"_blank\">https://wandb.ai/yixuan228-imperial-college-london/nn-hyperparameter-finetune/runs/oaztplgb</a><br> View project at: <a href='https://wandb.ai/yixuan228-imperial-college-london/nn-hyperparameter-finetune' target=\"_blank\">https://wandb.ai/yixuan228-imperial-college-london/nn-hyperparameter-finetune</a><br>Synced 5 W&B file(s), 0 media file(s), 0 artifact file(s) and 0 other file(s)"
      ],
      "text/plain": [
       "<IPython.core.display.HTML object>"
      ]
     },
     "metadata": {},
     "output_type": "display_data"
    },
    {
     "data": {
      "text/html": [
       "Find logs at: <code>.\\wandb\\run-20250307_074530-oaztplgb\\logs</code>"
      ],
      "text/plain": [
       "<IPython.core.display.HTML object>"
      ]
     },
     "metadata": {},
     "output_type": "display_data"
    },
    {
     "data": {
      "text/html": [
       "Tracking run with wandb version 0.19.7"
      ],
      "text/plain": [
       "<IPython.core.display.HTML object>"
      ]
     },
     "metadata": {},
     "output_type": "display_data"
    },
    {
     "data": {
      "text/html": [
       "Run data is saved locally in <code>d:\\Projects\\MSc_DE_GroupWork4\\Scripts\\wandb\\run-20250307_074540-yf8x4zio</code>"
      ],
      "text/plain": [
       "<IPython.core.display.HTML object>"
      ]
     },
     "metadata": {},
     "output_type": "display_data"
    },
    {
     "data": {
      "text/html": [
       "Syncing run <strong><a href='https://wandb.ai/yixuan228-imperial-college-london/nn-hyperparameter-finetune/runs/yf8x4zio' target=\"_blank\">pleasant-glade-305</a></strong> to <a href='https://wandb.ai/yixuan228-imperial-college-london/nn-hyperparameter-finetune' target=\"_blank\">Weights & Biases</a> (<a href='https://wandb.me/developer-guide' target=\"_blank\">docs</a>)<br>"
      ],
      "text/plain": [
       "<IPython.core.display.HTML object>"
      ]
     },
     "metadata": {},
     "output_type": "display_data"
    },
    {
     "data": {
      "text/html": [
       " View project at <a href='https://wandb.ai/yixuan228-imperial-college-london/nn-hyperparameter-finetune' target=\"_blank\">https://wandb.ai/yixuan228-imperial-college-london/nn-hyperparameter-finetune</a>"
      ],
      "text/plain": [
       "<IPython.core.display.HTML object>"
      ]
     },
     "metadata": {},
     "output_type": "display_data"
    },
    {
     "data": {
      "text/html": [
       " View run at <a href='https://wandb.ai/yixuan228-imperial-college-london/nn-hyperparameter-finetune/runs/yf8x4zio' target=\"_blank\">https://wandb.ai/yixuan228-imperial-college-london/nn-hyperparameter-finetune/runs/yf8x4zio</a>"
      ],
      "text/plain": [
       "<IPython.core.display.HTML object>"
      ]
     },
     "metadata": {},
     "output_type": "display_data"
    },
    {
     "name": "stdout",
     "output_type": "stream",
     "text": [
      "Epoch 001 | Train Loss: 17961.5042 | Val Loss: 638.9641\n",
      "Epoch 002 | Train Loss: 433.7446 | Val Loss: 283.6281\n",
      "Epoch 003 | Train Loss: 221.9961 | Val Loss: 122.1593\n",
      "Epoch 004 | Train Loss: 227.0249 | Val Loss: 1796.5773\n",
      "Epoch 005 | Train Loss: 653.9130 | Val Loss: 145.6390\n",
      "Epoch 006 | Train Loss: 101.0020 | Val Loss: 54.2007\n",
      "Epoch 007 | Train Loss: 35.7776 | Val Loss: 30.8743\n",
      "Epoch 008 | Train Loss: 22.2822 | Val Loss: 14.8453\n",
      "Epoch 009 | Train Loss: 19.4791 | Val Loss: 37.5409\n",
      "Epoch 010 | Train Loss: 19.6556 | Val Loss: 18.0749\n",
      "Epoch 011 | Train Loss: 12.9414 | Val Loss: 11.5182\n",
      "Epoch 012 | Train Loss: 16.5603 | Val Loss: 15.1376\n",
      "Epoch 013 | Train Loss: 14.1806 | Val Loss: 18.8203\n",
      "Epoch 014 | Train Loss: 19.4198 | Val Loss: 33.8325\n",
      "Epoch 015 | Train Loss: 18.2531 | Val Loss: 10.1850\n",
      "Epoch 016 | Train Loss: 32.8393 | Val Loss: 32.0196\n",
      "Epoch 017 | Train Loss: 55.5070 | Val Loss: 24.2823\n",
      "Epoch 018 | Train Loss: 21.8669 | Val Loss: 22.0725\n",
      "Epoch 019 | Train Loss: 17.6264 | Val Loss: 10.9245\n",
      "Epoch 020 | Train Loss: 16.0101 | Val Loss: 35.9393\n",
      "Early stopping triggered at epoch 20\n"
     ]
    },
    {
     "data": {
      "text/html": [],
      "text/plain": [
       "<IPython.core.display.HTML object>"
      ]
     },
     "metadata": {},
     "output_type": "display_data"
    },
    {
     "data": {
      "text/html": [
       "<br>    <style><br>        .wandb-row {<br>            display: flex;<br>            flex-direction: row;<br>            flex-wrap: wrap;<br>            justify-content: flex-start;<br>            width: 100%;<br>        }<br>        .wandb-col {<br>            display: flex;<br>            flex-direction: column;<br>            flex-basis: 100%;<br>            flex: 1;<br>            padding: 10px;<br>        }<br>    </style><br><div class=\"wandb-row\"><div class=\"wandb-col\"><h3>Run history:</h3><br/><table class=\"wandb\"><tr><td>epoch</td><td>▁▁▂▂▂▃▃▄▄▄▅▅▅▆▆▇▇▇██</td></tr><tr><td>train_loss</td><td>█▁▁▁▁▁▁▁▁▁▁▁▁▁▁▁▁▁▁▁</td></tr><tr><td>val_loss</td><td>▃▂▁█▂▁▁▁▁▁▁▁▁▁▁▁▁▁▁▁</td></tr></table><br/></div><div class=\"wandb-col\"><h3>Run summary:</h3><br/><table class=\"wandb\"><tr><td>epoch</td><td>20</td></tr><tr><td>train_loss</td><td>16.01008</td></tr><tr><td>val_loss</td><td>35.9393</td></tr></table><br/></div></div>"
      ],
      "text/plain": [
       "<IPython.core.display.HTML object>"
      ]
     },
     "metadata": {},
     "output_type": "display_data"
    },
    {
     "data": {
      "text/html": [
       " View run <strong style=\"color:#cdcd00\">pleasant-glade-305</strong> at: <a href='https://wandb.ai/yixuan228-imperial-college-london/nn-hyperparameter-finetune/runs/yf8x4zio' target=\"_blank\">https://wandb.ai/yixuan228-imperial-college-london/nn-hyperparameter-finetune/runs/yf8x4zio</a><br> View project at: <a href='https://wandb.ai/yixuan228-imperial-college-london/nn-hyperparameter-finetune' target=\"_blank\">https://wandb.ai/yixuan228-imperial-college-london/nn-hyperparameter-finetune</a><br>Synced 5 W&B file(s), 0 media file(s), 0 artifact file(s) and 0 other file(s)"
      ],
      "text/plain": [
       "<IPython.core.display.HTML object>"
      ]
     },
     "metadata": {},
     "output_type": "display_data"
    },
    {
     "data": {
      "text/html": [
       "Find logs at: <code>.\\wandb\\run-20250307_074540-yf8x4zio\\logs</code>"
      ],
      "text/plain": [
       "<IPython.core.display.HTML object>"
      ]
     },
     "metadata": {},
     "output_type": "display_data"
    },
    {
     "data": {
      "text/html": [
       "Tracking run with wandb version 0.19.7"
      ],
      "text/plain": [
       "<IPython.core.display.HTML object>"
      ]
     },
     "metadata": {},
     "output_type": "display_data"
    },
    {
     "data": {
      "text/html": [
       "Run data is saved locally in <code>d:\\Projects\\MSc_DE_GroupWork4\\Scripts\\wandb\\run-20250307_074546-l5of58z5</code>"
      ],
      "text/plain": [
       "<IPython.core.display.HTML object>"
      ]
     },
     "metadata": {},
     "output_type": "display_data"
    },
    {
     "data": {
      "text/html": [
       "Syncing run <strong><a href='https://wandb.ai/yixuan228-imperial-college-london/nn-hyperparameter-finetune/runs/l5of58z5' target=\"_blank\">robust-blaze-306</a></strong> to <a href='https://wandb.ai/yixuan228-imperial-college-london/nn-hyperparameter-finetune' target=\"_blank\">Weights & Biases</a> (<a href='https://wandb.me/developer-guide' target=\"_blank\">docs</a>)<br>"
      ],
      "text/plain": [
       "<IPython.core.display.HTML object>"
      ]
     },
     "metadata": {},
     "output_type": "display_data"
    },
    {
     "data": {
      "text/html": [
       " View project at <a href='https://wandb.ai/yixuan228-imperial-college-london/nn-hyperparameter-finetune' target=\"_blank\">https://wandb.ai/yixuan228-imperial-college-london/nn-hyperparameter-finetune</a>"
      ],
      "text/plain": [
       "<IPython.core.display.HTML object>"
      ]
     },
     "metadata": {},
     "output_type": "display_data"
    },
    {
     "data": {
      "text/html": [
       " View run at <a href='https://wandb.ai/yixuan228-imperial-college-london/nn-hyperparameter-finetune/runs/l5of58z5' target=\"_blank\">https://wandb.ai/yixuan228-imperial-college-london/nn-hyperparameter-finetune/runs/l5of58z5</a>"
      ],
      "text/plain": [
       "<IPython.core.display.HTML object>"
      ]
     },
     "metadata": {},
     "output_type": "display_data"
    },
    {
     "name": "stdout",
     "output_type": "stream",
     "text": [
      "Epoch 001 | Train Loss: 7981.4888 | Val Loss: 59.7644\n",
      "Epoch 002 | Train Loss: 32.2705 | Val Loss: 104.8083\n",
      "Epoch 003 | Train Loss: 55.6820 | Val Loss: 21.3122\n",
      "Epoch 004 | Train Loss: 19.1630 | Val Loss: 20.0874\n",
      "Epoch 005 | Train Loss: 18.2230 | Val Loss: 14.6082\n",
      "Epoch 006 | Train Loss: 15.2960 | Val Loss: 12.8324\n",
      "Epoch 007 | Train Loss: 12.5062 | Val Loss: 12.4472\n",
      "Epoch 008 | Train Loss: 11.8028 | Val Loss: 26.7883\n",
      "Epoch 009 | Train Loss: 14.7934 | Val Loss: 60.4458\n",
      "Epoch 010 | Train Loss: 18.6665 | Val Loss: 14.9647\n",
      "Epoch 011 | Train Loss: 12.2304 | Val Loss: 33.6966\n",
      "Epoch 012 | Train Loss: 15.5370 | Val Loss: 14.1419\n",
      "Early stopping triggered at epoch 12\n"
     ]
    },
    {
     "data": {
      "text/html": [],
      "text/plain": [
       "<IPython.core.display.HTML object>"
      ]
     },
     "metadata": {},
     "output_type": "display_data"
    },
    {
     "data": {
      "text/html": [
       "<br>    <style><br>        .wandb-row {<br>            display: flex;<br>            flex-direction: row;<br>            flex-wrap: wrap;<br>            justify-content: flex-start;<br>            width: 100%;<br>        }<br>        .wandb-col {<br>            display: flex;<br>            flex-direction: column;<br>            flex-basis: 100%;<br>            flex: 1;<br>            padding: 10px;<br>        }<br>    </style><br><div class=\"wandb-row\"><div class=\"wandb-col\"><h3>Run history:</h3><br/><table class=\"wandb\"><tr><td>epoch</td><td>▁▂▂▃▄▄▅▅▆▇▇█</td></tr><tr><td>train_loss</td><td>█▁▁▁▁▁▁▁▁▁▁▁</td></tr><tr><td>val_loss</td><td>▅█▂▂▁▁▁▂▅▁▃▁</td></tr></table><br/></div><div class=\"wandb-col\"><h3>Run summary:</h3><br/><table class=\"wandb\"><tr><td>epoch</td><td>12</td></tr><tr><td>train_loss</td><td>15.53704</td></tr><tr><td>val_loss</td><td>14.1419</td></tr></table><br/></div></div>"
      ],
      "text/plain": [
       "<IPython.core.display.HTML object>"
      ]
     },
     "metadata": {},
     "output_type": "display_data"
    },
    {
     "data": {
      "text/html": [
       " View run <strong style=\"color:#cdcd00\">robust-blaze-306</strong> at: <a href='https://wandb.ai/yixuan228-imperial-college-london/nn-hyperparameter-finetune/runs/l5of58z5' target=\"_blank\">https://wandb.ai/yixuan228-imperial-college-london/nn-hyperparameter-finetune/runs/l5of58z5</a><br> View project at: <a href='https://wandb.ai/yixuan228-imperial-college-london/nn-hyperparameter-finetune' target=\"_blank\">https://wandb.ai/yixuan228-imperial-college-london/nn-hyperparameter-finetune</a><br>Synced 5 W&B file(s), 0 media file(s), 0 artifact file(s) and 0 other file(s)"
      ],
      "text/plain": [
       "<IPython.core.display.HTML object>"
      ]
     },
     "metadata": {},
     "output_type": "display_data"
    },
    {
     "data": {
      "text/html": [
       "Find logs at: <code>.\\wandb\\run-20250307_074546-l5of58z5\\logs</code>"
      ],
      "text/plain": [
       "<IPython.core.display.HTML object>"
      ]
     },
     "metadata": {},
     "output_type": "display_data"
    },
    {
     "data": {
      "text/html": [
       "Tracking run with wandb version 0.19.7"
      ],
      "text/plain": [
       "<IPython.core.display.HTML object>"
      ]
     },
     "metadata": {},
     "output_type": "display_data"
    },
    {
     "data": {
      "text/html": [
       "Run data is saved locally in <code>d:\\Projects\\MSc_DE_GroupWork4\\Scripts\\wandb\\run-20250307_074551-dg6qnxwl</code>"
      ],
      "text/plain": [
       "<IPython.core.display.HTML object>"
      ]
     },
     "metadata": {},
     "output_type": "display_data"
    },
    {
     "data": {
      "text/html": [
       "Syncing run <strong><a href='https://wandb.ai/yixuan228-imperial-college-london/nn-hyperparameter-finetune/runs/dg6qnxwl' target=\"_blank\">vague-planet-307</a></strong> to <a href='https://wandb.ai/yixuan228-imperial-college-london/nn-hyperparameter-finetune' target=\"_blank\">Weights & Biases</a> (<a href='https://wandb.me/developer-guide' target=\"_blank\">docs</a>)<br>"
      ],
      "text/plain": [
       "<IPython.core.display.HTML object>"
      ]
     },
     "metadata": {},
     "output_type": "display_data"
    },
    {
     "data": {
      "text/html": [
       " View project at <a href='https://wandb.ai/yixuan228-imperial-college-london/nn-hyperparameter-finetune' target=\"_blank\">https://wandb.ai/yixuan228-imperial-college-london/nn-hyperparameter-finetune</a>"
      ],
      "text/plain": [
       "<IPython.core.display.HTML object>"
      ]
     },
     "metadata": {},
     "output_type": "display_data"
    },
    {
     "data": {
      "text/html": [
       " View run at <a href='https://wandb.ai/yixuan228-imperial-college-london/nn-hyperparameter-finetune/runs/dg6qnxwl' target=\"_blank\">https://wandb.ai/yixuan228-imperial-college-london/nn-hyperparameter-finetune/runs/dg6qnxwl</a>"
      ],
      "text/plain": [
       "<IPython.core.display.HTML object>"
      ]
     },
     "metadata": {},
     "output_type": "display_data"
    },
    {
     "name": "stdout",
     "output_type": "stream",
     "text": [
      "Epoch 001 | Train Loss: 31345.9562 | Val Loss: 1083.7468\n",
      "Epoch 002 | Train Loss: 488.0483 | Val Loss: 209.2010\n",
      "Epoch 003 | Train Loss: 129.7649 | Val Loss: 91.6633\n",
      "Epoch 004 | Train Loss: 62.5459 | Val Loss: 49.8127\n",
      "Epoch 005 | Train Loss: 41.1378 | Val Loss: 35.3603\n",
      "Epoch 006 | Train Loss: 32.8035 | Val Loss: 29.3871\n",
      "Epoch 007 | Train Loss: 28.5028 | Val Loss: 30.3590\n",
      "Epoch 008 | Train Loss: 24.2494 | Val Loss: 23.7904\n",
      "Epoch 009 | Train Loss: 21.8225 | Val Loss: 21.2832\n",
      "Epoch 010 | Train Loss: 19.7568 | Val Loss: 19.4451\n",
      "Epoch 011 | Train Loss: 17.6499 | Val Loss: 17.3795\n",
      "Epoch 012 | Train Loss: 16.5953 | Val Loss: 15.4075\n",
      "Epoch 013 | Train Loss: 14.8873 | Val Loss: 16.5755\n",
      "Epoch 014 | Train Loss: 14.7424 | Val Loss: 14.2371\n",
      "Epoch 015 | Train Loss: 13.4778 | Val Loss: 13.9202\n",
      "Epoch 016 | Train Loss: 13.0724 | Val Loss: 13.5028\n",
      "Epoch 017 | Train Loss: 11.8629 | Val Loss: 11.8815\n",
      "Epoch 018 | Train Loss: 11.7903 | Val Loss: 12.6355\n",
      "Epoch 019 | Train Loss: 11.0010 | Val Loss: 11.3949\n",
      "Epoch 020 | Train Loss: 10.7687 | Val Loss: 11.0601\n",
      "Epoch 021 | Train Loss: 9.7804 | Val Loss: 9.7398\n",
      "Epoch 022 | Train Loss: 9.7792 | Val Loss: 15.5994\n",
      "Epoch 023 | Train Loss: 11.3126 | Val Loss: 9.3115\n",
      "Epoch 024 | Train Loss: 9.2754 | Val Loss: 9.9031\n",
      "Epoch 025 | Train Loss: 8.6747 | Val Loss: 9.1345\n",
      "Epoch 026 | Train Loss: 8.7693 | Val Loss: 8.2825\n",
      "Epoch 027 | Train Loss: 8.4048 | Val Loss: 10.3451\n",
      "Epoch 028 | Train Loss: 9.1784 | Val Loss: 9.6863\n",
      "Epoch 029 | Train Loss: 8.9181 | Val Loss: 8.4222\n",
      "Epoch 030 | Train Loss: 8.3037 | Val Loss: 8.0968\n",
      "Epoch 031 | Train Loss: 8.8057 | Val Loss: 12.4308\n",
      "Epoch 032 | Train Loss: 8.2403 | Val Loss: 8.7613\n",
      "Epoch 033 | Train Loss: 7.9928 | Val Loss: 8.3348\n",
      "Epoch 034 | Train Loss: 8.7148 | Val Loss: 17.8432\n",
      "Epoch 035 | Train Loss: 8.3654 | Val Loss: 9.0411\n",
      "Early stopping triggered at epoch 35\n"
     ]
    },
    {
     "data": {
      "text/html": [],
      "text/plain": [
       "<IPython.core.display.HTML object>"
      ]
     },
     "metadata": {},
     "output_type": "display_data"
    },
    {
     "data": {
      "text/html": [
       "<br>    <style><br>        .wandb-row {<br>            display: flex;<br>            flex-direction: row;<br>            flex-wrap: wrap;<br>            justify-content: flex-start;<br>            width: 100%;<br>        }<br>        .wandb-col {<br>            display: flex;<br>            flex-direction: column;<br>            flex-basis: 100%;<br>            flex: 1;<br>            padding: 10px;<br>        }<br>    </style><br><div class=\"wandb-row\"><div class=\"wandb-col\"><h3>Run history:</h3><br/><table class=\"wandb\"><tr><td>epoch</td><td>▁▁▁▂▂▂▂▂▃▃▃▃▃▄▄▄▄▅▅▅▅▅▆▆▆▆▆▇▇▇▇▇███</td></tr><tr><td>train_loss</td><td>█▁▁▁▁▁▁▁▁▁▁▁▁▁▁▁▁▁▁▁▁▁▁▁▁▁▁▁▁▁▁▁▁▁▁</td></tr><tr><td>val_loss</td><td>█▂▂▁▁▁▁▁▁▁▁▁▁▁▁▁▁▁▁▁▁▁▁▁▁▁▁▁▁▁▁▁▁▁▁</td></tr></table><br/></div><div class=\"wandb-col\"><h3>Run summary:</h3><br/><table class=\"wandb\"><tr><td>epoch</td><td>35</td></tr><tr><td>train_loss</td><td>8.36536</td></tr><tr><td>val_loss</td><td>9.04105</td></tr></table><br/></div></div>"
      ],
      "text/plain": [
       "<IPython.core.display.HTML object>"
      ]
     },
     "metadata": {},
     "output_type": "display_data"
    },
    {
     "data": {
      "text/html": [
       " View run <strong style=\"color:#cdcd00\">vague-planet-307</strong> at: <a href='https://wandb.ai/yixuan228-imperial-college-london/nn-hyperparameter-finetune/runs/dg6qnxwl' target=\"_blank\">https://wandb.ai/yixuan228-imperial-college-london/nn-hyperparameter-finetune/runs/dg6qnxwl</a><br> View project at: <a href='https://wandb.ai/yixuan228-imperial-college-london/nn-hyperparameter-finetune' target=\"_blank\">https://wandb.ai/yixuan228-imperial-college-london/nn-hyperparameter-finetune</a><br>Synced 5 W&B file(s), 0 media file(s), 0 artifact file(s) and 0 other file(s)"
      ],
      "text/plain": [
       "<IPython.core.display.HTML object>"
      ]
     },
     "metadata": {},
     "output_type": "display_data"
    },
    {
     "data": {
      "text/html": [
       "Find logs at: <code>.\\wandb\\run-20250307_074551-dg6qnxwl\\logs</code>"
      ],
      "text/plain": [
       "<IPython.core.display.HTML object>"
      ]
     },
     "metadata": {},
     "output_type": "display_data"
    },
    {
     "name": "stdout",
     "output_type": "stream",
     "text": [
      "Training complete for all configurations.\n"
     ]
    }
   ],
   "source": [
    "from itertools import product\n",
    "\n",
    "for hidden_units, hidden_layers, lr in product(hidden_units_options, hidden_layers_options, learning_rates):\n",
    "\n",
    "    # Configurations\n",
    "    config = {\n",
    "        \"hidden_units\": hidden_units,\n",
    "        \"hidden_layers\": hidden_layers,\n",
    "        \"learning_rate\": lr,\n",
    "        \"max_epochs\": max_epochs,\n",
    "        \"patience\": patience\n",
    "    }\n",
    "\n",
    "    # Start a new W&B run for each configuration\n",
    "    wandb.init(project='nn-hyperparameter-finetune', config=config, reinit=True)\n",
    "\n",
    "    model = MultiLayerPerceptron(input_size=input_size, \n",
    "                             hidden_size=config[\"hidden_units\"], \n",
    "                             num_layers=config[\"hidden_layers\"], \n",
    "                             output_size=1).to(device)\n",
    "\n",
    "\n",
    "    criterion = nn.MSELoss() \n",
    "    optimizer = optim.Adam(model.parameters(), lr=lr)\n",
    "\n",
    "    best_val_loss = float('inf')\n",
    "    epochs_without_improvement = 0\n",
    "        \n",
    "    for epoch in range(1, max_epochs + 1):\n",
    "        train_loss = train_epoch(model, train_Loader, criterion, optimizer, device)\n",
    "       \n",
    "        val_loss = val_epoch(model, val_Loader, criterion, device)\n",
    "\n",
    "        # Log metrics to W&B\n",
    "        wandb.log({\"epoch\": epoch, \"train_loss\": train_loss, \"val_loss\": val_loss})\n",
    "        \n",
    "        print(f\"Epoch {epoch:03d} | Train Loss: {train_loss:.4f} | Val Loss: {val_loss:.4f}\")\n",
    "        \n",
    "        # Early stopping check\n",
    "        if val_loss < best_val_loss:\n",
    "            best_val_loss = val_loss\n",
    "            epochs_without_improvement = 0\n",
    "        else:\n",
    "            epochs_without_improvement += 1\n",
    "            \n",
    "        if epochs_without_improvement >= patience:\n",
    "            print(f\"Early stopping triggered at epoch {epoch}\")\n",
    "            break\n",
    "\n",
    "    wandb.finish()\n",
    "\n",
    "print(\"Training complete for all configurations.\")\n"
   ]
  },
  {
   "cell_type": "markdown",
   "metadata": {},
   "source": [
    "Visualization of each Search"
   ]
  },
  {
   "cell_type": "code",
   "execution_count": null,
   "metadata": {},
   "outputs": [
    {
     "ename": "FileNotFoundError",
     "evalue": "[Errno 2] No such file or directory: 'image_loss.png'",
     "output_type": "error",
     "traceback": [
      "\u001b[1;31m---------------------------------------------------------------------------\u001b[0m",
      "\u001b[1;31mFileNotFoundError\u001b[0m                         Traceback (most recent call last)",
      "Cell \u001b[1;32mIn[24], line 5\u001b[0m\n\u001b[0;32m      2\u001b[0m \u001b[38;5;28;01mimport\u001b[39;00m\u001b[38;5;250m \u001b[39m\u001b[38;5;21;01mmatplotlib\u001b[39;00m\u001b[38;5;21;01m.\u001b[39;00m\u001b[38;5;21;01mimage\u001b[39;00m\u001b[38;5;250m \u001b[39m\u001b[38;5;28;01mas\u001b[39;00m\u001b[38;5;250m \u001b[39m\u001b[38;5;21;01mmpimg\u001b[39;00m\n\u001b[0;32m      4\u001b[0m image_path \u001b[38;5;241m=\u001b[39m \u001b[38;5;124m\"\u001b[39m\u001b[38;5;124mimage_loss.png\u001b[39m\u001b[38;5;124m\"\u001b[39m\n\u001b[1;32m----> 5\u001b[0m img \u001b[38;5;241m=\u001b[39m \u001b[43mmpimg\u001b[49m\u001b[38;5;241;43m.\u001b[39;49m\u001b[43mimread\u001b[49m\u001b[43m(\u001b[49m\u001b[43mimage_path\u001b[49m\u001b[43m)\u001b[49m\n\u001b[0;32m      7\u001b[0m plt\u001b[38;5;241m.\u001b[39mfigure(figsize\u001b[38;5;241m=\u001b[39m(\u001b[38;5;241m12\u001b[39m, \u001b[38;5;241m6\u001b[39m))\n\u001b[0;32m      8\u001b[0m plt\u001b[38;5;241m.\u001b[39mimshow(img)\n",
      "File \u001b[1;32md:\\Software\\Anaconda3\\envs\\de_w6_rl\\Lib\\site-packages\\matplotlib\\image.py:1502\u001b[0m, in \u001b[0;36mimread\u001b[1;34m(fname, format)\u001b[0m\n\u001b[0;32m   1495\u001b[0m \u001b[38;5;28;01mif\u001b[39;00m \u001b[38;5;28misinstance\u001b[39m(fname, \u001b[38;5;28mstr\u001b[39m) \u001b[38;5;129;01mand\u001b[39;00m \u001b[38;5;28mlen\u001b[39m(parse\u001b[38;5;241m.\u001b[39murlparse(fname)\u001b[38;5;241m.\u001b[39mscheme) \u001b[38;5;241m>\u001b[39m \u001b[38;5;241m1\u001b[39m:\n\u001b[0;32m   1496\u001b[0m     \u001b[38;5;66;03m# Pillow doesn't handle URLs directly.\u001b[39;00m\n\u001b[0;32m   1497\u001b[0m     \u001b[38;5;28;01mraise\u001b[39;00m \u001b[38;5;167;01mValueError\u001b[39;00m(\n\u001b[0;32m   1498\u001b[0m         \u001b[38;5;124m\"\u001b[39m\u001b[38;5;124mPlease open the URL for reading and pass the \u001b[39m\u001b[38;5;124m\"\u001b[39m\n\u001b[0;32m   1499\u001b[0m         \u001b[38;5;124m\"\u001b[39m\u001b[38;5;124mresult to Pillow, e.g. with \u001b[39m\u001b[38;5;124m\"\u001b[39m\n\u001b[0;32m   1500\u001b[0m         \u001b[38;5;124m\"\u001b[39m\u001b[38;5;124m``np.array(PIL.Image.open(urllib.request.urlopen(url)))``.\u001b[39m\u001b[38;5;124m\"\u001b[39m\n\u001b[0;32m   1501\u001b[0m         )\n\u001b[1;32m-> 1502\u001b[0m \u001b[38;5;28;01mwith\u001b[39;00m \u001b[43mimg_open\u001b[49m\u001b[43m(\u001b[49m\u001b[43mfname\u001b[49m\u001b[43m)\u001b[49m \u001b[38;5;28;01mas\u001b[39;00m image:\n\u001b[0;32m   1503\u001b[0m     \u001b[38;5;28;01mreturn\u001b[39;00m (_pil_png_to_float_array(image)\n\u001b[0;32m   1504\u001b[0m             \u001b[38;5;28;01mif\u001b[39;00m \u001b[38;5;28misinstance\u001b[39m(image, PIL\u001b[38;5;241m.\u001b[39mPngImagePlugin\u001b[38;5;241m.\u001b[39mPngImageFile) \u001b[38;5;28;01melse\u001b[39;00m\n\u001b[0;32m   1505\u001b[0m             pil_to_array(image))\n",
      "File \u001b[1;32md:\\Software\\Anaconda3\\envs\\de_w6_rl\\Lib\\site-packages\\PIL\\ImageFile.py:126\u001b[0m, in \u001b[0;36mImageFile.__init__\u001b[1;34m(self, fp, filename)\u001b[0m\n\u001b[0;32m    122\u001b[0m \u001b[38;5;28mself\u001b[39m\u001b[38;5;241m.\u001b[39mdecodermaxblock \u001b[38;5;241m=\u001b[39m MAXBLOCK\n\u001b[0;32m    124\u001b[0m \u001b[38;5;28;01mif\u001b[39;00m is_path(fp):\n\u001b[0;32m    125\u001b[0m     \u001b[38;5;66;03m# filename\u001b[39;00m\n\u001b[1;32m--> 126\u001b[0m     \u001b[38;5;28mself\u001b[39m\u001b[38;5;241m.\u001b[39mfp \u001b[38;5;241m=\u001b[39m \u001b[38;5;28;43mopen\u001b[39;49m\u001b[43m(\u001b[49m\u001b[43mfp\u001b[49m\u001b[43m,\u001b[49m\u001b[43m \u001b[49m\u001b[38;5;124;43m\"\u001b[39;49m\u001b[38;5;124;43mrb\u001b[39;49m\u001b[38;5;124;43m\"\u001b[39;49m\u001b[43m)\u001b[49m\n\u001b[0;32m    127\u001b[0m     \u001b[38;5;28mself\u001b[39m\u001b[38;5;241m.\u001b[39mfilename \u001b[38;5;241m=\u001b[39m fp\n\u001b[0;32m    128\u001b[0m     \u001b[38;5;28mself\u001b[39m\u001b[38;5;241m.\u001b[39m_exclusive_fp \u001b[38;5;241m=\u001b[39m \u001b[38;5;28;01mTrue\u001b[39;00m\n",
      "\u001b[1;31mFileNotFoundError\u001b[0m: [Errno 2] No such file or directory: 'image_loss.png'"
     ]
    }
   ],
   "source": [
    "import matplotlib.pyplot as plt\n",
    "import matplotlib.image as mpimg\n",
    "\n",
    "image_path = \"image_loss.png\"\n",
    "img = mpimg.imread(image_path)\n",
    "\n",
    "plt.figure(figsize=(12, 6))\n",
    "plt.imshow(img)\n",
    "plt.axis(\"off\")\n",
    "plt.show()\n"
   ]
  },
  {
   "cell_type": "code",
   "execution_count": null,
   "metadata": {},
   "outputs": [],
   "source": [
    "import wandb\n",
    "import os\n",
    "\n",
    "api = wandb.Api()\n",
    "\n",
    "project_path = \"yixuan228-imperial-college-london/nn-hyperparameter-finetune\"\n",
    "runs = api.runs(project_path)  # Get all the runs\n",
    "\n",
    "# save_dir = \"wandb_artifacts\"\n",
    "# os.makedirs(save_dir, exist_ok=True)"
   ]
  },
  {
   "cell_type": "markdown",
   "metadata": {},
   "source": [
    "### Save all the model config"
   ]
  },
  {
   "cell_type": "code",
   "execution_count": null,
   "metadata": {},
   "outputs": [],
   "source": [
    "ls_summary, ls_config = [], []\n",
    "\n",
    "best_run = None\n",
    "best_val_loss = float('inf')\n",
    "\n",
    "ls_config = [run.config for run in runs]\n",
    "ls_summary = [run.summary._json_dict for run in runs]\n",
    "\n"
   ]
  },
  {
   "cell_type": "markdown",
   "metadata": {},
   "source": [
    "### Select the best model"
   ]
  },
  {
   "cell_type": "code",
   "execution_count": null,
   "metadata": {},
   "outputs": [
    {
     "name": "stdout",
     "output_type": "stream",
     "text": [
      "\n",
      "Best Model Found:\n",
      "Run ID: 9j1kpy0i, Name: dark-salad-210, State: finished\n",
      "Lowest Validation Loss: 153.34332284427134\n",
      "\n",
      "Best Model Hyperparameters (config):\n",
      "   patience: 5\n",
      "   max_epochs: 200\n",
      "   hidden_units: 64\n",
      "   hidden_layers: 2\n",
      "   learning_rate: 0.001\n",
      "\n",
      "Best Model Final Metrics (summary):\n",
      "   _runtime: 22.5437849\n",
      "   _step: 137\n",
      "   _timestamp: 1740606944.2886748\n",
      "   _wandb: {'runtime': 22}\n",
      "   epoch: 138\n",
      "   train_loss: 126.98141660900164\n",
      "   val_loss: 153.34332284427134\n"
     ]
    }
   ],
   "source": [
    "best_run = None\n",
    "best_loss = float(\"inf\")  \n",
    "\n",
    "for run in runs:\n",
    "    # print(run.summary.keys())\n",
    "    if \"val_loss\" in run.summary:  \n",
    "        loss = run.summary[\"val_loss\"]\n",
    "        if loss < best_loss:  # best model with least loss\n",
    "            best_loss = loss\n",
    "            best_run = run\n",
    "\n",
    "# Best model hyparparameters\n",
    "if best_run:\n",
    "    print(\"\\nBest Model Found:\")\n",
    "    print(f\"Run ID: {best_run.id}, Name: {best_run.name}, State: {best_run.state}\")\n",
    "    print(f\"Lowest Validation Loss: {best_loss}\")\n",
    "\n",
    "    print(\"\\nBest Model Hyperparameters (config):\")\n",
    "    for key, value in best_run.config.items():\n",
    "        print(f\"   {key}: {value}\")\n",
    "\n",
    "    print(\"\\nBest Model Final Metrics (summary):\")\n",
    "    for key, value in best_run.summary.items():\n",
    "        print(f\"   {key}: {value}\")\n",
    "else:\n",
    "    print(\"No valid runs found with 'loss' metric.\")\n"
   ]
  },
  {
   "cell_type": "markdown",
   "metadata": {},
   "source": [
    "## Conclusion"
   ]
  },
  {
   "cell_type": "markdown",
   "metadata": {},
   "source": [
    "Using Nueral Network Models is a good way to predict the CO2 emssions based on the features given. After using W&B to grid search the hyperparameters grid, the best model is chosen based on the metric of validation loss.\n",
    "\n",
    "The best model parameters are listed below:\n",
    "\n",
    "**Hyperparameter**:\\\n",
    "    patience: 5\\\n",
    "    max_epochs: 200\\\n",
    "    hidden_units: 64\\\n",
    "    hidden_layers: 2\\\n",
    "    learning_rate: 0.001\n",
    "\n",
    "**Running Performance:**\\\n",
    "    epoch: 138\\\n",
    "    Training loss: 126.98141660900164\\\n",
    "    Validation loss: 153.34332284427134\n",
    "\n",
    "\n"
   ]
  }
 ],
 "metadata": {
  "kernelspec": {
   "display_name": "de_w6_rl",
   "language": "python",
   "name": "python3"
  },
  "language_info": {
   "codemirror_mode": {
    "name": "ipython",
    "version": 3
   },
   "file_extension": ".py",
   "mimetype": "text/x-python",
   "name": "python",
   "nbconvert_exporter": "python",
   "pygments_lexer": "ipython3",
   "version": "3.12.9"
  }
 },
 "nbformat": 4,
 "nbformat_minor": 2
}
