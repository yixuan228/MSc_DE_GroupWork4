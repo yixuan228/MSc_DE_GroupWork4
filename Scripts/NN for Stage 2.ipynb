{
 "cells": [
  {
   "cell_type": "markdown",
   "metadata": {},
   "source": [
    "# Notebook2: Predicting CO2 emissions using Neural Networks"
   ]
  },
  {
   "cell_type": "markdown",
   "metadata": {},
   "source": [
    "Readme: In this notebook, NN models are constructed for CO2 Emission prediction, and the best model is selected and K-means validation is applied.\n",
    "\n",
    "- **Notebook content**:\n",
    "    - Design the architecture of NN and explore different model configuration\n",
    "\n",
    "    - Tune hyperparameters and select the best model\n",
    "\n",
    "- **Notebook Output**:\n",
    "\n",
    "    - Best model file\n",
    "\n",
    "    - The validation and test results of the best model"
   ]
  },
  {
   "cell_type": "code",
   "execution_count": 21,
   "metadata": {},
   "outputs": [],
   "source": [
    "# %pip install \"numpy<2\" torch torchvision scikit-learn\n",
    "# %pip install wandb"
   ]
  },
  {
   "cell_type": "code",
   "execution_count": 22,
   "metadata": {},
   "outputs": [
    {
     "name": "stdout",
     "output_type": "stream",
     "text": [
      "cuda\n"
     ]
    }
   ],
   "source": [
    "# Import libraries\n",
    "import numpy as np\n",
    "import pandas as pd\n",
    "import matplotlib.pyplot as plt\n",
    "import torch\n",
    "\n",
    "# Set device\n",
    "device = torch.device('cuda' if torch.cuda.is_available() else 'cpu')\n",
    "print(device)"
   ]
  },
  {
   "cell_type": "markdown",
   "metadata": {},
   "source": [
    "## 1 Define Functions"
   ]
  },
  {
   "cell_type": "code",
   "execution_count": 23,
   "metadata": {},
   "outputs": [],
   "source": [
    "# Define functions\n",
    "import seaborn as sns\n",
    "import torch\n",
    "\n",
    "# 1 plot related functions----------------\n",
    "# plot predict and true values on validation dataset\n",
    "def plot_pred_true(y_test, y_pred, ax):\n",
    "\n",
    "    data = pd.DataFrame({'y_obs': y_test, 'y_pred': y_pred})\n",
    "\n",
    "    # plt.figure(figsize=(5, 5))\n",
    "    sns.scatterplot(data=data, x='y_obs', y='y_pred', s=10, ax=ax)\n",
    "    ax.plot(y_test, y_test, color='red', label='y=x')          # plot the line y=x\n",
    "    ax.set_title('Observed vs Predicted values in Test Dataset')   # title\n",
    "    ax.set_xlabel('Observed values')       # label for the x-axis\n",
    "    ax.set_ylabel('Predicted values')      # label for the y-axis\n",
    "    ax.legend()\n",
    "    ax.grid(True)\n",
    "\n",
    "# plot the loss value on training and validation dataset\n",
    "def plot_train_val_loss(train_loss, val_loss, ax):\n",
    "    \n",
    "    # ax.figure(figsize=(5, 5))\n",
    "\n",
    "    ax.plot(train_loss, label='train loss')\n",
    "    ax.plot(val_loss, label='val loss')\n",
    "    ax.set_title('Train vs Validation Loss')\n",
    "    ax.set_xlabel('Epoch')\n",
    "    ax.set_ylabel('Loss')\n",
    "    ax.legend()\n",
    "    ax.grid(True)\n",
    "\n",
    "# 2 Other functions---------------------\n",
    "# get the prediction and true values\n",
    "def model_prediction(model, val_loader, device):\n",
    "\n",
    "    model.eval()\n",
    "    pred = []\n",
    "    target = []\n",
    "\n",
    "    with torch.no_grad():\n",
    "        for X, y in val_loader:\n",
    "            X, y = X.to(device), y.to(device)\n",
    "\n",
    "            y_pred = model(X)      # predicted value\n",
    "\n",
    "            pred.extend(y_pred.cpu().numpy())\n",
    "            target.extend(y.cpu().numpy())\n",
    "\n",
    "    # Merge all the predictions and targets\n",
    "    predictions = np.concatenate(pred, axis=0)\n",
    "    labels = np.concatenate(target, axis=0)\n",
    "    return predictions, labels"
   ]
  },
  {
   "cell_type": "markdown",
   "metadata": {},
   "source": [
    "## 2 Data Preparation"
   ]
  },
  {
   "cell_type": "code",
   "execution_count": 24,
   "metadata": {},
   "outputs": [],
   "source": [
    "import numpy as np\n",
    "import pandas as pd\n",
    "from sklearn.pipeline import Pipeline\n",
    "from sklearn.compose import ColumnTransformer\n",
    "from sklearn.preprocessing import StandardScaler, OneHotEncoder\n",
    "from sklearn.impute import SimpleImputer\n",
    "from sklearn.model_selection import train_test_split"
   ]
  },
  {
   "cell_type": "markdown",
   "metadata": {},
   "source": [
    "### Load and Divide Traning and Testing Data"
   ]
  },
  {
   "cell_type": "markdown",
   "metadata": {},
   "source": [
    "Load the test and train dataset"
   ]
  },
  {
   "cell_type": "code",
   "execution_count": 25,
   "metadata": {},
   "outputs": [],
   "source": [
    "# Import data\n",
    "trainset_df = pd.read_csv('Dataset2_train.csv').dropna()\n",
    "testset_df = pd.read_csv('Dataset2_test.csv').dropna()\n"
   ]
  },
  {
   "cell_type": "code",
   "execution_count": 26,
   "metadata": {},
   "outputs": [
    {
     "data": {
      "text/html": [
       "<div>\n",
       "<style scoped>\n",
       "    .dataframe tbody tr th:only-of-type {\n",
       "        vertical-align: middle;\n",
       "    }\n",
       "\n",
       "    .dataframe tbody tr th {\n",
       "        vertical-align: top;\n",
       "    }\n",
       "\n",
       "    .dataframe thead th {\n",
       "        text-align: right;\n",
       "    }\n",
       "</style>\n",
       "<table border=\"1\" class=\"dataframe\">\n",
       "  <thead>\n",
       "    <tr style=\"text-align: right;\">\n",
       "      <th></th>\n",
       "      <th>Engine Size(L)</th>\n",
       "      <th>Cylinders</th>\n",
       "      <th>Gearbox_Type</th>\n",
       "      <th>Gearbox_Number</th>\n",
       "      <th>Energy Consumption per Distance MJ/100km</th>\n",
       "      <th>Model Features_Flexible-fuel vehicle</th>\n",
       "      <th>Model Features_Four-wheel drive</th>\n",
       "      <th>Model Features_Long wheelbase</th>\n",
       "      <th>Model Features_Short wheelbase</th>\n",
       "      <th>Vehicle Class_FULL-SIZE</th>\n",
       "      <th>...</th>\n",
       "      <th>Vehicle Class_SUV - SMALL</th>\n",
       "      <th>Vehicle Class_SUV - STANDARD</th>\n",
       "      <th>Vehicle Class_TWO-SEATER</th>\n",
       "      <th>Vehicle Class_VAN - CARGO</th>\n",
       "      <th>Vehicle Class_VAN - PASSENGER</th>\n",
       "      <th>Fuel Type_E</th>\n",
       "      <th>Fuel Type_X</th>\n",
       "      <th>Fuel Type_Z</th>\n",
       "      <th>CO2 Emissions(g/km)</th>\n",
       "      <th>Make</th>\n",
       "    </tr>\n",
       "  </thead>\n",
       "  <tbody>\n",
       "    <tr>\n",
       "      <th>0</th>\n",
       "      <td>4.0</td>\n",
       "      <td>6.0</td>\n",
       "      <td>1.0</td>\n",
       "      <td>5.000000</td>\n",
       "      <td>434.34</td>\n",
       "      <td>0.0</td>\n",
       "      <td>0.0</td>\n",
       "      <td>0.0</td>\n",
       "      <td>0.0</td>\n",
       "      <td>0.0</td>\n",
       "      <td>...</td>\n",
       "      <td>0.0</td>\n",
       "      <td>0.0</td>\n",
       "      <td>0.0</td>\n",
       "      <td>0.0</td>\n",
       "      <td>0.0</td>\n",
       "      <td>0.0</td>\n",
       "      <td>1.0</td>\n",
       "      <td>0.0</td>\n",
       "      <td>299.0</td>\n",
       "      <td>NISSAN</td>\n",
       "    </tr>\n",
       "    <tr>\n",
       "      <th>1</th>\n",
       "      <td>2.4</td>\n",
       "      <td>4.0</td>\n",
       "      <td>1.0</td>\n",
       "      <td>6.000000</td>\n",
       "      <td>287.28</td>\n",
       "      <td>0.0</td>\n",
       "      <td>0.0</td>\n",
       "      <td>0.0</td>\n",
       "      <td>0.0</td>\n",
       "      <td>1.0</td>\n",
       "      <td>...</td>\n",
       "      <td>0.0</td>\n",
       "      <td>0.0</td>\n",
       "      <td>0.0</td>\n",
       "      <td>0.0</td>\n",
       "      <td>0.0</td>\n",
       "      <td>0.0</td>\n",
       "      <td>1.0</td>\n",
       "      <td>0.0</td>\n",
       "      <td>193.0</td>\n",
       "      <td>HYUNDAI</td>\n",
       "    </tr>\n",
       "    <tr>\n",
       "      <th>2</th>\n",
       "      <td>2.0</td>\n",
       "      <td>4.0</td>\n",
       "      <td>1.0</td>\n",
       "      <td>8.000000</td>\n",
       "      <td>321.48</td>\n",
       "      <td>0.0</td>\n",
       "      <td>0.0</td>\n",
       "      <td>0.0</td>\n",
       "      <td>0.0</td>\n",
       "      <td>0.0</td>\n",
       "      <td>...</td>\n",
       "      <td>0.0</td>\n",
       "      <td>0.0</td>\n",
       "      <td>0.0</td>\n",
       "      <td>0.0</td>\n",
       "      <td>0.0</td>\n",
       "      <td>0.0</td>\n",
       "      <td>0.0</td>\n",
       "      <td>1.0</td>\n",
       "      <td>221.0</td>\n",
       "      <td>BMW</td>\n",
       "    </tr>\n",
       "    <tr>\n",
       "      <th>3</th>\n",
       "      <td>2.5</td>\n",
       "      <td>4.0</td>\n",
       "      <td>1.0</td>\n",
       "      <td>6.000000</td>\n",
       "      <td>307.80</td>\n",
       "      <td>0.0</td>\n",
       "      <td>0.0</td>\n",
       "      <td>0.0</td>\n",
       "      <td>0.0</td>\n",
       "      <td>0.0</td>\n",
       "      <td>...</td>\n",
       "      <td>1.0</td>\n",
       "      <td>0.0</td>\n",
       "      <td>0.0</td>\n",
       "      <td>0.0</td>\n",
       "      <td>0.0</td>\n",
       "      <td>0.0</td>\n",
       "      <td>1.0</td>\n",
       "      <td>0.0</td>\n",
       "      <td>212.0</td>\n",
       "      <td>TOYOTA</td>\n",
       "    </tr>\n",
       "    <tr>\n",
       "      <th>4</th>\n",
       "      <td>5.0</td>\n",
       "      <td>8.0</td>\n",
       "      <td>1.0</td>\n",
       "      <td>8.000000</td>\n",
       "      <td>454.86</td>\n",
       "      <td>0.0</td>\n",
       "      <td>0.0</td>\n",
       "      <td>1.0</td>\n",
       "      <td>0.0</td>\n",
       "      <td>1.0</td>\n",
       "      <td>...</td>\n",
       "      <td>0.0</td>\n",
       "      <td>0.0</td>\n",
       "      <td>0.0</td>\n",
       "      <td>0.0</td>\n",
       "      <td>0.0</td>\n",
       "      <td>0.0</td>\n",
       "      <td>0.0</td>\n",
       "      <td>1.0</td>\n",
       "      <td>313.0</td>\n",
       "      <td>JAGUAR</td>\n",
       "    </tr>\n",
       "    <tr>\n",
       "      <th>...</th>\n",
       "      <td>...</td>\n",
       "      <td>...</td>\n",
       "      <td>...</td>\n",
       "      <td>...</td>\n",
       "      <td>...</td>\n",
       "      <td>...</td>\n",
       "      <td>...</td>\n",
       "      <td>...</td>\n",
       "      <td>...</td>\n",
       "      <td>...</td>\n",
       "      <td>...</td>\n",
       "      <td>...</td>\n",
       "      <td>...</td>\n",
       "      <td>...</td>\n",
       "      <td>...</td>\n",
       "      <td>...</td>\n",
       "      <td>...</td>\n",
       "      <td>...</td>\n",
       "      <td>...</td>\n",
       "      <td>...</td>\n",
       "      <td>...</td>\n",
       "    </tr>\n",
       "    <tr>\n",
       "      <th>5902</th>\n",
       "      <td>2.0</td>\n",
       "      <td>4.0</td>\n",
       "      <td>1.0</td>\n",
       "      <td>6.000000</td>\n",
       "      <td>287.28</td>\n",
       "      <td>0.0</td>\n",
       "      <td>0.0</td>\n",
       "      <td>0.0</td>\n",
       "      <td>0.0</td>\n",
       "      <td>0.0</td>\n",
       "      <td>...</td>\n",
       "      <td>0.0</td>\n",
       "      <td>0.0</td>\n",
       "      <td>0.0</td>\n",
       "      <td>0.0</td>\n",
       "      <td>0.0</td>\n",
       "      <td>0.0</td>\n",
       "      <td>0.0</td>\n",
       "      <td>1.0</td>\n",
       "      <td>197.0</td>\n",
       "      <td>MINI</td>\n",
       "    </tr>\n",
       "    <tr>\n",
       "      <th>5903</th>\n",
       "      <td>5.6</td>\n",
       "      <td>8.0</td>\n",
       "      <td>1.0</td>\n",
       "      <td>7.000000</td>\n",
       "      <td>526.68</td>\n",
       "      <td>0.0</td>\n",
       "      <td>1.0</td>\n",
       "      <td>0.0</td>\n",
       "      <td>0.0</td>\n",
       "      <td>0.0</td>\n",
       "      <td>...</td>\n",
       "      <td>0.0</td>\n",
       "      <td>1.0</td>\n",
       "      <td>0.0</td>\n",
       "      <td>0.0</td>\n",
       "      <td>0.0</td>\n",
       "      <td>0.0</td>\n",
       "      <td>1.0</td>\n",
       "      <td>0.0</td>\n",
       "      <td>362.0</td>\n",
       "      <td>NISSAN</td>\n",
       "    </tr>\n",
       "    <tr>\n",
       "      <th>5904</th>\n",
       "      <td>3.5</td>\n",
       "      <td>6.0</td>\n",
       "      <td>1.0</td>\n",
       "      <td>6.000000</td>\n",
       "      <td>283.86</td>\n",
       "      <td>0.0</td>\n",
       "      <td>0.0</td>\n",
       "      <td>0.0</td>\n",
       "      <td>0.0</td>\n",
       "      <td>0.0</td>\n",
       "      <td>...</td>\n",
       "      <td>0.0</td>\n",
       "      <td>1.0</td>\n",
       "      <td>0.0</td>\n",
       "      <td>0.0</td>\n",
       "      <td>0.0</td>\n",
       "      <td>0.0</td>\n",
       "      <td>1.0</td>\n",
       "      <td>0.0</td>\n",
       "      <td>193.0</td>\n",
       "      <td>TOYOTA</td>\n",
       "    </tr>\n",
       "    <tr>\n",
       "      <th>5905</th>\n",
       "      <td>2.5</td>\n",
       "      <td>4.0</td>\n",
       "      <td>1.0</td>\n",
       "      <td>6.854093</td>\n",
       "      <td>294.12</td>\n",
       "      <td>0.0</td>\n",
       "      <td>0.0</td>\n",
       "      <td>0.0</td>\n",
       "      <td>0.0</td>\n",
       "      <td>0.0</td>\n",
       "      <td>...</td>\n",
       "      <td>1.0</td>\n",
       "      <td>0.0</td>\n",
       "      <td>0.0</td>\n",
       "      <td>0.0</td>\n",
       "      <td>0.0</td>\n",
       "      <td>0.0</td>\n",
       "      <td>1.0</td>\n",
       "      <td>0.0</td>\n",
       "      <td>198.0</td>\n",
       "      <td>NISSAN</td>\n",
       "    </tr>\n",
       "    <tr>\n",
       "      <th>5906</th>\n",
       "      <td>3.0</td>\n",
       "      <td>6.0</td>\n",
       "      <td>1.0</td>\n",
       "      <td>8.000000</td>\n",
       "      <td>347.40</td>\n",
       "      <td>0.0</td>\n",
       "      <td>0.0</td>\n",
       "      <td>0.0</td>\n",
       "      <td>0.0</td>\n",
       "      <td>0.0</td>\n",
       "      <td>...</td>\n",
       "      <td>0.0</td>\n",
       "      <td>0.0</td>\n",
       "      <td>0.0</td>\n",
       "      <td>0.0</td>\n",
       "      <td>0.0</td>\n",
       "      <td>0.0</td>\n",
       "      <td>0.0</td>\n",
       "      <td>0.0</td>\n",
       "      <td>243.0</td>\n",
       "      <td>RAM</td>\n",
       "    </tr>\n",
       "  </tbody>\n",
       "</table>\n",
       "<p>5907 rows × 29 columns</p>\n",
       "</div>"
      ],
      "text/plain": [
       "      Engine Size(L)  Cylinders  Gearbox_Type  Gearbox_Number  \\\n",
       "0                4.0        6.0           1.0        5.000000   \n",
       "1                2.4        4.0           1.0        6.000000   \n",
       "2                2.0        4.0           1.0        8.000000   \n",
       "3                2.5        4.0           1.0        6.000000   \n",
       "4                5.0        8.0           1.0        8.000000   \n",
       "...              ...        ...           ...             ...   \n",
       "5902             2.0        4.0           1.0        6.000000   \n",
       "5903             5.6        8.0           1.0        7.000000   \n",
       "5904             3.5        6.0           1.0        6.000000   \n",
       "5905             2.5        4.0           1.0        6.854093   \n",
       "5906             3.0        6.0           1.0        8.000000   \n",
       "\n",
       "      Energy Consumption per Distance MJ/100km  \\\n",
       "0                                       434.34   \n",
       "1                                       287.28   \n",
       "2                                       321.48   \n",
       "3                                       307.80   \n",
       "4                                       454.86   \n",
       "...                                        ...   \n",
       "5902                                    287.28   \n",
       "5903                                    526.68   \n",
       "5904                                    283.86   \n",
       "5905                                    294.12   \n",
       "5906                                    347.40   \n",
       "\n",
       "      Model Features_Flexible-fuel vehicle  Model Features_Four-wheel drive  \\\n",
       "0                                      0.0                              0.0   \n",
       "1                                      0.0                              0.0   \n",
       "2                                      0.0                              0.0   \n",
       "3                                      0.0                              0.0   \n",
       "4                                      0.0                              0.0   \n",
       "...                                    ...                              ...   \n",
       "5902                                   0.0                              0.0   \n",
       "5903                                   0.0                              1.0   \n",
       "5904                                   0.0                              0.0   \n",
       "5905                                   0.0                              0.0   \n",
       "5906                                   0.0                              0.0   \n",
       "\n",
       "      Model Features_Long wheelbase  Model Features_Short wheelbase  \\\n",
       "0                               0.0                             0.0   \n",
       "1                               0.0                             0.0   \n",
       "2                               0.0                             0.0   \n",
       "3                               0.0                             0.0   \n",
       "4                               1.0                             0.0   \n",
       "...                             ...                             ...   \n",
       "5902                            0.0                             0.0   \n",
       "5903                            0.0                             0.0   \n",
       "5904                            0.0                             0.0   \n",
       "5905                            0.0                             0.0   \n",
       "5906                            0.0                             0.0   \n",
       "\n",
       "      Vehicle Class_FULL-SIZE  ...  Vehicle Class_SUV - SMALL  \\\n",
       "0                         0.0  ...                        0.0   \n",
       "1                         1.0  ...                        0.0   \n",
       "2                         0.0  ...                        0.0   \n",
       "3                         0.0  ...                        1.0   \n",
       "4                         1.0  ...                        0.0   \n",
       "...                       ...  ...                        ...   \n",
       "5902                      0.0  ...                        0.0   \n",
       "5903                      0.0  ...                        0.0   \n",
       "5904                      0.0  ...                        0.0   \n",
       "5905                      0.0  ...                        1.0   \n",
       "5906                      0.0  ...                        0.0   \n",
       "\n",
       "      Vehicle Class_SUV - STANDARD  Vehicle Class_TWO-SEATER  \\\n",
       "0                              0.0                       0.0   \n",
       "1                              0.0                       0.0   \n",
       "2                              0.0                       0.0   \n",
       "3                              0.0                       0.0   \n",
       "4                              0.0                       0.0   \n",
       "...                            ...                       ...   \n",
       "5902                           0.0                       0.0   \n",
       "5903                           1.0                       0.0   \n",
       "5904                           1.0                       0.0   \n",
       "5905                           0.0                       0.0   \n",
       "5906                           0.0                       0.0   \n",
       "\n",
       "      Vehicle Class_VAN - CARGO  Vehicle Class_VAN - PASSENGER  Fuel Type_E  \\\n",
       "0                           0.0                            0.0          0.0   \n",
       "1                           0.0                            0.0          0.0   \n",
       "2                           0.0                            0.0          0.0   \n",
       "3                           0.0                            0.0          0.0   \n",
       "4                           0.0                            0.0          0.0   \n",
       "...                         ...                            ...          ...   \n",
       "5902                        0.0                            0.0          0.0   \n",
       "5903                        0.0                            0.0          0.0   \n",
       "5904                        0.0                            0.0          0.0   \n",
       "5905                        0.0                            0.0          0.0   \n",
       "5906                        0.0                            0.0          0.0   \n",
       "\n",
       "      Fuel Type_X  Fuel Type_Z  CO2 Emissions(g/km)     Make  \n",
       "0             1.0          0.0                299.0   NISSAN  \n",
       "1             1.0          0.0                193.0  HYUNDAI  \n",
       "2             0.0          1.0                221.0      BMW  \n",
       "3             1.0          0.0                212.0   TOYOTA  \n",
       "4             0.0          1.0                313.0   JAGUAR  \n",
       "...           ...          ...                  ...      ...  \n",
       "5902          0.0          1.0                197.0     MINI  \n",
       "5903          1.0          0.0                362.0   NISSAN  \n",
       "5904          1.0          0.0                193.0   TOYOTA  \n",
       "5905          1.0          0.0                198.0   NISSAN  \n",
       "5906          0.0          0.0                243.0      RAM  \n",
       "\n",
       "[5907 rows x 29 columns]"
      ]
     },
     "execution_count": 26,
     "metadata": {},
     "output_type": "execute_result"
    }
   ],
   "source": [
    "trainset_df"
   ]
  },
  {
   "cell_type": "code",
   "execution_count": 27,
   "metadata": {},
   "outputs": [],
   "source": [
    "X_train = trainset_df.drop(columns=['CO2 Emissions(g/km)', 'Make'])\n",
    "y_train = trainset_df['CO2 Emissions(g/km)']\n",
    "\n",
    "X_test = testset_df.drop(columns=['CO2 Emissions(g/km)', 'Make'])\n",
    "y_test = testset_df['CO2 Emissions(g/km)']"
   ]
  },
  {
   "cell_type": "code",
   "execution_count": 28,
   "metadata": {},
   "outputs": [
    {
     "data": {
      "text/html": [
       "<div>\n",
       "<style scoped>\n",
       "    .dataframe tbody tr th:only-of-type {\n",
       "        vertical-align: middle;\n",
       "    }\n",
       "\n",
       "    .dataframe tbody tr th {\n",
       "        vertical-align: top;\n",
       "    }\n",
       "\n",
       "    .dataframe thead th {\n",
       "        text-align: right;\n",
       "    }\n",
       "</style>\n",
       "<table border=\"1\" class=\"dataframe\">\n",
       "  <thead>\n",
       "    <tr style=\"text-align: right;\">\n",
       "      <th></th>\n",
       "      <th>Engine Size(L)</th>\n",
       "      <th>Cylinders</th>\n",
       "      <th>Gearbox_Type</th>\n",
       "      <th>Gearbox_Number</th>\n",
       "      <th>Energy Consumption per Distance MJ/100km</th>\n",
       "      <th>Model Features_Flexible-fuel vehicle</th>\n",
       "      <th>Model Features_Four-wheel drive</th>\n",
       "      <th>Model Features_Long wheelbase</th>\n",
       "      <th>Model Features_Short wheelbase</th>\n",
       "      <th>Vehicle Class_FULL-SIZE</th>\n",
       "      <th>...</th>\n",
       "      <th>Vehicle Class_STATION WAGON - SMALL</th>\n",
       "      <th>Vehicle Class_SUBCOMPACT</th>\n",
       "      <th>Vehicle Class_SUV - SMALL</th>\n",
       "      <th>Vehicle Class_SUV - STANDARD</th>\n",
       "      <th>Vehicle Class_TWO-SEATER</th>\n",
       "      <th>Vehicle Class_VAN - CARGO</th>\n",
       "      <th>Vehicle Class_VAN - PASSENGER</th>\n",
       "      <th>Fuel Type_E</th>\n",
       "      <th>Fuel Type_X</th>\n",
       "      <th>Fuel Type_Z</th>\n",
       "    </tr>\n",
       "  </thead>\n",
       "  <tbody>\n",
       "    <tr>\n",
       "      <th>0</th>\n",
       "      <td>4.0</td>\n",
       "      <td>6.0</td>\n",
       "      <td>1.0</td>\n",
       "      <td>5.000000</td>\n",
       "      <td>434.34</td>\n",
       "      <td>0.0</td>\n",
       "      <td>0.0</td>\n",
       "      <td>0.0</td>\n",
       "      <td>0.0</td>\n",
       "      <td>0.0</td>\n",
       "      <td>...</td>\n",
       "      <td>0.0</td>\n",
       "      <td>0.0</td>\n",
       "      <td>0.0</td>\n",
       "      <td>0.0</td>\n",
       "      <td>0.0</td>\n",
       "      <td>0.0</td>\n",
       "      <td>0.0</td>\n",
       "      <td>0.0</td>\n",
       "      <td>1.0</td>\n",
       "      <td>0.0</td>\n",
       "    </tr>\n",
       "    <tr>\n",
       "      <th>1</th>\n",
       "      <td>2.4</td>\n",
       "      <td>4.0</td>\n",
       "      <td>1.0</td>\n",
       "      <td>6.000000</td>\n",
       "      <td>287.28</td>\n",
       "      <td>0.0</td>\n",
       "      <td>0.0</td>\n",
       "      <td>0.0</td>\n",
       "      <td>0.0</td>\n",
       "      <td>1.0</td>\n",
       "      <td>...</td>\n",
       "      <td>0.0</td>\n",
       "      <td>0.0</td>\n",
       "      <td>0.0</td>\n",
       "      <td>0.0</td>\n",
       "      <td>0.0</td>\n",
       "      <td>0.0</td>\n",
       "      <td>0.0</td>\n",
       "      <td>0.0</td>\n",
       "      <td>1.0</td>\n",
       "      <td>0.0</td>\n",
       "    </tr>\n",
       "    <tr>\n",
       "      <th>2</th>\n",
       "      <td>2.0</td>\n",
       "      <td>4.0</td>\n",
       "      <td>1.0</td>\n",
       "      <td>8.000000</td>\n",
       "      <td>321.48</td>\n",
       "      <td>0.0</td>\n",
       "      <td>0.0</td>\n",
       "      <td>0.0</td>\n",
       "      <td>0.0</td>\n",
       "      <td>0.0</td>\n",
       "      <td>...</td>\n",
       "      <td>0.0</td>\n",
       "      <td>1.0</td>\n",
       "      <td>0.0</td>\n",
       "      <td>0.0</td>\n",
       "      <td>0.0</td>\n",
       "      <td>0.0</td>\n",
       "      <td>0.0</td>\n",
       "      <td>0.0</td>\n",
       "      <td>0.0</td>\n",
       "      <td>1.0</td>\n",
       "    </tr>\n",
       "    <tr>\n",
       "      <th>3</th>\n",
       "      <td>2.5</td>\n",
       "      <td>4.0</td>\n",
       "      <td>1.0</td>\n",
       "      <td>6.000000</td>\n",
       "      <td>307.80</td>\n",
       "      <td>0.0</td>\n",
       "      <td>0.0</td>\n",
       "      <td>0.0</td>\n",
       "      <td>0.0</td>\n",
       "      <td>0.0</td>\n",
       "      <td>...</td>\n",
       "      <td>0.0</td>\n",
       "      <td>0.0</td>\n",
       "      <td>1.0</td>\n",
       "      <td>0.0</td>\n",
       "      <td>0.0</td>\n",
       "      <td>0.0</td>\n",
       "      <td>0.0</td>\n",
       "      <td>0.0</td>\n",
       "      <td>1.0</td>\n",
       "      <td>0.0</td>\n",
       "    </tr>\n",
       "    <tr>\n",
       "      <th>4</th>\n",
       "      <td>5.0</td>\n",
       "      <td>8.0</td>\n",
       "      <td>1.0</td>\n",
       "      <td>8.000000</td>\n",
       "      <td>454.86</td>\n",
       "      <td>0.0</td>\n",
       "      <td>0.0</td>\n",
       "      <td>1.0</td>\n",
       "      <td>0.0</td>\n",
       "      <td>1.0</td>\n",
       "      <td>...</td>\n",
       "      <td>0.0</td>\n",
       "      <td>0.0</td>\n",
       "      <td>0.0</td>\n",
       "      <td>0.0</td>\n",
       "      <td>0.0</td>\n",
       "      <td>0.0</td>\n",
       "      <td>0.0</td>\n",
       "      <td>0.0</td>\n",
       "      <td>0.0</td>\n",
       "      <td>1.0</td>\n",
       "    </tr>\n",
       "    <tr>\n",
       "      <th>...</th>\n",
       "      <td>...</td>\n",
       "      <td>...</td>\n",
       "      <td>...</td>\n",
       "      <td>...</td>\n",
       "      <td>...</td>\n",
       "      <td>...</td>\n",
       "      <td>...</td>\n",
       "      <td>...</td>\n",
       "      <td>...</td>\n",
       "      <td>...</td>\n",
       "      <td>...</td>\n",
       "      <td>...</td>\n",
       "      <td>...</td>\n",
       "      <td>...</td>\n",
       "      <td>...</td>\n",
       "      <td>...</td>\n",
       "      <td>...</td>\n",
       "      <td>...</td>\n",
       "      <td>...</td>\n",
       "      <td>...</td>\n",
       "      <td>...</td>\n",
       "    </tr>\n",
       "    <tr>\n",
       "      <th>5902</th>\n",
       "      <td>2.0</td>\n",
       "      <td>4.0</td>\n",
       "      <td>1.0</td>\n",
       "      <td>6.000000</td>\n",
       "      <td>287.28</td>\n",
       "      <td>0.0</td>\n",
       "      <td>0.0</td>\n",
       "      <td>0.0</td>\n",
       "      <td>0.0</td>\n",
       "      <td>0.0</td>\n",
       "      <td>...</td>\n",
       "      <td>0.0</td>\n",
       "      <td>1.0</td>\n",
       "      <td>0.0</td>\n",
       "      <td>0.0</td>\n",
       "      <td>0.0</td>\n",
       "      <td>0.0</td>\n",
       "      <td>0.0</td>\n",
       "      <td>0.0</td>\n",
       "      <td>0.0</td>\n",
       "      <td>1.0</td>\n",
       "    </tr>\n",
       "    <tr>\n",
       "      <th>5903</th>\n",
       "      <td>5.6</td>\n",
       "      <td>8.0</td>\n",
       "      <td>1.0</td>\n",
       "      <td>7.000000</td>\n",
       "      <td>526.68</td>\n",
       "      <td>0.0</td>\n",
       "      <td>1.0</td>\n",
       "      <td>0.0</td>\n",
       "      <td>0.0</td>\n",
       "      <td>0.0</td>\n",
       "      <td>...</td>\n",
       "      <td>0.0</td>\n",
       "      <td>0.0</td>\n",
       "      <td>0.0</td>\n",
       "      <td>1.0</td>\n",
       "      <td>0.0</td>\n",
       "      <td>0.0</td>\n",
       "      <td>0.0</td>\n",
       "      <td>0.0</td>\n",
       "      <td>1.0</td>\n",
       "      <td>0.0</td>\n",
       "    </tr>\n",
       "    <tr>\n",
       "      <th>5904</th>\n",
       "      <td>3.5</td>\n",
       "      <td>6.0</td>\n",
       "      <td>1.0</td>\n",
       "      <td>6.000000</td>\n",
       "      <td>283.86</td>\n",
       "      <td>0.0</td>\n",
       "      <td>0.0</td>\n",
       "      <td>0.0</td>\n",
       "      <td>0.0</td>\n",
       "      <td>0.0</td>\n",
       "      <td>...</td>\n",
       "      <td>0.0</td>\n",
       "      <td>0.0</td>\n",
       "      <td>0.0</td>\n",
       "      <td>1.0</td>\n",
       "      <td>0.0</td>\n",
       "      <td>0.0</td>\n",
       "      <td>0.0</td>\n",
       "      <td>0.0</td>\n",
       "      <td>1.0</td>\n",
       "      <td>0.0</td>\n",
       "    </tr>\n",
       "    <tr>\n",
       "      <th>5905</th>\n",
       "      <td>2.5</td>\n",
       "      <td>4.0</td>\n",
       "      <td>1.0</td>\n",
       "      <td>6.854093</td>\n",
       "      <td>294.12</td>\n",
       "      <td>0.0</td>\n",
       "      <td>0.0</td>\n",
       "      <td>0.0</td>\n",
       "      <td>0.0</td>\n",
       "      <td>0.0</td>\n",
       "      <td>...</td>\n",
       "      <td>0.0</td>\n",
       "      <td>0.0</td>\n",
       "      <td>1.0</td>\n",
       "      <td>0.0</td>\n",
       "      <td>0.0</td>\n",
       "      <td>0.0</td>\n",
       "      <td>0.0</td>\n",
       "      <td>0.0</td>\n",
       "      <td>1.0</td>\n",
       "      <td>0.0</td>\n",
       "    </tr>\n",
       "    <tr>\n",
       "      <th>5906</th>\n",
       "      <td>3.0</td>\n",
       "      <td>6.0</td>\n",
       "      <td>1.0</td>\n",
       "      <td>8.000000</td>\n",
       "      <td>347.40</td>\n",
       "      <td>0.0</td>\n",
       "      <td>0.0</td>\n",
       "      <td>0.0</td>\n",
       "      <td>0.0</td>\n",
       "      <td>0.0</td>\n",
       "      <td>...</td>\n",
       "      <td>0.0</td>\n",
       "      <td>0.0</td>\n",
       "      <td>0.0</td>\n",
       "      <td>0.0</td>\n",
       "      <td>0.0</td>\n",
       "      <td>0.0</td>\n",
       "      <td>0.0</td>\n",
       "      <td>0.0</td>\n",
       "      <td>0.0</td>\n",
       "      <td>0.0</td>\n",
       "    </tr>\n",
       "  </tbody>\n",
       "</table>\n",
       "<p>5907 rows × 27 columns</p>\n",
       "</div>"
      ],
      "text/plain": [
       "      Engine Size(L)  Cylinders  Gearbox_Type  Gearbox_Number  \\\n",
       "0                4.0        6.0           1.0        5.000000   \n",
       "1                2.4        4.0           1.0        6.000000   \n",
       "2                2.0        4.0           1.0        8.000000   \n",
       "3                2.5        4.0           1.0        6.000000   \n",
       "4                5.0        8.0           1.0        8.000000   \n",
       "...              ...        ...           ...             ...   \n",
       "5902             2.0        4.0           1.0        6.000000   \n",
       "5903             5.6        8.0           1.0        7.000000   \n",
       "5904             3.5        6.0           1.0        6.000000   \n",
       "5905             2.5        4.0           1.0        6.854093   \n",
       "5906             3.0        6.0           1.0        8.000000   \n",
       "\n",
       "      Energy Consumption per Distance MJ/100km  \\\n",
       "0                                       434.34   \n",
       "1                                       287.28   \n",
       "2                                       321.48   \n",
       "3                                       307.80   \n",
       "4                                       454.86   \n",
       "...                                        ...   \n",
       "5902                                    287.28   \n",
       "5903                                    526.68   \n",
       "5904                                    283.86   \n",
       "5905                                    294.12   \n",
       "5906                                    347.40   \n",
       "\n",
       "      Model Features_Flexible-fuel vehicle  Model Features_Four-wheel drive  \\\n",
       "0                                      0.0                              0.0   \n",
       "1                                      0.0                              0.0   \n",
       "2                                      0.0                              0.0   \n",
       "3                                      0.0                              0.0   \n",
       "4                                      0.0                              0.0   \n",
       "...                                    ...                              ...   \n",
       "5902                                   0.0                              0.0   \n",
       "5903                                   0.0                              1.0   \n",
       "5904                                   0.0                              0.0   \n",
       "5905                                   0.0                              0.0   \n",
       "5906                                   0.0                              0.0   \n",
       "\n",
       "      Model Features_Long wheelbase  Model Features_Short wheelbase  \\\n",
       "0                               0.0                             0.0   \n",
       "1                               0.0                             0.0   \n",
       "2                               0.0                             0.0   \n",
       "3                               0.0                             0.0   \n",
       "4                               1.0                             0.0   \n",
       "...                             ...                             ...   \n",
       "5902                            0.0                             0.0   \n",
       "5903                            0.0                             0.0   \n",
       "5904                            0.0                             0.0   \n",
       "5905                            0.0                             0.0   \n",
       "5906                            0.0                             0.0   \n",
       "\n",
       "      Vehicle Class_FULL-SIZE  ...  Vehicle Class_STATION WAGON - SMALL  \\\n",
       "0                         0.0  ...                                  0.0   \n",
       "1                         1.0  ...                                  0.0   \n",
       "2                         0.0  ...                                  0.0   \n",
       "3                         0.0  ...                                  0.0   \n",
       "4                         1.0  ...                                  0.0   \n",
       "...                       ...  ...                                  ...   \n",
       "5902                      0.0  ...                                  0.0   \n",
       "5903                      0.0  ...                                  0.0   \n",
       "5904                      0.0  ...                                  0.0   \n",
       "5905                      0.0  ...                                  0.0   \n",
       "5906                      0.0  ...                                  0.0   \n",
       "\n",
       "      Vehicle Class_SUBCOMPACT  Vehicle Class_SUV - SMALL  \\\n",
       "0                          0.0                        0.0   \n",
       "1                          0.0                        0.0   \n",
       "2                          1.0                        0.0   \n",
       "3                          0.0                        1.0   \n",
       "4                          0.0                        0.0   \n",
       "...                        ...                        ...   \n",
       "5902                       1.0                        0.0   \n",
       "5903                       0.0                        0.0   \n",
       "5904                       0.0                        0.0   \n",
       "5905                       0.0                        1.0   \n",
       "5906                       0.0                        0.0   \n",
       "\n",
       "      Vehicle Class_SUV - STANDARD  Vehicle Class_TWO-SEATER  \\\n",
       "0                              0.0                       0.0   \n",
       "1                              0.0                       0.0   \n",
       "2                              0.0                       0.0   \n",
       "3                              0.0                       0.0   \n",
       "4                              0.0                       0.0   \n",
       "...                            ...                       ...   \n",
       "5902                           0.0                       0.0   \n",
       "5903                           1.0                       0.0   \n",
       "5904                           1.0                       0.0   \n",
       "5905                           0.0                       0.0   \n",
       "5906                           0.0                       0.0   \n",
       "\n",
       "      Vehicle Class_VAN - CARGO  Vehicle Class_VAN - PASSENGER  Fuel Type_E  \\\n",
       "0                           0.0                            0.0          0.0   \n",
       "1                           0.0                            0.0          0.0   \n",
       "2                           0.0                            0.0          0.0   \n",
       "3                           0.0                            0.0          0.0   \n",
       "4                           0.0                            0.0          0.0   \n",
       "...                         ...                            ...          ...   \n",
       "5902                        0.0                            0.0          0.0   \n",
       "5903                        0.0                            0.0          0.0   \n",
       "5904                        0.0                            0.0          0.0   \n",
       "5905                        0.0                            0.0          0.0   \n",
       "5906                        0.0                            0.0          0.0   \n",
       "\n",
       "      Fuel Type_X  Fuel Type_Z  \n",
       "0             1.0          0.0  \n",
       "1             1.0          0.0  \n",
       "2             0.0          1.0  \n",
       "3             1.0          0.0  \n",
       "4             0.0          1.0  \n",
       "...           ...          ...  \n",
       "5902          0.0          1.0  \n",
       "5903          1.0          0.0  \n",
       "5904          1.0          0.0  \n",
       "5905          1.0          0.0  \n",
       "5906          0.0          0.0  \n",
       "\n",
       "[5907 rows x 27 columns]"
      ]
     },
     "execution_count": 28,
     "metadata": {},
     "output_type": "execute_result"
    }
   ],
   "source": [
    "X_train"
   ]
  },
  {
   "cell_type": "markdown",
   "metadata": {},
   "source": [
    "### Setup pipline for Standardisation"
   ]
  },
  {
   "cell_type": "code",
   "execution_count": 29,
   "metadata": {},
   "outputs": [],
   "source": [
    "binary_columns = X_train.columns[X_train.nunique() == 2].tolist()  \n",
    "numerical_columns = [col for col in X_train.columns if col not in binary_columns]\n",
    "\n",
    "# ColumnTransformer\n",
    "preprocessor = ColumnTransformer(\n",
    "    transformers=[\n",
    "        ('num', StandardScaler(), numerical_columns)  # StandardScale\n",
    "    ], \n",
    "    remainder='passthrough'  # keep dummy variable\n",
    ")\n",
    "\n",
    "# Setup pipeline\n",
    "pipeline = Pipeline(steps=[\n",
    "    ('preprocessor', preprocessor)\n",
    "])"
   ]
  },
  {
   "cell_type": "code",
   "execution_count": 30,
   "metadata": {},
   "outputs": [],
   "source": [
    "X_train_processed = pipeline.fit_transform(X_train)\n",
    "X_test_processed = pipeline.transform(X_test)"
   ]
  },
  {
   "cell_type": "markdown",
   "metadata": {},
   "source": [
    "Inspect the processed data"
   ]
  },
  {
   "cell_type": "code",
   "execution_count": 31,
   "metadata": {},
   "outputs": [
    {
     "name": "stdout",
     "output_type": "stream",
     "text": [
      "Processed Train Dataset：\n",
      "   Engine Size(L)  Cylinders  Gearbox_Type  Gearbox_Number  \\\n",
      "0        0.612690   0.200638     -1.602571        0.771485   \n",
      "1       -0.567895  -0.889172     -0.750938       -0.943120   \n",
      "2       -0.863042  -0.889172      0.952329       -0.544375   \n",
      "3       -0.494109  -0.889172     -0.750938       -0.703873   \n",
      "4        1.350555   1.290448      0.952329        1.010732   \n",
      "\n",
      "   Energy Consumption per Distance MJ/100km  \\\n",
      "0                                       1.0   \n",
      "1                                       1.0   \n",
      "2                                       1.0   \n",
      "3                                       1.0   \n",
      "4                                       1.0   \n",
      "\n",
      "   Model Features_Flexible-fuel vehicle  Model Features_Four-wheel drive  \\\n",
      "0                                   0.0                              0.0   \n",
      "1                                   0.0                              0.0   \n",
      "2                                   0.0                              0.0   \n",
      "3                                   0.0                              0.0   \n",
      "4                                   0.0                              0.0   \n",
      "\n",
      "   Model Features_Long wheelbase  Model Features_Short wheelbase  \\\n",
      "0                            0.0                             0.0   \n",
      "1                            0.0                             0.0   \n",
      "2                            0.0                             0.0   \n",
      "3                            0.0                             0.0   \n",
      "4                            1.0                             0.0   \n",
      "\n",
      "   Vehicle Class_FULL-SIZE  ...  Vehicle Class_STATION WAGON - SMALL  \\\n",
      "0                      0.0  ...                                  0.0   \n",
      "1                      1.0  ...                                  0.0   \n",
      "2                      0.0  ...                                  0.0   \n",
      "3                      0.0  ...                                  0.0   \n",
      "4                      1.0  ...                                  0.0   \n",
      "\n",
      "   Vehicle Class_SUBCOMPACT  Vehicle Class_SUV - SMALL  \\\n",
      "0                       0.0                        0.0   \n",
      "1                       0.0                        0.0   \n",
      "2                       1.0                        0.0   \n",
      "3                       0.0                        1.0   \n",
      "4                       0.0                        0.0   \n",
      "\n",
      "   Vehicle Class_SUV - STANDARD  Vehicle Class_TWO-SEATER  \\\n",
      "0                           0.0                       0.0   \n",
      "1                           0.0                       0.0   \n",
      "2                           0.0                       0.0   \n",
      "3                           0.0                       0.0   \n",
      "4                           0.0                       0.0   \n",
      "\n",
      "   Vehicle Class_VAN - CARGO  Vehicle Class_VAN - PASSENGER  Fuel Type_E  \\\n",
      "0                        0.0                            0.0          0.0   \n",
      "1                        0.0                            0.0          0.0   \n",
      "2                        0.0                            0.0          0.0   \n",
      "3                        0.0                            0.0          0.0   \n",
      "4                        0.0                            0.0          0.0   \n",
      "\n",
      "   Fuel Type_X  Fuel Type_Z  \n",
      "0          1.0          0.0  \n",
      "1          1.0          0.0  \n",
      "2          0.0          1.0  \n",
      "3          1.0          0.0  \n",
      "4          0.0          1.0  \n",
      "\n",
      "[5 rows x 27 columns]\n",
      "Processed Test Dataset：\n",
      "   Engine Size(L)  Cylinders  Gearbox_Type  Gearbox_Number  \\\n",
      "0        2.235994   1.290448      0.100696        1.927846   \n",
      "1        0.317543   0.200638     -0.750938        0.731610   \n",
      "2        0.760263   1.290448     -0.750938        2.326591   \n",
      "3       -0.863042  -0.889172      0.952329       -0.703873   \n",
      "4       -1.010615  -0.889172     -0.750938       -1.022869   \n",
      "\n",
      "   Energy Consumption per Distance MJ/100km  \\\n",
      "0                                       0.0   \n",
      "1                                       1.0   \n",
      "2                                       0.0   \n",
      "3                                       1.0   \n",
      "4                                       1.0   \n",
      "\n",
      "   Model Features_Flexible-fuel vehicle  Model Features_Four-wheel drive  \\\n",
      "0                                   0.0                              0.0   \n",
      "1                                   0.0                              0.0   \n",
      "2                                   0.0                              0.0   \n",
      "3                                   0.0                              0.0   \n",
      "4                                   0.0                              0.0   \n",
      "\n",
      "   Model Features_Long wheelbase  Model Features_Short wheelbase  \\\n",
      "0                            0.0                             0.0   \n",
      "1                            0.0                             0.0   \n",
      "2                            0.0                             0.0   \n",
      "3                            0.0                             0.0   \n",
      "4                            0.0                             0.0   \n",
      "\n",
      "   Vehicle Class_FULL-SIZE  ...  Vehicle Class_STATION WAGON - SMALL  \\\n",
      "0                      0.0  ...                                  0.0   \n",
      "1                      0.0  ...                                  0.0   \n",
      "2                      0.0  ...                                  0.0   \n",
      "3                      0.0  ...                                  0.0   \n",
      "4                      0.0  ...                                  1.0   \n",
      "\n",
      "   Vehicle Class_SUBCOMPACT  Vehicle Class_SUV - SMALL  \\\n",
      "0                       0.0                        0.0   \n",
      "1                       0.0                        1.0   \n",
      "2                       0.0                        0.0   \n",
      "3                       0.0                        1.0   \n",
      "4                       0.0                        0.0   \n",
      "\n",
      "   Vehicle Class_SUV - STANDARD  Vehicle Class_TWO-SEATER  \\\n",
      "0                           0.0                       1.0   \n",
      "1                           0.0                       0.0   \n",
      "2                           0.0                       1.0   \n",
      "3                           0.0                       0.0   \n",
      "4                           0.0                       0.0   \n",
      "\n",
      "   Vehicle Class_VAN - CARGO  Vehicle Class_VAN - PASSENGER  Fuel Type_E  \\\n",
      "0                        0.0                            0.0          0.0   \n",
      "1                        0.0                            0.0          0.0   \n",
      "2                        0.0                            0.0          0.0   \n",
      "3                        0.0                            0.0          0.0   \n",
      "4                        0.0                            0.0          0.0   \n",
      "\n",
      "   Fuel Type_X  Fuel Type_Z  \n",
      "0          0.0          1.0  \n",
      "1          1.0          0.0  \n",
      "2          0.0          1.0  \n",
      "3          0.0          1.0  \n",
      "4          1.0          0.0  \n",
      "\n",
      "[5 rows x 27 columns]\n"
     ]
    }
   ],
   "source": [
    "feature_names = list(X_train) \n",
    "X_train_df = pd.DataFrame(X_train_processed, columns=feature_names)\n",
    "\n",
    "X_test_df = pd.DataFrame(X_test_processed, columns=feature_names)\n",
    "\n",
    "print(\"Processed Train Dataset：\")\n",
    "print(X_train_df.head())\n",
    "\n",
    "print(\"Processed Test Dataset：\")\n",
    "print(X_test_df.head())\n"
   ]
  },
  {
   "cell_type": "code",
   "execution_count": 32,
   "metadata": {},
   "outputs": [],
   "source": [
    "# Prepare the Dataloader\n",
    "import torch\n",
    "import torch.nn as nn\n",
    "from torch.utils.data import DataLoader, TensorDataset\n",
    "\n",
    "# Convert data to Tensor\n",
    "X_train_tensor = torch.tensor(X_train_processed, dtype=torch.float32) \n",
    "y_train_tensor = torch.tensor(y_train.values, dtype=torch.float32).view(-1, 1)\n",
    "\n",
    "X_val_tensor = torch.tensor(X_test_processed, dtype=torch.float32)\n",
    "y_test_tensor = torch.tensor(y_test.values, dtype=torch.float32).view(-1, 1)\n",
    "\n",
    "# Load the training data and validation data\n",
    "train_dataset = TensorDataset(X_train_tensor, y_train_tensor)\n",
    "test_dataset = TensorDataset(X_val_tensor,y_test_tensor)\n",
    "\n",
    "# Set hyperparameters\n",
    "batch_size = 64  # batch size\n",
    "\n",
    "# Create data loader\n",
    "train_Loader = DataLoader(dataset=train_dataset, batch_size=batch_size, shuffle=True)\n",
    "test_Loader = DataLoader(dataset=test_dataset, batch_size=batch_size, shuffle=False)\n",
    "\n"
   ]
  },
  {
   "cell_type": "markdown",
   "metadata": {},
   "source": [
    "## 3 Best Models"
   ]
  },
  {
   "cell_type": "markdown",
   "metadata": {},
   "source": [
    "#### Pre: k-fold Import K-fold Cross-validation Method"
   ]
  },
  {
   "cell_type": "code",
   "execution_count": 33,
   "metadata": {},
   "outputs": [],
   "source": [
    "from sklearn.model_selection import KFold\n",
    "\n",
    "k_fold = KFold(n_splits=20, shuffle=True, random_state=42) # Set randon seed to make sure the results are reproducible"
   ]
  },
  {
   "cell_type": "markdown",
   "metadata": {},
   "source": [
    "Import metrics"
   ]
  },
  {
   "cell_type": "code",
   "execution_count": 34,
   "metadata": {},
   "outputs": [],
   "source": [
    "from sklearn.linear_model import LinearRegression\n",
    "from sklearn.metrics import mean_squared_error, r2_score, mean_absolute_error, mean_absolute_percentage_error"
   ]
  },
  {
   "cell_type": "markdown",
   "metadata": {},
   "source": [
    "### 3.1 Neural Network Model"
   ]
  },
  {
   "cell_type": "markdown",
   "metadata": {},
   "source": [
    "#### 3.1.1 Use W&B Grid Search to Find Best NN Parameter Set"
   ]
  },
  {
   "cell_type": "code",
   "execution_count": 35,
   "metadata": {},
   "outputs": [
    {
     "name": "stderr",
     "output_type": "stream",
     "text": [
      "wandb: WARNING Calling wandb.login() after wandb.init() has no effect.\n"
     ]
    },
    {
     "data": {
      "text/plain": [
       "True"
      ]
     },
     "execution_count": 35,
     "metadata": {},
     "output_type": "execute_result"
    }
   ],
   "source": [
    "import wandb\n",
    "\n",
    "wandb.login(key=\"47ea61c7ee69e2e0e1cc46ed5c31bd6168f9f9db\")"
   ]
  },
  {
   "cell_type": "markdown",
   "metadata": {},
   "source": [
    "Neural Network Structure"
   ]
  },
  {
   "cell_type": "code",
   "execution_count": 36,
   "metadata": {},
   "outputs": [],
   "source": [
    "class MultiLayerPerceptron(nn.Module):\n",
    "\n",
    "    def __init__(self, input_size, hidden_size, num_layers, output_size):\n",
    "        super(MultiLayerPerceptron, self).__init__()\n",
    "\n",
    "        # Initialise an empty list to hold layers\n",
    "        layers = []\n",
    "\n",
    "        # First layer: input to hidden\n",
    "        layers.append(nn.Linear(input_size, hidden_size))\n",
    "        layers.append(nn.ReLU())\n",
    "\n",
    "        # Additional hidden layers\n",
    "        for _ in range(num_layers - 1):\n",
    "            layers.append(nn.Linear(hidden_size, hidden_size))\n",
    "            layers.append(nn.ReLU())\n",
    "            \n",
    "        # Output layer: hidden to output\n",
    "        layers.append(nn.Linear(hidden_size, output_size))\n",
    "        self.model = nn.Sequential(*layers)\n",
    "\n",
    "    def forward(self, x):\n",
    "        return self.model(x)"
   ]
  },
  {
   "cell_type": "code",
   "execution_count": 37,
   "metadata": {},
   "outputs": [],
   "source": [
    "from torch.utils.data import random_split\n",
    "\n",
    "# Calculate the sizes for train and validation splits\n",
    "num_total = len(train_dataset)\n",
    "num_train = int(0.9 * num_total)\n",
    "num_val = num_total - num_train\n",
    "\n",
    "# Split the dataset\n",
    "train_subset, val_subset = random_split(train_dataset, [num_train, num_val])\n",
    "\n",
    "# Create DataLoaders for each subset\n",
    "train_Loader = DataLoader(train_subset, batch_size=64, shuffle=True)\n",
    "val_Loader = DataLoader(val_subset, batch_size=64, shuffle=False)"
   ]
  },
  {
   "cell_type": "code",
   "execution_count": 38,
   "metadata": {},
   "outputs": [],
   "source": [
    "# Hyperparameter grid\n",
    "hidden_units_options = [32, 64, 128]    # Numbers of neurons in each hidden layer\n",
    "hidden_layers_options = [2, 3, 4]       # Numbers of hidden layers\n",
    "learning_rates = [0.1, 0.01, 0.001]     # Learning rates\n",
    "\n",
    "max_epochs = 200  # Arbitrarily large; early stopping will likely stop earlier.\n",
    "patience = 5      # Early stopping patience\n",
    "\n",
    "input_size =  X_train_processed.shape[1]   # Input size \n",
    "output_size = 1             # Output size\n",
    "\n",
    "learning_rate = 0.02        # Learning rate\n",
    "n_epochs = 100 # Numebr of epochs\n",
    "\n",
    "# Define the loss function and the optimizer\n",
    "criterion = nn.MSELoss()    # Mean Squared Error for Linear Regression\n"
   ]
  },
  {
   "cell_type": "code",
   "execution_count": 39,
   "metadata": {},
   "outputs": [],
   "source": [
    "# Define helper functions\n",
    "# Train epoch function\n",
    "def train_epoch(model, train_loader, criterion, optimizer, device):\n",
    "    model.train()\n",
    "    running_loss = 0.0\n",
    "\n",
    "    # for features, target in tqdm(train_loader, desc=f\"Training Epoch {epoch+1}\"):\n",
    "    for features, target in train_loader:\n",
    "        features, target = features.to(device), target.to(device)\n",
    "\n",
    "        optimizer.zero_grad()\n",
    "        outputs = model(features) # Forward pass\n",
    "        loss = criterion(outputs, target)\n",
    "\n",
    "        loss.backward()  # Backward pass\n",
    "        optimizer.step() # Update the weights\n",
    "\n",
    "        running_loss += loss.item() * features.size(0)\n",
    "\n",
    "    return running_loss / len(train_loader.dataset)\n",
    "\n",
    "# Validation epoch function\n",
    "def val_epoch(model, val_loader, criterion, device):\n",
    "    model.eval()\n",
    "    val_loss = 0.0\n",
    "\n",
    "    with torch.no_grad():\n",
    "        for features, target in val_loader:\n",
    "            # print(featuresfeatures.size(0))\n",
    "            features, target = features.to(device), target.to(device)\n",
    "            # features = features.view(features.size(0), -1)\n",
    "\n",
    "            outputs = model(features)\n",
    "            loss = criterion(outputs, target)\n",
    "            val_loss += loss.item() * features.size(0)\n",
    "\n",
    "    return val_loss / len(val_loader.dataset)\n",
    "\n"
   ]
  },
  {
   "cell_type": "code",
   "execution_count": 40,
   "metadata": {},
   "outputs": [
    {
     "data": {
      "text/html": [],
      "text/plain": [
       "<IPython.core.display.HTML object>"
      ]
     },
     "metadata": {},
     "output_type": "display_data"
    },
    {
     "data": {
      "text/html": [
       "<br>    <style><br>        .wandb-row {<br>            display: flex;<br>            flex-direction: row;<br>            flex-wrap: wrap;<br>            justify-content: flex-start;<br>            width: 100%;<br>        }<br>        .wandb-col {<br>            display: flex;<br>            flex-direction: column;<br>            flex-basis: 100%;<br>            flex: 1;<br>            padding: 10px;<br>        }<br>    </style><br><div class=\"wandb-row\"><div class=\"wandb-col\"><h3>Run history:</h3><br/><table class=\"wandb\"><tr><td>epoch</td><td>▁▁▂▂▃▃▄▄▅▅▆▆▇▇██</td></tr><tr><td>train_loss</td><td>█▁▁▁▁▁▁▁▁▁▁▁▁▁▁▁</td></tr><tr><td>val_loss</td><td>█▄▂▂▂▂▁▁▁▁▁▁▁▁▁▁</td></tr></table><br/></div><div class=\"wandb-col\"><h3>Run summary:</h3><br/><table class=\"wandb\"><tr><td>epoch</td><td>16</td></tr><tr><td>train_loss</td><td>12.29559</td></tr><tr><td>val_loss</td><td>14.96132</td></tr></table><br/></div></div>"
      ],
      "text/plain": [
       "<IPython.core.display.HTML object>"
      ]
     },
     "metadata": {},
     "output_type": "display_data"
    },
    {
     "data": {
      "text/html": [
       " View run <strong style=\"color:#cdcd00\">electric-haze-141</strong> at: <a href='https://wandb.ai/yixuan228-imperial-college-london/DE_Groupwork_G4_stage1/runs/bo0sw4ho' target=\"_blank\">https://wandb.ai/yixuan228-imperial-college-london/DE_Groupwork_G4_stage1/runs/bo0sw4ho</a><br> View project at: <a href='https://wandb.ai/yixuan228-imperial-college-london/DE_Groupwork_G4_stage1' target=\"_blank\">https://wandb.ai/yixuan228-imperial-college-london/DE_Groupwork_G4_stage1</a><br>Synced 5 W&B file(s), 0 media file(s), 0 artifact file(s) and 0 other file(s)"
      ],
      "text/plain": [
       "<IPython.core.display.HTML object>"
      ]
     },
     "metadata": {},
     "output_type": "display_data"
    },
    {
     "data": {
      "text/html": [
       "Find logs at: <code>.\\wandb\\run-20250321_072144-bo0sw4ho\\logs</code>"
      ],
      "text/plain": [
       "<IPython.core.display.HTML object>"
      ]
     },
     "metadata": {},
     "output_type": "display_data"
    },
    {
     "data": {
      "text/html": [
       "Tracking run with wandb version 0.19.7"
      ],
      "text/plain": [
       "<IPython.core.display.HTML object>"
      ]
     },
     "metadata": {},
     "output_type": "display_data"
    },
    {
     "data": {
      "text/html": [
       "Run data is saved locally in <code>d:\\Projects\\MSc_DE_GroupWork4\\Scripts\\wandb\\run-20250321_072207-wfru171d</code>"
      ],
      "text/plain": [
       "<IPython.core.display.HTML object>"
      ]
     },
     "metadata": {},
     "output_type": "display_data"
    },
    {
     "data": {
      "text/html": [
       "Syncing run <strong><a href='https://wandb.ai/yixuan228-imperial-college-london/DE_Groupwork_G4_stage2/runs/wfru171d' target=\"_blank\">radiant-bird-1</a></strong> to <a href='https://wandb.ai/yixuan228-imperial-college-london/DE_Groupwork_G4_stage2' target=\"_blank\">Weights & Biases</a> (<a href='https://wandb.me/developer-guide' target=\"_blank\">docs</a>)<br>"
      ],
      "text/plain": [
       "<IPython.core.display.HTML object>"
      ]
     },
     "metadata": {},
     "output_type": "display_data"
    },
    {
     "data": {
      "text/html": [
       " View project at <a href='https://wandb.ai/yixuan228-imperial-college-london/DE_Groupwork_G4_stage2' target=\"_blank\">https://wandb.ai/yixuan228-imperial-college-london/DE_Groupwork_G4_stage2</a>"
      ],
      "text/plain": [
       "<IPython.core.display.HTML object>"
      ]
     },
     "metadata": {},
     "output_type": "display_data"
    },
    {
     "data": {
      "text/html": [
       " View run at <a href='https://wandb.ai/yixuan228-imperial-college-london/DE_Groupwork_G4_stage2/runs/wfru171d' target=\"_blank\">https://wandb.ai/yixuan228-imperial-college-london/DE_Groupwork_G4_stage2/runs/wfru171d</a>"
      ],
      "text/plain": [
       "<IPython.core.display.HTML object>"
      ]
     },
     "metadata": {},
     "output_type": "display_data"
    },
    {
     "name": "stdout",
     "output_type": "stream",
     "text": [
      "Epoch 001 | Train Loss: 5055.8113 | Val Loss: 386.5393\n",
      "Epoch 002 | Train Loss: 200.6517 | Val Loss: 275.0912\n",
      "Epoch 003 | Train Loss: 137.1461 | Val Loss: 78.3422\n",
      "Epoch 004 | Train Loss: 48.3149 | Val Loss: 42.4066\n",
      "Epoch 005 | Train Loss: 25.8812 | Val Loss: 22.2532\n",
      "Epoch 006 | Train Loss: 17.4433 | Val Loss: 24.2385\n",
      "Epoch 007 | Train Loss: 17.7920 | Val Loss: 28.1264\n",
      "Epoch 008 | Train Loss: 21.3657 | Val Loss: 16.2238\n",
      "Epoch 009 | Train Loss: 19.8021 | Val Loss: 13.7176\n",
      "Epoch 010 | Train Loss: 41.8537 | Val Loss: 24.6258\n",
      "Epoch 011 | Train Loss: 33.2945 | Val Loss: 17.4210\n",
      "Epoch 012 | Train Loss: 25.4260 | Val Loss: 40.5830\n",
      "Epoch 013 | Train Loss: 20.3944 | Val Loss: 29.6083\n",
      "Epoch 014 | Train Loss: 16.8619 | Val Loss: 27.4245\n",
      "Early stopping triggered at epoch 14\n"
     ]
    },
    {
     "data": {
      "text/html": [],
      "text/plain": [
       "<IPython.core.display.HTML object>"
      ]
     },
     "metadata": {},
     "output_type": "display_data"
    },
    {
     "data": {
      "text/html": [
       "<br>    <style><br>        .wandb-row {<br>            display: flex;<br>            flex-direction: row;<br>            flex-wrap: wrap;<br>            justify-content: flex-start;<br>            width: 100%;<br>        }<br>        .wandb-col {<br>            display: flex;<br>            flex-direction: column;<br>            flex-basis: 100%;<br>            flex: 1;<br>            padding: 10px;<br>        }<br>    </style><br><div class=\"wandb-row\"><div class=\"wandb-col\"><h3>Run history:</h3><br/><table class=\"wandb\"><tr><td>epoch</td><td>▁▂▂▃▃▄▄▅▅▆▆▇▇█</td></tr><tr><td>train_loss</td><td>█▁▁▁▁▁▁▁▁▁▁▁▁▁</td></tr><tr><td>val_loss</td><td>█▆▂▂▁▁▁▁▁▁▁▂▁▁</td></tr></table><br/></div><div class=\"wandb-col\"><h3>Run summary:</h3><br/><table class=\"wandb\"><tr><td>epoch</td><td>14</td></tr><tr><td>train_loss</td><td>16.86189</td></tr><tr><td>val_loss</td><td>27.42452</td></tr></table><br/></div></div>"
      ],
      "text/plain": [
       "<IPython.core.display.HTML object>"
      ]
     },
     "metadata": {},
     "output_type": "display_data"
    },
    {
     "data": {
      "text/html": [
       " View run <strong style=\"color:#cdcd00\">radiant-bird-1</strong> at: <a href='https://wandb.ai/yixuan228-imperial-college-london/DE_Groupwork_G4_stage2/runs/wfru171d' target=\"_blank\">https://wandb.ai/yixuan228-imperial-college-london/DE_Groupwork_G4_stage2/runs/wfru171d</a><br> View project at: <a href='https://wandb.ai/yixuan228-imperial-college-london/DE_Groupwork_G4_stage2' target=\"_blank\">https://wandb.ai/yixuan228-imperial-college-london/DE_Groupwork_G4_stage2</a><br>Synced 5 W&B file(s), 0 media file(s), 0 artifact file(s) and 0 other file(s)"
      ],
      "text/plain": [
       "<IPython.core.display.HTML object>"
      ]
     },
     "metadata": {},
     "output_type": "display_data"
    },
    {
     "data": {
      "text/html": [
       "Find logs at: <code>.\\wandb\\run-20250321_072207-wfru171d\\logs</code>"
      ],
      "text/plain": [
       "<IPython.core.display.HTML object>"
      ]
     },
     "metadata": {},
     "output_type": "display_data"
    },
    {
     "data": {
      "text/html": [
       "Tracking run with wandb version 0.19.7"
      ],
      "text/plain": [
       "<IPython.core.display.HTML object>"
      ]
     },
     "metadata": {},
     "output_type": "display_data"
    },
    {
     "data": {
      "text/html": [
       "Run data is saved locally in <code>d:\\Projects\\MSc_DE_GroupWork4\\Scripts\\wandb\\run-20250321_072215-cx6wa1rm</code>"
      ],
      "text/plain": [
       "<IPython.core.display.HTML object>"
      ]
     },
     "metadata": {},
     "output_type": "display_data"
    },
    {
     "data": {
      "text/html": [
       "Syncing run <strong><a href='https://wandb.ai/yixuan228-imperial-college-london/DE_Groupwork_G4_stage2/runs/cx6wa1rm' target=\"_blank\">jolly-wind-2</a></strong> to <a href='https://wandb.ai/yixuan228-imperial-college-london/DE_Groupwork_G4_stage2' target=\"_blank\">Weights & Biases</a> (<a href='https://wandb.me/developer-guide' target=\"_blank\">docs</a>)<br>"
      ],
      "text/plain": [
       "<IPython.core.display.HTML object>"
      ]
     },
     "metadata": {},
     "output_type": "display_data"
    },
    {
     "data": {
      "text/html": [
       " View project at <a href='https://wandb.ai/yixuan228-imperial-college-london/DE_Groupwork_G4_stage2' target=\"_blank\">https://wandb.ai/yixuan228-imperial-college-london/DE_Groupwork_G4_stage2</a>"
      ],
      "text/plain": [
       "<IPython.core.display.HTML object>"
      ]
     },
     "metadata": {},
     "output_type": "display_data"
    },
    {
     "data": {
      "text/html": [
       " View run at <a href='https://wandb.ai/yixuan228-imperial-college-london/DE_Groupwork_G4_stage2/runs/cx6wa1rm' target=\"_blank\">https://wandb.ai/yixuan228-imperial-college-london/DE_Groupwork_G4_stage2/runs/cx6wa1rm</a>"
      ],
      "text/plain": [
       "<IPython.core.display.HTML object>"
      ]
     },
     "metadata": {},
     "output_type": "display_data"
    },
    {
     "name": "stdout",
     "output_type": "stream",
     "text": [
      "Epoch 001 | Train Loss: 24931.2334 | Val Loss: 1172.4511\n",
      "Epoch 002 | Train Loss: 774.2374 | Val Loss: 602.1252\n",
      "Epoch 003 | Train Loss: 471.1455 | Val Loss: 427.7222\n",
      "Epoch 004 | Train Loss: 326.8845 | Val Loss: 312.3690\n",
      "Epoch 005 | Train Loss: 243.7172 | Val Loss: 236.6762\n",
      "Epoch 006 | Train Loss: 188.0148 | Val Loss: 189.4634\n",
      "Epoch 007 | Train Loss: 157.3184 | Val Loss: 152.0116\n",
      "Epoch 008 | Train Loss: 119.3719 | Val Loss: 121.8517\n",
      "Epoch 009 | Train Loss: 97.4712 | Val Loss: 98.4290\n",
      "Epoch 010 | Train Loss: 72.9526 | Val Loss: 77.0494\n",
      "Epoch 011 | Train Loss: 55.7185 | Val Loss: 57.2192\n",
      "Epoch 012 | Train Loss: 41.5780 | Val Loss: 41.6517\n",
      "Epoch 013 | Train Loss: 29.3068 | Val Loss: 29.3581\n",
      "Epoch 014 | Train Loss: 21.8768 | Val Loss: 21.2008\n",
      "Epoch 015 | Train Loss: 16.8403 | Val Loss: 15.9695\n",
      "Epoch 016 | Train Loss: 13.8282 | Val Loss: 13.9426\n",
      "Epoch 017 | Train Loss: 12.0578 | Val Loss: 12.8645\n",
      "Epoch 018 | Train Loss: 10.8648 | Val Loss: 10.5243\n",
      "Epoch 019 | Train Loss: 10.3256 | Val Loss: 11.0264\n",
      "Epoch 020 | Train Loss: 10.2163 | Val Loss: 10.4730\n",
      "Epoch 021 | Train Loss: 10.3845 | Val Loss: 15.8702\n",
      "Epoch 022 | Train Loss: 10.3904 | Val Loss: 10.4868\n",
      "Epoch 023 | Train Loss: 9.7980 | Val Loss: 9.4148\n",
      "Epoch 024 | Train Loss: 9.4927 | Val Loss: 15.8490\n",
      "Epoch 025 | Train Loss: 10.1062 | Val Loss: 9.8448\n",
      "Epoch 026 | Train Loss: 10.2992 | Val Loss: 9.6821\n",
      "Epoch 027 | Train Loss: 10.6750 | Val Loss: 9.2248\n",
      "Epoch 028 | Train Loss: 9.6038 | Val Loss: 10.8976\n",
      "Epoch 029 | Train Loss: 10.1234 | Val Loss: 10.7156\n",
      "Epoch 030 | Train Loss: 9.5817 | Val Loss: 9.4249\n",
      "Epoch 031 | Train Loss: 9.8165 | Val Loss: 9.3118\n",
      "Epoch 032 | Train Loss: 10.0451 | Val Loss: 12.9918\n",
      "Early stopping triggered at epoch 32\n"
     ]
    },
    {
     "data": {
      "text/html": [],
      "text/plain": [
       "<IPython.core.display.HTML object>"
      ]
     },
     "metadata": {},
     "output_type": "display_data"
    },
    {
     "data": {
      "text/html": [
       "<br>    <style><br>        .wandb-row {<br>            display: flex;<br>            flex-direction: row;<br>            flex-wrap: wrap;<br>            justify-content: flex-start;<br>            width: 100%;<br>        }<br>        .wandb-col {<br>            display: flex;<br>            flex-direction: column;<br>            flex-basis: 100%;<br>            flex: 1;<br>            padding: 10px;<br>        }<br>    </style><br><div class=\"wandb-row\"><div class=\"wandb-col\"><h3>Run history:</h3><br/><table class=\"wandb\"><tr><td>epoch</td><td>▁▁▁▂▂▂▂▃▃▃▃▃▄▄▄▄▅▅▅▅▆▆▆▆▆▇▇▇▇███</td></tr><tr><td>train_loss</td><td>█▁▁▁▁▁▁▁▁▁▁▁▁▁▁▁▁▁▁▁▁▁▁▁▁▁▁▁▁▁▁▁</td></tr><tr><td>val_loss</td><td>█▅▄▃▂▂▂▂▂▁▁▁▁▁▁▁▁▁▁▁▁▁▁▁▁▁▁▁▁▁▁▁</td></tr></table><br/></div><div class=\"wandb-col\"><h3>Run summary:</h3><br/><table class=\"wandb\"><tr><td>epoch</td><td>32</td></tr><tr><td>train_loss</td><td>10.04514</td></tr><tr><td>val_loss</td><td>12.99181</td></tr></table><br/></div></div>"
      ],
      "text/plain": [
       "<IPython.core.display.HTML object>"
      ]
     },
     "metadata": {},
     "output_type": "display_data"
    },
    {
     "data": {
      "text/html": [
       " View run <strong style=\"color:#cdcd00\">jolly-wind-2</strong> at: <a href='https://wandb.ai/yixuan228-imperial-college-london/DE_Groupwork_G4_stage2/runs/cx6wa1rm' target=\"_blank\">https://wandb.ai/yixuan228-imperial-college-london/DE_Groupwork_G4_stage2/runs/cx6wa1rm</a><br> View project at: <a href='https://wandb.ai/yixuan228-imperial-college-london/DE_Groupwork_G4_stage2' target=\"_blank\">https://wandb.ai/yixuan228-imperial-college-london/DE_Groupwork_G4_stage2</a><br>Synced 5 W&B file(s), 0 media file(s), 0 artifact file(s) and 0 other file(s)"
      ],
      "text/plain": [
       "<IPython.core.display.HTML object>"
      ]
     },
     "metadata": {},
     "output_type": "display_data"
    },
    {
     "data": {
      "text/html": [
       "Find logs at: <code>.\\wandb\\run-20250321_072215-cx6wa1rm\\logs</code>"
      ],
      "text/plain": [
       "<IPython.core.display.HTML object>"
      ]
     },
     "metadata": {},
     "output_type": "display_data"
    },
    {
     "data": {
      "text/html": [
       "Tracking run with wandb version 0.19.7"
      ],
      "text/plain": [
       "<IPython.core.display.HTML object>"
      ]
     },
     "metadata": {},
     "output_type": "display_data"
    },
    {
     "data": {
      "text/html": [
       "Run data is saved locally in <code>d:\\Projects\\MSc_DE_GroupWork4\\Scripts\\wandb\\run-20250321_072223-5ck83zxx</code>"
      ],
      "text/plain": [
       "<IPython.core.display.HTML object>"
      ]
     },
     "metadata": {},
     "output_type": "display_data"
    },
    {
     "data": {
      "text/html": [
       "Syncing run <strong><a href='https://wandb.ai/yixuan228-imperial-college-london/DE_Groupwork_G4_stage2/runs/5ck83zxx' target=\"_blank\">worthy-darkness-3</a></strong> to <a href='https://wandb.ai/yixuan228-imperial-college-london/DE_Groupwork_G4_stage2' target=\"_blank\">Weights & Biases</a> (<a href='https://wandb.me/developer-guide' target=\"_blank\">docs</a>)<br>"
      ],
      "text/plain": [
       "<IPython.core.display.HTML object>"
      ]
     },
     "metadata": {},
     "output_type": "display_data"
    },
    {
     "data": {
      "text/html": [
       " View project at <a href='https://wandb.ai/yixuan228-imperial-college-london/DE_Groupwork_G4_stage2' target=\"_blank\">https://wandb.ai/yixuan228-imperial-college-london/DE_Groupwork_G4_stage2</a>"
      ],
      "text/plain": [
       "<IPython.core.display.HTML object>"
      ]
     },
     "metadata": {},
     "output_type": "display_data"
    },
    {
     "data": {
      "text/html": [
       " View run at <a href='https://wandb.ai/yixuan228-imperial-college-london/DE_Groupwork_G4_stage2/runs/5ck83zxx' target=\"_blank\">https://wandb.ai/yixuan228-imperial-college-london/DE_Groupwork_G4_stage2/runs/5ck83zxx</a>"
      ],
      "text/plain": [
       "<IPython.core.display.HTML object>"
      ]
     },
     "metadata": {},
     "output_type": "display_data"
    },
    {
     "name": "stdout",
     "output_type": "stream",
     "text": [
      "Epoch 001 | Train Loss: 65733.8740 | Val Loss: 62547.0431\n",
      "Epoch 002 | Train Loss: 54868.6784 | Val Loss: 40163.0229\n",
      "Epoch 003 | Train Loss: 22379.5253 | Val Loss: 7416.2575\n",
      "Epoch 004 | Train Loss: 3092.0431 | Val Loss: 1674.6059\n",
      "Epoch 005 | Train Loss: 1426.6955 | Val Loss: 1359.6101\n",
      "Epoch 006 | Train Loss: 1209.4802 | Val Loss: 1180.1064\n",
      "Epoch 007 | Train Loss: 1061.6001 | Val Loss: 1052.1785\n",
      "Epoch 008 | Train Loss: 953.9952 | Val Loss: 955.6991\n",
      "Epoch 009 | Train Loss: 869.2766 | Val Loss: 872.6750\n",
      "Epoch 010 | Train Loss: 798.9139 | Val Loss: 808.8172\n",
      "Epoch 011 | Train Loss: 740.0178 | Val Loss: 751.0069\n",
      "Epoch 012 | Train Loss: 686.8102 | Val Loss: 700.4809\n",
      "Epoch 013 | Train Loss: 641.6717 | Val Loss: 657.3572\n",
      "Epoch 014 | Train Loss: 601.0944 | Val Loss: 616.1982\n",
      "Epoch 015 | Train Loss: 563.8349 | Val Loss: 582.8534\n",
      "Epoch 016 | Train Loss: 529.2181 | Val Loss: 548.2846\n",
      "Epoch 017 | Train Loss: 497.1217 | Val Loss: 517.1481\n",
      "Epoch 018 | Train Loss: 467.3126 | Val Loss: 487.8445\n",
      "Epoch 019 | Train Loss: 439.4250 | Val Loss: 462.3403\n",
      "Epoch 020 | Train Loss: 414.6153 | Val Loss: 437.3093\n",
      "Epoch 021 | Train Loss: 391.8159 | Val Loss: 418.8632\n",
      "Epoch 022 | Train Loss: 369.7392 | Val Loss: 395.3678\n",
      "Epoch 023 | Train Loss: 348.6933 | Val Loss: 373.6072\n",
      "Epoch 024 | Train Loss: 330.2857 | Val Loss: 356.2099\n",
      "Epoch 025 | Train Loss: 312.9517 | Val Loss: 340.0932\n",
      "Epoch 026 | Train Loss: 297.2223 | Val Loss: 324.5738\n",
      "Epoch 027 | Train Loss: 282.4540 | Val Loss: 309.6708\n",
      "Epoch 028 | Train Loss: 268.6445 | Val Loss: 296.6500\n",
      "Epoch 029 | Train Loss: 256.3482 | Val Loss: 283.3611\n",
      "Epoch 030 | Train Loss: 245.1475 | Val Loss: 272.4097\n",
      "Epoch 031 | Train Loss: 233.1176 | Val Loss: 259.8490\n",
      "Epoch 032 | Train Loss: 222.4301 | Val Loss: 249.8472\n",
      "Epoch 033 | Train Loss: 212.8719 | Val Loss: 239.8491\n",
      "Epoch 034 | Train Loss: 203.4345 | Val Loss: 229.3209\n",
      "Epoch 035 | Train Loss: 193.9398 | Val Loss: 218.9656\n",
      "Epoch 036 | Train Loss: 185.3976 | Val Loss: 210.2409\n",
      "Epoch 037 | Train Loss: 176.7156 | Val Loss: 203.3831\n",
      "Epoch 038 | Train Loss: 168.7482 | Val Loss: 192.4288\n",
      "Epoch 039 | Train Loss: 160.9277 | Val Loss: 182.9280\n",
      "Epoch 040 | Train Loss: 153.6293 | Val Loss: 176.0375\n",
      "Epoch 041 | Train Loss: 146.2206 | Val Loss: 167.2379\n",
      "Epoch 042 | Train Loss: 139.3832 | Val Loss: 159.5554\n",
      "Epoch 043 | Train Loss: 131.8866 | Val Loss: 151.5634\n",
      "Epoch 044 | Train Loss: 125.2831 | Val Loss: 142.9082\n",
      "Epoch 045 | Train Loss: 118.3152 | Val Loss: 136.0402\n",
      "Epoch 046 | Train Loss: 111.7820 | Val Loss: 127.4282\n",
      "Epoch 047 | Train Loss: 105.6897 | Val Loss: 120.8189\n",
      "Epoch 048 | Train Loss: 99.4006 | Val Loss: 113.4374\n",
      "Epoch 049 | Train Loss: 92.9622 | Val Loss: 105.1774\n",
      "Epoch 050 | Train Loss: 86.4397 | Val Loss: 98.3086\n",
      "Epoch 051 | Train Loss: 80.4182 | Val Loss: 91.6221\n",
      "Epoch 052 | Train Loss: 74.6359 | Val Loss: 85.0610\n",
      "Epoch 053 | Train Loss: 68.8241 | Val Loss: 78.7110\n",
      "Epoch 054 | Train Loss: 63.5106 | Val Loss: 72.2530\n",
      "Epoch 055 | Train Loss: 58.3779 | Val Loss: 65.7774\n",
      "Epoch 056 | Train Loss: 53.3519 | Val Loss: 60.6106\n",
      "Epoch 057 | Train Loss: 48.7242 | Val Loss: 54.7769\n",
      "Epoch 058 | Train Loss: 43.9620 | Val Loss: 49.2959\n",
      "Epoch 059 | Train Loss: 39.8341 | Val Loss: 44.3560\n",
      "Epoch 060 | Train Loss: 35.8123 | Val Loss: 39.5450\n",
      "Epoch 061 | Train Loss: 32.0450 | Val Loss: 35.6225\n",
      "Epoch 062 | Train Loss: 28.8083 | Val Loss: 32.4411\n",
      "Epoch 063 | Train Loss: 25.8299 | Val Loss: 29.5097\n",
      "Epoch 064 | Train Loss: 23.4261 | Val Loss: 25.5529\n",
      "Epoch 065 | Train Loss: 20.9927 | Val Loss: 23.3522\n",
      "Epoch 066 | Train Loss: 19.1326 | Val Loss: 20.8191\n",
      "Epoch 067 | Train Loss: 17.3564 | Val Loss: 18.8961\n",
      "Epoch 068 | Train Loss: 15.7673 | Val Loss: 17.2866\n",
      "Epoch 069 | Train Loss: 14.4540 | Val Loss: 15.9617\n",
      "Epoch 070 | Train Loss: 13.4902 | Val Loss: 14.6459\n",
      "Epoch 071 | Train Loss: 12.4543 | Val Loss: 13.4893\n",
      "Epoch 072 | Train Loss: 11.7341 | Val Loss: 12.7414\n",
      "Epoch 073 | Train Loss: 11.2174 | Val Loss: 12.9815\n",
      "Epoch 074 | Train Loss: 10.8289 | Val Loss: 12.2862\n",
      "Epoch 075 | Train Loss: 10.1880 | Val Loss: 10.9596\n",
      "Epoch 076 | Train Loss: 9.9020 | Val Loss: 10.7409\n",
      "Epoch 077 | Train Loss: 9.6376 | Val Loss: 10.5089\n",
      "Epoch 078 | Train Loss: 9.4472 | Val Loss: 10.7966\n",
      "Epoch 079 | Train Loss: 9.4385 | Val Loss: 9.6189\n",
      "Epoch 080 | Train Loss: 9.2015 | Val Loss: 9.9472\n",
      "Epoch 081 | Train Loss: 9.3476 | Val Loss: 10.0211\n",
      "Epoch 082 | Train Loss: 8.9519 | Val Loss: 9.5060\n",
      "Epoch 083 | Train Loss: 8.9158 | Val Loss: 9.6649\n",
      "Epoch 084 | Train Loss: 8.8586 | Val Loss: 8.9783\n",
      "Epoch 085 | Train Loss: 8.7776 | Val Loss: 10.0945\n",
      "Epoch 086 | Train Loss: 9.1884 | Val Loss: 9.1228\n",
      "Epoch 087 | Train Loss: 8.7547 | Val Loss: 9.1550\n",
      "Epoch 088 | Train Loss: 8.5822 | Val Loss: 9.1650\n",
      "Epoch 089 | Train Loss: 8.5283 | Val Loss: 8.8113\n",
      "Epoch 090 | Train Loss: 8.4599 | Val Loss: 8.8944\n",
      "Epoch 091 | Train Loss: 8.4831 | Val Loss: 8.8017\n",
      "Epoch 092 | Train Loss: 8.5123 | Val Loss: 9.2100\n",
      "Epoch 093 | Train Loss: 8.5171 | Val Loss: 8.7101\n",
      "Epoch 094 | Train Loss: 8.4596 | Val Loss: 8.9577\n",
      "Epoch 095 | Train Loss: 8.4257 | Val Loss: 8.6422\n",
      "Epoch 096 | Train Loss: 8.3602 | Val Loss: 8.9368\n",
      "Epoch 097 | Train Loss: 8.5674 | Val Loss: 8.9365\n",
      "Epoch 098 | Train Loss: 8.3422 | Val Loss: 8.5355\n",
      "Epoch 099 | Train Loss: 8.4427 | Val Loss: 9.4222\n",
      "Epoch 100 | Train Loss: 8.7443 | Val Loss: 8.7164\n",
      "Epoch 101 | Train Loss: 8.4718 | Val Loss: 9.1839\n",
      "Epoch 102 | Train Loss: 8.5087 | Val Loss: 8.6988\n",
      "Epoch 103 | Train Loss: 8.5072 | Val Loss: 11.3475\n",
      "Early stopping triggered at epoch 103\n"
     ]
    },
    {
     "data": {
      "text/html": [],
      "text/plain": [
       "<IPython.core.display.HTML object>"
      ]
     },
     "metadata": {},
     "output_type": "display_data"
    },
    {
     "data": {
      "text/html": [
       "<br>    <style><br>        .wandb-row {<br>            display: flex;<br>            flex-direction: row;<br>            flex-wrap: wrap;<br>            justify-content: flex-start;<br>            width: 100%;<br>        }<br>        .wandb-col {<br>            display: flex;<br>            flex-direction: column;<br>            flex-basis: 100%;<br>            flex: 1;<br>            padding: 10px;<br>        }<br>    </style><br><div class=\"wandb-row\"><div class=\"wandb-col\"><h3>Run history:</h3><br/><table class=\"wandb\"><tr><td>epoch</td><td>▁▁▁▂▂▂▂▃▃▃▃▃▃▄▄▄▄▄▄▄▄▅▅▅▅▆▆▆▆▇▇▇▇▇▇█████</td></tr><tr><td>train_loss</td><td>█▂▁▁▁▁▁▁▁▁▁▁▁▁▁▁▁▁▁▁▁▁▁▁▁▁▁▁▁▁▁▁▁▁▁▁▁▁▁▁</td></tr><tr><td>val_loss</td><td>█▂▂▂▂▂▂▂▁▁▁▁▁▁▁▁▁▁▁▁▁▁▁▁▁▁▁▁▁▁▁▁▁▁▁▁▁▁▁▁</td></tr></table><br/></div><div class=\"wandb-col\"><h3>Run summary:</h3><br/><table class=\"wandb\"><tr><td>epoch</td><td>103</td></tr><tr><td>train_loss</td><td>8.50718</td></tr><tr><td>val_loss</td><td>11.34755</td></tr></table><br/></div></div>"
      ],
      "text/plain": [
       "<IPython.core.display.HTML object>"
      ]
     },
     "metadata": {},
     "output_type": "display_data"
    },
    {
     "data": {
      "text/html": [
       " View run <strong style=\"color:#cdcd00\">worthy-darkness-3</strong> at: <a href='https://wandb.ai/yixuan228-imperial-college-london/DE_Groupwork_G4_stage2/runs/5ck83zxx' target=\"_blank\">https://wandb.ai/yixuan228-imperial-college-london/DE_Groupwork_G4_stage2/runs/5ck83zxx</a><br> View project at: <a href='https://wandb.ai/yixuan228-imperial-college-london/DE_Groupwork_G4_stage2' target=\"_blank\">https://wandb.ai/yixuan228-imperial-college-london/DE_Groupwork_G4_stage2</a><br>Synced 5 W&B file(s), 0 media file(s), 0 artifact file(s) and 0 other file(s)"
      ],
      "text/plain": [
       "<IPython.core.display.HTML object>"
      ]
     },
     "metadata": {},
     "output_type": "display_data"
    },
    {
     "data": {
      "text/html": [
       "Find logs at: <code>.\\wandb\\run-20250321_072223-5ck83zxx\\logs</code>"
      ],
      "text/plain": [
       "<IPython.core.display.HTML object>"
      ]
     },
     "metadata": {},
     "output_type": "display_data"
    },
    {
     "data": {
      "text/html": [
       "Tracking run with wandb version 0.19.7"
      ],
      "text/plain": [
       "<IPython.core.display.HTML object>"
      ]
     },
     "metadata": {},
     "output_type": "display_data"
    },
    {
     "data": {
      "text/html": [
       "Run data is saved locally in <code>d:\\Projects\\MSc_DE_GroupWork4\\Scripts\\wandb\\run-20250321_072245-v6dl93p1</code>"
      ],
      "text/plain": [
       "<IPython.core.display.HTML object>"
      ]
     },
     "metadata": {},
     "output_type": "display_data"
    },
    {
     "data": {
      "text/html": [
       "Syncing run <strong><a href='https://wandb.ai/yixuan228-imperial-college-london/DE_Groupwork_G4_stage2/runs/v6dl93p1' target=\"_blank\">eager-terrain-4</a></strong> to <a href='https://wandb.ai/yixuan228-imperial-college-london/DE_Groupwork_G4_stage2' target=\"_blank\">Weights & Biases</a> (<a href='https://wandb.me/developer-guide' target=\"_blank\">docs</a>)<br>"
      ],
      "text/plain": [
       "<IPython.core.display.HTML object>"
      ]
     },
     "metadata": {},
     "output_type": "display_data"
    },
    {
     "data": {
      "text/html": [
       " View project at <a href='https://wandb.ai/yixuan228-imperial-college-london/DE_Groupwork_G4_stage2' target=\"_blank\">https://wandb.ai/yixuan228-imperial-college-london/DE_Groupwork_G4_stage2</a>"
      ],
      "text/plain": [
       "<IPython.core.display.HTML object>"
      ]
     },
     "metadata": {},
     "output_type": "display_data"
    },
    {
     "data": {
      "text/html": [
       " View run at <a href='https://wandb.ai/yixuan228-imperial-college-london/DE_Groupwork_G4_stage2/runs/v6dl93p1' target=\"_blank\">https://wandb.ai/yixuan228-imperial-college-london/DE_Groupwork_G4_stage2/runs/v6dl93p1</a>"
      ],
      "text/plain": [
       "<IPython.core.display.HTML object>"
      ]
     },
     "metadata": {},
     "output_type": "display_data"
    },
    {
     "name": "stdout",
     "output_type": "stream",
     "text": [
      "Epoch 001 | Train Loss: 7119.5260 | Val Loss: 417.4285\n",
      "Epoch 002 | Train Loss: 235.8946 | Val Loss: 173.2436\n",
      "Epoch 003 | Train Loss: 123.0375 | Val Loss: 113.9063\n",
      "Epoch 004 | Train Loss: 61.7953 | Val Loss: 42.3670\n",
      "Epoch 005 | Train Loss: 23.2302 | Val Loss: 48.1002\n",
      "Epoch 006 | Train Loss: 25.8073 | Val Loss: 25.8114\n",
      "Epoch 007 | Train Loss: 18.1508 | Val Loss: 26.9431\n",
      "Epoch 008 | Train Loss: 17.0112 | Val Loss: 78.2741\n",
      "Epoch 009 | Train Loss: 29.4616 | Val Loss: 15.2682\n",
      "Epoch 010 | Train Loss: 16.1405 | Val Loss: 16.9459\n",
      "Epoch 011 | Train Loss: 14.5878 | Val Loss: 17.1351\n",
      "Epoch 012 | Train Loss: 13.4734 | Val Loss: 12.3853\n",
      "Epoch 013 | Train Loss: 17.7075 | Val Loss: 15.8130\n",
      "Epoch 014 | Train Loss: 17.9688 | Val Loss: 68.5004\n",
      "Epoch 015 | Train Loss: 57.8691 | Val Loss: 62.7928\n",
      "Epoch 016 | Train Loss: 47.5255 | Val Loss: 21.7047\n",
      "Epoch 017 | Train Loss: 25.2442 | Val Loss: 11.8696\n",
      "Epoch 018 | Train Loss: 24.1563 | Val Loss: 26.2393\n",
      "Epoch 019 | Train Loss: 27.2092 | Val Loss: 28.2508\n",
      "Epoch 020 | Train Loss: 56.1635 | Val Loss: 299.5008\n",
      "Epoch 021 | Train Loss: 88.1063 | Val Loss: 273.6984\n",
      "Epoch 022 | Train Loss: 151.0467 | Val Loss: 210.7835\n",
      "Early stopping triggered at epoch 22\n"
     ]
    },
    {
     "data": {
      "text/html": [],
      "text/plain": [
       "<IPython.core.display.HTML object>"
      ]
     },
     "metadata": {},
     "output_type": "display_data"
    },
    {
     "data": {
      "text/html": [
       "<br>    <style><br>        .wandb-row {<br>            display: flex;<br>            flex-direction: row;<br>            flex-wrap: wrap;<br>            justify-content: flex-start;<br>            width: 100%;<br>        }<br>        .wandb-col {<br>            display: flex;<br>            flex-direction: column;<br>            flex-basis: 100%;<br>            flex: 1;<br>            padding: 10px;<br>        }<br>    </style><br><div class=\"wandb-row\"><div class=\"wandb-col\"><h3>Run history:</h3><br/><table class=\"wandb\"><tr><td>epoch</td><td>▁▁▂▂▂▃▃▃▄▄▄▅▅▅▆▆▆▇▇▇██</td></tr><tr><td>train_loss</td><td>█▁▁▁▁▁▁▁▁▁▁▁▁▁▁▁▁▁▁▁▁▁</td></tr><tr><td>val_loss</td><td>█▄▃▂▂▁▁▂▁▁▁▁▁▂▂▁▁▁▁▆▆▄</td></tr></table><br/></div><div class=\"wandb-col\"><h3>Run summary:</h3><br/><table class=\"wandb\"><tr><td>epoch</td><td>22</td></tr><tr><td>train_loss</td><td>151.04667</td></tr><tr><td>val_loss</td><td>210.78354</td></tr></table><br/></div></div>"
      ],
      "text/plain": [
       "<IPython.core.display.HTML object>"
      ]
     },
     "metadata": {},
     "output_type": "display_data"
    },
    {
     "data": {
      "text/html": [
       " View run <strong style=\"color:#cdcd00\">eager-terrain-4</strong> at: <a href='https://wandb.ai/yixuan228-imperial-college-london/DE_Groupwork_G4_stage2/runs/v6dl93p1' target=\"_blank\">https://wandb.ai/yixuan228-imperial-college-london/DE_Groupwork_G4_stage2/runs/v6dl93p1</a><br> View project at: <a href='https://wandb.ai/yixuan228-imperial-college-london/DE_Groupwork_G4_stage2' target=\"_blank\">https://wandb.ai/yixuan228-imperial-college-london/DE_Groupwork_G4_stage2</a><br>Synced 5 W&B file(s), 0 media file(s), 0 artifact file(s) and 0 other file(s)"
      ],
      "text/plain": [
       "<IPython.core.display.HTML object>"
      ]
     },
     "metadata": {},
     "output_type": "display_data"
    },
    {
     "data": {
      "text/html": [
       "Find logs at: <code>.\\wandb\\run-20250321_072245-v6dl93p1\\logs</code>"
      ],
      "text/plain": [
       "<IPython.core.display.HTML object>"
      ]
     },
     "metadata": {},
     "output_type": "display_data"
    },
    {
     "data": {
      "text/html": [
       "Tracking run with wandb version 0.19.7"
      ],
      "text/plain": [
       "<IPython.core.display.HTML object>"
      ]
     },
     "metadata": {},
     "output_type": "display_data"
    },
    {
     "data": {
      "text/html": [
       "Run data is saved locally in <code>d:\\Projects\\MSc_DE_GroupWork4\\Scripts\\wandb\\run-20250321_072253-tlv8p74j</code>"
      ],
      "text/plain": [
       "<IPython.core.display.HTML object>"
      ]
     },
     "metadata": {},
     "output_type": "display_data"
    },
    {
     "data": {
      "text/html": [
       "Syncing run <strong><a href='https://wandb.ai/yixuan228-imperial-college-london/DE_Groupwork_G4_stage2/runs/tlv8p74j' target=\"_blank\">super-aardvark-5</a></strong> to <a href='https://wandb.ai/yixuan228-imperial-college-london/DE_Groupwork_G4_stage2' target=\"_blank\">Weights & Biases</a> (<a href='https://wandb.me/developer-guide' target=\"_blank\">docs</a>)<br>"
      ],
      "text/plain": [
       "<IPython.core.display.HTML object>"
      ]
     },
     "metadata": {},
     "output_type": "display_data"
    },
    {
     "data": {
      "text/html": [
       " View project at <a href='https://wandb.ai/yixuan228-imperial-college-london/DE_Groupwork_G4_stage2' target=\"_blank\">https://wandb.ai/yixuan228-imperial-college-london/DE_Groupwork_G4_stage2</a>"
      ],
      "text/plain": [
       "<IPython.core.display.HTML object>"
      ]
     },
     "metadata": {},
     "output_type": "display_data"
    },
    {
     "data": {
      "text/html": [
       " View run at <a href='https://wandb.ai/yixuan228-imperial-college-london/DE_Groupwork_G4_stage2/runs/tlv8p74j' target=\"_blank\">https://wandb.ai/yixuan228-imperial-college-london/DE_Groupwork_G4_stage2/runs/tlv8p74j</a>"
      ],
      "text/plain": [
       "<IPython.core.display.HTML object>"
      ]
     },
     "metadata": {},
     "output_type": "display_data"
    },
    {
     "name": "stdout",
     "output_type": "stream",
     "text": [
      "Epoch 001 | Train Loss: 17719.3351 | Val Loss: 712.4350\n",
      "Epoch 002 | Train Loss: 487.0564 | Val Loss: 357.8131\n",
      "Epoch 003 | Train Loss: 251.8133 | Val Loss: 211.0036\n",
      "Epoch 004 | Train Loss: 156.3632 | Val Loss: 150.4339\n",
      "Epoch 005 | Train Loss: 112.6192 | Val Loss: 109.9858\n",
      "Epoch 006 | Train Loss: 81.4521 | Val Loss: 81.2172\n",
      "Epoch 007 | Train Loss: 56.0465 | Val Loss: 53.8496\n",
      "Epoch 008 | Train Loss: 37.3309 | Val Loss: 33.7464\n",
      "Epoch 009 | Train Loss: 23.9426 | Val Loss: 29.8294\n",
      "Epoch 010 | Train Loss: 18.0410 | Val Loss: 19.9640\n",
      "Epoch 011 | Train Loss: 14.1497 | Val Loss: 15.4362\n",
      "Epoch 012 | Train Loss: 12.0386 | Val Loss: 12.7167\n",
      "Epoch 013 | Train Loss: 11.2725 | Val Loss: 12.9143\n",
      "Epoch 014 | Train Loss: 10.8886 | Val Loss: 15.0969\n",
      "Epoch 015 | Train Loss: 10.5975 | Val Loss: 11.3786\n",
      "Epoch 016 | Train Loss: 11.3155 | Val Loss: 20.9626\n",
      "Epoch 017 | Train Loss: 10.6903 | Val Loss: 10.6017\n",
      "Epoch 018 | Train Loss: 10.2490 | Val Loss: 10.4427\n",
      "Epoch 019 | Train Loss: 9.6404 | Val Loss: 11.3996\n",
      "Epoch 020 | Train Loss: 10.1517 | Val Loss: 10.7637\n",
      "Epoch 021 | Train Loss: 10.0691 | Val Loss: 11.6811\n",
      "Epoch 022 | Train Loss: 10.6880 | Val Loss: 21.1491\n",
      "Epoch 023 | Train Loss: 12.3111 | Val Loss: 14.6592\n",
      "Early stopping triggered at epoch 23\n"
     ]
    },
    {
     "data": {
      "text/html": [],
      "text/plain": [
       "<IPython.core.display.HTML object>"
      ]
     },
     "metadata": {},
     "output_type": "display_data"
    },
    {
     "data": {
      "text/html": [
       "<br>    <style><br>        .wandb-row {<br>            display: flex;<br>            flex-direction: row;<br>            flex-wrap: wrap;<br>            justify-content: flex-start;<br>            width: 100%;<br>        }<br>        .wandb-col {<br>            display: flex;<br>            flex-direction: column;<br>            flex-basis: 100%;<br>            flex: 1;<br>            padding: 10px;<br>        }<br>    </style><br><div class=\"wandb-row\"><div class=\"wandb-col\"><h3>Run history:</h3><br/><table class=\"wandb\"><tr><td>epoch</td><td>▁▁▂▂▂▃▃▃▄▄▄▅▅▅▅▆▆▆▇▇▇██</td></tr><tr><td>train_loss</td><td>█▁▁▁▁▁▁▁▁▁▁▁▁▁▁▁▁▁▁▁▁▁▁</td></tr><tr><td>val_loss</td><td>█▄▃▂▂▂▁▁▁▁▁▁▁▁▁▁▁▁▁▁▁▁▁</td></tr></table><br/></div><div class=\"wandb-col\"><h3>Run summary:</h3><br/><table class=\"wandb\"><tr><td>epoch</td><td>23</td></tr><tr><td>train_loss</td><td>12.31108</td></tr><tr><td>val_loss</td><td>14.65916</td></tr></table><br/></div></div>"
      ],
      "text/plain": [
       "<IPython.core.display.HTML object>"
      ]
     },
     "metadata": {},
     "output_type": "display_data"
    },
    {
     "data": {
      "text/html": [
       " View run <strong style=\"color:#cdcd00\">super-aardvark-5</strong> at: <a href='https://wandb.ai/yixuan228-imperial-college-london/DE_Groupwork_G4_stage2/runs/tlv8p74j' target=\"_blank\">https://wandb.ai/yixuan228-imperial-college-london/DE_Groupwork_G4_stage2/runs/tlv8p74j</a><br> View project at: <a href='https://wandb.ai/yixuan228-imperial-college-london/DE_Groupwork_G4_stage2' target=\"_blank\">https://wandb.ai/yixuan228-imperial-college-london/DE_Groupwork_G4_stage2</a><br>Synced 5 W&B file(s), 0 media file(s), 0 artifact file(s) and 0 other file(s)"
      ],
      "text/plain": [
       "<IPython.core.display.HTML object>"
      ]
     },
     "metadata": {},
     "output_type": "display_data"
    },
    {
     "data": {
      "text/html": [
       "Find logs at: <code>.\\wandb\\run-20250321_072253-tlv8p74j\\logs</code>"
      ],
      "text/plain": [
       "<IPython.core.display.HTML object>"
      ]
     },
     "metadata": {},
     "output_type": "display_data"
    },
    {
     "data": {
      "text/html": [
       "Tracking run with wandb version 0.19.7"
      ],
      "text/plain": [
       "<IPython.core.display.HTML object>"
      ]
     },
     "metadata": {},
     "output_type": "display_data"
    },
    {
     "data": {
      "text/html": [
       "Run data is saved locally in <code>d:\\Projects\\MSc_DE_GroupWork4\\Scripts\\wandb\\run-20250321_072300-6031gov5</code>"
      ],
      "text/plain": [
       "<IPython.core.display.HTML object>"
      ]
     },
     "metadata": {},
     "output_type": "display_data"
    },
    {
     "data": {
      "text/html": [
       "Syncing run <strong><a href='https://wandb.ai/yixuan228-imperial-college-london/DE_Groupwork_G4_stage2/runs/6031gov5' target=\"_blank\">whole-music-6</a></strong> to <a href='https://wandb.ai/yixuan228-imperial-college-london/DE_Groupwork_G4_stage2' target=\"_blank\">Weights & Biases</a> (<a href='https://wandb.me/developer-guide' target=\"_blank\">docs</a>)<br>"
      ],
      "text/plain": [
       "<IPython.core.display.HTML object>"
      ]
     },
     "metadata": {},
     "output_type": "display_data"
    },
    {
     "data": {
      "text/html": [
       " View project at <a href='https://wandb.ai/yixuan228-imperial-college-london/DE_Groupwork_G4_stage2' target=\"_blank\">https://wandb.ai/yixuan228-imperial-college-london/DE_Groupwork_G4_stage2</a>"
      ],
      "text/plain": [
       "<IPython.core.display.HTML object>"
      ]
     },
     "metadata": {},
     "output_type": "display_data"
    },
    {
     "data": {
      "text/html": [
       " View run at <a href='https://wandb.ai/yixuan228-imperial-college-london/DE_Groupwork_G4_stage2/runs/6031gov5' target=\"_blank\">https://wandb.ai/yixuan228-imperial-college-london/DE_Groupwork_G4_stage2/runs/6031gov5</a>"
      ],
      "text/plain": [
       "<IPython.core.display.HTML object>"
      ]
     },
     "metadata": {},
     "output_type": "display_data"
    },
    {
     "name": "stdout",
     "output_type": "stream",
     "text": [
      "Epoch 001 | Train Loss: 65231.6942 | Val Loss: 58768.6640\n",
      "Epoch 002 | Train Loss: 27785.1750 | Val Loss: 2063.2405\n",
      "Epoch 003 | Train Loss: 1459.9863 | Val Loss: 1164.1234\n",
      "Epoch 004 | Train Loss: 964.5123 | Val Loss: 862.0985\n",
      "Epoch 005 | Train Loss: 738.7879 | Val Loss: 689.5504\n",
      "Epoch 006 | Train Loss: 596.3224 | Val Loss: 574.2004\n",
      "Epoch 007 | Train Loss: 494.6044 | Val Loss: 484.3730\n",
      "Epoch 008 | Train Loss: 415.3601 | Val Loss: 417.6790\n",
      "Epoch 009 | Train Loss: 355.3172 | Val Loss: 363.8477\n",
      "Epoch 010 | Train Loss: 307.6970 | Val Loss: 319.8005\n",
      "Epoch 011 | Train Loss: 268.7548 | Val Loss: 283.3686\n",
      "Epoch 012 | Train Loss: 234.9372 | Val Loss: 251.3078\n",
      "Epoch 013 | Train Loss: 207.1117 | Val Loss: 222.5125\n",
      "Epoch 014 | Train Loss: 183.4014 | Val Loss: 197.3305\n",
      "Epoch 015 | Train Loss: 162.3411 | Val Loss: 177.2830\n",
      "Epoch 016 | Train Loss: 144.9132 | Val Loss: 160.3344\n",
      "Epoch 017 | Train Loss: 129.8469 | Val Loss: 143.6151\n",
      "Epoch 018 | Train Loss: 117.1514 | Val Loss: 131.0189\n",
      "Epoch 019 | Train Loss: 106.7065 | Val Loss: 117.9320\n",
      "Epoch 020 | Train Loss: 96.7576 | Val Loss: 107.5225\n",
      "Epoch 021 | Train Loss: 87.9545 | Val Loss: 98.0380\n",
      "Epoch 022 | Train Loss: 79.9886 | Val Loss: 90.1693\n",
      "Epoch 023 | Train Loss: 72.8506 | Val Loss: 81.4624\n",
      "Epoch 024 | Train Loss: 66.5133 | Val Loss: 73.7779\n",
      "Epoch 025 | Train Loss: 60.0141 | Val Loss: 67.3393\n",
      "Epoch 026 | Train Loss: 54.6407 | Val Loss: 60.1409\n",
      "Epoch 027 | Train Loss: 49.5194 | Val Loss: 53.9611\n",
      "Epoch 028 | Train Loss: 44.7340 | Val Loss: 47.8932\n",
      "Epoch 029 | Train Loss: 39.5111 | Val Loss: 43.1005\n",
      "Epoch 030 | Train Loss: 35.4332 | Val Loss: 38.9217\n",
      "Epoch 031 | Train Loss: 31.9160 | Val Loss: 34.4892\n",
      "Epoch 032 | Train Loss: 28.8112 | Val Loss: 30.9564\n",
      "Epoch 033 | Train Loss: 25.9057 | Val Loss: 27.7031\n",
      "Epoch 034 | Train Loss: 23.7264 | Val Loss: 25.0321\n",
      "Epoch 035 | Train Loss: 21.3486 | Val Loss: 23.0242\n",
      "Epoch 036 | Train Loss: 19.5353 | Val Loss: 21.9608\n",
      "Epoch 037 | Train Loss: 18.3572 | Val Loss: 19.1671\n",
      "Epoch 038 | Train Loss: 16.6822 | Val Loss: 17.6694\n",
      "Epoch 039 | Train Loss: 15.5944 | Val Loss: 16.3301\n",
      "Epoch 040 | Train Loss: 14.7900 | Val Loss: 15.2827\n",
      "Epoch 041 | Train Loss: 13.9018 | Val Loss: 15.4734\n",
      "Epoch 042 | Train Loss: 13.4262 | Val Loss: 14.0298\n",
      "Epoch 043 | Train Loss: 12.9052 | Val Loss: 13.5664\n",
      "Epoch 044 | Train Loss: 12.3413 | Val Loss: 12.9317\n",
      "Epoch 045 | Train Loss: 12.1904 | Val Loss: 12.9958\n",
      "Epoch 046 | Train Loss: 12.2025 | Val Loss: 12.0697\n",
      "Epoch 047 | Train Loss: 11.5351 | Val Loss: 12.2226\n",
      "Epoch 048 | Train Loss: 11.2890 | Val Loss: 12.3677\n",
      "Epoch 049 | Train Loss: 11.0828 | Val Loss: 13.0577\n",
      "Epoch 050 | Train Loss: 10.9959 | Val Loss: 11.6025\n",
      "Epoch 051 | Train Loss: 10.6276 | Val Loss: 12.5970\n",
      "Epoch 052 | Train Loss: 10.5410 | Val Loss: 12.1455\n",
      "Epoch 053 | Train Loss: 10.3555 | Val Loss: 10.6971\n",
      "Epoch 054 | Train Loss: 10.3420 | Val Loss: 12.8509\n",
      "Epoch 055 | Train Loss: 10.5529 | Val Loss: 10.6389\n",
      "Epoch 056 | Train Loss: 10.3013 | Val Loss: 11.0363\n",
      "Epoch 057 | Train Loss: 10.0312 | Val Loss: 10.5315\n",
      "Epoch 058 | Train Loss: 9.7947 | Val Loss: 10.3859\n",
      "Epoch 059 | Train Loss: 9.8024 | Val Loss: 11.2599\n",
      "Epoch 060 | Train Loss: 10.0548 | Val Loss: 10.0704\n",
      "Epoch 061 | Train Loss: 9.6967 | Val Loss: 10.1002\n",
      "Epoch 062 | Train Loss: 9.5157 | Val Loss: 13.4723\n",
      "Epoch 063 | Train Loss: 10.4252 | Val Loss: 10.4325\n",
      "Epoch 064 | Train Loss: 9.5169 | Val Loss: 10.1705\n",
      "Epoch 065 | Train Loss: 9.4398 | Val Loss: 10.7017\n",
      "Early stopping triggered at epoch 65\n"
     ]
    },
    {
     "data": {
      "text/html": [],
      "text/plain": [
       "<IPython.core.display.HTML object>"
      ]
     },
     "metadata": {},
     "output_type": "display_data"
    },
    {
     "data": {
      "text/html": [
       "<br>    <style><br>        .wandb-row {<br>            display: flex;<br>            flex-direction: row;<br>            flex-wrap: wrap;<br>            justify-content: flex-start;<br>            width: 100%;<br>        }<br>        .wandb-col {<br>            display: flex;<br>            flex-direction: column;<br>            flex-basis: 100%;<br>            flex: 1;<br>            padding: 10px;<br>        }<br>    </style><br><div class=\"wandb-row\"><div class=\"wandb-col\"><h3>Run history:</h3><br/><table class=\"wandb\"><tr><td>epoch</td><td>▁▁▁▂▂▂▂▂▃▃▃▃▃▃▄▄▄▄▄▄▄▅▅▅▅▅▅▆▆▆▆▆▆▇▇▇████</td></tr><tr><td>train_loss</td><td>█▄▁▁▁▁▁▁▁▁▁▁▁▁▁▁▁▁▁▁▁▁▁▁▁▁▁▁▁▁▁▁▁▁▁▁▁▁▁▁</td></tr><tr><td>val_loss</td><td>█▁▁▁▁▁▁▁▁▁▁▁▁▁▁▁▁▁▁▁▁▁▁▁▁▁▁▁▁▁▁▁▁▁▁▁▁▁▁▁</td></tr></table><br/></div><div class=\"wandb-col\"><h3>Run summary:</h3><br/><table class=\"wandb\"><tr><td>epoch</td><td>65</td></tr><tr><td>train_loss</td><td>9.43984</td></tr><tr><td>val_loss</td><td>10.70175</td></tr></table><br/></div></div>"
      ],
      "text/plain": [
       "<IPython.core.display.HTML object>"
      ]
     },
     "metadata": {},
     "output_type": "display_data"
    },
    {
     "data": {
      "text/html": [
       " View run <strong style=\"color:#cdcd00\">whole-music-6</strong> at: <a href='https://wandb.ai/yixuan228-imperial-college-london/DE_Groupwork_G4_stage2/runs/6031gov5' target=\"_blank\">https://wandb.ai/yixuan228-imperial-college-london/DE_Groupwork_G4_stage2/runs/6031gov5</a><br> View project at: <a href='https://wandb.ai/yixuan228-imperial-college-london/DE_Groupwork_G4_stage2' target=\"_blank\">https://wandb.ai/yixuan228-imperial-college-london/DE_Groupwork_G4_stage2</a><br>Synced 5 W&B file(s), 0 media file(s), 0 artifact file(s) and 0 other file(s)"
      ],
      "text/plain": [
       "<IPython.core.display.HTML object>"
      ]
     },
     "metadata": {},
     "output_type": "display_data"
    },
    {
     "data": {
      "text/html": [
       "Find logs at: <code>.\\wandb\\run-20250321_072300-6031gov5\\logs</code>"
      ],
      "text/plain": [
       "<IPython.core.display.HTML object>"
      ]
     },
     "metadata": {},
     "output_type": "display_data"
    },
    {
     "data": {
      "text/html": [
       "Tracking run with wandb version 0.19.7"
      ],
      "text/plain": [
       "<IPython.core.display.HTML object>"
      ]
     },
     "metadata": {},
     "output_type": "display_data"
    },
    {
     "data": {
      "text/html": [
       "Run data is saved locally in <code>d:\\Projects\\MSc_DE_GroupWork4\\Scripts\\wandb\\run-20250321_072316-h42eyktq</code>"
      ],
      "text/plain": [
       "<IPython.core.display.HTML object>"
      ]
     },
     "metadata": {},
     "output_type": "display_data"
    },
    {
     "data": {
      "text/html": [
       "Syncing run <strong><a href='https://wandb.ai/yixuan228-imperial-college-london/DE_Groupwork_G4_stage2/runs/h42eyktq' target=\"_blank\">jumping-serenity-7</a></strong> to <a href='https://wandb.ai/yixuan228-imperial-college-london/DE_Groupwork_G4_stage2' target=\"_blank\">Weights & Biases</a> (<a href='https://wandb.me/developer-guide' target=\"_blank\">docs</a>)<br>"
      ],
      "text/plain": [
       "<IPython.core.display.HTML object>"
      ]
     },
     "metadata": {},
     "output_type": "display_data"
    },
    {
     "data": {
      "text/html": [
       " View project at <a href='https://wandb.ai/yixuan228-imperial-college-london/DE_Groupwork_G4_stage2' target=\"_blank\">https://wandb.ai/yixuan228-imperial-college-london/DE_Groupwork_G4_stage2</a>"
      ],
      "text/plain": [
       "<IPython.core.display.HTML object>"
      ]
     },
     "metadata": {},
     "output_type": "display_data"
    },
    {
     "data": {
      "text/html": [
       " View run at <a href='https://wandb.ai/yixuan228-imperial-college-london/DE_Groupwork_G4_stage2/runs/h42eyktq' target=\"_blank\">https://wandb.ai/yixuan228-imperial-college-london/DE_Groupwork_G4_stage2/runs/h42eyktq</a>"
      ],
      "text/plain": [
       "<IPython.core.display.HTML object>"
      ]
     },
     "metadata": {},
     "output_type": "display_data"
    },
    {
     "name": "stdout",
     "output_type": "stream",
     "text": [
      "Epoch 001 | Train Loss: 34402.1500 | Val Loss: 716.0630\n",
      "Epoch 002 | Train Loss: 383.8350 | Val Loss: 236.7410\n",
      "Epoch 003 | Train Loss: 164.9004 | Val Loss: 123.6946\n",
      "Epoch 004 | Train Loss: 89.3654 | Val Loss: 83.5468\n",
      "Epoch 005 | Train Loss: 51.5380 | Val Loss: 48.9792\n",
      "Epoch 006 | Train Loss: 32.5599 | Val Loss: 38.3793\n",
      "Epoch 007 | Train Loss: 20.1547 | Val Loss: 25.4308\n",
      "Epoch 008 | Train Loss: 15.6033 | Val Loss: 16.4398\n",
      "Epoch 009 | Train Loss: 13.2780 | Val Loss: 28.6706\n",
      "Epoch 010 | Train Loss: 16.0886 | Val Loss: 19.2295\n",
      "Epoch 011 | Train Loss: 14.7379 | Val Loss: 30.8485\n",
      "Epoch 012 | Train Loss: 18.7615 | Val Loss: 15.2894\n",
      "Epoch 013 | Train Loss: 20.4410 | Val Loss: 14.8297\n",
      "Epoch 014 | Train Loss: 19.4715 | Val Loss: 18.1287\n",
      "Epoch 015 | Train Loss: 15.8324 | Val Loss: 12.1730\n",
      "Epoch 016 | Train Loss: 14.0049 | Val Loss: 23.9789\n",
      "Epoch 017 | Train Loss: 20.5387 | Val Loss: 12.6254\n",
      "Epoch 018 | Train Loss: 18.2814 | Val Loss: 27.3085\n",
      "Epoch 019 | Train Loss: 21.1429 | Val Loss: 33.4007\n",
      "Epoch 020 | Train Loss: 18.1252 | Val Loss: 28.5227\n",
      "Early stopping triggered at epoch 20\n"
     ]
    },
    {
     "data": {
      "text/html": [],
      "text/plain": [
       "<IPython.core.display.HTML object>"
      ]
     },
     "metadata": {},
     "output_type": "display_data"
    },
    {
     "data": {
      "text/html": [
       "<br>    <style><br>        .wandb-row {<br>            display: flex;<br>            flex-direction: row;<br>            flex-wrap: wrap;<br>            justify-content: flex-start;<br>            width: 100%;<br>        }<br>        .wandb-col {<br>            display: flex;<br>            flex-direction: column;<br>            flex-basis: 100%;<br>            flex: 1;<br>            padding: 10px;<br>        }<br>    </style><br><div class=\"wandb-row\"><div class=\"wandb-col\"><h3>Run history:</h3><br/><table class=\"wandb\"><tr><td>epoch</td><td>▁▁▂▂▂▃▃▄▄▄▅▅▅▆▆▇▇▇██</td></tr><tr><td>train_loss</td><td>█▁▁▁▁▁▁▁▁▁▁▁▁▁▁▁▁▁▁▁</td></tr><tr><td>val_loss</td><td>█▃▂▂▁▁▁▁▁▁▁▁▁▁▁▁▁▁▁▁</td></tr></table><br/></div><div class=\"wandb-col\"><h3>Run summary:</h3><br/><table class=\"wandb\"><tr><td>epoch</td><td>20</td></tr><tr><td>train_loss</td><td>18.12516</td></tr><tr><td>val_loss</td><td>28.52265</td></tr></table><br/></div></div>"
      ],
      "text/plain": [
       "<IPython.core.display.HTML object>"
      ]
     },
     "metadata": {},
     "output_type": "display_data"
    },
    {
     "data": {
      "text/html": [
       " View run <strong style=\"color:#cdcd00\">jumping-serenity-7</strong> at: <a href='https://wandb.ai/yixuan228-imperial-college-london/DE_Groupwork_G4_stage2/runs/h42eyktq' target=\"_blank\">https://wandb.ai/yixuan228-imperial-college-london/DE_Groupwork_G4_stage2/runs/h42eyktq</a><br> View project at: <a href='https://wandb.ai/yixuan228-imperial-college-london/DE_Groupwork_G4_stage2' target=\"_blank\">https://wandb.ai/yixuan228-imperial-college-london/DE_Groupwork_G4_stage2</a><br>Synced 5 W&B file(s), 0 media file(s), 0 artifact file(s) and 0 other file(s)"
      ],
      "text/plain": [
       "<IPython.core.display.HTML object>"
      ]
     },
     "metadata": {},
     "output_type": "display_data"
    },
    {
     "data": {
      "text/html": [
       "Find logs at: <code>.\\wandb\\run-20250321_072316-h42eyktq\\logs</code>"
      ],
      "text/plain": [
       "<IPython.core.display.HTML object>"
      ]
     },
     "metadata": {},
     "output_type": "display_data"
    },
    {
     "data": {
      "text/html": [
       "Tracking run with wandb version 0.19.7"
      ],
      "text/plain": [
       "<IPython.core.display.HTML object>"
      ]
     },
     "metadata": {},
     "output_type": "display_data"
    },
    {
     "data": {
      "text/html": [
       "Run data is saved locally in <code>d:\\Projects\\MSc_DE_GroupWork4\\Scripts\\wandb\\run-20250321_072322-ay4to67c</code>"
      ],
      "text/plain": [
       "<IPython.core.display.HTML object>"
      ]
     },
     "metadata": {},
     "output_type": "display_data"
    },
    {
     "data": {
      "text/html": [
       "Syncing run <strong><a href='https://wandb.ai/yixuan228-imperial-college-london/DE_Groupwork_G4_stage2/runs/ay4to67c' target=\"_blank\">chocolate-hill-8</a></strong> to <a href='https://wandb.ai/yixuan228-imperial-college-london/DE_Groupwork_G4_stage2' target=\"_blank\">Weights & Biases</a> (<a href='https://wandb.me/developer-guide' target=\"_blank\">docs</a>)<br>"
      ],
      "text/plain": [
       "<IPython.core.display.HTML object>"
      ]
     },
     "metadata": {},
     "output_type": "display_data"
    },
    {
     "data": {
      "text/html": [
       " View project at <a href='https://wandb.ai/yixuan228-imperial-college-london/DE_Groupwork_G4_stage2' target=\"_blank\">https://wandb.ai/yixuan228-imperial-college-london/DE_Groupwork_G4_stage2</a>"
      ],
      "text/plain": [
       "<IPython.core.display.HTML object>"
      ]
     },
     "metadata": {},
     "output_type": "display_data"
    },
    {
     "data": {
      "text/html": [
       " View run at <a href='https://wandb.ai/yixuan228-imperial-college-london/DE_Groupwork_G4_stage2/runs/ay4to67c' target=\"_blank\">https://wandb.ai/yixuan228-imperial-college-london/DE_Groupwork_G4_stage2/runs/ay4to67c</a>"
      ],
      "text/plain": [
       "<IPython.core.display.HTML object>"
      ]
     },
     "metadata": {},
     "output_type": "display_data"
    },
    {
     "name": "stdout",
     "output_type": "stream",
     "text": [
      "Epoch 001 | Train Loss: 18425.2933 | Val Loss: 656.4210\n",
      "Epoch 002 | Train Loss: 447.3147 | Val Loss: 339.9489\n",
      "Epoch 003 | Train Loss: 243.9274 | Val Loss: 230.2027\n",
      "Epoch 004 | Train Loss: 155.7539 | Val Loss: 144.6338\n",
      "Epoch 005 | Train Loss: 107.9560 | Val Loss: 105.4958\n",
      "Epoch 006 | Train Loss: 74.3123 | Val Loss: 73.5580\n",
      "Epoch 007 | Train Loss: 50.3399 | Val Loss: 51.5699\n",
      "Epoch 008 | Train Loss: 33.9790 | Val Loss: 33.5522\n",
      "Epoch 009 | Train Loss: 23.0308 | Val Loss: 21.7258\n",
      "Epoch 010 | Train Loss: 16.9516 | Val Loss: 22.1394\n",
      "Epoch 011 | Train Loss: 14.9112 | Val Loss: 21.3439\n",
      "Epoch 012 | Train Loss: 11.9098 | Val Loss: 12.2906\n",
      "Epoch 013 | Train Loss: 11.7025 | Val Loss: 12.2591\n",
      "Epoch 014 | Train Loss: 11.1908 | Val Loss: 14.0468\n",
      "Epoch 015 | Train Loss: 11.4210 | Val Loss: 16.3723\n",
      "Epoch 016 | Train Loss: 10.4262 | Val Loss: 12.0791\n",
      "Epoch 017 | Train Loss: 11.8794 | Val Loss: 13.6807\n",
      "Epoch 018 | Train Loss: 12.5971 | Val Loss: 11.5939\n",
      "Epoch 019 | Train Loss: 11.5684 | Val Loss: 16.2070\n",
      "Epoch 020 | Train Loss: 11.5233 | Val Loss: 12.6060\n",
      "Epoch 021 | Train Loss: 10.9907 | Val Loss: 16.1071\n",
      "Epoch 022 | Train Loss: 12.2030 | Val Loss: 12.9326\n",
      "Epoch 023 | Train Loss: 12.6913 | Val Loss: 16.3071\n",
      "Early stopping triggered at epoch 23\n"
     ]
    },
    {
     "data": {
      "text/html": [],
      "text/plain": [
       "<IPython.core.display.HTML object>"
      ]
     },
     "metadata": {},
     "output_type": "display_data"
    },
    {
     "data": {
      "text/html": [
       "<br>    <style><br>        .wandb-row {<br>            display: flex;<br>            flex-direction: row;<br>            flex-wrap: wrap;<br>            justify-content: flex-start;<br>            width: 100%;<br>        }<br>        .wandb-col {<br>            display: flex;<br>            flex-direction: column;<br>            flex-basis: 100%;<br>            flex: 1;<br>            padding: 10px;<br>        }<br>    </style><br><div class=\"wandb-row\"><div class=\"wandb-col\"><h3>Run history:</h3><br/><table class=\"wandb\"><tr><td>epoch</td><td>▁▁▂▂▂▃▃▃▄▄▄▅▅▅▅▆▆▆▇▇▇██</td></tr><tr><td>train_loss</td><td>█▁▁▁▁▁▁▁▁▁▁▁▁▁▁▁▁▁▁▁▁▁▁</td></tr><tr><td>val_loss</td><td>█▅▃▂▂▂▁▁▁▁▁▁▁▁▁▁▁▁▁▁▁▁▁</td></tr></table><br/></div><div class=\"wandb-col\"><h3>Run summary:</h3><br/><table class=\"wandb\"><tr><td>epoch</td><td>23</td></tr><tr><td>train_loss</td><td>12.6913</td></tr><tr><td>val_loss</td><td>16.30709</td></tr></table><br/></div></div>"
      ],
      "text/plain": [
       "<IPython.core.display.HTML object>"
      ]
     },
     "metadata": {},
     "output_type": "display_data"
    },
    {
     "data": {
      "text/html": [
       " View run <strong style=\"color:#cdcd00\">chocolate-hill-8</strong> at: <a href='https://wandb.ai/yixuan228-imperial-college-london/DE_Groupwork_G4_stage2/runs/ay4to67c' target=\"_blank\">https://wandb.ai/yixuan228-imperial-college-london/DE_Groupwork_G4_stage2/runs/ay4to67c</a><br> View project at: <a href='https://wandb.ai/yixuan228-imperial-college-london/DE_Groupwork_G4_stage2' target=\"_blank\">https://wandb.ai/yixuan228-imperial-college-london/DE_Groupwork_G4_stage2</a><br>Synced 5 W&B file(s), 0 media file(s), 0 artifact file(s) and 0 other file(s)"
      ],
      "text/plain": [
       "<IPython.core.display.HTML object>"
      ]
     },
     "metadata": {},
     "output_type": "display_data"
    },
    {
     "data": {
      "text/html": [
       "Find logs at: <code>.\\wandb\\run-20250321_072322-ay4to67c\\logs</code>"
      ],
      "text/plain": [
       "<IPython.core.display.HTML object>"
      ]
     },
     "metadata": {},
     "output_type": "display_data"
    },
    {
     "data": {
      "text/html": [
       "Tracking run with wandb version 0.19.7"
      ],
      "text/plain": [
       "<IPython.core.display.HTML object>"
      ]
     },
     "metadata": {},
     "output_type": "display_data"
    },
    {
     "data": {
      "text/html": [
       "Run data is saved locally in <code>d:\\Projects\\MSc_DE_GroupWork4\\Scripts\\wandb\\run-20250321_072330-1uyij4kk</code>"
      ],
      "text/plain": [
       "<IPython.core.display.HTML object>"
      ]
     },
     "metadata": {},
     "output_type": "display_data"
    },
    {
     "data": {
      "text/html": [
       "Syncing run <strong><a href='https://wandb.ai/yixuan228-imperial-college-london/DE_Groupwork_G4_stage2/runs/1uyij4kk' target=\"_blank\">dazzling-frog-9</a></strong> to <a href='https://wandb.ai/yixuan228-imperial-college-london/DE_Groupwork_G4_stage2' target=\"_blank\">Weights & Biases</a> (<a href='https://wandb.me/developer-guide' target=\"_blank\">docs</a>)<br>"
      ],
      "text/plain": [
       "<IPython.core.display.HTML object>"
      ]
     },
     "metadata": {},
     "output_type": "display_data"
    },
    {
     "data": {
      "text/html": [
       " View project at <a href='https://wandb.ai/yixuan228-imperial-college-london/DE_Groupwork_G4_stage2' target=\"_blank\">https://wandb.ai/yixuan228-imperial-college-london/DE_Groupwork_G4_stage2</a>"
      ],
      "text/plain": [
       "<IPython.core.display.HTML object>"
      ]
     },
     "metadata": {},
     "output_type": "display_data"
    },
    {
     "data": {
      "text/html": [
       " View run at <a href='https://wandb.ai/yixuan228-imperial-college-london/DE_Groupwork_G4_stage2/runs/1uyij4kk' target=\"_blank\">https://wandb.ai/yixuan228-imperial-college-london/DE_Groupwork_G4_stage2/runs/1uyij4kk</a>"
      ],
      "text/plain": [
       "<IPython.core.display.HTML object>"
      ]
     },
     "metadata": {},
     "output_type": "display_data"
    },
    {
     "name": "stdout",
     "output_type": "stream",
     "text": [
      "Epoch 001 | Train Loss: 65203.3231 | Val Loss: 56742.6669\n",
      "Epoch 002 | Train Loss: 18333.8864 | Val Loss: 1523.1928\n",
      "Epoch 003 | Train Loss: 1167.6989 | Val Loss: 961.2563\n",
      "Epoch 004 | Train Loss: 822.0555 | Val Loss: 741.4378\n",
      "Epoch 005 | Train Loss: 644.2046 | Val Loss: 597.2482\n",
      "Epoch 006 | Train Loss: 518.0986 | Val Loss: 487.9431\n",
      "Epoch 007 | Train Loss: 416.1298 | Val Loss: 392.1705\n",
      "Epoch 008 | Train Loss: 332.3929 | Val Loss: 317.4909\n",
      "Epoch 009 | Train Loss: 264.4756 | Val Loss: 254.5036\n",
      "Epoch 010 | Train Loss: 208.9390 | Val Loss: 203.2331\n",
      "Epoch 011 | Train Loss: 163.9568 | Val Loss: 160.2926\n",
      "Epoch 012 | Train Loss: 127.2191 | Val Loss: 124.7645\n",
      "Epoch 013 | Train Loss: 98.4318 | Val Loss: 96.8438\n",
      "Epoch 014 | Train Loss: 76.7434 | Val Loss: 74.8067\n",
      "Epoch 015 | Train Loss: 59.2959 | Val Loss: 58.1473\n",
      "Epoch 016 | Train Loss: 46.3460 | Val Loss: 46.0010\n",
      "Epoch 017 | Train Loss: 37.2068 | Val Loss: 35.9481\n",
      "Epoch 018 | Train Loss: 30.5744 | Val Loss: 29.8531\n",
      "Epoch 019 | Train Loss: 25.5500 | Val Loss: 25.3401\n",
      "Epoch 020 | Train Loss: 22.6406 | Val Loss: 21.8139\n",
      "Epoch 021 | Train Loss: 20.1023 | Val Loss: 20.0454\n",
      "Epoch 022 | Train Loss: 18.6699 | Val Loss: 18.2842\n",
      "Epoch 023 | Train Loss: 16.8462 | Val Loss: 18.4059\n",
      "Epoch 024 | Train Loss: 15.8427 | Val Loss: 16.1785\n",
      "Epoch 025 | Train Loss: 14.7736 | Val Loss: 15.1621\n",
      "Epoch 026 | Train Loss: 13.9921 | Val Loss: 14.7176\n",
      "Epoch 027 | Train Loss: 13.2011 | Val Loss: 13.4903\n",
      "Epoch 028 | Train Loss: 12.8476 | Val Loss: 13.0037\n",
      "Epoch 029 | Train Loss: 12.2917 | Val Loss: 13.2881\n",
      "Epoch 030 | Train Loss: 11.9160 | Val Loss: 12.2451\n",
      "Epoch 031 | Train Loss: 11.8189 | Val Loss: 12.0835\n",
      "Epoch 032 | Train Loss: 11.1131 | Val Loss: 11.6370\n",
      "Epoch 033 | Train Loss: 11.0516 | Val Loss: 11.2793\n",
      "Epoch 034 | Train Loss: 10.6040 | Val Loss: 11.3712\n",
      "Epoch 035 | Train Loss: 10.5240 | Val Loss: 11.3572\n",
      "Epoch 036 | Train Loss: 10.5960 | Val Loss: 12.4347\n",
      "Epoch 037 | Train Loss: 10.1697 | Val Loss: 10.5353\n",
      "Epoch 038 | Train Loss: 9.9617 | Val Loss: 10.5555\n",
      "Epoch 039 | Train Loss: 9.8372 | Val Loss: 9.9904\n",
      "Epoch 040 | Train Loss: 9.7998 | Val Loss: 10.2576\n",
      "Epoch 041 | Train Loss: 9.6641 | Val Loss: 9.9215\n",
      "Epoch 042 | Train Loss: 9.4580 | Val Loss: 11.4272\n",
      "Epoch 043 | Train Loss: 9.2710 | Val Loss: 9.4132\n",
      "Epoch 044 | Train Loss: 9.2752 | Val Loss: 9.6967\n",
      "Epoch 045 | Train Loss: 9.1201 | Val Loss: 9.6955\n",
      "Epoch 046 | Train Loss: 8.8174 | Val Loss: 11.2677\n",
      "Epoch 047 | Train Loss: 9.4502 | Val Loss: 12.5083\n",
      "Epoch 048 | Train Loss: 9.2789 | Val Loss: 9.8890\n",
      "Early stopping triggered at epoch 48\n"
     ]
    },
    {
     "data": {
      "text/html": [],
      "text/plain": [
       "<IPython.core.display.HTML object>"
      ]
     },
     "metadata": {},
     "output_type": "display_data"
    },
    {
     "data": {
      "text/html": [
       "<br>    <style><br>        .wandb-row {<br>            display: flex;<br>            flex-direction: row;<br>            flex-wrap: wrap;<br>            justify-content: flex-start;<br>            width: 100%;<br>        }<br>        .wandb-col {<br>            display: flex;<br>            flex-direction: column;<br>            flex-basis: 100%;<br>            flex: 1;<br>            padding: 10px;<br>        }<br>    </style><br><div class=\"wandb-row\"><div class=\"wandb-col\"><h3>Run history:</h3><br/><table class=\"wandb\"><tr><td>epoch</td><td>▁▁▁▁▂▂▂▂▂▂▃▃▃▃▃▄▄▄▄▄▅▅▅▅▅▅▆▆▆▆▆▇▇▇▇▇▇███</td></tr><tr><td>train_loss</td><td>█▃▁▁▁▁▁▁▁▁▁▁▁▁▁▁▁▁▁▁▁▁▁▁▁▁▁▁▁▁▁▁▁▁▁▁▁▁▁▁</td></tr><tr><td>val_loss</td><td>█▁▁▁▁▁▁▁▁▁▁▁▁▁▁▁▁▁▁▁▁▁▁▁▁▁▁▁▁▁▁▁▁▁▁▁▁▁▁▁</td></tr></table><br/></div><div class=\"wandb-col\"><h3>Run summary:</h3><br/><table class=\"wandb\"><tr><td>epoch</td><td>48</td></tr><tr><td>train_loss</td><td>9.27894</td></tr><tr><td>val_loss</td><td>9.88903</td></tr></table><br/></div></div>"
      ],
      "text/plain": [
       "<IPython.core.display.HTML object>"
      ]
     },
     "metadata": {},
     "output_type": "display_data"
    },
    {
     "data": {
      "text/html": [
       " View run <strong style=\"color:#cdcd00\">dazzling-frog-9</strong> at: <a href='https://wandb.ai/yixuan228-imperial-college-london/DE_Groupwork_G4_stage2/runs/1uyij4kk' target=\"_blank\">https://wandb.ai/yixuan228-imperial-college-london/DE_Groupwork_G4_stage2/runs/1uyij4kk</a><br> View project at: <a href='https://wandb.ai/yixuan228-imperial-college-london/DE_Groupwork_G4_stage2' target=\"_blank\">https://wandb.ai/yixuan228-imperial-college-london/DE_Groupwork_G4_stage2</a><br>Synced 5 W&B file(s), 0 media file(s), 0 artifact file(s) and 0 other file(s)"
      ],
      "text/plain": [
       "<IPython.core.display.HTML object>"
      ]
     },
     "metadata": {},
     "output_type": "display_data"
    },
    {
     "data": {
      "text/html": [
       "Find logs at: <code>.\\wandb\\run-20250321_072330-1uyij4kk\\logs</code>"
      ],
      "text/plain": [
       "<IPython.core.display.HTML object>"
      ]
     },
     "metadata": {},
     "output_type": "display_data"
    },
    {
     "data": {
      "text/html": [
       "Tracking run with wandb version 0.19.7"
      ],
      "text/plain": [
       "<IPython.core.display.HTML object>"
      ]
     },
     "metadata": {},
     "output_type": "display_data"
    },
    {
     "data": {
      "text/html": [
       "Run data is saved locally in <code>d:\\Projects\\MSc_DE_GroupWork4\\Scripts\\wandb\\run-20250321_072343-4l497nod</code>"
      ],
      "text/plain": [
       "<IPython.core.display.HTML object>"
      ]
     },
     "metadata": {},
     "output_type": "display_data"
    },
    {
     "data": {
      "text/html": [
       "Syncing run <strong><a href='https://wandb.ai/yixuan228-imperial-college-london/DE_Groupwork_G4_stage2/runs/4l497nod' target=\"_blank\">dry-cloud-10</a></strong> to <a href='https://wandb.ai/yixuan228-imperial-college-london/DE_Groupwork_G4_stage2' target=\"_blank\">Weights & Biases</a> (<a href='https://wandb.me/developer-guide' target=\"_blank\">docs</a>)<br>"
      ],
      "text/plain": [
       "<IPython.core.display.HTML object>"
      ]
     },
     "metadata": {},
     "output_type": "display_data"
    },
    {
     "data": {
      "text/html": [
       " View project at <a href='https://wandb.ai/yixuan228-imperial-college-london/DE_Groupwork_G4_stage2' target=\"_blank\">https://wandb.ai/yixuan228-imperial-college-london/DE_Groupwork_G4_stage2</a>"
      ],
      "text/plain": [
       "<IPython.core.display.HTML object>"
      ]
     },
     "metadata": {},
     "output_type": "display_data"
    },
    {
     "data": {
      "text/html": [
       " View run at <a href='https://wandb.ai/yixuan228-imperial-college-london/DE_Groupwork_G4_stage2/runs/4l497nod' target=\"_blank\">https://wandb.ai/yixuan228-imperial-college-london/DE_Groupwork_G4_stage2/runs/4l497nod</a>"
      ],
      "text/plain": [
       "<IPython.core.display.HTML object>"
      ]
     },
     "metadata": {},
     "output_type": "display_data"
    },
    {
     "name": "stdout",
     "output_type": "stream",
     "text": [
      "Epoch 001 | Train Loss: 5192.7608 | Val Loss: 325.5123\n",
      "Epoch 002 | Train Loss: 192.7259 | Val Loss: 149.1354\n",
      "Epoch 003 | Train Loss: 92.8710 | Val Loss: 69.9078\n",
      "Epoch 004 | Train Loss: 43.8333 | Val Loss: 47.2958\n",
      "Epoch 005 | Train Loss: 30.7476 | Val Loss: 107.8213\n",
      "Epoch 006 | Train Loss: 32.1876 | Val Loss: 24.6366\n",
      "Epoch 007 | Train Loss: 26.5800 | Val Loss: 55.1358\n",
      "Epoch 008 | Train Loss: 22.5953 | Val Loss: 26.0101\n",
      "Epoch 009 | Train Loss: 19.9011 | Val Loss: 27.9519\n",
      "Epoch 010 | Train Loss: 17.3596 | Val Loss: 50.1066\n",
      "Epoch 011 | Train Loss: 27.2065 | Val Loss: 63.6248\n",
      "Early stopping triggered at epoch 11\n"
     ]
    },
    {
     "data": {
      "text/html": [],
      "text/plain": [
       "<IPython.core.display.HTML object>"
      ]
     },
     "metadata": {},
     "output_type": "display_data"
    },
    {
     "data": {
      "text/html": [
       "<br>    <style><br>        .wandb-row {<br>            display: flex;<br>            flex-direction: row;<br>            flex-wrap: wrap;<br>            justify-content: flex-start;<br>            width: 100%;<br>        }<br>        .wandb-col {<br>            display: flex;<br>            flex-direction: column;<br>            flex-basis: 100%;<br>            flex: 1;<br>            padding: 10px;<br>        }<br>    </style><br><div class=\"wandb-row\"><div class=\"wandb-col\"><h3>Run history:</h3><br/><table class=\"wandb\"><tr><td>epoch</td><td>▁▂▂▃▄▅▅▆▇▇█</td></tr><tr><td>train_loss</td><td>█▁▁▁▁▁▁▁▁▁▁</td></tr><tr><td>val_loss</td><td>█▄▂▂▃▁▂▁▁▂▂</td></tr></table><br/></div><div class=\"wandb-col\"><h3>Run summary:</h3><br/><table class=\"wandb\"><tr><td>epoch</td><td>11</td></tr><tr><td>train_loss</td><td>27.2065</td></tr><tr><td>val_loss</td><td>63.62482</td></tr></table><br/></div></div>"
      ],
      "text/plain": [
       "<IPython.core.display.HTML object>"
      ]
     },
     "metadata": {},
     "output_type": "display_data"
    },
    {
     "data": {
      "text/html": [
       " View run <strong style=\"color:#cdcd00\">dry-cloud-10</strong> at: <a href='https://wandb.ai/yixuan228-imperial-college-london/DE_Groupwork_G4_stage2/runs/4l497nod' target=\"_blank\">https://wandb.ai/yixuan228-imperial-college-london/DE_Groupwork_G4_stage2/runs/4l497nod</a><br> View project at: <a href='https://wandb.ai/yixuan228-imperial-college-london/DE_Groupwork_G4_stage2' target=\"_blank\">https://wandb.ai/yixuan228-imperial-college-london/DE_Groupwork_G4_stage2</a><br>Synced 5 W&B file(s), 0 media file(s), 0 artifact file(s) and 0 other file(s)"
      ],
      "text/plain": [
       "<IPython.core.display.HTML object>"
      ]
     },
     "metadata": {},
     "output_type": "display_data"
    },
    {
     "data": {
      "text/html": [
       "Find logs at: <code>.\\wandb\\run-20250321_072343-4l497nod\\logs</code>"
      ],
      "text/plain": [
       "<IPython.core.display.HTML object>"
      ]
     },
     "metadata": {},
     "output_type": "display_data"
    },
    {
     "data": {
      "text/html": [
       "Tracking run with wandb version 0.19.7"
      ],
      "text/plain": [
       "<IPython.core.display.HTML object>"
      ]
     },
     "metadata": {},
     "output_type": "display_data"
    },
    {
     "data": {
      "text/html": [
       "Run data is saved locally in <code>d:\\Projects\\MSc_DE_GroupWork4\\Scripts\\wandb\\run-20250321_072348-pl5djvwh</code>"
      ],
      "text/plain": [
       "<IPython.core.display.HTML object>"
      ]
     },
     "metadata": {},
     "output_type": "display_data"
    },
    {
     "data": {
      "text/html": [
       "Syncing run <strong><a href='https://wandb.ai/yixuan228-imperial-college-london/DE_Groupwork_G4_stage2/runs/pl5djvwh' target=\"_blank\">dazzling-firebrand-11</a></strong> to <a href='https://wandb.ai/yixuan228-imperial-college-london/DE_Groupwork_G4_stage2' target=\"_blank\">Weights & Biases</a> (<a href='https://wandb.me/developer-guide' target=\"_blank\">docs</a>)<br>"
      ],
      "text/plain": [
       "<IPython.core.display.HTML object>"
      ]
     },
     "metadata": {},
     "output_type": "display_data"
    },
    {
     "data": {
      "text/html": [
       " View project at <a href='https://wandb.ai/yixuan228-imperial-college-london/DE_Groupwork_G4_stage2' target=\"_blank\">https://wandb.ai/yixuan228-imperial-college-london/DE_Groupwork_G4_stage2</a>"
      ],
      "text/plain": [
       "<IPython.core.display.HTML object>"
      ]
     },
     "metadata": {},
     "output_type": "display_data"
    },
    {
     "data": {
      "text/html": [
       " View run at <a href='https://wandb.ai/yixuan228-imperial-college-london/DE_Groupwork_G4_stage2/runs/pl5djvwh' target=\"_blank\">https://wandb.ai/yixuan228-imperial-college-london/DE_Groupwork_G4_stage2/runs/pl5djvwh</a>"
      ],
      "text/plain": [
       "<IPython.core.display.HTML object>"
      ]
     },
     "metadata": {},
     "output_type": "display_data"
    },
    {
     "name": "stdout",
     "output_type": "stream",
     "text": [
      "Epoch 001 | Train Loss: 17267.5050 | Val Loss: 853.7421\n",
      "Epoch 002 | Train Loss: 598.5725 | Val Loss: 470.9383\n",
      "Epoch 003 | Train Loss: 346.9023 | Val Loss: 316.6872\n",
      "Epoch 004 | Train Loss: 236.2614 | Val Loss: 239.5356\n",
      "Epoch 005 | Train Loss: 175.1976 | Val Loss: 177.5332\n",
      "Epoch 006 | Train Loss: 133.5725 | Val Loss: 131.2349\n",
      "Epoch 007 | Train Loss: 98.0976 | Val Loss: 99.6767\n",
      "Epoch 008 | Train Loss: 73.7931 | Val Loss: 72.3106\n",
      "Epoch 009 | Train Loss: 49.9802 | Val Loss: 48.5849\n",
      "Epoch 010 | Train Loss: 33.6392 | Val Loss: 36.5197\n",
      "Epoch 011 | Train Loss: 25.5804 | Val Loss: 23.3409\n",
      "Epoch 012 | Train Loss: 15.9914 | Val Loss: 16.9143\n",
      "Epoch 013 | Train Loss: 13.9305 | Val Loss: 13.0729\n",
      "Epoch 014 | Train Loss: 11.9211 | Val Loss: 12.3880\n",
      "Epoch 015 | Train Loss: 10.8790 | Val Loss: 11.7529\n",
      "Epoch 016 | Train Loss: 11.1471 | Val Loss: 11.9434\n",
      "Epoch 017 | Train Loss: 11.5553 | Val Loss: 11.0973\n",
      "Epoch 018 | Train Loss: 10.0786 | Val Loss: 13.1822\n",
      "Epoch 019 | Train Loss: 10.3309 | Val Loss: 9.3423\n",
      "Epoch 020 | Train Loss: 10.1409 | Val Loss: 12.9128\n",
      "Epoch 021 | Train Loss: 11.6868 | Val Loss: 11.5220\n",
      "Epoch 022 | Train Loss: 10.5107 | Val Loss: 10.8982\n",
      "Epoch 023 | Train Loss: 10.7474 | Val Loss: 12.5162\n",
      "Epoch 024 | Train Loss: 10.9604 | Val Loss: 9.4591\n",
      "Early stopping triggered at epoch 24\n"
     ]
    },
    {
     "data": {
      "text/html": [],
      "text/plain": [
       "<IPython.core.display.HTML object>"
      ]
     },
     "metadata": {},
     "output_type": "display_data"
    },
    {
     "data": {
      "text/html": [
       "<br>    <style><br>        .wandb-row {<br>            display: flex;<br>            flex-direction: row;<br>            flex-wrap: wrap;<br>            justify-content: flex-start;<br>            width: 100%;<br>        }<br>        .wandb-col {<br>            display: flex;<br>            flex-direction: column;<br>            flex-basis: 100%;<br>            flex: 1;<br>            padding: 10px;<br>        }<br>    </style><br><div class=\"wandb-row\"><div class=\"wandb-col\"><h3>Run history:</h3><br/><table class=\"wandb\"><tr><td>epoch</td><td>▁▁▂▂▂▃▃▃▃▄▄▄▅▅▅▆▆▆▆▇▇▇██</td></tr><tr><td>train_loss</td><td>█▁▁▁▁▁▁▁▁▁▁▁▁▁▁▁▁▁▁▁▁▁▁▁</td></tr><tr><td>val_loss</td><td>█▅▄▃▂▂▂▂▁▁▁▁▁▁▁▁▁▁▁▁▁▁▁▁</td></tr></table><br/></div><div class=\"wandb-col\"><h3>Run summary:</h3><br/><table class=\"wandb\"><tr><td>epoch</td><td>24</td></tr><tr><td>train_loss</td><td>10.96041</td></tr><tr><td>val_loss</td><td>9.45906</td></tr></table><br/></div></div>"
      ],
      "text/plain": [
       "<IPython.core.display.HTML object>"
      ]
     },
     "metadata": {},
     "output_type": "display_data"
    },
    {
     "data": {
      "text/html": [
       " View run <strong style=\"color:#cdcd00\">dazzling-firebrand-11</strong> at: <a href='https://wandb.ai/yixuan228-imperial-college-london/DE_Groupwork_G4_stage2/runs/pl5djvwh' target=\"_blank\">https://wandb.ai/yixuan228-imperial-college-london/DE_Groupwork_G4_stage2/runs/pl5djvwh</a><br> View project at: <a href='https://wandb.ai/yixuan228-imperial-college-london/DE_Groupwork_G4_stage2' target=\"_blank\">https://wandb.ai/yixuan228-imperial-college-london/DE_Groupwork_G4_stage2</a><br>Synced 5 W&B file(s), 0 media file(s), 0 artifact file(s) and 0 other file(s)"
      ],
      "text/plain": [
       "<IPython.core.display.HTML object>"
      ]
     },
     "metadata": {},
     "output_type": "display_data"
    },
    {
     "data": {
      "text/html": [
       "Find logs at: <code>.\\wandb\\run-20250321_072348-pl5djvwh\\logs</code>"
      ],
      "text/plain": [
       "<IPython.core.display.HTML object>"
      ]
     },
     "metadata": {},
     "output_type": "display_data"
    },
    {
     "data": {
      "text/html": [
       "Tracking run with wandb version 0.19.7"
      ],
      "text/plain": [
       "<IPython.core.display.HTML object>"
      ]
     },
     "metadata": {},
     "output_type": "display_data"
    },
    {
     "data": {
      "text/html": [
       "Run data is saved locally in <code>d:\\Projects\\MSc_DE_GroupWork4\\Scripts\\wandb\\run-20250321_072356-toufqev8</code>"
      ],
      "text/plain": [
       "<IPython.core.display.HTML object>"
      ]
     },
     "metadata": {},
     "output_type": "display_data"
    },
    {
     "data": {
      "text/html": [
       "Syncing run <strong><a href='https://wandb.ai/yixuan228-imperial-college-london/DE_Groupwork_G4_stage2/runs/toufqev8' target=\"_blank\">volcanic-breeze-12</a></strong> to <a href='https://wandb.ai/yixuan228-imperial-college-london/DE_Groupwork_G4_stage2' target=\"_blank\">Weights & Biases</a> (<a href='https://wandb.me/developer-guide' target=\"_blank\">docs</a>)<br>"
      ],
      "text/plain": [
       "<IPython.core.display.HTML object>"
      ]
     },
     "metadata": {},
     "output_type": "display_data"
    },
    {
     "data": {
      "text/html": [
       " View project at <a href='https://wandb.ai/yixuan228-imperial-college-london/DE_Groupwork_G4_stage2' target=\"_blank\">https://wandb.ai/yixuan228-imperial-college-london/DE_Groupwork_G4_stage2</a>"
      ],
      "text/plain": [
       "<IPython.core.display.HTML object>"
      ]
     },
     "metadata": {},
     "output_type": "display_data"
    },
    {
     "data": {
      "text/html": [
       " View run at <a href='https://wandb.ai/yixuan228-imperial-college-london/DE_Groupwork_G4_stage2/runs/toufqev8' target=\"_blank\">https://wandb.ai/yixuan228-imperial-college-london/DE_Groupwork_G4_stage2/runs/toufqev8</a>"
      ],
      "text/plain": [
       "<IPython.core.display.HTML object>"
      ]
     },
     "metadata": {},
     "output_type": "display_data"
    },
    {
     "name": "stdout",
     "output_type": "stream",
     "text": [
      "Epoch 001 | Train Loss: 64363.3128 | Val Loss: 56244.5298\n",
      "Epoch 002 | Train Loss: 33225.1612 | Val Loss: 6749.3744\n",
      "Epoch 003 | Train Loss: 2359.2423 | Val Loss: 1511.9103\n",
      "Epoch 004 | Train Loss: 1280.4664 | Val Loss: 1160.2959\n",
      "Epoch 005 | Train Loss: 1017.0258 | Val Loss: 965.6258\n",
      "Epoch 006 | Train Loss: 858.7559 | Val Loss: 836.3517\n",
      "Epoch 007 | Train Loss: 748.9902 | Val Loss: 744.9218\n",
      "Epoch 008 | Train Loss: 668.4721 | Val Loss: 673.7486\n",
      "Epoch 009 | Train Loss: 604.5202 | Val Loss: 614.4564\n",
      "Epoch 010 | Train Loss: 549.4909 | Val Loss: 566.6127\n",
      "Epoch 011 | Train Loss: 502.9561 | Val Loss: 518.3803\n",
      "Epoch 012 | Train Loss: 459.7191 | Val Loss: 479.2446\n",
      "Epoch 013 | Train Loss: 423.8422 | Val Loss: 446.0505\n",
      "Epoch 014 | Train Loss: 390.3716 | Val Loss: 412.4582\n",
      "Epoch 015 | Train Loss: 360.6354 | Val Loss: 384.3488\n",
      "Epoch 016 | Train Loss: 333.7512 | Val Loss: 359.1728\n",
      "Epoch 017 | Train Loss: 309.7745 | Val Loss: 334.4535\n",
      "Epoch 018 | Train Loss: 287.9351 | Val Loss: 313.4363\n",
      "Epoch 019 | Train Loss: 268.9953 | Val Loss: 293.2855\n",
      "Epoch 020 | Train Loss: 250.5507 | Val Loss: 277.9460\n",
      "Epoch 021 | Train Loss: 234.8912 | Val Loss: 259.9204\n",
      "Epoch 022 | Train Loss: 218.7281 | Val Loss: 244.1770\n",
      "Epoch 023 | Train Loss: 205.3342 | Val Loss: 232.6445\n",
      "Epoch 024 | Train Loss: 192.9163 | Val Loss: 218.1477\n",
      "Epoch 025 | Train Loss: 181.1204 | Val Loss: 204.4809\n",
      "Epoch 026 | Train Loss: 169.6967 | Val Loss: 192.3315\n",
      "Epoch 027 | Train Loss: 159.6760 | Val Loss: 180.6944\n",
      "Epoch 028 | Train Loss: 149.7582 | Val Loss: 170.5323\n",
      "Epoch 029 | Train Loss: 140.1979 | Val Loss: 160.1101\n",
      "Epoch 030 | Train Loss: 131.4095 | Val Loss: 149.4375\n",
      "Epoch 031 | Train Loss: 122.2576 | Val Loss: 141.2969\n",
      "Epoch 032 | Train Loss: 114.0007 | Val Loss: 130.8998\n",
      "Epoch 033 | Train Loss: 106.3180 | Val Loss: 122.0835\n",
      "Epoch 034 | Train Loss: 98.5080 | Val Loss: 112.5740\n",
      "Epoch 035 | Train Loss: 91.4057 | Val Loss: 104.8319\n",
      "Epoch 036 | Train Loss: 84.3504 | Val Loss: 94.9804\n",
      "Epoch 037 | Train Loss: 76.2004 | Val Loss: 86.9783\n",
      "Epoch 038 | Train Loss: 69.7733 | Val Loss: 79.9975\n",
      "Epoch 039 | Train Loss: 63.6388 | Val Loss: 72.3833\n",
      "Epoch 040 | Train Loss: 57.5263 | Val Loss: 65.8595\n",
      "Epoch 041 | Train Loss: 52.1556 | Val Loss: 59.9164\n",
      "Epoch 042 | Train Loss: 46.5315 | Val Loss: 53.7211\n",
      "Epoch 043 | Train Loss: 41.9522 | Val Loss: 47.3843\n",
      "Epoch 044 | Train Loss: 37.3557 | Val Loss: 41.4561\n",
      "Epoch 045 | Train Loss: 32.7818 | Val Loss: 36.7103\n",
      "Epoch 046 | Train Loss: 29.1961 | Val Loss: 32.7792\n",
      "Epoch 047 | Train Loss: 25.8920 | Val Loss: 29.5004\n",
      "Epoch 048 | Train Loss: 23.2537 | Val Loss: 25.3958\n",
      "Epoch 049 | Train Loss: 20.7498 | Val Loss: 22.8451\n",
      "Epoch 050 | Train Loss: 18.5388 | Val Loss: 19.9482\n",
      "Epoch 051 | Train Loss: 16.5255 | Val Loss: 18.9361\n",
      "Epoch 052 | Train Loss: 15.2783 | Val Loss: 16.6272\n",
      "Epoch 053 | Train Loss: 13.9695 | Val Loss: 15.4152\n",
      "Epoch 054 | Train Loss: 12.8833 | Val Loss: 14.0511\n",
      "Epoch 055 | Train Loss: 12.2221 | Val Loss: 14.0821\n",
      "Epoch 056 | Train Loss: 11.5828 | Val Loss: 13.0299\n",
      "Epoch 057 | Train Loss: 10.9783 | Val Loss: 11.3697\n",
      "Epoch 058 | Train Loss: 10.4640 | Val Loss: 10.9638\n",
      "Epoch 059 | Train Loss: 10.0819 | Val Loss: 11.2081\n",
      "Epoch 060 | Train Loss: 9.9525 | Val Loss: 10.1601\n",
      "Epoch 061 | Train Loss: 9.5133 | Val Loss: 10.3312\n",
      "Epoch 062 | Train Loss: 9.6398 | Val Loss: 10.2443\n",
      "Epoch 063 | Train Loss: 9.1688 | Val Loss: 9.7383\n",
      "Epoch 064 | Train Loss: 8.9800 | Val Loss: 9.4684\n",
      "Epoch 065 | Train Loss: 8.8840 | Val Loss: 9.4839\n",
      "Epoch 066 | Train Loss: 8.6629 | Val Loss: 9.2677\n",
      "Epoch 067 | Train Loss: 9.1753 | Val Loss: 9.9210\n",
      "Epoch 068 | Train Loss: 8.7099 | Val Loss: 8.7821\n",
      "Epoch 069 | Train Loss: 8.6689 | Val Loss: 8.8179\n",
      "Epoch 070 | Train Loss: 8.6648 | Val Loss: 9.5337\n",
      "Epoch 071 | Train Loss: 8.5598 | Val Loss: 8.7883\n",
      "Epoch 072 | Train Loss: 8.4113 | Val Loss: 9.1596\n",
      "Epoch 073 | Train Loss: 8.6550 | Val Loss: 8.7530\n",
      "Epoch 074 | Train Loss: 8.4830 | Val Loss: 8.7192\n",
      "Epoch 075 | Train Loss: 8.3308 | Val Loss: 8.9445\n",
      "Epoch 076 | Train Loss: 8.4295 | Val Loss: 11.4853\n",
      "Epoch 077 | Train Loss: 8.7084 | Val Loss: 8.5009\n",
      "Epoch 078 | Train Loss: 8.2228 | Val Loss: 8.6706\n",
      "Epoch 079 | Train Loss: 8.4426 | Val Loss: 8.8426\n",
      "Epoch 080 | Train Loss: 8.4844 | Val Loss: 8.4162\n",
      "Epoch 081 | Train Loss: 8.3954 | Val Loss: 8.9173\n",
      "Epoch 082 | Train Loss: 8.2804 | Val Loss: 8.2456\n",
      "Epoch 083 | Train Loss: 8.3454 | Val Loss: 9.3068\n",
      "Epoch 084 | Train Loss: 8.1956 | Val Loss: 8.2197\n",
      "Epoch 085 | Train Loss: 8.4788 | Val Loss: 9.6749\n",
      "Epoch 086 | Train Loss: 8.6072 | Val Loss: 8.5315\n",
      "Epoch 087 | Train Loss: 8.8996 | Val Loss: 8.8649\n",
      "Epoch 088 | Train Loss: 8.1720 | Val Loss: 9.7677\n",
      "Epoch 089 | Train Loss: 8.3271 | Val Loss: 9.6361\n",
      "Early stopping triggered at epoch 89\n"
     ]
    },
    {
     "data": {
      "text/html": [],
      "text/plain": [
       "<IPython.core.display.HTML object>"
      ]
     },
     "metadata": {},
     "output_type": "display_data"
    },
    {
     "data": {
      "text/html": [
       "<br>    <style><br>        .wandb-row {<br>            display: flex;<br>            flex-direction: row;<br>            flex-wrap: wrap;<br>            justify-content: flex-start;<br>            width: 100%;<br>        }<br>        .wandb-col {<br>            display: flex;<br>            flex-direction: column;<br>            flex-basis: 100%;<br>            flex: 1;<br>            padding: 10px;<br>        }<br>    </style><br><div class=\"wandb-row\"><div class=\"wandb-col\"><h3>Run history:</h3><br/><table class=\"wandb\"><tr><td>epoch</td><td>▁▁▁▁▁▂▂▂▂▂▃▃▃▃▃▃▃▄▄▄▄▄▄▄▅▅▅▆▆▆▆▆▇▇▇▇▇███</td></tr><tr><td>train_loss</td><td>█▁▁▁▁▁▁▁▁▁▁▁▁▁▁▁▁▁▁▁▁▁▁▁▁▁▁▁▁▁▁▁▁▁▁▁▁▁▁▁</td></tr><tr><td>val_loss</td><td>█▅▄▄▃▃▃▃▂▂▂▂▂▂▂▂▁▁▁▁▁▁▁▁▁▁▁▁▁▁▁▁▁▁▁▁▁▁▁▁</td></tr></table><br/></div><div class=\"wandb-col\"><h3>Run summary:</h3><br/><table class=\"wandb\"><tr><td>epoch</td><td>89</td></tr><tr><td>train_loss</td><td>8.32714</td></tr><tr><td>val_loss</td><td>9.63614</td></tr></table><br/></div></div>"
      ],
      "text/plain": [
       "<IPython.core.display.HTML object>"
      ]
     },
     "metadata": {},
     "output_type": "display_data"
    },
    {
     "data": {
      "text/html": [
       " View run <strong style=\"color:#cdcd00\">volcanic-breeze-12</strong> at: <a href='https://wandb.ai/yixuan228-imperial-college-london/DE_Groupwork_G4_stage2/runs/toufqev8' target=\"_blank\">https://wandb.ai/yixuan228-imperial-college-london/DE_Groupwork_G4_stage2/runs/toufqev8</a><br> View project at: <a href='https://wandb.ai/yixuan228-imperial-college-london/DE_Groupwork_G4_stage2' target=\"_blank\">https://wandb.ai/yixuan228-imperial-college-london/DE_Groupwork_G4_stage2</a><br>Synced 5 W&B file(s), 0 media file(s), 0 artifact file(s) and 0 other file(s)"
      ],
      "text/plain": [
       "<IPython.core.display.HTML object>"
      ]
     },
     "metadata": {},
     "output_type": "display_data"
    },
    {
     "data": {
      "text/html": [
       "Find logs at: <code>.\\wandb\\run-20250321_072356-toufqev8\\logs</code>"
      ],
      "text/plain": [
       "<IPython.core.display.HTML object>"
      ]
     },
     "metadata": {},
     "output_type": "display_data"
    },
    {
     "data": {
      "text/html": [
       "Tracking run with wandb version 0.19.7"
      ],
      "text/plain": [
       "<IPython.core.display.HTML object>"
      ]
     },
     "metadata": {},
     "output_type": "display_data"
    },
    {
     "data": {
      "text/html": [
       "Run data is saved locally in <code>d:\\Projects\\MSc_DE_GroupWork4\\Scripts\\wandb\\run-20250321_072415-o058ni7j</code>"
      ],
      "text/plain": [
       "<IPython.core.display.HTML object>"
      ]
     },
     "metadata": {},
     "output_type": "display_data"
    },
    {
     "data": {
      "text/html": [
       "Syncing run <strong><a href='https://wandb.ai/yixuan228-imperial-college-london/DE_Groupwork_G4_stage2/runs/o058ni7j' target=\"_blank\">brisk-galaxy-13</a></strong> to <a href='https://wandb.ai/yixuan228-imperial-college-london/DE_Groupwork_G4_stage2' target=\"_blank\">Weights & Biases</a> (<a href='https://wandb.me/developer-guide' target=\"_blank\">docs</a>)<br>"
      ],
      "text/plain": [
       "<IPython.core.display.HTML object>"
      ]
     },
     "metadata": {},
     "output_type": "display_data"
    },
    {
     "data": {
      "text/html": [
       " View project at <a href='https://wandb.ai/yixuan228-imperial-college-london/DE_Groupwork_G4_stage2' target=\"_blank\">https://wandb.ai/yixuan228-imperial-college-london/DE_Groupwork_G4_stage2</a>"
      ],
      "text/plain": [
       "<IPython.core.display.HTML object>"
      ]
     },
     "metadata": {},
     "output_type": "display_data"
    },
    {
     "data": {
      "text/html": [
       " View run at <a href='https://wandb.ai/yixuan228-imperial-college-london/DE_Groupwork_G4_stage2/runs/o058ni7j' target=\"_blank\">https://wandb.ai/yixuan228-imperial-college-london/DE_Groupwork_G4_stage2/runs/o058ni7j</a>"
      ],
      "text/plain": [
       "<IPython.core.display.HTML object>"
      ]
     },
     "metadata": {},
     "output_type": "display_data"
    },
    {
     "name": "stdout",
     "output_type": "stream",
     "text": [
      "Epoch 001 | Train Loss: 18143.0985 | Val Loss: 559.7778\n",
      "Epoch 002 | Train Loss: 387.8014 | Val Loss: 248.3730\n",
      "Epoch 003 | Train Loss: 195.8656 | Val Loss: 138.6152\n",
      "Epoch 004 | Train Loss: 123.0777 | Val Loss: 289.4244\n",
      "Epoch 005 | Train Loss: 82.0726 | Val Loss: 50.3887\n",
      "Epoch 006 | Train Loss: 39.8121 | Val Loss: 33.3571\n",
      "Epoch 007 | Train Loss: 25.7423 | Val Loss: 168.1718\n",
      "Epoch 008 | Train Loss: 65.3236 | Val Loss: 147.5987\n",
      "Epoch 009 | Train Loss: 25.6884 | Val Loss: 21.7529\n",
      "Epoch 010 | Train Loss: 23.5091 | Val Loss: 22.3169\n",
      "Epoch 011 | Train Loss: 24.4746 | Val Loss: 39.9728\n",
      "Epoch 012 | Train Loss: 33.6162 | Val Loss: 18.6304\n",
      "Epoch 013 | Train Loss: 22.8792 | Val Loss: 32.9800\n",
      "Epoch 014 | Train Loss: 24.2412 | Val Loss: 16.2929\n",
      "Epoch 015 | Train Loss: 14.9426 | Val Loss: 56.8622\n",
      "Epoch 016 | Train Loss: 24.4686 | Val Loss: 24.7470\n",
      "Epoch 017 | Train Loss: 21.2285 | Val Loss: 29.7211\n",
      "Epoch 018 | Train Loss: 36.2715 | Val Loss: 60.3235\n",
      "Epoch 019 | Train Loss: 35.5498 | Val Loss: 19.3244\n",
      "Early stopping triggered at epoch 19\n"
     ]
    },
    {
     "data": {
      "text/html": [],
      "text/plain": [
       "<IPython.core.display.HTML object>"
      ]
     },
     "metadata": {},
     "output_type": "display_data"
    },
    {
     "data": {
      "text/html": [
       "<br>    <style><br>        .wandb-row {<br>            display: flex;<br>            flex-direction: row;<br>            flex-wrap: wrap;<br>            justify-content: flex-start;<br>            width: 100%;<br>        }<br>        .wandb-col {<br>            display: flex;<br>            flex-direction: column;<br>            flex-basis: 100%;<br>            flex: 1;<br>            padding: 10px;<br>        }<br>    </style><br><div class=\"wandb-row\"><div class=\"wandb-col\"><h3>Run history:</h3><br/><table class=\"wandb\"><tr><td>epoch</td><td>▁▁▂▂▃▃▃▄▄▅▅▅▆▆▆▇▇██</td></tr><tr><td>train_loss</td><td>█▁▁▁▁▁▁▁▁▁▁▁▁▁▁▁▁▁▁</td></tr><tr><td>val_loss</td><td>█▄▃▅▁▁▃▃▁▁▁▁▁▁▂▁▁▂▁</td></tr></table><br/></div><div class=\"wandb-col\"><h3>Run summary:</h3><br/><table class=\"wandb\"><tr><td>epoch</td><td>19</td></tr><tr><td>train_loss</td><td>35.54976</td></tr><tr><td>val_loss</td><td>19.32442</td></tr></table><br/></div></div>"
      ],
      "text/plain": [
       "<IPython.core.display.HTML object>"
      ]
     },
     "metadata": {},
     "output_type": "display_data"
    },
    {
     "data": {
      "text/html": [
       " View run <strong style=\"color:#cdcd00\">brisk-galaxy-13</strong> at: <a href='https://wandb.ai/yixuan228-imperial-college-london/DE_Groupwork_G4_stage2/runs/o058ni7j' target=\"_blank\">https://wandb.ai/yixuan228-imperial-college-london/DE_Groupwork_G4_stage2/runs/o058ni7j</a><br> View project at: <a href='https://wandb.ai/yixuan228-imperial-college-london/DE_Groupwork_G4_stage2' target=\"_blank\">https://wandb.ai/yixuan228-imperial-college-london/DE_Groupwork_G4_stage2</a><br>Synced 5 W&B file(s), 0 media file(s), 0 artifact file(s) and 0 other file(s)"
      ],
      "text/plain": [
       "<IPython.core.display.HTML object>"
      ]
     },
     "metadata": {},
     "output_type": "display_data"
    },
    {
     "data": {
      "text/html": [
       "Find logs at: <code>.\\wandb\\run-20250321_072415-o058ni7j\\logs</code>"
      ],
      "text/plain": [
       "<IPython.core.display.HTML object>"
      ]
     },
     "metadata": {},
     "output_type": "display_data"
    },
    {
     "data": {
      "text/html": [
       "Tracking run with wandb version 0.19.7"
      ],
      "text/plain": [
       "<IPython.core.display.HTML object>"
      ]
     },
     "metadata": {},
     "output_type": "display_data"
    },
    {
     "data": {
      "text/html": [
       "Run data is saved locally in <code>d:\\Projects\\MSc_DE_GroupWork4\\Scripts\\wandb\\run-20250321_072421-od8e6qwe</code>"
      ],
      "text/plain": [
       "<IPython.core.display.HTML object>"
      ]
     },
     "metadata": {},
     "output_type": "display_data"
    },
    {
     "data": {
      "text/html": [
       "Syncing run <strong><a href='https://wandb.ai/yixuan228-imperial-college-london/DE_Groupwork_G4_stage2/runs/od8e6qwe' target=\"_blank\">light-moon-14</a></strong> to <a href='https://wandb.ai/yixuan228-imperial-college-london/DE_Groupwork_G4_stage2' target=\"_blank\">Weights & Biases</a> (<a href='https://wandb.me/developer-guide' target=\"_blank\">docs</a>)<br>"
      ],
      "text/plain": [
       "<IPython.core.display.HTML object>"
      ]
     },
     "metadata": {},
     "output_type": "display_data"
    },
    {
     "data": {
      "text/html": [
       " View project at <a href='https://wandb.ai/yixuan228-imperial-college-london/DE_Groupwork_G4_stage2' target=\"_blank\">https://wandb.ai/yixuan228-imperial-college-london/DE_Groupwork_G4_stage2</a>"
      ],
      "text/plain": [
       "<IPython.core.display.HTML object>"
      ]
     },
     "metadata": {},
     "output_type": "display_data"
    },
    {
     "data": {
      "text/html": [
       " View run at <a href='https://wandb.ai/yixuan228-imperial-college-london/DE_Groupwork_G4_stage2/runs/od8e6qwe' target=\"_blank\">https://wandb.ai/yixuan228-imperial-college-london/DE_Groupwork_G4_stage2/runs/od8e6qwe</a>"
      ],
      "text/plain": [
       "<IPython.core.display.HTML object>"
      ]
     },
     "metadata": {},
     "output_type": "display_data"
    },
    {
     "name": "stdout",
     "output_type": "stream",
     "text": [
      "Epoch 001 | Train Loss: 12160.6322 | Val Loss: 618.0973\n",
      "Epoch 002 | Train Loss: 350.5433 | Val Loss: 277.4441\n",
      "Epoch 003 | Train Loss: 200.0115 | Val Loss: 190.5541\n",
      "Epoch 004 | Train Loss: 133.3197 | Val Loss: 164.0934\n",
      "Epoch 005 | Train Loss: 101.3528 | Val Loss: 96.1793\n",
      "Epoch 006 | Train Loss: 56.0141 | Val Loss: 42.3075\n",
      "Epoch 007 | Train Loss: 28.0818 | Val Loss: 31.0421\n",
      "Epoch 008 | Train Loss: 18.4821 | Val Loss: 28.3932\n",
      "Epoch 009 | Train Loss: 15.2125 | Val Loss: 97.4634\n",
      "Epoch 010 | Train Loss: 42.3612 | Val Loss: 16.9445\n",
      "Epoch 011 | Train Loss: 16.4170 | Val Loss: 14.7418\n",
      "Epoch 012 | Train Loss: 11.0059 | Val Loss: 16.8863\n",
      "Epoch 013 | Train Loss: 11.3551 | Val Loss: 15.2503\n",
      "Epoch 014 | Train Loss: 11.5349 | Val Loss: 12.0927\n",
      "Epoch 015 | Train Loss: 10.3708 | Val Loss: 11.4736\n",
      "Epoch 016 | Train Loss: 11.8706 | Val Loss: 13.0951\n",
      "Epoch 017 | Train Loss: 10.4256 | Val Loss: 9.4590\n",
      "Epoch 018 | Train Loss: 10.3924 | Val Loss: 18.0933\n",
      "Epoch 019 | Train Loss: 10.9031 | Val Loss: 17.2166\n",
      "Epoch 020 | Train Loss: 11.5143 | Val Loss: 116.4349\n",
      "Epoch 021 | Train Loss: 21.1219 | Val Loss: 13.8513\n",
      "Epoch 022 | Train Loss: 10.4996 | Val Loss: 15.7332\n",
      "Early stopping triggered at epoch 22\n"
     ]
    },
    {
     "data": {
      "text/html": [],
      "text/plain": [
       "<IPython.core.display.HTML object>"
      ]
     },
     "metadata": {},
     "output_type": "display_data"
    },
    {
     "data": {
      "text/html": [
       "<br>    <style><br>        .wandb-row {<br>            display: flex;<br>            flex-direction: row;<br>            flex-wrap: wrap;<br>            justify-content: flex-start;<br>            width: 100%;<br>        }<br>        .wandb-col {<br>            display: flex;<br>            flex-direction: column;<br>            flex-basis: 100%;<br>            flex: 1;<br>            padding: 10px;<br>        }<br>    </style><br><div class=\"wandb-row\"><div class=\"wandb-col\"><h3>Run history:</h3><br/><table class=\"wandb\"><tr><td>epoch</td><td>▁▁▂▂▂▃▃▃▄▄▄▅▅▅▆▆▆▇▇▇██</td></tr><tr><td>train_loss</td><td>█▁▁▁▁▁▁▁▁▁▁▁▁▁▁▁▁▁▁▁▁▁</td></tr><tr><td>val_loss</td><td>█▄▃▃▂▁▁▁▂▁▁▁▁▁▁▁▁▁▁▂▁▁</td></tr></table><br/></div><div class=\"wandb-col\"><h3>Run summary:</h3><br/><table class=\"wandb\"><tr><td>epoch</td><td>22</td></tr><tr><td>train_loss</td><td>10.4996</td></tr><tr><td>val_loss</td><td>15.73323</td></tr></table><br/></div></div>"
      ],
      "text/plain": [
       "<IPython.core.display.HTML object>"
      ]
     },
     "metadata": {},
     "output_type": "display_data"
    },
    {
     "data": {
      "text/html": [
       " View run <strong style=\"color:#cdcd00\">light-moon-14</strong> at: <a href='https://wandb.ai/yixuan228-imperial-college-london/DE_Groupwork_G4_stage2/runs/od8e6qwe' target=\"_blank\">https://wandb.ai/yixuan228-imperial-college-london/DE_Groupwork_G4_stage2/runs/od8e6qwe</a><br> View project at: <a href='https://wandb.ai/yixuan228-imperial-college-london/DE_Groupwork_G4_stage2' target=\"_blank\">https://wandb.ai/yixuan228-imperial-college-london/DE_Groupwork_G4_stage2</a><br>Synced 5 W&B file(s), 0 media file(s), 0 artifact file(s) and 0 other file(s)"
      ],
      "text/plain": [
       "<IPython.core.display.HTML object>"
      ]
     },
     "metadata": {},
     "output_type": "display_data"
    },
    {
     "data": {
      "text/html": [
       "Find logs at: <code>.\\wandb\\run-20250321_072421-od8e6qwe\\logs</code>"
      ],
      "text/plain": [
       "<IPython.core.display.HTML object>"
      ]
     },
     "metadata": {},
     "output_type": "display_data"
    },
    {
     "data": {
      "text/html": [
       "Tracking run with wandb version 0.19.7"
      ],
      "text/plain": [
       "<IPython.core.display.HTML object>"
      ]
     },
     "metadata": {},
     "output_type": "display_data"
    },
    {
     "data": {
      "text/html": [
       "Run data is saved locally in <code>d:\\Projects\\MSc_DE_GroupWork4\\Scripts\\wandb\\run-20250321_072428-zpxqqxmj</code>"
      ],
      "text/plain": [
       "<IPython.core.display.HTML object>"
      ]
     },
     "metadata": {},
     "output_type": "display_data"
    },
    {
     "data": {
      "text/html": [
       "Syncing run <strong><a href='https://wandb.ai/yixuan228-imperial-college-london/DE_Groupwork_G4_stage2/runs/zpxqqxmj' target=\"_blank\">kind-sunset-15</a></strong> to <a href='https://wandb.ai/yixuan228-imperial-college-london/DE_Groupwork_G4_stage2' target=\"_blank\">Weights & Biases</a> (<a href='https://wandb.me/developer-guide' target=\"_blank\">docs</a>)<br>"
      ],
      "text/plain": [
       "<IPython.core.display.HTML object>"
      ]
     },
     "metadata": {},
     "output_type": "display_data"
    },
    {
     "data": {
      "text/html": [
       " View project at <a href='https://wandb.ai/yixuan228-imperial-college-london/DE_Groupwork_G4_stage2' target=\"_blank\">https://wandb.ai/yixuan228-imperial-college-london/DE_Groupwork_G4_stage2</a>"
      ],
      "text/plain": [
       "<IPython.core.display.HTML object>"
      ]
     },
     "metadata": {},
     "output_type": "display_data"
    },
    {
     "data": {
      "text/html": [
       " View run at <a href='https://wandb.ai/yixuan228-imperial-college-london/DE_Groupwork_G4_stage2/runs/zpxqqxmj' target=\"_blank\">https://wandb.ai/yixuan228-imperial-college-london/DE_Groupwork_G4_stage2/runs/zpxqqxmj</a>"
      ],
      "text/plain": [
       "<IPython.core.display.HTML object>"
      ]
     },
     "metadata": {},
     "output_type": "display_data"
    },
    {
     "name": "stdout",
     "output_type": "stream",
     "text": [
      "Epoch 001 | Train Loss: 57986.0727 | Val Loss: 22766.7854\n",
      "Epoch 002 | Train Loss: 4035.4942 | Val Loss: 1372.0008\n",
      "Epoch 003 | Train Loss: 1094.7866 | Val Loss: 923.9417\n",
      "Epoch 004 | Train Loss: 788.4923 | Val Loss: 725.7205\n",
      "Epoch 005 | Train Loss: 625.1827 | Val Loss: 594.9498\n",
      "Epoch 006 | Train Loss: 512.9911 | Val Loss: 499.0711\n",
      "Epoch 007 | Train Loss: 418.0189 | Val Loss: 412.7262\n",
      "Epoch 008 | Train Loss: 333.9242 | Val Loss: 335.1363\n",
      "Epoch 009 | Train Loss: 270.3012 | Val Loss: 280.9656\n",
      "Epoch 010 | Train Loss: 222.8646 | Val Loss: 237.1135\n",
      "Epoch 011 | Train Loss: 188.6254 | Val Loss: 205.7430\n",
      "Epoch 012 | Train Loss: 160.5706 | Val Loss: 178.1992\n",
      "Epoch 013 | Train Loss: 139.1812 | Val Loss: 154.5165\n",
      "Epoch 014 | Train Loss: 120.5366 | Val Loss: 135.2728\n",
      "Epoch 015 | Train Loss: 104.7508 | Val Loss: 119.6250\n",
      "Epoch 016 | Train Loss: 90.4864 | Val Loss: 101.7356\n",
      "Epoch 017 | Train Loss: 77.8074 | Val Loss: 88.4327\n",
      "Epoch 018 | Train Loss: 67.4834 | Val Loss: 75.4947\n",
      "Epoch 019 | Train Loss: 56.7038 | Val Loss: 65.5695\n",
      "Epoch 020 | Train Loss: 48.1882 | Val Loss: 54.9089\n",
      "Epoch 021 | Train Loss: 40.7744 | Val Loss: 46.2373\n",
      "Epoch 022 | Train Loss: 34.3473 | Val Loss: 39.9829\n",
      "Epoch 023 | Train Loss: 29.5270 | Val Loss: 33.2707\n",
      "Epoch 024 | Train Loss: 24.7108 | Val Loss: 29.4651\n",
      "Epoch 025 | Train Loss: 21.7909 | Val Loss: 27.5155\n",
      "Epoch 026 | Train Loss: 18.9810 | Val Loss: 21.5478\n",
      "Epoch 027 | Train Loss: 16.4309 | Val Loss: 20.7618\n",
      "Epoch 028 | Train Loss: 16.5786 | Val Loss: 18.0337\n",
      "Epoch 029 | Train Loss: 14.0041 | Val Loss: 16.8452\n",
      "Epoch 030 | Train Loss: 13.2187 | Val Loss: 15.3889\n",
      "Epoch 031 | Train Loss: 12.6710 | Val Loss: 15.9462\n",
      "Epoch 032 | Train Loss: 12.0717 | Val Loss: 14.0680\n",
      "Epoch 033 | Train Loss: 11.5680 | Val Loss: 14.0644\n",
      "Epoch 034 | Train Loss: 11.1075 | Val Loss: 13.5125\n",
      "Epoch 035 | Train Loss: 10.9155 | Val Loss: 13.3155\n",
      "Epoch 036 | Train Loss: 10.4888 | Val Loss: 13.0862\n",
      "Epoch 037 | Train Loss: 10.3025 | Val Loss: 12.3168\n",
      "Epoch 038 | Train Loss: 9.9480 | Val Loss: 11.0575\n",
      "Epoch 039 | Train Loss: 9.8946 | Val Loss: 10.5875\n",
      "Epoch 040 | Train Loss: 9.7974 | Val Loss: 12.0250\n",
      "Epoch 041 | Train Loss: 9.8885 | Val Loss: 10.7427\n",
      "Epoch 042 | Train Loss: 9.3577 | Val Loss: 10.1270\n",
      "Epoch 043 | Train Loss: 9.5184 | Val Loss: 10.3875\n",
      "Epoch 044 | Train Loss: 9.1407 | Val Loss: 11.6347\n",
      "Epoch 045 | Train Loss: 9.7216 | Val Loss: 10.1248\n",
      "Epoch 046 | Train Loss: 8.9494 | Val Loss: 12.1783\n",
      "Epoch 047 | Train Loss: 9.6111 | Val Loss: 9.3430\n",
      "Epoch 048 | Train Loss: 8.7792 | Val Loss: 10.1316\n",
      "Epoch 049 | Train Loss: 8.8146 | Val Loss: 11.9482\n",
      "Epoch 050 | Train Loss: 9.3434 | Val Loss: 9.1978\n",
      "Epoch 051 | Train Loss: 8.7579 | Val Loss: 11.0045\n",
      "Epoch 052 | Train Loss: 8.8557 | Val Loss: 19.1481\n",
      "Epoch 053 | Train Loss: 11.7335 | Val Loss: 10.1225\n",
      "Epoch 054 | Train Loss: 8.9882 | Val Loss: 9.2508\n",
      "Epoch 055 | Train Loss: 9.1272 | Val Loss: 8.9955\n",
      "Epoch 056 | Train Loss: 8.8477 | Val Loss: 9.1158\n",
      "Epoch 057 | Train Loss: 8.8983 | Val Loss: 9.7036\n",
      "Epoch 058 | Train Loss: 9.0591 | Val Loss: 10.5004\n",
      "Epoch 059 | Train Loss: 8.7366 | Val Loss: 9.1835\n",
      "Epoch 060 | Train Loss: 8.8281 | Val Loss: 11.8480\n",
      "Early stopping triggered at epoch 60\n"
     ]
    },
    {
     "data": {
      "text/html": [],
      "text/plain": [
       "<IPython.core.display.HTML object>"
      ]
     },
     "metadata": {},
     "output_type": "display_data"
    },
    {
     "data": {
      "text/html": [
       "<br>    <style><br>        .wandb-row {<br>            display: flex;<br>            flex-direction: row;<br>            flex-wrap: wrap;<br>            justify-content: flex-start;<br>            width: 100%;<br>        }<br>        .wandb-col {<br>            display: flex;<br>            flex-direction: column;<br>            flex-basis: 100%;<br>            flex: 1;<br>            padding: 10px;<br>        }<br>    </style><br><div class=\"wandb-row\"><div class=\"wandb-col\"><h3>Run history:</h3><br/><table class=\"wandb\"><tr><td>epoch</td><td>▁▁▁▁▁▂▂▂▂▂▃▃▃▃▃▄▄▄▄▄▅▅▅▅▅▆▆▆▆▆▆▆▇▇▇▇▇▇██</td></tr><tr><td>train_loss</td><td>█▁▁▁▁▁▁▁▁▁▁▁▁▁▁▁▁▁▁▁▁▁▁▁▁▁▁▁▁▁▁▁▁▁▁▁▁▁▁▁</td></tr><tr><td>val_loss</td><td>█▁▁▁▁▁▁▁▁▁▁▁▁▁▁▁▁▁▁▁▁▁▁▁▁▁▁▁▁▁▁▁▁▁▁▁▁▁▁▁</td></tr></table><br/></div><div class=\"wandb-col\"><h3>Run summary:</h3><br/><table class=\"wandb\"><tr><td>epoch</td><td>60</td></tr><tr><td>train_loss</td><td>8.82807</td></tr><tr><td>val_loss</td><td>11.84801</td></tr></table><br/></div></div>"
      ],
      "text/plain": [
       "<IPython.core.display.HTML object>"
      ]
     },
     "metadata": {},
     "output_type": "display_data"
    },
    {
     "data": {
      "text/html": [
       " View run <strong style=\"color:#cdcd00\">kind-sunset-15</strong> at: <a href='https://wandb.ai/yixuan228-imperial-college-london/DE_Groupwork_G4_stage2/runs/zpxqqxmj' target=\"_blank\">https://wandb.ai/yixuan228-imperial-college-london/DE_Groupwork_G4_stage2/runs/zpxqqxmj</a><br> View project at: <a href='https://wandb.ai/yixuan228-imperial-college-london/DE_Groupwork_G4_stage2' target=\"_blank\">https://wandb.ai/yixuan228-imperial-college-london/DE_Groupwork_G4_stage2</a><br>Synced 5 W&B file(s), 0 media file(s), 0 artifact file(s) and 0 other file(s)"
      ],
      "text/plain": [
       "<IPython.core.display.HTML object>"
      ]
     },
     "metadata": {},
     "output_type": "display_data"
    },
    {
     "data": {
      "text/html": [
       "Find logs at: <code>.\\wandb\\run-20250321_072428-zpxqqxmj\\logs</code>"
      ],
      "text/plain": [
       "<IPython.core.display.HTML object>"
      ]
     },
     "metadata": {},
     "output_type": "display_data"
    },
    {
     "data": {
      "text/html": [
       "Tracking run with wandb version 0.19.7"
      ],
      "text/plain": [
       "<IPython.core.display.HTML object>"
      ]
     },
     "metadata": {},
     "output_type": "display_data"
    },
    {
     "data": {
      "text/html": [
       "Run data is saved locally in <code>d:\\Projects\\MSc_DE_GroupWork4\\Scripts\\wandb\\run-20250321_072443-u5oaouha</code>"
      ],
      "text/plain": [
       "<IPython.core.display.HTML object>"
      ]
     },
     "metadata": {},
     "output_type": "display_data"
    },
    {
     "data": {
      "text/html": [
       "Syncing run <strong><a href='https://wandb.ai/yixuan228-imperial-college-london/DE_Groupwork_G4_stage2/runs/u5oaouha' target=\"_blank\">unique-wave-16</a></strong> to <a href='https://wandb.ai/yixuan228-imperial-college-london/DE_Groupwork_G4_stage2' target=\"_blank\">Weights & Biases</a> (<a href='https://wandb.me/developer-guide' target=\"_blank\">docs</a>)<br>"
      ],
      "text/plain": [
       "<IPython.core.display.HTML object>"
      ]
     },
     "metadata": {},
     "output_type": "display_data"
    },
    {
     "data": {
      "text/html": [
       " View project at <a href='https://wandb.ai/yixuan228-imperial-college-london/DE_Groupwork_G4_stage2' target=\"_blank\">https://wandb.ai/yixuan228-imperial-college-london/DE_Groupwork_G4_stage2</a>"
      ],
      "text/plain": [
       "<IPython.core.display.HTML object>"
      ]
     },
     "metadata": {},
     "output_type": "display_data"
    },
    {
     "data": {
      "text/html": [
       " View run at <a href='https://wandb.ai/yixuan228-imperial-college-london/DE_Groupwork_G4_stage2/runs/u5oaouha' target=\"_blank\">https://wandb.ai/yixuan228-imperial-college-london/DE_Groupwork_G4_stage2/runs/u5oaouha</a>"
      ],
      "text/plain": [
       "<IPython.core.display.HTML object>"
      ]
     },
     "metadata": {},
     "output_type": "display_data"
    },
    {
     "name": "stdout",
     "output_type": "stream",
     "text": [
      "Epoch 001 | Train Loss: 18075.8533 | Val Loss: 344.3784\n",
      "Epoch 002 | Train Loss: 209.3332 | Val Loss: 605.4572\n",
      "Epoch 003 | Train Loss: 180.5714 | Val Loss: 80.3324\n",
      "Epoch 004 | Train Loss: 63.6147 | Val Loss: 63.9507\n",
      "Epoch 005 | Train Loss: 43.9654 | Val Loss: 40.9597\n",
      "Epoch 006 | Train Loss: 36.5483 | Val Loss: 131.0935\n",
      "Epoch 007 | Train Loss: 34.7883 | Val Loss: 33.4975\n",
      "Epoch 008 | Train Loss: 31.3200 | Val Loss: 179.9674\n",
      "Epoch 009 | Train Loss: 47.4981 | Val Loss: 19.0297\n",
      "Epoch 010 | Train Loss: 20.1999 | Val Loss: 35.4473\n",
      "Epoch 011 | Train Loss: 23.3882 | Val Loss: 26.5983\n",
      "Epoch 012 | Train Loss: 31.1713 | Val Loss: 73.6796\n",
      "Epoch 013 | Train Loss: 27.0597 | Val Loss: 44.3723\n",
      "Epoch 014 | Train Loss: 18.5001 | Val Loss: 13.4115\n",
      "Epoch 015 | Train Loss: 17.8245 | Val Loss: 17.1326\n",
      "Epoch 016 | Train Loss: 28.7106 | Val Loss: 89.3151\n",
      "Epoch 017 | Train Loss: 20.1786 | Val Loss: 30.4396\n",
      "Epoch 018 | Train Loss: 20.1319 | Val Loss: 46.6641\n",
      "Epoch 019 | Train Loss: 14.4211 | Val Loss: 173.5616\n",
      "Early stopping triggered at epoch 19\n"
     ]
    },
    {
     "data": {
      "text/html": [],
      "text/plain": [
       "<IPython.core.display.HTML object>"
      ]
     },
     "metadata": {},
     "output_type": "display_data"
    },
    {
     "data": {
      "text/html": [
       "<br>    <style><br>        .wandb-row {<br>            display: flex;<br>            flex-direction: row;<br>            flex-wrap: wrap;<br>            justify-content: flex-start;<br>            width: 100%;<br>        }<br>        .wandb-col {<br>            display: flex;<br>            flex-direction: column;<br>            flex-basis: 100%;<br>            flex: 1;<br>            padding: 10px;<br>        }<br>    </style><br><div class=\"wandb-row\"><div class=\"wandb-col\"><h3>Run history:</h3><br/><table class=\"wandb\"><tr><td>epoch</td><td>▁▁▂▂▃▃▃▄▄▅▅▅▆▆▆▇▇██</td></tr><tr><td>train_loss</td><td>█▁▁▁▁▁▁▁▁▁▁▁▁▁▁▁▁▁▁</td></tr><tr><td>val_loss</td><td>▅█▂▂▁▂▁▃▁▁▁▂▁▁▁▂▁▁▃</td></tr></table><br/></div><div class=\"wandb-col\"><h3>Run summary:</h3><br/><table class=\"wandb\"><tr><td>epoch</td><td>19</td></tr><tr><td>train_loss</td><td>14.42109</td></tr><tr><td>val_loss</td><td>173.56161</td></tr></table><br/></div></div>"
      ],
      "text/plain": [
       "<IPython.core.display.HTML object>"
      ]
     },
     "metadata": {},
     "output_type": "display_data"
    },
    {
     "data": {
      "text/html": [
       " View run <strong style=\"color:#cdcd00\">unique-wave-16</strong> at: <a href='https://wandb.ai/yixuan228-imperial-college-london/DE_Groupwork_G4_stage2/runs/u5oaouha' target=\"_blank\">https://wandb.ai/yixuan228-imperial-college-london/DE_Groupwork_G4_stage2/runs/u5oaouha</a><br> View project at: <a href='https://wandb.ai/yixuan228-imperial-college-london/DE_Groupwork_G4_stage2' target=\"_blank\">https://wandb.ai/yixuan228-imperial-college-london/DE_Groupwork_G4_stage2</a><br>Synced 5 W&B file(s), 0 media file(s), 0 artifact file(s) and 0 other file(s)"
      ],
      "text/plain": [
       "<IPython.core.display.HTML object>"
      ]
     },
     "metadata": {},
     "output_type": "display_data"
    },
    {
     "data": {
      "text/html": [
       "Find logs at: <code>.\\wandb\\run-20250321_072443-u5oaouha\\logs</code>"
      ],
      "text/plain": [
       "<IPython.core.display.HTML object>"
      ]
     },
     "metadata": {},
     "output_type": "display_data"
    },
    {
     "data": {
      "text/html": [
       "Tracking run with wandb version 0.19.7"
      ],
      "text/plain": [
       "<IPython.core.display.HTML object>"
      ]
     },
     "metadata": {},
     "output_type": "display_data"
    },
    {
     "data": {
      "text/html": [
       "Run data is saved locally in <code>d:\\Projects\\MSc_DE_GroupWork4\\Scripts\\wandb\\run-20250321_072450-1uucsjvi</code>"
      ],
      "text/plain": [
       "<IPython.core.display.HTML object>"
      ]
     },
     "metadata": {},
     "output_type": "display_data"
    },
    {
     "data": {
      "text/html": [
       "Syncing run <strong><a href='https://wandb.ai/yixuan228-imperial-college-london/DE_Groupwork_G4_stage2/runs/1uucsjvi' target=\"_blank\">pretty-river-17</a></strong> to <a href='https://wandb.ai/yixuan228-imperial-college-london/DE_Groupwork_G4_stage2' target=\"_blank\">Weights & Biases</a> (<a href='https://wandb.me/developer-guide' target=\"_blank\">docs</a>)<br>"
      ],
      "text/plain": [
       "<IPython.core.display.HTML object>"
      ]
     },
     "metadata": {},
     "output_type": "display_data"
    },
    {
     "data": {
      "text/html": [
       " View project at <a href='https://wandb.ai/yixuan228-imperial-college-london/DE_Groupwork_G4_stage2' target=\"_blank\">https://wandb.ai/yixuan228-imperial-college-london/DE_Groupwork_G4_stage2</a>"
      ],
      "text/plain": [
       "<IPython.core.display.HTML object>"
      ]
     },
     "metadata": {},
     "output_type": "display_data"
    },
    {
     "data": {
      "text/html": [
       " View run at <a href='https://wandb.ai/yixuan228-imperial-college-london/DE_Groupwork_G4_stage2/runs/1uucsjvi' target=\"_blank\">https://wandb.ai/yixuan228-imperial-college-london/DE_Groupwork_G4_stage2/runs/1uucsjvi</a>"
      ],
      "text/plain": [
       "<IPython.core.display.HTML object>"
      ]
     },
     "metadata": {},
     "output_type": "display_data"
    },
    {
     "name": "stdout",
     "output_type": "stream",
     "text": [
      "Epoch 001 | Train Loss: 10648.5813 | Val Loss: 525.1911\n",
      "Epoch 002 | Train Loss: 307.4669 | Val Loss: 227.3155\n",
      "Epoch 003 | Train Loss: 147.8186 | Val Loss: 128.0268\n",
      "Epoch 004 | Train Loss: 92.0354 | Val Loss: 79.2228\n",
      "Epoch 005 | Train Loss: 55.1117 | Val Loss: 57.2632\n",
      "Epoch 006 | Train Loss: 33.6754 | Val Loss: 28.4021\n",
      "Epoch 007 | Train Loss: 22.2331 | Val Loss: 17.9227\n",
      "Epoch 008 | Train Loss: 15.4551 | Val Loss: 17.4065\n",
      "Epoch 009 | Train Loss: 12.5036 | Val Loss: 14.3883\n",
      "Epoch 010 | Train Loss: 13.0597 | Val Loss: 23.5141\n",
      "Epoch 011 | Train Loss: 11.9029 | Val Loss: 26.6178\n",
      "Epoch 012 | Train Loss: 12.5756 | Val Loss: 13.6984\n",
      "Epoch 013 | Train Loss: 11.9874 | Val Loss: 14.0819\n",
      "Epoch 014 | Train Loss: 11.8427 | Val Loss: 97.5833\n",
      "Epoch 015 | Train Loss: 25.4574 | Val Loss: 18.0804\n",
      "Epoch 016 | Train Loss: 13.2368 | Val Loss: 15.7732\n",
      "Epoch 017 | Train Loss: 15.9741 | Val Loss: 12.7971\n",
      "Epoch 018 | Train Loss: 14.2962 | Val Loss: 12.2794\n",
      "Epoch 019 | Train Loss: 13.9305 | Val Loss: 18.9796\n",
      "Epoch 020 | Train Loss: 14.6374 | Val Loss: 14.7493\n",
      "Epoch 021 | Train Loss: 13.4609 | Val Loss: 16.2651\n",
      "Epoch 022 | Train Loss: 23.4696 | Val Loss: 14.6925\n",
      "Epoch 023 | Train Loss: 15.0051 | Val Loss: 22.9476\n",
      "Early stopping triggered at epoch 23\n"
     ]
    },
    {
     "data": {
      "text/html": [],
      "text/plain": [
       "<IPython.core.display.HTML object>"
      ]
     },
     "metadata": {},
     "output_type": "display_data"
    },
    {
     "data": {
      "text/html": [
       "<br>    <style><br>        .wandb-row {<br>            display: flex;<br>            flex-direction: row;<br>            flex-wrap: wrap;<br>            justify-content: flex-start;<br>            width: 100%;<br>        }<br>        .wandb-col {<br>            display: flex;<br>            flex-direction: column;<br>            flex-basis: 100%;<br>            flex: 1;<br>            padding: 10px;<br>        }<br>    </style><br><div class=\"wandb-row\"><div class=\"wandb-col\"><h3>Run history:</h3><br/><table class=\"wandb\"><tr><td>epoch</td><td>▁▁▂▂▂▃▃▃▄▄▄▅▅▅▅▆▆▆▇▇▇██</td></tr><tr><td>train_loss</td><td>█▁▁▁▁▁▁▁▁▁▁▁▁▁▁▁▁▁▁▁▁▁▁</td></tr><tr><td>val_loss</td><td>█▄▃▂▂▁▁▁▁▁▁▁▁▂▁▁▁▁▁▁▁▁▁</td></tr></table><br/></div><div class=\"wandb-col\"><h3>Run summary:</h3><br/><table class=\"wandb\"><tr><td>epoch</td><td>23</td></tr><tr><td>train_loss</td><td>15.00506</td></tr><tr><td>val_loss</td><td>22.94763</td></tr></table><br/></div></div>"
      ],
      "text/plain": [
       "<IPython.core.display.HTML object>"
      ]
     },
     "metadata": {},
     "output_type": "display_data"
    },
    {
     "data": {
      "text/html": [
       " View run <strong style=\"color:#cdcd00\">pretty-river-17</strong> at: <a href='https://wandb.ai/yixuan228-imperial-college-london/DE_Groupwork_G4_stage2/runs/1uucsjvi' target=\"_blank\">https://wandb.ai/yixuan228-imperial-college-london/DE_Groupwork_G4_stage2/runs/1uucsjvi</a><br> View project at: <a href='https://wandb.ai/yixuan228-imperial-college-london/DE_Groupwork_G4_stage2' target=\"_blank\">https://wandb.ai/yixuan228-imperial-college-london/DE_Groupwork_G4_stage2</a><br>Synced 5 W&B file(s), 0 media file(s), 0 artifact file(s) and 0 other file(s)"
      ],
      "text/plain": [
       "<IPython.core.display.HTML object>"
      ]
     },
     "metadata": {},
     "output_type": "display_data"
    },
    {
     "data": {
      "text/html": [
       "Find logs at: <code>.\\wandb\\run-20250321_072450-1uucsjvi\\logs</code>"
      ],
      "text/plain": [
       "<IPython.core.display.HTML object>"
      ]
     },
     "metadata": {},
     "output_type": "display_data"
    },
    {
     "data": {
      "text/html": [
       "Tracking run with wandb version 0.19.7"
      ],
      "text/plain": [
       "<IPython.core.display.HTML object>"
      ]
     },
     "metadata": {},
     "output_type": "display_data"
    },
    {
     "data": {
      "text/html": [
       "Run data is saved locally in <code>d:\\Projects\\MSc_DE_GroupWork4\\Scripts\\wandb\\run-20250321_072458-16jbvpzt</code>"
      ],
      "text/plain": [
       "<IPython.core.display.HTML object>"
      ]
     },
     "metadata": {},
     "output_type": "display_data"
    },
    {
     "data": {
      "text/html": [
       "Syncing run <strong><a href='https://wandb.ai/yixuan228-imperial-college-london/DE_Groupwork_G4_stage2/runs/16jbvpzt' target=\"_blank\">serene-plasma-18</a></strong> to <a href='https://wandb.ai/yixuan228-imperial-college-london/DE_Groupwork_G4_stage2' target=\"_blank\">Weights & Biases</a> (<a href='https://wandb.me/developer-guide' target=\"_blank\">docs</a>)<br>"
      ],
      "text/plain": [
       "<IPython.core.display.HTML object>"
      ]
     },
     "metadata": {},
     "output_type": "display_data"
    },
    {
     "data": {
      "text/html": [
       " View project at <a href='https://wandb.ai/yixuan228-imperial-college-london/DE_Groupwork_G4_stage2' target=\"_blank\">https://wandb.ai/yixuan228-imperial-college-london/DE_Groupwork_G4_stage2</a>"
      ],
      "text/plain": [
       "<IPython.core.display.HTML object>"
      ]
     },
     "metadata": {},
     "output_type": "display_data"
    },
    {
     "data": {
      "text/html": [
       " View run at <a href='https://wandb.ai/yixuan228-imperial-college-london/DE_Groupwork_G4_stage2/runs/16jbvpzt' target=\"_blank\">https://wandb.ai/yixuan228-imperial-college-london/DE_Groupwork_G4_stage2/runs/16jbvpzt</a>"
      ],
      "text/plain": [
       "<IPython.core.display.HTML object>"
      ]
     },
     "metadata": {},
     "output_type": "display_data"
    },
    {
     "name": "stdout",
     "output_type": "stream",
     "text": [
      "Epoch 001 | Train Loss: 46436.5950 | Val Loss: 3358.8484\n",
      "Epoch 002 | Train Loss: 1653.8529 | Val Loss: 935.9056\n",
      "Epoch 003 | Train Loss: 709.4347 | Val Loss: 568.5702\n",
      "Epoch 004 | Train Loss: 460.1745 | Val Loss: 413.0083\n",
      "Epoch 005 | Train Loss: 342.8965 | Val Loss: 326.5190\n",
      "Epoch 006 | Train Loss: 270.9324 | Val Loss: 272.4373\n",
      "Epoch 007 | Train Loss: 224.2182 | Val Loss: 226.0635\n",
      "Epoch 008 | Train Loss: 188.0543 | Val Loss: 194.4197\n",
      "Epoch 009 | Train Loss: 159.3062 | Val Loss: 168.4466\n",
      "Epoch 010 | Train Loss: 136.8231 | Val Loss: 151.0519\n",
      "Epoch 011 | Train Loss: 117.8964 | Val Loss: 127.1176\n",
      "Epoch 012 | Train Loss: 101.9651 | Val Loss: 111.9395\n",
      "Epoch 013 | Train Loss: 87.1872 | Val Loss: 93.9349\n",
      "Epoch 014 | Train Loss: 74.3033 | Val Loss: 80.7467\n",
      "Epoch 015 | Train Loss: 62.2128 | Val Loss: 68.9352\n",
      "Epoch 016 | Train Loss: 51.9342 | Val Loss: 57.9646\n",
      "Epoch 017 | Train Loss: 43.6343 | Val Loss: 48.8242\n",
      "Epoch 018 | Train Loss: 35.4131 | Val Loss: 39.1452\n",
      "Epoch 019 | Train Loss: 29.1309 | Val Loss: 35.4777\n",
      "Epoch 020 | Train Loss: 24.4367 | Val Loss: 25.8224\n",
      "Epoch 021 | Train Loss: 19.6667 | Val Loss: 21.5468\n",
      "Epoch 022 | Train Loss: 17.0498 | Val Loss: 18.6894\n",
      "Epoch 023 | Train Loss: 14.9095 | Val Loss: 16.2878\n",
      "Epoch 024 | Train Loss: 13.3952 | Val Loss: 14.4831\n",
      "Epoch 025 | Train Loss: 12.5768 | Val Loss: 13.7272\n",
      "Epoch 026 | Train Loss: 11.6819 | Val Loss: 13.1330\n",
      "Epoch 027 | Train Loss: 11.2219 | Val Loss: 12.8047\n",
      "Epoch 028 | Train Loss: 10.4766 | Val Loss: 12.0922\n",
      "Epoch 029 | Train Loss: 10.7122 | Val Loss: 11.2058\n",
      "Epoch 030 | Train Loss: 10.4920 | Val Loss: 11.1853\n",
      "Epoch 031 | Train Loss: 10.0116 | Val Loss: 10.7723\n",
      "Epoch 032 | Train Loss: 9.6178 | Val Loss: 10.0800\n",
      "Epoch 033 | Train Loss: 9.3952 | Val Loss: 10.8730\n",
      "Epoch 034 | Train Loss: 9.2059 | Val Loss: 10.1594\n",
      "Epoch 035 | Train Loss: 9.4573 | Val Loss: 11.0248\n",
      "Epoch 036 | Train Loss: 9.5236 | Val Loss: 9.9868\n",
      "Epoch 037 | Train Loss: 8.7904 | Val Loss: 9.6231\n",
      "Epoch 038 | Train Loss: 8.6857 | Val Loss: 9.8644\n",
      "Epoch 039 | Train Loss: 8.7057 | Val Loss: 9.5255\n",
      "Epoch 040 | Train Loss: 9.3517 | Val Loss: 9.8677\n",
      "Epoch 041 | Train Loss: 8.6083 | Val Loss: 11.8811\n",
      "Epoch 042 | Train Loss: 8.5936 | Val Loss: 10.8358\n",
      "Epoch 043 | Train Loss: 8.7524 | Val Loss: 10.5496\n",
      "Epoch 044 | Train Loss: 8.6343 | Val Loss: 8.8988\n",
      "Epoch 045 | Train Loss: 8.9799 | Val Loss: 10.3131\n",
      "Epoch 046 | Train Loss: 8.5198 | Val Loss: 9.8098\n",
      "Epoch 047 | Train Loss: 9.5664 | Val Loss: 9.4040\n",
      "Epoch 048 | Train Loss: 8.6897 | Val Loss: 8.8144\n",
      "Epoch 049 | Train Loss: 8.6123 | Val Loss: 10.2133\n",
      "Epoch 050 | Train Loss: 8.3164 | Val Loss: 10.5811\n",
      "Epoch 051 | Train Loss: 8.6430 | Val Loss: 11.5173\n",
      "Epoch 052 | Train Loss: 8.6941 | Val Loss: 13.0087\n",
      "Epoch 053 | Train Loss: 8.7232 | Val Loss: 8.8586\n",
      "Early stopping triggered at epoch 53\n"
     ]
    },
    {
     "data": {
      "text/html": [],
      "text/plain": [
       "<IPython.core.display.HTML object>"
      ]
     },
     "metadata": {},
     "output_type": "display_data"
    },
    {
     "data": {
      "text/html": [
       "<br>    <style><br>        .wandb-row {<br>            display: flex;<br>            flex-direction: row;<br>            flex-wrap: wrap;<br>            justify-content: flex-start;<br>            width: 100%;<br>        }<br>        .wandb-col {<br>            display: flex;<br>            flex-direction: column;<br>            flex-basis: 100%;<br>            flex: 1;<br>            padding: 10px;<br>        }<br>    </style><br><div class=\"wandb-row\"><div class=\"wandb-col\"><h3>Run history:</h3><br/><table class=\"wandb\"><tr><td>epoch</td><td>▁▁▁▂▂▂▂▂▂▃▃▃▃▃▃▄▄▄▄▄▅▅▅▅▅▅▅▆▆▆▆▇▇▇▇▇▇▇██</td></tr><tr><td>train_loss</td><td>█▁▁▁▁▁▁▁▁▁▁▁▁▁▁▁▁▁▁▁▁▁▁▁▁▁▁▁▁▁▁▁▁▁▁▁▁▁▁▁</td></tr><tr><td>val_loss</td><td>█▃▂▂▂▁▁▁▁▁▁▁▁▁▁▁▁▁▁▁▁▁▁▁▁▁▁▁▁▁▁▁▁▁▁▁▁▁▁▁</td></tr></table><br/></div><div class=\"wandb-col\"><h3>Run summary:</h3><br/><table class=\"wandb\"><tr><td>epoch</td><td>53</td></tr><tr><td>train_loss</td><td>8.72316</td></tr><tr><td>val_loss</td><td>8.85857</td></tr></table><br/></div></div>"
      ],
      "text/plain": [
       "<IPython.core.display.HTML object>"
      ]
     },
     "metadata": {},
     "output_type": "display_data"
    },
    {
     "data": {
      "text/html": [
       " View run <strong style=\"color:#cdcd00\">serene-plasma-18</strong> at: <a href='https://wandb.ai/yixuan228-imperial-college-london/DE_Groupwork_G4_stage2/runs/16jbvpzt' target=\"_blank\">https://wandb.ai/yixuan228-imperial-college-london/DE_Groupwork_G4_stage2/runs/16jbvpzt</a><br> View project at: <a href='https://wandb.ai/yixuan228-imperial-college-london/DE_Groupwork_G4_stage2' target=\"_blank\">https://wandb.ai/yixuan228-imperial-college-london/DE_Groupwork_G4_stage2</a><br>Synced 5 W&B file(s), 0 media file(s), 0 artifact file(s) and 0 other file(s)"
      ],
      "text/plain": [
       "<IPython.core.display.HTML object>"
      ]
     },
     "metadata": {},
     "output_type": "display_data"
    },
    {
     "data": {
      "text/html": [
       "Find logs at: <code>.\\wandb\\run-20250321_072458-16jbvpzt\\logs</code>"
      ],
      "text/plain": [
       "<IPython.core.display.HTML object>"
      ]
     },
     "metadata": {},
     "output_type": "display_data"
    },
    {
     "data": {
      "text/html": [
       "Tracking run with wandb version 0.19.7"
      ],
      "text/plain": [
       "<IPython.core.display.HTML object>"
      ]
     },
     "metadata": {},
     "output_type": "display_data"
    },
    {
     "data": {
      "text/html": [
       "Run data is saved locally in <code>d:\\Projects\\MSc_DE_GroupWork4\\Scripts\\wandb\\run-20250321_072513-eazphdld</code>"
      ],
      "text/plain": [
       "<IPython.core.display.HTML object>"
      ]
     },
     "metadata": {},
     "output_type": "display_data"
    },
    {
     "data": {
      "text/html": [
       "Syncing run <strong><a href='https://wandb.ai/yixuan228-imperial-college-london/DE_Groupwork_G4_stage2/runs/eazphdld' target=\"_blank\">upbeat-oath-19</a></strong> to <a href='https://wandb.ai/yixuan228-imperial-college-london/DE_Groupwork_G4_stage2' target=\"_blank\">Weights & Biases</a> (<a href='https://wandb.me/developer-guide' target=\"_blank\">docs</a>)<br>"
      ],
      "text/plain": [
       "<IPython.core.display.HTML object>"
      ]
     },
     "metadata": {},
     "output_type": "display_data"
    },
    {
     "data": {
      "text/html": [
       " View project at <a href='https://wandb.ai/yixuan228-imperial-college-london/DE_Groupwork_G4_stage2' target=\"_blank\">https://wandb.ai/yixuan228-imperial-college-london/DE_Groupwork_G4_stage2</a>"
      ],
      "text/plain": [
       "<IPython.core.display.HTML object>"
      ]
     },
     "metadata": {},
     "output_type": "display_data"
    },
    {
     "data": {
      "text/html": [
       " View run at <a href='https://wandb.ai/yixuan228-imperial-college-london/DE_Groupwork_G4_stage2/runs/eazphdld' target=\"_blank\">https://wandb.ai/yixuan228-imperial-college-london/DE_Groupwork_G4_stage2/runs/eazphdld</a>"
      ],
      "text/plain": [
       "<IPython.core.display.HTML object>"
      ]
     },
     "metadata": {},
     "output_type": "display_data"
    },
    {
     "name": "stdout",
     "output_type": "stream",
     "text": [
      "Epoch 001 | Train Loss: 6161.3002 | Val Loss: 320.1049\n",
      "Epoch 002 | Train Loss: 215.7855 | Val Loss: 147.4443\n",
      "Epoch 003 | Train Loss: 85.1028 | Val Loss: 68.0766\n",
      "Epoch 004 | Train Loss: 41.0391 | Val Loss: 56.3514\n",
      "Epoch 005 | Train Loss: 33.5343 | Val Loss: 51.5550\n",
      "Epoch 006 | Train Loss: 29.1334 | Val Loss: 63.2957\n",
      "Epoch 007 | Train Loss: 29.8018 | Val Loss: 23.1977\n",
      "Epoch 008 | Train Loss: 23.6108 | Val Loss: 27.1072\n",
      "Epoch 009 | Train Loss: 22.1402 | Val Loss: 20.1813\n",
      "Epoch 010 | Train Loss: 29.5044 | Val Loss: 27.9583\n",
      "Epoch 011 | Train Loss: 28.7157 | Val Loss: 59.9397\n",
      "Epoch 012 | Train Loss: 37.0203 | Val Loss: 92.4695\n",
      "Epoch 013 | Train Loss: 27.5616 | Val Loss: 35.2073\n",
      "Epoch 014 | Train Loss: 41.0202 | Val Loss: 79.1025\n",
      "Early stopping triggered at epoch 14\n"
     ]
    },
    {
     "data": {
      "text/html": [],
      "text/plain": [
       "<IPython.core.display.HTML object>"
      ]
     },
     "metadata": {},
     "output_type": "display_data"
    },
    {
     "data": {
      "text/html": [
       "<br>    <style><br>        .wandb-row {<br>            display: flex;<br>            flex-direction: row;<br>            flex-wrap: wrap;<br>            justify-content: flex-start;<br>            width: 100%;<br>        }<br>        .wandb-col {<br>            display: flex;<br>            flex-direction: column;<br>            flex-basis: 100%;<br>            flex: 1;<br>            padding: 10px;<br>        }<br>    </style><br><div class=\"wandb-row\"><div class=\"wandb-col\"><h3>Run history:</h3><br/><table class=\"wandb\"><tr><td>epoch</td><td>▁▂▂▃▃▄▄▅▅▆▆▇▇█</td></tr><tr><td>train_loss</td><td>█▁▁▁▁▁▁▁▁▁▁▁▁▁</td></tr><tr><td>val_loss</td><td>█▄▂▂▂▂▁▁▁▁▂▃▁▂</td></tr></table><br/></div><div class=\"wandb-col\"><h3>Run summary:</h3><br/><table class=\"wandb\"><tr><td>epoch</td><td>14</td></tr><tr><td>train_loss</td><td>41.02018</td></tr><tr><td>val_loss</td><td>79.10252</td></tr></table><br/></div></div>"
      ],
      "text/plain": [
       "<IPython.core.display.HTML object>"
      ]
     },
     "metadata": {},
     "output_type": "display_data"
    },
    {
     "data": {
      "text/html": [
       " View run <strong style=\"color:#cdcd00\">upbeat-oath-19</strong> at: <a href='https://wandb.ai/yixuan228-imperial-college-london/DE_Groupwork_G4_stage2/runs/eazphdld' target=\"_blank\">https://wandb.ai/yixuan228-imperial-college-london/DE_Groupwork_G4_stage2/runs/eazphdld</a><br> View project at: <a href='https://wandb.ai/yixuan228-imperial-college-london/DE_Groupwork_G4_stage2' target=\"_blank\">https://wandb.ai/yixuan228-imperial-college-london/DE_Groupwork_G4_stage2</a><br>Synced 5 W&B file(s), 0 media file(s), 0 artifact file(s) and 0 other file(s)"
      ],
      "text/plain": [
       "<IPython.core.display.HTML object>"
      ]
     },
     "metadata": {},
     "output_type": "display_data"
    },
    {
     "data": {
      "text/html": [
       "Find logs at: <code>.\\wandb\\run-20250321_072513-eazphdld\\logs</code>"
      ],
      "text/plain": [
       "<IPython.core.display.HTML object>"
      ]
     },
     "metadata": {},
     "output_type": "display_data"
    },
    {
     "data": {
      "text/html": [
       "Tracking run with wandb version 0.19.7"
      ],
      "text/plain": [
       "<IPython.core.display.HTML object>"
      ]
     },
     "metadata": {},
     "output_type": "display_data"
    },
    {
     "data": {
      "text/html": [
       "Run data is saved locally in <code>d:\\Projects\\MSc_DE_GroupWork4\\Scripts\\wandb\\run-20250321_072518-lx18cki3</code>"
      ],
      "text/plain": [
       "<IPython.core.display.HTML object>"
      ]
     },
     "metadata": {},
     "output_type": "display_data"
    },
    {
     "data": {
      "text/html": [
       "Syncing run <strong><a href='https://wandb.ai/yixuan228-imperial-college-london/DE_Groupwork_G4_stage2/runs/lx18cki3' target=\"_blank\">wandering-fog-20</a></strong> to <a href='https://wandb.ai/yixuan228-imperial-college-london/DE_Groupwork_G4_stage2' target=\"_blank\">Weights & Biases</a> (<a href='https://wandb.me/developer-guide' target=\"_blank\">docs</a>)<br>"
      ],
      "text/plain": [
       "<IPython.core.display.HTML object>"
      ]
     },
     "metadata": {},
     "output_type": "display_data"
    },
    {
     "data": {
      "text/html": [
       " View project at <a href='https://wandb.ai/yixuan228-imperial-college-london/DE_Groupwork_G4_stage2' target=\"_blank\">https://wandb.ai/yixuan228-imperial-college-london/DE_Groupwork_G4_stage2</a>"
      ],
      "text/plain": [
       "<IPython.core.display.HTML object>"
      ]
     },
     "metadata": {},
     "output_type": "display_data"
    },
    {
     "data": {
      "text/html": [
       " View run at <a href='https://wandb.ai/yixuan228-imperial-college-london/DE_Groupwork_G4_stage2/runs/lx18cki3' target=\"_blank\">https://wandb.ai/yixuan228-imperial-college-london/DE_Groupwork_G4_stage2/runs/lx18cki3</a>"
      ],
      "text/plain": [
       "<IPython.core.display.HTML object>"
      ]
     },
     "metadata": {},
     "output_type": "display_data"
    },
    {
     "name": "stdout",
     "output_type": "stream",
     "text": [
      "Epoch 001 | Train Loss: 11868.9105 | Val Loss: 623.9815\n",
      "Epoch 002 | Train Loss: 404.0853 | Val Loss: 299.0077\n",
      "Epoch 003 | Train Loss: 207.2255 | Val Loss: 180.0705\n",
      "Epoch 004 | Train Loss: 129.4116 | Val Loss: 125.5208\n",
      "Epoch 005 | Train Loss: 88.6137 | Val Loss: 80.8572\n",
      "Epoch 006 | Train Loss: 58.5792 | Val Loss: 57.0443\n",
      "Epoch 007 | Train Loss: 39.7577 | Val Loss: 39.4537\n",
      "Epoch 008 | Train Loss: 27.2225 | Val Loss: 38.4197\n",
      "Epoch 009 | Train Loss: 20.3879 | Val Loss: 17.8887\n",
      "Epoch 010 | Train Loss: 14.6991 | Val Loss: 15.2264\n",
      "Epoch 011 | Train Loss: 12.3468 | Val Loss: 14.4870\n",
      "Epoch 012 | Train Loss: 12.8570 | Val Loss: 15.3507\n",
      "Epoch 013 | Train Loss: 12.5139 | Val Loss: 14.4390\n",
      "Epoch 014 | Train Loss: 12.7448 | Val Loss: 12.9599\n",
      "Epoch 015 | Train Loss: 11.7140 | Val Loss: 11.3518\n",
      "Epoch 016 | Train Loss: 10.8684 | Val Loss: 15.6472\n",
      "Epoch 017 | Train Loss: 11.8571 | Val Loss: 10.6454\n",
      "Epoch 018 | Train Loss: 10.3994 | Val Loss: 11.9221\n",
      "Epoch 019 | Train Loss: 10.0599 | Val Loss: 17.1793\n",
      "Epoch 020 | Train Loss: 12.7153 | Val Loss: 11.7322\n",
      "Epoch 021 | Train Loss: 11.0775 | Val Loss: 9.8797\n",
      "Epoch 022 | Train Loss: 10.1967 | Val Loss: 13.2039\n",
      "Epoch 023 | Train Loss: 10.6235 | Val Loss: 13.6733\n",
      "Epoch 024 | Train Loss: 11.5214 | Val Loss: 15.6411\n",
      "Epoch 025 | Train Loss: 11.6049 | Val Loss: 11.0941\n",
      "Epoch 026 | Train Loss: 11.4771 | Val Loss: 12.5269\n",
      "Early stopping triggered at epoch 26\n"
     ]
    },
    {
     "data": {
      "text/html": [],
      "text/plain": [
       "<IPython.core.display.HTML object>"
      ]
     },
     "metadata": {},
     "output_type": "display_data"
    },
    {
     "data": {
      "text/html": [
       "<br>    <style><br>        .wandb-row {<br>            display: flex;<br>            flex-direction: row;<br>            flex-wrap: wrap;<br>            justify-content: flex-start;<br>            width: 100%;<br>        }<br>        .wandb-col {<br>            display: flex;<br>            flex-direction: column;<br>            flex-basis: 100%;<br>            flex: 1;<br>            padding: 10px;<br>        }<br>    </style><br><div class=\"wandb-row\"><div class=\"wandb-col\"><h3>Run history:</h3><br/><table class=\"wandb\"><tr><td>epoch</td><td>▁▁▂▂▂▂▃▃▃▄▄▄▄▅▅▅▅▆▆▆▇▇▇▇██</td></tr><tr><td>train_loss</td><td>█▁▁▁▁▁▁▁▁▁▁▁▁▁▁▁▁▁▁▁▁▁▁▁▁▁</td></tr><tr><td>val_loss</td><td>█▄▃▂▂▂▁▁▁▁▁▁▁▁▁▁▁▁▁▁▁▁▁▁▁▁</td></tr></table><br/></div><div class=\"wandb-col\"><h3>Run summary:</h3><br/><table class=\"wandb\"><tr><td>epoch</td><td>26</td></tr><tr><td>train_loss</td><td>11.47708</td></tr><tr><td>val_loss</td><td>12.52694</td></tr></table><br/></div></div>"
      ],
      "text/plain": [
       "<IPython.core.display.HTML object>"
      ]
     },
     "metadata": {},
     "output_type": "display_data"
    },
    {
     "data": {
      "text/html": [
       " View run <strong style=\"color:#cdcd00\">wandering-fog-20</strong> at: <a href='https://wandb.ai/yixuan228-imperial-college-london/DE_Groupwork_G4_stage2/runs/lx18cki3' target=\"_blank\">https://wandb.ai/yixuan228-imperial-college-london/DE_Groupwork_G4_stage2/runs/lx18cki3</a><br> View project at: <a href='https://wandb.ai/yixuan228-imperial-college-london/DE_Groupwork_G4_stage2' target=\"_blank\">https://wandb.ai/yixuan228-imperial-college-london/DE_Groupwork_G4_stage2</a><br>Synced 5 W&B file(s), 0 media file(s), 0 artifact file(s) and 0 other file(s)"
      ],
      "text/plain": [
       "<IPython.core.display.HTML object>"
      ]
     },
     "metadata": {},
     "output_type": "display_data"
    },
    {
     "data": {
      "text/html": [
       "Find logs at: <code>.\\wandb\\run-20250321_072518-lx18cki3\\logs</code>"
      ],
      "text/plain": [
       "<IPython.core.display.HTML object>"
      ]
     },
     "metadata": {},
     "output_type": "display_data"
    },
    {
     "data": {
      "text/html": [
       "Tracking run with wandb version 0.19.7"
      ],
      "text/plain": [
       "<IPython.core.display.HTML object>"
      ]
     },
     "metadata": {},
     "output_type": "display_data"
    },
    {
     "data": {
      "text/html": [
       "Run data is saved locally in <code>d:\\Projects\\MSc_DE_GroupWork4\\Scripts\\wandb\\run-20250321_072526-iliq57ai</code>"
      ],
      "text/plain": [
       "<IPython.core.display.HTML object>"
      ]
     },
     "metadata": {},
     "output_type": "display_data"
    },
    {
     "data": {
      "text/html": [
       "Syncing run <strong><a href='https://wandb.ai/yixuan228-imperial-college-london/DE_Groupwork_G4_stage2/runs/iliq57ai' target=\"_blank\">deft-glitter-21</a></strong> to <a href='https://wandb.ai/yixuan228-imperial-college-london/DE_Groupwork_G4_stage2' target=\"_blank\">Weights & Biases</a> (<a href='https://wandb.me/developer-guide' target=\"_blank\">docs</a>)<br>"
      ],
      "text/plain": [
       "<IPython.core.display.HTML object>"
      ]
     },
     "metadata": {},
     "output_type": "display_data"
    },
    {
     "data": {
      "text/html": [
       " View project at <a href='https://wandb.ai/yixuan228-imperial-college-london/DE_Groupwork_G4_stage2' target=\"_blank\">https://wandb.ai/yixuan228-imperial-college-london/DE_Groupwork_G4_stage2</a>"
      ],
      "text/plain": [
       "<IPython.core.display.HTML object>"
      ]
     },
     "metadata": {},
     "output_type": "display_data"
    },
    {
     "data": {
      "text/html": [
       " View run at <a href='https://wandb.ai/yixuan228-imperial-college-london/DE_Groupwork_G4_stage2/runs/iliq57ai' target=\"_blank\">https://wandb.ai/yixuan228-imperial-college-london/DE_Groupwork_G4_stage2/runs/iliq57ai</a>"
      ],
      "text/plain": [
       "<IPython.core.display.HTML object>"
      ]
     },
     "metadata": {},
     "output_type": "display_data"
    },
    {
     "name": "stdout",
     "output_type": "stream",
     "text": [
      "Epoch 001 | Train Loss: 60430.5116 | Val Loss: 40490.9460\n",
      "Epoch 002 | Train Loss: 12502.3267 | Val Loss: 1787.1091\n",
      "Epoch 003 | Train Loss: 1432.0483 | Val Loss: 1204.9077\n",
      "Epoch 004 | Train Loss: 1019.3209 | Val Loss: 932.9828\n",
      "Epoch 005 | Train Loss: 811.7232 | Val Loss: 768.4535\n",
      "Epoch 006 | Train Loss: 677.8377 | Val Loss: 658.2248\n",
      "Epoch 007 | Train Loss: 583.0443 | Val Loss: 580.0814\n",
      "Epoch 008 | Train Loss: 509.5651 | Val Loss: 514.8161\n",
      "Epoch 009 | Train Loss: 451.7313 | Val Loss: 463.1475\n",
      "Epoch 010 | Train Loss: 403.4964 | Val Loss: 418.6938\n",
      "Epoch 011 | Train Loss: 362.5015 | Val Loss: 381.4427\n",
      "Epoch 012 | Train Loss: 328.0197 | Val Loss: 352.6426\n",
      "Epoch 013 | Train Loss: 298.7592 | Val Loss: 325.3159\n",
      "Epoch 014 | Train Loss: 273.3205 | Val Loss: 298.8444\n",
      "Epoch 015 | Train Loss: 250.1828 | Val Loss: 276.1707\n",
      "Epoch 016 | Train Loss: 230.1330 | Val Loss: 257.1826\n",
      "Epoch 017 | Train Loss: 213.1308 | Val Loss: 238.6938\n",
      "Epoch 018 | Train Loss: 196.7197 | Val Loss: 221.8047\n",
      "Epoch 019 | Train Loss: 181.8248 | Val Loss: 208.1149\n",
      "Epoch 020 | Train Loss: 168.8134 | Val Loss: 192.5472\n",
      "Epoch 021 | Train Loss: 156.0889 | Val Loss: 179.4474\n",
      "Epoch 022 | Train Loss: 144.1581 | Val Loss: 169.5441\n",
      "Epoch 023 | Train Loss: 133.8841 | Val Loss: 154.0808\n",
      "Epoch 024 | Train Loss: 123.0893 | Val Loss: 142.9283\n",
      "Epoch 025 | Train Loss: 112.9989 | Val Loss: 130.3889\n",
      "Epoch 026 | Train Loss: 103.7019 | Val Loss: 120.5512\n",
      "Epoch 027 | Train Loss: 94.0538 | Val Loss: 108.6256\n",
      "Epoch 028 | Train Loss: 85.1322 | Val Loss: 98.2449\n",
      "Epoch 029 | Train Loss: 76.8906 | Val Loss: 89.0074\n",
      "Epoch 030 | Train Loss: 68.9997 | Val Loss: 79.6539\n",
      "Epoch 031 | Train Loss: 62.0110 | Val Loss: 71.1082\n",
      "Epoch 032 | Train Loss: 54.9117 | Val Loss: 63.1336\n",
      "Epoch 033 | Train Loss: 48.0352 | Val Loss: 56.3797\n",
      "Epoch 034 | Train Loss: 42.3341 | Val Loss: 48.1850\n",
      "Epoch 035 | Train Loss: 37.1368 | Val Loss: 42.7009\n",
      "Epoch 036 | Train Loss: 32.6704 | Val Loss: 37.3195\n",
      "Epoch 037 | Train Loss: 28.5106 | Val Loss: 32.7031\n",
      "Epoch 038 | Train Loss: 24.7086 | Val Loss: 28.1302\n",
      "Epoch 039 | Train Loss: 21.8149 | Val Loss: 24.7774\n",
      "Epoch 040 | Train Loss: 19.1561 | Val Loss: 22.0194\n",
      "Epoch 041 | Train Loss: 17.1376 | Val Loss: 18.9072\n",
      "Epoch 042 | Train Loss: 15.3640 | Val Loss: 17.2113\n",
      "Epoch 043 | Train Loss: 13.9809 | Val Loss: 16.0271\n",
      "Epoch 044 | Train Loss: 12.9227 | Val Loss: 14.0749\n",
      "Epoch 045 | Train Loss: 11.9170 | Val Loss: 12.9595\n",
      "Epoch 046 | Train Loss: 11.3779 | Val Loss: 12.5743\n",
      "Epoch 047 | Train Loss: 10.8703 | Val Loss: 12.3312\n",
      "Epoch 048 | Train Loss: 10.6284 | Val Loss: 11.3123\n",
      "Epoch 049 | Train Loss: 10.0503 | Val Loss: 10.4825\n",
      "Epoch 050 | Train Loss: 9.5965 | Val Loss: 10.1371\n",
      "Epoch 051 | Train Loss: 9.3558 | Val Loss: 9.9749\n",
      "Epoch 052 | Train Loss: 9.2577 | Val Loss: 10.6368\n",
      "Epoch 053 | Train Loss: 9.1629 | Val Loss: 11.7470\n",
      "Epoch 054 | Train Loss: 9.1759 | Val Loss: 9.8100\n",
      "Epoch 055 | Train Loss: 8.9843 | Val Loss: 9.1653\n",
      "Epoch 056 | Train Loss: 8.7568 | Val Loss: 11.2021\n",
      "Epoch 057 | Train Loss: 9.9352 | Val Loss: 9.7289\n",
      "Epoch 058 | Train Loss: 8.6328 | Val Loss: 8.7866\n",
      "Epoch 059 | Train Loss: 8.5404 | Val Loss: 8.9223\n",
      "Epoch 060 | Train Loss: 8.9267 | Val Loss: 9.3135\n",
      "Epoch 061 | Train Loss: 8.4910 | Val Loss: 9.7457\n",
      "Epoch 062 | Train Loss: 8.2929 | Val Loss: 8.6480\n",
      "Epoch 063 | Train Loss: 8.5225 | Val Loss: 9.2066\n",
      "Epoch 064 | Train Loss: 8.6177 | Val Loss: 8.8306\n",
      "Epoch 065 | Train Loss: 8.6672 | Val Loss: 8.7064\n",
      "Epoch 066 | Train Loss: 8.1976 | Val Loss: 9.4985\n",
      "Epoch 067 | Train Loss: 8.3395 | Val Loss: 8.4937\n",
      "Epoch 068 | Train Loss: 8.9431 | Val Loss: 9.5229\n",
      "Epoch 069 | Train Loss: 8.3865 | Val Loss: 10.3844\n",
      "Epoch 070 | Train Loss: 8.5063 | Val Loss: 8.9865\n",
      "Epoch 071 | Train Loss: 8.3749 | Val Loss: 9.9673\n",
      "Epoch 072 | Train Loss: 8.3291 | Val Loss: 11.1616\n",
      "Early stopping triggered at epoch 72\n"
     ]
    },
    {
     "data": {
      "text/html": [],
      "text/plain": [
       "<IPython.core.display.HTML object>"
      ]
     },
     "metadata": {},
     "output_type": "display_data"
    },
    {
     "data": {
      "text/html": [
       "<br>    <style><br>        .wandb-row {<br>            display: flex;<br>            flex-direction: row;<br>            flex-wrap: wrap;<br>            justify-content: flex-start;<br>            width: 100%;<br>        }<br>        .wandb-col {<br>            display: flex;<br>            flex-direction: column;<br>            flex-basis: 100%;<br>            flex: 1;<br>            padding: 10px;<br>        }<br>    </style><br><div class=\"wandb-row\"><div class=\"wandb-col\"><h3>Run history:</h3><br/><table class=\"wandb\"><tr><td>epoch</td><td>▁▁▂▂▂▂▂▂▃▃▃▃▃▃▃▄▄▄▅▅▅▅▅▅▅▆▆▆▆▆▇▇▇▇▇▇▇███</td></tr><tr><td>train_loss</td><td>█▂▁▁▁▁▁▁▁▁▁▁▁▁▁▁▁▁▁▁▁▁▁▁▁▁▁▁▁▁▁▁▁▁▁▁▁▁▁▁</td></tr><tr><td>val_loss</td><td>█▁▁▁▁▁▁▁▁▁▁▁▁▁▁▁▁▁▁▁▁▁▁▁▁▁▁▁▁▁▁▁▁▁▁▁▁▁▁▁</td></tr></table><br/></div><div class=\"wandb-col\"><h3>Run summary:</h3><br/><table class=\"wandb\"><tr><td>epoch</td><td>72</td></tr><tr><td>train_loss</td><td>8.32913</td></tr><tr><td>val_loss</td><td>11.16157</td></tr></table><br/></div></div>"
      ],
      "text/plain": [
       "<IPython.core.display.HTML object>"
      ]
     },
     "metadata": {},
     "output_type": "display_data"
    },
    {
     "data": {
      "text/html": [
       " View run <strong style=\"color:#cdcd00\">deft-glitter-21</strong> at: <a href='https://wandb.ai/yixuan228-imperial-college-london/DE_Groupwork_G4_stage2/runs/iliq57ai' target=\"_blank\">https://wandb.ai/yixuan228-imperial-college-london/DE_Groupwork_G4_stage2/runs/iliq57ai</a><br> View project at: <a href='https://wandb.ai/yixuan228-imperial-college-london/DE_Groupwork_G4_stage2' target=\"_blank\">https://wandb.ai/yixuan228-imperial-college-london/DE_Groupwork_G4_stage2</a><br>Synced 5 W&B file(s), 0 media file(s), 0 artifact file(s) and 0 other file(s)"
      ],
      "text/plain": [
       "<IPython.core.display.HTML object>"
      ]
     },
     "metadata": {},
     "output_type": "display_data"
    },
    {
     "data": {
      "text/html": [
       "Find logs at: <code>.\\wandb\\run-20250321_072526-iliq57ai\\logs</code>"
      ],
      "text/plain": [
       "<IPython.core.display.HTML object>"
      ]
     },
     "metadata": {},
     "output_type": "display_data"
    },
    {
     "data": {
      "text/html": [
       "Tracking run with wandb version 0.19.7"
      ],
      "text/plain": [
       "<IPython.core.display.HTML object>"
      ]
     },
     "metadata": {},
     "output_type": "display_data"
    },
    {
     "data": {
      "text/html": [
       "Run data is saved locally in <code>d:\\Projects\\MSc_DE_GroupWork4\\Scripts\\wandb\\run-20250321_072543-9wz62rye</code>"
      ],
      "text/plain": [
       "<IPython.core.display.HTML object>"
      ]
     },
     "metadata": {},
     "output_type": "display_data"
    },
    {
     "data": {
      "text/html": [
       "Syncing run <strong><a href='https://wandb.ai/yixuan228-imperial-college-london/DE_Groupwork_G4_stage2/runs/9wz62rye' target=\"_blank\">whole-firebrand-22</a></strong> to <a href='https://wandb.ai/yixuan228-imperial-college-london/DE_Groupwork_G4_stage2' target=\"_blank\">Weights & Biases</a> (<a href='https://wandb.me/developer-guide' target=\"_blank\">docs</a>)<br>"
      ],
      "text/plain": [
       "<IPython.core.display.HTML object>"
      ]
     },
     "metadata": {},
     "output_type": "display_data"
    },
    {
     "data": {
      "text/html": [
       " View project at <a href='https://wandb.ai/yixuan228-imperial-college-london/DE_Groupwork_G4_stage2' target=\"_blank\">https://wandb.ai/yixuan228-imperial-college-london/DE_Groupwork_G4_stage2</a>"
      ],
      "text/plain": [
       "<IPython.core.display.HTML object>"
      ]
     },
     "metadata": {},
     "output_type": "display_data"
    },
    {
     "data": {
      "text/html": [
       " View run at <a href='https://wandb.ai/yixuan228-imperial-college-london/DE_Groupwork_G4_stage2/runs/9wz62rye' target=\"_blank\">https://wandb.ai/yixuan228-imperial-college-london/DE_Groupwork_G4_stage2/runs/9wz62rye</a>"
      ],
      "text/plain": [
       "<IPython.core.display.HTML object>"
      ]
     },
     "metadata": {},
     "output_type": "display_data"
    },
    {
     "name": "stdout",
     "output_type": "stream",
     "text": [
      "Epoch 001 | Train Loss: 21007.4442 | Val Loss: 536.6022\n",
      "Epoch 002 | Train Loss: 290.0784 | Val Loss: 284.0767\n",
      "Epoch 003 | Train Loss: 152.1036 | Val Loss: 162.3482\n",
      "Epoch 004 | Train Loss: 74.1049 | Val Loss: 173.3024\n",
      "Epoch 005 | Train Loss: 48.4151 | Val Loss: 44.9480\n",
      "Epoch 006 | Train Loss: 32.2382 | Val Loss: 37.5252\n",
      "Epoch 007 | Train Loss: 36.4633 | Val Loss: 61.8132\n",
      "Epoch 008 | Train Loss: 25.8092 | Val Loss: 16.7284\n",
      "Epoch 009 | Train Loss: 18.4507 | Val Loss: 36.5694\n",
      "Epoch 010 | Train Loss: 19.7737 | Val Loss: 42.8762\n",
      "Epoch 011 | Train Loss: 37.9553 | Val Loss: 84.7910\n",
      "Epoch 012 | Train Loss: 32.7058 | Val Loss: 25.0115\n",
      "Epoch 013 | Train Loss: 41.4902 | Val Loss: 17.0467\n",
      "Early stopping triggered at epoch 13\n"
     ]
    },
    {
     "data": {
      "text/html": [],
      "text/plain": [
       "<IPython.core.display.HTML object>"
      ]
     },
     "metadata": {},
     "output_type": "display_data"
    },
    {
     "data": {
      "text/html": [
       "<br>    <style><br>        .wandb-row {<br>            display: flex;<br>            flex-direction: row;<br>            flex-wrap: wrap;<br>            justify-content: flex-start;<br>            width: 100%;<br>        }<br>        .wandb-col {<br>            display: flex;<br>            flex-direction: column;<br>            flex-basis: 100%;<br>            flex: 1;<br>            padding: 10px;<br>        }<br>    </style><br><div class=\"wandb-row\"><div class=\"wandb-col\"><h3>Run history:</h3><br/><table class=\"wandb\"><tr><td>epoch</td><td>▁▂▂▃▃▄▅▅▆▆▇▇█</td></tr><tr><td>train_loss</td><td>█▁▁▁▁▁▁▁▁▁▁▁▁</td></tr><tr><td>val_loss</td><td>█▅▃▃▁▁▂▁▁▁▂▁▁</td></tr></table><br/></div><div class=\"wandb-col\"><h3>Run summary:</h3><br/><table class=\"wandb\"><tr><td>epoch</td><td>13</td></tr><tr><td>train_loss</td><td>41.49017</td></tr><tr><td>val_loss</td><td>17.04671</td></tr></table><br/></div></div>"
      ],
      "text/plain": [
       "<IPython.core.display.HTML object>"
      ]
     },
     "metadata": {},
     "output_type": "display_data"
    },
    {
     "data": {
      "text/html": [
       " View run <strong style=\"color:#cdcd00\">whole-firebrand-22</strong> at: <a href='https://wandb.ai/yixuan228-imperial-college-london/DE_Groupwork_G4_stage2/runs/9wz62rye' target=\"_blank\">https://wandb.ai/yixuan228-imperial-college-london/DE_Groupwork_G4_stage2/runs/9wz62rye</a><br> View project at: <a href='https://wandb.ai/yixuan228-imperial-college-london/DE_Groupwork_G4_stage2' target=\"_blank\">https://wandb.ai/yixuan228-imperial-college-london/DE_Groupwork_G4_stage2</a><br>Synced 5 W&B file(s), 0 media file(s), 0 artifact file(s) and 0 other file(s)"
      ],
      "text/plain": [
       "<IPython.core.display.HTML object>"
      ]
     },
     "metadata": {},
     "output_type": "display_data"
    },
    {
     "data": {
      "text/html": [
       "Find logs at: <code>.\\wandb\\run-20250321_072543-9wz62rye\\logs</code>"
      ],
      "text/plain": [
       "<IPython.core.display.HTML object>"
      ]
     },
     "metadata": {},
     "output_type": "display_data"
    },
    {
     "data": {
      "text/html": [
       "Tracking run with wandb version 0.19.7"
      ],
      "text/plain": [
       "<IPython.core.display.HTML object>"
      ]
     },
     "metadata": {},
     "output_type": "display_data"
    },
    {
     "data": {
      "text/html": [
       "Run data is saved locally in <code>d:\\Projects\\MSc_DE_GroupWork4\\Scripts\\wandb\\run-20250321_072548-eo3tuk6b</code>"
      ],
      "text/plain": [
       "<IPython.core.display.HTML object>"
      ]
     },
     "metadata": {},
     "output_type": "display_data"
    },
    {
     "data": {
      "text/html": [
       "Syncing run <strong><a href='https://wandb.ai/yixuan228-imperial-college-london/DE_Groupwork_G4_stage2/runs/eo3tuk6b' target=\"_blank\">trim-deluge-23</a></strong> to <a href='https://wandb.ai/yixuan228-imperial-college-london/DE_Groupwork_G4_stage2' target=\"_blank\">Weights & Biases</a> (<a href='https://wandb.me/developer-guide' target=\"_blank\">docs</a>)<br>"
      ],
      "text/plain": [
       "<IPython.core.display.HTML object>"
      ]
     },
     "metadata": {},
     "output_type": "display_data"
    },
    {
     "data": {
      "text/html": [
       " View project at <a href='https://wandb.ai/yixuan228-imperial-college-london/DE_Groupwork_G4_stage2' target=\"_blank\">https://wandb.ai/yixuan228-imperial-college-london/DE_Groupwork_G4_stage2</a>"
      ],
      "text/plain": [
       "<IPython.core.display.HTML object>"
      ]
     },
     "metadata": {},
     "output_type": "display_data"
    },
    {
     "data": {
      "text/html": [
       " View run at <a href='https://wandb.ai/yixuan228-imperial-college-london/DE_Groupwork_G4_stage2/runs/eo3tuk6b' target=\"_blank\">https://wandb.ai/yixuan228-imperial-college-london/DE_Groupwork_G4_stage2/runs/eo3tuk6b</a>"
      ],
      "text/plain": [
       "<IPython.core.display.HTML object>"
      ]
     },
     "metadata": {},
     "output_type": "display_data"
    },
    {
     "name": "stdout",
     "output_type": "stream",
     "text": [
      "Epoch 001 | Train Loss: 8457.7381 | Val Loss: 424.0336\n",
      "Epoch 002 | Train Loss: 245.1608 | Val Loss: 169.6644\n",
      "Epoch 003 | Train Loss: 115.7889 | Val Loss: 95.4963\n",
      "Epoch 004 | Train Loss: 61.5636 | Val Loss: 50.2292\n",
      "Epoch 005 | Train Loss: 30.6618 | Val Loss: 25.8443\n",
      "Epoch 006 | Train Loss: 18.0731 | Val Loss: 20.1904\n",
      "Epoch 007 | Train Loss: 13.4065 | Val Loss: 13.4695\n",
      "Epoch 008 | Train Loss: 14.4193 | Val Loss: 18.6209\n",
      "Epoch 009 | Train Loss: 12.8570 | Val Loss: 31.7522\n",
      "Epoch 010 | Train Loss: 16.9832 | Val Loss: 21.1703\n",
      "Epoch 011 | Train Loss: 13.5495 | Val Loss: 14.2157\n",
      "Epoch 012 | Train Loss: 12.7091 | Val Loss: 10.6616\n",
      "Epoch 013 | Train Loss: 13.4501 | Val Loss: 14.9901\n",
      "Epoch 014 | Train Loss: 14.6879 | Val Loss: 17.0681\n",
      "Epoch 015 | Train Loss: 15.4645 | Val Loss: 12.5667\n",
      "Epoch 016 | Train Loss: 11.2690 | Val Loss: 51.6054\n",
      "Epoch 017 | Train Loss: 18.0222 | Val Loss: 22.9462\n",
      "Early stopping triggered at epoch 17\n"
     ]
    },
    {
     "data": {
      "text/html": [],
      "text/plain": [
       "<IPython.core.display.HTML object>"
      ]
     },
     "metadata": {},
     "output_type": "display_data"
    },
    {
     "data": {
      "text/html": [
       "<br>    <style><br>        .wandb-row {<br>            display: flex;<br>            flex-direction: row;<br>            flex-wrap: wrap;<br>            justify-content: flex-start;<br>            width: 100%;<br>        }<br>        .wandb-col {<br>            display: flex;<br>            flex-direction: column;<br>            flex-basis: 100%;<br>            flex: 1;<br>            padding: 10px;<br>        }<br>    </style><br><div class=\"wandb-row\"><div class=\"wandb-col\"><h3>Run history:</h3><br/><table class=\"wandb\"><tr><td>epoch</td><td>▁▁▂▂▃▃▄▄▅▅▅▆▆▇▇██</td></tr><tr><td>train_loss</td><td>█▁▁▁▁▁▁▁▁▁▁▁▁▁▁▁▁</td></tr><tr><td>val_loss</td><td>█▄▂▂▁▁▁▁▁▁▁▁▁▁▁▂▁</td></tr></table><br/></div><div class=\"wandb-col\"><h3>Run summary:</h3><br/><table class=\"wandb\"><tr><td>epoch</td><td>17</td></tr><tr><td>train_loss</td><td>18.02216</td></tr><tr><td>val_loss</td><td>22.94621</td></tr></table><br/></div></div>"
      ],
      "text/plain": [
       "<IPython.core.display.HTML object>"
      ]
     },
     "metadata": {},
     "output_type": "display_data"
    },
    {
     "data": {
      "text/html": [
       " View run <strong style=\"color:#cdcd00\">trim-deluge-23</strong> at: <a href='https://wandb.ai/yixuan228-imperial-college-london/DE_Groupwork_G4_stage2/runs/eo3tuk6b' target=\"_blank\">https://wandb.ai/yixuan228-imperial-college-london/DE_Groupwork_G4_stage2/runs/eo3tuk6b</a><br> View project at: <a href='https://wandb.ai/yixuan228-imperial-college-london/DE_Groupwork_G4_stage2' target=\"_blank\">https://wandb.ai/yixuan228-imperial-college-london/DE_Groupwork_G4_stage2</a><br>Synced 5 W&B file(s), 0 media file(s), 0 artifact file(s) and 0 other file(s)"
      ],
      "text/plain": [
       "<IPython.core.display.HTML object>"
      ]
     },
     "metadata": {},
     "output_type": "display_data"
    },
    {
     "data": {
      "text/html": [
       "Find logs at: <code>.\\wandb\\run-20250321_072548-eo3tuk6b\\logs</code>"
      ],
      "text/plain": [
       "<IPython.core.display.HTML object>"
      ]
     },
     "metadata": {},
     "output_type": "display_data"
    },
    {
     "data": {
      "text/html": [
       "Tracking run with wandb version 0.19.7"
      ],
      "text/plain": [
       "<IPython.core.display.HTML object>"
      ]
     },
     "metadata": {},
     "output_type": "display_data"
    },
    {
     "data": {
      "text/html": [
       "Run data is saved locally in <code>d:\\Projects\\MSc_DE_GroupWork4\\Scripts\\wandb\\run-20250321_072554-3v3u73zz</code>"
      ],
      "text/plain": [
       "<IPython.core.display.HTML object>"
      ]
     },
     "metadata": {},
     "output_type": "display_data"
    },
    {
     "data": {
      "text/html": [
       "Syncing run <strong><a href='https://wandb.ai/yixuan228-imperial-college-london/DE_Groupwork_G4_stage2/runs/3v3u73zz' target=\"_blank\">bright-water-24</a></strong> to <a href='https://wandb.ai/yixuan228-imperial-college-london/DE_Groupwork_G4_stage2' target=\"_blank\">Weights & Biases</a> (<a href='https://wandb.me/developer-guide' target=\"_blank\">docs</a>)<br>"
      ],
      "text/plain": [
       "<IPython.core.display.HTML object>"
      ]
     },
     "metadata": {},
     "output_type": "display_data"
    },
    {
     "data": {
      "text/html": [
       " View project at <a href='https://wandb.ai/yixuan228-imperial-college-london/DE_Groupwork_G4_stage2' target=\"_blank\">https://wandb.ai/yixuan228-imperial-college-london/DE_Groupwork_G4_stage2</a>"
      ],
      "text/plain": [
       "<IPython.core.display.HTML object>"
      ]
     },
     "metadata": {},
     "output_type": "display_data"
    },
    {
     "data": {
      "text/html": [
       " View run at <a href='https://wandb.ai/yixuan228-imperial-college-london/DE_Groupwork_G4_stage2/runs/3v3u73zz' target=\"_blank\">https://wandb.ai/yixuan228-imperial-college-london/DE_Groupwork_G4_stage2/runs/3v3u73zz</a>"
      ],
      "text/plain": [
       "<IPython.core.display.HTML object>"
      ]
     },
     "metadata": {},
     "output_type": "display_data"
    },
    {
     "name": "stdout",
     "output_type": "stream",
     "text": [
      "Epoch 001 | Train Loss: 40215.6134 | Val Loss: 2064.6621\n",
      "Epoch 002 | Train Loss: 1262.2172 | Val Loss: 841.0587\n",
      "Epoch 003 | Train Loss: 659.4434 | Val Loss: 577.8042\n",
      "Epoch 004 | Train Loss: 465.1028 | Val Loss: 428.6324\n",
      "Epoch 005 | Train Loss: 348.4610 | Val Loss: 334.5310\n",
      "Epoch 006 | Train Loss: 268.1971 | Val Loss: 267.9919\n",
      "Epoch 007 | Train Loss: 211.2675 | Val Loss: 225.2195\n",
      "Epoch 008 | Train Loss: 170.1918 | Val Loss: 178.1613\n",
      "Epoch 009 | Train Loss: 137.2921 | Val Loss: 150.2087\n",
      "Epoch 010 | Train Loss: 112.6558 | Val Loss: 124.5594\n",
      "Epoch 011 | Train Loss: 92.3776 | Val Loss: 101.3100\n",
      "Epoch 012 | Train Loss: 76.0521 | Val Loss: 80.6099\n",
      "Epoch 013 | Train Loss: 59.5669 | Val Loss: 63.6695\n",
      "Epoch 014 | Train Loss: 46.2826 | Val Loss: 50.3728\n",
      "Epoch 015 | Train Loss: 35.0779 | Val Loss: 38.6191\n",
      "Epoch 016 | Train Loss: 28.0936 | Val Loss: 28.7855\n",
      "Epoch 017 | Train Loss: 22.0559 | Val Loss: 23.0861\n",
      "Epoch 018 | Train Loss: 18.7522 | Val Loss: 19.6971\n",
      "Epoch 019 | Train Loss: 16.4903 | Val Loss: 17.0818\n",
      "Epoch 020 | Train Loss: 14.7214 | Val Loss: 16.3055\n",
      "Epoch 021 | Train Loss: 13.4655 | Val Loss: 14.5251\n",
      "Epoch 022 | Train Loss: 12.4551 | Val Loss: 13.1601\n",
      "Epoch 023 | Train Loss: 12.0123 | Val Loss: 15.3709\n",
      "Epoch 024 | Train Loss: 11.7624 | Val Loss: 13.7066\n",
      "Epoch 025 | Train Loss: 10.9872 | Val Loss: 12.1559\n",
      "Epoch 026 | Train Loss: 10.6281 | Val Loss: 12.2531\n",
      "Epoch 027 | Train Loss: 10.2989 | Val Loss: 11.2239\n",
      "Epoch 028 | Train Loss: 9.8124 | Val Loss: 10.4330\n",
      "Epoch 029 | Train Loss: 9.8404 | Val Loss: 10.5101\n",
      "Epoch 030 | Train Loss: 9.4630 | Val Loss: 10.5009\n",
      "Epoch 031 | Train Loss: 9.8343 | Val Loss: 10.0977\n",
      "Epoch 032 | Train Loss: 9.1964 | Val Loss: 10.0342\n",
      "Epoch 033 | Train Loss: 9.0526 | Val Loss: 12.3933\n",
      "Epoch 034 | Train Loss: 9.2478 | Val Loss: 11.5215\n",
      "Epoch 035 | Train Loss: 9.0465 | Val Loss: 10.4981\n",
      "Epoch 036 | Train Loss: 8.6585 | Val Loss: 13.2998\n",
      "Epoch 037 | Train Loss: 9.0338 | Val Loss: 10.0480\n",
      "Early stopping triggered at epoch 37\n"
     ]
    },
    {
     "data": {
      "text/html": [],
      "text/plain": [
       "<IPython.core.display.HTML object>"
      ]
     },
     "metadata": {},
     "output_type": "display_data"
    },
    {
     "data": {
      "text/html": [
       "<br>    <style><br>        .wandb-row {<br>            display: flex;<br>            flex-direction: row;<br>            flex-wrap: wrap;<br>            justify-content: flex-start;<br>            width: 100%;<br>        }<br>        .wandb-col {<br>            display: flex;<br>            flex-direction: column;<br>            flex-basis: 100%;<br>            flex: 1;<br>            padding: 10px;<br>        }<br>    </style><br><div class=\"wandb-row\"><div class=\"wandb-col\"><h3>Run history:</h3><br/><table class=\"wandb\"><tr><td>epoch</td><td>▁▁▁▂▂▂▂▂▃▃▃▃▃▄▄▄▄▄▅▅▅▅▅▅▆▆▆▆▆▇▇▇▇▇███</td></tr><tr><td>train_loss</td><td>█▁▁▁▁▁▁▁▁▁▁▁▁▁▁▁▁▁▁▁▁▁▁▁▁▁▁▁▁▁▁▁▁▁▁▁▁</td></tr><tr><td>val_loss</td><td>█▄▃▂▂▂▂▂▁▁▁▁▁▁▁▁▁▁▁▁▁▁▁▁▁▁▁▁▁▁▁▁▁▁▁▁▁</td></tr></table><br/></div><div class=\"wandb-col\"><h3>Run summary:</h3><br/><table class=\"wandb\"><tr><td>epoch</td><td>37</td></tr><tr><td>train_loss</td><td>9.03378</td></tr><tr><td>val_loss</td><td>10.04804</td></tr></table><br/></div></div>"
      ],
      "text/plain": [
       "<IPython.core.display.HTML object>"
      ]
     },
     "metadata": {},
     "output_type": "display_data"
    },
    {
     "data": {
      "text/html": [
       " View run <strong style=\"color:#cdcd00\">bright-water-24</strong> at: <a href='https://wandb.ai/yixuan228-imperial-college-london/DE_Groupwork_G4_stage2/runs/3v3u73zz' target=\"_blank\">https://wandb.ai/yixuan228-imperial-college-london/DE_Groupwork_G4_stage2/runs/3v3u73zz</a><br> View project at: <a href='https://wandb.ai/yixuan228-imperial-college-london/DE_Groupwork_G4_stage2' target=\"_blank\">https://wandb.ai/yixuan228-imperial-college-london/DE_Groupwork_G4_stage2</a><br>Synced 5 W&B file(s), 0 media file(s), 0 artifact file(s) and 0 other file(s)"
      ],
      "text/plain": [
       "<IPython.core.display.HTML object>"
      ]
     },
     "metadata": {},
     "output_type": "display_data"
    },
    {
     "data": {
      "text/html": [
       "Find logs at: <code>.\\wandb\\run-20250321_072554-3v3u73zz\\logs</code>"
      ],
      "text/plain": [
       "<IPython.core.display.HTML object>"
      ]
     },
     "metadata": {},
     "output_type": "display_data"
    },
    {
     "data": {
      "text/html": [
       "Tracking run with wandb version 0.19.7"
      ],
      "text/plain": [
       "<IPython.core.display.HTML object>"
      ]
     },
     "metadata": {},
     "output_type": "display_data"
    },
    {
     "data": {
      "text/html": [
       "Run data is saved locally in <code>d:\\Projects\\MSc_DE_GroupWork4\\Scripts\\wandb\\run-20250321_072605-ianmycu8</code>"
      ],
      "text/plain": [
       "<IPython.core.display.HTML object>"
      ]
     },
     "metadata": {},
     "output_type": "display_data"
    },
    {
     "data": {
      "text/html": [
       "Syncing run <strong><a href='https://wandb.ai/yixuan228-imperial-college-london/DE_Groupwork_G4_stage2/runs/ianmycu8' target=\"_blank\">summer-surf-25</a></strong> to <a href='https://wandb.ai/yixuan228-imperial-college-london/DE_Groupwork_G4_stage2' target=\"_blank\">Weights & Biases</a> (<a href='https://wandb.me/developer-guide' target=\"_blank\">docs</a>)<br>"
      ],
      "text/plain": [
       "<IPython.core.display.HTML object>"
      ]
     },
     "metadata": {},
     "output_type": "display_data"
    },
    {
     "data": {
      "text/html": [
       " View project at <a href='https://wandb.ai/yixuan228-imperial-college-london/DE_Groupwork_G4_stage2' target=\"_blank\">https://wandb.ai/yixuan228-imperial-college-london/DE_Groupwork_G4_stage2</a>"
      ],
      "text/plain": [
       "<IPython.core.display.HTML object>"
      ]
     },
     "metadata": {},
     "output_type": "display_data"
    },
    {
     "data": {
      "text/html": [
       " View run at <a href='https://wandb.ai/yixuan228-imperial-college-london/DE_Groupwork_G4_stage2/runs/ianmycu8' target=\"_blank\">https://wandb.ai/yixuan228-imperial-college-london/DE_Groupwork_G4_stage2/runs/ianmycu8</a>"
      ],
      "text/plain": [
       "<IPython.core.display.HTML object>"
      ]
     },
     "metadata": {},
     "output_type": "display_data"
    },
    {
     "name": "stdout",
     "output_type": "stream",
     "text": [
      "Epoch 001 | Train Loss: 12992.5921 | Val Loss: 254.5106\n",
      "Epoch 002 | Train Loss: 144.9124 | Val Loss: 259.4501\n",
      "Epoch 003 | Train Loss: 85.5872 | Val Loss: 90.8827\n",
      "Epoch 004 | Train Loss: 72.2815 | Val Loss: 53.5248\n",
      "Epoch 005 | Train Loss: 41.9321 | Val Loss: 18.3534\n",
      "Epoch 006 | Train Loss: 52.1350 | Val Loss: 94.4110\n",
      "Epoch 007 | Train Loss: 48.7080 | Val Loss: 20.8953\n",
      "Epoch 008 | Train Loss: 48.9804 | Val Loss: 17.6170\n",
      "Epoch 009 | Train Loss: 29.6600 | Val Loss: 76.8508\n",
      "Epoch 010 | Train Loss: 63.6649 | Val Loss: 21.3387\n",
      "Epoch 011 | Train Loss: 20.6799 | Val Loss: 102.7426\n",
      "Epoch 012 | Train Loss: 42.5968 | Val Loss: 66.0236\n",
      "Epoch 013 | Train Loss: 35.2194 | Val Loss: 52.4652\n",
      "Early stopping triggered at epoch 13\n"
     ]
    },
    {
     "data": {
      "text/html": [],
      "text/plain": [
       "<IPython.core.display.HTML object>"
      ]
     },
     "metadata": {},
     "output_type": "display_data"
    },
    {
     "data": {
      "text/html": [
       "<br>    <style><br>        .wandb-row {<br>            display: flex;<br>            flex-direction: row;<br>            flex-wrap: wrap;<br>            justify-content: flex-start;<br>            width: 100%;<br>        }<br>        .wandb-col {<br>            display: flex;<br>            flex-direction: column;<br>            flex-basis: 100%;<br>            flex: 1;<br>            padding: 10px;<br>        }<br>    </style><br><div class=\"wandb-row\"><div class=\"wandb-col\"><h3>Run history:</h3><br/><table class=\"wandb\"><tr><td>epoch</td><td>▁▂▂▃▃▄▅▅▆▆▇▇█</td></tr><tr><td>train_loss</td><td>█▁▁▁▁▁▁▁▁▁▁▁▁</td></tr><tr><td>val_loss</td><td>██▃▂▁▃▁▁▃▁▃▂▂</td></tr></table><br/></div><div class=\"wandb-col\"><h3>Run summary:</h3><br/><table class=\"wandb\"><tr><td>epoch</td><td>13</td></tr><tr><td>train_loss</td><td>35.21936</td></tr><tr><td>val_loss</td><td>52.4652</td></tr></table><br/></div></div>"
      ],
      "text/plain": [
       "<IPython.core.display.HTML object>"
      ]
     },
     "metadata": {},
     "output_type": "display_data"
    },
    {
     "data": {
      "text/html": [
       " View run <strong style=\"color:#cdcd00\">summer-surf-25</strong> at: <a href='https://wandb.ai/yixuan228-imperial-college-london/DE_Groupwork_G4_stage2/runs/ianmycu8' target=\"_blank\">https://wandb.ai/yixuan228-imperial-college-london/DE_Groupwork_G4_stage2/runs/ianmycu8</a><br> View project at: <a href='https://wandb.ai/yixuan228-imperial-college-london/DE_Groupwork_G4_stage2' target=\"_blank\">https://wandb.ai/yixuan228-imperial-college-london/DE_Groupwork_G4_stage2</a><br>Synced 5 W&B file(s), 0 media file(s), 0 artifact file(s) and 0 other file(s)"
      ],
      "text/plain": [
       "<IPython.core.display.HTML object>"
      ]
     },
     "metadata": {},
     "output_type": "display_data"
    },
    {
     "data": {
      "text/html": [
       "Find logs at: <code>.\\wandb\\run-20250321_072605-ianmycu8\\logs</code>"
      ],
      "text/plain": [
       "<IPython.core.display.HTML object>"
      ]
     },
     "metadata": {},
     "output_type": "display_data"
    },
    {
     "data": {
      "text/html": [
       "Tracking run with wandb version 0.19.7"
      ],
      "text/plain": [
       "<IPython.core.display.HTML object>"
      ]
     },
     "metadata": {},
     "output_type": "display_data"
    },
    {
     "data": {
      "text/html": [
       "Run data is saved locally in <code>d:\\Projects\\MSc_DE_GroupWork4\\Scripts\\wandb\\run-20250321_072610-ngmybp07</code>"
      ],
      "text/plain": [
       "<IPython.core.display.HTML object>"
      ]
     },
     "metadata": {},
     "output_type": "display_data"
    },
    {
     "data": {
      "text/html": [
       "Syncing run <strong><a href='https://wandb.ai/yixuan228-imperial-college-london/DE_Groupwork_G4_stage2/runs/ngmybp07' target=\"_blank\">blooming-resonance-26</a></strong> to <a href='https://wandb.ai/yixuan228-imperial-college-london/DE_Groupwork_G4_stage2' target=\"_blank\">Weights & Biases</a> (<a href='https://wandb.me/developer-guide' target=\"_blank\">docs</a>)<br>"
      ],
      "text/plain": [
       "<IPython.core.display.HTML object>"
      ]
     },
     "metadata": {},
     "output_type": "display_data"
    },
    {
     "data": {
      "text/html": [
       " View project at <a href='https://wandb.ai/yixuan228-imperial-college-london/DE_Groupwork_G4_stage2' target=\"_blank\">https://wandb.ai/yixuan228-imperial-college-london/DE_Groupwork_G4_stage2</a>"
      ],
      "text/plain": [
       "<IPython.core.display.HTML object>"
      ]
     },
     "metadata": {},
     "output_type": "display_data"
    },
    {
     "data": {
      "text/html": [
       " View run at <a href='https://wandb.ai/yixuan228-imperial-college-london/DE_Groupwork_G4_stage2/runs/ngmybp07' target=\"_blank\">https://wandb.ai/yixuan228-imperial-college-london/DE_Groupwork_G4_stage2/runs/ngmybp07</a>"
      ],
      "text/plain": [
       "<IPython.core.display.HTML object>"
      ]
     },
     "metadata": {},
     "output_type": "display_data"
    },
    {
     "name": "stdout",
     "output_type": "stream",
     "text": [
      "Epoch 001 | Train Loss: 7308.1871 | Val Loss: 312.7375\n",
      "Epoch 002 | Train Loss: 173.5276 | Val Loss: 122.7853\n",
      "Epoch 003 | Train Loss: 75.9467 | Val Loss: 61.5219\n",
      "Epoch 004 | Train Loss: 34.9971 | Val Loss: 36.5976\n",
      "Epoch 005 | Train Loss: 21.4522 | Val Loss: 17.7856\n",
      "Epoch 006 | Train Loss: 16.6160 | Val Loss: 18.8567\n",
      "Epoch 007 | Train Loss: 16.3089 | Val Loss: 42.6594\n",
      "Epoch 008 | Train Loss: 14.6640 | Val Loss: 14.0037\n",
      "Epoch 009 | Train Loss: 18.7167 | Val Loss: 20.9255\n",
      "Epoch 010 | Train Loss: 18.4044 | Val Loss: 33.5590\n",
      "Epoch 011 | Train Loss: 20.6037 | Val Loss: 149.4122\n",
      "Epoch 012 | Train Loss: 28.4609 | Val Loss: 41.3444\n",
      "Epoch 013 | Train Loss: 17.9109 | Val Loss: 16.8539\n",
      "Early stopping triggered at epoch 13\n"
     ]
    },
    {
     "data": {
      "text/html": [],
      "text/plain": [
       "<IPython.core.display.HTML object>"
      ]
     },
     "metadata": {},
     "output_type": "display_data"
    },
    {
     "data": {
      "text/html": [
       "<br>    <style><br>        .wandb-row {<br>            display: flex;<br>            flex-direction: row;<br>            flex-wrap: wrap;<br>            justify-content: flex-start;<br>            width: 100%;<br>        }<br>        .wandb-col {<br>            display: flex;<br>            flex-direction: column;<br>            flex-basis: 100%;<br>            flex: 1;<br>            padding: 10px;<br>        }<br>    </style><br><div class=\"wandb-row\"><div class=\"wandb-col\"><h3>Run history:</h3><br/><table class=\"wandb\"><tr><td>epoch</td><td>▁▂▂▃▃▄▅▅▆▆▇▇█</td></tr><tr><td>train_loss</td><td>█▁▁▁▁▁▁▁▁▁▁▁▁</td></tr><tr><td>val_loss</td><td>█▄▂▂▁▁▂▁▁▁▄▂▁</td></tr></table><br/></div><div class=\"wandb-col\"><h3>Run summary:</h3><br/><table class=\"wandb\"><tr><td>epoch</td><td>13</td></tr><tr><td>train_loss</td><td>17.91094</td></tr><tr><td>val_loss</td><td>16.85389</td></tr></table><br/></div></div>"
      ],
      "text/plain": [
       "<IPython.core.display.HTML object>"
      ]
     },
     "metadata": {},
     "output_type": "display_data"
    },
    {
     "data": {
      "text/html": [
       " View run <strong style=\"color:#cdcd00\">blooming-resonance-26</strong> at: <a href='https://wandb.ai/yixuan228-imperial-college-london/DE_Groupwork_G4_stage2/runs/ngmybp07' target=\"_blank\">https://wandb.ai/yixuan228-imperial-college-london/DE_Groupwork_G4_stage2/runs/ngmybp07</a><br> View project at: <a href='https://wandb.ai/yixuan228-imperial-college-london/DE_Groupwork_G4_stage2' target=\"_blank\">https://wandb.ai/yixuan228-imperial-college-london/DE_Groupwork_G4_stage2</a><br>Synced 5 W&B file(s), 0 media file(s), 0 artifact file(s) and 0 other file(s)"
      ],
      "text/plain": [
       "<IPython.core.display.HTML object>"
      ]
     },
     "metadata": {},
     "output_type": "display_data"
    },
    {
     "data": {
      "text/html": [
       "Find logs at: <code>.\\wandb\\run-20250321_072610-ngmybp07\\logs</code>"
      ],
      "text/plain": [
       "<IPython.core.display.HTML object>"
      ]
     },
     "metadata": {},
     "output_type": "display_data"
    },
    {
     "data": {
      "text/html": [
       "Tracking run with wandb version 0.19.7"
      ],
      "text/plain": [
       "<IPython.core.display.HTML object>"
      ]
     },
     "metadata": {},
     "output_type": "display_data"
    },
    {
     "data": {
      "text/html": [
       "Run data is saved locally in <code>d:\\Projects\\MSc_DE_GroupWork4\\Scripts\\wandb\\run-20250321_072615-5rrx8mfs</code>"
      ],
      "text/plain": [
       "<IPython.core.display.HTML object>"
      ]
     },
     "metadata": {},
     "output_type": "display_data"
    },
    {
     "data": {
      "text/html": [
       "Syncing run <strong><a href='https://wandb.ai/yixuan228-imperial-college-london/DE_Groupwork_G4_stage2/runs/5rrx8mfs' target=\"_blank\">easy-bird-27</a></strong> to <a href='https://wandb.ai/yixuan228-imperial-college-london/DE_Groupwork_G4_stage2' target=\"_blank\">Weights & Biases</a> (<a href='https://wandb.me/developer-guide' target=\"_blank\">docs</a>)<br>"
      ],
      "text/plain": [
       "<IPython.core.display.HTML object>"
      ]
     },
     "metadata": {},
     "output_type": "display_data"
    },
    {
     "data": {
      "text/html": [
       " View project at <a href='https://wandb.ai/yixuan228-imperial-college-london/DE_Groupwork_G4_stage2' target=\"_blank\">https://wandb.ai/yixuan228-imperial-college-london/DE_Groupwork_G4_stage2</a>"
      ],
      "text/plain": [
       "<IPython.core.display.HTML object>"
      ]
     },
     "metadata": {},
     "output_type": "display_data"
    },
    {
     "data": {
      "text/html": [
       " View run at <a href='https://wandb.ai/yixuan228-imperial-college-london/DE_Groupwork_G4_stage2/runs/5rrx8mfs' target=\"_blank\">https://wandb.ai/yixuan228-imperial-college-london/DE_Groupwork_G4_stage2/runs/5rrx8mfs</a>"
      ],
      "text/plain": [
       "<IPython.core.display.HTML object>"
      ]
     },
     "metadata": {},
     "output_type": "display_data"
    },
    {
     "name": "stdout",
     "output_type": "stream",
     "text": [
      "Epoch 001 | Train Loss: 30617.9415 | Val Loss: 1374.0811\n",
      "Epoch 002 | Train Loss: 803.3166 | Val Loss: 557.0301\n",
      "Epoch 003 | Train Loss: 428.4334 | Val Loss: 373.6248\n",
      "Epoch 004 | Train Loss: 291.6831 | Val Loss: 271.4565\n",
      "Epoch 005 | Train Loss: 210.4487 | Val Loss: 206.2434\n",
      "Epoch 006 | Train Loss: 153.7779 | Val Loss: 147.3457\n",
      "Epoch 007 | Train Loss: 109.8997 | Val Loss: 104.5529\n",
      "Epoch 008 | Train Loss: 77.4362 | Val Loss: 73.2839\n",
      "Epoch 009 | Train Loss: 53.8821 | Val Loss: 52.0076\n",
      "Epoch 010 | Train Loss: 38.2133 | Val Loss: 36.0042\n",
      "Epoch 011 | Train Loss: 27.4198 | Val Loss: 25.3331\n",
      "Epoch 012 | Train Loss: 21.0851 | Val Loss: 19.9883\n",
      "Epoch 013 | Train Loss: 18.1858 | Val Loss: 17.1531\n",
      "Epoch 014 | Train Loss: 15.7747 | Val Loss: 15.3173\n",
      "Epoch 015 | Train Loss: 14.3570 | Val Loss: 14.4356\n",
      "Epoch 016 | Train Loss: 13.7408 | Val Loss: 14.2783\n",
      "Epoch 017 | Train Loss: 12.3479 | Val Loss: 12.4921\n",
      "Epoch 018 | Train Loss: 11.8848 | Val Loss: 12.9078\n",
      "Epoch 019 | Train Loss: 11.7253 | Val Loss: 11.7551\n",
      "Epoch 020 | Train Loss: 10.8455 | Val Loss: 11.7674\n",
      "Epoch 021 | Train Loss: 10.4521 | Val Loss: 11.8146\n",
      "Epoch 022 | Train Loss: 10.5213 | Val Loss: 11.3099\n",
      "Epoch 023 | Train Loss: 9.9141 | Val Loss: 12.0901\n",
      "Epoch 024 | Train Loss: 9.6704 | Val Loss: 10.6317\n",
      "Epoch 025 | Train Loss: 9.7283 | Val Loss: 10.9507\n",
      "Epoch 026 | Train Loss: 9.4327 | Val Loss: 10.1832\n",
      "Epoch 027 | Train Loss: 9.4183 | Val Loss: 11.8584\n",
      "Epoch 028 | Train Loss: 9.5218 | Val Loss: 10.1007\n",
      "Epoch 029 | Train Loss: 8.8841 | Val Loss: 10.4583\n",
      "Epoch 030 | Train Loss: 8.8802 | Val Loss: 9.8449\n",
      "Epoch 031 | Train Loss: 8.6928 | Val Loss: 11.3847\n",
      "Epoch 032 | Train Loss: 8.8623 | Val Loss: 11.5349\n",
      "Epoch 033 | Train Loss: 8.7069 | Val Loss: 11.0800\n",
      "Epoch 034 | Train Loss: 9.0337 | Val Loss: 11.0469\n",
      "Epoch 035 | Train Loss: 9.7126 | Val Loss: 9.4829\n",
      "Epoch 036 | Train Loss: 8.4503 | Val Loss: 10.2782\n",
      "Epoch 037 | Train Loss: 8.5808 | Val Loss: 9.1433\n",
      "Epoch 038 | Train Loss: 8.3031 | Val Loss: 9.2580\n",
      "Epoch 039 | Train Loss: 8.3933 | Val Loss: 13.0640\n",
      "Epoch 040 | Train Loss: 9.3783 | Val Loss: 17.9745\n",
      "Epoch 041 | Train Loss: 10.3084 | Val Loss: 15.5775\n",
      "Epoch 042 | Train Loss: 9.9212 | Val Loss: 12.2659\n",
      "Early stopping triggered at epoch 42\n"
     ]
    },
    {
     "data": {
      "text/html": [],
      "text/plain": [
       "<IPython.core.display.HTML object>"
      ]
     },
     "metadata": {},
     "output_type": "display_data"
    },
    {
     "data": {
      "text/html": [
       "<br>    <style><br>        .wandb-row {<br>            display: flex;<br>            flex-direction: row;<br>            flex-wrap: wrap;<br>            justify-content: flex-start;<br>            width: 100%;<br>        }<br>        .wandb-col {<br>            display: flex;<br>            flex-direction: column;<br>            flex-basis: 100%;<br>            flex: 1;<br>            padding: 10px;<br>        }<br>    </style><br><div class=\"wandb-row\"><div class=\"wandb-col\"><h3>Run history:</h3><br/><table class=\"wandb\"><tr><td>epoch</td><td>▁▁▁▂▂▂▂▂▂▃▃▃▃▃▃▄▄▄▄▄▅▅▅▅▅▅▆▆▆▆▆▆▇▇▇▇▇▇██</td></tr><tr><td>train_loss</td><td>█▁▁▁▁▁▁▁▁▁▁▁▁▁▁▁▁▁▁▁▁▁▁▁▁▁▁▁▁▁▁▁▁▁▁▁▁▁▁▁</td></tr><tr><td>val_loss</td><td>█▄▃▂▂▂▁▁▁▁▁▁▁▁▁▁▁▁▁▁▁▁▁▁▁▁▁▁▁▁▁▁▁▁▁▁▁▁▁▁</td></tr></table><br/></div><div class=\"wandb-col\"><h3>Run summary:</h3><br/><table class=\"wandb\"><tr><td>epoch</td><td>42</td></tr><tr><td>train_loss</td><td>9.92123</td></tr><tr><td>val_loss</td><td>12.26594</td></tr></table><br/></div></div>"
      ],
      "text/plain": [
       "<IPython.core.display.HTML object>"
      ]
     },
     "metadata": {},
     "output_type": "display_data"
    },
    {
     "data": {
      "text/html": [
       " View run <strong style=\"color:#cdcd00\">easy-bird-27</strong> at: <a href='https://wandb.ai/yixuan228-imperial-college-london/DE_Groupwork_G4_stage2/runs/5rrx8mfs' target=\"_blank\">https://wandb.ai/yixuan228-imperial-college-london/DE_Groupwork_G4_stage2/runs/5rrx8mfs</a><br> View project at: <a href='https://wandb.ai/yixuan228-imperial-college-london/DE_Groupwork_G4_stage2' target=\"_blank\">https://wandb.ai/yixuan228-imperial-college-london/DE_Groupwork_G4_stage2</a><br>Synced 5 W&B file(s), 0 media file(s), 0 artifact file(s) and 0 other file(s)"
      ],
      "text/plain": [
       "<IPython.core.display.HTML object>"
      ]
     },
     "metadata": {},
     "output_type": "display_data"
    },
    {
     "data": {
      "text/html": [
       "Find logs at: <code>.\\wandb\\run-20250321_072615-5rrx8mfs\\logs</code>"
      ],
      "text/plain": [
       "<IPython.core.display.HTML object>"
      ]
     },
     "metadata": {},
     "output_type": "display_data"
    },
    {
     "name": "stdout",
     "output_type": "stream",
     "text": [
      "Training complete for all configurations.\n"
     ]
    }
   ],
   "source": [
    "from itertools import product\n",
    "import torch.optim as optim\n",
    "\n",
    "for hidden_units, hidden_layers, lr in product(hidden_units_options, hidden_layers_options, learning_rates):\n",
    "\n",
    "    # Configurations\n",
    "    config = {\n",
    "        \"hidden_units\": hidden_units,\n",
    "        \"hidden_layers\": hidden_layers,\n",
    "        \"learning_rate\": lr,\n",
    "        \"max_epochs\": max_epochs,\n",
    "        \"patience\": patience\n",
    "    }\n",
    "\n",
    "    # Start a new W&B run for each configuration\n",
    "    wandb.init(project='DE_Groupwork_G4_stage2', config=config, reinit=True)\n",
    "\n",
    "    model = MultiLayerPerceptron(input_size=input_size, \n",
    "                             hidden_size=config[\"hidden_units\"], \n",
    "                             num_layers=config[\"hidden_layers\"], \n",
    "                             output_size=1).to(device)\n",
    "\n",
    "\n",
    "    criterion = nn.MSELoss() \n",
    "    optimizer = optim.Adam(model.parameters(), lr=lr)\n",
    "\n",
    "    best_test_loss = float('inf')\n",
    "    epochs_without_improvement = 0\n",
    "        \n",
    "    for epoch in range(1, max_epochs + 1):\n",
    "        train_loss = train_epoch(model, train_Loader, criterion, optimizer, device)\n",
    "       \n",
    "        test_loss = val_epoch(model, test_Loader, criterion, device)\n",
    "\n",
    "        # Log metrics to W&B\n",
    "        wandb.log({\"epoch\": epoch, \"train_loss\": train_loss, \"val_loss\": test_loss})\n",
    "        \n",
    "        print(f\"Epoch {epoch:03d} | Train Loss: {train_loss:.4f} | Val Loss: {test_loss:.4f}\")\n",
    "        \n",
    "        # Early stopping check\n",
    "        if test_loss < best_test_loss:\n",
    "            best_test_loss = test_loss\n",
    "            epochs_without_improvement = 0\n",
    "        else:\n",
    "            epochs_without_improvement += 1\n",
    "            \n",
    "        if epochs_without_improvement >= patience:\n",
    "            print(f\"Early stopping triggered at epoch {epoch}\")\n",
    "            break\n",
    "\n",
    "    wandb.finish()\n",
    "\n",
    "print(\"Training complete for all configurations.\")\n"
   ]
  },
  {
   "cell_type": "markdown",
   "metadata": {},
   "source": [
    "#### 3.1.2 Summary and Select the Best Model"
   ]
  },
  {
   "cell_type": "markdown",
   "metadata": {},
   "source": [
    "Find the best model"
   ]
  },
  {
   "cell_type": "code",
   "execution_count": 41,
   "metadata": {},
   "outputs": [],
   "source": [
    "import wandb\n",
    "import os\n",
    "\n",
    "api = wandb.Api()\n",
    "\n",
    "project_path = \"yixuan228-imperial-college-london/DE_Groupwork G4\"\n",
    "runs = api.runs(project_path)  # Get all the runs\n",
    "\n",
    "# save_dir = \"wandb_artifacts\"\n",
    "# os.makedirs(save_dir, exist_ok=True)"
   ]
  },
  {
   "cell_type": "markdown",
   "metadata": {},
   "source": [
    "Save all the model config"
   ]
  },
  {
   "cell_type": "code",
   "execution_count": 42,
   "metadata": {},
   "outputs": [],
   "source": [
    "ls_summary, ls_config = [], []\n",
    "\n",
    "best_run = None\n",
    "best_val_loss = float('inf')\n",
    "\n",
    "ls_config = [run.config for run in runs]\n",
    "ls_summary = [run.summary._json_dict for run in runs]\n"
   ]
  },
  {
   "cell_type": "markdown",
   "metadata": {},
   "source": [
    "Select the best model"
   ]
  },
  {
   "cell_type": "code",
   "execution_count": 43,
   "metadata": {},
   "outputs": [
    {
     "name": "stdout",
     "output_type": "stream",
     "text": [
      "\n",
      "Best Model Found:\n",
      "Run ID: nbfzlfhc, Name: fearless-morning-12, State: finished\n",
      "Lowest Validation Loss: 8.600484386515094\n",
      "\n",
      "Best Model Hyperparameters (config):\n",
      "   patience: 5\n",
      "   max_epochs: 200\n",
      "   hidden_units: 64\n",
      "   hidden_layers: 2\n",
      "   learning_rate: 0.001\n",
      "\n",
      "Best Model Final Metrics (summary):\n",
      "   _runtime: 19.7579481\n",
      "   _step: 118\n",
      "   _timestamp: 1742462047.419305\n",
      "   _wandb: {'runtime': 19}\n",
      "   epoch: 119\n",
      "   train_loss: 8.823451982218003\n",
      "   val_loss: 8.600484386515094\n"
     ]
    }
   ],
   "source": [
    "best_run = None\n",
    "best_loss = float(\"inf\")  \n",
    "\n",
    "for run in runs:\n",
    "    # print(run.summary.keys())\n",
    "    if \"val_loss\" in run.summary:  \n",
    "        loss = run.summary[\"val_loss\"]\n",
    "        if loss < best_loss:  # best model with least loss\n",
    "            best_loss = loss\n",
    "            best_run = run\n",
    "\n",
    "# Best model hyparparameters\n",
    "if best_run:\n",
    "    print(\"\\nBest Model Found:\")\n",
    "    print(f\"Run ID: {best_run.id}, Name: {best_run.name}, State: {best_run.state}\")\n",
    "    print(f\"Lowest Validation Loss: {best_loss}\")\n",
    "\n",
    "    print(\"\\nBest Model Hyperparameters (config):\")\n",
    "    for key, value in best_run.config.items():\n",
    "        print(f\"   {key}: {value}\")\n",
    "\n",
    "    print(\"\\nBest Model Final Metrics (summary):\")\n",
    "    for key, value in best_run.summary.items():\n",
    "        print(f\"   {key}: {value}\")\n",
    "else:\n",
    "    print(\"No valid runs found with 'loss' metric.\")\n"
   ]
  },
  {
   "cell_type": "markdown",
   "metadata": {},
   "source": [
    "#### 3.1.4 Best NN Model Parameters"
   ]
  },
  {
   "cell_type": "markdown",
   "metadata": {},
   "source": [
    "Using Nueral Network Models is a good way to predict the CO2 emssions based on the features given. After using W&B to grid search the hyperparameters grid, the best model is chosen based on the metric of validation loss.\n",
    "\n",
    "The best model parameters are listed below:\n",
    "\n",
    "**Hyperparameter**:\\\n",
    "    patience: 5\\\n",
    "    max_epochs: 200\\\n",
    "    hidden_units: 64\\\n",
    "    hidden_layers: 2\\\n",
    "    learning_rate: 0.001\n",
    "\n",
    "**Running Performance:**\\\n",
    "    epoch: 119\\\n",
    "    Training loss: 8.823451982218003\\\n",
    "    Validation loss: 8.600484386515094\n",
    "\n",
    "\n"
   ]
  },
  {
   "cell_type": "markdown",
   "metadata": {},
   "source": [
    "#### 3.1.5 K-fold on Best NN Model "
   ]
  },
  {
   "cell_type": "markdown",
   "metadata": {},
   "source": [
    "Initialize NN model configuration, set hyperparameter grid."
   ]
  },
  {
   "cell_type": "code",
   "execution_count": 44,
   "metadata": {},
   "outputs": [],
   "source": [
    "# Hyperparameter grid\n",
    "hidden_size = 64    # Numbers of neurons in each hidden layer\n",
    "num_layer = 2       # Numbers of hidden layers\n",
    "learning_rate = 0.001     # Learning rates\n",
    "\n",
    "num_epochs = 200  # Arbitrarily large; early stopping will likely stop earlier.\n",
    "batch_size = 64\n",
    "patience = 5      # Early stopping patience\n",
    "\n",
    "input_size =  X_train_processed.shape[1]   # Input size \n",
    "output_size = 1             # Output size"
   ]
  },
  {
   "cell_type": "markdown",
   "metadata": {},
   "source": [
    "Output k-fold validation results"
   ]
  },
  {
   "cell_type": "code",
   "execution_count": 45,
   "metadata": {},
   "outputs": [
    {
     "name": "stdout",
     "output_type": "stream",
     "text": [
      "Best Neural Network Model:\n",
      "\n",
      "Fold 1 Validation Dataset MSE: 6.2828\n",
      "Fold 2 Validation Dataset MSE: 7.0788\n",
      "Fold 3 Validation Dataset MSE: 8.3559\n",
      "Fold 4 Validation Dataset MSE: 6.7967\n",
      "Fold 5 Validation Dataset MSE: 8.2439\n",
      "Fold 6 Validation Dataset MSE: 7.8401\n",
      "Fold 7 Validation Dataset MSE: 7.3759\n",
      "Fold 8 Validation Dataset MSE: 8.8067\n",
      "Fold 9 Validation Dataset MSE: 7.4169\n",
      "Fold 10 Validation Dataset MSE: 21.3317\n",
      "Fold 11 Validation Dataset MSE: 10.9264\n",
      "Fold 12 Validation Dataset MSE: 6.6253\n",
      "Fold 13 Validation Dataset MSE: 7.3702\n",
      "Fold 14 Validation Dataset MSE: 7.1060\n",
      "Fold 15 Validation Dataset MSE: 7.7903\n",
      "Fold 16 Validation Dataset MSE: 6.5104\n",
      "Fold 17 Validation Dataset MSE: 8.1611\n",
      "Fold 18 Validation Dataset MSE: 7.4788\n",
      "Fold 19 Validation Dataset MSE: 7.4958\n",
      "Fold 20 Validation Dataset MSE: 6.5085\n",
      "\n",
      "K-Fold Average MSE: 8.2751\n",
      "\n",
      "--------Finished training and validating the model!--------\n"
     ]
    }
   ],
   "source": [
    "from torch.utils.data import Subset\n",
    "from torch import optim\n",
    "\n",
    "# Save MSE and True/Predict Values---------------------------\n",
    "nn_k_fold_mse = []\n",
    "nn_k_fold_R2 = []\n",
    "nn_k_fold_mae = []\n",
    "nn_k_fold_mape = []   \n",
    "\n",
    "# Train and Evaluate the model----------------------------\n",
    "print(f'Best Neural Network Model:\\n')\n",
    "for fold, (train_index, val_index) in enumerate(k_fold.split(X_train_df)):\n",
    "\n",
    "    # get the training and validation data\n",
    "    train_subset  = Subset(train_dataset, train_index)\n",
    "    val_subset = Subset(train_dataset, val_index)\n",
    "\n",
    "    # Data loader\n",
    "    train_loader = DataLoader(dataset=train_subset , batch_size=batch_size, shuffle=True)\n",
    "    val_loader = DataLoader(dataset=val_subset, batch_size=batch_size, shuffle=False)\n",
    "\n",
    "    # Initialize and train the model\n",
    "    nn_model = MultiLayerPerceptron(input_size, hidden_size, num_layer, output_size).to(device)\n",
    "\n",
    "    criterion = nn.MSELoss()  # MSE as loss function\n",
    "    optimizer = optim.Adam(nn_model.parameters(), lr=learning_rate)  # Adam as optimizer\n",
    "\n",
    "    for epoch in range(num_epochs):\n",
    "        nn_model.train()\n",
    "        total_loss = 0\n",
    "        i = 0\n",
    "\n",
    "        for X_batch, y_batch in train_loader:\n",
    "\n",
    "            X_batch, y_batch = X_batch.to(device), y_batch.to(device)\n",
    "\n",
    "            optimizer.zero_grad()\n",
    "            y_pred = nn_model(X_batch)\n",
    "            loss = criterion(y_pred, y_batch)\n",
    "            loss.backward()\n",
    "            optimizer.step()\n",
    "\n",
    "            total_loss += loss.item()\n",
    "\n",
    "        # if (epoch+1) % 10 == 0:\n",
    "        #     print(f\"Epoch {epoch+1}, Loss: {total_loss/len(train_loader):.4f}\")\n",
    "\n",
    "    # Validate the model\n",
    "    nn_model.eval()\n",
    "\n",
    "    y_true_fold = []\n",
    "    y_pred_fold = []\n",
    "\n",
    "    val_loss = 0\n",
    "    with torch.no_grad():\n",
    "        for X_batch, y_batch in val_loader:\n",
    "\n",
    "            X_batch, y_batch = X_batch.to(device), y_batch.to(device)\n",
    "\n",
    "            y_pred = nn_model(X_batch)\n",
    "            loss = criterion(y_pred, y_batch)\n",
    "            val_loss += loss.item()\n",
    "\n",
    "            # y_true_fold.append(y_batch.cpu.numpy())     \n",
    "            # y_pred_fold.append(y_pred.cpu.numpy())      \n",
    "\n",
    "            y_true_fold.append(y_batch.cpu().detach().numpy())  # true value\n",
    "            y_pred_fold.append(y_pred.cpu().detach().numpy())   # predicted value\n",
    "\n",
    "    y_true_fold = np.concatenate(y_true_fold, axis=0).flatten()\n",
    "    y_pred_fold = np.concatenate(y_pred_fold, axis=0).flatten()\n",
    "\n",
    "    mse = mean_squared_error(y_true_fold, y_pred_fold)\n",
    "    r2 = r2_score(y_true_fold, y_pred_fold)\n",
    "    mae = mean_absolute_error(y_true_fold, y_pred_fold)\n",
    "    mape = mean_absolute_percentage_error(y_true_fold, y_pred_fold)\n",
    "\n",
    "    nn_k_fold_mse.append(mse)\n",
    "    nn_k_fold_R2.append(r2)\n",
    "    nn_k_fold_mae.append(mae)\n",
    "    nn_k_fold_mape.append(mape)\n",
    "    \n",
    "    print(f\"Fold {fold+1} Validation Dataset MSE: {mse:.4f}\")\n",
    "\n",
    "print(f\"\\nK-Fold Average MSE: {np.mean(nn_k_fold_mse):.4f}\")\n",
    "print(f\"\\n--------Finished training and validating the model!--------\")\n"
   ]
  },
  {
   "cell_type": "code",
   "execution_count": 46,
   "metadata": {},
   "outputs": [
    {
     "name": "stdout",
     "output_type": "stream",
     "text": [
      "Neural Network Model:\n",
      "    Test Dataset MSE: 8.5545\n",
      "    Test Dataset R2: 0.9976\n",
      "    Test Dataset MAE: 2.2088\n",
      "    Test Dataset MAPE: 0.0089\n"
     ]
    },
    {
     "data": {
      "text/plain": [
       "Text(0.5, 1.0, 'Neural Network Model: Observed vs Predicted values')"
      ]
     },
     "execution_count": 46,
     "metadata": {},
     "output_type": "execute_result"
    },
    {
     "data": {
      "image/png": "[encoded data removed]",
      "text/plain": [
       "<Figure size 600x500 with 1 Axes>"
      ]
     },
     "metadata": {},
     "output_type": "display_data"
    }
   ],
   "source": [
    "# Test the model on the test dataset------------------------   \n",
    "# Using MSE as the evaluation metrics: Mean Squared Error, R2, MAE, MAPE\n",
    "nn_model.eval()\n",
    "\n",
    "# Get the prediction and true values\n",
    "nn_test_true = []\n",
    "nn_test_pred = []\n",
    "\n",
    "val_loss = 0\n",
    "with torch.no_grad():\n",
    "    for X_batch, y_batch in test_Loader:\n",
    "\n",
    "        X_batch, y_batch = X_batch.to(device), y_batch.to(device)\n",
    "\n",
    "        y_pred = nn_model(X_batch)\n",
    "        loss = criterion(y_pred, y_batch)\n",
    "        val_loss += loss.item()\n",
    "\n",
    "        nn_test_true.append(y_batch.cpu().detach().numpy())     # true value\n",
    "        nn_test_pred.append(y_pred.cpu().detach().numpy())      # predicted value\n",
    "\n",
    "# concatenate the true and predicted values\n",
    "nn_test_true = np.concatenate(nn_test_true, axis=0).flatten()\n",
    "nn_test_pred = np.concatenate(nn_test_pred, axis=0).flatten()\n",
    "\n",
    "nn_test_r2 = r2_score(nn_test_pred, nn_test_true)\n",
    "nn_test_mse = mean_squared_error(nn_test_pred, nn_test_true)\n",
    "nn_test_mae = mean_absolute_error(nn_test_pred, nn_test_true)\n",
    "nn_test_mape = mean_absolute_percentage_error(nn_test_pred, nn_test_true)\n",
    "\n",
    "# Output\n",
    "print(f'Neural Network Model:')\n",
    "print(f\"    Test Dataset MSE: {nn_test_mse:.4f}\")\n",
    "print(f\"    Test Dataset R2: {nn_test_r2:.4f}\")\n",
    "print(f\"    Test Dataset MAE: {nn_test_mae:.4f}\")\n",
    "print(f\"    Test Dataset MAPE: {nn_test_mape:.4f}\")\n",
    "\n",
    "# Using plot\n",
    "fig, ax = plt.subplots(1, 1, figsize=(6, 5))\n",
    "plot_pred_true(nn_test_true, nn_test_pred, ax)\n",
    "plt.title('Neural Network Model: Observed vs Predicted values')"
   ]
  },
  {
   "cell_type": "code",
   "execution_count": 47,
   "metadata": {},
   "outputs": [
    {
     "name": "stdout",
     "output_type": "stream",
     "text": [
      "Test Dataset MSE: 8.5545\n",
      "Validation Dataset MSE: 8.2751\n"
     ]
    }
   ],
   "source": [
    "print(f\"Test Dataset MSE: {nn_test_mse:.4f}\")\n",
    "print(f\"Validation Dataset MSE: {np.mean(nn_k_fold_mse):.4f}\")"
   ]
  },
  {
   "cell_type": "markdown",
   "metadata": {},
   "source": [
    "### 3.1.6 Save the NN Model Performance"
   ]
  },
  {
   "cell_type": "markdown",
   "metadata": {},
   "source": [
    "Output of Best NN Model\n",
    "\n",
    "- Output will include two types of data: Validation values, and Test Values, and combine those into one dataframe.\n",
    "\n",
    "- Validation RSE:  1 x 20    Test RSE: 1 x 1\n",
    "\n",
    "- Validation R2:   1 x 20    Test R2:  1 x 1\n",
    "\n",
    "- Validation MAE:  1 x 20    Test MAE:  1 x 1\n",
    "\n",
    "- Validation MAPE: 1 x 20    Test MAPE:  1 x 1\n",
    "\n",
    "- So the output dataframe should include:\n",
    "\n",
    "    - **4 rows**: RSE, R2, MAE and MAPE \n",
    "    \n",
    "    - **21 cols**:  first 20 as validation metrics, with the last one being test metric"
   ]
  },
  {
   "cell_type": "code",
   "execution_count": 48,
   "metadata": {},
   "outputs": [],
   "source": [
    "# Save the output of Best NN Model \n",
    "nn_metrics = pd.DataFrame([nn_k_fold_mse, nn_k_fold_R2, nn_k_fold_mae, nn_k_fold_mape])\n",
    "\n",
    "# Add Test results\n",
    "nn_metrics[\"Test_results\"] = [nn_test_mse, nn_test_r2, nn_test_mae, nn_test_mape]\n"
   ]
  },
  {
   "cell_type": "code",
   "execution_count": 49,
   "metadata": {},
   "outputs": [],
   "source": [
    "nn_metrics.columns = [f\"fold_{i+1}\" for i in range(20)] + [\"Test\"]\n",
    "nn_metrics.index = ['MSE', 'R2', 'MAE', 'MAPE']\n"
   ]
  },
  {
   "cell_type": "code",
   "execution_count": 50,
   "metadata": {},
   "outputs": [
    {
     "data": {
      "text/html": [
       "<div>\n",
       "<style scoped>\n",
       "    .dataframe tbody tr th:only-of-type {\n",
       "        vertical-align: middle;\n",
       "    }\n",
       "\n",
       "    .dataframe tbody tr th {\n",
       "        vertical-align: top;\n",
       "    }\n",
       "\n",
       "    .dataframe thead th {\n",
       "        text-align: right;\n",
       "    }\n",
       "</style>\n",
       "<table border=\"1\" class=\"dataframe\">\n",
       "  <thead>\n",
       "    <tr style=\"text-align: right;\">\n",
       "      <th></th>\n",
       "      <th>fold_1</th>\n",
       "      <th>fold_2</th>\n",
       "      <th>fold_3</th>\n",
       "      <th>fold_4</th>\n",
       "      <th>fold_5</th>\n",
       "      <th>fold_6</th>\n",
       "      <th>fold_7</th>\n",
       "      <th>fold_8</th>\n",
       "      <th>fold_9</th>\n",
       "      <th>fold_10</th>\n",
       "      <th>...</th>\n",
       "      <th>fold_12</th>\n",
       "      <th>fold_13</th>\n",
       "      <th>fold_14</th>\n",
       "      <th>fold_15</th>\n",
       "      <th>fold_16</th>\n",
       "      <th>fold_17</th>\n",
       "      <th>fold_18</th>\n",
       "      <th>fold_19</th>\n",
       "      <th>fold_20</th>\n",
       "      <th>Test</th>\n",
       "    </tr>\n",
       "  </thead>\n",
       "  <tbody>\n",
       "    <tr>\n",
       "      <th>MSE</th>\n",
       "      <td>6.282833</td>\n",
       "      <td>7.078762</td>\n",
       "      <td>8.355918</td>\n",
       "      <td>6.796704</td>\n",
       "      <td>8.243905</td>\n",
       "      <td>7.840073</td>\n",
       "      <td>7.375906</td>\n",
       "      <td>8.806746</td>\n",
       "      <td>7.416917</td>\n",
       "      <td>21.331717</td>\n",
       "      <td>...</td>\n",
       "      <td>6.625337</td>\n",
       "      <td>7.370185</td>\n",
       "      <td>7.105981</td>\n",
       "      <td>7.790254</td>\n",
       "      <td>6.510433</td>\n",
       "      <td>8.161133</td>\n",
       "      <td>7.478849</td>\n",
       "      <td>7.495782</td>\n",
       "      <td>6.508544</td>\n",
       "      <td>8.554526</td>\n",
       "    </tr>\n",
       "    <tr>\n",
       "      <th>R2</th>\n",
       "      <td>0.998102</td>\n",
       "      <td>0.998123</td>\n",
       "      <td>0.997939</td>\n",
       "      <td>0.998074</td>\n",
       "      <td>0.997400</td>\n",
       "      <td>0.997848</td>\n",
       "      <td>0.997886</td>\n",
       "      <td>0.997082</td>\n",
       "      <td>0.997845</td>\n",
       "      <td>0.993955</td>\n",
       "      <td>...</td>\n",
       "      <td>0.998090</td>\n",
       "      <td>0.997730</td>\n",
       "      <td>0.997406</td>\n",
       "      <td>0.997716</td>\n",
       "      <td>0.998079</td>\n",
       "      <td>0.997508</td>\n",
       "      <td>0.997841</td>\n",
       "      <td>0.997522</td>\n",
       "      <td>0.998192</td>\n",
       "      <td>0.997559</td>\n",
       "    </tr>\n",
       "    <tr>\n",
       "      <th>MAE</th>\n",
       "      <td>1.985755</td>\n",
       "      <td>2.111047</td>\n",
       "      <td>2.231801</td>\n",
       "      <td>2.073358</td>\n",
       "      <td>2.268949</td>\n",
       "      <td>2.162261</td>\n",
       "      <td>2.035594</td>\n",
       "      <td>2.266077</td>\n",
       "      <td>2.096266</td>\n",
       "      <td>2.210760</td>\n",
       "      <td>...</td>\n",
       "      <td>2.118980</td>\n",
       "      <td>2.053485</td>\n",
       "      <td>2.124481</td>\n",
       "      <td>2.275039</td>\n",
       "      <td>2.107371</td>\n",
       "      <td>2.133236</td>\n",
       "      <td>2.213015</td>\n",
       "      <td>2.090110</td>\n",
       "      <td>2.003258</td>\n",
       "      <td>2.208800</td>\n",
       "    </tr>\n",
       "    <tr>\n",
       "      <th>MAPE</th>\n",
       "      <td>0.008174</td>\n",
       "      <td>0.008431</td>\n",
       "      <td>0.008757</td>\n",
       "      <td>0.008228</td>\n",
       "      <td>0.009224</td>\n",
       "      <td>0.008652</td>\n",
       "      <td>0.008264</td>\n",
       "      <td>0.009074</td>\n",
       "      <td>0.008618</td>\n",
       "      <td>0.010023</td>\n",
       "      <td>...</td>\n",
       "      <td>0.008541</td>\n",
       "      <td>0.008550</td>\n",
       "      <td>0.008683</td>\n",
       "      <td>0.008957</td>\n",
       "      <td>0.008432</td>\n",
       "      <td>0.008624</td>\n",
       "      <td>0.008711</td>\n",
       "      <td>0.008353</td>\n",
       "      <td>0.007992</td>\n",
       "      <td>0.008913</td>\n",
       "    </tr>\n",
       "  </tbody>\n",
       "</table>\n",
       "<p>4 rows × 21 columns</p>\n",
       "</div>"
      ],
      "text/plain": [
       "        fold_1    fold_2    fold_3    fold_4    fold_5    fold_6    fold_7  \\\n",
       "MSE   6.282833  7.078762  8.355918  6.796704  8.243905  7.840073  7.375906   \n",
       "R2    0.998102  0.998123  0.997939  0.998074  0.997400  0.997848  0.997886   \n",
       "MAE   1.985755  2.111047  2.231801  2.073358  2.268949  2.162261  2.035594   \n",
       "MAPE  0.008174  0.008431  0.008757  0.008228  0.009224  0.008652  0.008264   \n",
       "\n",
       "        fold_8    fold_9    fold_10  ...   fold_12   fold_13   fold_14  \\\n",
       "MSE   8.806746  7.416917  21.331717  ...  6.625337  7.370185  7.105981   \n",
       "R2    0.997082  0.997845   0.993955  ...  0.998090  0.997730  0.997406   \n",
       "MAE   2.266077  2.096266   2.210760  ...  2.118980  2.053485  2.124481   \n",
       "MAPE  0.009074  0.008618   0.010023  ...  0.008541  0.008550  0.008683   \n",
       "\n",
       "       fold_15   fold_16   fold_17   fold_18   fold_19   fold_20      Test  \n",
       "MSE   7.790254  6.510433  8.161133  7.478849  7.495782  6.508544  8.554526  \n",
       "R2    0.997716  0.998079  0.997508  0.997841  0.997522  0.998192  0.997559  \n",
       "MAE   2.275039  2.107371  2.133236  2.213015  2.090110  2.003258  2.208800  \n",
       "MAPE  0.008957  0.008432  0.008624  0.008711  0.008353  0.007992  0.008913  \n",
       "\n",
       "[4 rows x 21 columns]"
      ]
     },
     "execution_count": 50,
     "metadata": {},
     "output_type": "execute_result"
    }
   ],
   "source": [
    "nn_metrics"
   ]
  },
  {
   "cell_type": "code",
   "execution_count": 51,
   "metadata": {},
   "outputs": [],
   "source": [
    "nn_test_pred_df = pd.DataFrame(nn_test_pred, columns=[\"y\"])\n",
    "nn_test_pred_df.to_csv(\"Workstream_1_ML_models/nn_test_pred.csv\", index=False)  "
   ]
  },
  {
   "cell_type": "code",
   "execution_count": 52,
   "metadata": {},
   "outputs": [],
   "source": [
    "nn_metrics.to_csv(\"Best_NN_Model_performance.csv\", index=True)"
   ]
  }
 ],
 "metadata": {
  "kernelspec": {
   "display_name": "de_w6_rl",
   "language": "python",
   "name": "python3"
  },
  "language_info": {
   "codemirror_mode": {
    "name": "ipython",
    "version": 3
   },
   "file_extension": ".py",
   "mimetype": "text/x-python",
   "name": "python",
   "nbconvert_exporter": "python",
   "pygments_lexer": "ipython3",
   "version": "3.12.9"
  }
 },
 "nbformat": 4,
 "nbformat_minor": 2
}
