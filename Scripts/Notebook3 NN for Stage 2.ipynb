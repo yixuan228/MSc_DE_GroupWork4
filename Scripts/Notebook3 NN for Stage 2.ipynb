{
 "cells": [
  {
   "cell_type": "markdown",
   "metadata": {},
   "source": [
    "# Notebook3: Predicting CO2 emissions using Neural Networks in Design Phase"
   ]
  },
  {
   "cell_type": "markdown",
   "metadata": {},
   "source": [
    "Readme: In this notebook, NN models are constructed for CO2 Emission prediction, and the best model is selected and K-means validation is applied.\n",
    "\n",
    "- **Notebook content**:\n",
    "    - Design the architecture of NN and explore different model configuration\n",
    "\n",
    "    - Tune hyperparameters and select the best model\n",
    "\n",
    "- **Notebook Output**:\n",
    "\n",
    "    - Best model file\n",
    "\n",
    "    - The validation and test results of the best model"
   ]
  },
  {
   "cell_type": "code",
   "execution_count": 2,
   "metadata": {},
   "outputs": [],
   "source": [
    "# %pip install \"numpy<2\" torch torchvision scikit-learn\n",
    "# %pip install wandb"
   ]
  },
  {
   "cell_type": "code",
   "execution_count": 3,
   "metadata": {},
   "outputs": [
    {
     "name": "stdout",
     "output_type": "stream",
     "text": [
      "cuda\n"
     ]
    }
   ],
   "source": [
    "# Import libraries\n",
    "import numpy as np\n",
    "import pandas as pd\n",
    "import matplotlib.pyplot as plt\n",
    "import torch\n",
    "\n",
    "# Set device\n",
    "device = torch.device('cuda' if torch.cuda.is_available() else 'cpu')\n",
    "print(device)"
   ]
  },
  {
   "cell_type": "markdown",
   "metadata": {},
   "source": [
    "## 1 Define Plot Functions"
   ]
  },
  {
   "cell_type": "code",
   "execution_count": 4,
   "metadata": {},
   "outputs": [],
   "source": [
    "# Define functions\n",
    "import seaborn as sns\n",
    "import torch\n",
    "\n",
    "# 1 plot related functions----------------\n",
    "# plot predict and true values on validation dataset\n",
    "def plot_pred_true(y_test, y_pred, ax):\n",
    "\n",
    "    data = pd.DataFrame({'y_obs': y_test, 'y_pred': y_pred})\n",
    "\n",
    "    # plt.figure(figsize=(5, 5))\n",
    "    sns.scatterplot(data=data, x='y_obs', y='y_pred', s=10, ax=ax)\n",
    "    ax.plot(y_test, y_test, color='red', label='y=x')          # plot the line y=x\n",
    "    ax.set_title('Observed vs Predicted values in Test Dataset')   # title\n",
    "    ax.set_xlabel('Observed values')       # label for the x-axis\n",
    "    ax.set_ylabel('Predicted values')      # label for the y-axis\n",
    "    ax.legend()\n",
    "    ax.grid(True)\n",
    "\n",
    "# plot the loss value on training and validation dataset\n",
    "def plot_train_val_loss(train_loss, val_loss, ax):\n",
    "    \n",
    "    # ax.figure(figsize=(5, 5))\n",
    "\n",
    "    ax.plot(train_loss, label='train loss')\n",
    "    ax.plot(val_loss, label='val loss')\n",
    "    ax.set_title('Train vs Validation Loss')\n",
    "    ax.set_xlabel('Epoch')\n",
    "    ax.set_ylabel('Loss')\n",
    "    ax.legend()\n",
    "    ax.grid(True)\n",
    "\n",
    "# 2 Other functions---------------------\n",
    "# get the prediction and true values\n",
    "def model_prediction(model, val_loader, device):\n",
    "\n",
    "    model.eval()\n",
    "    pred = []\n",
    "    target = []\n",
    "\n",
    "    with torch.no_grad():\n",
    "        for X, y in val_loader:\n",
    "            X, y = X.to(device), y.to(device)\n",
    "\n",
    "            y_pred = model(X)      # predicted value\n",
    "\n",
    "            pred.extend(y_pred.cpu().numpy())\n",
    "            target.extend(y.cpu().numpy())\n",
    "\n",
    "    # Merge all the predictions and targets\n",
    "    predictions = np.concatenate(pred, axis=0)\n",
    "    labels = np.concatenate(target, axis=0)\n",
    "    return predictions, labels"
   ]
  },
  {
   "cell_type": "markdown",
   "metadata": {},
   "source": [
    "## 2 Data Preparation and Feature Selection"
   ]
  },
  {
   "cell_type": "code",
   "execution_count": 5,
   "metadata": {},
   "outputs": [],
   "source": [
    "import numpy as np\n",
    "import pandas as pd\n",
    "from sklearn.pipeline import Pipeline\n",
    "from sklearn.compose import ColumnTransformer\n",
    "from sklearn.preprocessing import StandardScaler, OneHotEncoder\n",
    "from sklearn.impute import SimpleImputer\n",
    "from sklearn.model_selection import train_test_split"
   ]
  },
  {
   "cell_type": "markdown",
   "metadata": {},
   "source": [
    "### Load and Divide Traning and Testing Data"
   ]
  },
  {
   "cell_type": "markdown",
   "metadata": {},
   "source": [
    "Load the test and train dataset"
   ]
  },
  {
   "cell_type": "code",
   "execution_count": 6,
   "metadata": {},
   "outputs": [],
   "source": [
    "# Import data\n",
    "trainset_df = pd.read_csv('Dataset2_train.csv')\n",
    "testset_df = pd.read_csv('Dataset2_test.csv')\n",
    "\n",
    "X_train = trainset_df.drop(columns=['CO2 Emissions(g/km)', 'Make'])\n",
    "y_train = trainset_df['CO2 Emissions(g/km)']\n",
    "\n",
    "X_test = testset_df.drop(columns=['CO2 Emissions(g/km)', 'Make'])\n",
    "y_test = testset_df['CO2 Emissions(g/km)']\n"
   ]
  },
  {
   "cell_type": "code",
   "execution_count": 7,
   "metadata": {},
   "outputs": [
    {
     "data": {
      "text/html": [
       "<div>\n",
       "<style scoped>\n",
       "    .dataframe tbody tr th:only-of-type {\n",
       "        vertical-align: middle;\n",
       "    }\n",
       "\n",
       "    .dataframe tbody tr th {\n",
       "        vertical-align: top;\n",
       "    }\n",
       "\n",
       "    .dataframe thead th {\n",
       "        text-align: right;\n",
       "    }\n",
       "</style>\n",
       "<table border=\"1\" class=\"dataframe\">\n",
       "  <thead>\n",
       "    <tr style=\"text-align: right;\">\n",
       "      <th></th>\n",
       "      <th>Engine Size(L)</th>\n",
       "      <th>Cylinders</th>\n",
       "      <th>Gearbox_Type</th>\n",
       "      <th>Gearbox_Number</th>\n",
       "      <th>Model Features_Flexible-fuel vehicle</th>\n",
       "      <th>Model Features_Four-wheel drive</th>\n",
       "      <th>Model Features_Long wheelbase</th>\n",
       "      <th>Model Features_Short wheelbase</th>\n",
       "      <th>Vehicle Class_FULL-SIZE</th>\n",
       "      <th>Vehicle Class_MID-SIZE</th>\n",
       "      <th>...</th>\n",
       "      <th>Vehicle Class_SUBCOMPACT</th>\n",
       "      <th>Vehicle Class_SUV - SMALL</th>\n",
       "      <th>Vehicle Class_SUV - STANDARD</th>\n",
       "      <th>Vehicle Class_TWO-SEATER</th>\n",
       "      <th>Vehicle Class_VAN - CARGO</th>\n",
       "      <th>Vehicle Class_VAN - PASSENGER</th>\n",
       "      <th>Fuel Type_E</th>\n",
       "      <th>Fuel Type_N</th>\n",
       "      <th>Fuel Type_X</th>\n",
       "      <th>Fuel Type_Z</th>\n",
       "    </tr>\n",
       "  </thead>\n",
       "  <tbody>\n",
       "    <tr>\n",
       "      <th>0</th>\n",
       "      <td>3.0</td>\n",
       "      <td>6</td>\n",
       "      <td>0</td>\n",
       "      <td>8.0</td>\n",
       "      <td>0</td>\n",
       "      <td>0</td>\n",
       "      <td>0</td>\n",
       "      <td>0</td>\n",
       "      <td>1</td>\n",
       "      <td>0</td>\n",
       "      <td>...</td>\n",
       "      <td>0</td>\n",
       "      <td>0</td>\n",
       "      <td>0</td>\n",
       "      <td>0</td>\n",
       "      <td>0</td>\n",
       "      <td>0</td>\n",
       "      <td>0</td>\n",
       "      <td>0</td>\n",
       "      <td>0</td>\n",
       "      <td>1</td>\n",
       "    </tr>\n",
       "    <tr>\n",
       "      <th>1</th>\n",
       "      <td>4.4</td>\n",
       "      <td>8</td>\n",
       "      <td>0</td>\n",
       "      <td>7.0</td>\n",
       "      <td>0</td>\n",
       "      <td>0</td>\n",
       "      <td>0</td>\n",
       "      <td>0</td>\n",
       "      <td>0</td>\n",
       "      <td>0</td>\n",
       "      <td>...</td>\n",
       "      <td>1</td>\n",
       "      <td>0</td>\n",
       "      <td>0</td>\n",
       "      <td>0</td>\n",
       "      <td>0</td>\n",
       "      <td>0</td>\n",
       "      <td>0</td>\n",
       "      <td>0</td>\n",
       "      <td>0</td>\n",
       "      <td>1</td>\n",
       "    </tr>\n",
       "    <tr>\n",
       "      <th>2</th>\n",
       "      <td>6.2</td>\n",
       "      <td>8</td>\n",
       "      <td>1</td>\n",
       "      <td>8.0</td>\n",
       "      <td>0</td>\n",
       "      <td>0</td>\n",
       "      <td>0</td>\n",
       "      <td>0</td>\n",
       "      <td>0</td>\n",
       "      <td>0</td>\n",
       "      <td>...</td>\n",
       "      <td>0</td>\n",
       "      <td>0</td>\n",
       "      <td>0</td>\n",
       "      <td>0</td>\n",
       "      <td>0</td>\n",
       "      <td>0</td>\n",
       "      <td>0</td>\n",
       "      <td>0</td>\n",
       "      <td>0</td>\n",
       "      <td>1</td>\n",
       "    </tr>\n",
       "    <tr>\n",
       "      <th>3</th>\n",
       "      <td>5.3</td>\n",
       "      <td>8</td>\n",
       "      <td>1</td>\n",
       "      <td>6.0</td>\n",
       "      <td>0</td>\n",
       "      <td>0</td>\n",
       "      <td>0</td>\n",
       "      <td>0</td>\n",
       "      <td>0</td>\n",
       "      <td>0</td>\n",
       "      <td>...</td>\n",
       "      <td>0</td>\n",
       "      <td>0</td>\n",
       "      <td>0</td>\n",
       "      <td>0</td>\n",
       "      <td>0</td>\n",
       "      <td>0</td>\n",
       "      <td>0</td>\n",
       "      <td>0</td>\n",
       "      <td>1</td>\n",
       "      <td>0</td>\n",
       "    </tr>\n",
       "    <tr>\n",
       "      <th>4</th>\n",
       "      <td>4.0</td>\n",
       "      <td>6</td>\n",
       "      <td>1</td>\n",
       "      <td>5.0</td>\n",
       "      <td>0</td>\n",
       "      <td>1</td>\n",
       "      <td>0</td>\n",
       "      <td>0</td>\n",
       "      <td>0</td>\n",
       "      <td>0</td>\n",
       "      <td>...</td>\n",
       "      <td>0</td>\n",
       "      <td>0</td>\n",
       "      <td>1</td>\n",
       "      <td>0</td>\n",
       "      <td>0</td>\n",
       "      <td>0</td>\n",
       "      <td>0</td>\n",
       "      <td>0</td>\n",
       "      <td>1</td>\n",
       "      <td>0</td>\n",
       "    </tr>\n",
       "    <tr>\n",
       "      <th>...</th>\n",
       "      <td>...</td>\n",
       "      <td>...</td>\n",
       "      <td>...</td>\n",
       "      <td>...</td>\n",
       "      <td>...</td>\n",
       "      <td>...</td>\n",
       "      <td>...</td>\n",
       "      <td>...</td>\n",
       "      <td>...</td>\n",
       "      <td>...</td>\n",
       "      <td>...</td>\n",
       "      <td>...</td>\n",
       "      <td>...</td>\n",
       "      <td>...</td>\n",
       "      <td>...</td>\n",
       "      <td>...</td>\n",
       "      <td>...</td>\n",
       "      <td>...</td>\n",
       "      <td>...</td>\n",
       "      <td>...</td>\n",
       "      <td>...</td>\n",
       "    </tr>\n",
       "    <tr>\n",
       "      <th>1472</th>\n",
       "      <td>2.0</td>\n",
       "      <td>4</td>\n",
       "      <td>1</td>\n",
       "      <td>9.0</td>\n",
       "      <td>0</td>\n",
       "      <td>0</td>\n",
       "      <td>0</td>\n",
       "      <td>0</td>\n",
       "      <td>0</td>\n",
       "      <td>0</td>\n",
       "      <td>...</td>\n",
       "      <td>1</td>\n",
       "      <td>0</td>\n",
       "      <td>0</td>\n",
       "      <td>0</td>\n",
       "      <td>0</td>\n",
       "      <td>0</td>\n",
       "      <td>0</td>\n",
       "      <td>0</td>\n",
       "      <td>0</td>\n",
       "      <td>1</td>\n",
       "    </tr>\n",
       "    <tr>\n",
       "      <th>1473</th>\n",
       "      <td>2.0</td>\n",
       "      <td>4</td>\n",
       "      <td>1</td>\n",
       "      <td>6.0</td>\n",
       "      <td>0</td>\n",
       "      <td>0</td>\n",
       "      <td>0</td>\n",
       "      <td>0</td>\n",
       "      <td>0</td>\n",
       "      <td>0</td>\n",
       "      <td>...</td>\n",
       "      <td>0</td>\n",
       "      <td>1</td>\n",
       "      <td>0</td>\n",
       "      <td>0</td>\n",
       "      <td>0</td>\n",
       "      <td>0</td>\n",
       "      <td>0</td>\n",
       "      <td>0</td>\n",
       "      <td>1</td>\n",
       "      <td>0</td>\n",
       "    </tr>\n",
       "    <tr>\n",
       "      <th>1474</th>\n",
       "      <td>1.4</td>\n",
       "      <td>4</td>\n",
       "      <td>1</td>\n",
       "      <td>6.0</td>\n",
       "      <td>0</td>\n",
       "      <td>0</td>\n",
       "      <td>0</td>\n",
       "      <td>0</td>\n",
       "      <td>0</td>\n",
       "      <td>0</td>\n",
       "      <td>...</td>\n",
       "      <td>0</td>\n",
       "      <td>0</td>\n",
       "      <td>0</td>\n",
       "      <td>0</td>\n",
       "      <td>0</td>\n",
       "      <td>0</td>\n",
       "      <td>0</td>\n",
       "      <td>0</td>\n",
       "      <td>1</td>\n",
       "      <td>0</td>\n",
       "    </tr>\n",
       "    <tr>\n",
       "      <th>1475</th>\n",
       "      <td>3.5</td>\n",
       "      <td>6</td>\n",
       "      <td>1</td>\n",
       "      <td>7.0</td>\n",
       "      <td>0</td>\n",
       "      <td>0</td>\n",
       "      <td>0</td>\n",
       "      <td>0</td>\n",
       "      <td>0</td>\n",
       "      <td>1</td>\n",
       "      <td>...</td>\n",
       "      <td>0</td>\n",
       "      <td>0</td>\n",
       "      <td>0</td>\n",
       "      <td>0</td>\n",
       "      <td>0</td>\n",
       "      <td>0</td>\n",
       "      <td>0</td>\n",
       "      <td>0</td>\n",
       "      <td>0</td>\n",
       "      <td>1</td>\n",
       "    </tr>\n",
       "    <tr>\n",
       "      <th>1476</th>\n",
       "      <td>2.0</td>\n",
       "      <td>4</td>\n",
       "      <td>0</td>\n",
       "      <td>7.0</td>\n",
       "      <td>0</td>\n",
       "      <td>0</td>\n",
       "      <td>0</td>\n",
       "      <td>0</td>\n",
       "      <td>0</td>\n",
       "      <td>0</td>\n",
       "      <td>...</td>\n",
       "      <td>0</td>\n",
       "      <td>0</td>\n",
       "      <td>0</td>\n",
       "      <td>0</td>\n",
       "      <td>0</td>\n",
       "      <td>0</td>\n",
       "      <td>0</td>\n",
       "      <td>0</td>\n",
       "      <td>0</td>\n",
       "      <td>1</td>\n",
       "    </tr>\n",
       "  </tbody>\n",
       "</table>\n",
       "<p>1477 rows × 27 columns</p>\n",
       "</div>"
      ],
      "text/plain": [
       "      Engine Size(L)  Cylinders  Gearbox_Type  Gearbox_Number  \\\n",
       "0                3.0          6             0             8.0   \n",
       "1                4.4          8             0             7.0   \n",
       "2                6.2          8             1             8.0   \n",
       "3                5.3          8             1             6.0   \n",
       "4                4.0          6             1             5.0   \n",
       "...              ...        ...           ...             ...   \n",
       "1472             2.0          4             1             9.0   \n",
       "1473             2.0          4             1             6.0   \n",
       "1474             1.4          4             1             6.0   \n",
       "1475             3.5          6             1             7.0   \n",
       "1476             2.0          4             0             7.0   \n",
       "\n",
       "      Model Features_Flexible-fuel vehicle  Model Features_Four-wheel drive  \\\n",
       "0                                        0                                0   \n",
       "1                                        0                                0   \n",
       "2                                        0                                0   \n",
       "3                                        0                                0   \n",
       "4                                        0                                1   \n",
       "...                                    ...                              ...   \n",
       "1472                                     0                                0   \n",
       "1473                                     0                                0   \n",
       "1474                                     0                                0   \n",
       "1475                                     0                                0   \n",
       "1476                                     0                                0   \n",
       "\n",
       "      Model Features_Long wheelbase  Model Features_Short wheelbase  \\\n",
       "0                                 0                               0   \n",
       "1                                 0                               0   \n",
       "2                                 0                               0   \n",
       "3                                 0                               0   \n",
       "4                                 0                               0   \n",
       "...                             ...                             ...   \n",
       "1472                              0                               0   \n",
       "1473                              0                               0   \n",
       "1474                              0                               0   \n",
       "1475                              0                               0   \n",
       "1476                              0                               0   \n",
       "\n",
       "      Vehicle Class_FULL-SIZE  Vehicle Class_MID-SIZE  ...  \\\n",
       "0                           1                       0  ...   \n",
       "1                           0                       0  ...   \n",
       "2                           0                       0  ...   \n",
       "3                           0                       0  ...   \n",
       "4                           0                       0  ...   \n",
       "...                       ...                     ...  ...   \n",
       "1472                        0                       0  ...   \n",
       "1473                        0                       0  ...   \n",
       "1474                        0                       0  ...   \n",
       "1475                        0                       1  ...   \n",
       "1476                        0                       0  ...   \n",
       "\n",
       "      Vehicle Class_SUBCOMPACT  Vehicle Class_SUV - SMALL  \\\n",
       "0                            0                          0   \n",
       "1                            1                          0   \n",
       "2                            0                          0   \n",
       "3                            0                          0   \n",
       "4                            0                          0   \n",
       "...                        ...                        ...   \n",
       "1472                         1                          0   \n",
       "1473                         0                          1   \n",
       "1474                         0                          0   \n",
       "1475                         0                          0   \n",
       "1476                         0                          0   \n",
       "\n",
       "      Vehicle Class_SUV - STANDARD  Vehicle Class_TWO-SEATER  \\\n",
       "0                                0                         0   \n",
       "1                                0                         0   \n",
       "2                                0                         0   \n",
       "3                                0                         0   \n",
       "4                                1                         0   \n",
       "...                            ...                       ...   \n",
       "1472                             0                         0   \n",
       "1473                             0                         0   \n",
       "1474                             0                         0   \n",
       "1475                             0                         0   \n",
       "1476                             0                         0   \n",
       "\n",
       "      Vehicle Class_VAN - CARGO  Vehicle Class_VAN - PASSENGER  Fuel Type_E  \\\n",
       "0                             0                              0            0   \n",
       "1                             0                              0            0   \n",
       "2                             0                              0            0   \n",
       "3                             0                              0            0   \n",
       "4                             0                              0            0   \n",
       "...                         ...                            ...          ...   \n",
       "1472                          0                              0            0   \n",
       "1473                          0                              0            0   \n",
       "1474                          0                              0            0   \n",
       "1475                          0                              0            0   \n",
       "1476                          0                              0            0   \n",
       "\n",
       "      Fuel Type_N  Fuel Type_X  Fuel Type_Z  \n",
       "0               0            0            1  \n",
       "1               0            0            1  \n",
       "2               0            0            1  \n",
       "3               0            1            0  \n",
       "4               0            1            0  \n",
       "...           ...          ...          ...  \n",
       "1472            0            0            1  \n",
       "1473            0            1            0  \n",
       "1474            0            1            0  \n",
       "1475            0            0            1  \n",
       "1476            0            0            1  \n",
       "\n",
       "[1477 rows x 27 columns]"
      ]
     },
     "execution_count": 7,
     "metadata": {},
     "output_type": "execute_result"
    }
   ],
   "source": [
    "X_test"
   ]
  },
  {
   "cell_type": "markdown",
   "metadata": {},
   "source": [
    "### Setup pipline for Standardisation"
   ]
  },
  {
   "cell_type": "code",
   "execution_count": 8,
   "metadata": {},
   "outputs": [],
   "source": [
    "binary_columns = X_train.columns[X_train.nunique() == 2].tolist()  \n",
    "numerical_columns = [col for col in X_train.columns if col not in binary_columns]\n",
    "\n",
    "# ColumnTransformer\n",
    "preprocessor = ColumnTransformer(\n",
    "    transformers=[\n",
    "        ('num', StandardScaler(), numerical_columns)  # StandardScale\n",
    "    ], \n",
    "    remainder='passthrough'  # keep dummy variable\n",
    ")\n",
    "\n",
    "# Setup pipeline\n",
    "pipeline = Pipeline(steps=[\n",
    "    ('preprocessor', preprocessor)\n",
    "])"
   ]
  },
  {
   "cell_type": "code",
   "execution_count": 9,
   "metadata": {},
   "outputs": [],
   "source": [
    "X_train_processed = pipeline.fit_transform(X_train)\n",
    "X_test_processed = pipeline.transform(X_test)"
   ]
  },
  {
   "cell_type": "markdown",
   "metadata": {},
   "source": [
    "Inspect the processed data"
   ]
  },
  {
   "cell_type": "code",
   "execution_count": 10,
   "metadata": {},
   "outputs": [
    {
     "name": "stdout",
     "output_type": "stream",
     "text": [
      "Processed Train Dataset：\n",
      "   Engine Size(L)  Cylinders  Gearbox_Type  Gearbox_Number  \\\n",
      "0       -0.121493   0.205342      0.955277             0.0   \n",
      "1        0.614166   0.205342     -1.589744             0.0   \n",
      "2       -0.121493   0.205342     -0.741404             0.0   \n",
      "3        0.172770   0.205342      0.106937             0.0   \n",
      "4       -0.857153  -0.885139      0.955277             0.0   \n",
      "\n",
      "   Model Features_Flexible-fuel vehicle  Model Features_Four-wheel drive  \\\n",
      "0                                   1.0                              0.0   \n",
      "1                                   1.0                              0.0   \n",
      "2                                   0.0                              0.0   \n",
      "3                                   0.0                              0.0   \n",
      "4                                   1.0                              0.0   \n",
      "\n",
      "   Model Features_Long wheelbase  Model Features_Short wheelbase  \\\n",
      "0                            0.0                             0.0   \n",
      "1                            0.0                             0.0   \n",
      "2                            0.0                             0.0   \n",
      "3                            0.0                             0.0   \n",
      "4                            0.0                             0.0   \n",
      "\n",
      "   Vehicle Class_FULL-SIZE  Vehicle Class_MID-SIZE  ...  \\\n",
      "0                      0.0                     0.0  ...   \n",
      "1                      0.0                     0.0  ...   \n",
      "2                      0.0                     0.0  ...   \n",
      "3                      0.0                     0.0  ...   \n",
      "4                      0.0                     0.0  ...   \n",
      "\n",
      "   Vehicle Class_SUBCOMPACT  Vehicle Class_SUV - SMALL  \\\n",
      "0                       0.0                        1.0   \n",
      "1                       0.0                        0.0   \n",
      "2                       0.0                        0.0   \n",
      "3                       0.0                        0.0   \n",
      "4                       0.0                        0.0   \n",
      "\n",
      "   Vehicle Class_SUV - STANDARD  Vehicle Class_TWO-SEATER  \\\n",
      "0                           0.0                       0.0   \n",
      "1                           0.0                       0.0   \n",
      "2                           0.0                       0.0   \n",
      "3                           0.0                       0.0   \n",
      "4                           0.0                       0.0   \n",
      "\n",
      "   Vehicle Class_VAN - CARGO  Vehicle Class_VAN - PASSENGER  Fuel Type_E  \\\n",
      "0                        0.0                            0.0          0.0   \n",
      "1                        0.0                            0.0          0.0   \n",
      "2                        0.0                            0.0          0.0   \n",
      "3                        1.0                            0.0          0.0   \n",
      "4                        0.0                            0.0          0.0   \n",
      "\n",
      "   Fuel Type_N  Fuel Type_X  Fuel Type_Z  \n",
      "0          0.0          0.0          1.0  \n",
      "1          0.0          1.0          0.0  \n",
      "2          0.0          0.0          1.0  \n",
      "3          0.0          0.0          1.0  \n",
      "4          0.0          0.0          1.0  \n",
      "\n",
      "[5 rows x 27 columns]\n",
      "Processed Test Dataset：\n",
      "   Engine Size(L)  Cylinders  Gearbox_Type  Gearbox_Number  \\\n",
      "0       -0.121493   0.205342      0.955277             0.0   \n",
      "1        0.908430   1.295823      0.106937             0.0   \n",
      "2        2.232618   1.295823      0.955277             0.0   \n",
      "3        1.570524   1.295823     -0.741404             0.0   \n",
      "4        0.614166   0.205342     -1.589744             0.0   \n",
      "\n",
      "   Model Features_Flexible-fuel vehicle  Model Features_Four-wheel drive  \\\n",
      "0                                   0.0                              0.0   \n",
      "1                                   0.0                              0.0   \n",
      "2                                   1.0                              0.0   \n",
      "3                                   1.0                              0.0   \n",
      "4                                   1.0                              0.0   \n",
      "\n",
      "   Model Features_Long wheelbase  Model Features_Short wheelbase  \\\n",
      "0                            0.0                             0.0   \n",
      "1                            0.0                             0.0   \n",
      "2                            0.0                             0.0   \n",
      "3                            0.0                             0.0   \n",
      "4                            1.0                             0.0   \n",
      "\n",
      "   Vehicle Class_FULL-SIZE  Vehicle Class_MID-SIZE  ...  \\\n",
      "0                      0.0                     1.0  ...   \n",
      "1                      0.0                     0.0  ...   \n",
      "2                      0.0                     0.0  ...   \n",
      "3                      0.0                     0.0  ...   \n",
      "4                      0.0                     0.0  ...   \n",
      "\n",
      "   Vehicle Class_SUBCOMPACT  Vehicle Class_SUV - SMALL  \\\n",
      "0                       0.0                        0.0   \n",
      "1                       0.0                        1.0   \n",
      "2                       0.0                        0.0   \n",
      "3                       0.0                        0.0   \n",
      "4                       0.0                        0.0   \n",
      "\n",
      "   Vehicle Class_SUV - STANDARD  Vehicle Class_TWO-SEATER  \\\n",
      "0                           0.0                       0.0   \n",
      "1                           0.0                       0.0   \n",
      "2                           0.0                       0.0   \n",
      "3                           0.0                       0.0   \n",
      "4                           0.0                       1.0   \n",
      "\n",
      "   Vehicle Class_VAN - CARGO  Vehicle Class_VAN - PASSENGER  Fuel Type_E  \\\n",
      "0                        0.0                            0.0          0.0   \n",
      "1                        0.0                            0.0          0.0   \n",
      "2                        0.0                            0.0          0.0   \n",
      "3                        0.0                            0.0          0.0   \n",
      "4                        0.0                            0.0          0.0   \n",
      "\n",
      "   Fuel Type_N  Fuel Type_X  Fuel Type_Z  \n",
      "0          0.0          0.0          1.0  \n",
      "1          0.0          0.0          1.0  \n",
      "2          0.0          0.0          1.0  \n",
      "3          0.0          1.0          0.0  \n",
      "4          0.0          1.0          0.0  \n",
      "\n",
      "[5 rows x 27 columns]\n"
     ]
    }
   ],
   "source": [
    "feature_names = list(X_train) \n",
    "X_train_df = pd.DataFrame(X_train_processed, columns=feature_names)\n",
    "\n",
    "X_test_df = pd.DataFrame(X_test_processed, columns=feature_names)\n",
    "\n",
    "print(\"Processed Train Dataset：\")\n",
    "print(X_train_df.head())\n",
    "\n",
    "print(\"Processed Test Dataset：\")\n",
    "print(X_test_df.head())\n"
   ]
  },
  {
   "cell_type": "code",
   "execution_count": 11,
   "metadata": {},
   "outputs": [],
   "source": [
    "# Prepare the Dataloader\n",
    "import torch\n",
    "import torch.nn as nn\n",
    "from torch.utils.data import DataLoader, TensorDataset\n",
    "\n",
    "# Convert data to Tensor\n",
    "X_train_tensor = torch.tensor(X_train_processed, dtype=torch.float32) \n",
    "y_train_tensor = torch.tensor(y_train.values, dtype=torch.float32).view(-1, 1)\n",
    "\n",
    "X_val_tensor = torch.tensor(X_test_processed, dtype=torch.float32)\n",
    "y_val_tensor = torch.tensor(y_test.values, dtype=torch.float32).view(-1, 1)\n",
    "\n",
    "# Load the training data and validation data\n",
    "train_dataset = TensorDataset(X_train_tensor, y_train_tensor)\n",
    "val_dataset = TensorDataset(X_val_tensor,y_val_tensor)\n",
    "\n",
    "# Set hyperparameters\n",
    "batch_size = 64  # batch size\n",
    "\n",
    "# Create data loader\n",
    "train_Loader = DataLoader(dataset=train_dataset, batch_size=batch_size, shuffle=True)\n",
    "val_Loader = DataLoader(dataset=val_dataset, batch_size=batch_size, shuffle=False)\n",
    "\n"
   ]
  },
  {
   "cell_type": "markdown",
   "metadata": {},
   "source": [
    "## 3 W&B Grid Search to Find Best NN Parameter Set"
   ]
  },
  {
   "cell_type": "code",
   "execution_count": 12,
   "metadata": {},
   "outputs": [
    {
     "name": "stderr",
     "output_type": "stream",
     "text": [
      "Failed to detect the name of this notebook, you can set it manually with the WANDB_NOTEBOOK_NAME environment variable to enable code saving.\n",
      "wandb: Using wandb-core as the SDK backend.  Please refer to https://wandb.me/wandb-core for more information.\n",
      "wandb: WARNING If you're specifying your api key in code, ensure this code is not shared publicly.\n",
      "wandb: WARNING Consider setting the WANDB_API_KEY environment variable, or running `wandb login` from the command line.\n",
      "wandb: Appending key for api.wandb.ai to your netrc file: C:\\Users\\87383\\_netrc\n",
      "wandb: Currently logged in as: yixuan228 (yixuan228-imperial-college-london) to https://api.wandb.ai. Use `wandb login --relogin` to force relogin\n"
     ]
    },
    {
     "data": {
      "text/plain": [
       "True"
      ]
     },
     "execution_count": 12,
     "metadata": {},
     "output_type": "execute_result"
    }
   ],
   "source": [
    "import wandb\n",
    "\n",
    "wandb.login(key=\"47ea61c7ee69e2e0e1cc46ed5c31bd6168f9f9db\")"
   ]
  },
  {
   "cell_type": "code",
   "execution_count": 13,
   "metadata": {},
   "outputs": [],
   "source": [
    "class MultiLayerPerceptron(nn.Module):\n",
    "\n",
    "    def __init__(self, input_size, hidden_size, num_layers, output_size):\n",
    "        super(MultiLayerPerceptron, self).__init__()\n",
    "\n",
    "        # Initialise an empty list to hold layers\n",
    "        layers = []\n",
    "\n",
    "        # First layer: input to hidden\n",
    "        layers.append(nn.Linear(input_size, hidden_size))\n",
    "        layers.append(nn.ReLU())\n",
    "\n",
    "        # Additional hidden layers\n",
    "        for _ in range(num_layers - 1):\n",
    "            layers.append(nn.Linear(hidden_size, hidden_size))\n",
    "            layers.append(nn.ReLU())\n",
    "            \n",
    "        # Output layer: hidden to output\n",
    "        layers.append(nn.Linear(hidden_size, output_size))\n",
    "        self.model = nn.Sequential(*layers)\n",
    "\n",
    "    def forward(self, x):\n",
    "        return self.model(x)"
   ]
  },
  {
   "cell_type": "code",
   "execution_count": 14,
   "metadata": {},
   "outputs": [],
   "source": [
    "from torch.utils.data import random_split\n",
    "\n",
    "# Calculate the sizes for train and validation splits\n",
    "num_total = len(train_dataset)\n",
    "num_train = int(0.9 * num_total)\n",
    "num_val = num_total - num_train\n",
    "\n",
    "# Split the dataset\n",
    "train_subset, val_subset = random_split(train_dataset, [num_train, num_val])\n",
    "\n",
    "# Create DataLoaders for each subset\n",
    "train_Loader = DataLoader(train_subset, batch_size=64, shuffle=True)\n",
    "val_Loader = DataLoader(val_subset, batch_size=64, shuffle=False)"
   ]
  },
  {
   "cell_type": "code",
   "execution_count": 15,
   "metadata": {},
   "outputs": [],
   "source": [
    "# Hyperparameter grid\n",
    "hidden_units_options = [32, 64, 128]    # Numbers of neurons in each hidden layer\n",
    "hidden_layers_options = [2, 3, 4]       # Numbers of hidden layers\n",
    "learning_rates = [0.1, 0.01, 0.001]     # Learning rates\n",
    "\n",
    "max_epochs = 200  # Arbitrarily large; early stopping will likely stop earlier.\n",
    "patience = 5      # Early stopping patience\n",
    "\n",
    "input_size =  X_train_processed.shape[1]   # Input size \n",
    "output_size = 1             # Output size\n",
    "\n",
    "learning_rate = 0.02        # Learning rate\n",
    "n_epochs = 100 # Numebr of epochs\n",
    "\n",
    "# Define the loss function and the optimizer\n",
    "criterion = nn.MSELoss()    # Mean Squared Error for Linear Regression\n"
   ]
  },
  {
   "cell_type": "code",
   "execution_count": 16,
   "metadata": {},
   "outputs": [],
   "source": [
    "# Define helper functions\n",
    "# Train epoch function\n",
    "def train_epoch(model, train_loader, criterion, optimizer, device):\n",
    "    model.train()\n",
    "    running_loss = 0.0\n",
    "\n",
    "    # for features, target in tqdm(train_loader, desc=f\"Training Epoch {epoch+1}\"):\n",
    "    for features, target in train_loader:\n",
    "        features, target = features.to(device), target.to(device)\n",
    "\n",
    "        optimizer.zero_grad()\n",
    "        outputs = model(features) # Forward pass\n",
    "        loss = criterion(outputs, target)\n",
    "\n",
    "        loss.backward()  # Backward pass\n",
    "        optimizer.step() # Update the weights\n",
    "\n",
    "        running_loss += loss.item() * features.size(0)\n",
    "\n",
    "    return running_loss / len(train_loader.dataset)\n",
    "\n",
    "# Validation epoch function\n",
    "def val_epoch(model, val_loader, criterion, device):\n",
    "    model.eval()\n",
    "    val_loss = 0.0\n",
    "\n",
    "    with torch.no_grad():\n",
    "        for features, target in val_loader:\n",
    "            # print(featuresfeatures.size(0))\n",
    "            features, target = features.to(device), target.to(device)\n",
    "            # features = features.view(features.size(0), -1)\n",
    "\n",
    "            outputs = model(features)\n",
    "            loss = criterion(outputs, target)\n",
    "            val_loss += loss.item() * features.size(0)\n",
    "\n",
    "    return val_loss / len(val_loader.dataset)\n",
    "\n"
   ]
  },
  {
   "cell_type": "code",
   "execution_count": 17,
   "metadata": {},
   "outputs": [
    {
     "data": {
      "text/html": [
       "Tracking run with wandb version 0.19.7"
      ],
      "text/plain": [
       "<IPython.core.display.HTML object>"
      ]
     },
     "metadata": {},
     "output_type": "display_data"
    },
    {
     "data": {
      "text/html": [
       "Run data is saved locally in <code>d:\\Projects\\MSc_DE_GroupWork4\\Scripts\\wandb\\run-20250320_135830-mxbq27rn</code>"
      ],
      "text/plain": [
       "<IPython.core.display.HTML object>"
      ]
     },
     "metadata": {},
     "output_type": "display_data"
    },
    {
     "data": {
      "text/html": [
       "Syncing run <strong><a href='https://wandb.ai/yixuan228-imperial-college-london/DE_Groupwork_G4_stage1/runs/mxbq27rn' target=\"_blank\">misty-salad-30</a></strong> to <a href='https://wandb.ai/yixuan228-imperial-college-london/DE_Groupwork_G4_stage1' target=\"_blank\">Weights & Biases</a> (<a href='https://wandb.me/developer-guide' target=\"_blank\">docs</a>)<br>"
      ],
      "text/plain": [
       "<IPython.core.display.HTML object>"
      ]
     },
     "metadata": {},
     "output_type": "display_data"
    },
    {
     "data": {
      "text/html": [
       " View project at <a href='https://wandb.ai/yixuan228-imperial-college-london/DE_Groupwork_G4_stage1' target=\"_blank\">https://wandb.ai/yixuan228-imperial-college-london/DE_Groupwork_G4_stage1</a>"
      ],
      "text/plain": [
       "<IPython.core.display.HTML object>"
      ]
     },
     "metadata": {},
     "output_type": "display_data"
    },
    {
     "data": {
      "text/html": [
       " View run at <a href='https://wandb.ai/yixuan228-imperial-college-london/DE_Groupwork_G4_stage1/runs/mxbq27rn' target=\"_blank\">https://wandb.ai/yixuan228-imperial-college-london/DE_Groupwork_G4_stage1/runs/mxbq27rn</a>"
      ],
      "text/plain": [
       "<IPython.core.display.HTML object>"
      ]
     },
     "metadata": {},
     "output_type": "display_data"
    },
    {
     "name": "stdout",
     "output_type": "stream",
     "text": [
      "Epoch 001 | Train Loss: 6400.1514 | Val Loss: 938.7351\n",
      "Epoch 002 | Train Loss: 788.1200 | Val Loss: 822.9958\n",
      "Epoch 003 | Train Loss: 721.9565 | Val Loss: 714.7530\n",
      "Epoch 004 | Train Loss: 630.5052 | Val Loss: 721.8133\n",
      "Epoch 005 | Train Loss: 673.1648 | Val Loss: 650.6208\n",
      "Epoch 006 | Train Loss: 620.2334 | Val Loss: 841.4749\n",
      "Epoch 007 | Train Loss: 591.9293 | Val Loss: 734.0117\n",
      "Epoch 008 | Train Loss: 573.2639 | Val Loss: 599.4195\n",
      "Epoch 009 | Train Loss: 570.7662 | Val Loss: 1358.8709\n",
      "Epoch 010 | Train Loss: 638.7929 | Val Loss: 604.4920\n",
      "Epoch 011 | Train Loss: 571.9126 | Val Loss: 638.4321\n",
      "Epoch 012 | Train Loss: 620.3852 | Val Loss: 588.5027\n",
      "Epoch 013 | Train Loss: 602.5697 | Val Loss: 800.6641\n",
      "Epoch 014 | Train Loss: 668.2451 | Val Loss: 643.2828\n",
      "Epoch 015 | Train Loss: 634.3690 | Val Loss: 580.3000\n",
      "Epoch 016 | Train Loss: 584.9325 | Val Loss: 549.7290\n",
      "Epoch 017 | Train Loss: 538.8751 | Val Loss: 558.7020\n",
      "Epoch 018 | Train Loss: 579.2524 | Val Loss: 1124.7950\n",
      "Epoch 019 | Train Loss: 616.4866 | Val Loss: 638.2501\n",
      "Epoch 020 | Train Loss: 613.7624 | Val Loss: 634.9850\n",
      "Epoch 021 | Train Loss: 595.7068 | Val Loss: 572.9773\n",
      "Early stopping triggered at epoch 21\n"
     ]
    },
    {
     "data": {
      "text/html": [],
      "text/plain": [
       "<IPython.core.display.HTML object>"
      ]
     },
     "metadata": {},
     "output_type": "display_data"
    },
    {
     "data": {
      "text/html": [
       "<br>    <style><br>        .wandb-row {<br>            display: flex;<br>            flex-direction: row;<br>            flex-wrap: wrap;<br>            justify-content: flex-start;<br>            width: 100%;<br>        }<br>        .wandb-col {<br>            display: flex;<br>            flex-direction: column;<br>            flex-basis: 100%;<br>            flex: 1;<br>            padding: 10px;<br>        }<br>    </style><br><div class=\"wandb-row\"><div class=\"wandb-col\"><h3>Run history:</h3><br/><table class=\"wandb\"><tr><td>epoch</td><td>▁▁▂▂▂▃▃▃▄▄▅▅▅▆▆▆▇▇▇██</td></tr><tr><td>train_loss</td><td>█▁▁▁▁▁▁▁▁▁▁▁▁▁▁▁▁▁▁▁▁</td></tr><tr><td>val_loss</td><td>▄▃▂▂▂▄▃▁█▁▂▁▃▂▁▁▁▆▂▂▁</td></tr></table><br/></div><div class=\"wandb-col\"><h3>Run summary:</h3><br/><table class=\"wandb\"><tr><td>epoch</td><td>21</td></tr><tr><td>train_loss</td><td>595.7068</td></tr><tr><td>val_loss</td><td>572.97729</td></tr></table><br/></div></div>"
      ],
      "text/plain": [
       "<IPython.core.display.HTML object>"
      ]
     },
     "metadata": {},
     "output_type": "display_data"
    },
    {
     "data": {
      "text/html": [
       " View run <strong style=\"color:#cdcd00\">misty-salad-30</strong> at: <a href='https://wandb.ai/yixuan228-imperial-college-london/DE_Groupwork_G4_stage1/runs/mxbq27rn' target=\"_blank\">https://wandb.ai/yixuan228-imperial-college-london/DE_Groupwork_G4_stage1/runs/mxbq27rn</a><br> View project at: <a href='https://wandb.ai/yixuan228-imperial-college-london/DE_Groupwork_G4_stage1' target=\"_blank\">https://wandb.ai/yixuan228-imperial-college-london/DE_Groupwork_G4_stage1</a><br>Synced 5 W&B file(s), 0 media file(s), 0 artifact file(s) and 0 other file(s)"
      ],
      "text/plain": [
       "<IPython.core.display.HTML object>"
      ]
     },
     "metadata": {},
     "output_type": "display_data"
    },
    {
     "data": {
      "text/html": [
       "Find logs at: <code>.\\wandb\\run-20250320_135830-mxbq27rn\\logs</code>"
      ],
      "text/plain": [
       "<IPython.core.display.HTML object>"
      ]
     },
     "metadata": {},
     "output_type": "display_data"
    },
    {
     "data": {
      "text/html": [
       "Tracking run with wandb version 0.19.7"
      ],
      "text/plain": [
       "<IPython.core.display.HTML object>"
      ]
     },
     "metadata": {},
     "output_type": "display_data"
    },
    {
     "data": {
      "text/html": [
       "Run data is saved locally in <code>d:\\Projects\\MSc_DE_GroupWork4\\Scripts\\wandb\\run-20250320_135852-79z9egdo</code>"
      ],
      "text/plain": [
       "<IPython.core.display.HTML object>"
      ]
     },
     "metadata": {},
     "output_type": "display_data"
    },
    {
     "data": {
      "text/html": [
       "Syncing run <strong><a href='https://wandb.ai/yixuan228-imperial-college-london/DE_Groupwork_G4_stage1/runs/79z9egdo' target=\"_blank\">breezy-yogurt-31</a></strong> to <a href='https://wandb.ai/yixuan228-imperial-college-london/DE_Groupwork_G4_stage1' target=\"_blank\">Weights & Biases</a> (<a href='https://wandb.me/developer-guide' target=\"_blank\">docs</a>)<br>"
      ],
      "text/plain": [
       "<IPython.core.display.HTML object>"
      ]
     },
     "metadata": {},
     "output_type": "display_data"
    },
    {
     "data": {
      "text/html": [
       " View project at <a href='https://wandb.ai/yixuan228-imperial-college-london/DE_Groupwork_G4_stage1' target=\"_blank\">https://wandb.ai/yixuan228-imperial-college-london/DE_Groupwork_G4_stage1</a>"
      ],
      "text/plain": [
       "<IPython.core.display.HTML object>"
      ]
     },
     "metadata": {},
     "output_type": "display_data"
    },
    {
     "data": {
      "text/html": [
       " View run at <a href='https://wandb.ai/yixuan228-imperial-college-london/DE_Groupwork_G4_stage1/runs/79z9egdo' target=\"_blank\">https://wandb.ai/yixuan228-imperial-college-london/DE_Groupwork_G4_stage1/runs/79z9egdo</a>"
      ],
      "text/plain": [
       "<IPython.core.display.HTML object>"
      ]
     },
     "metadata": {},
     "output_type": "display_data"
    },
    {
     "name": "stdout",
     "output_type": "stream",
     "text": [
      "Epoch 001 | Train Loss: 25805.9011 | Val Loss: 1734.0341\n",
      "Epoch 002 | Train Loss: 1296.1157 | Val Loss: 1073.5779\n",
      "Epoch 003 | Train Loss: 977.6653 | Val Loss: 912.9437\n",
      "Epoch 004 | Train Loss: 829.8784 | Val Loss: 853.9524\n",
      "Epoch 005 | Train Loss: 774.4765 | Val Loss: 809.3803\n",
      "Epoch 006 | Train Loss: 725.5545 | Val Loss: 791.8399\n",
      "Epoch 007 | Train Loss: 694.2554 | Val Loss: 772.8953\n",
      "Epoch 008 | Train Loss: 675.1672 | Val Loss: 741.7608\n",
      "Epoch 009 | Train Loss: 653.0527 | Val Loss: 712.3610\n",
      "Epoch 010 | Train Loss: 622.1088 | Val Loss: 680.7354\n",
      "Epoch 011 | Train Loss: 609.5213 | Val Loss: 677.4527\n",
      "Epoch 012 | Train Loss: 599.6632 | Val Loss: 648.2716\n",
      "Epoch 013 | Train Loss: 572.3549 | Val Loss: 677.0451\n",
      "Epoch 014 | Train Loss: 563.6569 | Val Loss: 642.2129\n",
      "Epoch 015 | Train Loss: 561.2537 | Val Loss: 658.1642\n",
      "Epoch 016 | Train Loss: 555.8749 | Val Loss: 607.9476\n",
      "Epoch 017 | Train Loss: 541.9991 | Val Loss: 649.5774\n",
      "Epoch 018 | Train Loss: 553.3031 | Val Loss: 594.5312\n",
      "Epoch 019 | Train Loss: 536.7987 | Val Loss: 616.0663\n",
      "Epoch 020 | Train Loss: 550.3614 | Val Loss: 593.3802\n",
      "Epoch 021 | Train Loss: 539.9425 | Val Loss: 626.8788\n",
      "Epoch 022 | Train Loss: 540.2364 | Val Loss: 634.4122\n",
      "Epoch 023 | Train Loss: 549.7220 | Val Loss: 587.7842\n",
      "Epoch 024 | Train Loss: 538.0406 | Val Loss: 582.9834\n",
      "Epoch 025 | Train Loss: 534.8089 | Val Loss: 591.7988\n",
      "Epoch 026 | Train Loss: 544.2426 | Val Loss: 605.8430\n",
      "Epoch 027 | Train Loss: 546.1417 | Val Loss: 589.7187\n",
      "Epoch 028 | Train Loss: 529.5500 | Val Loss: 611.0176\n",
      "Epoch 029 | Train Loss: 531.7759 | Val Loss: 641.6644\n",
      "Early stopping triggered at epoch 29\n"
     ]
    },
    {
     "data": {
      "text/html": [],
      "text/plain": [
       "<IPython.core.display.HTML object>"
      ]
     },
     "metadata": {},
     "output_type": "display_data"
    },
    {
     "data": {
      "text/html": [
       "<br>    <style><br>        .wandb-row {<br>            display: flex;<br>            flex-direction: row;<br>            flex-wrap: wrap;<br>            justify-content: flex-start;<br>            width: 100%;<br>        }<br>        .wandb-col {<br>            display: flex;<br>            flex-direction: column;<br>            flex-basis: 100%;<br>            flex: 1;<br>            padding: 10px;<br>        }<br>    </style><br><div class=\"wandb-row\"><div class=\"wandb-col\"><h3>Run history:</h3><br/><table class=\"wandb\"><tr><td>epoch</td><td>▁▁▁▂▂▂▃▃▃▃▃▄▄▄▅▅▅▅▅▆▆▆▇▇▇▇▇██</td></tr><tr><td>train_loss</td><td>█▁▁▁▁▁▁▁▁▁▁▁▁▁▁▁▁▁▁▁▁▁▁▁▁▁▁▁▁</td></tr><tr><td>val_loss</td><td>█▄▃▃▂▂▂▂▂▂▂▁▂▁▁▁▁▁▁▁▁▁▁▁▁▁▁▁▁</td></tr></table><br/></div><div class=\"wandb-col\"><h3>Run summary:</h3><br/><table class=\"wandb\"><tr><td>epoch</td><td>29</td></tr><tr><td>train_loss</td><td>531.77587</td></tr><tr><td>val_loss</td><td>641.66445</td></tr></table><br/></div></div>"
      ],
      "text/plain": [
       "<IPython.core.display.HTML object>"
      ]
     },
     "metadata": {},
     "output_type": "display_data"
    },
    {
     "data": {
      "text/html": [
       " View run <strong style=\"color:#cdcd00\">breezy-yogurt-31</strong> at: <a href='https://wandb.ai/yixuan228-imperial-college-london/DE_Groupwork_G4_stage1/runs/79z9egdo' target=\"_blank\">https://wandb.ai/yixuan228-imperial-college-london/DE_Groupwork_G4_stage1/runs/79z9egdo</a><br> View project at: <a href='https://wandb.ai/yixuan228-imperial-college-london/DE_Groupwork_G4_stage1' target=\"_blank\">https://wandb.ai/yixuan228-imperial-college-london/DE_Groupwork_G4_stage1</a><br>Synced 5 W&B file(s), 0 media file(s), 0 artifact file(s) and 0 other file(s)"
      ],
      "text/plain": [
       "<IPython.core.display.HTML object>"
      ]
     },
     "metadata": {},
     "output_type": "display_data"
    },
    {
     "data": {
      "text/html": [
       "Find logs at: <code>.\\wandb\\run-20250320_135852-79z9egdo\\logs</code>"
      ],
      "text/plain": [
       "<IPython.core.display.HTML object>"
      ]
     },
     "metadata": {},
     "output_type": "display_data"
    },
    {
     "data": {
      "text/html": [
       "Tracking run with wandb version 0.19.7"
      ],
      "text/plain": [
       "<IPython.core.display.HTML object>"
      ]
     },
     "metadata": {},
     "output_type": "display_data"
    },
    {
     "data": {
      "text/html": [
       "Run data is saved locally in <code>d:\\Projects\\MSc_DE_GroupWork4\\Scripts\\wandb\\run-20250320_135907-ljbvmjnf</code>"
      ],
      "text/plain": [
       "<IPython.core.display.HTML object>"
      ]
     },
     "metadata": {},
     "output_type": "display_data"
    },
    {
     "data": {
      "text/html": [
       "Syncing run <strong><a href='https://wandb.ai/yixuan228-imperial-college-london/DE_Groupwork_G4_stage1/runs/ljbvmjnf' target=\"_blank\">pretty-bee-32</a></strong> to <a href='https://wandb.ai/yixuan228-imperial-college-london/DE_Groupwork_G4_stage1' target=\"_blank\">Weights & Biases</a> (<a href='https://wandb.me/developer-guide' target=\"_blank\">docs</a>)<br>"
      ],
      "text/plain": [
       "<IPython.core.display.HTML object>"
      ]
     },
     "metadata": {},
     "output_type": "display_data"
    },
    {
     "data": {
      "text/html": [
       " View project at <a href='https://wandb.ai/yixuan228-imperial-college-london/DE_Groupwork_G4_stage1' target=\"_blank\">https://wandb.ai/yixuan228-imperial-college-london/DE_Groupwork_G4_stage1</a>"
      ],
      "text/plain": [
       "<IPython.core.display.HTML object>"
      ]
     },
     "metadata": {},
     "output_type": "display_data"
    },
    {
     "data": {
      "text/html": [
       " View run at <a href='https://wandb.ai/yixuan228-imperial-college-london/DE_Groupwork_G4_stage1/runs/ljbvmjnf' target=\"_blank\">https://wandb.ai/yixuan228-imperial-college-london/DE_Groupwork_G4_stage1/runs/ljbvmjnf</a>"
      ],
      "text/plain": [
       "<IPython.core.display.HTML object>"
      ]
     },
     "metadata": {},
     "output_type": "display_data"
    },
    {
     "name": "stdout",
     "output_type": "stream",
     "text": [
      "Epoch 001 | Train Loss: 65742.8335 | Val Loss: 61937.5361\n",
      "Epoch 002 | Train Loss: 53913.0334 | Val Loss: 37106.7804\n",
      "Epoch 003 | Train Loss: 20032.5550 | Val Loss: 5203.3637\n",
      "Epoch 004 | Train Loss: 2974.6069 | Val Loss: 2224.4583\n",
      "Epoch 005 | Train Loss: 2022.1626 | Val Loss: 1892.6284\n",
      "Epoch 006 | Train Loss: 1758.1798 | Val Loss: 1682.4626\n",
      "Epoch 007 | Train Loss: 1588.2970 | Val Loss: 1530.2683\n",
      "Epoch 008 | Train Loss: 1469.8548 | Val Loss: 1422.5030\n",
      "Epoch 009 | Train Loss: 1371.9781 | Val Loss: 1328.4756\n",
      "Epoch 010 | Train Loss: 1290.1482 | Val Loss: 1255.1321\n",
      "Epoch 011 | Train Loss: 1216.5495 | Val Loss: 1187.3740\n",
      "Epoch 012 | Train Loss: 1151.3214 | Val Loss: 1133.2032\n",
      "Epoch 013 | Train Loss: 1093.0557 | Val Loss: 1078.1140\n",
      "Epoch 014 | Train Loss: 1041.3206 | Val Loss: 1035.7549\n",
      "Epoch 015 | Train Loss: 994.0394 | Val Loss: 998.5069\n",
      "Epoch 016 | Train Loss: 954.8216 | Val Loss: 962.6513\n",
      "Epoch 017 | Train Loss: 913.6998 | Val Loss: 928.9314\n",
      "Epoch 018 | Train Loss: 880.0152 | Val Loss: 902.3860\n",
      "Epoch 019 | Train Loss: 851.9528 | Val Loss: 878.3785\n",
      "Epoch 020 | Train Loss: 825.0005 | Val Loss: 862.9705\n",
      "Epoch 021 | Train Loss: 804.4592 | Val Loss: 852.4697\n",
      "Epoch 022 | Train Loss: 787.1277 | Val Loss: 835.7857\n",
      "Epoch 023 | Train Loss: 771.0542 | Val Loss: 824.2466\n",
      "Epoch 024 | Train Loss: 757.8083 | Val Loss: 816.2132\n",
      "Epoch 025 | Train Loss: 746.2614 | Val Loss: 813.7345\n",
      "Epoch 026 | Train Loss: 735.3907 | Val Loss: 800.4706\n",
      "Epoch 027 | Train Loss: 726.7759 | Val Loss: 793.7364\n",
      "Epoch 028 | Train Loss: 718.9022 | Val Loss: 787.8851\n",
      "Epoch 029 | Train Loss: 710.1804 | Val Loss: 791.1268\n",
      "Epoch 030 | Train Loss: 704.7853 | Val Loss: 776.8886\n",
      "Epoch 031 | Train Loss: 697.9673 | Val Loss: 771.3525\n",
      "Epoch 032 | Train Loss: 691.2381 | Val Loss: 776.6533\n",
      "Epoch 033 | Train Loss: 685.6241 | Val Loss: 759.4404\n",
      "Epoch 034 | Train Loss: 679.5842 | Val Loss: 756.5589\n",
      "Epoch 035 | Train Loss: 674.4497 | Val Loss: 747.5777\n",
      "Epoch 036 | Train Loss: 667.7551 | Val Loss: 745.7041\n",
      "Epoch 037 | Train Loss: 663.8172 | Val Loss: 741.0870\n",
      "Epoch 038 | Train Loss: 658.8468 | Val Loss: 733.7517\n",
      "Epoch 039 | Train Loss: 651.5728 | Val Loss: 729.5717\n",
      "Epoch 040 | Train Loss: 646.9723 | Val Loss: 724.6537\n",
      "Epoch 041 | Train Loss: 641.6209 | Val Loss: 724.7404\n",
      "Epoch 042 | Train Loss: 637.5334 | Val Loss: 713.9385\n",
      "Epoch 043 | Train Loss: 635.8282 | Val Loss: 713.5603\n",
      "Epoch 044 | Train Loss: 628.6894 | Val Loss: 705.1462\n",
      "Epoch 045 | Train Loss: 624.0215 | Val Loss: 699.9124\n",
      "Epoch 046 | Train Loss: 620.6899 | Val Loss: 698.7795\n",
      "Epoch 047 | Train Loss: 616.6885 | Val Loss: 691.9518\n",
      "Epoch 048 | Train Loss: 613.1017 | Val Loss: 691.4714\n",
      "Epoch 049 | Train Loss: 609.7945 | Val Loss: 687.4933\n",
      "Epoch 050 | Train Loss: 605.7519 | Val Loss: 683.5872\n",
      "Epoch 051 | Train Loss: 603.8300 | Val Loss: 680.5756\n",
      "Epoch 052 | Train Loss: 599.0629 | Val Loss: 679.7481\n",
      "Epoch 053 | Train Loss: 596.0189 | Val Loss: 673.4040\n",
      "Epoch 054 | Train Loss: 593.0445 | Val Loss: 670.7090\n",
      "Epoch 055 | Train Loss: 591.0861 | Val Loss: 669.9097\n",
      "Epoch 056 | Train Loss: 588.5983 | Val Loss: 661.5534\n",
      "Epoch 057 | Train Loss: 585.9437 | Val Loss: 658.9343\n",
      "Epoch 058 | Train Loss: 584.8161 | Val Loss: 657.8434\n",
      "Epoch 059 | Train Loss: 580.3005 | Val Loss: 656.0515\n",
      "Epoch 060 | Train Loss: 577.9511 | Val Loss: 652.2899\n",
      "Epoch 061 | Train Loss: 577.7086 | Val Loss: 655.1406\n",
      "Epoch 062 | Train Loss: 575.4563 | Val Loss: 651.3681\n",
      "Epoch 063 | Train Loss: 571.4763 | Val Loss: 646.8898\n",
      "Epoch 064 | Train Loss: 569.8307 | Val Loss: 644.2930\n",
      "Epoch 065 | Train Loss: 567.6504 | Val Loss: 655.5024\n",
      "Epoch 066 | Train Loss: 570.2587 | Val Loss: 643.3081\n",
      "Epoch 067 | Train Loss: 566.3040 | Val Loss: 639.9166\n",
      "Epoch 068 | Train Loss: 566.1942 | Val Loss: 638.3151\n",
      "Epoch 069 | Train Loss: 562.6054 | Val Loss: 638.3902\n",
      "Epoch 070 | Train Loss: 563.1513 | Val Loss: 632.6838\n",
      "Epoch 071 | Train Loss: 561.1718 | Val Loss: 634.5217\n",
      "Epoch 072 | Train Loss: 558.8589 | Val Loss: 630.2285\n",
      "Epoch 073 | Train Loss: 558.7316 | Val Loss: 631.8853\n",
      "Epoch 074 | Train Loss: 558.2522 | Val Loss: 630.4951\n",
      "Epoch 075 | Train Loss: 554.5245 | Val Loss: 626.3507\n",
      "Epoch 076 | Train Loss: 555.1711 | Val Loss: 626.7684\n",
      "Epoch 077 | Train Loss: 554.0039 | Val Loss: 626.9143\n",
      "Epoch 078 | Train Loss: 553.4398 | Val Loss: 633.3224\n",
      "Epoch 079 | Train Loss: 552.5970 | Val Loss: 629.7376\n",
      "Epoch 080 | Train Loss: 551.0096 | Val Loss: 632.5898\n",
      "Early stopping triggered at epoch 80\n"
     ]
    },
    {
     "data": {
      "text/html": [],
      "text/plain": [
       "<IPython.core.display.HTML object>"
      ]
     },
     "metadata": {},
     "output_type": "display_data"
    },
    {
     "data": {
      "text/html": [
       "<br>    <style><br>        .wandb-row {<br>            display: flex;<br>            flex-direction: row;<br>            flex-wrap: wrap;<br>            justify-content: flex-start;<br>            width: 100%;<br>        }<br>        .wandb-col {<br>            display: flex;<br>            flex-direction: column;<br>            flex-basis: 100%;<br>            flex: 1;<br>            padding: 10px;<br>        }<br>    </style><br><div class=\"wandb-row\"><div class=\"wandb-col\"><h3>Run history:</h3><br/><table class=\"wandb\"><tr><td>epoch</td><td>▁▁▁▁▁▂▂▂▂▂▃▃▃▃▃▃▃▄▄▄▄▅▅▅▅▅▅▅▅▆▇▇▇▇▇▇▇▇██</td></tr><tr><td>train_loss</td><td>█▇▁▁▁▁▁▁▁▁▁▁▁▁▁▁▁▁▁▁▁▁▁▁▁▁▁▁▁▁▁▁▁▁▁▁▁▁▁▁</td></tr><tr><td>val_loss</td><td>█▃▂▂▂▂▂▂▂▁▁▁▁▁▁▁▁▁▁▁▁▁▁▁▁▁▁▁▁▁▁▁▁▁▁▁▁▁▁▁</td></tr></table><br/></div><div class=\"wandb-col\"><h3>Run summary:</h3><br/><table class=\"wandb\"><tr><td>epoch</td><td>80</td></tr><tr><td>train_loss</td><td>551.00965</td></tr><tr><td>val_loss</td><td>632.58984</td></tr></table><br/></div></div>"
      ],
      "text/plain": [
       "<IPython.core.display.HTML object>"
      ]
     },
     "metadata": {},
     "output_type": "display_data"
    },
    {
     "data": {
      "text/html": [
       " View run <strong style=\"color:#cdcd00\">pretty-bee-32</strong> at: <a href='https://wandb.ai/yixuan228-imperial-college-london/DE_Groupwork_G4_stage1/runs/ljbvmjnf' target=\"_blank\">https://wandb.ai/yixuan228-imperial-college-london/DE_Groupwork_G4_stage1/runs/ljbvmjnf</a><br> View project at: <a href='https://wandb.ai/yixuan228-imperial-college-london/DE_Groupwork_G4_stage1' target=\"_blank\">https://wandb.ai/yixuan228-imperial-college-london/DE_Groupwork_G4_stage1</a><br>Synced 5 W&B file(s), 0 media file(s), 0 artifact file(s) and 0 other file(s)"
      ],
      "text/plain": [
       "<IPython.core.display.HTML object>"
      ]
     },
     "metadata": {},
     "output_type": "display_data"
    },
    {
     "data": {
      "text/html": [
       "Find logs at: <code>.\\wandb\\run-20250320_135907-ljbvmjnf\\logs</code>"
      ],
      "text/plain": [
       "<IPython.core.display.HTML object>"
      ]
     },
     "metadata": {},
     "output_type": "display_data"
    },
    {
     "data": {
      "text/html": [
       "Tracking run with wandb version 0.19.7"
      ],
      "text/plain": [
       "<IPython.core.display.HTML object>"
      ]
     },
     "metadata": {},
     "output_type": "display_data"
    },
    {
     "data": {
      "text/html": [
       "Run data is saved locally in <code>d:\\Projects\\MSc_DE_GroupWork4\\Scripts\\wandb\\run-20250320_135944-vbgcfz2s</code>"
      ],
      "text/plain": [
       "<IPython.core.display.HTML object>"
      ]
     },
     "metadata": {},
     "output_type": "display_data"
    },
    {
     "data": {
      "text/html": [
       "Syncing run <strong><a href='https://wandb.ai/yixuan228-imperial-college-london/DE_Groupwork_G4_stage1/runs/vbgcfz2s' target=\"_blank\">devout-hill-33</a></strong> to <a href='https://wandb.ai/yixuan228-imperial-college-london/DE_Groupwork_G4_stage1' target=\"_blank\">Weights & Biases</a> (<a href='https://wandb.me/developer-guide' target=\"_blank\">docs</a>)<br>"
      ],
      "text/plain": [
       "<IPython.core.display.HTML object>"
      ]
     },
     "metadata": {},
     "output_type": "display_data"
    },
    {
     "data": {
      "text/html": [
       " View project at <a href='https://wandb.ai/yixuan228-imperial-college-london/DE_Groupwork_G4_stage1' target=\"_blank\">https://wandb.ai/yixuan228-imperial-college-london/DE_Groupwork_G4_stage1</a>"
      ],
      "text/plain": [
       "<IPython.core.display.HTML object>"
      ]
     },
     "metadata": {},
     "output_type": "display_data"
    },
    {
     "data": {
      "text/html": [
       " View run at <a href='https://wandb.ai/yixuan228-imperial-college-london/DE_Groupwork_G4_stage1/runs/vbgcfz2s' target=\"_blank\">https://wandb.ai/yixuan228-imperial-college-london/DE_Groupwork_G4_stage1/runs/vbgcfz2s</a>"
      ],
      "text/plain": [
       "<IPython.core.display.HTML object>"
      ]
     },
     "metadata": {},
     "output_type": "display_data"
    },
    {
     "name": "stdout",
     "output_type": "stream",
     "text": [
      "Epoch 001 | Train Loss: 11055.9357 | Val Loss: 1093.7884\n",
      "Epoch 002 | Train Loss: 766.4498 | Val Loss: 782.1926\n",
      "Epoch 003 | Train Loss: 649.8747 | Val Loss: 700.1848\n",
      "Epoch 004 | Train Loss: 628.4207 | Val Loss: 749.5063\n",
      "Epoch 005 | Train Loss: 616.4615 | Val Loss: 649.9108\n",
      "Epoch 006 | Train Loss: 595.0415 | Val Loss: 809.4889\n",
      "Epoch 007 | Train Loss: 606.5962 | Val Loss: 623.9995\n",
      "Epoch 008 | Train Loss: 576.9636 | Val Loss: 637.1248\n",
      "Epoch 009 | Train Loss: 567.8814 | Val Loss: 571.9735\n",
      "Epoch 010 | Train Loss: 544.0545 | Val Loss: 1070.9731\n",
      "Epoch 011 | Train Loss: 598.3936 | Val Loss: 838.9804\n",
      "Epoch 012 | Train Loss: 564.1809 | Val Loss: 607.0254\n",
      "Epoch 013 | Train Loss: 562.4973 | Val Loss: 806.1049\n",
      "Epoch 014 | Train Loss: 611.3365 | Val Loss: 825.2190\n",
      "Early stopping triggered at epoch 14\n"
     ]
    },
    {
     "data": {
      "text/html": [],
      "text/plain": [
       "<IPython.core.display.HTML object>"
      ]
     },
     "metadata": {},
     "output_type": "display_data"
    },
    {
     "data": {
      "text/html": [
       "<br>    <style><br>        .wandb-row {<br>            display: flex;<br>            flex-direction: row;<br>            flex-wrap: wrap;<br>            justify-content: flex-start;<br>            width: 100%;<br>        }<br>        .wandb-col {<br>            display: flex;<br>            flex-direction: column;<br>            flex-basis: 100%;<br>            flex: 1;<br>            padding: 10px;<br>        }<br>    </style><br><div class=\"wandb-row\"><div class=\"wandb-col\"><h3>Run history:</h3><br/><table class=\"wandb\"><tr><td>epoch</td><td>▁▂▂▃▃▄▄▅▅▆▆▇▇█</td></tr><tr><td>train_loss</td><td>█▁▁▁▁▁▁▁▁▁▁▁▁▁</td></tr><tr><td>val_loss</td><td>█▄▃▃▂▄▂▂▁█▅▁▄▄</td></tr></table><br/></div><div class=\"wandb-col\"><h3>Run summary:</h3><br/><table class=\"wandb\"><tr><td>epoch</td><td>14</td></tr><tr><td>train_loss</td><td>611.33651</td></tr><tr><td>val_loss</td><td>825.21895</td></tr></table><br/></div></div>"
      ],
      "text/plain": [
       "<IPython.core.display.HTML object>"
      ]
     },
     "metadata": {},
     "output_type": "display_data"
    },
    {
     "data": {
      "text/html": [
       " View run <strong style=\"color:#cdcd00\">devout-hill-33</strong> at: <a href='https://wandb.ai/yixuan228-imperial-college-london/DE_Groupwork_G4_stage1/runs/vbgcfz2s' target=\"_blank\">https://wandb.ai/yixuan228-imperial-college-london/DE_Groupwork_G4_stage1/runs/vbgcfz2s</a><br> View project at: <a href='https://wandb.ai/yixuan228-imperial-college-london/DE_Groupwork_G4_stage1' target=\"_blank\">https://wandb.ai/yixuan228-imperial-college-london/DE_Groupwork_G4_stage1</a><br>Synced 5 W&B file(s), 0 media file(s), 0 artifact file(s) and 0 other file(s)"
      ],
      "text/plain": [
       "<IPython.core.display.HTML object>"
      ]
     },
     "metadata": {},
     "output_type": "display_data"
    },
    {
     "data": {
      "text/html": [
       "Find logs at: <code>.\\wandb\\run-20250320_135944-vbgcfz2s\\logs</code>"
      ],
      "text/plain": [
       "<IPython.core.display.HTML object>"
      ]
     },
     "metadata": {},
     "output_type": "display_data"
    },
    {
     "data": {
      "text/html": [
       "Tracking run with wandb version 0.19.7"
      ],
      "text/plain": [
       "<IPython.core.display.HTML object>"
      ]
     },
     "metadata": {},
     "output_type": "display_data"
    },
    {
     "data": {
      "text/html": [
       "Run data is saved locally in <code>d:\\Projects\\MSc_DE_GroupWork4\\Scripts\\wandb\\run-20250320_135953-b744es0k</code>"
      ],
      "text/plain": [
       "<IPython.core.display.HTML object>"
      ]
     },
     "metadata": {},
     "output_type": "display_data"
    },
    {
     "data": {
      "text/html": [
       "Syncing run <strong><a href='https://wandb.ai/yixuan228-imperial-college-london/DE_Groupwork_G4_stage1/runs/b744es0k' target=\"_blank\">flowing-yogurt-34</a></strong> to <a href='https://wandb.ai/yixuan228-imperial-college-london/DE_Groupwork_G4_stage1' target=\"_blank\">Weights & Biases</a> (<a href='https://wandb.me/developer-guide' target=\"_blank\">docs</a>)<br>"
      ],
      "text/plain": [
       "<IPython.core.display.HTML object>"
      ]
     },
     "metadata": {},
     "output_type": "display_data"
    },
    {
     "data": {
      "text/html": [
       " View project at <a href='https://wandb.ai/yixuan228-imperial-college-london/DE_Groupwork_G4_stage1' target=\"_blank\">https://wandb.ai/yixuan228-imperial-college-london/DE_Groupwork_G4_stage1</a>"
      ],
      "text/plain": [
       "<IPython.core.display.HTML object>"
      ]
     },
     "metadata": {},
     "output_type": "display_data"
    },
    {
     "data": {
      "text/html": [
       " View run at <a href='https://wandb.ai/yixuan228-imperial-college-london/DE_Groupwork_G4_stage1/runs/b744es0k' target=\"_blank\">https://wandb.ai/yixuan228-imperial-college-london/DE_Groupwork_G4_stage1/runs/b744es0k</a>"
      ],
      "text/plain": [
       "<IPython.core.display.HTML object>"
      ]
     },
     "metadata": {},
     "output_type": "display_data"
    },
    {
     "name": "stdout",
     "output_type": "stream",
     "text": [
      "Epoch 001 | Train Loss: 19791.1769 | Val Loss: 1175.7167\n",
      "Epoch 002 | Train Loss: 971.5000 | Val Loss: 874.8690\n",
      "Epoch 003 | Train Loss: 756.8883 | Val Loss: 789.6043\n",
      "Epoch 004 | Train Loss: 696.7751 | Val Loss: 804.8944\n",
      "Epoch 005 | Train Loss: 658.8203 | Val Loss: 705.5231\n",
      "Epoch 006 | Train Loss: 623.3546 | Val Loss: 742.4832\n",
      "Epoch 007 | Train Loss: 604.5215 | Val Loss: 668.8062\n",
      "Epoch 008 | Train Loss: 584.5356 | Val Loss: 661.4459\n",
      "Epoch 009 | Train Loss: 587.7532 | Val Loss: 641.0598\n",
      "Epoch 010 | Train Loss: 550.1992 | Val Loss: 646.4726\n",
      "Epoch 011 | Train Loss: 547.9275 | Val Loss: 597.5156\n",
      "Epoch 012 | Train Loss: 547.2877 | Val Loss: 647.3616\n",
      "Epoch 013 | Train Loss: 549.5983 | Val Loss: 653.3825\n",
      "Epoch 014 | Train Loss: 544.5573 | Val Loss: 601.4968\n",
      "Epoch 015 | Train Loss: 538.6736 | Val Loss: 789.7428\n",
      "Epoch 016 | Train Loss: 544.4682 | Val Loss: 638.8145\n",
      "Early stopping triggered at epoch 16\n"
     ]
    },
    {
     "data": {
      "text/html": [],
      "text/plain": [
       "<IPython.core.display.HTML object>"
      ]
     },
     "metadata": {},
     "output_type": "display_data"
    },
    {
     "data": {
      "text/html": [
       "<br>    <style><br>        .wandb-row {<br>            display: flex;<br>            flex-direction: row;<br>            flex-wrap: wrap;<br>            justify-content: flex-start;<br>            width: 100%;<br>        }<br>        .wandb-col {<br>            display: flex;<br>            flex-direction: column;<br>            flex-basis: 100%;<br>            flex: 1;<br>            padding: 10px;<br>        }<br>    </style><br><div class=\"wandb-row\"><div class=\"wandb-col\"><h3>Run history:</h3><br/><table class=\"wandb\"><tr><td>epoch</td><td>▁▁▂▂▃▃▄▄▅▅▆▆▇▇██</td></tr><tr><td>train_loss</td><td>█▁▁▁▁▁▁▁▁▁▁▁▁▁▁▁</td></tr><tr><td>val_loss</td><td>█▄▃▄▂▃▂▂▂▂▁▂▂▁▃▁</td></tr></table><br/></div><div class=\"wandb-col\"><h3>Run summary:</h3><br/><table class=\"wandb\"><tr><td>epoch</td><td>16</td></tr><tr><td>train_loss</td><td>544.4682</td></tr><tr><td>val_loss</td><td>638.8145</td></tr></table><br/></div></div>"
      ],
      "text/plain": [
       "<IPython.core.display.HTML object>"
      ]
     },
     "metadata": {},
     "output_type": "display_data"
    },
    {
     "data": {
      "text/html": [
       " View run <strong style=\"color:#cdcd00\">flowing-yogurt-34</strong> at: <a href='https://wandb.ai/yixuan228-imperial-college-london/DE_Groupwork_G4_stage1/runs/b744es0k' target=\"_blank\">https://wandb.ai/yixuan228-imperial-college-london/DE_Groupwork_G4_stage1/runs/b744es0k</a><br> View project at: <a href='https://wandb.ai/yixuan228-imperial-college-london/DE_Groupwork_G4_stage1' target=\"_blank\">https://wandb.ai/yixuan228-imperial-college-london/DE_Groupwork_G4_stage1</a><br>Synced 5 W&B file(s), 0 media file(s), 0 artifact file(s) and 0 other file(s)"
      ],
      "text/plain": [
       "<IPython.core.display.HTML object>"
      ]
     },
     "metadata": {},
     "output_type": "display_data"
    },
    {
     "data": {
      "text/html": [
       "Find logs at: <code>.\\wandb\\run-20250320_135953-b744es0k\\logs</code>"
      ],
      "text/plain": [
       "<IPython.core.display.HTML object>"
      ]
     },
     "metadata": {},
     "output_type": "display_data"
    },
    {
     "data": {
      "text/html": [
       "Tracking run with wandb version 0.19.7"
      ],
      "text/plain": [
       "<IPython.core.display.HTML object>"
      ]
     },
     "metadata": {},
     "output_type": "display_data"
    },
    {
     "data": {
      "text/html": [
       "Run data is saved locally in <code>d:\\Projects\\MSc_DE_GroupWork4\\Scripts\\wandb\\run-20250320_140004-oiwfka36</code>"
      ],
      "text/plain": [
       "<IPython.core.display.HTML object>"
      ]
     },
     "metadata": {},
     "output_type": "display_data"
    },
    {
     "data": {
      "text/html": [
       "Syncing run <strong><a href='https://wandb.ai/yixuan228-imperial-college-london/DE_Groupwork_G4_stage1/runs/oiwfka36' target=\"_blank\">elated-eon-35</a></strong> to <a href='https://wandb.ai/yixuan228-imperial-college-london/DE_Groupwork_G4_stage1' target=\"_blank\">Weights & Biases</a> (<a href='https://wandb.me/developer-guide' target=\"_blank\">docs</a>)<br>"
      ],
      "text/plain": [
       "<IPython.core.display.HTML object>"
      ]
     },
     "metadata": {},
     "output_type": "display_data"
    },
    {
     "data": {
      "text/html": [
       " View project at <a href='https://wandb.ai/yixuan228-imperial-college-london/DE_Groupwork_G4_stage1' target=\"_blank\">https://wandb.ai/yixuan228-imperial-college-london/DE_Groupwork_G4_stage1</a>"
      ],
      "text/plain": [
       "<IPython.core.display.HTML object>"
      ]
     },
     "metadata": {},
     "output_type": "display_data"
    },
    {
     "data": {
      "text/html": [
       " View run at <a href='https://wandb.ai/yixuan228-imperial-college-london/DE_Groupwork_G4_stage1/runs/oiwfka36' target=\"_blank\">https://wandb.ai/yixuan228-imperial-college-london/DE_Groupwork_G4_stage1/runs/oiwfka36</a>"
      ],
      "text/plain": [
       "<IPython.core.display.HTML object>"
      ]
     },
     "metadata": {},
     "output_type": "display_data"
    },
    {
     "name": "stdout",
     "output_type": "stream",
     "text": [
      "Epoch 001 | Train Loss: 65454.0913 | Val Loss: 58790.0187\n",
      "Epoch 002 | Train Loss: 29560.9542 | Val Loss: 2367.5951\n",
      "Epoch 003 | Train Loss: 1812.8269 | Val Loss: 1537.2211\n",
      "Epoch 004 | Train Loss: 1422.9711 | Val Loss: 1335.7780\n",
      "Epoch 005 | Train Loss: 1256.3333 | Val Loss: 1193.4689\n",
      "Epoch 006 | Train Loss: 1117.5471 | Val Loss: 1079.3360\n",
      "Epoch 007 | Train Loss: 1009.3032 | Val Loss: 994.0227\n",
      "Epoch 008 | Train Loss: 922.8128 | Val Loss: 923.9940\n",
      "Epoch 009 | Train Loss: 855.2677 | Val Loss: 880.6640\n",
      "Epoch 010 | Train Loss: 805.4744 | Val Loss: 846.7848\n",
      "Epoch 011 | Train Loss: 771.4908 | Val Loss: 818.2356\n",
      "Epoch 012 | Train Loss: 740.0643 | Val Loss: 803.5850\n",
      "Epoch 013 | Train Loss: 718.7709 | Val Loss: 794.4213\n",
      "Epoch 014 | Train Loss: 701.4286 | Val Loss: 773.2249\n",
      "Epoch 015 | Train Loss: 684.9716 | Val Loss: 766.0594\n",
      "Epoch 016 | Train Loss: 674.5537 | Val Loss: 749.2213\n",
      "Epoch 017 | Train Loss: 659.4028 | Val Loss: 741.7780\n",
      "Epoch 018 | Train Loss: 649.9484 | Val Loss: 730.5281\n",
      "Epoch 019 | Train Loss: 636.8552 | Val Loss: 723.2732\n",
      "Epoch 020 | Train Loss: 626.4888 | Val Loss: 710.5187\n",
      "Epoch 021 | Train Loss: 619.3916 | Val Loss: 701.8469\n",
      "Epoch 022 | Train Loss: 613.8768 | Val Loss: 702.1204\n",
      "Epoch 023 | Train Loss: 599.8193 | Val Loss: 682.0651\n",
      "Epoch 024 | Train Loss: 594.1287 | Val Loss: 678.1782\n",
      "Epoch 025 | Train Loss: 581.2823 | Val Loss: 675.4981\n",
      "Epoch 026 | Train Loss: 581.1741 | Val Loss: 675.6167\n",
      "Epoch 027 | Train Loss: 569.6721 | Val Loss: 662.5641\n",
      "Epoch 028 | Train Loss: 569.7579 | Val Loss: 641.5915\n",
      "Epoch 029 | Train Loss: 556.1123 | Val Loss: 634.8688\n",
      "Epoch 030 | Train Loss: 548.3039 | Val Loss: 628.0694\n",
      "Epoch 031 | Train Loss: 543.4288 | Val Loss: 623.3563\n",
      "Epoch 032 | Train Loss: 539.3018 | Val Loss: 618.3673\n",
      "Epoch 033 | Train Loss: 538.0676 | Val Loss: 609.9169\n",
      "Epoch 034 | Train Loss: 529.2351 | Val Loss: 612.6883\n",
      "Epoch 035 | Train Loss: 526.3266 | Val Loss: 605.3100\n",
      "Epoch 036 | Train Loss: 521.1662 | Val Loss: 589.8456\n",
      "Epoch 037 | Train Loss: 515.8088 | Val Loss: 594.2752\n",
      "Epoch 038 | Train Loss: 513.0826 | Val Loss: 588.2626\n",
      "Epoch 039 | Train Loss: 512.6397 | Val Loss: 585.5299\n",
      "Epoch 040 | Train Loss: 510.9188 | Val Loss: 577.3143\n",
      "Epoch 041 | Train Loss: 506.1153 | Val Loss: 590.7703\n",
      "Epoch 042 | Train Loss: 503.7766 | Val Loss: 580.0490\n",
      "Epoch 043 | Train Loss: 499.7602 | Val Loss: 567.5771\n",
      "Epoch 044 | Train Loss: 499.4490 | Val Loss: 566.2788\n",
      "Epoch 045 | Train Loss: 496.9073 | Val Loss: 557.2746\n",
      "Epoch 046 | Train Loss: 495.1109 | Val Loss: 571.1344\n",
      "Epoch 047 | Train Loss: 492.1945 | Val Loss: 558.8155\n",
      "Epoch 048 | Train Loss: 488.7072 | Val Loss: 552.9672\n",
      "Epoch 049 | Train Loss: 486.5017 | Val Loss: 553.5455\n",
      "Epoch 050 | Train Loss: 489.5823 | Val Loss: 553.5737\n",
      "Epoch 051 | Train Loss: 483.6484 | Val Loss: 543.5659\n",
      "Epoch 052 | Train Loss: 483.8816 | Val Loss: 554.7044\n",
      "Epoch 053 | Train Loss: 482.5060 | Val Loss: 550.3602\n",
      "Epoch 054 | Train Loss: 482.0562 | Val Loss: 546.8849\n",
      "Epoch 055 | Train Loss: 481.8302 | Val Loss: 551.3575\n",
      "Epoch 056 | Train Loss: 481.9905 | Val Loss: 557.7351\n",
      "Early stopping triggered at epoch 56\n"
     ]
    },
    {
     "data": {
      "text/html": [],
      "text/plain": [
       "<IPython.core.display.HTML object>"
      ]
     },
     "metadata": {},
     "output_type": "display_data"
    },
    {
     "data": {
      "text/html": [
       "<br>    <style><br>        .wandb-row {<br>            display: flex;<br>            flex-direction: row;<br>            flex-wrap: wrap;<br>            justify-content: flex-start;<br>            width: 100%;<br>        }<br>        .wandb-col {<br>            display: flex;<br>            flex-direction: column;<br>            flex-basis: 100%;<br>            flex: 1;<br>            padding: 10px;<br>        }<br>    </style><br><div class=\"wandb-row\"><div class=\"wandb-col\"><h3>Run history:</h3><br/><table class=\"wandb\"><tr><td>epoch</td><td>▁▁▁▂▂▂▂▂▂▂▃▃▃▃▃▄▄▄▄▅▅▅▅▅▅▆▆▆▆▆▆▇▇▇▇▇▇▇██</td></tr><tr><td>train_loss</td><td>█▆▅▄▃▃▃▂▂▂▂▂▂▂▂▂▂▂▁▁▁▁▁▁▁▁▁▁▁▁▁▁▁▁▁▁▁▁▁▁</td></tr><tr><td>val_loss</td><td>█▁▁▁▁▁▁▁▁▁▁▁▁▁▁▁▁▁▁▁▁▁▁▁▁▁▁▁▁▁▁▁▁▁▁▁▁▁▁▁</td></tr></table><br/></div><div class=\"wandb-col\"><h3>Run summary:</h3><br/><table class=\"wandb\"><tr><td>epoch</td><td>56</td></tr><tr><td>train_loss</td><td>481.99047</td></tr><tr><td>val_loss</td><td>557.73509</td></tr></table><br/></div></div>"
      ],
      "text/plain": [
       "<IPython.core.display.HTML object>"
      ]
     },
     "metadata": {},
     "output_type": "display_data"
    },
    {
     "data": {
      "text/html": [
       " View run <strong style=\"color:#cdcd00\">elated-eon-35</strong> at: <a href='https://wandb.ai/yixuan228-imperial-college-london/DE_Groupwork_G4_stage1/runs/oiwfka36' target=\"_blank\">https://wandb.ai/yixuan228-imperial-college-london/DE_Groupwork_G4_stage1/runs/oiwfka36</a><br> View project at: <a href='https://wandb.ai/yixuan228-imperial-college-london/DE_Groupwork_G4_stage1' target=\"_blank\">https://wandb.ai/yixuan228-imperial-college-london/DE_Groupwork_G4_stage1</a><br>Synced 5 W&B file(s), 0 media file(s), 0 artifact file(s) and 0 other file(s)"
      ],
      "text/plain": [
       "<IPython.core.display.HTML object>"
      ]
     },
     "metadata": {},
     "output_type": "display_data"
    },
    {
     "data": {
      "text/html": [
       "Find logs at: <code>.\\wandb\\run-20250320_140004-oiwfka36\\logs</code>"
      ],
      "text/plain": [
       "<IPython.core.display.HTML object>"
      ]
     },
     "metadata": {},
     "output_type": "display_data"
    },
    {
     "data": {
      "text/html": [
       "Tracking run with wandb version 0.19.7"
      ],
      "text/plain": [
       "<IPython.core.display.HTML object>"
      ]
     },
     "metadata": {},
     "output_type": "display_data"
    },
    {
     "data": {
      "text/html": [
       "Run data is saved locally in <code>d:\\Projects\\MSc_DE_GroupWork4\\Scripts\\wandb\\run-20250320_140033-2ecbpuze</code>"
      ],
      "text/plain": [
       "<IPython.core.display.HTML object>"
      ]
     },
     "metadata": {},
     "output_type": "display_data"
    },
    {
     "data": {
      "text/html": [
       "Syncing run <strong><a href='https://wandb.ai/yixuan228-imperial-college-london/DE_Groupwork_G4_stage1/runs/2ecbpuze' target=\"_blank\">bumbling-darkness-36</a></strong> to <a href='https://wandb.ai/yixuan228-imperial-college-london/DE_Groupwork_G4_stage1' target=\"_blank\">Weights & Biases</a> (<a href='https://wandb.me/developer-guide' target=\"_blank\">docs</a>)<br>"
      ],
      "text/plain": [
       "<IPython.core.display.HTML object>"
      ]
     },
     "metadata": {},
     "output_type": "display_data"
    },
    {
     "data": {
      "text/html": [
       " View project at <a href='https://wandb.ai/yixuan228-imperial-college-london/DE_Groupwork_G4_stage1' target=\"_blank\">https://wandb.ai/yixuan228-imperial-college-london/DE_Groupwork_G4_stage1</a>"
      ],
      "text/plain": [
       "<IPython.core.display.HTML object>"
      ]
     },
     "metadata": {},
     "output_type": "display_data"
    },
    {
     "data": {
      "text/html": [
       " View run at <a href='https://wandb.ai/yixuan228-imperial-college-london/DE_Groupwork_G4_stage1/runs/2ecbpuze' target=\"_blank\">https://wandb.ai/yixuan228-imperial-college-london/DE_Groupwork_G4_stage1/runs/2ecbpuze</a>"
      ],
      "text/plain": [
       "<IPython.core.display.HTML object>"
      ]
     },
     "metadata": {},
     "output_type": "display_data"
    },
    {
     "name": "stdout",
     "output_type": "stream",
     "text": [
      "Epoch 001 | Train Loss: 7303.1037 | Val Loss: 1017.5690\n",
      "Epoch 002 | Train Loss: 836.3060 | Val Loss: 1208.0504\n",
      "Epoch 003 | Train Loss: 737.3873 | Val Loss: 1952.0461\n",
      "Epoch 004 | Train Loss: 776.4612 | Val Loss: 776.5137\n",
      "Epoch 005 | Train Loss: 696.4242 | Val Loss: 781.0924\n",
      "Epoch 006 | Train Loss: 618.9097 | Val Loss: 681.7795\n",
      "Epoch 007 | Train Loss: 652.4450 | Val Loss: 806.9186\n",
      "Epoch 008 | Train Loss: 761.5492 | Val Loss: 1191.1204\n",
      "Epoch 009 | Train Loss: 776.7211 | Val Loss: 1232.8661\n",
      "Epoch 010 | Train Loss: 711.5585 | Val Loss: 3063.1848\n",
      "Epoch 011 | Train Loss: 1028.7895 | Val Loss: 597.9041\n",
      "Epoch 012 | Train Loss: 621.3220 | Val Loss: 557.9273\n",
      "Epoch 013 | Train Loss: 627.0535 | Val Loss: 748.3574\n",
      "Epoch 014 | Train Loss: 600.8463 | Val Loss: 704.9598\n",
      "Epoch 015 | Train Loss: 646.0717 | Val Loss: 932.7462\n",
      "Epoch 016 | Train Loss: 724.7564 | Val Loss: 608.6386\n",
      "Epoch 017 | Train Loss: 582.6564 | Val Loss: 549.5848\n",
      "Epoch 018 | Train Loss: 576.8276 | Val Loss: 662.7330\n",
      "Epoch 019 | Train Loss: 599.6374 | Val Loss: 558.6413\n",
      "Epoch 020 | Train Loss: 554.5568 | Val Loss: 816.6537\n",
      "Epoch 021 | Train Loss: 658.7145 | Val Loss: 526.9746\n",
      "Epoch 022 | Train Loss: 649.1247 | Val Loss: 702.2275\n",
      "Epoch 023 | Train Loss: 602.0881 | Val Loss: 573.9180\n",
      "Epoch 024 | Train Loss: 650.3277 | Val Loss: 586.2375\n",
      "Epoch 025 | Train Loss: 559.3834 | Val Loss: 589.2407\n",
      "Epoch 026 | Train Loss: 532.7292 | Val Loss: 645.5731\n",
      "Early stopping triggered at epoch 26\n"
     ]
    },
    {
     "data": {
      "text/html": [],
      "text/plain": [
       "<IPython.core.display.HTML object>"
      ]
     },
     "metadata": {},
     "output_type": "display_data"
    },
    {
     "data": {
      "text/html": [
       "<br>    <style><br>        .wandb-row {<br>            display: flex;<br>            flex-direction: row;<br>            flex-wrap: wrap;<br>            justify-content: flex-start;<br>            width: 100%;<br>        }<br>        .wandb-col {<br>            display: flex;<br>            flex-direction: column;<br>            flex-basis: 100%;<br>            flex: 1;<br>            padding: 10px;<br>        }<br>    </style><br><div class=\"wandb-row\"><div class=\"wandb-col\"><h3>Run history:</h3><br/><table class=\"wandb\"><tr><td>epoch</td><td>▁▁▂▂▂▂▃▃▃▄▄▄▄▅▅▅▅▆▆▆▇▇▇▇██</td></tr><tr><td>train_loss</td><td>█▁▁▁▁▁▁▁▁▁▂▁▁▁▁▁▁▁▁▁▁▁▁▁▁▁</td></tr><tr><td>val_loss</td><td>▂▃▅▂▂▁▂▃▃█▁▁▂▁▂▁▁▁▁▂▁▁▁▁▁▁</td></tr></table><br/></div><div class=\"wandb-col\"><h3>Run summary:</h3><br/><table class=\"wandb\"><tr><td>epoch</td><td>26</td></tr><tr><td>train_loss</td><td>532.72921</td></tr><tr><td>val_loss</td><td>645.57313</td></tr></table><br/></div></div>"
      ],
      "text/plain": [
       "<IPython.core.display.HTML object>"
      ]
     },
     "metadata": {},
     "output_type": "display_data"
    },
    {
     "data": {
      "text/html": [
       " View run <strong style=\"color:#cdcd00\">bumbling-darkness-36</strong> at: <a href='https://wandb.ai/yixuan228-imperial-college-london/DE_Groupwork_G4_stage1/runs/2ecbpuze' target=\"_blank\">https://wandb.ai/yixuan228-imperial-college-london/DE_Groupwork_G4_stage1/runs/2ecbpuze</a><br> View project at: <a href='https://wandb.ai/yixuan228-imperial-college-london/DE_Groupwork_G4_stage1' target=\"_blank\">https://wandb.ai/yixuan228-imperial-college-london/DE_Groupwork_G4_stage1</a><br>Synced 5 W&B file(s), 0 media file(s), 0 artifact file(s) and 0 other file(s)"
      ],
      "text/plain": [
       "<IPython.core.display.HTML object>"
      ]
     },
     "metadata": {},
     "output_type": "display_data"
    },
    {
     "data": {
      "text/html": [
       "Find logs at: <code>.\\wandb\\run-20250320_140033-2ecbpuze\\logs</code>"
      ],
      "text/plain": [
       "<IPython.core.display.HTML object>"
      ]
     },
     "metadata": {},
     "output_type": "display_data"
    },
    {
     "data": {
      "text/html": [
       "Tracking run with wandb version 0.19.7"
      ],
      "text/plain": [
       "<IPython.core.display.HTML object>"
      ]
     },
     "metadata": {},
     "output_type": "display_data"
    },
    {
     "data": {
      "text/html": [
       "Run data is saved locally in <code>d:\\Projects\\MSc_DE_GroupWork4\\Scripts\\wandb\\run-20250320_140050-yyqitkys</code>"
      ],
      "text/plain": [
       "<IPython.core.display.HTML object>"
      ]
     },
     "metadata": {},
     "output_type": "display_data"
    },
    {
     "data": {
      "text/html": [
       "Syncing run <strong><a href='https://wandb.ai/yixuan228-imperial-college-london/DE_Groupwork_G4_stage1/runs/yyqitkys' target=\"_blank\">autumn-sun-37</a></strong> to <a href='https://wandb.ai/yixuan228-imperial-college-london/DE_Groupwork_G4_stage1' target=\"_blank\">Weights & Biases</a> (<a href='https://wandb.me/developer-guide' target=\"_blank\">docs</a>)<br>"
      ],
      "text/plain": [
       "<IPython.core.display.HTML object>"
      ]
     },
     "metadata": {},
     "output_type": "display_data"
    },
    {
     "data": {
      "text/html": [
       " View project at <a href='https://wandb.ai/yixuan228-imperial-college-london/DE_Groupwork_G4_stage1' target=\"_blank\">https://wandb.ai/yixuan228-imperial-college-london/DE_Groupwork_G4_stage1</a>"
      ],
      "text/plain": [
       "<IPython.core.display.HTML object>"
      ]
     },
     "metadata": {},
     "output_type": "display_data"
    },
    {
     "data": {
      "text/html": [
       " View run at <a href='https://wandb.ai/yixuan228-imperial-college-london/DE_Groupwork_G4_stage1/runs/yyqitkys' target=\"_blank\">https://wandb.ai/yixuan228-imperial-college-london/DE_Groupwork_G4_stage1/runs/yyqitkys</a>"
      ],
      "text/plain": [
       "<IPython.core.display.HTML object>"
      ]
     },
     "metadata": {},
     "output_type": "display_data"
    },
    {
     "name": "stdout",
     "output_type": "stream",
     "text": [
      "Epoch 001 | Train Loss: 17733.2606 | Val Loss: 1163.0579\n",
      "Epoch 002 | Train Loss: 973.8374 | Val Loss: 852.1714\n",
      "Epoch 003 | Train Loss: 757.4300 | Val Loss: 801.5664\n",
      "Epoch 004 | Train Loss: 682.1975 | Val Loss: 726.4545\n",
      "Epoch 005 | Train Loss: 634.3383 | Val Loss: 708.2140\n",
      "Epoch 006 | Train Loss: 626.6487 | Val Loss: 679.4852\n",
      "Epoch 007 | Train Loss: 619.6482 | Val Loss: 814.6909\n",
      "Epoch 008 | Train Loss: 609.2330 | Val Loss: 670.7982\n",
      "Epoch 009 | Train Loss: 580.3370 | Val Loss: 616.8276\n",
      "Epoch 010 | Train Loss: 575.4635 | Val Loss: 667.3385\n",
      "Epoch 011 | Train Loss: 590.1430 | Val Loss: 642.8622\n",
      "Epoch 012 | Train Loss: 564.7336 | Val Loss: 807.7882\n",
      "Epoch 013 | Train Loss: 561.6162 | Val Loss: 622.3985\n",
      "Epoch 014 | Train Loss: 547.0042 | Val Loss: 588.6880\n",
      "Epoch 015 | Train Loss: 540.5882 | Val Loss: 585.3195\n",
      "Epoch 016 | Train Loss: 541.2895 | Val Loss: 619.7738\n",
      "Epoch 017 | Train Loss: 591.1838 | Val Loss: 595.2110\n",
      "Epoch 018 | Train Loss: 575.0626 | Val Loss: 747.1398\n",
      "Epoch 019 | Train Loss: 590.8753 | Val Loss: 667.3146\n",
      "Epoch 020 | Train Loss: 564.3416 | Val Loss: 707.4318\n",
      "Early stopping triggered at epoch 20\n"
     ]
    },
    {
     "data": {
      "text/html": [],
      "text/plain": [
       "<IPython.core.display.HTML object>"
      ]
     },
     "metadata": {},
     "output_type": "display_data"
    },
    {
     "data": {
      "text/html": [
       "<br>    <style><br>        .wandb-row {<br>            display: flex;<br>            flex-direction: row;<br>            flex-wrap: wrap;<br>            justify-content: flex-start;<br>            width: 100%;<br>        }<br>        .wandb-col {<br>            display: flex;<br>            flex-direction: column;<br>            flex-basis: 100%;<br>            flex: 1;<br>            padding: 10px;<br>        }<br>    </style><br><div class=\"wandb-row\"><div class=\"wandb-col\"><h3>Run history:</h3><br/><table class=\"wandb\"><tr><td>epoch</td><td>▁▁▂▂▂▃▃▄▄▄▅▅▅▆▆▇▇▇██</td></tr><tr><td>train_loss</td><td>█▁▁▁▁▁▁▁▁▁▁▁▁▁▁▁▁▁▁▁</td></tr><tr><td>val_loss</td><td>█▄▄▃▂▂▄▂▁▂▂▄▁▁▁▁▁▃▂▂</td></tr></table><br/></div><div class=\"wandb-col\"><h3>Run summary:</h3><br/><table class=\"wandb\"><tr><td>epoch</td><td>20</td></tr><tr><td>train_loss</td><td>564.34161</td></tr><tr><td>val_loss</td><td>707.43176</td></tr></table><br/></div></div>"
      ],
      "text/plain": [
       "<IPython.core.display.HTML object>"
      ]
     },
     "metadata": {},
     "output_type": "display_data"
    },
    {
     "data": {
      "text/html": [
       " View run <strong style=\"color:#cdcd00\">autumn-sun-37</strong> at: <a href='https://wandb.ai/yixuan228-imperial-college-london/DE_Groupwork_G4_stage1/runs/yyqitkys' target=\"_blank\">https://wandb.ai/yixuan228-imperial-college-london/DE_Groupwork_G4_stage1/runs/yyqitkys</a><br> View project at: <a href='https://wandb.ai/yixuan228-imperial-college-london/DE_Groupwork_G4_stage1' target=\"_blank\">https://wandb.ai/yixuan228-imperial-college-london/DE_Groupwork_G4_stage1</a><br>Synced 5 W&B file(s), 0 media file(s), 0 artifact file(s) and 0 other file(s)"
      ],
      "text/plain": [
       "<IPython.core.display.HTML object>"
      ]
     },
     "metadata": {},
     "output_type": "display_data"
    },
    {
     "data": {
      "text/html": [
       "Find logs at: <code>.\\wandb\\run-20250320_140050-yyqitkys\\logs</code>"
      ],
      "text/plain": [
       "<IPython.core.display.HTML object>"
      ]
     },
     "metadata": {},
     "output_type": "display_data"
    },
    {
     "data": {
      "text/html": [
       "Tracking run with wandb version 0.19.7"
      ],
      "text/plain": [
       "<IPython.core.display.HTML object>"
      ]
     },
     "metadata": {},
     "output_type": "display_data"
    },
    {
     "data": {
      "text/html": [
       "Run data is saved locally in <code>d:\\Projects\\MSc_DE_GroupWork4\\Scripts\\wandb\\run-20250320_140103-ck7fz4ae</code>"
      ],
      "text/plain": [
       "<IPython.core.display.HTML object>"
      ]
     },
     "metadata": {},
     "output_type": "display_data"
    },
    {
     "data": {
      "text/html": [
       "Syncing run <strong><a href='https://wandb.ai/yixuan228-imperial-college-london/DE_Groupwork_G4_stage1/runs/ck7fz4ae' target=\"_blank\">kind-wildflower-38</a></strong> to <a href='https://wandb.ai/yixuan228-imperial-college-london/DE_Groupwork_G4_stage1' target=\"_blank\">Weights & Biases</a> (<a href='https://wandb.me/developer-guide' target=\"_blank\">docs</a>)<br>"
      ],
      "text/plain": [
       "<IPython.core.display.HTML object>"
      ]
     },
     "metadata": {},
     "output_type": "display_data"
    },
    {
     "data": {
      "text/html": [
       " View project at <a href='https://wandb.ai/yixuan228-imperial-college-london/DE_Groupwork_G4_stage1' target=\"_blank\">https://wandb.ai/yixuan228-imperial-college-london/DE_Groupwork_G4_stage1</a>"
      ],
      "text/plain": [
       "<IPython.core.display.HTML object>"
      ]
     },
     "metadata": {},
     "output_type": "display_data"
    },
    {
     "data": {
      "text/html": [
       " View run at <a href='https://wandb.ai/yixuan228-imperial-college-london/DE_Groupwork_G4_stage1/runs/ck7fz4ae' target=\"_blank\">https://wandb.ai/yixuan228-imperial-college-london/DE_Groupwork_G4_stage1/runs/ck7fz4ae</a>"
      ],
      "text/plain": [
       "<IPython.core.display.HTML object>"
      ]
     },
     "metadata": {},
     "output_type": "display_data"
    },
    {
     "name": "stdout",
     "output_type": "stream",
     "text": [
      "Epoch 001 | Train Loss: 65197.4451 | Val Loss: 55005.9228\n",
      "Epoch 002 | Train Loss: 15877.8738 | Val Loss: 1676.8184\n",
      "Epoch 003 | Train Loss: 1490.8770 | Val Loss: 1336.9108\n",
      "Epoch 004 | Train Loss: 1251.0207 | Val Loss: 1155.7598\n",
      "Epoch 005 | Train Loss: 1088.7153 | Val Loss: 1031.2337\n",
      "Epoch 006 | Train Loss: 968.1278 | Val Loss: 939.6608\n",
      "Epoch 007 | Train Loss: 875.5373 | Val Loss: 887.4313\n",
      "Epoch 008 | Train Loss: 808.0279 | Val Loss: 839.5725\n",
      "Epoch 009 | Train Loss: 762.9822 | Val Loss: 801.9918\n",
      "Epoch 010 | Train Loss: 726.1040 | Val Loss: 774.4116\n",
      "Epoch 011 | Train Loss: 696.8762 | Val Loss: 759.5111\n",
      "Epoch 012 | Train Loss: 677.3556 | Val Loss: 730.9501\n",
      "Epoch 013 | Train Loss: 658.6340 | Val Loss: 714.8459\n",
      "Epoch 014 | Train Loss: 646.4054 | Val Loss: 702.9674\n",
      "Epoch 015 | Train Loss: 627.6527 | Val Loss: 688.6334\n",
      "Epoch 016 | Train Loss: 614.2640 | Val Loss: 681.9714\n",
      "Epoch 017 | Train Loss: 609.6227 | Val Loss: 661.6416\n",
      "Epoch 018 | Train Loss: 598.3777 | Val Loss: 656.7377\n",
      "Epoch 019 | Train Loss: 588.3878 | Val Loss: 647.2935\n",
      "Epoch 020 | Train Loss: 585.1937 | Val Loss: 648.8107\n",
      "Epoch 021 | Train Loss: 575.0009 | Val Loss: 635.5448\n",
      "Epoch 022 | Train Loss: 564.4857 | Val Loss: 634.4077\n",
      "Epoch 023 | Train Loss: 564.0054 | Val Loss: 632.7320\n",
      "Epoch 024 | Train Loss: 553.8604 | Val Loss: 624.7391\n",
      "Epoch 025 | Train Loss: 554.3665 | Val Loss: 616.1661\n",
      "Epoch 026 | Train Loss: 543.0736 | Val Loss: 650.0136\n",
      "Epoch 027 | Train Loss: 545.5351 | Val Loss: 595.1369\n",
      "Epoch 028 | Train Loss: 532.8567 | Val Loss: 612.1898\n",
      "Epoch 029 | Train Loss: 542.0175 | Val Loss: 588.7196\n",
      "Epoch 030 | Train Loss: 526.1810 | Val Loss: 582.0958\n",
      "Epoch 031 | Train Loss: 521.7477 | Val Loss: 595.0646\n",
      "Epoch 032 | Train Loss: 520.3894 | Val Loss: 603.9917\n",
      "Epoch 033 | Train Loss: 520.8943 | Val Loss: 574.1927\n",
      "Epoch 034 | Train Loss: 516.2812 | Val Loss: 568.2322\n",
      "Epoch 035 | Train Loss: 508.3106 | Val Loss: 571.2765\n",
      "Epoch 036 | Train Loss: 507.4089 | Val Loss: 565.0443\n",
      "Epoch 037 | Train Loss: 502.8010 | Val Loss: 560.1075\n",
      "Epoch 038 | Train Loss: 503.7003 | Val Loss: 557.8781\n",
      "Epoch 039 | Train Loss: 502.7281 | Val Loss: 563.0973\n",
      "Epoch 040 | Train Loss: 501.4087 | Val Loss: 560.9955\n",
      "Epoch 041 | Train Loss: 499.5499 | Val Loss: 555.4285\n",
      "Epoch 042 | Train Loss: 504.8191 | Val Loss: 551.9701\n",
      "Epoch 043 | Train Loss: 499.3173 | Val Loss: 563.4330\n",
      "Epoch 044 | Train Loss: 503.6641 | Val Loss: 551.9843\n",
      "Epoch 045 | Train Loss: 492.0163 | Val Loss: 577.5520\n",
      "Epoch 046 | Train Loss: 495.8434 | Val Loss: 548.6938\n",
      "Epoch 047 | Train Loss: 486.4568 | Val Loss: 547.8498\n",
      "Epoch 048 | Train Loss: 495.4969 | Val Loss: 565.9144\n",
      "Epoch 049 | Train Loss: 492.9353 | Val Loss: 541.2758\n",
      "Epoch 050 | Train Loss: 487.1469 | Val Loss: 554.8635\n",
      "Epoch 051 | Train Loss: 483.8824 | Val Loss: 563.6795\n",
      "Epoch 052 | Train Loss: 490.5494 | Val Loss: 544.6447\n",
      "Epoch 053 | Train Loss: 483.1931 | Val Loss: 542.6910\n",
      "Epoch 054 | Train Loss: 488.2051 | Val Loss: 546.8274\n",
      "Early stopping triggered at epoch 54\n"
     ]
    },
    {
     "data": {
      "text/html": [],
      "text/plain": [
       "<IPython.core.display.HTML object>"
      ]
     },
     "metadata": {},
     "output_type": "display_data"
    },
    {
     "data": {
      "text/html": [
       "<br>    <style><br>        .wandb-row {<br>            display: flex;<br>            flex-direction: row;<br>            flex-wrap: wrap;<br>            justify-content: flex-start;<br>            width: 100%;<br>        }<br>        .wandb-col {<br>            display: flex;<br>            flex-direction: column;<br>            flex-basis: 100%;<br>            flex: 1;<br>            padding: 10px;<br>        }<br>    </style><br><div class=\"wandb-row\"><div class=\"wandb-col\"><h3>Run history:</h3><br/><table class=\"wandb\"><tr><td>epoch</td><td>▁▁▁▁▂▂▂▂▂▂▃▃▃▃▃▄▄▄▄▄▅▅▅▅▅▆▆▆▆▆▆▇▇▇▇▇▇███</td></tr><tr><td>train_loss</td><td>█▃▁▁▁▁▁▁▁▁▁▁▁▁▁▁▁▁▁▁▁▁▁▁▁▁▁▁▁▁▁▁▁▁▁▁▁▁▁▁</td></tr><tr><td>val_loss</td><td>█▁▁▁▁▁▁▁▁▁▁▁▁▁▁▁▁▁▁▁▁▁▁▁▁▁▁▁▁▁▁▁▁▁▁▁▁▁▁▁</td></tr></table><br/></div><div class=\"wandb-col\"><h3>Run summary:</h3><br/><table class=\"wandb\"><tr><td>epoch</td><td>54</td></tr><tr><td>train_loss</td><td>488.20509</td></tr><tr><td>val_loss</td><td>546.82736</td></tr></table><br/></div></div>"
      ],
      "text/plain": [
       "<IPython.core.display.HTML object>"
      ]
     },
     "metadata": {},
     "output_type": "display_data"
    },
    {
     "data": {
      "text/html": [
       " View run <strong style=\"color:#cdcd00\">kind-wildflower-38</strong> at: <a href='https://wandb.ai/yixuan228-imperial-college-london/DE_Groupwork_G4_stage1/runs/ck7fz4ae' target=\"_blank\">https://wandb.ai/yixuan228-imperial-college-london/DE_Groupwork_G4_stage1/runs/ck7fz4ae</a><br> View project at: <a href='https://wandb.ai/yixuan228-imperial-college-london/DE_Groupwork_G4_stage1' target=\"_blank\">https://wandb.ai/yixuan228-imperial-college-london/DE_Groupwork_G4_stage1</a><br>Synced 5 W&B file(s), 0 media file(s), 0 artifact file(s) and 0 other file(s)"
      ],
      "text/plain": [
       "<IPython.core.display.HTML object>"
      ]
     },
     "metadata": {},
     "output_type": "display_data"
    },
    {
     "data": {
      "text/html": [
       "Find logs at: <code>.\\wandb\\run-20250320_140103-ck7fz4ae\\logs</code>"
      ],
      "text/plain": [
       "<IPython.core.display.HTML object>"
      ]
     },
     "metadata": {},
     "output_type": "display_data"
    },
    {
     "data": {
      "text/html": [
       "Tracking run with wandb version 0.19.7"
      ],
      "text/plain": [
       "<IPython.core.display.HTML object>"
      ]
     },
     "metadata": {},
     "output_type": "display_data"
    },
    {
     "data": {
      "text/html": [
       "Run data is saved locally in <code>d:\\Projects\\MSc_DE_GroupWork4\\Scripts\\wandb\\run-20250320_140133-6jasrc30</code>"
      ],
      "text/plain": [
       "<IPython.core.display.HTML object>"
      ]
     },
     "metadata": {},
     "output_type": "display_data"
    },
    {
     "data": {
      "text/html": [
       "Syncing run <strong><a href='https://wandb.ai/yixuan228-imperial-college-london/DE_Groupwork_G4_stage1/runs/6jasrc30' target=\"_blank\">comfy-firefly-39</a></strong> to <a href='https://wandb.ai/yixuan228-imperial-college-london/DE_Groupwork_G4_stage1' target=\"_blank\">Weights & Biases</a> (<a href='https://wandb.me/developer-guide' target=\"_blank\">docs</a>)<br>"
      ],
      "text/plain": [
       "<IPython.core.display.HTML object>"
      ]
     },
     "metadata": {},
     "output_type": "display_data"
    },
    {
     "data": {
      "text/html": [
       " View project at <a href='https://wandb.ai/yixuan228-imperial-college-london/DE_Groupwork_G4_stage1' target=\"_blank\">https://wandb.ai/yixuan228-imperial-college-london/DE_Groupwork_G4_stage1</a>"
      ],
      "text/plain": [
       "<IPython.core.display.HTML object>"
      ]
     },
     "metadata": {},
     "output_type": "display_data"
    },
    {
     "data": {
      "text/html": [
       " View run at <a href='https://wandb.ai/yixuan228-imperial-college-london/DE_Groupwork_G4_stage1/runs/6jasrc30' target=\"_blank\">https://wandb.ai/yixuan228-imperial-college-london/DE_Groupwork_G4_stage1/runs/6jasrc30</a>"
      ],
      "text/plain": [
       "<IPython.core.display.HTML object>"
      ]
     },
     "metadata": {},
     "output_type": "display_data"
    },
    {
     "name": "stdout",
     "output_type": "stream",
     "text": [
      "Epoch 001 | Train Loss: 5527.0864 | Val Loss: 880.7104\n",
      "Epoch 002 | Train Loss: 743.1104 | Val Loss: 908.2959\n",
      "Epoch 003 | Train Loss: 656.7583 | Val Loss: 715.6814\n",
      "Epoch 004 | Train Loss: 646.8757 | Val Loss: 1128.3215\n",
      "Epoch 005 | Train Loss: 636.8808 | Val Loss: 753.4042\n",
      "Epoch 006 | Train Loss: 566.5240 | Val Loss: 619.9790\n",
      "Epoch 007 | Train Loss: 645.8375 | Val Loss: 1011.3167\n",
      "Epoch 008 | Train Loss: 638.3342 | Val Loss: 558.7612\n",
      "Epoch 009 | Train Loss: 528.5516 | Val Loss: 703.8721\n",
      "Epoch 010 | Train Loss: 606.1445 | Val Loss: 1583.4522\n",
      "Epoch 011 | Train Loss: 664.6420 | Val Loss: 743.3682\n",
      "Epoch 012 | Train Loss: 583.9286 | Val Loss: 1005.8444\n",
      "Epoch 013 | Train Loss: 549.4928 | Val Loss: 2038.1003\n",
      "Early stopping triggered at epoch 13\n"
     ]
    },
    {
     "data": {
      "text/html": [],
      "text/plain": [
       "<IPython.core.display.HTML object>"
      ]
     },
     "metadata": {},
     "output_type": "display_data"
    },
    {
     "data": {
      "text/html": [
       "<br>    <style><br>        .wandb-row {<br>            display: flex;<br>            flex-direction: row;<br>            flex-wrap: wrap;<br>            justify-content: flex-start;<br>            width: 100%;<br>        }<br>        .wandb-col {<br>            display: flex;<br>            flex-direction: column;<br>            flex-basis: 100%;<br>            flex: 1;<br>            padding: 10px;<br>        }<br>    </style><br><div class=\"wandb-row\"><div class=\"wandb-col\"><h3>Run history:</h3><br/><table class=\"wandb\"><tr><td>epoch</td><td>▁▂▂▃▃▄▅▅▆▆▇▇█</td></tr><tr><td>train_loss</td><td>█▁▁▁▁▁▁▁▁▁▁▁▁</td></tr><tr><td>val_loss</td><td>▃▃▂▄▂▁▃▁▂▆▂▃█</td></tr></table><br/></div><div class=\"wandb-col\"><h3>Run summary:</h3><br/><table class=\"wandb\"><tr><td>epoch</td><td>13</td></tr><tr><td>train_loss</td><td>549.49284</td></tr><tr><td>val_loss</td><td>2038.10032</td></tr></table><br/></div></div>"
      ],
      "text/plain": [
       "<IPython.core.display.HTML object>"
      ]
     },
     "metadata": {},
     "output_type": "display_data"
    },
    {
     "data": {
      "text/html": [
       " View run <strong style=\"color:#cdcd00\">comfy-firefly-39</strong> at: <a href='https://wandb.ai/yixuan228-imperial-college-london/DE_Groupwork_G4_stage1/runs/6jasrc30' target=\"_blank\">https://wandb.ai/yixuan228-imperial-college-london/DE_Groupwork_G4_stage1/runs/6jasrc30</a><br> View project at: <a href='https://wandb.ai/yixuan228-imperial-college-london/DE_Groupwork_G4_stage1' target=\"_blank\">https://wandb.ai/yixuan228-imperial-college-london/DE_Groupwork_G4_stage1</a><br>Synced 5 W&B file(s), 0 media file(s), 0 artifact file(s) and 0 other file(s)"
      ],
      "text/plain": [
       "<IPython.core.display.HTML object>"
      ]
     },
     "metadata": {},
     "output_type": "display_data"
    },
    {
     "data": {
      "text/html": [
       "Find logs at: <code>.\\wandb\\run-20250320_140133-6jasrc30\\logs</code>"
      ],
      "text/plain": [
       "<IPython.core.display.HTML object>"
      ]
     },
     "metadata": {},
     "output_type": "display_data"
    },
    {
     "data": {
      "text/html": [
       "Tracking run with wandb version 0.19.7"
      ],
      "text/plain": [
       "<IPython.core.display.HTML object>"
      ]
     },
     "metadata": {},
     "output_type": "display_data"
    },
    {
     "data": {
      "text/html": [
       "Run data is saved locally in <code>d:\\Projects\\MSc_DE_GroupWork4\\Scripts\\wandb\\run-20250320_140141-x98gybjo</code>"
      ],
      "text/plain": [
       "<IPython.core.display.HTML object>"
      ]
     },
     "metadata": {},
     "output_type": "display_data"
    },
    {
     "data": {
      "text/html": [
       "Syncing run <strong><a href='https://wandb.ai/yixuan228-imperial-college-london/DE_Groupwork_G4_stage1/runs/x98gybjo' target=\"_blank\">splendid-durian-40</a></strong> to <a href='https://wandb.ai/yixuan228-imperial-college-london/DE_Groupwork_G4_stage1' target=\"_blank\">Weights & Biases</a> (<a href='https://wandb.me/developer-guide' target=\"_blank\">docs</a>)<br>"
      ],
      "text/plain": [
       "<IPython.core.display.HTML object>"
      ]
     },
     "metadata": {},
     "output_type": "display_data"
    },
    {
     "data": {
      "text/html": [
       " View project at <a href='https://wandb.ai/yixuan228-imperial-college-london/DE_Groupwork_G4_stage1' target=\"_blank\">https://wandb.ai/yixuan228-imperial-college-london/DE_Groupwork_G4_stage1</a>"
      ],
      "text/plain": [
       "<IPython.core.display.HTML object>"
      ]
     },
     "metadata": {},
     "output_type": "display_data"
    },
    {
     "data": {
      "text/html": [
       " View run at <a href='https://wandb.ai/yixuan228-imperial-college-london/DE_Groupwork_G4_stage1/runs/x98gybjo' target=\"_blank\">https://wandb.ai/yixuan228-imperial-college-london/DE_Groupwork_G4_stage1/runs/x98gybjo</a>"
      ],
      "text/plain": [
       "<IPython.core.display.HTML object>"
      ]
     },
     "metadata": {},
     "output_type": "display_data"
    },
    {
     "name": "stdout",
     "output_type": "stream",
     "text": [
      "Epoch 001 | Train Loss: 16963.4958 | Val Loss: 1299.7577\n",
      "Epoch 002 | Train Loss: 1063.3390 | Val Loss: 905.5655\n",
      "Epoch 003 | Train Loss: 799.5400 | Val Loss: 843.3865\n",
      "Epoch 004 | Train Loss: 727.6157 | Val Loss: 808.5227\n",
      "Epoch 005 | Train Loss: 681.8578 | Val Loss: 753.7617\n",
      "Epoch 006 | Train Loss: 646.9073 | Val Loss: 702.6051\n",
      "Epoch 007 | Train Loss: 616.1694 | Val Loss: 696.8358\n",
      "Epoch 008 | Train Loss: 609.8783 | Val Loss: 680.5139\n",
      "Epoch 009 | Train Loss: 603.4958 | Val Loss: 665.9432\n",
      "Epoch 010 | Train Loss: 587.3930 | Val Loss: 648.8157\n",
      "Epoch 011 | Train Loss: 576.0097 | Val Loss: 657.1067\n",
      "Epoch 012 | Train Loss: 562.8974 | Val Loss: 618.2752\n",
      "Epoch 013 | Train Loss: 556.8164 | Val Loss: 630.7136\n",
      "Epoch 014 | Train Loss: 557.3922 | Val Loss: 659.3486\n",
      "Epoch 015 | Train Loss: 581.3554 | Val Loss: 613.7156\n",
      "Epoch 016 | Train Loss: 548.6516 | Val Loss: 609.5241\n",
      "Epoch 017 | Train Loss: 569.9794 | Val Loss: 600.2348\n",
      "Epoch 018 | Train Loss: 548.6969 | Val Loss: 598.0490\n",
      "Epoch 019 | Train Loss: 540.5256 | Val Loss: 586.2659\n",
      "Epoch 020 | Train Loss: 521.5536 | Val Loss: 604.2029\n",
      "Epoch 021 | Train Loss: 532.0287 | Val Loss: 606.2309\n",
      "Epoch 022 | Train Loss: 527.8966 | Val Loss: 643.5895\n",
      "Epoch 023 | Train Loss: 535.0096 | Val Loss: 597.6656\n",
      "Epoch 024 | Train Loss: 528.2570 | Val Loss: 576.6175\n",
      "Epoch 025 | Train Loss: 537.7080 | Val Loss: 680.1461\n",
      "Epoch 026 | Train Loss: 524.5284 | Val Loss: 578.1494\n",
      "Epoch 027 | Train Loss: 511.3868 | Val Loss: 663.3336\n",
      "Epoch 028 | Train Loss: 526.4054 | Val Loss: 611.6249\n",
      "Epoch 029 | Train Loss: 527.7786 | Val Loss: 577.9091\n",
      "Early stopping triggered at epoch 29\n"
     ]
    },
    {
     "data": {
      "text/html": [],
      "text/plain": [
       "<IPython.core.display.HTML object>"
      ]
     },
     "metadata": {},
     "output_type": "display_data"
    },
    {
     "data": {
      "text/html": [
       "<br>    <style><br>        .wandb-row {<br>            display: flex;<br>            flex-direction: row;<br>            flex-wrap: wrap;<br>            justify-content: flex-start;<br>            width: 100%;<br>        }<br>        .wandb-col {<br>            display: flex;<br>            flex-direction: column;<br>            flex-basis: 100%;<br>            flex: 1;<br>            padding: 10px;<br>        }<br>    </style><br><div class=\"wandb-row\"><div class=\"wandb-col\"><h3>Run history:</h3><br/><table class=\"wandb\"><tr><td>epoch</td><td>▁▁▁▂▂▂▃▃▃▃▃▄▄▄▅▅▅▅▅▆▆▆▇▇▇▇▇██</td></tr><tr><td>train_loss</td><td>█▁▁▁▁▁▁▁▁▁▁▁▁▁▁▁▁▁▁▁▁▁▁▁▁▁▁▁▁</td></tr><tr><td>val_loss</td><td>█▄▄▃▃▂▂▂▂▂▂▁▂▂▁▁▁▁▁▁▁▂▁▁▂▁▂▁▁</td></tr></table><br/></div><div class=\"wandb-col\"><h3>Run summary:</h3><br/><table class=\"wandb\"><tr><td>epoch</td><td>29</td></tr><tr><td>train_loss</td><td>527.77862</td></tr><tr><td>val_loss</td><td>577.90907</td></tr></table><br/></div></div>"
      ],
      "text/plain": [
       "<IPython.core.display.HTML object>"
      ]
     },
     "metadata": {},
     "output_type": "display_data"
    },
    {
     "data": {
      "text/html": [
       " View run <strong style=\"color:#cdcd00\">splendid-durian-40</strong> at: <a href='https://wandb.ai/yixuan228-imperial-college-london/DE_Groupwork_G4_stage1/runs/x98gybjo' target=\"_blank\">https://wandb.ai/yixuan228-imperial-college-london/DE_Groupwork_G4_stage1/runs/x98gybjo</a><br> View project at: <a href='https://wandb.ai/yixuan228-imperial-college-london/DE_Groupwork_G4_stage1' target=\"_blank\">https://wandb.ai/yixuan228-imperial-college-london/DE_Groupwork_G4_stage1</a><br>Synced 5 W&B file(s), 0 media file(s), 0 artifact file(s) and 0 other file(s)"
      ],
      "text/plain": [
       "<IPython.core.display.HTML object>"
      ]
     },
     "metadata": {},
     "output_type": "display_data"
    },
    {
     "data": {
      "text/html": [
       "Find logs at: <code>.\\wandb\\run-20250320_140141-x98gybjo\\logs</code>"
      ],
      "text/plain": [
       "<IPython.core.display.HTML object>"
      ]
     },
     "metadata": {},
     "output_type": "display_data"
    },
    {
     "data": {
      "text/html": [
       "Tracking run with wandb version 0.19.7"
      ],
      "text/plain": [
       "<IPython.core.display.HTML object>"
      ]
     },
     "metadata": {},
     "output_type": "display_data"
    },
    {
     "data": {
      "text/html": [
       "Run data is saved locally in <code>d:\\Projects\\MSc_DE_GroupWork4\\Scripts\\wandb\\run-20250320_140157-8ax8ufn7</code>"
      ],
      "text/plain": [
       "<IPython.core.display.HTML object>"
      ]
     },
     "metadata": {},
     "output_type": "display_data"
    },
    {
     "data": {
      "text/html": [
       "Syncing run <strong><a href='https://wandb.ai/yixuan228-imperial-college-london/DE_Groupwork_G4_stage1/runs/8ax8ufn7' target=\"_blank\">deft-firefly-41</a></strong> to <a href='https://wandb.ai/yixuan228-imperial-college-london/DE_Groupwork_G4_stage1' target=\"_blank\">Weights & Biases</a> (<a href='https://wandb.me/developer-guide' target=\"_blank\">docs</a>)<br>"
      ],
      "text/plain": [
       "<IPython.core.display.HTML object>"
      ]
     },
     "metadata": {},
     "output_type": "display_data"
    },
    {
     "data": {
      "text/html": [
       " View project at <a href='https://wandb.ai/yixuan228-imperial-college-london/DE_Groupwork_G4_stage1' target=\"_blank\">https://wandb.ai/yixuan228-imperial-college-london/DE_Groupwork_G4_stage1</a>"
      ],
      "text/plain": [
       "<IPython.core.display.HTML object>"
      ]
     },
     "metadata": {},
     "output_type": "display_data"
    },
    {
     "data": {
      "text/html": [
       " View run at <a href='https://wandb.ai/yixuan228-imperial-college-london/DE_Groupwork_G4_stage1/runs/8ax8ufn7' target=\"_blank\">https://wandb.ai/yixuan228-imperial-college-london/DE_Groupwork_G4_stage1/runs/8ax8ufn7</a>"
      ],
      "text/plain": [
       "<IPython.core.display.HTML object>"
      ]
     },
     "metadata": {},
     "output_type": "display_data"
    },
    {
     "name": "stdout",
     "output_type": "stream",
     "text": [
      "Epoch 001 | Train Loss: 64165.6165 | Val Loss: 55239.5424\n",
      "Epoch 002 | Train Loss: 33369.4787 | Val Loss: 7124.9248\n",
      "Epoch 003 | Train Loss: 3090.6237 | Val Loss: 2106.4229\n",
      "Epoch 004 | Train Loss: 1898.3204 | Val Loss: 1720.0305\n",
      "Epoch 005 | Train Loss: 1621.9429 | Val Loss: 1522.3521\n",
      "Epoch 006 | Train Loss: 1462.8105 | Val Loss: 1378.1717\n",
      "Epoch 007 | Train Loss: 1342.5580 | Val Loss: 1278.2206\n",
      "Epoch 008 | Train Loss: 1242.5156 | Val Loss: 1186.9765\n",
      "Epoch 009 | Train Loss: 1156.6993 | Val Loss: 1114.2314\n",
      "Epoch 010 | Train Loss: 1082.4576 | Val Loss: 1059.2877\n",
      "Epoch 011 | Train Loss: 1019.2522 | Val Loss: 1007.0002\n",
      "Epoch 012 | Train Loss: 966.8601 | Val Loss: 964.1745\n",
      "Epoch 013 | Train Loss: 925.3187 | Val Loss: 934.2040\n",
      "Epoch 014 | Train Loss: 887.2084 | Val Loss: 910.2387\n",
      "Epoch 015 | Train Loss: 856.3988 | Val Loss: 885.6708\n",
      "Epoch 016 | Train Loss: 830.5415 | Val Loss: 871.8722\n",
      "Epoch 017 | Train Loss: 807.1327 | Val Loss: 859.6763\n",
      "Epoch 018 | Train Loss: 788.4047 | Val Loss: 844.6391\n",
      "Epoch 019 | Train Loss: 772.2604 | Val Loss: 834.6985\n",
      "Epoch 020 | Train Loss: 760.0822 | Val Loss: 824.1377\n",
      "Epoch 021 | Train Loss: 745.2024 | Val Loss: 821.7384\n",
      "Epoch 022 | Train Loss: 736.6599 | Val Loss: 805.9312\n",
      "Epoch 023 | Train Loss: 724.8060 | Val Loss: 793.9437\n",
      "Epoch 024 | Train Loss: 715.3673 | Val Loss: 788.8897\n",
      "Epoch 025 | Train Loss: 706.5047 | Val Loss: 780.4269\n",
      "Epoch 026 | Train Loss: 697.8825 | Val Loss: 768.3070\n",
      "Epoch 027 | Train Loss: 687.4028 | Val Loss: 765.8937\n",
      "Epoch 028 | Train Loss: 680.4710 | Val Loss: 759.0779\n",
      "Epoch 029 | Train Loss: 673.0338 | Val Loss: 750.6643\n",
      "Epoch 030 | Train Loss: 663.6683 | Val Loss: 742.0478\n",
      "Epoch 031 | Train Loss: 655.3914 | Val Loss: 736.0950\n",
      "Epoch 032 | Train Loss: 648.3562 | Val Loss: 728.4115\n",
      "Epoch 033 | Train Loss: 641.4581 | Val Loss: 718.1737\n",
      "Epoch 034 | Train Loss: 635.7591 | Val Loss: 716.3428\n",
      "Epoch 035 | Train Loss: 628.2252 | Val Loss: 708.6393\n",
      "Epoch 036 | Train Loss: 619.2094 | Val Loss: 699.7997\n",
      "Epoch 037 | Train Loss: 613.7464 | Val Loss: 693.5547\n",
      "Epoch 038 | Train Loss: 607.8627 | Val Loss: 685.9044\n",
      "Epoch 039 | Train Loss: 601.9990 | Val Loss: 686.8374\n",
      "Epoch 040 | Train Loss: 599.2509 | Val Loss: 679.5948\n",
      "Epoch 041 | Train Loss: 592.6011 | Val Loss: 668.9468\n",
      "Epoch 042 | Train Loss: 586.9281 | Val Loss: 666.6855\n",
      "Epoch 043 | Train Loss: 582.4010 | Val Loss: 658.0586\n",
      "Epoch 044 | Train Loss: 576.9582 | Val Loss: 660.5855\n",
      "Epoch 045 | Train Loss: 575.2079 | Val Loss: 655.4681\n",
      "Epoch 046 | Train Loss: 570.0081 | Val Loss: 651.8972\n",
      "Epoch 047 | Train Loss: 565.1527 | Val Loss: 645.0149\n",
      "Epoch 048 | Train Loss: 559.9982 | Val Loss: 635.8518\n",
      "Epoch 049 | Train Loss: 555.0597 | Val Loss: 636.1414\n",
      "Epoch 050 | Train Loss: 553.0155 | Val Loss: 631.8120\n",
      "Epoch 051 | Train Loss: 549.4508 | Val Loss: 639.0733\n",
      "Epoch 052 | Train Loss: 549.0253 | Val Loss: 623.1665\n",
      "Epoch 053 | Train Loss: 542.8609 | Val Loss: 620.3868\n",
      "Epoch 054 | Train Loss: 543.7882 | Val Loss: 621.4177\n",
      "Epoch 055 | Train Loss: 540.2163 | Val Loss: 626.4697\n",
      "Epoch 056 | Train Loss: 533.8765 | Val Loss: 616.9109\n",
      "Epoch 057 | Train Loss: 534.8494 | Val Loss: 607.1183\n",
      "Epoch 058 | Train Loss: 530.0205 | Val Loss: 605.5143\n",
      "Epoch 059 | Train Loss: 528.5459 | Val Loss: 599.5945\n",
      "Epoch 060 | Train Loss: 526.2848 | Val Loss: 600.3168\n",
      "Epoch 061 | Train Loss: 524.5069 | Val Loss: 596.0947\n",
      "Epoch 062 | Train Loss: 522.5687 | Val Loss: 597.7473\n",
      "Epoch 063 | Train Loss: 519.3173 | Val Loss: 594.4213\n",
      "Epoch 064 | Train Loss: 519.7296 | Val Loss: 592.1916\n",
      "Epoch 065 | Train Loss: 517.3773 | Val Loss: 602.6852\n",
      "Epoch 066 | Train Loss: 516.7028 | Val Loss: 585.3312\n",
      "Epoch 067 | Train Loss: 513.8467 | Val Loss: 586.7675\n",
      "Epoch 068 | Train Loss: 513.8603 | Val Loss: 586.4183\n",
      "Epoch 069 | Train Loss: 512.9656 | Val Loss: 579.3403\n",
      "Epoch 070 | Train Loss: 508.9546 | Val Loss: 582.3384\n",
      "Epoch 071 | Train Loss: 510.8470 | Val Loss: 598.3647\n",
      "Epoch 072 | Train Loss: 509.2332 | Val Loss: 575.0966\n",
      "Epoch 073 | Train Loss: 506.7632 | Val Loss: 587.2474\n",
      "Epoch 074 | Train Loss: 505.8142 | Val Loss: 585.0815\n",
      "Epoch 075 | Train Loss: 504.5994 | Val Loss: 582.2794\n",
      "Epoch 076 | Train Loss: 506.9737 | Val Loss: 580.9669\n",
      "Epoch 077 | Train Loss: 500.9127 | Val Loss: 572.9762\n",
      "Epoch 078 | Train Loss: 502.0618 | Val Loss: 572.5091\n",
      "Epoch 079 | Train Loss: 500.4433 | Val Loss: 575.3303\n",
      "Epoch 080 | Train Loss: 500.3573 | Val Loss: 576.7412\n",
      "Epoch 081 | Train Loss: 500.1725 | Val Loss: 577.1472\n",
      "Epoch 082 | Train Loss: 500.0778 | Val Loss: 575.4050\n",
      "Epoch 083 | Train Loss: 498.4670 | Val Loss: 569.5458\n",
      "Epoch 084 | Train Loss: 498.8016 | Val Loss: 571.8788\n",
      "Epoch 085 | Train Loss: 500.8268 | Val Loss: 566.8493\n",
      "Epoch 086 | Train Loss: 495.7763 | Val Loss: 564.6935\n",
      "Epoch 087 | Train Loss: 499.2709 | Val Loss: 595.0276\n",
      "Epoch 088 | Train Loss: 497.0134 | Val Loss: 567.4864\n",
      "Epoch 089 | Train Loss: 494.4604 | Val Loss: 565.7446\n",
      "Epoch 090 | Train Loss: 500.8699 | Val Loss: 563.4534\n",
      "Epoch 091 | Train Loss: 495.2931 | Val Loss: 574.8591\n",
      "Epoch 092 | Train Loss: 492.8953 | Val Loss: 561.7417\n",
      "Epoch 093 | Train Loss: 492.1813 | Val Loss: 564.6957\n",
      "Epoch 094 | Train Loss: 492.1578 | Val Loss: 565.2953\n",
      "Epoch 095 | Train Loss: 490.9768 | Val Loss: 566.7696\n",
      "Epoch 096 | Train Loss: 488.3982 | Val Loss: 566.3132\n",
      "Epoch 097 | Train Loss: 494.6793 | Val Loss: 557.8705\n",
      "Epoch 098 | Train Loss: 489.9769 | Val Loss: 557.6641\n",
      "Epoch 099 | Train Loss: 492.5342 | Val Loss: 562.2729\n",
      "Epoch 100 | Train Loss: 490.0512 | Val Loss: 555.2885\n",
      "Epoch 101 | Train Loss: 486.6753 | Val Loss: 563.7850\n",
      "Epoch 102 | Train Loss: 487.8514 | Val Loss: 557.6389\n",
      "Epoch 103 | Train Loss: 487.7391 | Val Loss: 556.8806\n",
      "Epoch 104 | Train Loss: 487.9492 | Val Loss: 557.8017\n",
      "Epoch 105 | Train Loss: 485.7373 | Val Loss: 557.6549\n",
      "Early stopping triggered at epoch 105\n"
     ]
    },
    {
     "data": {
      "text/html": [],
      "text/plain": [
       "<IPython.core.display.HTML object>"
      ]
     },
     "metadata": {},
     "output_type": "display_data"
    },
    {
     "data": {
      "text/html": [
       "<br>    <style><br>        .wandb-row {<br>            display: flex;<br>            flex-direction: row;<br>            flex-wrap: wrap;<br>            justify-content: flex-start;<br>            width: 100%;<br>        }<br>        .wandb-col {<br>            display: flex;<br>            flex-direction: column;<br>            flex-basis: 100%;<br>            flex: 1;<br>            padding: 10px;<br>        }<br>    </style><br><div class=\"wandb-row\"><div class=\"wandb-col\"><h3>Run history:</h3><br/><table class=\"wandb\"><tr><td>epoch</td><td>▁▁▁▁▂▂▂▂▂▂▃▃▃▃▄▄▄▅▅▅▅▅▅▅▆▆▆▆▆▆▆▇▇▇▇▇▇▇▇█</td></tr><tr><td>train_loss</td><td>█▁▁▁▁▁▁▁▁▁▁▁▁▁▁▁▁▁▁▁▁▁▁▁▁▁▁▁▁▁▁▁▁▁▁▁▁▁▁▁</td></tr><tr><td>val_loss</td><td>█▂▂▂▁▁▁▁▁▁▁▁▁▁▁▁▁▁▁▁▁▁▁▁▁▁▁▁▁▁▁▁▁▁▁▁▁▁▁▁</td></tr></table><br/></div><div class=\"wandb-col\"><h3>Run summary:</h3><br/><table class=\"wandb\"><tr><td>epoch</td><td>105</td></tr><tr><td>train_loss</td><td>485.73734</td></tr><tr><td>val_loss</td><td>557.65494</td></tr></table><br/></div></div>"
      ],
      "text/plain": [
       "<IPython.core.display.HTML object>"
      ]
     },
     "metadata": {},
     "output_type": "display_data"
    },
    {
     "data": {
      "text/html": [
       " View run <strong style=\"color:#cdcd00\">deft-firefly-41</strong> at: <a href='https://wandb.ai/yixuan228-imperial-college-london/DE_Groupwork_G4_stage1/runs/8ax8ufn7' target=\"_blank\">https://wandb.ai/yixuan228-imperial-college-london/DE_Groupwork_G4_stage1/runs/8ax8ufn7</a><br> View project at: <a href='https://wandb.ai/yixuan228-imperial-college-london/DE_Groupwork_G4_stage1' target=\"_blank\">https://wandb.ai/yixuan228-imperial-college-london/DE_Groupwork_G4_stage1</a><br>Synced 5 W&B file(s), 0 media file(s), 0 artifact file(s) and 0 other file(s)"
      ],
      "text/plain": [
       "<IPython.core.display.HTML object>"
      ]
     },
     "metadata": {},
     "output_type": "display_data"
    },
    {
     "data": {
      "text/html": [
       "Find logs at: <code>.\\wandb\\run-20250320_140157-8ax8ufn7\\logs</code>"
      ],
      "text/plain": [
       "<IPython.core.display.HTML object>"
      ]
     },
     "metadata": {},
     "output_type": "display_data"
    },
    {
     "data": {
      "text/html": [
       "Tracking run with wandb version 0.19.7"
      ],
      "text/plain": [
       "<IPython.core.display.HTML object>"
      ]
     },
     "metadata": {},
     "output_type": "display_data"
    },
    {
     "data": {
      "text/html": [
       "Run data is saved locally in <code>d:\\Projects\\MSc_DE_GroupWork4\\Scripts\\wandb\\run-20250320_140242-7ikora6m</code>"
      ],
      "text/plain": [
       "<IPython.core.display.HTML object>"
      ]
     },
     "metadata": {},
     "output_type": "display_data"
    },
    {
     "data": {
      "text/html": [
       "Syncing run <strong><a href='https://wandb.ai/yixuan228-imperial-college-london/DE_Groupwork_G4_stage1/runs/7ikora6m' target=\"_blank\">graceful-haze-42</a></strong> to <a href='https://wandb.ai/yixuan228-imperial-college-london/DE_Groupwork_G4_stage1' target=\"_blank\">Weights & Biases</a> (<a href='https://wandb.me/developer-guide' target=\"_blank\">docs</a>)<br>"
      ],
      "text/plain": [
       "<IPython.core.display.HTML object>"
      ]
     },
     "metadata": {},
     "output_type": "display_data"
    },
    {
     "data": {
      "text/html": [
       " View project at <a href='https://wandb.ai/yixuan228-imperial-college-london/DE_Groupwork_G4_stage1' target=\"_blank\">https://wandb.ai/yixuan228-imperial-college-london/DE_Groupwork_G4_stage1</a>"
      ],
      "text/plain": [
       "<IPython.core.display.HTML object>"
      ]
     },
     "metadata": {},
     "output_type": "display_data"
    },
    {
     "data": {
      "text/html": [
       " View run at <a href='https://wandb.ai/yixuan228-imperial-college-london/DE_Groupwork_G4_stage1/runs/7ikora6m' target=\"_blank\">https://wandb.ai/yixuan228-imperial-college-london/DE_Groupwork_G4_stage1/runs/7ikora6m</a>"
      ],
      "text/plain": [
       "<IPython.core.display.HTML object>"
      ]
     },
     "metadata": {},
     "output_type": "display_data"
    },
    {
     "name": "stdout",
     "output_type": "stream",
     "text": [
      "Epoch 001 | Train Loss: 7402.5954 | Val Loss: 857.6537\n",
      "Epoch 002 | Train Loss: 728.5779 | Val Loss: 753.8403\n",
      "Epoch 003 | Train Loss: 657.5578 | Val Loss: 677.6197\n",
      "Epoch 004 | Train Loss: 635.7474 | Val Loss: 1123.1386\n",
      "Epoch 005 | Train Loss: 698.6332 | Val Loss: 679.5899\n",
      "Epoch 006 | Train Loss: 675.0435 | Val Loss: 1936.1641\n",
      "Epoch 007 | Train Loss: 825.7775 | Val Loss: 1490.0574\n",
      "Epoch 008 | Train Loss: 650.0917 | Val Loss: 691.7317\n",
      "Early stopping triggered at epoch 8\n"
     ]
    },
    {
     "data": {
      "text/html": [],
      "text/plain": [
       "<IPython.core.display.HTML object>"
      ]
     },
     "metadata": {},
     "output_type": "display_data"
    },
    {
     "data": {
      "text/html": [
       "<br>    <style><br>        .wandb-row {<br>            display: flex;<br>            flex-direction: row;<br>            flex-wrap: wrap;<br>            justify-content: flex-start;<br>            width: 100%;<br>        }<br>        .wandb-col {<br>            display: flex;<br>            flex-direction: column;<br>            flex-basis: 100%;<br>            flex: 1;<br>            padding: 10px;<br>        }<br>    </style><br><div class=\"wandb-row\"><div class=\"wandb-col\"><h3>Run history:</h3><br/><table class=\"wandb\"><tr><td>epoch</td><td>▁▂▃▄▅▆▇█</td></tr><tr><td>train_loss</td><td>█▁▁▁▁▁▁▁</td></tr><tr><td>val_loss</td><td>▂▁▁▃▁█▆▁</td></tr></table><br/></div><div class=\"wandb-col\"><h3>Run summary:</h3><br/><table class=\"wandb\"><tr><td>epoch</td><td>8</td></tr><tr><td>train_loss</td><td>650.09168</td></tr><tr><td>val_loss</td><td>691.73167</td></tr></table><br/></div></div>"
      ],
      "text/plain": [
       "<IPython.core.display.HTML object>"
      ]
     },
     "metadata": {},
     "output_type": "display_data"
    },
    {
     "data": {
      "text/html": [
       " View run <strong style=\"color:#cdcd00\">graceful-haze-42</strong> at: <a href='https://wandb.ai/yixuan228-imperial-college-london/DE_Groupwork_G4_stage1/runs/7ikora6m' target=\"_blank\">https://wandb.ai/yixuan228-imperial-college-london/DE_Groupwork_G4_stage1/runs/7ikora6m</a><br> View project at: <a href='https://wandb.ai/yixuan228-imperial-college-london/DE_Groupwork_G4_stage1' target=\"_blank\">https://wandb.ai/yixuan228-imperial-college-london/DE_Groupwork_G4_stage1</a><br>Synced 5 W&B file(s), 0 media file(s), 0 artifact file(s) and 0 other file(s)"
      ],
      "text/plain": [
       "<IPython.core.display.HTML object>"
      ]
     },
     "metadata": {},
     "output_type": "display_data"
    },
    {
     "data": {
      "text/html": [
       "Find logs at: <code>.\\wandb\\run-20250320_140242-7ikora6m\\logs</code>"
      ],
      "text/plain": [
       "<IPython.core.display.HTML object>"
      ]
     },
     "metadata": {},
     "output_type": "display_data"
    },
    {
     "data": {
      "text/html": [
       "Tracking run with wandb version 0.19.7"
      ],
      "text/plain": [
       "<IPython.core.display.HTML object>"
      ]
     },
     "metadata": {},
     "output_type": "display_data"
    },
    {
     "data": {
      "text/html": [
       "Run data is saved locally in <code>d:\\Projects\\MSc_DE_GroupWork4\\Scripts\\wandb\\run-20250320_140249-j0thkt5b</code>"
      ],
      "text/plain": [
       "<IPython.core.display.HTML object>"
      ]
     },
     "metadata": {},
     "output_type": "display_data"
    },
    {
     "data": {
      "text/html": [
       "Syncing run <strong><a href='https://wandb.ai/yixuan228-imperial-college-london/DE_Groupwork_G4_stage1/runs/j0thkt5b' target=\"_blank\">young-plant-43</a></strong> to <a href='https://wandb.ai/yixuan228-imperial-college-london/DE_Groupwork_G4_stage1' target=\"_blank\">Weights & Biases</a> (<a href='https://wandb.me/developer-guide' target=\"_blank\">docs</a>)<br>"
      ],
      "text/plain": [
       "<IPython.core.display.HTML object>"
      ]
     },
     "metadata": {},
     "output_type": "display_data"
    },
    {
     "data": {
      "text/html": [
       " View project at <a href='https://wandb.ai/yixuan228-imperial-college-london/DE_Groupwork_G4_stage1' target=\"_blank\">https://wandb.ai/yixuan228-imperial-college-london/DE_Groupwork_G4_stage1</a>"
      ],
      "text/plain": [
       "<IPython.core.display.HTML object>"
      ]
     },
     "metadata": {},
     "output_type": "display_data"
    },
    {
     "data": {
      "text/html": [
       " View run at <a href='https://wandb.ai/yixuan228-imperial-college-london/DE_Groupwork_G4_stage1/runs/j0thkt5b' target=\"_blank\">https://wandb.ai/yixuan228-imperial-college-london/DE_Groupwork_G4_stage1/runs/j0thkt5b</a>"
      ],
      "text/plain": [
       "<IPython.core.display.HTML object>"
      ]
     },
     "metadata": {},
     "output_type": "display_data"
    },
    {
     "name": "stdout",
     "output_type": "stream",
     "text": [
      "Epoch 001 | Train Loss: 11555.9967 | Val Loss: 985.6535\n",
      "Epoch 002 | Train Loss: 857.1762 | Val Loss: 791.1553\n",
      "Epoch 003 | Train Loss: 715.0366 | Val Loss: 747.2237\n",
      "Epoch 004 | Train Loss: 653.6956 | Val Loss: 709.3383\n",
      "Epoch 005 | Train Loss: 629.8101 | Val Loss: 686.3943\n",
      "Epoch 006 | Train Loss: 586.5740 | Val Loss: 655.0634\n",
      "Epoch 007 | Train Loss: 576.4055 | Val Loss: 650.5212\n",
      "Epoch 008 | Train Loss: 585.3923 | Val Loss: 727.0276\n",
      "Epoch 009 | Train Loss: 561.1823 | Val Loss: 678.5637\n",
      "Epoch 010 | Train Loss: 555.6391 | Val Loss: 594.3059\n",
      "Epoch 011 | Train Loss: 566.6542 | Val Loss: 729.3568\n",
      "Epoch 012 | Train Loss: 588.1497 | Val Loss: 602.4029\n",
      "Epoch 013 | Train Loss: 553.0832 | Val Loss: 575.6824\n",
      "Epoch 014 | Train Loss: 527.6142 | Val Loss: 654.4383\n",
      "Epoch 015 | Train Loss: 555.8211 | Val Loss: 701.4411\n",
      "Epoch 016 | Train Loss: 575.5996 | Val Loss: 661.0919\n",
      "Epoch 017 | Train Loss: 546.1393 | Val Loss: 645.9300\n",
      "Epoch 018 | Train Loss: 538.0103 | Val Loss: 574.6264\n",
      "Epoch 019 | Train Loss: 546.5449 | Val Loss: 637.9250\n",
      "Epoch 020 | Train Loss: 539.6231 | Val Loss: 646.3155\n",
      "Epoch 021 | Train Loss: 553.6492 | Val Loss: 569.9158\n",
      "Epoch 022 | Train Loss: 564.2087 | Val Loss: 577.6980\n",
      "Epoch 023 | Train Loss: 525.9756 | Val Loss: 591.8139\n",
      "Epoch 024 | Train Loss: 523.4416 | Val Loss: 692.3907\n",
      "Epoch 025 | Train Loss: 522.4219 | Val Loss: 617.7444\n",
      "Epoch 026 | Train Loss: 511.0079 | Val Loss: 650.5471\n",
      "Early stopping triggered at epoch 26\n"
     ]
    },
    {
     "data": {
      "text/html": [],
      "text/plain": [
       "<IPython.core.display.HTML object>"
      ]
     },
     "metadata": {},
     "output_type": "display_data"
    },
    {
     "data": {
      "text/html": [
       "<br>    <style><br>        .wandb-row {<br>            display: flex;<br>            flex-direction: row;<br>            flex-wrap: wrap;<br>            justify-content: flex-start;<br>            width: 100%;<br>        }<br>        .wandb-col {<br>            display: flex;<br>            flex-direction: column;<br>            flex-basis: 100%;<br>            flex: 1;<br>            padding: 10px;<br>        }<br>    </style><br><div class=\"wandb-row\"><div class=\"wandb-col\"><h3>Run history:</h3><br/><table class=\"wandb\"><tr><td>epoch</td><td>▁▁▂▂▂▂▃▃▃▄▄▄▄▅▅▅▅▆▆▆▇▇▇▇██</td></tr><tr><td>train_loss</td><td>█▁▁▁▁▁▁▁▁▁▁▁▁▁▁▁▁▁▁▁▁▁▁▁▁▁</td></tr><tr><td>val_loss</td><td>█▅▄▃▃▂▂▄▃▁▄▂▁▂▃▃▂▁▂▂▁▁▁▃▂▂</td></tr></table><br/></div><div class=\"wandb-col\"><h3>Run summary:</h3><br/><table class=\"wandb\"><tr><td>epoch</td><td>26</td></tr><tr><td>train_loss</td><td>511.00785</td></tr><tr><td>val_loss</td><td>650.54714</td></tr></table><br/></div></div>"
      ],
      "text/plain": [
       "<IPython.core.display.HTML object>"
      ]
     },
     "metadata": {},
     "output_type": "display_data"
    },
    {
     "data": {
      "text/html": [
       " View run <strong style=\"color:#cdcd00\">young-plant-43</strong> at: <a href='https://wandb.ai/yixuan228-imperial-college-london/DE_Groupwork_G4_stage1/runs/j0thkt5b' target=\"_blank\">https://wandb.ai/yixuan228-imperial-college-london/DE_Groupwork_G4_stage1/runs/j0thkt5b</a><br> View project at: <a href='https://wandb.ai/yixuan228-imperial-college-london/DE_Groupwork_G4_stage1' target=\"_blank\">https://wandb.ai/yixuan228-imperial-college-london/DE_Groupwork_G4_stage1</a><br>Synced 5 W&B file(s), 0 media file(s), 0 artifact file(s) and 0 other file(s)"
      ],
      "text/plain": [
       "<IPython.core.display.HTML object>"
      ]
     },
     "metadata": {},
     "output_type": "display_data"
    },
    {
     "data": {
      "text/html": [
       "Find logs at: <code>.\\wandb\\run-20250320_140249-j0thkt5b\\logs</code>"
      ],
      "text/plain": [
       "<IPython.core.display.HTML object>"
      ]
     },
     "metadata": {},
     "output_type": "display_data"
    },
    {
     "data": {
      "text/html": [
       "Tracking run with wandb version 0.19.7"
      ],
      "text/plain": [
       "<IPython.core.display.HTML object>"
      ]
     },
     "metadata": {},
     "output_type": "display_data"
    },
    {
     "data": {
      "text/html": [
       "Run data is saved locally in <code>d:\\Projects\\MSc_DE_GroupWork4\\Scripts\\wandb\\run-20250320_140302-2mhjhdif</code>"
      ],
      "text/plain": [
       "<IPython.core.display.HTML object>"
      ]
     },
     "metadata": {},
     "output_type": "display_data"
    },
    {
     "data": {
      "text/html": [
       "Syncing run <strong><a href='https://wandb.ai/yixuan228-imperial-college-london/DE_Groupwork_G4_stage1/runs/2mhjhdif' target=\"_blank\">ethereal-firebrand-44</a></strong> to <a href='https://wandb.ai/yixuan228-imperial-college-london/DE_Groupwork_G4_stage1' target=\"_blank\">Weights & Biases</a> (<a href='https://wandb.me/developer-guide' target=\"_blank\">docs</a>)<br>"
      ],
      "text/plain": [
       "<IPython.core.display.HTML object>"
      ]
     },
     "metadata": {},
     "output_type": "display_data"
    },
    {
     "data": {
      "text/html": [
       " View project at <a href='https://wandb.ai/yixuan228-imperial-college-london/DE_Groupwork_G4_stage1' target=\"_blank\">https://wandb.ai/yixuan228-imperial-college-london/DE_Groupwork_G4_stage1</a>"
      ],
      "text/plain": [
       "<IPython.core.display.HTML object>"
      ]
     },
     "metadata": {},
     "output_type": "display_data"
    },
    {
     "data": {
      "text/html": [
       " View run at <a href='https://wandb.ai/yixuan228-imperial-college-london/DE_Groupwork_G4_stage1/runs/2mhjhdif' target=\"_blank\">https://wandb.ai/yixuan228-imperial-college-london/DE_Groupwork_G4_stage1/runs/2mhjhdif</a>"
      ],
      "text/plain": [
       "<IPython.core.display.HTML object>"
      ]
     },
     "metadata": {},
     "output_type": "display_data"
    },
    {
     "name": "stdout",
     "output_type": "stream",
     "text": [
      "Epoch 001 | Train Loss: 58562.2623 | Val Loss: 25663.1248\n",
      "Epoch 002 | Train Loss: 4819.9292 | Val Loss: 1752.0405\n",
      "Epoch 003 | Train Loss: 1525.9470 | Val Loss: 1359.8101\n",
      "Epoch 004 | Train Loss: 1268.9531 | Val Loss: 1166.9154\n",
      "Epoch 005 | Train Loss: 1106.1073 | Val Loss: 1035.3788\n",
      "Epoch 006 | Train Loss: 984.2832 | Val Loss: 953.9918\n",
      "Epoch 007 | Train Loss: 897.1821 | Val Loss: 895.1645\n",
      "Epoch 008 | Train Loss: 834.1626 | Val Loss: 865.7964\n",
      "Epoch 009 | Train Loss: 794.4157 | Val Loss: 830.0470\n",
      "Epoch 010 | Train Loss: 759.0138 | Val Loss: 807.0603\n",
      "Epoch 011 | Train Loss: 728.8702 | Val Loss: 788.2949\n",
      "Epoch 012 | Train Loss: 714.6778 | Val Loss: 782.6969\n",
      "Epoch 013 | Train Loss: 697.2416 | Val Loss: 787.6135\n",
      "Epoch 014 | Train Loss: 687.4657 | Val Loss: 758.3501\n",
      "Epoch 015 | Train Loss: 668.8119 | Val Loss: 735.8577\n",
      "Epoch 016 | Train Loss: 656.4936 | Val Loss: 729.7576\n",
      "Epoch 017 | Train Loss: 645.3048 | Val Loss: 722.6585\n",
      "Epoch 018 | Train Loss: 638.7501 | Val Loss: 711.3893\n",
      "Epoch 019 | Train Loss: 627.4862 | Val Loss: 704.4185\n",
      "Epoch 020 | Train Loss: 619.5423 | Val Loss: 714.2700\n",
      "Epoch 021 | Train Loss: 612.7839 | Val Loss: 691.2755\n",
      "Epoch 022 | Train Loss: 607.2061 | Val Loss: 681.2861\n",
      "Epoch 023 | Train Loss: 596.6057 | Val Loss: 671.2742\n",
      "Epoch 024 | Train Loss: 586.6202 | Val Loss: 669.6615\n",
      "Epoch 025 | Train Loss: 584.0265 | Val Loss: 655.2905\n",
      "Epoch 026 | Train Loss: 577.2015 | Val Loss: 661.3585\n",
      "Epoch 027 | Train Loss: 574.1201 | Val Loss: 642.4762\n",
      "Epoch 028 | Train Loss: 576.5550 | Val Loss: 640.2697\n",
      "Epoch 029 | Train Loss: 561.4561 | Val Loss: 632.2567\n",
      "Epoch 030 | Train Loss: 554.2455 | Val Loss: 634.5060\n",
      "Epoch 031 | Train Loss: 553.6500 | Val Loss: 623.3411\n",
      "Epoch 032 | Train Loss: 546.4735 | Val Loss: 615.4119\n",
      "Epoch 033 | Train Loss: 544.8572 | Val Loss: 629.4736\n",
      "Epoch 034 | Train Loss: 542.1418 | Val Loss: 611.3878\n",
      "Epoch 035 | Train Loss: 540.8898 | Val Loss: 611.6112\n",
      "Epoch 036 | Train Loss: 542.8893 | Val Loss: 608.2394\n",
      "Epoch 037 | Train Loss: 538.1512 | Val Loss: 604.9707\n",
      "Epoch 038 | Train Loss: 533.6518 | Val Loss: 601.1911\n",
      "Epoch 039 | Train Loss: 533.7583 | Val Loss: 601.5177\n",
      "Epoch 040 | Train Loss: 529.4735 | Val Loss: 607.6417\n",
      "Epoch 041 | Train Loss: 532.6438 | Val Loss: 596.1135\n",
      "Epoch 042 | Train Loss: 525.3598 | Val Loss: 606.7826\n",
      "Epoch 043 | Train Loss: 527.2391 | Val Loss: 601.5871\n",
      "Epoch 044 | Train Loss: 543.6318 | Val Loss: 588.4554\n",
      "Epoch 045 | Train Loss: 519.8606 | Val Loss: 607.6989\n",
      "Epoch 046 | Train Loss: 522.0724 | Val Loss: 585.1765\n",
      "Epoch 047 | Train Loss: 521.0279 | Val Loss: 591.2565\n",
      "Epoch 048 | Train Loss: 522.5479 | Val Loss: 591.6097\n",
      "Epoch 049 | Train Loss: 518.5794 | Val Loss: 589.2809\n",
      "Epoch 050 | Train Loss: 520.9254 | Val Loss: 586.6801\n",
      "Epoch 051 | Train Loss: 521.7280 | Val Loss: 579.2275\n",
      "Epoch 052 | Train Loss: 512.7988 | Val Loss: 616.4567\n",
      "Epoch 053 | Train Loss: 517.7984 | Val Loss: 587.1019\n",
      "Epoch 054 | Train Loss: 517.2838 | Val Loss: 595.4449\n",
      "Epoch 055 | Train Loss: 520.1068 | Val Loss: 579.3366\n",
      "Epoch 056 | Train Loss: 509.7680 | Val Loss: 583.2944\n",
      "Early stopping triggered at epoch 56\n"
     ]
    },
    {
     "data": {
      "text/html": [],
      "text/plain": [
       "<IPython.core.display.HTML object>"
      ]
     },
     "metadata": {},
     "output_type": "display_data"
    },
    {
     "data": {
      "text/html": [
       "<br>    <style><br>        .wandb-row {<br>            display: flex;<br>            flex-direction: row;<br>            flex-wrap: wrap;<br>            justify-content: flex-start;<br>            width: 100%;<br>        }<br>        .wandb-col {<br>            display: flex;<br>            flex-direction: column;<br>            flex-basis: 100%;<br>            flex: 1;<br>            padding: 10px;<br>        }<br>    </style><br><div class=\"wandb-row\"><div class=\"wandb-col\"><h3>Run history:</h3><br/><table class=\"wandb\"><tr><td>epoch</td><td>▁▁▁▂▂▂▂▂▂▃▃▃▃▃▃▄▄▄▄▄▄▅▅▅▅▆▆▆▆▆▆▇▇▇▇▇▇███</td></tr><tr><td>train_loss</td><td>█▂▁▁▁▁▁▁▁▁▁▁▁▁▁▁▁▁▁▁▁▁▁▁▁▁▁▁▁▁▁▁▁▁▁▁▁▁▁▁</td></tr><tr><td>val_loss</td><td>█▆▅▄▃▃▂▂▂▂▂▂▂▂▂▂▂▁▁▁▁▁▁▁▁▁▁▁▁▁▁▁▁▁▁▁▁▁▁▁</td></tr></table><br/></div><div class=\"wandb-col\"><h3>Run summary:</h3><br/><table class=\"wandb\"><tr><td>epoch</td><td>56</td></tr><tr><td>train_loss</td><td>509.76802</td></tr><tr><td>val_loss</td><td>583.29444</td></tr></table><br/></div></div>"
      ],
      "text/plain": [
       "<IPython.core.display.HTML object>"
      ]
     },
     "metadata": {},
     "output_type": "display_data"
    },
    {
     "data": {
      "text/html": [
       " View run <strong style=\"color:#cdcd00\">ethereal-firebrand-44</strong> at: <a href='https://wandb.ai/yixuan228-imperial-college-london/DE_Groupwork_G4_stage1/runs/2mhjhdif' target=\"_blank\">https://wandb.ai/yixuan228-imperial-college-london/DE_Groupwork_G4_stage1/runs/2mhjhdif</a><br> View project at: <a href='https://wandb.ai/yixuan228-imperial-college-london/DE_Groupwork_G4_stage1' target=\"_blank\">https://wandb.ai/yixuan228-imperial-college-london/DE_Groupwork_G4_stage1</a><br>Synced 5 W&B file(s), 0 media file(s), 0 artifact file(s) and 0 other file(s)"
      ],
      "text/plain": [
       "<IPython.core.display.HTML object>"
      ]
     },
     "metadata": {},
     "output_type": "display_data"
    },
    {
     "data": {
      "text/html": [
       "Find logs at: <code>.\\wandb\\run-20250320_140302-2mhjhdif\\logs</code>"
      ],
      "text/plain": [
       "<IPython.core.display.HTML object>"
      ]
     },
     "metadata": {},
     "output_type": "display_data"
    },
    {
     "data": {
      "text/html": [
       "Tracking run with wandb version 0.19.7"
      ],
      "text/plain": [
       "<IPython.core.display.HTML object>"
      ]
     },
     "metadata": {},
     "output_type": "display_data"
    },
    {
     "data": {
      "text/html": [
       "Run data is saved locally in <code>d:\\Projects\\MSc_DE_GroupWork4\\Scripts\\wandb\\run-20250320_140322-nwsj42bz</code>"
      ],
      "text/plain": [
       "<IPython.core.display.HTML object>"
      ]
     },
     "metadata": {},
     "output_type": "display_data"
    },
    {
     "data": {
      "text/html": [
       "Syncing run <strong><a href='https://wandb.ai/yixuan228-imperial-college-london/DE_Groupwork_G4_stage1/runs/nwsj42bz' target=\"_blank\">fresh-frost-45</a></strong> to <a href='https://wandb.ai/yixuan228-imperial-college-london/DE_Groupwork_G4_stage1' target=\"_blank\">Weights & Biases</a> (<a href='https://wandb.me/developer-guide' target=\"_blank\">docs</a>)<br>"
      ],
      "text/plain": [
       "<IPython.core.display.HTML object>"
      ]
     },
     "metadata": {},
     "output_type": "display_data"
    },
    {
     "data": {
      "text/html": [
       " View project at <a href='https://wandb.ai/yixuan228-imperial-college-london/DE_Groupwork_G4_stage1' target=\"_blank\">https://wandb.ai/yixuan228-imperial-college-london/DE_Groupwork_G4_stage1</a>"
      ],
      "text/plain": [
       "<IPython.core.display.HTML object>"
      ]
     },
     "metadata": {},
     "output_type": "display_data"
    },
    {
     "data": {
      "text/html": [
       " View run at <a href='https://wandb.ai/yixuan228-imperial-college-london/DE_Groupwork_G4_stage1/runs/nwsj42bz' target=\"_blank\">https://wandb.ai/yixuan228-imperial-college-london/DE_Groupwork_G4_stage1/runs/nwsj42bz</a>"
      ],
      "text/plain": [
       "<IPython.core.display.HTML object>"
      ]
     },
     "metadata": {},
     "output_type": "display_data"
    },
    {
     "name": "stdout",
     "output_type": "stream",
     "text": [
      "Epoch 001 | Train Loss: 3533.3922 | Val Loss: 680.8681\n",
      "Epoch 002 | Train Loss: 879.6107 | Val Loss: 2700.0400\n",
      "Epoch 003 | Train Loss: 1407.6213 | Val Loss: 905.7014\n",
      "Epoch 004 | Train Loss: 821.4566 | Val Loss: 2673.0364\n",
      "Epoch 005 | Train Loss: 885.8539 | Val Loss: 794.3462\n",
      "Epoch 006 | Train Loss: 714.3164 | Val Loss: 684.2078\n",
      "Early stopping triggered at epoch 6\n"
     ]
    },
    {
     "data": {
      "text/html": [],
      "text/plain": [
       "<IPython.core.display.HTML object>"
      ]
     },
     "metadata": {},
     "output_type": "display_data"
    },
    {
     "data": {
      "text/html": [
       "<br>    <style><br>        .wandb-row {<br>            display: flex;<br>            flex-direction: row;<br>            flex-wrap: wrap;<br>            justify-content: flex-start;<br>            width: 100%;<br>        }<br>        .wandb-col {<br>            display: flex;<br>            flex-direction: column;<br>            flex-basis: 100%;<br>            flex: 1;<br>            padding: 10px;<br>        }<br>    </style><br><div class=\"wandb-row\"><div class=\"wandb-col\"><h3>Run history:</h3><br/><table class=\"wandb\"><tr><td>epoch</td><td>▁▂▄▅▇█</td></tr><tr><td>train_loss</td><td>█▁▃▁▁▁</td></tr><tr><td>val_loss</td><td>▁█▂█▁▁</td></tr></table><br/></div><div class=\"wandb-col\"><h3>Run summary:</h3><br/><table class=\"wandb\"><tr><td>epoch</td><td>6</td></tr><tr><td>train_loss</td><td>714.3164</td></tr><tr><td>val_loss</td><td>684.20778</td></tr></table><br/></div></div>"
      ],
      "text/plain": [
       "<IPython.core.display.HTML object>"
      ]
     },
     "metadata": {},
     "output_type": "display_data"
    },
    {
     "data": {
      "text/html": [
       " View run <strong style=\"color:#cdcd00\">fresh-frost-45</strong> at: <a href='https://wandb.ai/yixuan228-imperial-college-london/DE_Groupwork_G4_stage1/runs/nwsj42bz' target=\"_blank\">https://wandb.ai/yixuan228-imperial-college-london/DE_Groupwork_G4_stage1/runs/nwsj42bz</a><br> View project at: <a href='https://wandb.ai/yixuan228-imperial-college-london/DE_Groupwork_G4_stage1' target=\"_blank\">https://wandb.ai/yixuan228-imperial-college-london/DE_Groupwork_G4_stage1</a><br>Synced 5 W&B file(s), 0 media file(s), 0 artifact file(s) and 0 other file(s)"
      ],
      "text/plain": [
       "<IPython.core.display.HTML object>"
      ]
     },
     "metadata": {},
     "output_type": "display_data"
    },
    {
     "data": {
      "text/html": [
       "Find logs at: <code>.\\wandb\\run-20250320_140322-nwsj42bz\\logs</code>"
      ],
      "text/plain": [
       "<IPython.core.display.HTML object>"
      ]
     },
     "metadata": {},
     "output_type": "display_data"
    },
    {
     "data": {
      "text/html": [
       "Tracking run with wandb version 0.19.7"
      ],
      "text/plain": [
       "<IPython.core.display.HTML object>"
      ]
     },
     "metadata": {},
     "output_type": "display_data"
    },
    {
     "data": {
      "text/html": [
       "Run data is saved locally in <code>d:\\Projects\\MSc_DE_GroupWork4\\Scripts\\wandb\\run-20250320_140327-fnks70so</code>"
      ],
      "text/plain": [
       "<IPython.core.display.HTML object>"
      ]
     },
     "metadata": {},
     "output_type": "display_data"
    },
    {
     "data": {
      "text/html": [
       "Syncing run <strong><a href='https://wandb.ai/yixuan228-imperial-college-london/DE_Groupwork_G4_stage1/runs/fnks70so' target=\"_blank\">efficient-snow-46</a></strong> to <a href='https://wandb.ai/yixuan228-imperial-college-london/DE_Groupwork_G4_stage1' target=\"_blank\">Weights & Biases</a> (<a href='https://wandb.me/developer-guide' target=\"_blank\">docs</a>)<br>"
      ],
      "text/plain": [
       "<IPython.core.display.HTML object>"
      ]
     },
     "metadata": {},
     "output_type": "display_data"
    },
    {
     "data": {
      "text/html": [
       " View project at <a href='https://wandb.ai/yixuan228-imperial-college-london/DE_Groupwork_G4_stage1' target=\"_blank\">https://wandb.ai/yixuan228-imperial-college-london/DE_Groupwork_G4_stage1</a>"
      ],
      "text/plain": [
       "<IPython.core.display.HTML object>"
      ]
     },
     "metadata": {},
     "output_type": "display_data"
    },
    {
     "data": {
      "text/html": [
       " View run at <a href='https://wandb.ai/yixuan228-imperial-college-london/DE_Groupwork_G4_stage1/runs/fnks70so' target=\"_blank\">https://wandb.ai/yixuan228-imperial-college-london/DE_Groupwork_G4_stage1/runs/fnks70so</a>"
      ],
      "text/plain": [
       "<IPython.core.display.HTML object>"
      ]
     },
     "metadata": {},
     "output_type": "display_data"
    },
    {
     "name": "stdout",
     "output_type": "stream",
     "text": [
      "Epoch 001 | Train Loss: 10735.4925 | Val Loss: 897.4151\n",
      "Epoch 002 | Train Loss: 793.2929 | Val Loss: 774.9200\n",
      "Epoch 003 | Train Loss: 670.1779 | Val Loss: 716.4139\n",
      "Epoch 004 | Train Loss: 624.1702 | Val Loss: 637.6144\n",
      "Epoch 005 | Train Loss: 615.2859 | Val Loss: 701.6970\n",
      "Epoch 006 | Train Loss: 619.1596 | Val Loss: 854.8325\n",
      "Epoch 007 | Train Loss: 597.3589 | Val Loss: 661.3420\n",
      "Epoch 008 | Train Loss: 560.9256 | Val Loss: 727.4256\n",
      "Epoch 009 | Train Loss: 604.5453 | Val Loss: 815.1314\n",
      "Early stopping triggered at epoch 9\n"
     ]
    },
    {
     "data": {
      "text/html": [],
      "text/plain": [
       "<IPython.core.display.HTML object>"
      ]
     },
     "metadata": {},
     "output_type": "display_data"
    },
    {
     "data": {
      "text/html": [
       "<br>    <style><br>        .wandb-row {<br>            display: flex;<br>            flex-direction: row;<br>            flex-wrap: wrap;<br>            justify-content: flex-start;<br>            width: 100%;<br>        }<br>        .wandb-col {<br>            display: flex;<br>            flex-direction: column;<br>            flex-basis: 100%;<br>            flex: 1;<br>            padding: 10px;<br>        }<br>    </style><br><div class=\"wandb-row\"><div class=\"wandb-col\"><h3>Run history:</h3><br/><table class=\"wandb\"><tr><td>epoch</td><td>▁▂▃▄▅▅▆▇█</td></tr><tr><td>train_loss</td><td>█▁▁▁▁▁▁▁▁</td></tr><tr><td>val_loss</td><td>█▅▃▁▃▇▂▃▆</td></tr></table><br/></div><div class=\"wandb-col\"><h3>Run summary:</h3><br/><table class=\"wandb\"><tr><td>epoch</td><td>9</td></tr><tr><td>train_loss</td><td>604.54526</td></tr><tr><td>val_loss</td><td>815.13136</td></tr></table><br/></div></div>"
      ],
      "text/plain": [
       "<IPython.core.display.HTML object>"
      ]
     },
     "metadata": {},
     "output_type": "display_data"
    },
    {
     "data": {
      "text/html": [
       " View run <strong style=\"color:#cdcd00\">efficient-snow-46</strong> at: <a href='https://wandb.ai/yixuan228-imperial-college-london/DE_Groupwork_G4_stage1/runs/fnks70so' target=\"_blank\">https://wandb.ai/yixuan228-imperial-college-london/DE_Groupwork_G4_stage1/runs/fnks70so</a><br> View project at: <a href='https://wandb.ai/yixuan228-imperial-college-london/DE_Groupwork_G4_stage1' target=\"_blank\">https://wandb.ai/yixuan228-imperial-college-london/DE_Groupwork_G4_stage1</a><br>Synced 5 W&B file(s), 0 media file(s), 0 artifact file(s) and 0 other file(s)"
      ],
      "text/plain": [
       "<IPython.core.display.HTML object>"
      ]
     },
     "metadata": {},
     "output_type": "display_data"
    },
    {
     "data": {
      "text/html": [
       "Find logs at: <code>.\\wandb\\run-20250320_140327-fnks70so\\logs</code>"
      ],
      "text/plain": [
       "<IPython.core.display.HTML object>"
      ]
     },
     "metadata": {},
     "output_type": "display_data"
    },
    {
     "data": {
      "text/html": [
       "Tracking run with wandb version 0.19.7"
      ],
      "text/plain": [
       "<IPython.core.display.HTML object>"
      ]
     },
     "metadata": {},
     "output_type": "display_data"
    },
    {
     "data": {
      "text/html": [
       "Run data is saved locally in <code>d:\\Projects\\MSc_DE_GroupWork4\\Scripts\\wandb\\run-20250320_140333-27gj7so1</code>"
      ],
      "text/plain": [
       "<IPython.core.display.HTML object>"
      ]
     },
     "metadata": {},
     "output_type": "display_data"
    },
    {
     "data": {
      "text/html": [
       "Syncing run <strong><a href='https://wandb.ai/yixuan228-imperial-college-london/DE_Groupwork_G4_stage1/runs/27gj7so1' target=\"_blank\">rare-breeze-47</a></strong> to <a href='https://wandb.ai/yixuan228-imperial-college-london/DE_Groupwork_G4_stage1' target=\"_blank\">Weights & Biases</a> (<a href='https://wandb.me/developer-guide' target=\"_blank\">docs</a>)<br>"
      ],
      "text/plain": [
       "<IPython.core.display.HTML object>"
      ]
     },
     "metadata": {},
     "output_type": "display_data"
    },
    {
     "data": {
      "text/html": [
       " View project at <a href='https://wandb.ai/yixuan228-imperial-college-london/DE_Groupwork_G4_stage1' target=\"_blank\">https://wandb.ai/yixuan228-imperial-college-london/DE_Groupwork_G4_stage1</a>"
      ],
      "text/plain": [
       "<IPython.core.display.HTML object>"
      ]
     },
     "metadata": {},
     "output_type": "display_data"
    },
    {
     "data": {
      "text/html": [
       " View run at <a href='https://wandb.ai/yixuan228-imperial-college-london/DE_Groupwork_G4_stage1/runs/27gj7so1' target=\"_blank\">https://wandb.ai/yixuan228-imperial-college-london/DE_Groupwork_G4_stage1/runs/27gj7so1</a>"
      ],
      "text/plain": [
       "<IPython.core.display.HTML object>"
      ]
     },
     "metadata": {},
     "output_type": "display_data"
    },
    {
     "name": "stdout",
     "output_type": "stream",
     "text": [
      "Epoch 001 | Train Loss: 49319.9122 | Val Loss: 6342.2379\n",
      "Epoch 002 | Train Loss: 2053.2833 | Val Loss: 1369.4275\n",
      "Epoch 003 | Train Loss: 1219.6105 | Val Loss: 1066.9377\n",
      "Epoch 004 | Train Loss: 983.0248 | Val Loss: 918.5970\n",
      "Epoch 005 | Train Loss: 838.0703 | Val Loss: 850.9394\n",
      "Epoch 006 | Train Loss: 757.7394 | Val Loss: 775.9631\n",
      "Epoch 007 | Train Loss: 698.6391 | Val Loss: 746.0013\n",
      "Epoch 008 | Train Loss: 662.9451 | Val Loss: 718.1499\n",
      "Epoch 009 | Train Loss: 633.5875 | Val Loss: 715.5630\n",
      "Epoch 010 | Train Loss: 616.3531 | Val Loss: 673.2895\n",
      "Epoch 011 | Train Loss: 606.7462 | Val Loss: 659.7153\n",
      "Epoch 012 | Train Loss: 586.2784 | Val Loss: 654.1524\n",
      "Epoch 013 | Train Loss: 573.1356 | Val Loss: 641.6476\n",
      "Epoch 014 | Train Loss: 562.0853 | Val Loss: 624.5111\n",
      "Epoch 015 | Train Loss: 552.3287 | Val Loss: 623.3495\n",
      "Epoch 016 | Train Loss: 543.0877 | Val Loss: 602.5094\n",
      "Epoch 017 | Train Loss: 533.3019 | Val Loss: 595.7130\n",
      "Epoch 018 | Train Loss: 529.0207 | Val Loss: 585.8926\n",
      "Epoch 019 | Train Loss: 523.4208 | Val Loss: 635.8258\n",
      "Epoch 020 | Train Loss: 520.4456 | Val Loss: 575.8741\n",
      "Epoch 021 | Train Loss: 514.1053 | Val Loss: 568.8778\n",
      "Epoch 022 | Train Loss: 505.7856 | Val Loss: 568.5298\n",
      "Epoch 023 | Train Loss: 500.6059 | Val Loss: 561.7921\n",
      "Epoch 024 | Train Loss: 500.6212 | Val Loss: 560.5925\n",
      "Epoch 025 | Train Loss: 493.3114 | Val Loss: 555.5461\n",
      "Epoch 026 | Train Loss: 494.7616 | Val Loss: 562.5757\n",
      "Epoch 027 | Train Loss: 492.7398 | Val Loss: 561.0219\n",
      "Epoch 028 | Train Loss: 504.2840 | Val Loss: 543.2538\n",
      "Epoch 029 | Train Loss: 488.3638 | Val Loss: 540.9803\n",
      "Epoch 030 | Train Loss: 485.7549 | Val Loss: 571.7593\n",
      "Epoch 031 | Train Loss: 489.8422 | Val Loss: 566.5991\n",
      "Epoch 032 | Train Loss: 491.0721 | Val Loss: 575.7678\n",
      "Epoch 033 | Train Loss: 485.3993 | Val Loss: 538.7637\n",
      "Epoch 034 | Train Loss: 482.9635 | Val Loss: 547.0208\n",
      "Epoch 035 | Train Loss: 478.7814 | Val Loss: 533.4176\n",
      "Epoch 036 | Train Loss: 476.9532 | Val Loss: 534.1677\n",
      "Epoch 037 | Train Loss: 479.8187 | Val Loss: 526.6084\n",
      "Epoch 038 | Train Loss: 478.3518 | Val Loss: 523.2844\n",
      "Epoch 039 | Train Loss: 470.1415 | Val Loss: 526.2971\n",
      "Epoch 040 | Train Loss: 467.8588 | Val Loss: 526.4414\n",
      "Epoch 041 | Train Loss: 468.1904 | Val Loss: 527.0056\n",
      "Epoch 042 | Train Loss: 477.1797 | Val Loss: 560.8002\n",
      "Epoch 043 | Train Loss: 470.3050 | Val Loss: 538.1097\n",
      "Early stopping triggered at epoch 43\n"
     ]
    },
    {
     "data": {
      "text/html": [],
      "text/plain": [
       "<IPython.core.display.HTML object>"
      ]
     },
     "metadata": {},
     "output_type": "display_data"
    },
    {
     "data": {
      "text/html": [
       "<br>    <style><br>        .wandb-row {<br>            display: flex;<br>            flex-direction: row;<br>            flex-wrap: wrap;<br>            justify-content: flex-start;<br>            width: 100%;<br>        }<br>        .wandb-col {<br>            display: flex;<br>            flex-direction: column;<br>            flex-basis: 100%;<br>            flex: 1;<br>            padding: 10px;<br>        }<br>    </style><br><div class=\"wandb-row\"><div class=\"wandb-col\"><h3>Run history:</h3><br/><table class=\"wandb\"><tr><td>epoch</td><td>▁▁▁▁▂▂▂▂▂▃▃▃▃▃▃▄▄▄▄▄▅▅▅▅▅▅▆▆▆▆▆▇▇▇▇▇▇▇██</td></tr><tr><td>train_loss</td><td>█▁▁▁▁▁▁▁▁▁▁▁▁▁▁▁▁▁▁▁▁▁▁▁▁▁▁▁▁▁▁▁▁▁▁▁▁▁▁▁</td></tr><tr><td>val_loss</td><td>█▂▂▁▁▁▁▁▁▁▁▁▁▁▁▁▁▁▁▁▁▁▁▁▁▁▁▁▁▁▁▁▁▁▁▁▁▁▁▁</td></tr></table><br/></div><div class=\"wandb-col\"><h3>Run summary:</h3><br/><table class=\"wandb\"><tr><td>epoch</td><td>43</td></tr><tr><td>train_loss</td><td>470.30501</td></tr><tr><td>val_loss</td><td>538.10965</td></tr></table><br/></div></div>"
      ],
      "text/plain": [
       "<IPython.core.display.HTML object>"
      ]
     },
     "metadata": {},
     "output_type": "display_data"
    },
    {
     "data": {
      "text/html": [
       " View run <strong style=\"color:#cdcd00\">rare-breeze-47</strong> at: <a href='https://wandb.ai/yixuan228-imperial-college-london/DE_Groupwork_G4_stage1/runs/27gj7so1' target=\"_blank\">https://wandb.ai/yixuan228-imperial-college-london/DE_Groupwork_G4_stage1/runs/27gj7so1</a><br> View project at: <a href='https://wandb.ai/yixuan228-imperial-college-london/DE_Groupwork_G4_stage1' target=\"_blank\">https://wandb.ai/yixuan228-imperial-college-london/DE_Groupwork_G4_stage1</a><br>Synced 5 W&B file(s), 0 media file(s), 0 artifact file(s) and 0 other file(s)"
      ],
      "text/plain": [
       "<IPython.core.display.HTML object>"
      ]
     },
     "metadata": {},
     "output_type": "display_data"
    },
    {
     "data": {
      "text/html": [
       "Find logs at: <code>.\\wandb\\run-20250320_140333-27gj7so1\\logs</code>"
      ],
      "text/plain": [
       "<IPython.core.display.HTML object>"
      ]
     },
     "metadata": {},
     "output_type": "display_data"
    },
    {
     "data": {
      "text/html": [
       "Tracking run with wandb version 0.19.7"
      ],
      "text/plain": [
       "<IPython.core.display.HTML object>"
      ]
     },
     "metadata": {},
     "output_type": "display_data"
    },
    {
     "data": {
      "text/html": [
       "Run data is saved locally in <code>d:\\Projects\\MSc_DE_GroupWork4\\Scripts\\wandb\\run-20250320_140350-fznp93xi</code>"
      ],
      "text/plain": [
       "<IPython.core.display.HTML object>"
      ]
     },
     "metadata": {},
     "output_type": "display_data"
    },
    {
     "data": {
      "text/html": [
       "Syncing run <strong><a href='https://wandb.ai/yixuan228-imperial-college-london/DE_Groupwork_G4_stage1/runs/fznp93xi' target=\"_blank\">ethereal-dust-48</a></strong> to <a href='https://wandb.ai/yixuan228-imperial-college-london/DE_Groupwork_G4_stage1' target=\"_blank\">Weights & Biases</a> (<a href='https://wandb.me/developer-guide' target=\"_blank\">docs</a>)<br>"
      ],
      "text/plain": [
       "<IPython.core.display.HTML object>"
      ]
     },
     "metadata": {},
     "output_type": "display_data"
    },
    {
     "data": {
      "text/html": [
       " View project at <a href='https://wandb.ai/yixuan228-imperial-college-london/DE_Groupwork_G4_stage1' target=\"_blank\">https://wandb.ai/yixuan228-imperial-college-london/DE_Groupwork_G4_stage1</a>"
      ],
      "text/plain": [
       "<IPython.core.display.HTML object>"
      ]
     },
     "metadata": {},
     "output_type": "display_data"
    },
    {
     "data": {
      "text/html": [
       " View run at <a href='https://wandb.ai/yixuan228-imperial-college-london/DE_Groupwork_G4_stage1/runs/fznp93xi' target=\"_blank\">https://wandb.ai/yixuan228-imperial-college-london/DE_Groupwork_G4_stage1/runs/fznp93xi</a>"
      ],
      "text/plain": [
       "<IPython.core.display.HTML object>"
      ]
     },
     "metadata": {},
     "output_type": "display_data"
    },
    {
     "name": "stdout",
     "output_type": "stream",
     "text": [
      "Epoch 001 | Train Loss: 4765.4316 | Val Loss: 865.6560\n",
      "Epoch 002 | Train Loss: 755.3500 | Val Loss: 671.9341\n",
      "Epoch 003 | Train Loss: 658.1545 | Val Loss: 672.7114\n",
      "Epoch 004 | Train Loss: 605.5266 | Val Loss: 1130.9108\n",
      "Epoch 005 | Train Loss: 761.6313 | Val Loss: 1306.4834\n",
      "Epoch 006 | Train Loss: 705.2608 | Val Loss: 906.2095\n",
      "Epoch 007 | Train Loss: 656.9692 | Val Loss: 592.2935\n",
      "Epoch 008 | Train Loss: 641.6400 | Val Loss: 916.9997\n",
      "Epoch 009 | Train Loss: 664.4256 | Val Loss: 645.5973\n",
      "Epoch 010 | Train Loss: 571.0002 | Val Loss: 584.2552\n",
      "Epoch 011 | Train Loss: 755.0861 | Val Loss: 638.2414\n",
      "Epoch 012 | Train Loss: 655.0381 | Val Loss: 1376.3698\n",
      "Epoch 013 | Train Loss: 768.3359 | Val Loss: 711.1675\n",
      "Epoch 014 | Train Loss: 566.9047 | Val Loss: 878.9126\n",
      "Epoch 015 | Train Loss: 590.0145 | Val Loss: 561.9457\n",
      "Epoch 016 | Train Loss: 576.2378 | Val Loss: 680.7037\n",
      "Epoch 017 | Train Loss: 504.5040 | Val Loss: 565.3118\n",
      "Epoch 018 | Train Loss: 513.1802 | Val Loss: 554.7802\n",
      "Epoch 019 | Train Loss: 559.9960 | Val Loss: 758.7863\n",
      "Epoch 020 | Train Loss: 485.4417 | Val Loss: 725.3874\n",
      "Epoch 021 | Train Loss: 554.7594 | Val Loss: 724.1255\n",
      "Epoch 022 | Train Loss: 617.9586 | Val Loss: 751.4981\n",
      "Epoch 023 | Train Loss: 556.2795 | Val Loss: 517.3062\n",
      "Epoch 024 | Train Loss: 535.6106 | Val Loss: 1145.8540\n",
      "Epoch 025 | Train Loss: 656.5770 | Val Loss: 1114.0196\n",
      "Epoch 026 | Train Loss: 805.5722 | Val Loss: 608.8385\n",
      "Epoch 027 | Train Loss: 476.2881 | Val Loss: 495.9293\n",
      "Epoch 028 | Train Loss: 486.0445 | Val Loss: 480.3881\n",
      "Epoch 029 | Train Loss: 461.3154 | Val Loss: 503.5266\n",
      "Epoch 030 | Train Loss: 454.4342 | Val Loss: 658.4648\n",
      "Epoch 031 | Train Loss: 488.7891 | Val Loss: 869.5468\n",
      "Epoch 032 | Train Loss: 513.9431 | Val Loss: 650.0873\n",
      "Epoch 033 | Train Loss: 500.7953 | Val Loss: 641.7860\n",
      "Early stopping triggered at epoch 33\n"
     ]
    },
    {
     "data": {
      "text/html": [],
      "text/plain": [
       "<IPython.core.display.HTML object>"
      ]
     },
     "metadata": {},
     "output_type": "display_data"
    },
    {
     "data": {
      "text/html": [
       "<br>    <style><br>        .wandb-row {<br>            display: flex;<br>            flex-direction: row;<br>            flex-wrap: wrap;<br>            justify-content: flex-start;<br>            width: 100%;<br>        }<br>        .wandb-col {<br>            display: flex;<br>            flex-direction: column;<br>            flex-basis: 100%;<br>            flex: 1;<br>            padding: 10px;<br>        }<br>    </style><br><div class=\"wandb-row\"><div class=\"wandb-col\"><h3>Run history:</h3><br/><table class=\"wandb\"><tr><td>epoch</td><td>▁▁▁▂▂▂▂▃▃▃▃▃▄▄▄▄▅▅▅▅▅▆▆▆▆▆▇▇▇▇███</td></tr><tr><td>train_loss</td><td>█▁▁▁▁▁▁▁▁▁▁▁▂▁▁▁▁▁▁▁▁▁▁▁▁▂▁▁▁▁▁▁▁</td></tr><tr><td>val_loss</td><td>▄▂▃▆▇▄▂▄▂▂▂█▃▄▂▃▂▂▃▃▃▃▁▆▆▂▁▁▁▂▄▂▂</td></tr></table><br/></div><div class=\"wandb-col\"><h3>Run summary:</h3><br/><table class=\"wandb\"><tr><td>epoch</td><td>33</td></tr><tr><td>train_loss</td><td>500.79526</td></tr><tr><td>val_loss</td><td>641.78604</td></tr></table><br/></div></div>"
      ],
      "text/plain": [
       "<IPython.core.display.HTML object>"
      ]
     },
     "metadata": {},
     "output_type": "display_data"
    },
    {
     "data": {
      "text/html": [
       " View run <strong style=\"color:#cdcd00\">ethereal-dust-48</strong> at: <a href='https://wandb.ai/yixuan228-imperial-college-london/DE_Groupwork_G4_stage1/runs/fznp93xi' target=\"_blank\">https://wandb.ai/yixuan228-imperial-college-london/DE_Groupwork_G4_stage1/runs/fznp93xi</a><br> View project at: <a href='https://wandb.ai/yixuan228-imperial-college-london/DE_Groupwork_G4_stage1' target=\"_blank\">https://wandb.ai/yixuan228-imperial-college-london/DE_Groupwork_G4_stage1</a><br>Synced 5 W&B file(s), 0 media file(s), 0 artifact file(s) and 0 other file(s)"
      ],
      "text/plain": [
       "<IPython.core.display.HTML object>"
      ]
     },
     "metadata": {},
     "output_type": "display_data"
    },
    {
     "data": {
      "text/html": [
       "Find logs at: <code>.\\wandb\\run-20250320_140350-fznp93xi\\logs</code>"
      ],
      "text/plain": [
       "<IPython.core.display.HTML object>"
      ]
     },
     "metadata": {},
     "output_type": "display_data"
    },
    {
     "data": {
      "text/html": [
       "Tracking run with wandb version 0.19.7"
      ],
      "text/plain": [
       "<IPython.core.display.HTML object>"
      ]
     },
     "metadata": {},
     "output_type": "display_data"
    },
    {
     "data": {
      "text/html": [
       "Run data is saved locally in <code>d:\\Projects\\MSc_DE_GroupWork4\\Scripts\\wandb\\run-20250320_140409-2lgrznca</code>"
      ],
      "text/plain": [
       "<IPython.core.display.HTML object>"
      ]
     },
     "metadata": {},
     "output_type": "display_data"
    },
    {
     "data": {
      "text/html": [
       "Syncing run <strong><a href='https://wandb.ai/yixuan228-imperial-college-london/DE_Groupwork_G4_stage1/runs/2lgrznca' target=\"_blank\">denim-pine-49</a></strong> to <a href='https://wandb.ai/yixuan228-imperial-college-london/DE_Groupwork_G4_stage1' target=\"_blank\">Weights & Biases</a> (<a href='https://wandb.me/developer-guide' target=\"_blank\">docs</a>)<br>"
      ],
      "text/plain": [
       "<IPython.core.display.HTML object>"
      ]
     },
     "metadata": {},
     "output_type": "display_data"
    },
    {
     "data": {
      "text/html": [
       " View project at <a href='https://wandb.ai/yixuan228-imperial-college-london/DE_Groupwork_G4_stage1' target=\"_blank\">https://wandb.ai/yixuan228-imperial-college-london/DE_Groupwork_G4_stage1</a>"
      ],
      "text/plain": [
       "<IPython.core.display.HTML object>"
      ]
     },
     "metadata": {},
     "output_type": "display_data"
    },
    {
     "data": {
      "text/html": [
       " View run at <a href='https://wandb.ai/yixuan228-imperial-college-london/DE_Groupwork_G4_stage1/runs/2lgrznca' target=\"_blank\">https://wandb.ai/yixuan228-imperial-college-london/DE_Groupwork_G4_stage1/runs/2lgrznca</a>"
      ],
      "text/plain": [
       "<IPython.core.display.HTML object>"
      ]
     },
     "metadata": {},
     "output_type": "display_data"
    },
    {
     "name": "stdout",
     "output_type": "stream",
     "text": [
      "Epoch 001 | Train Loss: 12867.0356 | Val Loss: 1100.8885\n",
      "Epoch 002 | Train Loss: 918.4357 | Val Loss: 855.0411\n",
      "Epoch 003 | Train Loss: 739.1802 | Val Loss: 850.9149\n",
      "Epoch 004 | Train Loss: 682.1244 | Val Loss: 730.4219\n",
      "Epoch 005 | Train Loss: 632.0605 | Val Loss: 672.9893\n",
      "Epoch 006 | Train Loss: 612.7728 | Val Loss: 657.7487\n",
      "Epoch 007 | Train Loss: 576.1564 | Val Loss: 637.8978\n",
      "Epoch 008 | Train Loss: 556.8736 | Val Loss: 662.7297\n",
      "Epoch 009 | Train Loss: 556.0231 | Val Loss: 614.8959\n",
      "Epoch 010 | Train Loss: 553.9799 | Val Loss: 604.5350\n",
      "Epoch 011 | Train Loss: 541.8407 | Val Loss: 673.3338\n",
      "Epoch 012 | Train Loss: 565.6091 | Val Loss: 598.1990\n",
      "Epoch 013 | Train Loss: 552.5011 | Val Loss: 649.3222\n",
      "Epoch 014 | Train Loss: 554.0663 | Val Loss: 761.1756\n",
      "Epoch 015 | Train Loss: 537.9115 | Val Loss: 580.6674\n",
      "Epoch 016 | Train Loss: 522.5667 | Val Loss: 597.3358\n",
      "Epoch 017 | Train Loss: 529.0217 | Val Loss: 575.0742\n",
      "Epoch 018 | Train Loss: 527.4100 | Val Loss: 600.9608\n",
      "Epoch 019 | Train Loss: 520.5628 | Val Loss: 556.0247\n",
      "Epoch 020 | Train Loss: 512.2469 | Val Loss: 571.5161\n",
      "Epoch 021 | Train Loss: 526.7621 | Val Loss: 575.6744\n",
      "Epoch 022 | Train Loss: 563.9995 | Val Loss: 617.6907\n",
      "Epoch 023 | Train Loss: 546.7577 | Val Loss: 597.9667\n",
      "Epoch 024 | Train Loss: 529.1509 | Val Loss: 573.7674\n",
      "Early stopping triggered at epoch 24\n"
     ]
    },
    {
     "data": {
      "text/html": [],
      "text/plain": [
       "<IPython.core.display.HTML object>"
      ]
     },
     "metadata": {},
     "output_type": "display_data"
    },
    {
     "data": {
      "text/html": [
       "<br>    <style><br>        .wandb-row {<br>            display: flex;<br>            flex-direction: row;<br>            flex-wrap: wrap;<br>            justify-content: flex-start;<br>            width: 100%;<br>        }<br>        .wandb-col {<br>            display: flex;<br>            flex-direction: column;<br>            flex-basis: 100%;<br>            flex: 1;<br>            padding: 10px;<br>        }<br>    </style><br><div class=\"wandb-row\"><div class=\"wandb-col\"><h3>Run history:</h3><br/><table class=\"wandb\"><tr><td>epoch</td><td>▁▁▂▂▂▃▃▃▃▄▄▄▅▅▅▆▆▆▆▇▇▇██</td></tr><tr><td>train_loss</td><td>█▁▁▁▁▁▁▁▁▁▁▁▁▁▁▁▁▁▁▁▁▁▁▁</td></tr><tr><td>val_loss</td><td>█▅▅▃▃▂▂▂▂▂▃▂▂▄▁▂▁▂▁▁▁▂▂▁</td></tr></table><br/></div><div class=\"wandb-col\"><h3>Run summary:</h3><br/><table class=\"wandb\"><tr><td>epoch</td><td>24</td></tr><tr><td>train_loss</td><td>529.15086</td></tr><tr><td>val_loss</td><td>573.7674</td></tr></table><br/></div></div>"
      ],
      "text/plain": [
       "<IPython.core.display.HTML object>"
      ]
     },
     "metadata": {},
     "output_type": "display_data"
    },
    {
     "data": {
      "text/html": [
       " View run <strong style=\"color:#cdcd00\">denim-pine-49</strong> at: <a href='https://wandb.ai/yixuan228-imperial-college-london/DE_Groupwork_G4_stage1/runs/2lgrznca' target=\"_blank\">https://wandb.ai/yixuan228-imperial-college-london/DE_Groupwork_G4_stage1/runs/2lgrznca</a><br> View project at: <a href='https://wandb.ai/yixuan228-imperial-college-london/DE_Groupwork_G4_stage1' target=\"_blank\">https://wandb.ai/yixuan228-imperial-college-london/DE_Groupwork_G4_stage1</a><br>Synced 5 W&B file(s), 0 media file(s), 0 artifact file(s) and 0 other file(s)"
      ],
      "text/plain": [
       "<IPython.core.display.HTML object>"
      ]
     },
     "metadata": {},
     "output_type": "display_data"
    },
    {
     "data": {
      "text/html": [
       "Find logs at: <code>.\\wandb\\run-20250320_140409-2lgrznca\\logs</code>"
      ],
      "text/plain": [
       "<IPython.core.display.HTML object>"
      ]
     },
     "metadata": {},
     "output_type": "display_data"
    },
    {
     "data": {
      "text/html": [
       "Tracking run with wandb version 0.19.7"
      ],
      "text/plain": [
       "<IPython.core.display.HTML object>"
      ]
     },
     "metadata": {},
     "output_type": "display_data"
    },
    {
     "data": {
      "text/html": [
       "Run data is saved locally in <code>d:\\Projects\\MSc_DE_GroupWork4\\Scripts\\wandb\\run-20250320_140433-4t09ow14</code>"
      ],
      "text/plain": [
       "<IPython.core.display.HTML object>"
      ]
     },
     "metadata": {},
     "output_type": "display_data"
    },
    {
     "data": {
      "text/html": [
       "Syncing run <strong><a href='https://wandb.ai/yixuan228-imperial-college-london/DE_Groupwork_G4_stage1/runs/4t09ow14' target=\"_blank\">sandy-waterfall-50</a></strong> to <a href='https://wandb.ai/yixuan228-imperial-college-london/DE_Groupwork_G4_stage1' target=\"_blank\">Weights & Biases</a> (<a href='https://wandb.me/developer-guide' target=\"_blank\">docs</a>)<br>"
      ],
      "text/plain": [
       "<IPython.core.display.HTML object>"
      ]
     },
     "metadata": {},
     "output_type": "display_data"
    },
    {
     "data": {
      "text/html": [
       " View project at <a href='https://wandb.ai/yixuan228-imperial-college-london/DE_Groupwork_G4_stage1' target=\"_blank\">https://wandb.ai/yixuan228-imperial-college-london/DE_Groupwork_G4_stage1</a>"
      ],
      "text/plain": [
       "<IPython.core.display.HTML object>"
      ]
     },
     "metadata": {},
     "output_type": "display_data"
    },
    {
     "data": {
      "text/html": [
       " View run at <a href='https://wandb.ai/yixuan228-imperial-college-london/DE_Groupwork_G4_stage1/runs/4t09ow14' target=\"_blank\">https://wandb.ai/yixuan228-imperial-college-london/DE_Groupwork_G4_stage1/runs/4t09ow14</a>"
      ],
      "text/plain": [
       "<IPython.core.display.HTML object>"
      ]
     },
     "metadata": {},
     "output_type": "display_data"
    },
    {
     "name": "stdout",
     "output_type": "stream",
     "text": [
      "Epoch 001 | Train Loss: 59446.5779 | Val Loss: 36328.4996\n",
      "Epoch 002 | Train Loss: 10304.0294 | Val Loss: 1989.2543\n",
      "Epoch 003 | Train Loss: 1709.3969 | Val Loss: 1512.7876\n",
      "Epoch 004 | Train Loss: 1420.3063 | Val Loss: 1314.5235\n",
      "Epoch 005 | Train Loss: 1247.8319 | Val Loss: 1180.6242\n",
      "Epoch 006 | Train Loss: 1118.0839 | Val Loss: 1070.4864\n",
      "Epoch 007 | Train Loss: 1015.2280 | Val Loss: 985.8794\n",
      "Epoch 008 | Train Loss: 934.5731 | Val Loss: 940.8011\n",
      "Epoch 009 | Train Loss: 876.2932 | Val Loss: 890.1275\n",
      "Epoch 010 | Train Loss: 829.0919 | Val Loss: 860.1036\n",
      "Epoch 011 | Train Loss: 791.4222 | Val Loss: 839.0410\n",
      "Epoch 012 | Train Loss: 764.1687 | Val Loss: 821.9374\n",
      "Epoch 013 | Train Loss: 744.2640 | Val Loss: 802.3843\n",
      "Epoch 014 | Train Loss: 724.9554 | Val Loss: 792.9550\n",
      "Epoch 015 | Train Loss: 709.8006 | Val Loss: 776.0161\n",
      "Epoch 016 | Train Loss: 699.5033 | Val Loss: 770.2752\n",
      "Epoch 017 | Train Loss: 684.9274 | Val Loss: 761.2332\n",
      "Epoch 018 | Train Loss: 673.9500 | Val Loss: 749.7987\n",
      "Epoch 019 | Train Loss: 662.6076 | Val Loss: 742.2789\n",
      "Epoch 020 | Train Loss: 654.1315 | Val Loss: 740.9514\n",
      "Epoch 021 | Train Loss: 643.2866 | Val Loss: 719.4116\n",
      "Epoch 022 | Train Loss: 633.5641 | Val Loss: 713.5764\n",
      "Epoch 023 | Train Loss: 625.0437 | Val Loss: 705.7608\n",
      "Epoch 024 | Train Loss: 618.1615 | Val Loss: 698.9949\n",
      "Epoch 025 | Train Loss: 612.1390 | Val Loss: 693.7788\n",
      "Epoch 026 | Train Loss: 604.2702 | Val Loss: 681.1503\n",
      "Epoch 027 | Train Loss: 595.3766 | Val Loss: 673.8030\n",
      "Epoch 028 | Train Loss: 596.9997 | Val Loss: 673.9152\n",
      "Epoch 029 | Train Loss: 586.9841 | Val Loss: 661.5100\n",
      "Epoch 030 | Train Loss: 580.6799 | Val Loss: 656.8631\n",
      "Epoch 031 | Train Loss: 578.2622 | Val Loss: 658.8591\n",
      "Epoch 032 | Train Loss: 572.5163 | Val Loss: 657.9042\n",
      "Epoch 033 | Train Loss: 567.1107 | Val Loss: 640.6132\n",
      "Epoch 034 | Train Loss: 563.8243 | Val Loss: 636.0228\n",
      "Epoch 035 | Train Loss: 557.1633 | Val Loss: 637.8013\n",
      "Epoch 036 | Train Loss: 556.8139 | Val Loss: 638.2774\n",
      "Epoch 037 | Train Loss: 550.6229 | Val Loss: 624.3520\n",
      "Epoch 038 | Train Loss: 552.4976 | Val Loss: 632.9417\n",
      "Epoch 039 | Train Loss: 543.4900 | Val Loss: 636.6725\n",
      "Epoch 040 | Train Loss: 543.6262 | Val Loss: 622.9539\n",
      "Epoch 041 | Train Loss: 543.0025 | Val Loss: 618.3902\n",
      "Epoch 042 | Train Loss: 539.2752 | Val Loss: 614.8265\n",
      "Epoch 043 | Train Loss: 538.7838 | Val Loss: 605.6390\n",
      "Epoch 044 | Train Loss: 536.8083 | Val Loss: 603.7263\n",
      "Epoch 045 | Train Loss: 534.1649 | Val Loss: 606.7423\n",
      "Epoch 046 | Train Loss: 531.8203 | Val Loss: 606.3367\n",
      "Epoch 047 | Train Loss: 535.1506 | Val Loss: 602.6705\n",
      "Epoch 048 | Train Loss: 529.1845 | Val Loss: 597.7562\n",
      "Epoch 049 | Train Loss: 529.8162 | Val Loss: 604.5148\n",
      "Epoch 050 | Train Loss: 525.8036 | Val Loss: 606.2888\n",
      "Epoch 051 | Train Loss: 525.4360 | Val Loss: 591.9567\n",
      "Epoch 052 | Train Loss: 522.5147 | Val Loss: 591.6132\n",
      "Epoch 053 | Train Loss: 524.0990 | Val Loss: 588.9219\n",
      "Epoch 054 | Train Loss: 524.6850 | Val Loss: 588.3355\n",
      "Epoch 055 | Train Loss: 522.5098 | Val Loss: 591.6498\n",
      "Epoch 056 | Train Loss: 519.2944 | Val Loss: 598.1983\n",
      "Epoch 057 | Train Loss: 520.4518 | Val Loss: 588.7096\n",
      "Epoch 058 | Train Loss: 514.8643 | Val Loss: 581.6637\n",
      "Epoch 059 | Train Loss: 525.4550 | Val Loss: 578.1956\n",
      "Epoch 060 | Train Loss: 515.6233 | Val Loss: 591.2068\n",
      "Epoch 061 | Train Loss: 516.1744 | Val Loss: 578.4148\n",
      "Epoch 062 | Train Loss: 514.6470 | Val Loss: 585.6359\n",
      "Epoch 063 | Train Loss: 516.6118 | Val Loss: 588.1662\n",
      "Epoch 064 | Train Loss: 514.7955 | Val Loss: 589.1923\n",
      "Early stopping triggered at epoch 64\n"
     ]
    },
    {
     "data": {
      "text/html": [],
      "text/plain": [
       "<IPython.core.display.HTML object>"
      ]
     },
     "metadata": {},
     "output_type": "display_data"
    },
    {
     "data": {
      "text/html": [
       "<br>    <style><br>        .wandb-row {<br>            display: flex;<br>            flex-direction: row;<br>            flex-wrap: wrap;<br>            justify-content: flex-start;<br>            width: 100%;<br>        }<br>        .wandb-col {<br>            display: flex;<br>            flex-direction: column;<br>            flex-basis: 100%;<br>            flex: 1;<br>            padding: 10px;<br>        }<br>    </style><br><div class=\"wandb-row\"><div class=\"wandb-col\"><h3>Run history:</h3><br/><table class=\"wandb\"><tr><td>epoch</td><td>▁▁▁▁▂▂▂▂▂▂▃▃▃▃▃▄▄▄▄▄▅▅▅▅▅▅▅▆▆▆▆▆▆▇▇▇▇███</td></tr><tr><td>train_loss</td><td>█▂▁▁▁▁▁▁▁▁▁▁▁▁▁▁▁▁▁▁▁▁▁▁▁▁▁▁▁▁▁▁▁▁▁▁▁▁▁▁</td></tr><tr><td>val_loss</td><td>█▁▁▁▁▁▁▁▁▁▁▁▁▁▁▁▁▁▁▁▁▁▁▁▁▁▁▁▁▁▁▁▁▁▁▁▁▁▁▁</td></tr></table><br/></div><div class=\"wandb-col\"><h3>Run summary:</h3><br/><table class=\"wandb\"><tr><td>epoch</td><td>64</td></tr><tr><td>train_loss</td><td>514.79547</td></tr><tr><td>val_loss</td><td>589.19231</td></tr></table><br/></div></div>"
      ],
      "text/plain": [
       "<IPython.core.display.HTML object>"
      ]
     },
     "metadata": {},
     "output_type": "display_data"
    },
    {
     "data": {
      "text/html": [
       " View run <strong style=\"color:#cdcd00\">sandy-waterfall-50</strong> at: <a href='https://wandb.ai/yixuan228-imperial-college-london/DE_Groupwork_G4_stage1/runs/4t09ow14' target=\"_blank\">https://wandb.ai/yixuan228-imperial-college-london/DE_Groupwork_G4_stage1/runs/4t09ow14</a><br> View project at: <a href='https://wandb.ai/yixuan228-imperial-college-london/DE_Groupwork_G4_stage1' target=\"_blank\">https://wandb.ai/yixuan228-imperial-college-london/DE_Groupwork_G4_stage1</a><br>Synced 5 W&B file(s), 0 media file(s), 0 artifact file(s) and 0 other file(s)"
      ],
      "text/plain": [
       "<IPython.core.display.HTML object>"
      ]
     },
     "metadata": {},
     "output_type": "display_data"
    },
    {
     "data": {
      "text/html": [
       "Find logs at: <code>.\\wandb\\run-20250320_140433-4t09ow14\\logs</code>"
      ],
      "text/plain": [
       "<IPython.core.display.HTML object>"
      ]
     },
     "metadata": {},
     "output_type": "display_data"
    },
    {
     "data": {
      "text/html": [
       "Tracking run with wandb version 0.19.7"
      ],
      "text/plain": [
       "<IPython.core.display.HTML object>"
      ]
     },
     "metadata": {},
     "output_type": "display_data"
    },
    {
     "data": {
      "text/html": [
       "Run data is saved locally in <code>d:\\Projects\\MSc_DE_GroupWork4\\Scripts\\wandb\\run-20250320_140517-q2yu0one</code>"
      ],
      "text/plain": [
       "<IPython.core.display.HTML object>"
      ]
     },
     "metadata": {},
     "output_type": "display_data"
    },
    {
     "data": {
      "text/html": [
       "Syncing run <strong><a href='https://wandb.ai/yixuan228-imperial-college-london/DE_Groupwork_G4_stage1/runs/q2yu0one' target=\"_blank\">flowing-violet-51</a></strong> to <a href='https://wandb.ai/yixuan228-imperial-college-london/DE_Groupwork_G4_stage1' target=\"_blank\">Weights & Biases</a> (<a href='https://wandb.me/developer-guide' target=\"_blank\">docs</a>)<br>"
      ],
      "text/plain": [
       "<IPython.core.display.HTML object>"
      ]
     },
     "metadata": {},
     "output_type": "display_data"
    },
    {
     "data": {
      "text/html": [
       " View project at <a href='https://wandb.ai/yixuan228-imperial-college-london/DE_Groupwork_G4_stage1' target=\"_blank\">https://wandb.ai/yixuan228-imperial-college-london/DE_Groupwork_G4_stage1</a>"
      ],
      "text/plain": [
       "<IPython.core.display.HTML object>"
      ]
     },
     "metadata": {},
     "output_type": "display_data"
    },
    {
     "data": {
      "text/html": [
       " View run at <a href='https://wandb.ai/yixuan228-imperial-college-london/DE_Groupwork_G4_stage1/runs/q2yu0one' target=\"_blank\">https://wandb.ai/yixuan228-imperial-college-london/DE_Groupwork_G4_stage1/runs/q2yu0one</a>"
      ],
      "text/plain": [
       "<IPython.core.display.HTML object>"
      ]
     },
     "metadata": {},
     "output_type": "display_data"
    },
    {
     "name": "stdout",
     "output_type": "stream",
     "text": [
      "Epoch 001 | Train Loss: 22092.5366 | Val Loss: 1037.6314\n",
      "Epoch 002 | Train Loss: 876.2458 | Val Loss: 697.0676\n",
      "Epoch 003 | Train Loss: 724.8906 | Val Loss: 825.0037\n",
      "Epoch 004 | Train Loss: 708.2910 | Val Loss: 694.5977\n",
      "Epoch 005 | Train Loss: 662.7341 | Val Loss: 635.3805\n",
      "Epoch 006 | Train Loss: 646.6937 | Val Loss: 663.1023\n",
      "Epoch 007 | Train Loss: 622.0669 | Val Loss: 657.1431\n",
      "Epoch 008 | Train Loss: 632.9385 | Val Loss: 1732.8842\n",
      "Epoch 009 | Train Loss: 602.9602 | Val Loss: 969.5597\n",
      "Epoch 010 | Train Loss: 626.4815 | Val Loss: 672.1543\n",
      "Early stopping triggered at epoch 10\n"
     ]
    },
    {
     "data": {
      "text/html": [],
      "text/plain": [
       "<IPython.core.display.HTML object>"
      ]
     },
     "metadata": {},
     "output_type": "display_data"
    },
    {
     "data": {
      "text/html": [
       "<br>    <style><br>        .wandb-row {<br>            display: flex;<br>            flex-direction: row;<br>            flex-wrap: wrap;<br>            justify-content: flex-start;<br>            width: 100%;<br>        }<br>        .wandb-col {<br>            display: flex;<br>            flex-direction: column;<br>            flex-basis: 100%;<br>            flex: 1;<br>            padding: 10px;<br>        }<br>    </style><br><div class=\"wandb-row\"><div class=\"wandb-col\"><h3>Run history:</h3><br/><table class=\"wandb\"><tr><td>epoch</td><td>▁▂▃▃▄▅▆▆▇█</td></tr><tr><td>train_loss</td><td>█▁▁▁▁▁▁▁▁▁</td></tr><tr><td>val_loss</td><td>▄▁▂▁▁▁▁█▃▁</td></tr></table><br/></div><div class=\"wandb-col\"><h3>Run summary:</h3><br/><table class=\"wandb\"><tr><td>epoch</td><td>10</td></tr><tr><td>train_loss</td><td>626.48153</td></tr><tr><td>val_loss</td><td>672.15429</td></tr></table><br/></div></div>"
      ],
      "text/plain": [
       "<IPython.core.display.HTML object>"
      ]
     },
     "metadata": {},
     "output_type": "display_data"
    },
    {
     "data": {
      "text/html": [
       " View run <strong style=\"color:#cdcd00\">flowing-violet-51</strong> at: <a href='https://wandb.ai/yixuan228-imperial-college-london/DE_Groupwork_G4_stage1/runs/q2yu0one' target=\"_blank\">https://wandb.ai/yixuan228-imperial-college-london/DE_Groupwork_G4_stage1/runs/q2yu0one</a><br> View project at: <a href='https://wandb.ai/yixuan228-imperial-college-london/DE_Groupwork_G4_stage1' target=\"_blank\">https://wandb.ai/yixuan228-imperial-college-london/DE_Groupwork_G4_stage1</a><br>Synced 5 W&B file(s), 0 media file(s), 0 artifact file(s) and 0 other file(s)"
      ],
      "text/plain": [
       "<IPython.core.display.HTML object>"
      ]
     },
     "metadata": {},
     "output_type": "display_data"
    },
    {
     "data": {
      "text/html": [
       "Find logs at: <code>.\\wandb\\run-20250320_140517-q2yu0one\\logs</code>"
      ],
      "text/plain": [
       "<IPython.core.display.HTML object>"
      ]
     },
     "metadata": {},
     "output_type": "display_data"
    },
    {
     "data": {
      "text/html": [
       "Tracking run with wandb version 0.19.7"
      ],
      "text/plain": [
       "<IPython.core.display.HTML object>"
      ]
     },
     "metadata": {},
     "output_type": "display_data"
    },
    {
     "data": {
      "text/html": [
       "Run data is saved locally in <code>d:\\Projects\\MSc_DE_GroupWork4\\Scripts\\wandb\\run-20250320_140530-s098pwym</code>"
      ],
      "text/plain": [
       "<IPython.core.display.HTML object>"
      ]
     },
     "metadata": {},
     "output_type": "display_data"
    },
    {
     "data": {
      "text/html": [
       "Syncing run <strong><a href='https://wandb.ai/yixuan228-imperial-college-london/DE_Groupwork_G4_stage1/runs/s098pwym' target=\"_blank\">graceful-dew-52</a></strong> to <a href='https://wandb.ai/yixuan228-imperial-college-london/DE_Groupwork_G4_stage1' target=\"_blank\">Weights & Biases</a> (<a href='https://wandb.me/developer-guide' target=\"_blank\">docs</a>)<br>"
      ],
      "text/plain": [
       "<IPython.core.display.HTML object>"
      ]
     },
     "metadata": {},
     "output_type": "display_data"
    },
    {
     "data": {
      "text/html": [
       " View project at <a href='https://wandb.ai/yixuan228-imperial-college-london/DE_Groupwork_G4_stage1' target=\"_blank\">https://wandb.ai/yixuan228-imperial-college-london/DE_Groupwork_G4_stage1</a>"
      ],
      "text/plain": [
       "<IPython.core.display.HTML object>"
      ]
     },
     "metadata": {},
     "output_type": "display_data"
    },
    {
     "data": {
      "text/html": [
       " View run at <a href='https://wandb.ai/yixuan228-imperial-college-london/DE_Groupwork_G4_stage1/runs/s098pwym' target=\"_blank\">https://wandb.ai/yixuan228-imperial-college-london/DE_Groupwork_G4_stage1/runs/s098pwym</a>"
      ],
      "text/plain": [
       "<IPython.core.display.HTML object>"
      ]
     },
     "metadata": {},
     "output_type": "display_data"
    },
    {
     "name": "stdout",
     "output_type": "stream",
     "text": [
      "Epoch 001 | Train Loss: 8856.4257 | Val Loss: 960.2631\n",
      "Epoch 002 | Train Loss: 747.8551 | Val Loss: 751.3390\n",
      "Epoch 003 | Train Loss: 652.4110 | Val Loss: 652.9783\n",
      "Epoch 004 | Train Loss: 591.1315 | Val Loss: 724.5408\n",
      "Epoch 005 | Train Loss: 560.2228 | Val Loss: 591.0663\n",
      "Epoch 006 | Train Loss: 559.4128 | Val Loss: 709.7193\n",
      "Epoch 007 | Train Loss: 550.7284 | Val Loss: 674.8612\n",
      "Epoch 008 | Train Loss: 527.1415 | Val Loss: 569.6531\n",
      "Epoch 009 | Train Loss: 538.8166 | Val Loss: 699.0940\n",
      "Epoch 010 | Train Loss: 534.2687 | Val Loss: 576.6620\n",
      "Epoch 011 | Train Loss: 540.3896 | Val Loss: 553.7115\n",
      "Epoch 012 | Train Loss: 576.3764 | Val Loss: 825.3467\n",
      "Epoch 013 | Train Loss: 572.1770 | Val Loss: 939.8119\n",
      "Epoch 014 | Train Loss: 525.0861 | Val Loss: 826.1319\n",
      "Epoch 015 | Train Loss: 556.7018 | Val Loss: 568.1536\n",
      "Epoch 016 | Train Loss: 503.1798 | Val Loss: 668.6745\n",
      "Early stopping triggered at epoch 16\n"
     ]
    },
    {
     "data": {
      "text/html": [],
      "text/plain": [
       "<IPython.core.display.HTML object>"
      ]
     },
     "metadata": {},
     "output_type": "display_data"
    },
    {
     "data": {
      "text/html": [
       "<br>    <style><br>        .wandb-row {<br>            display: flex;<br>            flex-direction: row;<br>            flex-wrap: wrap;<br>            justify-content: flex-start;<br>            width: 100%;<br>        }<br>        .wandb-col {<br>            display: flex;<br>            flex-direction: column;<br>            flex-basis: 100%;<br>            flex: 1;<br>            padding: 10px;<br>        }<br>    </style><br><div class=\"wandb-row\"><div class=\"wandb-col\"><h3>Run history:</h3><br/><table class=\"wandb\"><tr><td>epoch</td><td>▁▁▂▂▃▃▄▄▅▅▆▆▇▇██</td></tr><tr><td>train_loss</td><td>█▁▁▁▁▁▁▁▁▁▁▁▁▁▁▁</td></tr><tr><td>val_loss</td><td>█▄▃▄▂▄▃▁▄▁▁▆█▆▁▃</td></tr></table><br/></div><div class=\"wandb-col\"><h3>Run summary:</h3><br/><table class=\"wandb\"><tr><td>epoch</td><td>16</td></tr><tr><td>train_loss</td><td>503.17981</td></tr><tr><td>val_loss</td><td>668.67448</td></tr></table><br/></div></div>"
      ],
      "text/plain": [
       "<IPython.core.display.HTML object>"
      ]
     },
     "metadata": {},
     "output_type": "display_data"
    },
    {
     "data": {
      "text/html": [
       " View run <strong style=\"color:#cdcd00\">graceful-dew-52</strong> at: <a href='https://wandb.ai/yixuan228-imperial-college-london/DE_Groupwork_G4_stage1/runs/s098pwym' target=\"_blank\">https://wandb.ai/yixuan228-imperial-college-london/DE_Groupwork_G4_stage1/runs/s098pwym</a><br> View project at: <a href='https://wandb.ai/yixuan228-imperial-college-london/DE_Groupwork_G4_stage1' target=\"_blank\">https://wandb.ai/yixuan228-imperial-college-london/DE_Groupwork_G4_stage1</a><br>Synced 5 W&B file(s), 0 media file(s), 0 artifact file(s) and 0 other file(s)"
      ],
      "text/plain": [
       "<IPython.core.display.HTML object>"
      ]
     },
     "metadata": {},
     "output_type": "display_data"
    },
    {
     "data": {
      "text/html": [
       "Find logs at: <code>.\\wandb\\run-20250320_140530-s098pwym\\logs</code>"
      ],
      "text/plain": [
       "<IPython.core.display.HTML object>"
      ]
     },
     "metadata": {},
     "output_type": "display_data"
    },
    {
     "data": {
      "text/html": [
       "Tracking run with wandb version 0.19.7"
      ],
      "text/plain": [
       "<IPython.core.display.HTML object>"
      ]
     },
     "metadata": {},
     "output_type": "display_data"
    },
    {
     "data": {
      "text/html": [
       "Run data is saved locally in <code>d:\\Projects\\MSc_DE_GroupWork4\\Scripts\\wandb\\run-20250320_140543-ioydoqfj</code>"
      ],
      "text/plain": [
       "<IPython.core.display.HTML object>"
      ]
     },
     "metadata": {},
     "output_type": "display_data"
    },
    {
     "data": {
      "text/html": [
       "Syncing run <strong><a href='https://wandb.ai/yixuan228-imperial-college-london/DE_Groupwork_G4_stage1/runs/ioydoqfj' target=\"_blank\">sweet-elevator-53</a></strong> to <a href='https://wandb.ai/yixuan228-imperial-college-london/DE_Groupwork_G4_stage1' target=\"_blank\">Weights & Biases</a> (<a href='https://wandb.me/developer-guide' target=\"_blank\">docs</a>)<br>"
      ],
      "text/plain": [
       "<IPython.core.display.HTML object>"
      ]
     },
     "metadata": {},
     "output_type": "display_data"
    },
    {
     "data": {
      "text/html": [
       " View project at <a href='https://wandb.ai/yixuan228-imperial-college-london/DE_Groupwork_G4_stage1' target=\"_blank\">https://wandb.ai/yixuan228-imperial-college-london/DE_Groupwork_G4_stage1</a>"
      ],
      "text/plain": [
       "<IPython.core.display.HTML object>"
      ]
     },
     "metadata": {},
     "output_type": "display_data"
    },
    {
     "data": {
      "text/html": [
       " View run at <a href='https://wandb.ai/yixuan228-imperial-college-london/DE_Groupwork_G4_stage1/runs/ioydoqfj' target=\"_blank\">https://wandb.ai/yixuan228-imperial-college-london/DE_Groupwork_G4_stage1/runs/ioydoqfj</a>"
      ],
      "text/plain": [
       "<IPython.core.display.HTML object>"
      ]
     },
     "metadata": {},
     "output_type": "display_data"
    },
    {
     "name": "stdout",
     "output_type": "stream",
     "text": [
      "Epoch 001 | Train Loss: 39950.6313 | Val Loss: 1981.9906\n",
      "Epoch 002 | Train Loss: 1525.7337 | Val Loss: 1229.2707\n",
      "Epoch 003 | Train Loss: 1103.5387 | Val Loss: 992.2645\n",
      "Epoch 004 | Train Loss: 906.4663 | Val Loss: 876.5039\n",
      "Epoch 005 | Train Loss: 801.8440 | Val Loss: 815.7283\n",
      "Epoch 006 | Train Loss: 733.8013 | Val Loss: 769.2275\n",
      "Epoch 007 | Train Loss: 687.9854 | Val Loss: 750.3626\n",
      "Epoch 008 | Train Loss: 660.9278 | Val Loss: 723.0200\n",
      "Epoch 009 | Train Loss: 634.0601 | Val Loss: 709.5909\n",
      "Epoch 010 | Train Loss: 612.3297 | Val Loss: 695.8482\n",
      "Epoch 011 | Train Loss: 592.6444 | Val Loss: 658.8145\n",
      "Epoch 012 | Train Loss: 582.7191 | Val Loss: 642.8218\n",
      "Epoch 013 | Train Loss: 568.0112 | Val Loss: 631.0552\n",
      "Epoch 014 | Train Loss: 552.7987 | Val Loss: 620.0131\n",
      "Epoch 015 | Train Loss: 539.5968 | Val Loss: 605.1519\n",
      "Epoch 016 | Train Loss: 532.5556 | Val Loss: 601.9132\n",
      "Epoch 017 | Train Loss: 521.1131 | Val Loss: 583.8199\n",
      "Epoch 018 | Train Loss: 521.2875 | Val Loss: 582.3956\n",
      "Epoch 019 | Train Loss: 507.5276 | Val Loss: 580.0275\n",
      "Epoch 020 | Train Loss: 516.5689 | Val Loss: 570.2985\n",
      "Epoch 021 | Train Loss: 497.6782 | Val Loss: 558.9011\n",
      "Epoch 022 | Train Loss: 502.3560 | Val Loss: 577.0842\n",
      "Epoch 023 | Train Loss: 498.8081 | Val Loss: 550.6044\n",
      "Epoch 024 | Train Loss: 492.6186 | Val Loss: 547.1392\n",
      "Epoch 025 | Train Loss: 491.5770 | Val Loss: 602.3421\n",
      "Epoch 026 | Train Loss: 495.7811 | Val Loss: 542.7533\n",
      "Epoch 027 | Train Loss: 481.9465 | Val Loss: 545.7963\n",
      "Epoch 028 | Train Loss: 488.9538 | Val Loss: 546.0263\n",
      "Epoch 029 | Train Loss: 478.5962 | Val Loss: 538.3062\n",
      "Epoch 030 | Train Loss: 489.0300 | Val Loss: 533.2912\n",
      "Epoch 031 | Train Loss: 478.9412 | Val Loss: 529.0950\n",
      "Epoch 032 | Train Loss: 471.0297 | Val Loss: 526.2955\n",
      "Epoch 033 | Train Loss: 470.6823 | Val Loss: 553.9842\n",
      "Epoch 034 | Train Loss: 465.8747 | Val Loss: 528.4611\n",
      "Epoch 035 | Train Loss: 462.7357 | Val Loss: 527.8394\n",
      "Epoch 036 | Train Loss: 461.1773 | Val Loss: 508.5055\n",
      "Epoch 037 | Train Loss: 460.6478 | Val Loss: 528.8811\n",
      "Epoch 038 | Train Loss: 455.6486 | Val Loss: 541.1260\n",
      "Epoch 039 | Train Loss: 454.4605 | Val Loss: 519.1954\n",
      "Epoch 040 | Train Loss: 448.7552 | Val Loss: 529.2358\n",
      "Epoch 041 | Train Loss: 466.2634 | Val Loss: 516.5746\n",
      "Early stopping triggered at epoch 41\n"
     ]
    },
    {
     "data": {
      "text/html": [],
      "text/plain": [
       "<IPython.core.display.HTML object>"
      ]
     },
     "metadata": {},
     "output_type": "display_data"
    },
    {
     "data": {
      "text/html": [
       "<br>    <style><br>        .wandb-row {<br>            display: flex;<br>            flex-direction: row;<br>            flex-wrap: wrap;<br>            justify-content: flex-start;<br>            width: 100%;<br>        }<br>        .wandb-col {<br>            display: flex;<br>            flex-direction: column;<br>            flex-basis: 100%;<br>            flex: 1;<br>            padding: 10px;<br>        }<br>    </style><br><div class=\"wandb-row\"><div class=\"wandb-col\"><h3>Run history:</h3><br/><table class=\"wandb\"><tr><td>epoch</td><td>▁▁▁▂▂▂▂▂▂▃▃▃▃▃▃▄▄▄▄▄▅▅▅▅▅▅▆▆▆▆▆▆▇▇▇▇▇▇██</td></tr><tr><td>train_loss</td><td>█▁▁▁▁▁▁▁▁▁▁▁▁▁▁▁▁▁▁▁▁▁▁▁▁▁▁▁▁▁▁▁▁▁▁▁▁▁▁▁</td></tr><tr><td>val_loss</td><td>█▄▃▃▂▂▂▂▂▂▂▂▂▂▁▁▁▁▁▁▁▁▁▁▁▁▁▁▁▁▁▁▁▁▁▁▁▁▁▁</td></tr></table><br/></div><div class=\"wandb-col\"><h3>Run summary:</h3><br/><table class=\"wandb\"><tr><td>epoch</td><td>41</td></tr><tr><td>train_loss</td><td>466.26343</td></tr><tr><td>val_loss</td><td>516.57457</td></tr></table><br/></div></div>"
      ],
      "text/plain": [
       "<IPython.core.display.HTML object>"
      ]
     },
     "metadata": {},
     "output_type": "display_data"
    },
    {
     "data": {
      "text/html": [
       " View run <strong style=\"color:#cdcd00\">sweet-elevator-53</strong> at: <a href='https://wandb.ai/yixuan228-imperial-college-london/DE_Groupwork_G4_stage1/runs/ioydoqfj' target=\"_blank\">https://wandb.ai/yixuan228-imperial-college-london/DE_Groupwork_G4_stage1/runs/ioydoqfj</a><br> View project at: <a href='https://wandb.ai/yixuan228-imperial-college-london/DE_Groupwork_G4_stage1' target=\"_blank\">https://wandb.ai/yixuan228-imperial-college-london/DE_Groupwork_G4_stage1</a><br>Synced 5 W&B file(s), 0 media file(s), 0 artifact file(s) and 0 other file(s)"
      ],
      "text/plain": [
       "<IPython.core.display.HTML object>"
      ]
     },
     "metadata": {},
     "output_type": "display_data"
    },
    {
     "data": {
      "text/html": [
       "Find logs at: <code>.\\wandb\\run-20250320_140543-ioydoqfj\\logs</code>"
      ],
      "text/plain": [
       "<IPython.core.display.HTML object>"
      ]
     },
     "metadata": {},
     "output_type": "display_data"
    },
    {
     "data": {
      "text/html": [
       "Tracking run with wandb version 0.19.7"
      ],
      "text/plain": [
       "<IPython.core.display.HTML object>"
      ]
     },
     "metadata": {},
     "output_type": "display_data"
    },
    {
     "data": {
      "text/html": [
       "Run data is saved locally in <code>d:\\Projects\\MSc_DE_GroupWork4\\Scripts\\wandb\\run-20250320_140608-rl9zoe0v</code>"
      ],
      "text/plain": [
       "<IPython.core.display.HTML object>"
      ]
     },
     "metadata": {},
     "output_type": "display_data"
    },
    {
     "data": {
      "text/html": [
       "Syncing run <strong><a href='https://wandb.ai/yixuan228-imperial-college-london/DE_Groupwork_G4_stage1/runs/rl9zoe0v' target=\"_blank\">zesty-serenity-54</a></strong> to <a href='https://wandb.ai/yixuan228-imperial-college-london/DE_Groupwork_G4_stage1' target=\"_blank\">Weights & Biases</a> (<a href='https://wandb.me/developer-guide' target=\"_blank\">docs</a>)<br>"
      ],
      "text/plain": [
       "<IPython.core.display.HTML object>"
      ]
     },
     "metadata": {},
     "output_type": "display_data"
    },
    {
     "data": {
      "text/html": [
       " View project at <a href='https://wandb.ai/yixuan228-imperial-college-london/DE_Groupwork_G4_stage1' target=\"_blank\">https://wandb.ai/yixuan228-imperial-college-london/DE_Groupwork_G4_stage1</a>"
      ],
      "text/plain": [
       "<IPython.core.display.HTML object>"
      ]
     },
     "metadata": {},
     "output_type": "display_data"
    },
    {
     "data": {
      "text/html": [
       " View run at <a href='https://wandb.ai/yixuan228-imperial-college-london/DE_Groupwork_G4_stage1/runs/rl9zoe0v' target=\"_blank\">https://wandb.ai/yixuan228-imperial-college-london/DE_Groupwork_G4_stage1/runs/rl9zoe0v</a>"
      ],
      "text/plain": [
       "<IPython.core.display.HTML object>"
      ]
     },
     "metadata": {},
     "output_type": "display_data"
    },
    {
     "name": "stdout",
     "output_type": "stream",
     "text": [
      "Epoch 001 | Train Loss: 14610.5140 | Val Loss: 1468.4104\n",
      "Epoch 002 | Train Loss: 820.2098 | Val Loss: 873.4616\n",
      "Epoch 003 | Train Loss: 750.1533 | Val Loss: 1309.6780\n",
      "Epoch 004 | Train Loss: 612.2961 | Val Loss: 572.8515\n",
      "Epoch 005 | Train Loss: 553.8270 | Val Loss: 568.4287\n",
      "Epoch 006 | Train Loss: 541.0117 | Val Loss: 581.3662\n",
      "Epoch 007 | Train Loss: 744.6960 | Val Loss: 873.9552\n",
      "Epoch 008 | Train Loss: 544.1771 | Val Loss: 557.6293\n",
      "Epoch 009 | Train Loss: 544.6777 | Val Loss: 594.3294\n",
      "Epoch 010 | Train Loss: 612.4522 | Val Loss: 633.6293\n",
      "Epoch 011 | Train Loss: 492.0607 | Val Loss: 792.4695\n",
      "Epoch 012 | Train Loss: 608.2906 | Val Loss: 597.9687\n",
      "Epoch 013 | Train Loss: 587.6228 | Val Loss: 861.5123\n",
      "Early stopping triggered at epoch 13\n"
     ]
    },
    {
     "data": {
      "text/html": [],
      "text/plain": [
       "<IPython.core.display.HTML object>"
      ]
     },
     "metadata": {},
     "output_type": "display_data"
    },
    {
     "data": {
      "text/html": [
       "<br>    <style><br>        .wandb-row {<br>            display: flex;<br>            flex-direction: row;<br>            flex-wrap: wrap;<br>            justify-content: flex-start;<br>            width: 100%;<br>        }<br>        .wandb-col {<br>            display: flex;<br>            flex-direction: column;<br>            flex-basis: 100%;<br>            flex: 1;<br>            padding: 10px;<br>        }<br>    </style><br><div class=\"wandb-row\"><div class=\"wandb-col\"><h3>Run history:</h3><br/><table class=\"wandb\"><tr><td>epoch</td><td>▁▂▂▃▃▄▅▅▆▆▇▇█</td></tr><tr><td>train_loss</td><td>█▁▁▁▁▁▁▁▁▁▁▁▁</td></tr><tr><td>val_loss</td><td>█▃▇▁▁▁▃▁▁▂▃▁▃</td></tr></table><br/></div><div class=\"wandb-col\"><h3>Run summary:</h3><br/><table class=\"wandb\"><tr><td>epoch</td><td>13</td></tr><tr><td>train_loss</td><td>587.62279</td></tr><tr><td>val_loss</td><td>861.51229</td></tr></table><br/></div></div>"
      ],
      "text/plain": [
       "<IPython.core.display.HTML object>"
      ]
     },
     "metadata": {},
     "output_type": "display_data"
    },
    {
     "data": {
      "text/html": [
       " View run <strong style=\"color:#cdcd00\">zesty-serenity-54</strong> at: <a href='https://wandb.ai/yixuan228-imperial-college-london/DE_Groupwork_G4_stage1/runs/rl9zoe0v' target=\"_blank\">https://wandb.ai/yixuan228-imperial-college-london/DE_Groupwork_G4_stage1/runs/rl9zoe0v</a><br> View project at: <a href='https://wandb.ai/yixuan228-imperial-college-london/DE_Groupwork_G4_stage1' target=\"_blank\">https://wandb.ai/yixuan228-imperial-college-london/DE_Groupwork_G4_stage1</a><br>Synced 5 W&B file(s), 0 media file(s), 0 artifact file(s) and 0 other file(s)"
      ],
      "text/plain": [
       "<IPython.core.display.HTML object>"
      ]
     },
     "metadata": {},
     "output_type": "display_data"
    },
    {
     "data": {
      "text/html": [
       "Find logs at: <code>.\\wandb\\run-20250320_140608-rl9zoe0v\\logs</code>"
      ],
      "text/plain": [
       "<IPython.core.display.HTML object>"
      ]
     },
     "metadata": {},
     "output_type": "display_data"
    },
    {
     "data": {
      "text/html": [
       "Tracking run with wandb version 0.19.7"
      ],
      "text/plain": [
       "<IPython.core.display.HTML object>"
      ]
     },
     "metadata": {},
     "output_type": "display_data"
    },
    {
     "data": {
      "text/html": [
       "Run data is saved locally in <code>d:\\Projects\\MSc_DE_GroupWork4\\Scripts\\wandb\\run-20250320_140619-rh17ffla</code>"
      ],
      "text/plain": [
       "<IPython.core.display.HTML object>"
      ]
     },
     "metadata": {},
     "output_type": "display_data"
    },
    {
     "data": {
      "text/html": [
       "Syncing run <strong><a href='https://wandb.ai/yixuan228-imperial-college-london/DE_Groupwork_G4_stage1/runs/rh17ffla' target=\"_blank\">vibrant-aardvark-55</a></strong> to <a href='https://wandb.ai/yixuan228-imperial-college-london/DE_Groupwork_G4_stage1' target=\"_blank\">Weights & Biases</a> (<a href='https://wandb.me/developer-guide' target=\"_blank\">docs</a>)<br>"
      ],
      "text/plain": [
       "<IPython.core.display.HTML object>"
      ]
     },
     "metadata": {},
     "output_type": "display_data"
    },
    {
     "data": {
      "text/html": [
       " View project at <a href='https://wandb.ai/yixuan228-imperial-college-london/DE_Groupwork_G4_stage1' target=\"_blank\">https://wandb.ai/yixuan228-imperial-college-london/DE_Groupwork_G4_stage1</a>"
      ],
      "text/plain": [
       "<IPython.core.display.HTML object>"
      ]
     },
     "metadata": {},
     "output_type": "display_data"
    },
    {
     "data": {
      "text/html": [
       " View run at <a href='https://wandb.ai/yixuan228-imperial-college-london/DE_Groupwork_G4_stage1/runs/rh17ffla' target=\"_blank\">https://wandb.ai/yixuan228-imperial-college-london/DE_Groupwork_G4_stage1/runs/rh17ffla</a>"
      ],
      "text/plain": [
       "<IPython.core.display.HTML object>"
      ]
     },
     "metadata": {},
     "output_type": "display_data"
    },
    {
     "name": "stdout",
     "output_type": "stream",
     "text": [
      "Epoch 001 | Train Loss: 8233.7840 | Val Loss: 883.4865\n",
      "Epoch 002 | Train Loss: 738.3696 | Val Loss: 863.5943\n",
      "Epoch 003 | Train Loss: 653.9065 | Val Loss: 663.6584\n",
      "Epoch 004 | Train Loss: 651.8443 | Val Loss: 635.8780\n",
      "Epoch 005 | Train Loss: 550.8949 | Val Loss: 779.2313\n",
      "Epoch 006 | Train Loss: 613.2379 | Val Loss: 557.5862\n",
      "Epoch 007 | Train Loss: 519.0568 | Val Loss: 675.1102\n",
      "Epoch 008 | Train Loss: 569.7691 | Val Loss: 550.7154\n",
      "Epoch 009 | Train Loss: 633.3032 | Val Loss: 717.9604\n",
      "Epoch 010 | Train Loss: 663.5494 | Val Loss: 614.6419\n",
      "Epoch 011 | Train Loss: 576.0694 | Val Loss: 510.8799\n",
      "Epoch 012 | Train Loss: 537.4515 | Val Loss: 2171.3943\n",
      "Epoch 013 | Train Loss: 598.3126 | Val Loss: 509.8925\n",
      "Epoch 014 | Train Loss: 528.1657 | Val Loss: 513.4237\n",
      "Epoch 015 | Train Loss: 483.6986 | Val Loss: 652.8787\n",
      "Epoch 016 | Train Loss: 489.0377 | Val Loss: 555.7426\n",
      "Epoch 017 | Train Loss: 481.1776 | Val Loss: 781.4253\n",
      "Epoch 018 | Train Loss: 576.0644 | Val Loss: 519.8757\n",
      "Early stopping triggered at epoch 18\n"
     ]
    },
    {
     "data": {
      "text/html": [],
      "text/plain": [
       "<IPython.core.display.HTML object>"
      ]
     },
     "metadata": {},
     "output_type": "display_data"
    },
    {
     "data": {
      "text/html": [
       "<br>    <style><br>        .wandb-row {<br>            display: flex;<br>            flex-direction: row;<br>            flex-wrap: wrap;<br>            justify-content: flex-start;<br>            width: 100%;<br>        }<br>        .wandb-col {<br>            display: flex;<br>            flex-direction: column;<br>            flex-basis: 100%;<br>            flex: 1;<br>            padding: 10px;<br>        }<br>    </style><br><div class=\"wandb-row\"><div class=\"wandb-col\"><h3>Run history:</h3><br/><table class=\"wandb\"><tr><td>epoch</td><td>▁▁▂▂▃▃▃▄▄▅▅▆▆▆▇▇██</td></tr><tr><td>train_loss</td><td>█▁▁▁▁▁▁▁▁▁▁▁▁▁▁▁▁▁</td></tr><tr><td>val_loss</td><td>▃▂▂▂▂▁▂▁▂▁▁█▁▁▂▁▂▁</td></tr></table><br/></div><div class=\"wandb-col\"><h3>Run summary:</h3><br/><table class=\"wandb\"><tr><td>epoch</td><td>18</td></tr><tr><td>train_loss</td><td>576.06437</td></tr><tr><td>val_loss</td><td>519.87574</td></tr></table><br/></div></div>"
      ],
      "text/plain": [
       "<IPython.core.display.HTML object>"
      ]
     },
     "metadata": {},
     "output_type": "display_data"
    },
    {
     "data": {
      "text/html": [
       " View run <strong style=\"color:#cdcd00\">vibrant-aardvark-55</strong> at: <a href='https://wandb.ai/yixuan228-imperial-college-london/DE_Groupwork_G4_stage1/runs/rh17ffla' target=\"_blank\">https://wandb.ai/yixuan228-imperial-college-london/DE_Groupwork_G4_stage1/runs/rh17ffla</a><br> View project at: <a href='https://wandb.ai/yixuan228-imperial-college-london/DE_Groupwork_G4_stage1' target=\"_blank\">https://wandb.ai/yixuan228-imperial-college-london/DE_Groupwork_G4_stage1</a><br>Synced 5 W&B file(s), 0 media file(s), 0 artifact file(s) and 0 other file(s)"
      ],
      "text/plain": [
       "<IPython.core.display.HTML object>"
      ]
     },
     "metadata": {},
     "output_type": "display_data"
    },
    {
     "data": {
      "text/html": [
       "Find logs at: <code>.\\wandb\\run-20250320_140619-rh17ffla\\logs</code>"
      ],
      "text/plain": [
       "<IPython.core.display.HTML object>"
      ]
     },
     "metadata": {},
     "output_type": "display_data"
    },
    {
     "data": {
      "text/html": [
       "Tracking run with wandb version 0.19.7"
      ],
      "text/plain": [
       "<IPython.core.display.HTML object>"
      ]
     },
     "metadata": {},
     "output_type": "display_data"
    },
    {
     "data": {
      "text/html": [
       "Run data is saved locally in <code>d:\\Projects\\MSc_DE_GroupWork4\\Scripts\\wandb\\run-20250320_140633-rpnohgzb</code>"
      ],
      "text/plain": [
       "<IPython.core.display.HTML object>"
      ]
     },
     "metadata": {},
     "output_type": "display_data"
    },
    {
     "data": {
      "text/html": [
       "Syncing run <strong><a href='https://wandb.ai/yixuan228-imperial-college-london/DE_Groupwork_G4_stage1/runs/rpnohgzb' target=\"_blank\">summer-oath-56</a></strong> to <a href='https://wandb.ai/yixuan228-imperial-college-london/DE_Groupwork_G4_stage1' target=\"_blank\">Weights & Biases</a> (<a href='https://wandb.me/developer-guide' target=\"_blank\">docs</a>)<br>"
      ],
      "text/plain": [
       "<IPython.core.display.HTML object>"
      ]
     },
     "metadata": {},
     "output_type": "display_data"
    },
    {
     "data": {
      "text/html": [
       " View project at <a href='https://wandb.ai/yixuan228-imperial-college-london/DE_Groupwork_G4_stage1' target=\"_blank\">https://wandb.ai/yixuan228-imperial-college-london/DE_Groupwork_G4_stage1</a>"
      ],
      "text/plain": [
       "<IPython.core.display.HTML object>"
      ]
     },
     "metadata": {},
     "output_type": "display_data"
    },
    {
     "data": {
      "text/html": [
       " View run at <a href='https://wandb.ai/yixuan228-imperial-college-london/DE_Groupwork_G4_stage1/runs/rpnohgzb' target=\"_blank\">https://wandb.ai/yixuan228-imperial-college-london/DE_Groupwork_G4_stage1/runs/rpnohgzb</a>"
      ],
      "text/plain": [
       "<IPython.core.display.HTML object>"
      ]
     },
     "metadata": {},
     "output_type": "display_data"
    },
    {
     "name": "stdout",
     "output_type": "stream",
     "text": [
      "Epoch 001 | Train Loss: 32314.8924 | Val Loss: 1760.8592\n",
      "Epoch 002 | Train Loss: 1247.3624 | Val Loss: 1027.6200\n",
      "Epoch 003 | Train Loss: 915.6032 | Val Loss: 855.5558\n",
      "Epoch 004 | Train Loss: 769.7672 | Val Loss: 788.8835\n",
      "Epoch 005 | Train Loss: 695.7646 | Val Loss: 735.1503\n",
      "Epoch 006 | Train Loss: 659.5577 | Val Loss: 704.4936\n",
      "Epoch 007 | Train Loss: 622.9921 | Val Loss: 695.4691\n",
      "Epoch 008 | Train Loss: 602.9774 | Val Loss: 658.7093\n",
      "Epoch 009 | Train Loss: 585.7243 | Val Loss: 641.4650\n",
      "Epoch 010 | Train Loss: 565.2314 | Val Loss: 646.0564\n",
      "Epoch 011 | Train Loss: 553.7483 | Val Loss: 660.4575\n",
      "Epoch 012 | Train Loss: 529.8454 | Val Loss: 603.0649\n",
      "Epoch 013 | Train Loss: 521.4603 | Val Loss: 599.2321\n",
      "Epoch 014 | Train Loss: 510.6683 | Val Loss: 638.6949\n",
      "Epoch 015 | Train Loss: 503.1981 | Val Loss: 575.0780\n",
      "Epoch 016 | Train Loss: 495.1181 | Val Loss: 568.1937\n",
      "Epoch 017 | Train Loss: 483.8572 | Val Loss: 560.1058\n",
      "Epoch 018 | Train Loss: 477.2654 | Val Loss: 533.4540\n",
      "Epoch 019 | Train Loss: 483.5680 | Val Loss: 578.8163\n",
      "Epoch 020 | Train Loss: 466.7659 | Val Loss: 572.9843\n",
      "Epoch 021 | Train Loss: 475.8129 | Val Loss: 524.8125\n",
      "Epoch 022 | Train Loss: 456.7881 | Val Loss: 537.8135\n",
      "Epoch 023 | Train Loss: 458.7060 | Val Loss: 522.3673\n",
      "Epoch 024 | Train Loss: 460.5506 | Val Loss: 529.8385\n",
      "Epoch 025 | Train Loss: 455.3556 | Val Loss: 548.8791\n",
      "Epoch 026 | Train Loss: 450.0988 | Val Loss: 522.6173\n",
      "Epoch 027 | Train Loss: 459.3173 | Val Loss: 514.8087\n",
      "Epoch 028 | Train Loss: 443.3513 | Val Loss: 507.3679\n",
      "Epoch 029 | Train Loss: 433.9800 | Val Loss: 509.0569\n",
      "Epoch 030 | Train Loss: 452.1246 | Val Loss: 496.7227\n",
      "Epoch 031 | Train Loss: 424.2840 | Val Loss: 503.0950\n",
      "Epoch 032 | Train Loss: 424.4853 | Val Loss: 484.4108\n",
      "Epoch 033 | Train Loss: 434.4546 | Val Loss: 500.9376\n",
      "Epoch 034 | Train Loss: 447.7582 | Val Loss: 643.4110\n",
      "Epoch 035 | Train Loss: 458.1958 | Val Loss: 483.7768\n",
      "Epoch 036 | Train Loss: 418.0718 | Val Loss: 563.6627\n",
      "Epoch 037 | Train Loss: 426.2594 | Val Loss: 479.9517\n",
      "Epoch 038 | Train Loss: 410.7542 | Val Loss: 483.3361\n",
      "Epoch 039 | Train Loss: 425.5184 | Val Loss: 478.2787\n",
      "Epoch 040 | Train Loss: 407.4939 | Val Loss: 528.8569\n",
      "Epoch 041 | Train Loss: 420.7464 | Val Loss: 485.7234\n",
      "Epoch 042 | Train Loss: 410.6580 | Val Loss: 488.1823\n",
      "Epoch 043 | Train Loss: 410.2038 | Val Loss: 477.1905\n",
      "Epoch 044 | Train Loss: 397.5437 | Val Loss: 472.7238\n",
      "Epoch 045 | Train Loss: 400.9035 | Val Loss: 472.6056\n",
      "Epoch 046 | Train Loss: 398.0663 | Val Loss: 472.4556\n",
      "Epoch 047 | Train Loss: 397.9466 | Val Loss: 456.5515\n",
      "Epoch 048 | Train Loss: 394.7870 | Val Loss: 473.3847\n",
      "Epoch 049 | Train Loss: 394.5671 | Val Loss: 463.9097\n",
      "Epoch 050 | Train Loss: 389.1415 | Val Loss: 479.3120\n",
      "Epoch 051 | Train Loss: 394.7809 | Val Loss: 590.8971\n",
      "Epoch 052 | Train Loss: 397.9844 | Val Loss: 462.2038\n",
      "Early stopping triggered at epoch 52\n"
     ]
    },
    {
     "data": {
      "text/html": [],
      "text/plain": [
       "<IPython.core.display.HTML object>"
      ]
     },
     "metadata": {},
     "output_type": "display_data"
    },
    {
     "data": {
      "text/html": [
       "<br>    <style><br>        .wandb-row {<br>            display: flex;<br>            flex-direction: row;<br>            flex-wrap: wrap;<br>            justify-content: flex-start;<br>            width: 100%;<br>        }<br>        .wandb-col {<br>            display: flex;<br>            flex-direction: column;<br>            flex-basis: 100%;<br>            flex: 1;<br>            padding: 10px;<br>        }<br>    </style><br><div class=\"wandb-row\"><div class=\"wandb-col\"><h3>Run history:</h3><br/><table class=\"wandb\"><tr><td>epoch</td><td>▁▁▁▁▂▂▂▂▂▃▃▃▃▃▃▄▄▄▄▄▅▅▅▅▅▅▅▆▆▆▆▆▇▇▇▇▇▇██</td></tr><tr><td>train_loss</td><td>█▁▁▁▁▁▁▁▁▁▁▁▁▁▁▁▁▁▁▁▁▁▁▁▁▁▁▁▁▁▁▁▁▁▁▁▁▁▁▁</td></tr><tr><td>val_loss</td><td>█▇▆▅▅▄▄▅▄▃▃▃▃▂▃▂▂▂▂▃▂▂▂▂▂▂▄▁▃▁▁▂▁▁▁▁▁▁▁▁</td></tr></table><br/></div><div class=\"wandb-col\"><h3>Run summary:</h3><br/><table class=\"wandb\"><tr><td>epoch</td><td>52</td></tr><tr><td>train_loss</td><td>397.98443</td></tr><tr><td>val_loss</td><td>462.20385</td></tr></table><br/></div></div>"
      ],
      "text/plain": [
       "<IPython.core.display.HTML object>"
      ]
     },
     "metadata": {},
     "output_type": "display_data"
    },
    {
     "data": {
      "text/html": [
       " View run <strong style=\"color:#cdcd00\">summer-oath-56</strong> at: <a href='https://wandb.ai/yixuan228-imperial-college-london/DE_Groupwork_G4_stage1/runs/rpnohgzb' target=\"_blank\">https://wandb.ai/yixuan228-imperial-college-london/DE_Groupwork_G4_stage1/runs/rpnohgzb</a><br> View project at: <a href='https://wandb.ai/yixuan228-imperial-college-london/DE_Groupwork_G4_stage1' target=\"_blank\">https://wandb.ai/yixuan228-imperial-college-london/DE_Groupwork_G4_stage1</a><br>Synced 5 W&B file(s), 0 media file(s), 0 artifact file(s) and 0 other file(s)"
      ],
      "text/plain": [
       "<IPython.core.display.HTML object>"
      ]
     },
     "metadata": {},
     "output_type": "display_data"
    },
    {
     "data": {
      "text/html": [
       "Find logs at: <code>.\\wandb\\run-20250320_140633-rpnohgzb\\logs</code>"
      ],
      "text/plain": [
       "<IPython.core.display.HTML object>"
      ]
     },
     "metadata": {},
     "output_type": "display_data"
    },
    {
     "name": "stdout",
     "output_type": "stream",
     "text": [
      "Training complete for all configurations.\n"
     ]
    }
   ],
   "source": [
    "from itertools import product\n",
    "import torch.optim as optim\n",
    "\n",
    "for hidden_units, hidden_layers, lr in product(hidden_units_options, hidden_layers_options, learning_rates):\n",
    "\n",
    "    # Configurations\n",
    "    config = {\n",
    "        \"hidden_units\": hidden_units,\n",
    "        \"hidden_layers\": hidden_layers,\n",
    "        \"learning_rate\": lr,\n",
    "        \"max_epochs\": max_epochs,\n",
    "        \"patience\": patience\n",
    "    }\n",
    "\n",
    "    # Start a new W&B run for each configuration\n",
    "    wandb.init(project='DE_Groupwork_G4_stage1', config=config, reinit=True)\n",
    "\n",
    "    model = MultiLayerPerceptron(input_size=input_size, \n",
    "                             hidden_size=config[\"hidden_units\"], \n",
    "                             num_layers=config[\"hidden_layers\"], \n",
    "                             output_size=1).to(device)\n",
    "\n",
    "\n",
    "    criterion = nn.MSELoss() \n",
    "    optimizer = optim.Adam(model.parameters(), lr=lr)\n",
    "\n",
    "    best_val_loss = float('inf')\n",
    "    epochs_without_improvement = 0\n",
    "        \n",
    "    for epoch in range(1, max_epochs + 1):\n",
    "        train_loss = train_epoch(model, train_Loader, criterion, optimizer, device)\n",
    "       \n",
    "        val_loss = val_epoch(model, val_Loader, criterion, device)\n",
    "\n",
    "        # Log metrics to W&B\n",
    "        wandb.log({\"epoch\": epoch, \"train_loss\": train_loss, \"val_loss\": val_loss})\n",
    "        \n",
    "        print(f\"Epoch {epoch:03d} | Train Loss: {train_loss:.4f} | Val Loss: {val_loss:.4f}\")\n",
    "        \n",
    "        # Early stopping check\n",
    "        if val_loss < best_val_loss:\n",
    "            best_val_loss = val_loss\n",
    "            epochs_without_improvement = 0\n",
    "        else:\n",
    "            epochs_without_improvement += 1\n",
    "            \n",
    "        if epochs_without_improvement >= patience:\n",
    "            print(f\"Early stopping triggered at epoch {epoch}\")\n",
    "            break\n",
    "\n",
    "    wandb.finish()\n",
    "\n",
    "print(\"Training complete for all configurations.\")\n"
   ]
  },
  {
   "cell_type": "markdown",
   "metadata": {},
   "source": [
    "Visualization of each Search"
   ]
  },
  {
   "cell_type": "code",
   "execution_count": 18,
   "metadata": {},
   "outputs": [
    {
     "data": {
      "image/png": "[encoded data removed]",
      "text/plain": [
       "<Figure size 1200x600 with 1 Axes>"
      ]
     },
     "metadata": {},
     "output_type": "display_data"
    }
   ],
   "source": [
    "import matplotlib.pyplot as plt\n",
    "import matplotlib.image as mpimg\n",
    "\n",
    "image_path = \"S1_NN_loss.png\"\n",
    "img = mpimg.imread(image_path)\n",
    "\n",
    "plt.figure(figsize=(12, 6))\n",
    "plt.imshow(img)\n",
    "plt.axis(\"off\")\n",
    "plt.show()"
   ]
  },
  {
   "cell_type": "code",
   "execution_count": 19,
   "metadata": {},
   "outputs": [],
   "source": [
    "import wandb\n",
    "import os\n",
    "\n",
    "api = wandb.Api()\n",
    "\n",
    "project_path = \"yixuan228-imperial-college-london/DE_Groupwork G4\"\n",
    "runs = api.runs(project_path)  # Get all the runs\n",
    "\n",
    "# save_dir = \"wandb_artifacts\"\n",
    "# os.makedirs(save_dir, exist_ok=True)"
   ]
  },
  {
   "cell_type": "markdown",
   "metadata": {},
   "source": [
    "### Save all the model config"
   ]
  },
  {
   "cell_type": "code",
   "execution_count": 20,
   "metadata": {},
   "outputs": [],
   "source": [
    "ls_summary, ls_config = [], []\n",
    "\n",
    "best_run = None\n",
    "best_val_loss = float('inf')\n",
    "\n",
    "ls_config = [run.config for run in runs]\n",
    "ls_summary = [run.summary._json_dict for run in runs]\n"
   ]
  },
  {
   "cell_type": "code",
   "execution_count": 21,
   "metadata": {},
   "outputs": [
    {
     "data": {
      "text/html": [
       "Tracking run with wandb version 0.19.7"
      ],
      "text/plain": [
       "<IPython.core.display.HTML object>"
      ]
     },
     "metadata": {},
     "output_type": "display_data"
    },
    {
     "data": {
      "text/html": [
       "Run data is saved locally in <code>d:\\Projects\\MSc_DE_GroupWork4\\Scripts\\wandb\\run-20250320_140717-9jo3utd7</code>"
      ],
      "text/plain": [
       "<IPython.core.display.HTML object>"
      ]
     },
     "metadata": {},
     "output_type": "display_data"
    },
    {
     "data": {
      "text/html": [
       "Syncing run <strong><a href='https://wandb.ai/yixuan228-imperial-college-london/DE_Groupwork_G4_stage1/runs/9jo3utd7' target=\"_blank\">daily-salad-57</a></strong> to <a href='https://wandb.ai/yixuan228-imperial-college-london/DE_Groupwork_G4_stage1' target=\"_blank\">Weights & Biases</a> (<a href='https://wandb.me/developer-guide' target=\"_blank\">docs</a>)<br>"
      ],
      "text/plain": [
       "<IPython.core.display.HTML object>"
      ]
     },
     "metadata": {},
     "output_type": "display_data"
    },
    {
     "data": {
      "text/html": [
       " View project at <a href='https://wandb.ai/yixuan228-imperial-college-london/DE_Groupwork_G4_stage1' target=\"_blank\">https://wandb.ai/yixuan228-imperial-college-london/DE_Groupwork_G4_stage1</a>"
      ],
      "text/plain": [
       "<IPython.core.display.HTML object>"
      ]
     },
     "metadata": {},
     "output_type": "display_data"
    },
    {
     "data": {
      "text/html": [
       " View run at <a href='https://wandb.ai/yixuan228-imperial-college-london/DE_Groupwork_G4_stage1/runs/9jo3utd7' target=\"_blank\">https://wandb.ai/yixuan228-imperial-college-london/DE_Groupwork_G4_stage1/runs/9jo3utd7</a>"
      ],
      "text/plain": [
       "<IPython.core.display.HTML object>"
      ]
     },
     "metadata": {},
     "output_type": "display_data"
    }
   ],
   "source": [
    "import wandb\n",
    "import torch\n",
    "\n",
    "wandb.init(project='DE_Groupwork_G4_stage1')\n",
    "\n",
    "# 获取所有 runs\n",
    "api = wandb.Api()\n",
    "runs = api.runs(\"DE_Groupwork_G4_stage1\")\n",
    "\n",
    "# 找到最优模型（根据最低 val_loss）\n",
    "best_run = min(runs, key=lambda run: run.summary.get(\"best_val_loss\", float(\"inf\")))\n",
    "\n",
    "\n"
   ]
  },
  {
   "cell_type": "markdown",
   "metadata": {},
   "source": [
    "### Select the best model"
   ]
  },
  {
   "cell_type": "code",
   "execution_count": 22,
   "metadata": {},
   "outputs": [
    {
     "name": "stdout",
     "output_type": "stream",
     "text": [
      "\n",
      "Best Model Found:\n",
      "Run ID: rpnohgzb, Name: summer-oath-56, State: finished\n",
      "Lowest Validation Loss: 462.2038497537526\n",
      "\n",
      "Best Model Hyperparameters (config):\n",
      "   patience: 5\n",
      "   max_epochs: 200\n",
      "   hidden_units: 128\n",
      "   hidden_layers: 4\n",
      "   learning_rate: 0.001\n",
      "\n",
      "Best Model Final Metrics (summary):\n",
      "   _runtime: 32.3245175\n",
      "   _step: 51\n",
      "   _timestamp: 1742479625.7614367\n",
      "   _wandb: {'runtime': 32}\n",
      "   epoch: 52\n",
      "   train_loss: 397.9844270268172\n",
      "   val_loss: 462.2038497537526\n"
     ]
    }
   ],
   "source": [
    "best_run = None\n",
    "best_loss = float(\"inf\")  \n",
    "\n",
    "for run in runs:\n",
    "    # print(run.summary.keys())\n",
    "    if \"val_loss\" in run.summary:  \n",
    "        loss = run.summary[\"val_loss\"]\n",
    "        if loss < best_loss:  # best model with least loss\n",
    "            best_loss = loss\n",
    "            best_run = run\n",
    "\n",
    "# Best model hyparparameters\n",
    "if best_run:\n",
    "    print(\"\\nBest Model Found:\")\n",
    "    print(f\"Run ID: {best_run.id}, Name: {best_run.name}, State: {best_run.state}\")\n",
    "    print(f\"Lowest Validation Loss: {best_loss}\")\n",
    "\n",
    "    print(\"\\nBest Model Hyperparameters (config):\")\n",
    "    for key, value in best_run.config.items():\n",
    "        print(f\"   {key}: {value}\")\n",
    "\n",
    "    print(\"\\nBest Model Final Metrics (summary):\")\n",
    "    for key, value in best_run.summary.items():\n",
    "        print(f\"   {key}: {value}\")\n",
    "else:\n",
    "    print(\"No valid runs found with 'loss' metric.\")\n",
    "\n"
   ]
  },
  {
   "cell_type": "code",
   "execution_count": 23,
   "metadata": {},
   "outputs": [
    {
     "ename": "CommError",
     "evalue": "HTTP 404: file rpnohgzb/best_model.pth not found while downloading file",
     "output_type": "error",
     "traceback": [
      "\u001b[1;31m---------------------------------------------------------------------------\u001b[0m",
      "\u001b[1;31mHTTPError\u001b[0m                                 Traceback (most recent call last)",
      "File \u001b[1;32md:\\Software\\Anaconda3\\envs\\de_w6_rl\\Lib\\site-packages\\wandb\\apis\\normalize.py:25\u001b[0m, in \u001b[0;36mnormalize_exceptions.<locals>.wrapper\u001b[1;34m(*args, **kwargs)\u001b[0m\n\u001b[0;32m     24\u001b[0m \u001b[38;5;28;01mtry\u001b[39;00m:\n\u001b[1;32m---> 25\u001b[0m     \u001b[38;5;28;01mreturn\u001b[39;00m \u001b[43mfunc\u001b[49m\u001b[43m(\u001b[49m\u001b[38;5;241;43m*\u001b[39;49m\u001b[43margs\u001b[49m\u001b[43m,\u001b[49m\u001b[43m \u001b[49m\u001b[38;5;241;43m*\u001b[39;49m\u001b[38;5;241;43m*\u001b[39;49m\u001b[43mkwargs\u001b[49m\u001b[43m)\u001b[49m\n\u001b[0;32m     27\u001b[0m \u001b[38;5;28;01mexcept\u001b[39;00m requests\u001b[38;5;241m.\u001b[39mHTTPError \u001b[38;5;28;01mas\u001b[39;00m error:\n",
      "File \u001b[1;32md:\\Software\\Anaconda3\\envs\\de_w6_rl\\Lib\\site-packages\\wandb\\sdk\\lib\\retry.py:215\u001b[0m, in \u001b[0;36mretriable.<locals>.decorator.<locals>.wrapped_fn\u001b[1;34m(*args, **kargs)\u001b[0m\n\u001b[0;32m    213\u001b[0m \u001b[38;5;129m@functools\u001b[39m\u001b[38;5;241m.\u001b[39mwraps(fn)\n\u001b[0;32m    214\u001b[0m \u001b[38;5;28;01mdef\u001b[39;00m\u001b[38;5;250m \u001b[39m\u001b[38;5;21mwrapped_fn\u001b[39m(\u001b[38;5;241m*\u001b[39margs: Any, \u001b[38;5;241m*\u001b[39m\u001b[38;5;241m*\u001b[39mkargs: Any) \u001b[38;5;241m-\u001b[39m\u001b[38;5;241m>\u001b[39m Any:\n\u001b[1;32m--> 215\u001b[0m     \u001b[38;5;28;01mreturn\u001b[39;00m \u001b[43mretrier\u001b[49m\u001b[43m(\u001b[49m\u001b[38;5;241;43m*\u001b[39;49m\u001b[43margs\u001b[49m\u001b[43m,\u001b[49m\u001b[43m \u001b[49m\u001b[38;5;241;43m*\u001b[39;49m\u001b[38;5;241;43m*\u001b[39;49m\u001b[43mkargs\u001b[49m\u001b[43m)\u001b[49m\n",
      "File \u001b[1;32md:\\Software\\Anaconda3\\envs\\de_w6_rl\\Lib\\site-packages\\wandb\\sdk\\lib\\retry.py:134\u001b[0m, in \u001b[0;36mRetry.__call__\u001b[1;34m(self, *args, **kwargs)\u001b[0m\n\u001b[0;32m    133\u001b[0m \u001b[38;5;28;01mtry\u001b[39;00m:\n\u001b[1;32m--> 134\u001b[0m     result \u001b[38;5;241m=\u001b[39m \u001b[38;5;28;43mself\u001b[39;49m\u001b[38;5;241;43m.\u001b[39;49m\u001b[43m_call_fn\u001b[49m\u001b[43m(\u001b[49m\u001b[38;5;241;43m*\u001b[39;49m\u001b[43margs\u001b[49m\u001b[43m,\u001b[49m\u001b[43m \u001b[49m\u001b[38;5;241;43m*\u001b[39;49m\u001b[38;5;241;43m*\u001b[39;49m\u001b[43mkwargs\u001b[49m\u001b[43m)\u001b[49m\n\u001b[0;32m    135\u001b[0m     \u001b[38;5;66;03m# Only print resolved attempts once every minute\u001b[39;00m\n",
      "File \u001b[1;32md:\\Software\\Anaconda3\\envs\\de_w6_rl\\Lib\\site-packages\\wandb\\apis\\public\\files.py:190\u001b[0m, in \u001b[0;36mFile.download\u001b[1;34m(self, root, replace, exist_ok, api)\u001b[0m\n\u001b[0;32m    186\u001b[0m         \u001b[38;5;28;01mraise\u001b[39;00m \u001b[38;5;167;01mValueError\u001b[39;00m(\n\u001b[0;32m    187\u001b[0m             \u001b[38;5;124m\"\u001b[39m\u001b[38;5;124mFile already exists, pass replace=True to overwrite or exist_ok=True to leave it as is and don\u001b[39m\u001b[38;5;124m'\u001b[39m\u001b[38;5;124mt error.\u001b[39m\u001b[38;5;124m\"\u001b[39m\n\u001b[0;32m    188\u001b[0m         )\n\u001b[1;32m--> 190\u001b[0m \u001b[43mutil\u001b[49m\u001b[38;5;241;43m.\u001b[39;49m\u001b[43mdownload_file_from_url\u001b[49m\u001b[43m(\u001b[49m\u001b[43mpath\u001b[49m\u001b[43m,\u001b[49m\u001b[43m \u001b[49m\u001b[38;5;28;43mself\u001b[39;49m\u001b[38;5;241;43m.\u001b[39;49m\u001b[43murl\u001b[49m\u001b[43m,\u001b[49m\u001b[43m \u001b[49m\u001b[43mapi\u001b[49m\u001b[38;5;241;43m.\u001b[39;49m\u001b[43mapi_key\u001b[49m\u001b[43m)\u001b[49m\n\u001b[0;32m    191\u001b[0m \u001b[38;5;28;01mreturn\u001b[39;00m \u001b[38;5;28mopen\u001b[39m(path)\n",
      "File \u001b[1;32md:\\Software\\Anaconda3\\envs\\de_w6_rl\\Lib\\site-packages\\wandb\\util.py:1360\u001b[0m, in \u001b[0;36mdownload_file_from_url\u001b[1;34m(dest_path, source_url, api_key)\u001b[0m\n\u001b[0;32m   1352\u001b[0m response \u001b[38;5;241m=\u001b[39m requests\u001b[38;5;241m.\u001b[39mget(\n\u001b[0;32m   1353\u001b[0m     source_url,\n\u001b[0;32m   1354\u001b[0m     auth\u001b[38;5;241m=\u001b[39mauth,\n\u001b[1;32m   (...)\u001b[0m\n\u001b[0;32m   1358\u001b[0m     timeout\u001b[38;5;241m=\u001b[39m\u001b[38;5;241m5\u001b[39m,\n\u001b[0;32m   1359\u001b[0m )\n\u001b[1;32m-> 1360\u001b[0m \u001b[43mresponse\u001b[49m\u001b[38;5;241;43m.\u001b[39;49m\u001b[43mraise_for_status\u001b[49m\u001b[43m(\u001b[49m\u001b[43m)\u001b[49m\n\u001b[0;32m   1362\u001b[0m \u001b[38;5;28;01mif\u001b[39;00m os\u001b[38;5;241m.\u001b[39msep \u001b[38;5;129;01min\u001b[39;00m dest_path:\n",
      "File \u001b[1;32md:\\Software\\Anaconda3\\envs\\de_w6_rl\\Lib\\site-packages\\requests\\models.py:1024\u001b[0m, in \u001b[0;36mResponse.raise_for_status\u001b[1;34m(self)\u001b[0m\n\u001b[0;32m   1023\u001b[0m \u001b[38;5;28;01mif\u001b[39;00m http_error_msg:\n\u001b[1;32m-> 1024\u001b[0m     \u001b[38;5;28;01mraise\u001b[39;00m HTTPError(http_error_msg, response\u001b[38;5;241m=\u001b[39m\u001b[38;5;28mself\u001b[39m)\n",
      "\u001b[1;31mHTTPError\u001b[0m: 404 Client Error: Not Found for url: https://api.wandb.ai/files/yixuan228-imperial-college-london/DE_Groupwork_G4_stage1/rpnohgzb/best_model.pth",
      "\nDuring handling of the above exception, another exception occurred:\n",
      "\u001b[1;31mCommError\u001b[0m                                 Traceback (most recent call last)",
      "Cell \u001b[1;32mIn[23], line 3\u001b[0m\n\u001b[0;32m      1\u001b[0m \u001b[38;5;66;03m# 下载最优模型\u001b[39;00m\n\u001b[0;32m      2\u001b[0m best_model_path \u001b[38;5;241m=\u001b[39m \u001b[38;5;124m\"\u001b[39m\u001b[38;5;124mbest_model.pth\u001b[39m\u001b[38;5;124m\"\u001b[39m\n\u001b[1;32m----> 3\u001b[0m \u001b[43mbest_run\u001b[49m\u001b[38;5;241;43m.\u001b[39;49m\u001b[43mfile\u001b[49m\u001b[43m(\u001b[49m\u001b[43mbest_model_path\u001b[49m\u001b[43m)\u001b[49m\u001b[38;5;241;43m.\u001b[39;49m\u001b[43mdownload\u001b[49m\u001b[43m(\u001b[49m\u001b[43mreplace\u001b[49m\u001b[38;5;241;43m=\u001b[39;49m\u001b[38;5;28;43;01mTrue\u001b[39;49;00m\u001b[43m)\u001b[49m\n\u001b[0;32m      5\u001b[0m \u001b[38;5;66;03m# 加载模型\u001b[39;00m\n\u001b[0;32m      6\u001b[0m model \u001b[38;5;241m=\u001b[39m MultiLayerPerceptron(input_size\u001b[38;5;241m=\u001b[39minput_size,\n\u001b[0;32m      7\u001b[0m                              hidden_size\u001b[38;5;241m=\u001b[39mbest_run\u001b[38;5;241m.\u001b[39mconfig[\u001b[38;5;124m\"\u001b[39m\u001b[38;5;124mhidden_units\u001b[39m\u001b[38;5;124m\"\u001b[39m],\n\u001b[0;32m      8\u001b[0m                              num_layers\u001b[38;5;241m=\u001b[39mbest_run\u001b[38;5;241m.\u001b[39mconfig[\u001b[38;5;124m\"\u001b[39m\u001b[38;5;124mhidden_layers\u001b[39m\u001b[38;5;124m\"\u001b[39m],\n\u001b[0;32m      9\u001b[0m                              output_size\u001b[38;5;241m=\u001b[39m\u001b[38;5;241m1\u001b[39m)\u001b[38;5;241m.\u001b[39mto(device)\n",
      "File \u001b[1;32md:\\Software\\Anaconda3\\envs\\de_w6_rl\\Lib\\site-packages\\wandb\\apis\\normalize.py:42\u001b[0m, in \u001b[0;36mnormalize_exceptions.<locals>.wrapper\u001b[1;34m(*args, **kwargs)\u001b[0m\n\u001b[0;32m     39\u001b[0m     \u001b[38;5;28;01melse\u001b[39;00m:\n\u001b[0;32m     40\u001b[0m         message \u001b[38;5;241m=\u001b[39m \u001b[38;5;124mf\u001b[39m\u001b[38;5;124m\"\u001b[39m\u001b[38;5;124mHTTP \u001b[39m\u001b[38;5;132;01m{\u001b[39;00mstatus\u001b[38;5;132;01m}\u001b[39;00m\u001b[38;5;124m\"\u001b[39m\n\u001b[1;32m---> 42\u001b[0m     \u001b[38;5;28;01mraise\u001b[39;00m CommError(message, error)\n\u001b[0;32m     44\u001b[0m \u001b[38;5;28;01mexcept\u001b[39;00m RetryError \u001b[38;5;28;01mas\u001b[39;00m err:\n\u001b[0;32m     45\u001b[0m     \u001b[38;5;28;01mif\u001b[39;00m (\n\u001b[0;32m     46\u001b[0m         \u001b[38;5;124m\"\u001b[39m\u001b[38;5;124mresponse\u001b[39m\u001b[38;5;124m\"\u001b[39m \u001b[38;5;129;01min\u001b[39;00m \u001b[38;5;28mdir\u001b[39m(err\u001b[38;5;241m.\u001b[39mlast_exception)\n\u001b[0;32m     47\u001b[0m         \u001b[38;5;129;01mand\u001b[39;00m err\u001b[38;5;241m.\u001b[39mlast_exception\u001b[38;5;241m.\u001b[39mresponse \u001b[38;5;129;01mis\u001b[39;00m \u001b[38;5;129;01mnot\u001b[39;00m \u001b[38;5;28;01mNone\u001b[39;00m\n\u001b[0;32m     48\u001b[0m     ):\n",
      "\u001b[1;31mCommError\u001b[0m: HTTP 404: file rpnohgzb/best_model.pth not found while downloading file"
     ]
    }
   ],
   "source": [
    "# 下载最优模型\n",
    "best_model_path = \"best_model.pth\"\n",
    "best_run.file(best_model_path).download(replace=True)\n",
    "\n",
    "# 加载模型\n",
    "model = MultiLayerPerceptron(input_size=input_size,\n",
    "                             hidden_size=best_run.config[\"hidden_units\"],\n",
    "                             num_layers=best_run.config[\"hidden_layers\"],\n",
    "                             output_size=1).to(device)\n",
    "model.load_state_dict(torch.load(best_model_path))\n",
    "\n",
    "wandb.finish()\n",
    "\n",
    "print(\"Best model loaded successfully!\")"
   ]
  },
  {
   "cell_type": "markdown",
   "metadata": {},
   "source": [
    "## Conclusion"
   ]
  },
  {
   "cell_type": "markdown",
   "metadata": {},
   "source": [
    "Using Nueral Network Models is a good way to predict the CO2 emssions based on the features given. After using W&B to grid search the hyperparameters grid, the best model is chosen based on the metric of validation loss.\n",
    "\n",
    "The best model parameters are listed below:\n",
    "\n",
    "**Hyperparameter**:\\\n",
    "    patience: 5\\\n",
    "    max_epochs: 200\\\n",
    "    hidden_units: 64\\\n",
    "    hidden_layers: 2\\\n",
    "    learning_rate: 0.001\n",
    "\n",
    "**Running Performance:**\\\n",
    "    epoch: 118\\\n",
    "    Training loss: 8.823451982218003\\\n",
    "    Validation loss: 8.600484386515094\n",
    "\n",
    "\n"
   ]
  },
  {
   "cell_type": "markdown",
   "metadata": {},
   "source": [
    "## Best Model Using K-fold Validation "
   ]
  },
  {
   "cell_type": "code",
   "execution_count": null,
   "metadata": {},
   "outputs": [],
   "source": []
  }
 ],
 "metadata": {
  "kernelspec": {
   "display_name": "de_w6_rl",
   "language": "python",
   "name": "python3"
  },
  "language_info": {
   "codemirror_mode": {
    "name": "ipython",
    "version": 3
   },
   "file_extension": ".py",
   "mimetype": "text/x-python",
   "name": "python",
   "nbconvert_exporter": "python",
   "pygments_lexer": "ipython3",
   "version": "3.12.9"
  }
 },
 "nbformat": 4,
 "nbformat_minor": 2
}
