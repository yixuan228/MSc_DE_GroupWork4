{
 "cells": [
  {
   "cell_type": "markdown",
   "id": "0749e7cf",
   "metadata": {},
   "source": [
    "# Notebook1 Prepare Dataset"
   ]
  },
  {
   "cell_type": "markdown",
   "id": "b234abb9",
   "metadata": {},
   "source": [
    "Readme: In this notebook, CO2 Emission data is preprocessed, and two types of dataset are saved for the following two work streams.\n",
    "\n",
    "- **Content in this notebook:** Data Processing\n",
    "\n",
    "    - Feature Engineering: Divide two Features: `Transmission` and `Model`\n",
    "\n",
    "    - Data Encoding: Change all the categorical variable into dummy variable\n",
    "\n",
    "    - Dataset Division: Split the two dataset into train and test dataset (set random seeed to maintain reprocducibility)\n",
    "\n",
    "    - Dataset Saving: Save the four files: dataset1-train, dataset1-test, dataset2-train, dataset2-test.\n",
    "\n",
    "- **Input/Output of this notebook:**\n",
    "\n",
    "     - Input: *CO2 Emissions_Canada.csv*\n",
    "\n",
    "     - Output: four csv files: \n",
    "     \n",
    "        *Dataset1_train.csv*, *Dataset1_test.csv*,\n",
    "        \n",
    "        *Dataset2_train.csv*, *Dataset2_test.csv*\n",
    "\n",
    "Note: In this part, data standerdization is not included. "
   ]
  },
  {
   "cell_type": "markdown",
   "id": "29be441d",
   "metadata": {},
   "source": [
    "## Import Modules"
   ]
  },
  {
   "cell_type": "code",
   "execution_count": 29,
   "id": "4d8c4062-b302-47a1-8f46-350dbf4c0794",
   "metadata": {
    "execution": {
     "iopub.execute_input": "2025-03-14T12:41:47.698229Z",
     "iopub.status.busy": "2025-03-14T12:41:47.697802Z",
     "iopub.status.idle": "2025-03-14T12:41:49.406564Z",
     "shell.execute_reply": "2025-03-14T12:41:49.405835Z",
     "shell.execute_reply.started": "2025-03-14T12:41:47.698186Z"
    }
   },
   "outputs": [],
   "source": [
    "import numpy as np\n",
    "import pandas as pd\n",
    "import matplotlib.pyplot as plt\n",
    "import seaborn as sns\n",
    "\n",
    "plt.style.use('fivethirtyeight')\n",
    "%config InlineBackend.figure_format = 'retina'\n",
    "%matplotlib inline"
   ]
  },
  {
   "cell_type": "markdown",
   "id": "acf01d75-1a7e-4788-a54a-cc4e9a6c4bf1",
   "metadata": {},
   "source": [
    "## Import Data"
   ]
  },
  {
   "cell_type": "code",
   "execution_count": 30,
   "id": "89d23ce3-1340-4cc4-9643-e36de6668b16",
   "metadata": {
    "execution": {
     "iopub.execute_input": "2025-03-14T12:42:17.763028Z",
     "iopub.status.busy": "2025-03-14T12:42:17.762620Z",
     "iopub.status.idle": "2025-03-14T12:42:17.795165Z",
     "shell.execute_reply": "2025-03-14T12:42:17.794385Z",
     "shell.execute_reply.started": "2025-03-14T12:42:17.762997Z"
    }
   },
   "outputs": [
    {
     "data": {
      "text/plain": [
       "(7385, 12)"
      ]
     },
     "execution_count": 30,
     "metadata": {},
     "output_type": "execute_result"
    }
   ],
   "source": [
    "df_co2 = pd.read_csv('CO2 Emissions_Canada.csv')\n",
    "df_co2.head(3)\n",
    "df_co2.shape # (7385, 12)"
   ]
  },
  {
   "cell_type": "markdown",
   "id": "04ac65b0",
   "metadata": {},
   "source": [
    "## Feature Manipulation"
   ]
  },
  {
   "cell_type": "markdown",
   "id": "97d40f13",
   "metadata": {},
   "source": [
    "### Drop Nature Gas Types"
   ]
  },
  {
   "cell_type": "markdown",
   "id": "3ea8f32f",
   "metadata": {},
   "source": [
    "We decide that Nature Gas Type is not included in the following analysis."
   ]
  },
  {
   "cell_type": "code",
   "execution_count": 31,
   "id": "b0760709",
   "metadata": {},
   "outputs": [
    {
     "data": {
      "text/plain": [
       "(7384, 12)"
      ]
     },
     "execution_count": 31,
     "metadata": {},
     "output_type": "execute_result"
    }
   ],
   "source": [
    "df_co2 = df_co2[df_co2[\"Fuel Type\"] != \"N\"]\n",
    "df_co2.shape # (7385, 12)"
   ]
  },
  {
   "cell_type": "markdown",
   "id": "ec8c25a7-4464-4ec2-aa6e-4fb5dd8bd521",
   "metadata": {},
   "source": [
    "### Transmission Feature Split"
   ]
  },
  {
   "cell_type": "code",
   "execution_count": 32,
   "id": "60ffb895-6747-4fb2-902b-b86b3d154526",
   "metadata": {
    "execution": {
     "iopub.execute_input": "2025-03-14T12:42:35.012603Z",
     "iopub.status.busy": "2025-03-14T12:42:35.012265Z",
     "iopub.status.idle": "2025-03-14T12:42:35.017348Z",
     "shell.execute_reply": "2025-03-14T12:42:35.016709Z",
     "shell.execute_reply.started": "2025-03-14T12:42:35.012579Z"
    }
   },
   "outputs": [],
   "source": [
    "def gearbox_type(data):\n",
    "    Automatic = \"A\"\n",
    "    Manual = \"M\"\n",
    "    encoded = 9999\n",
    "    if Automatic in data:\n",
    "        encoded = 1\n",
    "    if Manual in data:\n",
    "        encoded = 0\n",
    "    return encoded\n",
    "\n",
    "def gear_number(data):\n",
    "    encoded = 9999\n",
    "    number = list(data)[-1]\n",
    "    no_change_needed = list(\"456789\")\n",
    "    if number in no_change_needed:\n",
    "        return float(number)\n",
    "    elif number in \"0\":\n",
    "        return 10.0\n",
    "    elif number in \"V\":\n",
    "        return float(1926/281)\n",
    "    else:\n",
    "        return encoded"
   ]
  },
  {
   "cell_type": "code",
   "execution_count": 33,
   "id": "826d5d75-c00d-455e-81b4-8e28508efc82",
   "metadata": {
    "execution": {
     "iopub.execute_input": "2025-03-14T12:42:35.616405Z",
     "iopub.status.busy": "2025-03-14T12:42:35.615982Z",
     "iopub.status.idle": "2025-03-14T12:42:35.635496Z",
     "shell.execute_reply": "2025-03-14T12:42:35.634861Z",
     "shell.execute_reply.started": "2025-03-14T12:42:35.616365Z"
    }
   },
   "outputs": [
    {
     "data": {
      "text/plain": [
       "Gearbox_Type\n",
       "1    5553\n",
       "0    1831\n",
       "Name: count, dtype: int64"
      ]
     },
     "execution_count": 33,
     "metadata": {},
     "output_type": "execute_result"
    }
   ],
   "source": [
    "df_co2[\"Gearbox_Type\"] = df_co2[\"Transmission\"].map(gearbox_type)\n",
    "df_co2[\"Gearbox_Type\"].value_counts()"
   ]
  },
  {
   "cell_type": "code",
   "execution_count": 34,
   "id": "aaf07e7b-2a24-4a93-a6b4-680afdfac33e",
   "metadata": {
    "execution": {
     "iopub.execute_input": "2025-03-14T12:42:36.192651Z",
     "iopub.status.busy": "2025-03-14T12:42:36.191995Z",
     "iopub.status.idle": "2025-03-14T12:42:36.201122Z",
     "shell.execute_reply": "2025-03-14T12:42:36.200385Z",
     "shell.execute_reply.started": "2025-03-14T12:42:36.192622Z"
    }
   },
   "outputs": [
    {
     "data": {
      "text/plain": [
       "Gearbox_Number\n",
       "6.000000     3258\n",
       "8.000000     1802\n",
       "7.000000     1026\n",
       "9.000000      419\n",
       "5.000000      307\n",
       "6.854093      295\n",
       "10.000000     210\n",
       "4.000000       67\n",
       "Name: count, dtype: int64"
      ]
     },
     "execution_count": 34,
     "metadata": {},
     "output_type": "execute_result"
    }
   ],
   "source": [
    "df_co2[\"Gearbox_Number\"] = df_co2[\"Transmission\"].map(gear_number)\n",
    "df_co2[\"Gearbox_Number\"].value_counts()"
   ]
  },
  {
   "cell_type": "markdown",
   "id": "04b41787-c278-431c-9a4b-a75a36a158c3",
   "metadata": {},
   "source": [
    "### Vehicle Model Features"
   ]
  },
  {
   "cell_type": "code",
   "execution_count": 35,
   "id": "be2e809b-91f5-4b3d-b3c6-925ed331fceb",
   "metadata": {
    "execution": {
     "iopub.execute_input": "2025-03-14T12:44:13.181457Z",
     "iopub.status.busy": "2025-03-14T12:44:13.180817Z",
     "iopub.status.idle": "2025-03-14T12:44:13.189782Z",
     "shell.execute_reply": "2025-03-14T12:44:13.188822Z",
     "shell.execute_reply.started": "2025-03-14T12:44:13.181395Z"
    }
   },
   "outputs": [],
   "source": [
    "def vehicle_feature(data):\n",
    "    data_string = data.split(\" \")\n",
    "    for item in data_string:\n",
    "        code = None\n",
    "        if \"4WD\" in item:\n",
    "            code = \"Four-wheel drive\"\n",
    "        if \"4X4\" in item:\n",
    "            code = \"Four-wheel drive\"\n",
    "        if \"FFV\" in item:\n",
    "            code = \"Flexible-fuel vehicle\"\n",
    "        if \"SWB\" in item:\n",
    "            code = \"Short wheelbase\"\n",
    "        if \"LWB\" in item:\n",
    "            code = \"Long wheelbase\"\n",
    "        if \"EWB\" in item:\n",
    "            code = \"Extended wheelbase\"\n",
    "    return code"
   ]
  },
  {
   "cell_type": "code",
   "execution_count": 36,
   "id": "5e85e38d-50ac-49bf-89d3-ea6bacd8532d",
   "metadata": {
    "execution": {
     "iopub.execute_input": "2025-03-14T12:44:13.455485Z",
     "iopub.status.busy": "2025-03-14T12:44:13.455054Z",
     "iopub.status.idle": "2025-03-14T12:44:13.469263Z",
     "shell.execute_reply": "2025-03-14T12:44:13.468500Z",
     "shell.execute_reply.started": "2025-03-14T12:44:13.455450Z"
    }
   },
   "outputs": [
    {
     "data": {
      "text/plain": [
       "Model Features\n",
       "Four-wheel drive         549\n",
       "Flexible-fuel vehicle    496\n",
       "Long wheelbase            26\n",
       "Short wheelbase           15\n",
       "Extended wheelbase        15\n",
       "Name: count, dtype: int64"
      ]
     },
     "execution_count": 36,
     "metadata": {},
     "output_type": "execute_result"
    }
   ],
   "source": [
    "df_co2[\"Model Features\"] = df_co2[\"Model\"].map(vehicle_feature)\n",
    "df_co2[\"Model Features\"].value_counts()"
   ]
  },
  {
   "cell_type": "markdown",
   "id": "22ec1b02",
   "metadata": {},
   "source": [
    "## Set Dataset for following workflow"
   ]
  },
  {
   "cell_type": "markdown",
   "id": "ad444eee",
   "metadata": {},
   "source": [
    "For creating dataset for the following two streams:\n",
    "\n",
    "- Delete `Model`, replaced by  `Model Features`\n",
    "\n",
    "- Delete `Transmission`, replaced by `Gearbox_Type` and `Gearbox_Number`\n",
    "\n",
    "- **Dataset1**: Used for Current Vehicle Manufacturer Benchmarking, \n",
    "\n",
    "- **Dataset2**: Used for Future Vehicle Design Evaluation, which means fuel efficiency related is not available, thus **drop** columns `Fuel Consumption Hwy (L/100 km)`, `Fuel Consumption Comb (L/100 km)`, and `Fuel Consumption Comb (mpg)`."
   ]
  },
  {
   "cell_type": "code",
   "execution_count": 37,
   "id": "fe1d6749",
   "metadata": {},
   "outputs": [],
   "source": [
    "# For workstream 1, current state benchmarking\n",
    "dataset1 = df_co2[['Model Features', 'Vehicle Class', 'Engine Size(L)', 'Cylinders',\n",
    "       'Gearbox_Type', 'Gearbox_Number', 'Fuel Type', 'Fuel Consumption City (L/100 km)',\n",
    "       'Fuel Consumption Hwy (L/100 km)', 'Fuel Consumption Comb (L/100 km)',\n",
    "       'Fuel Consumption Comb (mpg)', 'CO2 Emissions(g/km)']]  \n",
    "\n",
    "# For workstream 2, future design evaluation\n",
    "dataset2 = df_co2[['Model Features', 'Vehicle Class', 'Engine Size(L)', 'Cylinders',\n",
    "       'Gearbox_Type', 'Gearbox_Number', 'Fuel Type', 'CO2 Emissions(g/km)']]\n"
   ]
  },
  {
   "cell_type": "markdown",
   "id": "4f38e333",
   "metadata": {},
   "source": [
    "Set random seed to guarantee reproducibility"
   ]
  },
  {
   "cell_type": "code",
   "execution_count": 38,
   "id": "5f68c761",
   "metadata": {},
   "outputs": [],
   "source": [
    "import random\n",
    "\n",
    "# Set Random seeds\n",
    "random.seed(42)\n",
    "np.random.seed(42)"
   ]
  },
  {
   "cell_type": "markdown",
   "id": "6bceb30a",
   "metadata": {},
   "source": [
    "Encode categorical features"
   ]
  },
  {
   "cell_type": "code",
   "execution_count": 39,
   "id": "6f2b49d5",
   "metadata": {},
   "outputs": [],
   "source": [
    "cat_features_set1 = dataset1.select_dtypes(include=['object']).columns  # select categorical columns\n",
    "cat_features_set2 = dataset2.select_dtypes(include=['object']).columns  # select categorical columns\n",
    "\n",
    "dataset1_encoded = pd.get_dummies(dataset1, columns=cat_features_set1, drop_first=True, dtype=int)\n",
    "dataset2_encoded = pd.get_dummies(dataset2, columns=cat_features_set1, drop_first=True, dtype=int)\n",
    "\n",
    "dataset1_encoded['Make'] = df_co2['Make']\n",
    "dataset2_encoded['Make'] = df_co2['Make']"
   ]
  },
  {
   "cell_type": "code",
   "execution_count": 40,
   "id": "fc512353",
   "metadata": {},
   "outputs": [
    {
     "name": "stdout",
     "output_type": "stream",
     "text": [
      "<class 'pandas.core.frame.DataFrame'>\n",
      "Index: 7384 entries, 0 to 7384\n",
      "Data columns (total 32 columns):\n",
      " #   Column                                  Non-Null Count  Dtype  \n",
      "---  ------                                  --------------  -----  \n",
      " 0   Engine Size(L)                          7384 non-null   float64\n",
      " 1   Cylinders                               7384 non-null   int64  \n",
      " 2   Gearbox_Type                            7384 non-null   int64  \n",
      " 3   Gearbox_Number                          7384 non-null   float64\n",
      " 4   Fuel Consumption City (L/100 km)        7384 non-null   float64\n",
      " 5   Fuel Consumption Hwy (L/100 km)         7384 non-null   float64\n",
      " 6   Fuel Consumption Comb (L/100 km)        7384 non-null   float64\n",
      " 7   Fuel Consumption Comb (mpg)             7384 non-null   int64  \n",
      " 8   CO2 Emissions(g/km)                     7384 non-null   int64  \n",
      " 9   Model Features_Flexible-fuel vehicle    7384 non-null   int32  \n",
      " 10  Model Features_Four-wheel drive         7384 non-null   int32  \n",
      " 11  Model Features_Long wheelbase           7384 non-null   int32  \n",
      " 12  Model Features_Short wheelbase          7384 non-null   int32  \n",
      " 13  Vehicle Class_FULL-SIZE                 7384 non-null   int32  \n",
      " 14  Vehicle Class_MID-SIZE                  7384 non-null   int32  \n",
      " 15  Vehicle Class_MINICOMPACT               7384 non-null   int32  \n",
      " 16  Vehicle Class_MINIVAN                   7384 non-null   int32  \n",
      " 17  Vehicle Class_PICKUP TRUCK - SMALL      7384 non-null   int32  \n",
      " 18  Vehicle Class_PICKUP TRUCK - STANDARD   7384 non-null   int32  \n",
      " 19  Vehicle Class_SPECIAL PURPOSE VEHICLE   7384 non-null   int32  \n",
      " 20  Vehicle Class_STATION WAGON - MID-SIZE  7384 non-null   int32  \n",
      " 21  Vehicle Class_STATION WAGON - SMALL     7384 non-null   int32  \n",
      " 22  Vehicle Class_SUBCOMPACT                7384 non-null   int32  \n",
      " 23  Vehicle Class_SUV - SMALL               7384 non-null   int32  \n",
      " 24  Vehicle Class_SUV - STANDARD            7384 non-null   int32  \n",
      " 25  Vehicle Class_TWO-SEATER                7384 non-null   int32  \n",
      " 26  Vehicle Class_VAN - CARGO               7384 non-null   int32  \n",
      " 27  Vehicle Class_VAN - PASSENGER           7384 non-null   int32  \n",
      " 28  Fuel Type_E                             7384 non-null   int32  \n",
      " 29  Fuel Type_X                             7384 non-null   int32  \n",
      " 30  Fuel Type_Z                             7384 non-null   int32  \n",
      " 31  Make                                    7384 non-null   object \n",
      "dtypes: float64(5), int32(22), int64(4), object(1)\n",
      "memory usage: 1.2+ MB\n"
     ]
    }
   ],
   "source": [
    "dataset1_encoded.info()"
   ]
  },
  {
   "cell_type": "markdown",
   "id": "a58896a0",
   "metadata": {},
   "source": [
    "Divide Train Dataset and Test Dataset"
   ]
  },
  {
   "cell_type": "code",
   "execution_count": 41,
   "id": "0e073e34",
   "metadata": {},
   "outputs": [
    {
     "data": {
      "text/html": [
       "<div>\n",
       "<style scoped>\n",
       "    .dataframe tbody tr th:only-of-type {\n",
       "        vertical-align: middle;\n",
       "    }\n",
       "\n",
       "    .dataframe tbody tr th {\n",
       "        vertical-align: top;\n",
       "    }\n",
       "\n",
       "    .dataframe thead th {\n",
       "        text-align: right;\n",
       "    }\n",
       "</style>\n",
       "<table border=\"1\" class=\"dataframe\">\n",
       "  <thead>\n",
       "    <tr style=\"text-align: right;\">\n",
       "      <th></th>\n",
       "      <th>Engine Size(L)</th>\n",
       "      <th>Cylinders</th>\n",
       "      <th>Gearbox_Type</th>\n",
       "      <th>Gearbox_Number</th>\n",
       "      <th>Fuel Consumption City (L/100 km)</th>\n",
       "      <th>Fuel Consumption Hwy (L/100 km)</th>\n",
       "      <th>Fuel Consumption Comb (L/100 km)</th>\n",
       "      <th>Fuel Consumption Comb (mpg)</th>\n",
       "      <th>Model Features_Flexible-fuel vehicle</th>\n",
       "      <th>Model Features_Four-wheel drive</th>\n",
       "      <th>...</th>\n",
       "      <th>Vehicle Class_SUBCOMPACT</th>\n",
       "      <th>Vehicle Class_SUV - SMALL</th>\n",
       "      <th>Vehicle Class_SUV - STANDARD</th>\n",
       "      <th>Vehicle Class_TWO-SEATER</th>\n",
       "      <th>Vehicle Class_VAN - CARGO</th>\n",
       "      <th>Vehicle Class_VAN - PASSENGER</th>\n",
       "      <th>Fuel Type_E</th>\n",
       "      <th>Fuel Type_X</th>\n",
       "      <th>Fuel Type_Z</th>\n",
       "      <th>CO2 Emissions(g/km)</th>\n",
       "    </tr>\n",
       "  </thead>\n",
       "  <tbody>\n",
       "    <tr>\n",
       "      <th>5632</th>\n",
       "      <td>6.2</td>\n",
       "      <td>8</td>\n",
       "      <td>0</td>\n",
       "      <td>7.0</td>\n",
       "      <td>18.2</td>\n",
       "      <td>12.5</td>\n",
       "      <td>15.6</td>\n",
       "      <td>18</td>\n",
       "      <td>0</td>\n",
       "      <td>0</td>\n",
       "      <td>...</td>\n",
       "      <td>0</td>\n",
       "      <td>0</td>\n",
       "      <td>0</td>\n",
       "      <td>1</td>\n",
       "      <td>0</td>\n",
       "      <td>0</td>\n",
       "      <td>0</td>\n",
       "      <td>0</td>\n",
       "      <td>1</td>\n",
       "      <td>368</td>\n",
       "    </tr>\n",
       "    <tr>\n",
       "      <th>1550</th>\n",
       "      <td>3.6</td>\n",
       "      <td>6</td>\n",
       "      <td>1</td>\n",
       "      <td>6.0</td>\n",
       "      <td>14.8</td>\n",
       "      <td>9.9</td>\n",
       "      <td>12.6</td>\n",
       "      <td>22</td>\n",
       "      <td>0</td>\n",
       "      <td>0</td>\n",
       "      <td>...</td>\n",
       "      <td>0</td>\n",
       "      <td>1</td>\n",
       "      <td>0</td>\n",
       "      <td>0</td>\n",
       "      <td>0</td>\n",
       "      <td>0</td>\n",
       "      <td>0</td>\n",
       "      <td>1</td>\n",
       "      <td>0</td>\n",
       "      <td>290</td>\n",
       "    </tr>\n",
       "    <tr>\n",
       "      <th>1128</th>\n",
       "      <td>4.2</td>\n",
       "      <td>8</td>\n",
       "      <td>0</td>\n",
       "      <td>6.0</td>\n",
       "      <td>20.5</td>\n",
       "      <td>11.7</td>\n",
       "      <td>16.6</td>\n",
       "      <td>17</td>\n",
       "      <td>0</td>\n",
       "      <td>0</td>\n",
       "      <td>...</td>\n",
       "      <td>0</td>\n",
       "      <td>0</td>\n",
       "      <td>0</td>\n",
       "      <td>1</td>\n",
       "      <td>0</td>\n",
       "      <td>0</td>\n",
       "      <td>0</td>\n",
       "      <td>0</td>\n",
       "      <td>1</td>\n",
       "      <td>382</td>\n",
       "    </tr>\n",
       "    <tr>\n",
       "      <th>6498</th>\n",
       "      <td>2.0</td>\n",
       "      <td>4</td>\n",
       "      <td>1</td>\n",
       "      <td>8.0</td>\n",
       "      <td>10.3</td>\n",
       "      <td>7.5</td>\n",
       "      <td>9.0</td>\n",
       "      <td>31</td>\n",
       "      <td>0</td>\n",
       "      <td>0</td>\n",
       "      <td>...</td>\n",
       "      <td>0</td>\n",
       "      <td>1</td>\n",
       "      <td>0</td>\n",
       "      <td>0</td>\n",
       "      <td>0</td>\n",
       "      <td>0</td>\n",
       "      <td>0</td>\n",
       "      <td>0</td>\n",
       "      <td>1</td>\n",
       "      <td>211</td>\n",
       "    </tr>\n",
       "    <tr>\n",
       "      <th>3270</th>\n",
       "      <td>1.8</td>\n",
       "      <td>4</td>\n",
       "      <td>1</td>\n",
       "      <td>6.0</td>\n",
       "      <td>9.4</td>\n",
       "      <td>6.8</td>\n",
       "      <td>8.2</td>\n",
       "      <td>34</td>\n",
       "      <td>0</td>\n",
       "      <td>0</td>\n",
       "      <td>...</td>\n",
       "      <td>0</td>\n",
       "      <td>0</td>\n",
       "      <td>0</td>\n",
       "      <td>0</td>\n",
       "      <td>0</td>\n",
       "      <td>0</td>\n",
       "      <td>0</td>\n",
       "      <td>1</td>\n",
       "      <td>0</td>\n",
       "      <td>193</td>\n",
       "    </tr>\n",
       "  </tbody>\n",
       "</table>\n",
       "<p>5 rows × 31 columns</p>\n",
       "</div>"
      ],
      "text/plain": [
       "      Engine Size(L)  Cylinders  Gearbox_Type  Gearbox_Number  \\\n",
       "5632             6.2          8             0             7.0   \n",
       "1550             3.6          6             1             6.0   \n",
       "1128             4.2          8             0             6.0   \n",
       "6498             2.0          4             1             8.0   \n",
       "3270             1.8          4             1             6.0   \n",
       "\n",
       "      Fuel Consumption City (L/100 km)  Fuel Consumption Hwy (L/100 km)  \\\n",
       "5632                              18.2                             12.5   \n",
       "1550                              14.8                              9.9   \n",
       "1128                              20.5                             11.7   \n",
       "6498                              10.3                              7.5   \n",
       "3270                               9.4                              6.8   \n",
       "\n",
       "      Fuel Consumption Comb (L/100 km)  Fuel Consumption Comb (mpg)  \\\n",
       "5632                              15.6                           18   \n",
       "1550                              12.6                           22   \n",
       "1128                              16.6                           17   \n",
       "6498                               9.0                           31   \n",
       "3270                               8.2                           34   \n",
       "\n",
       "      Model Features_Flexible-fuel vehicle  Model Features_Four-wheel drive  \\\n",
       "5632                                     0                                0   \n",
       "1550                                     0                                0   \n",
       "1128                                     0                                0   \n",
       "6498                                     0                                0   \n",
       "3270                                     0                                0   \n",
       "\n",
       "      ...  Vehicle Class_SUBCOMPACT  Vehicle Class_SUV - SMALL  \\\n",
       "5632  ...                         0                          0   \n",
       "1550  ...                         0                          1   \n",
       "1128  ...                         0                          0   \n",
       "6498  ...                         0                          1   \n",
       "3270  ...                         0                          0   \n",
       "\n",
       "      Vehicle Class_SUV - STANDARD  Vehicle Class_TWO-SEATER  \\\n",
       "5632                             0                         1   \n",
       "1550                             0                         0   \n",
       "1128                             0                         1   \n",
       "6498                             0                         0   \n",
       "3270                             0                         0   \n",
       "\n",
       "      Vehicle Class_VAN - CARGO  Vehicle Class_VAN - PASSENGER  Fuel Type_E  \\\n",
       "5632                          0                              0            0   \n",
       "1550                          0                              0            0   \n",
       "1128                          0                              0            0   \n",
       "6498                          0                              0            0   \n",
       "3270                          0                              0            0   \n",
       "\n",
       "      Fuel Type_X  Fuel Type_Z  CO2 Emissions(g/km)  \n",
       "5632            0            1                  368  \n",
       "1550            1            0                  290  \n",
       "1128            0            1                  382  \n",
       "6498            0            1                  211  \n",
       "3270            1            0                  193  \n",
       "\n",
       "[5 rows x 31 columns]"
      ]
     },
     "execution_count": 41,
     "metadata": {},
     "output_type": "execute_result"
    }
   ],
   "source": [
    "from sklearn.model_selection import train_test_split\n",
    "\n",
    "# Prepare for Dataset 1\n",
    "dataset1_train_features = dataset1_encoded.drop(columns=['CO2 Emissions(g/km)', 'Make'])\n",
    "dataset1_train_y = dataset1_encoded['CO2 Emissions(g/km)']\n",
    "\n",
    "dataset1_features_train, dataset1_features_test, dataset1_y_train, dataset1_y_test = train_test_split(\n",
    "    dataset1_train_features, \n",
    "    dataset1_train_y, \n",
    "    test_size=0.2, random_state=42)\n",
    "\n",
    "# Combine X & y into one data set\n",
    "Dataset1_train = pd.concat([dataset1_features_train, dataset1_y_train], axis=1)\n",
    "Dataset1_test = pd.concat([dataset1_features_test, dataset1_y_test], axis=1)\n",
    "\n",
    "Dataset1_test.head()"
   ]
  },
  {
   "cell_type": "code",
   "execution_count": 42,
   "id": "947918f0",
   "metadata": {},
   "outputs": [
    {
     "data": {
      "text/html": [
       "<div>\n",
       "<style scoped>\n",
       "    .dataframe tbody tr th:only-of-type {\n",
       "        vertical-align: middle;\n",
       "    }\n",
       "\n",
       "    .dataframe tbody tr th {\n",
       "        vertical-align: top;\n",
       "    }\n",
       "\n",
       "    .dataframe thead th {\n",
       "        text-align: right;\n",
       "    }\n",
       "</style>\n",
       "<table border=\"1\" class=\"dataframe\">\n",
       "  <thead>\n",
       "    <tr style=\"text-align: right;\">\n",
       "      <th></th>\n",
       "      <th>Engine Size(L)</th>\n",
       "      <th>Cylinders</th>\n",
       "      <th>Gearbox_Type</th>\n",
       "      <th>Gearbox_Number</th>\n",
       "      <th>Model Features_Flexible-fuel vehicle</th>\n",
       "      <th>Model Features_Four-wheel drive</th>\n",
       "      <th>Model Features_Long wheelbase</th>\n",
       "      <th>Model Features_Short wheelbase</th>\n",
       "      <th>Vehicle Class_FULL-SIZE</th>\n",
       "      <th>Vehicle Class_MID-SIZE</th>\n",
       "      <th>...</th>\n",
       "      <th>Vehicle Class_SUBCOMPACT</th>\n",
       "      <th>Vehicle Class_SUV - SMALL</th>\n",
       "      <th>Vehicle Class_SUV - STANDARD</th>\n",
       "      <th>Vehicle Class_TWO-SEATER</th>\n",
       "      <th>Vehicle Class_VAN - CARGO</th>\n",
       "      <th>Vehicle Class_VAN - PASSENGER</th>\n",
       "      <th>Fuel Type_E</th>\n",
       "      <th>Fuel Type_X</th>\n",
       "      <th>Fuel Type_Z</th>\n",
       "      <th>CO2 Emissions(g/km)</th>\n",
       "    </tr>\n",
       "  </thead>\n",
       "  <tbody>\n",
       "    <tr>\n",
       "      <th>5632</th>\n",
       "      <td>6.2</td>\n",
       "      <td>8</td>\n",
       "      <td>0</td>\n",
       "      <td>7.0</td>\n",
       "      <td>0</td>\n",
       "      <td>0</td>\n",
       "      <td>0</td>\n",
       "      <td>0</td>\n",
       "      <td>0</td>\n",
       "      <td>0</td>\n",
       "      <td>...</td>\n",
       "      <td>0</td>\n",
       "      <td>0</td>\n",
       "      <td>0</td>\n",
       "      <td>1</td>\n",
       "      <td>0</td>\n",
       "      <td>0</td>\n",
       "      <td>0</td>\n",
       "      <td>0</td>\n",
       "      <td>1</td>\n",
       "      <td>368</td>\n",
       "    </tr>\n",
       "    <tr>\n",
       "      <th>1550</th>\n",
       "      <td>3.6</td>\n",
       "      <td>6</td>\n",
       "      <td>1</td>\n",
       "      <td>6.0</td>\n",
       "      <td>0</td>\n",
       "      <td>0</td>\n",
       "      <td>0</td>\n",
       "      <td>0</td>\n",
       "      <td>0</td>\n",
       "      <td>0</td>\n",
       "      <td>...</td>\n",
       "      <td>0</td>\n",
       "      <td>1</td>\n",
       "      <td>0</td>\n",
       "      <td>0</td>\n",
       "      <td>0</td>\n",
       "      <td>0</td>\n",
       "      <td>0</td>\n",
       "      <td>1</td>\n",
       "      <td>0</td>\n",
       "      <td>290</td>\n",
       "    </tr>\n",
       "    <tr>\n",
       "      <th>1128</th>\n",
       "      <td>4.2</td>\n",
       "      <td>8</td>\n",
       "      <td>0</td>\n",
       "      <td>6.0</td>\n",
       "      <td>0</td>\n",
       "      <td>0</td>\n",
       "      <td>0</td>\n",
       "      <td>0</td>\n",
       "      <td>0</td>\n",
       "      <td>0</td>\n",
       "      <td>...</td>\n",
       "      <td>0</td>\n",
       "      <td>0</td>\n",
       "      <td>0</td>\n",
       "      <td>1</td>\n",
       "      <td>0</td>\n",
       "      <td>0</td>\n",
       "      <td>0</td>\n",
       "      <td>0</td>\n",
       "      <td>1</td>\n",
       "      <td>382</td>\n",
       "    </tr>\n",
       "    <tr>\n",
       "      <th>6498</th>\n",
       "      <td>2.0</td>\n",
       "      <td>4</td>\n",
       "      <td>1</td>\n",
       "      <td>8.0</td>\n",
       "      <td>0</td>\n",
       "      <td>0</td>\n",
       "      <td>0</td>\n",
       "      <td>0</td>\n",
       "      <td>0</td>\n",
       "      <td>0</td>\n",
       "      <td>...</td>\n",
       "      <td>0</td>\n",
       "      <td>1</td>\n",
       "      <td>0</td>\n",
       "      <td>0</td>\n",
       "      <td>0</td>\n",
       "      <td>0</td>\n",
       "      <td>0</td>\n",
       "      <td>0</td>\n",
       "      <td>1</td>\n",
       "      <td>211</td>\n",
       "    </tr>\n",
       "    <tr>\n",
       "      <th>3270</th>\n",
       "      <td>1.8</td>\n",
       "      <td>4</td>\n",
       "      <td>1</td>\n",
       "      <td>6.0</td>\n",
       "      <td>0</td>\n",
       "      <td>0</td>\n",
       "      <td>0</td>\n",
       "      <td>0</td>\n",
       "      <td>0</td>\n",
       "      <td>0</td>\n",
       "      <td>...</td>\n",
       "      <td>0</td>\n",
       "      <td>0</td>\n",
       "      <td>0</td>\n",
       "      <td>0</td>\n",
       "      <td>0</td>\n",
       "      <td>0</td>\n",
       "      <td>0</td>\n",
       "      <td>1</td>\n",
       "      <td>0</td>\n",
       "      <td>193</td>\n",
       "    </tr>\n",
       "  </tbody>\n",
       "</table>\n",
       "<p>5 rows × 27 columns</p>\n",
       "</div>"
      ],
      "text/plain": [
       "      Engine Size(L)  Cylinders  Gearbox_Type  Gearbox_Number  \\\n",
       "5632             6.2          8             0             7.0   \n",
       "1550             3.6          6             1             6.0   \n",
       "1128             4.2          8             0             6.0   \n",
       "6498             2.0          4             1             8.0   \n",
       "3270             1.8          4             1             6.0   \n",
       "\n",
       "      Model Features_Flexible-fuel vehicle  Model Features_Four-wheel drive  \\\n",
       "5632                                     0                                0   \n",
       "1550                                     0                                0   \n",
       "1128                                     0                                0   \n",
       "6498                                     0                                0   \n",
       "3270                                     0                                0   \n",
       "\n",
       "      Model Features_Long wheelbase  Model Features_Short wheelbase  \\\n",
       "5632                              0                               0   \n",
       "1550                              0                               0   \n",
       "1128                              0                               0   \n",
       "6498                              0                               0   \n",
       "3270                              0                               0   \n",
       "\n",
       "      Vehicle Class_FULL-SIZE  Vehicle Class_MID-SIZE  ...  \\\n",
       "5632                        0                       0  ...   \n",
       "1550                        0                       0  ...   \n",
       "1128                        0                       0  ...   \n",
       "6498                        0                       0  ...   \n",
       "3270                        0                       0  ...   \n",
       "\n",
       "      Vehicle Class_SUBCOMPACT  Vehicle Class_SUV - SMALL  \\\n",
       "5632                         0                          0   \n",
       "1550                         0                          1   \n",
       "1128                         0                          0   \n",
       "6498                         0                          1   \n",
       "3270                         0                          0   \n",
       "\n",
       "      Vehicle Class_SUV - STANDARD  Vehicle Class_TWO-SEATER  \\\n",
       "5632                             0                         1   \n",
       "1550                             0                         0   \n",
       "1128                             0                         1   \n",
       "6498                             0                         0   \n",
       "3270                             0                         0   \n",
       "\n",
       "      Vehicle Class_VAN - CARGO  Vehicle Class_VAN - PASSENGER  Fuel Type_E  \\\n",
       "5632                          0                              0            0   \n",
       "1550                          0                              0            0   \n",
       "1128                          0                              0            0   \n",
       "6498                          0                              0            0   \n",
       "3270                          0                              0            0   \n",
       "\n",
       "      Fuel Type_X  Fuel Type_Z  CO2 Emissions(g/km)  \n",
       "5632            0            1                  368  \n",
       "1550            1            0                  290  \n",
       "1128            0            1                  382  \n",
       "6498            0            1                  211  \n",
       "3270            1            0                  193  \n",
       "\n",
       "[5 rows x 27 columns]"
      ]
     },
     "execution_count": 42,
     "metadata": {},
     "output_type": "execute_result"
    }
   ],
   "source": [
    "\n",
    "# Prepare for Dataset 2\n",
    "dataset2_train_features = dataset2_encoded.drop(columns=['CO2 Emissions(g/km)', 'Make'])\n",
    "dataset2_train_y = dataset2_encoded['CO2 Emissions(g/km)']\n",
    "\n",
    "dataset2_features_train, dataset2_features_test, dataset2_y_train, dataset2_y_test = train_test_split(\n",
    "    dataset2_train_features, \n",
    "    dataset2_train_y, \n",
    "    test_size=0.2, random_state=42)\n",
    "\n",
    "# Combine X & y into one data set\n",
    "Dataset2_train = pd.concat([dataset2_features_train, dataset2_y_train], axis=1)\n",
    "Dataset2_test = pd.concat([dataset2_features_test, dataset2_y_test], axis=1)\n",
    "\n",
    "Dataset2_test.head()"
   ]
  },
  {
   "cell_type": "markdown",
   "id": "98a48f1a",
   "metadata": {},
   "source": [
    "Save Output"
   ]
  },
  {
   "cell_type": "code",
   "execution_count": 43,
   "id": "db123050",
   "metadata": {},
   "outputs": [],
   "source": [
    "Dataset1_train.to_csv('Dataset1_train.csv', index=False)\n",
    "Dataset1_test.to_csv('Dataset1_test.csv', index=False)\n",
    "\n",
    "Dataset2_train.to_csv('Dataset2_train.csv', index=False)\n",
    "Dataset2_test.to_csv('Dataset2_test.csv', index=False)"
   ]
  }
 ],
 "metadata": {
  "kernelspec": {
   "display_name": "de_w6_rl",
   "language": "python",
   "name": "python3"
  },
  "language_info": {
   "codemirror_mode": {
    "name": "ipython",
    "version": 3
   },
   "file_extension": ".py",
   "mimetype": "text/x-python",
   "name": "python",
   "nbconvert_exporter": "python",
   "pygments_lexer": "ipython3",
   "version": "3.12.9"
  }
 },
 "nbformat": 4,
 "nbformat_minor": 5
}
